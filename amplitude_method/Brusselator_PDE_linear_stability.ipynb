{
 "cells": [
  {
   "cell_type": "code",
   "execution_count": 1,
   "id": "c1aebf2c",
   "metadata": {
    "ExecuteTime": {
     "end_time": "2022-10-12T15:48:08.938333Z",
     "start_time": "2022-10-12T15:48:07.712835Z"
    }
   },
   "outputs": [],
   "source": [
    "from sympy import *\n",
    "import numpy as np\n",
    "import matplotlib.pyplot as plt\n",
    "from matplotlib.gridspec import GridSpec\n",
    "from IPython.display import display, Latex\n",
    "from utils import *\n",
    "\n",
    "import warnings\n",
    "warnings.filterwarnings('ignore')\n",
    "\n",
    "init_printing(use_latex='mathjax')"
   ]
  },
  {
   "cell_type": "markdown",
   "id": "8841c471",
   "metadata": {},
   "source": [
    "<h1><center>Brusselator model</center> </h1>"
   ]
  },
  {
   "cell_type": "markdown",
   "id": "87c0e4e4",
   "metadata": {},
   "source": [
    "## Introduction\n",
    "\n",
    "In this section, we will apply the result of the previous section on the Brusselator model. To speed up the calculation, we will use the _sympy_ library that provides the symbolic computation for Python. This way, we can derive the result quickly and fast.\n",
    "In each cell, we might use some commands from _sympy_ (explained by a comment) or the following command:\n",
    "\n",
    "__lprint__: Print a string into the ouput that has one or placeholders for latex scripts.\n",
    "\n",
    "Below are some examples"
   ]
  },
  {
   "cell_type": "code",
   "execution_count": 3,
   "id": "d65e50f1",
   "metadata": {
    "ExecuteTime": {
     "end_time": "2022-10-12T15:48:31.309948Z",
     "start_time": "2022-10-12T15:48:31.296492Z"
    }
   },
   "outputs": [
    {
     "data": {
      "text/latex": [
       "The fraction is $\\lambda^*$=$\\frac{B-1-A^2}{2}$:"
      ],
      "text/plain": [
       "<IPython.core.display.Latex object>"
      ]
     },
     "metadata": {},
     "output_type": "display_data"
    },
    {
     "data": {
      "text/plain": [
       "<IPython.core.display.Latex object>"
      ]
     },
     "metadata": {},
     "output_type": "display_data"
    },
    {
     "data": {
      "text/latex": [
       "$This \\, is \\, \\pi \\, in \\,$ sympy: $\\pi$"
      ],
      "text/plain": [
       "<IPython.core.display.Latex object>"
      ]
     },
     "metadata": {},
     "output_type": "display_data"
    }
   ],
   "source": [
    "lprint(lprint(\"The fraction is {0}={1}:\", r\"\\lambda^*\", r\"\\frac{B-1-A^2}{2}\"))\n",
    "lprint(r\"$This \\, is \\, \\pi \\, in \\,$ sympy: {0}\", pi)"
   ]
  },
  {
   "cell_type": "markdown",
   "id": "dc8995c4",
   "metadata": {},
   "source": [
    "## Brusselator PDEs\n",
    "\n",
    "> The Brusselator PDEs for two species are\n",
    "<h3><center>$\\partial_t u = D_u (\\partial_x^2 + \\partial_y^2)u + A - (B+1)u + u^2v$</center></h3>\n",
    "\n",
    "<h3><center>$\\partial_t v = D_v (\\partial_x^2 + \\partial_y^2)v + Bu - u^2 v$</center></h3>\n",
    "\n",
    "for diffusion constants $D_u$, $D_v$, and model parameters $A, B > 0$.\n",
    "Therefore, the kinetic terms are\n",
    "\n",
    "<h3><center>$f(u,v) = A - (B+1)u + u^2v$</center></h3>\n",
    "<h3><center>$g(u,v) = Bu - u^2 v$</center></h3>"
   ]
  },
  {
   "cell_type": "markdown",
   "id": "5f921406",
   "metadata": {},
   "source": [
    "To start with __sympy__, we must define the list of parameters that will be used as symbol."
   ]
  },
  {
   "cell_type": "code",
   "execution_count": 4,
   "id": "c3c56a86",
   "metadata": {
    "ExecuteTime": {
     "end_time": "2022-10-12T15:48:36.018258Z",
     "start_time": "2022-10-12T15:48:36.014997Z"
    }
   },
   "outputs": [],
   "source": [
    "A, B, D_u, D_v, u, v, k = symbols('A, B, D_u, D_v, u, v, k', real=True)\n",
    "#k = symbols('k', integer=True)"
   ]
  },
  {
   "cell_type": "markdown",
   "id": "9ebfa7bc",
   "metadata": {},
   "source": [
    "Next, we can define the kinetic terms, $f(u, v)$ and $g(u, v)$ for parameters $(D_u, D_v, A, B)$"
   ]
  },
  {
   "cell_type": "code",
   "execution_count": 5,
   "id": "2bdf4123",
   "metadata": {
    "ExecuteTime": {
     "end_time": "2022-10-12T15:48:37.711737Z",
     "start_time": "2022-10-12T15:48:37.465509Z"
    }
   },
   "outputs": [
    {
     "data": {
      "text/latex": [
       "$f(u,v) = $ $A + u^{2} v - u \\left(B + 1\\right)$"
      ],
      "text/plain": [
       "<IPython.core.display.Latex object>"
      ]
     },
     "metadata": {},
     "output_type": "display_data"
    },
    {
     "data": {
      "text/latex": [
       "$g(u,v) = $ $B u - u^{2} v$"
      ],
      "text/plain": [
       "<IPython.core.display.Latex object>"
      ]
     },
     "metadata": {},
     "output_type": "display_data"
    }
   ],
   "source": [
    "# define kinteic terms symbolically in sympy\n",
    "f = A - (B + 1) * u + u**2 * v\n",
    "g = B * u - u**2 * v\n",
    "# print their form\n",
    "lprint(\"$f(u,v) = $ {0}\", f)\n",
    "lprint(\"$g(u,v) = $ {0}\",g)"
   ]
  },
  {
   "cell_type": "markdown",
   "id": "1e66b819",
   "metadata": {},
   "source": [
    "and mixing them as a vector is using _Matrix_ method like"
   ]
  },
  {
   "cell_type": "code",
   "execution_count": 6,
   "id": "cf568d53",
   "metadata": {
    "ExecuteTime": {
     "end_time": "2022-10-12T15:48:40.369756Z",
     "start_time": "2022-10-12T15:48:40.359568Z"
    }
   },
   "outputs": [
    {
     "data": {
      "text/latex": [
       "$\\boldsymbol{f}(u, v) = $ $\\left[\\begin{matrix}A + u^{2} v - u \\left(B + 1\\right)\\\\B u - u^{2} v\\end{matrix}\\right]$"
      ],
      "text/plain": [
       "<IPython.core.display.Latex object>"
      ]
     },
     "metadata": {},
     "output_type": "display_data"
    }
   ],
   "source": [
    "Kinetic = Matrix(\n",
    "    [[f], \n",
    "     [g]])\n",
    "lprint(r\"$\\boldsymbol{f}(u, v) = $ {0}\", Kinetic)"
   ]
  },
  {
   "cell_type": "markdown",
   "id": "28579547",
   "metadata": {},
   "source": [
    "After that, we need to find the steady state solutions of the system without diffusion by solving the following nonlinear equations\n",
    "\n",
    "<center>$f(u,v) = A - (B+1)u + u^2v = 0$</center>\n",
    "<center>$g(u,v) = Bu - u^2 v = 0$</center>\n",
    "\n",
    "The solution of the above equations, dented by $u^*$ and $v^*$, is such that\n",
    "<center>$f(u^*, v^*) = 0$</center>\n",
    "<center>$g(u^*, v^*) = 0$</center>\n",
    "\n",
    "In _sympy_ it we can solve the system symbolicly by using the _solve_ function"
   ]
  },
  {
   "cell_type": "code",
   "execution_count": 7,
   "id": "b03594fd",
   "metadata": {
    "ExecuteTime": {
     "end_time": "2022-10-12T15:48:43.411255Z",
     "start_time": "2022-10-12T15:48:43.377108Z"
    }
   },
   "outputs": [
    {
     "data": {
      "text/latex": [
       "$u^* = $ $A$"
      ],
      "text/plain": [
       "<IPython.core.display.Latex object>"
      ]
     },
     "metadata": {},
     "output_type": "display_data"
    },
    {
     "data": {
      "text/latex": [
       "$v^* = $ $\\frac{B}{A}$"
      ],
      "text/plain": [
       "<IPython.core.display.Latex object>"
      ]
     },
     "metadata": {},
     "output_type": "display_data"
    }
   ],
   "source": [
    "# finding the steady state of the system, which\n",
    "# is the solution of the system with respect to u and v\n",
    "u_star, v_star = solve(Kinetic, (u, v))[0]\n",
    "lprint(\"$u^* = $ {0}\", u_star)\n",
    "lprint(\"$v^* = $ {0}\", v_star)"
   ]
  },
  {
   "cell_type": "markdown",
   "id": "b8b09ed5",
   "metadata": {},
   "source": [
    "Next, to linearise the PDE system, we must derive the Jacobian of $(f, g)$ that is evaluated at $(u^*, v^*)$ "
   ]
  },
  {
   "cell_type": "code",
   "execution_count": 8,
   "id": "37f19784",
   "metadata": {
    "ExecuteTime": {
     "end_time": "2022-10-12T15:48:45.673765Z",
     "start_time": "2022-10-12T15:48:45.650556Z"
    }
   },
   "outputs": [
    {
     "data": {
      "text/latex": [
       "$J_0= \\frac{\\partial \\boldsymbol{f}_i}{\\partial u_j} =$ $\\left[\\begin{matrix}- B + 2 u v - 1 & u^{2}\\\\B - 2 u v & - u^{2}\\end{matrix}\\right]$ "
      ],
      "text/plain": [
       "<IPython.core.display.Latex object>"
      ]
     },
     "metadata": {},
     "output_type": "display_data"
    },
    {
     "data": {
      "text/latex": [
       "$J_0|_{(u^*, v^*)} =$ $\\left[\\begin{matrix}B - 1 & A^{2}\\\\- B & - A^{2}\\end{matrix}\\right]$"
      ],
      "text/plain": [
       "<IPython.core.display.Latex object>"
      ]
     },
     "metadata": {},
     "output_type": "display_data"
    }
   ],
   "source": [
    "# Find the jacobian of the vectorised kinetic terms w.r.t. u and v\n",
    "J_0 = Kinetic.jacobian([u, v])\n",
    "# Print the jacobian\n",
    "lprint(r\"$J_0= \\frac{\\partial \\boldsymbol{f}_i}{\\partial u_j} =$ {0} \", J_0)\n",
    "# Evaluate the jacobian at the stationary solution\n",
    "J_0 = J_0.subs([(u, u_star), (v, v_star)])\n",
    "# print the jacobian at the stationary solution\n",
    "lprint(\"$J_0|_{(u^*, v^*)} =$ {0}\", J_0)"
   ]
  },
  {
   "cell_type": "markdown",
   "id": "7af3b535",
   "metadata": {},
   "source": [
    "Eigenvalues of the resulting matrix in terms of parameters $A$ and $B$ derives by calling _eigenvals_ function"
   ]
  },
  {
   "cell_type": "code",
   "execution_count": 9,
   "id": "75a20cd4",
   "metadata": {
    "ExecuteTime": {
     "end_time": "2022-10-12T15:48:49.300432Z",
     "start_time": "2022-10-12T15:48:49.220200Z"
    }
   },
   "outputs": [
    {
     "data": {
      "text/latex": [
       "$\\lambda^{(0)}_1 =$ $- \\frac{A^{2}}{2} + \\frac{B}{2} - \\frac{\\sqrt{\\left(A^{2} - 2 A - B + 1\\right) \\left(A^{2} + 2 A - B + 1\\right)}}{2} - \\frac{1}{2}$"
      ],
      "text/plain": [
       "<IPython.core.display.Latex object>"
      ]
     },
     "metadata": {},
     "output_type": "display_data"
    },
    {
     "data": {
      "text/latex": [
       "$\\lambda^{(0)}_2 =$ $- \\frac{A^{2}}{2} + \\frac{B}{2} + \\frac{\\sqrt{\\left(A^{2} - 2 A - B + 1\\right) \\left(A^{2} + 2 A - B + 1\\right)}}{2} - \\frac{1}{2}$"
      ],
      "text/plain": [
       "<IPython.core.display.Latex object>"
      ]
     },
     "metadata": {},
     "output_type": "display_data"
    }
   ],
   "source": [
    "# Deriving eigenvalues of the jacobian in terms of parameter A and B\n",
    "λ_0_1, λ_0_2 =  list(J_0.eigenvals().keys())\n",
    "lprint(\"$\\lambda^{(0)}_1 =$ {0}\", λ_0_1)\n",
    "lprint(\"$\\lambda^{(0)}_2 =$ {0}\", λ_0_2)"
   ]
  },
  {
   "cell_type": "markdown",
   "id": "9b5a5c2e",
   "metadata": {},
   "source": [
    "We can find the region of the $(A, B)$ plan where both $\\lambda_1$ and $\\lambda_2$ are negative (Turing stability) or directly use the inequalities we saw in the previous section.\n",
    "Here, we try both of them and get exactly the same result."
   ]
  },
  {
   "cell_type": "code",
   "execution_count": 10,
   "id": "5f8a6f6d",
   "metadata": {
    "ExecuteTime": {
     "end_time": "2022-10-12T15:48:52.066088Z",
     "start_time": "2022-10-12T15:48:52.023665Z"
    }
   },
   "outputs": [
    {
     "data": {
      "text/latex": [
       "Condition 1: $- A^{2} + B - 1$ $< 0$"
      ],
      "text/plain": [
       "<IPython.core.display.Latex object>"
      ]
     },
     "metadata": {},
     "output_type": "display_data"
    },
    {
     "data": {
      "text/latex": [
       "Condition 2: $A^{2}$ $> 0$"
      ],
      "text/plain": [
       "<IPython.core.display.Latex object>"
      ]
     },
     "metadata": {},
     "output_type": "display_data"
    }
   ],
   "source": [
    "# Find the trace and determinant of J_0 symbolically\n",
    "cond_1 = J_0.trace()\n",
    "cond_2 = J_0.det()\n",
    "lprint(r\"Condition 1: {0} $< 0$\", cond_1)\n",
    "lprint(r\"Condition 2: {0} $> 0$\", cond_2)\n",
    "# convert the symbolic trace and determinants to numpy functions\n",
    "cond_1_f = lambdify([A, B], cond_1, modules='numpy')\n",
    "cond_2_f = lambdify([A, B], cond_2, modules='numpy')\n",
    "# convert the symbolic lambda_2 to a numpy function\n",
    "λ_0_2_f = lambdify([A, B], λ_0_2, modules='numpy')"
   ]
  },
  {
   "cell_type": "code",
   "execution_count": 11,
   "id": "a393bd73",
   "metadata": {
    "ExecuteTime": {
     "end_time": "2022-10-12T15:48:56.488315Z",
     "start_time": "2022-10-12T15:48:56.130136Z"
    }
   },
   "outputs": [
    {
     "data": {
      "image/png": "[encoded data removed]",
      "text/plain": [
       "<Figure size 792x288 with 4 Axes>"
      ]
     },
     "metadata": {
      "needs_background": "light"
     },
     "output_type": "display_data"
    }
   ],
   "source": [
    "# Create a meshgrid [-4, 4]x[-2, 4] for (A, B) domain\n",
    "L = 4\n",
    "A_size = 400\n",
    "B_size = 400\n",
    "A_axis = L * np.linspace(-1, 1, A_size)\n",
    "B_axis = L * np.linspace(-.5, 1, B_size)\n",
    "A_grid, B_grid = np.meshgrid(A_axis, B_axis, sparse=False)\n",
    "# Plotting\n",
    "fig = plt.figure(figsize=(11,4))\n",
    "plt.style.use('seaborn-white')\n",
    "ax = fig.add_subplot(121)\n",
    "ax.set_title(\"Using eigenvalues\")\n",
    "\n",
    "# Numerically calculate the largest eigenvalues\n",
    "domain = λ_0_2_f( np.complex64(A_grid) , np.complex64(B_grid))\n",
    "# plot the domain by using zero as the levelset\n",
    "plot_two_levels(ax, np.real(domain), [-L, L, -L/2, L], \"A\", \"B\", 0, ['Stable', 'Unstable'])\n",
    "\n",
    "ax = fig.add_subplot(122)\n",
    "ax.set_title(\"Using inequalities\")\n",
    "\n",
    "# Numerically calculate the values of the condition one\n",
    "domain = cond_1_f(A_grid , B_grid)\n",
    "# plot the domain by using zero as the levelset\n",
    "plot_two_levels(ax, domain, [-L, L, -L/2, L], \"A\", \"B\", 0, ['Stable', 'Unstable'])\n",
    "#plt.tight_layout()\n",
    "plt.show()"
   ]
  },
  {
   "cell_type": "markdown",
   "id": "1bf943d9",
   "metadata": {},
   "source": [
    "Including the diffusion, the matrix $\\boldsymbol{J}$ defines as\n",
    "<center>$\\boldsymbol{J} = \\boldsymbol{J_0} - k^2 \\boldsymbol{D}$</center>\n",
    "and we can use _sympy_ to find its egenvalues symbolically as follows:"
   ]
  },
  {
   "cell_type": "code",
   "execution_count": 12,
   "id": "d29bedbc",
   "metadata": {
    "ExecuteTime": {
     "end_time": "2022-10-12T15:48:58.593272Z",
     "start_time": "2022-10-12T15:48:58.364633Z"
    }
   },
   "outputs": [
    {
     "data": {
      "text/latex": [
       "$\\boldsymbol{J}$ = $\\left[\\begin{matrix}B - D_{u} k^{2} - 1 & A^{2}\\\\- B & - A^{2} - D_{v} k^{2}\\end{matrix}\\right]$"
      ],
      "text/plain": [
       "<IPython.core.display.Latex object>"
      ]
     },
     "metadata": {},
     "output_type": "display_data"
    },
    {
     "data": {
      "text/latex": [
       "$\\lambda_1 = $ $- \\frac{A^{2}}{2} + \\frac{B}{2} - \\frac{D_{u} k^{2}}{2} - \\frac{D_{v} k^{2}}{2} - \\frac{\\sqrt{A^{4} - 2 A^{2} B - 2 A^{2} D_{u} k^{2} + 2 A^{2} D_{v} k^{2} - 2 A^{2} + B^{2} - 2 B D_{u} k^{2} + 2 B D_{v} k^{2} - 2 B + D_{u}^{2} k^{4} - 2 D_{u} D_{v} k^{4} + 2 D_{u} k^{2} + D_{v}^{2} k^{4} - 2 D_{v} k^{2} + 1}}{2} - \\frac{1}{2}$"
      ],
      "text/plain": [
       "<IPython.core.display.Latex object>"
      ]
     },
     "metadata": {},
     "output_type": "display_data"
    },
    {
     "data": {
      "text/latex": [
       "$\\lambda_2 = $ $- \\frac{A^{2}}{2} + \\frac{B}{2} - \\frac{D_{u} k^{2}}{2} - \\frac{D_{v} k^{2}}{2} + \\frac{\\sqrt{A^{4} - 2 A^{2} B - 2 A^{2} D_{u} k^{2} + 2 A^{2} D_{v} k^{2} - 2 A^{2} + B^{2} - 2 B D_{u} k^{2} + 2 B D_{v} k^{2} - 2 B + D_{u}^{2} k^{4} - 2 D_{u} D_{v} k^{4} + 2 D_{u} k^{2} + D_{v}^{2} k^{4} - 2 D_{v} k^{2} + 1}}{2} - \\frac{1}{2}$"
      ],
      "text/plain": [
       "<IPython.core.display.Latex object>"
      ]
     },
     "metadata": {},
     "output_type": "display_data"
    }
   ],
   "source": [
    "# Define J \n",
    "J = J_0 - Matrix([[D_u*k**2, 0       ], \n",
    "                  [0,        D_v*k**2]])\n",
    "# print its form\n",
    "lprint(r\"$\\boldsymbol{J}$ = {0}\", J)\n",
    "# Find its eigenvalues\n",
    "λ_1, λ_2 =  list(J.eigenvals().keys())\n",
    "lprint(\"$\\lambda_1 = $ {0}\", λ_1)\n",
    "lprint(\"$\\lambda_2 = $ {0}\", λ_2)"
   ]
  },
  {
   "cell_type": "markdown",
   "id": "6e9280ec",
   "metadata": {},
   "source": [
    "Find the critical wavenumber which is defined as\n",
    "<center>$k_c =\\sqrt{\\frac{f_u }{2 D_u} + \\frac{g_v}{2 D_v}}$</center>"
   ]
  },
  {
   "cell_type": "code",
   "execution_count": 13,
   "id": "5d4d1983",
   "metadata": {
    "ExecuteTime": {
     "end_time": "2022-10-12T15:49:01.297623Z",
     "start_time": "2022-10-12T15:49:01.279542Z"
    }
   },
   "outputs": [
    {
     "data": {
      "text/latex": [
       "$f_u$=$B - 1$"
      ],
      "text/plain": [
       "<IPython.core.display.Latex object>"
      ]
     },
     "metadata": {},
     "output_type": "display_data"
    },
    {
     "data": {
      "text/latex": [
       "$f_v$=$A^{2}$"
      ],
      "text/plain": [
       "<IPython.core.display.Latex object>"
      ]
     },
     "metadata": {},
     "output_type": "display_data"
    },
    {
     "data": {
      "text/latex": [
       "$g_u$=$- B$"
      ],
      "text/plain": [
       "<IPython.core.display.Latex object>"
      ]
     },
     "metadata": {},
     "output_type": "display_data"
    },
    {
     "data": {
      "text/latex": [
       "$g_v$=$- A^{2}$"
      ],
      "text/plain": [
       "<IPython.core.display.Latex object>"
      ]
     },
     "metadata": {},
     "output_type": "display_data"
    },
    {
     "data": {
      "text/latex": [
       "$k_c$=$\\sqrt{- \\frac{A^{2}}{2 D_{v}} + \\frac{B - 1}{2 D_{u}}}$"
      ],
      "text/plain": [
       "<IPython.core.display.Latex object>"
      ]
     },
     "metadata": {},
     "output_type": "display_data"
    }
   ],
   "source": [
    "f_u = J_0[0, 0]\n",
    "f_v = J_0[0, 1]\n",
    "g_u = J_0[1, 0]\n",
    "g_v = J_0[1, 1]\n",
    "\n",
    "lprint(r\"$f_u$={0}\", f_u)\n",
    "lprint(r\"$f_v$={0}\", f_v)\n",
    "lprint(r\"$g_u$={0}\", g_u)\n",
    "lprint(r\"$g_v$={0}\", g_v)\n",
    "\n",
    "k_c = sqrt(f_u/(2 * D_u) + g_v/(2 * D_v))\n",
    "\n",
    "lprint(r\"$k_c$={0}\", k_c)"
   ]
  },
  {
   "cell_type": "markdown",
   "id": "9d3df319",
   "metadata": {},
   "source": [
    "Before checking the validity of the critical wavenumber, let us find the bifurcation point for given values of $D_u = 1$, $D_v = 10$ and $B = 2$.\n",
    "\n",
    "The onset of bifurcation finds by equation (36) and when it is an equality\n",
    "<center>$(D_v f_u + D_u g_v)^2 \\le 4D_u D_v (f_u g_v - f_v g_u)$<center>\n",
    " So, when we write this inequality for the Brusselator model, we have"
   ]
  },
  {
   "cell_type": "code",
   "execution_count": 14,
   "id": "d4ddebe2",
   "metadata": {
    "ExecuteTime": {
     "end_time": "2022-10-12T15:49:04.172087Z",
     "start_time": "2022-10-12T15:49:04.079020Z"
    }
   },
   "outputs": [
    {
     "data": {
      "text/latex": [
       "The onset of bifurcation condition: $- 4 A^{2} D_{u} D_{v} + \\left(A^{2} D_{u} - D_{v} \\left(B - 1\\right)\\right)^{2}$ = 0"
      ],
      "text/plain": [
       "<IPython.core.display.Latex object>"
      ]
     },
     "metadata": {},
     "output_type": "display_data"
    }
   ],
   "source": [
    "bifurcation_con = simplify((D_v * f_u + D_u * g_v)**2 \n",
    "                           - 4 * D_u *D_v * (f_u * g_v - f_v * g_u))\n",
    "lprint(\"The onset of bifurcation condition: {0} = 0\", bifurcation_con)"
   ]
  },
  {
   "cell_type": "markdown",
   "id": "ef50e6bb",
   "metadata": {},
   "source": [
    "And substituting $D_u = 1$, $D_v = 10$ and $B = 2$ leaves an equation for $A$ which we can solve"
   ]
  },
  {
   "cell_type": "code",
   "execution_count": 15,
   "id": "ceae40cb",
   "metadata": {
    "ExecuteTime": {
     "end_time": "2022-10-12T15:49:05.863892Z",
     "start_time": "2022-10-12T15:49:05.854327Z"
    }
   },
   "outputs": [
    {
     "data": {
      "text/latex": [
       "The onset of bifurcation condition: $- 40 A^{2} + \\left(A^{2} - 10\\right)^{2}$ = 0"
      ],
      "text/plain": [
       "<IPython.core.display.Latex object>"
      ]
     },
     "metadata": {},
     "output_type": "display_data"
    }
   ],
   "source": [
    "bifurcation_con = bifurcation_con.subs([(D_u, 1), (D_v, 10), (B, 2)])\n",
    "lprint(\"The onset of bifurcation condition: {0} = 0\", bifurcation_con)"
   ]
  },
  {
   "cell_type": "code",
   "execution_count": 16,
   "id": "5354c903",
   "metadata": {
    "ExecuteTime": {
     "end_time": "2022-10-12T15:49:07.929264Z",
     "start_time": "2022-10-12T15:49:07.854299Z"
    }
   },
   "outputs": [
    {
     "data": {
      "text/latex": [
       "Solutions: $\\left[ - \\sqrt{30 - 20 \\sqrt{2}}, \\  \\sqrt{30 - 20 \\sqrt{2}}, \\  - \\sqrt{20 \\sqrt{2} + 30}, \\  \\sqrt{20 \\sqrt{2} + 30}\\right]$"
      ],
      "text/plain": [
       "<IPython.core.display.Latex object>"
      ]
     },
     "metadata": {},
     "output_type": "display_data"
    },
    {
     "data": {
      "text/latex": [
       "A=$- \\sqrt{30 - 20 \\sqrt{2}}$=-1.3099"
      ],
      "text/plain": [
       "<IPython.core.display.Latex object>"
      ]
     },
     "metadata": {},
     "output_type": "display_data"
    }
   ],
   "source": [
    "solutions = solve(bifurcation_con)\n",
    "lprint(\"Solutions: {0}\", solutions)\n",
    "A_val = np.float64(solutions[0].evalf())\n",
    "lprint(\"A={0}\" f\"={A_val:.4f}\", solutions[0])"
   ]
  },
  {
   "cell_type": "markdown",
   "id": "a6bc58bf",
   "metadata": {
    "ExecuteTime": {
     "end_time": "2022-08-18T14:46:41.131470Z",
     "start_time": "2022-08-18T14:46:41.125750Z"
    }
   },
   "source": [
    "So, $(D_u=1, D_v=10, A=-\\sqrt{30 - 20 \\sqrt{2}}, B=2)$ is the onset of bifurcation.\n",
    "We plot $\\lambda_2(k)$ against $k$ and $k_c$ as a vertical line"
   ]
  },
  {
   "cell_type": "code",
   "execution_count": 17,
   "id": "92bb3930",
   "metadata": {
    "ExecuteTime": {
     "end_time": "2022-10-12T15:49:10.751860Z",
     "start_time": "2022-10-12T15:49:10.512737Z"
    }
   },
   "outputs": [
    {
     "data": {
      "image/png": "[encoded data removed]",
      "text/plain": [
       "<Figure size 576x288 with 1 Axes>"
      ]
     },
     "metadata": {},
     "output_type": "display_data"
    }
   ],
   "source": [
    "ks = np.complex64(np.linspace(0, 1, num=100))\n",
    "\n",
    "λ_2_f = lambdify([k, A, B, D_u, D_v], λ_2, modules='numpy')\n",
    "λ_2_graph = λ_2_f(ks, A =A_val, B = 2, D_u = 1, D_v = 10)\n",
    "\n",
    "\n",
    "fig = plt.figure(figsize=(8,4))\n",
    "plt.style.use('fivethirtyeight')\n",
    "plt.plot(ks,np.real(λ_2_graph), label='Real')\n",
    "plt.plot(ks,np.imag( λ_2_graph),  '--', label='Imaginary')\n",
    "\n",
    "k_c_f = lambdify([A, B, D_u, D_v], k_c, modules='numpy')\n",
    "k_critical = k_c_f(A = A_val, B = 2, D_u = 1, D_v = 10)\n",
    "plt.vlines(k_critical, -1 , 1, color='magenta', linestyle='-', alpha=.5,\n",
    "           label=r\"$k_c$\")\n",
    "plt.xlabel(r\"$k$\")\n",
    "plt.ylabel(r\"$\\lambda(k)$\")\n",
    "plt.legend()\n",
    "plt.show()"
   ]
  },
  {
   "cell_type": "markdown",
   "id": "4b15a6ba",
   "metadata": {},
   "source": [
    "is is important to note that the $k_c$ relation becomes invalid when we move the parameters from the onset of bifurcation. e.g. we add 0.2 to the calculated $A$ and see the $k_c$ is not accurate anymore"
   ]
  },
  {
   "cell_type": "code",
   "execution_count": 18,
   "id": "b874f71c",
   "metadata": {
    "ExecuteTime": {
     "end_time": "2022-10-12T15:49:13.026682Z",
     "start_time": "2022-10-12T15:49:12.846095Z"
    }
   },
   "outputs": [
    {
     "data": {
      "image/png": "[encoded data removed]",
      "text/plain": [
       "<Figure size 576x288 with 1 Axes>"
      ]
     },
     "metadata": {},
     "output_type": "display_data"
    }
   ],
   "source": [
    "ks = np.complex64(np.linspace(0.4, .9, num=100))\n",
    "\n",
    "λ_2_f = lambdify([k, A, B, D_u, D_v], λ_2, modules='numpy')\n",
    "λ_2_graph = λ_2_f(ks, A =A_val+0.2, B = 2, D_u = 1, D_v = 10)\n",
    "\n",
    "\n",
    "fig = plt.figure(figsize=(8,4))\n",
    "plt.style.use('fivethirtyeight')\n",
    "plt.plot(ks,np.real(λ_2_graph), label='Real')\n",
    "plt.plot(ks,np.imag( λ_2_graph),  '--', label='Imaginary')\n",
    "\n",
    "k_c_f = lambdify([A, B, D_u, D_v], k_c, modules='numpy')\n",
    "k_critical = k_c_f(A = A_val+0.2, B = 2, D_u = 1, D_v = 10)\n",
    "plt.vlines(k_critical, -.1 , .2, color='magenta', linestyle='-', alpha=.5,\n",
    "           label=r\"$k_c$\")\n",
    "plt.xlabel(r\"$k$\")\n",
    "plt.ylabel(r\"$\\lambda(k)$\")\n",
    "plt.legend()\n",
    "plt.show()"
   ]
  },
  {
   "cell_type": "code",
   "execution_count": 19,
   "id": "af3b6ccc",
   "metadata": {
    "ExecuteTime": {
     "end_time": "2022-10-12T15:49:15.054441Z",
     "start_time": "2022-10-12T15:49:14.872392Z"
    }
   },
   "outputs": [
    {
     "data": {
      "image/png": "[encoded data removed]",
      "text/plain": [
       "<Figure size 576x288 with 1 Axes>"
      ]
     },
     "metadata": {},
     "output_type": "display_data"
    }
   ],
   "source": [
    "ks = np.complex64(np.linspace(0.0, 100, num=100))\n",
    "\n",
    "λ_2_f = lambdify([k, A, B, D_u, D_v], λ_2, modules='numpy')\n",
    "λ_2_graph = λ_2_f(ks, A =1, B = 20, D_u = 0.001, D_v = 0.1)\n",
    "\n",
    "\n",
    "fig = plt.figure(figsize=(8,4))\n",
    "plt.style.use('fivethirtyeight')\n",
    "plt.plot(ks,np.real(λ_2_graph), label='Real')\n",
    "plt.plot(ks,np.imag( λ_2_graph),  '--', label='Imaginary')\n",
    "\n",
    "k_c_f = lambdify([A, B, D_u, D_v], k_c, modules='numpy')\n",
    "k_critical = k_c_f(A = 1, B = 20, D_u = 0.001, D_v = 0.1)\n",
    "plt.vlines(k_critical, -.1 , .2, color='magenta', linestyle='-', alpha=.5,\n",
    "           label=r\"$k_c$\")\n",
    "plt.xlabel(r\"$k$\")\n",
    "plt.ylabel(r\"$\\lambda(k)$\")\n",
    "plt.legend()\n",
    "plt.show()"
   ]
  },
  {
   "cell_type": "code",
   "execution_count": 58,
   "id": "bf947d77",
   "metadata": {
    "ExecuteTime": {
     "end_time": "2022-09-05T16:20:28.281133Z",
     "start_time": "2022-09-05T16:20:28.275672Z"
    }
   },
   "outputs": [
    {
     "data": {
      "text/plain": [
       "(16.161615+0j)"
      ]
     },
     "execution_count": 58,
     "metadata": {},
     "output_type": "execute_result"
    }
   ],
   "source": [
    "ks[np.nonzero( λ_2_graph == np.max(λ_2_graph))[0][0]]"
   ]
  },
  {
   "cell_type": "markdown",
   "id": "f2a80c0b",
   "metadata": {},
   "source": [
    "### combining all the conditions together"
   ]
  },
  {
   "cell_type": "markdown",
   "id": "8c917ddc",
   "metadata": {},
   "source": [
    "Previously, we saw that for the Brusselator model\n",
    "<h4><center>$det(\\boldsymbol{J_0}) = f_u g_v - f_v g_u = -A^2 < 0$</center></h4>\n",
    "\n",
    "is always true. So, it remains three inequalities that together determine the Turing space of parameters:"
   ]
  },
  {
   "cell_type": "markdown",
   "id": "48eb562d",
   "metadata": {},
   "source": [
    "<h3><center>$f_u + g_v < 0$,</center></h3>\n",
    "<h4><center>$ D_v f_u + D_u g_v > 0$,</center></h4>\n",
    "<h4><center>$(D_v f_u + D_u g_v)^2 > 4D_u D_v (f_u g_v - f_v g_u)$,</center></h4>"
   ]
  },
  {
   "cell_type": "markdown",
   "id": "a304942e",
   "metadata": {},
   "source": [
    "However, these inequalites depends on four parameters, namely $A, B, D_u, D_v$, which makes the plotting of the Turning space very hard. So, we introduce the ratio of diffusion constants as $\\delta = D_u/D_v$, and then for $D_u, D_v > 0$\n",
    "<h4><center>$f_u + g_v < 0$,</center></h4>\n",
    "<h4><center>$ f_u + \\delta g_v > 0$,</center></h4>\n",
    "<h4><center>$(f_u + \\delta g_v)^2 > 4 \\delta (f_u g_v - f_v g_u)$,</center></h4>\n",
    "\n",
    "This set of inequalities have only three independnet parameters, and by fixing $\\delta$, we can find the Turing space on $(A, B)$ plane.\n",
    "\n",
    "Let us first define $\\delta$ and the new two inequalities symbolicly, and turn them to a numpy function."
   ]
  },
  {
   "cell_type": "code",
   "execution_count": 20,
   "id": "9754ebda",
   "metadata": {
    "ExecuteTime": {
     "end_time": "2022-10-12T15:49:20.679082Z",
     "start_time": "2022-10-12T15:49:20.664027Z"
    }
   },
   "outputs": [
    {
     "data": {
      "text/latex": [
       "Condition 3: $- A^{2} δ + B - 1$$ > 0$ "
      ],
      "text/plain": [
       "<IPython.core.display.Latex object>"
      ]
     },
     "metadata": {},
     "output_type": "display_data"
    },
    {
     "data": {
      "text/latex": [
       "Condition 4: $- 4 A^{2} δ + \\left(- A^{2} δ + B - 1\\right)^{2}$$ > 0$ "
      ],
      "text/plain": [
       "<IPython.core.display.Latex object>"
      ]
     },
     "metadata": {},
     "output_type": "display_data"
    }
   ],
   "source": [
    "δ = symbols(\"δ\", positive=True)\n",
    "\n",
    "cond_3 = f_u + δ * g_v\n",
    "cond_4 = cond_3**2 - 4 * δ * J_0.det()\n",
    "lprint(r\"Condition 3: {0}$ > 0$ \", cond_3)\n",
    "lprint(r\"Condition 4: {0}$ > 0$ \", cond_4)\n",
    "# convert the conditions to numpy functions\n",
    "cond_3_f = lambdify([A, B, δ], cond_3, modules='numpy')\n",
    "cond_4_f = lambdify([A, B, δ], cond_4, modules='numpy')"
   ]
  },
  {
   "cell_type": "markdown",
   "id": "1f17a002",
   "metadata": {},
   "source": [
    "Using the function of all three conditions (inequalities), the following code iterates on a list of $\\delta \\in \\{.5, .3, .2, .1, .05, 0.001\\}$ for $(A, B) \\in [-4, 4]x[-2, 4]$ plane, and then calculate the three conditions for each $(\\delta, A, B)$. Note that the results are True/False values that a __bitwise AND__ operation on all of them is True, whenever all are satisfied and True. Finally, the intersected domain (base on __bitwise AND__ operation) is plotted for the given $\\delta$."
   ]
  },
  {
   "cell_type": "code",
   "execution_count": 21,
   "id": "f2ced66c",
   "metadata": {
    "ExecuteTime": {
     "end_time": "2022-10-12T15:49:24.236804Z",
     "start_time": "2022-10-12T15:49:23.125665Z"
    }
   },
   "outputs": [
    {
     "data": {
      "image/png": "[encoded data removed]",
      "text/plain": [
       "<Figure size 720x720 with 12 Axes>"
      ]
     },
     "metadata": {},
     "output_type": "display_data"
    }
   ],
   "source": [
    "# Create a meshgrid [-4, 4]x[-2, 4] for (A, B) domain\n",
    "L = 4\n",
    "A_size = 400\n",
    "B_size = 400\n",
    "A_axis = L * np.linspace(-1, 1, A_size)\n",
    "B_axis = L * np.linspace(-.5, 1, B_size)\n",
    "A_grid, B_grid = np.meshgrid(A_axis, B_axis, sparse=False)\n",
    "\n",
    "δ_values = np.array([.5, .3, .2, .1, .05, 0.001])\n",
    "# Plotting\n",
    "fig = plt.figure(figsize=(10,10))\n",
    "plt.style.use('seaborn-white')\n",
    "\n",
    "for i, δ_val in enumerate(δ_values):\n",
    "    ax = fig.add_subplot(3, 2, i+1)\n",
    "    ax.set_title(r\"$\\delta=$\" f\"{δ_val}\")\n",
    "    # Numerically calculate the values of the conditions\n",
    "    domain = cond_3_f(A_grid , B_grid, δ_val)\n",
    "    domain[domain > 0] = True\n",
    "    domain[domain <= 0] = False\n",
    "    # \n",
    "    domain2 = cond_4_f(A_grid , B_grid, δ_val)\n",
    "    domain2[domain2 > 0] = True\n",
    "    domain2[domain2 <= 0] = False\n",
    "    #        \n",
    "    domain_intersect = np.bool8(domain) & np.bool8(domain2)\n",
    "    #\n",
    "    domain3 = cond_1_f(A_grid , B_grid)    \n",
    "    domain3[domain3 >= 0] = False\n",
    "    domain3[domain3 < 0] = True\n",
    "    domain_intersect = domain_intersect & np.bool8(domain3)\n",
    "    # plot the domain by using zero as the levelset\n",
    "    plot_two_levels(ax, np.float16(domain_intersect), \n",
    "                    [-L, L, -L/2, L], \n",
    "                    \"A\", \"B\", \n",
    "                    0, \n",
    "                    ['None', 'Turing'])\n",
    "\n",
    "plt.tight_layout()\n",
    "plt.show()"
   ]
  },
  {
   "cell_type": "code",
   "execution_count": 136,
   "id": "a748c76f",
   "metadata": {
    "ExecuteTime": {
     "end_time": "2022-09-05T15:07:04.515795Z",
     "start_time": "2022-09-05T15:07:04.478490Z"
    }
   },
   "outputs": [
    {
     "data": {
      "text/latex": [
       "$\\displaystyle 0.05$"
      ],
      "text/plain": [
       "0.0500000000000000"
      ]
     },
     "execution_count": 136,
     "metadata": {},
     "output_type": "execute_result"
    }
   ],
   "source": [
    "cond_4_f(1.0 , solve(cond_4.subs(A, 1).subs(δ, .01))[0]-.1, 0.01)"
   ]
  },
  {
   "cell_type": "code",
   "execution_count": 130,
   "id": "b5d5cef7",
   "metadata": {
    "ExecuteTime": {
     "end_time": "2022-09-05T15:06:13.942563Z",
     "start_time": "2022-09-05T15:06:13.909726Z"
    }
   },
   "outputs": [
    {
     "data": {
      "text/latex": [
       "$\\displaystyle 0.2$"
      ],
      "text/plain": [
       "0.200000000000000"
      ]
     },
     "execution_count": 130,
     "metadata": {},
     "output_type": "execute_result"
    }
   ],
   "source": [
    "cond_3_f(1.0 , solve(cond_4.subs(A, 1).subs(δ, .01))[1], 0.01)"
   ]
  },
  {
   "cell_type": "code",
   "execution_count": 127,
   "id": "5103d859",
   "metadata": {
    "ExecuteTime": {
     "end_time": "2022-09-05T15:05:53.897704Z",
     "start_time": "2022-09-05T15:05:53.846157Z"
    }
   },
   "outputs": [
    {
     "data": {
      "text/latex": [
       "$\\displaystyle \\left[ 0.81, \\  1.21\\right]$"
      ],
      "text/plain": [
       "[0.81, 1.21]"
      ]
     },
     "execution_count": 127,
     "metadata": {},
     "output_type": "execute_result"
    }
   ],
   "source": [
    "solve(cond_4.subs(A, 1).subs(δ, .01))"
   ]
  },
  {
   "cell_type": "markdown",
   "id": "23b730aa",
   "metadata": {},
   "source": [
    "# Finding the Turing space for diffusion constants that are different for around 10%"
   ]
  },
  {
   "cell_type": "code",
   "execution_count": 34,
   "id": "6a5cb4c0",
   "metadata": {
    "ExecuteTime": {
     "end_time": "2022-08-22T10:18:37.301796Z",
     "start_time": "2022-08-22T10:17:28.690776Z"
    }
   },
   "outputs": [
    {
     "data": {
      "image/png": "[encoded data removed]",
      "text/plain": [
       "<Figure size 720x720 with 2 Axes>"
      ]
     },
     "metadata": {},
     "output_type": "display_data"
    }
   ],
   "source": [
    "# Create a meshgrid [-4, 4]x[-2, 4] for (A, B) domain\n",
    "L_1 = 400\n",
    "L_2 = 400\n",
    "A_size = 20000\n",
    "B_size = 20000\n",
    "A_axis = L_1 * np.linspace(0, 1, A_size)\n",
    "B_axis = L_2 * np.linspace(0, 1, B_size)\n",
    "A_grid, B_grid = np.meshgrid(A_axis, B_axis, sparse=False)\n",
    "\n",
    "δ_values = np.array([.9])\n",
    "# Plotting\n",
    "fig = plt.figure(figsize=(10,10))\n",
    "plt.style.use('seaborn-white')\n",
    "\n",
    "for i, δ_val in enumerate(δ_values):\n",
    "    ax = fig.add_subplot(3, 2, i+1)\n",
    "    ax.set_title(r\"$\\sigma=$\" f\"{δ_val}\")\n",
    "    # Numerically calculate the values of the conditions\n",
    "    domain = cond_3_f(A_grid , B_grid, δ_val)\n",
    "    domain[domain > 0] = True\n",
    "    domain[domain <= 0] = False\n",
    "    # \n",
    "    domain2 = cond_4_f(A_grid , B_grid, δ_val)\n",
    "    domain2[domain2 > 0] = True\n",
    "    domain2[domain2 <= 0] = False\n",
    "    #        \n",
    "    domain_intersect = np.bool8(domain) & np.bool8(domain2)\n",
    "    #\n",
    "    domain3 = cond_1_f(A_grid , B_grid)    \n",
    "    domain3[domain3 >= 0] = False\n",
    "    domain3[domain3 < 0] = True\n",
    "    domain_intersect = domain_intersect & np.bool8(domain3)\n",
    "    # plot the domain by using zero as the levelset\n",
    "    plot_two_levels(ax, np.float16(domain_intersect), \n",
    "                    None,#[0, L_1, 0, L_2], \n",
    "                    \"A\", \"B\", \n",
    "                    0, \n",
    "                    ['None', 'Turing'])\n",
    "    #\n",
    "\n",
    "\n",
    "#plt.tight_layout()\n",
    "plt.show()"
   ]
  },
  {
   "cell_type": "code",
   "execution_count": 54,
   "id": "73eb8e8d",
   "metadata": {
    "ExecuteTime": {
     "end_time": "2022-08-22T10:29:21.313427Z",
     "start_time": "2022-08-22T10:29:20.064474Z"
    }
   },
   "outputs": [
    {
     "name": "stdout",
     "output_type": "stream",
     "text": [
      "B= 400.0\n",
      "A= 20.021001050052504\n"
     ]
    }
   ],
   "source": [
    "i,j = np.nonzero(domain_intersect)\n",
    "index = -1\n",
    "print(\"B=\", A_axis[i[index]])\n",
    "print(\"A=\", B_axis[j[index]])"
   ]
  },
  {
   "cell_type": "code",
   "execution_count": 44,
   "id": "dcad277c",
   "metadata": {
    "ExecuteTime": {
     "end_time": "2022-08-22T10:22:46.774589Z",
     "start_time": "2022-08-22T10:22:46.602120Z"
    }
   },
   "outputs": [
    {
     "data": {
      "image/png": "[encoded data removed]",
      "text/plain": [
       "<Figure size 432x288 with 1 Axes>"
      ]
     },
     "metadata": {},
     "output_type": "display_data"
    }
   ],
   "source": [
    "plt.plot(A_axis[i], B_axis[j])\n",
    "plt.grid()\n",
    "plt.show()"
   ]
  },
  {
   "cell_type": "code",
   "execution_count": 73,
   "id": "ff4b0d05",
   "metadata": {
    "ExecuteTime": {
     "end_time": "2022-08-22T10:48:25.049968Z",
     "start_time": "2022-08-22T10:48:25.042731Z"
    }
   },
   "outputs": [
    {
     "data": {
      "text/plain": [
       "'${0} < 0 \\\\implies$ -1 < 0'"
      ]
     },
     "execution_count": 73,
     "metadata": {},
     "output_type": "execute_result"
    }
   ],
   "source": [
    "r\"${0} < 0 \\implies$ \" f\"{cond_1_f(20, 400)} < 0\""
   ]
  },
  {
   "cell_type": "code",
   "execution_count": 77,
   "id": "33d485da",
   "metadata": {
    "ExecuteTime": {
     "end_time": "2022-08-22T10:49:55.328724Z",
     "start_time": "2022-08-22T10:49:55.292552Z"
    }
   },
   "outputs": [
    {
     "data": {
      "text/latex": [
       "$- A^{2} + B - 1$ < 0"
      ],
      "text/plain": [
       "<IPython.core.display.Latex object>"
      ]
     },
     "metadata": {},
     "output_type": "display_data"
    },
    {
     "data": {
      "text/latex": [
       "$A^{2}$ > 0"
      ],
      "text/plain": [
       "<IPython.core.display.Latex object>"
      ]
     },
     "metadata": {},
     "output_type": "display_data"
    },
    {
     "data": {
      "text/latex": [
       "$- A^{2} δ + B - 1$ > 0"
      ],
      "text/plain": [
       "<IPython.core.display.Latex object>"
      ]
     },
     "metadata": {},
     "output_type": "display_data"
    },
    {
     "data": {
      "text/latex": [
       "$- 4 A^{2} δ + \\left(- A^{2} δ + B - 1\\right)^{2}$ > 0"
      ],
      "text/plain": [
       "<IPython.core.display.Latex object>"
      ]
     },
     "metadata": {},
     "output_type": "display_data"
    },
    {
     "data": {
      "text/latex": [
       "For $A = 20$, $A = 400$ and $\\delta = 0.9$"
      ],
      "text/plain": [
       "<IPython.core.display.Latex object>"
      ]
     },
     "metadata": {},
     "output_type": "display_data"
    },
    {
     "data": {
      "text/latex": [
       "$- A^{2} + B - 1$ < 0 $\\implies$ -1 < 0"
      ],
      "text/plain": [
       "<IPython.core.display.Latex object>"
      ]
     },
     "metadata": {},
     "output_type": "display_data"
    },
    {
     "data": {
      "text/latex": [
       "$A^{2}$ > 0 $\\implies$ 400 > 0"
      ],
      "text/plain": [
       "<IPython.core.display.Latex object>"
      ]
     },
     "metadata": {},
     "output_type": "display_data"
    },
    {
     "data": {
      "text/latex": [
       "$- A^{2} δ + B - 1$ > 0 $\\implies$ 39.0 > 0"
      ],
      "text/plain": [
       "<IPython.core.display.Latex object>"
      ]
     },
     "metadata": {},
     "output_type": "display_data"
    },
    {
     "data": {
      "text/latex": [
       "$- 4 A^{2} δ + \\left(- A^{2} δ + B - 1\\right)^{2}$ > 0 $\\implies$ 81.0 > 0"
      ],
      "text/plain": [
       "<IPython.core.display.Latex object>"
      ]
     },
     "metadata": {},
     "output_type": "display_data"
    }
   ],
   "source": [
    "lprint(\"{0} < 0\", cond_1)\n",
    "lprint(\"{0} > 0\", cond_2)\n",
    "lprint(\"{0} > 0\", cond_3)\n",
    "lprint(\"{0} > 0\", cond_4)\n",
    "lprint(\"For $A = 20$, $A = 400$ and $\\delta = 0.9$\")\n",
    "lprint(r\"{0} < 0 $\\implies$ \" f\"{cond_1_f(20, 400)} < 0\", cond_1)\n",
    "lprint(r\"{0} > 0 $\\implies$ \" f\"{cond_2_f(20, 400)} > 0\", cond_2)\n",
    "lprint(r\"{0} > 0 $\\implies$ \" f\"{cond_3_f(20, 400, 0.9)} > 0\", cond_3)\n",
    "lprint(r\"{0} > 0 $\\implies$ \" f\"{cond_4_f(20, 400, 0.9)} > 0\", cond_4)"
   ]
  },
  {
   "cell_type": "markdown",
   "id": "9f4c72ac",
   "metadata": {},
   "source": [
    "#### Before including diffusion\n",
    "<h4><center>$(f_u - g_v)^2 + 4 f_v g_u <  0$,</center></h4>"
   ]
  },
  {
   "cell_type": "code",
   "execution_count": 55,
   "id": "e80ac941",
   "metadata": {
    "ExecuteTime": {
     "end_time": "2022-08-22T10:32:15.138607Z",
     "start_time": "2022-08-22T10:32:15.124485Z"
    }
   },
   "outputs": [],
   "source": [
    "cond_5 = (f_u - g_v)**2 + 4 * f_v * g_u\n",
    "cond_5_f = lambdify([A, B], cond_5, modules='numpy')"
   ]
  },
  {
   "cell_type": "code",
   "execution_count": 60,
   "id": "35111e19",
   "metadata": {
    "ExecuteTime": {
     "end_time": "2022-08-22T10:34:40.343644Z",
     "start_time": "2022-08-22T10:34:40.213427Z"
    }
   },
   "outputs": [
    {
     "data": {
      "text/plain": [
       "[<matplotlib.lines.Line2D at 0x7f2701d3ce20>]"
      ]
     },
     "execution_count": 60,
     "metadata": {},
     "output_type": "execute_result"
    },
    {
     "data": {
      "image/png": "[encoded data removed]",
      "text/plain": [
       "<Figure size 432x288 with 1 Axes>"
      ]
     },
     "metadata": {},
     "output_type": "display_data"
    }
   ],
   "source": [
    "plt.plot(cond_5_f(B_axis[j], A_axis[i]))"
   ]
  },
  {
   "cell_type": "markdown",
   "id": "5899bba1",
   "metadata": {},
   "source": [
    "# Dispersion relation for $A = 20, B = 400, \\delta = 0.9$"
   ]
  },
  {
   "cell_type": "code",
   "execution_count": 67,
   "id": "85387674",
   "metadata": {
    "ExecuteTime": {
     "end_time": "2022-08-22T10:43:51.411965Z",
     "start_time": "2022-08-22T10:43:51.061526Z"
    }
   },
   "outputs": [
    {
     "data": {
      "image/png": "[encoded data removed]",
      "text/plain": [
       "<Figure size 576x288 with 1 Axes>"
      ]
     },
     "metadata": {},
     "output_type": "display_data"
    }
   ],
   "source": [
    "ks = np.complex64(np.linspace(2.8, 5, num=1000))\n",
    "\n",
    "λ_2_graph = λ_2_f(ks, A =20, B = 400, D_u = 1, D_v = 10/9)\n",
    "\n",
    "\n",
    "fig = plt.figure(figsize=(8,4))\n",
    "plt.style.use('fivethirtyeight')\n",
    "plt.plot(ks,np.real(λ_2_graph), label='Real')\n",
    "plt.plot(ks,np.imag( λ_2_graph),  '--', label='Imaginary')\n",
    "\n",
    "plt.xlabel(r\"$k$\")\n",
    "plt.ylabel(r\"$\\lambda(k)$\")\n",
    "plt.legend()\n",
    "plt.show()"
   ]
  },
  {
   "cell_type": "code",
   "execution_count": 28,
   "id": "2c100297",
   "metadata": {
    "ExecuteTime": {
     "end_time": "2022-10-12T15:55:17.498335Z",
     "start_time": "2022-10-12T15:55:16.694417Z"
    }
   },
   "outputs": [
    {
     "data": {
      "image/png": "[encoded data removed]",
      "text/plain": [
       "<Figure size 720x720 with 6 Axes>"
      ]
     },
     "metadata": {},
     "output_type": "display_data"
    }
   ],
   "source": [
    "# Create a meshgrid [-4, 4]x[-2, 4] for (A, B) domain\n",
    "L_A = 3\n",
    "L_B = 4\n",
    "A_size = 800\n",
    "B_size = 800\n",
    "A_axis = L_A * np.linspace(0, 1, A_size)\n",
    "B_axis = L_B * np.linspace(0, 1, B_size)\n",
    "A_grid, B_grid = np.meshgrid(A_axis, B_axis, sparse=False)\n",
    "\n",
    "δ_values = np.array([0.002/0.04, 0.001/0.05, 0.002/0.01])\n",
    "# Plotting\n",
    "fig = plt.figure(figsize=(10,10))\n",
    "plt.style.use('seaborn-white')\n",
    "\n",
    "for i, δ_val in enumerate(δ_values):\n",
    "    ax = fig.add_subplot(3, 2, i+1)\n",
    "    ax.set_title(r\"$\\delta=$\" f\"{δ_val}\")\n",
    "    # Numerically calculate the values of the conditions\n",
    "    domain = cond_3_f(A_grid , B_grid, δ_val)\n",
    "    domain[domain > 0] = True\n",
    "    domain[domain <= 0] = False\n",
    "    # \n",
    "    domain2 = cond_4_f(A_grid , B_grid, δ_val)\n",
    "    domain2[domain2 > 0] = True\n",
    "    domain2[domain2 <= 0] = False\n",
    "    #        \n",
    "    domain_intersect = np.bool8(domain) & np.bool8(domain2)\n",
    "    #\n",
    "    domain3 = cond_1_f(A_grid , B_grid)    \n",
    "    domain3[domain3 >= 0] = False\n",
    "    domain3[domain3 < 0] = True\n",
    "    domain_intersect = domain_intersect & np.bool8(domain3)\n",
    "    # plot the domain by using zero as the levelset\n",
    "    plot_two_levels(ax, np.float16(domain_intersect), \n",
    "                    [0, L_A, 0, L_B], \n",
    "                    \"A\", \"B\", \n",
    "                    0, \n",
    "                    ['None', 'Turing'])\n",
    "\n",
    "plt.tight_layout()\n",
    "plt.show()"
   ]
  },
  {
   "cell_type": "code",
   "execution_count": null,
   "id": "70d9eb45",
   "metadata": {},
   "outputs": [],
   "source": []
  }
 ],
 "metadata": {
  "kernelspec": {
   "display_name": "Python 3 (ipykernel)",
   "language": "python",
   "name": "python3"
  },
  "language_info": {
   "codemirror_mode": {
    "name": "ipython",
    "version": 3
   },
   "file_extension": ".py",
   "mimetype": "text/x-python",
   "name": "python",
   "nbconvert_exporter": "python",
   "pygments_lexer": "ipython3",
   "version": "3.10.4"
  },
  "varInspector": {
   "cols": {
    "lenName": 16,
    "lenType": 16,
    "lenVar": 40
   },
   "kernels_config": {
    "python": {
     "delete_cmd_postfix": "",
     "delete_cmd_prefix": "del ",
     "library": "var_list.py",
     "varRefreshCmd": "print(var_dic_list())"
    },
    "r": {
     "delete_cmd_postfix": ") ",
     "delete_cmd_prefix": "rm(",
     "library": "var_list.r",
     "varRefreshCmd": "cat(var_dic_list()) "
    }
   },
   "types_to_exclude": [
    "module",
    "function",
    "builtin_function_or_method",
    "instance",
    "_Feature"
   ],
   "window_display": false
  }
 },
 "nbformat": 4,
 "nbformat_minor": 5
}
