{
 "cells": [
  {
   "cell_type": "code",
   "execution_count": 1,
   "id": "c1aebf2c",
   "metadata": {
    "ExecuteTime": {
     "end_time": "2022-08-15T11:32:39.086711Z",
     "start_time": "2022-08-15T11:32:37.822029Z"
    }
   },
   "outputs": [],
   "source": [
    "from sympy import *\n",
    "import numpy as np\n",
    "import matplotlib.pyplot as plt\n",
    "from IPython.display import display, Latex"
   ]
  },
  {
   "cell_type": "code",
   "execution_count": 2,
   "id": "3e084100",
   "metadata": {
    "ExecuteTime": {
     "end_time": "2022-08-15T11:32:39.934187Z",
     "start_time": "2022-08-15T11:32:39.927693Z"
    }
   },
   "outputs": [],
   "source": [
    "init_printing(use_latex='mathjax')#(use_latex=True)"
   ]
  },
  {
   "cell_type": "code",
   "execution_count": 80,
   "id": "3d3025ef",
   "metadata": {
    "ExecuteTime": {
     "end_time": "2022-08-15T12:18:09.978347Z",
     "start_time": "2022-08-15T12:18:09.972601Z"
    }
   },
   "outputs": [],
   "source": [
    "def hprint(header, obj):\n",
    "    display(Latex(r\"$\" + header +latex(obj)+r\"$\") )\n",
    "    \n",
    "def lprint(latex_str, *elements):\n",
    "    s = latex_str\n",
    "    for i, e in enumerate(elements):        \n",
    "        s = s.replace(f\"{{{i}}}\", r\"$\" + e +r\"$\")\n",
    "    display(Latex(s))"
   ]
  },
  {
   "cell_type": "markdown",
   "id": "5f921406",
   "metadata": {},
   "source": [
    "#### Define a list of parameters"
   ]
  },
  {
   "cell_type": "code",
   "execution_count": 197,
   "id": "c3c56a86",
   "metadata": {
    "ExecuteTime": {
     "end_time": "2022-08-15T14:29:07.767894Z",
     "start_time": "2022-08-15T14:29:07.764262Z"
    }
   },
   "outputs": [],
   "source": [
    "A, B, D_u, D_v, u, v = symbols('A, B, D_u, D_v, u, v', real=True)\n",
    "k = symbols('k', integer=True)"
   ]
  },
  {
   "cell_type": "markdown",
   "id": "a77d7c4d",
   "metadata": {},
   "source": [
    "> The Brusselator PDEs are as follows\n",
    "\n",
    "<h3><center>$\\partial_t u = D_u (\\partial_x^2 + \\partial_y^2)u + A - (B+1)u + u^2v$</center></h3>\n",
    "\n",
    "<h3><center>$\\partial_t v = D_v (\\partial_x^2 + \\partial_y^2)v + Bu - u^2 v$</center></h3>\n",
    "Then, we define kinetic terms as\n",
    "\n",
    "<h3><center>$f(u,v) = A - (B+1)u + u^2v$</center></h3>\n",
    "<h3><center>$g(u,v) = Bu - u^2 v$</center></h3>"
   ]
  },
  {
   "cell_type": "code",
   "execution_count": 199,
   "id": "2bdf4123",
   "metadata": {
    "ExecuteTime": {
     "end_time": "2022-08-15T14:29:16.820429Z",
     "start_time": "2022-08-15T14:29:16.810216Z"
    }
   },
   "outputs": [
    {
     "data": {
      "text/latex": [
       "$f(u,v) = A + u^{2} v - u \\left(B + 1\\right)$"
      ],
      "text/plain": [
       "<IPython.core.display.Latex object>"
      ]
     },
     "metadata": {},
     "output_type": "display_data"
    },
    {
     "data": {
      "text/latex": [
       "$g(u,v) = B u - u^{2} v$"
      ],
      "text/plain": [
       "<IPython.core.display.Latex object>"
      ]
     },
     "metadata": {},
     "output_type": "display_data"
    }
   ],
   "source": [
    "f = A - (B + 1) * u + u**2 * v\n",
    "g = B * u - u**2 * v\n",
    "hprint(\"f(u,v) = \", f)\n",
    "hprint(\"g(u,v) = \",g)"
   ]
  },
  {
   "cell_type": "markdown",
   "id": "1e66b819",
   "metadata": {},
   "source": [
    "#### which as a vector, we can define it like"
   ]
  },
  {
   "cell_type": "code",
   "execution_count": 200,
   "id": "cf568d53",
   "metadata": {
    "ExecuteTime": {
     "end_time": "2022-08-15T14:29:24.075515Z",
     "start_time": "2022-08-15T14:29:18.449001Z"
    }
   },
   "outputs": [
    {
     "data": {
      "text/latex": [
       "$\\boldsymbol{f}(u, v) = \\left[\\begin{matrix}A + u^{2} v - u \\left(B + 1\\right)\\\\B u - u^{2} v\\end{matrix}\\right]$"
      ],
      "text/plain": [
       "<IPython.core.display.Latex object>"
      ]
     },
     "metadata": {},
     "output_type": "display_data"
    }
   ],
   "source": [
    "Kinetic = Matrix([[f], [g]])\n",
    "hprint(r\"\\boldsymbol{f}(u, v) = \", Kinetic)"
   ]
  },
  {
   "cell_type": "markdown",
   "id": "28579547",
   "metadata": {},
   "source": [
    "#### First, we find the fix points of the system without diffusion. \n",
    "\n",
    "<center>$f(u,v) = A - (B+1)u + u^2v = 0$</center>\n",
    "<center>$g(u,v) = Bu - u^2 v = 0$</center>\n",
    "\n",
    "The solution of the above system finds $u^*$ and $v^*$ such that\n",
    "<center>$f(u^*, v^*) = 0$</center>\n",
    "<center>$g(u^*, v^*) = 0$</center>\n",
    "which are"
   ]
  },
  {
   "cell_type": "code",
   "execution_count": 201,
   "id": "b03594fd",
   "metadata": {
    "ExecuteTime": {
     "end_time": "2022-08-15T14:29:24.365093Z",
     "start_time": "2022-08-15T14:29:24.220710Z"
    }
   },
   "outputs": [
    {
     "data": {
      "text/latex": [
       "$u^* = A$"
      ],
      "text/plain": [
       "<IPython.core.display.Latex object>"
      ]
     },
     "metadata": {},
     "output_type": "display_data"
    },
    {
     "data": {
      "text/latex": [
       "$v^* = \\frac{B}{A}$"
      ],
      "text/plain": [
       "<IPython.core.display.Latex object>"
      ]
     },
     "metadata": {},
     "output_type": "display_data"
    }
   ],
   "source": [
    "u_star, v_star = solve(Kinetic, (u, v))[0]\n",
    "hprint(\"u^* = \", u_star)\n",
    "hprint(\"v^* = \", v_star)"
   ]
  },
  {
   "cell_type": "markdown",
   "id": "b8b09ed5",
   "metadata": {},
   "source": [
    "#### Next, to linearise the PDE system, we find the Jacobian of $(f, g)$ that evaluated at $(u^*, v^*)$ "
   ]
  },
  {
   "cell_type": "code",
   "execution_count": 202,
   "id": "37f19784",
   "metadata": {
    "ExecuteTime": {
     "end_time": "2022-08-15T14:29:27.072297Z",
     "start_time": "2022-08-15T14:29:27.059186Z"
    }
   },
   "outputs": [
    {
     "data": {
      "text/latex": [
       "$J= \\frac{\\partial \\boldsymbol{f}_i}{\\partial u_j} = \\left[\\begin{matrix}- B + 2 u v - 1 & u^{2}\\\\B - 2 u v & - u^{2}\\end{matrix}\\right]$"
      ],
      "text/plain": [
       "<IPython.core.display.Latex object>"
      ]
     },
     "metadata": {},
     "output_type": "display_data"
    },
    {
     "data": {
      "text/latex": [
       "$J|_{(u^*, v^*)} =\\left[\\begin{matrix}B - 1 & A^{2}\\\\- B & - A^{2}\\end{matrix}\\right]$"
      ],
      "text/plain": [
       "<IPython.core.display.Latex object>"
      ]
     },
     "metadata": {},
     "output_type": "display_data"
    }
   ],
   "source": [
    "J = Kinetic.jacobian([u, v])\n",
    "hprint(r\"J= \\frac{\\partial \\boldsymbol{f}_i}{\\partial u_j} = \", J)\n",
    "J = J.subs([(u, u_star), (v, v_star)])\n",
    "hprint(\"J|_{(u^*, v^*)} =\", J)"
   ]
  },
  {
   "cell_type": "markdown",
   "id": "7af3b535",
   "metadata": {},
   "source": [
    "#### And eigenvalues of the resulting matrix in terms of parameters $A$ and $B$ are"
   ]
  },
  {
   "cell_type": "code",
   "execution_count": 203,
   "id": "75a20cd4",
   "metadata": {
    "ExecuteTime": {
     "end_time": "2022-08-15T14:29:30.485952Z",
     "start_time": "2022-08-15T14:29:30.433752Z"
    }
   },
   "outputs": [
    {
     "data": {
      "text/latex": [
       "$\\lambda_1 = - \\frac{A^{2}}{2} + \\frac{B}{2} - \\frac{\\sqrt{\\left(A^{2} - 2 A - B + 1\\right) \\left(A^{2} + 2 A - B + 1\\right)}}{2} - \\frac{1}{2}$"
      ],
      "text/plain": [
       "<IPython.core.display.Latex object>"
      ]
     },
     "metadata": {},
     "output_type": "display_data"
    },
    {
     "data": {
      "text/latex": [
       "$\\lambda_2 = - \\frac{A^{2}}{2} + \\frac{B}{2} + \\frac{\\sqrt{\\left(A^{2} - 2 A - B + 1\\right) \\left(A^{2} + 2 A - B + 1\\right)}}{2} - \\frac{1}{2}$"
      ],
      "text/plain": [
       "<IPython.core.display.Latex object>"
      ]
     },
     "metadata": {},
     "output_type": "display_data"
    }
   ],
   "source": [
    "λ_1, λ_2 =  list(J.eigenvals().keys())\n",
    "hprint(\"\\lambda_1 = \", λ_1)\n",
    "hprint(\"\\lambda_2 = \", λ_2)"
   ]
  },
  {
   "cell_type": "markdown",
   "id": "8d7131ee",
   "metadata": {},
   "source": [
    "#### However, remeber that the eigenvalues of a matrix $J$ is the solution of the quadratic equation\n",
    "\n",
    "<center>$\\lambda^2 - Tr(J) \\lambda +  Det(J)  = 0$,</center>\n",
    "\n",
    "#### such that its solutions writes as\n",
    "\n",
    "<center>$\\lambda_{1,2} = \\frac{Tr(J)}{2} \\pm \\sqrt{ (\\frac{Tr(J)}{2})^2 - Det(J) }$,</center>\n",
    "\n",
    "where $Tr(J)$ and $Det(J)$ are trace and determinant of the matrix $J$, respectively."
   ]
  },
  {
   "cell_type": "code",
   "execution_count": 204,
   "id": "0c9be0c0",
   "metadata": {
    "ExecuteTime": {
     "end_time": "2022-08-15T14:29:33.181135Z",
     "start_time": "2022-08-15T14:29:33.170218Z"
    }
   },
   "outputs": [
    {
     "data": {
      "text/latex": [
       "$Tr(J) = - A^{2} + B - 1$"
      ],
      "text/plain": [
       "<IPython.core.display.Latex object>"
      ]
     },
     "metadata": {},
     "output_type": "display_data"
    },
    {
     "data": {
      "text/latex": [
       "$Det(J) = A^{2}$"
      ],
      "text/plain": [
       "<IPython.core.display.Latex object>"
      ]
     },
     "metadata": {},
     "output_type": "display_data"
    }
   ],
   "source": [
    "hprint(\"Tr(J) = \", J.trace())\n",
    "hprint(\"Det(J) = \", J.det())"
   ]
  },
  {
   "cell_type": "markdown",
   "id": "ecd1697f",
   "metadata": {},
   "source": [
    "#### If we define\n",
    "\n",
    "<center>$C =\\frac{Tr(J)}{2} = \\frac{B-1-A^2}{2}$</center>\n",
    "\n",
    "#### the quadratic equation becomes\n",
    "\n",
    "<center>$\\lambda^2 - 2C \\lambda +  A^2  = 0 \\qquad$, (I)</center>\n",
    "\n",
    "#### and its solutions find as\n",
    "\n",
    "<center>$\\lambda_{1,2} = C \\pm \\sqrt{ C^2 - A^2 }$,</center>\n"
   ]
  },
  {
   "cell_type": "code",
   "execution_count": 205,
   "id": "5ef09fab",
   "metadata": {
    "ExecuteTime": {
     "end_time": "2022-08-15T14:29:38.234065Z",
     "start_time": "2022-08-15T14:29:38.225933Z"
    }
   },
   "outputs": [
    {
     "data": {
      "text/latex": [
       "$\\lambda_1 = C - \\sqrt{- A^{2} + C^{2}}$"
      ],
      "text/plain": [
       "<IPython.core.display.Latex object>"
      ]
     },
     "metadata": {},
     "output_type": "display_data"
    },
    {
     "data": {
      "text/latex": [
       "$\\lambda_2 = C + \\sqrt{- A^{2} + C^{2}}$"
      ],
      "text/plain": [
       "<IPython.core.display.Latex object>"
      ]
     },
     "metadata": {},
     "output_type": "display_data"
    }
   ],
   "source": [
    "#λ_star = J.trace()/2\n",
    "C = symbols(\"C\")\n",
    "λ_1 = C - sqrt(C**2 - A**2)\n",
    "λ_2 = C + sqrt(C**2 - A**2)\n",
    "hprint(\"\\lambda_1 = \", λ_1)\n",
    "hprint(\"\\lambda_2 = \", λ_2)"
   ]
  },
  {
   "cell_type": "markdown",
   "id": "86514c79",
   "metadata": {},
   "source": [
    "#### And when we plot $f(\\lambda) = \\lambda^2 - 2C \\lambda +  A^2 $ , we can see "
   ]
  },
  {
   "cell_type": "code",
   "execution_count": 219,
   "id": "7d408ca7",
   "metadata": {
    "ExecuteTime": {
     "end_time": "2022-08-15T14:34:17.573811Z",
     "start_time": "2022-08-15T14:34:17.210386Z"
    }
   },
   "outputs": [
    {
     "data": {
      "image/png": "[encoded data removed]",
      "text/plain": [
       "<Figure size 576x288 with 1 Axes>"
      ]
     },
     "metadata": {},
     "output_type": "display_data"
    }
   ],
   "source": [
    "\n",
    "\n",
    "C_val = 2\n",
    "A_val = 1\n",
    "d = C_val**2 - A_val**2\n",
    "\n",
    "xs = np.linspace(0, C_val+np.sqrt(d) + .3)\n",
    "def f(λ, C, A):\n",
    "    return λ**2 - 2 * C * λ + A**2\n",
    "\n",
    "fig = plt.figure(figsize=(8,4))\n",
    "\n",
    "\n",
    "ax = fig.add_subplot(111)\n",
    "\n",
    "ax.annotate(r\"$\\lambda^* = C$\", xy=(C_val, 0.0),\n",
    "             xycoords='data',\n",
    "             xytext=(1.5, 0.5),\n",
    "             textcoords='data',\n",
    "             arrowprops=dict(arrowstyle= '-|>',\n",
    "                             color='blue',\n",
    "                             lw=2.5,\n",
    "                             ls='--')\n",
    "           )\n",
    "\n",
    "ax.annotate(r\"$\\lambda_1 = C - \\sqrt{C^2 - A^2}$\", xy=(C_val-np.sqrt(d), 0.0),\n",
    "             xycoords='data',\n",
    "             xytext=(1.0, -0.75),\n",
    "             textcoords='data',\n",
    "             arrowprops=dict(arrowstyle= '-|>',\n",
    "                             color='blue',\n",
    "                             lw=2.5,\n",
    "                             ls='--')\n",
    "           )\n",
    "\n",
    "ax.annotate(r\"$\\lambda_2 = C + \\sqrt{C^2 - A^2}$\", xy=(C_val+np.sqrt(d), 0.0),\n",
    "             xycoords='data',\n",
    "             xytext=(2.5, -0.75),\n",
    "             textcoords='data',\n",
    "             arrowprops=dict(arrowstyle= '-|>',\n",
    "                             color='blue',\n",
    "                             lw=2.5,\n",
    "                             ls='--')\n",
    "           )\n",
    "\n",
    "ax.annotate(r\"$-C^2 + A^2$\", xy=(C_val+.1, -1.5), \n",
    "            xytext=(C_val+.7, -1.65), \n",
    "            xycoords='data', \n",
    "            textcoords='data',\n",
    "            ha='center', va='bottom',\n",
    "            bbox=dict(boxstyle='square', fc='white'),\n",
    "            arrowprops=dict(arrowstyle='-[, widthB=7.5, lengthB=1.0', lw=1.0))\n",
    "\n",
    "plt.plot(xs, f(xs, C_val, A_val))\n",
    "plt.hlines(0, 0, 4,'r', '--', alpha=.4)\n",
    "plt.vlines(C_val, 0, -3,'r', '--', alpha=.4)\n",
    "plt.xlabel(r\"$\\lambda$\", fontsize=14)\n",
    "plt.ylabel(r\"$f(\\lambda) = \\lambda^2 - 2C \\lambda +  A^2$\", fontsize=14)\n",
    "plt.xlim([0, np.max(xs)])\n",
    "\n",
    "plt.grid()\n",
    "plt.show()"
   ]
  },
  {
   "cell_type": "markdown",
   "id": "8ae72e7d",
   "metadata": {},
   "source": [
    "#### the maximum is at $\\lambda^* = C$ and equal to $f(\\lambda^*) = f(C) = -C^2 + A^2$, eigenvalues are \n",
    "<center>$\\lambda_1 = C - \\sqrt{ C^2 - A^2 }$,</center>\n",
    "<center>$\\lambda_2 = C + \\sqrt{ C^2 - A^2 }$,</center>"
   ]
  },
  {
   "cell_type": "markdown",
   "id": "53aa9ece",
   "metadata": {},
   "source": [
    "#### Having stable solution without diffusion is equivalent to say $\\lambda_2 = C + \\sqrt{C^2 - A^2} \\le 0$"
   ]
  },
  {
   "cell_type": "code",
   "execution_count": 209,
   "id": "f816adbc",
   "metadata": {
    "ExecuteTime": {
     "end_time": "2022-08-15T14:31:06.334636Z",
     "start_time": "2022-08-15T14:31:06.116035Z"
    }
   },
   "outputs": [
    {
     "data": {
      "image/png": "[encoded data removed]",
      "text/plain": [
       "<Figure size 432x288 with 2 Axes>"
      ]
     },
     "metadata": {},
     "output_type": "display_data"
    }
   ],
   "source": [
    "# Create a grid for C and A\n",
    "L = 5\n",
    "A_size = 200\n",
    "C_size = 200\n",
    "A_domain = L * np.linspace(-1, 1, A_size)\n",
    "C_domain = L * np.linspace(-1, 1, C_size)\n",
    "A_val, C_val = np.meshgrid(A_domain, C_domain, sparse=False, indexing=\"ij\")\n",
    "\n",
    "# Turn lambda_2 from symbolic function to a numeric function\n",
    "λ_2_f = lambdify([A, C], λ_2, modules='numpy')\n",
    "# Find lambda_2 values\n",
    "domain = λ_2_f(np.complex64(A_val) , np.complex64(C_val))\n",
    "\n",
    "stable = np.real(domain).copy()\n",
    "stable[stable < 0] = -1\n",
    "stable[stable > 0] = 0\n",
    "plt.style.use('seaborn-white')\n",
    "\n",
    "plt.contour(A_val, B_val, stable, cmap = 'RdGy',\n",
    "            levels=[-1,-.5,0], origin='lower')\n",
    "\n",
    "plt.contourf(A_val, B_val, stable, cmap = 'Pastel2',\n",
    "            levels=[-1,-.5,0], origin='lower')\n",
    "\n",
    "\n",
    "#plt.contourf(A_val, B_val, stable, cmap = 'Pastel1')\n",
    "#plt.imshow(stable, extent=[-5, 5, -5, 5],\n",
    "#           cmap='RdGy', alpha=0.5)\n",
    "#plt.contourf(A_val, B_val, stable, cmap = 'Pastel1')\n",
    "plt.xlabel(\"A\")\n",
    "plt.ylabel(\"B\")\n",
    "cbar = plt.colorbar()\n",
    "cbar.set_ticks([-1, 0])\n",
    "cbar.set_ticklabels(['Unstable', 'Stable'])\n",
    "#cbar.set_label('Color Intensity')\n",
    "\n",
    "plt.grid()\n",
    "plt.show()"
   ]
  },
  {
   "cell_type": "code",
   "execution_count": null,
   "id": "f2ced66c",
   "metadata": {},
   "outputs": [],
   "source": []
  },
  {
   "cell_type": "code",
   "execution_count": null,
   "id": "6b8b918b",
   "metadata": {},
   "outputs": [],
   "source": []
  },
  {
   "cell_type": "code",
   "execution_count": null,
   "id": "73eb8e8d",
   "metadata": {},
   "outputs": [],
   "source": []
  },
  {
   "cell_type": "code",
   "execution_count": 84,
   "id": "f7ef0c86",
   "metadata": {
    "ExecuteTime": {
     "end_time": "2022-08-15T12:20:26.404781Z",
     "start_time": "2022-08-15T12:20:26.372503Z"
    }
   },
   "outputs": [
    {
     "data": {
      "text/latex": [
       "Original $\\Delta$:"
      ],
      "text/plain": [
       "<IPython.core.display.Latex object>"
      ]
     },
     "metadata": {},
     "output_type": "display_data"
    },
    {
     "data": {
      "text/latex": [
       "$\\Delta=\\left(A^{2} - 2 A - B + 1\\right) \\left(A^{2} + 2 A - B + 1\\right)$"
      ],
      "text/plain": [
       "<IPython.core.display.Latex object>"
      ]
     },
     "metadata": {},
     "output_type": "display_data"
    },
    {
     "name": "stdout",
     "output_type": "stream",
     "text": [
      "Expand it:\n"
     ]
    },
    {
     "data": {
      "text/latex": [
       "$\\Delta=A^{4} - 2 A^{2} B - 2 A^{2} + B^{2} - 2 B + 1$"
      ],
      "text/plain": [
       "<IPython.core.display.Latex object>"
      ]
     },
     "metadata": {},
     "output_type": "display_data"
    },
    {
     "data": {
      "text/latex": [
       "Replace it by $\\lambda^*$=$\\frac{B-1-A^2}{2}$:"
      ],
      "text/plain": [
       "<IPython.core.display.Latex object>"
      ]
     },
     "metadata": {},
     "output_type": "display_data"
    },
    {
     "data": {
      "text/latex": [
       "$\\displaystyle A^{4} - 2 A^{2} B - 2 A^{2} + B^{2} - 2 B + 1$"
      ],
      "text/plain": [
       " 4      2        2    2          \n",
       "A  - 2⋅A ⋅B - 2⋅A  + B  - 2⋅B + 1"
      ]
     },
     "execution_count": 84,
     "metadata": {},
     "output_type": "execute_result"
    }
   ],
   "source": [
    "sqrt_delta = lambda_2.as_terms()[1][2]\n",
    "Delta = list(sqrt_delta.as_powers_dict())[0]\n",
    "Delta_f = lambdify([A, B],Delta, modules='numpy')\n",
    "lprint(\"Original {0}:\", \"\\Delta\")\n",
    "hprint(\"\\Delta=\",Delta)\n",
    "print(\"Expand it:\")\n",
    "hprint(\"\\Delta=\",expand(Delta))\n",
    "lprint(r\"Replace it by {0}={1}:\", r\"\\lambda^*\", r\"\\frac{B-1-A^2}{2}\")\n",
    "lambda_star = symbols(\"lambda_star\")\n",
    "expand(Delta).subs((B-1-A**2)/2, lambda_star)"
   ]
  },
  {
   "cell_type": "code",
   "execution_count": 87,
   "id": "9ebbae08",
   "metadata": {
    "ExecuteTime": {
     "end_time": "2022-08-15T12:33:10.911239Z",
     "start_time": "2022-08-15T12:33:10.907164Z"
    }
   },
   "outputs": [],
   "source": [
    "Delta = expand(Delta)"
   ]
  },
  {
   "cell_type": "code",
   "execution_count": 89,
   "id": "4bc08cb0",
   "metadata": {
    "ExecuteTime": {
     "end_time": "2022-08-15T12:36:06.674554Z",
     "start_time": "2022-08-15T12:36:06.665053Z"
    }
   },
   "outputs": [
    {
     "data": {
      "text/latex": [
       "$\\displaystyle A^{4} - 2 A^{2} B - 2 A^{2} + B^{2} - 2 B + 1$"
      ],
      "text/plain": [
       " 4      2        2    2          \n",
       "A  - 2⋅A ⋅B - 2⋅A  + B  - 2⋅B + 1"
      ]
     },
     "execution_count": 89,
     "metadata": {},
     "output_type": "execute_result"
    }
   ],
   "source": [
    "Delta.separate()"
   ]
  },
  {
   "cell_type": "code",
   "execution_count": null,
   "id": "99736a76",
   "metadata": {},
   "outputs": [],
   "source": []
  },
  {
   "cell_type": "markdown",
   "id": "3e97d575",
   "metadata": {},
   "source": [
    "#### To study the linear stability of the system without diffusion, it is suffice to check the sign of the real part of the largest eigenvalue. Since $\\lambda_2 > \\lambda_1$, the instabiility condition solely depends on $\\lambda_2$, so , we plot  $Re(\\lambda_2)$ on $A-B$ domain.\n",
    "\n"
   ]
  },
  {
   "cell_type": "code",
   "execution_count": null,
   "id": "b1cd4887",
   "metadata": {},
   "outputs": [],
   "source": []
  },
  {
   "cell_type": "code",
   "execution_count": null,
   "id": "e3f406d6",
   "metadata": {},
   "outputs": [],
   "source": []
  },
  {
   "cell_type": "markdown",
   "id": "f6644b02",
   "metadata": {},
   "source": [
    "#### Note that we use $\\Delta = (A^{2} - 2 A - B + 1) (A^{2} + 2 A - B + 1)$ to find when the eigenvalues are complex."
   ]
  },
  {
   "cell_type": "code",
   "execution_count": 19,
   "id": "178ba434",
   "metadata": {
    "ExecuteTime": {
     "end_time": "2022-08-15T11:54:00.943282Z",
     "start_time": "2022-08-15T11:54:00.917438Z"
    }
   },
   "outputs": [
    {
     "data": {
      "text/latex": [
       "$\\Delta=\\left(A^{2} - 2 A - B + 1\\right) \\left(A^{2} + 2 A - B + 1\\right)$"
      ],
      "text/plain": [
       "<IPython.core.display.Latex object>"
      ]
     },
     "metadata": {},
     "output_type": "display_data"
    }
   ],
   "source": [
    "sqrt_delta = lambda_2.as_terms()[1][2]\n",
    "Delta = list(sqrt_delta.as_powers_dict())[0]\n",
    "Delta_f = lambdify([A, B],Delta, modules='numpy')\n",
    "hprint(\"\\Delta=\",Delta)"
   ]
  },
  {
   "cell_type": "code",
   "execution_count": 20,
   "id": "bf3d1ab1",
   "metadata": {
    "ExecuteTime": {
     "end_time": "2022-08-15T11:54:08.355704Z",
     "start_time": "2022-08-15T11:54:08.339525Z"
    }
   },
   "outputs": [],
   "source": [
    "lambda_f = lambdify([A, B],lambda_2, modules='numpy')"
   ]
  },
  {
   "cell_type": "code",
   "execution_count": 21,
   "id": "1112ac6b",
   "metadata": {
    "ExecuteTime": {
     "end_time": "2022-08-15T11:54:10.247753Z",
     "start_time": "2022-08-15T11:54:10.238760Z"
    }
   },
   "outputs": [],
   "source": [
    "L = 5\n",
    "A_size = 200\n",
    "B_size = 200\n",
    "A_domain = L * np.linspace(-1, 1, A_size)\n",
    "B_domain = L * np.linspace(-1, 1, B_size)\n",
    "A_val, B_val = np.meshgrid(A_domain, B_domain, sparse=False, indexing=\"ij\")"
   ]
  },
  {
   "cell_type": "markdown",
   "id": "d6d7127e",
   "metadata": {},
   "source": [
    "Note: we first convert the real $A$ and $B$ to complex."
   ]
  },
  {
   "cell_type": "code",
   "execution_count": 22,
   "id": "9eac15cf",
   "metadata": {
    "ExecuteTime": {
     "end_time": "2022-08-15T11:54:14.165106Z",
     "start_time": "2022-08-15T11:54:13.867959Z"
    }
   },
   "outputs": [
    {
     "data": {
      "image/png": "[encoded data removed]",
      "text/plain": [
       "<Figure size 432x288 with 2 Axes>"
      ]
     },
     "metadata": {},
     "output_type": "display_data"
    }
   ],
   "source": [
    "domain = lambda_f(np.complex64(A_val) , np.complex64(B_val))\n",
    "stable = np.real(domain).copy()\n",
    "stable[stable < 0] = -1\n",
    "stable[stable > 0] = 0\n",
    "plt.style.use('seaborn-white')\n",
    "\n",
    "plt.contour(A_val, B_val, stable, cmap = 'RdGy',\n",
    "            levels=[-1,-.5,0], origin='lower')\n",
    "\n",
    "plt.contourf(A_val, B_val, stable, cmap = 'Pastel2',\n",
    "            levels=[-1,-.5,0], origin='lower')\n",
    "\n",
    "\n",
    "#plt.contourf(A_val, B_val, stable, cmap = 'Pastel1')\n",
    "#plt.imshow(stable, extent=[-5, 5, -5, 5],\n",
    "#           cmap='RdGy', alpha=0.5)\n",
    "#plt.contourf(A_val, B_val, stable, cmap = 'Pastel1')\n",
    "plt.xlabel(\"A\")\n",
    "plt.ylabel(\"B\")\n",
    "cbar = plt.colorbar()\n",
    "cbar.set_ticks([-1, 0])\n",
    "cbar.set_ticklabels(['Unstable', 'Stable'])\n",
    "#cbar.set_label('Color Intensity')\n",
    "\n",
    "plt.grid()\n",
    "plt.show()"
   ]
  },
  {
   "cell_type": "markdown",
   "id": "1bf943d9",
   "metadata": {},
   "source": [
    "#### Including the diffusion, we find the eigen-values $\\lambda_1(k)$ and $\\lambda_2(k)$ from\n",
    "\n",
    "<center>$J_2 = J - D$</center>"
   ]
  },
  {
   "cell_type": "code",
   "execution_count": 14,
   "id": "d29bedbc",
   "metadata": {
    "ExecuteTime": {
     "end_time": "2022-08-12T07:23:03.320939Z",
     "start_time": "2022-08-12T07:23:03.308987Z"
    }
   },
   "outputs": [
    {
     "data": {
      "text/latex": [
       "$J_2=\\left[\\begin{matrix}B - D_{u} k^{2} - 1 & A^{2}\\\\- B & - A^{2} - D_{v} k^{2}\\end{matrix}\\right]$"
      ],
      "text/plain": [
       "<IPython.core.display.Latex object>"
      ]
     },
     "metadata": {},
     "output_type": "display_data"
    }
   ],
   "source": [
    "J_2 = J - Matrix([[D_u*k**2, 0], [0, D_v*k**2]])\n",
    "hprint(\"J_2=\", J_2)"
   ]
  },
  {
   "cell_type": "code",
   "execution_count": 15,
   "id": "65fd3671",
   "metadata": {
    "ExecuteTime": {
     "end_time": "2022-08-12T07:28:58.494132Z",
     "start_time": "2022-08-12T07:28:58.218751Z"
    }
   },
   "outputs": [
    {
     "data": {
      "text/latex": [
       "$\\lambda_1(k) = - \\frac{A^{2}}{2} + \\frac{B}{2} - \\frac{D_{u} k^{2}}{2} - \\frac{D_{v} k^{2}}{2} - \\frac{\\sqrt{A^{4} - 2 A^{2} B - 2 A^{2} D_{u} k^{2} + 2 A^{2} D_{v} k^{2} - 2 A^{2} + B^{2} - 2 B D_{u} k^{2} + 2 B D_{v} k^{2} - 2 B + D_{u}^{2} k^{4} - 2 D_{u} D_{v} k^{4} + 2 D_{u} k^{2} + D_{v}^{2} k^{4} - 2 D_{v} k^{2} + 1}}{2} - \\frac{1}{2}$"
      ],
      "text/plain": [
       "<IPython.core.display.Latex object>"
      ]
     },
     "metadata": {},
     "output_type": "display_data"
    },
    {
     "data": {
      "text/latex": [
       "$\\lambda_2(k) = - \\frac{A^{2}}{2} + \\frac{B}{2} - \\frac{D_{u} k^{2}}{2} - \\frac{D_{v} k^{2}}{2} + \\frac{\\sqrt{A^{4} - 2 A^{2} B - 2 A^{2} D_{u} k^{2} + 2 A^{2} D_{v} k^{2} - 2 A^{2} + B^{2} - 2 B D_{u} k^{2} + 2 B D_{v} k^{2} - 2 B + D_{u}^{2} k^{4} - 2 D_{u} D_{v} k^{4} + 2 D_{u} k^{2} + D_{v}^{2} k^{4} - 2 D_{v} k^{2} + 1}}{2} - \\frac{1}{2}$"
      ],
      "text/plain": [
       "<IPython.core.display.Latex object>"
      ]
     },
     "metadata": {},
     "output_type": "display_data"
    }
   ],
   "source": [
    "lambda_k_1, lambda_k_2 =  list(J_2.eigenvals().keys())\n",
    "hprint(\"\\lambda_1(k) = \", lambda_k_1)\n",
    "hprint(\"\\lambda_2(k) = \", lambda_k_2)"
   ]
  },
  {
   "cell_type": "code",
   "execution_count": 59,
   "id": "3255c046",
   "metadata": {
    "ExecuteTime": {
     "end_time": "2022-08-12T08:37:45.685218Z",
     "start_time": "2022-08-12T08:37:45.646469Z"
    }
   },
   "outputs": [
    {
     "data": {
      "text/latex": [
       "$\\displaystyle \\left[ - \\frac{A^{2}}{2}, \\  \\frac{B}{2}, \\  - \\frac{D_{u} k^{2}}{2}, \\  - \\frac{D_{v} k^{2}}{2}, \\  \\frac{\\sqrt{A^{4} - 2 A^{2} B - 2 A^{2} D_{u} k^{2} + 2 A^{2} D_{v} k^{2} - 2 A^{2} + B^{2} - 2 B D_{u} k^{2} + 2 B D_{v} k^{2} - 2 B + D_{u}^{2} k^{4} - 2 D_{u} D_{v} k^{4} + 2 D_{u} k^{2} + D_{v}^{2} k^{4} - 2 D_{v} k^{2} + 1}}{2}, \\  - \\frac{1}{2}\\right]$"
      ],
      "text/plain": [
       "⎡                              ______________________________________________________________________________________\n",
       "⎢  2           2        2     ╱  4      2        2     2      2     2      2    2           2           2           2\n",
       "⎢-A    B  -Dᵤ⋅k    -Dᵥ⋅k    ╲╱  A  - 2⋅A ⋅B - 2⋅A ⋅Dᵤ⋅k  + 2⋅A ⋅Dᵥ⋅k  - 2⋅A  + B  - 2⋅B⋅Dᵤ⋅k  + 2⋅B⋅Dᵥ⋅k  - 2⋅B + Dᵤ \n",
       "⎢────, ─, ───────, ───────, ─────────────────────────────────────────────────────────────────────────────────────────\n",
       "⎣ 2    2     2        2                                                                          2                   \n",
       "\n",
       "__________________________________________________      ⎤\n",
       "  4            4         2     2  4         2           ⎥\n",
       "⋅k  - 2⋅Dᵤ⋅Dᵥ⋅k  + 2⋅Dᵤ⋅k  + Dᵥ ⋅k  - 2⋅Dᵥ⋅k  + 1       ⎥\n",
       "──────────────────────────────────────────────────, -1/2⎥\n",
       "                                                        ⎦"
      ]
     },
     "execution_count": 59,
     "metadata": {},
     "output_type": "execute_result"
    }
   ],
   "source": [
    "lambda_k_2.as_ordered_terms()"
   ]
  },
  {
   "cell_type": "code",
   "execution_count": 63,
   "id": "5202a166",
   "metadata": {
    "ExecuteTime": {
     "end_time": "2022-08-12T08:39:26.344934Z",
     "start_time": "2022-08-12T08:39:26.296887Z"
    }
   },
   "outputs": [
    {
     "data": {
      "text/latex": [
       "$\\displaystyle - \\frac{A^{2}}{2} + \\frac{B}{2} - \\frac{1}{2}$"
      ],
      "text/plain": [
       "   2        \n",
       "  A    B   1\n",
       "- ── + ─ - ─\n",
       "  2    2   2"
      ]
     },
     "metadata": {},
     "output_type": "display_data"
    },
    {
     "data": {
      "text/latex": [
       "$\\displaystyle - \\frac{A^{2}}{2} + \\frac{B}{2} - \\frac{D_{u} k^{2}}{2} - \\frac{D_{v} k^{2}}{2} + \\frac{\\sqrt{A^{4} - 2 A^{2} B - 2 A^{2} D_{u} k^{2} + 2 A^{2} D_{v} k^{2} - 2 A^{2} + B^{2} - 2 B D_{u} k^{2} + 2 B D_{v} k^{2} - 2 B + D_{u}^{2} k^{4} - 2 D_{u} D_{v} k^{4} + 2 D_{u} k^{2} + D_{v}^{2} k^{4} - 2 D_{v} k^{2} + 1}}{2} - \\frac{1}{2}$"
      ],
      "text/plain": [
       "                              _______________________________________________________________________________________\n",
       "   2           2       2     ╱  4      2        2     2      2     2      2    2           2           2           2 \n",
       "  A    B   Dᵤ⋅k    Dᵥ⋅k    ╲╱  A  - 2⋅A ⋅B - 2⋅A ⋅Dᵤ⋅k  + 2⋅A ⋅Dᵥ⋅k  - 2⋅A  + B  - 2⋅B⋅Dᵤ⋅k  + 2⋅B⋅Dᵥ⋅k  - 2⋅B + Dᵤ ⋅\n",
       "- ── + ─ - ───── - ───── + ──────────────────────────────────────────────────────────────────────────────────────────\n",
       "  2    2     2       2                                                                          2                    \n",
       "\n",
       "_________________________________________________    \n",
       " 4            4         2     2  4         2         \n",
       "k  - 2⋅Dᵤ⋅Dᵥ⋅k  + 2⋅Dᵤ⋅k  + Dᵥ ⋅k  - 2⋅Dᵥ⋅k  + 1    1\n",
       "───────────────────────────────────────────────── - ─\n",
       "                                                    2"
      ]
     },
     "execution_count": 63,
     "metadata": {},
     "output_type": "execute_result"
    }
   ],
   "source": [
    "t1, t2, t3, t4, t5, t6 = lambda_k_2.as_ordered_terms()\n",
    "lambda_star = t1+t2+t6\n",
    "display(lambda_star)\n",
    "lambda_k_22 = lambda_star + t3 + t4 + t5\n",
    "lambda_k_22"
   ]
  },
  {
   "cell_type": "markdown",
   "id": "9582bced",
   "metadata": {},
   "source": [
    "#### Plot the wave-numbers envelope"
   ]
  },
  {
   "cell_type": "code",
   "execution_count": 70,
   "id": "3049d998",
   "metadata": {
    "ExecuteTime": {
     "end_time": "2022-08-12T09:16:02.036255Z",
     "start_time": "2022-08-12T09:16:01.842185Z"
    }
   },
   "outputs": [
    {
     "name": "stderr",
     "output_type": "stream",
     "text": [
      "/usr/local/anaconda3/envs/sympy/lib/python3.10/site-packages/matplotlib/cbook/__init__.py:1298: ComplexWarning: Casting complex values to real discards the imaginary part\n",
      "  return np.asarray(x, float)\n",
      "/usr/local/anaconda3/envs/sympy/lib/python3.10/site-packages/matplotlib/cbook/__init__.py:1298: ComplexWarning: Casting complex values to real discards the imaginary part\n",
      "  return np.asarray(x, float)\n"
     ]
    },
    {
     "data": {
      "image/png": "[encoded data removed]",
      "text/plain": [
       "<Figure size 576x288 with 1 Axes>"
      ]
     },
     "metadata": {},
     "output_type": "display_data"
    }
   ],
   "source": [
    "lambda_k_2_f = lambdify([k, A, B, D_u, D_v],lambda_k_2, modules='numpy')\n",
    "\n",
    "ks = np.complex64(np.linspace(0.5, 1, num=50))\n",
    "\n",
    "k_c_2 = ((B - 1) * D_v - A**2 * D_u)/(2 * D_u * D_v)\n",
    "k_c_2_f = lambdify([A, B, D_u, D_v], k_c_2, modules='numpy')\n",
    "\n",
    "fig = plt.figure(figsize=(8,4))\n",
    "plt.style.use('fivethirtyeight')\n",
    "plt.plot(ks, np.real(lambda_k_2_f(ks, A = 2, B = 3, D_u = 1, D_v = 10)), label='Real')\n",
    "plt.plot(ks, np.imag(lambda_k_2_f(ks, A = 2, B = 3, D_u = 1, D_v = 10)), '--', label='Imaginary')\n",
    "\n",
    "plt.vlines(np.sqrt(k_c_2_f(A = 2, B = 3, D_u = 1, D_v = 10)), -.2 , .3)\n",
    "plt.xlabel(r\"$k$\")\n",
    "plt.ylabel(r\"$\\lambda(k)$\")\n",
    "plt.legend()\n",
    "#plt.grid()\n",
    "plt.show()"
   ]
  },
  {
   "cell_type": "markdown",
   "id": "f2efdf12",
   "metadata": {},
   "source": [
    "#### Finding the maximum of $\\lambda_2(k)$, namely $k_c$ as the dominant wave-number"
   ]
  },
  {
   "cell_type": "code",
   "execution_count": 45,
   "id": "6a0aa22b",
   "metadata": {
    "ExecuteTime": {
     "end_time": "2022-08-12T07:55:10.539735Z",
     "start_time": "2022-08-12T07:55:09.398279Z"
    }
   },
   "outputs": [
    {
     "data": {
      "text/latex": [
       "$\\displaystyle \\left\\{0, - \\sqrt{\\frac{A^{2} D_{u} D_{v}}{D_{u}^{2} D_{v} - D_{u} D_{v}^{2}} - \\frac{A D_{u} \\sqrt{B D_{u} D_{v}}}{D_{u}^{2} D_{v} - D_{u} D_{v}^{2}} - \\frac{A D_{v} \\sqrt{B D_{u} D_{v}}}{D_{u}^{2} D_{v} - D_{u} D_{v}^{2}} + \\frac{B D_{u} D_{v}}{D_{u}^{2} D_{v} - D_{u} D_{v}^{2}} - \\frac{D_{u} D_{v}}{D_{u}^{2} D_{v} - D_{u} D_{v}^{2}}}, \\sqrt{\\frac{A^{2} D_{u} D_{v}}{D_{u}^{2} D_{v} - D_{u} D_{v}^{2}} - \\frac{A D_{u} \\sqrt{B D_{u} D_{v}}}{D_{u}^{2} D_{v} - D_{u} D_{v}^{2}} - \\frac{A D_{v} \\sqrt{B D_{u} D_{v}}}{D_{u}^{2} D_{v} - D_{u} D_{v}^{2}} + \\frac{B D_{u} D_{v}}{D_{u}^{2} D_{v} - D_{u} D_{v}^{2}} - \\frac{D_{u} D_{v}}{D_{u}^{2} D_{v} - D_{u} D_{v}^{2}}}, - \\sqrt{\\frac{A^{2} D_{u} D_{v}}{D_{u}^{2} D_{v} - D_{u} D_{v}^{2}} + \\frac{A D_{u} \\sqrt{B D_{u} D_{v}}}{D_{u}^{2} D_{v} - D_{u} D_{v}^{2}} + \\frac{A D_{v} \\sqrt{B D_{u} D_{v}}}{D_{u}^{2} D_{v} - D_{u} D_{v}^{2}} + \\frac{B D_{u} D_{v}}{D_{u}^{2} D_{v} - D_{u} D_{v}^{2}} - \\frac{D_{u} D_{v}}{D_{u}^{2} D_{v} - D_{u} D_{v}^{2}}}, \\sqrt{\\frac{A^{2} D_{u} D_{v}}{D_{u}^{2} D_{v} - D_{u} D_{v}^{2}} + \\frac{A D_{u} \\sqrt{B D_{u} D_{v}}}{D_{u}^{2} D_{v} - D_{u} D_{v}^{2}} + \\frac{A D_{v} \\sqrt{B D_{u} D_{v}}}{D_{u}^{2} D_{v} - D_{u} D_{v}^{2}} + \\frac{B D_{u} D_{v}}{D_{u}^{2} D_{v} - D_{u} D_{v}^{2}} - \\frac{D_{u} D_{v}}{D_{u}^{2} D_{v} - D_{u} D_{v}^{2}}}\\right\\} \\setminus \\left\\{- \\sqrt{\\frac{A^{2}}{D_{u} - D_{v}} - \\frac{2 A \\sqrt{B}}{D_{u} - D_{v}} + \\frac{B}{D_{u} - D_{v}} - \\frac{1}{D_{u} - D_{v}}}, \\sqrt{\\frac{A^{2}}{D_{u} - D_{v}} - \\frac{2 A \\sqrt{B}}{D_{u} - D_{v}} + \\frac{B}{D_{u} - D_{v}} - \\frac{1}{D_{u} - D_{v}}}, - \\sqrt{\\frac{A^{2}}{D_{u} - D_{v}} + \\frac{2 A \\sqrt{B}}{D_{u} - D_{v}} + \\frac{B}{D_{u} - D_{v}} - \\frac{1}{D_{u} - D_{v}}}, \\sqrt{\\frac{A^{2}}{D_{u} - D_{v}} + \\frac{2 A \\sqrt{B}}{D_{u} - D_{v}} + \\frac{B}{D_{u} - D_{v}} - \\frac{1}{D_{u} - D_{v}}}\\right\\}$"
      ],
      "text/plain": [
       "⎧          ___________________________________________________________________________________________        _______\n",
       "⎪         ╱      2                   _________          _________                                            ╱      2\n",
       "⎪        ╱      A ⋅Dᵤ⋅Dᵥ      A⋅Dᵤ⋅╲╱ B⋅Dᵤ⋅Dᵥ    A⋅Dᵥ⋅╲╱ B⋅Dᵤ⋅Dᵥ        B⋅Dᵤ⋅Dᵥ            Dᵤ⋅Dᵥ            ╱      A \n",
       "⎨0, -   ╱   ─────────────── - ──────────────── - ──────────────── + ─────────────── - ─────────────── ,    ╱   ──────\n",
       "⎪      ╱      2           2     2           2      2           2      2           2     2           2     ╱      2   \n",
       "⎪    ╲╱     Dᵤ ⋅Dᵥ - Dᵤ⋅Dᵥ    Dᵤ ⋅Dᵥ - Dᵤ⋅Dᵥ     Dᵤ ⋅Dᵥ - Dᵤ⋅Dᵥ     Dᵤ ⋅Dᵥ - Dᵤ⋅Dᵥ    Dᵤ ⋅Dᵥ - Dᵤ⋅Dᵥ    ╲╱     Dᵤ ⋅Dᵥ\n",
       "⎩                                                                                                                    \n",
       "\n",
       "____________________________________________________________________________________         ________________________\n",
       "                   _________          _________                                             ╱      2                 \n",
       "⋅Dᵤ⋅Dᵥ      A⋅Dᵤ⋅╲╱ B⋅Dᵤ⋅Dᵥ    A⋅Dᵥ⋅╲╱ B⋅Dᵤ⋅Dᵥ        B⋅Dᵤ⋅Dᵥ            Dᵤ⋅Dᵥ             ╱      A ⋅Dᵤ⋅Dᵥ      A⋅Dᵤ⋅\n",
       "───────── - ──────────────── - ──────────────── + ─────────────── - ─────────────── , -   ╱   ─────────────── + ─────\n",
       "        2     2           2      2           2      2           2     2           2      ╱      2           2     2  \n",
       " - Dᵤ⋅Dᵥ    Dᵤ ⋅Dᵥ - Dᵤ⋅Dᵥ     Dᵤ ⋅Dᵥ - Dᵤ⋅Dᵥ     Dᵤ ⋅Dᵥ - Dᵤ⋅Dᵥ    Dᵤ ⋅Dᵥ - Dᵤ⋅Dᵥ     ╲╱     Dᵤ ⋅Dᵥ - Dᵤ⋅Dᵥ    Dᵤ ⋅D\n",
       "                                                                                                                     \n",
       "\n",
       "___________________________________________________________________        __________________________________________\n",
       "  _________          _________                                            ╱      2                   _________       \n",
       "╲╱ B⋅Dᵤ⋅Dᵥ    A⋅Dᵥ⋅╲╱ B⋅Dᵤ⋅Dᵥ        B⋅Dᵤ⋅Dᵥ            Dᵤ⋅Dᵥ            ╱      A ⋅Dᵤ⋅Dᵥ      A⋅Dᵤ⋅╲╱ B⋅Dᵤ⋅Dᵥ    A⋅Dᵥ\n",
       "─────────── + ──────────────── + ─────────────── - ─────────────── ,    ╱   ─────────────── + ──────────────── + ────\n",
       "         2      2           2      2           2     2           2     ╱      2           2     2           2      2 \n",
       "ᵥ - Dᵤ⋅Dᵥ     Dᵤ ⋅Dᵥ - Dᵤ⋅Dᵥ     Dᵤ ⋅Dᵥ - Dᵤ⋅Dᵥ    Dᵤ ⋅Dᵥ - Dᵤ⋅Dᵥ    ╲╱     Dᵤ ⋅Dᵥ - Dᵤ⋅Dᵥ    Dᵤ ⋅Dᵥ - Dᵤ⋅Dᵥ     Dᵤ ⋅\n",
       "                                                                                                                     \n",
       "\n",
       "_________________________________________________⎫   ⎧      _______________________________________       ___________\n",
       "   _________                                     ⎪   ⎪     ╱     2                                       ╱     2     \n",
       "⋅╲╱ B⋅Dᵤ⋅Dᵥ        B⋅Dᵤ⋅Dᵥ            Dᵤ⋅Dᵥ      ⎪   ⎨    ╱     A       2⋅A⋅√B      B         1         ╱     A      \n",
       "──────────── + ─────────────── - ─────────────── ⎬ \\ ⎪-  ╱   ─────── - ─────── + ─────── - ─────── ,   ╱   ─────── - \n",
       "          2      2           2     2           2 ⎪   ⎩ ╲╱    Dᵤ - Dᵥ   Dᵤ - Dᵥ   Dᵤ - Dᵥ   Dᵤ - Dᵥ   ╲╱    Dᵤ - Dᵥ   \n",
       "Dᵥ - Dᵤ⋅Dᵥ     Dᵤ ⋅Dᵥ - Dᵤ⋅Dᵥ    Dᵤ ⋅Dᵥ - Dᵤ⋅Dᵥ  ⎪                                                                   \n",
       "                                                 ⎭                                                                   \n",
       "\n",
       "____________________________        _______________________________________       ___________________________________\n",
       "                                   ╱     2                                       ╱     2                             \n",
       " 2⋅A⋅√B      B         1          ╱     A       2⋅A⋅√B      B         1         ╱     A       2⋅A⋅√B      B         1\n",
       "─────── + ─────── - ─────── , -  ╱   ─────── + ─────── + ─────── - ─────── ,   ╱   ─────── + ─────── + ─────── - ────\n",
       "Dᵤ - Dᵥ   Dᵤ - Dᵥ   Dᵤ - Dᵥ    ╲╱    Dᵤ - Dᵥ   Dᵤ - Dᵥ   Dᵤ - Dᵥ   Dᵤ - Dᵥ   ╲╱    Dᵤ - Dᵥ   Dᵤ - Dᵥ   Dᵤ - Dᵥ   Dᵤ -\n",
       "                                                                                                                     \n",
       "                                                                                                                     \n",
       "\n",
       "____⎫\n",
       "    ⎪\n",
       "    ⎬\n",
       "─── ⎪\n",
       " Dᵥ ⎭\n",
       "     \n",
       "     "
      ]
     },
     "execution_count": 45,
     "metadata": {},
     "output_type": "execute_result"
    }
   ],
   "source": [
    "solveset(lambda_k_2.diff(k), k)"
   ]
  },
  {
   "cell_type": "code",
   "execution_count": 52,
   "id": "0a552a84",
   "metadata": {
    "ExecuteTime": {
     "end_time": "2022-08-12T08:08:36.474940Z",
     "start_time": "2022-08-12T08:08:36.421150Z"
    }
   },
   "outputs": [
    {
     "data": {
      "text/latex": [
       "$\\displaystyle - D_{u} k - D_{v} k + \\frac{- 2 A^{2} D_{u} k + 2 A^{2} D_{v} k - 2 B D_{u} k + 2 B D_{v} k + 2 D_{u}^{2} k^{3} - 4 D_{u} D_{v} k^{3} + 2 D_{u} k + 2 D_{v}^{2} k^{3} - 2 D_{v} k}{2 \\sqrt{A^{4} - 2 A^{2} B - 2 A^{2} D_{u} k^{2} + 2 A^{2} D_{v} k^{2} - 2 A^{2} + B^{2} - 2 B D_{u} k^{2} + 2 B D_{v} k^{2} - 2 B + D_{u}^{2} k^{4} - 2 D_{u} D_{v} k^{4} + 2 D_{u} k^{2} + D_{v}^{2} k^{4} - 2 D_{v} k^{2} + 1}}$"
      ],
      "text/plain": [
       "                                          2           2                                  2  3            3           \n",
       "                                     - 2⋅A ⋅Dᵤ⋅k + 2⋅A ⋅Dᵥ⋅k - 2⋅B⋅Dᵤ⋅k + 2⋅B⋅Dᵥ⋅k + 2⋅Dᵤ ⋅k  - 4⋅Dᵤ⋅Dᵥ⋅k  + 2⋅Dᵤ⋅k +\n",
       "-Dᵤ⋅k - Dᵥ⋅k + ──────────────────────────────────────────────────────────────────────────────────────────────────────\n",
       "                    _________________________________________________________________________________________________\n",
       "                   ╱  4      2        2     2      2     2      2    2           2           2           2  4        \n",
       "               2⋅╲╱  A  - 2⋅A ⋅B - 2⋅A ⋅Dᵤ⋅k  + 2⋅A ⋅Dᵥ⋅k  - 2⋅A  + B  - 2⋅B⋅Dᵤ⋅k  + 2⋅B⋅Dᵥ⋅k  - 2⋅B + Dᵤ ⋅k  - 2⋅Dᵤ⋅\n",
       "\n",
       "     2  3                              \n",
       " 2⋅Dᵥ ⋅k  - 2⋅Dᵥ⋅k                     \n",
       "───────────────────────────────────────\n",
       "_______________________________________\n",
       "    4         2     2  4         2     \n",
       "Dᵥ⋅k  + 2⋅Dᵤ⋅k  + Dᵥ ⋅k  - 2⋅Dᵥ⋅k  + 1 "
      ]
     },
     "execution_count": 52,
     "metadata": {},
     "output_type": "execute_result"
    }
   ],
   "source": [
    "lambda_k_2.diff(k)#.subs(k, sqrt( ((B-1)*D_v - A**2 * D_u)/(2*D_u*D_v) ))"
   ]
  },
  {
   "cell_type": "code",
   "execution_count": null,
   "id": "108dc55a",
   "metadata": {},
   "outputs": [],
   "source": []
  },
  {
   "cell_type": "code",
   "execution_count": null,
   "id": "03cd32b5",
   "metadata": {},
   "outputs": [],
   "source": []
  }
 ],
 "metadata": {
  "kernelspec": {
   "display_name": "Python 3 (ipykernel)",
   "language": "python",
   "name": "python3"
  },
  "language_info": {
   "codemirror_mode": {
    "name": "ipython",
    "version": 3
   },
   "file_extension": ".py",
   "mimetype": "text/x-python",
   "name": "python",
   "nbconvert_exporter": "python",
   "pygments_lexer": "ipython3",
   "version": "3.10.4"
  },
  "varInspector": {
   "cols": {
    "lenName": 16,
    "lenType": 16,
    "lenVar": 40
   },
   "kernels_config": {
    "python": {
     "delete_cmd_postfix": "",
     "delete_cmd_prefix": "del ",
     "library": "var_list.py",
     "varRefreshCmd": "print(var_dic_list())"
    },
    "r": {
     "delete_cmd_postfix": ") ",
     "delete_cmd_prefix": "rm(",
     "library": "var_list.r",
     "varRefreshCmd": "cat(var_dic_list()) "
    }
   },
   "types_to_exclude": [
    "module",
    "function",
    "builtin_function_or_method",
    "instance",
    "_Feature"
   ],
   "window_display": false
  }
 },
 "nbformat": 4,
 "nbformat_minor": 5
}
