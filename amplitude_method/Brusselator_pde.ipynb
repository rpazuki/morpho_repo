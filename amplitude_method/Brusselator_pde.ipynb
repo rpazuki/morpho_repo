{
 "cells": [
  {
   "cell_type": "code",
   "execution_count": 1,
   "id": "c1aebf2c",
   "metadata": {
    "ExecuteTime": {
     "end_time": "2022-08-15T15:51:02.334582Z",
     "start_time": "2022-08-15T15:51:01.128670Z"
    }
   },
   "outputs": [],
   "source": [
    "from sympy import *\n",
    "import numpy as np\n",
    "import matplotlib.pyplot as plt\n",
    "from IPython.display import display, Latex"
   ]
  },
  {
   "cell_type": "code",
   "execution_count": 2,
   "id": "3e084100",
   "metadata": {
    "ExecuteTime": {
     "end_time": "2022-08-15T15:51:02.940376Z",
     "start_time": "2022-08-15T15:51:02.933799Z"
    }
   },
   "outputs": [],
   "source": [
    "init_printing(use_latex='mathjax')#(use_latex=True)"
   ]
  },
  {
   "cell_type": "code",
   "execution_count": 3,
   "id": "3d3025ef",
   "metadata": {
    "ExecuteTime": {
     "end_time": "2022-08-15T15:51:03.608700Z",
     "start_time": "2022-08-15T15:51:03.603691Z"
    }
   },
   "outputs": [],
   "source": [
    "def hprint(header, obj):\n",
    "    display(Latex(r\"$\" + header +latex(obj)+r\"$\") )"
   ]
  },
  {
   "cell_type": "markdown",
   "id": "5f921406",
   "metadata": {},
   "source": [
    "#### Define a list of parameters"
   ]
  },
  {
   "cell_type": "code",
   "execution_count": 4,
   "id": "c3c56a86",
   "metadata": {
    "ExecuteTime": {
     "end_time": "2022-08-15T15:51:04.940227Z",
     "start_time": "2022-08-15T15:51:04.932851Z"
    }
   },
   "outputs": [],
   "source": [
    "A, B, D_u, D_v, u, v = symbols('A, B, D_u, D_v, u, v', real=True)\n",
    "k = symbols('k', integer=True)"
   ]
  },
  {
   "cell_type": "markdown",
   "id": "a77d7c4d",
   "metadata": {},
   "source": [
    "> The Brusselator PDEs are as follows\n",
    "\n",
    "<h3><center>$\\partial_t u = D_u (\\partial_x^2 + \\partial_y^2)u + A - (B+1)u + u^2v$</center></h3>\n",
    "\n",
    "<h3><center>$\\partial_t v = D_v (\\partial_x^2 + \\partial_y^2)v + Bu - u^2 v$</center></h3>\n",
    "Then, we define kinetic terms as\n",
    "\n",
    "<h3><center>$f(u,v) = A - (B+1)u + u^2v$</center></h3>\n",
    "<h3><center>$g(u,v) = Bu - u^2 v$</center></h3>"
   ]
  },
  {
   "cell_type": "code",
   "execution_count": 5,
   "id": "2bdf4123",
   "metadata": {
    "ExecuteTime": {
     "end_time": "2022-08-15T15:51:06.429638Z",
     "start_time": "2022-08-15T15:51:06.383352Z"
    }
   },
   "outputs": [],
   "source": [
    "f = A - (B + 1) * u + u**2 * v\n",
    "g = B * u - u**2 * v"
   ]
  },
  {
   "cell_type": "markdown",
   "id": "1e66b819",
   "metadata": {},
   "source": [
    "#### which as a vector, we can define it like"
   ]
  },
  {
   "cell_type": "code",
   "execution_count": 6,
   "id": "cf568d53",
   "metadata": {
    "ExecuteTime": {
     "end_time": "2022-08-15T15:51:07.705453Z",
     "start_time": "2022-08-15T15:51:07.500062Z"
    }
   },
   "outputs": [
    {
     "data": {
      "text/latex": [
       "$\\displaystyle \\left[\\begin{matrix}A + u^{2} v - u \\left(B + 1\\right)\\\\B u - u^{2} v\\end{matrix}\\right]$"
      ],
      "text/plain": [
       "⎡     2              ⎤\n",
       "⎢A + u ⋅v - u⋅(B + 1)⎥\n",
       "⎢                    ⎥\n",
       "⎢            2       ⎥\n",
       "⎣     B⋅u - u ⋅v     ⎦"
      ]
     },
     "execution_count": 6,
     "metadata": {},
     "output_type": "execute_result"
    }
   ],
   "source": [
    "Kinetic = Matrix([[f], [g]])\n",
    "Kinetic"
   ]
  },
  {
   "cell_type": "markdown",
   "id": "28579547",
   "metadata": {},
   "source": [
    "#### First, we find the fix points of the system without diffusion. \n",
    "\n",
    "<center>$f(u,v) = A - (B+1)u + u^2v = 0$</center>\n",
    "<center>$g(u,v) = Bu - u^2 v = 0$</center>\n",
    "\n",
    "The solution of the above system finds $u^*$ and $v^*$ such that\n",
    "<center>$f(u^*, v^*) = 0$</center>\n",
    "<center>$g(u^*, v^*) = 0$</center>\n",
    "which are"
   ]
  },
  {
   "cell_type": "code",
   "execution_count": 7,
   "id": "b03594fd",
   "metadata": {
    "ExecuteTime": {
     "end_time": "2022-08-15T15:51:08.783884Z",
     "start_time": "2022-08-15T15:51:08.749442Z"
    }
   },
   "outputs": [
    {
     "data": {
      "text/latex": [
       "$u^* = A$"
      ],
      "text/plain": [
       "<IPython.core.display.Latex object>"
      ]
     },
     "metadata": {},
     "output_type": "display_data"
    },
    {
     "data": {
      "text/latex": [
       "$v^* = \\frac{B}{A}$"
      ],
      "text/plain": [
       "<IPython.core.display.Latex object>"
      ]
     },
     "metadata": {},
     "output_type": "display_data"
    }
   ],
   "source": [
    "u_star, v_star = solve(Kinetic, (u, v))[0]\n",
    "hprint(\"u^* = \", u_star)\n",
    "hprint(\"v^* = \", v_star)"
   ]
  },
  {
   "cell_type": "markdown",
   "id": "b8b09ed5",
   "metadata": {},
   "source": [
    "#### Next, to linearise the PDE system, we find the Jacobian of $(f, g)$ that evaluated at $(u^*, v^*)$ "
   ]
  },
  {
   "cell_type": "code",
   "execution_count": 8,
   "id": "37f19784",
   "metadata": {
    "ExecuteTime": {
     "end_time": "2022-08-15T15:51:09.956348Z",
     "start_time": "2022-08-15T15:51:09.934376Z"
    }
   },
   "outputs": [
    {
     "data": {
      "text/latex": [
       "$J=\\left[\\begin{matrix}- B + 2 u v - 1 & u^{2}\\\\B - 2 u v & - u^{2}\\end{matrix}\\right]$"
      ],
      "text/plain": [
       "<IPython.core.display.Latex object>"
      ]
     },
     "metadata": {},
     "output_type": "display_data"
    },
    {
     "data": {
      "text/latex": [
       "$J|_{(u^*, v^*)} =\\left[\\begin{matrix}B - 1 & A^{2}\\\\- B & - A^{2}\\end{matrix}\\right]$"
      ],
      "text/plain": [
       "<IPython.core.display.Latex object>"
      ]
     },
     "metadata": {},
     "output_type": "display_data"
    }
   ],
   "source": [
    "J = Kinetic.jacobian([u, v])\n",
    "hprint(\"J=\", J)\n",
    "J = J.subs([(u, u_star), (v, v_star)])\n",
    "hprint(\"J|_{(u^*, v^*)} =\", J)"
   ]
  },
  {
   "cell_type": "markdown",
   "id": "7af3b535",
   "metadata": {},
   "source": [
    "#### And the eigen-values of the resulting matrix in terms of parameters $A$ and $B$ are"
   ]
  },
  {
   "cell_type": "code",
   "execution_count": 9,
   "id": "75a20cd4",
   "metadata": {
    "ExecuteTime": {
     "end_time": "2022-08-15T15:51:11.341843Z",
     "start_time": "2022-08-15T15:51:11.270253Z"
    }
   },
   "outputs": [
    {
     "data": {
      "text/latex": [
       "$\\lambda_1 = - \\frac{A^{2}}{2} + \\frac{B}{2} - \\frac{\\sqrt{\\left(A^{2} - 2 A - B + 1\\right) \\left(A^{2} + 2 A - B + 1\\right)}}{2} - \\frac{1}{2}$"
      ],
      "text/plain": [
       "<IPython.core.display.Latex object>"
      ]
     },
     "metadata": {},
     "output_type": "display_data"
    },
    {
     "data": {
      "text/latex": [
       "$\\lambda_2 = - \\frac{A^{2}}{2} + \\frac{B}{2} + \\frac{\\sqrt{\\left(A^{2} - 2 A - B + 1\\right) \\left(A^{2} + 2 A - B + 1\\right)}}{2} - \\frac{1}{2}$"
      ],
      "text/plain": [
       "<IPython.core.display.Latex object>"
      ]
     },
     "metadata": {},
     "output_type": "display_data"
    }
   ],
   "source": [
    "lambda_1, lambda_2 =  list(J.eigenvals().keys())\n",
    "hprint(\"\\lambda_1 = \", lambda_1)\n",
    "hprint(\"\\lambda_2 = \", lambda_2)"
   ]
  },
  {
   "cell_type": "markdown",
   "id": "3e97d575",
   "metadata": {},
   "source": [
    "#### To study the linear stability of the system without diffusion, it is suffice to check the sign of the real part of the largest eigen-value. Since $\\lambda_2 < \\lambda_1$, we plot  $Re(\\lambda_1)$ on $A-B$ domain.\n",
    "\n",
    "#### Note that we use $\\Delta_1 = (A^{2} - 2 A - B + 1) (A^{2} + 2 A - B + 1)$ to find when the eigen-values are complex."
   ]
  },
  {
   "cell_type": "code",
   "execution_count": 10,
   "id": "178ba434",
   "metadata": {
    "ExecuteTime": {
     "end_time": "2022-08-15T15:51:12.772582Z",
     "start_time": "2022-08-15T15:51:12.750546Z"
    }
   },
   "outputs": [
    {
     "data": {
      "text/latex": [
       "$\\Delta_1=\\left(A^{2} - 2 A - B + 1\\right) \\left(A^{2} + 2 A - B + 1\\right)$"
      ],
      "text/plain": [
       "<IPython.core.display.Latex object>"
      ]
     },
     "metadata": {},
     "output_type": "display_data"
    }
   ],
   "source": [
    "sqrt_delta = lambda_1.as_terms()[1][2]\n",
    "Delta_1 = list(sqrt_delta.as_powers_dict())[0]\n",
    "Delta_f = lambdify([A, B],Delta_1, modules='numpy')\n",
    "hprint(\"\\Delta_1=\",Delta_1)"
   ]
  },
  {
   "cell_type": "code",
   "execution_count": 11,
   "id": "bf3d1ab1",
   "metadata": {
    "ExecuteTime": {
     "end_time": "2022-08-15T15:51:13.540632Z",
     "start_time": "2022-08-15T15:51:13.525080Z"
    }
   },
   "outputs": [],
   "source": [
    "lambda_f = lambdify([A, B],lambda_1, modules='numpy')"
   ]
  },
  {
   "cell_type": "code",
   "execution_count": 12,
   "id": "1112ac6b",
   "metadata": {
    "ExecuteTime": {
     "end_time": "2022-08-15T15:51:14.340326Z",
     "start_time": "2022-08-15T15:51:14.332478Z"
    }
   },
   "outputs": [],
   "source": [
    "L = 5\n",
    "A_size = 200\n",
    "B_size = 200\n",
    "A_domain = L * np.linspace(-1, 1, A_size)\n",
    "B_domain = L * np.linspace(-1, 1, B_size)\n",
    "A_val, B_val = np.meshgrid(A_domain, B_domain, sparse=False, indexing=\"ij\")"
   ]
  },
  {
   "cell_type": "markdown",
   "id": "d6d7127e",
   "metadata": {},
   "source": [
    "Note: we first convert the real $A$ and $B$ to complex."
   ]
  },
  {
   "cell_type": "code",
   "execution_count": 13,
   "id": "9eac15cf",
   "metadata": {
    "ExecuteTime": {
     "end_time": "2022-08-15T15:51:16.035297Z",
     "start_time": "2022-08-15T15:51:15.781671Z"
    }
   },
   "outputs": [
    {
     "data": {
      "image/png": "[encoded data removed]",
      "text/plain": [
       "<Figure size 432x288 with 2 Axes>"
      ]
     },
     "metadata": {},
     "output_type": "display_data"
    }
   ],
   "source": [
    "domain = lambda_f(np.complex64(A_val) , np.complex64(B_val))\n",
    "stable = np.real(domain).copy()\n",
    "stable[stable < 0] = -1\n",
    "stable[stable > 0] = 0\n",
    "plt.style.use('seaborn-white')\n",
    "\n",
    "plt.contour(A_val, B_val, stable, cmap = 'RdGy',\n",
    "            levels=[-1,-.5,0], origin='lower')\n",
    "\n",
    "plt.contourf(A_val, B_val, stable, cmap = 'Pastel2',\n",
    "            levels=[-1,-.5,0], origin='lower')\n",
    "\n",
    "\n",
    "#plt.contourf(A_val, B_val, stable, cmap = 'Pastel1')\n",
    "#plt.imshow(stable, extent=[-5, 5, -5, 5],\n",
    "#           cmap='RdGy', alpha=0.5)\n",
    "#plt.contourf(A_val, B_val, stable, cmap = 'Pastel1')\n",
    "plt.xlabel(\"A\")\n",
    "plt.ylabel(\"B\")\n",
    "cbar = plt.colorbar()\n",
    "cbar.set_ticks([-1, 0])\n",
    "cbar.set_ticklabels(['Unstable', 'Stable'])\n",
    "#cbar.set_label('Color Intensity')\n",
    "\n",
    "plt.grid()\n",
    "plt.show()"
   ]
  },
  {
   "cell_type": "markdown",
   "id": "1bf943d9",
   "metadata": {},
   "source": [
    "#### Including the diffusion, we find the eigen-values $\\lambda_1(k)$ and $\\lambda_2(k)$ from\n",
    "\n",
    "<center>$J_2 = J - D$</center>"
   ]
  },
  {
   "cell_type": "code",
   "execution_count": 14,
   "id": "d29bedbc",
   "metadata": {
    "ExecuteTime": {
     "end_time": "2022-08-15T15:51:17.344770Z",
     "start_time": "2022-08-15T15:51:17.334981Z"
    }
   },
   "outputs": [
    {
     "data": {
      "text/latex": [
       "$J_2=\\left[\\begin{matrix}B - D_{u} k^{2} - 1 & A^{2}\\\\- B & - A^{2} - D_{v} k^{2}\\end{matrix}\\right]$"
      ],
      "text/plain": [
       "<IPython.core.display.Latex object>"
      ]
     },
     "metadata": {},
     "output_type": "display_data"
    }
   ],
   "source": [
    "J_2 = J - Matrix([[D_u*k**2, 0], [0, D_v*k**2]])\n",
    "hprint(\"J_2=\", J_2)"
   ]
  },
  {
   "cell_type": "code",
   "execution_count": 15,
   "id": "65fd3671",
   "metadata": {
    "ExecuteTime": {
     "end_time": "2022-08-15T15:51:18.369296Z",
     "start_time": "2022-08-15T15:51:18.119562Z"
    }
   },
   "outputs": [
    {
     "data": {
      "text/latex": [
       "$\\lambda_1(k) = - \\frac{A^{2}}{2} + \\frac{B}{2} - \\frac{D_{u} k^{2}}{2} - \\frac{D_{v} k^{2}}{2} - \\frac{\\sqrt{A^{4} - 2 A^{2} B - 2 A^{2} D_{u} k^{2} + 2 A^{2} D_{v} k^{2} - 2 A^{2} + B^{2} - 2 B D_{u} k^{2} + 2 B D_{v} k^{2} - 2 B + D_{u}^{2} k^{4} - 2 D_{u} D_{v} k^{4} + 2 D_{u} k^{2} + D_{v}^{2} k^{4} - 2 D_{v} k^{2} + 1}}{2} - \\frac{1}{2}$"
      ],
      "text/plain": [
       "<IPython.core.display.Latex object>"
      ]
     },
     "metadata": {},
     "output_type": "display_data"
    },
    {
     "data": {
      "text/latex": [
       "$\\lambda_2(k) = - \\frac{A^{2}}{2} + \\frac{B}{2} - \\frac{D_{u} k^{2}}{2} - \\frac{D_{v} k^{2}}{2} + \\frac{\\sqrt{A^{4} - 2 A^{2} B - 2 A^{2} D_{u} k^{2} + 2 A^{2} D_{v} k^{2} - 2 A^{2} + B^{2} - 2 B D_{u} k^{2} + 2 B D_{v} k^{2} - 2 B + D_{u}^{2} k^{4} - 2 D_{u} D_{v} k^{4} + 2 D_{u} k^{2} + D_{v}^{2} k^{4} - 2 D_{v} k^{2} + 1}}{2} - \\frac{1}{2}$"
      ],
      "text/plain": [
       "<IPython.core.display.Latex object>"
      ]
     },
     "metadata": {},
     "output_type": "display_data"
    }
   ],
   "source": [
    "lambda_k_1, lambda_k_2 =  list(J_2.eigenvals().keys())\n",
    "hprint(\"\\lambda_1(k) = \", lambda_k_1)\n",
    "hprint(\"\\lambda_2(k) = \", lambda_k_2)"
   ]
  },
  {
   "cell_type": "code",
   "execution_count": 16,
   "id": "3255c046",
   "metadata": {
    "ExecuteTime": {
     "end_time": "2022-08-15T15:51:19.128967Z",
     "start_time": "2022-08-15T15:51:19.100474Z"
    }
   },
   "outputs": [
    {
     "data": {
      "text/latex": [
       "$\\displaystyle \\left[ - \\frac{A^{2}}{2}, \\  \\frac{B}{2}, \\  - \\frac{D_{u} k^{2}}{2}, \\  - \\frac{D_{v} k^{2}}{2}, \\  \\frac{\\sqrt{A^{4} - 2 A^{2} B - 2 A^{2} D_{u} k^{2} + 2 A^{2} D_{v} k^{2} - 2 A^{2} + B^{2} - 2 B D_{u} k^{2} + 2 B D_{v} k^{2} - 2 B + D_{u}^{2} k^{4} - 2 D_{u} D_{v} k^{4} + 2 D_{u} k^{2} + D_{v}^{2} k^{4} - 2 D_{v} k^{2} + 1}}{2}, \\  - \\frac{1}{2}\\right]$"
      ],
      "text/plain": [
       "⎡                              ______________________________________________________________________________________________\n",
       "⎢  2           2        2     ╱  4      2        2     2      2     2      2    2           2           2           2  4     \n",
       "⎢-A    B  -Dᵤ⋅k    -Dᵥ⋅k    ╲╱  A  - 2⋅A ⋅B - 2⋅A ⋅Dᵤ⋅k  + 2⋅A ⋅Dᵥ⋅k  - 2⋅A  + B  - 2⋅B⋅Dᵤ⋅k  + 2⋅B⋅Dᵥ⋅k  - 2⋅B + Dᵤ ⋅k  - 2⋅\n",
       "⎢────, ─, ───────, ───────, ─────────────────────────────────────────────────────────────────────────────────────────────────\n",
       "⎣ 2    2     2        2                                                                          2                           \n",
       "\n",
       "__________________________________________      ⎤\n",
       "       4         2     2  4         2           ⎥\n",
       "Dᵤ⋅Dᵥ⋅k  + 2⋅Dᵤ⋅k  + Dᵥ ⋅k  - 2⋅Dᵥ⋅k  + 1       ⎥\n",
       "──────────────────────────────────────────, -1/2⎥\n",
       "                                                ⎦"
      ]
     },
     "execution_count": 16,
     "metadata": {},
     "output_type": "execute_result"
    }
   ],
   "source": [
    "lambda_k_2.as_ordered_terms()"
   ]
  },
  {
   "cell_type": "code",
   "execution_count": 17,
   "id": "5202a166",
   "metadata": {
    "ExecuteTime": {
     "end_time": "2022-08-15T15:51:20.165118Z",
     "start_time": "2022-08-15T15:51:20.143122Z"
    }
   },
   "outputs": [
    {
     "data": {
      "text/latex": [
       "$\\displaystyle - \\frac{A^{2}}{2} + \\frac{B}{2} - \\frac{1}{2}$"
      ],
      "text/plain": [
       "   2        \n",
       "  A    B   1\n",
       "- ── + ─ - ─\n",
       "  2    2   2"
      ]
     },
     "metadata": {},
     "output_type": "display_data"
    },
    {
     "data": {
      "text/latex": [
       "$\\displaystyle - \\frac{A^{2}}{2} + \\frac{B}{2} - \\frac{D_{u} k^{2}}{2} - \\frac{D_{v} k^{2}}{2} + \\frac{\\sqrt{A^{4} - 2 A^{2} B - 2 A^{2} D_{u} k^{2} + 2 A^{2} D_{v} k^{2} - 2 A^{2} + B^{2} - 2 B D_{u} k^{2} + 2 B D_{v} k^{2} - 2 B + D_{u}^{2} k^{4} - 2 D_{u} D_{v} k^{4} + 2 D_{u} k^{2} + D_{v}^{2} k^{4} - 2 D_{v} k^{2} + 1}}{2} - \\frac{1}{2}$"
      ],
      "text/plain": [
       "                              _______________________________________________________________________________________________\n",
       "   2           2       2     ╱  4      2        2     2      2     2      2    2           2           2           2  4      \n",
       "  A    B   Dᵤ⋅k    Dᵥ⋅k    ╲╱  A  - 2⋅A ⋅B - 2⋅A ⋅Dᵤ⋅k  + 2⋅A ⋅Dᵥ⋅k  - 2⋅A  + B  - 2⋅B⋅Dᵤ⋅k  + 2⋅B⋅Dᵥ⋅k  - 2⋅B + Dᵤ ⋅k  - 2⋅D\n",
       "- ── + ─ - ───── - ───── + ──────────────────────────────────────────────────────────────────────────────────────────────────\n",
       "  2    2     2       2                                                                          2                            \n",
       "\n",
       "_________________________________________    \n",
       "      4         2     2  4         2         \n",
       "ᵤ⋅Dᵥ⋅k  + 2⋅Dᵤ⋅k  + Dᵥ ⋅k  - 2⋅Dᵥ⋅k  + 1    1\n",
       "───────────────────────────────────────── - ─\n",
       "                                            2"
      ]
     },
     "execution_count": 17,
     "metadata": {},
     "output_type": "execute_result"
    }
   ],
   "source": [
    "t1, t2, t3, t4, t5, t6 = lambda_k_2.as_ordered_terms()\n",
    "lambda_star = t1+t2+t6\n",
    "display(lambda_star)\n",
    "lambda_k_22 = lambda_star + t3 + t4 + t5\n",
    "lambda_k_22"
   ]
  },
  {
   "cell_type": "markdown",
   "id": "9582bced",
   "metadata": {},
   "source": [
    "#### Plot the wave-numbers envelope"
   ]
  },
  {
   "cell_type": "code",
   "execution_count": 147,
   "id": "3049d998",
   "metadata": {
    "ExecuteTime": {
     "end_time": "2022-08-15T22:27:29.816159Z",
     "start_time": "2022-08-15T22:27:29.566406Z"
    }
   },
   "outputs": [
    {
     "name": "stderr",
     "output_type": "stream",
     "text": [
      "/usr/local/anaconda3/envs/sympy/lib/python3.10/site-packages/matplotlib/cbook/__init__.py:1298: ComplexWarning: Casting complex values to real discards the imaginary part\n",
      "  return np.asarray(x, float)\n",
      "/usr/local/anaconda3/envs/sympy/lib/python3.10/site-packages/matplotlib/cbook/__init__.py:1298: ComplexWarning: Casting complex values to real discards the imaginary part\n",
      "  return np.asarray(x, float)\n",
      "/tmp/ipykernel_28350/959912053.py:18: RuntimeWarning: invalid value encountered in sqrt\n",
      "  kk_c_2_val = np.sqrt(kk_c_2_f(A = 2, B = 3, D_u = 1, D_v = 10))\n",
      "/usr/local/anaconda3/envs/sympy/lib/python3.10/site-packages/matplotlib/axes/_base.py:2475: UserWarning: Warning: converting a masked element to nan.\n",
      "  xys = np.asarray(xys)\n"
     ]
    },
    {
     "data": {
      "image/png": "[encoded data removed]",
      "text/plain": [
       "<Figure size 576x288 with 1 Axes>"
      ]
     },
     "metadata": {},
     "output_type": "display_data"
    }
   ],
   "source": [
    "lambda_k_2_f = lambdify([k, A, B, D_u, D_v],lambda_k_2, modules='numpy')\n",
    "\n",
    "#ks = np.complex64(np.linspace(0.5, 1, num=50))\n",
    "ks = np.complex64(np.linspace(0, 1, num=50))\n",
    "\n",
    "k_c_2 = ((B - 1) * D_v - A**2 * D_u)/(2 * D_u * D_v)\n",
    "k_c_2_f = lambdify([A, B, D_u, D_v], k_c_2, modules='numpy')\n",
    "\n",
    "kk_c_2 = ((B - 1+ A**2) )/( (D_u - D_v))\n",
    "kk_c_2_f = lambdify([A, B, D_u, D_v], kk_c_2, modules='numpy')\n",
    "\n",
    "fig = plt.figure(figsize=(8,4))\n",
    "plt.style.use('fivethirtyeight')\n",
    "plt.plot(ks, np.real(lambda_k_2_f(ks, A = 2, B = 3, D_u = 1, D_v = 10)), label='Real')\n",
    "plt.plot(ks, np.imag(lambda_k_2_f(ks, A = 2, B = 3, D_u = 1, D_v = 10)), '--', label='Imaginary')\n",
    "\n",
    "#plt.vlines(np.sqrt(k_c_2_f(A = 2, B = 3, D_u = 1, D_v = 10)), 0 , .3)\n",
    "kk_c_2_val = np.sqrt(kk_c_2_f(A = 2, B = 3, D_u = 1, D_v = 10))\n",
    "plt.vlines(kk_c_2_val, 0 , np.real(lambda_k_2_f(kk_c_2_val, A = 2, B = 3, D_u = 1, D_v = 10)))\n",
    "plt.xlabel(r\"$k$\")\n",
    "plt.ylabel(r\"$\\lambda(k)$\")\n",
    "plt.legend()\n",
    "#plt.grid()\n",
    "plt.show()"
   ]
  },
  {
   "cell_type": "markdown",
   "id": "f2efdf12",
   "metadata": {},
   "source": [
    "#### Finding the maximum of $\\lambda_2(k)$, namely $k_c$ as the dominant wave-number"
   ]
  },
  {
   "cell_type": "code",
   "execution_count": 136,
   "id": "1723521e",
   "metadata": {
    "ExecuteTime": {
     "end_time": "2022-08-15T21:19:59.926076Z",
     "start_time": "2022-08-15T21:19:59.794714Z"
    }
   },
   "outputs": [
    {
     "data": {
      "text/latex": [
       "$\\displaystyle A^{4} - 2 A^{2} B - 2 A^{2} D_{u} k_{2} + 2 A^{2} D_{v} k_{2} - 2 A^{2} + B^{2} - 2 B D_{u} k_{2} + 2 B D_{v} k_{2} - 2 B + D_{u}^{2} k_{2}^{2} - 2 D_{u} D_{v} k_{2}^{2} + 2 D_{u} k_{2} + D_{v}^{2} k_{2}^{2} - 2 D_{v} k_{2} + 1$"
      ],
      "text/plain": [
       " 4      2        2            2            2    2                                   2   2             2               2   2  \n",
       "A  - 2⋅A ⋅B - 2⋅A ⋅Dᵤ⋅k₂ + 2⋅A ⋅Dᵥ⋅k₂ - 2⋅A  + B  - 2⋅B⋅Dᵤ⋅k₂ + 2⋅B⋅Dᵥ⋅k₂ - 2⋅B + Dᵤ ⋅k₂  - 2⋅Dᵤ⋅Dᵥ⋅k₂  + 2⋅Dᵤ⋅k₂ + Dᵥ ⋅k₂  -\n",
       "\n",
       "            \n",
       " 2⋅Dᵥ⋅k₂ + 1"
      ]
     },
     "metadata": {},
     "output_type": "display_data"
    },
    {
     "data": {
      "text/latex": [
       "$\\displaystyle - 2 \\left(D_{u} - D_{v}\\right) \\left(A^{2} + B - D_{u} k_{2} + D_{v} k_{2} - 1\\right)$"
      ],
      "text/plain": [
       "             ⎛ 2                        ⎞\n",
       "-2⋅(Dᵤ - Dᵥ)⋅⎝A  + B - Dᵤ⋅k₂ + Dᵥ⋅k₂ - 1⎠"
      ]
     },
     "metadata": {},
     "output_type": "display_data"
    }
   ],
   "source": [
    "kk_c_2 = ((B - 1+ A**2) )/( (D_u - D_v))\n",
    "kk_c_2_f = lambdify([A, B, D_u, D_v], kk_c_2, modules='numpy')\n",
    "\n",
    "k_2 = symbols('k_2')\n",
    "Delta_k_2 = factor((lambda_k_2.as_terms()[1][5]**2).subs(k**2, k_2))\n",
    "display(Delta_k_2)\n",
    "Delta_k_2_f = lambdify([k_2, A, B, D_u, D_v], Delta_k_2, modules='numpy')\n",
    "Delta_k_2_prime = Delta_k_2.diff(k_2)\n",
    "display(factor(Delta_k_2_prime))\n",
    "Delta_k_2_prime_f = lambdify([k_2, A, B, D_u, D_v], Delta_k_2_prime, modules='numpy')"
   ]
  },
  {
   "cell_type": "code",
   "execution_count": 137,
   "id": "3e97a3be",
   "metadata": {
    "ExecuteTime": {
     "end_time": "2022-08-15T21:20:00.689748Z",
     "start_time": "2022-08-15T21:20:00.680343Z"
    }
   },
   "outputs": [
    {
     "name": "stdout",
     "output_type": "stream",
     "text": [
      "-0.6666666666666666\n",
      "2.842170943040401e-14\n",
      "-48.0\n"
     ]
    }
   ],
   "source": [
    "kk_c_2_val = kk_c_2_f(A = 2, B = 3, D_u = 1, D_v = 10)\n",
    "print(kk_c_2_val)\n",
    "print(Delta_k_2_prime_f(kk_c_2_val, A = 2, B = 3, D_u = 1, D_v = 10))\n",
    "print(Delta_k_2_f(kk_c_2_val, A = 2, B = 3, D_u = 1, D_v = 10))"
   ]
  },
  {
   "cell_type": "code",
   "execution_count": 150,
   "id": "e8ad6880",
   "metadata": {
    "ExecuteTime": {
     "end_time": "2022-08-15T22:32:39.515246Z",
     "start_time": "2022-08-15T22:32:39.500915Z"
    }
   },
   "outputs": [],
   "source": [
    "tr_k = B-1-A**2- (D_u + D_v) * k**2\n",
    "tr_k_f = lambdify([k, A, B, D_u, D_v], tr_k, modules='numpy')"
   ]
  },
  {
   "cell_type": "code",
   "execution_count": 156,
   "id": "8e350777",
   "metadata": {
    "ExecuteTime": {
     "end_time": "2022-08-15T22:34:52.533563Z",
     "start_time": "2022-08-15T22:34:52.347200Z"
    }
   },
   "outputs": [
    {
     "name": "stderr",
     "output_type": "stream",
     "text": [
      "/usr/local/anaconda3/envs/sympy/lib/python3.10/site-packages/matplotlib/cbook/__init__.py:1298: ComplexWarning: Casting complex values to real discards the imaginary part\n",
      "  return np.asarray(x, float)\n",
      "/usr/local/anaconda3/envs/sympy/lib/python3.10/site-packages/matplotlib/cbook/__init__.py:1298: ComplexWarning: Casting complex values to real discards the imaginary part\n",
      "  return np.asarray(x, float)\n",
      "/usr/local/anaconda3/envs/sympy/lib/python3.10/site-packages/matplotlib/cbook/__init__.py:1298: ComplexWarning: Casting complex values to real discards the imaginary part\n",
      "  return np.asarray(x, float)\n"
     ]
    },
    {
     "data": {
      "text/plain": [
       "[<matplotlib.lines.Line2D at 0x7f31601cf220>]"
      ]
     },
     "execution_count": 156,
     "metadata": {},
     "output_type": "execute_result"
    },
    {
     "data": {
      "image/png": "[encoded data removed]",
      "text/plain": [
       "<Figure size 432x288 with 1 Axes>"
      ]
     },
     "metadata": {},
     "output_type": "display_data"
    }
   ],
   "source": [
    "ks = np.complex64(np.linspace(0, 2, num=100))\n",
    "plt.plot(ks, np.sqrt(Delta_k_2_f(ks**2, A = 2, B = 3, D_u = 1, D_v = 10)))\n",
    "plt.plot(ks, tr_k_f(ks, A = 2, B = 3, D_u = 1, D_v = 10))\n",
    "plt.plot(ks, tr_k_f(ks, A = 2, B = 3, D_u = 1, D_v = 10) + np.sqrt(Delta_k_2_f(ks**2, A = 2, B = 3, D_u = 1, D_v = 10)))"
   ]
  },
  {
   "cell_type": "code",
   "execution_count": 19,
   "id": "6a0aa22b",
   "metadata": {
    "ExecuteTime": {
     "end_time": "2022-08-15T15:51:25.629431Z",
     "start_time": "2022-08-15T15:51:24.206510Z"
    }
   },
   "outputs": [
    {
     "data": {
      "text/latex": [
       "$\\displaystyle \\left\\{0, - \\sqrt{\\frac{A^{2} D_{u} D_{v}}{D_{u}^{2} D_{v} - D_{u} D_{v}^{2}} - \\frac{A D_{u} \\sqrt{B D_{u} D_{v}}}{D_{u}^{2} D_{v} - D_{u} D_{v}^{2}} - \\frac{A D_{v} \\sqrt{B D_{u} D_{v}}}{D_{u}^{2} D_{v} - D_{u} D_{v}^{2}} + \\frac{B D_{u} D_{v}}{D_{u}^{2} D_{v} - D_{u} D_{v}^{2}} - \\frac{D_{u} D_{v}}{D_{u}^{2} D_{v} - D_{u} D_{v}^{2}}}, \\sqrt{\\frac{A^{2} D_{u} D_{v}}{D_{u}^{2} D_{v} - D_{u} D_{v}^{2}} - \\frac{A D_{u} \\sqrt{B D_{u} D_{v}}}{D_{u}^{2} D_{v} - D_{u} D_{v}^{2}} - \\frac{A D_{v} \\sqrt{B D_{u} D_{v}}}{D_{u}^{2} D_{v} - D_{u} D_{v}^{2}} + \\frac{B D_{u} D_{v}}{D_{u}^{2} D_{v} - D_{u} D_{v}^{2}} - \\frac{D_{u} D_{v}}{D_{u}^{2} D_{v} - D_{u} D_{v}^{2}}}, - \\sqrt{\\frac{A^{2} D_{u} D_{v}}{D_{u}^{2} D_{v} - D_{u} D_{v}^{2}} + \\frac{A D_{u} \\sqrt{B D_{u} D_{v}}}{D_{u}^{2} D_{v} - D_{u} D_{v}^{2}} + \\frac{A D_{v} \\sqrt{B D_{u} D_{v}}}{D_{u}^{2} D_{v} - D_{u} D_{v}^{2}} + \\frac{B D_{u} D_{v}}{D_{u}^{2} D_{v} - D_{u} D_{v}^{2}} - \\frac{D_{u} D_{v}}{D_{u}^{2} D_{v} - D_{u} D_{v}^{2}}}, \\sqrt{\\frac{A^{2} D_{u} D_{v}}{D_{u}^{2} D_{v} - D_{u} D_{v}^{2}} + \\frac{A D_{u} \\sqrt{B D_{u} D_{v}}}{D_{u}^{2} D_{v} - D_{u} D_{v}^{2}} + \\frac{A D_{v} \\sqrt{B D_{u} D_{v}}}{D_{u}^{2} D_{v} - D_{u} D_{v}^{2}} + \\frac{B D_{u} D_{v}}{D_{u}^{2} D_{v} - D_{u} D_{v}^{2}} - \\frac{D_{u} D_{v}}{D_{u}^{2} D_{v} - D_{u} D_{v}^{2}}}\\right\\} \\setminus \\left\\{- \\sqrt{\\frac{A^{2}}{D_{u} - D_{v}} - \\frac{2 A \\sqrt{B}}{D_{u} - D_{v}} + \\frac{B}{D_{u} - D_{v}} - \\frac{1}{D_{u} - D_{v}}}, \\sqrt{\\frac{A^{2}}{D_{u} - D_{v}} - \\frac{2 A \\sqrt{B}}{D_{u} - D_{v}} + \\frac{B}{D_{u} - D_{v}} - \\frac{1}{D_{u} - D_{v}}}, - \\sqrt{\\frac{A^{2}}{D_{u} - D_{v}} + \\frac{2 A \\sqrt{B}}{D_{u} - D_{v}} + \\frac{B}{D_{u} - D_{v}} - \\frac{1}{D_{u} - D_{v}}}, \\sqrt{\\frac{A^{2}}{D_{u} - D_{v}} + \\frac{2 A \\sqrt{B}}{D_{u} - D_{v}} + \\frac{B}{D_{u} - D_{v}} - \\frac{1}{D_{u} - D_{v}}}\\right\\}$"
      ],
      "text/plain": [
       "⎧          ___________________________________________________________________________________________        _______________\n",
       "⎪         ╱      2                   _________          _________                                            ╱      2        \n",
       "⎪        ╱      A ⋅Dᵤ⋅Dᵥ      A⋅Dᵤ⋅╲╱ B⋅Dᵤ⋅Dᵥ    A⋅Dᵥ⋅╲╱ B⋅Dᵤ⋅Dᵥ        B⋅Dᵤ⋅Dᵥ            Dᵤ⋅Dᵥ            ╱      A ⋅Dᵤ⋅Dᵥ  \n",
       "⎨0, -   ╱   ─────────────── - ──────────────── - ──────────────── + ─────────────── - ─────────────── ,    ╱   ──────────────\n",
       "⎪      ╱      2           2     2           2      2           2      2           2     2           2     ╱      2           \n",
       "⎪    ╲╱     Dᵤ ⋅Dᵥ - Dᵤ⋅Dᵥ    Dᵤ ⋅Dᵥ - Dᵤ⋅Dᵥ     Dᵤ ⋅Dᵥ - Dᵤ⋅Dᵥ     Dᵤ ⋅Dᵥ - Dᵤ⋅Dᵥ    Dᵤ ⋅Dᵥ - Dᵤ⋅Dᵥ    ╲╱     Dᵤ ⋅Dᵥ - Dᵤ⋅Dᵥ\n",
       "⎩                                                                                                                            \n",
       "\n",
       "____________________________________________________________________________         ________________________________________\n",
       "           _________          _________                                             ╱      2                   _________     \n",
       "    A⋅Dᵤ⋅╲╱ B⋅Dᵤ⋅Dᵥ    A⋅Dᵥ⋅╲╱ B⋅Dᵤ⋅Dᵥ        B⋅Dᵤ⋅Dᵥ            Dᵤ⋅Dᵥ             ╱      A ⋅Dᵤ⋅Dᵥ      A⋅Dᵤ⋅╲╱ B⋅Dᵤ⋅Dᵥ    A⋅\n",
       "─ - ──────────────── - ──────────────── + ─────────────── - ─────────────── , -   ╱   ─────────────── + ──────────────── + ──\n",
       "2     2           2      2           2      2           2     2           2      ╱      2           2     2           2      \n",
       "    Dᵤ ⋅Dᵥ - Dᵤ⋅Dᵥ     Dᵤ ⋅Dᵥ - Dᵤ⋅Dᵥ     Dᵤ ⋅Dᵥ - Dᵤ⋅Dᵥ    Dᵤ ⋅Dᵥ - Dᵤ⋅Dᵥ     ╲╱     Dᵤ ⋅Dᵥ - Dᵤ⋅Dᵥ    Dᵤ ⋅Dᵥ - Dᵤ⋅Dᵥ     Dᵤ\n",
       "                                                                                                                             \n",
       "\n",
       "___________________________________________________        __________________________________________________________________\n",
       "     _________                                            ╱      2                   _________          _________            \n",
       "Dᵥ⋅╲╱ B⋅Dᵤ⋅Dᵥ        B⋅Dᵤ⋅Dᵥ            Dᵤ⋅Dᵥ            ╱      A ⋅Dᵤ⋅Dᵥ      A⋅Dᵤ⋅╲╱ B⋅Dᵤ⋅Dᵥ    A⋅Dᵥ⋅╲╱ B⋅Dᵤ⋅Dᵥ        B⋅Dᵤ⋅\n",
       "────────────── + ─────────────── - ─────────────── ,    ╱   ─────────────── + ──────────────── + ──────────────── + ─────────\n",
       "2           2      2           2     2           2     ╱      2           2     2           2      2           2      2      \n",
       " ⋅Dᵥ - Dᵤ⋅Dᵥ     Dᵤ ⋅Dᵥ - Dᵤ⋅Dᵥ    Dᵤ ⋅Dᵥ - Dᵤ⋅Dᵥ    ╲╱     Dᵤ ⋅Dᵥ - Dᵤ⋅Dᵥ    Dᵤ ⋅Dᵥ - Dᵤ⋅Dᵥ     Dᵤ ⋅Dᵥ - Dᵤ⋅Dᵥ     Dᵤ ⋅Dᵥ - \n",
       "                                                                                                                             \n",
       "\n",
       "_________________________⎫   ⎧      _______________________________________       _______________________________________    \n",
       "                         ⎪   ⎪     ╱     2                                       ╱     2                                     \n",
       "Dᵥ            Dᵤ⋅Dᵥ      ⎪   ⎨    ╱     A       2⋅A⋅√B      B         1         ╱     A       2⋅A⋅√B      B         1        \n",
       "────── - ─────────────── ⎬ \\ ⎪-  ╱   ─────── - ─────── + ─────── - ─────── ,   ╱   ─────── - ─────── + ─────── - ─────── , - \n",
       "     2     2           2 ⎪   ⎩ ╲╱    Dᵤ - Dᵥ   Dᵤ - Dᵥ   Dᵤ - Dᵥ   Dᵤ - Dᵥ   ╲╱    Dᵤ - Dᵥ   Dᵤ - Dᵥ   Dᵤ - Dᵥ   Dᵤ - Dᵥ    ╲\n",
       "Dᵤ⋅Dᵥ    Dᵤ ⋅Dᵥ - Dᵤ⋅Dᵥ  ⎪                                                                                                   \n",
       "                         ⎭                                                                                                   \n",
       "\n",
       "    _______________________________________       _______________________________________⎫\n",
       "   ╱     2                                       ╱     2                                 ⎪\n",
       "  ╱     A       2⋅A⋅√B      B         1         ╱     A       2⋅A⋅√B      B         1    ⎬\n",
       " ╱   ─────── + ─────── + ─────── - ─────── ,   ╱   ─────── + ─────── + ─────── - ─────── ⎪\n",
       "╱    Dᵤ - Dᵥ   Dᵤ - Dᵥ   Dᵤ - Dᵥ   Dᵤ - Dᵥ   ╲╱    Dᵤ - Dᵥ   Dᵤ - Dᵥ   Dᵤ - Dᵥ   Dᵤ - Dᵥ ⎭\n",
       "                                                                                          \n",
       "                                                                                          "
      ]
     },
     "execution_count": 19,
     "metadata": {},
     "output_type": "execute_result"
    }
   ],
   "source": [
    "solveset(lambda_k_2.diff(k), k)"
   ]
  },
  {
   "cell_type": "code",
   "execution_count": 29,
   "id": "0a552a84",
   "metadata": {
    "ExecuteTime": {
     "end_time": "2022-08-15T16:01:50.151144Z",
     "start_time": "2022-08-15T16:01:48.956485Z"
    }
   },
   "outputs": [
    {
     "ename": "ValueError",
     "evalue": "\nCan't calculate derivative wrt k**2.",
     "output_type": "error",
     "traceback": [
      "\u001b[0;31m---------------------------------------------------------------------------\u001b[0m",
      "\u001b[0;31mValueError\u001b[0m                                Traceback (most recent call last)",
      "Input \u001b[0;32mIn [29]\u001b[0m, in \u001b[0;36m<cell line: 1>\u001b[0;34m()\u001b[0m\n\u001b[0;32m----> 1\u001b[0m \u001b[43mlambda_k_2\u001b[49m\u001b[38;5;241;43m.\u001b[39;49m\u001b[43mdiff\u001b[49m\u001b[43m(\u001b[49m\u001b[43mk\u001b[49m\u001b[38;5;241;43m*\u001b[39;49m\u001b[38;5;241;43m*\u001b[39;49m\u001b[38;5;241;43m2\u001b[39;49m\u001b[43m)\u001b[49m\n",
      "File \u001b[0;32m/usr/local/anaconda3/envs/sympy/lib/python3.10/site-packages/sympy/core/expr.py:3528\u001b[0m, in \u001b[0;36mExpr.diff\u001b[0;34m(self, *symbols, **assumptions)\u001b[0m\n\u001b[1;32m   3526\u001b[0m \u001b[38;5;28;01mdef\u001b[39;00m \u001b[38;5;21mdiff\u001b[39m(\u001b[38;5;28mself\u001b[39m, \u001b[38;5;241m*\u001b[39msymbols, \u001b[38;5;241m*\u001b[39m\u001b[38;5;241m*\u001b[39massumptions):\n\u001b[1;32m   3527\u001b[0m     assumptions\u001b[38;5;241m.\u001b[39msetdefault(\u001b[38;5;124m\"\u001b[39m\u001b[38;5;124mevaluate\u001b[39m\u001b[38;5;124m\"\u001b[39m, \u001b[38;5;28;01mTrue\u001b[39;00m)\n\u001b[0;32m-> 3528\u001b[0m     \u001b[38;5;28;01mreturn\u001b[39;00m \u001b[43m_derivative_dispatch\u001b[49m\u001b[43m(\u001b[49m\u001b[38;5;28;43mself\u001b[39;49m\u001b[43m,\u001b[49m\u001b[43m \u001b[49m\u001b[38;5;241;43m*\u001b[39;49m\u001b[43msymbols\u001b[49m\u001b[43m,\u001b[49m\u001b[43m \u001b[49m\u001b[38;5;241;43m*\u001b[39;49m\u001b[38;5;241;43m*\u001b[39;49m\u001b[43massumptions\u001b[49m\u001b[43m)\u001b[49m\n",
      "File \u001b[0;32m/usr/local/anaconda3/envs/sympy/lib/python3.10/site-packages/sympy/core/function.py:1923\u001b[0m, in \u001b[0;36m_derivative_dispatch\u001b[0;34m(expr, *variables, **kwargs)\u001b[0m\n\u001b[1;32m   1921\u001b[0m     \u001b[38;5;28;01mfrom\u001b[39;00m \u001b[38;5;21;01msympy\u001b[39;00m\u001b[38;5;21;01m.\u001b[39;00m\u001b[38;5;21;01mtensor\u001b[39;00m\u001b[38;5;21;01m.\u001b[39;00m\u001b[38;5;21;01marray\u001b[39;00m\u001b[38;5;21;01m.\u001b[39;00m\u001b[38;5;21;01marray_derivatives\u001b[39;00m \u001b[38;5;28;01mimport\u001b[39;00m ArrayDerivative\n\u001b[1;32m   1922\u001b[0m     \u001b[38;5;28;01mreturn\u001b[39;00m ArrayDerivative(expr, \u001b[38;5;241m*\u001b[39mvariables, \u001b[38;5;241m*\u001b[39m\u001b[38;5;241m*\u001b[39mkwargs)\n\u001b[0;32m-> 1923\u001b[0m \u001b[38;5;28;01mreturn\u001b[39;00m \u001b[43mDerivative\u001b[49m\u001b[43m(\u001b[49m\u001b[43mexpr\u001b[49m\u001b[43m,\u001b[49m\u001b[43m \u001b[49m\u001b[38;5;241;43m*\u001b[39;49m\u001b[43mvariables\u001b[49m\u001b[43m,\u001b[49m\u001b[43m \u001b[49m\u001b[38;5;241;43m*\u001b[39;49m\u001b[38;5;241;43m*\u001b[39;49m\u001b[43mkwargs\u001b[49m\u001b[43m)\u001b[49m\n",
      "File \u001b[0;32m/usr/local/anaconda3/envs/sympy/lib/python3.10/site-packages/sympy/core/function.py:1348\u001b[0m, in \u001b[0;36mDerivative.__new__\u001b[0;34m(cls, expr, *variables, **kwargs)\u001b[0m\n\u001b[1;32m   1346\u001b[0m     \u001b[38;5;28;01mif\u001b[39;00m \u001b[38;5;129;01mnot\u001b[39;00m v\u001b[38;5;241m.\u001b[39m_diff_wrt:\n\u001b[1;32m   1347\u001b[0m         __ \u001b[38;5;241m=\u001b[39m \u001b[38;5;124m'\u001b[39m\u001b[38;5;124m'\u001b[39m  \u001b[38;5;66;03m# filler to make error message neater\u001b[39;00m\n\u001b[0;32m-> 1348\u001b[0m         \u001b[38;5;28;01mraise\u001b[39;00m \u001b[38;5;167;01mValueError\u001b[39;00m(filldedent(\u001b[38;5;124m'''\u001b[39m\n\u001b[1;32m   1349\u001b[0m \u001b[38;5;124m            Can\u001b[39m\u001b[38;5;124m'\u001b[39m\u001b[38;5;124mt calculate derivative wrt \u001b[39m\u001b[38;5;132;01m%s\u001b[39;00m\u001b[38;5;124m.\u001b[39m\u001b[38;5;132;01m%s\u001b[39;00m\u001b[38;5;124m'''\u001b[39m \u001b[38;5;241m%\u001b[39m (v,\n\u001b[1;32m   1350\u001b[0m             __)))\n\u001b[1;32m   1352\u001b[0m \u001b[38;5;66;03m# We make a special case for 0th derivative, because there is no\u001b[39;00m\n\u001b[1;32m   1353\u001b[0m \u001b[38;5;66;03m# good way to unambiguously print this.\u001b[39;00m\n\u001b[1;32m   1354\u001b[0m \u001b[38;5;28;01mif\u001b[39;00m \u001b[38;5;28mlen\u001b[39m(variable_count) \u001b[38;5;241m==\u001b[39m \u001b[38;5;241m0\u001b[39m:\n",
      "\u001b[0;31mValueError\u001b[0m: \nCan't calculate derivative wrt k**2."
     ]
    }
   ],
   "source": [
    "lambda_k_2.diff(k)#.subs(k, sqrt( ((B-1)*D_v - A**2 * D_u)/(2*D_u*D_v) ))"
   ]
  },
  {
   "cell_type": "code",
   "execution_count": 40,
   "id": "108dc55a",
   "metadata": {
    "ExecuteTime": {
     "end_time": "2022-08-15T16:23:08.099930Z",
     "start_time": "2022-08-15T16:23:08.058042Z"
    }
   },
   "outputs": [
    {
     "data": {
      "text/latex": [
       "$\\displaystyle - \\frac{A^{2}}{2} + \\frac{B}{2} + \\frac{\\sqrt{A^{4} - 2 A^{2} B - 2 A^{2} - \\frac{A^{2} \\left(- A^{2} D_{u} + D_{v} \\left(B - 1\\right)\\right)}{D_{v}} + \\frac{A^{2} \\left(- A^{2} D_{u} + D_{v} \\left(B - 1\\right)\\right)}{D_{u}} + B^{2} - 2 B - \\frac{B \\left(- A^{2} D_{u} + D_{v} \\left(B - 1\\right)\\right)}{D_{v}} + \\frac{B \\left(- A^{2} D_{u} + D_{v} \\left(B - 1\\right)\\right)}{D_{u}} + 1 + \\frac{- A^{2} D_{u} + D_{v} \\left(B - 1\\right)}{D_{v}} + \\frac{\\left(- A^{2} D_{u} + D_{v} \\left(B - 1\\right)\\right)^{2}}{4 D_{v}^{2}} - \\frac{- A^{2} D_{u} + D_{v} \\left(B - 1\\right)}{D_{u}} - \\frac{\\left(- A^{2} D_{u} + D_{v} \\left(B - 1\\right)\\right)^{2}}{2 D_{u} D_{v}} + \\frac{\\left(- A^{2} D_{u} + D_{v} \\left(B - 1\\right)\\right)^{2}}{4 D_{u}^{2}}}}{2} - \\frac{1}{2} - \\frac{- A^{2} D_{u} + D_{v} \\left(B - 1\\right)}{4 D_{v}} - \\frac{- A^{2} D_{u} + D_{v} \\left(B - 1\\right)}{4 D_{u}}$"
      ],
      "text/plain": [
       "                  ___________________________________________________________________________________________________________\n",
       "                 ╱                                                                                                           \n",
       "                ╱                        2 ⎛   2                ⎞    2 ⎛   2                ⎞                ⎛   2           \n",
       "               ╱    4      2        2   A ⋅⎝- A ⋅Dᵤ + Dᵥ⋅(B - 1)⎠   A ⋅⎝- A ⋅Dᵤ + Dᵥ⋅(B - 1)⎠    2         B⋅⎝- A ⋅Dᵤ + Dᵥ⋅(B\n",
       "              ╱    A  - 2⋅A ⋅B - 2⋅A  - ───────────────────────── + ───────────────────────── + B  - 2⋅B - ──────────────────\n",
       "   2         ╱                                      Dᵥ                          Dᵤ                                    Dᵥ     \n",
       "  A    B   ╲╱                                                                                                                \n",
       "- ── + ─ + ──────────────────────────────────────────────────────────────────────────────────────────────────────────────────\n",
       "  2    2                                                                                                                     \n",
       "\n",
       "_____________________________________________________________________________________________________________________________\n",
       "                                                                                     2                                       \n",
       "     ⎞     ⎛   2                ⎞          2                   ⎛   2                ⎞       2                   ⎛   2        \n",
       " - 1)⎠   B⋅⎝- A ⋅Dᵤ + Dᵥ⋅(B - 1)⎠       - A ⋅Dᵤ + Dᵥ⋅(B - 1)   ⎝- A ⋅Dᵤ + Dᵥ⋅(B - 1)⎠    - A ⋅Dᵤ + Dᵥ⋅(B - 1)   ⎝- A ⋅Dᵤ + Dᵥ\n",
       "────── + ──────────────────────── + 1 + ──────────────────── + ─────────────────────── - ──────────────────── - ─────────────\n",
       "                    Dᵤ                           Dᵥ                         2                     Dᵤ                    2⋅Dᵤ⋅\n",
       "                                                                        4⋅Dᵥ                                                 \n",
       "─────────────────────────────────────────────────────────────────────────────────────────────────────────────────────────────\n",
       "                       2                                                                                                     \n",
       "\n",
       "_____________________________________                                                  \n",
       "         2                         2                                                   \n",
       "        ⎞    ⎛   2                ⎞                                                    \n",
       "⋅(B - 1)⎠    ⎝- A ⋅Dᵤ + Dᵥ⋅(B - 1)⎠                                                    \n",
       "────────── + ───────────────────────                                                   \n",
       "Dᵥ                        2                    2                      2                \n",
       "                      4⋅Dᵤ              1   - A ⋅Dᵤ + Dᵥ⋅(B - 1)   - A ⋅Dᵤ + Dᵥ⋅(B - 1)\n",
       "───────────────────────────────────── - ─ - ──────────────────── - ────────────────────\n",
       "                                        2           4⋅Dᵥ                   4⋅Dᵤ        "
      ]
     },
     "execution_count": 40,
     "metadata": {},
     "output_type": "execute_result"
    }
   ],
   "source": [
    "lambda_k_2.subs(k, sqrt(k_c_2))"
   ]
  },
  {
   "cell_type": "code",
   "execution_count": 27,
   "id": "03cd32b5",
   "metadata": {
    "ExecuteTime": {
     "end_time": "2022-08-15T15:58:53.314598Z",
     "start_time": "2022-08-15T15:58:51.936541Z"
    }
   },
   "outputs": [],
   "source": [
    "ppp = simplify(lambda_k_2.diff(k).subs(k, sqrt(k_c_2)))\n",
    "ppp_f = lambdify([A, B, D_u, D_v], ppp, modules='numpy')"
   ]
  },
  {
   "cell_type": "code",
   "execution_count": 28,
   "id": "faf7002d",
   "metadata": {
    "ExecuteTime": {
     "end_time": "2022-08-15T15:59:10.262037Z",
     "start_time": "2022-08-15T15:59:10.250631Z"
    }
   },
   "outputs": [
    {
     "data": {
      "text/latex": [
       "$\\displaystyle -0.381491094935024$"
      ],
      "text/plain": [
       "-0.3814910949350241"
      ]
     },
     "execution_count": 28,
     "metadata": {},
     "output_type": "execute_result"
    }
   ],
   "source": [
    "ppp_f(A = 2, B = 3, D_u = 1, D_v = 10)"
   ]
  },
  {
   "cell_type": "code",
   "execution_count": 39,
   "id": "3a810407",
   "metadata": {
    "ExecuteTime": {
     "end_time": "2022-08-15T16:06:38.962482Z",
     "start_time": "2022-08-15T16:06:38.879196Z"
    }
   },
   "outputs": [
    {
     "data": {
      "text/latex": [
       "$\\displaystyle - \\frac{A^{2}}{2} + \\frac{B}{2} - \\frac{D_{u} k_{2}}{2} - \\frac{D_{v} k_{2}}{2} + \\frac{\\sqrt{A^{4} - 2 A^{2} B - 2 A^{2} D_{u} k_{2} + 2 A^{2} D_{v} k_{2} - 2 A^{2} + B^{2} - 2 B D_{u} k_{2} + 2 B D_{v} k_{2} - 2 B + D_{u}^{2} k_{2}^{2} - 2 D_{u} D_{v} k_{2}^{2} + 2 D_{u} k_{2} + D_{v}^{2} k_{2}^{2} - 2 D_{v} k_{2} + 1}}{2} - \\frac{1}{2}$"
      ],
      "text/plain": [
       "                              _______________________________________________________________________________________________\n",
       "   2                         ╱  4      2        2            2            2    2                                   2   2     \n",
       "  A    B   Dᵤ⋅k₂   Dᵥ⋅k₂   ╲╱  A  - 2⋅A ⋅B - 2⋅A ⋅Dᵤ⋅k₂ + 2⋅A ⋅Dᵥ⋅k₂ - 2⋅A  + B  - 2⋅B⋅Dᵤ⋅k₂ + 2⋅B⋅Dᵥ⋅k₂ - 2⋅B + Dᵤ ⋅k₂  - 2⋅\n",
       "- ── + ─ - ───── - ───── + ──────────────────────────────────────────────────────────────────────────────────────────────────\n",
       "  2    2     2       2                                                                           2                           \n",
       "\n",
       "____________________________________________    \n",
       "        2               2   2                   \n",
       "Dᵤ⋅Dᵥ⋅k₂  + 2⋅Dᵤ⋅k₂ + Dᵥ ⋅k₂  - 2⋅Dᵥ⋅k₂ + 1    1\n",
       "──────────────────────────────────────────── - ─\n",
       "                                               2"
      ]
     },
     "metadata": {},
     "output_type": "display_data"
    },
    {
     "data": {
      "text/latex": [
       "$\\displaystyle - \\frac{D_{u}}{2} - \\frac{D_{v}}{2} + \\frac{A^{2} D_{v} - B D_{u} + B D_{v} + D_{u} + \\frac{D_{u} \\left(- A^{2} D_{u} + D_{v} \\left(B - 1\\right)\\right)}{2 D_{v}} - D_{v} \\left(B - 1\\right) - D_{v} + \\frac{D_{v} \\left(- A^{2} D_{u} + D_{v} \\left(B - 1\\right)\\right)}{2 D_{u}}}{2 \\sqrt{A^{4} - 2 A^{2} B - 2 A^{2} - \\frac{A^{2} \\left(- A^{2} D_{u} + D_{v} \\left(B - 1\\right)\\right)}{D_{v}} + \\frac{A^{2} \\left(- A^{2} D_{u} + D_{v} \\left(B - 1\\right)\\right)}{D_{u}} + B^{2} - 2 B - \\frac{B \\left(- A^{2} D_{u} + D_{v} \\left(B - 1\\right)\\right)}{D_{v}} + \\frac{B \\left(- A^{2} D_{u} + D_{v} \\left(B - 1\\right)\\right)}{D_{u}} + 1 + \\frac{- A^{2} D_{u} + D_{v} \\left(B - 1\\right)}{D_{v}} + \\frac{\\left(- A^{2} D_{u} + D_{v} \\left(B - 1\\right)\\right)^{2}}{4 D_{v}^{2}} - \\frac{- A^{2} D_{u} + D_{v} \\left(B - 1\\right)}{D_{u}} - \\frac{\\left(- A^{2} D_{u} + D_{v} \\left(B - 1\\right)\\right)^{2}}{2 D_{u} D_{v}} + \\frac{\\left(- A^{2} D_{u} + D_{v} \\left(B - 1\\right)\\right)^{2}}{4 D_{u}^{2}}}}$"
      ],
      "text/plain": [
       "                                                                                                                             \n",
       "                                                                                                       2                     \n",
       "                                                                                                      A ⋅Dᵥ - B⋅Dᵤ + B⋅Dᵥ + D\n",
       "  Dᵤ   Dᵥ                                                                                                                    \n",
       "- ── - ── + ─────────────────────────────────────────────────────────────────────────────────────────────────────────────────\n",
       "  2    2             ________________________________________________________________________________________________________\n",
       "                    ╱                                                                                                        \n",
       "                   ╱                        2 ⎛   2                ⎞    2 ⎛   2                ⎞                ⎛   2        \n",
       "                  ╱    4      2        2   A ⋅⎝- A ⋅Dᵤ + Dᵥ⋅(B - 1)⎠   A ⋅⎝- A ⋅Dᵤ + Dᵥ⋅(B - 1)⎠    2         B⋅⎝- A ⋅Dᵤ + Dᵥ\n",
       "            2⋅   ╱    A  - 2⋅A ⋅B - 2⋅A  - ───────────────────────── + ───────────────────────── + B  - 2⋅B - ───────────────\n",
       "                ╱                                      Dᵥ                          Dᵤ                                    Dᵥ  \n",
       "              ╲╱                                                                                                             \n",
       "\n",
       "       ⎛   2                ⎞                        ⎛   2                ⎞                                                  \n",
       "    Dᵤ⋅⎝- A ⋅Dᵤ + Dᵥ⋅(B - 1)⎠                     Dᵥ⋅⎝- A ⋅Dᵤ + Dᵥ⋅(B - 1)⎠                                                  \n",
       "ᵤ + ───────────────────────── - Dᵥ⋅(B - 1) - Dᵥ + ─────────────────────────                                                  \n",
       "               2⋅Dᵥ                                          2⋅Dᵤ                                                            \n",
       "─────────────────────────────────────────────────────────────────────────────────────────────────────────────────────────────\n",
       "_____________________________________________________________________________________________________________________________\n",
       "                                                                                        2                                    \n",
       "        ⎞     ⎛   2                ⎞          2                   ⎛   2                ⎞       2                   ⎛   2     \n",
       "⋅(B - 1)⎠   B⋅⎝- A ⋅Dᵤ + Dᵥ⋅(B - 1)⎠       - A ⋅Dᵤ + Dᵥ⋅(B - 1)   ⎝- A ⋅Dᵤ + Dᵥ⋅(B - 1)⎠    - A ⋅Dᵤ + Dᵥ⋅(B - 1)   ⎝- A ⋅Dᵤ +\n",
       "───────── + ──────────────────────── + 1 + ──────────────────── + ─────────────────────── - ──────────────────── - ──────────\n",
       "                       Dᵤ                           Dᵥ                         2                     Dᵤ                    2⋅\n",
       "                                                                           4⋅Dᵥ                                              \n",
       "\n",
       "                                        \n",
       "                                        \n",
       "                                        \n",
       "                                        \n",
       "────────────────────────────────────────\n",
       "________________________________________\n",
       "            2                         2 \n",
       "           ⎞    ⎛   2                ⎞  \n",
       " Dᵥ⋅(B - 1)⎠    ⎝- A ⋅Dᵤ + Dᵥ⋅(B - 1)⎠  \n",
       "───────────── + ─────────────────────── \n",
       "Dᵤ⋅Dᵥ                        2          \n",
       "                         4⋅Dᵤ           "
      ]
     },
     "execution_count": 39,
     "metadata": {},
     "output_type": "execute_result"
    }
   ],
   "source": [
    "k_2 = symbols('k_2')\n",
    "lambda_k2_2 = lambda_k_2.subs(k**2, k_2 )\n",
    "display(lambda_k2_2)\n",
    "lambda_k2_2.diff(k_2).subs(k_2, k_c_2)"
   ]
  },
  {
   "cell_type": "code",
   "execution_count": 78,
   "id": "d2fc1fea",
   "metadata": {
    "ExecuteTime": {
     "end_time": "2022-08-15T16:44:24.623433Z",
     "start_time": "2022-08-15T16:44:24.591425Z"
    }
   },
   "outputs": [
    {
     "data": {
      "text/latex": [
       "$\\displaystyle - \\frac{D_{u}}{2} - \\frac{D_{v}}{2} + \\frac{- A^{2} D_{u} + A^{2} D_{v} - B D_{u} + B D_{v} + D_{u}^{2} k_{2} - 2 D_{u} D_{v} k_{2} + D_{u} + D_{v}^{2} k_{2} - D_{v}}{2 \\sqrt{A^{4} - 2 A^{2} B - 2 A^{2} D_{u} k_{2} + 2 A^{2} D_{v} k_{2} - 2 A^{2} + B^{2} - 2 B D_{u} k_{2} + 2 B D_{v} k_{2} - 2 B + D_{u}^{2} k_{2}^{2} - 2 D_{u} D_{v} k_{2}^{2} + 2 D_{u} k_{2} + D_{v}^{2} k_{2}^{2} - 2 D_{v} k_{2} + 1}}$"
      ],
      "text/plain": [
       "                                                    2       2                      2                          2              \n",
       "  Dᵤ   Dᵥ                                        - A ⋅Dᵤ + A ⋅Dᵥ - B⋅Dᵤ + B⋅Dᵥ + Dᵤ ⋅k₂ - 2⋅Dᵤ⋅Dᵥ⋅k₂ + Dᵤ + Dᵥ ⋅k₂ - Dᵥ      \n",
       "- ── - ── + ─────────────────────────────────────────────────────────────────────────────────────────────────────────────────\n",
       "  2    2         ____________________________________________________________________________________________________________\n",
       "                ╱  4      2        2            2            2    2                                   2   2             2    \n",
       "            2⋅╲╱  A  - 2⋅A ⋅B - 2⋅A ⋅Dᵤ⋅k₂ + 2⋅A ⋅Dᵥ⋅k₂ - 2⋅A  + B  - 2⋅B⋅Dᵤ⋅k₂ + 2⋅B⋅Dᵥ⋅k₂ - 2⋅B + Dᵤ ⋅k₂  - 2⋅Dᵤ⋅Dᵥ⋅k₂  + 2\n",
       "\n",
       "                               \n",
       "                               \n",
       "───────────────────────────────\n",
       "_______________________________\n",
       "           2   2               \n",
       "⋅Dᵤ⋅k₂ + Dᵥ ⋅k₂  - 2⋅Dᵥ⋅k₂ + 1 "
      ]
     },
     "execution_count": 78,
     "metadata": {},
     "output_type": "execute_result"
    }
   ],
   "source": [
    "llll = lambda_k2_2.diff(k_2)\n",
    "llll"
   ]
  },
  {
   "cell_type": "code",
   "execution_count": 79,
   "id": "8b0120a8",
   "metadata": {
    "ExecuteTime": {
     "end_time": "2022-08-15T16:44:49.273658Z",
     "start_time": "2022-08-15T16:44:49.243060Z"
    }
   },
   "outputs": [
    {
     "data": {
      "text/latex": [
       "$\\displaystyle \\frac{- A^{2} D_{u} + A^{2} D_{v} - B D_{u} + B D_{v} + D_{u}^{2} k_{2} - 2 D_{u} D_{v} k_{2} + D_{u} + D_{v}^{2} k_{2} - D_{v}}{2 \\sqrt{A^{4} - 2 A^{2} B - 2 A^{2} D_{u} k_{2} + 2 A^{2} D_{v} k_{2} - 2 A^{2} + B^{2} - 2 B D_{u} k_{2} + 2 B D_{v} k_{2} - 2 B + D_{u}^{2} k_{2}^{2} - 2 D_{u} D_{v} k_{2}^{2} + 2 D_{u} k_{2} + D_{v}^{2} k_{2}^{2} - 2 D_{v} k_{2} + 1}}$"
      ],
      "text/plain": [
       "                                        2       2                      2                          2                          \n",
       "                                     - A ⋅Dᵤ + A ⋅Dᵥ - B⋅Dᵤ + B⋅Dᵥ + Dᵤ ⋅k₂ - 2⋅Dᵤ⋅Dᵥ⋅k₂ + Dᵤ + Dᵥ ⋅k₂ - Dᵥ                  \n",
       "─────────────────────────────────────────────────────────────────────────────────────────────────────────────────────────────\n",
       "     ________________________________________________________________________________________________________________________\n",
       "    ╱  4      2        2            2            2    2                                   2   2             2               2\n",
       "2⋅╲╱  A  - 2⋅A ⋅B - 2⋅A ⋅Dᵤ⋅k₂ + 2⋅A ⋅Dᵥ⋅k₂ - 2⋅A  + B  - 2⋅B⋅Dᵤ⋅k₂ + 2⋅B⋅Dᵥ⋅k₂ - 2⋅B + Dᵤ ⋅k₂  - 2⋅Dᵤ⋅Dᵥ⋅k₂  + 2⋅Dᵤ⋅k₂ + Dᵥ \n",
       "\n",
       "                   \n",
       "                   \n",
       "───────────────────\n",
       "___________________\n",
       "   2               \n",
       "⋅k₂  - 2⋅Dᵥ⋅k₂ + 1 "
      ]
     },
     "execution_count": 79,
     "metadata": {},
     "output_type": "execute_result"
    }
   ],
   "source": [
    "llll2 = llll.as_ordered_terms()[2]#.as_ordered_terms()\n",
    "llll2"
   ]
  },
  {
   "cell_type": "code",
   "execution_count": 57,
   "id": "7e5e6713",
   "metadata": {
    "ExecuteTime": {
     "end_time": "2022-08-15T16:29:05.131224Z",
     "start_time": "2022-08-15T16:29:05.100758Z"
    }
   },
   "outputs": [
    {
     "ename": "IndexError",
     "evalue": "tuple index out of range",
     "output_type": "error",
     "traceback": [
      "\u001b[0;31m---------------------------------------------------------------------------\u001b[0m",
      "\u001b[0;31mIndexError\u001b[0m                                Traceback (most recent call last)",
      "Input \u001b[0;32mIn [57]\u001b[0m, in \u001b[0;36m<cell line: 1>\u001b[0;34m()\u001b[0m\n\u001b[0;32m----> 1\u001b[0m \u001b[43mllll\u001b[49m\u001b[38;5;241;43m.\u001b[39;49m\u001b[43mas_terms\u001b[49m\u001b[43m(\u001b[49m\u001b[43m)\u001b[49m\u001b[43m[\u001b[49m\u001b[38;5;241;43m2\u001b[39;49m\u001b[43m]\u001b[49m\n",
      "\u001b[0;31mIndexError\u001b[0m: tuple index out of range"
     ]
    }
   ],
   "source": [
    "llll.as_terms()[2]"
   ]
  },
  {
   "cell_type": "code",
   "execution_count": 81,
   "id": "a698ca45",
   "metadata": {
    "ExecuteTime": {
     "end_time": "2022-08-15T16:45:49.320662Z",
     "start_time": "2022-08-15T16:45:49.286770Z"
    }
   },
   "outputs": [
    {
     "data": {
      "text/latex": [
       "$\\displaystyle - \\left(D_{u} - D_{v}\\right) \\left(A^{2} + B - 1 - \\frac{- A^{2} D_{u} + D_{v} \\left(B - 1\\right)}{2 D_{v}} + \\frac{- A^{2} D_{u} + D_{v} \\left(B - 1\\right)}{2 D_{u}}\\right)$"
      ],
      "text/plain": [
       "           ⎛                2                      2                ⎞\n",
       "           ⎜ 2           - A ⋅Dᵤ + Dᵥ⋅(B - 1)   - A ⋅Dᵤ + Dᵥ⋅(B - 1)⎟\n",
       "-(Dᵤ - Dᵥ)⋅⎜A  + B - 1 - ──────────────────── + ────────────────────⎟\n",
       "           ⎝                     2⋅Dᵥ                   2⋅Dᵤ        ⎠"
      ]
     },
     "execution_count": 81,
     "metadata": {},
     "output_type": "execute_result"
    }
   ],
   "source": [
    "factor(llll.as_terms()[1][2]).subs(k_2, k_c_2)"
   ]
  },
  {
   "cell_type": "code",
   "execution_count": 82,
   "id": "7621a407",
   "metadata": {
    "ExecuteTime": {
     "end_time": "2022-08-15T16:46:23.028902Z",
     "start_time": "2022-08-15T16:46:22.901888Z"
    }
   },
   "outputs": [
    {
     "data": {
      "text/latex": [
       "$\\displaystyle \\frac{- A^{2} D_{u}^{3} + A^{2} D_{u} D_{v}^{2} - B D_{u}^{2} D_{v} + B D_{v}^{3} + D_{u}^{2} D_{v} - D_{v}^{3}}{2 D_{u} D_{v}}$"
      ],
      "text/plain": [
       "   2   3    2      2       2          3     2        3\n",
       "- A ⋅Dᵤ  + A ⋅Dᵤ⋅Dᵥ  - B⋅Dᵤ ⋅Dᵥ + B⋅Dᵥ  + Dᵤ ⋅Dᵥ - Dᵥ \n",
       "──────────────────────────────────────────────────────\n",
       "                       2⋅Dᵤ⋅Dᵥ                        "
      ]
     },
     "execution_count": 82,
     "metadata": {},
     "output_type": "execute_result"
    }
   ],
   "source": [
    "simplify(factor(llll.as_terms()[1][2]).subs(k_2, k_c_2))"
   ]
  },
  {
   "cell_type": "code",
   "execution_count": 64,
   "id": "5eee843d",
   "metadata": {
    "ExecuteTime": {
     "end_time": "2022-08-15T16:33:42.845883Z",
     "start_time": "2022-08-15T16:33:42.833047Z"
    }
   },
   "outputs": [
    {
     "data": {
      "text/latex": [
       "$\\displaystyle - A^{2} D_{u} + A^{2} D_{v} - B D_{u} + B D_{v} + D_{u}^{2} k_{2} - 2 D_{u} D_{v} k_{2} + D_{u} + D_{v}^{2} k_{2} - D_{v}$"
      ],
      "text/plain": [
       "   2       2                      2                          2        \n",
       "- A ⋅Dᵤ + A ⋅Dᵥ - B⋅Dᵤ + B⋅Dᵥ + Dᵤ ⋅k₂ - 2⋅Dᵤ⋅Dᵥ⋅k₂ + Dᵤ + Dᵥ ⋅k₂ - Dᵥ"
      ]
     },
     "execution_count": 64,
     "metadata": {},
     "output_type": "execute_result"
    }
   ],
   "source": [
    "llll.as_terms()[1][2]"
   ]
  },
  {
   "cell_type": "code",
   "execution_count": 72,
   "id": "a6cb1385",
   "metadata": {
    "ExecuteTime": {
     "end_time": "2022-08-15T16:41:24.780245Z",
     "start_time": "2022-08-15T16:41:24.767658Z"
    }
   },
   "outputs": [
    {
     "data": {
      "text/latex": [
       "$\\displaystyle \\frac{- A^{2} D_{u} + D_{v} \\left(B - 1\\right)}{2 D_{u} D_{v}}$"
      ],
      "text/plain": [
       "   2                \n",
       "- A ⋅Dᵤ + Dᵥ⋅(B - 1)\n",
       "────────────────────\n",
       "      2⋅Dᵤ⋅Dᵥ       "
      ]
     },
     "execution_count": 72,
     "metadata": {},
     "output_type": "execute_result"
    }
   ],
   "source": [
    "k_c_2"
   ]
  },
  {
   "cell_type": "code",
   "execution_count": 77,
   "id": "daeff307",
   "metadata": {
    "ExecuteTime": {
     "end_time": "2022-08-15T16:43:17.673813Z",
     "start_time": "2022-08-15T16:43:17.419114Z"
    }
   },
   "outputs": [
    {
     "data": {
      "text/latex": [
       "$\\displaystyle - A^{2} + \\frac{\\left(A^{2} D_{u}^{2} - A^{2} D_{u} D_{v} + B D_{u} D_{v} - B D_{v}^{2} - D_{u} D_{v} + D_{v}^{2}\\right)^{2}}{16 D_{u}^{2} D_{v}^{2}}$"
      ],
      "text/plain": [
       "                                                          2\n",
       "       ⎛ 2   2    2                       2             2⎞ \n",
       "   2   ⎝A ⋅Dᵤ  - A ⋅Dᵤ⋅Dᵥ + B⋅Dᵤ⋅Dᵥ - B⋅Dᵥ  - Dᵤ⋅Dᵥ + Dᵥ ⎠ \n",
       "- A  + ────────────────────────────────────────────────────\n",
       "                                 2   2                     \n",
       "                            16⋅Dᵤ ⋅Dᵥ                      "
      ]
     },
     "execution_count": 77,
     "metadata": {},
     "output_type": "execute_result"
    }
   ],
   "source": [
    "X_1 = (B-1-A**2-k_c_2*(D_u + D_v))/2\n",
    "simplify(X_1**2 - A**2 )"
   ]
  },
  {
   "cell_type": "code",
   "execution_count": null,
   "id": "032bba9e",
   "metadata": {},
   "outputs": [],
   "source": []
  },
  {
   "cell_type": "code",
   "execution_count": null,
   "id": "ca94c590",
   "metadata": {},
   "outputs": [],
   "source": []
  },
  {
   "cell_type": "code",
   "execution_count": null,
   "id": "5ed15eb0",
   "metadata": {},
   "outputs": [],
   "source": []
  },
  {
   "cell_type": "code",
   "execution_count": null,
   "id": "4358d86b",
   "metadata": {},
   "outputs": [],
   "source": []
  },
  {
   "cell_type": "code",
   "execution_count": null,
   "id": "c39cdff7",
   "metadata": {},
   "outputs": [],
   "source": []
  },
  {
   "cell_type": "code",
   "execution_count": null,
   "id": "49b8d996",
   "metadata": {},
   "outputs": [],
   "source": []
  }
 ],
 "metadata": {
  "kernelspec": {
   "display_name": "Python 3 (ipykernel)",
   "language": "python",
   "name": "python3"
  },
  "language_info": {
   "codemirror_mode": {
    "name": "ipython",
    "version": 3
   },
   "file_extension": ".py",
   "mimetype": "text/x-python",
   "name": "python",
   "nbconvert_exporter": "python",
   "pygments_lexer": "ipython3",
   "version": "3.10.4"
  },
  "varInspector": {
   "cols": {
    "lenName": 16,
    "lenType": 16,
    "lenVar": 40
   },
   "kernels_config": {
    "python": {
     "delete_cmd_postfix": "",
     "delete_cmd_prefix": "del ",
     "library": "var_list.py",
     "varRefreshCmd": "print(var_dic_list())"
    },
    "r": {
     "delete_cmd_postfix": ") ",
     "delete_cmd_prefix": "rm(",
     "library": "var_list.r",
     "varRefreshCmd": "cat(var_dic_list()) "
    }
   },
   "types_to_exclude": [
    "module",
    "function",
    "builtin_function_or_method",
    "instance",
    "_Feature"
   ],
   "window_display": false
  }
 },
 "nbformat": 4,
 "nbformat_minor": 5
}
