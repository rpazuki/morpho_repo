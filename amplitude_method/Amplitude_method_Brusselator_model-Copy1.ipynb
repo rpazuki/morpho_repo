{
 "cells": [
  {
   "cell_type": "code",
   "execution_count": 1,
   "id": "c1aebf2c",
   "metadata": {
    "ExecuteTime": {
     "end_time": "2022-09-14T14:12:28.900529Z",
     "start_time": "2022-09-14T14:12:27.682063Z"
    }
   },
   "outputs": [],
   "source": [
    "from sympy import *\n",
    "import numpy as np\n",
    "import matplotlib.pyplot as plt\n",
    "from matplotlib.gridspec import GridSpec\n",
    "from IPython.display import display, Latex\n",
    "from utils import *\n",
    "\n",
    "import warnings\n",
    "warnings.filterwarnings('ignore')\n",
    "\n",
    "init_printing(use_latex='mathjax')"
   ]
  },
  {
   "cell_type": "markdown",
   "id": "8841c471",
   "metadata": {},
   "source": [
    "<h1><center>Section 2: Brusselator model</center> </h1>"
   ]
  },
  {
   "cell_type": "markdown",
   "id": "87c0e4e4",
   "metadata": {},
   "source": [
    "## Introduction\n",
    "\n",
    "In this section, we will apply the result of the previous section on the Brusselator model. To speed up the calculation, we will use the _sympy_ library that provides the symbolic computation for Python. This way, we can derive the result quickly and fast.\n",
    "In each cell, we might use some commands from _sympy_ (explained by a comment) or any of the following commands:\n",
    "\n",
    "__lprint__: Print a string into the ouput that has one or placeholders for latex scripts.\n",
    "\n",
    "__hprint__: Print a sympy object into the ouput that is starts with the provded header as latex script.\n",
    "\n",
    "Below are some examples"
   ]
  },
  {
   "cell_type": "code",
   "execution_count": 2,
   "id": "d65e50f1",
   "metadata": {
    "ExecuteTime": {
     "end_time": "2022-09-14T14:12:30.763474Z",
     "start_time": "2022-09-14T14:12:30.754863Z"
    }
   },
   "outputs": [
    {
     "data": {
      "text/latex": [
       "The fraction is $\\lambda^*$=$\\frac{B-1-A^2}{2}$:"
      ],
      "text/plain": [
       "<IPython.core.display.Latex object>"
      ]
     },
     "metadata": {},
     "output_type": "display_data"
    },
    {
     "data": {
      "text/plain": [
       "<IPython.core.display.Latex object>"
      ]
     },
     "metadata": {},
     "output_type": "display_data"
    },
    {
     "data": {
      "text/latex": [
       "$This \\, is \\, \\pi \\, in \\, sympy: \\pi$"
      ],
      "text/plain": [
       "<IPython.core.display.Latex object>"
      ]
     },
     "metadata": {},
     "output_type": "display_data"
    }
   ],
   "source": [
    "lprint(lprint(\"The fraction is {0}={1}:\", r\"\\lambda^*\", r\"\\frac{B-1-A^2}{2}\"))\n",
    "hprint(\"This \\, is \\, \\pi \\, in \\, sympy: \", pi)"
   ]
  },
  {
   "cell_type": "markdown",
   "id": "dc8995c4",
   "metadata": {},
   "source": [
    "## Brusselator PDEs\n",
    "\n",
    "> The Brusselator PDEs for two species are\n",
    "<h3><center>$\\partial_t u = D_u (\\partial_x^2 + \\partial_y^2)u + A - (B+1)u + u^2v$</center></h3>\n",
    "\n",
    "<h3><center>$\\partial_t v = D_v (\\partial_x^2 + \\partial_y^2)v + Bu - u^2 v$</center></h3>\n",
    "\n",
    "for diffusion constants $D_u$, $D_v$, and model parameters $A, B > 0$.\n",
    "Therefore, the kinetic terms are\n",
    "\n",
    "<h3><center>$f(u,v) = A - (B+1)u + u^2v$</center></h3>\n",
    "<h3><center>$g(u,v) = Bu - u^2 v$</center></h3>"
   ]
  },
  {
   "cell_type": "markdown",
   "id": "5f921406",
   "metadata": {},
   "source": [
    "To start with __sympy__, we must define the list of parameters that will be used as symbol."
   ]
  },
  {
   "cell_type": "code",
   "execution_count": 3,
   "id": "c3c56a86",
   "metadata": {
    "ExecuteTime": {
     "end_time": "2022-09-14T14:12:33.840162Z",
     "start_time": "2022-09-14T14:12:33.835675Z"
    }
   },
   "outputs": [],
   "source": [
    "A, B, D_u, D_v, k = symbols('A, B, D_u, D_v, k', real=True, positive=True)\n",
    "u, v = symbols('u, v', real=True)\n",
    "#k = symbols('k', integer=True)"
   ]
  },
  {
   "cell_type": "markdown",
   "id": "9ebfa7bc",
   "metadata": {},
   "source": [
    "Next, we can define the kinetic terms, $f(u, v)$ and $g(u, v)$ for parameters $(D_u, D_v, A, B)$"
   ]
  },
  {
   "cell_type": "code",
   "execution_count": 4,
   "id": "2bdf4123",
   "metadata": {
    "ExecuteTime": {
     "end_time": "2022-09-14T14:12:35.634540Z",
     "start_time": "2022-09-14T14:12:35.365971Z"
    }
   },
   "outputs": [
    {
     "data": {
      "text/latex": [
       "$f(u,v) = $$A + u^{2} v - u \\left(B + 1\\right)$"
      ],
      "text/plain": [
       "<IPython.core.display.Latex object>"
      ]
     },
     "metadata": {},
     "output_type": "display_data"
    },
    {
     "data": {
      "text/latex": [
       "$g(u,v) = $$B u - u^{2} v$"
      ],
      "text/plain": [
       "<IPython.core.display.Latex object>"
      ]
     },
     "metadata": {},
     "output_type": "display_data"
    }
   ],
   "source": [
    "# define kinteic terms symbolically in sympy\n",
    "f = A - (B + 1) * u + u**2 * v\n",
    "g = B * u - u**2 * v\n",
    "# print their form\n",
    "lprint(\"$f(u,v) = ${0}\", f)\n",
    "lprint(\"$g(u,v) = ${0}\",g)"
   ]
  },
  {
   "cell_type": "markdown",
   "id": "1e66b819",
   "metadata": {},
   "source": [
    "and mixing them as a vector is using _Matrix_ method like"
   ]
  },
  {
   "cell_type": "code",
   "execution_count": 5,
   "id": "cf568d53",
   "metadata": {
    "ExecuteTime": {
     "end_time": "2022-09-14T14:12:38.487417Z",
     "start_time": "2022-09-14T14:12:38.480447Z"
    }
   },
   "outputs": [
    {
     "data": {
      "text/latex": [
       "$\\boldsymbol{f}(u, v) = \\left[\\begin{matrix}A + u^{2} v - u \\left(B + 1\\right)\\\\B u - u^{2} v\\end{matrix}\\right]$"
      ],
      "text/plain": [
       "<IPython.core.display.Latex object>"
      ]
     },
     "metadata": {},
     "output_type": "display_data"
    }
   ],
   "source": [
    "Kinetic = Matrix(\n",
    "    [[f], \n",
    "     [g]])\n",
    "hprint(r\"\\boldsymbol{f}(u, v) = \", Kinetic)"
   ]
  },
  {
   "cell_type": "markdown",
   "id": "28579547",
   "metadata": {},
   "source": [
    "After that, we need to find the steady state solutions of the system without diffusion by solving the following nonlinear equations\n",
    "\n",
    "<center>$f(u,v) = A - (B+1)u + u^2v = 0$</center>\n",
    "<center>$g(u,v) = Bu - u^2 v = 0$</center>\n",
    "\n",
    "The solution of the above equations, dented by $u^*$ and $v^*$, is such that\n",
    "<center>$f(u^*, v^*) = 0$</center>\n",
    "<center>$g(u^*, v^*) = 0$</center>\n",
    "\n",
    "In _sympy_ it we can solve the system symbolicly by using the _solve_ function"
   ]
  },
  {
   "cell_type": "code",
   "execution_count": 6,
   "id": "b03594fd",
   "metadata": {
    "ExecuteTime": {
     "end_time": "2022-09-14T14:12:41.303735Z",
     "start_time": "2022-09-14T14:12:41.258487Z"
    }
   },
   "outputs": [
    {
     "data": {
      "text/latex": [
       "$u^* = A$"
      ],
      "text/plain": [
       "<IPython.core.display.Latex object>"
      ]
     },
     "metadata": {},
     "output_type": "display_data"
    },
    {
     "data": {
      "text/latex": [
       "$v^* = \\frac{B}{A}$"
      ],
      "text/plain": [
       "<IPython.core.display.Latex object>"
      ]
     },
     "metadata": {},
     "output_type": "display_data"
    }
   ],
   "source": [
    "# finding the steady state of the system, which\n",
    "# is the solution of the system with respect to u and v\n",
    "u_star, v_star = solve(Kinetic, (u, v))[0]\n",
    "hprint(\"u^* = \", u_star)\n",
    "hprint(\"v^* = \", v_star)"
   ]
  },
  {
   "cell_type": "markdown",
   "id": "b8b09ed5",
   "metadata": {},
   "source": [
    "Next, to linearise the PDE system, we must derive the Jacobian of $(f, g)$ that is evaluated at $(u^*, v^*)$ "
   ]
  },
  {
   "cell_type": "code",
   "execution_count": 7,
   "id": "37f19784",
   "metadata": {
    "ExecuteTime": {
     "end_time": "2022-09-14T14:12:43.305765Z",
     "start_time": "2022-09-14T14:12:43.277441Z"
    }
   },
   "outputs": [
    {
     "data": {
      "text/latex": [
       "$J_0= \\frac{\\partial \\boldsymbol{f}_i}{\\partial u_j} = \\left[\\begin{matrix}- B + 2 u v - 1 & u^{2}\\\\B - 2 u v & - u^{2}\\end{matrix}\\right]$"
      ],
      "text/plain": [
       "<IPython.core.display.Latex object>"
      ]
     },
     "metadata": {},
     "output_type": "display_data"
    },
    {
     "data": {
      "text/latex": [
       "$J_0|_{(u^*, v^*)} =\\left[\\begin{matrix}B - 1 & A^{2}\\\\- B & - A^{2}\\end{matrix}\\right]$"
      ],
      "text/plain": [
       "<IPython.core.display.Latex object>"
      ]
     },
     "metadata": {},
     "output_type": "display_data"
    }
   ],
   "source": [
    "# Find the jacobian of the vectorised kinetic terms w.r.t. u and v\n",
    "J_0 = Kinetic.jacobian([u, v])\n",
    "# Print the jacobian\n",
    "hprint(r\"J_0= \\frac{\\partial \\boldsymbol{f}_i}{\\partial u_j} = \", J_0)\n",
    "# Evaluate the jacobian at the stationary solution\n",
    "J_0 = J_0.subs([(u, u_star), (v, v_star)])\n",
    "# print the jacobian at the stationary solution\n",
    "hprint(\"J_0|_{(u^*, v^*)} =\", J_0)"
   ]
  },
  {
   "cell_type": "markdown",
   "id": "7af3b535",
   "metadata": {},
   "source": [
    "Eigenvalues of the resulting matrix in terms of parameters $A$ and $B$ derives by calling _eigenvals_ function"
   ]
  },
  {
   "cell_type": "code",
   "execution_count": 8,
   "id": "75a20cd4",
   "metadata": {
    "ExecuteTime": {
     "end_time": "2022-09-14T14:12:45.416867Z",
     "start_time": "2022-09-14T14:12:45.328701Z"
    }
   },
   "outputs": [
    {
     "data": {
      "text/latex": [
       "$\\lambda^{(0)}_1 = - \\frac{A^{2}}{2} + \\frac{B}{2} - \\frac{\\sqrt{\\left(A^{2} - 2 A - B + 1\\right) \\left(A^{2} + 2 A - B + 1\\right)}}{2} - \\frac{1}{2}$"
      ],
      "text/plain": [
       "<IPython.core.display.Latex object>"
      ]
     },
     "metadata": {},
     "output_type": "display_data"
    },
    {
     "data": {
      "text/latex": [
       "$\\lambda^{(0)}_2 = - \\frac{A^{2}}{2} + \\frac{B}{2} + \\frac{\\sqrt{\\left(A^{2} - 2 A - B + 1\\right) \\left(A^{2} + 2 A - B + 1\\right)}}{2} - \\frac{1}{2}$"
      ],
      "text/plain": [
       "<IPython.core.display.Latex object>"
      ]
     },
     "metadata": {},
     "output_type": "display_data"
    }
   ],
   "source": [
    "# Deriving eigenvalues of the jacobian in terms of parameter A and B\n",
    "λ_0_1, λ_0_2 =  list(J_0.eigenvals().keys())\n",
    "hprint(\"\\lambda^{(0)}_1 = \", λ_0_1)\n",
    "hprint(\"\\lambda^{(0)}_2 = \", λ_0_2)"
   ]
  },
  {
   "cell_type": "markdown",
   "id": "9b5a5c2e",
   "metadata": {},
   "source": [
    "We can find the region of the $(A, B)$ plan where both $\\lambda_1$ and $\\lambda_2$ are negative (Turing stability) or directly use the inequalities we saw in the previous section.\n",
    "Here, we try both of them and get exactly the same result."
   ]
  },
  {
   "cell_type": "code",
   "execution_count": 9,
   "id": "5f8a6f6d",
   "metadata": {
    "ExecuteTime": {
     "end_time": "2022-09-14T14:12:48.436433Z",
     "start_time": "2022-09-14T14:12:48.410822Z"
    }
   },
   "outputs": [
    {
     "data": {
      "text/latex": [
       "Condition 1: $- A^{2} + B - 1$ $< 0$"
      ],
      "text/plain": [
       "<IPython.core.display.Latex object>"
      ]
     },
     "metadata": {},
     "output_type": "display_data"
    },
    {
     "data": {
      "text/latex": [
       "Condition 2: $A^{2}$ $> 0$"
      ],
      "text/plain": [
       "<IPython.core.display.Latex object>"
      ]
     },
     "metadata": {},
     "output_type": "display_data"
    }
   ],
   "source": [
    "# Find the trace and determinant of J_0 symbolically\n",
    "cond_1 = J_0.trace()\n",
    "cond_2 = J_0.det()\n",
    "lprint(r\"Condition 1: {0} $< 0$\", latex(cond_1))\n",
    "lprint(r\"Condition 2: {0} $> 0$\", latex(cond_2))\n",
    "# convert the symbolic trace and determinants to numpy functions\n",
    "cond_1_f = lambdify([A, B], cond_1, modules='numpy')\n",
    "cond_2_f = lambdify([A, B], cond_2, modules='numpy')\n",
    "# convert the symbolic lambda_2 to a numpy function\n",
    "λ_0_2_f = lambdify([A, B], λ_0_2, modules='numpy')"
   ]
  },
  {
   "cell_type": "markdown",
   "id": "1bf943d9",
   "metadata": {},
   "source": [
    "Including the diffusion, the matrix $\\boldsymbol{J}$ defines as\n",
    "<center>$\\boldsymbol{J} = \\boldsymbol{J_0} - k^2 \\boldsymbol{D}$</center>\n",
    "and we can use _sympy_ to find its egenvalues symbolically as follows:"
   ]
  },
  {
   "cell_type": "code",
   "execution_count": 10,
   "id": "d29bedbc",
   "metadata": {
    "ExecuteTime": {
     "end_time": "2022-09-14T14:12:51.905814Z",
     "start_time": "2022-09-14T14:12:51.691060Z"
    }
   },
   "outputs": [
    {
     "data": {
      "text/latex": [
       "$\\boldsymbol{J}$ = $\\left[\\begin{matrix}B - D_{u} k^{2} - 1 & A^{2}\\\\- B & - A^{2} - D_{v} k^{2}\\end{matrix}\\right]$"
      ],
      "text/plain": [
       "<IPython.core.display.Latex object>"
      ]
     },
     "metadata": {},
     "output_type": "display_data"
    },
    {
     "data": {
      "text/latex": [
       "$\\lambda_1 = - \\frac{A^{2}}{2} + \\frac{B}{2} - \\frac{D_{u} k^{2}}{2} - \\frac{D_{v} k^{2}}{2} - \\frac{\\sqrt{A^{4} - 2 A^{2} B - 2 A^{2} D_{u} k^{2} + 2 A^{2} D_{v} k^{2} - 2 A^{2} + B^{2} - 2 B D_{u} k^{2} + 2 B D_{v} k^{2} - 2 B + D_{u}^{2} k^{4} - 2 D_{u} D_{v} k^{4} + 2 D_{u} k^{2} + D_{v}^{2} k^{4} - 2 D_{v} k^{2} + 1}}{2} - \\frac{1}{2}$"
      ],
      "text/plain": [
       "<IPython.core.display.Latex object>"
      ]
     },
     "metadata": {},
     "output_type": "display_data"
    },
    {
     "data": {
      "text/latex": [
       "$\\lambda_2 = - \\frac{A^{2}}{2} + \\frac{B}{2} - \\frac{D_{u} k^{2}}{2} - \\frac{D_{v} k^{2}}{2} + \\frac{\\sqrt{A^{4} - 2 A^{2} B - 2 A^{2} D_{u} k^{2} + 2 A^{2} D_{v} k^{2} - 2 A^{2} + B^{2} - 2 B D_{u} k^{2} + 2 B D_{v} k^{2} - 2 B + D_{u}^{2} k^{4} - 2 D_{u} D_{v} k^{4} + 2 D_{u} k^{2} + D_{v}^{2} k^{4} - 2 D_{v} k^{2} + 1}}{2} - \\frac{1}{2}$"
      ],
      "text/plain": [
       "<IPython.core.display.Latex object>"
      ]
     },
     "metadata": {},
     "output_type": "display_data"
    }
   ],
   "source": [
    "# Define J \n",
    "J = J_0 - Matrix([[D_u*k**2, 0       ], \n",
    "                  [0,        D_v*k**2]])\n",
    "# print its form\n",
    "lprint(r\"$\\boldsymbol{J}$ = {0}\", latex(J))\n",
    "# Find its eigenvalues\n",
    "λ_1, λ_2 =  list(J.eigenvals().keys())\n",
    "hprint(\"\\lambda_1 = \", λ_1)\n",
    "hprint(\"\\lambda_2 = \", λ_2)"
   ]
  },
  {
   "cell_type": "markdown",
   "id": "6e9280ec",
   "metadata": {},
   "source": [
    "Find the critical wavenumber which is defined as\n",
    "<center>$k_c =\\sqrt{\\frac{f_u }{2 D_u} + \\frac{g_v}{2 D_v}}$</center>"
   ]
  },
  {
   "cell_type": "code",
   "execution_count": 11,
   "id": "5d4d1983",
   "metadata": {
    "ExecuteTime": {
     "end_time": "2022-09-14T14:12:55.124237Z",
     "start_time": "2022-09-14T14:12:55.100535Z"
    }
   },
   "outputs": [
    {
     "data": {
      "text/latex": [
       "$f_u$=$B - 1$"
      ],
      "text/plain": [
       "<IPython.core.display.Latex object>"
      ]
     },
     "metadata": {},
     "output_type": "display_data"
    },
    {
     "data": {
      "text/latex": [
       "$f_v$=$A^{2}$"
      ],
      "text/plain": [
       "<IPython.core.display.Latex object>"
      ]
     },
     "metadata": {},
     "output_type": "display_data"
    },
    {
     "data": {
      "text/latex": [
       "$g_u$=$- B$"
      ],
      "text/plain": [
       "<IPython.core.display.Latex object>"
      ]
     },
     "metadata": {},
     "output_type": "display_data"
    },
    {
     "data": {
      "text/latex": [
       "$g_v$=$- A^{2}$"
      ],
      "text/plain": [
       "<IPython.core.display.Latex object>"
      ]
     },
     "metadata": {},
     "output_type": "display_data"
    },
    {
     "data": {
      "text/latex": [
       "$k_c$=$\\sqrt{- \\frac{A^{2}}{2 D_{v}} + \\frac{B - 1}{2 D_{u}}}$"
      ],
      "text/plain": [
       "<IPython.core.display.Latex object>"
      ]
     },
     "metadata": {},
     "output_type": "display_data"
    }
   ],
   "source": [
    "f_u = J_0[0, 0]\n",
    "f_v = J_0[0, 1]\n",
    "g_u = J_0[1, 0]\n",
    "g_v = J_0[1, 1]\n",
    "\n",
    "lprint(r\"$f_u$={0}\", latex(f_u))\n",
    "lprint(r\"$f_v$={0}\", latex(f_v))\n",
    "lprint(r\"$g_u$={0}\", latex(g_u))\n",
    "lprint(r\"$g_v$={0}\", latex(g_v))\n",
    "\n",
    "k_c = sqrt(f_u/(2 * D_u) + g_v/(2 * D_v))\n",
    "\n",
    "lprint(r\"$k_c$={0}\", latex(k_c))"
   ]
  },
  {
   "cell_type": "markdown",
   "id": "9d3df319",
   "metadata": {},
   "source": [
    "Before checking the validity of the critical wavenumber, let us find the bifurcation point for given values of $D_u = 1$, $D_v = 10$ and $B = 2$.\n",
    "\n",
    "The onset of bifurcation finds by equation (36) and when it is an equality\n",
    "<center>$(D_v f_u + D_u g_v)^2 \\le 4D_u D_v (f_u g_v - f_v g_u)$<center>\n",
    " So, when we write this inequality for the Brusselator model, we have"
   ]
  },
  {
   "cell_type": "code",
   "execution_count": 12,
   "id": "d4ddebe2",
   "metadata": {
    "ExecuteTime": {
     "end_time": "2022-09-14T14:12:59.062768Z",
     "start_time": "2022-09-14T14:12:58.965377Z"
    }
   },
   "outputs": [
    {
     "data": {
      "text/latex": [
       "The onset of bifurcation condition: $- 4 A^{2} D_{u} D_{v} + \\left(A^{2} D_{u} - D_{v} \\left(B - 1\\right)\\right)^{2}$ = 0"
      ],
      "text/plain": [
       "<IPython.core.display.Latex object>"
      ]
     },
     "metadata": {},
     "output_type": "display_data"
    }
   ],
   "source": [
    "bifurcation_con = simplify((D_v * f_u + D_u * g_v)**2 \n",
    "                           - 4 * D_u *D_v * (f_u * g_v - f_v * g_u))\n",
    "lprint(\"The onset of bifurcation condition: {0} = 0\", latex(bifurcation_con))"
   ]
  },
  {
   "cell_type": "markdown",
   "id": "ef50e6bb",
   "metadata": {},
   "source": [
    "And substituting $D_u = 1$, $D_v = 10$ and $B = 2$ leaves an equation for $A$ which we can solve"
   ]
  },
  {
   "cell_type": "code",
   "execution_count": 13,
   "id": "ceae40cb",
   "metadata": {
    "ExecuteTime": {
     "end_time": "2022-09-14T14:13:01.528416Z",
     "start_time": "2022-09-14T14:13:01.514533Z"
    }
   },
   "outputs": [
    {
     "data": {
      "text/latex": [
       "The onset of bifurcation condition: $- 40 A^{2} + \\left(A^{2} - 10\\right)^{2}$ = 0"
      ],
      "text/plain": [
       "<IPython.core.display.Latex object>"
      ]
     },
     "metadata": {},
     "output_type": "display_data"
    }
   ],
   "source": [
    "bifurcation_con = bifurcation_con.subs([(D_u, 1), (D_v, 10), (B, 2)])\n",
    "lprint(\"The onset of bifurcation condition: {0} = 0\", latex(bifurcation_con))"
   ]
  },
  {
   "cell_type": "code",
   "execution_count": 14,
   "id": "5354c903",
   "metadata": {
    "ExecuteTime": {
     "end_time": "2022-09-14T14:13:03.981504Z",
     "start_time": "2022-09-14T14:13:03.888545Z"
    }
   },
   "outputs": [
    {
     "data": {
      "text/latex": [
       "Solutions: $\\left[ \\sqrt{30 - 20 \\sqrt{2}}, \\  \\sqrt{20 \\sqrt{2} + 30}\\right]$"
      ],
      "text/plain": [
       "<IPython.core.display.Latex object>"
      ]
     },
     "metadata": {},
     "output_type": "display_data"
    },
    {
     "data": {
      "text/latex": [
       "A=$\\sqrt{30 - 20 \\sqrt{2}}$=1.3099"
      ],
      "text/plain": [
       "<IPython.core.display.Latex object>"
      ]
     },
     "metadata": {},
     "output_type": "display_data"
    }
   ],
   "source": [
    "solutions = solve(bifurcation_con)\n",
    "lprint(\"Solutions: {0}\", latex(solutions))\n",
    "A_val = np.float64(solutions[0].evalf())\n",
    "lprint(\"A={0}\" f\"={A_val:.4f}\", latex(solutions[0]))"
   ]
  },
  {
   "cell_type": "markdown",
   "id": "a6bc58bf",
   "metadata": {
    "ExecuteTime": {
     "end_time": "2022-08-18T14:46:41.131470Z",
     "start_time": "2022-08-18T14:46:41.125750Z"
    }
   },
   "source": [
    "So, $(D_u=1, D_v=10, A=-\\sqrt{30 - 20 \\sqrt{2}}, B=2)$ is the onset of bifurcation.\n",
    "We plot $\\lambda_2(k)$ against $k$ and $k_c$ as a vertical line"
   ]
  },
  {
   "cell_type": "markdown",
   "id": "f2a80c0b",
   "metadata": {},
   "source": [
    "### combining all the conditions together"
   ]
  },
  {
   "cell_type": "markdown",
   "id": "8c917ddc",
   "metadata": {},
   "source": [
    "Previously, we saw that for the Brusselator model\n",
    "<h4><center>$det(\\boldsymbol{J_0}) = f_u g_v - f_v g_u = -A^2 < 0$</center></h4>\n",
    "\n",
    "is always true. So, it remains three inequalities that together determine the Turing space of parameters:"
   ]
  },
  {
   "cell_type": "markdown",
   "id": "48eb562d",
   "metadata": {},
   "source": [
    "<h3><center>$f_u + g_v < 0$,</center></h3>\n",
    "<h4><center>$ D_v f_u + D_u g_v > 0$,</center></h4>\n",
    "<h4><center>$(D_v f_u + D_u g_v)^2 > 4D_u D_v (f_u g_v - f_v g_u)$,</center></h4>"
   ]
  },
  {
   "cell_type": "markdown",
   "id": "a304942e",
   "metadata": {},
   "source": [
    "However, these inequalites depends on four parameters, namely $A, B, D_u, D_v$, which makes the plotting of the Turning space very hard. So, we introduce the ratio of diffusion constants as $\\delta = D_u/D_v$, and then for $D_u, D_v > 0$\n",
    "<h4><center>$f_u + g_v < 0$,</center></h4>\n",
    "<h4><center>$ f_u + \\delta g_v > 0$,</center></h4>\n",
    "<h4><center>$(f_u + \\delta g_v)^2 > 4 \\delta (f_u g_v - f_v g_u)$,</center></h4>\n",
    "\n",
    "This set of inequalities have only three independnet parameters, and by fixing $\\delta$, we can find the Turing space on $(A, B)$ plane.\n",
    "\n",
    "Let us first define $\\delta$ and the new two inequalities symbolicly, and turn them to a numpy function."
   ]
  },
  {
   "cell_type": "code",
   "execution_count": 15,
   "id": "9754ebda",
   "metadata": {
    "ExecuteTime": {
     "end_time": "2022-09-14T14:13:07.610928Z",
     "start_time": "2022-09-14T14:13:07.591435Z"
    }
   },
   "outputs": [
    {
     "data": {
      "text/latex": [
       "Condition 3: $- A^{2} δ + B - 1$$ > 0$ "
      ],
      "text/plain": [
       "<IPython.core.display.Latex object>"
      ]
     },
     "metadata": {},
     "output_type": "display_data"
    },
    {
     "data": {
      "text/latex": [
       "Condition 4: $- 4 A^{2} δ + \\left(- A^{2} δ + B - 1\\right)^{2}$$ > 0$ "
      ],
      "text/plain": [
       "<IPython.core.display.Latex object>"
      ]
     },
     "metadata": {},
     "output_type": "display_data"
    }
   ],
   "source": [
    "δ = symbols(\"δ\", positive=True)\n",
    "\n",
    "cond_3 = f_u + δ * g_v\n",
    "cond_4 = cond_3**2 - 4 * δ * J_0.det()\n",
    "lprint(r\"Condition 3: {0}$ > 0$ \", latex(cond_3) )\n",
    "lprint(r\"Condition 4: {0}$ > 0$ \", latex(cond_4) )\n",
    "# convert the conditions to numpy functions\n",
    "cond_3_f = lambdify([A, B, δ], cond_3, modules='numpy')\n",
    "cond_4_f = lambdify([A, B, δ], cond_4, modules='numpy')"
   ]
  },
  {
   "cell_type": "code",
   "execution_count": 16,
   "id": "15fd0305",
   "metadata": {
    "ExecuteTime": {
     "end_time": "2022-09-14T14:13:09.601588Z",
     "start_time": "2022-09-14T14:13:09.579961Z"
    }
   },
   "outputs": [
    {
     "data": {
      "text/latex": [
       "$\\lambda_2 = $$- \\frac{A^{2}}{2} + \\frac{B}{2} - \\frac{D_{u} k^{2}}{2} - \\frac{D_{v} k^{2}}{2} + \\frac{\\sqrt{A^{4} - 2 A^{2} B - 2 A^{2} D_{u} k^{2} + 2 A^{2} D_{v} k^{2} - 2 A^{2} + B^{2} - 2 B D_{u} k^{2} + 2 B D_{v} k^{2} - 2 B + D_{u}^{2} k^{4} - 2 D_{u} D_{v} k^{4} + 2 D_{u} k^{2} + D_{v}^{2} k^{4} - 2 D_{v} k^{2} + 1}}{2} - \\frac{1}{2}$"
      ],
      "text/plain": [
       "<IPython.core.display.Latex object>"
      ]
     },
     "metadata": {},
     "output_type": "display_data"
    }
   ],
   "source": [
    "lprint(r\"$\\lambda_2 = ${0}\", λ_2)"
   ]
  },
  {
   "cell_type": "code",
   "execution_count": 17,
   "id": "88ec89a3",
   "metadata": {
    "ExecuteTime": {
     "end_time": "2022-09-14T14:13:38.386965Z",
     "start_time": "2022-09-14T14:13:10.935998Z"
    }
   },
   "outputs": [
    {
     "data": {
      "text/latex": [
       "$k^2_c = $$\\frac{- A \\sqrt{B} \\left(D_{u} - D_{v}\\right)^{2} \\left(D_{u} + D_{v}\\right) + \\sqrt{D_{u}} \\sqrt{D_{v}} \\left(A^{2} + B - 1\\right) \\left(D_{u}^{2} - 2 D_{u} D_{v} + D_{v}^{2}\\right)}{\\sqrt{D_{u}} \\sqrt{D_{v}} \\left(D_{u} - D_{v}\\right) \\left(D_{u}^{2} - 2 D_{u} D_{v} + D_{v}^{2}\\right)}$"
      ],
      "text/plain": [
       "<IPython.core.display.Latex object>"
      ]
     },
     "metadata": {},
     "output_type": "display_data"
    },
    {
     "data": {
      "text/latex": [
       "$k^2_c = $$\\frac{A \\sqrt{B} \\left(D_{u} - D_{v}\\right)^{2} \\left(D_{u} + D_{v}\\right) + \\sqrt{D_{u}} \\sqrt{D_{v}} \\left(A^{2} + B - 1\\right) \\left(D_{u}^{2} - 2 D_{u} D_{v} + D_{v}^{2}\\right)}{\\sqrt{D_{u}} \\sqrt{D_{v}} \\left(D_{u} - D_{v}\\right) \\left(D_{u}^{2} - 2 D_{u} D_{v} + D_{v}^{2}\\right)}$"
      ],
      "text/plain": [
       "<IPython.core.display.Latex object>"
      ]
     },
     "metadata": {},
     "output_type": "display_data"
    }
   ],
   "source": [
    "k_2 = symbols(\"k^2\", positive=True)\n",
    "k_2_c_1, k_2_c_2 = solve(λ_2.subs(k**2, k_2).diff(k_2), k_2)\n",
    "lprint(r\"$k^2_c = ${0}\", k_2_c_1)\n",
    "lprint(r\"$k^2_c = ${0}\", k_2_c_2)"
   ]
  },
  {
   "cell_type": "code",
   "execution_count": null,
   "id": "d7979300",
   "metadata": {},
   "outputs": [],
   "source": []
  },
  {
   "cell_type": "markdown",
   "id": "04cc8857",
   "metadata": {},
   "source": [
    "# Write the PDE for perturbed solution"
   ]
  },
  {
   "cell_type": "code",
   "execution_count": 18,
   "id": "e952dfb3",
   "metadata": {
    "ExecuteTime": {
     "end_time": "2022-09-14T14:13:38.611344Z",
     "start_time": "2022-09-14T14:13:38.598442Z"
    }
   },
   "outputs": [
    {
     "data": {
      "text/latex": [
       "$\\tilde{f}$ = $A^{2} v + 2 A u v + u^{2} v + u \\left(B - 1\\right) + \\frac{B u^{2}}{A}$"
      ],
      "text/plain": [
       "<IPython.core.display.Latex object>"
      ]
     },
     "metadata": {},
     "output_type": "display_data"
    },
    {
     "data": {
      "text/latex": [
       "$\\tilde{g}$ = $- A^{2} v - 2 A u v - B u - u^{2} v - \\frac{B u^{2}}{A}$"
      ],
      "text/plain": [
       "<IPython.core.display.Latex object>"
      ]
     },
     "metadata": {},
     "output_type": "display_data"
    }
   ],
   "source": [
    "f_p = (B - 1) * u + A**2 * v + 2 * A * u * v + (B/A) * u**2 + u**2 * v\n",
    "g_p = -B * u - A**2 * v - 2 * A * u * v - (B/A) * u**2 - u**2 * v\n",
    "lprint(r\"$\\tilde{f}$ = {0}\", f_p)\n",
    "lprint(r\"$\\tilde{g}$ = {0}\", g_p)"
   ]
  },
  {
   "cell_type": "code",
   "execution_count": 19,
   "id": "2f2d79af",
   "metadata": {
    "ExecuteTime": {
     "end_time": "2022-09-14T14:13:38.835220Z",
     "start_time": "2022-09-14T14:13:38.831837Z"
    }
   },
   "outputs": [],
   "source": [
    "def creat_coeff_z(expr, sym_list):\n",
    "    def coeff(sym):\n",
    "        ret = expr.coeff(sym)\n",
    "        for other_syms in sym_list: \n",
    "            if other_syms != sym:\n",
    "                ret = ret.subs(other_syms, 0)\n",
    "        return ret\n",
    "        \n",
    "    return coeff"
   ]
  },
  {
   "cell_type": "code",
   "execution_count": 20,
   "id": "837f5968",
   "metadata": {
    "ExecuteTime": {
     "end_time": "2022-09-14T14:13:39.057993Z",
     "start_time": "2022-09-14T14:13:39.055086Z"
    }
   },
   "outputs": [],
   "source": [
    "f_p_coeff = creat_coeff_z(f_p, [u,v])\n",
    "g_p_coeff = creat_coeff_z(g_p, [u,v])"
   ]
  },
  {
   "cell_type": "code",
   "execution_count": 21,
   "id": "a0272d16",
   "metadata": {
    "ExecuteTime": {
     "end_time": "2022-09-14T14:13:39.301613Z",
     "start_time": "2022-09-14T14:13:39.281109Z"
    }
   },
   "outputs": [
    {
     "data": {
      "text/latex": [
       "$\\boldsymbol{A}^{h, i} =$ $\\left[\\begin{matrix}B - 1 & A^{2}\\\\- B & - A^{2}\\end{matrix}\\right]$"
      ],
      "text/plain": [
       "<IPython.core.display.Latex object>"
      ]
     },
     "metadata": {},
     "output_type": "display_data"
    },
    {
     "data": {
      "text/latex": [
       "$\\boldsymbol{A}^{h, ij} = \\left[\\begin{matrix}\\left[\\begin{matrix}\\frac{B}{A} & A\\\\A & 0\\end{matrix}\\right] & \\left[\\begin{matrix}- \\frac{B}{A} & - A\\\\- A & 0\\end{matrix}\\right]\\end{matrix}\\right]$"
      ],
      "text/plain": [
       "<IPython.core.display.Latex object>"
      ]
     },
     "metadata": {},
     "output_type": "display_data"
    },
    {
     "data": {
      "text/latex": [
       "$\\boldsymbol{A}^{h, ijk} = \\left[\\begin{matrix}\\left[\\begin{matrix}0 & \\frac{1}{3}\\\\\\frac{1}{3} & 0\\end{matrix}\\right] & \\left[\\begin{matrix}\\frac{1}{3} & 0\\\\0 & 0\\end{matrix}\\right]\\\\\\left[\\begin{matrix}0 & - \\frac{1}{3}\\\\- \\frac{1}{3} & 0\\end{matrix}\\right] & \\left[\\begin{matrix}- \\frac{1}{3} & 0\\\\0 & 0\\end{matrix}\\right]\\end{matrix}\\right]$"
      ],
      "text/plain": [
       "<IPython.core.display.Latex object>"
      ]
     },
     "metadata": {},
     "output_type": "display_data"
    }
   ],
   "source": [
    "A_h_i = Matrix([[f_p_coeff(u), f_p_coeff(v)], \n",
    "                [g_p_coeff(u), g_p_coeff(v)]])\n",
    "lprint(r\"$\\boldsymbol{A}^{h, i} =$ {0}\", A_h_i)\n",
    "#\n",
    "A_h_i_j = Array([\n",
    "    [[f_p_coeff(u**2),  f_p_coeff(u*v)/2], \n",
    "     [f_p_coeff(v*u)/2, f_p_coeff(v**2)]],\n",
    "    \n",
    "    [[g_p_coeff(u**2),  g_p_coeff(u*v)/2], \n",
    "     [g_p_coeff(v*u)/2, g_p_coeff(v**2)]]])\n",
    "hprint(r\"\\boldsymbol{A}^{h, ij} = \", A_h_i_j)\n",
    "#\n",
    "A_h_i_j_k = Array([\n",
    "   [[[f_p_coeff(u**3),     f_p_coeff(u**2*v)/3], \n",
    "     [f_p_coeff(v*u**2)/3, f_p_coeff(u*v**2)/3]],\n",
    "    \n",
    "    [[f_p_coeff(u**2*v)/3, f_p_coeff(u*v**2)/3], \n",
    "     [f_p_coeff(u*v**2)/3, f_p_coeff(v**3)]]],\n",
    "    \n",
    "    [[[g_p_coeff(u**3),     g_p_coeff(u**2*v)/3], \n",
    "      [g_p_coeff(v*u**2)/3, g_p_coeff(u*v**2)/3]],\n",
    "    \n",
    "    [[g_p_coeff(u**2*v)/3, g_p_coeff(u*v**2)/3], \n",
    "     [g_p_coeff(u*v**2)/3, g_p_coeff(v**3)]]]])\n",
    "hprint(r\"\\boldsymbol{A}^{h, ijk} = \", A_h_i_j_k)\n"
   ]
  },
  {
   "cell_type": "markdown",
   "id": "ab532c47",
   "metadata": {},
   "source": [
    "# The follwoing code do the same for any model"
   ]
  },
  {
   "cell_type": "code",
   "execution_count": 22,
   "id": "64cd6d26",
   "metadata": {
    "ExecuteTime": {
     "end_time": "2022-09-14T14:13:39.552616Z",
     "start_time": "2022-09-14T14:13:39.543169Z"
    }
   },
   "outputs": [],
   "source": [
    "from functools import reduce\n",
    "\n",
    "def tensor_h(coeff, rank, sym_list):\n",
    "    l = len(sym_list)\n",
    "    def loop_rec(n, i, sym, ret_sym):\n",
    "        if i >= 0:\n",
    "            for x in range(l):                \n",
    "                loop_rec(n, i - 1, sym*sym_list[x], ret_sym)\n",
    "        else:\n",
    "            ret_sym += [sym]\n",
    "            return\n",
    "    terms = []\n",
    "    loop_rec(rank, rank-1, 1, terms)\n",
    "    polynomial_form = reduce(lambda x,y: x+y, terms)    \n",
    "    return [coeff(t)/polynomial_form.coeff(t) for t in terms]\n",
    "\n",
    "def tensor(coeff_list, rank, sym_list):\n",
    "    terms = []\n",
    "    for coeff in coeff_list:\n",
    "        terms += tensor_h(coeff, rank, sym_list)\n",
    "    n = len(sym_list)\n",
    "    return Array(terms, tuple([n for _ in range(rank+1)]))\n"
   ]
  },
  {
   "cell_type": "code",
   "execution_count": 23,
   "id": "ee1e35f8",
   "metadata": {
    "ExecuteTime": {
     "end_time": "2022-09-14T14:13:39.816920Z",
     "start_time": "2022-09-14T14:13:39.800839Z"
    }
   },
   "outputs": [
    {
     "data": {
      "text/latex": [
       "$\\boldsymbol{A}^{h, i} =$ $\\left[\\begin{matrix}B - 1 & A^{2}\\\\- B & - A^{2}\\end{matrix}\\right]$"
      ],
      "text/plain": [
       "<IPython.core.display.Latex object>"
      ]
     },
     "metadata": {},
     "output_type": "display_data"
    },
    {
     "data": {
      "text/latex": [
       "$\\boldsymbol{A}^{h, ij} = \\left[\\begin{matrix}\\left[\\begin{matrix}\\frac{B}{A} & A\\\\A & 0\\end{matrix}\\right] & \\left[\\begin{matrix}- \\frac{B}{A} & - A\\\\- A & 0\\end{matrix}\\right]\\end{matrix}\\right]$"
      ],
      "text/plain": [
       "<IPython.core.display.Latex object>"
      ]
     },
     "metadata": {},
     "output_type": "display_data"
    },
    {
     "data": {
      "text/latex": [
       "$\\boldsymbol{A}^{h, ijk} = \\left[\\begin{matrix}\\left[\\begin{matrix}0 & \\frac{1}{3}\\\\\\frac{1}{3} & 0\\end{matrix}\\right] & \\left[\\begin{matrix}\\frac{1}{3} & 0\\\\0 & 0\\end{matrix}\\right]\\\\\\left[\\begin{matrix}0 & - \\frac{1}{3}\\\\- \\frac{1}{3} & 0\\end{matrix}\\right] & \\left[\\begin{matrix}- \\frac{1}{3} & 0\\\\0 & 0\\end{matrix}\\right]\\end{matrix}\\right]$"
      ],
      "text/plain": [
       "<IPython.core.display.Latex object>"
      ]
     },
     "metadata": {},
     "output_type": "display_data"
    }
   ],
   "source": [
    "A_h_i = tensor([f_p_coeff, g_p_coeff], 1, [u,v])\n",
    "lprint(r\"$\\boldsymbol{A}^{h, i} =$ {0}\", A_h_i)\n",
    "#\n",
    "A_h_i_j = tensor([f_p_coeff, g_p_coeff], 2, [u,v])\n",
    "hprint(r\"\\boldsymbol{A}^{h, ij} = \", A_h_i_j)\n",
    "#\n",
    "A_h_i_j_k = tensor([f_p_coeff, g_p_coeff], 3, [u,v])\n",
    "hprint(r\"\\boldsymbol{A}^{h, ijk} = \", A_h_i_j_k)"
   ]
  },
  {
   "cell_type": "code",
   "execution_count": 24,
   "id": "8793c16a",
   "metadata": {
    "ExecuteTime": {
     "end_time": "2022-09-14T14:13:40.064151Z",
     "start_time": "2022-09-14T14:13:40.055719Z"
    }
   },
   "outputs": [
    {
     "data": {
      "text/latex": [
       "$\\boldsymbol{J}^{h, i}_{l} =$ $\\left[\\begin{matrix}B - D_{u} k_{l}^{2} - 1 & A^{2}\\\\- B & - A^{2} - D_{v} k_{l}^{2}\\end{matrix}\\right]$"
      ],
      "text/plain": [
       "<IPython.core.display.Latex object>"
      ]
     },
     "metadata": {},
     "output_type": "display_data"
    }
   ],
   "source": [
    "k_l = symbols('k_l')\n",
    "\n",
    "J_l_init = Array([[-D_u*k_l**2, 0], \n",
    "             [0,           -D_v*k_l**2]]) + A_h_i\n",
    "lprint(r\"$\\boldsymbol{J}^{h, i}_{l} =$ {0}\", J_l_init)"
   ]
  },
  {
   "cell_type": "markdown",
   "id": "c92cca03",
   "metadata": {},
   "source": [
    "> define new variables based on the critical wavenumber, $k_c$\n",
    "\n",
    "<h4><center>$D_u = \\frac{R}{k^2_c}$,</center></h4>\n",
    "<h4><center>$D_v = \\frac{T}{k^2_c}$,</center></h4>\n",
    "<h4><center>$r = \\frac{k_l^2}{k^2_c}$</center></h4>\n",
    "\n"
   ]
  },
  {
   "cell_type": "code",
   "execution_count": 25,
   "id": "6a498789",
   "metadata": {
    "ExecuteTime": {
     "end_time": "2022-09-14T14:13:40.324907Z",
     "start_time": "2022-09-14T14:13:40.311911Z"
    }
   },
   "outputs": [
    {
     "data": {
      "text/latex": [
       "$\\boldsymbol{J}^{h, i}_{l} =$ $\\left[\\begin{matrix}B - R r - 1 & A^{2}\\\\- B & - A^{2} - T r\\end{matrix}\\right]$"
      ],
      "text/plain": [
       "<IPython.core.display.Latex object>"
      ]
     },
     "metadata": {},
     "output_type": "display_data"
    }
   ],
   "source": [
    "R, T, r = symbols(\"R, T, r\", positive=True)\n",
    "k_c = symbols(\"k_c\")#, integer=True)\n",
    "J_l_init = J_l_init.subs(D_u, R/k_c**2)\n",
    "J_l_init = J_l_init.subs(D_v, T/k_c**2)\n",
    "J_l_init = J_l_init.subs(k_l**2, r * k_c**2)\n",
    "lprint(r\"$\\boldsymbol{J}^{h, i}_{l} =$ {0}\", J_l_init)"
   ]
  },
  {
   "cell_type": "markdown",
   "id": "d6aad082",
   "metadata": {},
   "source": [
    "> Before finding other matrices, we have to write down $\\boldsymbol{J}^{h, i}_{l}$ around the $B_c$ where is the onset of bifurcation. It finds as when $Det(\\boldsymbol{J}^{h, i}_{l}) = 0$"
   ]
  },
  {
   "cell_type": "code",
   "execution_count": 26,
   "id": "d740d02d",
   "metadata": {
    "ExecuteTime": {
     "end_time": "2022-09-14T14:13:40.638701Z",
     "start_time": "2022-09-14T14:13:40.560402Z"
    }
   },
   "outputs": [
    {
     "data": {
      "text/latex": [
       "$B(r) =$ $\\frac{A^{2} R}{T} + \\frac{A^{2}}{T r} + R r + 1$"
      ],
      "text/plain": [
       "<IPython.core.display.Latex object>"
      ]
     },
     "metadata": {},
     "output_type": "display_data"
    }
   ],
   "source": [
    "B_r = solve(J_l_init.tomatrix().det(), B)[0]\n",
    "lprint(r\"$B(r) =$ {0}\", B_r)"
   ]
  },
  {
   "cell_type": "markdown",
   "id": "1a9927e5",
   "metadata": {},
   "source": [
    "> And the $B_c$ is where the $B(k)$ or $B(r=1)$ is minimum."
   ]
  },
  {
   "cell_type": "code",
   "execution_count": 27,
   "id": "d814febf",
   "metadata": {
    "ExecuteTime": {
     "end_time": "2022-09-14T14:13:40.909342Z",
     "start_time": "2022-09-14T14:13:40.882100Z"
    }
   },
   "outputs": [
    {
     "data": {
      "text/latex": [
       "$\\left. \\frac{d B(r)}{d r}\\right|_{r=1} =$ $- \\frac{A^{2}}{T} + R$ $= 0$"
      ],
      "text/plain": [
       "<IPython.core.display.Latex object>"
      ]
     },
     "metadata": {},
     "output_type": "display_data"
    },
    {
     "data": {
      "text/latex": [
       "$ \\implies T_c =$ $\\frac{A^{2}}{R}$ "
      ],
      "text/plain": [
       "<IPython.core.display.Latex object>"
      ]
     },
     "metadata": {},
     "output_type": "display_data"
    },
    {
     "data": {
      "text/latex": [
       "$ \\implies B_c = \\left. B(r=1) \\right|_{T_c} =$ $\\left(R + 1\\right)^{2}$ "
      ],
      "text/plain": [
       "<IPython.core.display.Latex object>"
      ]
     },
     "metadata": {},
     "output_type": "display_data"
    }
   ],
   "source": [
    "d_f_B_d_r = diff(B_r, r).subs(r, 1)\n",
    "lprint(r\"$\\left. \\frac{d B(r)}{d r}\\right|_{r=1} =$ {0} $= 0$\", d_f_B_d_r)\n",
    "T_c = solve(d_f_B_d_r, T)[0]\n",
    "lprint(r\"$ \\implies T_c =$ {0} \", T_c)\n",
    "B_c = factor( B_r.subs([(r, 1), (T, T_c)]))\n",
    "lprint(r\"$ \\implies B_c = \\left. B(r=1) \\right|_{T_c} =$ {0} \", B_c)"
   ]
  },
  {
   "cell_type": "markdown",
   "id": "abec1e49",
   "metadata": {},
   "source": [
    "> Now, we rewrite $\\boldsymbol{J}^{h, i}_{l}$, $\\boldsymbol{A}^{h, i}$, $\\boldsymbol{A}^{h, ij}$ and $\\boldsymbol{A}^{h, ijk}$ for $B = B_c$"
   ]
  },
  {
   "cell_type": "code",
   "execution_count": 28,
   "id": "ab48aedd",
   "metadata": {
    "ExecuteTime": {
     "end_time": "2022-09-14T14:13:41.241085Z",
     "start_time": "2022-09-14T14:13:41.157032Z"
    }
   },
   "outputs": [
    {
     "data": {
      "text/latex": [
       "$\\boldsymbol{J}^{h, i}_{l} =$ $\\left[\\begin{matrix}R \\left(R - r + 2\\right) & A^{2}\\\\- \\left(R + 1\\right)^{2} & \\frac{A^{2} \\left(- R - r\\right)}{R}\\end{matrix}\\right]$"
      ],
      "text/plain": [
       "<IPython.core.display.Latex object>"
      ]
     },
     "metadata": {},
     "output_type": "display_data"
    },
    {
     "data": {
      "text/latex": [
       "$\\boldsymbol{A}^{h, i} =$ $\\left[\\begin{matrix}\\left(R + 1\\right)^{2} - 1 & A^{2}\\\\- \\left(R + 1\\right)^{2} & - A^{2}\\end{matrix}\\right]$"
      ],
      "text/plain": [
       "<IPython.core.display.Latex object>"
      ]
     },
     "metadata": {},
     "output_type": "display_data"
    },
    {
     "data": {
      "text/latex": [
       "$\\boldsymbol{A}^{h, ij} = \\left[\\begin{matrix}\\left[\\begin{matrix}\\frac{\\left(R + 1\\right)^{2}}{A} & A\\\\A & 0\\end{matrix}\\right] & \\left[\\begin{matrix}- \\frac{\\left(R + 1\\right)^{2}}{A} & - A\\\\- A & 0\\end{matrix}\\right]\\end{matrix}\\right]$"
      ],
      "text/plain": [
       "<IPython.core.display.Latex object>"
      ]
     },
     "metadata": {},
     "output_type": "display_data"
    },
    {
     "data": {
      "text/latex": [
       "$\\boldsymbol{A}^{h, ijk} = \\left[\\begin{matrix}\\left[\\begin{matrix}0 & \\frac{1}{3}\\\\\\frac{1}{3} & 0\\end{matrix}\\right] & \\left[\\begin{matrix}\\frac{1}{3} & 0\\\\0 & 0\\end{matrix}\\right]\\\\\\left[\\begin{matrix}0 & - \\frac{1}{3}\\\\- \\frac{1}{3} & 0\\end{matrix}\\right] & \\left[\\begin{matrix}- \\frac{1}{3} & 0\\\\0 & 0\\end{matrix}\\right]\\end{matrix}\\right]$"
      ],
      "text/plain": [
       "<IPython.core.display.Latex object>"
      ]
     },
     "metadata": {},
     "output_type": "display_data"
    }
   ],
   "source": [
    "J_l = simplify( J_l_init.subs(T, T_c).subs(B, B_c))\n",
    "lprint(r\"$\\boldsymbol{J}^{h, i}_{l} =$ {0}\", J_l)\n",
    "#\n",
    "A_h_i = A_h_i.subs(T, T_c).subs(B, B_c)\n",
    "lprint(r\"$\\boldsymbol{A}^{h, i} =$ {0}\", A_h_i)\n",
    "#\n",
    "A_h_i_j = A_h_i_j.subs(T, T_c).subs(B, B_c)\n",
    "hprint(r\"\\boldsymbol{A}^{h, ij} = \", A_h_i_j)\n",
    "#\n",
    "A_h_i_j_k = A_h_i_j_k.subs(T, T_c).subs(B, B_c)\n",
    "hprint(r\"\\boldsymbol{A}^{h, ijk} = \", A_h_i_j_k)"
   ]
  },
  {
   "cell_type": "markdown",
   "id": "139ec5a3",
   "metadata": {},
   "source": [
    "> Next, we can find the matrix $\\boldsymbol{S}_{l}$ that can diagonalise $\\boldsymbol{J}^{h, i}_{l}$"
   ]
  },
  {
   "cell_type": "code",
   "execution_count": 29,
   "id": "1f6700bf",
   "metadata": {
    "ExecuteTime": {
     "end_time": "2022-09-14T14:13:42.592470Z",
     "start_time": "2022-09-14T14:13:41.493287Z"
    }
   },
   "outputs": [
    {
     "data": {
      "text/latex": [
       "$\\boldsymbol{S}_{l} = \\left[\\begin{matrix}\\frac{- A^{2} R - A^{2} r - R^{3} + R^{2} r - 2 R^{2} + \\sqrt{A^{4} R^{2} + 2 A^{4} R r + A^{4} r^{2} - 2 A^{2} R^{4} - 4 A^{2} R^{3} - 2 A^{2} R^{2} r^{2} + 4 A^{2} R^{2} r - 4 A^{2} R^{2} + R^{6} - 2 R^{5} r + 4 R^{5} + R^{4} r^{2} - 4 R^{4} r + 4 R^{4}}}{2 R \\left(R^{2} + 2 R + 1\\right)} & \\frac{- A^{2} R - A^{2} r - R^{3} + R^{2} r - 2 R^{2} - \\sqrt{A^{4} R^{2} + 2 A^{4} R r + A^{4} r^{2} - 2 A^{2} R^{4} - 4 A^{2} R^{3} - 2 A^{2} R^{2} r^{2} + 4 A^{2} R^{2} r - 4 A^{2} R^{2} + R^{6} - 2 R^{5} r + 4 R^{5} + R^{4} r^{2} - 4 R^{4} r + 4 R^{4}}}{2 R \\left(R^{2} + 2 R + 1\\right)}\\\\1 & 1\\end{matrix}\\right]$"
      ],
      "text/plain": [
       "<IPython.core.display.Latex object>"
      ]
     },
     "metadata": {},
     "output_type": "display_data"
    }
   ],
   "source": [
    "J_l_decomp = J_l.tomatrix().eigenvects(simplify=True)\n",
    "# construct the S_l by the eigenvectors\n",
    "S_l = Matrix([simplify(J_l_decomp[0][2][0]), \n",
    "              simplify(J_l_decomp[1][2][0])]).reshape(2,2).T\n",
    "# normalise the eigenvectors\n",
    "#S_l = (S_l/sqrt(S_l.det()))\n",
    "hprint(r\"\\boldsymbol{S}_{l} = \", S_l)\n"
   ]
  },
  {
   "cell_type": "markdown",
   "id": "3847436b",
   "metadata": {},
   "source": [
    "> and since $\\alpha^{ij}$ and $\\beta^{ij}$ are written for eigenvectors tangant to center manifold (or the eigenvalues that are critical and becomes  unstable at the onset of bifurcation), the $r$ must be set to one"
   ]
  },
  {
   "cell_type": "code",
   "execution_count": 30,
   "id": "ad1cc223",
   "metadata": {
    "ExecuteTime": {
     "end_time": "2022-09-14T14:13:43.206554Z",
     "start_time": "2022-09-14T14:13:42.956089Z"
    }
   },
   "outputs": [
    {
     "data": {
      "text/latex": [
       "$\\boldsymbol{S}_{l} =$ $\\left[\\begin{matrix}\\frac{- A^{2} R - A^{2} - R^{3} - R^{2} + \\sqrt{A^{4} R^{2} + 2 A^{4} R + A^{4} - 2 A^{2} R^{4} - 4 A^{2} R^{3} - 2 A^{2} R^{2} + R^{6} + 2 R^{5} + R^{4}}}{2 R \\left(R^{2} + 2 R + 1\\right)} & \\frac{- A^{2} R - A^{2} - R^{3} - R^{2} - \\sqrt{A^{4} R^{2} + 2 A^{4} R + A^{4} - 2 A^{2} R^{4} - 4 A^{2} R^{3} - 2 A^{2} R^{2} + R^{6} + 2 R^{5} + R^{4}}}{2 R \\left(R^{2} + 2 R + 1\\right)}\\\\1 & 1\\end{matrix}\\right]$"
      ],
      "text/plain": [
       "<IPython.core.display.Latex object>"
      ]
     },
     "metadata": {},
     "output_type": "display_data"
    }
   ],
   "source": [
    "S_l = simplify(S_l.subs(r, 1))\n",
    "lprint(r\"$\\boldsymbol{S}_{l} =$ {0}\", S_l)"
   ]
  },
  {
   "cell_type": "markdown",
   "id": "a3c739ef",
   "metadata": {},
   "source": [
    "> Note that the descriminants can be simplified and simlify and sympy just factorised them, so, we try to do it by telling the sympy what we need here"
   ]
  },
  {
   "cell_type": "code",
   "execution_count": 31,
   "id": "7b3e54dc",
   "metadata": {
    "ExecuteTime": {
     "end_time": "2022-09-14T14:13:43.724912Z",
     "start_time": "2022-09-14T14:13:43.524557Z"
    }
   },
   "outputs": [
    {
     "data": {
      "text/latex": [
       "The discriminant is $A^{4} R^{2} + 2 A^{4} R + A^{4} - 2 A^{2} R^{4} - 4 A^{2} R^{3} - 2 A^{2} R^{2} + R^{6} + 2 R^{5} + R^{4}$"
      ],
      "text/plain": [
       "<IPython.core.display.Latex object>"
      ]
     },
     "metadata": {},
     "output_type": "display_data"
    },
    {
     "data": {
      "text/latex": [
       "which its factor is $\\left(A - R\\right)^{2} \\left(A + R\\right)^{2} \\left(R + 1\\right)^{2}$"
      ],
      "text/plain": [
       "<IPython.core.display.Latex object>"
      ]
     },
     "metadata": {},
     "output_type": "display_data"
    },
    {
     "data": {
      "text/latex": [
       "$\\boldsymbol{S}_{l} =$ $\\left[\\begin{matrix}\\frac{- A^{2} + A \\left(A - R\\right) - R^{2} + R \\left(A - R\\right)}{2 R \\left(R + 1\\right)} & \\frac{- A^{2} - A \\left(A - R\\right) - R^{2} - R \\left(A - R\\right)}{2 R \\left(R + 1\\right)}\\\\1 & 1\\end{matrix}\\right]$"
      ],
      "text/plain": [
       "<IPython.core.display.Latex object>"
      ]
     },
     "metadata": {},
     "output_type": "display_data"
    }
   ],
   "source": [
    "term = S_l[0,0].as_terms()[1][2].as_terms()[1][2].args[0]\n",
    "lprint(\"The discriminant is {0}\", term)\n",
    "lprint(\"which its factor is {0}\", factor(term))\n",
    "S_l = S_l.subs(term, factor(term)).simplify().subs([(Abs(A-R),A-R), (Abs(A+R),A+R)])\n",
    "lprint(r\"$\\boldsymbol{S}_{l} =$ {0}\", S_l)"
   ]
  },
  {
   "cell_type": "markdown",
   "id": "0579ce65",
   "metadata": {},
   "source": [
    "> To tell the sympy that $0 < R < A$, we hint it as appling the condition on the abolute values"
   ]
  },
  {
   "cell_type": "code",
   "execution_count": 32,
   "id": "e1b91fc4",
   "metadata": {
    "ExecuteTime": {
     "end_time": "2022-09-14T14:13:44.110999Z",
     "start_time": "2022-09-14T14:13:44.050766Z"
    }
   },
   "outputs": [
    {
     "data": {
      "text/latex": [
       "$\\boldsymbol{S}_{l} =$ $\\left[\\begin{matrix}- \\frac{R}{R + 1} & - \\frac{A^{2}}{R \\left(R + 1\\right)}\\\\1 & 1\\end{matrix}\\right]$"
      ],
      "text/plain": [
       "<IPython.core.display.Latex object>"
      ]
     },
     "metadata": {},
     "output_type": "display_data"
    }
   ],
   "source": [
    "S_l = S_l.subs(Abs(A**2-R**2), A**2-R**2).simplify()\n",
    "lprint(r\"$\\boldsymbol{S}_{l} =$ {0}\", S_l)"
   ]
  },
  {
   "cell_type": "markdown",
   "id": "6c36e424",
   "metadata": {},
   "source": [
    "> and the inverse matrix, $\\boldsymbol{S}^{-1}_{l}$ derives as"
   ]
  },
  {
   "cell_type": "code",
   "execution_count": 33,
   "id": "ecc78c56",
   "metadata": {
    "ExecuteTime": {
     "end_time": "2022-09-14T14:13:44.715184Z",
     "start_time": "2022-09-14T14:13:44.424005Z"
    }
   },
   "outputs": [
    {
     "data": {
      "text/latex": [
       "$\\boldsymbol{S}^{-1}_{l} =$ $\\left[\\begin{matrix}\\frac{R \\left(R + 1\\right)}{A^{2} - R^{2}} & \\frac{A^{2}}{A^{2} - R^{2}}\\\\\\frac{R \\left(- R - 1\\right)}{A^{2} - R^{2}} & - \\frac{R^{2}}{A^{2} - R^{2}}\\end{matrix}\\right]$ "
      ],
      "text/plain": [
       "<IPython.core.display.Latex object>"
      ]
     },
     "metadata": {},
     "output_type": "display_data"
    }
   ],
   "source": [
    "S_l_inv = simplify(S_l.inv())\n",
    "lprint(r\"$\\boldsymbol{S}^{-1}_{l} =$ {0} \", S_l_inv)"
   ]
  },
  {
   "cell_type": "markdown",
   "id": "1a8ac679",
   "metadata": {},
   "source": [
    "> Check the diagonalisation of $\\boldsymbol{S}^{-1}_{l} \\boldsymbol{J}_{l} \\boldsymbol{S}_{l} = \\left[\\ \\begin{matrix} \\lambda_1 & 0 \\\\ 0 & \\lambda_2 \\end{matrix} \\right]$. We can see one of the eigenvalues is zero at the onset of bifurcation and for $0 < R < A$, the other is negative."
   ]
  },
  {
   "cell_type": "code",
   "execution_count": 34,
   "id": "a8e4bc78",
   "metadata": {
    "ExecuteTime": {
     "end_time": "2022-09-14T14:13:45.425690Z",
     "start_time": "2022-09-14T14:13:45.048849Z"
    }
   },
   "outputs": [
    {
     "data": {
      "text/latex": [
       "$\\displaystyle \\left[\\begin{matrix}- A^{2} - \\frac{A^{2}}{R} + R^{2} + R & 0\\\\0 & 0\\end{matrix}\\right]$"
      ],
      "text/plain": [
       "⎡        2            ⎤\n",
       "⎢   2   A     2       ⎥\n",
       "⎢- A  - ── + R  + R  0⎥\n",
       "⎢       R             ⎥\n",
       "⎢                     ⎥\n",
       "⎣        0           0⎦"
      ]
     },
     "execution_count": 34,
     "metadata": {},
     "output_type": "execute_result"
    }
   ],
   "source": [
    "(S_l.inv() * J_l.tomatrix().subs(r, 1) * S_l).simplify()"
   ]
  },
  {
   "cell_type": "markdown",
   "id": "7ce0f33f",
   "metadata": {},
   "source": [
    "Note that the largest eigenvalue is at $(i, j) = (2, 2)$ and the convention is the largest eigenvalue (or the critical one at the onset) is at $(i, j) = (1, 1)$. So, we reconstruct S_l and int inverse in the correct order."
   ]
  },
  {
   "cell_type": "code",
   "execution_count": 35,
   "id": "7b74c52b",
   "metadata": {
    "ExecuteTime": {
     "end_time": "2022-09-14T14:13:45.748417Z",
     "start_time": "2022-09-14T14:13:45.742439Z"
    }
   },
   "outputs": [
    {
     "data": {
      "text/latex": [
       "$\\boldsymbol{S}_{l} = $$\\left[\\begin{matrix}- \\frac{A^{2}}{R \\left(R + 1\\right)} & - \\frac{R}{R + 1}\\\\1 & 1\\end{matrix}\\right]$"
      ],
      "text/plain": [
       "<IPython.core.display.Latex object>"
      ]
     },
     "metadata": {},
     "output_type": "display_data"
    }
   ],
   "source": [
    "S_l = Matrix([[S_l[1], S_l[0]],\n",
    "              [S_l[3], S_l[2]]])\n",
    "lprint(r\"$\\boldsymbol{S}_{l} = ${0}\", S_l)\n",
    "#S_l_inv = S_l.inv()\n",
    "#lprint(r\"$\\boldsymbol{S}^{-1}_{l} =${0} \", S_l_inv)"
   ]
  },
  {
   "cell_type": "markdown",
   "id": "e64f192f",
   "metadata": {},
   "source": [
    "> Note that since the determinant of $\\boldsymbol{S}_{l}$ is negative for $0 < R < T$, we multplied it with $-1$. to normalise $\\boldsymbol{S}_{l}$."
   ]
  },
  {
   "cell_type": "code",
   "execution_count": 36,
   "id": "aca8fb11",
   "metadata": {
    "ExecuteTime": {
     "end_time": "2022-09-14T14:13:46.179922Z",
     "start_time": "2022-09-14T14:13:46.066210Z"
    }
   },
   "outputs": [
    {
     "data": {
      "text/latex": [
       "$|\\sqrt{Det(\\boldsymbol{S}_{l})}| = $$\\frac{\\sqrt{A^{2} - R^{2}}}{\\sqrt{R^{2} + R}}$"
      ],
      "text/plain": [
       "<IPython.core.display.Latex object>"
      ]
     },
     "metadata": {},
     "output_type": "display_data"
    },
    {
     "data": {
      "text/latex": [
       "$\\boldsymbol{S}_{l} = $$\\left[\\begin{matrix}- \\frac{A^{2} \\sqrt{R^{2} + R}}{R \\sqrt{A^{2} - R^{2}} \\left(R + 1\\right)} & - \\frac{R \\sqrt{R^{2} + R}}{\\sqrt{A^{2} - R^{2}} \\left(R + 1\\right)}\\\\\\frac{\\sqrt{R^{2} + R}}{\\sqrt{A^{2} - R^{2}}} & \\frac{\\sqrt{R^{2} + R}}{\\sqrt{A^{2} - R^{2}}}\\end{matrix}\\right]$"
      ],
      "text/plain": [
       "<IPython.core.display.Latex object>"
      ]
     },
     "metadata": {},
     "output_type": "display_data"
    },
    {
     "data": {
      "text/latex": [
       "$\\boldsymbol{S}^{-1}_{l} =$ $\\left[\\begin{matrix}- \\frac{\\sqrt{R} \\sqrt{R + 1}}{\\sqrt{A^{2} - R^{2}}} & - \\frac{R^{\\frac{3}{2}} \\sqrt{A^{2} - R^{2}} \\sqrt{R + 1}}{A^{2} R + A^{2} - R^{3} - R^{2}}\\\\\\frac{\\sqrt{R} \\sqrt{R + 1}}{\\sqrt{A^{2} - R^{2}}} & \\frac{A^{2}}{\\sqrt{R} \\sqrt{A^{2} - R^{2}} \\sqrt{R + 1}}\\end{matrix}\\right]$"
      ],
      "text/plain": [
       "<IPython.core.display.Latex object>"
      ]
     },
     "metadata": {},
     "output_type": "display_data"
    }
   ],
   "source": [
    "lprint(r\"$|\\sqrt{Det(\\boldsymbol{S}_{l})}| = ${0}\", sqrt(-1*S_l.det())) \n",
    "#\n",
    "S_l = S_l/sqrt(-1*S_l.det())\n",
    "lprint(r\"$\\boldsymbol{S}_{l} = ${0}\", S_l)\n",
    "S_l_inv = S_l.inv()\n",
    "lprint(r\"$\\boldsymbol{S}^{-1}_{l} =$ {0}\", S_l_inv)"
   ]
  },
  {
   "cell_type": "markdown",
   "id": "867fd6bf",
   "metadata": {},
   "source": [
    "> Let's check to see $\\boldsymbol{S}^{-1}_{l} \\boldsymbol{J}_{l} \\boldsymbol{S}_{l} = \\left[\\ \\begin{matrix} \\lambda_1 & 0 \\\\ 0 & \\lambda_2 \\end{matrix} \\right]$ is diagonalised with the right convention."
   ]
  },
  {
   "cell_type": "code",
   "execution_count": 37,
   "id": "870e2cc4",
   "metadata": {
    "ExecuteTime": {
     "end_time": "2022-09-14T14:13:46.979189Z",
     "start_time": "2022-09-14T14:13:46.516771Z"
    }
   },
   "outputs": [
    {
     "data": {
      "text/latex": [
       "$\\displaystyle \\left[\\begin{matrix}0 & 0\\\\0 & \\frac{\\left(- A^{2} + R^{2}\\right) \\left(R + 1\\right)}{R}\\end{matrix}\\right]$"
      ],
      "text/plain": [
       "⎡0           0         ⎤\n",
       "⎢                      ⎥\n",
       "⎢   ⎛   2    2⎞        ⎥\n",
       "⎢   ⎝- A  + R ⎠⋅(R + 1)⎥\n",
       "⎢0  ───────────────────⎥\n",
       "⎣            R         ⎦"
      ]
     },
     "execution_count": 37,
     "metadata": {},
     "output_type": "execute_result"
    }
   ],
   "source": [
    "test = (S_l_inv * J_l.tomatrix().subs(r, 1) * S_l)\n",
    "Array([[test[0, 0].simplify(), test[0, 1].simplify()],\n",
    "       [test[1, 0].simplify(), test[1, 1].simplify()]])"
   ]
  },
  {
   "cell_type": "markdown",
   "id": "d4b39898",
   "metadata": {},
   "source": [
    "> And the determinant of $\\boldsymbol{S}_{l}$ must be one."
   ]
  },
  {
   "cell_type": "code",
   "execution_count": 38,
   "id": "19fed4e7",
   "metadata": {
    "ExecuteTime": {
     "end_time": "2022-09-14T14:13:47.419516Z",
     "start_time": "2022-09-14T14:13:47.398448Z"
    }
   },
   "outputs": [
    {
     "data": {
      "text/latex": [
       "$\\displaystyle 1$"
      ],
      "text/plain": [
       "1"
      ]
     },
     "execution_count": 38,
     "metadata": {},
     "output_type": "execute_result"
    }
   ],
   "source": [
    "abs(S_l.det())"
   ]
  },
  {
   "cell_type": "code",
   "execution_count": 39,
   "id": "593c8086",
   "metadata": {
    "ExecuteTime": {
     "end_time": "2022-09-14T14:13:47.856482Z",
     "start_time": "2022-09-14T14:13:47.838614Z"
    }
   },
   "outputs": [
    {
     "data": {
      "text/latex": [
       "$\\displaystyle 1$"
      ],
      "text/plain": [
       "1"
      ]
     },
     "execution_count": 39,
     "metadata": {},
     "output_type": "execute_result"
    }
   ],
   "source": [
    "abs(S_l_inv.det())"
   ]
  },
  {
   "cell_type": "markdown",
   "id": "c9f0c3ac",
   "metadata": {},
   "source": [
    "$\\xi(B(r))$ is the eigenvalue that vanishes at the $B = B_c = (R+1)^2$. So,\n",
    "\n",
    "<h3><center>$\\lambda_c = \\left. \\frac{d \\xi}{d B}\\right|_{B=B_c} (B - B_c) = \\left. \\frac{d \\xi}{d B} \\frac{d B}{d r}\\right|_{r=1} (B - B_c)$</center></h3>\n"
   ]
  },
  {
   "cell_type": "code",
   "execution_count": 40,
   "id": "e118878f",
   "metadata": {
    "ExecuteTime": {
     "end_time": "2022-09-14T14:13:48.709246Z",
     "start_time": "2022-09-14T14:13:48.270920Z"
    }
   },
   "outputs": [
    {
     "data": {
      "text/latex": [
       "Dominant eigenvalue $\\lambda =$ $- \\frac{A^{2}}{2} + \\frac{B}{2} - \\frac{R r}{2} - \\frac{T r}{2} - \\frac{\\sqrt{A^{4} - 2 A^{2} B - 2 A^{2} R r + 2 A^{2} T r - 2 A^{2} + B^{2} - 2 B R r + 2 B T r - 2 B + R^{2} r^{2} - 2 R T r^{2} + 2 R r + T^{2} r^{2} - 2 T r + 1}}{2} - \\frac{1}{2}$"
      ],
      "text/plain": [
       "<IPython.core.display.Latex object>"
      ]
     },
     "metadata": {},
     "output_type": "display_data"
    }
   ],
   "source": [
    "dominant_eigenval = list(J_l_init.tomatrix().eigenvals(simplify=True).keys())[0]\n",
    "lprint(r\"Dominant eigenvalue $\\lambda =$ {0}\", dominant_eigenval)\n",
    "\n",
    "    "
   ]
  },
  {
   "cell_type": "code",
   "execution_count": 41,
   "id": "2e1379f0",
   "metadata": {
    "ExecuteTime": {
     "end_time": "2022-09-14T14:13:49.569452Z",
     "start_time": "2022-09-14T14:13:49.159833Z"
    }
   },
   "outputs": [
    {
     "data": {
      "text/latex": [
       "$\\lambda_c =$ $\\frac{R \\left(B - \\left(R + 1\\right)^{2}\\right) \\left(A^{2} - R^{2} - R\\right)}{A^{2} R + A^{2} - R^{3} - R^{2}}$"
      ],
      "text/plain": [
       "<IPython.core.display.Latex object>"
      ]
     },
     "metadata": {},
     "output_type": "display_data"
    }
   ],
   "source": [
    "lambda_c = diff(dominant_eigenval, B).subs([(T, T_c), (B, B_c), (r, 1)]).simplify().cancel().factor()\n",
    "terms = lambda_c.as_terms()[1][2].as_terms()[0][0][0].args[0]\n",
    "lambda_c = lambda_c.subs(terms, \n",
    "                         terms.factor()\n",
    "                  ).subs(Abs(A-R), \n",
    "                         A-R\n",
    "                  ).subs(Abs(A+R),\n",
    "                         A+R).simplify() * (B-B_c)\n",
    "lprint(r\"$\\lambda_c =$ {0}\", lambda_c)"
   ]
  },
  {
   "cell_type": "code",
   "execution_count": null,
   "id": "2b93ca1d",
   "metadata": {},
   "outputs": [],
   "source": []
  },
  {
   "cell_type": "markdown",
   "id": "b9de5e12",
   "metadata": {},
   "source": [
    "<h3><center>$\\Gamma = 2 \\beta^{1h} A^{h, ij} \\alpha^{i1} \\alpha^{j1}$</center></h3>\n",
    "<h3><center>$\\alpha^{ij} = (S_l)_{ij}$</center></h3>\n",
    "<h3><center>$\\beta^{ij} = (S^{-1}_l)_{ij}$</center></h3>"
   ]
  },
  {
   "cell_type": "code",
   "execution_count": 42,
   "id": "a9754838",
   "metadata": {
    "ExecuteTime": {
     "end_time": "2022-09-14T14:13:50.120494Z",
     "start_time": "2022-09-14T14:13:50.004104Z"
    }
   },
   "outputs": [
    {
     "data": {
      "text/latex": [
       "$\\Gamma = $ $\\frac{2 A^{3} \\left(R - 1\\right)}{\\sqrt{R} \\left(A^{2} - R^{2}\\right)^{\\frac{3}{2}} \\sqrt{R + 1}}$"
      ],
      "text/plain": [
       "<IPython.core.display.Latex object>"
      ]
     },
     "metadata": {},
     "output_type": "display_data"
    }
   ],
   "source": [
    "Gamma = 0\n",
    "for h in range(2):    \n",
    "    A_s = 0\n",
    "    for i in range(2):\n",
    "        # NOTE the indices are zero base\n",
    "        alpha_i_1 = S_l[i, 0]\n",
    "        for  j in range(2):\n",
    "            alpha_j_1 = S_l[j, 0]\n",
    "            #A_s += simplify(A_h_i_j[h, i, j] *  alpha_i_1 * alpha_j_1)\n",
    "            A_s += A_h_i_j[h, i, j] *  alpha_i_1 * alpha_j_1\n",
    "    beta = S_l_inv[0, h]#* R\n",
    "    #display((beta).simplify())\n",
    "    #display((A_s).simplify())\n",
    "    #display((beta * A_s).simplify())\n",
    "    #print()\n",
    "    Gamma += 2 * beta * A_s\n",
    "        \n",
    "#Gamma = cancel(simplify(Gamma))\n",
    "Gamma =Gamma.factor().simplify()\n",
    "lprint(r\"$\\Gamma = $ {0}\", Gamma)\n",
    "#lprint(\"and replacing $C(1)$ for the critical wavenumber by $k_c^2(D_u - D_v) - A^2 - B + 1$\")\n",
    "#Gamma = Gamma.subs(C(1), k_c**2 * (D_u - D_v) - A**2 - B + 1)\n",
    "#Gamma = simplify(Gamma)\n",
    "#lprint(r\"$\\Gamma = $ {0}\", Gamma)"
   ]
  },
  {
   "cell_type": "markdown",
   "id": "db695e5f",
   "metadata": {},
   "source": [
    "> The $\\boldsymbol{J}^{-1}_{l}$ is equal to"
   ]
  },
  {
   "cell_type": "code",
   "execution_count": 43,
   "id": "3a72ea5a",
   "metadata": {
    "ExecuteTime": {
     "end_time": "2022-09-14T14:13:50.841065Z",
     "start_time": "2022-09-14T14:13:50.567213Z"
    }
   },
   "outputs": [
    {
     "data": {
      "text/latex": [
       "$\\boldsymbol{J}^{-1}_{r} =$ $\\left[\\begin{matrix}\\frac{- R - r}{R r^{2} - 2 R r + R} & - \\frac{1}{r^{2} - 2 r + 1}\\\\\\frac{R^{2} + 2 R + 1}{A^{2} r^{2} - 2 A^{2} r + A^{2}} & \\frac{R^{2} - R r + 2 R}{A^{2} r^{2} - 2 A^{2} r + A^{2}}\\end{matrix}\\right]$"
      ],
      "text/plain": [
       "<IPython.core.display.Latex object>"
      ]
     },
     "metadata": {},
     "output_type": "display_data"
    }
   ],
   "source": [
    "J_l_inv = J_l.tomatrix().inv()\n",
    "lprint(r\"$\\boldsymbol{J}^{-1}_{r} =$ {0}\", J_l_inv)"
   ]
  },
  {
   "cell_type": "markdown",
   "id": "9b1ea1ce",
   "metadata": {},
   "source": [
    "<h3><center>$F(r) = -2 \\beta^{1h} A^{h, ij} \\alpha^{i1} (J_r^{-1})^{ja} A^{a, bc} \\alpha^{b1} \\alpha^{c1} + \\beta^{1h} A^{h, ijk} \\alpha^{i1} \\alpha^{j1} \\alpha^{k1}$</center></h3>\n",
    "<h3><center>$\\alpha^{ij} = (S_l)_{ij}$</center></h3>\n",
    "<h3><center>$\\beta^{ij} = (S^{-1}_l)_{ij}$</center></h3>\n",
    "\n",
    "> Note $(J_l^{-1})^{ja}$ is $r$ dependent by setting $l=r$"
   ]
  },
  {
   "cell_type": "markdown",
   "id": "d307f258",
   "metadata": {
    "ExecuteTime": {
     "end_time": "2022-08-26T19:34:01.283766Z",
     "start_time": "2022-08-26T19:34:01.272780Z"
    }
   },
   "source": [
    "#### Important note: For $r=0$ the determinant of $\\boldsymbol{J}_{l}$ is zero, and consequently, is not invertable. This is equivalent to taking the first term in $F(r)$ as zero."
   ]
  },
  {
   "cell_type": "code",
   "execution_count": 44,
   "id": "ed53ddfe",
   "metadata": {
    "ExecuteTime": {
     "end_time": "2022-09-14T14:13:51.307203Z",
     "start_time": "2022-09-14T14:13:51.300840Z"
    }
   },
   "outputs": [],
   "source": [
    "def F(r_val):\n",
    "    def A_h(h):\n",
    "        A_s = 0\n",
    "        for i in range(2):\n",
    "            alpha_i_1 = S_l[i, 0]\n",
    "            for  j in range(2):\n",
    "                alpha_j_1 = S_l[j, 0]\n",
    "                A_s += simplify(A_h_i_j[h, i, j] *  alpha_i_1 * alpha_j_1)\n",
    "        return A_s\n",
    "    \n",
    "    ret = 0    \n",
    "    for h in range(2):    \n",
    "        A_s = 0\n",
    "        A_s_2 = 0\n",
    "        for i in range(2):\n",
    "            alpha_i_1 = S_l[i, 0]\n",
    "            for  j in range(2):\n",
    "                alpha_j_1 = S_l[j, 0]\n",
    "                J_l_v = 0\n",
    "                for k in range(2):\n",
    "                    alpha_k_1 = S_l[k, 0]\n",
    "                    A_s_2 += simplify(A_h_i_j_k[h, i, j, k] *  alpha_i_1 * alpha_j_1 * alpha_k_1)                                        \n",
    "                    \n",
    "                    if r_val != 1:\n",
    "                        J_l_1 = J_l_inv[j, k].subs(r, r_val)\n",
    "                        J_l_1 = J_l_1 * A_h(k)\n",
    "                        J_l_v += J_l_1\n",
    "                    \n",
    "                A_s += A_h_i_j[h, i, j] * alpha_i_1 * J_l_v\n",
    "                \n",
    "        beta = S_l_inv[0, h]# *R       \n",
    "        ret += -2 * beta * A_s + beta * A_s_2        \n",
    "    \n",
    "    #ret = simplify(ret).subs(C(l), C_l_f).subs(l, sqrt(l_square))\n",
    "    return ret"
   ]
  },
  {
   "cell_type": "code",
   "execution_count": 45,
   "id": "f9dc64f7",
   "metadata": {
    "ExecuteTime": {
     "end_time": "2022-09-14T14:13:54.925415Z",
     "start_time": "2022-09-14T14:13:52.819617Z"
    }
   },
   "outputs": [
    {
     "data": {
      "text/latex": [
       "$\\displaystyle - \\frac{A^{4} \\left(- 2 R^{3} r + R^{2} r^{2} + 2 R^{2} r - R^{2} + 2 R - 2 r\\right)}{R^{2} \\left(A - R\\right)^{2} \\left(A + R\\right)^{2} \\left(R + 1\\right) \\left(r - 1\\right)^{2}}$"
      ],
      "text/plain": [
       "  4 ⎛     3      2  2      2      2            ⎞ \n",
       "-A ⋅⎝- 2⋅R ⋅r + R ⋅r  + 2⋅R ⋅r - R  + 2⋅R - 2⋅r⎠ \n",
       "─────────────────────────────────────────────────\n",
       "       2        2        2                2      \n",
       "      R ⋅(A - R) ⋅(A + R) ⋅(R + 1)⋅(r - 1)       "
      ]
     },
     "execution_count": 45,
     "metadata": {},
     "output_type": "execute_result"
    }
   ],
   "source": [
    "F(r).simplify().cancel().factor()"
   ]
  },
  {
   "cell_type": "markdown",
   "id": "8622bc4b",
   "metadata": {},
   "source": [
    "<h3><center>$g = -2F(0) - F(4)$</center></h3>"
   ]
  },
  {
   "cell_type": "code",
   "execution_count": 46,
   "id": "610acd5f",
   "metadata": {
    "ExecuteTime": {
     "end_time": "2022-09-14T14:13:58.233992Z",
     "start_time": "2022-09-14T14:13:55.388751Z"
    }
   },
   "outputs": [
    {
     "data": {
      "text/latex": [
       "g = $- \\frac{A^{4} \\left(R + 2\\right) \\left(8 R^{2} - 21 R + 4\\right)}{9 R^{2} \\left(A - R\\right)^{2} \\left(A + R\\right)^{2} \\left(R + 1\\right)}$"
      ],
      "text/plain": [
       "<IPython.core.display.Latex object>"
      ]
     },
     "metadata": {},
     "output_type": "display_data"
    }
   ],
   "source": [
    "g = (-2 * F(0) - F(4)).simplify().cancel().factor()\n",
    "lprint(\"g = {0}\", g)"
   ]
  },
  {
   "cell_type": "markdown",
   "id": "483994ae",
   "metadata": {},
   "source": [
    "<h3><center>$\\kappa g = -2F(0) - 2F(1) - 2F(3)$</center></h3>"
   ]
  },
  {
   "cell_type": "code",
   "execution_count": 47,
   "id": "e163e897",
   "metadata": {
    "ExecuteTime": {
     "end_time": "2022-09-14T14:14:02.095064Z",
     "start_time": "2022-09-14T14:13:58.831130Z"
    }
   },
   "outputs": [
    {
     "data": {
      "text/latex": [
       "$\\kappa$ = $\\frac{9 \\cdot \\left(3 R^{3} - 7 R^{2} - 5 R + 3\\right)}{\\left(R + 2\\right) \\left(8 R^{2} - 21 R + 4\\right)}$"
      ],
      "text/plain": [
       "<IPython.core.display.Latex object>"
      ]
     },
     "metadata": {},
     "output_type": "display_data"
    }
   ],
   "source": [
    "kappa = ((-2 * F(0) - 2 *F(1) - 2 * F(3))/g).simplify().cancel().factor()\n",
    "lprint(r\"$\\kappa$ = {0}\", kappa)"
   ]
  },
  {
   "cell_type": "code",
   "execution_count": 48,
   "id": "3a45aa9a",
   "metadata": {
    "ExecuteTime": {
     "end_time": "2022-09-14T14:14:02.602057Z",
     "start_time": "2022-09-14T14:14:02.572579Z"
    }
   },
   "outputs": [
    {
     "data": {
      "text/latex": [
       "$\\frac{d w_{1}}{d t} = $ $\\Gamma_{c} w_{2} w_{3} - g_{c} w_{1} \\left(\\kappa_{c} \\left(w_{2}^{2} + w_{3}^{2}\\right) + w_{1}^{2}\\right) + w_{1} λ_{c}$"
      ],
      "text/plain": [
       "<IPython.core.display.Latex object>"
      ]
     },
     "metadata": {},
     "output_type": "display_data"
    },
    {
     "data": {
      "text/latex": [
       "$\\frac{d w_{2}}{d t} = $ $\\Gamma_{c} w_{1} w_{3} - g_{c} w_{2} \\left(\\kappa_{c} \\left(w_{1}^{2} + w_{3}^{2}\\right) + w_{2}^{2}\\right) + w_{2} λ_{c}$"
      ],
      "text/plain": [
       "<IPython.core.display.Latex object>"
      ]
     },
     "metadata": {},
     "output_type": "display_data"
    },
    {
     "data": {
      "text/latex": [
       "$\\frac{d w_{3}}{d t} = $ $\\Gamma_{c} w_{1} w_{2} - g_{c} w_{3} \\left(\\kappa_{c} \\left(w_{1}^{2} + w_{2}^{2}\\right) + w_{3}^{2}\\right) + w_{3} λ_{c}$"
      ],
      "text/plain": [
       "<IPython.core.display.Latex object>"
      ]
     },
     "metadata": {},
     "output_type": "display_data"
    }
   ],
   "source": [
    "w_1, w_2, w_3 = symbols(\"w_1, w_2, w_3\", real=True)\n",
    "λ_c = symbols(\"λ_c\",  real=True)\n",
    "W_s = [w_1, w_2, w_3]\n",
    "gamma_c, g_c, kappa_c = symbols(\"Gamma_c, g_c, kappa_c\", real=True)\n",
    "eq_1 = λ_c*w_1 + gamma_c*conjugate(w_2)*conjugate(w_3) - g_c*(abs(w_1)**2 + \n",
    "                                                        kappa_c*(abs(w_2)**2 + abs(w_3)**2))*w_1\n",
    "eq_2 = λ_c*w_2 + gamma_c*conjugate(w_3)*conjugate(w_1) - g_c*(abs(w_2)**2 + \n",
    "                                                        kappa_c*(abs(w_3)**2 + abs(w_1)**2))*w_2\n",
    "eq_3 = λ_c*w_3 + gamma_c*conjugate(w_1)*conjugate(w_2) - g_c*(abs(w_3)**2 + \n",
    "                                                        kappa_c*(abs(w_1)**2 + abs(w_2)**2))*w_3\n",
    "\n",
    "lprint(r\"$\\frac{d w_{1}}{d t} = $ {0}\", eq_1)\n",
    "lprint(r\"$\\frac{d w_{2}}{d t} = $ {0}\", eq_2)\n",
    "lprint(r\"$\\frac{d w_{3}}{d t} = $ {0}\", eq_3)"
   ]
  },
  {
   "cell_type": "code",
   "execution_count": 49,
   "id": "f707d787",
   "metadata": {
    "ExecuteTime": {
     "end_time": "2022-09-14T14:14:03.286345Z",
     "start_time": "2022-09-14T14:14:03.264594Z"
    }
   },
   "outputs": [
    {
     "data": {
      "text/latex": [
       "$\\displaystyle \\left[\\begin{matrix}\\Gamma_{c} w_{2} w_{3} - g_{c} w_{1} \\left(\\kappa_{c} \\left(w_{2}^{2} + w_{3}^{2}\\right) + w_{1}^{2}\\right) + w_{1} λ_{c}\\\\\\Gamma_{c} w_{1} w_{3} - g_{c} w_{2} \\left(\\kappa_{c} \\left(w_{1}^{2} + w_{3}^{2}\\right) + w_{2}^{2}\\right) + w_{2} λ_{c}\\\\\\Gamma_{c} w_{1} w_{2} - g_{c} w_{3} \\left(\\kappa_{c} \\left(w_{1}^{2} + w_{2}^{2}\\right) + w_{3}^{2}\\right) + w_{3} λ_{c}\\end{matrix}\\right]$"
      ],
      "text/plain": [
       "⎡                   ⎛    ⎛  2     2⎞     2⎞         ⎤\n",
       "⎢Γ_c⋅w₂⋅w₃ - g_c⋅w₁⋅⎝κ_c⋅⎝w₂  + w₃ ⎠ + w₁ ⎠ + w₁⋅λ_c⎥\n",
       "⎢                                                   ⎥\n",
       "⎢                   ⎛    ⎛  2     2⎞     2⎞         ⎥\n",
       "⎢Γ_c⋅w₁⋅w₃ - g_c⋅w₂⋅⎝κ_c⋅⎝w₁  + w₃ ⎠ + w₂ ⎠ + w₂⋅λ_c⎥\n",
       "⎢                                                   ⎥\n",
       "⎢                   ⎛    ⎛  2     2⎞     2⎞         ⎥\n",
       "⎣Γ_c⋅w₁⋅w₂ - g_c⋅w₃⋅⎝κ_c⋅⎝w₁  + w₂ ⎠ + w₃ ⎠ + w₃⋅λ_c⎦"
      ]
     },
     "execution_count": 49,
     "metadata": {},
     "output_type": "execute_result"
    }
   ],
   "source": [
    "F_amp = Matrix([[eq_1],\n",
    "                [eq_2],\n",
    "                [eq_3]])\n",
    "F_amp    "
   ]
  },
  {
   "cell_type": "markdown",
   "id": "2603cb3c",
   "metadata": {},
   "source": [
    "# Case 1: Stripes\n",
    "\n",
    "<h3><center>$(w_{1}, w_{2}, w_{3}) = (w_{1}, 0, 0)$</center></h3>"
   ]
  },
  {
   "cell_type": "code",
   "execution_count": 50,
   "id": "8a191eba",
   "metadata": {
    "ExecuteTime": {
     "end_time": "2022-09-14T14:14:17.517100Z",
     "start_time": "2022-09-14T14:14:17.384164Z"
    }
   },
   "outputs": [
    {
     "data": {
      "text/latex": [
       "$\\left[ \\begin{matrix} \\frac{d w_{1}}{d t} \\\\ \\frac{d w_{2}}{d t} \\\\ \\frac{d w_{3}}{d t} \\end{matrix} \\right] = $ $\\left[\\begin{matrix}w_{1} \\left(- g_{c} w_{1}^{2} + λ_{c}\\right)\\\\0\\\\0\\end{matrix}\\right]$ $= \\left[ \\begin{matrix} 0 \\\\ 0 \\\\ 0 \\end{matrix} \\right] $ "
      ],
      "text/plain": [
       "<IPython.core.display.Latex object>"
      ]
     },
     "metadata": {},
     "output_type": "display_data"
    },
    {
     "name": "stdout",
     "output_type": "stream",
     "text": [
      "Therefore, the stationary solution is \n"
     ]
    },
    {
     "data": {
      "text/latex": [
       "$\\left[ 0, \\  - \\sqrt{\\frac{λ_{c}}{g_{c}}}, \\  \\sqrt{\\frac{λ_{c}}{g_{c}}}\\right]$"
      ],
      "text/plain": [
       "<IPython.core.display.Latex object>"
      ]
     },
     "metadata": {},
     "output_type": "display_data"
    },
    {
     "name": "stdout",
     "output_type": "stream",
     "text": [
      "Which write as \n"
     ]
    },
    {
     "data": {
      "text/latex": [
       "$w^{c}_1 = $$\\sqrt{\\frac{λ_{c}}{g_{c}}}$ $e^{i \\phi_1}$"
      ],
      "text/plain": [
       "<IPython.core.display.Latex object>"
      ]
     },
     "metadata": {},
     "output_type": "display_data"
    }
   ],
   "source": [
    "sol_index = 1\n",
    "F_amp_strips = Array([[0, 0, 0]]).tomatrix()\n",
    "\n",
    "for i in range(3):\n",
    "    F_amp_strips[i] = F_amp[i].subs([(w_2, 0), (w_3, 0)]).simplify()\n",
    "\n",
    "# print the jacobian at the stationary solution\n",
    "lprint(r\"$\\left[ \\begin{matrix} \\frac{d w_{1}}{d t} \\\\ \\frac{d w_{2}}{d t} \\\\ \"\n",
    "       r\"\\frac{d w_{3}}{d t} \\end{matrix} \\right] = $ {0} \"\n",
    "       r\"$= \\left[ \\begin{matrix} 0 \\\\ 0 \\\\ 0 \\end{matrix} \\right] $ \", F_amp_strips.T)\n",
    "print(\"Therefore, the stationary solution is \")\n",
    "lprint(\"{0}\", solve(F_amp_strips[0], w_1))\n",
    "w_1_c = solve(F_amp_strips[0], w_1)[2]\n",
    "print(\"Which write as \")\n",
    "lprint(r\"$w^{c}_1 = ${0} $e^{i \\phi_1}$\", w_1_c)"
   ]
  },
  {
   "cell_type": "code",
   "execution_count": 51,
   "id": "5b180b80",
   "metadata": {
    "ExecuteTime": {
     "end_time": "2022-09-14T14:14:20.375675Z",
     "start_time": "2022-09-14T14:14:20.304011Z"
    }
   },
   "outputs": [
    {
     "data": {
      "text/latex": [
       "$\\left| \\frac{\\partial f_i}{\\partial |w_i|} \\right|_{W_c}  =$ $\\left[\\begin{matrix}- 2 g_{c} w_{1}^{2} - g_{c} \\left(\\kappa_{c} \\left(w_{2}^{2} + w_{3}^{2}\\right) + w_{1}^{2}\\right) + λ_{c} & \\Gamma_{c} \\left|{w_{3}}\\right| - 2 g_{c} \\kappa_{c} \\left|{w_{1}}\\right| \\left|{w_{2}}\\right| & \\Gamma_{c} \\left|{w_{2}}\\right| - 2 g_{c} \\kappa_{c} \\left|{w_{1}}\\right| \\left|{w_{3}}\\right|\\\\\\Gamma_{c} \\left|{w_{3}}\\right| - 2 g_{c} \\kappa_{c} \\left|{w_{1}}\\right| \\left|{w_{2}}\\right| & - 2 g_{c} w_{2}^{2} - g_{c} \\left(\\kappa_{c} \\left(w_{1}^{2} + w_{3}^{2}\\right) + w_{2}^{2}\\right) + λ_{c} & \\Gamma_{c} \\left|{w_{1}}\\right| - 2 g_{c} \\kappa_{c} \\left|{w_{2}}\\right| \\left|{w_{3}}\\right|\\\\\\Gamma_{c} \\left|{w_{2}}\\right| - 2 g_{c} \\kappa_{c} \\left|{w_{1}}\\right| \\left|{w_{3}}\\right| & \\Gamma_{c} \\left|{w_{1}}\\right| - 2 g_{c} \\kappa_{c} \\left|{w_{2}}\\right| \\left|{w_{3}}\\right| & - 2 g_{c} w_{3}^{2} - g_{c} \\left(\\kappa_{c} \\left(w_{1}^{2} + w_{2}^{2}\\right) + w_{3}^{2}\\right) + λ_{c}\\end{matrix}\\right]$"
      ],
      "text/plain": [
       "<IPython.core.display.Latex object>"
      ]
     },
     "metadata": {},
     "output_type": "display_data"
    }
   ],
   "source": [
    "F_amp_J_strips = Array([[0, 0, 0],\n",
    "                        [0, 0, 0],\n",
    "                        [0, 0, 0]]).tomatrix()\n",
    "for i in range(3):\n",
    "    w_i = W_s[i%3]\n",
    "    w_j = W_s[(i+1)%3]\n",
    "    w_k = W_s[(i+2)%3]\n",
    "    \n",
    "    F_amp_strips = Matrix([[eq_1],\n",
    "                       [eq_2],\n",
    "                       [eq_3]]).diff(w_i)\n",
    "\n",
    "    \n",
    "    F_amp_J_strips[i,:] = F_amp_strips.subs([(w_i, Abs(w_i)), (w_j, Abs(w_j)), (w_k, Abs(w_k))]).T\n",
    "        \n",
    "        \n",
    "        \n",
    "F_amp_J_strips = F_amp_J_strips.T\n",
    "lprint(r\"$\\left| \\frac{\\partial f_i}{\\partial |w_i|} \\right|_{W_c}  =$ {0}\",  F_amp_J_strips)"
   ]
  },
  {
   "cell_type": "code",
   "execution_count": 52,
   "id": "8f8d311e",
   "metadata": {
    "ExecuteTime": {
     "end_time": "2022-09-14T14:14:21.627538Z",
     "start_time": "2022-09-14T14:14:21.609902Z"
    }
   },
   "outputs": [
    {
     "data": {
      "text/latex": [
       "$\\left| \\frac{\\partial f_i}{\\partial |w_i|} \\right|_{W_c=(w^{c}_1, 0, 0)}  =$ $\\left[\\begin{matrix}- 2 λ_{c} & 0 & 0\\\\0 & - \\kappa_{c} λ_{c} + λ_{c} & \\Gamma_{c} \\left|{\\sqrt{\\frac{λ_{c}}{g_{c}}}}\\right|\\\\0 & \\Gamma_{c} \\left|{\\sqrt{\\frac{λ_{c}}{g_{c}}}}\\right| & - \\kappa_{c} λ_{c} + λ_{c}\\end{matrix}\\right]$"
      ],
      "text/plain": [
       "<IPython.core.display.Latex object>"
      ]
     },
     "metadata": {},
     "output_type": "display_data"
    }
   ],
   "source": [
    "F_amp_J_strips = F_amp_J_strips.subs([(w_1, w_1_c), (w_2, 0), (w_3, 0)])\n",
    "lprint(r\"$\\left| \\frac{\\partial f_i}{\\partial |w_i|} \\right|_{W_c=(w^{c}_1, 0, 0)}  =$ {0}\",  F_amp_J_strips)"
   ]
  },
  {
   "cell_type": "code",
   "execution_count": 53,
   "id": "b18e8775",
   "metadata": {
    "ExecuteTime": {
     "end_time": "2022-09-14T14:14:35.691599Z",
     "start_time": "2022-09-14T14:14:35.496012Z"
    }
   },
   "outputs": [
    {
     "data": {
      "text/latex": [
       "$\\lambda^{s}_1 =$ $- 2 λ_{c}$"
      ],
      "text/plain": [
       "<IPython.core.display.Latex object>"
      ]
     },
     "metadata": {},
     "output_type": "display_data"
    },
    {
     "data": {
      "text/latex": [
       "$\\lambda^{s}_2 =$ $\\Gamma_{c} \\left|{\\sqrt{\\frac{λ_{c}}{g_{c}}}}\\right| - \\kappa_{c} λ_{c} + λ_{c}$"
      ],
      "text/plain": [
       "<IPython.core.display.Latex object>"
      ]
     },
     "metadata": {},
     "output_type": "display_data"
    },
    {
     "data": {
      "text/latex": [
       "$\\lambda^{s}_3 =$ $- \\Gamma_{c} \\left|{\\sqrt{\\frac{λ_{c}}{g_{c}}}}\\right| - \\kappa_{c} λ_{c} + λ_{c}$"
      ],
      "text/plain": [
       "<IPython.core.display.Latex object>"
      ]
     },
     "metadata": {},
     "output_type": "display_data"
    }
   ],
   "source": [
    "λs_strip = []\n",
    "for i, key in enumerate(F_amp_J_strips.eigenvals().keys()):\n",
    "    lprint(r\"$\\lambda^{s}_\" f\"{i+1}\" \" =$ {0}\", key)\n",
    "    λs_strip += [key]"
   ]
  },
  {
   "cell_type": "code",
   "execution_count": 54,
   "id": "8cf589dc",
   "metadata": {
    "ExecuteTime": {
     "end_time": "2022-09-14T14:14:40.754308Z",
     "start_time": "2022-09-14T14:14:40.742771Z"
    }
   },
   "outputs": [
    {
     "name": "stdout",
     "output_type": "stream",
     "text": [
      "Since\n"
     ]
    },
    {
     "data": {
      "text/latex": [
       "$\\lambda^{s}_1 =$ $- 2 λ_{c}$$ < 0$,"
      ],
      "text/plain": [
       "<IPython.core.display.Latex object>"
      ]
     },
     "metadata": {},
     "output_type": "display_data"
    },
    {
     "data": {
      "text/latex": [
       "and $\\lambda^{s}_3 \\le \\lambda^{s}_2 $   or $- \\Gamma_{c} \\left|{\\sqrt{\\frac{λ_{c}}{g_{c}}}}\\right| - \\kappa_{c} λ_{c} + λ_{c}$$ \\le $ $\\Gamma_{c} \\left|{\\sqrt{\\frac{λ_{c}}{g_{c}}}}\\right| - \\kappa_{c} λ_{c} + λ_{c}$, "
      ],
      "text/plain": [
       "<IPython.core.display.Latex object>"
      ]
     },
     "metadata": {},
     "output_type": "display_data"
    },
    {
     "data": {
      "text/latex": [
       "we just need to study the sign of $\\lambda^{s}_2$."
      ],
      "text/plain": [
       "<IPython.core.display.Latex object>"
      ]
     },
     "metadata": {},
     "output_type": "display_data"
    }
   ],
   "source": [
    "print(\"Since\")\n",
    "lprint(r\"$\\lambda^{s}_1 =$ {0}$ < 0$,\", λs_strip[0])\n",
    "lprint(r\"and $\\lambda^{s}_3 \\le \\lambda^{s}_2 $   or {0}$ \\le $ {1}, \", λs_strip[2], λs_strip[1])\n",
    "lprint(r\"we just need to study the sign of $\\lambda^{s}_2$.\")"
   ]
  },
  {
   "cell_type": "code",
   "execution_count": 55,
   "id": "824c261a",
   "metadata": {
    "ExecuteTime": {
     "end_time": "2022-09-14T14:14:42.892754Z",
     "start_time": "2022-09-14T14:14:42.849373Z"
    }
   },
   "outputs": [],
   "source": [
    "λs_strip_max = λs_strip[1].subs([(Abs(sqrt(λ_c/g_c)), sqrt(λ_c/g_c))]\n",
    "    ).subs([(gamma_c, Gamma), \n",
    "            (g_c, g), \n",
    "            (kappa_c, kappa),\n",
    "            (λ_c, lambda_c)]).subs([(Abs(A-R), A-R), (Abs(A+R), A+R)])\n",
    "\n"
   ]
  },
  {
   "cell_type": "code",
   "execution_count": 56,
   "id": "4597a85f",
   "metadata": {
    "ExecuteTime": {
     "end_time": "2022-09-14T14:14:44.421574Z",
     "start_time": "2022-09-14T14:14:44.398942Z"
    }
   },
   "outputs": [
    {
     "data": {
      "text/latex": [
       "$\\displaystyle \\frac{- A \\sqrt{B} \\left(D_{u} - D_{v}\\right)^{2} \\left(D_{u} + D_{v}\\right) + \\sqrt{D_{u}} \\sqrt{D_{v}} \\left(A^{2} + B - 1\\right) \\left(D_{u}^{2} - 2 D_{u} D_{v} + D_{v}^{2}\\right)}{\\sqrt{D_{u}} \\sqrt{D_{v}} \\left(D_{u} - D_{v}\\right) \\left(D_{u}^{2} - 2 D_{u} D_{v} + D_{v}^{2}\\right)}$"
      ],
      "text/plain": [
       "                2               ____   ____ ⎛ 2        ⎞ ⎛  2               2⎞\n",
       "- A⋅√B⋅(Dᵤ - Dᵥ) ⋅(Dᵤ + Dᵥ) + ╲╱ Dᵤ ⋅╲╱ Dᵥ ⋅⎝A  + B - 1⎠⋅⎝Dᵤ  - 2⋅Dᵤ⋅Dᵥ + Dᵥ ⎠\n",
       "──────────────────────────────────────────────────────────────────────────────\n",
       "                  ____   ____           ⎛  2               2⎞                 \n",
       "                ╲╱ Dᵤ ⋅╲╱ Dᵥ ⋅(Dᵤ - Dᵥ)⋅⎝Dᵤ  - 2⋅Dᵤ⋅Dᵥ + Dᵥ ⎠                 "
      ]
     },
     "execution_count": 56,
     "metadata": {},
     "output_type": "execute_result"
    }
   ],
   "source": [
    "k_2_c_1"
   ]
  },
  {
   "cell_type": "code",
   "execution_count": 57,
   "id": "b7956d6b",
   "metadata": {
    "ExecuteTime": {
     "end_time": "2022-09-14T14:14:45.672983Z",
     "start_time": "2022-09-14T14:14:45.558359Z"
    }
   },
   "outputs": [
    {
     "data": {
      "text/latex": [
       "$\\displaystyle \\frac{2 A \\sqrt{B} \\left(D_{u} - D_{v}\\right) \\left(D_{u} + D_{v}\\right)}{\\sqrt{D_{u}} \\sqrt{D_{v}} \\left(D_{u}^{2} - 2 D_{u} D_{v} + D_{v}^{2}\\right)}$"
      ],
      "text/plain": [
       "     2⋅A⋅√B⋅(Dᵤ - Dᵥ)⋅(Dᵤ + Dᵥ)    \n",
       "───────────────────────────────────\n",
       "  ____   ____ ⎛  2               2⎞\n",
       "╲╱ Dᵤ ⋅╲╱ Dᵥ ⋅⎝Dᵤ  - 2⋅Dᵤ⋅Dᵥ + Dᵥ ⎠"
      ]
     },
     "execution_count": 57,
     "metadata": {},
     "output_type": "execute_result"
    }
   ],
   "source": [
    "(k_2_c_2-k_2_c_1).simplify()"
   ]
  },
  {
   "cell_type": "code",
   "execution_count": 58,
   "id": "ffabf810",
   "metadata": {
    "ExecuteTime": {
     "end_time": "2022-09-14T14:14:46.460006Z",
     "start_time": "2022-09-14T14:14:46.433280Z"
    }
   },
   "outputs": [
    {
     "data": {
      "text/latex": [
       "$\\displaystyle \\frac{6 A R \\sqrt{- \\frac{\\left(B - \\left(R + 1\\right)^{2}\\right) \\left(A^{2} - R^{2} - R\\right)}{\\left(8 R^{2} - 21 R + 4\\right) \\left(A^{2} R + A^{2} - R^{3} - R^{2}\\right)}} \\left(A - R\\right) \\left(A + R\\right) \\left(R - 1\\right)}{\\left(A^{2} - R^{2}\\right)^{\\frac{3}{2}} \\sqrt{R + 2}} + \\frac{R \\left(B - \\left(R + 1\\right)^{2}\\right) \\left(A^{2} - R^{2} - R\\right)}{A^{2} R + A^{2} - R^{3} - R^{2}} - \\frac{9 R \\left(B - \\left(R + 1\\right)^{2}\\right) \\left(A^{2} - R^{2} - R\\right) \\left(3 R^{3} - 7 R^{2} - 5 R + 3\\right)}{\\left(R + 2\\right) \\left(8 R^{2} - 21 R + 4\\right) \\left(A^{2} R + A^{2} - R^{3} - R^{2}\\right)}$"
      ],
      "text/plain": [
       "            _________________________________________                                                                        \n",
       "           ╱       ⎛           2⎞ ⎛ 2    2    ⎞                                                                              \n",
       "          ╱       -⎝B - (R + 1) ⎠⋅⎝A  - R  - R⎠                                                                              \n",
       "6⋅A⋅R⋅   ╱   ─────────────────────────────────────── ⋅(A - R)⋅(A + R)⋅(R - 1)                                                \n",
       "        ╱    ⎛   2           ⎞ ⎛ 2      2    3    2⎞                              ⎛           2⎞ ⎛ 2    2    ⎞       ⎛       \n",
       "      ╲╱     ⎝8⋅R  - 21⋅R + 4⎠⋅⎝A ⋅R + A  - R  - R ⎠                            R⋅⎝B - (R + 1) ⎠⋅⎝A  - R  - R⎠   9⋅R⋅⎝B - (R \n",
       "───────────────────────────────────────────────────────────────────────────── + ────────────────────────────── - ────────────\n",
       "                                     3/2                                              2      2    3    2                     \n",
       "                            ⎛ 2    2⎞      _______                                   A ⋅R + A  - R  - R              (R + 2)⋅\n",
       "                            ⎝A  - R ⎠   ⋅╲╱ R + 2                                                                            \n",
       "\n",
       "                                            \n",
       "                                            \n",
       "                                            \n",
       "                                            \n",
       "    2⎞ ⎛ 2    2    ⎞ ⎛   3      2          ⎞\n",
       "+ 1) ⎠⋅⎝A  - R  - R⎠⋅⎝3⋅R  - 7⋅R  - 5⋅R + 3⎠\n",
       "────────────────────────────────────────────\n",
       "⎛   2           ⎞ ⎛ 2      2    3    2⎞     \n",
       "⎝8⋅R  - 21⋅R + 4⎠⋅⎝A ⋅R + A  - R  - R ⎠     \n",
       "                                            "
      ]
     },
     "execution_count": 58,
     "metadata": {},
     "output_type": "execute_result"
    }
   ],
   "source": [
    "λs_strip_max"
   ]
  },
  {
   "cell_type": "code",
   "execution_count": 121,
   "id": "eb47b4a7",
   "metadata": {
    "ExecuteTime": {
     "end_time": "2022-09-14T15:00:28.778191Z",
     "start_time": "2022-09-14T15:00:28.024729Z"
    }
   },
   "outputs": [
    {
     "data": {
      "image/png": "[encoded data removed]",
      "text/plain": [
       "<Figure size 792x288 with 2 Axes>"
      ]
     },
     "metadata": {},
     "output_type": "display_data"
    }
   ],
   "source": [
    "# Create a meshgrid [-4, 4]x[-2, 4] for (A, B) domain\n",
    "L_A_min = 0\n",
    "L_A_max = 40\n",
    "L_B_min = 0\n",
    "L_B_max = 40\n",
    "A_size = 1000\n",
    "B_size = 1000\n",
    "A_axis = np.linspace(L_A_min, L_A_max, A_size)\n",
    "B_axis = np.linspace(L_B_min, L_B_max, B_size)\n",
    "A_grid, B_grid = np.meshgrid(A_axis, B_axis, sparse=False)\n",
    "\n",
    "D_u_val = 0.001\n",
    "D_v_val = 0.1\n",
    "\n",
    "# k_2_c_1 > k_2_c_2\n",
    "k_2_c_1_f = lambdify([A, B], k_2_c_1.subs([(D_u, D_u_val), (D_v, D_v_val)]), 'numpy')\n",
    "\n",
    "#\n",
    "def R_val_1(A, B):\n",
    "    return D_u_val * k_2_c_1_f(A, B)\n",
    "\n",
    "\n",
    "λs_strip_max_f = lambdify([A, B, R], λs_strip_max, 'numpy')\n",
    "\n",
    "def λs_strip_max_f2_1(A, B):\n",
    "    return λs_strip_max_f(A, B, R_val_1(A, B))\n",
    "\n",
    "\n",
    "# Plotting\n",
    "fig = plt.figure(figsize=(11,4))\n",
    "plt.style.use('seaborn-white')\n",
    "\n",
    "# Numerically calculate the largest eigenvalues\n",
    "domain =np.real(λs_strip_max_f2_1(np.complex64(A_grid), np.complex64(B_grid)))\n",
    "#domain = λs_strip_max_f2_1(A_grid, B_grid)\n",
    "domain = np.where(domain <= 0, True, False)\n",
    "#domain[domain > 0] = False\n",
    "#domain[domain <= 0] = True\n",
    "#domain[np.isnan(domain)] = False\n",
    "\n",
    "domain2 = A_grid >=  R_val_1(A_grid, B_grid)\n",
    "#  B > B_c = (R+1)^2\n",
    "domain3 = B_grid >= (R_val_1(A_grid, B_grid) + 1)**2\n",
    "\n",
    "\n",
    "domain_intersect = np.bool8(domain) & np.bool8(domain2) & np.bool8(domain3)#\n",
    "# plot the domain by using zero as the levelset\n",
    "ax = fig.add_subplot(111)\n",
    "#plot_two_levels(ax, np.float16(np.bool8(domain)), [0, L, 0, L], \"A\", \"R\", 0, ['Unstable', 'Stable'])\n",
    "#plot_two_levels(ax, np.float16(domain2), [0, L, 0, L], \"A\", \"R\", 0, ['Unstable', 'Stable'], color='red')\n",
    "plot_two_levels(ax, np.float16(domain_intersect), \n",
    "                extent=[L_A_min, L_A_max, L_B_min, L_B_max], \n",
    "                aspect=(L_A_max-L_A_min)/(L_B_max-L_B_min),\n",
    "                xlabel=\"A\", \n",
    "                ylabel=\"B\", \n",
    "                level=0, \n",
    "                level_names=['Unstable', 'Stable'], \n",
    "                color='blue')\n",
    "\n",
    "plt.show()\n",
    "\n"
   ]
  },
  {
   "cell_type": "code",
   "execution_count": null,
   "id": "da966ba7",
   "metadata": {},
   "outputs": [],
   "source": []
  },
  {
   "cell_type": "code",
   "execution_count": 111,
   "id": "e332b9ec",
   "metadata": {
    "ExecuteTime": {
     "end_time": "2022-09-14T14:34:19.623062Z",
     "start_time": "2022-09-14T14:34:19.224375Z"
    }
   },
   "outputs": [
    {
     "data": {
      "image/png": "[encoded data removed]",
      "text/plain": [
       "<Figure size 792x288 with 2 Axes>"
      ]
     },
     "metadata": {},
     "output_type": "display_data"
    }
   ],
   "source": [
    "# Create a meshgrid [-4, 4]x[-2, 4] for (A, B) domain\n",
    "L_A_min = .5\n",
    "L_A_max = 1.5\n",
    "L_B_min = 1.2\n",
    "L_B_max = 1.22\n",
    "A_size = 600\n",
    "B_size = 600\n",
    "A_axis = np.linspace(L_A_min, L_A_max, A_size)\n",
    "B_axis = np.linspace(L_B_min, L_B_max, B_size)\n",
    "A_grid, B_grid = np.meshgrid(A_axis, B_axis, sparse=False)\n",
    "\n",
    "D_u_val = 0.001\n",
    "D_v_val = 0.1\n",
    "\n",
    "# k_2_c_1 > k_2_c_2\n",
    "k_2_c_1_f = lambdify([A, B], k_2_c_1.subs([(D_u, D_u_val), (D_v, D_v_val)]), 'numpy')\n",
    "\n",
    "#\n",
    "def R_val_1(A, B):\n",
    "    return D_u_val * k_2_c_1_f(A, B)\n",
    "\n",
    "\n",
    "λs_strip_max_f = lambdify([A, B, R], λs_strip_max, 'numpy')\n",
    "\n",
    "def λs_strip_max_f2_1(A, B):\n",
    "    return λs_strip_max_f(A, B, R_val_1(A, B))\n",
    "\n",
    "\n",
    "# Plotting\n",
    "fig = plt.figure(figsize=(11,4))\n",
    "plt.style.use('seaborn-white')\n",
    "\n",
    "# Numerically calculate the largest eigenvalues\n",
    "domain =np.real(λs_strip_max_f2_1(np.complex64(A_grid), np.complex64(B_grid)))\n",
    "#domain = λs_strip_max_f2_1(A_grid, B_grid)\n",
    "domain = np.where(domain <= 0, True, False)\n",
    "#domain[domain > 0] = False\n",
    "#domain[domain <= 0] = True\n",
    "#domain[np.isnan(domain)] = False\n",
    "\n",
    "domain2 = A_grid >=  R_val_1(A_grid, B_grid)\n",
    "#  B > B_c = (R+1)^2\n",
    "domain3 = B_grid >= (R_val_1(A_grid, B_grid) + 1)**2\n",
    "\n",
    "\n",
    "domain_intersect = np.bool8(domain) & np.bool8(domain2) & np.bool8(domain3)#\n",
    "# plot the domain by using zero as the levelset\n",
    "ax = fig.add_subplot(111)\n",
    "#plot_two_levels(ax, np.float16(np.bool8(domain)), [0, L, 0, L], \"A\", \"R\", 0, ['Unstable', 'Stable'])\n",
    "#plot_two_levels(ax, np.float16(domain2), [0, L, 0, L], \"A\", \"R\", 0, ['Unstable', 'Stable'], color='red')\n",
    "plot_two_levels(ax, np.float16(domain_intersect), \n",
    "                extent=[L_A_min, L_A_max, L_B_min, L_B_max], \n",
    "                aspect=(L_A_max-L_A_min)/(L_B_max-L_B_min),\n",
    "                xlabel=\"A\", \n",
    "                ylabel=\"B\", \n",
    "                level=0, \n",
    "                level_names=['Unstable', 'Stable'], \n",
    "                color='blue')\n",
    "\n",
    "plt.show()\n",
    "\n"
   ]
  },
  {
   "cell_type": "code",
   "execution_count": null,
   "id": "b8ac53dc",
   "metadata": {},
   "outputs": [],
   "source": []
  }
 ],
 "metadata": {
  "kernelspec": {
   "display_name": "Python 3 (ipykernel)",
   "language": "python",
   "name": "python3"
  },
  "language_info": {
   "codemirror_mode": {
    "name": "ipython",
    "version": 3
   },
   "file_extension": ".py",
   "mimetype": "text/x-python",
   "name": "python",
   "nbconvert_exporter": "python",
   "pygments_lexer": "ipython3",
   "version": "3.10.4"
  },
  "varInspector": {
   "cols": {
    "lenName": 16,
    "lenType": 16,
    "lenVar": 40
   },
   "kernels_config": {
    "python": {
     "delete_cmd_postfix": "",
     "delete_cmd_prefix": "del ",
     "library": "var_list.py",
     "varRefreshCmd": "print(var_dic_list())"
    },
    "r": {
     "delete_cmd_postfix": ") ",
     "delete_cmd_prefix": "rm(",
     "library": "var_list.r",
     "varRefreshCmd": "cat(var_dic_list()) "
    }
   },
   "types_to_exclude": [
    "module",
    "function",
    "builtin_function_or_method",
    "instance",
    "_Feature"
   ],
   "window_display": false
  }
 },
 "nbformat": 4,
 "nbformat_minor": 5
}
