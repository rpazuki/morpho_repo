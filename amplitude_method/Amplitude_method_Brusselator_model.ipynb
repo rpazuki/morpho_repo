{
 "cells": [
  {
   "cell_type": "code",
   "execution_count": 1,
   "id": "c1aebf2c",
   "metadata": {
    "ExecuteTime": {
     "end_time": "2022-08-22T21:23:47.800488Z",
     "start_time": "2022-08-22T21:23:46.584998Z"
    }
   },
   "outputs": [],
   "source": [
    "from sympy import *\n",
    "import numpy as np\n",
    "import matplotlib.pyplot as plt\n",
    "from matplotlib.gridspec import GridSpec\n",
    "from IPython.display import display, Latex\n",
    "from utils import *\n",
    "\n",
    "import warnings\n",
    "warnings.filterwarnings('ignore')\n",
    "\n",
    "init_printing(use_latex='mathjax')"
   ]
  },
  {
   "cell_type": "markdown",
   "id": "8841c471",
   "metadata": {},
   "source": [
    "<h1><center>Section 2: Brusselator model</center> </h1>"
   ]
  },
  {
   "cell_type": "markdown",
   "id": "87c0e4e4",
   "metadata": {},
   "source": [
    "## Introduction\n",
    "\n",
    "In this section, we will apply the result of the previous section on the Brusselator model. To speed up the calculation, we will use the _sympy_ library that provides the symbolic computation for Python. This way, we can derive the result quickly and fast.\n",
    "In each cell, we might use some commands from _sympy_ (explained by a comment) or any of the following commands:\n",
    "\n",
    "__lprint__: Print a string into the ouput that has one or placeholders for latex scripts.\n",
    "\n",
    "__hprint__: Print a sympy object into the ouput that is starts with the provded header as latex script.\n",
    "\n",
    "Below are some examples"
   ]
  },
  {
   "cell_type": "code",
   "execution_count": 2,
   "id": "d65e50f1",
   "metadata": {
    "ExecuteTime": {
     "end_time": "2022-08-22T21:23:49.766980Z",
     "start_time": "2022-08-22T21:23:49.746331Z"
    }
   },
   "outputs": [
    {
     "data": {
      "text/latex": [
       "The fraction is $\\lambda^*$=$\\frac{B-1-A^2}{2}$:"
      ],
      "text/plain": [
       "<IPython.core.display.Latex object>"
      ]
     },
     "metadata": {},
     "output_type": "display_data"
    },
    {
     "data": {
      "text/plain": [
       "<IPython.core.display.Latex object>"
      ]
     },
     "metadata": {},
     "output_type": "display_data"
    },
    {
     "data": {
      "text/latex": [
       "$This \\, is \\, \\pi \\, in \\, sympy: \\pi$"
      ],
      "text/plain": [
       "<IPython.core.display.Latex object>"
      ]
     },
     "metadata": {},
     "output_type": "display_data"
    }
   ],
   "source": [
    "lprint(lprint(\"The fraction is {0}={1}:\", r\"\\lambda^*\", r\"\\frac{B-1-A^2}{2}\"))\n",
    "hprint(\"This \\, is \\, \\pi \\, in \\, sympy: \", pi)"
   ]
  },
  {
   "cell_type": "markdown",
   "id": "dc8995c4",
   "metadata": {},
   "source": [
    "## Brusselator PDEs\n",
    "\n",
    "> The Brusselator PDEs for two species are\n",
    "<h3><center>$\\partial_t u = D_u (\\partial_x^2 + \\partial_y^2)u + A - (B+1)u + u^2v$</center></h3>\n",
    "\n",
    "<h3><center>$\\partial_t v = D_v (\\partial_x^2 + \\partial_y^2)v + Bu - u^2 v$</center></h3>\n",
    "\n",
    "for diffusion constants $D_u$, $D_v$, and model parameters $A, B > 0$.\n",
    "Therefore, the kinetic terms are\n",
    "\n",
    "<h3><center>$f(u,v) = A - (B+1)u + u^2v$</center></h3>\n",
    "<h3><center>$g(u,v) = Bu - u^2 v$</center></h3>"
   ]
  },
  {
   "cell_type": "markdown",
   "id": "5f921406",
   "metadata": {},
   "source": [
    "To start with __sympy__, we must define the list of parameters that will be used as symbol."
   ]
  },
  {
   "cell_type": "code",
   "execution_count": 3,
   "id": "c3c56a86",
   "metadata": {
    "ExecuteTime": {
     "end_time": "2022-08-22T21:23:51.402352Z",
     "start_time": "2022-08-22T21:23:51.395138Z"
    }
   },
   "outputs": [],
   "source": [
    "A, B, D_u, D_v, u, v, k = symbols('A, B, D_u, D_v, u, v, k', real=True)\n",
    "#k = symbols('k', integer=True)"
   ]
  },
  {
   "cell_type": "markdown",
   "id": "9ebfa7bc",
   "metadata": {},
   "source": [
    "Next, we can define the kinetic terms, $f(u, v)$ and $g(u, v)$ for parameters $(D_u, D_v, A, B)$"
   ]
  },
  {
   "cell_type": "code",
   "execution_count": 4,
   "id": "2bdf4123",
   "metadata": {
    "ExecuteTime": {
     "end_time": "2022-08-22T21:23:52.493592Z",
     "start_time": "2022-08-22T21:23:52.234538Z"
    }
   },
   "outputs": [
    {
     "data": {
      "text/latex": [
       "$f(u,v) = A + u^{2} v - u \\left(B + 1\\right)$"
      ],
      "text/plain": [
       "<IPython.core.display.Latex object>"
      ]
     },
     "metadata": {},
     "output_type": "display_data"
    },
    {
     "data": {
      "text/latex": [
       "$g(u,v) = B u - u^{2} v$"
      ],
      "text/plain": [
       "<IPython.core.display.Latex object>"
      ]
     },
     "metadata": {},
     "output_type": "display_data"
    }
   ],
   "source": [
    "# define kinteic terms symbolically in sympy\n",
    "f = A - (B + 1) * u + u**2 * v\n",
    "g = B * u - u**2 * v\n",
    "# print their form\n",
    "hprint(\"f(u,v) = \", f)\n",
    "hprint(\"g(u,v) = \",g)"
   ]
  },
  {
   "cell_type": "markdown",
   "id": "1e66b819",
   "metadata": {},
   "source": [
    "and mixing them as a vector is using _Matrix_ method like"
   ]
  },
  {
   "cell_type": "code",
   "execution_count": 5,
   "id": "cf568d53",
   "metadata": {
    "ExecuteTime": {
     "end_time": "2022-08-22T21:23:52.594707Z",
     "start_time": "2022-08-22T21:23:52.589568Z"
    }
   },
   "outputs": [
    {
     "data": {
      "text/latex": [
       "$\\boldsymbol{f}(u, v) = \\left[\\begin{matrix}A + u^{2} v - u \\left(B + 1\\right)\\\\B u - u^{2} v\\end{matrix}\\right]$"
      ],
      "text/plain": [
       "<IPython.core.display.Latex object>"
      ]
     },
     "metadata": {},
     "output_type": "display_data"
    }
   ],
   "source": [
    "Kinetic = Matrix(\n",
    "    [[f], \n",
    "     [g]])\n",
    "hprint(r\"\\boldsymbol{f}(u, v) = \", Kinetic)"
   ]
  },
  {
   "cell_type": "markdown",
   "id": "28579547",
   "metadata": {},
   "source": [
    "After that, we need to find the steady state solutions of the system without diffusion by solving the following nonlinear equations\n",
    "\n",
    "<center>$f(u,v) = A - (B+1)u + u^2v = 0$</center>\n",
    "<center>$g(u,v) = Bu - u^2 v = 0$</center>\n",
    "\n",
    "The solution of the above equations, dented by $u^*$ and $v^*$, is such that\n",
    "<center>$f(u^*, v^*) = 0$</center>\n",
    "<center>$g(u^*, v^*) = 0$</center>\n",
    "\n",
    "In _sympy_ it we can solve the system symbolicly by using the _solve_ function"
   ]
  },
  {
   "cell_type": "code",
   "execution_count": 6,
   "id": "b03594fd",
   "metadata": {
    "ExecuteTime": {
     "end_time": "2022-08-22T21:23:52.791145Z",
     "start_time": "2022-08-22T21:23:52.748182Z"
    }
   },
   "outputs": [
    {
     "data": {
      "text/latex": [
       "$u^* = A$"
      ],
      "text/plain": [
       "<IPython.core.display.Latex object>"
      ]
     },
     "metadata": {},
     "output_type": "display_data"
    },
    {
     "data": {
      "text/latex": [
       "$v^* = \\frac{B}{A}$"
      ],
      "text/plain": [
       "<IPython.core.display.Latex object>"
      ]
     },
     "metadata": {},
     "output_type": "display_data"
    }
   ],
   "source": [
    "# finding the steady state of the system, which\n",
    "# is the solution of the system with respect to u and v\n",
    "u_star, v_star = solve(Kinetic, (u, v))[0]\n",
    "hprint(\"u^* = \", u_star)\n",
    "hprint(\"v^* = \", v_star)"
   ]
  },
  {
   "cell_type": "markdown",
   "id": "b8b09ed5",
   "metadata": {},
   "source": [
    "Next, to linearise the PDE system, we must derive the Jacobian of $(f, g)$ that is evaluated at $(u^*, v^*)$ "
   ]
  },
  {
   "cell_type": "code",
   "execution_count": 7,
   "id": "37f19784",
   "metadata": {
    "ExecuteTime": {
     "end_time": "2022-08-22T21:23:53.296267Z",
     "start_time": "2022-08-22T21:23:53.272358Z"
    }
   },
   "outputs": [
    {
     "data": {
      "text/latex": [
       "$J_0= \\frac{\\partial \\boldsymbol{f}_i}{\\partial u_j} = \\left[\\begin{matrix}- B + 2 u v - 1 & u^{2}\\\\B - 2 u v & - u^{2}\\end{matrix}\\right]$"
      ],
      "text/plain": [
       "<IPython.core.display.Latex object>"
      ]
     },
     "metadata": {},
     "output_type": "display_data"
    },
    {
     "data": {
      "text/latex": [
       "$J_0|_{(u^*, v^*)} =\\left[\\begin{matrix}B - 1 & A^{2}\\\\- B & - A^{2}\\end{matrix}\\right]$"
      ],
      "text/plain": [
       "<IPython.core.display.Latex object>"
      ]
     },
     "metadata": {},
     "output_type": "display_data"
    }
   ],
   "source": [
    "# Find the jacobian of the vectorised kinetic terms w.r.t. u and v\n",
    "J_0 = Kinetic.jacobian([u, v])\n",
    "# Print the jacobian\n",
    "hprint(r\"J_0= \\frac{\\partial \\boldsymbol{f}_i}{\\partial u_j} = \", J_0)\n",
    "# Evaluate the jacobian at the stationary solution\n",
    "J_0 = J_0.subs([(u, u_star), (v, v_star)])\n",
    "# print the jacobian at the stationary solution\n",
    "hprint(\"J_0|_{(u^*, v^*)} =\", J_0)"
   ]
  },
  {
   "cell_type": "markdown",
   "id": "7af3b535",
   "metadata": {},
   "source": [
    "Eigenvalues of the resulting matrix in terms of parameters $A$ and $B$ derives by calling _eigenvals_ function"
   ]
  },
  {
   "cell_type": "code",
   "execution_count": 8,
   "id": "75a20cd4",
   "metadata": {
    "ExecuteTime": {
     "end_time": "2022-08-22T21:23:53.567173Z",
     "start_time": "2022-08-22T21:23:53.467844Z"
    }
   },
   "outputs": [
    {
     "data": {
      "text/latex": [
       "$\\lambda^{(0)}_1 = - \\frac{A^{2}}{2} + \\frac{B}{2} - \\frac{\\sqrt{\\left(A^{2} - 2 A - B + 1\\right) \\left(A^{2} + 2 A - B + 1\\right)}}{2} - \\frac{1}{2}$"
      ],
      "text/plain": [
       "<IPython.core.display.Latex object>"
      ]
     },
     "metadata": {},
     "output_type": "display_data"
    },
    {
     "data": {
      "text/latex": [
       "$\\lambda^{(0)}_2 = - \\frac{A^{2}}{2} + \\frac{B}{2} + \\frac{\\sqrt{\\left(A^{2} - 2 A - B + 1\\right) \\left(A^{2} + 2 A - B + 1\\right)}}{2} - \\frac{1}{2}$"
      ],
      "text/plain": [
       "<IPython.core.display.Latex object>"
      ]
     },
     "metadata": {},
     "output_type": "display_data"
    }
   ],
   "source": [
    "# Deriving eigenvalues of the jacobian in terms of parameter A and B\n",
    "λ_0_1, λ_0_2 =  list(J_0.eigenvals().keys())\n",
    "hprint(\"\\lambda^{(0)}_1 = \", λ_0_1)\n",
    "hprint(\"\\lambda^{(0)}_2 = \", λ_0_2)"
   ]
  },
  {
   "cell_type": "markdown",
   "id": "9b5a5c2e",
   "metadata": {},
   "source": [
    "We can find the region of the $(A, B)$ plan where both $\\lambda_1$ and $\\lambda_2$ are negative (Turing stability) or directly use the inequalities we saw in the previous section.\n",
    "Here, we try both of them and get exactly the same result."
   ]
  },
  {
   "cell_type": "code",
   "execution_count": 9,
   "id": "5f8a6f6d",
   "metadata": {
    "ExecuteTime": {
     "end_time": "2022-08-22T21:23:54.471418Z",
     "start_time": "2022-08-22T21:23:54.438803Z"
    }
   },
   "outputs": [
    {
     "data": {
      "text/latex": [
       "Condition 1: $- A^{2} + B - 1$ $< 0$"
      ],
      "text/plain": [
       "<IPython.core.display.Latex object>"
      ]
     },
     "metadata": {},
     "output_type": "display_data"
    },
    {
     "data": {
      "text/latex": [
       "Condition 2: $A^{2}$ $> 0$"
      ],
      "text/plain": [
       "<IPython.core.display.Latex object>"
      ]
     },
     "metadata": {},
     "output_type": "display_data"
    }
   ],
   "source": [
    "# Find the trace and determinant of J_0 symbolically\n",
    "cond_1 = J_0.trace()\n",
    "cond_2 = J_0.det()\n",
    "lprint(r\"Condition 1: {0} $< 0$\", latex(cond_1))\n",
    "lprint(r\"Condition 2: {0} $> 0$\", latex(cond_2))\n",
    "# convert the symbolic trace and determinants to numpy functions\n",
    "cond_1_f = lambdify([A, B], cond_1, modules='numpy')\n",
    "cond_2_f = lambdify([A, B], cond_2, modules='numpy')\n",
    "# convert the symbolic lambda_2 to a numpy function\n",
    "λ_0_2_f = lambdify([A, B], λ_0_2, modules='numpy')"
   ]
  },
  {
   "cell_type": "markdown",
   "id": "1bf943d9",
   "metadata": {},
   "source": [
    "Including the diffusion, the matrix $\\boldsymbol{J}$ defines as\n",
    "<center>$\\boldsymbol{J} = \\boldsymbol{J_0} - k^2 \\boldsymbol{D}$</center>\n",
    "and we can use _sympy_ to find its egenvalues symbolically as follows:"
   ]
  },
  {
   "cell_type": "code",
   "execution_count": 10,
   "id": "d29bedbc",
   "metadata": {
    "ExecuteTime": {
     "end_time": "2022-08-22T21:24:01.862324Z",
     "start_time": "2022-08-22T21:24:01.594086Z"
    }
   },
   "outputs": [
    {
     "data": {
      "text/latex": [
       "$\\boldsymbol{J}$ = $\\left[\\begin{matrix}B - D_{u} k^{2} - 1 & A^{2}\\\\- B & - A^{2} - D_{v} k^{2}\\end{matrix}\\right]$"
      ],
      "text/plain": [
       "<IPython.core.display.Latex object>"
      ]
     },
     "metadata": {},
     "output_type": "display_data"
    },
    {
     "data": {
      "text/latex": [
       "$\\lambda_1 = - \\frac{A^{2}}{2} + \\frac{B}{2} - \\frac{D_{u} k^{2}}{2} - \\frac{D_{v} k^{2}}{2} - \\frac{\\sqrt{A^{4} - 2 A^{2} B - 2 A^{2} D_{u} k^{2} + 2 A^{2} D_{v} k^{2} - 2 A^{2} + B^{2} - 2 B D_{u} k^{2} + 2 B D_{v} k^{2} - 2 B + D_{u}^{2} k^{4} - 2 D_{u} D_{v} k^{4} + 2 D_{u} k^{2} + D_{v}^{2} k^{4} - 2 D_{v} k^{2} + 1}}{2} - \\frac{1}{2}$"
      ],
      "text/plain": [
       "<IPython.core.display.Latex object>"
      ]
     },
     "metadata": {},
     "output_type": "display_data"
    },
    {
     "data": {
      "text/latex": [
       "$\\lambda_2 = - \\frac{A^{2}}{2} + \\frac{B}{2} - \\frac{D_{u} k^{2}}{2} - \\frac{D_{v} k^{2}}{2} + \\frac{\\sqrt{A^{4} - 2 A^{2} B - 2 A^{2} D_{u} k^{2} + 2 A^{2} D_{v} k^{2} - 2 A^{2} + B^{2} - 2 B D_{u} k^{2} + 2 B D_{v} k^{2} - 2 B + D_{u}^{2} k^{4} - 2 D_{u} D_{v} k^{4} + 2 D_{u} k^{2} + D_{v}^{2} k^{4} - 2 D_{v} k^{2} + 1}}{2} - \\frac{1}{2}$"
      ],
      "text/plain": [
       "<IPython.core.display.Latex object>"
      ]
     },
     "metadata": {},
     "output_type": "display_data"
    }
   ],
   "source": [
    "# Define J \n",
    "J = J_0 - Matrix([[D_u*k**2, 0       ], \n",
    "                  [0,        D_v*k**2]])\n",
    "# print its form\n",
    "lprint(r\"$\\boldsymbol{J}$ = {0}\", latex(J))\n",
    "# Find its eigenvalues\n",
    "λ_1, λ_2 =  list(J.eigenvals().keys())\n",
    "hprint(\"\\lambda_1 = \", λ_1)\n",
    "hprint(\"\\lambda_2 = \", λ_2)"
   ]
  },
  {
   "cell_type": "markdown",
   "id": "6e9280ec",
   "metadata": {},
   "source": [
    "Find the critical wavenumber which is defined as\n",
    "<center>$k_c =\\sqrt{\\frac{f_u }{2 D_u} + \\frac{g_v}{2 D_v}}$</center>"
   ]
  },
  {
   "cell_type": "code",
   "execution_count": 11,
   "id": "5d4d1983",
   "metadata": {
    "ExecuteTime": {
     "end_time": "2022-08-22T21:24:03.904820Z",
     "start_time": "2022-08-22T21:24:03.872224Z"
    }
   },
   "outputs": [
    {
     "data": {
      "text/latex": [
       "$f_u$=$B - 1$"
      ],
      "text/plain": [
       "<IPython.core.display.Latex object>"
      ]
     },
     "metadata": {},
     "output_type": "display_data"
    },
    {
     "data": {
      "text/latex": [
       "$f_v$=$A^{2}$"
      ],
      "text/plain": [
       "<IPython.core.display.Latex object>"
      ]
     },
     "metadata": {},
     "output_type": "display_data"
    },
    {
     "data": {
      "text/latex": [
       "$g_u$=$- B$"
      ],
      "text/plain": [
       "<IPython.core.display.Latex object>"
      ]
     },
     "metadata": {},
     "output_type": "display_data"
    },
    {
     "data": {
      "text/latex": [
       "$g_v$=$- A^{2}$"
      ],
      "text/plain": [
       "<IPython.core.display.Latex object>"
      ]
     },
     "metadata": {},
     "output_type": "display_data"
    },
    {
     "data": {
      "text/latex": [
       "$k_c$=$\\sqrt{- \\frac{A^{2}}{2 D_{v}} + \\frac{B - 1}{2 D_{u}}}$"
      ],
      "text/plain": [
       "<IPython.core.display.Latex object>"
      ]
     },
     "metadata": {},
     "output_type": "display_data"
    }
   ],
   "source": [
    "f_u = J_0[0, 0]\n",
    "f_v = J_0[0, 1]\n",
    "g_u = J_0[1, 0]\n",
    "g_v = J_0[1, 1]\n",
    "\n",
    "lprint(r\"$f_u$={0}\", latex(f_u))\n",
    "lprint(r\"$f_v$={0}\", latex(f_v))\n",
    "lprint(r\"$g_u$={0}\", latex(g_u))\n",
    "lprint(r\"$g_v$={0}\", latex(g_v))\n",
    "\n",
    "k_c = sqrt(f_u/(2 * D_u) + g_v/(2 * D_v))\n",
    "\n",
    "lprint(r\"$k_c$={0}\", latex(k_c))"
   ]
  },
  {
   "cell_type": "markdown",
   "id": "9d3df319",
   "metadata": {},
   "source": [
    "Before checking the validity of the critical wavenumber, let us find the bifurcation point for given values of $D_u = 1$, $D_v = 10$ and $B = 2$.\n",
    "\n",
    "The onset of bifurcation finds by equation (36) and when it is an equality\n",
    "<center>$(D_v f_u + D_u g_v)^2 \\le 4D_u D_v (f_u g_v - f_v g_u)$<center>\n",
    " So, when we write this inequality for the Brusselator model, we have"
   ]
  },
  {
   "cell_type": "code",
   "execution_count": 12,
   "id": "d4ddebe2",
   "metadata": {
    "ExecuteTime": {
     "end_time": "2022-08-22T21:24:05.758384Z",
     "start_time": "2022-08-22T21:24:05.620899Z"
    }
   },
   "outputs": [
    {
     "data": {
      "text/latex": [
       "The onset of bifurcation condition: $- 4 A^{2} D_{u} D_{v} + \\left(A^{2} D_{u} - D_{v} \\left(B - 1\\right)\\right)^{2}$ = 0"
      ],
      "text/plain": [
       "<IPython.core.display.Latex object>"
      ]
     },
     "metadata": {},
     "output_type": "display_data"
    }
   ],
   "source": [
    "bifurcation_con = simplify((D_v * f_u + D_u * g_v)**2 \n",
    "                           - 4 * D_u *D_v * (f_u * g_v - f_v * g_u))\n",
    "lprint(\"The onset of bifurcation condition: {0} = 0\", latex(bifurcation_con))"
   ]
  },
  {
   "cell_type": "markdown",
   "id": "ef50e6bb",
   "metadata": {},
   "source": [
    "And substituting $D_u = 1$, $D_v = 10$ and $B = 2$ leaves an equation for $A$ which we can solve"
   ]
  },
  {
   "cell_type": "code",
   "execution_count": 13,
   "id": "ceae40cb",
   "metadata": {
    "ExecuteTime": {
     "end_time": "2022-08-22T21:24:07.217770Z",
     "start_time": "2022-08-22T21:24:07.195115Z"
    }
   },
   "outputs": [
    {
     "data": {
      "text/latex": [
       "The onset of bifurcation condition: $- 40 A^{2} + \\left(A^{2} - 10\\right)^{2}$ = 0"
      ],
      "text/plain": [
       "<IPython.core.display.Latex object>"
      ]
     },
     "metadata": {},
     "output_type": "display_data"
    }
   ],
   "source": [
    "bifurcation_con = bifurcation_con.subs([(D_u, 1), (D_v, 10), (B, 2)])\n",
    "lprint(\"The onset of bifurcation condition: {0} = 0\", latex(bifurcation_con))"
   ]
  },
  {
   "cell_type": "code",
   "execution_count": 14,
   "id": "5354c903",
   "metadata": {
    "ExecuteTime": {
     "end_time": "2022-08-22T21:24:08.797115Z",
     "start_time": "2022-08-22T21:24:08.744928Z"
    }
   },
   "outputs": [
    {
     "data": {
      "text/latex": [
       "Solutions: $\\left[ - \\sqrt{30 - 20 \\sqrt{2}}, \\  \\sqrt{30 - 20 \\sqrt{2}}, \\  - \\sqrt{20 \\sqrt{2} + 30}, \\  \\sqrt{20 \\sqrt{2} + 30}\\right]$"
      ],
      "text/plain": [
       "<IPython.core.display.Latex object>"
      ]
     },
     "metadata": {},
     "output_type": "display_data"
    },
    {
     "data": {
      "text/latex": [
       "A=$- \\sqrt{30 - 20 \\sqrt{2}}$=-1.3099"
      ],
      "text/plain": [
       "<IPython.core.display.Latex object>"
      ]
     },
     "metadata": {},
     "output_type": "display_data"
    }
   ],
   "source": [
    "solutions = solve(bifurcation_con)\n",
    "lprint(\"Solutions: {0}\", latex(solutions))\n",
    "A_val = np.float64(solutions[0].evalf())\n",
    "lprint(\"A={0}\" f\"={A_val:.4f}\", latex(solutions[0]))"
   ]
  },
  {
   "cell_type": "markdown",
   "id": "a6bc58bf",
   "metadata": {
    "ExecuteTime": {
     "end_time": "2022-08-18T14:46:41.131470Z",
     "start_time": "2022-08-18T14:46:41.125750Z"
    }
   },
   "source": [
    "So, $(D_u=1, D_v=10, A=-\\sqrt{30 - 20 \\sqrt{2}}, B=2)$ is the onset of bifurcation.\n",
    "We plot $\\lambda_2(k)$ against $k$ and $k_c$ as a vertical line"
   ]
  },
  {
   "cell_type": "markdown",
   "id": "f2a80c0b",
   "metadata": {},
   "source": [
    "### combining all the conditions together"
   ]
  },
  {
   "cell_type": "markdown",
   "id": "8c917ddc",
   "metadata": {},
   "source": [
    "Previously, we saw that for the Brusselator model\n",
    "<h4><center>$det(\\boldsymbol{J_0}) = f_u g_v - f_v g_u = -A^2 < 0$</center></h4>\n",
    "\n",
    "is always true. So, it remains three inequalities that together determine the Turing space of parameters:"
   ]
  },
  {
   "cell_type": "markdown",
   "id": "48eb562d",
   "metadata": {},
   "source": [
    "<h3><center>$f_u + g_v < 0$,</center></h3>\n",
    "<h4><center>$ D_v f_u + D_u g_v > 0$,</center></h4>\n",
    "<h4><center>$(D_v f_u + D_u g_v)^2 > 4D_u D_v (f_u g_v - f_v g_u)$,</center></h4>"
   ]
  },
  {
   "cell_type": "markdown",
   "id": "a304942e",
   "metadata": {},
   "source": [
    "However, these inequalites depends on four parameters, namely $A, B, D_u, D_v$, which makes the plotting of the Turning space very hard. So, we introduce the ratio of diffusion constants as $\\delta = D_u/D_v$, and then for $D_u, D_v > 0$\n",
    "<h4><center>$f_u + g_v < 0$,</center></h4>\n",
    "<h4><center>$ f_u + \\delta g_v > 0$,</center></h4>\n",
    "<h4><center>$(f_u + \\delta g_v)^2 > 4 \\delta (f_u g_v - f_v g_u)$,</center></h4>\n",
    "\n",
    "This set of inequalities have only three independnet parameters, and by fixing $\\delta$, we can find the Turing space on $(A, B)$ plane.\n",
    "\n",
    "Let us first define $\\delta$ and the new two inequalities symbolicly, and turn them to a numpy function."
   ]
  },
  {
   "cell_type": "code",
   "execution_count": 15,
   "id": "9754ebda",
   "metadata": {
    "ExecuteTime": {
     "end_time": "2022-08-22T21:24:13.819230Z",
     "start_time": "2022-08-22T21:24:13.785458Z"
    }
   },
   "outputs": [
    {
     "data": {
      "text/latex": [
       "Condition 3: $- A^{2} δ + B - 1$$ > 0$ "
      ],
      "text/plain": [
       "<IPython.core.display.Latex object>"
      ]
     },
     "metadata": {},
     "output_type": "display_data"
    },
    {
     "data": {
      "text/latex": [
       "Condition 4: $- 4 A^{2} δ + \\left(- A^{2} δ + B - 1\\right)^{2}$$ > 0$ "
      ],
      "text/plain": [
       "<IPython.core.display.Latex object>"
      ]
     },
     "metadata": {},
     "output_type": "display_data"
    }
   ],
   "source": [
    "δ = symbols(\"δ\", positive=True)\n",
    "\n",
    "cond_3 = f_u + δ * g_v\n",
    "cond_4 = cond_3**2 - 4 * δ * J_0.det()\n",
    "lprint(r\"Condition 3: {0}$ > 0$ \", latex(cond_3) )\n",
    "lprint(r\"Condition 4: {0}$ > 0$ \", latex(cond_4) )\n",
    "# convert the conditions to numpy functions\n",
    "cond_3_f = lambdify([A, B, δ], cond_3, modules='numpy')\n",
    "cond_4_f = lambdify([A, B, δ], cond_4, modules='numpy')"
   ]
  },
  {
   "cell_type": "code",
   "execution_count": null,
   "id": "15fd0305",
   "metadata": {},
   "outputs": [],
   "source": []
  },
  {
   "cell_type": "markdown",
   "id": "04cc8857",
   "metadata": {},
   "source": [
    "# Write the PDE for perturbed solution"
   ]
  },
  {
   "cell_type": "code",
   "execution_count": 16,
   "id": "e952dfb3",
   "metadata": {
    "ExecuteTime": {
     "end_time": "2022-08-22T21:24:16.692586Z",
     "start_time": "2022-08-22T21:24:16.676068Z"
    }
   },
   "outputs": [
    {
     "data": {
      "text/latex": [
       "$\\tilde{f}$ = $A^{2} v + 2 A u v + u^{2} v + u \\left(B - 1\\right) + \\frac{B u^{2}}{A}$"
      ],
      "text/plain": [
       "<IPython.core.display.Latex object>"
      ]
     },
     "metadata": {},
     "output_type": "display_data"
    },
    {
     "data": {
      "text/latex": [
       "$\\tilde{g}$ = $- A^{2} v - 2 A u v - B u - u^{2} v - \\frac{B u^{2}}{A}$"
      ],
      "text/plain": [
       "<IPython.core.display.Latex object>"
      ]
     },
     "metadata": {},
     "output_type": "display_data"
    }
   ],
   "source": [
    "f_p = (B - 1) * u + A**2 * v + 2 * A * u * v + (B/A) * u**2 + u**2 * v\n",
    "g_p = -B * u - A**2 * v - 2 * A * u * v - (B/A) * u**2 - u**2 * v\n",
    "lprint(r\"$\\tilde{f}$ = {0}\", f_p)\n",
    "lprint(r\"$\\tilde{g}$ = {0}\", g_p)"
   ]
  },
  {
   "cell_type": "code",
   "execution_count": 17,
   "id": "2f2d79af",
   "metadata": {
    "ExecuteTime": {
     "end_time": "2022-08-22T21:24:17.320215Z",
     "start_time": "2022-08-22T21:24:17.314305Z"
    }
   },
   "outputs": [],
   "source": [
    "def creat_coeff_z(expr, sym_list):\n",
    "    def coeff(sym):\n",
    "        ret = expr.coeff(sym)\n",
    "        for other_syms in sym_list: \n",
    "            if other_syms != sym:\n",
    "                ret = ret.subs(other_syms, 0)\n",
    "        return ret\n",
    "        \n",
    "    return coeff"
   ]
  },
  {
   "cell_type": "code",
   "execution_count": 18,
   "id": "837f5968",
   "metadata": {
    "ExecuteTime": {
     "end_time": "2022-08-22T21:24:18.439439Z",
     "start_time": "2022-08-22T21:24:18.433370Z"
    }
   },
   "outputs": [],
   "source": [
    "f_p_coeff = creat_coeff_z(f_p, [u,v])\n",
    "g_p_coeff = creat_coeff_z(g_p, [u,v])"
   ]
  },
  {
   "cell_type": "code",
   "execution_count": 19,
   "id": "a0272d16",
   "metadata": {
    "ExecuteTime": {
     "end_time": "2022-08-22T21:24:19.037699Z",
     "start_time": "2022-08-22T21:24:18.986827Z"
    }
   },
   "outputs": [
    {
     "data": {
      "text/latex": [
       "$\\boldsymbol{A}^{h, i} =$ $\\left[\\begin{matrix}B - 1 & A^{2}\\\\- B & - A^{2}\\end{matrix}\\right]$"
      ],
      "text/plain": [
       "<IPython.core.display.Latex object>"
      ]
     },
     "metadata": {},
     "output_type": "display_data"
    },
    {
     "data": {
      "text/latex": [
       "$\\boldsymbol{A}^{h, ij} = \\left[\\begin{matrix}\\left[\\begin{matrix}\\frac{B}{A} & A\\\\A & 0\\end{matrix}\\right] & \\left[\\begin{matrix}- \\frac{B}{A} & - A\\\\- A & 0\\end{matrix}\\right]\\end{matrix}\\right]$"
      ],
      "text/plain": [
       "<IPython.core.display.Latex object>"
      ]
     },
     "metadata": {},
     "output_type": "display_data"
    },
    {
     "data": {
      "text/latex": [
       "$\\boldsymbol{A}^{h, ijk} = \\left[\\begin{matrix}\\left[\\begin{matrix}0 & \\frac{1}{3}\\\\\\frac{1}{3} & 0\\end{matrix}\\right] & \\left[\\begin{matrix}\\frac{1}{3} & 0\\\\0 & 0\\end{matrix}\\right]\\\\\\left[\\begin{matrix}0 & - \\frac{1}{3}\\\\- \\frac{1}{3} & 0\\end{matrix}\\right] & \\left[\\begin{matrix}- \\frac{1}{3} & 0\\\\0 & 0\\end{matrix}\\right]\\end{matrix}\\right]$"
      ],
      "text/plain": [
       "<IPython.core.display.Latex object>"
      ]
     },
     "metadata": {},
     "output_type": "display_data"
    }
   ],
   "source": [
    "A_h_i = Matrix([[f_p_coeff(u), f_p_coeff(v)], \n",
    "                [g_p_coeff(u), g_p_coeff(v)]])\n",
    "lprint(r\"$\\boldsymbol{A}^{h, i} =$ {0}\", A_h_i)\n",
    "#\n",
    "A_h_i_j = Array([\n",
    "    [[f_p_coeff(u**2),  f_p_coeff(u*v)/2], \n",
    "     [f_p_coeff(v*u)/2, f_p_coeff(v**2)]],\n",
    "    \n",
    "    [[g_p_coeff(u**2),  g_p_coeff(u*v)/2], \n",
    "     [g_p_coeff(v*u)/2, g_p_coeff(v**2)]]])\n",
    "hprint(r\"\\boldsymbol{A}^{h, ij} = \", A_h_i_j)\n",
    "#\n",
    "A_h_i_j_k = Array([\n",
    "   [[[f_p_coeff(u**3),     f_p_coeff(u**2*v)/3], \n",
    "     [f_p_coeff(v*u**2)/3, f_p_coeff(u*v**2)/3]],\n",
    "    \n",
    "    [[f_p_coeff(u**2*v)/3, f_p_coeff(u*v**2)/3], \n",
    "     [f_p_coeff(u*v**2)/3, f_p_coeff(v**3)]]],\n",
    "    \n",
    "    [[[g_p_coeff(u**3),     g_p_coeff(u**2*v)/3], \n",
    "      [g_p_coeff(v*u**2)/3, g_p_coeff(u*v**2)/3]],\n",
    "    \n",
    "    [[g_p_coeff(u**2*v)/3, g_p_coeff(u*v**2)/3], \n",
    "     [g_p_coeff(u*v**2)/3, g_p_coeff(v**3)]]]])\n",
    "hprint(r\"\\boldsymbol{A}^{h, ijk} = \", A_h_i_j_k)\n"
   ]
  },
  {
   "cell_type": "markdown",
   "id": "ab532c47",
   "metadata": {},
   "source": [
    "# The follwoing code do the same for any model"
   ]
  },
  {
   "cell_type": "code",
   "execution_count": 20,
   "id": "64cd6d26",
   "metadata": {
    "ExecuteTime": {
     "end_time": "2022-08-22T21:24:20.722974Z",
     "start_time": "2022-08-22T21:24:20.708567Z"
    }
   },
   "outputs": [],
   "source": [
    "from functools import reduce\n",
    "\n",
    "def tensor_h(coeff, rank, sym_list):\n",
    "    l = len(sym_list)\n",
    "    def loop_rec(n, i, sym, ret_sym):\n",
    "        if i >= 0:\n",
    "            for x in range(l):                \n",
    "                loop_rec(n, i - 1, sym*sym_list[x], ret_sym)\n",
    "        else:\n",
    "            ret_sym += [sym]\n",
    "            return\n",
    "    terms = []\n",
    "    loop_rec(rank, rank-1, 1, terms)\n",
    "    polynomial_form = reduce(lambda x,y: x+y, terms)    \n",
    "    return [coeff(t)/polynomial_form.coeff(t) for t in terms]\n",
    "\n",
    "def tensor(coeff_list, rank, sym_list):\n",
    "    terms = []\n",
    "    for coeff in coeff_list:\n",
    "        terms += tensor_h(coeff, rank, sym_list)\n",
    "    n = len(sym_list)\n",
    "    return Array(terms, tuple([n for _ in range(rank+1)]))\n"
   ]
  },
  {
   "cell_type": "code",
   "execution_count": 21,
   "id": "ee1e35f8",
   "metadata": {
    "ExecuteTime": {
     "end_time": "2022-08-22T21:24:21.774268Z",
     "start_time": "2022-08-22T21:24:21.727841Z"
    }
   },
   "outputs": [
    {
     "data": {
      "text/latex": [
       "$\\boldsymbol{A}^{h, i} =$ $\\left[\\begin{matrix}B - 1 & A^{2}\\\\- B & - A^{2}\\end{matrix}\\right]$"
      ],
      "text/plain": [
       "<IPython.core.display.Latex object>"
      ]
     },
     "metadata": {},
     "output_type": "display_data"
    },
    {
     "data": {
      "text/latex": [
       "$\\boldsymbol{A}^{h, ij} = \\left[\\begin{matrix}\\left[\\begin{matrix}\\frac{B}{A} & A\\\\A & 0\\end{matrix}\\right] & \\left[\\begin{matrix}- \\frac{B}{A} & - A\\\\- A & 0\\end{matrix}\\right]\\end{matrix}\\right]$"
      ],
      "text/plain": [
       "<IPython.core.display.Latex object>"
      ]
     },
     "metadata": {},
     "output_type": "display_data"
    },
    {
     "data": {
      "text/latex": [
       "$\\boldsymbol{A}^{h, ijk} = \\left[\\begin{matrix}\\left[\\begin{matrix}0 & \\frac{1}{3}\\\\\\frac{1}{3} & 0\\end{matrix}\\right] & \\left[\\begin{matrix}\\frac{1}{3} & 0\\\\0 & 0\\end{matrix}\\right]\\\\\\left[\\begin{matrix}0 & - \\frac{1}{3}\\\\- \\frac{1}{3} & 0\\end{matrix}\\right] & \\left[\\begin{matrix}- \\frac{1}{3} & 0\\\\0 & 0\\end{matrix}\\right]\\end{matrix}\\right]$"
      ],
      "text/plain": [
       "<IPython.core.display.Latex object>"
      ]
     },
     "metadata": {},
     "output_type": "display_data"
    }
   ],
   "source": [
    "A_h_i = tensor([f_p_coeff, g_p_coeff], 1, [u,v])\n",
    "lprint(r\"$\\boldsymbol{A}^{h, i} =$ {0}\", A_h_i)\n",
    "#\n",
    "A_h_i_j = tensor([f_p_coeff, g_p_coeff], 2, [u,v])\n",
    "hprint(r\"\\boldsymbol{A}^{h, ij} = \", A_h_i_j)\n",
    "#\n",
    "A_h_i_j_k = tensor([f_p_coeff, g_p_coeff], 3, [u,v])\n",
    "hprint(r\"\\boldsymbol{A}^{h, ijk} = \", A_h_i_j_k)"
   ]
  },
  {
   "cell_type": "code",
   "execution_count": 22,
   "id": "8793c16a",
   "metadata": {
    "ExecuteTime": {
     "end_time": "2022-08-22T21:24:23.285004Z",
     "start_time": "2022-08-22T21:24:23.265545Z"
    }
   },
   "outputs": [
    {
     "data": {
      "text/latex": [
       "$\\boldsymbol{J}^{h, i}_{l} = \\left[\\begin{matrix}B - D_{u} k_{l}^{2} - 1 & A^{2}\\\\- B & - A^{2} - D_{v} k_{l}^{2}\\end{matrix}\\right]$"
      ],
      "text/plain": [
       "<IPython.core.display.Latex object>"
      ]
     },
     "metadata": {},
     "output_type": "display_data"
    }
   ],
   "source": [
    "k_l = symbols('k_l')\n",
    "\n",
    "J_l = Array([[-D_u*k_l**2, 0], \n",
    "             [0,           -D_v*k_l**2]]) + A_h_i\n",
    "hprint(r\"\\boldsymbol{J}^{h, i}_{l} = \", J_l)"
   ]
  },
  {
   "cell_type": "code",
   "execution_count": 23,
   "id": "1f6700bf",
   "metadata": {
    "ExecuteTime": {
     "end_time": "2022-08-22T21:24:26.318245Z",
     "start_time": "2022-08-22T21:24:24.916936Z"
    }
   },
   "outputs": [
    {
     "data": {
      "text/latex": [
       "$\\boldsymbol{S}_{l} = \\left[\\begin{matrix}\\frac{- A^{2} - B + D_{u} k_{l}^{2} - D_{v} k_{l}^{2} + \\sqrt{A^{4} - 2 A^{2} B - 2 A^{2} D_{u} k_{l}^{2} + 2 A^{2} D_{v} k_{l}^{2} - 2 A^{2} + B^{2} - 2 B D_{u} k_{l}^{2} + 2 B D_{v} k_{l}^{2} - 2 B + D_{u}^{2} k_{l}^{4} - 2 D_{u} D_{v} k_{l}^{4} + 2 D_{u} k_{l}^{2} + D_{v}^{2} k_{l}^{4} - 2 D_{v} k_{l}^{2} + 1} + 1}{2 B} & \\frac{- A^{2} - B + D_{u} k_{l}^{2} - D_{v} k_{l}^{2} - \\sqrt{A^{4} - 2 A^{2} B - 2 A^{2} D_{u} k_{l}^{2} + 2 A^{2} D_{v} k_{l}^{2} - 2 A^{2} + B^{2} - 2 B D_{u} k_{l}^{2} + 2 B D_{v} k_{l}^{2} - 2 B + D_{u}^{2} k_{l}^{4} - 2 D_{u} D_{v} k_{l}^{4} + 2 D_{u} k_{l}^{2} + D_{v}^{2} k_{l}^{4} - 2 D_{v} k_{l}^{2} + 1} + 1}{2 B}\\\\1 & 1\\end{matrix}\\right]$"
      ],
      "text/plain": [
       "<IPython.core.display.Latex object>"
      ]
     },
     "metadata": {},
     "output_type": "display_data"
    },
    {
     "data": {
      "text/latex": [
       "$\\boldsymbol{S}^{-1}_{l} = \\left[\\begin{matrix}\\frac{B}{\\sqrt{A^{4} - 2 A^{2} B - 2 A^{2} D_{u} k_{l}^{2} + 2 A^{2} D_{v} k_{l}^{2} - 2 A^{2} + B^{2} - 2 B D_{u} k_{l}^{2} + 2 B D_{v} k_{l}^{2} - 2 B + D_{u}^{2} k_{l}^{4} - 2 D_{u} D_{v} k_{l}^{4} + 2 D_{u} k_{l}^{2} + D_{v}^{2} k_{l}^{4} - 2 D_{v} k_{l}^{2} + 1}} & \\frac{A^{2} + B - D_{u} k_{l}^{2} + D_{v} k_{l}^{2} + \\sqrt{A^{4} - 2 A^{2} B - 2 A^{2} D_{u} k_{l}^{2} + 2 A^{2} D_{v} k_{l}^{2} - 2 A^{2} + B^{2} - 2 B D_{u} k_{l}^{2} + 2 B D_{v} k_{l}^{2} - 2 B + D_{u}^{2} k_{l}^{4} - 2 D_{u} D_{v} k_{l}^{4} + 2 D_{u} k_{l}^{2} + D_{v}^{2} k_{l}^{4} - 2 D_{v} k_{l}^{2} + 1} - 1}{2 \\sqrt{A^{4} - 2 A^{2} B - 2 A^{2} D_{u} k_{l}^{2} + 2 A^{2} D_{v} k_{l}^{2} - 2 A^{2} + B^{2} - 2 B D_{u} k_{l}^{2} + 2 B D_{v} k_{l}^{2} - 2 B + D_{u}^{2} k_{l}^{4} - 2 D_{u} D_{v} k_{l}^{4} + 2 D_{u} k_{l}^{2} + D_{v}^{2} k_{l}^{4} - 2 D_{v} k_{l}^{2} + 1}}\\\\- \\frac{B}{\\sqrt{A^{4} - 2 A^{2} B - 2 A^{2} D_{u} k_{l}^{2} + 2 A^{2} D_{v} k_{l}^{2} - 2 A^{2} + B^{2} - 2 B D_{u} k_{l}^{2} + 2 B D_{v} k_{l}^{2} - 2 B + D_{u}^{2} k_{l}^{4} - 2 D_{u} D_{v} k_{l}^{4} + 2 D_{u} k_{l}^{2} + D_{v}^{2} k_{l}^{4} - 2 D_{v} k_{l}^{2} + 1}} & \\frac{- A^{2} - B + D_{u} k_{l}^{2} - D_{v} k_{l}^{2} + \\sqrt{A^{4} - 2 A^{2} B - 2 A^{2} D_{u} k_{l}^{2} + 2 A^{2} D_{v} k_{l}^{2} - 2 A^{2} + B^{2} - 2 B D_{u} k_{l}^{2} + 2 B D_{v} k_{l}^{2} - 2 B + D_{u}^{2} k_{l}^{4} - 2 D_{u} D_{v} k_{l}^{4} + 2 D_{u} k_{l}^{2} + D_{v}^{2} k_{l}^{4} - 2 D_{v} k_{l}^{2} + 1} + 1}{2 \\sqrt{A^{4} - 2 A^{2} B - 2 A^{2} D_{u} k_{l}^{2} + 2 A^{2} D_{v} k_{l}^{2} - 2 A^{2} + B^{2} - 2 B D_{u} k_{l}^{2} + 2 B D_{v} k_{l}^{2} - 2 B + D_{u}^{2} k_{l}^{4} - 2 D_{u} D_{v} k_{l}^{4} + 2 D_{u} k_{l}^{2} + D_{v}^{2} k_{l}^{4} - 2 D_{v} k_{l}^{2} + 1}}\\end{matrix}\\right]$"
      ],
      "text/plain": [
       "<IPython.core.display.Latex object>"
      ]
     },
     "metadata": {},
     "output_type": "display_data"
    }
   ],
   "source": [
    "J_l_decomp = J_l.tomatrix().eigenvects(simplify=True)\n",
    "S_l = Matrix([J_l_decomp[0][2][0], J_l_decomp[1][2][0]]).reshape(2,2).T\n",
    "hprint(r\"\\boldsymbol{S}_{l} = \", S_l)\n",
    "S_l_inv = S_l.inv()\n",
    "hprint(r\"\\boldsymbol{S}^{-1}_{l} = \", S_l_inv)"
   ]
  },
  {
   "cell_type": "markdown",
   "id": "a281045c",
   "metadata": {},
   "source": [
    "> To simplify, we replace the expressions by\n",
    "<h4><center>$ C_l(k_l) =  k_l^2(D_u - D_v) - A^2 - B + 1 $</center></h4>\n",
    "and considering \n",
    "<h4><center>$ k_{l=|l_1 + l_2|^2}^2 = k_c^2 |l_1 + l_2|^2$</center></h4>\n",
    "we write\n",
    "<h4><center>$ C(l) =  l k_c^2(D_u - D_v) - A^2 - B + 1 $</center></h4>\n",
    "So, for the critical wavenumber $k_c$ we have \n",
    "<h4><center>$ C_l(k_c) =  C(1) $</center></h4>"
   ]
  },
  {
   "cell_type": "code",
   "execution_count": 38,
   "id": "ffe142dc",
   "metadata": {
    "ExecuteTime": {
     "end_time": "2022-08-22T22:05:46.462697Z",
     "start_time": "2022-08-22T22:05:46.401102Z"
    },
    "scrolled": false
   },
   "outputs": [
    {
     "data": {
      "text/latex": [
       "$\\Delta = $ $A^{4} - 2 A^{2} B - 2 A^{2} D_{u} k_{l}^{2} + 2 A^{2} D_{v} k_{l}^{2} - 2 A^{2} + B^{2} - 2 B D_{u} k_{l}^{2} + 2 B D_{v} k_{l}^{2} - 2 B + D_{u}^{2} k_{l}^{4} - 2 D_{u} D_{v} k_{l}^{4} + 2 D_{u} k_{l}^{2} + D_{v}^{2} k_{l}^{4} - 2 D_{v} k_{l}^{2} + 1$"
      ],
      "text/plain": [
       "<IPython.core.display.Latex object>"
      ]
     },
     "metadata": {},
     "output_type": "display_data"
    },
    {
     "data": {
      "text/latex": [
       "Replace $D_u^2 k_l^4 + D_v^2 k_l^4 -2 D_u D_v k_l^4$ by $(D_u - D_v)^2 k_l^4$"
      ],
      "text/plain": [
       "<IPython.core.display.Latex object>"
      ]
     },
     "metadata": {},
     "output_type": "display_data"
    },
    {
     "name": "stdout",
     "output_type": "stream",
     "text": [
      "\n"
     ]
    },
    {
     "data": {
      "text/latex": [
       "and $- 2 A^{2} D_{u} k_{l}^{2} + 2 A^{2} D_{v} k_{l}^{2} - 2 B D_{u} k_{l}^{2} + 2 B D_{v} k_{l}^{2} + 2 D_{u} k_{l}^{2} - 2 D_{v} k_{l}^{2}$ by $-2(A^2 + B - 1)(D_u - D_v) k_l^2$"
      ],
      "text/plain": [
       "<IPython.core.display.Latex object>"
      ]
     },
     "metadata": {},
     "output_type": "display_data"
    },
    {
     "name": "stdout",
     "output_type": "stream",
     "text": [
      "\n"
     ]
    },
    {
     "data": {
      "text/latex": [
       "and $A^{4} - 2 A^{2} B - 2 A^{2} + B^{2} - 2 B + 1$ by $(A^2 + B - 1)^2 - 4 A^2 B$"
      ],
      "text/plain": [
       "<IPython.core.display.Latex object>"
      ]
     },
     "metadata": {},
     "output_type": "display_data"
    },
    {
     "name": "stdout",
     "output_type": "stream",
     "text": [
      "So,\n"
     ]
    },
    {
     "data": {
      "text/latex": [
       "$\\Delta = $ $- 4 A^{2} B + k_{l}^{4} \\left(D_{u} - D_{v}\\right)^{2} + k_{l}^{2} \\left(D_{u} - D_{v}\\right) \\left(- 2 A^{2} - 2 B + 2\\right) + \\left(A^{2} + B - 1\\right)^{2}$"
      ],
      "text/plain": [
       "<IPython.core.display.Latex object>"
      ]
     },
     "metadata": {},
     "output_type": "display_data"
    },
    {
     "name": "stdout",
     "output_type": "stream",
     "text": [
      "Then,\n"
     ]
    },
    {
     "data": {
      "text/latex": [
       "$\\Delta = $ $- 4 A^{2} B + \\left(- A^{2} - B + k_{l}^{2} \\left(D_{u} - D_{v}\\right) + 1\\right)^{2}$"
      ],
      "text/plain": [
       "<IPython.core.display.Latex object>"
      ]
     },
     "metadata": {},
     "output_type": "display_data"
    },
    {
     "name": "stdout",
     "output_type": "stream",
     "text": [
      "\n",
      "\n"
     ]
    },
    {
     "data": {
      "text/latex": [
       "Next, we replace $ k_l^2(D_u - D_v) - A^2 - B + 1$ by $C(1)$"
      ],
      "text/plain": [
       "<IPython.core.display.Latex object>"
      ]
     },
     "metadata": {},
     "output_type": "display_data"
    },
    {
     "data": {
      "text/latex": [
       "$\\Delta = $ $- 4 A^{2} B + C^{2}{\\left(1 \\right)}$"
      ],
      "text/plain": [
       "<IPython.core.display.Latex object>"
      ]
     },
     "metadata": {},
     "output_type": "display_data"
    },
    {
     "name": "stdout",
     "output_type": "stream",
     "text": [
      "\n",
      "\n"
     ]
    },
    {
     "data": {
      "text/latex": [
       "And Finally, for $\\boldsymbol{S}_{l}$ and $\\boldsymbol{S}^{-1}_{l}$"
      ],
      "text/plain": [
       "<IPython.core.display.Latex object>"
      ]
     },
     "metadata": {},
     "output_type": "display_data"
    },
    {
     "data": {
      "text/latex": [
       "$\\boldsymbol{S}_{l} = \\left[\\begin{matrix}\\frac{\\sqrt{- 4 A^{2} B + C^{2}{\\left(1 \\right)}} + C{\\left(1 \\right)}}{2 B} & \\frac{- \\sqrt{- 4 A^{2} B + C^{2}{\\left(1 \\right)}} + C{\\left(1 \\right)}}{2 B}\\\\1 & 1\\end{matrix}\\right]$"
      ],
      "text/plain": [
       "<IPython.core.display.Latex object>"
      ]
     },
     "metadata": {},
     "output_type": "display_data"
    },
    {
     "data": {
      "text/latex": [
       "$\\boldsymbol{S}^{-1}_{l} = \\left[\\begin{matrix}\\frac{B}{\\sqrt{- 4 A^{2} B + C^{2}{\\left(1 \\right)}}} & \\frac{\\sqrt{- 4 A^{2} B + C^{2}{\\left(1 \\right)}} - C{\\left(1 \\right)}}{2 \\sqrt{- 4 A^{2} B + C^{2}{\\left(1 \\right)}}}\\\\- \\frac{B}{\\sqrt{- 4 A^{2} B + C^{2}{\\left(1 \\right)}}} & \\frac{\\sqrt{- 4 A^{2} B + C^{2}{\\left(1 \\right)}} + C{\\left(1 \\right)}}{2 \\sqrt{- 4 A^{2} B + C^{2}{\\left(1 \\right)}}}\\end{matrix}\\right]$"
      ],
      "text/plain": [
       "<IPython.core.display.Latex object>"
      ]
     },
     "metadata": {},
     "output_type": "display_data"
    }
   ],
   "source": [
    "# Select the Delta\n",
    "term = J_l_decomp[0][2][0][0].as_terms()[1][1]\n",
    "for t in term.as_terms()[1]:\n",
    "    t_power = t.as_powers_dict()\n",
    "    for k in t_power.keys():        \n",
    "        if t_power[k] == 1/2:\n",
    "            Delta_k = k\n",
    "#\n",
    "C = Function(\"C\")\n",
    "Delta, k_c = symbols(\"Delta, k_c\")\n",
    "l = symbols(\"l\", integer=True)\n",
    "#\n",
    "lprint(r\"$\\Delta = $ {0}\", Delta_k)\n",
    "lprint(\"Replace $D_u^2 k_l^4 + D_v^2 k_l^4 -2 D_u D_v k_l^4$ by $(D_u - D_v)^2 k_l^4$\")\n",
    "print()\n",
    "lprint(\"and $- 2 A^{2} D_{u} k_{l}^{2} + 2 A^{2} D_{v} k_{l}^{2} - 2 B D_{u} k_{l}^{2} + 2 B D_{v} k_{l}^{2} + 2 D_{u} k_{l}^{2} - 2 D_{v} k_{l}^{2}$\"\n",
    "       \" by $-2(A^2 + B - 1)(D_u - D_v) k_l^2$\")\n",
    "print()\n",
    "lprint(\"and $A^{4} - 2 A^{2} B - 2 A^{2} + B^{2} - 2 B + 1$\"\n",
    "       \" by $(A^2 + B - 1)^2 - 4 A^2 B$\")\n",
    "\n",
    "Delta_k = Delta_k.subs(D_u**2 * k_l**4 + D_v**2 * k_l**4 - 2 * D_u * D_v * k_l**4,\n",
    "                      (D_u - D_v)**2 * k_l**4 )\n",
    "Delta_k = Delta_k.subs(-2*A**2 * D_u * k_l**2 + 2*A**2* D_v * k_l**2 - 2*B*D_u*k_l**2 + 2*B*D_v*k_l**2 + 2*D_u*k_l**2 - 2*D_v*k_l**2,\n",
    "                      -2*(A**2 + B - 1)*(D_u - D_v) * k_l**2 )\n",
    "Delta_k = Delta_k.subs(A**4 - 2 * A**2 * B - 2 * A**2 + B**2 - 2 * B + 1,\n",
    "                      (A**2 + B - 1)**2 - 4*A**2*B )\n",
    "print(\"So,\")\n",
    "lprint(r\"$\\Delta = $ {0}\", Delta_k)\n",
    "print(\"Then,\")\n",
    "Delta_k = ((D_u - D_v) * k_l**2 - (A**2 + B - 1))**2 - 4*A**2*B\n",
    "lprint(r\"$\\Delta = $ {0}\", Delta_k)\n",
    "print()\n",
    "print()\n",
    "lprint(\"Next, we replace $ k_l^2(D_u - D_v) - A^2 - B + 1$ by $C(1)$\")\n",
    "lprint(r\"$\\Delta = $ {0}\", Delta_k.subs((D_u - D_v) * k_l**2 - (A**2 + B - 1), C(1)))\n",
    "print()\n",
    "print()\n",
    "lprint(r\"And Finally, for $\\boldsymbol{S}_{l}$ and $\\boldsymbol{S}^{-1}_{l}$\")\n",
    "# Define a symbole for Delta, alpha\n",
    "S_l = S_l.subs(expand(Delta_k), C(1)**2-4*A**2*B)\n",
    "S_l = S_l.subs(D_u * k_l**2 - D_v * k_l**2 - A**2 - B + 1, C(1))\n",
    "#\n",
    "hprint(r\"\\boldsymbol{S}_{l} = \", S_l)\n",
    "S_l_inv = S_l_inv.subs(expand(Delta_k), C(1)**2-4*A**2*B)\n",
    "S_l_inv = S_l_inv.subs(D_u * k_l**2 - D_v * k_l**2 - A**2 - B + 1, C(1))\n",
    "#\n",
    "hprint(r\"\\boldsymbol{S}^{-1}_{l} = \", S_l_inv)"
   ]
  },
  {
   "cell_type": "markdown",
   "id": "07c7a0e2",
   "metadata": {},
   "source": [
    "<h3><center>$\\Gamma = 2 \\beta^{1h} A^{h, ij} \\alpha^{i1} \\alpha^{j1}$</center></h3>\n",
    "<h3><center>$\\alpha^{ij} = (S_l)_{ij}$</center></h3>\n",
    "<h3><center>$\\beta^{ij} = (S^{-1}_l)_{ij}$</center></h3>"
   ]
  },
  {
   "cell_type": "code",
   "execution_count": 25,
   "id": "888d5f1a",
   "metadata": {
    "ExecuteTime": {
     "end_time": "2022-08-22T21:25:19.047435Z",
     "start_time": "2022-08-22T21:25:18.485508Z"
    }
   },
   "outputs": [
    {
     "data": {
      "text/latex": [
       "$\\Gamma = $ $\\frac{- 4 A^{4} + 2 A^{2} B + 3 A^{2} \\sqrt{- 4 A^{2} B + C^{2}{\\left(1 \\right)}} - 3 A^{2} C{\\left(1 \\right)} + \\sqrt{- 4 A^{2} B + C^{2}{\\left(1 \\right)}} C{\\left(1 \\right)} - C^{2}{\\left(1 \\right)}}{A \\sqrt{- 4 A^{2} B + C^{2}{\\left(1 \\right)}}}$"
      ],
      "text/plain": [
       "<IPython.core.display.Latex object>"
      ]
     },
     "metadata": {},
     "output_type": "display_data"
    }
   ],
   "source": [
    "Gamma = 0\n",
    "for h in range(2):    \n",
    "    A_s = 0\n",
    "    for i in range(2):\n",
    "        alpha_i_1 = S_l[i, 1]\n",
    "        for  j in range(2):\n",
    "            alpha_j_1 = S_l[j, 1]\n",
    "            A_s += simplify(A_h_i_j[h, i, j] *  alpha_i_1 * alpha_j_1)\n",
    "    beta = S_l_inv[1, h]\n",
    "    Gamma += 2 * beta * A_s\n",
    "        \n",
    "Gamma = cancel(simplify(Gamma))\n",
    "lprint(r\"$\\Gamma = $ {0}\", Gamma)\n",
    "#lprint(\"and replacing $C(1)$ for the critical wavenumber by $k_c^2(D_u - D_v) - A^2 - B + 1$\")\n",
    "#Gamma = Gamma.subs(C(1), k_c**2 * (D_u - D_v) - A**2 - B + 1)\n",
    "#Gamma = simplify(Gamma)\n",
    "#lprint(r\"$\\Gamma = $ {0}\", Gamma)"
   ]
  },
  {
   "cell_type": "markdown",
   "id": "5f309e6f",
   "metadata": {},
   "source": [
    "Find the inverse of $\\boldsymbol{J}_{l}$ and replace $k_l^2$ by $l k_c^2$"
   ]
  },
  {
   "cell_type": "code",
   "execution_count": 27,
   "id": "d3534fb1",
   "metadata": {
    "ExecuteTime": {
     "end_time": "2022-08-22T21:27:02.103994Z",
     "start_time": "2022-08-22T21:27:01.722703Z"
    }
   },
   "outputs": [
    {
     "data": {
      "text/latex": [
       "$\\boldsymbol{J}^{-1}_{l} =$ $\\left[\\begin{matrix}\\frac{- A^{2} - D_{v} k_{l}^{2}}{A^{2} D_{u} k_{l}^{2} + A^{2} - B D_{v} k_{l}^{2} + D_{u} D_{v} k_{l}^{4} + D_{v} k_{l}^{2}} & - \\frac{A^{2}}{A^{2} D_{u} k_{l}^{2} + A^{2} - B D_{v} k_{l}^{2} + D_{u} D_{v} k_{l}^{4} + D_{v} k_{l}^{2}}\\\\\\frac{B}{A^{2} D_{u} k_{l}^{2} + A^{2} - B D_{v} k_{l}^{2} + D_{u} D_{v} k_{l}^{4} + D_{v} k_{l}^{2}} & \\frac{B - D_{u} k_{l}^{2} - 1}{A^{2} D_{u} k_{l}^{2} + A^{2} - B D_{v} k_{l}^{2} + D_{u} D_{v} k_{l}^{4} + D_{v} k_{l}^{2}}\\end{matrix}\\right]$"
      ],
      "text/plain": [
       "<IPython.core.display.Latex object>"
      ]
     },
     "metadata": {},
     "output_type": "display_data"
    },
    {
     "data": {
      "text/latex": [
       "$\\boldsymbol{J}^{-1}_{l} =$ $\\left[\\begin{matrix}\\frac{- A^{2} - D_{v} k_{c}^{2} l}{A^{2} D_{u} k_{c}^{2} l + A^{2} - B D_{v} k_{c}^{2} l + D_{u} D_{v} k_{c}^{4} l^{2} + D_{v} k_{c}^{2} l} & - \\frac{A^{2}}{A^{2} D_{u} k_{c}^{2} l + A^{2} - B D_{v} k_{c}^{2} l + D_{u} D_{v} k_{c}^{4} l^{2} + D_{v} k_{c}^{2} l}\\\\\\frac{B}{A^{2} D_{u} k_{c}^{2} l + A^{2} - B D_{v} k_{c}^{2} l + D_{u} D_{v} k_{c}^{4} l^{2} + D_{v} k_{c}^{2} l} & \\frac{B - D_{u} k_{c}^{2} l - 1}{A^{2} D_{u} k_{c}^{2} l + A^{2} - B D_{v} k_{c}^{2} l + D_{u} D_{v} k_{c}^{4} l^{2} + D_{v} k_{c}^{2} l}\\end{matrix}\\right]$"
      ],
      "text/plain": [
       "<IPython.core.display.Latex object>"
      ]
     },
     "metadata": {},
     "output_type": "display_data"
    }
   ],
   "source": [
    "J_l_inv = J_l.tomatrix().inv()\n",
    "lprint(r\"$\\boldsymbol{J}^{-1}_{l} =$ {0}\", J_l_inv)\n",
    "J_l_inv = J_l_inv.subs(k_l**2, l * k_c**2)\n",
    "lprint(r\"$\\boldsymbol{J}^{-1}_{l} =$ {0}\", J_l_inv)"
   ]
  },
  {
   "cell_type": "markdown",
   "id": "b5f09565",
   "metadata": {},
   "source": [
    "<h3><center>$F(l) = -2 \\beta^{1h} A^{h, ij} \\alpha^{i1} (J_l^{-1})^{ja} A^{a, bc} \\alpha^{b1} \\alpha^{c1} + \\beta^{1h} A^{h, ijk} \\alpha^{i1} \\alpha^{j1} \\alpha^{k1}$</center></h3>\n",
    "<h3><center>$\\alpha^{ij} = (S_l)_{ij}$</center></h3>\n",
    "<h3><center>$\\beta^{ij} = (S^{-1}_l)_{ij}$</center></h3>"
   ]
  },
  {
   "cell_type": "code",
   "execution_count": 28,
   "id": "c17ce5cf",
   "metadata": {
    "ExecuteTime": {
     "end_time": "2022-08-22T21:27:51.980086Z",
     "start_time": "2022-08-22T21:27:51.965302Z"
    }
   },
   "outputs": [],
   "source": [
    "def F(l_val):\n",
    "    def A_h(h):\n",
    "        A_s = 0\n",
    "        for i in range(2):\n",
    "            alpha_i_1 = S_l[i, 1]\n",
    "            for  j in range(2):\n",
    "                alpha_j_1 = S_l[j, 1]\n",
    "                A_s += simplify(A_h_i_j[h, i, j] *  alpha_i_1 * alpha_j_1)\n",
    "        return A_s\n",
    "    \n",
    "    ret = 0    \n",
    "    for h in range(2):    \n",
    "        A_s = 0\n",
    "        A_s_2 = 0\n",
    "        for i in range(2):\n",
    "            alpha_i_1 = S_l[i, 1]\n",
    "            for  j in range(2):\n",
    "                alpha_j_1 = S_l[j, 1]\n",
    "                J_l_v = 0\n",
    "                for k in range(2):\n",
    "                    alpha_k_1 = S_l[k, 1]\n",
    "                    A_s_2 += simplify(A_h_i_j_k[h, i, j, k] *  alpha_i_1 * alpha_j_1 * alpha_k_1)                    \n",
    "                    # We need to construct J_l for given l\n",
    "                    # by constructing C(l)\n",
    "                    # Note that l is in fact l^2, since \\m_2 + m_3|^2 = l in equations \n",
    "                    # (4.31) and (4.32)\n",
    "                    #C_l_f = (D_u - D_v) * l_square * k_c**2 - (A**2 + B - 1)\n",
    "                    \n",
    "                    J_l_1 = J_l_inv[j, k].subs(l, l_val)\n",
    "                    J_l_1 = J_l_1 * A_h(k)\n",
    "                    #J_l_1 = J_l_1.subs(l, sqrt(l_square))\n",
    "                    J_l_v += J_l_1#.subs(k_l, l * k_l)*A_h(k) \n",
    "                    \n",
    "                A_s += simplify(A_h_i_j[h, i, j] * alpha_i_1 * J_l_v)\n",
    "                \n",
    "        beta = S_l_inv[1, h]        \n",
    "        ret += simplify(-2 * beta * A_s + beta * A_s_2)\n",
    "    \n",
    "    #ret = simplify(ret).subs(C(l), C_l_f).subs(l, sqrt(l_square))\n",
    "    return simplify(ret)"
   ]
  },
  {
   "cell_type": "code",
   "execution_count": 29,
   "id": "21a83689",
   "metadata": {
    "ExecuteTime": {
     "end_time": "2022-08-22T21:28:13.477569Z",
     "start_time": "2022-08-22T21:28:10.726770Z"
    }
   },
   "outputs": [
    {
     "data": {
      "text/latex": [
       "$\\displaystyle \\frac{2 A^{2} \\left(- 4 A^{2} B - 3 A^{2} \\sqrt{- 4 A^{2} B + C^{2}{\\left(1 \\right)}} + 3 A^{2} C{\\left(1 \\right)} - 2 \\sqrt{- 4 A^{2} B + C^{2}{\\left(1 \\right)}} C{\\left(1 \\right)} + 2 C^{2}{\\left(1 \\right)}\\right) + \\left(\\sqrt{- 4 A^{2} B + C^{2}{\\left(1 \\right)}} - C{\\left(1 \\right)}\\right)^{2} \\cdot \\left(3 A^{2} - \\sqrt{- 4 A^{2} B + C^{2}{\\left(1 \\right)}} + C{\\left(1 \\right)}\\right)}{4 A^{2} B \\sqrt{- 4 A^{2} B + C^{2}{\\left(1 \\right)}}}$"
      ],
      "text/plain": [
       "                                                                                                                             \n",
       "     ⎛                   __________________                    __________________               ⎞   ⎛   __________________   \n",
       "   2 ⎜     2        2   ╱      2      2          2            ╱      2      2               2   ⎟   ⎜  ╱      2      2       \n",
       "2⋅A ⋅⎝- 4⋅A ⋅B - 3⋅A ⋅╲╱  - 4⋅A ⋅B + C (1)  + 3⋅A ⋅C(1) - 2⋅╲╱  - 4⋅A ⋅B + C (1) ⋅C(1) + 2⋅C (1)⎠ + ⎝╲╱  - 4⋅A ⋅B + C (1)  - \n",
       "─────────────────────────────────────────────────────────────────────────────────────────────────────────────────────────────\n",
       "                                                                                 __________________                          \n",
       "                                                                          2     ╱      2      2                              \n",
       "                                                                       4⋅A ⋅B⋅╲╱  - 4⋅A ⋅B + C (1)                           \n",
       "\n",
       "     2                                      \n",
       "    ⎞  ⎛          __________________       ⎞\n",
       "    ⎟  ⎜   2     ╱      2      2           ⎟\n",
       "C(1)⎠ ⋅⎝3⋅A  - ╲╱  - 4⋅A ⋅B + C (1)  + C(1)⎠\n",
       "────────────────────────────────────────────\n",
       "                                            \n",
       "                                            \n",
       "                                            "
      ]
     },
     "execution_count": 29,
     "metadata": {},
     "output_type": "execute_result"
    }
   ],
   "source": [
    "F(0)"
   ]
  },
  {
   "cell_type": "code",
   "execution_count": 30,
   "id": "71c346c4",
   "metadata": {
    "ExecuteTime": {
     "end_time": "2022-08-22T21:28:25.763684Z",
     "start_time": "2022-08-22T21:28:17.451434Z"
    }
   },
   "outputs": [
    {
     "data": {
      "text/latex": [
       "$\\displaystyle \\frac{\\left(2 B + \\sqrt{- 4 A^{2} B + C^{2}{\\left(1 \\right)}} + C{\\left(1 \\right)}\\right) \\left(4 A^{2} B D_{v} k_{c}^{2} \\cdot \\left(2 A^{2} B + 2 A^{2} \\sqrt{- 4 A^{2} B + C^{2}{\\left(1 \\right)}} - 2 A^{2} C{\\left(1 \\right)} + \\sqrt{- 4 A^{2} B + C^{2}{\\left(1 \\right)}} C{\\left(1 \\right)} - C^{2}{\\left(1 \\right)}\\right) + A^{2} \\left(D_{u} k_{c}^{2} + 1\\right) \\left(\\sqrt{- 4 A^{2} B + C^{2}{\\left(1 \\right)}} - C{\\left(1 \\right)}\\right)^{2} \\cdot \\left(4 A^{2} - \\sqrt{- 4 A^{2} B + C^{2}{\\left(1 \\right)}} + C{\\left(1 \\right)}\\right) + A^{2} \\left(\\sqrt{- 4 A^{2} B + C^{2}{\\left(1 \\right)}} - C{\\left(1 \\right)}\\right)^{2} \\left(- A^{2} D_{u} k_{c}^{2} - A^{2} + B D_{v} k_{c}^{2} - D_{u} D_{v} k_{c}^{4} - D_{v} k_{c}^{2}\\right) - B D_{v} k_{c}^{2} \\left(\\sqrt{- 4 A^{2} B + C^{2}{\\left(1 \\right)}} - C{\\left(1 \\right)}\\right)^{2} \\cdot \\left(4 A^{2} - \\sqrt{- 4 A^{2} B + C^{2}{\\left(1 \\right)}} + C{\\left(1 \\right)}\\right)\\right)}{8 A^{2} B^{2} \\sqrt{- 4 A^{2} B + C^{2}{\\left(1 \\right)}} \\left(A^{2} D_{u} k_{c}^{2} + A^{2} - B D_{v} k_{c}^{2} + D_{u} D_{v} k_{c}^{4} + D_{v} k_{c}^{2}\\right)}$"
      ],
      "text/plain": [
       "                                     ⎛                                                                                       \n",
       "⎛         __________________       ⎞ ⎜               ⎛                 __________________                  __________________\n",
       "⎜        ╱      2      2           ⎟ ⎜   2         2 ⎜   2        2   ╱      2      2          2          ╱      2      2    \n",
       "⎝2⋅B + ╲╱  - 4⋅A ⋅B + C (1)  + C(1)⎠⋅⎝4⋅A ⋅B⋅Dᵥ⋅k_c ⋅⎝2⋅A ⋅B + 2⋅A ⋅╲╱  - 4⋅A ⋅B + C (1)  - 2⋅A ⋅C(1) + ╲╱  - 4⋅A ⋅B + C (1) \n",
       "─────────────────────────────────────────────────────────────────────────────────────────────────────────────────────────────\n",
       "                                                                                                                             \n",
       "                                                                                                                             \n",
       "                                                                                                                             \n",
       "\n",
       "                                                                2                                                            \n",
       "             ⎞                    ⎛   __________________       ⎞  ⎛          __________________       ⎞      ⎛   ____________\n",
       "         2   ⎟    2 ⎛      2    ⎞ ⎜  ╱      2      2           ⎟  ⎜   2     ╱      2      2           ⎟    2 ⎜  ╱      2     \n",
       "⋅C(1) - C (1)⎠ + A ⋅⎝Dᵤ⋅k_c  + 1⎠⋅⎝╲╱  - 4⋅A ⋅B + C (1)  - C(1)⎠ ⋅⎝4⋅A  - ╲╱  - 4⋅A ⋅B + C (1)  + C(1)⎠ + A ⋅⎝╲╱  - 4⋅A ⋅B + \n",
       "─────────────────────────────────────────────────────────────────────────────────────────────────────────────────────────────\n",
       "                                               __________________                                                            \n",
       "                                       2  2   ╱      2      2     ⎛ 2       2    2           2            4         2⎞       \n",
       "                                    8⋅A ⋅B ⋅╲╱  - 4⋅A ⋅B + C (1) ⋅⎝A ⋅Dᵤ⋅k_c  + A  - B⋅Dᵥ⋅k_c  + Dᵤ⋅Dᵥ⋅k_c  + Dᵥ⋅k_c ⎠       \n",
       "\n",
       "              2                                                                                                  2           \n",
       "______       ⎞                                                                     ⎛   __________________       ⎞  ⎛         \n",
       " 2           ⎟  ⎛   2       2    2           2            4         2⎞           2 ⎜  ╱      2      2           ⎟  ⎜   2     \n",
       "C (1)  - C(1)⎠ ⋅⎝- A ⋅Dᵤ⋅k_c  - A  + B⋅Dᵥ⋅k_c  - Dᵤ⋅Dᵥ⋅k_c  - Dᵥ⋅k_c ⎠ - B⋅Dᵥ⋅k_c ⋅⎝╲╱  - 4⋅A ⋅B + C (1)  - C(1)⎠ ⋅⎝4⋅A  - ╲╱\n",
       "─────────────────────────────────────────────────────────────────────────────────────────────────────────────────────────────\n",
       "                                                                                                                             \n",
       "                                                                                                                             \n",
       "                                                                                                                             \n",
       "\n",
       "                           ⎞\n",
       " __________________       ⎞⎟\n",
       "╱      2      2           ⎟⎟\n",
       "  - 4⋅A ⋅B + C (1)  + C(1)⎠⎠\n",
       "────────────────────────────\n",
       "                            \n",
       "                            \n",
       "                            "
      ]
     },
     "execution_count": 30,
     "metadata": {},
     "output_type": "execute_result"
    }
   ],
   "source": [
    "F(1)"
   ]
  },
  {
   "cell_type": "code",
   "execution_count": 31,
   "id": "a801c90d",
   "metadata": {
    "ExecuteTime": {
     "end_time": "2022-08-22T21:28:42.868975Z",
     "start_time": "2022-08-22T21:28:34.436912Z"
    }
   },
   "outputs": [
    {
     "data": {
      "text/latex": [
       "$\\displaystyle \\frac{\\left(2 B + \\sqrt{- 4 A^{2} B + C^{2}{\\left(1 \\right)}} + C{\\left(1 \\right)}\\right) \\left(12 A^{2} B D_{v} k_{c}^{2} \\cdot \\left(2 A^{2} B + 2 A^{2} \\sqrt{- 4 A^{2} B + C^{2}{\\left(1 \\right)}} - 2 A^{2} C{\\left(1 \\right)} + \\sqrt{- 4 A^{2} B + C^{2}{\\left(1 \\right)}} C{\\left(1 \\right)} - C^{2}{\\left(1 \\right)}\\right) + A^{2} \\cdot \\left(3 D_{u} k_{c}^{2} + 1\\right) \\left(\\sqrt{- 4 A^{2} B + C^{2}{\\left(1 \\right)}} - C{\\left(1 \\right)}\\right)^{2} \\cdot \\left(4 A^{2} - \\sqrt{- 4 A^{2} B + C^{2}{\\left(1 \\right)}} + C{\\left(1 \\right)}\\right) + A^{2} \\left(\\sqrt{- 4 A^{2} B + C^{2}{\\left(1 \\right)}} - C{\\left(1 \\right)}\\right)^{2} \\left(- 3 A^{2} D_{u} k_{c}^{2} - A^{2} + 3 B D_{v} k_{c}^{2} - 9 D_{u} D_{v} k_{c}^{4} - 3 D_{v} k_{c}^{2}\\right) - 3 B D_{v} k_{c}^{2} \\left(\\sqrt{- 4 A^{2} B + C^{2}{\\left(1 \\right)}} - C{\\left(1 \\right)}\\right)^{2} \\cdot \\left(4 A^{2} - \\sqrt{- 4 A^{2} B + C^{2}{\\left(1 \\right)}} + C{\\left(1 \\right)}\\right)\\right)}{8 A^{2} B^{2} \\sqrt{- 4 A^{2} B + C^{2}{\\left(1 \\right)}} \\left(3 A^{2} D_{u} k_{c}^{2} + A^{2} - 3 B D_{v} k_{c}^{2} + 9 D_{u} D_{v} k_{c}^{4} + 3 D_{v} k_{c}^{2}\\right)}$"
      ],
      "text/plain": [
       "                                     ⎛                                                                                       \n",
       "⎛         __________________       ⎞ ⎜                ⎛                 __________________                  _________________\n",
       "⎜        ╱      2      2           ⎟ ⎜    2         2 ⎜   2        2   ╱      2      2          2          ╱      2      2   \n",
       "⎝2⋅B + ╲╱  - 4⋅A ⋅B + C (1)  + C(1)⎠⋅⎝12⋅A ⋅B⋅Dᵥ⋅k_c ⋅⎝2⋅A ⋅B + 2⋅A ⋅╲╱  - 4⋅A ⋅B + C (1)  - 2⋅A ⋅C(1) + ╲╱  - 4⋅A ⋅B + C (1)\n",
       "─────────────────────────────────────────────────────────────────────────────────────────────────────────────────────────────\n",
       "                                                                                                                             \n",
       "                                                                                                                             \n",
       "                                                                                                                             \n",
       "\n",
       "                                                                   2                                                         \n",
       "_             ⎞                      ⎛   __________________       ⎞  ⎛          __________________       ⎞      ⎛   _________\n",
       "          2   ⎟    2 ⎛        2    ⎞ ⎜  ╱      2      2           ⎟  ⎜   2     ╱      2      2           ⎟    2 ⎜  ╱      2  \n",
       " ⋅C(1) - C (1)⎠ + A ⋅⎝3⋅Dᵤ⋅k_c  + 1⎠⋅⎝╲╱  - 4⋅A ⋅B + C (1)  - C(1)⎠ ⋅⎝4⋅A  - ╲╱  - 4⋅A ⋅B + C (1)  + C(1)⎠ + A ⋅⎝╲╱  - 4⋅A ⋅B\n",
       "─────────────────────────────────────────────────────────────────────────────────────────────────────────────────────────────\n",
       "                                                 __________________                                                          \n",
       "                                         2  2   ╱      2      2     ⎛   2       2    2             2              4          \n",
       "                                      8⋅A ⋅B ⋅╲╱  - 4⋅A ⋅B + C (1) ⋅⎝3⋅A ⋅Dᵤ⋅k_c  + A  - 3⋅B⋅Dᵥ⋅k_c  + 9⋅Dᵤ⋅Dᵥ⋅k_c  + 3⋅Dᵥ⋅k_\n",
       "\n",
       "                 2                                                                                                           \n",
       "_________       ⎞                                                                               ⎛   __________________       \n",
       "    2           ⎟  ⎛     2       2    2             2              4           2⎞             2 ⎜  ╱      2      2           \n",
       " + C (1)  - C(1)⎠ ⋅⎝- 3⋅A ⋅Dᵤ⋅k_c  - A  + 3⋅B⋅Dᵥ⋅k_c  - 9⋅Dᵤ⋅Dᵥ⋅k_c  - 3⋅Dᵥ⋅k_c ⎠ - 3⋅B⋅Dᵥ⋅k_c ⋅⎝╲╱  - 4⋅A ⋅B + C (1)  - C(1)\n",
       "─────────────────────────────────────────────────────────────────────────────────────────────────────────────────────────────\n",
       "                                                                                                                             \n",
       " 2⎞                                                                                                                          \n",
       "c ⎠                                                                                                                          \n",
       "\n",
       " 2                                      ⎞\n",
       "⎞  ⎛          __________________       ⎞⎟\n",
       "⎟  ⎜   2     ╱      2      2           ⎟⎟\n",
       "⎠ ⋅⎝4⋅A  - ╲╱  - 4⋅A ⋅B + C (1)  + C(1)⎠⎠\n",
       "─────────────────────────────────────────\n",
       "                                         \n",
       "                                         \n",
       "                                         "
      ]
     },
     "execution_count": 31,
     "metadata": {},
     "output_type": "execute_result"
    }
   ],
   "source": [
    "F(3)"
   ]
  },
  {
   "cell_type": "code",
   "execution_count": 32,
   "id": "e4c974f6",
   "metadata": {
    "ExecuteTime": {
     "end_time": "2022-08-22T21:28:51.491901Z",
     "start_time": "2022-08-22T21:28:43.152330Z"
    }
   },
   "outputs": [
    {
     "data": {
      "text/latex": [
       "$\\displaystyle \\frac{\\left(2 B + \\sqrt{- 4 A^{2} B + C^{2}{\\left(1 \\right)}} + C{\\left(1 \\right)}\\right) \\left(16 A^{2} B D_{v} k_{c}^{2} \\cdot \\left(2 A^{2} B + 2 A^{2} \\sqrt{- 4 A^{2} B + C^{2}{\\left(1 \\right)}} - 2 A^{2} C{\\left(1 \\right)} + \\sqrt{- 4 A^{2} B + C^{2}{\\left(1 \\right)}} C{\\left(1 \\right)} - C^{2}{\\left(1 \\right)}\\right) + A^{2} \\cdot \\left(4 D_{u} k_{c}^{2} + 1\\right) \\left(\\sqrt{- 4 A^{2} B + C^{2}{\\left(1 \\right)}} - C{\\left(1 \\right)}\\right)^{2} \\cdot \\left(4 A^{2} - \\sqrt{- 4 A^{2} B + C^{2}{\\left(1 \\right)}} + C{\\left(1 \\right)}\\right) + A^{2} \\left(\\sqrt{- 4 A^{2} B + C^{2}{\\left(1 \\right)}} - C{\\left(1 \\right)}\\right)^{2} \\left(- 4 A^{2} D_{u} k_{c}^{2} - A^{2} + 4 B D_{v} k_{c}^{2} - 16 D_{u} D_{v} k_{c}^{4} - 4 D_{v} k_{c}^{2}\\right) - 4 B D_{v} k_{c}^{2} \\left(\\sqrt{- 4 A^{2} B + C^{2}{\\left(1 \\right)}} - C{\\left(1 \\right)}\\right)^{2} \\cdot \\left(4 A^{2} - \\sqrt{- 4 A^{2} B + C^{2}{\\left(1 \\right)}} + C{\\left(1 \\right)}\\right)\\right)}{8 A^{2} B^{2} \\sqrt{- 4 A^{2} B + C^{2}{\\left(1 \\right)}} \\left(4 A^{2} D_{u} k_{c}^{2} + A^{2} - 4 B D_{v} k_{c}^{2} + 16 D_{u} D_{v} k_{c}^{4} + 4 D_{v} k_{c}^{2}\\right)}$"
      ],
      "text/plain": [
       "                                     ⎛                                                                                       \n",
       "⎛         __________________       ⎞ ⎜                ⎛                 __________________                  _________________\n",
       "⎜        ╱      2      2           ⎟ ⎜    2         2 ⎜   2        2   ╱      2      2          2          ╱      2      2   \n",
       "⎝2⋅B + ╲╱  - 4⋅A ⋅B + C (1)  + C(1)⎠⋅⎝16⋅A ⋅B⋅Dᵥ⋅k_c ⋅⎝2⋅A ⋅B + 2⋅A ⋅╲╱  - 4⋅A ⋅B + C (1)  - 2⋅A ⋅C(1) + ╲╱  - 4⋅A ⋅B + C (1)\n",
       "─────────────────────────────────────────────────────────────────────────────────────────────────────────────────────────────\n",
       "                                                                                                                             \n",
       "                                                                                                                             \n",
       "                                                                                                                             \n",
       "\n",
       "                                                                   2                                                         \n",
       "_             ⎞                      ⎛   __________________       ⎞  ⎛          __________________       ⎞      ⎛   _________\n",
       "          2   ⎟    2 ⎛        2    ⎞ ⎜  ╱      2      2           ⎟  ⎜   2     ╱      2      2           ⎟    2 ⎜  ╱      2  \n",
       " ⋅C(1) - C (1)⎠ + A ⋅⎝4⋅Dᵤ⋅k_c  + 1⎠⋅⎝╲╱  - 4⋅A ⋅B + C (1)  - C(1)⎠ ⋅⎝4⋅A  - ╲╱  - 4⋅A ⋅B + C (1)  + C(1)⎠ + A ⋅⎝╲╱  - 4⋅A ⋅B\n",
       "─────────────────────────────────────────────────────────────────────────────────────────────────────────────────────────────\n",
       "                                                 __________________                                                          \n",
       "                                         2  2   ╱      2      2     ⎛   2       2    2             2               4         \n",
       "                                      8⋅A ⋅B ⋅╲╱  - 4⋅A ⋅B + C (1) ⋅⎝4⋅A ⋅Dᵤ⋅k_c  + A  - 4⋅B⋅Dᵥ⋅k_c  + 16⋅Dᵤ⋅Dᵥ⋅k_c  + 4⋅Dᵥ⋅k\n",
       "\n",
       "                 2                                                                                                           \n",
       "_________       ⎞                                                                                ⎛   __________________      \n",
       "    2           ⎟  ⎛     2       2    2             2               4           2⎞             2 ⎜  ╱      2      2          \n",
       " + C (1)  - C(1)⎠ ⋅⎝- 4⋅A ⋅Dᵤ⋅k_c  - A  + 4⋅B⋅Dᵥ⋅k_c  - 16⋅Dᵤ⋅Dᵥ⋅k_c  - 4⋅Dᵥ⋅k_c ⎠ - 4⋅B⋅Dᵥ⋅k_c ⋅⎝╲╱  - 4⋅A ⋅B + C (1)  - C(1\n",
       "─────────────────────────────────────────────────────────────────────────────────────────────────────────────────────────────\n",
       "                                                                                                                             \n",
       "  2⎞                                                                                                                         \n",
       "_c ⎠                                                                                                                         \n",
       "\n",
       "  2                                      ⎞\n",
       " ⎞  ⎛          __________________       ⎞⎟\n",
       " ⎟  ⎜   2     ╱      2      2           ⎟⎟\n",
       ")⎠ ⋅⎝4⋅A  - ╲╱  - 4⋅A ⋅B + C (1)  + C(1)⎠⎠\n",
       "──────────────────────────────────────────\n",
       "                                          \n",
       "                                          \n",
       "                                          "
      ]
     },
     "execution_count": 32,
     "metadata": {},
     "output_type": "execute_result"
    }
   ],
   "source": [
    "F(4)"
   ]
  },
  {
   "cell_type": "markdown",
   "id": "a7936210",
   "metadata": {},
   "source": [
    "<h3><center>$g = -2F(0) - F(4)$</center></h3>"
   ]
  },
  {
   "cell_type": "code",
   "execution_count": 33,
   "id": "0934742a",
   "metadata": {
    "ExecuteTime": {
     "end_time": "2022-08-22T21:29:39.773312Z",
     "start_time": "2022-08-22T21:29:39.746520Z"
    }
   },
   "outputs": [
    {
     "data": {
      "text/latex": [
       "$\\left[\\begin{matrix}\\frac{- A^{2} - D_{v} k_{c}^{2} l}{A^{2} D_{u} k_{c}^{2} l + A^{2} - B D_{v} k_{c}^{2} l + D_{u} D_{v} k_{c}^{4} l^{2} + D_{v} k_{c}^{2} l} & - \\frac{A^{2}}{A^{2} D_{u} k_{c}^{2} l + A^{2} - B D_{v} k_{c}^{2} l + D_{u} D_{v} k_{c}^{4} l^{2} + D_{v} k_{c}^{2} l}\\\\\\frac{B}{A^{2} D_{u} k_{c}^{2} l + A^{2} - B D_{v} k_{c}^{2} l + D_{u} D_{v} k_{c}^{4} l^{2} + D_{v} k_{c}^{2} l} & \\frac{B - D_{u} k_{c}^{2} l - 1}{A^{2} D_{u} k_{c}^{2} l + A^{2} - B D_{v} k_{c}^{2} l + D_{u} D_{v} k_{c}^{4} l^{2} + D_{v} k_{c}^{2} l}\\end{matrix}\\right]$"
      ],
      "text/plain": [
       "<IPython.core.display.Latex object>"
      ]
     },
     "metadata": {},
     "output_type": "display_data"
    },
    {
     "data": {
      "text/latex": [
       "$\\left[\\begin{matrix}-1 & -1\\\\\\frac{B}{A^{2}} & \\frac{B - 1}{A^{2}}\\end{matrix}\\right]$"
      ],
      "text/plain": [
       "<IPython.core.display.Latex object>"
      ]
     },
     "metadata": {},
     "output_type": "display_data"
    }
   ],
   "source": [
    "lprint(\"{0}\", J_l_inv)\n",
    "lprint(\"{0}\", J_l_inv.subs(l, sqrt(0)))"
   ]
  },
  {
   "cell_type": "code",
   "execution_count": 34,
   "id": "4f63ef0f",
   "metadata": {
    "ExecuteTime": {
     "end_time": "2022-08-22T21:30:18.452815Z",
     "start_time": "2022-08-22T21:30:08.967138Z"
    }
   },
   "outputs": [
    {
     "data": {
      "text/latex": [
       "g = $- \\frac{2 A^{2} \\left(- 4 A^{2} B - 3 A^{2} \\sqrt{- 4 A^{2} B + C^{2}{\\left(1 \\right)}} + 3 A^{2} C{\\left(1 \\right)} - 2 \\sqrt{- 4 A^{2} B + C^{2}{\\left(1 \\right)}} C{\\left(1 \\right)} + 2 C^{2}{\\left(1 \\right)}\\right) + \\left(\\sqrt{- 4 A^{2} B + C^{2}{\\left(1 \\right)}} - C{\\left(1 \\right)}\\right)^{2} \\cdot \\left(3 A^{2} - \\sqrt{- 4 A^{2} B + C^{2}{\\left(1 \\right)}} + C{\\left(1 \\right)}\\right)}{2 A^{2} B \\sqrt{- 4 A^{2} B + C^{2}{\\left(1 \\right)}}} - \\frac{\\left(2 B + \\sqrt{- 4 A^{2} B + C^{2}{\\left(1 \\right)}} + C{\\left(1 \\right)}\\right) \\left(16 A^{2} B D_{v} k_{c}^{2} \\cdot \\left(2 A^{2} B + 2 A^{2} \\sqrt{- 4 A^{2} B + C^{2}{\\left(1 \\right)}} - 2 A^{2} C{\\left(1 \\right)} + \\sqrt{- 4 A^{2} B + C^{2}{\\left(1 \\right)}} C{\\left(1 \\right)} - C^{2}{\\left(1 \\right)}\\right) + A^{2} \\cdot \\left(4 D_{u} k_{c}^{2} + 1\\right) \\left(\\sqrt{- 4 A^{2} B + C^{2}{\\left(1 \\right)}} - C{\\left(1 \\right)}\\right)^{2} \\cdot \\left(4 A^{2} - \\sqrt{- 4 A^{2} B + C^{2}{\\left(1 \\right)}} + C{\\left(1 \\right)}\\right) + A^{2} \\left(\\sqrt{- 4 A^{2} B + C^{2}{\\left(1 \\right)}} - C{\\left(1 \\right)}\\right)^{2} \\left(- 4 A^{2} D_{u} k_{c}^{2} - A^{2} + 4 B D_{v} k_{c}^{2} - 16 D_{u} D_{v} k_{c}^{4} - 4 D_{v} k_{c}^{2}\\right) - 4 B D_{v} k_{c}^{2} \\left(\\sqrt{- 4 A^{2} B + C^{2}{\\left(1 \\right)}} - C{\\left(1 \\right)}\\right)^{2} \\cdot \\left(4 A^{2} - \\sqrt{- 4 A^{2} B + C^{2}{\\left(1 \\right)}} + C{\\left(1 \\right)}\\right)\\right)}{8 A^{2} B^{2} \\sqrt{- 4 A^{2} B + C^{2}{\\left(1 \\right)}} \\left(4 A^{2} D_{u} k_{c}^{2} + A^{2} - 4 B D_{v} k_{c}^{2} + 16 D_{u} D_{v} k_{c}^{4} + 4 D_{v} k_{c}^{2}\\right)}$"
      ],
      "text/plain": [
       "<IPython.core.display.Latex object>"
      ]
     },
     "metadata": {},
     "output_type": "display_data"
    }
   ],
   "source": [
    "g = -2 * F(0) - F(4)\n",
    "lprint(\"g = {0}\", g)"
   ]
  },
  {
   "cell_type": "markdown",
   "id": "9f53cd28",
   "metadata": {},
   "source": [
    "<h3><center>$\\kappa g = -2F(0) - 2F(1) - 2F(3)$</center></h3>"
   ]
  },
  {
   "cell_type": "code",
   "execution_count": 35,
   "id": "698c1e38",
   "metadata": {
    "ExecuteTime": {
     "end_time": "2022-08-22T21:35:29.080652Z",
     "start_time": "2022-08-22T21:30:28.980860Z"
    }
   },
   "outputs": [
    {
     "data": {
      "text/latex": [
       "$\\kappa$ = $\\frac{2 \\cdot \\left(2 B \\left(A^{2} \\left(- 8 A^{2} B - 6 A^{2} \\sqrt{- 4 A^{2} B + C^{2}{\\left(1 \\right)}} + 6 A^{2} C{\\left(1 \\right)} - 4 \\sqrt{- 4 A^{2} B + C^{2}{\\left(1 \\right)}} C{\\left(1 \\right)} + 4 C^{2}{\\left(1 \\right)}\\right) + \\left(\\sqrt{- 4 A^{2} B + C^{2}{\\left(1 \\right)}} - C{\\left(1 \\right)}\\right)^{2} \\cdot \\left(3 A^{2} - \\sqrt{- 4 A^{2} B + C^{2}{\\left(1 \\right)}} + C{\\left(1 \\right)}\\right)\\right) \\left(A^{2} D_{u} k_{c}^{2} + A^{2} - B D_{v} k_{c}^{2} + D_{u} D_{v} k_{c}^{4} + D_{v} k_{c}^{2}\\right) \\left(3 A^{2} D_{u} k_{c}^{2} + A^{2} - 3 B D_{v} k_{c}^{2} + 9 D_{u} D_{v} k_{c}^{4} + 3 D_{v} k_{c}^{2}\\right) + \\left(2 B + \\sqrt{- 4 A^{2} B + C^{2}{\\left(1 \\right)}} + C{\\left(1 \\right)}\\right) \\left(4 A^{2} B D_{v} k_{c}^{2} \\cdot \\left(2 A^{2} B + 2 A^{2} \\sqrt{- 4 A^{2} B + C^{2}{\\left(1 \\right)}} - 2 A^{2} C{\\left(1 \\right)} + \\sqrt{- 4 A^{2} B + C^{2}{\\left(1 \\right)}} C{\\left(1 \\right)} - C^{2}{\\left(1 \\right)}\\right) + A^{2} \\left(D_{u} k_{c}^{2} + 1\\right) \\left(\\sqrt{- 4 A^{2} B + C^{2}{\\left(1 \\right)}} - C{\\left(1 \\right)}\\right)^{2} \\cdot \\left(4 A^{2} - \\sqrt{- 4 A^{2} B + C^{2}{\\left(1 \\right)}} + C{\\left(1 \\right)}\\right) + A^{2} \\left(\\sqrt{- 4 A^{2} B + C^{2}{\\left(1 \\right)}} - C{\\left(1 \\right)}\\right)^{2} \\left(- A^{2} D_{u} k_{c}^{2} - A^{2} + B D_{v} k_{c}^{2} - D_{u} D_{v} k_{c}^{4} - D_{v} k_{c}^{2}\\right) - B D_{v} k_{c}^{2} \\left(\\sqrt{- 4 A^{2} B + C^{2}{\\left(1 \\right)}} - C{\\left(1 \\right)}\\right)^{2} \\cdot \\left(4 A^{2} - \\sqrt{- 4 A^{2} B + C^{2}{\\left(1 \\right)}} + C{\\left(1 \\right)}\\right)\\right) \\left(3 A^{2} D_{u} k_{c}^{2} + A^{2} - 3 B D_{v} k_{c}^{2} + 9 D_{u} D_{v} k_{c}^{4} + 3 D_{v} k_{c}^{2}\\right) + \\left(2 B + \\sqrt{- 4 A^{2} B + C^{2}{\\left(1 \\right)}} + C{\\left(1 \\right)}\\right) \\left(12 A^{2} B D_{v} k_{c}^{2} \\cdot \\left(2 A^{2} B + 2 A^{2} \\sqrt{- 4 A^{2} B + C^{2}{\\left(1 \\right)}} - 2 A^{2} C{\\left(1 \\right)} + \\sqrt{- 4 A^{2} B + C^{2}{\\left(1 \\right)}} C{\\left(1 \\right)} - C^{2}{\\left(1 \\right)}\\right) + A^{2} \\cdot \\left(3 D_{u} k_{c}^{2} + 1\\right) \\left(\\sqrt{- 4 A^{2} B + C^{2}{\\left(1 \\right)}} - C{\\left(1 \\right)}\\right)^{2} \\cdot \\left(4 A^{2} - \\sqrt{- 4 A^{2} B + C^{2}{\\left(1 \\right)}} + C{\\left(1 \\right)}\\right) + A^{2} \\left(\\sqrt{- 4 A^{2} B + C^{2}{\\left(1 \\right)}} - C{\\left(1 \\right)}\\right)^{2} \\left(- 3 A^{2} D_{u} k_{c}^{2} - A^{2} + 3 B D_{v} k_{c}^{2} - 9 D_{u} D_{v} k_{c}^{4} - 3 D_{v} k_{c}^{2}\\right) - 3 B D_{v} k_{c}^{2} \\left(\\sqrt{- 4 A^{2} B + C^{2}{\\left(1 \\right)}} - C{\\left(1 \\right)}\\right)^{2} \\cdot \\left(4 A^{2} - \\sqrt{- 4 A^{2} B + C^{2}{\\left(1 \\right)}} + C{\\left(1 \\right)}\\right)\\right) \\left(A^{2} D_{u} k_{c}^{2} + A^{2} - B D_{v} k_{c}^{2} + D_{u} D_{v} k_{c}^{4} + D_{v} k_{c}^{2}\\right)\\right) \\left(4 A^{2} D_{u} k_{c}^{2} + A^{2} - 4 B D_{v} k_{c}^{2} + 16 D_{u} D_{v} k_{c}^{4} + 4 D_{v} k_{c}^{2}\\right)}{\\left(4 B \\left(- 2 A^{2} \\cdot \\left(4 A^{2} B + 3 A^{2} \\sqrt{- 4 A^{2} B + C^{2}{\\left(1 \\right)}} - 3 A^{2} C{\\left(1 \\right)} + 2 \\sqrt{- 4 A^{2} B + C^{2}{\\left(1 \\right)}} C{\\left(1 \\right)} - 2 C^{2}{\\left(1 \\right)}\\right) + \\left(\\sqrt{- 4 A^{2} B + C^{2}{\\left(1 \\right)}} - C{\\left(1 \\right)}\\right)^{2} \\cdot \\left(3 A^{2} - \\sqrt{- 4 A^{2} B + C^{2}{\\left(1 \\right)}} + C{\\left(1 \\right)}\\right)\\right) \\left(4 A^{2} D_{u} k_{c}^{2} + A^{2} - 4 B D_{v} k_{c}^{2} + 16 D_{u} D_{v} k_{c}^{4} + 4 D_{v} k_{c}^{2}\\right) + \\left(2 B + \\sqrt{- 4 A^{2} B + C^{2}{\\left(1 \\right)}} + C{\\left(1 \\right)}\\right) \\left(16 A^{2} B D_{v} k_{c}^{2} \\cdot \\left(2 A^{2} B + 2 A^{2} \\sqrt{- 4 A^{2} B + C^{2}{\\left(1 \\right)}} - 2 A^{2} C{\\left(1 \\right)} + \\sqrt{- 4 A^{2} B + C^{2}{\\left(1 \\right)}} C{\\left(1 \\right)} - C^{2}{\\left(1 \\right)}\\right) + A^{2} \\cdot \\left(4 D_{u} k_{c}^{2} + 1\\right) \\left(\\sqrt{- 4 A^{2} B + C^{2}{\\left(1 \\right)}} - C{\\left(1 \\right)}\\right)^{2} \\cdot \\left(4 A^{2} - \\sqrt{- 4 A^{2} B + C^{2}{\\left(1 \\right)}} + C{\\left(1 \\right)}\\right) - A^{2} \\left(\\sqrt{- 4 A^{2} B + C^{2}{\\left(1 \\right)}} - C{\\left(1 \\right)}\\right)^{2} \\cdot \\left(4 A^{2} D_{u} k_{c}^{2} + A^{2} - 4 B D_{v} k_{c}^{2} + 16 D_{u} D_{v} k_{c}^{4} + 4 D_{v} k_{c}^{2}\\right) - 4 B D_{v} k_{c}^{2} \\left(\\sqrt{- 4 A^{2} B + C^{2}{\\left(1 \\right)}} - C{\\left(1 \\right)}\\right)^{2} \\cdot \\left(4 A^{2} - \\sqrt{- 4 A^{2} B + C^{2}{\\left(1 \\right)}} + C{\\left(1 \\right)}\\right)\\right)\\right) \\left(A^{2} D_{u} k_{c}^{2} + A^{2} - B D_{v} k_{c}^{2} + D_{u} D_{v} k_{c}^{4} + D_{v} k_{c}^{2}\\right) \\left(3 A^{2} D_{u} k_{c}^{2} + A^{2} - 3 B D_{v} k_{c}^{2} + 9 D_{u} D_{v} k_{c}^{4} + 3 D_{v} k_{c}^{2}\\right)}$"
      ],
      "text/plain": [
       "<IPython.core.display.Latex object>"
      ]
     },
     "metadata": {},
     "output_type": "display_data"
    }
   ],
   "source": [
    "kappa = simplify((-2 * F(0) - 2 *F(1) - 2 * F(3))/g )\n",
    "lprint(r\"$\\kappa$ = {0}\", kappa)"
   ]
  },
  {
   "cell_type": "code",
   "execution_count": 36,
   "id": "5ce36db9",
   "metadata": {
    "ExecuteTime": {
     "end_time": "2022-08-22T22:05:44.502282Z",
     "start_time": "2022-08-22T21:36:32.139210Z"
    }
   },
   "outputs": [],
   "source": [
    "kappa2 = simplify(kappa.subs(C(1), k_c**2 * (D_u - D_v) - A**2 - B + 1))"
   ]
  },
  {
   "cell_type": "code",
   "execution_count": 37,
   "id": "40a73321",
   "metadata": {
    "ExecuteTime": {
     "end_time": "2022-08-22T22:05:45.769013Z",
     "start_time": "2022-08-22T22:05:45.536010Z"
    }
   },
   "outputs": [
    {
     "data": {
      "text/latex": [
       "$\\kappa = $ $- \\frac{2 \\left(- 2 B \\left(2 A^{2} \\cdot \\left(4 A^{2} B + 3 A^{2} \\sqrt{- 4 A^{2} B + \\left(- A^{2} - B + k_{c}^{2} \\left(D_{u} - D_{v}\\right) + 1\\right)^{2}} + 3 A^{2} \\left(A^{2} + B - k_{c}^{2} \\left(D_{u} - D_{v}\\right) - 1\\right) - 2 \\sqrt{- 4 A^{2} B + \\left(- A^{2} - B + k_{c}^{2} \\left(D_{u} - D_{v}\\right) + 1\\right)^{2}} \\left(A^{2} + B - k_{c}^{2} \\left(D_{u} - D_{v}\\right) - 1\\right) - 2 \\left(A^{2} + B - k_{c}^{2} \\left(D_{u} - D_{v}\\right) - 1\\right)^{2}\\right) - \\left(A^{2} + B - k_{c}^{2} \\left(D_{u} - D_{v}\\right) + \\sqrt{- 4 A^{2} B + \\left(- A^{2} - B + k_{c}^{2} \\left(D_{u} - D_{v}\\right) + 1\\right)^{2}} - 1\\right)^{2} \\cdot \\left(2 A^{2} - B + k_{c}^{2} \\left(D_{u} - D_{v}\\right) - \\sqrt{- 4 A^{2} B + \\left(- A^{2} - B + k_{c}^{2} \\left(D_{u} - D_{v}\\right) + 1\\right)^{2}} + 1\\right)\\right) \\left(A^{2} D_{u} k_{c}^{2} + A^{2} - B D_{v} k_{c}^{2} + D_{u} D_{v} k_{c}^{4} + D_{v} k_{c}^{2}\\right) \\left(3 A^{2} D_{u} k_{c}^{2} + A^{2} - 3 B D_{v} k_{c}^{2} + 9 D_{u} D_{v} k_{c}^{4} + 3 D_{v} k_{c}^{2}\\right) + \\left(4 A^{2} B D_{v} k_{c}^{2} \\cdot \\left(2 A^{2} B + 2 A^{2} \\sqrt{- 4 A^{2} B + \\left(- A^{2} - B + k_{c}^{2} \\left(D_{u} - D_{v}\\right) + 1\\right)^{2}} + 2 A^{2} \\left(A^{2} + B - k_{c}^{2} \\left(D_{u} - D_{v}\\right) - 1\\right) - \\sqrt{- 4 A^{2} B + \\left(- A^{2} - B + k_{c}^{2} \\left(D_{u} - D_{v}\\right) + 1\\right)^{2}} \\left(A^{2} + B - k_{c}^{2} \\left(D_{u} - D_{v}\\right) - 1\\right) - \\left(A^{2} + B - k_{c}^{2} \\left(D_{u} - D_{v}\\right) - 1\\right)^{2}\\right) + A^{2} \\left(D_{u} k_{c}^{2} + 1\\right) \\left(A^{2} + B - k_{c}^{2} \\left(D_{u} - D_{v}\\right) + \\sqrt{- 4 A^{2} B + \\left(- A^{2} - B + k_{c}^{2} \\left(D_{u} - D_{v}\\right) + 1\\right)^{2}} - 1\\right)^{2} \\cdot \\left(3 A^{2} - B + k_{c}^{2} \\left(D_{u} - D_{v}\\right) - \\sqrt{- 4 A^{2} B + \\left(- A^{2} - B + k_{c}^{2} \\left(D_{u} - D_{v}\\right) + 1\\right)^{2}} + 1\\right) - A^{2} \\left(A^{2} + B - k_{c}^{2} \\left(D_{u} - D_{v}\\right) + \\sqrt{- 4 A^{2} B + \\left(- A^{2} - B + k_{c}^{2} \\left(D_{u} - D_{v}\\right) + 1\\right)^{2}} - 1\\right)^{2} \\left(A^{2} D_{u} k_{c}^{2} + A^{2} - B D_{v} k_{c}^{2} + D_{u} D_{v} k_{c}^{4} + D_{v} k_{c}^{2}\\right) - B D_{v} k_{c}^{2} \\left(A^{2} + B - k_{c}^{2} \\left(D_{u} - D_{v}\\right) + \\sqrt{- 4 A^{2} B + \\left(- A^{2} - B + k_{c}^{2} \\left(D_{u} - D_{v}\\right) + 1\\right)^{2}} - 1\\right)^{2} \\cdot \\left(3 A^{2} - B + k_{c}^{2} \\left(D_{u} - D_{v}\\right) - \\sqrt{- 4 A^{2} B + \\left(- A^{2} - B + k_{c}^{2} \\left(D_{u} - D_{v}\\right) + 1\\right)^{2}} + 1\\right)\\right) \\left(- A^{2} + B + k_{c}^{2} \\left(D_{u} - D_{v}\\right) + \\sqrt{- 4 A^{2} B + \\left(- A^{2} - B + k_{c}^{2} \\left(D_{u} - D_{v}\\right) + 1\\right)^{2}} + 1\\right) \\left(3 A^{2} D_{u} k_{c}^{2} + A^{2} - 3 B D_{v} k_{c}^{2} + 9 D_{u} D_{v} k_{c}^{4} + 3 D_{v} k_{c}^{2}\\right) + \\left(12 A^{2} B D_{v} k_{c}^{2} \\cdot \\left(2 A^{2} B + 2 A^{2} \\sqrt{- 4 A^{2} B + \\left(- A^{2} - B + k_{c}^{2} \\left(D_{u} - D_{v}\\right) + 1\\right)^{2}} + 2 A^{2} \\left(A^{2} + B - k_{c}^{2} \\left(D_{u} - D_{v}\\right) - 1\\right) - \\sqrt{- 4 A^{2} B + \\left(- A^{2} - B + k_{c}^{2} \\left(D_{u} - D_{v}\\right) + 1\\right)^{2}} \\left(A^{2} + B - k_{c}^{2} \\left(D_{u} - D_{v}\\right) - 1\\right) - \\left(A^{2} + B - k_{c}^{2} \\left(D_{u} - D_{v}\\right) - 1\\right)^{2}\\right) + A^{2} \\cdot \\left(3 D_{u} k_{c}^{2} + 1\\right) \\left(A^{2} + B - k_{c}^{2} \\left(D_{u} - D_{v}\\right) + \\sqrt{- 4 A^{2} B + \\left(- A^{2} - B + k_{c}^{2} \\left(D_{u} - D_{v}\\right) + 1\\right)^{2}} - 1\\right)^{2} \\cdot \\left(3 A^{2} - B + k_{c}^{2} \\left(D_{u} - D_{v}\\right) - \\sqrt{- 4 A^{2} B + \\left(- A^{2} - B + k_{c}^{2} \\left(D_{u} - D_{v}\\right) + 1\\right)^{2}} + 1\\right) - A^{2} \\left(A^{2} + B - k_{c}^{2} \\left(D_{u} - D_{v}\\right) + \\sqrt{- 4 A^{2} B + \\left(- A^{2} - B + k_{c}^{2} \\left(D_{u} - D_{v}\\right) + 1\\right)^{2}} - 1\\right)^{2} \\cdot \\left(3 A^{2} D_{u} k_{c}^{2} + A^{2} - 3 B D_{v} k_{c}^{2} + 9 D_{u} D_{v} k_{c}^{4} + 3 D_{v} k_{c}^{2}\\right) - 3 B D_{v} k_{c}^{2} \\left(A^{2} + B - k_{c}^{2} \\left(D_{u} - D_{v}\\right) + \\sqrt{- 4 A^{2} B + \\left(- A^{2} - B + k_{c}^{2} \\left(D_{u} - D_{v}\\right) + 1\\right)^{2}} - 1\\right)^{2} \\cdot \\left(3 A^{2} - B + k_{c}^{2} \\left(D_{u} - D_{v}\\right) - \\sqrt{- 4 A^{2} B + \\left(- A^{2} - B + k_{c}^{2} \\left(D_{u} - D_{v}\\right) + 1\\right)^{2}} + 1\\right)\\right) \\left(- A^{2} + B + k_{c}^{2} \\left(D_{u} - D_{v}\\right) + \\sqrt{- 4 A^{2} B + \\left(- A^{2} - B + k_{c}^{2} \\left(D_{u} - D_{v}\\right) + 1\\right)^{2}} + 1\\right) \\left(A^{2} D_{u} k_{c}^{2} + A^{2} - B D_{v} k_{c}^{2} + D_{u} D_{v} k_{c}^{4} + D_{v} k_{c}^{2}\\right)\\right) \\left(4 A^{2} D_{u} k_{c}^{2} + A^{2} - 4 B D_{v} k_{c}^{2} + 16 D_{u} D_{v} k_{c}^{4} + 4 D_{v} k_{c}^{2}\\right)}{\\left(4 B \\left(2 A^{2} \\cdot \\left(4 A^{2} B + 3 A^{2} \\sqrt{- 4 A^{2} B + \\left(- A^{2} - B + k_{c}^{2} \\left(D_{u} - D_{v}\\right) + 1\\right)^{2}} + 3 A^{2} \\left(A^{2} + B - k_{c}^{2} \\left(D_{u} - D_{v}\\right) - 1\\right) - 2 \\sqrt{- 4 A^{2} B + \\left(- A^{2} - B + k_{c}^{2} \\left(D_{u} - D_{v}\\right) + 1\\right)^{2}} \\left(A^{2} + B - k_{c}^{2} \\left(D_{u} - D_{v}\\right) - 1\\right) - 2 \\left(A^{2} + B - k_{c}^{2} \\left(D_{u} - D_{v}\\right) - 1\\right)^{2}\\right) - \\left(A^{2} + B - k_{c}^{2} \\left(D_{u} - D_{v}\\right) + \\sqrt{- 4 A^{2} B + \\left(- A^{2} - B + k_{c}^{2} \\left(D_{u} - D_{v}\\right) + 1\\right)^{2}} - 1\\right)^{2} \\cdot \\left(2 A^{2} - B + k_{c}^{2} \\left(D_{u} - D_{v}\\right) - \\sqrt{- 4 A^{2} B + \\left(- A^{2} - B + k_{c}^{2} \\left(D_{u} - D_{v}\\right) + 1\\right)^{2}} + 1\\right)\\right) \\left(4 A^{2} D_{u} k_{c}^{2} + A^{2} - 4 B D_{v} k_{c}^{2} + 16 D_{u} D_{v} k_{c}^{4} + 4 D_{v} k_{c}^{2}\\right) - \\left(16 A^{2} B D_{v} k_{c}^{2} \\cdot \\left(2 A^{2} B + 2 A^{2} \\sqrt{- 4 A^{2} B + \\left(- A^{2} - B + k_{c}^{2} \\left(D_{u} - D_{v}\\right) + 1\\right)^{2}} + 2 A^{2} \\left(A^{2} + B - k_{c}^{2} \\left(D_{u} - D_{v}\\right) - 1\\right) - \\sqrt{- 4 A^{2} B + \\left(- A^{2} - B + k_{c}^{2} \\left(D_{u} - D_{v}\\right) + 1\\right)^{2}} \\left(A^{2} + B - k_{c}^{2} \\left(D_{u} - D_{v}\\right) - 1\\right) - \\left(A^{2} + B - k_{c}^{2} \\left(D_{u} - D_{v}\\right) - 1\\right)^{2}\\right) + A^{2} \\cdot \\left(4 D_{u} k_{c}^{2} + 1\\right) \\left(A^{2} + B - k_{c}^{2} \\left(D_{u} - D_{v}\\right) + \\sqrt{- 4 A^{2} B + \\left(- A^{2} - B + k_{c}^{2} \\left(D_{u} - D_{v}\\right) + 1\\right)^{2}} - 1\\right)^{2} \\cdot \\left(3 A^{2} - B + k_{c}^{2} \\left(D_{u} - D_{v}\\right) - \\sqrt{- 4 A^{2} B + \\left(- A^{2} - B + k_{c}^{2} \\left(D_{u} - D_{v}\\right) + 1\\right)^{2}} + 1\\right) - A^{2} \\left(A^{2} + B - k_{c}^{2} \\left(D_{u} - D_{v}\\right) + \\sqrt{- 4 A^{2} B + \\left(- A^{2} - B + k_{c}^{2} \\left(D_{u} - D_{v}\\right) + 1\\right)^{2}} - 1\\right)^{2} \\cdot \\left(4 A^{2} D_{u} k_{c}^{2} + A^{2} - 4 B D_{v} k_{c}^{2} + 16 D_{u} D_{v} k_{c}^{4} + 4 D_{v} k_{c}^{2}\\right) - 4 B D_{v} k_{c}^{2} \\left(A^{2} + B - k_{c}^{2} \\left(D_{u} - D_{v}\\right) + \\sqrt{- 4 A^{2} B + \\left(- A^{2} - B + k_{c}^{2} \\left(D_{u} - D_{v}\\right) + 1\\right)^{2}} - 1\\right)^{2} \\cdot \\left(3 A^{2} - B + k_{c}^{2} \\left(D_{u} - D_{v}\\right) - \\sqrt{- 4 A^{2} B + \\left(- A^{2} - B + k_{c}^{2} \\left(D_{u} - D_{v}\\right) + 1\\right)^{2}} + 1\\right)\\right) \\left(- A^{2} + B + k_{c}^{2} \\left(D_{u} - D_{v}\\right) + \\sqrt{- 4 A^{2} B + \\left(- A^{2} - B + k_{c}^{2} \\left(D_{u} - D_{v}\\right) + 1\\right)^{2}} + 1\\right)\\right) \\left(A^{2} D_{u} k_{c}^{2} + A^{2} - B D_{v} k_{c}^{2} + D_{u} D_{v} k_{c}^{4} + D_{v} k_{c}^{2}\\right) \\left(3 A^{2} D_{u} k_{c}^{2} + A^{2} - 3 B D_{v} k_{c}^{2} + 9 D_{u} D_{v} k_{c}^{4} + 3 D_{v} k_{c}^{2}\\right)}$"
      ],
      "text/plain": [
       "<IPython.core.display.Latex object>"
      ]
     },
     "metadata": {},
     "output_type": "display_data"
    }
   ],
   "source": [
    "lprint(\"$\\kappa = $ {0}\", kappa2)"
   ]
  },
  {
   "cell_type": "code",
   "execution_count": null,
   "id": "ce150ece",
   "metadata": {},
   "outputs": [],
   "source": []
  },
  {
   "cell_type": "markdown",
   "id": "1be97b21",
   "metadata": {},
   "source": [
    "<h3><center>$\\lambda^{A}_c = \\left. \\frac{d \\lambda}{d A} \\right|_{A = A_c} (A - A_c)$</center></h3>\n",
    "<h3><center>$\\lambda^{B}_c = \\left. \\frac{d \\lambda}{d B} \\right|_{B = B_c} (B - B_c)$</center></h3>"
   ]
  },
  {
   "cell_type": "code",
   "execution_count": 41,
   "id": "3ec60f7e",
   "metadata": {
    "ExecuteTime": {
     "end_time": "2022-08-22T22:19:58.603462Z",
     "start_time": "2022-08-22T22:19:58.514850Z"
    }
   },
   "outputs": [
    {
     "data": {
      "text/latex": [
       "$\\lambda^{A}_c = $ $\\left(A - A_{c}\\right) \\left(- A_{c} + \\frac{2 A_{c}^{3} - 2 A_{c} B - 2 A_{c} D_{u} k^{2} + 2 A_{c} D_{v} k^{2} - 2 A_{c}}{2 \\sqrt{A_{c}^{4} - 2 A_{c}^{2} B - 2 A_{c}^{2} D_{u} k^{2} + 2 A_{c}^{2} D_{v} k^{2} - 2 A_{c}^{2} + B^{2} - 2 B D_{u} k^{2} + 2 B D_{v} k^{2} - 2 B + D_{u}^{2} k^{4} - 2 D_{u} D_{v} k^{4} + 2 D_{u} k^{2} + D_{v}^{2} k^{4} - 2 D_{v} k^{2} + 1}}\\right)$"
      ],
      "text/plain": [
       "<IPython.core.display.Latex object>"
      ]
     },
     "metadata": {},
     "output_type": "display_data"
    },
    {
     "data": {
      "text/latex": [
       "$\\lambda^{B}_c = $ $\\left(B - B_{c}\\right) \\left(\\frac{- A^{2} + B_{c} - D_{u} k^{2} + D_{v} k^{2} - 1}{2 \\sqrt{A^{4} - 2 A^{2} B_{c} - 2 A^{2} D_{u} k^{2} + 2 A^{2} D_{v} k^{2} - 2 A^{2} + B_{c}^{2} - 2 B_{c} D_{u} k^{2} + 2 B_{c} D_{v} k^{2} - 2 B_{c} + D_{u}^{2} k^{4} - 2 D_{u} D_{v} k^{4} + 2 D_{u} k^{2} + D_{v}^{2} k^{4} - 2 D_{v} k^{2} + 1}} + \\frac{1}{2}\\right)$"
      ],
      "text/plain": [
       "<IPython.core.display.Latex object>"
      ]
     },
     "metadata": {},
     "output_type": "display_data"
    }
   ],
   "source": [
    "A_c, B_c = symbols(\"A_c, B_c\")\n",
    "λ_c_A = diff(λ_2, A).subs(A, A_c) * (A -A_c)\n",
    "lprint(\"$\\lambda^{A}_c = $ {0}\", λ_c_A)\n",
    "λ_c_B = diff(λ_2, B).subs(B, B_c) * (B -B_c)\n",
    "lprint(\"$\\lambda^{B}_c = $ {0}\", λ_c_B)"
   ]
  },
  {
   "cell_type": "code",
   "execution_count": 60,
   "id": "83827df3",
   "metadata": {
    "ExecuteTime": {
     "end_time": "2022-08-22T22:58:24.211326Z",
     "start_time": "2022-08-22T22:58:24.154369Z"
    }
   },
   "outputs": [
    {
     "data": {
      "text/latex": [
       "$- g_{c} w^{c}_{1} \\left(\\kappa_{c} \\left(\\left(w^{c}_{2}\\right)^{2} + \\left(w^{c}_{3}\\right)^{2}\\right) + \\left(w^{c}_{1}\\right)^{2}\\right) + \\gamma_{c} w^{c}_{2} w^{c}_{3} = 0$"
      ],
      "text/plain": [
       "<IPython.core.display.Latex object>"
      ]
     },
     "metadata": {},
     "output_type": "display_data"
    },
    {
     "data": {
      "text/latex": [
       "$- g_{c} w^{c}_{2} \\left(\\kappa_{c} \\left(\\left(w^{c}_{1}\\right)^{2} + \\left(w^{c}_{3}\\right)^{2}\\right) + \\left(w^{c}_{2}\\right)^{2}\\right) + \\gamma_{c} w^{c}_{1} w^{c}_{3} = 0$"
      ],
      "text/plain": [
       "<IPython.core.display.Latex object>"
      ]
     },
     "metadata": {},
     "output_type": "display_data"
    },
    {
     "data": {
      "text/latex": [
       "$- g_{c} w^{c}_{3} \\left(\\kappa_{c} \\left(\\left(w^{c}_{1}\\right)^{2} + \\left(w^{c}_{2}\\right)^{2}\\right) + \\left(w^{c}_{3}\\right)^{2}\\right) + \\gamma_{c} w^{c}_{1} w^{c}_{2} = 0$"
      ],
      "text/plain": [
       "<IPython.core.display.Latex object>"
      ]
     },
     "metadata": {},
     "output_type": "display_data"
    }
   ],
   "source": [
    "w_1_c, w_2_c, w_3_c = symbols(\"w_1^c, w_2^c, w_3^c\", real=True)\n",
    "gamma_c, g_c, kappa_c = symbols(\"gamma_c, g_c, kappa_c\")\n",
    "eq_1 = Eq(gamma_c*conjugate(w_2_c)*conjugate(w_3_c) - g_c*( abs(w_1_c)**2 + \n",
    "                                                        kappa_c*(abs(w_2_c)**2 + abs(w_3_c)**2))*w_1_c)\n",
    "eq_2 = Eq(gamma_c*conjugate(w_3_c)*conjugate(w_1_c) - g_c*( abs(w_2_c)**2 + \n",
    "                                                        kappa_c*(abs(w_3_c)**2 + abs(w_1_c)**2))*w_2_c)\n",
    "eq_3 = Eq(gamma_c*conjugate(w_1_c)*conjugate(w_2_c) - g_c*( abs(w_3_c)**2 + \n",
    "                                                        kappa_c*(abs(w_1_c)**2 + abs(w_2_c)**2))*w_3_c)\n",
    "\n",
    "lprint(\"{0}\", eq_1)\n",
    "lprint(\"{0}\", eq_2)\n",
    "lprint(\"{0}\", eq_3)"
   ]
  },
  {
   "cell_type": "code",
   "execution_count": 63,
   "id": "faef3a0b",
   "metadata": {
    "ExecuteTime": {
     "end_time": "2022-08-22T23:09:32.826469Z",
     "start_time": "2022-08-22T23:09:25.726738Z"
    }
   },
   "outputs": [
    {
     "data": {
      "text/latex": [
       "$\\left[ \\left( 0, \\  0, \\  0\\right), \\  \\left( - \\frac{\\gamma_{c}}{g_{c} \\left(2 \\kappa_{c} + 1\\right)}, \\  - \\frac{\\gamma_{c}}{g_{c} \\left(2 \\kappa_{c} + 1\\right)}, \\  \\frac{\\gamma_{c}}{2 g_{c} \\kappa_{c} + g_{c}}\\right), \\  \\left( - \\frac{\\gamma_{c}}{g_{c} \\left(2 \\kappa_{c} + 1\\right)}, \\  \\frac{\\gamma_{c}}{g_{c} \\left(2 \\kappa_{c} + 1\\right)}, \\  - \\frac{\\gamma_{c}}{2 g_{c} \\kappa_{c} + g_{c}}\\right), \\  \\left( \\frac{\\gamma_{c}}{g_{c} \\left(2 \\kappa_{c} + 1\\right)}, \\  - \\frac{\\gamma_{c}}{g_{c} \\left(2 \\kappa_{c} + 1\\right)}, \\  - \\frac{\\gamma_{c}}{2 g_{c} \\kappa_{c} + g_{c}}\\right), \\  \\left( \\frac{\\gamma_{c}}{g_{c} \\left(2 \\kappa_{c} + 1\\right)}, \\  \\frac{\\gamma_{c}}{g_{c} \\left(2 \\kappa_{c} + 1\\right)}, \\  \\frac{\\gamma_{c}}{2 g_{c} \\kappa_{c} + g_{c}}\\right), \\  \\left( - \\frac{\\gamma_{c} \\sqrt{- \\frac{1}{\\kappa_{c} + 1}}}{g_{c} \\left(\\kappa_{c} - 1\\right)}, \\  - \\frac{\\gamma_{c} \\sqrt{- \\frac{1}{\\kappa_{c} + 1}}}{g_{c} \\left(\\kappa_{c} - 1\\right)}, \\  \\frac{\\gamma_{c}}{g_{c} \\kappa_{c} - g_{c}}\\right), \\  \\left( - \\frac{\\gamma_{c} \\sqrt{- \\frac{1}{\\kappa_{c} + 1}}}{g_{c} \\left(\\kappa_{c} - 1\\right)}, \\  \\frac{\\gamma_{c} \\sqrt{- \\frac{1}{\\kappa_{c} + 1}}}{g_{c} \\left(\\kappa_{c} - 1\\right)}, \\  - \\frac{\\gamma_{c}}{g_{c} \\kappa_{c} - g_{c}}\\right), \\  \\left( \\frac{\\gamma_{c} \\sqrt{- \\frac{1}{\\kappa_{c} + 1}}}{g_{c} \\left(\\kappa_{c} - 1\\right)}, \\  - \\frac{\\gamma_{c} \\sqrt{- \\frac{1}{\\kappa_{c} + 1}}}{g_{c} \\left(\\kappa_{c} - 1\\right)}, \\  - \\frac{\\gamma_{c}}{g_{c} \\kappa_{c} - g_{c}}\\right), \\  \\left( \\frac{\\gamma_{c} \\sqrt{- \\frac{1}{\\kappa_{c} + 1}}}{g_{c} \\left(\\kappa_{c} - 1\\right)}, \\  \\frac{\\gamma_{c} \\sqrt{- \\frac{1}{\\kappa_{c} + 1}}}{g_{c} \\left(\\kappa_{c} - 1\\right)}, \\  \\frac{\\gamma_{c}}{g_{c} \\kappa_{c} - g_{c}}\\right)\\right]$"
      ],
      "text/plain": [
       "<IPython.core.display.Latex object>"
      ]
     },
     "metadata": {},
     "output_type": "display_data"
    }
   ],
   "source": [
    "sols = solve([eq_1, eq_2, eq_3], [w_1_c, w_2_c, w_3_c])\n",
    "lprint(\"{0}\", sols)"
   ]
  },
  {
   "cell_type": "code",
   "execution_count": 69,
   "id": "d1a1b64f",
   "metadata": {
    "ExecuteTime": {
     "end_time": "2022-08-22T23:18:34.679648Z",
     "start_time": "2022-08-22T23:18:34.673107Z"
    }
   },
   "outputs": [],
   "source": [
    "f = Matrix([[Gamma*conjugate(w_2_c)*conjugate(w_3_c) - g*( abs(w_1_c)**2 + \n",
    "                                                        kappa*(abs(w_2_c)**2 + abs(w_3_c)**2))*w_1_c],\n",
    "           [Gamma*conjugate(w_3_c)*conjugate(w_1_c) - g*( abs(w_2_c)**2 + \n",
    "                                                        kappa*(abs(w_3_c)**2 + abs(w_1_c)**2))*w_2_c],\n",
    "           [Gamma*conjugate(w_1_c)*conjugate(w_2_c) - g*( abs(w_3_c)**2 + \n",
    "                                                        kappa*(abs(w_1_c)**2 + abs(w_2_c)**2))*w_3_c]])\n",
    "#lprint(\"{0}\", f)"
   ]
  },
  {
   "cell_type": "code",
   "execution_count": 76,
   "id": "6b006316",
   "metadata": {
    "ExecuteTime": {
     "end_time": "2022-08-22T23:21:27.813918Z",
     "start_time": "2022-08-22T23:21:27.761659Z"
    }
   },
   "outputs": [],
   "source": [
    "A = f.jacobian([w_1_c, w_2_c, w_3_c])\n",
    "# Print the jacobian\n",
    "#lprint(r\"$A = \\frac{\\partial \\boldsymbol{f}_i}{\\partial w_i^c} = ${0}\", A)\n",
    "# Evaluate the jacobian at the stationary solution\n",
    "A = A.subs([(w_1_c, sols[1][0]), (w_2_c, sols[1][1]), (w_3_c, sols[1][2])])\n",
    "# print the jacobian at the stationary solution\n",
    "#lprint(\"$A|_{(w_1^c, w_2^c, w_3^c)} =$ {0}\", A)"
   ]
  },
  {
   "cell_type": "code",
   "execution_count": 77,
   "id": "6ae3602e",
   "metadata": {
    "ExecuteTime": {
     "end_time": "2022-08-22T23:23:14.564442Z",
     "start_time": "2022-08-22T23:23:14.558461Z"
    }
   },
   "outputs": [],
   "source": [
    "A_test = A.subs([w_2_c, w_3_c], [0, 0])"
   ]
  },
  {
   "cell_type": "code",
   "execution_count": 79,
   "id": "9a754bb9",
   "metadata": {
    "ExecuteTime": {
     "end_time": "2022-08-22T23:26:08.033577Z",
     "start_time": "2022-08-22T23:23:52.558642Z"
    }
   },
   "outputs": [
    {
     "ename": "KeyboardInterrupt",
     "evalue": "",
     "output_type": "error",
     "traceback": [
      "\u001b[0;31m---------------------------------------------------------------------------\u001b[0m",
      "\u001b[0;31mKeyboardInterrupt\u001b[0m                         Traceback (most recent call last)",
      "Input \u001b[0;32mIn [79]\u001b[0m, in \u001b[0;36m<cell line: 1>\u001b[0;34m()\u001b[0m\n\u001b[0;32m----> 1\u001b[0m \u001b[43mA_test\u001b[49m\u001b[38;5;241;43m.\u001b[39;49m\u001b[43meigenvals\u001b[49m\u001b[43m(\u001b[49m\u001b[43m)\u001b[49m\n",
      "File \u001b[0;32m/usr/local/anaconda3/envs/sympy/lib/python3.10/site-packages/sympy/matrices/matrices.py:379\u001b[0m, in \u001b[0;36mMatrixEigen.eigenvals\u001b[0;34m(self, error_when_incomplete, **flags)\u001b[0m\n\u001b[1;32m    378\u001b[0m \u001b[38;5;28;01mdef\u001b[39;00m \u001b[38;5;21meigenvals\u001b[39m(\u001b[38;5;28mself\u001b[39m, error_when_incomplete\u001b[38;5;241m=\u001b[39m\u001b[38;5;28;01mTrue\u001b[39;00m, \u001b[38;5;241m*\u001b[39m\u001b[38;5;241m*\u001b[39mflags):\n\u001b[0;32m--> 379\u001b[0m     \u001b[38;5;28;01mreturn\u001b[39;00m \u001b[43m_eigenvals\u001b[49m\u001b[43m(\u001b[49m\u001b[38;5;28;43mself\u001b[39;49m\u001b[43m,\u001b[49m\u001b[43m \u001b[49m\u001b[43merror_when_incomplete\u001b[49m\u001b[38;5;241;43m=\u001b[39;49m\u001b[43merror_when_incomplete\u001b[49m\u001b[43m,\u001b[49m\u001b[43m \u001b[49m\u001b[38;5;241;43m*\u001b[39;49m\u001b[38;5;241;43m*\u001b[39;49m\u001b[43mflags\u001b[49m\u001b[43m)\u001b[49m\n",
      "File \u001b[0;32m/usr/local/anaconda3/envs/sympy/lib/python3.10/site-packages/sympy/matrices/eigen.py:173\u001b[0m, in \u001b[0;36m_eigenvals\u001b[0;34m(M, error_when_incomplete, simplify, multiple, rational, **flags)\u001b[0m\n\u001b[1;32m    169\u001b[0m \u001b[38;5;28;01mif\u001b[39;00m multiple:\n\u001b[1;32m    170\u001b[0m     \u001b[38;5;28;01mreturn\u001b[39;00m _eigenvals_list(\n\u001b[1;32m    171\u001b[0m         M, error_when_incomplete\u001b[38;5;241m=\u001b[39merror_when_incomplete, simplify\u001b[38;5;241m=\u001b[39msimplify,\n\u001b[1;32m    172\u001b[0m         \u001b[38;5;241m*\u001b[39m\u001b[38;5;241m*\u001b[39mflags)\n\u001b[0;32m--> 173\u001b[0m \u001b[38;5;28;01mreturn\u001b[39;00m \u001b[43m_eigenvals_dict\u001b[49m\u001b[43m(\u001b[49m\n\u001b[1;32m    174\u001b[0m \u001b[43m    \u001b[49m\u001b[43mM\u001b[49m\u001b[43m,\u001b[49m\u001b[43m \u001b[49m\u001b[43merror_when_incomplete\u001b[49m\u001b[38;5;241;43m=\u001b[39;49m\u001b[43merror_when_incomplete\u001b[49m\u001b[43m,\u001b[49m\u001b[43m \u001b[49m\u001b[43msimplify\u001b[49m\u001b[38;5;241;43m=\u001b[39;49m\u001b[43msimplify\u001b[49m\u001b[43m,\u001b[49m\n\u001b[1;32m    175\u001b[0m \u001b[43m    \u001b[49m\u001b[38;5;241;43m*\u001b[39;49m\u001b[38;5;241;43m*\u001b[39;49m\u001b[43mflags\u001b[49m\u001b[43m)\u001b[49m\n",
      "File \u001b[0;32m/usr/local/anaconda3/envs/sympy/lib/python3.10/site-packages/sympy/matrices/eigen.py:252\u001b[0m, in \u001b[0;36m_eigenvals_dict\u001b[0;34m(M, error_when_incomplete, simplify, **flags)\u001b[0m\n\u001b[1;32m    250\u001b[0m     charpoly \u001b[38;5;241m=\u001b[39m block\u001b[38;5;241m.\u001b[39mcharpoly(simplify\u001b[38;5;241m=\u001b[39msimplify)\n\u001b[1;32m    251\u001b[0m \u001b[38;5;28;01melse\u001b[39;00m:\n\u001b[0;32m--> 252\u001b[0m     charpoly \u001b[38;5;241m=\u001b[39m \u001b[43mblock\u001b[49m\u001b[38;5;241;43m.\u001b[39;49m\u001b[43mcharpoly\u001b[49m\u001b[43m(\u001b[49m\u001b[43m)\u001b[49m\n\u001b[1;32m    254\u001b[0m eigs \u001b[38;5;241m=\u001b[39m roots(charpoly, multiple\u001b[38;5;241m=\u001b[39m\u001b[38;5;28;01mFalse\u001b[39;00m, \u001b[38;5;241m*\u001b[39m\u001b[38;5;241m*\u001b[39mflags)\n\u001b[1;32m    256\u001b[0m \u001b[38;5;28;01mif\u001b[39;00m \u001b[38;5;28msum\u001b[39m(eigs\u001b[38;5;241m.\u001b[39mvalues()) \u001b[38;5;241m!=\u001b[39m block\u001b[38;5;241m.\u001b[39mrows:\n",
      "File \u001b[0;32m/usr/local/anaconda3/envs/sympy/lib/python3.10/site-packages/sympy/matrices/matrices.py:122\u001b[0m, in \u001b[0;36mMatrixDeterminant.charpoly\u001b[0;34m(self, x, simplify)\u001b[0m\n\u001b[1;32m    121\u001b[0m \u001b[38;5;28;01mdef\u001b[39;00m \u001b[38;5;21mcharpoly\u001b[39m(\u001b[38;5;28mself\u001b[39m, x\u001b[38;5;241m=\u001b[39m\u001b[38;5;124m'\u001b[39m\u001b[38;5;124mlambda\u001b[39m\u001b[38;5;124m'\u001b[39m, simplify\u001b[38;5;241m=\u001b[39m_simplify):\n\u001b[0;32m--> 122\u001b[0m     \u001b[38;5;28;01mreturn\u001b[39;00m \u001b[43m_charpoly\u001b[49m\u001b[43m(\u001b[49m\u001b[38;5;28;43mself\u001b[39;49m\u001b[43m,\u001b[49m\u001b[43m \u001b[49m\u001b[43mx\u001b[49m\u001b[38;5;241;43m=\u001b[39;49m\u001b[43mx\u001b[49m\u001b[43m,\u001b[49m\u001b[43m \u001b[49m\u001b[43msimplify\u001b[49m\u001b[38;5;241;43m=\u001b[39;49m\u001b[43msimplify\u001b[49m\u001b[43m)\u001b[49m\n",
      "File \u001b[0;32m/usr/local/anaconda3/envs/sympy/lib/python3.10/site-packages/sympy/matrices/determinant.py:417\u001b[0m, in \u001b[0;36m_charpoly\u001b[0;34m(M, x, simplify)\u001b[0m\n\u001b[1;32m    414\u001b[0m berk_vector \u001b[38;5;241m=\u001b[39m _berkowitz_vector(M)\n\u001b[1;32m    415\u001b[0m x \u001b[38;5;241m=\u001b[39m uniquely_named_symbol(x, berk_vector, modify\u001b[38;5;241m=\u001b[39m\u001b[38;5;28;01mlambda\u001b[39;00m s: \u001b[38;5;124m'\u001b[39m\u001b[38;5;124m_\u001b[39m\u001b[38;5;124m'\u001b[39m \u001b[38;5;241m+\u001b[39m s)\n\u001b[0;32m--> 417\u001b[0m \u001b[38;5;28;01mreturn\u001b[39;00m PurePoly([simplify(a) \u001b[38;5;28;01mfor\u001b[39;00m a \u001b[38;5;129;01min\u001b[39;00m berk_vector], x)\n",
      "File \u001b[0;32m/usr/local/anaconda3/envs/sympy/lib/python3.10/site-packages/sympy/matrices/determinant.py:417\u001b[0m, in \u001b[0;36m<listcomp>\u001b[0;34m(.0)\u001b[0m\n\u001b[1;32m    414\u001b[0m berk_vector \u001b[38;5;241m=\u001b[39m _berkowitz_vector(M)\n\u001b[1;32m    415\u001b[0m x \u001b[38;5;241m=\u001b[39m uniquely_named_symbol(x, berk_vector, modify\u001b[38;5;241m=\u001b[39m\u001b[38;5;28;01mlambda\u001b[39;00m s: \u001b[38;5;124m'\u001b[39m\u001b[38;5;124m_\u001b[39m\u001b[38;5;124m'\u001b[39m \u001b[38;5;241m+\u001b[39m s)\n\u001b[0;32m--> 417\u001b[0m \u001b[38;5;28;01mreturn\u001b[39;00m PurePoly([\u001b[43msimplify\u001b[49m\u001b[43m(\u001b[49m\u001b[43ma\u001b[49m\u001b[43m)\u001b[49m \u001b[38;5;28;01mfor\u001b[39;00m a \u001b[38;5;129;01min\u001b[39;00m berk_vector], x)\n",
      "File \u001b[0;32m/usr/local/anaconda3/envs/sympy/lib/python3.10/site-packages/sympy/simplify/simplify.py:646\u001b[0m, in \u001b[0;36msimplify\u001b[0;34m(expr, ratio, measure, rational, inverse, doit, **kwargs)\u001b[0m\n\u001b[1;32m    644\u001b[0m expr \u001b[38;5;241m=\u001b[39m Mul(\u001b[38;5;241m*\u001b[39mpowsimp(expr)\u001b[38;5;241m.\u001b[39mas_content_primitive())\n\u001b[1;32m    645\u001b[0m _e \u001b[38;5;241m=\u001b[39m cancel(expr)\n\u001b[0;32m--> 646\u001b[0m expr1 \u001b[38;5;241m=\u001b[39m shorter(_e, \u001b[43m_mexpand\u001b[49m\u001b[43m(\u001b[49m\u001b[43m_e\u001b[49m\u001b[43m)\u001b[49m\u001b[38;5;241m.\u001b[39mcancel())  \u001b[38;5;66;03m# issue 6829\u001b[39;00m\n\u001b[1;32m    647\u001b[0m expr2 \u001b[38;5;241m=\u001b[39m shorter(together(expr, deep\u001b[38;5;241m=\u001b[39m\u001b[38;5;28;01mTrue\u001b[39;00m), together(expr1, deep\u001b[38;5;241m=\u001b[39m\u001b[38;5;28;01mTrue\u001b[39;00m))\n\u001b[1;32m    649\u001b[0m \u001b[38;5;28;01mif\u001b[39;00m ratio \u001b[38;5;129;01mis\u001b[39;00m S\u001b[38;5;241m.\u001b[39mInfinity:\n",
      "File \u001b[0;32m/usr/local/anaconda3/envs/sympy/lib/python3.10/site-packages/sympy/core/function.py:2845\u001b[0m, in \u001b[0;36m_mexpand\u001b[0;34m(expr, recursive)\u001b[0m\n\u001b[1;32m   2843\u001b[0m was \u001b[38;5;241m=\u001b[39m \u001b[38;5;28;01mNone\u001b[39;00m\n\u001b[1;32m   2844\u001b[0m \u001b[38;5;28;01mwhile\u001b[39;00m was \u001b[38;5;241m!=\u001b[39m expr:\n\u001b[0;32m-> 2845\u001b[0m     was, expr \u001b[38;5;241m=\u001b[39m expr, \u001b[43mexpand_mul\u001b[49m\u001b[43m(\u001b[49m\u001b[43mexpand_multinomial\u001b[49m\u001b[43m(\u001b[49m\u001b[43mexpr\u001b[49m\u001b[43m)\u001b[49m\u001b[43m)\u001b[49m\n\u001b[1;32m   2846\u001b[0m     \u001b[38;5;28;01mif\u001b[39;00m \u001b[38;5;129;01mnot\u001b[39;00m recursive:\n\u001b[1;32m   2847\u001b[0m         \u001b[38;5;28;01mbreak\u001b[39;00m\n",
      "File \u001b[0;32m/usr/local/anaconda3/envs/sympy/lib/python3.10/site-packages/sympy/core/function.py:2868\u001b[0m, in \u001b[0;36mexpand_mul\u001b[0;34m(expr, deep)\u001b[0m\n\u001b[1;32m   2854\u001b[0m \u001b[38;5;28;01mdef\u001b[39;00m \u001b[38;5;21mexpand_mul\u001b[39m(expr, deep\u001b[38;5;241m=\u001b[39m\u001b[38;5;28;01mTrue\u001b[39;00m):\n\u001b[1;32m   2855\u001b[0m     \u001b[38;5;124;03m\"\"\"\u001b[39;00m\n\u001b[1;32m   2856\u001b[0m \u001b[38;5;124;03m    Wrapper around expand that only uses the mul hint.  See the expand\u001b[39;00m\n\u001b[1;32m   2857\u001b[0m \u001b[38;5;124;03m    docstring for more information.\u001b[39;00m\n\u001b[0;32m   (...)\u001b[0m\n\u001b[1;32m   2866\u001b[0m \n\u001b[1;32m   2867\u001b[0m \u001b[38;5;124;03m    \"\"\"\u001b[39;00m\n\u001b[0;32m-> 2868\u001b[0m     \u001b[38;5;28;01mreturn\u001b[39;00m \u001b[43msympify\u001b[49m\u001b[43m(\u001b[49m\u001b[43mexpr\u001b[49m\u001b[43m)\u001b[49m\u001b[38;5;241;43m.\u001b[39;49m\u001b[43mexpand\u001b[49m\u001b[43m(\u001b[49m\u001b[43mdeep\u001b[49m\u001b[38;5;241;43m=\u001b[39;49m\u001b[43mdeep\u001b[49m\u001b[43m,\u001b[49m\u001b[43m \u001b[49m\u001b[43mmul\u001b[49m\u001b[38;5;241;43m=\u001b[39;49m\u001b[38;5;28;43;01mTrue\u001b[39;49;00m\u001b[43m,\u001b[49m\u001b[43m \u001b[49m\u001b[43mpower_exp\u001b[49m\u001b[38;5;241;43m=\u001b[39;49m\u001b[38;5;28;43;01mFalse\u001b[39;49;00m\u001b[43m,\u001b[49m\n\u001b[1;32m   2869\u001b[0m \u001b[43m    \u001b[49m\u001b[43mpower_base\u001b[49m\u001b[38;5;241;43m=\u001b[39;49m\u001b[38;5;28;43;01mFalse\u001b[39;49;00m\u001b[43m,\u001b[49m\u001b[43m \u001b[49m\u001b[43mbasic\u001b[49m\u001b[38;5;241;43m=\u001b[39;49m\u001b[38;5;28;43;01mFalse\u001b[39;49;00m\u001b[43m,\u001b[49m\u001b[43m \u001b[49m\u001b[43mmultinomial\u001b[49m\u001b[38;5;241;43m=\u001b[39;49m\u001b[38;5;28;43;01mFalse\u001b[39;49;00m\u001b[43m,\u001b[49m\u001b[43m \u001b[49m\u001b[43mlog\u001b[49m\u001b[38;5;241;43m=\u001b[39;49m\u001b[38;5;28;43;01mFalse\u001b[39;49;00m\u001b[43m)\u001b[49m\n",
      "File \u001b[0;32m/usr/local/anaconda3/envs/sympy/lib/python3.10/site-packages/sympy/core/cache.py:70\u001b[0m, in \u001b[0;36m__cacheit.<locals>.func_wrapper.<locals>.wrapper\u001b[0;34m(*args, **kwargs)\u001b[0m\n\u001b[1;32m     67\u001b[0m \u001b[38;5;129m@wraps\u001b[39m(func)\n\u001b[1;32m     68\u001b[0m \u001b[38;5;28;01mdef\u001b[39;00m \u001b[38;5;21mwrapper\u001b[39m(\u001b[38;5;241m*\u001b[39margs, \u001b[38;5;241m*\u001b[39m\u001b[38;5;241m*\u001b[39mkwargs):\n\u001b[1;32m     69\u001b[0m     \u001b[38;5;28;01mtry\u001b[39;00m:\n\u001b[0;32m---> 70\u001b[0m         retval \u001b[38;5;241m=\u001b[39m \u001b[43mcfunc\u001b[49m\u001b[43m(\u001b[49m\u001b[38;5;241;43m*\u001b[39;49m\u001b[43margs\u001b[49m\u001b[43m,\u001b[49m\u001b[43m \u001b[49m\u001b[38;5;241;43m*\u001b[39;49m\u001b[38;5;241;43m*\u001b[39;49m\u001b[43mkwargs\u001b[49m\u001b[43m)\u001b[49m\n\u001b[1;32m     71\u001b[0m     \u001b[38;5;28;01mexcept\u001b[39;00m \u001b[38;5;167;01mTypeError\u001b[39;00m \u001b[38;5;28;01mas\u001b[39;00m e:\n\u001b[1;32m     72\u001b[0m         \u001b[38;5;28;01mif\u001b[39;00m \u001b[38;5;129;01mnot\u001b[39;00m e\u001b[38;5;241m.\u001b[39margs \u001b[38;5;129;01mor\u001b[39;00m \u001b[38;5;129;01mnot\u001b[39;00m e\u001b[38;5;241m.\u001b[39margs[\u001b[38;5;241m0\u001b[39m]\u001b[38;5;241m.\u001b[39mstartswith(\u001b[38;5;124m'\u001b[39m\u001b[38;5;124munhashable type:\u001b[39m\u001b[38;5;124m'\u001b[39m):\n",
      "File \u001b[0;32m/usr/local/anaconda3/envs/sympy/lib/python3.10/site-packages/sympy/core/expr.py:3632\u001b[0m, in \u001b[0;36mExpr.expand\u001b[0;34m(self, deep, modulus, power_base, power_exp, mul, log, multinomial, basic, **hints)\u001b[0m\n\u001b[1;32m   3629\u001b[0m     expr, _ \u001b[38;5;241m=\u001b[39m Expr\u001b[38;5;241m.\u001b[39m_expand_hint(\n\u001b[1;32m   3630\u001b[0m         expr, \u001b[38;5;124m'\u001b[39m\u001b[38;5;124m_eval_expand_multinomial\u001b[39m\u001b[38;5;124m'\u001b[39m, deep\u001b[38;5;241m=\u001b[39mdeep, \u001b[38;5;241m*\u001b[39m\u001b[38;5;241m*\u001b[39mhints)\n\u001b[1;32m   3631\u001b[0m \u001b[38;5;28;01mif\u001b[39;00m hints\u001b[38;5;241m.\u001b[39mget(\u001b[38;5;124m'\u001b[39m\u001b[38;5;124mmul\u001b[39m\u001b[38;5;124m'\u001b[39m, \u001b[38;5;28;01mFalse\u001b[39;00m):\n\u001b[0;32m-> 3632\u001b[0m     expr, _ \u001b[38;5;241m=\u001b[39m \u001b[43mExpr\u001b[49m\u001b[38;5;241;43m.\u001b[39;49m\u001b[43m_expand_hint\u001b[49m\u001b[43m(\u001b[49m\n\u001b[1;32m   3633\u001b[0m \u001b[43m        \u001b[49m\u001b[43mexpr\u001b[49m\u001b[43m,\u001b[49m\u001b[43m \u001b[49m\u001b[38;5;124;43m'\u001b[39;49m\u001b[38;5;124;43m_eval_expand_mul\u001b[39;49m\u001b[38;5;124;43m'\u001b[39;49m\u001b[43m,\u001b[49m\u001b[43m \u001b[49m\u001b[43mdeep\u001b[49m\u001b[38;5;241;43m=\u001b[39;49m\u001b[43mdeep\u001b[49m\u001b[43m,\u001b[49m\u001b[43m \u001b[49m\u001b[38;5;241;43m*\u001b[39;49m\u001b[38;5;241;43m*\u001b[39;49m\u001b[43mhints\u001b[49m\u001b[43m)\u001b[49m\n\u001b[1;32m   3634\u001b[0m \u001b[38;5;28;01mif\u001b[39;00m hints\u001b[38;5;241m.\u001b[39mget(\u001b[38;5;124m'\u001b[39m\u001b[38;5;124mlog\u001b[39m\u001b[38;5;124m'\u001b[39m, \u001b[38;5;28;01mFalse\u001b[39;00m):\n\u001b[1;32m   3635\u001b[0m     expr, _ \u001b[38;5;241m=\u001b[39m Expr\u001b[38;5;241m.\u001b[39m_expand_hint(\n\u001b[1;32m   3636\u001b[0m         expr, \u001b[38;5;124m'\u001b[39m\u001b[38;5;124m_eval_expand_log\u001b[39m\u001b[38;5;124m'\u001b[39m, deep\u001b[38;5;241m=\u001b[39mdeep, \u001b[38;5;241m*\u001b[39m\u001b[38;5;241m*\u001b[39mhints)\n",
      "File \u001b[0;32m/usr/local/anaconda3/envs/sympy/lib/python3.10/site-packages/sympy/core/expr.py:3557\u001b[0m, in \u001b[0;36mExpr._expand_hint\u001b[0;34m(expr, hint, deep, **hints)\u001b[0m\n\u001b[1;32m   3555\u001b[0m sargs \u001b[38;5;241m=\u001b[39m []\n\u001b[1;32m   3556\u001b[0m \u001b[38;5;28;01mfor\u001b[39;00m arg \u001b[38;5;129;01min\u001b[39;00m expr\u001b[38;5;241m.\u001b[39margs:\n\u001b[0;32m-> 3557\u001b[0m     arg, arghit \u001b[38;5;241m=\u001b[39m \u001b[43mExpr\u001b[49m\u001b[38;5;241;43m.\u001b[39;49m\u001b[43m_expand_hint\u001b[49m\u001b[43m(\u001b[49m\u001b[43marg\u001b[49m\u001b[43m,\u001b[49m\u001b[43m \u001b[49m\u001b[43mhint\u001b[49m\u001b[43m,\u001b[49m\u001b[43m \u001b[49m\u001b[38;5;241;43m*\u001b[39;49m\u001b[38;5;241;43m*\u001b[39;49m\u001b[43mhints\u001b[49m\u001b[43m)\u001b[49m\n\u001b[1;32m   3558\u001b[0m     hit \u001b[38;5;241m|\u001b[39m\u001b[38;5;241m=\u001b[39m arghit\n\u001b[1;32m   3559\u001b[0m     sargs\u001b[38;5;241m.\u001b[39mappend(arg)\n",
      "File \u001b[0;32m/usr/local/anaconda3/envs/sympy/lib/python3.10/site-packages/sympy/core/expr.py:3557\u001b[0m, in \u001b[0;36mExpr._expand_hint\u001b[0;34m(expr, hint, deep, **hints)\u001b[0m\n\u001b[1;32m   3555\u001b[0m sargs \u001b[38;5;241m=\u001b[39m []\n\u001b[1;32m   3556\u001b[0m \u001b[38;5;28;01mfor\u001b[39;00m arg \u001b[38;5;129;01min\u001b[39;00m expr\u001b[38;5;241m.\u001b[39margs:\n\u001b[0;32m-> 3557\u001b[0m     arg, arghit \u001b[38;5;241m=\u001b[39m \u001b[43mExpr\u001b[49m\u001b[38;5;241;43m.\u001b[39;49m\u001b[43m_expand_hint\u001b[49m\u001b[43m(\u001b[49m\u001b[43marg\u001b[49m\u001b[43m,\u001b[49m\u001b[43m \u001b[49m\u001b[43mhint\u001b[49m\u001b[43m,\u001b[49m\u001b[43m \u001b[49m\u001b[38;5;241;43m*\u001b[39;49m\u001b[38;5;241;43m*\u001b[39;49m\u001b[43mhints\u001b[49m\u001b[43m)\u001b[49m\n\u001b[1;32m   3558\u001b[0m     hit \u001b[38;5;241m|\u001b[39m\u001b[38;5;241m=\u001b[39m arghit\n\u001b[1;32m   3559\u001b[0m     sargs\u001b[38;5;241m.\u001b[39mappend(arg)\n",
      "    \u001b[0;31m[... skipping similar frames: Expr._expand_hint at line 3557 (1 times)]\u001b[0m\n",
      "File \u001b[0;32m/usr/local/anaconda3/envs/sympy/lib/python3.10/site-packages/sympy/core/expr.py:3557\u001b[0m, in \u001b[0;36mExpr._expand_hint\u001b[0;34m(expr, hint, deep, **hints)\u001b[0m\n\u001b[1;32m   3555\u001b[0m sargs \u001b[38;5;241m=\u001b[39m []\n\u001b[1;32m   3556\u001b[0m \u001b[38;5;28;01mfor\u001b[39;00m arg \u001b[38;5;129;01min\u001b[39;00m expr\u001b[38;5;241m.\u001b[39margs:\n\u001b[0;32m-> 3557\u001b[0m     arg, arghit \u001b[38;5;241m=\u001b[39m \u001b[43mExpr\u001b[49m\u001b[38;5;241;43m.\u001b[39;49m\u001b[43m_expand_hint\u001b[49m\u001b[43m(\u001b[49m\u001b[43marg\u001b[49m\u001b[43m,\u001b[49m\u001b[43m \u001b[49m\u001b[43mhint\u001b[49m\u001b[43m,\u001b[49m\u001b[43m \u001b[49m\u001b[38;5;241;43m*\u001b[39;49m\u001b[38;5;241;43m*\u001b[39;49m\u001b[43mhints\u001b[49m\u001b[43m)\u001b[49m\n\u001b[1;32m   3558\u001b[0m     hit \u001b[38;5;241m|\u001b[39m\u001b[38;5;241m=\u001b[39m arghit\n\u001b[1;32m   3559\u001b[0m     sargs\u001b[38;5;241m.\u001b[39mappend(arg)\n",
      "File \u001b[0;32m/usr/local/anaconda3/envs/sympy/lib/python3.10/site-packages/sympy/core/expr.py:3565\u001b[0m, in \u001b[0;36mExpr._expand_hint\u001b[0;34m(expr, hint, deep, **hints)\u001b[0m\n\u001b[1;32m   3562\u001b[0m         expr \u001b[38;5;241m=\u001b[39m expr\u001b[38;5;241m.\u001b[39mfunc(\u001b[38;5;241m*\u001b[39msargs)\n\u001b[1;32m   3564\u001b[0m \u001b[38;5;28;01mif\u001b[39;00m \u001b[38;5;28mhasattr\u001b[39m(expr, hint):\n\u001b[0;32m-> 3565\u001b[0m     newexpr \u001b[38;5;241m=\u001b[39m \u001b[38;5;28;43mgetattr\u001b[39;49m\u001b[43m(\u001b[49m\u001b[43mexpr\u001b[49m\u001b[43m,\u001b[49m\u001b[43m \u001b[49m\u001b[43mhint\u001b[49m\u001b[43m)\u001b[49m\u001b[43m(\u001b[49m\u001b[38;5;241;43m*\u001b[39;49m\u001b[38;5;241;43m*\u001b[39;49m\u001b[43mhints\u001b[49m\u001b[43m)\u001b[49m\n\u001b[1;32m   3566\u001b[0m     \u001b[38;5;28;01mif\u001b[39;00m newexpr \u001b[38;5;241m!=\u001b[39m expr:\n\u001b[1;32m   3567\u001b[0m         \u001b[38;5;28;01mreturn\u001b[39;00m (newexpr, \u001b[38;5;28;01mTrue\u001b[39;00m)\n",
      "File \u001b[0;32m/usr/local/anaconda3/envs/sympy/lib/python3.10/site-packages/sympy/core/mul.py:949\u001b[0m, in \u001b[0;36mMul._eval_expand_mul\u001b[0;34m(self, **hints)\u001b[0m\n\u001b[1;32m    946\u001b[0m \u001b[38;5;66;03m# Handle things like 1/(x*(x + 1)), which are automatically converted\u001b[39;00m\n\u001b[1;32m    947\u001b[0m \u001b[38;5;66;03m# to 1/x*1/(x + 1)\u001b[39;00m\n\u001b[1;32m    948\u001b[0m expr \u001b[38;5;241m=\u001b[39m \u001b[38;5;28mself\u001b[39m\n\u001b[0;32m--> 949\u001b[0m n, d \u001b[38;5;241m=\u001b[39m \u001b[43mfraction\u001b[49m\u001b[43m(\u001b[49m\u001b[43mexpr\u001b[49m\u001b[43m)\u001b[49m\n\u001b[1;32m    950\u001b[0m \u001b[38;5;28;01mif\u001b[39;00m d\u001b[38;5;241m.\u001b[39mis_Mul:\n\u001b[1;32m    951\u001b[0m     n, d \u001b[38;5;241m=\u001b[39m [i\u001b[38;5;241m.\u001b[39m_eval_expand_mul(\u001b[38;5;241m*\u001b[39m\u001b[38;5;241m*\u001b[39mhints) \u001b[38;5;28;01mif\u001b[39;00m i\u001b[38;5;241m.\u001b[39mis_Mul \u001b[38;5;28;01melse\u001b[39;00m i\n\u001b[1;32m    952\u001b[0m         \u001b[38;5;28;01mfor\u001b[39;00m i \u001b[38;5;129;01min\u001b[39;00m (n, d)]\n",
      "File \u001b[0;32m/usr/local/anaconda3/envs/sympy/lib/python3.10/site-packages/sympy/simplify/radsimp.py:1112\u001b[0m, in \u001b[0;36mfraction\u001b[0;34m(expr, exact)\u001b[0m\n\u001b[1;32m   1110\u001b[0m     \u001b[38;5;28;01melse\u001b[39;00m:\n\u001b[1;32m   1111\u001b[0m         numer\u001b[38;5;241m.\u001b[39mappend(term)\n\u001b[0;32m-> 1112\u001b[0m \u001b[38;5;28;01mreturn\u001b[39;00m \u001b[43mMul\u001b[49m\u001b[43m(\u001b[49m\u001b[38;5;241;43m*\u001b[39;49m\u001b[43mnumer\u001b[49m\u001b[43m,\u001b[49m\u001b[43m \u001b[49m\u001b[43mevaluate\u001b[49m\u001b[38;5;241;43m=\u001b[39;49m\u001b[38;5;129;43;01mnot\u001b[39;49;00m\u001b[43m \u001b[49m\u001b[43mexact\u001b[49m\u001b[43m)\u001b[49m, Mul(\u001b[38;5;241m*\u001b[39mdenom, evaluate\u001b[38;5;241m=\u001b[39m\u001b[38;5;129;01mnot\u001b[39;00m exact)\n",
      "File \u001b[0;32m/usr/local/anaconda3/envs/sympy/lib/python3.10/site-packages/sympy/core/cache.py:70\u001b[0m, in \u001b[0;36m__cacheit.<locals>.func_wrapper.<locals>.wrapper\u001b[0;34m(*args, **kwargs)\u001b[0m\n\u001b[1;32m     67\u001b[0m \u001b[38;5;129m@wraps\u001b[39m(func)\n\u001b[1;32m     68\u001b[0m \u001b[38;5;28;01mdef\u001b[39;00m \u001b[38;5;21mwrapper\u001b[39m(\u001b[38;5;241m*\u001b[39margs, \u001b[38;5;241m*\u001b[39m\u001b[38;5;241m*\u001b[39mkwargs):\n\u001b[1;32m     69\u001b[0m     \u001b[38;5;28;01mtry\u001b[39;00m:\n\u001b[0;32m---> 70\u001b[0m         retval \u001b[38;5;241m=\u001b[39m \u001b[43mcfunc\u001b[49m\u001b[43m(\u001b[49m\u001b[38;5;241;43m*\u001b[39;49m\u001b[43margs\u001b[49m\u001b[43m,\u001b[49m\u001b[43m \u001b[49m\u001b[38;5;241;43m*\u001b[39;49m\u001b[38;5;241;43m*\u001b[39;49m\u001b[43mkwargs\u001b[49m\u001b[43m)\u001b[49m\n\u001b[1;32m     71\u001b[0m     \u001b[38;5;28;01mexcept\u001b[39;00m \u001b[38;5;167;01mTypeError\u001b[39;00m \u001b[38;5;28;01mas\u001b[39;00m e:\n\u001b[1;32m     72\u001b[0m         \u001b[38;5;28;01mif\u001b[39;00m \u001b[38;5;129;01mnot\u001b[39;00m e\u001b[38;5;241m.\u001b[39margs \u001b[38;5;129;01mor\u001b[39;00m \u001b[38;5;129;01mnot\u001b[39;00m e\u001b[38;5;241m.\u001b[39margs[\u001b[38;5;241m0\u001b[39m]\u001b[38;5;241m.\u001b[39mstartswith(\u001b[38;5;124m'\u001b[39m\u001b[38;5;124munhashable type:\u001b[39m\u001b[38;5;124m'\u001b[39m):\n",
      "File \u001b[0;32m/usr/local/anaconda3/envs/sympy/lib/python3.10/site-packages/sympy/core/operations.py:98\u001b[0m, in \u001b[0;36mAssocOp.__new__\u001b[0;34m(cls, evaluate, _sympify, *args)\u001b[0m\n\u001b[1;32m     95\u001b[0m \u001b[38;5;28;01mif\u001b[39;00m \u001b[38;5;28mlen\u001b[39m(args) \u001b[38;5;241m==\u001b[39m \u001b[38;5;241m1\u001b[39m:\n\u001b[1;32m     96\u001b[0m     \u001b[38;5;28;01mreturn\u001b[39;00m args[\u001b[38;5;241m0\u001b[39m]\n\u001b[0;32m---> 98\u001b[0m c_part, nc_part, order_symbols \u001b[38;5;241m=\u001b[39m \u001b[38;5;28;43mcls\u001b[39;49m\u001b[38;5;241;43m.\u001b[39;49m\u001b[43mflatten\u001b[49m\u001b[43m(\u001b[49m\u001b[43margs\u001b[49m\u001b[43m)\u001b[49m\n\u001b[1;32m     99\u001b[0m is_commutative \u001b[38;5;241m=\u001b[39m \u001b[38;5;129;01mnot\u001b[39;00m nc_part\n\u001b[1;32m    100\u001b[0m obj \u001b[38;5;241m=\u001b[39m \u001b[38;5;28mcls\u001b[39m\u001b[38;5;241m.\u001b[39m_from_args(c_part \u001b[38;5;241m+\u001b[39m nc_part, is_commutative)\n",
      "\u001b[0;31mKeyboardInterrupt\u001b[0m: "
     ]
    }
   ],
   "source": [
    "A_test.eigenvals()"
   ]
  },
  {
   "cell_type": "code",
   "execution_count": null,
   "id": "5d0f9b13",
   "metadata": {},
   "outputs": [],
   "source": []
  }
 ],
 "metadata": {
  "kernelspec": {
   "display_name": "Python 3 (ipykernel)",
   "language": "python",
   "name": "python3"
  },
  "language_info": {
   "codemirror_mode": {
    "name": "ipython",
    "version": 3
   },
   "file_extension": ".py",
   "mimetype": "text/x-python",
   "name": "python",
   "nbconvert_exporter": "python",
   "pygments_lexer": "ipython3",
   "version": "3.10.4"
  },
  "varInspector": {
   "cols": {
    "lenName": 16,
    "lenType": 16,
    "lenVar": 40
   },
   "kernels_config": {
    "python": {
     "delete_cmd_postfix": "",
     "delete_cmd_prefix": "del ",
     "library": "var_list.py",
     "varRefreshCmd": "print(var_dic_list())"
    },
    "r": {
     "delete_cmd_postfix": ") ",
     "delete_cmd_prefix": "rm(",
     "library": "var_list.r",
     "varRefreshCmd": "cat(var_dic_list()) "
    }
   },
   "types_to_exclude": [
    "module",
    "function",
    "builtin_function_or_method",
    "instance",
    "_Feature"
   ],
   "window_display": false
  }
 },
 "nbformat": 4,
 "nbformat_minor": 5
}
