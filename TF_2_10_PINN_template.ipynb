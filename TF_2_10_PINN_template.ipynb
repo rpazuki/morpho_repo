{
 "cells": [
  {
   "cell_type": "code",
   "execution_count": 1,
   "id": "0358ed9e",
   "metadata": {
    "ExecuteTime": {
     "end_time": "2023-01-28T13:41:20.737133Z",
     "start_time": "2023-01-28T13:41:18.614999Z"
    },
    "scrolled": true
   },
   "outputs": [
    {
     "name": "stderr",
     "output_type": "stream",
     "text": [
      "2023-01-28 13:41:18.709327: I tensorflow/core/platform/cpu_feature_guard.cc:193] This TensorFlow binary is optimized with oneAPI Deep Neural Network Library (oneDNN) to use the following CPU instructions in performance-critical operations:  AVX2 AVX512F AVX512_VNNI FMA\n",
      "To enable them in other operations, rebuild TensorFlow with the appropriate compiler flags.\n",
      "2023-01-28 13:41:18.905763: I tensorflow/core/util/port.cc:104] oneDNN custom operations are on. You may see slightly different numerical results due to floating-point round-off errors from different computation orders. To turn them off, set the environment variable `TF_ENABLE_ONEDNN_OPTS=0`.\n",
      "2023-01-28 13:41:19.593973: W tensorflow/compiler/xla/stream_executor/platform/default/dso_loader.cc:64] Could not load dynamic library 'libnvinfer.so.7'; dlerror: libnvinfer.so.7: cannot open shared object file: No such file or directory; LD_LIBRARY_PATH: /end/home/rh2310/lib:/end/soft/Linux_2.6_64/lib::/end/home/rh2310/.conda/envs/tensorflow.2.10/lib\n",
      "2023-01-28 13:41:19.594049: W tensorflow/compiler/xla/stream_executor/platform/default/dso_loader.cc:64] Could not load dynamic library 'libnvinfer_plugin.so.7'; dlerror: libnvinfer_plugin.so.7: cannot open shared object file: No such file or directory; LD_LIBRARY_PATH: /end/home/rh2310/lib:/end/soft/Linux_2.6_64/lib::/end/home/rh2310/.conda/envs/tensorflow.2.10/lib\n",
      "2023-01-28 13:41:19.594056: W tensorflow/compiler/tf2tensorrt/utils/py_utils.cc:38] TF-TRT Warning: Cannot dlopen some TensorRT libraries. If you would like to use Nvidia GPU with TensorRT, please make sure the missing libraries mentioned above are installed properly.\n"
     ]
    }
   ],
   "source": [
    "%config Completer.use_jedi = False\n",
    "import sys\n",
    "import warnings\n",
    "warnings.filterwarnings('ignore')\n",
    "\n",
    "import os\n",
    "os.environ[\"CUDA_VISIBLE_DEVICES\"]=\"2\"\n",
    "\n",
    "import tensorflow as tf\n",
    "import numpy as np\n",
    "import matplotlib.pyplot as plt"
   ]
  },
  {
   "cell_type": "code",
   "execution_count": 2,
   "id": "ad77c388",
   "metadata": {
    "ExecuteTime": {
     "end_time": "2023-01-28T13:41:27.661419Z",
     "start_time": "2023-01-28T13:41:21.766815Z"
    }
   },
   "outputs": [
    {
     "name": "stdout",
     "output_type": "stream",
     "text": [
      "1 Physical GPUs, 1 Logical GPUs\n"
     ]
    },
    {
     "name": "stderr",
     "output_type": "stream",
     "text": [
      "2023-01-28 13:41:26.841007: I tensorflow/core/platform/cpu_feature_guard.cc:193] This TensorFlow binary is optimized with oneAPI Deep Neural Network Library (oneDNN) to use the following CPU instructions in performance-critical operations:  AVX2 AVX512F AVX512_VNNI FMA\n",
      "To enable them in other operations, rebuild TensorFlow with the appropriate compiler flags.\n",
      "2023-01-28 13:41:27.636916: I tensorflow/core/common_runtime/gpu/gpu_device.cc:1613] Created device /job:localhost/replica:0/task:0/device:GPU:0 with 8192 MB memory:  -> device: 0, name: NVIDIA RTX A6000, pci bus id: 0000:e3:00.0, compute capability: 8.6\n"
     ]
    }
   ],
   "source": [
    "MEMORY = 8*1024\n",
    "\n",
    "gpus = tf.config.list_physical_devices('GPU')\n",
    "try:\n",
    "    tf.config.set_logical_device_configuration(gpus[0],\n",
    "                                              [tf.config.LogicalDeviceConfiguration(memory_limit=MEMORY)])\n",
    "    logical_gpus = tf.config.list_logical_devices('GPU')\n",
    "    print(len(gpus), \"Physical GPUs,\", len(logical_gpus), \"Logical GPUs\")\n",
    "except RuntimeError as e:        \n",
    "    # Memory growth must be set before GPUs have been initialized\n",
    "    print(e) "
   ]
  },
  {
   "cell_type": "code",
   "execution_count": 3,
   "id": "1abef8e6",
   "metadata": {
    "ExecuteTime": {
     "end_time": "2023-01-28T13:41:32.253700Z",
     "start_time": "2023-01-28T13:41:31.955248Z"
    }
   },
   "outputs": [],
   "source": [
    "sys.path.append(\"/end/home/rh2310/morpho_repo/turing_codebase\")\n",
    "from turing.utils import *\n",
    "from turing.tf_utils import *\n",
    "import turing.pinns as tu\n",
    "from turing.loss_functions import *"
   ]
  },
  {
   "cell_type": "code",
   "execution_count": 4,
   "id": "1e926d6c",
   "metadata": {
    "ExecuteTime": {
     "end_time": "2023-01-28T13:41:32.995457Z",
     "start_time": "2023-01-28T13:41:32.987132Z"
    }
   },
   "outputs": [],
   "source": [
    "from local_utils import *"
   ]
  },
  {
   "cell_type": "code",
   "execution_count": 5,
   "id": "229cbfda",
   "metadata": {
    "ExecuteTime": {
     "end_time": "2023-01-28T13:41:33.843231Z",
     "start_time": "2023-01-28T13:41:33.637329Z"
    }
   },
   "outputs": [],
   "source": [
    "x_slice=slice(30,65,4)\n",
    "y_slice=slice(50,85,4)\n",
    "pattern = load(\"Koch_Meinhardt_2\", x_slice, y_slice)"
   ]
  },
  {
   "cell_type": "code",
   "execution_count": 6,
   "id": "4e123dce",
   "metadata": {
    "ExecuteTime": {
     "end_time": "2023-01-28T13:41:34.566190Z",
     "start_time": "2023-01-28T13:41:34.519299Z"
    }
   },
   "outputs": [],
   "source": [
    "lb = pattern.dataset['lb']\n",
    "ub = pattern.dataset['ub']\n",
    "\n",
    "obs_inputs = pattern.dataset['obs_input']\n",
    "obs_outputs = pattern.dataset['obs_output']\n",
    "obs_X = np.concatenate([obs_inputs, obs_outputs], axis=1)\n",
    "pde_X = obs_inputs\n",
    "ds = TINN_Dataset(tf.float32, obs_X, pde_X)"
   ]
  },
  {
   "cell_type": "code",
   "execution_count": 7,
   "id": "55ef5765",
   "metadata": {
    "ExecuteTime": {
     "end_time": "2023-01-28T13:41:35.186572Z",
     "start_time": "2023-01-28T13:41:35.170431Z"
    }
   },
   "outputs": [
    {
     "data": {
      "text/plain": [
       "array([162, 162])"
      ]
     },
     "execution_count": 7,
     "metadata": {},
     "output_type": "execute_result"
    }
   ],
   "source": [
    "ds.sizes"
   ]
  },
  {
   "cell_type": "code",
   "execution_count": 8,
   "id": "53f6e703",
   "metadata": {
    "ExecuteTime": {
     "end_time": "2023-01-28T13:41:36.292178Z",
     "start_time": "2023-01-28T13:41:36.282315Z"
    }
   },
   "outputs": [
    {
     "data": {
      "text/plain": [
       "array([1.37248605, 0.0159006 ])"
      ]
     },
     "execution_count": 8,
     "metadata": {},
     "output_type": "execute_result"
    }
   ],
   "source": []
  },
  {
   "cell_type": "code",
   "execution_count": 18,
   "id": "05638640",
   "metadata": {
    "ExecuteTime": {
     "end_time": "2023-01-28T14:03:39.914732Z",
     "start_time": "2023-01-28T14:01:04.232253Z"
    },
    "scrolled": true
   },
   "outputs": [
    {
     "name": "stdout",
     "output_type": "stream",
     "text": [
      "\n",
      "Start of epoch 0\n",
      "Loss value: 27.739398956298828, at epoch 0\n",
      "Time taken: 2.46s\n",
      "\n",
      "Start of epoch 1000\n",
      "Loss value: 0.005204393062740564, at epoch 1000\n",
      "Time taken: 23.42s\n",
      "\n",
      "Start of epoch 2000\n",
      "Loss value: 0.0008591153891757131, at epoch 2000\n",
      "Time taken: 23.62s\n",
      "\n",
      "Start of epoch 3000\n",
      "Loss value: 0.0010016418527811766, at epoch 3000\n",
      "Time taken: 23.71s\n",
      "\n",
      "Start of epoch 4000\n",
      "Loss value: 0.001317630521953106, at epoch 4000\n",
      "Time taken: 23.45s\n",
      "\n",
      "Start of epoch 5000\n",
      "Loss value: 0.00041835286538116634, at epoch 5000\n",
      "Time taken: 23.44s\n",
      "\n",
      "Start of epoch 6000\n",
      "Loss value: 0.00025252788327634335, at epoch 6000\n",
      "Time taken: 23.94s\n",
      "############################################\n",
      "#       Early stop at 6488             \n",
      "############################################\n"
     ]
    }
   ],
   "source": [
    "optimizer=keras.optimizers.Adam(learning_rate=5e-4)\n",
    "layers = [3, 128, 128, 128, 128, 128, 2]\n",
    "pinn = tu.NN(layers, lb, ub, dtype=tf.float32)\n",
    "obs_loss = Observation_Loss(layers,\n",
    "                            loss_grad_type=  Loss_Grad_Type.PINN)\n",
    "\n",
    "norm_l2 = L2()\n",
    "\n",
    "std_u, std_v = np.std(obs_outputs, axis=0)\n",
    "\n",
    "@tf.function\n",
    "def train_step(elements):\n",
    "    with tf.GradientTape(persistent=True) as tape:        \n",
    "        items = obs_loss.residual(pinn, elements[0])\n",
    "        #items = [items[0]/std_u, items[1]/std_v]\n",
    "        l2_items = norm_l2.reduce_norm(items)\n",
    "        l2 = tf.reduce_sum(l2_items)        \n",
    "        trainables = pinn.trainable_variables\n",
    "        \n",
    "    grads = tape.gradient(l2, trainables)\n",
    "    optimizer.apply_gradients(zip(grads, trainables))\n",
    "    return l2_items\n",
    "\n",
    "\n",
    "def epoch_callback(epoch, loss_samples):\n",
    "    if epoch%10 == 0:\n",
    "        print(\"################Callback called##################\")\n",
    "\n",
    "losses = tu.train(epochs=10000+1,\n",
    "                  batch_size=81,\n",
    "                  dataset = ds ,\n",
    "                  train_step = train_step,\n",
    "                  print_interval=1000,\n",
    "                  loss_sample_interval = 1,\n",
    "                  stop_threshold=1e-4,\n",
    "                  epoch_callback=None)\n"
   ]
  },
  {
   "cell_type": "code",
   "execution_count": 21,
   "id": "c33a9575",
   "metadata": {
    "ExecuteTime": {
     "end_time": "2023-01-28T14:08:26.379131Z",
     "start_time": "2023-01-28T14:04:44.675099Z"
    },
    "scrolled": true
   },
   "outputs": [
    {
     "name": "stdout",
     "output_type": "stream",
     "text": [
      "\n",
      "Start of epoch 0\n",
      "Loss value: 9.652662993175909e-05, at epoch 0\n",
      "Time taken: 0.15s\n",
      "\n",
      "Start of epoch 1000\n",
      "Loss value: 8.907351002562791e-05, at epoch 1000\n",
      "Time taken: 23.29s\n",
      "\n",
      "Start of epoch 2000\n",
      "Loss value: 8.064341818680987e-05, at epoch 2000\n",
      "Time taken: 23.30s\n",
      "\n",
      "Start of epoch 3000\n",
      "Loss value: 6.0594993556151167e-05, at epoch 3000\n",
      "Time taken: 24.11s\n",
      "\n",
      "Start of epoch 4000\n",
      "Loss value: 4.120471567148343e-05, at epoch 4000\n",
      "Time taken: 25.13s\n",
      "\n",
      "Start of epoch 5000\n",
      "Loss value: 2.6716446882346645e-05, at epoch 5000\n",
      "Time taken: 23.89s\n",
      "\n",
      "Start of epoch 6000\n",
      "Loss value: 2.252072408737149e-05, at epoch 6000\n",
      "Time taken: 23.68s\n",
      "\n",
      "Start of epoch 7000\n",
      "Loss value: 1.5844261724851094e-05, at epoch 7000\n",
      "Time taken: 23.60s\n",
      "\n",
      "Start of epoch 8000\n",
      "Loss value: 1.242947382706916e-05, at epoch 8000\n",
      "Time taken: 23.52s\n",
      "\n",
      "Start of epoch 9000\n",
      "Loss value: 1.1123861440864857e-05, at epoch 9000\n",
      "Time taken: 23.60s\n",
      "############################################\n",
      "#       Early stop at 9314             \n",
      "############################################\n"
     ]
    }
   ],
   "source": [
    "optimizer.lr.assign(2e-5)\n",
    "losses2 = tu.train(epochs=10000+1,\n",
    "                  batch_size=81,\n",
    "                  dataset = ds ,\n",
    "                  train_step = train_step,\n",
    "                  print_interval=1000,\n",
    "                  loss_sample_interval = 1,\n",
    "                  stop_threshold=9e-6,\n",
    "                  epoch_callback=None)"
   ]
  },
  {
   "cell_type": "code",
   "execution_count": 22,
   "id": "2532cbbf",
   "metadata": {
    "ExecuteTime": {
     "end_time": "2023-01-28T14:08:33.429383Z",
     "start_time": "2023-01-28T14:08:33.415675Z"
    }
   },
   "outputs": [
    {
     "data": {
      "text/plain": [
       "0.00226638833670019"
      ]
     },
     "execution_count": 22,
     "metadata": {},
     "output_type": "execute_result"
    }
   ],
   "source": [
    "pred = pinn.net(obs_inputs.astype(np.float32)).numpy()\n",
    "np.sqrt(np.mean((pred - obs_outputs)**2))"
   ]
  },
  {
   "cell_type": "code",
   "execution_count": 24,
   "id": "4e3287ff",
   "metadata": {
    "ExecuteTime": {
     "end_time": "2023-01-28T14:09:06.184418Z",
     "start_time": "2023-01-28T14:09:05.376685Z"
    }
   },
   "outputs": [
    {
     "data": {
      "image/png": "[encoded data removed]",
      "text/plain": [
       "<Figure size 640x480 with 1 Axes>"
      ]
     },
     "metadata": {},
     "output_type": "display_data"
    }
   ],
   "source": [
    "plt.plot(np.concatenate([losses, losses2]))\n",
    "plt.yscale('log')"
   ]
  },
  {
   "cell_type": "code",
   "execution_count": null,
   "id": "cb5d8d48",
   "metadata": {},
   "outputs": [],
   "source": []
  }
 ],
 "metadata": {
  "hide_input": false,
  "kernelspec": {
   "display_name": "Python 3 (ipykernel)",
   "language": "python",
   "name": "python3"
  },
  "language_info": {
   "codemirror_mode": {
    "name": "ipython",
    "version": 3
   },
   "file_extension": ".py",
   "mimetype": "text/x-python",
   "name": "python",
   "nbconvert_exporter": "python",
   "pygments_lexer": "ipython3",
   "version": "3.9.13"
  },
  "varInspector": {
   "cols": {
    "lenName": 16,
    "lenType": 16,
    "lenVar": 40
   },
   "kernels_config": {
    "python": {
     "delete_cmd_postfix": "",
     "delete_cmd_prefix": "del ",
     "library": "var_list.py",
     "varRefreshCmd": "print(var_dic_list())"
    },
    "r": {
     "delete_cmd_postfix": ") ",
     "delete_cmd_prefix": "rm(",
     "library": "var_list.r",
     "varRefreshCmd": "cat(var_dic_list()) "
    }
   },
   "types_to_exclude": [
    "module",
    "function",
    "builtin_function_or_method",
    "instance",
    "_Feature"
   ],
   "window_display": false
  }
 },
 "nbformat": 4,
 "nbformat_minor": 5
}
