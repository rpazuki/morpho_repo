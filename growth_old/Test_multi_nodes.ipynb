{
 "cells": [
  {
   "cell_type": "code",
   "execution_count": 1,
   "id": "760b85b1",
   "metadata": {
    "ExecuteTime": {
     "end_time": "2022-07-08T12:31:57.854896Z",
     "start_time": "2022-07-08T12:31:54.247345Z"
    }
   },
   "outputs": [
    {
     "name": "stderr",
     "output_type": "stream",
     "text": [
      "2022-07-08 13:31:57.602960: I tensorflow/core/common_runtime/gpu/gpu_device.cc:1892] Ignoring visible gpu device (device: 0, name: Quadro K2000, pci bus id: 0000:05:00.0, compute capability: 3.0) with Cuda compute capability 3.0. The minimum required Cuda capability is 3.5.\n"
     ]
    }
   ],
   "source": [
    "%config Completer.use_jedi = False\n",
    "import sys\n",
    "import warnings\n",
    "warnings.filterwarnings('ignore')\n",
    "import tensorflow as tf\n",
    "import numpy as np\n",
    "import matplotlib.pyplot as plt\n",
    "import scipy.io\n",
    "import time\n",
    "import threading\n",
    "import gc\n",
    "import copy\n",
    "\n",
    "sys.path.append(\"/end/home/rh2310/morpho_repo\")\n",
    "from turing.utils import *\n",
    "import turing.pinns as tu\n",
    "import turing.pinns_multi_nodes as tu_multi\n",
    "from turing.loss_functions import *\n",
    "\n",
    "GPU = False\n",
    "import os\n",
    "\n",
    "if GPU:\n",
    "    txt_device = 'gpu:0'\n",
    "else:\n",
    "    txt_device = 'cpu:0'    \n",
    "    os.environ[\"CUDA_VISIBLE_DEVICES\"]=\"-1\""
   ]
  },
  {
   "cell_type": "markdown",
   "id": "debb6527",
   "metadata": {},
   "source": [
    "# Load data"
   ]
  },
  {
   "cell_type": "code",
   "execution_count": 2,
   "id": "1ed898aa",
   "metadata": {
    "ExecuteTime": {
     "end_time": "2022-07-08T12:32:01.990798Z",
     "start_time": "2022-07-08T12:32:01.824098Z"
    }
   },
   "outputs": [],
   "source": [
    "data_path = os.path.abspath(\"turing.npy\")\n",
    "with open(data_path, 'rb') as f:\n",
    "    data = np.load(f)\n",
    "    \n",
    "data_path = os.path.abspath(\"turing_t.npy\")\n",
    "with open(data_path, 'rb') as f:\n",
    "    t_star = np.load(f) \n",
    "    \n",
    "T = t_star.shape[0]    \n",
    "    \n",
    "L = 50\n",
    "x_size = data.shape[1]\n",
    "y_size = data.shape[2]\n",
    "N = x_size*y_size\n",
    "\n",
    "model_params = {'training_data_size': T*N,#T*32,\n",
    "                'pde_data_size': (T*N)//(32),\n",
    "                'boundary_data_size':((x_size + y_size)*T)//(8)}\n",
    "\n",
    "dataset = create_dataset(data, t_star, N, T, L, **model_params)\n",
    "lb = dataset['lb']\n",
    "ub = dataset['ub']\n",
    "obs_X = dataset['obs_input']\n",
    "obs_Y = dataset['obs_output']\n",
    "pde_X = dataset['pde']\n"
   ]
  },
  {
   "cell_type": "markdown",
   "id": "2f36c0fe",
   "metadata": {},
   "source": [
    "# Test"
   ]
  },
  {
   "cell_type": "code",
   "execution_count": 3,
   "id": "9ee2cbc4",
   "metadata": {
    "ExecuteTime": {
     "end_time": "2022-07-08T12:32:03.827866Z",
     "start_time": "2022-07-08T12:32:03.802884Z"
    }
   },
   "outputs": [],
   "source": [
    "layers = [3, 64, 64, 64, 64, 2]\n",
    "\n",
    "pinn = tu.NN(layers, lb, ub, dtype=tf.float64)\n",
    "pde_loss = Schnakenberg(dtype=tf.float64, D_u = 0.005, D_v = 0.2)\n",
    "#pde_loss = Schnakenberg_multi(dtype=tf.float64, D_u = 0.005, D_v = 0.2)\n",
    "#non_zero_loss = Non_zero_params(pde_loss.name, [pde_loss.D_u, pde_loss.D_v])\n",
    "#periodic = Periodic_boundary(dataset['boundary_LB'], dataset['boundary_RT'], pinn.dtype)"
   ]
  },
  {
   "cell_type": "code",
   "execution_count": 4,
   "id": "3358669f",
   "metadata": {
    "ExecuteTime": {
     "end_time": "2022-07-08T12:32:06.363450Z",
     "start_time": "2022-07-08T12:32:06.348817Z"
    }
   },
   "outputs": [],
   "source": [
    "model = tu.TINN(pinn, #tu_multi.TINN_multi_nodes(pinn, \n",
    "                                  pde_loss,\n",
    "                                  extra_loss = [], \n",
    "                                 # nodes_n = 2,\n",
    "                                  #node_names= [\"a\", \"s\"],\n",
    "                                 # alpha = 0.25\n",
    "               )"
   ]
  },
  {
   "cell_type": "code",
   "execution_count": 5,
   "id": "9877abcc",
   "metadata": {
    "ExecuteTime": {
     "end_time": "2022-07-08T12:33:30.629773Z",
     "start_time": "2022-07-08T12:32:08.158469Z"
    }
   },
   "outputs": [
    {
     "name": "stdout",
     "output_type": "stream",
     "text": [
      "\n",
      "Start of epoch 0\n",
      "Training observations acc over epoch: 1.07756\n",
      "total loss: 5246.40736, total regularisd loss: 5246.40736\n",
      "obs u loss: 1134.70912, obs v loss: 1072.13355\n",
      "pde u loss: 1100.99508, pde v loss: 1938.56962\n",
      "lambda obs u: 1.00000, lambda obs v: 1.00000\n",
      "lambda pde u: 1.00000, lambda pde v: 1.00000\n",
      "c_0: 10.33260 c_1: 9.87785 c_2: 9.91118 c_3: 9.95110 \n",
      "\n",
      "Time taken: 49.86s\n",
      "\n",
      "Start of epoch 1\n",
      "Training observations acc over epoch: 0.96262\n",
      "total loss: 2002.42347, total regularisd loss: 2002.42347\n",
      "obs u loss: 967.58294, obs v loss: 1003.87235\n",
      "pde u loss: 14.57061, pde v loss: 16.39757\n",
      "lambda obs u: 1.17913, lambda obs v: 1.82070\n",
      "lambda pde u: 0.50007, lambda pde v: 0.50009\n",
      "c_0: 10.87768 c_1: 9.67343 c_2: 9.79514 c_3: 9.81069 \n",
      "\n",
      "Time taken: 32.60s\n"
     ]
    }
   ],
   "source": [
    "results = model.train(epochs = 2,\n",
    "                      batch_size = 512,\n",
    "                      X = obs_X,\n",
    "                      Y = obs_Y,\n",
    "                      print_interval=1,\n",
    "                      stop_threshold = 1e-5,\n",
    "                      shuffle = True,\n",
    "                      sample_losses = True,              \n",
    "                      sample_regularisations = True,\n",
    "                      sample_gradients = True)"
   ]
  },
  {
   "cell_type": "code",
   "execution_count": 8,
   "id": "1f39ac69",
   "metadata": {
    "ExecuteTime": {
     "end_time": "2022-07-08T12:26:11.176893Z",
     "start_time": "2022-07-08T12:26:11.169501Z"
    }
   },
   "outputs": [
    {
     "data": {
      "text/plain": [
       "int"
      ]
     },
     "execution_count": 8,
     "metadata": {},
     "output_type": "execute_result"
    }
   ],
   "source": [
    "type(len(obs_X))"
   ]
  },
  {
   "cell_type": "code",
   "execution_count": null,
   "id": "8a529581",
   "metadata": {},
   "outputs": [],
   "source": []
  },
  {
   "cell_type": "code",
   "execution_count": null,
   "id": "6116f0f0",
   "metadata": {},
   "outputs": [],
   "source": []
  }
 ],
 "metadata": {
  "kernelspec": {
   "display_name": "Python 3 (ipykernel)",
   "language": "python",
   "name": "python3"
  },
  "language_info": {
   "codemirror_mode": {
    "name": "ipython",
    "version": 3
   },
   "file_extension": ".py",
   "mimetype": "text/x-python",
   "name": "python",
   "nbconvert_exporter": "python",
   "pygments_lexer": "ipython3",
   "version": "3.10.4"
  },
  "varInspector": {
   "cols": {
    "lenName": 16,
    "lenType": 16,
    "lenVar": 40
   },
   "kernels_config": {
    "python": {
     "delete_cmd_postfix": "",
     "delete_cmd_prefix": "del ",
     "library": "var_list.py",
     "varRefreshCmd": "print(var_dic_list())"
    },
    "r": {
     "delete_cmd_postfix": ") ",
     "delete_cmd_prefix": "rm(",
     "library": "var_list.r",
     "varRefreshCmd": "cat(var_dic_list()) "
    }
   },
   "types_to_exclude": [
    "module",
    "function",
    "builtin_function_or_method",
    "instance",
    "_Feature"
   ],
   "window_display": false
  }
 },
 "nbformat": 4,
 "nbformat_minor": 5
}
