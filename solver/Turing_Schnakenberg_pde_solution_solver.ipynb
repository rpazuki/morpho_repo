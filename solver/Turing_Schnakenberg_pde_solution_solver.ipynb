{
 "cells": [
  {
   "cell_type": "markdown",
   "id": "26ec9964",
   "metadata": {},
   "source": [
    "> The equations are as follows\n",
    "\n",
    "<h3><center>$\\partial_t u = D_u (\\partial_x^2 + \\partial_y^2)u + c_1 -c_0 u + c_3u^2v$</center></h3>\n",
    "\n",
    "<h3><center>$\\partial_t v = D_v (\\partial_x^2 + \\partial_y^2)v + c_2 -c_3 u^2 v$</center></h3>\n",
    "\n",
    "With parameters  :\n",
    "- $D_u = 1, \\quad D_v=40$.\n",
    "- $c_0 = 1$.\n",
    "- $c_1 = 0.1$.\n",
    "- $c_2 = 0.9$.\n",
    "- $c_3 = 1$"
   ]
  },
  {
   "cell_type": "code",
   "execution_count": 1,
   "id": "f21e2280",
   "metadata": {
    "ExecuteTime": {
     "end_time": "2022-07-17T12:52:17.158726Z",
     "start_time": "2022-07-17T12:52:15.966515Z"
    }
   },
   "outputs": [],
   "source": [
    "%config Completer.use_jedi = False\n",
    "import numpy as np\n",
    "import numba\n",
    "import sys\n",
    "sys.path.append(\"/end/home/rh2310/morpho_repo/turing_codebase\")\n",
    "from solvers.explicit_Euler import integrate\n",
    "from solvers.turing_models import Koch_Meinhardt\n",
    "\n",
    "from matplotlib import pyplot as plt"
   ]
  },
  {
   "cell_type": "code",
   "execution_count": 3,
   "id": "bc4625ab",
   "metadata": {
    "ExecuteTime": {
     "end_time": "2022-07-17T12:52:25.393085Z",
     "start_time": "2022-07-17T12:52:25.369313Z"
    }
   },
   "outputs": [],
   "source": [
    "import os\n",
    "data_path = os.path.abspath(\"../turing.npy\")\n",
    "with open(data_path, 'rb') as f:\n",
    "    data = np.load(f)\n",
    "    \n",
    "data_path = os.path.abspath(\"../turing_t.npy\")\n",
    "with open(data_path, 'rb') as f:\n",
    "    t_star = np.load(f) "
   ]
  },
  {
   "cell_type": "code",
   "execution_count": 6,
   "id": "908155b1",
   "metadata": {
    "ExecuteTime": {
     "end_time": "2022-07-17T12:57:31.662412Z",
     "start_time": "2022-07-17T12:53:30.640559Z"
    }
   },
   "outputs": [],
   "source": [
    "n = (32, 32)\n",
    "L = (50.0, 50.0)\n",
    "\n",
    "#c0 = np.random.normal(scale=.5, size=(2, n[0], n[1]))\n",
    "#c0[0, :,:] += 1.2\n",
    "#c0[1, :,:] += 1.0\n",
    "c0 = data[:, :, :, 0]\n",
    "\n",
    "Ds = np.array([0.005, 0.2])\n",
    "sigma_u, sigma_v = 0.0, 0.02\n",
    "rho_u, rho_v = 0.01, 0.02\n",
    "kappa_u, mu_u = 0.25, 0.01\n",
    "\n",
    "\n",
    "f_args = (sigma_u, sigma_v, rho_u, rho_v, kappa_u, mu_u)\n",
    "t = np.linspace(0, 50000, 256)\n",
    "\n",
    "dt = 0.01\n",
    "\n",
    "sol = integrate(c0, t, dt, n, L, Ds, Koch_Meinhardt, f_args)"
   ]
  },
  {
   "cell_type": "code",
   "execution_count": 21,
   "id": "174e098a",
   "metadata": {
    "ExecuteTime": {
     "end_time": "2022-07-17T14:38:57.842871Z",
     "start_time": "2022-07-17T14:38:57.481756Z"
    }
   },
   "outputs": [
    {
     "data": {
      "image/png": "[encoded data removed]",
      "text/plain": [
       "<Figure size 576x288 with 4 Axes>"
      ]
     },
     "metadata": {
      "needs_background": "light"
     },
     "output_type": "display_data"
    }
   ],
   "source": [
    "index = -1\n",
    "_ = plt.figure(figsize=(8,4))\n",
    "plt.subplot(121)\n",
    "plt.imshow(sol[0,:,:, index])\n",
    "plt.colorbar(shrink=.75)\n",
    "plt.subplot(122)\n",
    "plt.imshow(sol[1,:,:, index])\n",
    "plt.colorbar(shrink=.75)\n",
    "plt.show()"
   ]
  },
  {
   "cell_type": "code",
   "execution_count": null,
   "id": "c116e6d0",
   "metadata": {},
   "outputs": [],
   "source": []
  }
 ],
 "metadata": {
  "kernelspec": {
   "display_name": "Python 3 (ipykernel)",
   "language": "python",
   "name": "python3"
  },
  "language_info": {
   "codemirror_mode": {
    "name": "ipython",
    "version": 3
   },
   "file_extension": ".py",
   "mimetype": "text/x-python",
   "name": "python",
   "nbconvert_exporter": "python",
   "pygments_lexer": "ipython3",
   "version": "3.10.4"
  },
  "varInspector": {
   "cols": {
    "lenName": 16,
    "lenType": 16,
    "lenVar": 40
   },
   "kernels_config": {
    "python": {
     "delete_cmd_postfix": "",
     "delete_cmd_prefix": "del ",
     "library": "var_list.py",
     "varRefreshCmd": "print(var_dic_list())"
    },
    "r": {
     "delete_cmd_postfix": ") ",
     "delete_cmd_prefix": "rm(",
     "library": "var_list.r",
     "varRefreshCmd": "cat(var_dic_list()) "
    }
   },
   "types_to_exclude": [
    "module",
    "function",
    "builtin_function_or_method",
    "instance",
    "_Feature"
   ],
   "window_display": false
  }
 },
 "nbformat": 4,
 "nbformat_minor": 5
}
