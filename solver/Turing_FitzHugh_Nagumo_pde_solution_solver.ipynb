{
 "cells": [
  {
   "cell_type": "markdown",
   "id": "0a823ff2",
   "metadata": {},
   "source": [
    "> The equations are as follows\n",
    "\n",
    "<h3><center>$\\partial_t u = D_u (\\partial_x^2 + \\partial_y^2)u + \\epsilon(v - \\alpha u)$</center></h3>\n",
    "\n",
    "<h3><center>$\\partial_t v = D_v (\\partial_x^2 + \\partial_y^2)v -u + \\mu v - v^3$</center></h3>\n",
    "\n",
    "With parameters  :\n",
    "- $D_u = 0.05, \\quad D_v=0.00028$.\n",
    "- $\\alpha = 1.0$.\n",
    "- $\\epsilon = 6.45$.\n",
    "- $\\mu = 1.5$."
   ]
  },
  {
   "cell_type": "code",
   "execution_count": 3,
   "id": "458ba3aa",
   "metadata": {
    "ExecuteTime": {
     "end_time": "2022-07-11T20:56:55.902263Z",
     "start_time": "2022-07-11T20:56:55.569873Z"
    }
   },
   "outputs": [],
   "source": [
    "%config Completer.use_jedi = False\n",
    "import numpy as np\n",
    "import numba\n",
    "import sys\n",
    "sys.path.append(\"/end/home/rh2310/morpho_repo/turing_codebase\")\n",
    "from solvers.explicit_Euler import integrate\n",
    "\n",
    "from matplotlib import pyplot as plt"
   ]
  },
  {
   "cell_type": "code",
   "execution_count": 4,
   "id": "2ce08a95",
   "metadata": {
    "ExecuteTime": {
     "end_time": "2022-07-11T20:56:58.516132Z",
     "start_time": "2022-07-11T20:56:58.504112Z"
    }
   },
   "outputs": [],
   "source": [
    "@numba.jit(nopython=True)\n",
    "def f(c, t, f_args):\n",
    "    alpha, epsilon, mu = f_args\n",
    "    u = c[0, :, :]\n",
    "    v = c[1, :, :]        \n",
    "    fu = -epsilon*alpha*u + epsilon*v\n",
    "    fv = -u + mu*v - v*v*v\n",
    "    return np.stack((fu, fv))"
   ]
  },
  {
   "cell_type": "code",
   "execution_count": 11,
   "id": "91bc42f0",
   "metadata": {
    "ExecuteTime": {
     "end_time": "2022-07-11T21:25:08.403751Z",
     "start_time": "2022-07-11T21:23:20.007609Z"
    }
   },
   "outputs": [],
   "source": [
    "n = (32, 32)\n",
    "L = (1.0, 1.0)\n",
    "\n",
    "c0 = np.random.normal(scale=0.01, size=(2, n[0], n[1]))\n",
    "\n",
    "Ds = np.array([0.05, 0.00028])\n",
    "alpha = 1.26681#1.0\n",
    "epsilon = 1.0#6.45#6.0\n",
    "mu = 2.57772#1.5#1.4\n",
    "\n",
    "f_args = (alpha, epsilon, mu)\n",
    "t = np.linspace(0, 2000, 100)\n",
    "\n",
    "dt = 0.001\n",
    "\n",
    "sol = integrate(c0, t, dt, n, L, Ds, f, f_args)\n"
   ]
  },
  {
   "cell_type": "code",
   "execution_count": 12,
   "id": "a3ba29a8",
   "metadata": {
    "ExecuteTime": {
     "end_time": "2022-07-11T21:36:33.223859Z",
     "start_time": "2022-07-11T21:36:32.571343Z"
    }
   },
   "outputs": [
    {
     "data": {
      "text/plain": [
       "<matplotlib.colorbar.Colorbar at 0x7f203b623630>"
      ]
     },
     "execution_count": 12,
     "metadata": {},
     "output_type": "execute_result"
    },
    {
     "data": {
      "image/png": "[encoded data removed]",
      "text/plain": [
       "<Figure size 576x288 with 4 Axes>"
      ]
     },
     "metadata": {
      "needs_background": "light"
     },
     "output_type": "display_data"
    }
   ],
   "source": [
    "_ = plt.figure(figsize=(8,4))\n",
    "plt.subplot(121)\n",
    "plt.imshow(sol[0,:,:, -1])\n",
    "plt.colorbar(shrink=.75)\n",
    "plt.subplot(122)\n",
    "plt.imshow(sol[1,:,:, -1])\n",
    "plt.colorbar(shrink=.75)"
   ]
  },
  {
   "cell_type": "code",
   "execution_count": 50,
   "id": "d1b09890",
   "metadata": {
    "ExecuteTime": {
     "end_time": "2022-07-11T20:06:31.421537Z",
     "start_time": "2022-07-11T20:06:30.877109Z"
    }
   },
   "outputs": [],
   "source": [
    "with open('../turing_FitzHugh_Nagumo.npy', 'wb') as f:\n",
    "    np.save(f, sol)\n",
    "    \n",
    "with open('../turing_t_FitzHugh_Nagumo.npy', 'wb') as f:\n",
    "    np.save(f, t)"
   ]
  },
  {
   "cell_type": "code",
   "execution_count": 47,
   "id": "51781559",
   "metadata": {
    "ExecuteTime": {
     "end_time": "2022-07-11T20:03:37.766959Z",
     "start_time": "2022-07-11T20:02:53.494025Z"
    }
   },
   "outputs": [
    {
     "data": {
      "image/png": "[encoded data removed]",
      "text/plain": [
       "<Figure size 432x288 with 1 Axes>"
      ]
     },
     "metadata": {
      "needs_background": "light"
     },
     "output_type": "display_data"
    }
   ],
   "source": [
    "from matplotlib.animation import FuncAnimation\n",
    "\n",
    "\n",
    "fig = plt.figure()\n",
    "\n",
    "im = im=plt.imshow(sol[0, :,:,0])#  ,interpolation='none')\n",
    "def init():\n",
    "    im.set_data(sol[0, :,:,0])\n",
    "    return [im]\n",
    "    \n",
    "def animate(i):    \n",
    "    a=im.get_array()\n",
    "    a=sol[0, :,:,i] \n",
    "    im.set_array(sol[0, :,:,i] )\n",
    "    return [im]\n",
    "\n",
    "anim = FuncAnimation(fig, animate, init_func=init,\n",
    "                               frames=len(t), interval=100, blit=True)\n",
    "\n",
    "\n",
    "anim.save('turring_FitzHugh_Nagumo.gif', writer='imagemagick')"
   ]
  }
 ],
 "metadata": {
  "kernelspec": {
   "display_name": "Python 3",
   "language": "python",
   "name": "python3"
  },
  "language_info": {
   "codemirror_mode": {
    "name": "ipython",
    "version": 3
   },
   "file_extension": ".py",
   "mimetype": "text/x-python",
   "name": "python",
   "nbconvert_exporter": "python",
   "pygments_lexer": "ipython3",
   "version": "3.6.13"
  },
  "varInspector": {
   "cols": {
    "lenName": 16,
    "lenType": 16,
    "lenVar": 40
   },
   "kernels_config": {
    "python": {
     "delete_cmd_postfix": "",
     "delete_cmd_prefix": "del ",
     "library": "var_list.py",
     "varRefreshCmd": "print(var_dic_list())"
    },
    "r": {
     "delete_cmd_postfix": ") ",
     "delete_cmd_prefix": "rm(",
     "library": "var_list.r",
     "varRefreshCmd": "cat(var_dic_list()) "
    }
   },
   "types_to_exclude": [
    "module",
    "function",
    "builtin_function_or_method",
    "instance",
    "_Feature"
   ],
   "window_display": false
  }
 },
 "nbformat": 4,
 "nbformat_minor": 5
}
