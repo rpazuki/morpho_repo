{
 "cells": [
  {
   "cell_type": "markdown",
   "id": "292e1f44",
   "metadata": {},
   "source": [
    "> The equations are as follows\n",
    "\n",
    "<h3><center>$\\partial_t u = D_u (\\partial_x^2 + \\partial_y^2)u + \\epsilon( v - \\alpha u)$</center></h3>\n",
    "\n",
    "<h3><center>$\\partial_t v = D_v (\\partial_x^2 + \\partial_y^2)v -u + \\mu v - v^3$</center></h3>\n",
    "\n",
    "With parameters  :\n",
    "- $D_u = 0.05, \\quad D_v=0.00028$.\n",
    "- $\\alpha = 1.0$.\n",
    "- $\\epsilon = 6.45$.\n",
    "- $\\mu = 1.5$."
   ]
  },
  {
   "cell_type": "code",
   "execution_count": 18,
   "id": "a2bfbb9f",
   "metadata": {
    "ExecuteTime": {
     "end_time": "2022-07-12T21:30:57.451223Z",
     "start_time": "2022-07-12T21:30:57.428969Z"
    }
   },
   "outputs": [],
   "source": [
    "%config Completer.use_jedi = False\n",
    "import numpy as np\n",
    "import numba\n",
    "import sys\n",
    "sys.path.append(\"/end/home/rh2310/morpho_repo/turing_codebase\")\n",
    "from solvers.explicit_Euler import integrate\n",
    "from solvers.turing_models import FitzHugh_Nagumo\n",
    "\n",
    "from matplotlib import pyplot as plt"
   ]
  },
  {
   "cell_type": "code",
   "execution_count": 14,
   "id": "0df88231",
   "metadata": {
    "ExecuteTime": {
     "end_time": "2022-07-12T15:06:00.086332Z",
     "start_time": "2022-07-12T15:06:00.080981Z"
    }
   },
   "outputs": [
    {
     "name": "stdout",
     "output_type": "stream",
     "text": [
      "20.0\n",
      "129.0\n",
      "35.714285714285715\n",
      "53.57142857142858\n",
      "1.785714285714286\n"
     ]
    }
   ],
   "source": [
    "print(alpha/Ds[0])\n",
    "print(epsilon/Ds[0])\n",
    "print(1/(Ds[1]*100))\n",
    "print(mu/(Ds[1]*100))\n",
    "print(Ds[0]/(Ds[1]*100))"
   ]
  },
  {
   "cell_type": "code",
   "execution_count": 15,
   "id": "f193b560",
   "metadata": {
    "ExecuteTime": {
     "end_time": "2022-07-12T17:47:31.748394Z",
     "start_time": "2022-07-12T17:47:25.420462Z"
    }
   },
   "outputs": [],
   "source": [
    "n = (32, 32)\n",
    "L = (1.0, 1.0)\n",
    "\n",
    "c0 = np.random.normal(scale=0.01, size=(2, n[0], n[1]))\n",
    "\n",
    "Ds = np.array([0.05, 0.00028])\n",
    "alpha = 1.0#6.26681#1.0\n",
    "epsilon = 6.45#6.26681#6.45#6.0\n",
    "mu = 1.5#2.52348#1.5#1.4\n",
    "\n",
    "f_args = (alpha, epsilon, mu)\n",
    "t = np.linspace(0, 100, 256)\n",
    "\n",
    "dt = 0.001\n",
    "\n",
    "sol = integrate(c0, t, dt, n, L, Ds, FitzHugh_Nagumo, f_args)\n"
   ]
  },
  {
   "cell_type": "code",
   "execution_count": 16,
   "id": "8413c4dd",
   "metadata": {
    "ExecuteTime": {
     "end_time": "2022-07-12T17:48:00.111955Z",
     "start_time": "2022-07-12T17:47:59.584126Z"
    }
   },
   "outputs": [
    {
     "data": {
      "text/plain": [
       "<matplotlib.colorbar.Colorbar at 0x7fc342d0a518>"
      ]
     },
     "execution_count": 16,
     "metadata": {},
     "output_type": "execute_result"
    },
    {
     "data": {
      "image/png": "[encoded data removed]",
      "text/plain": [
       "<Figure size 576x288 with 4 Axes>"
      ]
     },
     "metadata": {
      "needs_background": "light"
     },
     "output_type": "display_data"
    }
   ],
   "source": [
    "_ = plt.figure(figsize=(8,4))\n",
    "plt.subplot(121)\n",
    "plt.imshow(sol[0,:,:, -1])\n",
    "plt.colorbar(shrink=.75)\n",
    "plt.subplot(122)\n",
    "plt.imshow(sol[1,:,:, -1])\n",
    "plt.colorbar(shrink=.75)"
   ]
  },
  {
   "cell_type": "code",
   "execution_count": 4,
   "id": "9b0bfbb4",
   "metadata": {
    "ExecuteTime": {
     "end_time": "2022-07-12T10:59:28.875326Z",
     "start_time": "2022-07-12T10:59:28.292261Z"
    }
   },
   "outputs": [],
   "source": [
    "with open('../turing_FitzHugh_Nagumo.npy', 'wb') as f:\n",
    "    np.save(f, sol)\n",
    "    \n",
    "with open('../turing_t_FitzHugh_Nagumo.npy', 'wb') as f:\n",
    "    np.save(f, t)"
   ]
  },
  {
   "cell_type": "code",
   "execution_count": 17,
   "id": "60d823b9",
   "metadata": {
    "ExecuteTime": {
     "end_time": "2022-07-12T17:48:47.470753Z",
     "start_time": "2022-07-12T17:48:05.611582Z"
    }
   },
   "outputs": [
    {
     "data": {
      "image/png": "[encoded data removed]",
      "text/plain": [
       "<Figure size 432x288 with 1 Axes>"
      ]
     },
     "metadata": {
      "needs_background": "light"
     },
     "output_type": "display_data"
    }
   ],
   "source": [
    "from matplotlib.animation import FuncAnimation\n",
    "\n",
    "\n",
    "fig = plt.figure()\n",
    "\n",
    "im = im=plt.imshow(sol[0, :,:,0])#  ,interpolation='none')\n",
    "def init():\n",
    "    im.set_data(sol[0, :,:,0])\n",
    "    return [im]\n",
    "    \n",
    "def animate(i):    \n",
    "    a=im.get_array()\n",
    "    a=sol[0, :,:,i] \n",
    "    im.set_array(sol[0, :,:,i] )\n",
    "    return [im]\n",
    "\n",
    "anim = FuncAnimation(fig, animate, init_func=init,\n",
    "                               frames=len(t), interval=100, blit=True)\n",
    "\n",
    "\n",
    "anim.save('turring_FitzHugh_Nagumo.gif', writer='imagemagick')"
   ]
  },
  {
   "cell_type": "code",
   "execution_count": null,
   "id": "16b8a94f",
   "metadata": {},
   "outputs": [],
   "source": []
  }
 ],
 "metadata": {
  "kernelspec": {
   "display_name": "Python 3",
   "language": "python",
   "name": "python3"
  },
  "varInspector": {
   "cols": {
    "lenName": 16,
    "lenType": 16,
    "lenVar": 40
   },
   "kernels_config": {
    "python": {
     "delete_cmd_postfix": "",
     "delete_cmd_prefix": "del ",
     "library": "var_list.py",
     "varRefreshCmd": "print(var_dic_list())"
    },
    "r": {
     "delete_cmd_postfix": ") ",
     "delete_cmd_prefix": "rm(",
     "library": "var_list.r",
     "varRefreshCmd": "cat(var_dic_list()) "
    }
   },
   "types_to_exclude": [
    "module",
    "function",
    "builtin_function_or_method",
    "instance",
    "_Feature"
   ],
   "window_display": false
  }
 },
 "nbformat": 4,
 "nbformat_minor": 5
}
