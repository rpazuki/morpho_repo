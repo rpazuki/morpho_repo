{
 "cells": [
  {
   "cell_type": "markdown",
   "id": "26ec9964",
   "metadata": {},
   "source": [
    "> The equations are as follows\n",
    "\n",
    "<h3><center>$\\partial_t u = D_u (\\partial_x^2 + \\partial_y^2)u + \\epsilon( v - \\alpha u)$</center></h3>\n",
    "\n",
    "<h3><center>$\\partial_t v = D_v (\\partial_x^2 + \\partial_y^2)v -u + \\mu v - v^3$</center></h3>\n",
    "\n",
    "With parameters  :\n",
    "- $D_u = 0.05, \\quad D_v=0.00028$.\n",
    "- $\\alpha = 1.0$.\n",
    "- $\\epsilon = 6.45$.\n",
    "- $\\mu = 1.5$."
   ]
  },
  {
   "cell_type": "code",
   "execution_count": 25,
   "id": "f21e2280",
   "metadata": {
    "ExecuteTime": {
     "end_time": "2022-07-13T22:54:40.220284Z",
     "start_time": "2022-07-13T22:54:40.200570Z"
    }
   },
   "outputs": [],
   "source": [
    "%config Completer.use_jedi = False\n",
    "import numpy as np\n",
    "import numba\n",
    "import sys\n",
    "sys.path.append(\"/end/home/rh2310/morpho_repo/turing_codebase\")\n",
    "from solvers.explicit_Euler import integrate\n",
    "from solvers.turing_models import FitzHugh_Nagumo, Koch_Meinhardt\n",
    "\n",
    "from matplotlib import pyplot as plt"
   ]
  },
  {
   "cell_type": "code",
   "execution_count": 24,
   "id": "2f7338af",
   "metadata": {
    "ExecuteTime": {
     "end_time": "2022-07-13T15:43:49.296853Z",
     "start_time": "2022-07-13T15:42:40.452520Z"
    }
   },
   "outputs": [],
   "source": [
    "n = (32, 32)\n",
    "L = (1.0, 1.0)\n",
    "\n",
    "c0 = np.random.normal(scale=0.01, size=(2, n[0], n[1]))\n",
    "\n",
    "Ds = np.array([0.05, 0.00028])\n",
    "alpha = 0.0#1.0#6.26681#1.0\n",
    "epsilon = 3.06035#6.45#6.26681#6.45#6.0\n",
    "mu = 0.0#1.5#2.52348#1.5#1.4\n",
    "\n",
    "f_args = (alpha, epsilon, mu)\n",
    "t = np.linspace(0, 100, 256)\n",
    "\n",
    "dt = 0.0001\n",
    "\n",
    "sol = integrate(c0, t, dt, n, L, Ds, FitzHugh_Nagumo, f_args)\n"
   ]
  },
  {
   "cell_type": "code",
   "execution_count": 23,
   "id": "7b6d1b61",
   "metadata": {
    "ExecuteTime": {
     "end_time": "2022-07-13T15:42:15.876741Z",
     "start_time": "2022-07-13T15:42:15.014179Z"
    }
   },
   "outputs": [
    {
     "data": {
      "text/plain": [
       "<matplotlib.colorbar.Colorbar at 0x7f76ac2a0748>"
      ]
     },
     "execution_count": 23,
     "metadata": {},
     "output_type": "execute_result"
    },
    {
     "data": {
      "image/png": "[encoded data removed]",
      "text/plain": [
       "<Figure size 576x288 with 4 Axes>"
      ]
     },
     "metadata": {
      "needs_background": "light"
     },
     "output_type": "display_data"
    }
   ],
   "source": [
    "_ = plt.figure(figsize=(8,4))\n",
    "plt.subplot(121)\n",
    "plt.imshow(sol[0,:,:, -1])\n",
    "plt.colorbar(shrink=.75)\n",
    "plt.subplot(122)\n",
    "plt.imshow(sol[1,:,:, -1])\n",
    "plt.colorbar(shrink=.75)"
   ]
  },
  {
   "cell_type": "code",
   "execution_count": null,
   "id": "95fdbaa7",
   "metadata": {},
   "outputs": [],
   "source": []
  },
  {
   "cell_type": "code",
   "execution_count": null,
   "id": "7a163410",
   "metadata": {},
   "outputs": [],
   "source": []
  },
  {
   "cell_type": "code",
   "execution_count": 4,
   "id": "10fe8dcf",
   "metadata": {
    "ExecuteTime": {
     "end_time": "2022-07-12T22:04:10.925574Z",
     "start_time": "2022-07-12T22:04:10.051676Z"
    }
   },
   "outputs": [],
   "source": [
    "with open('../turing_FitzHugh_Nagumo.npy', 'wb') as f:\n",
    "    np.save(f, sol)\n",
    "    \n",
    "with open('../turing_t_FitzHugh_Nagumo.npy', 'wb') as f:\n",
    "    np.save(f, t)"
   ]
  },
  {
   "cell_type": "code",
   "execution_count": 17,
   "id": "66197e61",
   "metadata": {
    "ExecuteTime": {
     "end_time": "2022-07-12T17:48:47.470753Z",
     "start_time": "2022-07-12T17:48:05.611582Z"
    }
   },
   "outputs": [
    {
     "data": {
      "image/png": "[encoded data removed]",
      "text/plain": [
       "<Figure size 432x288 with 1 Axes>"
      ]
     },
     "metadata": {
      "needs_background": "light"
     },
     "output_type": "display_data"
    }
   ],
   "source": [
    "from matplotlib.animation import FuncAnimation\n",
    "\n",
    "\n",
    "fig = plt.figure()\n",
    "\n",
    "im = im=plt.imshow(sol[0, :,:,0])#  ,interpolation='none')\n",
    "def init():\n",
    "    im.set_data(sol[0, :,:,0])\n",
    "    return [im]\n",
    "    \n",
    "def animate(i):    \n",
    "    a=im.get_array()\n",
    "    a=sol[0, :,:,i] \n",
    "    im.set_array(sol[0, :,:,i] )\n",
    "    return [im]\n",
    "\n",
    "anim = FuncAnimation(fig, animate, init_func=init,\n",
    "                               frames=len(t), interval=100, blit=True)\n",
    "\n",
    "\n",
    "anim.save('turring_FitzHugh_Nagumo.gif', writer='imagemagick')"
   ]
  },
  {
   "cell_type": "code",
   "execution_count": 70,
   "id": "4f44096d",
   "metadata": {
    "ExecuteTime": {
     "end_time": "2022-07-13T23:29:59.487098Z",
     "start_time": "2022-07-13T23:29:12.715184Z"
    }
   },
   "outputs": [],
   "source": [
    "n = (32, 32)\n",
    "L = (50, 50)\n",
    "Ds = np.array([0.005, 0.2])\n",
    "sigma_u=0.0\n",
    "sigma_v=0.02\n",
    "mu_u=0.01\n",
    "rho_u=0.01\n",
    "rho_v=0.02 \n",
    "kappa_u=0.25\n",
    "f_args = (sigma_u, sigma_v, rho_u, rho_v, kappa_u, mu_u)\n",
    "t = np.linspace(0, 1000, 512)\n",
    "\n",
    "dt = 0.001\n",
    "\n",
    "c0 = np.random.normal(scale=0.01, size=(2, n[0], n[1]))\n",
    "c0[0,:,:] += 1.0\n",
    "c0[1,:,:] += 1.25\n",
    "import rdsolver\n",
    "homo_ss = np.array([1.  , 1.25])\n",
    "c0 = rdsolver.initial_condition(uniform_conc=homo_ss, n=n, L=L)\n",
    "sol2 = integrate(c0, t, dt, n, L, Ds, Koch_Meinhardt, f_args)\n"
   ]
  },
  {
   "cell_type": "code",
   "execution_count": 71,
   "id": "7bab3096",
   "metadata": {
    "ExecuteTime": {
     "end_time": "2022-07-13T23:30:02.423984Z",
     "start_time": "2022-07-13T23:30:01.984380Z"
    }
   },
   "outputs": [
    {
     "data": {
      "image/png": "[encoded data removed]",
      "text/plain": [
       "<Figure size 576x288 with 4 Axes>"
      ]
     },
     "metadata": {
      "needs_background": "light"
     },
     "output_type": "display_data"
    }
   ],
   "source": [
    "_ = plt.figure(figsize=(8,4))\n",
    "plt.subplot(121)\n",
    "plt.imshow(sol2[0,:,:, -1])\n",
    "plt.colorbar(shrink=.75)\n",
    "plt.subplot(122)\n",
    "plt.imshow(sol2[1,:,:, -1])\n",
    "plt.colorbar(shrink=.75)\n",
    "plt.show()"
   ]
  },
  {
   "cell_type": "code",
   "execution_count": null,
   "id": "8bf502ce",
   "metadata": {},
   "outputs": [],
   "source": []
  }
 ],
 "metadata": {
  "kernelspec": {
   "display_name": "Python 3",
   "language": "python",
   "name": "python3"
  },
  "language_info": {
   "codemirror_mode": {
    "name": "ipython",
    "version": 3
   },
   "file_extension": ".py",
   "mimetype": "text/x-python",
   "name": "python",
   "nbconvert_exporter": "python",
   "pygments_lexer": "ipython3",
   "version": "3.6.13"
  },
  "varInspector": {
   "cols": {
    "lenName": 16,
    "lenType": 16,
    "lenVar": 40
   },
   "kernels_config": {
    "python": {
     "delete_cmd_postfix": "",
     "delete_cmd_prefix": "del ",
     "library": "var_list.py",
     "varRefreshCmd": "print(var_dic_list())"
    },
    "r": {
     "delete_cmd_postfix": ") ",
     "delete_cmd_prefix": "rm(",
     "library": "var_list.r",
     "varRefreshCmd": "cat(var_dic_list()) "
    }
   },
   "types_to_exclude": [
    "module",
    "function",
    "builtin_function_or_method",
    "instance",
    "_Feature"
   ],
   "window_display": false
  }
 },
 "nbformat": 4,
 "nbformat_minor": 5
}
