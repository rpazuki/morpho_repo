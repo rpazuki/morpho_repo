{
 "cells": [
  {
   "cell_type": "markdown",
   "id": "f72d3e2b",
   "metadata": {},
   "source": [
    "The following code is from\n",
    "[Link](https://github.com/justinbois/rdsolver/blob/master/notebooks/asdm_example.ipynb)"
   ]
  },
  {
   "cell_type": "markdown",
   "id": "8e082194",
   "metadata": {},
   "source": [
    "> The equations are as follows\n",
    "\n",
    "<h3><center>$\\partial_t u = D_u (\\partial_x^2 + \\partial_y^2)u + c_1 -c_0 u + c_3u^2v$</center></h3>\n",
    "\n",
    "<h3><center>$\\partial_t v = D_v (\\partial_x^2 + \\partial_y^2)v + c_2 -c_3 u^2 v$</center></h3>\n",
    "\n",
    "With parameters  :\n",
    "- $D_u = 1, \\quad D_v=40$.\n",
    "- $c_0 = 1$.\n",
    "- $c_1 = 0.1$.\n",
    "- $c_2 = 0.9$.\n",
    "- $c_3 = 1$"
   ]
  },
  {
   "cell_type": "code",
   "execution_count": 1,
   "id": "4334c8ca",
   "metadata": {
    "ExecuteTime": {
     "end_time": "2022-06-27T11:13:31.929109Z",
     "start_time": "2022-06-27T11:13:30.750581Z"
    }
   },
   "outputs": [],
   "source": [
    "import numpy as np\n",
    "import numba\n",
    "import scipy.integrate\n",
    "from matplotlib import pyplot as plt\n",
    "\n",
    "import rdsolver"
   ]
  },
  {
   "cell_type": "code",
   "execution_count": 2,
   "id": "156fa565",
   "metadata": {
    "ExecuteTime": {
     "end_time": "2022-06-27T11:13:33.292001Z",
     "start_time": "2022-06-27T11:13:33.288053Z"
    }
   },
   "outputs": [],
   "source": [
    "D, beta, gamma, f, f_args, homo_ss = rdsolver.models.asdm()"
   ]
  },
  {
   "cell_type": "code",
   "execution_count": 3,
   "id": "35fdac24",
   "metadata": {
    "ExecuteTime": {
     "end_time": "2022-06-27T11:13:33.904588Z",
     "start_time": "2022-06-27T11:13:33.899922Z"
    }
   },
   "outputs": [
    {
     "data": {
      "text/plain": [
       "array([0.005, 0.2  ])"
      ]
     },
     "execution_count": 3,
     "metadata": {},
     "output_type": "execute_result"
    }
   ],
   "source": [
    "D"
   ]
  },
  {
   "cell_type": "code",
   "execution_count": 4,
   "id": "6868710c",
   "metadata": {
    "ExecuteTime": {
     "end_time": "2022-06-27T11:13:34.498971Z",
     "start_time": "2022-06-27T11:13:34.493943Z"
    }
   },
   "outputs": [
    {
     "data": {
      "text/plain": [
       "array([0.  , 0.02])"
      ]
     },
     "execution_count": 4,
     "metadata": {},
     "output_type": "execute_result"
    }
   ],
   "source": [
    "beta"
   ]
  },
  {
   "cell_type": "code",
   "execution_count": 5,
   "id": "70fe3c0f",
   "metadata": {
    "ExecuteTime": {
     "end_time": "2022-06-27T11:13:35.100514Z",
     "start_time": "2022-06-27T11:13:35.096846Z"
    }
   },
   "outputs": [
    {
     "data": {
      "text/plain": [
       "array([[-0.01,  0.  ],\n",
       "       [ 0.  ,  0.  ]])"
      ]
     },
     "execution_count": 5,
     "metadata": {},
     "output_type": "execute_result"
    }
   ],
   "source": [
    "gamma"
   ]
  },
  {
   "cell_type": "code",
   "execution_count": 6,
   "id": "9c13f5d7",
   "metadata": {
    "ExecuteTime": {
     "end_time": "2022-06-27T11:13:35.727767Z",
     "start_time": "2022-06-27T11:13:35.723272Z"
    }
   },
   "outputs": [
    {
     "data": {
      "text/plain": [
       "(0.01, 0.02, 0.25)"
      ]
     },
     "execution_count": 6,
     "metadata": {},
     "output_type": "execute_result"
    }
   ],
   "source": [
    "#f()\n",
    "# rho_a, rho_s, kappa_a\n",
    "f_args"
   ]
  },
  {
   "cell_type": "code",
   "execution_count": 7,
   "id": "3f89d9e8",
   "metadata": {
    "ExecuteTime": {
     "end_time": "2022-06-27T11:13:36.432816Z",
     "start_time": "2022-06-27T11:13:36.425783Z"
    }
   },
   "outputs": [
    {
     "data": {
      "text/plain": [
       "array([1.  , 1.25])"
      ]
     },
     "execution_count": 7,
     "metadata": {},
     "output_type": "execute_result"
    }
   ],
   "source": [
    "homo_ss"
   ]
  },
  {
   "cell_type": "code",
   "execution_count": 8,
   "id": "1c06eb3c",
   "metadata": {
    "ExecuteTime": {
     "end_time": "2022-06-27T11:42:52.867320Z",
     "start_time": "2022-06-27T11:13:37.409397Z"
    }
   },
   "outputs": [
    {
     "name": "stderr",
     "output_type": "stream",
     "text": [
      "100%|██████████| 512/512 [29:05<00:00,  3.41s/it]\n"
     ]
    }
   ],
   "source": [
    "# Load a standard ASDM model\n",
    "D, beta, gamma, f, f_args, homo_ss = rdsolver.models.asdm()\n",
    "\n",
    "# Set up the space and time grid\n",
    "n = (32, 32)\n",
    "L = (50, 50)\n",
    "t = np.linspace(0, 50000, 512)\n",
    "\n",
    "D[0] = 1.0#D_u\n",
    "D[1] = 40.0#D_v\n",
    "\n",
    "beta[0] = 0.1# c_1\n",
    "beta[1] = 0.9# c_2\n",
    "\n",
    "gamma[0,0] = -1.0 #c_0\n",
    "# c_3\n",
    "f_args = (1.0,)\n",
    "\n",
    "@numba.jit(nopython=True)\n",
    "def f(c, t, c_3):\n",
    "    u = c[0, :, :]\n",
    "    v = c[1, :, :]    \n",
    "    u2v = (u ** 2)*v\n",
    "    fu = c_3*u2v\n",
    "    fv = -c_3*u2v\n",
    "    return np.stack((fu, fv))\n",
    "\n",
    "# Initial condition and solve\n",
    "c0 = rdsolver.initial_condition(uniform_conc=homo_ss, n=n, L=L)\n",
    "c = rdsolver.solve(c0, t, D=D, beta=beta, gamma=gamma, f=f, f_args=f_args, L=L)\n",
    "\n",
    "# Interpolate the solution\n",
    "c_interp = rdsolver.viz.interpolate_concs(c)"
   ]
  },
  {
   "cell_type": "code",
   "execution_count": 7,
   "id": "c1ee9775",
   "metadata": {
    "ExecuteTime": {
     "end_time": "2022-05-01T23:34:04.374025Z",
     "start_time": "2022-05-01T23:34:04.369968Z"
    }
   },
   "outputs": [
    {
     "data": {
      "text/plain": [
       "array([49902.15264188, 50000.        ])"
      ]
     },
     "execution_count": 7,
     "metadata": {},
     "output_type": "execute_result"
    }
   ],
   "source": [
    "t[-2:]"
   ]
  },
  {
   "cell_type": "code",
   "execution_count": 10,
   "id": "3c327c64",
   "metadata": {
    "ExecuteTime": {
     "end_time": "2022-06-27T13:59:51.437582Z",
     "start_time": "2022-06-27T13:59:50.626156Z"
    }
   },
   "outputs": [],
   "source": [
    "with open('../turing_model_2.npy', 'wb') as f:\n",
    "    np.save(f, c)\n",
    "    \n",
    "with open('../turing_t_model_2.npy', 'wb') as f:\n",
    "    np.save(f, t)\n",
    "   "
   ]
  },
  {
   "cell_type": "code",
   "execution_count": 9,
   "id": "5ea08d03",
   "metadata": {
    "ExecuteTime": {
     "end_time": "2022-06-27T11:53:14.429804Z",
     "start_time": "2022-06-27T11:53:14.063933Z"
    }
   },
   "outputs": [
    {
     "data": {
      "image/png": "[encoded data removed]",
      "text/plain": [
       "<Figure size 432x288 with 3 Axes>"
      ]
     },
     "metadata": {
      "needs_background": "light"
     },
     "output_type": "display_data"
    }
   ],
   "source": [
    "# Direct solution\n",
    "plt.subplot(131)\n",
    "plt.imshow(c[0, :,:,-1])\n",
    "# Interpolated solutions\n",
    "plt.subplot(132)\n",
    "plt.imshow(c_interp[0, :,:,-1])\n",
    "plt.subplot(133)\n",
    "plt.imshow(c_interp[1, :,:,-1])\n",
    "plt.show()"
   ]
  },
  {
   "cell_type": "markdown",
   "id": "4ccb8c6e",
   "metadata": {},
   "source": [
    "### Making an animation"
   ]
  },
  {
   "cell_type": "code",
   "execution_count": 10,
   "id": "5a9abcfd",
   "metadata": {
    "ExecuteTime": {
     "end_time": "2022-05-01T23:35:05.374872Z",
     "start_time": "2022-05-01T23:34:20.507855Z"
    }
   },
   "outputs": [
    {
     "data": {
      "image/png": "[encoded data removed]",
      "text/plain": [
       "<Figure size 432x288 with 1 Axes>"
      ]
     },
     "metadata": {
      "needs_background": "light"
     },
     "output_type": "display_data"
    }
   ],
   "source": [
    "from matplotlib.animation import FuncAnimation\n",
    "\n",
    "fig = plt.figure()\n",
    "\n",
    "im = im=plt.imshow(c_interp[0, :,:,0])#  ,interpolation='none')\n",
    "def init():\n",
    "    im.set_data(c_interp[0, :,:,0])\n",
    "    return [im]\n",
    "    \n",
    "def animate(i):    \n",
    "    a=im.get_array()\n",
    "    a=c_interp[0, :,:,i] \n",
    "    im.set_array(c_interp[0, :,:,i] )\n",
    "    return [im]\n",
    "\n",
    "anim = FuncAnimation(fig, animate, init_func=init,\n",
    "                               frames=len(t), interval=50, blit=True)\n",
    "\n",
    "\n",
    "anim.save('turring.gif', writer='imagemagick')"
   ]
  },
  {
   "cell_type": "code",
   "execution_count": 28,
   "id": "7c79a79d",
   "metadata": {
    "ExecuteTime": {
     "end_time": "2022-04-27T17:29:27.630763Z",
     "start_time": "2022-04-27T17:29:27.392175Z"
    }
   },
   "outputs": [
    {
     "data": {
      "image/png": "[encoded data removed]",
      "text/plain": [
       "<Figure size 432x288 with 1 Axes>"
      ]
     },
     "metadata": {
      "needs_background": "light"
     },
     "output_type": "display_data"
    }
   ],
   "source": [
    "plt.imshow(c[0, :,:,0])\n",
    "plt.show()"
   ]
  },
  {
   "cell_type": "code",
   "execution_count": 19,
   "id": "2b2200be",
   "metadata": {
    "ExecuteTime": {
     "end_time": "2022-04-28T13:37:59.349878Z",
     "start_time": "2022-04-28T13:37:59.345712Z"
    }
   },
   "outputs": [
    {
     "data": {
      "text/plain": [
       "0.9765625"
      ]
     },
     "execution_count": 19,
     "metadata": {},
     "output_type": "execute_result"
    }
   ],
   "source": [
    "8000/(32*256)"
   ]
  },
  {
   "cell_type": "code",
   "execution_count": null,
   "id": "ca2e8888",
   "metadata": {},
   "outputs": [],
   "source": []
  }
 ],
 "metadata": {
  "kernelspec": {
   "display_name": "Python 3",
   "language": "python",
   "name": "python3"
  },
  "language_info": {
   "codemirror_mode": {
    "name": "ipython",
    "version": 3
   },
   "file_extension": ".py",
   "mimetype": "text/x-python",
   "name": "python",
   "nbconvert_exporter": "python",
   "pygments_lexer": "ipython3",
   "version": "3.6.13"
  },
  "varInspector": {
   "cols": {
    "lenName": 16,
    "lenType": 16,
    "lenVar": 40
   },
   "kernels_config": {
    "python": {
     "delete_cmd_postfix": "",
     "delete_cmd_prefix": "del ",
     "library": "var_list.py",
     "varRefreshCmd": "print(var_dic_list())"
    },
    "r": {
     "delete_cmd_postfix": ") ",
     "delete_cmd_prefix": "rm(",
     "library": "var_list.r",
     "varRefreshCmd": "cat(var_dic_list()) "
    }
   },
   "types_to_exclude": [
    "module",
    "function",
    "builtin_function_or_method",
    "instance",
    "_Feature"
   ],
   "window_display": false
  }
 },
 "nbformat": 4,
 "nbformat_minor": 5
}
