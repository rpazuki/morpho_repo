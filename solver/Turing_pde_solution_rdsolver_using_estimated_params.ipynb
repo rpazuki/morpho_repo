{
 "cells": [
  {
   "cell_type": "markdown",
   "id": "f72d3e2b",
   "metadata": {},
   "source": [
    "The following code is from\n",
    "[Link](https://github.com/justinbois/rdsolver/blob/master/notebooks/asdm_example.ipynb)"
   ]
  },
  {
   "cell_type": "code",
   "execution_count": 32,
   "id": "4334c8ca",
   "metadata": {
    "ExecuteTime": {
     "end_time": "2022-05-29T19:53:28.126709Z",
     "start_time": "2022-05-29T19:53:28.119499Z"
    }
   },
   "outputs": [],
   "source": [
    "import numpy as np\n",
    "import numba\n",
    "import scipy.integrate\n",
    "from matplotlib import pyplot as plt\n",
    "\n",
    "import rdsolver"
   ]
  },
  {
   "cell_type": "code",
   "execution_count": 33,
   "id": "156fa565",
   "metadata": {
    "ExecuteTime": {
     "end_time": "2022-05-29T19:53:29.554807Z",
     "start_time": "2022-05-29T19:53:29.546563Z"
    }
   },
   "outputs": [],
   "source": [
    "D, beta, gamma, f, f_args, homo_ss = rdsolver.models.asdm()"
   ]
  },
  {
   "cell_type": "code",
   "execution_count": 34,
   "id": "35fdac24",
   "metadata": {
    "ExecuteTime": {
     "end_time": "2022-05-29T19:53:30.149298Z",
     "start_time": "2022-05-29T19:53:30.140992Z"
    }
   },
   "outputs": [
    {
     "data": {
      "text/plain": [
       "array([0.005, 0.2  ])"
      ]
     },
     "execution_count": 34,
     "metadata": {},
     "output_type": "execute_result"
    }
   ],
   "source": [
    "D"
   ]
  },
  {
   "cell_type": "code",
   "execution_count": 35,
   "id": "6868710c",
   "metadata": {
    "ExecuteTime": {
     "end_time": "2022-05-29T19:53:30.596980Z",
     "start_time": "2022-05-29T19:53:30.588921Z"
    }
   },
   "outputs": [
    {
     "data": {
      "text/plain": [
       "array([0.  , 0.02])"
      ]
     },
     "execution_count": 35,
     "metadata": {},
     "output_type": "execute_result"
    }
   ],
   "source": [
    "beta"
   ]
  },
  {
   "cell_type": "code",
   "execution_count": 36,
   "id": "70fe3c0f",
   "metadata": {
    "ExecuteTime": {
     "end_time": "2022-05-29T19:53:31.048774Z",
     "start_time": "2022-05-29T19:53:31.041707Z"
    }
   },
   "outputs": [
    {
     "data": {
      "text/plain": [
       "array([[-0.01,  0.  ],\n",
       "       [ 0.  ,  0.  ]])"
      ]
     },
     "execution_count": 36,
     "metadata": {},
     "output_type": "execute_result"
    }
   ],
   "source": [
    "gamma"
   ]
  },
  {
   "cell_type": "code",
   "execution_count": 37,
   "id": "9c13f5d7",
   "metadata": {
    "ExecuteTime": {
     "end_time": "2022-05-29T19:53:33.432771Z",
     "start_time": "2022-05-29T19:53:33.424413Z"
    }
   },
   "outputs": [
    {
     "data": {
      "text/plain": [
       "(0.01, 0.02, 0.25)"
      ]
     },
     "execution_count": 37,
     "metadata": {},
     "output_type": "execute_result"
    }
   ],
   "source": [
    "#f()\n",
    "# rho_a, rho_s, kappa_a\n",
    "f_args"
   ]
  },
  {
   "cell_type": "code",
   "execution_count": 38,
   "id": "3f89d9e8",
   "metadata": {
    "ExecuteTime": {
     "end_time": "2022-05-29T19:53:35.305485Z",
     "start_time": "2022-05-29T19:53:35.297286Z"
    }
   },
   "outputs": [
    {
     "data": {
      "text/plain": [
       "array([1.  , 1.25])"
      ]
     },
     "execution_count": 38,
     "metadata": {},
     "output_type": "execute_result"
    }
   ],
   "source": [
    "homo_ss"
   ]
  },
  {
   "cell_type": "code",
   "execution_count": 8,
   "id": "1c06eb3c",
   "metadata": {
    "ExecuteTime": {
     "end_time": "2022-05-27T12:27:38.426339Z",
     "start_time": "2022-05-27T12:15:56.668999Z"
    }
   },
   "outputs": [
    {
     "name": "stderr",
     "output_type": "stream",
     "text": [
      "100%|██████████| 512/512 [11:30<00:00,  1.35s/it]\n"
     ]
    }
   ],
   "source": [
    "# Load a standard ASDM model\n",
    "D, beta, gamma, f, f_args, homo_ss = rdsolver.models.asdm()\n",
    "\n",
    "# Set up the space and time grid\n",
    "n = (32, 32)\n",
    "L = (50, 50)\n",
    "t = np.linspace(0, 50000, 256*2)\n",
    "\n",
    "# Include the estimated params\n",
    "D[0] = 0.03245668485760689 # D_a\n",
    "D[1] = 0.20000000298023224 # D_s\n",
    "beta[0] = 0.0029357795137912035/6.1620588302612305# sigma_a\n",
    "beta[1] = 0.018920402973890305# sigma_s\n",
    "gamma[0,0] = -0.39821332693099976/6.1620588302612305 #mu_a\n",
    "gamma[1,1] = 0.0 #mu_s\n",
    "# rho_a,  rho_s, kappa_a\n",
    "f_args = (0.3968598246574402/6.1620588302612305, 0.01892107166349888, 0.25294479727745056)\n",
    "\n",
    "\n",
    "# Initial condition and solve\n",
    "c0 = rdsolver.initial_condition(uniform_conc=homo_ss, n=n, L=L)\n",
    "c = rdsolver.solve(c0, t, D=D, beta=beta, gamma=gamma, f=f, f_args=f_args, L=L)\n",
    "\n",
    "# Interpolate the solution\n",
    "c_interp = rdsolver.viz.interpolate_concs(c)"
   ]
  },
  {
   "cell_type": "code",
   "execution_count": 46,
   "id": "5749f9e7",
   "metadata": {
    "ExecuteTime": {
     "end_time": "2022-05-29T20:00:41.845711Z",
     "start_time": "2022-05-29T20:00:04.227563Z"
    }
   },
   "outputs": [
    {
     "name": "stderr",
     "output_type": "stream",
     "text": [
      "100%|██████████| 512/512 [00:27<00:00, 18.83it/s]\n"
     ]
    }
   ],
   "source": [
    "D, beta, gamma, f, f_args, homo_ss = rdsolver.models.asdm()\n",
    "\n",
    "# Set up the space and time grid\n",
    "n = (32, 32)\n",
    "L = (50, 50)\n",
    "t = np.linspace(0, 50000, 256*2)\n",
    "\n",
    "# Include the estimated params\n",
    "D = 10*D # D_a, D_s\n",
    "beta = 10*beta # sigma_a, sigma_s\n",
    "gamma = 10*gamma # mu_a, mu_s\n",
    "# rho_a,  rho_s, kappa_a\n",
    "f_args = (10*f_args[0], 10*f_args[1], f_args[2])\n",
    "\n",
    "\n",
    "# Initial condition and solve\n",
    "c0 = rdsolver.initial_condition(uniform_conc=homo_ss, n=n, L=L)\n",
    "c = rdsolver.solve(c0, t, D=D, beta=beta, gamma=gamma, f=f, f_args=f_args, L=L)\n",
    "\n",
    "# Interpolate the solution\n",
    "c_interp = rdsolver.viz.interpolate_concs(c)"
   ]
  },
  {
   "cell_type": "code",
   "execution_count": 8,
   "id": "3c327c64",
   "metadata": {
    "ExecuteTime": {
     "end_time": "2022-05-01T23:34:13.343481Z",
     "start_time": "2022-05-01T23:34:12.424199Z"
    }
   },
   "outputs": [],
   "source": [
    "#with open('../turing.npy', 'wb') as f:\n",
    "#    np.save(f, c)\n",
    "    \n",
    "#with open('../turing_t.npy', 'wb') as f:\n",
    "#    np.save(f, t)\n",
    "   "
   ]
  },
  {
   "cell_type": "code",
   "execution_count": 31,
   "id": "2a44e6dc",
   "metadata": {
    "ExecuteTime": {
     "end_time": "2022-05-27T14:34:51.435224Z",
     "start_time": "2022-05-27T14:33:05.977937Z"
    }
   },
   "outputs": [
    {
     "name": "stderr",
     "output_type": "stream",
     "text": [
      "100%|██████████| 512/512 [00:49<00:00, 10.28it/s]\n"
     ]
    },
    {
     "data": {
      "image/png": "[encoded data removed]",
      "text/plain": [
       "<Figure size 432x432 with 2 Axes>"
      ]
     },
     "metadata": {
      "needs_background": "light"
     },
     "output_type": "display_data"
    }
   ],
   "source": [
    "from matplotlib.animation import FuncAnimation\n",
    "from tqdm import tqdm\n",
    "\n",
    "fig = plt.figure(figsize=(6, 6))\n",
    "ax = fig.add_axes([0.1, 0.1, 0.8, 0.8])\n",
    "\n",
    "\n",
    "title = ax.text(1.5,-0.85, \"Time=0\")\n",
    "\n",
    "#im=plt.imshow((c_interp[0, :,:,0]- np.min(c_interp[0, :,:,0]))/(np.max(c_interp[0, :,:,0]) - np.min(c_interp[0, :,:,0])))#  ,interpolation='none')\n",
    "im=plt.imshow((c[0, :,:,0]- np.min(c[0, :,:,0]))/(np.max(c[0, :,:,0]) - np.min(c[0, :,:,0])))#  ,interpolation='none')\n",
    "fig.colorbar(im)\n",
    "plt.clim(-1, 1)\n",
    "pbar = tqdm(total=len(t))\n",
    "\n",
    "def init():\n",
    "    #im.set_data((c_interp[0, :,:,0]- np.min(c_interp[0, :,:,0]))/(np.max(c_interp[0, :,:,0]) - np.min(c_interp[0, :,:,0])))\n",
    "    im.set_data(c[0, :,:,0])\n",
    "    title.set_text(f\"Time={0}\")\n",
    "    plt.clim(-1, 1)\n",
    "    return [im, title]\n",
    "    \n",
    "def animate(i):    \n",
    "    a=im.get_array()\n",
    "    a=c_interp[0, :,:,i] \n",
    "    #im.set_data((c_interp[0, :,:,i]- np.min(c_interp[0, :,:,i])) /(np.max(c_interp[0, :,:,i]) - np.min(c_interp[0, :,:,i])))\n",
    "    im.set_data(c[0, :,:,i])\n",
    "    title.set_text(f\"Time={i}\")\n",
    "    plt.clim(-1, 1)\n",
    "    #fig.colorbar(im)\n",
    "    pbar.update(1)\n",
    "    if i+1 >= len(t):\n",
    "        pbar.close()\n",
    "    return [im, title]\n",
    "\n",
    "anim = FuncAnimation(fig, animate, init_func=init,\n",
    "                               frames=len(t), interval=10, blit=True)\n",
    "\n",
    "\n",
    "anim.save('turring_2.gif', writer='imagemagick')"
   ]
  },
  {
   "cell_type": "code",
   "execution_count": 43,
   "id": "5ea08d03",
   "metadata": {
    "ExecuteTime": {
     "end_time": "2022-05-29T19:56:19.855345Z",
     "start_time": "2022-05-29T19:56:19.376977Z"
    }
   },
   "outputs": [
    {
     "data": {
      "image/png": "[encoded data removed]",
      "text/plain": [
       "<Figure size 432x288 with 4 Axes>"
      ]
     },
     "metadata": {
      "needs_background": "light"
     },
     "output_type": "display_data"
    }
   ],
   "source": [
    "# Direct solution\n",
    "index = -1#len(t)-1\n",
    "\n",
    "\n",
    "\n",
    "plt.subplot(121)\n",
    "plt.imshow(c[0, :,:,index])\n",
    "plt.colorbar()\n",
    "plt.subplot(122)\n",
    "plt.imshow(c[1, :,:,index])\n",
    "plt.colorbar()\n",
    "#plt.title(f\"Time= {index}\")\n",
    "plt.show()"
   ]
  },
  {
   "cell_type": "code",
   "execution_count": 47,
   "id": "bac67b50",
   "metadata": {
    "ExecuteTime": {
     "end_time": "2022-05-29T20:01:42.890492Z",
     "start_time": "2022-05-29T20:01:42.407368Z"
    }
   },
   "outputs": [
    {
     "data": {
      "image/png": "[encoded data removed]",
      "text/plain": [
       "<Figure size 432x288 with 4 Axes>"
      ]
     },
     "metadata": {
      "needs_background": "light"
     },
     "output_type": "display_data"
    }
   ],
   "source": [
    "# Direct solution\n",
    "index = -1#len(t)-1\n",
    "plt.subplot(121)\n",
    "plt.imshow(c[0, :,:,index])\n",
    "plt.colorbar()\n",
    "plt.subplot(122)\n",
    "plt.imshow(c[1, :,:,index])\n",
    "plt.colorbar()\n",
    "#plt.title(f\"Time= {index}\")\n",
    "plt.show()"
   ]
  },
  {
   "cell_type": "markdown",
   "id": "4ccb8c6e",
   "metadata": {},
   "source": [
    "### Making an animation"
   ]
  },
  {
   "cell_type": "code",
   "execution_count": 27,
   "id": "7c79a79d",
   "metadata": {
    "ExecuteTime": {
     "end_time": "2022-05-27T14:27:52.811566Z",
     "start_time": "2022-05-27T14:27:52.553106Z"
    }
   },
   "outputs": [
    {
     "data": {
      "image/png": "[encoded data removed]",
      "text/plain": [
       "<Figure size 432x288 with 2 Axes>"
      ]
     },
     "metadata": {
      "needs_background": "light"
     },
     "output_type": "display_data"
    }
   ],
   "source": [
    "im= plt.imshow(c[0, :,:,0])\n",
    "bar = plt.colorbar()\n",
    "plt.show()"
   ]
  },
  {
   "cell_type": "code",
   "execution_count": 19,
   "id": "2b2200be",
   "metadata": {
    "ExecuteTime": {
     "end_time": "2022-05-27T14:22:25.593709Z",
     "start_time": "2022-05-27T14:22:25.586939Z"
    }
   },
   "outputs": [
    {
     "data": {
      "text/plain": [
       "<matplotlib.colorbar.Colorbar at 0x7f48c6c93c88>"
      ]
     },
     "execution_count": 19,
     "metadata": {},
     "output_type": "execute_result"
    }
   ],
   "source": [
    "bar"
   ]
  },
  {
   "cell_type": "code",
   "execution_count": 26,
   "id": "ca2e8888",
   "metadata": {
    "ExecuteTime": {
     "end_time": "2022-05-27T14:26:56.642470Z",
     "start_time": "2022-05-27T14:26:56.628224Z"
    }
   },
   "outputs": [
    {
     "ename": "AttributeError",
     "evalue": "'AxesImage' object has no attribute 'vmax'",
     "output_type": "error",
     "traceback": [
      "\u001b[0;31m---------------------------------------------------------------------------\u001b[0m",
      "\u001b[0;31mAttributeError\u001b[0m                            Traceback (most recent call last)",
      "\u001b[0;32m<ipython-input-26-098fe84db047>\u001b[0m in \u001b[0;36m<module>\u001b[0;34m\u001b[0m\n\u001b[0;32m----> 1\u001b[0;31m \u001b[0mim\u001b[0m\u001b[0;34m.\u001b[0m\u001b[0mvmax\u001b[0m\u001b[0;34m\u001b[0m\u001b[0;34m\u001b[0m\u001b[0m\n\u001b[0m",
      "\u001b[0;31mAttributeError\u001b[0m: 'AxesImage' object has no attribute 'vmax'"
     ]
    }
   ],
   "source": [
    "im.vmax"
   ]
  },
  {
   "cell_type": "code",
   "execution_count": null,
   "id": "454a50ab",
   "metadata": {},
   "outputs": [],
   "source": []
  }
 ],
 "metadata": {
  "kernelspec": {
   "display_name": "Python 3",
   "language": "python",
   "name": "python3"
  },
  "language_info": {
   "codemirror_mode": {
    "name": "ipython",
    "version": 3
   },
   "file_extension": ".py",
   "mimetype": "text/x-python",
   "name": "python",
   "nbconvert_exporter": "python",
   "pygments_lexer": "ipython3",
   "version": "3.6.13"
  },
  "varInspector": {
   "cols": {
    "lenName": 16,
    "lenType": 16,
    "lenVar": 40
   },
   "kernels_config": {
    "python": {
     "delete_cmd_postfix": "",
     "delete_cmd_prefix": "del ",
     "library": "var_list.py",
     "varRefreshCmd": "print(var_dic_list())"
    },
    "r": {
     "delete_cmd_postfix": ") ",
     "delete_cmd_prefix": "rm(",
     "library": "var_list.r",
     "varRefreshCmd": "cat(var_dic_list()) "
    }
   },
   "types_to_exclude": [
    "module",
    "function",
    "builtin_function_or_method",
    "instance",
    "_Feature"
   ],
   "window_display": false
  }
 },
 "nbformat": 4,
 "nbformat_minor": 5
}
