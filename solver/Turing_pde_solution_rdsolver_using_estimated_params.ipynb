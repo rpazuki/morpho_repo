{
 "cells": [
  {
   "cell_type": "markdown",
   "id": "f72d3e2b",
   "metadata": {},
   "source": [
    "The following code is from\n",
    "[Link](https://github.com/justinbois/rdsolver/blob/master/notebooks/asdm_example.ipynb)"
   ]
  },
  {
   "cell_type": "code",
   "execution_count": 1,
   "id": "4334c8ca",
   "metadata": {
    "ExecuteTime": {
     "end_time": "2022-05-13T10:12:08.685699Z",
     "start_time": "2022-05-13T10:12:07.487875Z"
    }
   },
   "outputs": [],
   "source": [
    "import numpy as np\n",
    "import numba\n",
    "import scipy.integrate\n",
    "from matplotlib import pyplot as plt\n",
    "\n",
    "import rdsolver"
   ]
  },
  {
   "cell_type": "code",
   "execution_count": 2,
   "id": "156fa565",
   "metadata": {
    "ExecuteTime": {
     "end_time": "2022-05-13T10:12:11.560154Z",
     "start_time": "2022-05-13T10:12:11.551664Z"
    }
   },
   "outputs": [],
   "source": [
    "D, beta, gamma, f, f_args, homo_ss = rdsolver.models.asdm()"
   ]
  },
  {
   "cell_type": "code",
   "execution_count": 3,
   "id": "35fdac24",
   "metadata": {
    "ExecuteTime": {
     "end_time": "2022-05-13T10:12:12.279915Z",
     "start_time": "2022-05-13T10:12:12.267721Z"
    }
   },
   "outputs": [
    {
     "data": {
      "text/plain": [
       "array([0.005, 0.2  ])"
      ]
     },
     "execution_count": 3,
     "metadata": {},
     "output_type": "execute_result"
    }
   ],
   "source": [
    "D"
   ]
  },
  {
   "cell_type": "code",
   "execution_count": 4,
   "id": "6868710c",
   "metadata": {
    "ExecuteTime": {
     "end_time": "2022-05-13T10:12:12.862113Z",
     "start_time": "2022-05-13T10:12:12.857639Z"
    }
   },
   "outputs": [
    {
     "data": {
      "text/plain": [
       "array([0.  , 0.02])"
      ]
     },
     "execution_count": 4,
     "metadata": {},
     "output_type": "execute_result"
    }
   ],
   "source": [
    "beta"
   ]
  },
  {
   "cell_type": "code",
   "execution_count": 5,
   "id": "70fe3c0f",
   "metadata": {
    "ExecuteTime": {
     "end_time": "2022-05-13T10:12:13.280442Z",
     "start_time": "2022-05-13T10:12:13.276818Z"
    }
   },
   "outputs": [
    {
     "data": {
      "text/plain": [
       "array([[-0.01,  0.  ],\n",
       "       [ 0.  ,  0.  ]])"
      ]
     },
     "execution_count": 5,
     "metadata": {},
     "output_type": "execute_result"
    }
   ],
   "source": [
    "gamma"
   ]
  },
  {
   "cell_type": "code",
   "execution_count": 6,
   "id": "9c13f5d7",
   "metadata": {
    "ExecuteTime": {
     "end_time": "2022-05-13T10:12:13.908562Z",
     "start_time": "2022-05-13T10:12:13.901110Z"
    }
   },
   "outputs": [
    {
     "data": {
      "text/plain": [
       "(0.01, 0.02, 0.25)"
      ]
     },
     "execution_count": 6,
     "metadata": {},
     "output_type": "execute_result"
    }
   ],
   "source": [
    "#f()\n",
    "# rho_a, rho_s, kappa_a\n",
    "f_args"
   ]
  },
  {
   "cell_type": "code",
   "execution_count": 7,
   "id": "3f89d9e8",
   "metadata": {
    "ExecuteTime": {
     "end_time": "2022-05-13T10:12:15.032663Z",
     "start_time": "2022-05-13T10:12:15.027108Z"
    }
   },
   "outputs": [
    {
     "data": {
      "text/plain": [
       "array([1.  , 1.25])"
      ]
     },
     "execution_count": 7,
     "metadata": {},
     "output_type": "execute_result"
    }
   ],
   "source": [
    "homo_ss"
   ]
  },
  {
   "cell_type": "code",
   "execution_count": 60,
   "id": "1c06eb3c",
   "metadata": {
    "ExecuteTime": {
     "end_time": "2022-05-13T11:15:48.239680Z",
     "start_time": "2022-05-13T11:15:25.499484Z"
    }
   },
   "outputs": [
    {
     "name": "stderr",
     "output_type": "stream",
     "text": [
      "\n",
      "\n",
      "  0%|          | 0/1024 [00:00<?, ?it/s]\u001b[A\u001b[A\n",
      "\n",
      "  0%|          | 2/1024 [00:00<07:04,  2.41it/s]\u001b[A\u001b[A\n",
      "\n",
      "  0%|          | 3/1024 [00:01<06:06,  2.78it/s]\u001b[A\u001b[A\n",
      "\n",
      "  0%|          | 4/1024 [00:01<05:22,  3.16it/s]\u001b[A\u001b[A\n",
      "\n",
      "  0%|          | 5/1024 [00:01<04:44,  3.59it/s]\u001b[A\u001b[A\n",
      "\n",
      "  1%|          | 6/1024 [00:01<04:09,  4.08it/s]\u001b[A\u001b[A\n",
      "\n",
      "  1%|          | 7/1024 [00:01<03:36,  4.69it/s]\u001b[A\u001b[A\n",
      "\n",
      "  1%|          | 8/1024 [00:02<03:07,  5.42it/s]\u001b[A\u001b[A\n",
      "\n",
      "  1%|          | 9/1024 [00:02<02:41,  6.29it/s]\u001b[A\u001b[A\n",
      "\n",
      "  1%|          | 11/1024 [00:02<02:00,  8.44it/s]\u001b[A\u001b[A\n",
      "\n",
      "  1%|▏         | 14/1024 [00:02<01:22, 12.26it/s]\u001b[A\u001b[A\n",
      "\n",
      "  2%|▏         | 19/1024 [00:02<00:48, 20.72it/s]\u001b[A\u001b[A\n",
      "\n",
      "  5%|▍         | 49/1024 [00:02<00:10, 88.77it/s]\u001b[A\u001b[A\n",
      "\n",
      "  9%|▉         | 95/1024 [00:02<00:05, 184.21it/s]\u001b[A\u001b[A\n",
      "\n",
      " 14%|█▍        | 141/1024 [00:02<00:03, 257.43it/s]\u001b[A\u001b[A\n",
      "\n",
      " 18%|█▊        | 187/1024 [00:02<00:02, 312.59it/s]\u001b[A\u001b[A\n",
      "\n",
      " 23%|██▎       | 233/1024 [00:02<00:02, 353.29it/s]\u001b[A\u001b[A\n",
      "\n",
      " 27%|██▋       | 279/1024 [00:03<00:01, 382.43it/s]\u001b[A\u001b[A\n",
      "\n",
      " 32%|███▏      | 325/1024 [00:03<00:01, 403.37it/s]\u001b[A\u001b[A\n",
      "\n",
      " 36%|███▌      | 370/1024 [00:03<00:01, 414.94it/s]\u001b[A\u001b[A\n",
      "\n",
      " 41%|████      | 416/1024 [00:03<00:01, 426.07it/s]\u001b[A\u001b[A\n",
      "\n",
      " 45%|████▌     | 462/1024 [00:03<00:01, 433.89it/s]\u001b[A\u001b[A\n",
      "\n",
      " 50%|████▉     | 508/1024 [00:03<00:01, 439.48it/s]\u001b[A\u001b[A\n",
      "\n",
      " 54%|█████▍    | 553/1024 [00:03<00:01, 442.01it/s]\u001b[A\u001b[A\n",
      "\n",
      " 58%|█████▊    | 599/1024 [00:03<00:00, 444.31it/s]\u001b[A\u001b[A\n",
      "\n",
      " 63%|██████▎   | 644/1024 [00:03<00:00, 445.75it/s]\u001b[A\u001b[A\n",
      "\n",
      " 67%|██████▋   | 689/1024 [00:04<00:00, 446.34it/s]\u001b[A\u001b[A\n",
      "\n",
      " 72%|███████▏  | 734/1024 [00:04<00:00, 446.16it/s]\u001b[A\u001b[A\n",
      "\n",
      " 76%|███████▌  | 779/1024 [00:04<00:00, 446.50it/s]\u001b[A\u001b[A\n",
      "\n",
      " 80%|████████  | 824/1024 [00:04<00:00, 446.90it/s]\u001b[A\u001b[A\n",
      "\n",
      " 85%|████████▍ | 869/1024 [00:04<00:00, 445.30it/s]\u001b[A\u001b[A\n",
      "\n",
      " 89%|████████▉ | 914/1024 [00:04<00:00, 445.47it/s]\u001b[A\u001b[A\n",
      "\n",
      " 94%|█████████▍| 960/1024 [00:04<00:00, 447.55it/s]\u001b[A\u001b[A\n",
      "\n",
      "100%|██████████| 1024/1024 [00:05<00:00, 193.07it/s]\u001b[A\u001b[A\n"
     ]
    }
   ],
   "source": [
    "# Load a standard ASDM model\n",
    "D, beta, gamma, f, f_args, homo_ss = rdsolver.models.asdm()\n",
    "\n",
    "# Set up the space and time grid\n",
    "n = (32, 32)\n",
    "L = (50, 50)\n",
    "t = np.linspace(0, 2*50000, 2*512)\n",
    "\n",
    "# Include the estimated params\n",
    "D[0] = 0.005 # D_a\n",
    "D[1] = 1.000000013351432e-10 # D_s\n",
    "beta[0] = 0# sigma_a\n",
    "beta[1] = 0.0002879730600398034# sigma_s\n",
    "gamma[0,0] = 0.0 #mu_a\n",
    "gamma[1,1] = 0.0 #mu_s\n",
    "# rho_a,  rho_s, kappa_a\n",
    "f_args = (0.0, 0.2, 86.74993133544922 )\n",
    "\n",
    "\n",
    "# Initial condition and solve\n",
    "c0 = rdsolver.initial_condition(uniform_conc=homo_ss, n=n, L=L)\n",
    "c = rdsolver.solve(c0, t, D=D, beta=beta, gamma=gamma, f=f, f_args=f_args, L=L)\n",
    "\n",
    "# Interpolate the solution\n",
    "c_interp = rdsolver.viz.interpolate_concs(c)"
   ]
  },
  {
   "cell_type": "code",
   "execution_count": 8,
   "id": "3c327c64",
   "metadata": {
    "ExecuteTime": {
     "end_time": "2022-05-01T23:34:13.343481Z",
     "start_time": "2022-05-01T23:34:12.424199Z"
    }
   },
   "outputs": [],
   "source": [
    "#with open('../turing.npy', 'wb') as f:\n",
    "#    np.save(f, c)\n",
    "    \n",
    "#with open('../turing_t.npy', 'wb') as f:\n",
    "#    np.save(f, t)\n",
    "   "
   ]
  },
  {
   "cell_type": "code",
   "execution_count": 37,
   "id": "2a44e6dc",
   "metadata": {
    "ExecuteTime": {
     "end_time": "2022-05-13T10:51:17.585130Z",
     "start_time": "2022-05-13T10:51:17.576665Z"
    }
   },
   "outputs": [
    {
     "data": {
      "text/plain": [
       "1024"
      ]
     },
     "execution_count": 37,
     "metadata": {},
     "output_type": "execute_result"
    }
   ],
   "source": []
  },
  {
   "cell_type": "code",
   "execution_count": 57,
   "id": "5ea08d03",
   "metadata": {
    "ExecuteTime": {
     "end_time": "2022-05-13T11:12:00.028439Z",
     "start_time": "2022-05-13T11:11:59.550747Z"
    }
   },
   "outputs": [
    {
     "data": {
      "image/png": "[encoded data removed]",
      "text/plain": [
       "<Figure size 432x288 with 3 Axes>"
      ]
     },
     "metadata": {
      "needs_background": "light"
     },
     "output_type": "display_data"
    }
   ],
   "source": [
    "# Direct solution\n",
    "index = 512#len(t)-1\n",
    "plt.subplot(131)\n",
    "plt.imshow(c[0, :,:,index])\n",
    "# Interpolated solutions\n",
    "plt.subplot(132)\n",
    "plt.imshow(c_interp[0, :,:,index])\n",
    "plt.subplot(133)\n",
    "plt.imshow(c_interp[1, :,:,index])\n",
    "plt.show()"
   ]
  },
  {
   "cell_type": "code",
   "execution_count": 54,
   "id": "7c3ff925",
   "metadata": {
    "ExecuteTime": {
     "end_time": "2022-05-13T11:09:05.252269Z",
     "start_time": "2022-05-13T11:09:05.206045Z"
    }
   },
   "outputs": [
    {
     "data": {
      "text/plain": [
       "1.8717622427000258e-07"
      ]
     },
     "execution_count": 54,
     "metadata": {},
     "output_type": "execute_result"
    }
   ],
   "source": [
    "np.max(c_interp[1, :,:,index]) - np.min(c_interp[1, :,:,index])"
   ]
  },
  {
   "cell_type": "markdown",
   "id": "4ccb8c6e",
   "metadata": {},
   "source": [
    "### Making an animation"
   ]
  },
  {
   "cell_type": "code",
   "execution_count": 53,
   "id": "5a9abcfd",
   "metadata": {
    "ExecuteTime": {
     "end_time": "2022-05-13T11:07:56.046850Z",
     "start_time": "2022-05-13T11:05:49.021764Z"
    }
   },
   "outputs": [
    {
     "data": {
      "image/png": "[encoded data removed]",
      "text/plain": [
       "<Figure size 432x288 with 1 Axes>"
      ]
     },
     "metadata": {
      "needs_background": "light"
     },
     "output_type": "display_data"
    }
   ],
   "source": [
    "from matplotlib.animation import FuncAnimation\n",
    "\n",
    "fig = plt.figure()\n",
    "\n",
    "im=plt.imshow((c_interp[0, :,:,0]- np.min(c_interp[0, :,:,0]))/(np.max(c_interp[0, :,:,0]) - np.min(c_interp[0, :,:,0])))#  ,interpolation='none')\n",
    "def init():\n",
    "    im.set_data((c_interp[0, :,:,0]- np.min(c_interp[0, :,:,0]))/(np.max(c_interp[0, :,:,0]) - np.min(c_interp[0, :,:,0])))\n",
    "    return [im]\n",
    "    \n",
    "def animate(i):    \n",
    "    a=im.get_array()\n",
    "    a=c_interp[0, :,:,i] \n",
    "    im.set_data((c_interp[0, :,:,i]- np.min(c_interp[0, :,:,i])) /(np.max(c_interp[0, :,:,i]) - np.min(c_interp[0, :,:,i])))\n",
    "    return [im]\n",
    "\n",
    "anim = FuncAnimation(fig, animate, init_func=init,\n",
    "                               frames=len(t), interval=25, blit=True)\n",
    "\n",
    "\n",
    "anim.save('turring_2.gif', writer='imagemagick')"
   ]
  },
  {
   "cell_type": "code",
   "execution_count": 40,
   "id": "7c79a79d",
   "metadata": {
    "ExecuteTime": {
     "end_time": "2022-05-13T10:55:17.285515Z",
     "start_time": "2022-05-13T10:55:17.132846Z"
    }
   },
   "outputs": [
    {
     "data": {
      "image/png": "[encoded data removed]",
      "text/plain": [
       "<Figure size 432x288 with 1 Axes>"
      ]
     },
     "metadata": {
      "needs_background": "light"
     },
     "output_type": "display_data"
    }
   ],
   "source": [
    "plt.imshow(c[0, :,:,0])\n",
    "plt.show()"
   ]
  },
  {
   "cell_type": "code",
   "execution_count": 19,
   "id": "2b2200be",
   "metadata": {
    "ExecuteTime": {
     "end_time": "2022-04-28T13:37:59.349878Z",
     "start_time": "2022-04-28T13:37:59.345712Z"
    }
   },
   "outputs": [
    {
     "data": {
      "text/plain": [
       "0.9765625"
      ]
     },
     "execution_count": 19,
     "metadata": {},
     "output_type": "execute_result"
    }
   ],
   "source": [
    "8000/(32*256)"
   ]
  },
  {
   "cell_type": "code",
   "execution_count": null,
   "id": "ca2e8888",
   "metadata": {},
   "outputs": [],
   "source": []
  }
 ],
 "metadata": {
  "kernelspec": {
   "display_name": "Python 3",
   "language": "python",
   "name": "python3"
  },
  "language_info": {
   "codemirror_mode": {
    "name": "ipython",
    "version": 3
   },
   "file_extension": ".py",
   "mimetype": "text/x-python",
   "name": "python",
   "nbconvert_exporter": "python",
   "pygments_lexer": "ipython3",
   "version": "3.6.13"
  },
  "varInspector": {
   "cols": {
    "lenName": 16,
    "lenType": 16,
    "lenVar": 40
   },
   "kernels_config": {
    "python": {
     "delete_cmd_postfix": "",
     "delete_cmd_prefix": "del ",
     "library": "var_list.py",
     "varRefreshCmd": "print(var_dic_list())"
    },
    "r": {
     "delete_cmd_postfix": ") ",
     "delete_cmd_prefix": "rm(",
     "library": "var_list.r",
     "varRefreshCmd": "cat(var_dic_list()) "
    }
   },
   "types_to_exclude": [
    "module",
    "function",
    "builtin_function_or_method",
    "instance",
    "_Feature"
   ],
   "window_display": false
  }
 },
 "nbformat": 4,
 "nbformat_minor": 5
}
