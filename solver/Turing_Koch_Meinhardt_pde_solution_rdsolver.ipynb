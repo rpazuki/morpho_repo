{
 "cells": [
  {
   "cell_type": "markdown",
   "id": "f72d3e2b",
   "metadata": {},
   "source": [
    "The following code is from\n",
    "[Link](https://github.com/justinbois/rdsolver/blob/master/notebooks/asdm_example.ipynb)"
   ]
  },
  {
   "cell_type": "code",
   "execution_count": 2,
   "id": "4334c8ca",
   "metadata": {
    "ExecuteTime": {
     "end_time": "2022-07-13T13:15:02.742782Z",
     "start_time": "2022-07-13T13:15:00.444827Z"
    }
   },
   "outputs": [],
   "source": [
    "import numpy as np\n",
    "import numba\n",
    "import scipy.integrate\n",
    "from matplotlib import pyplot as plt\n",
    "\n",
    "import rdsolver"
   ]
  },
  {
   "cell_type": "code",
   "execution_count": 3,
   "id": "156fa565",
   "metadata": {
    "ExecuteTime": {
     "end_time": "2022-07-13T13:15:03.383972Z",
     "start_time": "2022-07-13T13:15:03.376901Z"
    }
   },
   "outputs": [],
   "source": [
    "D, beta, gamma, f, f_args, homo_ss = rdsolver.models.asdm()"
   ]
  },
  {
   "cell_type": "code",
   "execution_count": 4,
   "id": "35fdac24",
   "metadata": {
    "ExecuteTime": {
     "end_time": "2022-07-13T13:15:04.689442Z",
     "start_time": "2022-07-13T13:15:04.285346Z"
    }
   },
   "outputs": [
    {
     "data": {
      "text/plain": [
       "array([0.005, 0.2  ])"
      ]
     },
     "execution_count": 4,
     "metadata": {},
     "output_type": "execute_result"
    }
   ],
   "source": [
    "D"
   ]
  },
  {
   "cell_type": "code",
   "execution_count": 5,
   "id": "6868710c",
   "metadata": {
    "ExecuteTime": {
     "end_time": "2022-07-13T13:15:04.887122Z",
     "start_time": "2022-07-13T13:15:04.771074Z"
    }
   },
   "outputs": [
    {
     "data": {
      "text/plain": [
       "array([0.  , 0.02])"
      ]
     },
     "execution_count": 5,
     "metadata": {},
     "output_type": "execute_result"
    }
   ],
   "source": [
    "beta"
   ]
  },
  {
   "cell_type": "code",
   "execution_count": 6,
   "id": "70fe3c0f",
   "metadata": {
    "ExecuteTime": {
     "end_time": "2022-07-13T13:15:05.235989Z",
     "start_time": "2022-07-13T13:15:05.231566Z"
    }
   },
   "outputs": [
    {
     "data": {
      "text/plain": [
       "array([[-0.01,  0.  ],\n",
       "       [ 0.  ,  0.  ]])"
      ]
     },
     "execution_count": 6,
     "metadata": {},
     "output_type": "execute_result"
    }
   ],
   "source": [
    "gamma"
   ]
  },
  {
   "cell_type": "code",
   "execution_count": 7,
   "id": "9c13f5d7",
   "metadata": {
    "ExecuteTime": {
     "end_time": "2022-07-13T13:15:06.236845Z",
     "start_time": "2022-07-13T13:15:06.230930Z"
    }
   },
   "outputs": [
    {
     "data": {
      "text/plain": [
       "(0.01, 0.02, 0.25)"
      ]
     },
     "execution_count": 7,
     "metadata": {},
     "output_type": "execute_result"
    }
   ],
   "source": [
    "#f()\n",
    "# rho_a, rho_s, kappa_a\n",
    "f_args"
   ]
  },
  {
   "cell_type": "code",
   "execution_count": 8,
   "id": "3f89d9e8",
   "metadata": {
    "ExecuteTime": {
     "end_time": "2022-07-13T13:15:07.541707Z",
     "start_time": "2022-07-13T13:15:07.534841Z"
    }
   },
   "outputs": [
    {
     "data": {
      "text/plain": [
       "array([1.  , 1.25])"
      ]
     },
     "execution_count": 8,
     "metadata": {},
     "output_type": "execute_result"
    }
   ],
   "source": [
    "homo_ss"
   ]
  },
  {
   "cell_type": "code",
   "execution_count": 9,
   "id": "1c06eb3c",
   "metadata": {
    "ExecuteTime": {
     "end_time": "2022-07-13T13:15:41.057088Z",
     "start_time": "2022-07-13T13:15:08.775556Z"
    }
   },
   "outputs": [
    {
     "name": "stderr",
     "output_type": "stream",
     "text": [
      "100%|██████████| 512/512 [00:15<00:00, 34.04it/s] \n"
     ]
    }
   ],
   "source": [
    "# Load a standard ASDM model\n",
    "D, beta, gamma, f, f_args, homo_ss = rdsolver.models.asdm()\n",
    "\n",
    "# Set up the space and time grid\n",
    "n = (32, 32)\n",
    "L = (50, 50)\n",
    "t = np.linspace(0, 50000, 512)\n",
    "\n",
    "beta = np.array([0.00, 0.02])\n",
    "f_args = (f_args[0], f_args[1], 1.0)\n",
    "\n",
    "# Initial condition and solve\n",
    "c0 = rdsolver.initial_condition(uniform_conc=homo_ss, n=n, L=L)\n",
    "c = rdsolver.solve(c0, t, D=D, beta=beta, gamma=gamma, f=f, f_args=f_args, L=L)\n",
    "\n",
    "# Interpolate the solution\n",
    "c_interp = rdsolver.viz.interpolate_concs(c)"
   ]
  },
  {
   "cell_type": "code",
   "execution_count": 7,
   "id": "c1ee9775",
   "metadata": {
    "ExecuteTime": {
     "end_time": "2022-05-01T23:34:04.374025Z",
     "start_time": "2022-05-01T23:34:04.369968Z"
    }
   },
   "outputs": [
    {
     "data": {
      "text/plain": [
       "array([49902.15264188, 50000.        ])"
      ]
     },
     "execution_count": 7,
     "metadata": {},
     "output_type": "execute_result"
    }
   ],
   "source": [
    "t[-2:]"
   ]
  },
  {
   "cell_type": "code",
   "execution_count": 34,
   "id": "3c327c64",
   "metadata": {
    "ExecuteTime": {
     "end_time": "2022-06-22T23:06:53.461040Z",
     "start_time": "2022-06-22T23:06:52.573932Z"
    }
   },
   "outputs": [],
   "source": [
    "with open('../turing_sigma_s_0_02_kappa_0.npy', 'wb') as f:\n",
    "    np.save(f, c)\n",
    "    \n",
    "with open('../turing_t_sigma_s_0_02_kappa_0.npy', 'wb') as f:\n",
    "    np.save(f, t)\n",
    "   "
   ]
  },
  {
   "cell_type": "code",
   "execution_count": 13,
   "id": "5ea08d03",
   "metadata": {
    "ExecuteTime": {
     "end_time": "2022-06-22T23:09:17.914974Z",
     "start_time": "2022-06-22T23:09:17.515257Z"
    }
   },
   "outputs": [
    {
     "data": {
      "image/png": "[encoded data removed]",
      "text/plain": [
       "<Figure size 432x288 with 3 Axes>"
      ]
     },
     "metadata": {
      "needs_background": "light"
     },
     "output_type": "display_data"
    }
   ],
   "source": [
    "# Direct solution\n",
    "plt.subplot(131)\n",
    "plt.imshow(c[0, :,:,-1])\n",
    "# Interpolated solutions\n",
    "plt.subplot(132)\n",
    "plt.imshow(c_interp[0, :,:,-1])\n",
    "plt.subplot(133)\n",
    "plt.imshow(c_interp[1, :,:,-1])\n",
    "plt.show()"
   ]
  },
  {
   "cell_type": "markdown",
   "id": "4ccb8c6e",
   "metadata": {},
   "source": [
    "### Making an animation"
   ]
  },
  {
   "cell_type": "code",
   "execution_count": 10,
   "id": "5a9abcfd",
   "metadata": {
    "ExecuteTime": {
     "end_time": "2022-05-01T23:35:05.374872Z",
     "start_time": "2022-05-01T23:34:20.507855Z"
    }
   },
   "outputs": [
    {
     "data": {
      "image/png": "[encoded data removed]",
      "text/plain": [
       "<Figure size 432x288 with 1 Axes>"
      ]
     },
     "metadata": {
      "needs_background": "light"
     },
     "output_type": "display_data"
    }
   ],
   "source": [
    "from matplotlib.animation import FuncAnimation\n",
    "\n",
    "fig = plt.figure()\n",
    "\n",
    "im = im=plt.imshow(c_interp[0, :,:,0])#  ,interpolation='none')\n",
    "def init():\n",
    "    im.set_data(c_interp[0, :,:,0])\n",
    "    return [im]\n",
    "    \n",
    "def animate(i):    \n",
    "    a=im.get_array()\n",
    "    a=c_interp[0, :,:,i] \n",
    "    im.set_array(c_interp[0, :,:,i] )\n",
    "    return [im]\n",
    "\n",
    "anim = FuncAnimation(fig, animate, init_func=init,\n",
    "                               frames=len(t), interval=50, blit=True)\n",
    "\n",
    "\n",
    "anim.save('turring.gif', writer='imagemagick')"
   ]
  },
  {
   "cell_type": "code",
   "execution_count": 28,
   "id": "7c79a79d",
   "metadata": {
    "ExecuteTime": {
     "end_time": "2022-04-27T17:29:27.630763Z",
     "start_time": "2022-04-27T17:29:27.392175Z"
    }
   },
   "outputs": [
    {
     "data": {
      "image/png": "[encoded data removed]",
      "text/plain": [
       "<Figure size 432x288 with 1 Axes>"
      ]
     },
     "metadata": {
      "needs_background": "light"
     },
     "output_type": "display_data"
    }
   ],
   "source": [
    "plt.imshow(c[0, :,:,0])\n",
    "plt.show()"
   ]
  },
  {
   "cell_type": "code",
   "execution_count": null,
   "id": "391c7eb4",
   "metadata": {},
   "outputs": [],
   "source": []
  }
 ],
 "metadata": {
  "hide_input": false,
  "kernelspec": {
   "display_name": "numba",
   "language": "python",
   "name": "numba"
  },
  "language_info": {
   "codemirror_mode": {
    "name": "ipython",
    "version": 3
   },
   "file_extension": ".py",
   "mimetype": "text/x-python",
   "name": "python",
   "nbconvert_exporter": "python",
   "pygments_lexer": "ipython3",
   "version": "3.10.9"
  },
  "varInspector": {
   "cols": {
    "lenName": 16,
    "lenType": 16,
    "lenVar": 40
   },
   "kernels_config": {
    "python": {
     "delete_cmd_postfix": "",
     "delete_cmd_prefix": "del ",
     "library": "var_list.py",
     "varRefreshCmd": "print(var_dic_list())"
    },
    "r": {
     "delete_cmd_postfix": ") ",
     "delete_cmd_prefix": "rm(",
     "library": "var_list.r",
     "varRefreshCmd": "cat(var_dic_list()) "
    }
   },
   "types_to_exclude": [
    "module",
    "function",
    "builtin_function_or_method",
    "instance",
    "_Feature"
   ],
   "window_display": false
  }
 },
 "nbformat": 4,
 "nbformat_minor": 5
}
