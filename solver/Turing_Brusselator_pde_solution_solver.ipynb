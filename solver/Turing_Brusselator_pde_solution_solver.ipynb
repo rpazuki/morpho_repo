{
 "cells": [
  {
   "cell_type": "markdown",
   "id": "26ec9964",
   "metadata": {},
   "source": [
    "> The equations are as follows\n",
    "\n",
    "<h3><center>$\\partial_t u = D_u (\\partial_x^2 + \\partial_y^2)u + A - (B+1)u + u^2v$</center></h3>\n",
    "\n",
    "<h3><center>$\\partial_t v = D_v (\\partial_x^2 + \\partial_y^2)v + Bu - u^2 v$</center></h3>\n",
    "\n",
    "With parameters  :\n",
    "- $D_u = 0.0016, \\quad D_v=0.0131$.\n",
    "- $A = 4.5$.\n",
    "- $B = 6.96$."
   ]
  },
  {
   "cell_type": "code",
   "execution_count": 1,
   "id": "f21e2280",
   "metadata": {
    "ExecuteTime": {
     "end_time": "2022-07-26T10:52:49.113201Z",
     "start_time": "2022-07-26T10:52:47.749458Z"
    }
   },
   "outputs": [],
   "source": [
    "%config Completer.use_jedi = False\n",
    "import numpy as np\n",
    "import numba\n",
    "import sys\n",
    "sys.path.append(\"/end/home/rh2310/morpho_repo/turing_codebase\")\n",
    "from solvers.explicit_Euler import integrate\n",
    "from solvers.turing_models import Brusselator\n",
    "\n",
    "from matplotlib import pyplot as plt"
   ]
  },
  {
   "cell_type": "code",
   "execution_count": 69,
   "id": "908155b1",
   "metadata": {
    "ExecuteTime": {
     "end_time": "2022-07-26T11:05:46.841243Z",
     "start_time": "2022-07-26T11:05:42.282412Z"
    }
   },
   "outputs": [],
   "source": [
    "n = (32, 32)\n",
    "L = (0.01, 0.01)\n",
    "\n",
    "\n",
    "\n",
    "Ds = np.array([0.0016, 0.0131])\n",
    "A, B = 4.5, 13.29\n",
    "\n",
    "c0 = np.random.normal(scale=.1, size=(2, n[0], n[1]))\n",
    "c0[0, :,:] += A\n",
    "c0[1, :,:] += B/A\n",
    "#c0 = data[:, :, :, 0]\n",
    "\n",
    "f_args = (A, B)\n",
    "t = np.linspace(0, 100, 256)\n",
    "\n",
    "dt = 0.001\n",
    "\n",
    "sol = integrate(c0, t, dt, n, L, Ds, Brusselator, f_args)"
   ]
  },
  {
   "cell_type": "code",
   "execution_count": 70,
   "id": "174e098a",
   "metadata": {
    "ExecuteTime": {
     "end_time": "2022-07-26T11:05:48.131993Z",
     "start_time": "2022-07-26T11:05:47.760499Z"
    }
   },
   "outputs": [
    {
     "data": {
      "image/png": "[encoded data removed]",
      "text/plain": [
       "<Figure size 576x288 with 4 Axes>"
      ]
     },
     "metadata": {
      "needs_background": "light"
     },
     "output_type": "display_data"
    }
   ],
   "source": [
    "index = -1\n",
    "_ = plt.figure(figsize=(8,4))\n",
    "plt.subplot(121)\n",
    "plt.imshow(sol[0,:,:, index])\n",
    "plt.colorbar(shrink=.75)\n",
    "plt.subplot(122)\n",
    "plt.imshow(sol[1,:,:, index])\n",
    "plt.colorbar(shrink=.75)\n",
    "plt.show()"
   ]
  },
  {
   "cell_type": "code",
   "execution_count": 72,
   "id": "c116e6d0",
   "metadata": {
    "ExecuteTime": {
     "end_time": "2022-07-26T11:07:16.388138Z",
     "start_time": "2022-07-26T11:07:15.650640Z"
    }
   },
   "outputs": [],
   "source": [
    "with open('../turing_Brusselator.npy', 'wb') as f:\n",
    "    np.save(f, sol)\n",
    "    \n",
    "with open('../turing_t_Brusselator.npy', 'wb') as f:\n",
    "    np.save(f, t)"
   ]
  },
  {
   "cell_type": "code",
   "execution_count": null,
   "id": "23424089",
   "metadata": {},
   "outputs": [],
   "source": []
  }
 ],
 "metadata": {
  "kernelspec": {
   "display_name": "Python 3 (ipykernel)",
   "language": "python",
   "name": "python3"
  },
  "language_info": {
   "codemirror_mode": {
    "name": "ipython",
    "version": 3
   },
   "file_extension": ".py",
   "mimetype": "text/x-python",
   "name": "python",
   "nbconvert_exporter": "python",
   "pygments_lexer": "ipython3",
   "version": "3.10.4"
  },
  "varInspector": {
   "cols": {
    "lenName": 16,
    "lenType": 16,
    "lenVar": 40
   },
   "kernels_config": {
    "python": {
     "delete_cmd_postfix": "",
     "delete_cmd_prefix": "del ",
     "library": "var_list.py",
     "varRefreshCmd": "print(var_dic_list())"
    },
    "r": {
     "delete_cmd_postfix": ") ",
     "delete_cmd_prefix": "rm(",
     "library": "var_list.r",
     "varRefreshCmd": "cat(var_dic_list()) "
    }
   },
   "types_to_exclude": [
    "module",
    "function",
    "builtin_function_or_method",
    "instance",
    "_Feature"
   ],
   "window_display": false
  }
 },
 "nbformat": 4,
 "nbformat_minor": 5
}
