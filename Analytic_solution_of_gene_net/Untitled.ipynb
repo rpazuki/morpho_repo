{
 "cells": [
  {
   "cell_type": "code",
   "execution_count": 2,
   "id": "5dab4035",
   "metadata": {
    "ExecuteTime": {
     "end_time": "2024-01-21T17:38:04.831509Z",
     "start_time": "2024-01-21T17:38:04.126354Z"
    }
   },
   "outputs": [],
   "source": [
    "from collections import Counter\n",
    "from math import prod\n",
    "import scipy as sp\n",
    "from scipy import special\n",
    "import numpy as np\n",
    "import matplotlib.pyplot as plt"
   ]
  },
  {
   "cell_type": "code",
   "execution_count": 3,
   "id": "80083222",
   "metadata": {
    "ExecuteTime": {
     "end_time": "2024-01-21T17:38:06.588733Z",
     "start_time": "2024-01-21T17:38:06.573572Z"
    },
    "code_folding": [
     23
    ],
    "scrolled": false
   },
   "outputs": [
    {
     "name": "stdout",
     "output_type": "stream",
     "text": [
      "1 [(1,)]\n",
      "2 [(2,), (1, 1)]\n",
      "3 [(3,), (1, 2), (1, 1, 1)]\n",
      "4 [(4,), (1, 3), (1, 1, 2), (1, 1, 1, 1), (2, 2)]\n",
      "5 [(5,), (1, 4), (1, 1, 3), (1, 1, 1, 2), (1, 1, 1, 1, 1), (1, 2, 2), (2, 3)]\n",
      "\n",
      "\n",
      "1 [[(1, 1, 1)]]\n",
      "2 [[(2, 1, 1)], [(1, 2, 2)]]\n",
      "3 [[(3, 1, 1)], [(1, 1, 1), (2, 1, 1)], [(1, 3, 6)]]\n",
      "4 [[(4, 1, 1)], [(1, 1, 1), (3, 1, 1)], [(1, 2, 2), (2, 1, 1)], [(1, 4, 24)], [(2, 2, 2)]]\n",
      "5 [[(5, 1, 1)], [(1, 1, 1), (4, 1, 1)], [(1, 2, 2), (3, 1, 1)], [(1, 3, 6), (2, 1, 1)], [(1, 5, 120)], [(1, 1, 1), (2, 2, 2)], [(2, 1, 1), (3, 1, 1)]]\n"
     ]
    }
   ],
   "source": [
    "def partitions(n , I=1):\n",
    "    \"\"\"Enumerate all the integer parition of n\"\"\"\n",
    "    yield (n,)\n",
    "    for i in range(I, n//2 + 1):\n",
    "        for p in partitions(n-i, i):\n",
    "            yield (i,) + p\n",
    "\n",
    "def degenerate_partitions(n):\n",
    "    \"\"\"Enumerate all the integer parition of n as (i, count, count!)\n",
    "       (it turns the degeneracy to count)\n",
    "    \"\"\"\n",
    "    for partition in partitions(n):\n",
    "        #yield [(k, count, sp.special.factorial(count, exact=True)) for k, count in Counter(partition).items()]\n",
    "        yield [(k, count, prod(range(1, count+1)) ) for k, count in Counter(partition).items()]\n",
    "\n",
    "def degenerate_partitions_lookup(n):\n",
    "    \"\"\"Create a lookup table for all partitions of 1 to n.\n",
    "    \n",
    "       For each k \\in [1,n], it will create the paritiotns P_k\n",
    "       such that i_1 + i_2 + i_j = k.\n",
    "       \n",
    "       return:\n",
    "       for each element in P_k,it returns a tuple and a list\n",
    "       ( \\sum_j i_j ,[ (i_1, n_1, n_1!), ..., (i_j, n_j, n_j!)])\n",
    "        where i_j is the partioned element, n_j is degeneracy and n_j! is\n",
    "        the degenarcy factorial. \n",
    "        The first element of the tuple is the sum of degeneracies\n",
    "    \"\"\"\n",
    "    def partion_to_list(partition):\n",
    "        partition = list(partition)\n",
    "        # since element of the parition are (i_j, n_j, n_j!), so, we add all n_j\n",
    "        degeneracy_sum = sum(map(lambda t: t[1], partition)) \n",
    "        return (degeneracy_sum, partition)\n",
    "    for k in range(1, n+1): \n",
    "        yield [partion_to_list(partition) for partition in degenerate_partitions(k)]            \n",
    "        \n",
    "        \n",
    "        \n",
    "# def degenerate_partitions2(n):\n",
    "#     \"\"\"Enumerate all the integer parition of n as (i, count)\n",
    "#        (it turns the degeneracy to count)\n",
    "#     \"\"\"\n",
    "#     for partition in partitions(n):\n",
    "#         yield [(k, count) for k, count in Counter(partition).items()]        \n",
    "        \n",
    "        \n",
    "def multinomial(tup):\n",
    "    \"\"\"Multinomial coefficients for a tuple of integer\"\"\"\n",
    "    res, i = 1, sum(tup)\n",
    "    i0 = tup.index(max(tup))\n",
    "    for a in tup[:i0] + tup[i0+1:]:\n",
    "        for j in range(1,a+1):\n",
    "            res *= i\n",
    "            res //= j\n",
    "            i -= 1\n",
    "    return res        \n",
    "\n",
    "\n",
    "    \n",
    "for n in range(1,6):\n",
    "    print(n, list(partitions(n)))\n",
    "    #print([multinomial(p) for p in partitions(n)])\n",
    "\n",
    "print()\n",
    "print()\n",
    "for n in range(1,6):\n",
    "    print(n, list(degenerate_partitions(n)))\n"
   ]
  },
  {
   "cell_type": "code",
   "execution_count": 7,
   "id": "c70d5929",
   "metadata": {
    "ExecuteTime": {
     "end_time": "2024-01-21T17:40:38.966540Z",
     "start_time": "2024-01-21T17:40:38.957869Z"
    }
   },
   "outputs": [
    {
     "data": {
      "text/plain": [
       "[[(2, 1, 1)], [(1, 2, 2)]]"
      ]
     },
     "execution_count": 7,
     "metadata": {},
     "output_type": "execute_result"
    }
   ],
   "source": [
    "list(degenerate_partitions(2))"
   ]
  },
  {
   "cell_type": "code",
   "execution_count": null,
   "id": "d6f02a4a",
   "metadata": {},
   "outputs": [],
   "source": []
  },
  {
   "cell_type": "code",
   "execution_count": 1119,
   "id": "11ac7f4f",
   "metadata": {
    "ExecuteTime": {
     "end_time": "2023-12-22T02:05:56.915148Z",
     "start_time": "2023-12-22T01:47:00.570572Z"
    }
   },
   "outputs": [],
   "source": [
    "one_houndred_lookup = list(degenerate_partitions_lookup(80))"
   ]
  },
  {
   "cell_type": "code",
   "execution_count": 42,
   "id": "13259c60",
   "metadata": {
    "ExecuteTime": {
     "end_time": "2024-01-21T18:17:10.566428Z",
     "start_time": "2024-01-21T18:17:01.860307Z"
    }
   },
   "outputs": [],
   "source": [
    "one_houndred_lookup2 = list(degenerate_partitions_lookup(50))"
   ]
  },
  {
   "cell_type": "code",
   "execution_count": 1123,
   "id": "46fe88e1",
   "metadata": {
    "ExecuteTime": {
     "end_time": "2023-12-22T02:41:57.139814Z",
     "start_time": "2023-12-22T02:15:55.104750Z"
    }
   },
   "outputs": [],
   "source": [
    "import pickle\n",
    "import bz2\n",
    "with bz2.BZ2File('lookup_80.pbz2', 'wb') as f:\n",
    "    pickle.dump(one_houndred_lookup, f)"
   ]
  },
  {
   "cell_type": "code",
   "execution_count": 4,
   "id": "870f203d",
   "metadata": {
    "ExecuteTime": {
     "end_time": "2023-12-30T00:34:52.307620Z",
     "start_time": "2023-12-30T00:21:46.375765Z"
    }
   },
   "outputs": [],
   "source": [
    "import pickle\n",
    "import bz2\n",
    "with bz2.BZ2File('lookup_80.pbz2', 'rb') as f:\n",
    "    one_houndred_lookup = pickle.load(f)"
   ]
  },
  {
   "cell_type": "code",
   "execution_count": 5,
   "id": "d4abc95f",
   "metadata": {
    "ExecuteTime": {
     "end_time": "2024-01-21T17:38:23.828891Z",
     "start_time": "2024-01-21T17:38:23.814316Z"
    },
    "code_folding": []
   },
   "outputs": [],
   "source": [
    "def composition(f_0, f_s, g_s, n_max):\n",
    "    assert len(f_s) >= n_max\n",
    "    assert len(g_s) >= n_max\n",
    "    coefs = [f_0]\n",
    "    for n in range(1, n_max):        \n",
    "        c = 0\n",
    "        for partition in degenerate_partitions(n):\n",
    "            partition = list(partition)            \n",
    "            # t is (i, count, count!), so, we add all counts\n",
    "            degeneracy_sum = sum(map(lambda t: t[1], partition))        \n",
    "            # t is (i, count, count!). Here, we find (g[i]^count)/count!\n",
    "            g_coef_prod = prod(map(lambda t: (g_s[t[0]-1] ** t[1])/t[2], partition))\n",
    "            # coefficents \\time the derivative f^(n) at g_0\n",
    "            c += g_coef_prod*f_s[degeneracy_sum-1]\n",
    "        coefs.append(c)\n",
    "    return coefs\n",
    "\n",
    "def composition_fast(f_0, f_s, g_s, lookup, n_max):\n",
    "    #assert len(f_s) >= len(lookup)\n",
    "    #assert len(g_s) >= len(lookup)\n",
    "    coefs = [f_0]\n",
    "    for P_K in lookup[:n_max]:\n",
    "        c = sum([ prod(map(lambda t: (g_s[t[0]-1] ** t[1])/t[2], partition))*f_s[degeneracy_sum-1] \n",
    "                 for degeneracy_sum, partition in P_K])\n",
    "        coefs.append(c)\n",
    "    return coefs\n",
    "\n",
    "def composition_fast_np(f_0, f_s, g_s, lookup, n_max):\n",
    "    #assert len(f_s) >= len(lookup)\n",
    "    #assert len(g_s) >= len(lookup) \n",
    "    \n",
    "    return [f_0] +[\n",
    "            np.sum(\n",
    "                [prod(map(lambda t: (g_s[t[0]-1] ** t[1])/t[2], partition))*f_s[degeneracy_sum-1] \n",
    "                   for degeneracy_sum, partition in P_K]\n",
    "                  ) \n",
    "                   for P_K in lookup[:n_max]\n",
    "            ]\n",
    " \n",
    "def create_power_series(coefs):\n",
    "    max_n = len(coefs)\n",
    "    def power_series(x):\n",
    "        return np.sum([ c*(x ** n) for n, c in zip(range(max_n), coefs)])\n",
    "    return power_series\n",
    "\n",
    "def create_power_series_np(coefs):\n",
    "    max_n = len(coefs)\n",
    "    ns = np.arange(0, len(coefs), 1)[np.newaxis, :]\n",
    "    def power_series(x):\n",
    "        return np.einsum('j,ij->i', coefs, np.power(x[:, np.newaxis], ns))\n",
    "    return power_series"
   ]
  },
  {
   "cell_type": "code",
   "execution_count": 27,
   "id": "6be41a33",
   "metadata": {
    "ExecuteTime": {
     "end_time": "2024-01-21T18:00:52.864425Z",
     "start_time": "2024-01-21T18:00:52.854171Z"
    }
   },
   "outputs": [
    {
     "data": {
      "text/plain": [
       "[0, 0.0, 0.0, 1.0, 0.0, 0.0]"
      ]
     },
     "execution_count": 27,
     "metadata": {},
     "output_type": "execute_result"
    }
   ],
   "source": [
    "f_0 = 0\n",
    "f_s = [0,0,6,0,0,0,0,0]\n",
    "g_s = [1,0,0,0,0,0,0,0]\n",
    "composition(f_0, f_s, g_s,6)"
   ]
  },
  {
   "cell_type": "code",
   "execution_count": null,
   "id": "c41026ba",
   "metadata": {},
   "outputs": [],
   "source": []
  },
  {
   "cell_type": "code",
   "execution_count": 6,
   "id": "5f072c8e",
   "metadata": {
    "ExecuteTime": {
     "end_time": "2023-12-30T00:20:17.760935Z",
     "start_time": "2023-12-30T00:20:17.751074Z"
    }
   },
   "outputs": [
    {
     "data": {
      "text/plain": [
       "([0, 10.0, 120.0, 930.0], [0, 10.0, 120.0, 930.0])"
      ]
     },
     "execution_count": 6,
     "metadata": {},
     "output_type": "execute_result"
    }
   ],
   "source": [
    "f_0 = 0\n",
    "f_s = [1,2,3,4]\n",
    "g_s = [10,20,30,40]\n",
    "composition(f_0, f_s, g_s,4), composition_fast(f_0, f_s, g_s, one_houndred_lookup, 3)"
   ]
  },
  {
   "cell_type": "code",
   "execution_count": 30,
   "id": "4595fed9",
   "metadata": {
    "ExecuteTime": {
     "end_time": "2024-01-21T18:11:31.587566Z",
     "start_time": "2024-01-21T18:11:29.934901Z"
    }
   },
   "outputs": [
    {
     "name": "stdout",
     "output_type": "stream",
     "text": [
      "[-2.0, 0.0, 2.0, 1.0, -0.6666666666666666, -0.5, 0.08888888888888888, 0.10833333333333334, -0.006349206349206348, -0.013558201058201054, 0.0002821869488536155, 0.0011094576719576717, -8.551119662230774e-06, -6.400813692480358e-05, 1.8793669587320383e-07, 2.743210456504107e-06, -3.1322782645533972e-09, -9.07680099148353e-08, 4.094481391573068e-11, 2.3886318891878983e-09, -4.3099804121821766e-13, -5.118496917146405e-11, 3.731584772452101e-15, 9.104045902383677e-13, -2.7040469365594935e-17, -1.3656068853962333e-14, 1.6640288840366114e-19, 1.7507780582058093e-16, -8.80438562982334e-22, -1.9405175521992355e-18, 4.047993393022225e-24, 1.8779202118057848e-20, -1.6322554004121876e-26, -1.600500180516301e-22, 5.819092336585339e-29, 1.2104623213988835e-24, -1.8473309005032823e-31, -8.178799468911377e-27, 5.255564439554146e-34, 4.966882268569661e-29, -1.347580625526704e-36, -2.725728074215058e-31, 3.130268584266444e-39]\n"
     ]
    }
   ],
   "source": [
    "f_x = lambda x: x**3 + 2*x**2 - 2\n",
    "f_1_x = lambda x: 3*x**2 + 4*x\n",
    "f_2_x = lambda x: 3*2*x + 4\n",
    "f_3_x = lambda x: 3*2\n",
    "#g_x = lambda x: 2*x+1\n",
    "g_x = lambda x: np.sin(x)\n",
    "g_0 = g_x(0.0)\n",
    "f_0 = f_x(g_0)\n",
    "f_s = [f_1_x(g_0), f_2_x(g_0), f_3_x(g_0)] + [0]*100\n",
    "#g_s = [2, 0, 0, 0] + [0]*20\n",
    "g_s = [(-1)**(i//2)/sp.special.factorial(i, exact=True) if i%2==1 else 0  for i in range(1, 101)] \n",
    "coefs=composition(f_0, f_s, g_s,43)\n",
    "#coefs=composition_fast_np(f_0, f_s, g_s, one_houndred_lookup, 60)\n",
    "print(coefs)\n",
    "\n"
   ]
  },
  {
   "cell_type": "code",
   "execution_count": 31,
   "id": "af0a1e36",
   "metadata": {
    "ExecuteTime": {
     "end_time": "2024-01-21T18:11:35.833040Z",
     "start_time": "2024-01-21T18:11:35.827824Z"
    }
   },
   "outputs": [],
   "source": [
    "f_est = create_power_series_np(coefs)"
   ]
  },
  {
   "cell_type": "code",
   "execution_count": 34,
   "id": "6bbf3a6b",
   "metadata": {
    "ExecuteTime": {
     "end_time": "2024-01-21T18:12:01.780803Z",
     "start_time": "2024-01-21T18:12:01.650868Z"
    }
   },
   "outputs": [
    {
     "data": {
      "text/plain": [
       "[<matplotlib.lines.Line2D at 0x7fd67f03ba50>]"
      ]
     },
     "execution_count": 34,
     "metadata": {},
     "output_type": "execute_result"
    },
    {
     "data": {
      "image/png": "[encoded data removed]",
      "text/plain": [
       "<Figure size 640x480 with 1 Axes>"
      ]
     },
     "metadata": {},
     "output_type": "display_data"
    }
   ],
   "source": [
    "#x_s = np.linspace(-8,8, 400)\n",
    "x_s = np.linspace(-6,6, 400)\n",
    "plt.plot(x_s, f_x(g_x(x_s)))\n",
    "plt.plot(x_s, f_est(x_s))\n",
    "#plt.plot(x_s, [f_est2(x) for x in x_s])"
   ]
  },
  {
   "cell_type": "code",
   "execution_count": 23,
   "id": "fa8a2b86",
   "metadata": {
    "ExecuteTime": {
     "end_time": "2024-01-21T17:58:03.334822Z",
     "start_time": "2024-01-21T17:58:02.370051Z"
    }
   },
   "outputs": [
    {
     "name": "stdout",
     "output_type": "stream",
     "text": [
      "[-0.9092974268256817, 0.0, -0.8322936730942848, -0.4161468365471424, 1.8185948536513634, 1.8185948536513634, 1.009511162142364, 0.8322936730942848, -0.19005144800331203, -1.1430387630097185, -1.0202699165715863, -0.5805303666399888, -0.23449217920910437, 0.10376370163780099, 0.27898904777686107, 0.23558903446089352, 0.1254877134460405, 0.03830022652501383, -0.016618193210555, -0.03611964049771851, -0.029130110828553886, -0.014902914912567356, -0.00424167029880204, 0.001293550021287304, 0.002860376442181345, 0.0022492372711202004, 0.0011328234824146308, 0.00033027992486721786, -5.1827051647290655e-05, -0.0001507620973173275, -0.00011881354527214076, -5.9982027493822244e-05, -1.8522010599626354e-05, 5.915643362717559e-07, 5.569077766286206e-06, 4.549829715702192e-06, 2.336158559984919e-06, 7.701283769728093e-07, 4.967491793348216e-08, -1.4815209369926988e-07]\n"
     ]
    }
   ],
   "source": [
    "f_x = lambda x: np.sin(x)\n",
    "f_1_x = lambda x: np.cos(x)\n",
    "f_2_x = lambda x: -np.sin(x)\n",
    "f_3_x = lambda x: -np.cos(x)\n",
    "\n",
    "g_x = lambda x: x**3 + 2*x**2 - 2\n",
    "g_0 = g_x(0.0)\n",
    "f_0 = f_x(g_0)\n",
    "f_s = [f_1_x(g_0), f_2_x(g_0), f_3_x(g_0), f_x(g_0)]*80\n",
    "\n",
    "g_s = [0, 2, 1, 0] + [0]*76 \n",
    "coefs=composition(f_0, f_s, g_s,40)\n",
    "#coefs=composition_fast_np(f_0, f_s, g_s, one_houndred_lookup, 65)\n",
    "print(coefs)\n"
   ]
  },
  {
   "cell_type": "code",
   "execution_count": 24,
   "id": "88c82baa",
   "metadata": {
    "ExecuteTime": {
     "end_time": "2024-01-21T17:58:06.173728Z",
     "start_time": "2024-01-21T17:58:06.168737Z"
    }
   },
   "outputs": [],
   "source": [
    "f_est = create_power_series_np(coefs)"
   ]
  },
  {
   "cell_type": "code",
   "execution_count": 25,
   "id": "1a75acf3",
   "metadata": {
    "ExecuteTime": {
     "end_time": "2024-01-21T17:58:23.696098Z",
     "start_time": "2024-01-21T17:58:23.497385Z"
    }
   },
   "outputs": [
    {
     "data": {
      "text/plain": [
       "[<matplotlib.lines.Line2D at 0x7fd67f342790>]"
      ]
     },
     "execution_count": 25,
     "metadata": {},
     "output_type": "execute_result"
    },
    {
     "data": {
      "image/png": "[encoded data removed]",
      "text/plain": [
       "<Figure size 640x480 with 1 Axes>"
      ]
     },
     "metadata": {},
     "output_type": "display_data"
    }
   ],
   "source": [
    "#x_s = np.linspace(-1.7, 1.7, 400)\n",
    "x_s = np.linspace(-.5, .5, 400)\n",
    "plt.plot(x_s, f_x(g_x(x_s)))\n",
    "plt.plot(x_s, f_est(x_s))"
   ]
  },
  {
   "cell_type": "markdown",
   "id": "066d1750",
   "metadata": {
    "ExecuteTime": {
     "end_time": "2024-01-21T18:12:53.243762Z",
     "start_time": "2024-01-21T18:12:53.232507Z"
    }
   },
   "source": [
    "# Solve the\n",
    "### <h2><center>$\\frac{dx}{dt} + \\mu x - b = f(x).$</center></h2>\n",
    "### When\n",
    "<h3><center>$x(t) = \\sum_{i \\ge 0} a_i t^i$</center></h3>\n",
    "\n",
    "### The solution will be\n",
    "\n",
    "<h3><center>$i = 0, \\qquad a_1 = b-\\mu a_0  + V C_0(a_0)$</center></h3>\n",
    "<h3><center>$i \\ge 1, \\qquad a_{i+1} = \\frac{1}{i+1}( -\\mu a_i + V C_i(a_0 ))$</center></h3>\n",
    "\n",
    "\n",
    "### for\n",
    "\n",
    "<h3><center>$ C_i(a_0 ) = \\sum_{P_i} \\frac{a_1^{n_1} \\dots a_i^{n_i}}{n_1! \\dots n_i!} f^{n_1+\\dots+n_i}(a_0),$</center></h3>\n",
    "and $ P_i$ is the set of all partitions of $i$."
   ]
  },
  {
   "cell_type": "code",
   "execution_count": 287,
   "id": "5e2edd0d",
   "metadata": {
    "ExecuteTime": {
     "end_time": "2024-01-22T19:55:02.825741Z",
     "start_time": "2024-01-22T19:55:02.810449Z"
    }
   },
   "outputs": [],
   "source": [
    "def C_i(a_s, f_s):\n",
    "    i = len(a_s)\n",
    "    c = 0\n",
    "    for partition in degenerate_partitions(i):\n",
    "        partition = list(partition)            \n",
    "        # t is (i, count, count!), so, we add all counts\n",
    "        degeneracy_sum = sum(map(lambda t: t[1], partition))        \n",
    "        # t is (i, count, count!). Here, we find (g[i]^count)/count!\n",
    "        a_coef_prod = prod(map(lambda t: (a_s[t[0]-1] ** t[1])/t[2], partition))\n",
    "        # coefficents \\time the derivative f^(n) at g_0\n",
    "        c += a_coef_prod*f_s[degeneracy_sum-1]\n",
    "    return c\n",
    "\n",
    "def C_i_fast(a_s, f_s, i, lookup):    \n",
    "    coefs = [f_0]\n",
    "    P_K = lookup[i-1]    \n",
    "    return sum([ prod(map(lambda t: (a_s[t[0]-1] ** t[1])/t[2], partition))*f_s[degeneracy_sum-1] \n",
    "                 for degeneracy_sum, partition in P_K])\n",
    "\n",
    "def X_t_coefs(f_s, a_0, mu, b, i_max, V=1.0):\n",
    "    c_0 = f_s[0]    \n",
    "    a_s = [b - mu*a_0 + V * c_0]\n",
    "    for i in range(1, i_max+1):\n",
    "        c_i = C_i(a_s, f_s[1:])\n",
    "        a_i_1 = (1/(i+1))*(- mu*a_s[-1] + V * c_i)\n",
    "        a_s.append(a_i_1)\n",
    "    return [a_0] + a_s\n",
    "\n",
    "def X_t_coefs_fast(f_s, a_0, mu, b, i_max, lookup, V=1.0):\n",
    "    c_0 = f_s[0]    \n",
    "    a_s = [b - mu*a_0 + V * c_0]\n",
    "    for i in range(1, i_max+1):\n",
    "        c_i = C_i_fast(a_s, f_s[1:], i, lookup)\n",
    "        a_i_1 = (1/(i+1))*(- mu*a_s[-1] + V * c_i)\n",
    "        a_s.append(a_i_1)\n",
    "    return [a_0] + a_s"
   ]
  },
  {
   "cell_type": "code",
   "execution_count": 1216,
   "id": "af034f88",
   "metadata": {
    "ExecuteTime": {
     "end_time": "2023-12-22T10:33:32.450338Z",
     "start_time": "2023-12-22T10:32:59.350157Z"
    }
   },
   "outputs": [],
   "source": [
    "f_x = lambda x: x**3 #+ x**2 - x - 1\n",
    "f_1_x = lambda x: 3*x**2 #+ 2*x -1\n",
    "f_2_x = lambda x: 3*2*x #+ 2\n",
    "f_3_x = lambda x: 3*2\n",
    "\n",
    "a_0 = 0\n",
    "f_s = [f_x(a_0), f_1_x(a_0), f_2_x(a_0), f_3_x(a_0)] + [0]*100\n",
    "b=.5\n",
    "mu=2\n",
    "coefs=X_t_coefs_fast(f_s, a_0, mu, b, 70, one_houndred_lookup)\n",
    "\n",
    "def dxdt(x, t):\n",
    "    return b - mu*x + f_x(x)"
   ]
  },
  {
   "cell_type": "code",
   "execution_count": 1217,
   "id": "76bb3f18",
   "metadata": {
    "ExecuteTime": {
     "end_time": "2023-12-22T10:34:23.443051Z",
     "start_time": "2023-12-22T10:34:23.436655Z"
    }
   },
   "outputs": [],
   "source": [
    "f_est = create_power_series_np(coefs[:-3])\n",
    "f_est2 = create_power_series_np(coefs)"
   ]
  },
  {
   "cell_type": "code",
   "execution_count": 1226,
   "id": "02f8d4dd",
   "metadata": {
    "ExecuteTime": {
     "end_time": "2023-12-22T10:35:22.460657Z",
     "start_time": "2023-12-22T10:35:22.304791Z"
    }
   },
   "outputs": [
    {
     "data": {
      "text/plain": [
       "<matplotlib.legend.Legend at 0x7fd2abf99910>"
      ]
     },
     "execution_count": 1226,
     "metadata": {},
     "output_type": "execute_result"
    },
    {
     "data": {
      "image/png": "[encoded data removed]",
      "text/plain": [
       "<Figure size 640x480 with 1 Axes>"
      ]
     },
     "metadata": {},
     "output_type": "display_data"
    }
   ],
   "source": [
    "from scipy.integrate import odeint\n",
    "\n",
    "x_s = np.linspace(0.0,1.05, 400)\n",
    "\n",
    "start=300\n",
    "plt.plot(x_s[start:], odeint(dxdt, a_0, x_s)[start:] ,label=\"Orig\")\n",
    "plt.plot(x_s[start:], f_est(x_s)[start:],label=\"1\")\n",
    "plt.plot(x_s[start:], f_est2(x_s)[start:],label=\"2\");plt.grid();plt.legend()"
   ]
  },
  {
   "cell_type": "code",
   "execution_count": 841,
   "id": "ffeb160a",
   "metadata": {
    "ExecuteTime": {
     "end_time": "2023-12-21T16:52:37.873254Z",
     "start_time": "2023-12-21T16:51:52.035812Z"
    }
   },
   "outputs": [],
   "source": [
    "f_x = lambda x: np.sin(x)\n",
    "f_1_x = lambda x: np.cos(x)\n",
    "f_2_x = lambda x: -np.sin(x)\n",
    "f_3_x = lambda x: -np.cos(x)\n",
    "\n",
    "a_0 = 0\n",
    "f_s = [f_x(a_0), f_1_x(a_0), f_2_x(a_0), f_3_x(a_0)] + [0]*100\n",
    "b=.5\n",
    "mu=2\n",
    "coefs=X_t_coefs_fast(f_s, a_0, mu, b, 70, one_houndred_lookup)\n",
    "\n",
    "def dxdt(x, t):\n",
    "    return b - mu*x + f_x(x)"
   ]
  },
  {
   "cell_type": "code",
   "execution_count": 842,
   "id": "70492f15",
   "metadata": {
    "ExecuteTime": {
     "end_time": "2023-12-21T16:52:45.961947Z",
     "start_time": "2023-12-21T16:52:45.956412Z"
    }
   },
   "outputs": [],
   "source": [
    "f_est = create_power_series_np(coefs[:-3])\n",
    "f_est2 = create_power_series_np(coefs)"
   ]
  },
  {
   "cell_type": "code",
   "execution_count": 853,
   "id": "99fb71a6",
   "metadata": {
    "ExecuteTime": {
     "end_time": "2023-12-21T20:52:52.422755Z",
     "start_time": "2023-12-21T20:52:52.258182Z"
    }
   },
   "outputs": [
    {
     "data": {
      "text/plain": [
       "<matplotlib.legend.Legend at 0x7fd1a82d37d0>"
      ]
     },
     "execution_count": 853,
     "metadata": {},
     "output_type": "execute_result"
    },
    {
     "data": {
      "image/png": "[encoded data removed]",
      "text/plain": [
       "<Figure size 640x480 with 1 Axes>"
      ]
     },
     "metadata": {},
     "output_type": "display_data"
    }
   ],
   "source": [
    "from scipy.integrate import odeint\n",
    "\n",
    "x_s = np.linspace(0.0, 1.9, 400)\n",
    "\n",
    "start=0\n",
    "plt.plot(x_s[start:], odeint(dxdt, a_0, x_s)[start:] ,label=\"Orig\")\n",
    "plt.plot(x_s[start:], f_est(x_s)[start:],label=\"1\")\n",
    "plt.plot(x_s[start:], f_est2(x_s)[start:],label=\"2\");plt.grid();plt.legend()"
   ]
  },
  {
   "cell_type": "markdown",
   "id": "3aae7aca",
   "metadata": {},
   "source": [
    "# Sewing"
   ]
  },
  {
   "cell_type": "code",
   "execution_count": 1018,
   "id": "44d5ca9d",
   "metadata": {
    "ExecuteTime": {
     "end_time": "2023-12-21T21:43:08.172494Z",
     "start_time": "2023-12-21T21:42:40.404515Z"
    }
   },
   "outputs": [],
   "source": [
    "f_x = lambda x: np.sin(x)\n",
    "f_1_x = lambda x: np.cos(x)\n",
    "f_2_x = lambda x: -np.sin(x)\n",
    "f_3_x = lambda x: -np.cos(x)\n",
    "\n",
    "f_ests = []\n",
    "a_0_s = []\n",
    "a_0 = 0\n",
    "a_0_s.append(a_0)\n",
    "f_s = [f_x(a_0), f_1_x(a_0), f_2_x(a_0), f_3_x(a_0)] + [0]*100\n",
    "b=.5\n",
    "mu=2\n",
    "shift = 0.1\n",
    "max_iter = 100\n",
    "for i in range(max_iter):\n",
    "    \n",
    "    coefs=X_t_coefs_fast(f_s, a_0, mu, b, 30, one_houndred_lookup)\n",
    "\n",
    "    def dxdt(x, t):\n",
    "        return b - mu*x + f_x(x)\n",
    "\n",
    "    f_est = create_power_series_np(coefs)\n",
    "    \n",
    "    f_ests.append(f_est)\n",
    "    \n",
    "    a_0 = f_est(np.array([0.0, shift]))[-1]\n",
    "    a_0_s.append(a_0)\n",
    "    f_s = [f_x(a_0), f_1_x(a_0), f_2_x(a_0), f_3_x(a_0)] + [0]*100\n"
   ]
  },
  {
   "cell_type": "code",
   "execution_count": 1019,
   "id": "8e1ff5fc",
   "metadata": {
    "ExecuteTime": {
     "end_time": "2023-12-21T21:43:14.540686Z",
     "start_time": "2023-12-21T21:43:14.307334Z"
    }
   },
   "outputs": [
    {
     "data": {
      "image/png": "[encoded data removed]",
      "text/plain": [
       "<Figure size 640x480 with 1 Axes>"
      ]
     },
     "metadata": {},
     "output_type": "display_data"
    }
   ],
   "source": [
    "from scipy.integrate import odeint\n",
    "\n",
    "\n",
    "x_s_start = np.linspace(0.0, shift, 400)\n",
    "origi_a_0=a_0_s[0]\n",
    "for i in range(max_iter):\n",
    "\n",
    "    x_s = np.linspace(i*shift, (i+1)*shift, 400)\n",
    "    f_est = f_ests[i]\n",
    "    \n",
    "    numeric_x_s = odeint(dxdt, origi_a_0, x_s_start)\n",
    "    origi_a_0 = numeric_x_s[-1]\n",
    "    plt.plot(x_s, numeric_x_s, '-.' ,label=\"Orig\")\n",
    "    plt.plot(x_s, f_est(x_s_start), alpha=.5, color='black');\n",
    "\n",
    "plt.grid();"
   ]
  },
  {
   "cell_type": "markdown",
   "id": "0125c00b",
   "metadata": {},
   "source": [
    "#\n",
    "\n",
    "<h3><center>$-\\frac{d^n H(x)}{dx^n} = \\frac{d^n h(x)}{dx^n} = \\frac{d^n}{dx^n} \\frac{1}{1 + (\\frac{x}{k})^{\\alpha}}$</center></h3>\n",
    "<h3><center>$= \\begin{cases}\n",
    "                 0,&  n/\\alpha - \\lfloor n/\\alpha \\rfloor \\ne 0\\\\\n",
    "                 (-1)^{n/\\alpha} \\frac{n!}{k^n},              & \\text{otherwise}\n",
    "              \\end{cases}$</center></h3>"
   ]
  },
  {
   "cell_type": "code",
   "execution_count": null,
   "id": "f46bcdfb",
   "metadata": {},
   "outputs": [],
   "source": []
  },
  {
   "cell_type": "code",
   "execution_count": 288,
   "id": "95720c4a",
   "metadata": {
    "ExecuteTime": {
     "end_time": "2024-01-22T19:55:24.787627Z",
     "start_time": "2024-01-22T19:55:24.771867Z"
    },
    "code_folding": [
     0,
     12,
     30
    ]
   },
   "outputs": [],
   "source": [
    "def binomial_coef(n):\n",
    "    \"\"\"Finds all the Binomial coefiecents of n.\"\"\"\n",
    "    val = 1\n",
    "    yield val\n",
    "    if n == 1:\n",
    "        yield val\n",
    "        return\n",
    "    for i in range(n):\n",
    "        val *= (n-i)\n",
    "        val //= (i+1)\n",
    "        yield val\n",
    "        \n",
    "def mul_derivatives(n, f1s, f2s):\n",
    "    \"\"\"Finds the nth derivatives of g(x) = f1(x)f2(x)\n",
    "    \n",
    "       args:\n",
    "    \n",
    "       n:   order of the derivatives.\n",
    "       f1s: An array of previous derivatives of the first function\n",
    "            (f1, f1', f1'', ..., f1^(n-1)).\n",
    "       f2s: An array of previous derivatives of the second function\n",
    "            (f2, f2', f2'', ..., f2^(n-1)).\n",
    "    \"\"\"\n",
    "    assert n+1 == len(f1s)\n",
    "    assert n+1 == len(f2s)\n",
    "    \n",
    "    return np.sum([(c * v1) * v2 for c, v1, v2 in zip(binomial_coef(n), f1s, f2s[::-1]) ])\n",
    "    \n",
    "    \n",
    "    \n",
    "def Hill_derivatives(alpha, k, n, x0):    \n",
    "        \n",
    "    def H(x):\n",
    "        return x**alpha / (x**alpha + k**alpha)\n",
    "    \n",
    "    def h(x):        \n",
    "        return k**alpha / (x**alpha + k**alpha)\n",
    "    \n",
    "    if x0 == 0:\n",
    "        hs = [h(x0)]\n",
    "        Hs = [H(x0)]\n",
    "        hsHs = [h(x0) * H(x0)]\n",
    "        for i in range(1, n):\n",
    "            if i%alpha != 0:\n",
    "                hs += [0]\n",
    "            else:\n",
    "                hs += [((-1)**(i//alpha))*prod(range(1,i+1))/(k**i)]\n",
    "            Hs += [-hs[-1]]        \n",
    "            hsHs += [hs[-1] * Hs[-1]]\n",
    "        return (hs, Hs, hsHs)\n",
    "        \n",
    "    def f_der(x, order):\n",
    "        if x == 0:\n",
    "            return 0.0\n",
    "        \n",
    "        ret = ((-1)**order) * alpha / (x ** (1+order))\n",
    "        ret *= np.prod(range(1, order+1))\n",
    "        return ret\n",
    "    \n",
    "    hs = [h(x0)]\n",
    "    Hs = [H(x0)]\n",
    "    fs = [f_der(x0, 0)]\n",
    "    hsHs = [h(x0) * H(x0)]\n",
    "    \n",
    "    Hs += [fs[0] * hsHs[0]]\n",
    "    hs += [-Hs[-1]]    \n",
    "    hsHs += [mul_derivatives(1, hs, Hs)]\n",
    "    fs += [f_der(x0, 1)]\n",
    "                \n",
    "    for i in range(2, n):  \n",
    "        Hs += [mul_derivatives(i-1, fs, hsHs)]\n",
    "        hs += [-Hs[-1]]        \n",
    "        \n",
    "        hsHs += [mul_derivatives(i, hs, Hs)]\n",
    "        fs += [f_der(x0, i)]\n",
    "        \n",
    "        \n",
    "        \n",
    "    return (hs, Hs, hsHs)\n",
    "        \n",
    "    "
   ]
  },
  {
   "cell_type": "code",
   "execution_count": 289,
   "id": "73e67e82",
   "metadata": {
    "ExecuteTime": {
     "end_time": "2024-01-22T19:55:26.023335Z",
     "start_time": "2024-01-22T19:55:26.011458Z"
    }
   },
   "outputs": [
    {
     "data": {
      "text/plain": [
       "[(1.0, 0.9999999999),\n",
       " (-1.0, -0.9999999997999999),\n",
       " (2.0, 2.0),\n",
       " (-6.0, -32768.0),\n",
       " (24.0, -0.0),\n",
       " (-120.0, -3.8685626227668134e+25),\n",
       " (720.0, -2.658455991569832e+36),\n",
       " (-5040.0, -0.0),\n",
       " (40320.0, -6.572026697887683e+57),\n",
       " (-362880.0, -0.0),\n",
       " (3628800.0, 1.1857109937901178e+80),\n",
       " (-39916800.0, -8.148143905337944e+90),\n",
       " (479001600.0, -5.599361855444511e+101),\n",
       " (-6227020800.0, -0.0),\n",
       " (87178291200.0, -2.1153791001287955e+124),\n",
       " (-1307674368000.0, 1.4536774485912138e+135),\n",
       " (20922789888000.0, -1.4764567279765178e+146),\n",
       " (-355687428096000.0, -5.491838128104488e+157),\n",
       " (6402373705728000.0, -1.5095849699286165e+169),\n",
       " (-1.21645100408832e+17, 1.0373788922202482e+180)]"
      ]
     },
     "execution_count": 289,
     "metadata": {},
     "output_type": "execute_result"
    }
   ],
   "source": [
    "hs, Hs, hsHs = Hill_derivatives(alpha=1, k=1, n=20, x0=0)\n",
    "hs2, Hs, hsHs = Hill_derivatives(alpha=1, k=1, n=20, x0=1e-10)\n",
    "list(zip(hs, hs2))"
   ]
  },
  {
   "cell_type": "code",
   "execution_count": 411,
   "id": "83fe530d",
   "metadata": {
    "ExecuteTime": {
     "end_time": "2024-01-22T21:08:28.919934Z",
     "start_time": "2024-01-22T21:08:28.892284Z"
    }
   },
   "outputs": [],
   "source": [
    "b=1\n",
    "mu=.001\n",
    "x0 = 0.0\n",
    "n_max = 28\n",
    "alpha = 4\n",
    "k=0.1\n",
    "V=1\n",
    "hs, Hs, hsHs = Hill_derivatives(alpha, k, n_max, x0)\n",
    "\n",
    "coefs=X_t_coefs_fast(hs, x0, mu, b, n_max-1, one_houndred_lookup, V)\n",
    "\n",
    "def H(x):\n",
    "    if x == 0.0:\n",
    "        return 0.0\n",
    "    return 1.0 / (1.0 + (k/x)**alpha)\n",
    "\n",
    "def h(x):        \n",
    "    return 1.0 / (1.0 + (x/k)**alpha)\n",
    "\n",
    "def dxdt(x, t):\n",
    "    return b - mu*x + V*h(x)\n",
    "\n",
    "X_est = create_power_series_np(coefs)"
   ]
  },
  {
   "cell_type": "code",
   "execution_count": 412,
   "id": "77ca0456",
   "metadata": {
    "ExecuteTime": {
     "end_time": "2024-01-22T21:08:29.989018Z",
     "start_time": "2024-01-22T21:08:29.733757Z"
    }
   },
   "outputs": [
    {
     "data": {
      "image/png": "[encoded data removed]",
      "text/plain": [
       "<Figure size 1200x400 with 2 Axes>"
      ]
     },
     "metadata": {},
     "output_type": "display_data"
    }
   ],
   "source": [
    "from scipy.integrate import odeint\n",
    "\n",
    "t_s = np.linspace(0.0, .1, 400)\n",
    "\n",
    "#p = np.poly1d(np.polyfit(t_s, odeint(dxdt, x0, t_s), 14).squeeze())\n",
    "start=0\n",
    "_ = plt.figure(figsize=(12,4))\n",
    "plt.subplot(121)\n",
    "plt.plot(t_s[start:], odeint(dxdt, x0, t_s)[start:, 0] ,label=\"Orig\")\n",
    "#plt.plot(t_s[start:], X_est(t_s)[start:],label=\"1\")\n",
    "#plt.plot(t_s[start:], \n",
    "#         p(t_s[start:]), label=\"Fit\")\n",
    "plt.grid();plt.legend();\n",
    "plt.subplot(122)\n",
    "plt.plot(t_s[start:], odeint(dxdt, x0, t_s)[start:, 0]-X_est(t_s)[start:])\n",
    "plt.grid();"
   ]
  },
  {
   "cell_type": "code",
   "execution_count": 405,
   "id": "a456df39",
   "metadata": {
    "ExecuteTime": {
     "end_time": "2024-01-22T20:48:56.350258Z",
     "start_time": "2024-01-22T20:48:56.341887Z"
    }
   },
   "outputs": [
    {
     "data": {
      "text/plain": [
       "[0.0,\n",
       " 1.01,\n",
       " -0.00505,\n",
       " 1.6833333333333334e-05,\n",
       " -4.2083333333333336e-08,\n",
       " -0.20812080191583335,\n",
       " 0.0038155480365263885,\n",
       " -3.7659954647418645e-05,\n",
       " 2.6386744539260664e-07,\n",
       " 0.21561833045987755,\n",
       " -0.0074060727532433415,\n",
       " 0.00013406627124808564,\n",
       " -1.6966102313882991e-06,\n",
       " -0.3127392775663053,\n",
       " 0.015868814513937745,\n",
       " -0.0004184204900694467,\n",
       " 7.622061916503663e-06,\n",
       " 0.5276641660305399,\n",
       " -0.03549113057652258,\n",
       " 0.0012299563142187326,\n",
       " -2.9229449606370767e-05,\n",
       " -0.9705801838673084,\n",
       " 0.08137119234461794,\n",
       " -0.003495498656728948,\n",
       " 0.00010245963968227449,\n",
       " 1.887951183029652,\n",
       " -0.18963610740000264,\n",
       " 0.0097224132156982,\n",
       " -0.00033892649830427623]"
      ]
     },
     "execution_count": 405,
     "metadata": {},
     "output_type": "execute_result"
    }
   ],
   "source": [
    "coefs"
   ]
  },
  {
   "cell_type": "code",
   "execution_count": 223,
   "id": "6f29bd8e",
   "metadata": {
    "ExecuteTime": {
     "end_time": "2024-01-22T12:47:49.475926Z",
     "start_time": "2024-01-22T12:47:49.463735Z"
    }
   },
   "outputs": [
    {
     "data": {
      "text/plain": [
       "[(0.0, 0),\n",
       " (1.0, 1),\n",
       " (-1.0, -1.0),\n",
       " (2.0, 2.0),\n",
       " (-5.0, -5.0),\n",
       " (14.0, 14.0),\n",
       " (-42.0, -42.0),\n",
       " (132.0, 132.0),\n",
       " (-429.0, -429.0),\n",
       " (1430.0, 1430.0),\n",
       " (-4862.0, -4862.0),\n",
       " (16796.0, 16796.0)]"
      ]
     },
     "execution_count": 223,
     "metadata": {},
     "output_type": "execute_result"
    }
   ],
   "source": [
    "coefs2 = [0, 1, -1/(2*k), 3/(3*2*k**2), -5/(4*2*k**3), 35/(5*8*k**4), -63/(6*8*k**5),\n",
    "         231/(7*16*k**6), -429/(8*16*k**7), 6435/(9*128*k**8),\n",
    "         -12155/(10*128*k**9), 46189/(11*256*k**10)]\n",
    "\n",
    "[(a,b) for a,b in zip(coefs,coefs2)]"
   ]
  },
  {
   "cell_type": "code",
   "execution_count": 1188,
   "id": "23dba8a0",
   "metadata": {
    "ExecuteTime": {
     "end_time": "2023-12-22T10:05:03.781102Z",
     "start_time": "2023-12-22T10:05:03.324569Z"
    }
   },
   "outputs": [],
   "source": [
    "b=0.01\n",
    "mu=2\n",
    "n_max = 41\n",
    "alpha = 1\n",
    "k=1.0\n",
    "\n",
    "def H(x):\n",
    "    if x == 0.0:\n",
    "        return 0.0\n",
    "    return 1.0 / (1.0 + (k/x)**alpha)\n",
    "\n",
    "def h(x):        \n",
    "    return 1.0 / (1.0 + (x/k)**alpha)\n",
    "\n",
    "x_ests = []\n",
    "\n",
    "x0_s = []\n",
    "x0 = 0.0\n",
    "x0_s.append(x0)\n",
    "\n",
    "hs, Hs, hsHs = Hill_derivatives(alpha, k, n_max, x0)\n",
    "\n",
    "shift = .1\n",
    "max_iter = 100\n",
    "for i in range(max_iter):\n",
    "    \n",
    "    coefs=X_t_coefs_fast(Hs, x0, mu, b, 20, one_houndred_lookup)\n",
    "\n",
    "    def dxdt(x, t):\n",
    "        return b - mu*x + H(x)\n",
    "\n",
    "    x_est = create_power_series_np(coefs)\n",
    "    \n",
    "    x_ests.append(x_est)\n",
    "    \n",
    "    x0 = x_est(np.array([0.0, shift]))[-1]\n",
    "    x0_s.append(x0)\n",
    "    hs, Hs, hsHs = Hill_derivatives(alpha, k, n_max, x0)\n"
   ]
  },
  {
   "cell_type": "code",
   "execution_count": 1189,
   "id": "e888be6d",
   "metadata": {
    "ExecuteTime": {
     "end_time": "2023-12-22T10:05:06.465215Z",
     "start_time": "2023-12-22T10:05:06.175836Z"
    }
   },
   "outputs": [
    {
     "data": {
      "image/png": "[encoded data removed]",
      "text/plain": [
       "<Figure size 640x480 with 1 Axes>"
      ]
     },
     "metadata": {},
     "output_type": "display_data"
    }
   ],
   "source": [
    "from scipy.integrate import odeint\n",
    "\n",
    "t_s_start = np.linspace(0.0, shift, 400)\n",
    "origi_x0=x0_s[0]\n",
    "for i in range(max_iter):\n",
    "\n",
    "    t_s = np.linspace(i*shift, (i+1)*shift, 400)\n",
    "    x_est = x_ests[i]\n",
    "    \n",
    "    numeric_x_s = odeint(dxdt, origi_x0, t_s_start)\n",
    "    origi_x0 = numeric_x_s[-1]\n",
    "    \n",
    "    plt.plot(t_s, numeric_x_s , '-.' ,label=\"Orig\")\n",
    "    plt.plot(t_s, x_est(t_s_start), alpha=.5, color='black');\n",
    "\n",
    "plt.grid();"
   ]
  },
  {
   "cell_type": "code",
   "execution_count": 198,
   "id": "15fd9db1",
   "metadata": {
    "ExecuteTime": {
     "end_time": "2024-01-22T12:34:10.684501Z",
     "start_time": "2024-01-22T12:34:10.676642Z"
    }
   },
   "outputs": [],
   "source": [
    "x0 = 0.0\n",
    "n_max = 11\n",
    "alpha = 1\n",
    "k=1.0\n",
    "hs, Hs, hsHs = Hill_derivatives(alpha, k, n_max, x0)\n",
    "\n",
    "def H(x):   \n",
    "    return x**alpha / (x**alpha + k**alpha)"
   ]
  },
  {
   "cell_type": "code",
   "execution_count": 199,
   "id": "8c3d144d",
   "metadata": {
    "ExecuteTime": {
     "end_time": "2024-01-22T12:34:11.576873Z",
     "start_time": "2024-01-22T12:34:11.571366Z"
    }
   },
   "outputs": [],
   "source": [
    "Hs = np.array(Hs)[::-1]"
   ]
  },
  {
   "cell_type": "code",
   "execution_count": 200,
   "id": "af2850c0",
   "metadata": {
    "ExecuteTime": {
     "end_time": "2024-01-22T12:34:14.026395Z",
     "start_time": "2024-01-22T12:34:13.815772Z"
    }
   },
   "outputs": [
    {
     "data": {
      "image/png": "[encoded data removed]",
      "text/plain": [
       "<Figure size 640x480 with 1 Axes>"
      ]
     },
     "metadata": {},
     "output_type": "display_data"
    },
    {
     "data": {
      "text/plain": [
       "[<matplotlib.lines.Line2D at 0x7fd5797ae050>]"
      ]
     },
     "execution_count": 200,
     "metadata": {},
     "output_type": "execute_result"
    },
    {
     "data": {
      "image/png": "[encoded data removed]",
      "text/plain": [
       "<Figure size 640x480 with 1 Axes>"
      ]
     },
     "metadata": {},
     "output_type": "display_data"
    }
   ],
   "source": [
    "t_s = np.linspace(0.0, .99, 4000)\n",
    "\n",
    "#coefs2 = np.polyfit(t_s, H(t_s), n_max).squeeze()\n",
    "p = np.poly1d([-1, 1]*(n_max//2) + [0])\n",
    "plt.plot(t_s, p(t_s))\n",
    "plt.plot(t_s, H(t_s));plt.show()\n",
    "plt.plot(t_s,H(t_s)-p(t_s))"
   ]
  },
  {
   "cell_type": "code",
   "execution_count": 110,
   "id": "1cda197e",
   "metadata": {
    "ExecuteTime": {
     "end_time": "2024-01-21T22:23:29.208313Z",
     "start_time": "2024-01-21T22:23:29.199586Z"
    }
   },
   "outputs": [
    {
     "data": {
      "text/plain": [
       "[(0.0, 0.00496736798045848),\n",
       " (1.0, 0.9247553723090973),\n",
       " (-2.0, -0.6910333766145049),\n",
       " (6.0, 0.3663421491454555),\n",
       " (-24.0, -0.13048261760554913),\n",
       " (120.0, 0.030543984002104084),\n",
       " (-720.0, -0.0045640790983676825),\n",
       " (5040.0, 0.0004019778241771877),\n",
       " (-40320.0, -1.5468548205063536e-05),\n",
       " (362880.0, -3.2026901781431273e-07)]"
      ]
     },
     "execution_count": 110,
     "metadata": {},
     "output_type": "execute_result"
    }
   ],
   "source": [
    "[(a,b) for a,b in zip(Hs,reversed(coefs2))]"
   ]
  },
  {
   "cell_type": "code",
   "execution_count": 139,
   "id": "235f9b54",
   "metadata": {
    "ExecuteTime": {
     "end_time": "2024-01-21T22:34:11.361396Z",
     "start_time": "2024-01-21T22:34:11.351964Z"
    }
   },
   "outputs": [
    {
     "data": {
      "text/plain": [
       "(array([0.        , 0.00249439, 0.00497636, ..., 0.90904956, 0.90907024,\n",
       "        0.90909091]),\n",
       " array([nan, nan, nan, ..., nan, nan, nan]))"
      ]
     },
     "execution_count": 139,
     "metadata": {},
     "output_type": "execute_result"
    }
   ],
   "source": [
    "H(t_s),p(t_s)"
   ]
  },
  {
   "cell_type": "code",
   "execution_count": 141,
   "id": "91dcb4a6",
   "metadata": {
    "ExecuteTime": {
     "end_time": "2024-01-21T22:34:25.936076Z",
     "start_time": "2024-01-21T22:34:25.927526Z"
    }
   },
   "outputs": [
    {
     "name": "stderr",
     "output_type": "stream",
     "text": [
      "/tmp/ipykernel_51311/1814328205.py:1: RuntimeWarning: invalid value encountered in divide\n",
      "  Hs/Hs\n"
     ]
    },
    {
     "data": {
      "text/plain": [
       "array([ 1.,  1.,  1.,  1.,  1.,  1.,  1.,  1.,  1.,  1.,  1.,  1.,  1.,\n",
       "        1.,  1.,  1.,  1.,  1.,  1., nan])"
      ]
     },
     "execution_count": 141,
     "metadata": {},
     "output_type": "execute_result"
    }
   ],
   "source": [
    "Hs/Hs"
   ]
  },
  {
   "cell_type": "code",
   "execution_count": null,
   "id": "e57e3afe",
   "metadata": {},
   "outputs": [],
   "source": []
  }
 ],
 "metadata": {
  "hide_input": false,
  "kernelspec": {
   "display_name": "Python 3 (ipykernel)",
   "language": "python",
   "name": "python3"
  },
  "language_info": {
   "codemirror_mode": {
    "name": "ipython",
    "version": 3
   },
   "file_extension": ".py",
   "mimetype": "text/x-python",
   "name": "python",
   "nbconvert_exporter": "python",
   "pygments_lexer": "ipython3",
   "version": "3.11.5"
  },
  "varInspector": {
   "cols": {
    "lenName": 16,
    "lenType": 16,
    "lenVar": 40
   },
   "kernels_config": {
    "python": {
     "delete_cmd_postfix": "",
     "delete_cmd_prefix": "del ",
     "library": "var_list.py",
     "varRefreshCmd": "print(var_dic_list())"
    },
    "r": {
     "delete_cmd_postfix": ") ",
     "delete_cmd_prefix": "rm(",
     "library": "var_list.r",
     "varRefreshCmd": "cat(var_dic_list()) "
    }
   },
   "types_to_exclude": [
    "module",
    "function",
    "builtin_function_or_method",
    "instance",
    "_Feature"
   ],
   "window_display": false
  }
 },
 "nbformat": 4,
 "nbformat_minor": 5
}
