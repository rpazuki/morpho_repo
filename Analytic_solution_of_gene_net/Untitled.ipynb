{
 "cells": [
  {
   "cell_type": "code",
   "execution_count": 2,
   "id": "5dab4035",
   "metadata": {
    "ExecuteTime": {
     "end_time": "2023-12-30T00:21:37.501920Z",
     "start_time": "2023-12-30T00:21:36.616598Z"
    }
   },
   "outputs": [],
   "source": [
    "from collections import Counter\n",
    "from math import prod\n",
    "import scipy as sp\n",
    "from scipy import special\n",
    "import numpy as np\n",
    "import matplotlib.pyplot as plt"
   ]
  },
  {
   "cell_type": "code",
   "execution_count": 3,
   "id": "80083222",
   "metadata": {
    "ExecuteTime": {
     "end_time": "2023-12-30T00:21:41.427834Z",
     "start_time": "2023-12-30T00:21:41.412569Z"
    },
    "code_folding": [
     23
    ],
    "scrolled": false
   },
   "outputs": [
    {
     "name": "stdout",
     "output_type": "stream",
     "text": [
      "1 [(1,)]\n",
      "2 [(2,), (1, 1)]\n",
      "3 [(3,), (1, 2), (1, 1, 1)]\n",
      "4 [(4,), (1, 3), (1, 1, 2), (1, 1, 1, 1), (2, 2)]\n",
      "5 [(5,), (1, 4), (1, 1, 3), (1, 1, 1, 2), (1, 1, 1, 1, 1), (1, 2, 2), (2, 3)]\n",
      "\n",
      "\n",
      "1 [[(1, 1, 1)]]\n",
      "2 [[(2, 1, 1)], [(1, 2, 2)]]\n",
      "3 [[(3, 1, 1)], [(1, 1, 1), (2, 1, 1)], [(1, 3, 6)]]\n",
      "4 [[(4, 1, 1)], [(1, 1, 1), (3, 1, 1)], [(1, 2, 2), (2, 1, 1)], [(1, 4, 24)], [(2, 2, 2)]]\n",
      "5 [[(5, 1, 1)], [(1, 1, 1), (4, 1, 1)], [(1, 2, 2), (3, 1, 1)], [(1, 3, 6), (2, 1, 1)], [(1, 5, 120)], [(1, 1, 1), (2, 2, 2)], [(2, 1, 1), (3, 1, 1)]]\n"
     ]
    }
   ],
   "source": [
    "def partitions(n , I=1):\n",
    "    \"\"\"Enumerate all the integer parition of n\"\"\"\n",
    "    yield (n,)\n",
    "    for i in range(I, n//2 + 1):\n",
    "        for p in partitions(n-i, i):\n",
    "            yield (i,) + p\n",
    "\n",
    "def degenerate_partitions(n):\n",
    "    \"\"\"Enumerate all the integer parition of n as (i, count, count!)\n",
    "       (it turns the degeneracy to count)\n",
    "    \"\"\"\n",
    "    for partition in partitions(n):\n",
    "        #yield [(k, count, sp.special.factorial(count, exact=True)) for k, count in Counter(partition).items()]\n",
    "        yield [(k, count, prod(range(1, count+1)) ) for k, count in Counter(partition).items()]\n",
    "\n",
    "def degenerate_partitions_lookup(n):\n",
    "    \"\"\"Create a lookup table for all partitions of 1 to n.\n",
    "    \n",
    "       For each k \\in [1,n], it will create the paritiotns P_k\n",
    "       such that i_1 + i_2 + i_j = k.\n",
    "       \n",
    "       return:\n",
    "       for each element in P_k,it returns a tuple and a list\n",
    "       ( \\sum_j i_j ,[ (i_1, n_1, n_1!), ..., (i_j, n_j, n_j!)])\n",
    "        where i_j is the partioned element, n_j is degeneracy and n_j! is\n",
    "        the degenarcy factorial. \n",
    "        The first element of the tuple is the sum of degeneracies\n",
    "    \"\"\"\n",
    "    def partion_to_list(partition):\n",
    "        partition = list(partition)\n",
    "        # since element of the parition are (i_j, n_j, n_j!), so, we add all n_j\n",
    "        degeneracy_sum = sum(map(lambda t: t[1], partition)) \n",
    "        return (degeneracy_sum, partition)\n",
    "    for k in range(1, n+1): \n",
    "        yield [partion_to_list(partition) for partition in degenerate_partitions(k)]            \n",
    "        \n",
    "        \n",
    "        \n",
    "# def degenerate_partitions2(n):\n",
    "#     \"\"\"Enumerate all the integer parition of n as (i, count)\n",
    "#        (it turns the degeneracy to count)\n",
    "#     \"\"\"\n",
    "#     for partition in partitions(n):\n",
    "#         yield [(k, count) for k, count in Counter(partition).items()]        \n",
    "        \n",
    "        \n",
    "def multinomial(tup):\n",
    "    \"\"\"Multinomial coefficients for a tuple of integer\"\"\"\n",
    "    res, i = 1, sum(tup)\n",
    "    i0 = tup.index(max(tup))\n",
    "    for a in tup[:i0] + tup[i0+1:]:\n",
    "        for j in range(1,a+1):\n",
    "            res *= i\n",
    "            res //= j\n",
    "            i -= 1\n",
    "    return res        \n",
    "\n",
    "\n",
    "    \n",
    "for n in range(1,6):\n",
    "    print(n, list(partitions(n)))\n",
    "    #print([multinomial(p) for p in partitions(n)])\n",
    "\n",
    "print()\n",
    "print()\n",
    "for n in range(1,6):\n",
    "    print(n, list(degenerate_partitions(n)))\n"
   ]
  },
  {
   "cell_type": "code",
   "execution_count": 1119,
   "id": "11ac7f4f",
   "metadata": {
    "ExecuteTime": {
     "end_time": "2023-12-22T02:05:56.915148Z",
     "start_time": "2023-12-22T01:47:00.570572Z"
    }
   },
   "outputs": [],
   "source": [
    "one_houndred_lookup = list(degenerate_partitions_lookup(80))"
   ]
  },
  {
   "cell_type": "code",
   "execution_count": 528,
   "id": "13259c60",
   "metadata": {
    "ExecuteTime": {
     "end_time": "2023-12-21T11:52:14.509412Z",
     "start_time": "2023-12-21T11:52:08.542561Z"
    }
   },
   "outputs": [],
   "source": [
    "one_houndred_lookup2 = list(degenerate_partitions_lookup(50))"
   ]
  },
  {
   "cell_type": "code",
   "execution_count": 1123,
   "id": "46fe88e1",
   "metadata": {
    "ExecuteTime": {
     "end_time": "2023-12-22T02:41:57.139814Z",
     "start_time": "2023-12-22T02:15:55.104750Z"
    }
   },
   "outputs": [],
   "source": [
    "import pickle\n",
    "import bz2\n",
    "with bz2.BZ2File('lookup_80.pbz2', 'wb') as f:\n",
    "    pickle.dump(one_houndred_lookup, f)"
   ]
  },
  {
   "cell_type": "code",
   "execution_count": 4,
   "id": "870f203d",
   "metadata": {
    "ExecuteTime": {
     "end_time": "2023-12-30T00:34:52.307620Z",
     "start_time": "2023-12-30T00:21:46.375765Z"
    }
   },
   "outputs": [],
   "source": [
    "import pickle\n",
    "import bz2\n",
    "with bz2.BZ2File('lookup_80.pbz2', 'rb') as f:\n",
    "    one_houndred_lookup = pickle.load(f)"
   ]
  },
  {
   "cell_type": "code",
   "execution_count": 5,
   "id": "d4abc95f",
   "metadata": {
    "ExecuteTime": {
     "end_time": "2023-12-30T00:20:12.114198Z",
     "start_time": "2023-12-30T00:20:12.098574Z"
    },
    "code_folding": []
   },
   "outputs": [],
   "source": [
    "def composition(f_0, f_s, g_s, n_max):\n",
    "    assert len(f_s) >= n_max\n",
    "    assert len(g_s) >= n_max\n",
    "    coefs = [f_0]\n",
    "    for n in range(1, n_max):        \n",
    "        c = 0\n",
    "        for partition in degenerate_partitions(n):\n",
    "            partition = list(partition)            \n",
    "            # t is (i, count, count!), so, we add all counts\n",
    "            degeneracy_sum = sum(map(lambda t: t[1], partition))        \n",
    "            # t is (i, count, count!). Here, we find (g[i]^count)/count!\n",
    "            g_coef_prod = prod(map(lambda t: (g_s[t[0]-1] ** t[1])/t[2], partition))\n",
    "            # coefficents \\time the derivative f^(n) at g_0\n",
    "            c += g_coef_prod*f_s[degeneracy_sum-1]\n",
    "        coefs.append(c)\n",
    "    return coefs\n",
    "\n",
    "def composition_fast(f_0, f_s, g_s, lookup, n_max):\n",
    "    #assert len(f_s) >= len(lookup)\n",
    "    #assert len(g_s) >= len(lookup)\n",
    "    coefs = [f_0]\n",
    "    for P_K in lookup[:n_max]:\n",
    "        c = sum([ prod(map(lambda t: (g_s[t[0]-1] ** t[1])/t[2], partition))*f_s[degeneracy_sum-1] \n",
    "                 for degeneracy_sum, partition in P_K])\n",
    "        coefs.append(c)\n",
    "    return coefs\n",
    "\n",
    "def composition_fast_np(f_0, f_s, g_s, lookup, n_max):\n",
    "    #assert len(f_s) >= len(lookup)\n",
    "    #assert len(g_s) >= len(lookup) \n",
    "    \n",
    "    return [f_0] +[\n",
    "            np.sum(\n",
    "                [prod(map(lambda t: (g_s[t[0]-1] ** t[1])/t[2], partition))*f_s[degeneracy_sum-1] \n",
    "                   for degeneracy_sum, partition in P_K]\n",
    "                  ) \n",
    "                   for P_K in lookup[:n_max]\n",
    "            ]\n",
    " \n",
    "def create_power_series(coefs):\n",
    "    max_n = len(coefs)\n",
    "    def power_series(x):\n",
    "        return np.sum([ c*(x ** n) for n, c in zip(range(max_n), coefs)])\n",
    "    return power_series\n",
    "\n",
    "def create_power_series_np(coefs):\n",
    "    max_n = len(coefs)\n",
    "    ns = np.arange(0, len(coefs), 1)[np.newaxis, :]\n",
    "    def power_series(x):\n",
    "        return np.einsum('j,ij->i', coefs, np.power(x[:, np.newaxis], ns))\n",
    "    return power_series"
   ]
  },
  {
   "cell_type": "code",
   "execution_count": null,
   "id": "c41026ba",
   "metadata": {},
   "outputs": [],
   "source": []
  },
  {
   "cell_type": "code",
   "execution_count": 6,
   "id": "5f072c8e",
   "metadata": {
    "ExecuteTime": {
     "end_time": "2023-12-30T00:20:17.760935Z",
     "start_time": "2023-12-30T00:20:17.751074Z"
    }
   },
   "outputs": [
    {
     "data": {
      "text/plain": [
       "([0, 10.0, 120.0, 930.0], [0, 10.0, 120.0, 930.0])"
      ]
     },
     "execution_count": 6,
     "metadata": {},
     "output_type": "execute_result"
    }
   ],
   "source": [
    "f_0 = 0\n",
    "f_s = [1,2,3,4]\n",
    "g_s = [10,20,30,40]\n",
    "composition(f_0, f_s, g_s,4), composition_fast(f_0, f_s, g_s, one_houndred_lookup, 3)"
   ]
  },
  {
   "cell_type": "code",
   "execution_count": 7,
   "id": "4595fed9",
   "metadata": {
    "ExecuteTime": {
     "end_time": "2023-12-30T00:20:29.594146Z",
     "start_time": "2023-12-30T00:20:18.959292Z"
    }
   },
   "outputs": [
    {
     "name": "stdout",
     "output_type": "stream",
     "text": [
      "[-2.0, 0.0, 2.0, 1.0, -0.6666666666666666, -0.5, 0.08888888888888888, 0.10833333333333334, -0.006349206349206348, -0.013558201058201054, 0.0002821869488536155, 0.0011094576719576717, -8.551119662230774e-06, -6.400813692480358e-05, 1.879366958732038e-07, 2.743210456504107e-06, -3.1322782645533972e-09, -9.076800991483533e-08, 4.094481391573069e-11, 2.3886318891878987e-09, -4.3099804121821766e-13, -5.118496917146405e-11, 3.7315847724521005e-15, 9.10404590238368e-13, -2.7040469365594935e-17, -1.3656068853962336e-14, 1.6640288840366114e-19, 1.750778058205809e-16, -8.80438562982334e-22, -1.9405175521992355e-18, 4.047993393022226e-24, 1.8779202118057845e-20, -1.6322554004121873e-26, -1.600500180516301e-22, 5.819092336585338e-29, 1.2104623213988837e-24, -1.8473309005032819e-31, -8.178799468911377e-27, 5.255564439554145e-34, 4.966882268569661e-29, -1.3475806255267041e-36, -2.7257280742150574e-31, 3.130268584266444e-39, 1.3583362496088329e-33, -6.617903983649987e-42, -6.174255680040147e-36, 1.2788220258260846e-44, 2.5702266938187483e-38, -2.267414939407951e-47, -9.835051124306436e-41, 3.701901941890532e-50, 3.471194514461095e-43, -5.583562506622221e-53, -1.1335540867253214e-45, 7.8037211832595685e-56, 3.4350123840161254e-48, -1.0134702835402038e-58, -9.685185293278549e-51, 1.2262193388266227e-61, 2.547243355917795e-53, -1.385558574945336e-64]\n"
     ]
    }
   ],
   "source": [
    "f_x = lambda x: x**3 + 2*x**2 - 2\n",
    "f_1_x = lambda x: 3*x**2 + 4*x\n",
    "f_2_x = lambda x: 3*2*x + 4\n",
    "f_3_x = lambda x: 3*2\n",
    "#g_x = lambda x: 2*x+1\n",
    "g_x = lambda x: np.sin(x)\n",
    "g_0 = g_x(0.0)\n",
    "f_0 = f_x(g_0)\n",
    "f_s = [f_1_x(g_0), f_2_x(g_0), f_3_x(g_0)] + [0]*100\n",
    "#g_s = [2, 0, 0, 0] + [0]*20\n",
    "g_s = [(-1)**(i//2)/sp.special.factorial(i, exact=True) if i%2==1 else 0  for i in range(1, 101)] \n",
    "#coefs=composition(f_0, f_s, g_s,43)\n",
    "coefs=composition_fast_np(f_0, f_s, g_s, one_houndred_lookup, 60)\n",
    "print(coefs)\n",
    "\n"
   ]
  },
  {
   "cell_type": "code",
   "execution_count": 8,
   "id": "af0a1e36",
   "metadata": {
    "ExecuteTime": {
     "end_time": "2023-12-30T00:20:33.574069Z",
     "start_time": "2023-12-30T00:20:32.677156Z"
    }
   },
   "outputs": [],
   "source": [
    "f_est = create_power_series_np(coefs)"
   ]
  },
  {
   "cell_type": "code",
   "execution_count": 9,
   "id": "6bbf3a6b",
   "metadata": {
    "ExecuteTime": {
     "end_time": "2023-12-30T00:20:46.272836Z",
     "start_time": "2023-12-30T00:20:36.553731Z"
    }
   },
   "outputs": [
    {
     "data": {
      "text/plain": [
       "[<matplotlib.lines.Line2D at 0x7f596ab59220>]"
      ]
     },
     "execution_count": 9,
     "metadata": {},
     "output_type": "execute_result"
    },
    {
     "data": {
      "image/png": "[encoded data removed]",
      "text/plain": [
       "<Figure size 640x480 with 1 Axes>"
      ]
     },
     "metadata": {},
     "output_type": "display_data"
    }
   ],
   "source": [
    "x_s = np.linspace(-8,8, 400)\n",
    "plt.plot(x_s, f_x(g_x(x_s)))\n",
    "plt.plot(x_s, f_est(x_s))\n",
    "#plt.plot(x_s, [f_est2(x) for x in x_s])"
   ]
  },
  {
   "cell_type": "code",
   "execution_count": null,
   "id": "fa8a2b86",
   "metadata": {
    "ExecuteTime": {
     "start_time": "2023-12-30T00:20:50.051Z"
    }
   },
   "outputs": [],
   "source": [
    "f_x = lambda x: np.sin(x)\n",
    "f_1_x = lambda x: np.cos(x)\n",
    "f_2_x = lambda x: -np.sin(x)\n",
    "f_3_x = lambda x: -np.cos(x)\n",
    "\n",
    "g_x = lambda x: x**3 + 2*x**2 - 2\n",
    "g_0 = g_x(0.0)\n",
    "f_0 = f_x(g_0)\n",
    "f_s = [f_1_x(g_0), f_2_x(g_0), f_3_x(g_0), f_x(g_0)]*80\n",
    "\n",
    "g_s = [0, 2, 1, 0] + [0]*76 \n",
    "#coefs=composition(f_0, f_s, g_s,40)\n",
    "coefs=composition_fast_np(f_0, f_s, g_s, one_houndred_lookup, 65)\n",
    "print(coefs)\n"
   ]
  },
  {
   "cell_type": "code",
   "execution_count": 1,
   "id": "88c82baa",
   "metadata": {
    "ExecuteTime": {
     "end_time": "2023-12-30T00:21:30.358628Z",
     "start_time": "2023-12-30T00:21:30.299213Z"
    }
   },
   "outputs": [
    {
     "ename": "NameError",
     "evalue": "name 'create_power_series_np' is not defined",
     "output_type": "error",
     "traceback": [
      "\u001b[0;31m---------------------------------------------------------------------------\u001b[0m",
      "\u001b[0;31mNameError\u001b[0m                                 Traceback (most recent call last)",
      "\u001b[0;32m/tmp/ipykernel_54397/3885413438.py\u001b[0m in \u001b[0;36m<module>\u001b[0;34m\u001b[0m\n\u001b[0;32m----> 1\u001b[0;31m \u001b[0mf_est\u001b[0m \u001b[0;34m=\u001b[0m \u001b[0mcreate_power_series_np\u001b[0m\u001b[0;34m(\u001b[0m\u001b[0mcoefs\u001b[0m\u001b[0;34m)\u001b[0m\u001b[0;34m\u001b[0m\u001b[0;34m\u001b[0m\u001b[0m\n\u001b[0m",
      "\u001b[0;31mNameError\u001b[0m: name 'create_power_series_np' is not defined"
     ]
    }
   ],
   "source": [
    "f_est = create_power_series_np(coefs)"
   ]
  },
  {
   "cell_type": "code",
   "execution_count": 658,
   "id": "1a75acf3",
   "metadata": {
    "ExecuteTime": {
     "end_time": "2023-12-21T12:44:04.382317Z",
     "start_time": "2023-12-21T12:44:04.264730Z"
    }
   },
   "outputs": [
    {
     "data": {
      "text/plain": [
       "[<matplotlib.lines.Line2D at 0x7fd1a8f2a610>]"
      ]
     },
     "execution_count": 658,
     "metadata": {},
     "output_type": "execute_result"
    },
    {
     "data": {
      "image/png": "[encoded data removed]",
      "text/plain": [
       "<Figure size 640x480 with 1 Axes>"
      ]
     },
     "metadata": {},
     "output_type": "display_data"
    }
   ],
   "source": [
    "x_s = np.linspace(-1.7, 1.7, 400)\n",
    "plt.plot(x_s, f_x(g_x(x_s)))\n",
    "plt.plot(x_s, f_est(x_s))"
   ]
  },
  {
   "cell_type": "markdown",
   "id": "c98cb50c",
   "metadata": {},
   "source": [
    "# Solve the\n",
    "### <h2><center>$\\frac{dx}{dt} + \\mu x - b = f(x).$</center></h2>\n",
    "### When\n",
    "<h3><center>$x(t) = \\sum_{i \\ge 0} a_i t^i$</center></h3>\n",
    "\n",
    "### The solution will be\n",
    "\n",
    "<h3><center>$i = 0, \\qquad a_1 = b-\\mu a_0  + C_0(a_0)$</center></h3>\n",
    "<h3><center>$i \\ge 1, \\qquad a_{i+1} = \\frac{1}{i+1}( -\\mu a_i + C_i(a_0 ))$</center></h3>\n",
    "\n",
    "### for\n",
    "\n",
    "<h3><center>$ C_i(a_0 ) \\sum_{P_i} \\frac{a_1^{n_1} \\dots a_i^{n_i}}{n_1! \\dots n_i!} f^{n_1+\\dots+n_i}(a_0),$</center></h3>\n",
    "and $ P_i$ is the set of all partitions of $i$."
   ]
  },
  {
   "cell_type": "code",
   "execution_count": 769,
   "id": "5e2edd0d",
   "metadata": {
    "ExecuteTime": {
     "end_time": "2023-12-21T16:21:30.835050Z",
     "start_time": "2023-12-21T16:21:30.821301Z"
    }
   },
   "outputs": [],
   "source": [
    "def C_i(a_s, f_s):\n",
    "    i = len(a_s)\n",
    "    c = 0\n",
    "    for partition in degenerate_partitions(i):\n",
    "        partition = list(partition)            \n",
    "        # t is (i, count, count!), so, we add all counts\n",
    "        degeneracy_sum = sum(map(lambda t: t[1], partition))        \n",
    "        # t is (i, count, count!). Here, we find (g[i]^count)/count!\n",
    "        a_coef_prod = prod(map(lambda t: (a_s[t[0]-1] ** t[1])/t[2], partition))\n",
    "        # coefficents \\time the derivative f^(n) at g_0\n",
    "        c += a_coef_prod*f_s[degeneracy_sum-1]\n",
    "    return c\n",
    "\n",
    "def C_i_fast(a_s, f_s, i, lookup):    \n",
    "    coefs = [f_0]\n",
    "    P_K = lookup[i-1]    \n",
    "    return sum([ prod(map(lambda t: (a_s[t[0]-1] ** t[1])/t[2], partition))*f_s[degeneracy_sum-1] \n",
    "                 for degeneracy_sum, partition in P_K])\n",
    "\n",
    "def X_t_coefs(f_s, a_0, mu, b, i_max):\n",
    "    c_0 = f_s[0]    \n",
    "    a_s = [b - mu*a_0 + c_0]\n",
    "    for i in range(1, i_max+1):\n",
    "        c_i = C_i(a_s, f_s[1:])\n",
    "        a_i_1 = (1/(i+1))*(- mu*a_s[-1] + c_i)\n",
    "        a_s.append(a_i_1)\n",
    "    return [a_0] + a_s\n",
    "\n",
    "def X_t_coefs_fast(f_s, a_0, mu, b, i_max, lookup):\n",
    "    c_0 = f_s[0]    \n",
    "    a_s = [b - mu*a_0 + c_0]\n",
    "    for i in range(1, i_max+1):\n",
    "        c_i = C_i_fast(a_s, f_s[1:], i, lookup)\n",
    "        a_i_1 = (1/(i+1))*(- mu*a_s[-1] + c_i)\n",
    "        a_s.append(a_i_1)\n",
    "    return [a_0] + a_s"
   ]
  },
  {
   "cell_type": "code",
   "execution_count": 1216,
   "id": "af034f88",
   "metadata": {
    "ExecuteTime": {
     "end_time": "2023-12-22T10:33:32.450338Z",
     "start_time": "2023-12-22T10:32:59.350157Z"
    }
   },
   "outputs": [],
   "source": [
    "f_x = lambda x: x**3 #+ x**2 - x - 1\n",
    "f_1_x = lambda x: 3*x**2 #+ 2*x -1\n",
    "f_2_x = lambda x: 3*2*x #+ 2\n",
    "f_3_x = lambda x: 3*2\n",
    "\n",
    "a_0 = 0\n",
    "f_s = [f_x(a_0), f_1_x(a_0), f_2_x(a_0), f_3_x(a_0)] + [0]*100\n",
    "b=.5\n",
    "mu=2\n",
    "coefs=X_t_coefs_fast(f_s, a_0, mu, b, 70, one_houndred_lookup)\n",
    "\n",
    "def dxdt(x, t):\n",
    "    return b - mu*x + f_x(x)"
   ]
  },
  {
   "cell_type": "code",
   "execution_count": 1217,
   "id": "76bb3f18",
   "metadata": {
    "ExecuteTime": {
     "end_time": "2023-12-22T10:34:23.443051Z",
     "start_time": "2023-12-22T10:34:23.436655Z"
    }
   },
   "outputs": [],
   "source": [
    "f_est = create_power_series_np(coefs[:-3])\n",
    "f_est2 = create_power_series_np(coefs)"
   ]
  },
  {
   "cell_type": "code",
   "execution_count": 1226,
   "id": "02f8d4dd",
   "metadata": {
    "ExecuteTime": {
     "end_time": "2023-12-22T10:35:22.460657Z",
     "start_time": "2023-12-22T10:35:22.304791Z"
    }
   },
   "outputs": [
    {
     "data": {
      "text/plain": [
       "<matplotlib.legend.Legend at 0x7fd2abf99910>"
      ]
     },
     "execution_count": 1226,
     "metadata": {},
     "output_type": "execute_result"
    },
    {
     "data": {
      "image/png": "[encoded data removed]",
      "text/plain": [
       "<Figure size 640x480 with 1 Axes>"
      ]
     },
     "metadata": {},
     "output_type": "display_data"
    }
   ],
   "source": [
    "from scipy.integrate import odeint\n",
    "\n",
    "x_s = np.linspace(0.0,1.05, 400)\n",
    "\n",
    "start=300\n",
    "plt.plot(x_s[start:], odeint(dxdt, a_0, x_s)[start:] ,label=\"Orig\")\n",
    "plt.plot(x_s[start:], f_est(x_s)[start:],label=\"1\")\n",
    "plt.plot(x_s[start:], f_est2(x_s)[start:],label=\"2\");plt.grid();plt.legend()"
   ]
  },
  {
   "cell_type": "code",
   "execution_count": 841,
   "id": "ffeb160a",
   "metadata": {
    "ExecuteTime": {
     "end_time": "2023-12-21T16:52:37.873254Z",
     "start_time": "2023-12-21T16:51:52.035812Z"
    }
   },
   "outputs": [],
   "source": [
    "f_x = lambda x: np.sin(x)\n",
    "f_1_x = lambda x: np.cos(x)\n",
    "f_2_x = lambda x: -np.sin(x)\n",
    "f_3_x = lambda x: -np.cos(x)\n",
    "\n",
    "a_0 = 0\n",
    "f_s = [f_x(a_0), f_1_x(a_0), f_2_x(a_0), f_3_x(a_0)] + [0]*100\n",
    "b=.5\n",
    "mu=2\n",
    "coefs=X_t_coefs_fast(f_s, a_0, mu, b, 70, one_houndred_lookup)\n",
    "\n",
    "def dxdt(x, t):\n",
    "    return b - mu*x + f_x(x)"
   ]
  },
  {
   "cell_type": "code",
   "execution_count": 842,
   "id": "70492f15",
   "metadata": {
    "ExecuteTime": {
     "end_time": "2023-12-21T16:52:45.961947Z",
     "start_time": "2023-12-21T16:52:45.956412Z"
    }
   },
   "outputs": [],
   "source": [
    "f_est = create_power_series_np(coefs[:-3])\n",
    "f_est2 = create_power_series_np(coefs)"
   ]
  },
  {
   "cell_type": "code",
   "execution_count": 853,
   "id": "99fb71a6",
   "metadata": {
    "ExecuteTime": {
     "end_time": "2023-12-21T20:52:52.422755Z",
     "start_time": "2023-12-21T20:52:52.258182Z"
    }
   },
   "outputs": [
    {
     "data": {
      "text/plain": [
       "<matplotlib.legend.Legend at 0x7fd1a82d37d0>"
      ]
     },
     "execution_count": 853,
     "metadata": {},
     "output_type": "execute_result"
    },
    {
     "data": {
      "image/png": "[encoded data removed]",
      "text/plain": [
       "<Figure size 640x480 with 1 Axes>"
      ]
     },
     "metadata": {},
     "output_type": "display_data"
    }
   ],
   "source": [
    "from scipy.integrate import odeint\n",
    "\n",
    "x_s = np.linspace(0.0, 1.9, 400)\n",
    "\n",
    "start=0\n",
    "plt.plot(x_s[start:], odeint(dxdt, a_0, x_s)[start:] ,label=\"Orig\")\n",
    "plt.plot(x_s[start:], f_est(x_s)[start:],label=\"1\")\n",
    "plt.plot(x_s[start:], f_est2(x_s)[start:],label=\"2\");plt.grid();plt.legend()"
   ]
  },
  {
   "cell_type": "markdown",
   "id": "3aae7aca",
   "metadata": {},
   "source": [
    "# Sewing"
   ]
  },
  {
   "cell_type": "code",
   "execution_count": 1018,
   "id": "44d5ca9d",
   "metadata": {
    "ExecuteTime": {
     "end_time": "2023-12-21T21:43:08.172494Z",
     "start_time": "2023-12-21T21:42:40.404515Z"
    }
   },
   "outputs": [],
   "source": [
    "f_x = lambda x: np.sin(x)\n",
    "f_1_x = lambda x: np.cos(x)\n",
    "f_2_x = lambda x: -np.sin(x)\n",
    "f_3_x = lambda x: -np.cos(x)\n",
    "\n",
    "f_ests = []\n",
    "a_0_s = []\n",
    "a_0 = 0\n",
    "a_0_s.append(a_0)\n",
    "f_s = [f_x(a_0), f_1_x(a_0), f_2_x(a_0), f_3_x(a_0)] + [0]*100\n",
    "b=.5\n",
    "mu=2\n",
    "shift = 0.1\n",
    "max_iter = 100\n",
    "for i in range(max_iter):\n",
    "    \n",
    "    coefs=X_t_coefs_fast(f_s, a_0, mu, b, 30, one_houndred_lookup)\n",
    "\n",
    "    def dxdt(x, t):\n",
    "        return b - mu*x + f_x(x)\n",
    "\n",
    "    f_est = create_power_series_np(coefs)\n",
    "    \n",
    "    f_ests.append(f_est)\n",
    "    \n",
    "    a_0 = f_est(np.array([0.0, shift]))[-1]\n",
    "    a_0_s.append(a_0)\n",
    "    f_s = [f_x(a_0), f_1_x(a_0), f_2_x(a_0), f_3_x(a_0)] + [0]*100\n"
   ]
  },
  {
   "cell_type": "code",
   "execution_count": 1019,
   "id": "8e1ff5fc",
   "metadata": {
    "ExecuteTime": {
     "end_time": "2023-12-21T21:43:14.540686Z",
     "start_time": "2023-12-21T21:43:14.307334Z"
    }
   },
   "outputs": [
    {
     "data": {
      "image/png": "[encoded data removed]",
      "text/plain": [
       "<Figure size 640x480 with 1 Axes>"
      ]
     },
     "metadata": {},
     "output_type": "display_data"
    }
   ],
   "source": [
    "from scipy.integrate import odeint\n",
    "\n",
    "\n",
    "x_s_start = np.linspace(0.0, shift, 400)\n",
    "origi_a_0=a_0_s[0]\n",
    "for i in range(max_iter):\n",
    "\n",
    "    x_s = np.linspace(i*shift, (i+1)*shift, 400)\n",
    "    f_est = f_ests[i]\n",
    "    \n",
    "    numeric_x_s = odeint(dxdt, origi_a_0, x_s_start)\n",
    "    origi_a_0 = numeric_x_s[-1]\n",
    "    plt.plot(x_s, numeric_x_s, '-.' ,label=\"Orig\")\n",
    "    plt.plot(x_s, f_est(x_s_start), alpha=.5, color='black');\n",
    "\n",
    "plt.grid();"
   ]
  },
  {
   "cell_type": "markdown",
   "id": "0125c00b",
   "metadata": {},
   "source": [
    "#\n",
    "\n",
    "<h3><center>$-\\frac{d^n H(x)}{dx^n} = \\frac{d^n h(x)}{dx^n} = \\frac{d^n}{dx^n} \\frac{1}{1 + (\\frac{x}{k})^{\\alpha}}$</center></h3>\n",
    "<h3><center>$= \\begin{cases}\n",
    "                 0,&  n/\\alpha - \\lfloor n/\\alpha \\rfloor \\ne 0\\\\\n",
    "                 (-1)^{n/\\alpha} \\frac{n!}{k^n},              & \\text{otherwise}\n",
    "              \\end{cases}$</center></h3>"
   ]
  },
  {
   "cell_type": "code",
   "execution_count": null,
   "id": "f46bcdfb",
   "metadata": {},
   "outputs": [],
   "source": []
  },
  {
   "cell_type": "code",
   "execution_count": 1143,
   "id": "95720c4a",
   "metadata": {
    "ExecuteTime": {
     "end_time": "2023-12-22T09:58:33.211108Z",
     "start_time": "2023-12-22T09:58:33.195260Z"
    },
    "code_folding": [
     0,
     12,
     30
    ]
   },
   "outputs": [],
   "source": [
    "def binomial_coef(n):\n",
    "    \"\"\"Finds all the Binomial coefiecents of n.\"\"\"\n",
    "    val = 1\n",
    "    yield val\n",
    "    if n == 1:\n",
    "        yield val\n",
    "        return\n",
    "    for i in range(n):\n",
    "        val *= (n-i)\n",
    "        val //= (i+1)\n",
    "        yield val\n",
    "        \n",
    "def mul_derivatives(n, f1s, f2s):\n",
    "    \"\"\"Finds the nth derivatives of g(x) = f1(x)f2(x)\n",
    "    \n",
    "       args:\n",
    "    \n",
    "       n:   order of the derivatives.\n",
    "       f1s: An array of previous derivatives of the first function\n",
    "            (f1, f1', f1'', ..., f1^(n-1)).\n",
    "       f2s: An array of previous derivatives of the second function\n",
    "            (f2, f2', f2'', ..., f2^(n-1)).\n",
    "    \"\"\"\n",
    "    assert n+1 == len(f1s)\n",
    "    assert n+1 == len(f2s)\n",
    "    \n",
    "    return np.sum([(c * v1) * v2 for c, v1, v2 in zip(binomial_coef(n), f1s, f2s[::-1]) ])\n",
    "    \n",
    "    \n",
    "    \n",
    "def Hill_derivatives(alpha, k, n, x0):    \n",
    "        \n",
    "    def H(x):\n",
    "        if x == 0:\n",
    "            return 0.0\n",
    "        return 1.0 / (1.0 + (k/x)**alpha)\n",
    "    \n",
    "    def h(x):        \n",
    "        return 1.0 / (1.0 + (x/k)**alpha)\n",
    "    \n",
    "    if x0 == 0:\n",
    "        hs = [h(x0)]\n",
    "        Hs = [H(x0)]\n",
    "        hsHs = [h(x0) * H(x0)]\n",
    "        for i in range(1, n):\n",
    "            if i%alpha != 0:\n",
    "                hs += [0]\n",
    "            else:\n",
    "                hs += [((-1)**(i//alpha))*prod(range(1,i+1))/(k**i)]\n",
    "            Hs += [-hs[-1]]        \n",
    "            hsHs += [hs[-1] * Hs[-1]]\n",
    "        return (hs, Hs, hsHs)\n",
    "        \n",
    "    def f_der(x, order):\n",
    "        if x == 0:\n",
    "            return 0.0\n",
    "        \n",
    "        ret = ((-1)**order) * alpha / (x ** (1+order))\n",
    "        ret *= np.prod(range(1, order+1))\n",
    "        return ret\n",
    "    \n",
    "    hs = [h(x0)]\n",
    "    Hs = [H(x0)]\n",
    "    fs = [f_der(x0, 0)]\n",
    "    hsHs = [h(x0) * H(x0)]\n",
    "    \n",
    "    Hs += [fs[0] * hsHs[0]]\n",
    "    hs += [-Hs[-1]]    \n",
    "    hsHs += [mul_derivatives(1, hs, Hs)]\n",
    "    fs += [f_der(x0, 1)]\n",
    "                \n",
    "    for i in range(2, n):  \n",
    "        Hs += [mul_derivatives(i-1, fs, hsHs)]\n",
    "        hs += [-Hs[-1]]        \n",
    "        \n",
    "        hsHs += [mul_derivatives(i, hs, Hs)]\n",
    "        fs += [f_der(x0, i)]\n",
    "        \n",
    "        \n",
    "        \n",
    "    return (hs, Hs, hsHs)\n",
    "        \n",
    "    "
   ]
  },
  {
   "cell_type": "code",
   "execution_count": 1215,
   "id": "73e67e82",
   "metadata": {
    "ExecuteTime": {
     "end_time": "2023-12-22T10:20:58.779464Z",
     "start_time": "2023-12-22T10:20:58.767817Z"
    }
   },
   "outputs": [
    {
     "data": {
      "text/plain": [
       "[(1.0, 0.99999999999),\n",
       " (-0.1, -0.099999999998),\n",
       " (0.02, 0.019999980926513672),\n",
       " (-0.006, -4096.0),\n",
       " (0.0024, -0.0),\n",
       " (-0.0012, -4.835703278458517e+24),\n",
       " (0.00072, -1.661534994731145e+35),\n",
       " (-0.000504, -0.0),\n",
       " (0.0004032, -3.292088964071299e+56),\n",
       " (-0.00036288, 5.391989333430128e+67),\n",
       " (0.00036288, 1.4821387422376473e+79),\n",
       " (-0.000399168, -5.092589940836215e+89),\n",
       " (0.0004790016, -6.999202319305638e+100),\n",
       " (-0.00062270208, -0.0),\n",
       " (0.000871782912, -2.6442238751609944e+123),\n",
       " (-0.001307674368, -1.8170968107390172e+134),\n",
       " (0.0020922789888, -1.0629678292259684e+145),\n",
       " (-0.00355687428096, -6.86479766013061e+156),\n",
       " (0.006402373705728, -9.434906062053853e+167),\n",
       " (-0.0121645100408832, -0.0)]"
      ]
     },
     "execution_count": 1215,
     "metadata": {},
     "output_type": "execute_result"
    }
   ],
   "source": [
    "hs, Hs, hsHs = Hill_derivatives(alpha=1, k=10, n=20, x0=0)\n",
    "hs2, Hs, hsHs = Hill_derivatives(alpha=1, k=10, n=20, x0=1e-10)\n",
    "list(zip(hs, hs2))"
   ]
  },
  {
   "cell_type": "code",
   "execution_count": 1211,
   "id": "83fe530d",
   "metadata": {
    "ExecuteTime": {
     "end_time": "2023-12-22T10:18:46.864383Z",
     "start_time": "2023-12-22T10:18:46.853780Z"
    }
   },
   "outputs": [],
   "source": [
    "b=0.00\n",
    "mu=10\n",
    "x0 = 0.0\n",
    "n_max = 100\n",
    "alpha = 1\n",
    "k=10.0\n",
    "hs, Hs, hsHs = Hill_derivatives(alpha, k, n_max, x0)\n",
    "\n",
    "coefs=X_t_coefs_fast(hs, x0, mu, b, 2, one_houndred_lookup)\n",
    "\n",
    "def H(x):\n",
    "    if x == 0.0:\n",
    "        return 0.0\n",
    "    return 1.0 / (1.0 + (k/x)**alpha)\n",
    "\n",
    "def h(x):        \n",
    "    return 1.0 / (1.0 + (x/k)**alpha)\n",
    "\n",
    "def dxdt(x, t):\n",
    "    return b - mu*x + h(x)\n",
    "\n",
    "X_est = create_power_series_np(coefs)"
   ]
  },
  {
   "cell_type": "code",
   "execution_count": 1212,
   "id": "77ca0456",
   "metadata": {
    "ExecuteTime": {
     "end_time": "2023-12-22T10:18:47.526965Z",
     "start_time": "2023-12-22T10:18:47.371528Z"
    }
   },
   "outputs": [
    {
     "data": {
      "text/plain": [
       "<matplotlib.legend.Legend at 0x7fd26b10a810>"
      ]
     },
     "execution_count": 1212,
     "metadata": {},
     "output_type": "execute_result"
    },
    {
     "data": {
      "image/png": "[encoded data removed]",
      "text/plain": [
       "<Figure size 640x480 with 1 Axes>"
      ]
     },
     "metadata": {},
     "output_type": "display_data"
    }
   ],
   "source": [
    "from scipy.integrate import odeint\n",
    "\n",
    "t_s = np.linspace(0.0, 1, 400)\n",
    "\n",
    "start=0\n",
    "plt.plot(t_s[start:], odeint(dxdt, x0, t_s)[start:] ,label=\"Orig\")\n",
    "plt.plot(t_s[start:], X_est(t_s)[start:],label=\"1\")\n",
    "plt.grid();plt.legend()"
   ]
  },
  {
   "cell_type": "code",
   "execution_count": 1213,
   "id": "95e138a9",
   "metadata": {
    "ExecuteTime": {
     "end_time": "2023-12-22T10:18:53.457974Z",
     "start_time": "2023-12-22T10:18:53.451399Z"
    }
   },
   "outputs": [
    {
     "data": {
      "text/plain": [
       "[0.0, 1.0, -5.05, 17.005]"
      ]
     },
     "execution_count": 1213,
     "metadata": {},
     "output_type": "execute_result"
    }
   ],
   "source": [
    "coefs"
   ]
  },
  {
   "cell_type": "code",
   "execution_count": 1188,
   "id": "23dba8a0",
   "metadata": {
    "ExecuteTime": {
     "end_time": "2023-12-22T10:05:03.781102Z",
     "start_time": "2023-12-22T10:05:03.324569Z"
    }
   },
   "outputs": [],
   "source": [
    "b=0.01\n",
    "mu=2\n",
    "n_max = 41\n",
    "alpha = 1\n",
    "k=1.0\n",
    "\n",
    "def H(x):\n",
    "    if x == 0.0:\n",
    "        return 0.0\n",
    "    return 1.0 / (1.0 + (k/x)**alpha)\n",
    "\n",
    "def h(x):        \n",
    "    return 1.0 / (1.0 + (x/k)**alpha)\n",
    "\n",
    "x_ests = []\n",
    "\n",
    "x0_s = []\n",
    "x0 = 0.0\n",
    "x0_s.append(x0)\n",
    "\n",
    "hs, Hs, hsHs = Hill_derivatives(alpha, k, n_max, x0)\n",
    "\n",
    "shift = .1\n",
    "max_iter = 100\n",
    "for i in range(max_iter):\n",
    "    \n",
    "    coefs=X_t_coefs_fast(Hs, x0, mu, b, 20, one_houndred_lookup)\n",
    "\n",
    "    def dxdt(x, t):\n",
    "        return b - mu*x + H(x)\n",
    "\n",
    "    x_est = create_power_series_np(coefs)\n",
    "    \n",
    "    x_ests.append(x_est)\n",
    "    \n",
    "    x0 = x_est(np.array([0.0, shift]))[-1]\n",
    "    x0_s.append(x0)\n",
    "    hs, Hs, hsHs = Hill_derivatives(alpha, k, n_max, x0)\n"
   ]
  },
  {
   "cell_type": "code",
   "execution_count": 1189,
   "id": "e888be6d",
   "metadata": {
    "ExecuteTime": {
     "end_time": "2023-12-22T10:05:06.465215Z",
     "start_time": "2023-12-22T10:05:06.175836Z"
    }
   },
   "outputs": [
    {
     "data": {
      "image/png": "[encoded data removed]",
      "text/plain": [
       "<Figure size 640x480 with 1 Axes>"
      ]
     },
     "metadata": {},
     "output_type": "display_data"
    }
   ],
   "source": [
    "from scipy.integrate import odeint\n",
    "\n",
    "t_s_start = np.linspace(0.0, shift, 400)\n",
    "origi_x0=x0_s[0]\n",
    "for i in range(max_iter):\n",
    "\n",
    "    t_s = np.linspace(i*shift, (i+1)*shift, 400)\n",
    "    x_est = x_ests[i]\n",
    "    \n",
    "    numeric_x_s = odeint(dxdt, origi_x0, t_s_start)\n",
    "    origi_x0 = numeric_x_s[-1]\n",
    "    \n",
    "    plt.plot(t_s, numeric_x_s , '-.' ,label=\"Orig\")\n",
    "    plt.plot(t_s, x_est(t_s_start), alpha=.5, color='black');\n",
    "\n",
    "plt.grid();"
   ]
  },
  {
   "cell_type": "code",
   "execution_count": 1012,
   "id": "15fd9db1",
   "metadata": {
    "ExecuteTime": {
     "end_time": "2023-12-21T21:39:12.913595Z",
     "start_time": "2023-12-21T21:39:12.905054Z"
    }
   },
   "outputs": [
    {
     "data": {
      "text/plain": [
       "[0.0,\n",
       " 0.004543526785714284,\n",
       " 0.008737535351139766,\n",
       " 0.009650084389164506,\n",
       " 0.009848077185055166,\n",
       " 0.009891009488138248,\n",
       " 0.009900317638562773,\n",
       " 0.009902335682265688,\n",
       " 0.009902773199468126,\n",
       " 0.00990286805422919,\n",
       " 0.009902888618959231]"
      ]
     },
     "execution_count": 1012,
     "metadata": {},
     "output_type": "execute_result"
    }
   ],
   "source": [
    "x0_s"
   ]
  },
  {
   "cell_type": "code",
   "execution_count": null,
   "id": "8c3d144d",
   "metadata": {},
   "outputs": [],
   "source": []
  }
 ],
 "metadata": {
  "hide_input": false,
  "kernelspec": {
   "display_name": "Python 3 (ipykernel)",
   "language": "python",
   "name": "python3"
  },
  "language_info": {
   "codemirror_mode": {
    "name": "ipython",
    "version": 3
   },
   "file_extension": ".py",
   "mimetype": "text/x-python",
   "name": "python",
   "nbconvert_exporter": "python",
   "pygments_lexer": "ipython3",
   "version": "3.9.13"
  },
  "varInspector": {
   "cols": {
    "lenName": 16,
    "lenType": 16,
    "lenVar": 40
   },
   "kernels_config": {
    "python": {
     "delete_cmd_postfix": "",
     "delete_cmd_prefix": "del ",
     "library": "var_list.py",
     "varRefreshCmd": "print(var_dic_list())"
    },
    "r": {
     "delete_cmd_postfix": ") ",
     "delete_cmd_prefix": "rm(",
     "library": "var_list.r",
     "varRefreshCmd": "cat(var_dic_list()) "
    }
   },
   "types_to_exclude": [
    "module",
    "function",
    "builtin_function_or_method",
    "instance",
    "_Feature"
   ],
   "window_display": false
  }
 },
 "nbformat": 4,
 "nbformat_minor": 5
}
