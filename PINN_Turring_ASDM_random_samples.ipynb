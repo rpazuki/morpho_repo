{
 "cells": [
  {
   "cell_type": "markdown",
   "id": "d1c0b82f",
   "metadata": {},
   "source": [
    "> __Paper:__\n",
    "Physics-informed neural networks: A deep learning framework for solving forward and\n",
    "inverse problems involving nonlinear partial differential equations\n",
    "\n",
    "> [Link](https://doi.org/10.1016/j.jcp.2018.10.045)"
   ]
  },
  {
   "cell_type": "markdown",
   "id": "f4a9c83d",
   "metadata": {},
   "source": [
    "> In This notebook, we select randomly sample 512 x 32 x 2 grid points of a solution of ASDM for a 32 x 32 grid, integerated for 0 to 50000 for 512 time steps. \n",
    "\n",
    "> The free parameters of the model are fixed.\n",
    "\n",
    "> The goal here is overfitting the model to re-create the exact output from the mtrained model, however, we do not feed all the grid points in training part. On average 32 x2 data point exists for each time step, around 65/1024=6.25% of the data."
   ]
  },
  {
   "cell_type": "code",
   "execution_count": 1,
   "id": "212253b0",
   "metadata": {
    "ExecuteTime": {
     "end_time": "2022-05-03T06:48:17.256880Z",
     "start_time": "2022-05-03T06:48:16.033341Z"
    }
   },
   "outputs": [
    {
     "name": "stderr",
     "output_type": "stream",
     "text": [
      "/usr/local/anaconda3/envs/tensorflow.1.12/lib/python3.6/site-packages/tensorflow/python/framework/dtypes.py:523: FutureWarning: Passing (type, 1) or '1type' as a synonym of type is deprecated; in a future version of numpy, it will be understood as (type, (1,)) / '(1,)type'.\n",
      "  _np_qint8 = np.dtype([(\"qint8\", np.int8, 1)])\n",
      "/usr/local/anaconda3/envs/tensorflow.1.12/lib/python3.6/site-packages/tensorflow/python/framework/dtypes.py:524: FutureWarning: Passing (type, 1) or '1type' as a synonym of type is deprecated; in a future version of numpy, it will be understood as (type, (1,)) / '(1,)type'.\n",
      "  _np_quint8 = np.dtype([(\"quint8\", np.uint8, 1)])\n",
      "/usr/local/anaconda3/envs/tensorflow.1.12/lib/python3.6/site-packages/tensorflow/python/framework/dtypes.py:525: FutureWarning: Passing (type, 1) or '1type' as a synonym of type is deprecated; in a future version of numpy, it will be understood as (type, (1,)) / '(1,)type'.\n",
      "  _np_qint16 = np.dtype([(\"qint16\", np.int16, 1)])\n",
      "/usr/local/anaconda3/envs/tensorflow.1.12/lib/python3.6/site-packages/tensorflow/python/framework/dtypes.py:526: FutureWarning: Passing (type, 1) or '1type' as a synonym of type is deprecated; in a future version of numpy, it will be understood as (type, (1,)) / '(1,)type'.\n",
      "  _np_quint16 = np.dtype([(\"quint16\", np.uint16, 1)])\n",
      "/usr/local/anaconda3/envs/tensorflow.1.12/lib/python3.6/site-packages/tensorflow/python/framework/dtypes.py:527: FutureWarning: Passing (type, 1) or '1type' as a synonym of type is deprecated; in a future version of numpy, it will be understood as (type, (1,)) / '(1,)type'.\n",
      "  _np_qint32 = np.dtype([(\"qint32\", np.int32, 1)])\n",
      "/usr/local/anaconda3/envs/tensorflow.1.12/lib/python3.6/site-packages/tensorflow/python/framework/dtypes.py:532: FutureWarning: Passing (type, 1) or '1type' as a synonym of type is deprecated; in a future version of numpy, it will be understood as (type, (1,)) / '(1,)type'.\n",
      "  np_resource = np.dtype([(\"resource\", np.ubyte, 1)])\n"
     ]
    }
   ],
   "source": [
    "\"\"\"\n",
    "@author: Maziar Raissi\n",
    "\"\"\"\n",
    "\n",
    "import sys\n",
    "sys.path.insert(0, '../../clones/PINNs/Utilities/')\n",
    "import tensorflow as tf\n",
    "import numpy as np\n",
    "import matplotlib.pyplot as plt\n",
    "import scipy.io\n",
    "from scipy.interpolate import griddata\n",
    "#from pyDOE import lhs\n",
    "from mpl_toolkits.mplot3d import Axes3D\n",
    "import time\n",
    "import matplotlib.gridspec as gridspec\n",
    "from mpl_toolkits.axes_grid1 import make_axes_locatable\n",
    "\n",
    "\n",
    "import os\n",
    "#os.environ[\"CUDA_VISIBLE_DEVICES\"]=\"0,1\"\n",
    "#os.environ[\"CUDA_VISIBLE_DEVICES\"]=\"0\"\n",
    "#os.environ[\"CUDA_VISIBLE_DEVICES\"]=\"1\"\n",
    "#os.environ['TF_CPP_MIN_LOG_LEVEL'] = '3'\n",
    "\n",
    "#tf.logging.set_verbosity(tf.logging.ERROR)"
   ]
  },
  {
   "cell_type": "code",
   "execution_count": 2,
   "id": "a9268849",
   "metadata": {
    "ExecuteTime": {
     "end_time": "2022-05-03T06:48:46.840205Z",
     "start_time": "2022-05-03T06:48:46.716621Z"
    },
    "code_folding": []
   },
   "outputs": [],
   "source": [
    "np.random.seed(1234)\n",
    "tf.set_random_seed(1234)\n",
    "\n",
    "\n",
    "class PhysicsInformedNN:\n",
    "    # Initialize the class\n",
    "    def __init__(self, x, y, t, a, s, layers): \n",
    "        \n",
    "        with tf.device('gpu:0'):\n",
    "        #with tf.device('cpu:0'):\n",
    "                 \n",
    "            X = np.concatenate([x, y, t], 1)\n",
    "\n",
    "            self.lb = X.min(0)\n",
    "            self.ub = X.max(0)                        \n",
    "\n",
    "            self.x = X[:,0:1]\n",
    "            self.y = X[:,1:2]\n",
    "            self.t = X[:,2:3]\n",
    "\n",
    "            self.a = a\n",
    "            self.s = s\n",
    "\n",
    "            self.layers = layers\n",
    "\n",
    "            # Initialize NN\n",
    "            self.weights, self.biases = self.initialize_NN(layers)        \n",
    "\n",
    "            # Initialize parameters\n",
    "            self.D_a = tf.constant(0.005, dtype=tf.float32)#tf.Variable([0.005], dtype=tf.float32)\n",
    "            self.D_s = tf.constant(0.2, dtype=tf.float32)#tf.Variable([0.2], dtype=tf.float32)\n",
    "            self.sigma_a = tf.constant(0.0, dtype=tf.float32)#tf.Variable([0.0], dtype=tf.float32)\n",
    "            self.sigma_s = tf.constant(0.02, dtype=tf.float32)#tf.Variable([0.02], dtype=tf.float32)\n",
    "            self.mu_a = tf.constant(0.01, dtype=tf.float32)#tf.Variable([0.01], dtype=tf.float32)\n",
    "            self.rho_a = tf.constant(0.01, dtype=tf.float32)#tf.Variable([0.01], dtype=tf.float32)\n",
    "            self.rho_s = tf.constant(0.02, dtype=tf.float32)#tf.Variable([0.02], dtype=tf.float32)\n",
    "            self.kappa_a = tf.constant(0.25, dtype=tf.float32)#tf.Variable([0.25], dtype=tf.float32)\n",
    "\n",
    "            # tf placeholders and graph\n",
    "            self.sess = tf.Session(config=tf.ConfigProto(allow_soft_placement=True,\n",
    "                                                         log_device_placement=True))\n",
    "\n",
    "            self.x_tf = tf.placeholder(tf.float32, shape=[None, self.x.shape[1]], name=\"x_tf\")\n",
    "            self.y_tf = tf.placeholder(tf.float32, shape=[None, self.y.shape[1]], name=\"y_tf\")\n",
    "            self.t_tf = tf.placeholder(tf.float32, shape=[None, self.t.shape[1]], name=\"t_tf\")\n",
    "\n",
    "            self.a_tf = tf.placeholder(tf.float32, shape=[None, self.a.shape[1]], name=\"a_tf\")\n",
    "            self.s_tf = tf.placeholder(tf.float32, shape=[None, self.s.shape[1]], name=\"s_tf\")\n",
    "\n",
    "            self.a_pred, self.s_pred, self.f_a_pred, self.f_s_pred = self.net_ASDM(self.x_tf, self.y_tf, self.t_tf)\n",
    "\n",
    "            self.loss_1 = tf.reduce_sum(tf.square(self.a_tf - self.a_pred)) + \\\n",
    "                        tf.reduce_sum(tf.square(self.s_tf - self.s_pred)) \n",
    "\n",
    "            self.loss_a = tf.reduce_sum(tf.square(self.f_a_pred), name = \"loss_a\")\n",
    "\n",
    "            self.loss_s = tf.reduce_sum(tf.square(self.f_s_pred), name = \"loss_s\")\n",
    "\n",
    "            self.loss = self.loss_1 + self.loss_a + self.loss_s        \n",
    "\n",
    "            self.optimizer = tf.contrib.opt.ScipyOptimizerInterface(self.loss, \n",
    "                                                                    method = 'L-BFGS-B', \n",
    "                                                                    options = {'maxiter': 50000,\n",
    "                                                                               'maxfun': 50000,\n",
    "                                                                               'maxcor': 50,\n",
    "                                                                               'maxls': 50,\n",
    "                                                                               'ftol' : 1.0 * np.finfo(float).eps})        \n",
    "\n",
    "            self.optimizer_Adam = tf.train.AdamOptimizer()\n",
    "            self.train_op_Adam = self.optimizer_Adam.minimize(self.loss)                    \n",
    "\n",
    "            init = tf.global_variables_initializer()\n",
    "            self.sess.run(init)\n",
    "\n",
    "    def initialize_NN(self, layers):        \n",
    "        weights = []\n",
    "        biases = []\n",
    "        num_layers = len(layers) \n",
    "        for l in range(0,num_layers-1):\n",
    "            W = self.xavier_init(size=[layers[l], layers[l+1]])\n",
    "            b = tf.Variable(tf.zeros([1,layers[l+1]], dtype=tf.float32), dtype=tf.float32)\n",
    "            weights.append(W)\n",
    "            biases.append(b)        \n",
    "        return weights, biases\n",
    "        \n",
    "    def xavier_init(self, size):\n",
    "        in_dim = size[0]\n",
    "        out_dim = size[1]        \n",
    "        xavier_stddev = np.sqrt(2/(in_dim + out_dim))\n",
    "        return tf.Variable(tf.truncated_normal([in_dim, out_dim], stddev=xavier_stddev), dtype=tf.float32)\n",
    "    \n",
    "    def neural_net(self, X, weights, biases):\n",
    "        num_layers = len(weights) + 1\n",
    "        \n",
    "        H = 2.0*(X - self.lb)/(self.ub - self.lb) - 1.0\n",
    "        for l in range(0,num_layers-2):\n",
    "            W = weights[l]\n",
    "            b = biases[l]\n",
    "            H = tf.tanh(tf.add(tf.matmul(H, W), b))\n",
    "            #H = tf.nn.relu(tf.add(tf.matmul(H, W), b))\n",
    "        W = weights[-1]\n",
    "        b = biases[-1]\n",
    "        Y = tf.add(tf.matmul(H, W), b)\n",
    "        return Y\n",
    "        \n",
    "    def net_ASDM(self, x, y, t):\n",
    "        D_a = self.D_a\n",
    "        D_s = self.D_s\n",
    "        sigma_a = self.sigma_a\n",
    "        sigma_s = self.sigma_s\n",
    "        mu_a = self.mu_a\n",
    "        rho_a = self.rho_a\n",
    "        rho_s = self.rho_s\n",
    "        kappa_a = self.kappa_a\n",
    "        \n",
    "        a_and_s = self.neural_net(tf.concat([x,y,t], 1), self.weights, self.biases)\n",
    "        #a = a_and_s[:,0:1]\n",
    "        a = tf.slice(a_and_s, [0,0], [-1,1], name = \"a_pred\")\n",
    "        #s = a_and_s[:,1:2]                \n",
    "        s = tf.slice(a_and_s, [0,1], [-1,1], name = \"s_pred\")\n",
    "        \n",
    "        a_t = tf.gradients(a, t)[0]\n",
    "        a_x = tf.gradients(a, x)[0]\n",
    "        a_y = tf.gradients(a, y)[0]\n",
    "        a_xx = tf.gradients(a_x, x)[0]\n",
    "        a_yy = tf.gradients(a_y, y)[0]\n",
    "        \n",
    "        s_t = tf.gradients(s, t)[0]\n",
    "        s_x = tf.gradients(s, x)[0]\n",
    "        s_y = tf.gradients(s, y)[0]\n",
    "        s_xx = tf.gradients(s_x, x)[0]\n",
    "        s_yy = tf.gradients(s_y, y)[0]\n",
    "        \n",
    "        f = a*a*s/(1 + kappa_a*a*a)\n",
    "        f_a = a_t - D_a*(a_xx + a_yy) - rho_a*f + mu_a*a - sigma_a\n",
    "        f_s = s_t - D_s*(s_xx + s_yy) + rho_s*f - sigma_s\n",
    "        \n",
    "        return a, s, f_a, f_s\n",
    "    \n",
    "    def callback(self, loss, D_a, D_s, sigma_a,sigma_s,\n",
    "                       rho_a, rho_s, mu_a, kappa_a):\n",
    "        print(f\"loss: {loss},\\n\"\n",
    "              f\"D_a: {D_a:.4f}, D_s: {D_s:.4f}\\n\"\n",
    "              f\"sigma_a: {sigma_a:.4f}, sigma_s: {sigma_s:.4f}\\n\"\n",
    "              f\"rho_a: {rho_a:.4f}, rho_s: {rho_s:.4f}\\n\"\n",
    "              f\"mu_a: {mu_a:.4f}, kappa_a: {kappa_a:.4f}\\n\")\n",
    "        \n",
    "      \n",
    "    def train(self, nIter, early_stop_thresh = None): \n",
    "\n",
    "        tf_dict = {self.x_tf: self.x, self.y_tf: self.y, self.t_tf: self.t,\n",
    "                   self.a_tf: self.a, self.s_tf: self.s}\n",
    "        \n",
    "        start_time = time.time()\n",
    "        for it in range(nIter):\n",
    "            self.sess.run(self.train_op_Adam, tf_dict)\n",
    "            \n",
    "            loss_value = self.sess.run(self.loss, tf_dict)\n",
    "            # Print\n",
    "            if it % 100 == 0:\n",
    "                elapsed = time.time() - start_time\n",
    "                loss_a_value = self.sess.run(self.loss_a, tf_dict)\n",
    "                loss_s_value = self.sess.run(self.loss_s, tf_dict)\n",
    "                #loss_value = self.sess.run(self.loss, tf_dict)\n",
    "                D_a_value = self.sess.run(self.D_a)#[0]\n",
    "                D_s_value = self.sess.run(self.D_s)#[0]\n",
    "                sigma_a_value = self.sess.run(self.sigma_a)#[0]\n",
    "                sigma_s_value = self.sess.run(self.sigma_s)#[0]\n",
    "                rho_a_value = self.sess.run(self.rho_a)#[0]\n",
    "                rho_s_value = self.sess.run(self.rho_s)#[0]\n",
    "                mu_a_value = self.sess.run(self.mu_a)#[0]\n",
    "                kappa_a_value = self.sess.run(self.kappa_a)#[0]\n",
    "                \n",
    "                N = self.x.shape[0]\n",
    "                print(f\"It: {it}, loss_a  : {loss_a_value:.8f}, loss_s  : {loss_s_value:.8f}, loss  : {loss_value:.2f},\\n\"\n",
    "                      f\"It: {it}, loss_a/N: {loss_a_value/N:.8f}, loss_s/N: {loss_s_value/N:.8f}, loss/N: {loss_value/N:.8f},\\n\"\n",
    "                      #f\"D_a: {D_a_value:.4f}, D_s: {D_s_value:.4f}\\n\"\n",
    "                      #f\"sigma_a: {sigma_a_value:.4f}, sigma_s: {sigma_s_value:.4f}\\n\"\n",
    "                      #f\"rho_a: {rho_a_value:.4f}, rho_s: {rho_s_value:.4f}\\n\"\n",
    "                      #f\"mu_a: {mu_a_value:.4f}, kappa_a: {kappa_a_value:.4f}, \\n\"\n",
    "                      f\"Time:{elapsed:.2f}\\n\")\n",
    "                start_time = time.time()\n",
    "                \n",
    "            if early_stop_thresh is not None and early_stop_thresh >= loss_value:\n",
    "                print(\"#\"*50)\n",
    "                print(\"         Early stop\")\n",
    "                print(\"#\"*50)\n",
    "                elapsed = time.time() - start_time\n",
    "                loss_a_value = self.sess.run(self.loss_a, tf_dict)\n",
    "                loss_s_value = self.sess.run(self.loss_s, tf_dict)\n",
    "                #loss_value = self.sess.run(self.loss, tf_dict)\n",
    "                D_a_value = self.sess.run(self.D_a)#[0]\n",
    "                D_s_value = self.sess.run(self.D_s)#[0]\n",
    "                sigma_a_value = self.sess.run(self.sigma_a)#[0]\n",
    "                sigma_s_value = self.sess.run(self.sigma_s)#[0]\n",
    "                rho_a_value = self.sess.run(self.rho_a)#[0]\n",
    "                rho_s_value = self.sess.run(self.rho_s)#[0]\n",
    "                mu_a_value = self.sess.run(self.mu_a)#[0]\n",
    "                kappa_a_value = self.sess.run(self.kappa_a)#[0]\n",
    "                \n",
    "                N = self.x.shape[0]\n",
    "                print(f\"It: {it}, loss_a  : {loss_a_value:.8f}, loss_s  : {loss_s_value:.8f}, loss  : {loss_value:.2f},\\n\"\n",
    "                      f\"It: {it}, loss_a/N: {loss_a_value/N:.8f}, loss_s/N: {loss_s_value/N:.8f}, loss/N: {loss_value/N:.8f},\\n\"\n",
    "                      #f\"D_a: {D_a_value:.4f}, D_s: {D_s_value:.4f}\\n\"\n",
    "                      #f\"sigma_a: {sigma_a_value:.4f}, sigma_s: {sigma_s_value:.4f}\\n\"\n",
    "                      #f\"rho_a: {rho_a_value:.4f}, rho_s: {rho_s_value:.4f}\\n\"\n",
    "                      #f\"mu_a: {mu_a_value:.4f}, kappa_a: {kappa_a_value:.4f}, \\n\"\n",
    "                      f\"Time:{elapsed:.2f}\\n\")\n",
    "                start_time = time.time()\n",
    "                break\n",
    "                \n",
    "            \n",
    "        #self.optimizer.minimize(self.sess,\n",
    "        #                        feed_dict = tf_dict,\n",
    "        #                        fetches = [self.loss, self.D_a, self.D_s,\n",
    "        #                                  self.sigma_a, self.sigma_s,\n",
    "        #                                  self.rho_a, self.rho_s,\n",
    "        #                                  self.mu_a, self.kappa_a],\n",
    "        #                        loss_callback = self.callback)\n",
    "            \n",
    "    \n",
    "    def predict(self, x_star, y_star, t_star):\n",
    "        \n",
    "        tf_dict = {self.x_tf: x_star, self.y_tf: y_star, self.t_tf: t_star}\n",
    "        \n",
    "        a_star = self.sess.run(self.a_pred, tf_dict)\n",
    "        s_star = self.sess.run(self.s_pred, tf_dict)\n",
    "        \n",
    "        return a_star, s_star"
   ]
  },
  {
   "cell_type": "code",
   "execution_count": 3,
   "id": "d7c3614d",
   "metadata": {
    "ExecuteTime": {
     "end_time": "2022-05-03T06:49:03.197480Z",
     "start_time": "2022-05-03T06:49:03.110914Z"
    },
    "scrolled": true
   },
   "outputs": [],
   "source": [
    "#layers = [3, 20, 20, 20, 20, 20, 20, 20, 20, 2]\n",
    "layers = [3, 64, 64, 64, 64, 2]\n",
    "#layers = [3, 128, 128, 128, 128, 2]\n",
    "\n",
    "#layers = [3, 100, 100, 100, 100, 2]\n",
    "\n",
    "# Load Data\n",
    "import os\n",
    "data_path = os.path.abspath(\"turing.npy\")\n",
    "with open(data_path, 'rb') as f:\n",
    "    data = np.load(f)\n",
    "    \n",
    "data_path = os.path.abspath(\"turing_t.npy\")\n",
    "with open(data_path, 'rb') as f:\n",
    "    t_star = np.load(f) \n",
    "    \n",
    "T = t_star.shape[0]    \n",
    "    \n",
    "L = 50\n",
    "x_size = data.shape[1]\n",
    "y_size = data.shape[2]\n",
    "N = x_size*y_size\n",
    "x = L*np.linspace(0,1,x_size)\n",
    "y = L*np.linspace(0,1,y_size)\n",
    "\n",
    "X,Y = np.meshgrid(x, y, sparse=False, indexing='ij')\n",
    "XX = np.tile(X.flatten(), T) # N x T\n",
    "YY = np.tile(Y.flatten(), T) # N x T\n",
    "TT = np.repeat(t_star[-T:], N) # T x N\n",
    "\n",
    "AA = np.einsum('ijk->kij', data[0, :, :, -T:]).flatten() # N x T\n",
    "SS = np.einsum('ijk->kij', data[1, :, :, -T:]).flatten() # N x T\n",
    "\n",
    "\n",
    "x = XX[:, np.newaxis] # NT x 1\n",
    "y = YY[:, np.newaxis] # NT x 1\n",
    "t = TT[:, np.newaxis] # NT x 1\n",
    "\n",
    "a = AA[:, np.newaxis] # NT x 1\n",
    "s = SS[:, np.newaxis] # NT x 1\n",
    "\n",
    "######################################################################\n",
    "######################## Noiseles Data ###############################\n",
    "######################################################################\n",
    "# Training Data    \n",
    "#idx = np.random.choice(N*T, N_train, replace=False)\n",
    "idx = np.random.choice(N*T, T*32*2, replace=False)\n",
    "#idx = list(range(N*T))\n",
    "x_train = x[idx,:]\n",
    "y_train = y[idx,:]\n",
    "t_train = t[idx,:]\n",
    "a_train = a[idx,:]\n",
    "s_train = s[idx,:]\n",
    "\n",
    "\n"
   ]
  },
  {
   "cell_type": "code",
   "execution_count": 4,
   "id": "7cb5f4d2",
   "metadata": {
    "ExecuteTime": {
     "end_time": "2022-05-03T06:49:06.793875Z",
     "start_time": "2022-05-03T06:49:06.783232Z"
    }
   },
   "outputs": [
    {
     "data": {
      "text/plain": [
       "(32768, 1)"
      ]
     },
     "execution_count": 4,
     "metadata": {},
     "output_type": "execute_result"
    }
   ],
   "source": [
    "s_train.shape"
   ]
  },
  {
   "cell_type": "code",
   "execution_count": null,
   "id": "c5262f74",
   "metadata": {
    "ExecuteTime": {
     "start_time": "2022-05-03T06:49:19.695Z"
    },
    "scrolled": true
   },
   "outputs": [
    {
     "name": "stdout",
     "output_type": "stream",
     "text": [
      "It: 0, loss_a  : 0.00492548, loss_s  : 13.10560226, loss  : 92075.37,\n",
      "It: 0, loss_a/N: 0.00000015, loss_s/N: 0.00039995, loss/N: 2.80991721,\n",
      "Time:3.41\n",
      "\n",
      "It: 100, loss_a  : 0.00385652, loss_s  : 0.03985721, loss  : 8711.26,\n",
      "It: 100, loss_a/N: 0.00000012, loss_s/N: 0.00000122, loss/N: 0.26584661,\n",
      "Time:100.86\n",
      "\n",
      "It: 200, loss_a  : 0.00230896, loss_s  : 0.02680406, loss  : 8703.78,\n",
      "It: 200, loss_a/N: 0.00000007, loss_s/N: 0.00000082, loss/N: 0.26561838,\n",
      "Time:100.95\n",
      "\n",
      "It: 300, loss_a  : 0.00206273, loss_s  : 0.02433380, loss  : 8700.08,\n",
      "It: 300, loss_a/N: 0.00000006, loss_s/N: 0.00000074, loss/N: 0.26550546,\n",
      "Time:100.68\n",
      "\n",
      "It: 400, loss_a  : 0.00192195, loss_s  : 0.02294684, loss  : 8697.36,\n",
      "It: 400, loss_a/N: 0.00000006, loss_s/N: 0.00000070, loss/N: 0.26542228,\n",
      "Time:100.66\n",
      "\n",
      "It: 500, loss_a  : 0.00184002, loss_s  : 0.02218687, loss  : 8695.04,\n",
      "It: 500, loss_a/N: 0.00000006, loss_s/N: 0.00000068, loss/N: 0.26535159,\n",
      "Time:100.73\n",
      "\n",
      "It: 600, loss_a  : 0.00179871, loss_s  : 0.02190270, loss  : 8692.67,\n",
      "It: 600, loss_a/N: 0.00000005, loss_s/N: 0.00000067, loss/N: 0.26527938,\n",
      "Time:100.70\n",
      "\n",
      "It: 700, loss_a  : 0.00179741, loss_s  : 0.02219717, loss  : 8689.53,\n",
      "It: 700, loss_a/N: 0.00000005, loss_s/N: 0.00000068, loss/N: 0.26518348,\n",
      "Time:100.84\n",
      "\n",
      "It: 800, loss_a  : 0.00187200, loss_s  : 0.02404165, loss  : 8683.16,\n",
      "It: 800, loss_a/N: 0.00000006, loss_s/N: 0.00000073, loss/N: 0.26498899,\n",
      "Time:100.58\n",
      "\n",
      "It: 900, loss_a  : 0.00222872, loss_s  : 0.03511039, loss  : 8666.38,\n",
      "It: 900, loss_a/N: 0.00000007, loss_s/N: 0.00000107, loss/N: 0.26447707,\n",
      "Time:100.69\n",
      "\n",
      "It: 1000, loss_a  : 0.00242669, loss_s  : 0.04942811, loss  : 8656.37,\n",
      "It: 1000, loss_a/N: 0.00000007, loss_s/N: 0.00000151, loss/N: 0.26417136,\n",
      "Time:100.62\n",
      "\n",
      "It: 1100, loss_a  : 0.00237940, loss_s  : 0.04295441, loss  : 8659.52,\n",
      "It: 1100, loss_a/N: 0.00000007, loss_s/N: 0.00000131, loss/N: 0.26426753,\n",
      "Time:100.79\n",
      "\n",
      "It: 1200, loss_a  : 0.00230432, loss_s  : 0.05030469, loss  : 8650.89,\n",
      "It: 1200, loss_a/N: 0.00000007, loss_s/N: 0.00000154, loss/N: 0.26400411,\n",
      "Time:100.73\n",
      "\n",
      "It: 1300, loss_a  : 0.00229667, loss_s  : 0.05132132, loss  : 8648.85,\n",
      "It: 1300, loss_a/N: 0.00000007, loss_s/N: 0.00000157, loss/N: 0.26394203,\n",
      "Time:100.69\n",
      "\n",
      "It: 1400, loss_a  : 0.00251684, loss_s  : 0.05875835, loss  : 8648.60,\n",
      "It: 1400, loss_a/N: 0.00000008, loss_s/N: 0.00000179, loss/N: 0.26393440,\n",
      "Time:100.77\n",
      "\n",
      "It: 1500, loss_a  : 0.00227827, loss_s  : 0.05335731, loss  : 8645.75,\n",
      "It: 1500, loss_a/N: 0.00000007, loss_s/N: 0.00000163, loss/N: 0.26384735,\n",
      "Time:100.73\n",
      "\n",
      "It: 1600, loss_a  : 0.00226463, loss_s  : 0.05412605, loss  : 8644.57,\n",
      "It: 1600, loss_a/N: 0.00000007, loss_s/N: 0.00000165, loss/N: 0.26381120,\n",
      "Time:100.93\n",
      "\n",
      "It: 1700, loss_a  : 0.00219182, loss_s  : 0.05230643, loss  : 8643.63,\n",
      "It: 1700, loss_a/N: 0.00000007, loss_s/N: 0.00000160, loss/N: 0.26378277,\n",
      "Time:100.78\n",
      "\n",
      "It: 1800, loss_a  : 0.00265321, loss_s  : 0.06658365, loss  : 8647.06,\n",
      "It: 1800, loss_a/N: 0.00000008, loss_s/N: 0.00000203, loss/N: 0.26388738,\n",
      "Time:100.74\n",
      "\n",
      "It: 1900, loss_a  : 0.00221767, loss_s  : 0.05539196, loss  : 8641.53,\n",
      "It: 1900, loss_a/N: 0.00000007, loss_s/N: 0.00000169, loss/N: 0.26371855,\n",
      "Time:100.57\n",
      "\n",
      "It: 2000, loss_a  : 0.00230034, loss_s  : 0.05984501, loss  : 8641.04,\n",
      "It: 2000, loss_a/N: 0.00000007, loss_s/N: 0.00000183, loss/N: 0.26370367,\n",
      "Time:100.61\n",
      "\n",
      "It: 2100, loss_a  : 0.00220583, loss_s  : 0.05625740, loss  : 8639.63,\n",
      "It: 2100, loss_a/N: 0.00000007, loss_s/N: 0.00000172, loss/N: 0.26366049,\n",
      "Time:100.63\n",
      "\n",
      "It: 2200, loss_a  : 0.00216813, loss_s  : 0.05604479, loss  : 8638.57,\n",
      "It: 2200, loss_a/N: 0.00000007, loss_s/N: 0.00000171, loss/N: 0.26362827,\n",
      "Time:100.78\n",
      "\n",
      "It: 2300, loss_a  : 0.00209579, loss_s  : 0.05442316, loss  : 8637.57,\n",
      "It: 2300, loss_a/N: 0.00000006, loss_s/N: 0.00000166, loss/N: 0.26359785,\n",
      "Time:100.77\n",
      "\n",
      "It: 2400, loss_a  : 0.00214504, loss_s  : 0.05662113, loss  : 8636.32,\n",
      "It: 2400, loss_a/N: 0.00000007, loss_s/N: 0.00000173, loss/N: 0.26355955,\n",
      "Time:100.52\n",
      "\n",
      "It: 2500, loss_a  : 0.00213275, loss_s  : 0.05679474, loss  : 8634.94,\n",
      "It: 2500, loss_a/N: 0.00000007, loss_s/N: 0.00000173, loss/N: 0.26351747,\n",
      "Time:100.64\n",
      "\n",
      "It: 2600, loss_a  : 0.00209562, loss_s  : 0.05594910, loss  : 8633.37,\n",
      "It: 2600, loss_a/N: 0.00000006, loss_s/N: 0.00000171, loss/N: 0.26346955,\n",
      "Time:100.59\n",
      "\n",
      "It: 2700, loss_a  : 0.00212917, loss_s  : 0.05765722, loss  : 8631.08,\n",
      "It: 2700, loss_a/N: 0.00000006, loss_s/N: 0.00000176, loss/N: 0.26339963,\n",
      "Time:100.56\n",
      "\n",
      "It: 2800, loss_a  : 0.00210950, loss_s  : 0.05758661, loss  : 8628.33,\n",
      "It: 2800, loss_a/N: 0.00000006, loss_s/N: 0.00000176, loss/N: 0.26331562,\n",
      "Time:100.92\n",
      "\n",
      "It: 2900, loss_a  : 0.00215843, loss_s  : 0.05955058, loss  : 8623.92,\n",
      "It: 2900, loss_a/N: 0.00000007, loss_s/N: 0.00000182, loss/N: 0.26318121,\n",
      "Time:100.73\n",
      "\n",
      "It: 3000, loss_a  : 0.00213432, loss_s  : 0.05951461, loss  : 8618.08,\n",
      "It: 3000, loss_a/N: 0.00000007, loss_s/N: 0.00000182, loss/N: 0.26300290,\n",
      "Time:100.70\n",
      "\n"
     ]
    }
   ],
   "source": [
    "# Training\n",
    "model = PhysicsInformedNN(x_train, y_train, t_train, a_train, s_train, layers)\n",
    "model.train(400000, early_stop_thresh=1000.0)"
   ]
  },
  {
   "cell_type": "code",
   "execution_count": 6,
   "id": "61b66329",
   "metadata": {
    "ExecuteTime": {
     "end_time": "2022-05-03T09:57:33.366265Z",
     "start_time": "2022-05-03T09:57:31.975901Z"
    }
   },
   "outputs": [
    {
     "name": "stdout",
     "output_type": "stream",
     "text": [
      "It: 0, loss_a  : 0.01446236, loss_s  : 1.05884826, loss  : 999.28,\n",
      "It: 0, loss_a/N: 0.00000044, loss_s/N: 0.00003231, loss/N: 0.03049571,\n",
      "Time:1.02\n",
      "\n",
      "##################################################\n",
      "         Early stop\n",
      "##################################################\n",
      "It: 0, loss_a  : 0.01446236, loss_s  : 1.05884826, loss  : 999.28,\n",
      "It: 0, loss_a/N: 0.00000044, loss_s/N: 0.00003231, loss/N: 0.03049571,\n",
      "Time:0.00\n",
      "\n"
     ]
    }
   ],
   "source": [
    "model.train(400000, early_stop_thresh=1000.0)"
   ]
  },
  {
   "cell_type": "code",
   "execution_count": 27,
   "id": "2079ba92",
   "metadata": {
    "ExecuteTime": {
     "end_time": "2022-05-03T11:12:12.826555Z",
     "start_time": "2022-05-03T10:35:29.639873Z"
    },
    "scrolled": true
   },
   "outputs": [
    {
     "name": "stdout",
     "output_type": "stream",
     "text": [
      "It: 0, loss_a  : 0.01447067, loss_s  : 1.05860591, loss  : 998.82,\n",
      "It: 0, loss_a/N: 0.00000044, loss_s/N: 0.00003231, loss/N: 0.03048157,\n",
      "Time:1.03\n",
      "\n",
      "It: 100, loss_a  : 0.01416034, loss_s  : 1.03627992, loss  : 962.23,\n",
      "It: 100, loss_a/N: 0.00000043, loss_s/N: 0.00003162, loss/N: 0.02936479,\n",
      "Time:101.36\n",
      "\n",
      "It: 200, loss_a  : 0.01376269, loss_s  : 1.00598526, loss  : 910.17,\n",
      "It: 200, loss_a/N: 0.00000042, loss_s/N: 0.00003070, loss/N: 0.02777627,\n",
      "Time:100.90\n",
      "\n",
      "It: 300, loss_a  : 0.01341284, loss_s  : 0.98402226, loss  : 871.72,\n",
      "It: 300, loss_a/N: 0.00000041, loss_s/N: 0.00003003, loss/N: 0.02660282,\n",
      "Time:100.88\n",
      "\n",
      "It: 400, loss_a  : 0.01311567, loss_s  : 0.96530956, loss  : 831.47,\n",
      "It: 400, loss_a/N: 0.00000040, loss_s/N: 0.00002946, loss/N: 0.02537455,\n",
      "Time:101.38\n",
      "\n",
      "It: 500, loss_a  : 0.01276673, loss_s  : 0.94814277, loss  : 810.76,\n",
      "It: 500, loss_a/N: 0.00000039, loss_s/N: 0.00002894, loss/N: 0.02474256,\n",
      "Time:100.68\n",
      "\n",
      "It: 600, loss_a  : 0.01257725, loss_s  : 0.93271941, loss  : 750.37,\n",
      "It: 600, loss_a/N: 0.00000038, loss_s/N: 0.00002846, loss/N: 0.02289944,\n",
      "Time:101.02\n",
      "\n",
      "It: 700, loss_a  : 0.01237035, loss_s  : 0.91612470, loss  : 710.18,\n",
      "It: 700, loss_a/N: 0.00000038, loss_s/N: 0.00002796, loss/N: 0.02167290,\n",
      "Time:100.64\n",
      "\n",
      "It: 800, loss_a  : 0.01209413, loss_s  : 0.90221173, loss  : 669.07,\n",
      "It: 800, loss_a/N: 0.00000037, loss_s/N: 0.00002753, loss/N: 0.02041827,\n",
      "Time:100.71\n",
      "\n",
      "It: 900, loss_a  : 0.01197679, loss_s  : 0.89636463, loss  : 626.67,\n",
      "It: 900, loss_a/N: 0.00000037, loss_s/N: 0.00002735, loss/N: 0.01912432,\n",
      "Time:100.94\n",
      "\n",
      "It: 1000, loss_a  : 0.01186409, loss_s  : 0.88212252, loss  : 586.51,\n",
      "It: 1000, loss_a/N: 0.00000036, loss_s/N: 0.00002692, loss/N: 0.01789899,\n",
      "Time:101.02\n",
      "\n",
      "It: 1100, loss_a  : 0.01203058, loss_s  : 0.86901933, loss  : 563.75,\n",
      "It: 1100, loss_a/N: 0.00000037, loss_s/N: 0.00002652, loss/N: 0.01720418,\n",
      "Time:100.84\n",
      "\n",
      "It: 1200, loss_a  : 0.01280828, loss_s  : 0.87859499, loss  : 566.67,\n",
      "It: 1200, loss_a/N: 0.00000039, loss_s/N: 0.00002681, loss/N: 0.01729333,\n",
      "Time:100.63\n",
      "\n",
      "It: 1300, loss_a  : 0.01120237, loss_s  : 0.84016985, loss  : 474.54,\n",
      "It: 1300, loss_a/N: 0.00000034, loss_s/N: 0.00002564, loss/N: 0.01448188,\n",
      "Time:100.88\n",
      "\n",
      "It: 1400, loss_a  : 0.01089036, loss_s  : 0.82217145, loss  : 446.42,\n",
      "It: 1400, loss_a/N: 0.00000033, loss_s/N: 0.00002509, loss/N: 0.01362356,\n",
      "Time:100.86\n",
      "\n",
      "It: 1500, loss_a  : 0.01189228, loss_s  : 0.89989257, loss  : 588.31,\n",
      "It: 1500, loss_a/N: 0.00000036, loss_s/N: 0.00002746, loss/N: 0.01795386,\n",
      "Time:100.58\n",
      "\n",
      "It: 1600, loss_a  : 0.01068407, loss_s  : 0.79077625, loss  : 398.09,\n",
      "It: 1600, loss_a/N: 0.00000033, loss_s/N: 0.00002413, loss/N: 0.01214881,\n",
      "Time:100.71\n",
      "\n",
      "It: 1700, loss_a  : 0.01057975, loss_s  : 0.77236021, loss  : 380.92,\n",
      "It: 1700, loss_a/N: 0.00000032, loss_s/N: 0.00002357, loss/N: 0.01162472,\n",
      "Time:100.63\n",
      "\n",
      "It: 1800, loss_a  : 0.01040670, loss_s  : 0.76051068, loss  : 364.42,\n",
      "It: 1800, loss_a/N: 0.00000032, loss_s/N: 0.00002321, loss/N: 0.01112134,\n",
      "Time:100.72\n",
      "\n",
      "It: 1900, loss_a  : 0.01079902, loss_s  : 0.80547369, loss  : 453.72,\n",
      "It: 1900, loss_a/N: 0.00000033, loss_s/N: 0.00002458, loss/N: 0.01384646,\n",
      "Time:100.61\n",
      "\n",
      "It: 2000, loss_a  : 0.01013349, loss_s  : 0.73196626, loss  : 337.95,\n",
      "It: 2000, loss_a/N: 0.00000031, loss_s/N: 0.00002234, loss/N: 0.01031329,\n",
      "Time:100.75\n",
      "\n",
      "It: 2100, loss_a  : 0.01004145, loss_s  : 0.72035283, loss  : 327.39,\n",
      "It: 2100, loss_a/N: 0.00000031, loss_s/N: 0.00002198, loss/N: 0.00999130,\n",
      "Time:104.43\n",
      "\n",
      "##################################################\n",
      "         Early stop\n",
      "##################################################\n",
      "It: 2172, loss_a  : 0.00998898, loss_s  : 0.71264994, loss  : 319.94,\n",
      "It: 2172, loss_a/N: 0.00000030, loss_s/N: 0.00002175, loss/N: 0.00976373,\n",
      "Time:76.70\n",
      "\n"
     ]
    }
   ],
   "source": [
    "model.train(400000, early_stop_thresh=320.0)"
   ]
  },
  {
   "cell_type": "code",
   "execution_count": 63,
   "id": "95c3e6bb",
   "metadata": {
    "ExecuteTime": {
     "end_time": "2022-05-03T13:29:56.697697Z",
     "start_time": "2022-05-03T11:20:41.458289Z"
    },
    "scrolled": true
   },
   "outputs": [
    {
     "name": "stdout",
     "output_type": "stream",
     "text": [
      "It: 0, loss_a  : 0.00997662, loss_s  : 0.71223521, loss  : 319.85,\n",
      "It: 0, loss_a/N: 0.00000030, loss_s/N: 0.00002174, loss/N: 0.00976094,\n",
      "Time:1.03\n",
      "\n",
      "It: 100, loss_a  : 0.00988784, loss_s  : 0.70199633, loss  : 310.67,\n",
      "It: 100, loss_a/N: 0.00000030, loss_s/N: 0.00002142, loss/N: 0.00948081,\n",
      "Time:102.30\n",
      "\n",
      "It: 200, loss_a  : 0.00969460, loss_s  : 0.69445145, loss  : 303.65,\n",
      "It: 200, loss_a/N: 0.00000030, loss_s/N: 0.00002119, loss/N: 0.00926674,\n",
      "Time:100.61\n",
      "\n",
      "It: 300, loss_a  : 0.00971825, loss_s  : 0.68475997, loss  : 294.02,\n",
      "It: 300, loss_a/N: 0.00000030, loss_s/N: 0.00002090, loss/N: 0.00897276,\n",
      "Time:102.52\n",
      "\n",
      "It: 400, loss_a  : 0.00961314, loss_s  : 0.67493522, loss  : 287.05,\n",
      "It: 400, loss_a/N: 0.00000029, loss_s/N: 0.00002060, loss/N: 0.00876011,\n",
      "Time:106.51\n",
      "\n",
      "It: 500, loss_a  : 0.00956011, loss_s  : 0.66996145, loss  : 279.58,\n",
      "It: 500, loss_a/N: 0.00000029, loss_s/N: 0.00002045, loss/N: 0.00853207,\n",
      "Time:106.50\n",
      "\n",
      "It: 600, loss_a  : 0.00947621, loss_s  : 0.66289783, loss  : 273.16,\n",
      "It: 600, loss_a/N: 0.00000029, loss_s/N: 0.00002023, loss/N: 0.00833611,\n",
      "Time:106.88\n",
      "\n",
      "It: 700, loss_a  : 0.00974335, loss_s  : 0.73469186, loss  : 466.89,\n",
      "It: 700, loss_a/N: 0.00000030, loss_s/N: 0.00002242, loss/N: 0.01424828,\n",
      "Time:103.58\n",
      "\n",
      "It: 800, loss_a  : 0.00933119, loss_s  : 0.65087318, loss  : 260.66,\n",
      "It: 800, loss_a/N: 0.00000028, loss_s/N: 0.00001986, loss/N: 0.00795462,\n",
      "Time:118.27\n",
      "\n",
      "It: 900, loss_a  : 0.00922955, loss_s  : 0.70726818, loss  : 378.27,\n",
      "It: 900, loss_a/N: 0.00000028, loss_s/N: 0.00002158, loss/N: 0.01154390,\n",
      "Time:106.04\n",
      "\n",
      "It: 1000, loss_a  : 0.00920479, loss_s  : 0.63934070, loss  : 249.29,\n",
      "It: 1000, loss_a/N: 0.00000028, loss_s/N: 0.00001951, loss/N: 0.00760763,\n",
      "Time:100.75\n",
      "\n",
      "It: 1100, loss_a  : 0.00913707, loss_s  : 0.63331687, loss  : 244.16,\n",
      "It: 1100, loss_a/N: 0.00000028, loss_s/N: 0.00001933, loss/N: 0.00745103,\n",
      "Time:100.79\n",
      "\n",
      "It: 1200, loss_a  : 0.00881250, loss_s  : 0.65849084, loss  : 291.42,\n",
      "It: 1200, loss_a/N: 0.00000027, loss_s/N: 0.00002010, loss/N: 0.00889358,\n",
      "Time:100.63\n",
      "\n",
      "It: 1300, loss_a  : 0.00899027, loss_s  : 0.62349463, loss  : 233.96,\n",
      "It: 1300, loss_a/N: 0.00000027, loss_s/N: 0.00001903, loss/N: 0.00713996,\n",
      "Time:100.79\n",
      "\n",
      "It: 1400, loss_a  : 0.00892496, loss_s  : 0.61642838, loss  : 237.13,\n",
      "It: 1400, loss_a/N: 0.00000027, loss_s/N: 0.00001881, loss/N: 0.00723669,\n",
      "Time:101.22\n",
      "\n",
      "It: 1500, loss_a  : 0.00884581, loss_s  : 0.61360717, loss  : 224.83,\n",
      "It: 1500, loss_a/N: 0.00000027, loss_s/N: 0.00001873, loss/N: 0.00686112,\n",
      "Time:100.72\n",
      "\n",
      "It: 1600, loss_a  : 0.00884132, loss_s  : 0.60851502, loss  : 220.92,\n",
      "It: 1600, loss_a/N: 0.00000027, loss_s/N: 0.00001857, loss/N: 0.00674190,\n",
      "Time:100.91\n",
      "\n",
      "It: 1700, loss_a  : 0.00872041, loss_s  : 0.60354042, loss  : 216.12,\n",
      "It: 1700, loss_a/N: 0.00000027, loss_s/N: 0.00001842, loss/N: 0.00659550,\n",
      "Time:100.54\n",
      "\n",
      "It: 1800, loss_a  : 0.00869939, loss_s  : 0.59920859, loss  : 212.60,\n",
      "It: 1800, loss_a/N: 0.00000027, loss_s/N: 0.00001829, loss/N: 0.00648795,\n",
      "Time:100.82\n",
      "\n",
      "It: 1900, loss_a  : 0.00858632, loss_s  : 0.59414059, loss  : 207.94,\n",
      "It: 1900, loss_a/N: 0.00000026, loss_s/N: 0.00001813, loss/N: 0.00634578,\n",
      "Time:100.78\n",
      "\n",
      "It: 2000, loss_a  : 0.00854210, loss_s  : 0.58945847, loss  : 204.18,\n",
      "It: 2000, loss_a/N: 0.00000026, loss_s/N: 0.00001799, loss/N: 0.00623117,\n",
      "Time:100.58\n",
      "\n",
      "It: 2100, loss_a  : 0.00842232, loss_s  : 0.58386219, loss  : 204.13,\n",
      "It: 2100, loss_a/N: 0.00000026, loss_s/N: 0.00001782, loss/N: 0.00622957,\n",
      "Time:101.25\n",
      "\n",
      "It: 2200, loss_a  : 0.00840168, loss_s  : 0.58093858, loss  : 196.60,\n",
      "It: 2200, loss_a/N: 0.00000026, loss_s/N: 0.00001773, loss/N: 0.00599988,\n",
      "Time:100.74\n",
      "\n",
      "It: 2300, loss_a  : 0.00832251, loss_s  : 0.58996654, loss  : 210.74,\n",
      "It: 2300, loss_a/N: 0.00000025, loss_s/N: 0.00001800, loss/N: 0.00643112,\n",
      "Time:100.47\n",
      "\n",
      "It: 2400, loss_a  : 0.00828927, loss_s  : 0.57287437, loss  : 189.63,\n",
      "It: 2400, loss_a/N: 0.00000025, loss_s/N: 0.00001748, loss/N: 0.00578699,\n",
      "Time:100.57\n",
      "\n",
      "It: 2500, loss_a  : 0.00863832, loss_s  : 0.59890562, loss  : 241.73,\n",
      "It: 2500, loss_a/N: 0.00000026, loss_s/N: 0.00001828, loss/N: 0.00737698,\n",
      "Time:100.66\n",
      "\n",
      "It: 2600, loss_a  : 0.00817173, loss_s  : 0.56506443, loss  : 183.09,\n",
      "It: 2600, loss_a/N: 0.00000025, loss_s/N: 0.00001724, loss/N: 0.00558737,\n",
      "Time:100.56\n",
      "\n",
      "It: 2700, loss_a  : 0.00807291, loss_s  : 0.56179470, loss  : 180.71,\n",
      "It: 2700, loss_a/N: 0.00000025, loss_s/N: 0.00001714, loss/N: 0.00551485,\n",
      "Time:100.73\n",
      "\n",
      "It: 2800, loss_a  : 0.00807581, loss_s  : 0.55748093, loss  : 176.88,\n",
      "It: 2800, loss_a/N: 0.00000025, loss_s/N: 0.00001701, loss/N: 0.00539808,\n",
      "Time:100.89\n",
      "\n",
      "It: 2900, loss_a  : 0.00796066, loss_s  : 0.55508631, loss  : 174.81,\n",
      "It: 2900, loss_a/N: 0.00000024, loss_s/N: 0.00001694, loss/N: 0.00533472,\n",
      "Time:100.74\n",
      "\n",
      "It: 3000, loss_a  : 0.00797428, loss_s  : 0.55070984, loss  : 171.14,\n",
      "It: 3000, loss_a/N: 0.00000024, loss_s/N: 0.00001681, loss/N: 0.00522272,\n",
      "Time:100.75\n",
      "\n",
      "It: 3100, loss_a  : 0.00791383, loss_s  : 0.54772615, loss  : 168.71,\n",
      "It: 3100, loss_a/N: 0.00000024, loss_s/N: 0.00001672, loss/N: 0.00514876,\n",
      "Time:100.51\n",
      "\n",
      "It: 3200, loss_a  : 0.00768778, loss_s  : 0.54519147, loss  : 176.37,\n",
      "It: 3200, loss_a/N: 0.00000023, loss_s/N: 0.00001664, loss/N: 0.00538243,\n",
      "Time:100.73\n",
      "\n",
      "It: 3300, loss_a  : 0.00783361, loss_s  : 0.54105914, loss  : 163.23,\n",
      "It: 3300, loss_a/N: 0.00000024, loss_s/N: 0.00001651, loss/N: 0.00498127,\n",
      "Time:100.57\n",
      "\n",
      "It: 3400, loss_a  : 0.00813444, loss_s  : 0.55508780, loss  : 234.02,\n",
      "It: 3400, loss_a/N: 0.00000025, loss_s/N: 0.00001694, loss/N: 0.00714183,\n",
      "Time:100.64\n",
      "\n",
      "It: 3500, loss_a  : 0.00774979, loss_s  : 0.53538460, loss  : 158.38,\n",
      "It: 3500, loss_a/N: 0.00000024, loss_s/N: 0.00001634, loss/N: 0.00483343,\n",
      "Time:100.63\n",
      "\n",
      "It: 3600, loss_a  : 0.00764862, loss_s  : 0.57567364, loss  : 278.94,\n",
      "It: 3600, loss_a/N: 0.00000023, loss_s/N: 0.00001757, loss/N: 0.00851272,\n",
      "Time:100.69\n",
      "\n",
      "It: 3700, loss_a  : 0.00766510, loss_s  : 0.52914953, loss  : 153.77,\n",
      "It: 3700, loss_a/N: 0.00000023, loss_s/N: 0.00001615, loss/N: 0.00469277,\n",
      "Time:101.26\n",
      "\n",
      "It: 3800, loss_a  : 0.00767309, loss_s  : 0.53955317, loss  : 169.64,\n",
      "It: 3800, loss_a/N: 0.00000023, loss_s/N: 0.00001647, loss/N: 0.00517701,\n",
      "Time:104.66\n",
      "\n",
      "It: 3900, loss_a  : 0.00759840, loss_s  : 0.52393186, loss  : 149.52,\n",
      "It: 3900, loss_a/N: 0.00000023, loss_s/N: 0.00001599, loss/N: 0.00456291,\n",
      "Time:115.91\n",
      "\n",
      "It: 4000, loss_a  : 0.00846270, loss_s  : 0.55140579, loss  : 210.52,\n",
      "It: 4000, loss_a/N: 0.00000026, loss_s/N: 0.00001683, loss/N: 0.00642442,\n",
      "Time:116.14\n",
      "\n",
      "It: 4100, loss_a  : 0.00752121, loss_s  : 0.51838565, loss  : 145.45,\n",
      "It: 4100, loss_a/N: 0.00000023, loss_s/N: 0.00001582, loss/N: 0.00443877,\n",
      "Time:116.18\n",
      "\n",
      "It: 4200, loss_a  : 0.00900107, loss_s  : 0.55556858, loss  : 236.54,\n",
      "It: 4200, loss_a/N: 0.00000027, loss_s/N: 0.00001695, loss/N: 0.00721848,\n",
      "Time:114.23\n",
      "\n",
      "It: 4300, loss_a  : 0.00745859, loss_s  : 0.51357496, loss  : 141.64,\n",
      "It: 4300, loss_a/N: 0.00000023, loss_s/N: 0.00001567, loss/N: 0.00432258,\n",
      "Time:101.42\n",
      "\n",
      "It: 4400, loss_a  : 0.01169329, loss_s  : 0.63921452, loss  : 451.96,\n",
      "It: 4400, loss_a/N: 0.00000036, loss_s/N: 0.00001951, loss/N: 0.01379274,\n",
      "Time:100.28\n",
      "\n",
      "It: 4500, loss_a  : 0.00738232, loss_s  : 0.50841677, loss  : 138.00,\n",
      "It: 4500, loss_a/N: 0.00000023, loss_s/N: 0.00001552, loss/N: 0.00421147,\n",
      "Time:100.42\n",
      "\n",
      "It: 4600, loss_a  : 0.00730273, loss_s  : 0.50583982, loss  : 137.57,\n",
      "It: 4600, loss_a/N: 0.00000022, loss_s/N: 0.00001544, loss/N: 0.00419833,\n",
      "Time:100.29\n",
      "\n",
      "It: 4700, loss_a  : 0.00732599, loss_s  : 0.50340319, loss  : 134.51,\n",
      "It: 4700, loss_a/N: 0.00000022, loss_s/N: 0.00001536, loss/N: 0.00410491,\n",
      "Time:100.29\n",
      "\n",
      "It: 4800, loss_a  : 0.00725715, loss_s  : 0.50058126, loss  : 133.28,\n",
      "It: 4800, loss_a/N: 0.00000022, loss_s/N: 0.00001528, loss/N: 0.00406735,\n",
      "Time:100.34\n",
      "\n",
      "It: 4900, loss_a  : 0.00825812, loss_s  : 0.51517165, loss  : 190.01,\n",
      "It: 4900, loss_a/N: 0.00000025, loss_s/N: 0.00001572, loss/N: 0.00579858,\n",
      "Time:100.34\n",
      "\n",
      "It: 5000, loss_a  : 0.00737945, loss_s  : 0.49788558, loss  : 132.18,\n",
      "It: 5000, loss_a/N: 0.00000023, loss_s/N: 0.00001519, loss/N: 0.00403388,\n",
      "Time:100.23\n",
      "\n",
      "It: 5100, loss_a  : 0.00718461, loss_s  : 0.49462342, loss  : 128.15,\n",
      "It: 5100, loss_a/N: 0.00000022, loss_s/N: 0.00001509, loss/N: 0.00391079,\n",
      "Time:100.33\n",
      "\n",
      "It: 5200, loss_a  : 0.00725314, loss_s  : 0.49189991, loss  : 127.67,\n",
      "It: 5200, loss_a/N: 0.00000022, loss_s/N: 0.00001501, loss/N: 0.00389625,\n",
      "Time:100.22\n",
      "\n"
     ]
    },
    {
     "name": "stdout",
     "output_type": "stream",
     "text": [
      "It: 5300, loss_a  : 0.00752547, loss_s  : 0.51942027, loss  : 175.97,\n",
      "It: 5300, loss_a/N: 0.00000023, loss_s/N: 0.00001585, loss/N: 0.00537021,\n",
      "Time:100.39\n",
      "\n",
      "It: 5400, loss_a  : 0.00981294, loss_s  : 0.55307293, loss  : 292.69,\n",
      "It: 5400, loss_a/N: 0.00000030, loss_s/N: 0.00001688, loss/N: 0.00893231,\n",
      "Time:100.34\n",
      "\n",
      "It: 5500, loss_a  : 0.00707775, loss_s  : 0.48646855, loss  : 122.35,\n",
      "It: 5500, loss_a/N: 0.00000022, loss_s/N: 0.00001485, loss/N: 0.00373383,\n",
      "Time:100.39\n",
      "\n",
      "It: 5600, loss_a  : 0.00786399, loss_s  : 0.49664694, loss  : 155.77,\n",
      "It: 5600, loss_a/N: 0.00000024, loss_s/N: 0.00001516, loss/N: 0.00475382,\n",
      "Time:102.22\n",
      "\n",
      "It: 5700, loss_a  : 0.00702318, loss_s  : 0.48247671, loss  : 119.63,\n",
      "It: 5700, loss_a/N: 0.00000021, loss_s/N: 0.00001472, loss/N: 0.00365084,\n",
      "Time:106.90\n",
      "\n",
      "It: 5800, loss_a  : 0.00699794, loss_s  : 0.48027036, loss  : 118.37,\n",
      "It: 5800, loss_a/N: 0.00000021, loss_s/N: 0.00001466, loss/N: 0.00361239,\n",
      "Time:109.06\n",
      "\n",
      "It: 5900, loss_a  : 0.00687614, loss_s  : 0.47988176, loss  : 118.17,\n",
      "It: 5900, loss_a/N: 0.00000021, loss_s/N: 0.00001464, loss/N: 0.00360631,\n",
      "Time:100.79\n",
      "\n",
      "It: 6000, loss_a  : 0.00694763, loss_s  : 0.47721821, loss  : 115.85,\n",
      "It: 6000, loss_a/N: 0.00000021, loss_s/N: 0.00001456, loss/N: 0.00353537,\n",
      "Time:101.14\n",
      "\n",
      "It: 6100, loss_a  : 0.00690362, loss_s  : 0.47490537, loss  : 114.71,\n",
      "It: 6100, loss_a/N: 0.00000021, loss_s/N: 0.00001449, loss/N: 0.00350066,\n",
      "Time:100.72\n",
      "\n",
      "It: 6200, loss_a  : 0.00836110, loss_s  : 0.50184172, loss  : 191.78,\n",
      "It: 6200, loss_a/N: 0.00000026, loss_s/N: 0.00001531, loss/N: 0.00585272,\n",
      "Time:100.92\n",
      "\n",
      "It: 6300, loss_a  : 0.00687068, loss_s  : 0.47233462, loss  : 112.29,\n",
      "It: 6300, loss_a/N: 0.00000021, loss_s/N: 0.00001441, loss/N: 0.00342676,\n",
      "Time:101.60\n",
      "\n",
      "It: 6400, loss_a  : 0.00671730, loss_s  : 0.47363999, loss  : 120.78,\n",
      "It: 6400, loss_a/N: 0.00000020, loss_s/N: 0.00001445, loss/N: 0.00368587,\n",
      "Time:103.80\n",
      "\n",
      "It: 6500, loss_a  : 0.00681510, loss_s  : 0.46924785, loss  : 110.07,\n",
      "It: 6500, loss_a/N: 0.00000021, loss_s/N: 0.00001432, loss/N: 0.00335895,\n",
      "Time:106.70\n",
      "\n",
      "It: 6600, loss_a  : 0.00687101, loss_s  : 0.46988529, loss  : 110.52,\n",
      "It: 6600, loss_a/N: 0.00000021, loss_s/N: 0.00001434, loss/N: 0.00337285,\n",
      "Time:106.72\n",
      "\n",
      "It: 6700, loss_a  : 0.00678033, loss_s  : 0.46652812, loss  : 107.89,\n",
      "It: 6700, loss_a/N: 0.00000021, loss_s/N: 0.00001424, loss/N: 0.00329251,\n",
      "Time:106.55\n",
      "\n",
      "It: 6800, loss_a  : 0.00678796, loss_s  : 0.46524751, loss  : 107.17,\n",
      "It: 6800, loss_a/N: 0.00000021, loss_s/N: 0.00001420, loss/N: 0.00327065,\n",
      "Time:106.50\n",
      "\n",
      "It: 6900, loss_a  : 0.00659809, loss_s  : 0.46728510, loss  : 109.82,\n",
      "It: 6900, loss_a/N: 0.00000020, loss_s/N: 0.00001426, loss/N: 0.00335138,\n",
      "Time:106.55\n",
      "\n",
      "It: 7000, loss_a  : 0.00670897, loss_s  : 0.46279138, loss  : 104.84,\n",
      "It: 7000, loss_a/N: 0.00000020, loss_s/N: 0.00001412, loss/N: 0.00319939,\n",
      "Time:102.33\n",
      "\n",
      "It: 7100, loss_a  : 0.00679724, loss_s  : 0.46292982, loss  : 106.37,\n",
      "It: 7100, loss_a/N: 0.00000021, loss_s/N: 0.00001413, loss/N: 0.00324619,\n",
      "Time:100.24\n",
      "\n",
      "It: 7200, loss_a  : 0.00666832, loss_s  : 0.46036464, loss  : 102.86,\n",
      "It: 7200, loss_a/N: 0.00000020, loss_s/N: 0.00001405, loss/N: 0.00313917,\n",
      "Time:100.29\n",
      "\n",
      "It: 7300, loss_a  : 0.00674830, loss_s  : 0.45927307, loss  : 104.66,\n",
      "It: 7300, loss_a/N: 0.00000021, loss_s/N: 0.00001402, loss/N: 0.00319400,\n",
      "Time:100.41\n",
      "\n",
      "It: 7400, loss_a  : 0.00663147, loss_s  : 0.45863616, loss  : 101.02,\n",
      "It: 7400, loss_a/N: 0.00000020, loss_s/N: 0.00001400, loss/N: 0.00308288,\n",
      "Time:100.31\n",
      "\n",
      "It: 7500, loss_a  : 0.00662663, loss_s  : 0.45689890, loss  : 100.61,\n",
      "It: 7500, loss_a/N: 0.00000020, loss_s/N: 0.00001394, loss/N: 0.00307039,\n",
      "Time:100.29\n",
      "\n",
      "##################################################\n",
      "         Early stop\n",
      "##################################################\n",
      "It: 7529, loss_a  : 0.00659121, loss_s  : 0.45728022, loss  : 99.99,\n",
      "It: 7529, loss_a/N: 0.00000020, loss_s/N: 0.00001396, loss/N: 0.00305141,\n",
      "Time:29.09\n",
      "\n"
     ]
    }
   ],
   "source": [
    "model.train(400000, early_stop_thresh=100.0)"
   ]
  },
  {
   "cell_type": "code",
   "execution_count": null,
   "id": "13c2cf04",
   "metadata": {},
   "outputs": [],
   "source": []
  },
  {
   "cell_type": "code",
   "execution_count": null,
   "id": "273c3be9",
   "metadata": {
    "ExecuteTime": {
     "start_time": "2022-05-02T22:04:29.175Z"
    }
   },
   "outputs": [],
   "source": []
  },
  {
   "cell_type": "code",
   "execution_count": null,
   "id": "a303887b",
   "metadata": {},
   "outputs": [],
   "source": []
  },
  {
   "cell_type": "code",
   "execution_count": 91,
   "id": "2a4bf7ac",
   "metadata": {
    "ExecuteTime": {
     "end_time": "2022-05-03T15:11:02.021165Z",
     "start_time": "2022-05-03T15:11:02.009326Z"
    }
   },
   "outputs": [],
   "source": [
    "x_2 = L*np.linspace(0,1,x_size)\n",
    "y_2 = L*np.linspace(0,1,y_size)\n",
    "\n",
    "X_2,Y_2 = np.meshgrid(x_2, y_2, sparse=False, indexing='ij')\n",
    "#XX_2 = X_2.flatten()# N \n",
    "#YY_2 = Y_2.flatten()# N \n",
    "T_2 = 256#T#1#T\n",
    "XX_2 = np.tile(X_2.flatten(), T_2) # N x T\n",
    "YY_2 = np.tile(Y_2.flatten(), T_2) # N x T\n",
    "\n",
    "#index = -3\n",
    "t_test = t_star[:T_2]#t_star[-T_2:]\n",
    "\n",
    "TT_2 = np.repeat(t_test, N) # T x N\n",
    "\n",
    "#TT_2 = np.array([t_test]*N) # N\n",
    "\n",
    "x_2 = XX_2[:, np.newaxis] # N x 1\n",
    "y_2 = YY_2[:, np.newaxis] # N x 1\n",
    "t_2 = TT_2[:, np.newaxis] # N x 1"
   ]
  },
  {
   "cell_type": "code",
   "execution_count": 92,
   "id": "538067f3",
   "metadata": {
    "ExecuteTime": {
     "end_time": "2022-05-03T15:11:02.742799Z",
     "start_time": "2022-05-03T15:11:02.738373Z"
    }
   },
   "outputs": [
    {
     "data": {
      "text/plain": [
       "(262144, 1)"
      ]
     },
     "execution_count": 92,
     "metadata": {},
     "output_type": "execute_result"
    }
   ],
   "source": [
    "t_2.shape"
   ]
  },
  {
   "cell_type": "code",
   "execution_count": 93,
   "id": "2507be96",
   "metadata": {
    "ExecuteTime": {
     "end_time": "2022-05-03T15:11:05.108078Z",
     "start_time": "2022-05-03T15:11:03.470125Z"
    }
   },
   "outputs": [
    {
     "name": "stdout",
     "output_type": "stream",
     "text": [
      "Loss_a : 0.04826954\n",
      "Loss_s : 3.18725538\n"
     ]
    }
   ],
   "source": [
    "a_2, s_2 = model.predict(x_2, y_2, t_2)\n",
    "#a_2, s_2 = model.predict(x, y, t)\n",
    "#a_2 = a_2.reshape((x_size,y_size))\n",
    "#s_2 = s_2.reshape((x_size,y_size))\n",
    "#c = np.stack((a_2, s_2), axis=0)\n",
    "#c = c[:, np.newaxis]\n",
    "#a_2_interp, s_2_interp = rdsolver.viz.interpolate_concs(c)\n",
    "tf_dict = {model.x_tf: x_2, model.y_tf: y_2, model.t_tf: t_2}\n",
    "l_a_2 = model.sess.run(model.loss_a, tf_dict)\n",
    "l_s_2 = model.sess.run(model.loss_s, tf_dict)\n",
    "\n",
    "\n",
    "print( f\"Loss_a : {l_a_2:.8f}\")\n",
    "print( f\"Loss_s : {l_s_2:.8f}\")\n"
   ]
  },
  {
   "cell_type": "code",
   "execution_count": 94,
   "id": "d2bdd2ae",
   "metadata": {
    "ExecuteTime": {
     "end_time": "2022-05-03T15:11:06.371135Z",
     "start_time": "2022-05-03T15:11:05.971907Z"
    }
   },
   "outputs": [
    {
     "data": {
      "image/png": "[encoded data removed]",
      "text/plain": [
       "<Figure size 432x288 with 2 Axes>"
      ]
     },
     "metadata": {
      "needs_background": "light"
     },
     "output_type": "display_data"
    },
    {
     "data": {
      "image/png": "[encoded data removed]",
      "text/plain": [
       "<Figure size 432x288 with 2 Axes>"
      ]
     },
     "metadata": {
      "needs_background": "light"
     },
     "output_type": "display_data"
    }
   ],
   "source": [
    "start = 255\n",
    "plt.subplot(131)\n",
    "plt.imshow(a_2[(start*N):((start+1)*N), :].reshape((x_size,y_size)))\n",
    "plt.subplot(132)\n",
    "plt.imshow(s_2[(start*N):((start+1)*N), :].reshape((x_size,y_size)))\n",
    "plt.show()\n",
    "\n",
    "plt.subplot(131)\n",
    "plt.imshow(data[0, :, :, start].reshape((x_size,y_size)))\n",
    "plt.subplot(132)\n",
    "plt.imshow(data[1, :, :, start].reshape((x_size,y_size)))\n",
    "plt.show()\n",
    "\n",
    "#plt.subplot(131)\n",
    "#plt.imshow(data[0, :, :, -T_2+start].reshape((x_size,y_size)))\n",
    "#plt.subplot(132)\n",
    "#plt.imshow(data[1, :, :, -T_2+start].reshape((x_size,y_size)))\n",
    "#plt.show()"
   ]
  },
  {
   "cell_type": "code",
   "execution_count": 70,
   "id": "4a541550",
   "metadata": {
    "ExecuteTime": {
     "end_time": "2022-05-03T14:55:13.870706Z",
     "start_time": "2022-05-03T14:55:13.643264Z"
    }
   },
   "outputs": [
    {
     "data": {
      "image/png": "[encoded data removed]",
      "text/plain": [
       "<Figure size 432x288 with 2 Axes>"
      ]
     },
     "metadata": {
      "needs_background": "light"
     },
     "output_type": "display_data"
    }
   ],
   "source": [
    "plt.subplot(131)\n",
    "plt.imshow(data[0, :, :, 1].reshape((x_size,y_size)))\n",
    "plt.subplot(132)\n",
    "plt.imshow(data[1, :, :, 1].reshape((x_size,y_size)))\n",
    "plt.show()"
   ]
  },
  {
   "cell_type": "code",
   "execution_count": 71,
   "id": "7f381e52",
   "metadata": {
    "ExecuteTime": {
     "end_time": "2022-05-03T14:56:00.198236Z",
     "start_time": "2022-05-03T14:55:22.137495Z"
    }
   },
   "outputs": [
    {
     "data": {
      "image/png": "[encoded data removed]",
      "text/plain": [
       "<Figure size 432x288 with 2 Axes>"
      ]
     },
     "metadata": {
      "needs_background": "light"
     },
     "output_type": "display_data"
    }
   ],
   "source": [
    "from matplotlib.animation import FuncAnimation\n",
    "\n",
    "fig, (ax1, ax2) = plt.subplots(1,2)\n",
    "\n",
    "im1 = ax1.imshow(a_2[0:N, :].reshape((x_size,y_size)), interpolation='gaussian')\n",
    "\n",
    "im2 = ax2.imshow(data[0, :, :, 0].reshape((x_size,y_size)), interpolation='gaussian')\n",
    "ims = [im1, im2]\n",
    "\n",
    "def init():    \n",
    "    return ims\n",
    "    \n",
    "def animate(i):    \n",
    "    a=im1.get_array()\n",
    "    a=a_2[(i*N):((i+1)*N), :].reshape((x_size,y_size))\n",
    "    im1.set_array(a)\n",
    "    \n",
    "    a=im2.get_array()\n",
    "    a=data[0, :, :, i].reshape((x_size,y_size))\n",
    "    im2.set_array(a)\n",
    "    \n",
    "    return ims\n",
    "\n",
    "anim = FuncAnimation(fig, animate, init_func=init,\n",
    "                               frames=T_2, interval=50, blit=True)\n",
    "\n",
    "\n",
    "anim.save('turring_sol.gif', writer='imagemagick')"
   ]
  },
  {
   "cell_type": "code",
   "execution_count": 99,
   "id": "e099b0a6",
   "metadata": {
    "ExecuteTime": {
     "end_time": "2022-05-03T15:21:33.347185Z",
     "start_time": "2022-05-03T15:21:18.890514Z"
    }
   },
   "outputs": [
    {
     "data": {
      "image/png": "[encoded data removed]",
      "text/plain": [
       "<Figure size 432x288 with 2 Axes>"
      ]
     },
     "metadata": {
      "needs_background": "light"
     },
     "output_type": "display_data"
    }
   ],
   "source": [
    "from matplotlib.animation import FuncAnimation\n",
    "\n",
    "fig, (ax1, ax2) = plt.subplots(1,2)\n",
    "ax1.axis('off')\n",
    "ax2.axis('off')\n",
    "\n",
    "im1 = ax1.imshow(a_2[0:N, :].reshape((x_size,y_size)))\n",
    "\n",
    "im2 = ax2.imshow(data[0, :, :, 0].reshape((x_size,y_size)))\n",
    "ims = [im1, im2]\n",
    "\n",
    "def init():    \n",
    "    return ims\n",
    "    \n",
    "def animate(i):    \n",
    "    a=im1.get_array()\n",
    "    a=a_2[(i*N):((i+1)*N), :].reshape((x_size,y_size))\n",
    "    im1.set_array(a)\n",
    "    \n",
    "    a=im2.get_array()\n",
    "    a=data[0, :, :, i].reshape((x_size,y_size))\n",
    "    im2.set_array(a)\n",
    "    \n",
    "    return ims\n",
    "\n",
    "anim = FuncAnimation(fig, animate, init_func=init,\n",
    "                               frames=T_2, interval=50, blit=True)\n",
    "\n",
    "\n",
    "anim.save('turring_sol_2.gif', writer='imagemagick')"
   ]
  },
  {
   "cell_type": "code",
   "execution_count": 86,
   "id": "64bdc1d2",
   "metadata": {
    "ExecuteTime": {
     "end_time": "2022-05-03T15:07:31.899218Z",
     "start_time": "2022-05-03T15:07:31.889714Z"
    }
   },
   "outputs": [],
   "source": [
    "x_2 = L*np.linspace(0,1,x_size)\n",
    "y_2 = L*np.linspace(0,1,y_size)\n",
    "\n",
    "X_2,Y_2 = np.meshgrid(x_2, y_2, sparse=False, indexing='ij')\n",
    "XX_2 = X_2.flatten()# N \n",
    "YY_2 = Y_2.flatten()# N \n",
    "\n",
    "index = -1\n",
    "t_test = 80000#t_star[index]#0#5000000\n",
    "\n",
    "\n",
    "TT_2 = np.array([t_test]*N) # N\n",
    "\n",
    "x_2 = XX_2[:, np.newaxis] # N x 1\n",
    "y_2 = YY_2[:, np.newaxis] # N x 1\n",
    "t_2 = TT_2[:, np.newaxis] # N x 1"
   ]
  },
  {
   "cell_type": "code",
   "execution_count": 87,
   "id": "1b9dd184",
   "metadata": {
    "ExecuteTime": {
     "end_time": "2022-05-03T15:07:32.360740Z",
     "start_time": "2022-05-03T15:07:32.301854Z"
    }
   },
   "outputs": [
    {
     "name": "stdout",
     "output_type": "stream",
     "text": [
      "Loss_a : 0.00116302\n",
      "Loss_s : 0.05677272\n",
      "Loss   : 294.76751709\n"
     ]
    }
   ],
   "source": [
    "a_2, s_2 = model.predict(x_2, y_2, t_2)\n",
    "#a_2, s_2 = model.predict(x, y, t)\n",
    "a_2 = a_2.reshape((x_size,y_size))\n",
    "s_2 = s_2.reshape((x_size,y_size))\n",
    "#c = np.stack((a_2, s_2), axis=0)\n",
    "#c = c[:, np.newaxis]\n",
    "#a_2_interp, s_2_interp = rdsolver.viz.interpolate_concs(c)\n",
    "tf_dict = {model.x_tf: x_2, model.y_tf: y_2, model.t_tf: t_2, \n",
    "           model.a_tf:data[0, :, :, index].flatten()[:, np.newaxis],\n",
    "           model.s_tf:data[1, :, :, index].flatten()[:, np.newaxis]}\n",
    "print( f\"Loss_a : {model.sess.run(model.loss_a, tf_dict):.8f}\")\n",
    "print( f\"Loss_s : {model.sess.run(model.loss_s, tf_dict):.8f}\")\n",
    "print( f\"Loss   : {model.sess.run(model.loss, tf_dict):.8f}\")"
   ]
  },
  {
   "cell_type": "code",
   "execution_count": 88,
   "id": "bf413703",
   "metadata": {
    "ExecuteTime": {
     "end_time": "2022-05-03T15:07:33.298814Z",
     "start_time": "2022-05-03T15:07:33.292577Z"
    }
   },
   "outputs": [
    {
     "name": "stdout",
     "output_type": "stream",
     "text": [
      "269.8975177701667\n",
      "24.81206733305877\n"
     ]
    }
   ],
   "source": [
    "print(np.sum(np.power(a_2 - data[0, :, :, index],2)))\n",
    "print(np.sum(np.power(s_2 - data[1, :, :, index],2)))"
   ]
  },
  {
   "cell_type": "code",
   "execution_count": 89,
   "id": "730d7b10",
   "metadata": {
    "ExecuteTime": {
     "end_time": "2022-05-03T15:07:36.890034Z",
     "start_time": "2022-05-03T15:07:36.498567Z"
    }
   },
   "outputs": [
    {
     "data": {
      "image/png": "[encoded data removed]",
      "text/plain": [
       "<Figure size 432x288 with 2 Axes>"
      ]
     },
     "metadata": {
      "needs_background": "light"
     },
     "output_type": "display_data"
    },
    {
     "data": {
      "image/png": "[encoded data removed]",
      "text/plain": [
       "<Figure size 432x288 with 2 Axes>"
      ]
     },
     "metadata": {
      "needs_background": "light"
     },
     "output_type": "display_data"
    }
   ],
   "source": [
    "\n",
    "plt.subplot(131)\n",
    "plt.imshow(a_2)\n",
    "plt.subplot(132)\n",
    "plt.imshow(s_2)\n",
    "plt.show()\n",
    "\n",
    "plt.subplot(131)\n",
    "plt.imshow(data[0, :, :, -1].reshape((x_size,y_size)))\n",
    "plt.subplot(132)\n",
    "plt.imshow(data[1, :, :, -1].reshape((x_size,y_size)))\n",
    "plt.show()"
   ]
  },
  {
   "cell_type": "code",
   "execution_count": null,
   "id": "af1de726",
   "metadata": {},
   "outputs": [],
   "source": []
  },
  {
   "cell_type": "code",
   "execution_count": 64,
   "id": "64598937",
   "metadata": {
    "ExecuteTime": {
     "end_time": "2022-05-03T14:54:59.141809Z",
     "start_time": "2022-05-03T14:54:56.630028Z"
    }
   },
   "outputs": [
    {
     "data": {
      "text/plain": [
       "'./PINN_Turring_model_loss_sampled-0'"
      ]
     },
     "execution_count": 64,
     "metadata": {},
     "output_type": "execute_result"
    }
   ],
   "source": [
    "saver = tf.train.Saver()\n",
    "saver.save(model.sess, './PINN_Turring_model_loss_sampled', global_step=0)"
   ]
  },
  {
   "cell_type": "code",
   "execution_count": 65,
   "id": "e075d41a",
   "metadata": {
    "ExecuteTime": {
     "end_time": "2022-05-03T14:54:59.192251Z",
     "start_time": "2022-05-03T14:54:59.186133Z"
    }
   },
   "outputs": [
    {
     "name": "stdout",
     "output_type": "stream",
     "text": [
      "x_tf:0\n",
      "y_tf:0\n",
      "t_tf:0\n",
      "a_pred:0\n",
      "s_pred:0\n",
      "add_10:0\n",
      "loss_a:0\n",
      "loss_s:0\n"
     ]
    }
   ],
   "source": [
    "print(model.x_tf.name)\n",
    "print(model.y_tf.name)\n",
    "print(model.t_tf.name)\n",
    "print(model.a_pred.name)\n",
    "print(model.s_pred.name)\n",
    "print(model.loss_1.name)\n",
    "print(model.loss_a.name)\n",
    "print(model.loss_s.name)"
   ]
  },
  {
   "cell_type": "code",
   "execution_count": null,
   "id": "8d5ee7e0",
   "metadata": {},
   "outputs": [],
   "source": []
  },
  {
   "cell_type": "code",
   "execution_count": 48,
   "id": "e0305113",
   "metadata": {
    "ExecuteTime": {
     "end_time": "2022-05-02T21:59:32.641553Z",
     "start_time": "2022-05-02T21:59:32.612181Z"
    }
   },
   "outputs": [
    {
     "ename": "ValueError",
     "evalue": "operands could not be broadcast together with shapes (262144,1) (32768,1) ",
     "output_type": "error",
     "traceback": [
      "\u001b[0;31m---------------------------------------------------------------------------\u001b[0m",
      "\u001b[0;31mValueError\u001b[0m                                Traceback (most recent call last)",
      "\u001b[0;32m<ipython-input-48-8f94478dec98>\u001b[0m in \u001b[0;36m<module>\u001b[0;34m\u001b[0m\n\u001b[0;32m----> 1\u001b[0;31m \u001b[0mprint\u001b[0m\u001b[0;34m(\u001b[0m\u001b[0mnp\u001b[0m\u001b[0;34m.\u001b[0m\u001b[0msum\u001b[0m\u001b[0;34m(\u001b[0m\u001b[0mnp\u001b[0m\u001b[0;34m.\u001b[0m\u001b[0mpower\u001b[0m\u001b[0;34m(\u001b[0m\u001b[0ma_2\u001b[0m \u001b[0;34m-\u001b[0m \u001b[0ma_train\u001b[0m\u001b[0;34m,\u001b[0m\u001b[0;36m2\u001b[0m\u001b[0;34m)\u001b[0m\u001b[0;34m)\u001b[0m\u001b[0;34m)\u001b[0m\u001b[0;34m\u001b[0m\u001b[0;34m\u001b[0m\u001b[0m\n\u001b[0m\u001b[1;32m      2\u001b[0m \u001b[0mprint\u001b[0m\u001b[0;34m(\u001b[0m\u001b[0mnp\u001b[0m\u001b[0;34m.\u001b[0m\u001b[0msum\u001b[0m\u001b[0;34m(\u001b[0m\u001b[0mnp\u001b[0m\u001b[0;34m.\u001b[0m\u001b[0mpower\u001b[0m\u001b[0;34m(\u001b[0m\u001b[0ms_2\u001b[0m \u001b[0;34m-\u001b[0m \u001b[0ms_train\u001b[0m\u001b[0;34m,\u001b[0m\u001b[0;36m2\u001b[0m\u001b[0;34m)\u001b[0m\u001b[0;34m)\u001b[0m\u001b[0;34m)\u001b[0m\u001b[0;34m\u001b[0m\u001b[0;34m\u001b[0m\u001b[0m\n\u001b[1;32m      3\u001b[0m print(np.sum(np.power(a_2 - a_train,2)) +\n\u001b[1;32m      4\u001b[0m       np.sum(np.power(s_2 - s_train,2)))\n",
      "\u001b[0;31mValueError\u001b[0m: operands could not be broadcast together with shapes (262144,1) (32768,1) "
     ]
    }
   ],
   "source": [
    "print(np.sum(np.power(a_2 - a_train,2)))\n",
    "print(np.sum(np.power(s_2 - s_train,2)))\n",
    "print(np.sum(np.power(a_2 - a_train,2)) +\n",
    "      np.sum(np.power(s_2 - s_train,2)))"
   ]
  },
  {
   "cell_type": "code",
   "execution_count": null,
   "id": "cdc9134d",
   "metadata": {},
   "outputs": [],
   "source": []
  },
  {
   "cell_type": "code",
   "execution_count": null,
   "id": "0a551b16",
   "metadata": {},
   "outputs": [],
   "source": []
  }
 ],
 "metadata": {
  "kernelspec": {
   "display_name": "Python 3",
   "language": "python",
   "name": "python3"
  },
  "language_info": {
   "codemirror_mode": {
    "name": "ipython",
    "version": 3
   },
   "file_extension": ".py",
   "mimetype": "text/x-python",
   "name": "python",
   "nbconvert_exporter": "python",
   "pygments_lexer": "ipython3",
   "version": "3.6.13"
  },
  "varInspector": {
   "cols": {
    "lenName": 16,
    "lenType": 16,
    "lenVar": 40
   },
   "kernels_config": {
    "python": {
     "delete_cmd_postfix": "",
     "delete_cmd_prefix": "del ",
     "library": "var_list.py",
     "varRefreshCmd": "print(var_dic_list())"
    },
    "r": {
     "delete_cmd_postfix": ") ",
     "delete_cmd_prefix": "rm(",
     "library": "var_list.r",
     "varRefreshCmd": "cat(var_dic_list()) "
    }
   },
   "types_to_exclude": [
    "module",
    "function",
    "builtin_function_or_method",
    "instance",
    "_Feature"
   ],
   "window_display": false
  }
 },
 "nbformat": 4,
 "nbformat_minor": 5
}
