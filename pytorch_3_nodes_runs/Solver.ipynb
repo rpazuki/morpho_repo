{
 "cells": [
  {
   "cell_type": "code",
   "execution_count": 1,
   "id": "e21612e7",
   "metadata": {
    "ExecuteTime": {
     "end_time": "2024-01-02T14:48:46.078529Z",
     "start_time": "2024-01-02T14:48:44.193962Z"
    }
   },
   "outputs": [],
   "source": [
    "import numpy as np\n",
    "import matplotlib.pyplot as plt\n",
    "import sys\n",
    "import pathlib\n",
    "import pickle\n",
    "from pathlib import Path\n",
    "sys.path.append(f\"{Path.home()}/morpho_repo\")\n",
    "sys.path.append(f\"{Path.home()}/morpho_repo/pytorch\")\n",
    "\n",
    "sys.path.append(f\"{Path.home()}/morpho_repo\")\n",
    "sys.path.append(f\"{Path.home()}/morpho_repo/turing_codebase\")\n",
    "\n",
    "import pandas as pd"
   ]
  },
  {
   "cell_type": "code",
   "execution_count": 2,
   "id": "7958a437",
   "metadata": {
    "ExecuteTime": {
     "end_time": "2024-01-02T14:48:47.078219Z",
     "start_time": "2024-01-02T14:48:47.054982Z"
    }
   },
   "outputs": [],
   "source": [
    "df = pd.read_csv(\"../Three_nodes_models/circuit_3954/df_network_analysis_full_topology.csv\")"
   ]
  },
  {
   "cell_type": "code",
   "execution_count": 81,
   "id": "9398c8ee",
   "metadata": {
    "ExecuteTime": {
     "end_time": "2024-01-02T15:41:01.660869Z",
     "start_time": "2024-01-02T15:41:01.644179Z"
    }
   },
   "outputs": [],
   "source": [
    "def simulation_run(args):\n",
    "    import sys\n",
    "    import pathlib\n",
    "    import pickle\n",
    "    from pathlib import Path\n",
    "    sys.path.append(f\"{Path.home()}/morpho_repo\")\n",
    "    sys.path.append(f\"{Path.home()}/morpho_repo/turing_codebase\")\n",
    "\n",
    "    from turing.three_nodes_circuits import create_circuit_3954\n",
    "    from pde_solvers.cn import RD_2D_1st_Order, Neumann_Boundary_2D\n",
    "    from intro import find_roots, init_values\n",
    "    \n",
    "    run_ids, params_list, D_A, D_B = args\n",
    "    model = RD_2D_1st_Order(Ds=[D_A, D_B, 0], \n",
    "                               delta_t=100/5000, \n",
    "                               Lx=10, Ly=10, \n",
    "                               Ix=128, Jy=128,\n",
    "                               boundary_condition=Neumann_Boundary_2D)\n",
    "    def to(arr):\n",
    "        return arr.reshape(model.Ix, model.Jy)\n",
    "    for run_id, params in zip(run_ids, params_list):\n",
    "        kinetics = create_circuit_3954(params[\"n\"],params[\"b_A\"], params[\"mu_A\"], params[\"V_A\"], \n",
    "                                       params[\"K_AA\"], params[\"K_AB\"], params[\"K_AC\"],\n",
    "                                       params[\"b_B\"], params[\"mu_B\"], params[\"V_B\"], \n",
    "                                       params[\"K_BA\"], params[\"K_BC\"],\n",
    "                                       params[\"b_C\"], params[\"mu_C\"], params[\"V_C\"], \n",
    "                                       params[\"K_CB\"], params[\"K_CC\"])\n",
    "        \n",
    "        roots = find_roots(kinetics)\n",
    "        # Parameters with no fixed point are not\n",
    "        # considrered\n",
    "        if len(roots) == 0:\n",
    "            continue        \n",
    "        (A_init, B_init, C_init) = init_values(model, *roots[0])\n",
    "        solution1 = model.integrate([A_init, B_init, C_init],kinetics, 5000, record_steps=50)\n",
    "        # restrat for a longer run, but with saving in lower-resolution time \n",
    "        solution2 = model.integrate([solution1[-1, 0, :], \n",
    "                                     solution1[-1, 1, :],\n",
    "                                     solution1[-1, 2, :]],kinetics, 200*5000, record_steps=5000)\n",
    "        #################################################        \n",
    "        run_params = {'Lx':model.Lx,\n",
    "                      'Ly':model.Ly,\n",
    "                      'Ix':model.Ix,\n",
    "                      'Jy':model.Jy,\n",
    "                      'delta_t':model.Δt,\n",
    "                      'init_snpashots_delta_t': 1,\n",
    "                      'init_solution_T_steps': 100,\n",
    "                      'late_snpashots_delta_t': 100,\n",
    "                      'late_solution_T_steps': 200,\n",
    "                      'late_snpashots_index': 101\n",
    "                     }\n",
    "        solution_saved = np.vstack([np.stack([to(A_init), to(B_init), to(C_init)])[np.newaxis, ...], \n",
    "                                    solution1.reshape((-1, 3, 128, 128)),\n",
    "                                    solution2.reshape((-1, 3, 128, 128))])\n",
    "        \n",
    "        params = {\"D_A\":D_A, \"D_B\":D_B,\n",
    "                  **params}\n",
    "        with open(f\"./inputs/solution_{run_id}.pkl\", \"wb\") as f:\n",
    "            pickle.dump((run_params, params, solution_saved), f)\n",
    "            \n",
    "        del solution1\n",
    "        del solution2\n",
    "        del solution_saved\n",
    "    del model\n",
    "    \n",
    "    "
   ]
  },
  {
   "cell_type": "code",
   "execution_count": 4,
   "id": "1a26b07a",
   "metadata": {
    "ExecuteTime": {
     "end_time": "2024-01-02T14:48:50.861504Z",
     "start_time": "2024-01-02T14:48:50.852750Z"
    },
    "code_folding": [
     0
    ]
   },
   "outputs": [],
   "source": [
    "def row_to_param(param_string_to_dict):\n",
    "    (n_val, \n",
    "     b_A_val, mu_A_val, V_A_val, K_AA_val, K_AB_val, K_AC_val,\n",
    "     b_B_val, mu_B_val, V_B_val, K_BA_val, K_BC_val,\n",
    "     b_C_val, mu_C_val, V_C_val, K_CB_val, K_CC_val) = eval(param_string_to_dict.replace(' ', ','))\n",
    "    return {'n': n_val,\n",
    "          'b_A': b_A_val, 'mu_A': mu_A_val, 'V_A': V_A_val,\n",
    "          'K_AA': K_AA_val, 'K_AB': K_AB_val, 'K_AC': K_AC_val,\n",
    "          'b_B': b_B_val, 'mu_B': mu_B_val, 'V_B': V_B_val,\n",
    "          'K_BA': K_BA_val, 'K_BC': K_BC_val,\n",
    "          'b_C': b_C_val, 'mu_C': mu_C_val, 'V_C': V_C_val,\n",
    "          'K_CB': K_CB_val, 'K_CC': K_CC_val}    "
   ]
  },
  {
   "cell_type": "code",
   "execution_count": 5,
   "id": "ae3d5dc2",
   "metadata": {
    "ExecuteTime": {
     "end_time": "2024-01-02T14:48:51.857444Z",
     "start_time": "2024-01-02T14:48:51.846275Z"
    }
   },
   "outputs": [],
   "source": [
    "df_subset = df[(df['type'] != 'wrong') & (df['type'] != 'odd')]"
   ]
  },
  {
   "cell_type": "code",
   "execution_count": 79,
   "id": "98281b7a",
   "metadata": {
    "ExecuteTime": {
     "end_time": "2024-01-02T15:40:28.599903Z",
     "start_time": "2024-01-02T15:40:28.585887Z"
    }
   },
   "outputs": [],
   "source": [
    "D_A, D_B = 0.01, 1.0\n",
    "params_dict = [ row_to_param(row) for i, row in enumerate(df_subset[\"params\"])] \n",
    "ids = [ i+1 for i, row in enumerate(df_subset[\"params\"])] \n",
    "run_per_proc = 3\n",
    "\n",
    "run_params = [ (ids[i:i+run_per_proc],\n",
    "                params_dict[i:i+run_per_proc],\n",
    "                D_A, D_B) \n",
    "               for i in range(0,len(params_dict), run_per_proc)]\n",
    "    "
   ]
  },
  {
   "cell_type": "code",
   "execution_count": 80,
   "id": "c6170bdc",
   "metadata": {
    "ExecuteTime": {
     "end_time": "2024-01-02T15:40:29.465287Z",
     "start_time": "2024-01-02T15:40:29.455492Z"
    }
   },
   "outputs": [
    {
     "data": {
      "text/plain": [
       "(86, 86, 29, 87)"
      ]
     },
     "execution_count": 80,
     "metadata": {},
     "output_type": "execute_result"
    }
   ],
   "source": [
    "len(ids), len(params_dict), len(run_params), len(run_params)*run_per_proc"
   ]
  },
  {
   "cell_type": "code",
   "execution_count": 82,
   "id": "c5f57348",
   "metadata": {
    "ExecuteTime": {
     "end_time": "2024-01-03T09:15:40.771745Z",
     "start_time": "2024-01-02T15:41:08.672040Z"
    }
   },
   "outputs": [
    {
     "name": "stderr",
     "output_type": "stream",
     "text": [
      "/end/home/rh2310/.conda/envs/pytorch/lib/python3.11/site-packages/scipy/sparse/linalg/_dsolve/linsolve.py:412: SparseEfficiencyWarning: splu converted its input to CSC format\n",
      "  warn('splu converted its input to CSC format', SparseEfficiencyWarning)\n",
      "/end/home/rh2310/.conda/envs/pytorch/lib/python3.11/site-packages/scipy/sparse/linalg/_dsolve/linsolve.py:412: SparseEfficiencyWarning: splu converted its input to CSC format\n",
      "  warn('splu converted its input to CSC format', SparseEfficiencyWarning)\n",
      "/end/home/rh2310/.conda/envs/pytorch/lib/python3.11/site-packages/scipy/sparse/linalg/_dsolve/linsolve.py:412: SparseEfficiencyWarning: splu converted its input to CSC format\n",
      "  warn('splu converted its input to CSC format', SparseEfficiencyWarning)\n",
      "/end/home/rh2310/.conda/envs/pytorch/lib/python3.11/site-packages/scipy/sparse/linalg/_dsolve/linsolve.py:412: SparseEfficiencyWarning: splu converted its input to CSC format\n",
      "  warn('splu converted its input to CSC format', SparseEfficiencyWarning)\n",
      "/end/home/rh2310/.conda/envs/pytorch/lib/python3.11/site-packages/scipy/sparse/linalg/_dsolve/linsolve.py:412: SparseEfficiencyWarning: splu converted its input to CSC format\n",
      "  warn('splu converted its input to CSC format', SparseEfficiencyWarning)\n",
      "/end/home/rh2310/.conda/envs/pytorch/lib/python3.11/site-packages/scipy/sparse/linalg/_dsolve/linsolve.py:412: SparseEfficiencyWarning: splu converted its input to CSC format\n",
      "  warn('splu converted its input to CSC format', SparseEfficiencyWarning)\n",
      "/end/home/rh2310/.conda/envs/pytorch/lib/python3.11/site-packages/scipy/sparse/linalg/_dsolve/linsolve.py:412: SparseEfficiencyWarning: splu converted its input to CSC format\n",
      "  warn('splu converted its input to CSC format', SparseEfficiencyWarning)\n",
      "/end/home/rh2310/.conda/envs/pytorch/lib/python3.11/site-packages/scipy/sparse/linalg/_dsolve/linsolve.py:412: SparseEfficiencyWarning: splu converted its input to CSC format\n",
      "  warn('splu converted its input to CSC format', SparseEfficiencyWarning)\n",
      "/end/home/rh2310/.conda/envs/pytorch/lib/python3.11/site-packages/scipy/sparse/linalg/_dsolve/linsolve.py:412: SparseEfficiencyWarning: splu converted its input to CSC format\n",
      "  warn('splu converted its input to CSC format', SparseEfficiencyWarning)\n",
      "/end/home/rh2310/.conda/envs/pytorch/lib/python3.11/site-packages/scipy/sparse/linalg/_dsolve/linsolve.py:412: SparseEfficiencyWarning: splu converted its input to CSC format\n",
      "  warn('splu converted its input to CSC format', SparseEfficiencyWarning)\n",
      "/end/home/rh2310/.conda/envs/pytorch/lib/python3.11/site-packages/scipy/sparse/linalg/_dsolve/linsolve.py:412: SparseEfficiencyWarning: splu converted its input to CSC format\n",
      "  warn('splu converted its input to CSC format', SparseEfficiencyWarning)\n",
      "/end/home/rh2310/.conda/envs/pytorch/lib/python3.11/site-packages/scipy/sparse/linalg/_dsolve/linsolve.py:412: SparseEfficiencyWarning: splu converted its input to CSC format\n",
      "  warn('splu converted its input to CSC format', SparseEfficiencyWarning)\n"
     ]
    }
   ],
   "source": [
    "from multiprocessing import Pool\n",
    "\n",
    "with Pool(12) as pool:\n",
    "    res = pool.map(simulation_run, run_params[:12])"
   ]
  },
  {
   "cell_type": "code",
   "execution_count": null,
   "id": "45f410d3",
   "metadata": {},
   "outputs": [],
   "source": []
  }
 ],
 "metadata": {
  "hide_input": false,
  "kernelspec": {
   "display_name": "Python 3 (ipykernel)",
   "language": "python",
   "name": "python3"
  },
  "language_info": {
   "codemirror_mode": {
    "name": "ipython",
    "version": 3
   },
   "file_extension": ".py",
   "mimetype": "text/x-python",
   "name": "python",
   "nbconvert_exporter": "python",
   "pygments_lexer": "ipython3",
   "version": "3.11.5"
  },
  "varInspector": {
   "cols": {
    "lenName": 16,
    "lenType": 16,
    "lenVar": 40
   },
   "kernels_config": {
    "python": {
     "delete_cmd_postfix": "",
     "delete_cmd_prefix": "del ",
     "library": "var_list.py",
     "varRefreshCmd": "print(var_dic_list())"
    },
    "r": {
     "delete_cmd_postfix": ") ",
     "delete_cmd_prefix": "rm(",
     "library": "var_list.r",
     "varRefreshCmd": "cat(var_dic_list()) "
    }
   },
   "types_to_exclude": [
    "module",
    "function",
    "builtin_function_or_method",
    "instance",
    "_Feature"
   ],
   "window_display": false
  }
 },
 "nbformat": 4,
 "nbformat_minor": 5
}
