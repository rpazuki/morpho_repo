{
 "cells": [
  {
   "cell_type": "code",
   "execution_count": 1,
   "id": "0358ed9e",
   "metadata": {
    "ExecuteTime": {
     "end_time": "2023-01-28T13:37:30.043910Z",
     "start_time": "2023-01-28T13:37:27.609099Z"
    },
    "scrolled": true
   },
   "outputs": [
    {
     "name": "stderr",
     "output_type": "stream",
     "text": [
      "2023-01-28 13:37:27.687103: I tensorflow/core/platform/cpu_feature_guard.cc:193] This TensorFlow binary is optimized with oneAPI Deep Neural Network Library (oneDNN) to use the following CPU instructions in performance-critical operations:  AVX2 AVX512F AVX512_VNNI FMA\n",
      "To enable them in other operations, rebuild TensorFlow with the appropriate compiler flags.\n",
      "2023-01-28 13:37:27.906958: I tensorflow/core/util/port.cc:104] oneDNN custom operations are on. You may see slightly different numerical results due to floating-point round-off errors from different computation orders. To turn them off, set the environment variable `TF_ENABLE_ONEDNN_OPTS=0`.\n",
      "2023-01-28 13:37:28.556759: W tensorflow/compiler/xla/stream_executor/platform/default/dso_loader.cc:64] Could not load dynamic library 'libnvinfer.so.7'; dlerror: libnvinfer.so.7: cannot open shared object file: No such file or directory; LD_LIBRARY_PATH: /end/home/rh2310/lib:/end/soft/Linux_2.6_64/lib::/end/home/rh2310/.conda/envs/tensorflow.2.10/lib\n",
      "2023-01-28 13:37:28.556846: W tensorflow/compiler/xla/stream_executor/platform/default/dso_loader.cc:64] Could not load dynamic library 'libnvinfer_plugin.so.7'; dlerror: libnvinfer_plugin.so.7: cannot open shared object file: No such file or directory; LD_LIBRARY_PATH: /end/home/rh2310/lib:/end/soft/Linux_2.6_64/lib::/end/home/rh2310/.conda/envs/tensorflow.2.10/lib\n",
      "2023-01-28 13:37:28.556855: W tensorflow/compiler/tf2tensorrt/utils/py_utils.cc:38] TF-TRT Warning: Cannot dlopen some TensorRT libraries. If you would like to use Nvidia GPU with TensorRT, please make sure the missing libraries mentioned above are installed properly.\n"
     ]
    }
   ],
   "source": [
    "%config Completer.use_jedi = False\n",
    "import sys\n",
    "import warnings\n",
    "warnings.filterwarnings('ignore')\n",
    "\n",
    "import os\n",
    "os.environ[\"CUDA_VISIBLE_DEVICES\"]=\"2\"\n",
    "\n",
    "import tensorflow as tf\n",
    "import numpy as np\n",
    "import matplotlib.pyplot as plt"
   ]
  },
  {
   "cell_type": "code",
   "execution_count": 2,
   "id": "ad77c388",
   "metadata": {
    "ExecuteTime": {
     "end_time": "2023-01-28T13:37:38.242731Z",
     "start_time": "2023-01-28T13:37:32.304440Z"
    }
   },
   "outputs": [
    {
     "name": "stdout",
     "output_type": "stream",
     "text": [
      "1 Physical GPUs, 1 Logical GPUs\n"
     ]
    },
    {
     "name": "stderr",
     "output_type": "stream",
     "text": [
      "2023-01-28 13:37:37.507439: I tensorflow/core/platform/cpu_feature_guard.cc:193] This TensorFlow binary is optimized with oneAPI Deep Neural Network Library (oneDNN) to use the following CPU instructions in performance-critical operations:  AVX2 AVX512F AVX512_VNNI FMA\n",
      "To enable them in other operations, rebuild TensorFlow with the appropriate compiler flags.\n",
      "2023-01-28 13:37:38.229449: I tensorflow/core/common_runtime/gpu/gpu_device.cc:1613] Created device /job:localhost/replica:0/task:0/device:GPU:0 with 8192 MB memory:  -> device: 0, name: NVIDIA RTX A6000, pci bus id: 0000:e3:00.0, compute capability: 8.6\n"
     ]
    }
   ],
   "source": [
    "MEMORY = 8*1024\n",
    "\n",
    "gpus = tf.config.list_physical_devices('GPU')\n",
    "try:\n",
    "    tf.config.set_logical_device_configuration(gpus[0],\n",
    "                                              [tf.config.LogicalDeviceConfiguration(memory_limit=MEMORY)])\n",
    "    logical_gpus = tf.config.list_logical_devices('GPU')\n",
    "    print(len(gpus), \"Physical GPUs,\", len(logical_gpus), \"Logical GPUs\")\n",
    "except RuntimeError as e:        \n",
    "    # Memory growth must be set before GPUs have been initialized\n",
    "    print(e) "
   ]
  },
  {
   "cell_type": "code",
   "execution_count": 13,
   "id": "1abef8e6",
   "metadata": {
    "ExecuteTime": {
     "end_time": "2023-01-28T16:41:53.705482Z",
     "start_time": "2023-01-28T16:41:53.694660Z"
    }
   },
   "outputs": [],
   "source": [
    "sys.path.append(\"/end/home/rh2310/morpho_repo/turing_codebase\")\n",
    "from turing.utils import *\n",
    "from turing.tf_utils import *\n",
    "import turing.pinns as tu\n",
    "from turing.loss_functions import *"
   ]
  },
  {
   "cell_type": "code",
   "execution_count": 14,
   "id": "d9f67204",
   "metadata": {
    "ExecuteTime": {
     "end_time": "2023-01-28T16:41:56.141751Z",
     "start_time": "2023-01-28T16:41:56.131492Z"
    }
   },
   "outputs": [],
   "source": [
    "from local_utils import *"
   ]
  },
  {
   "cell_type": "code",
   "execution_count": 5,
   "id": "05638640",
   "metadata": {
    "ExecuteTime": {
     "end_time": "2023-01-28T13:39:13.136942Z",
     "start_time": "2023-01-28T13:39:06.922600Z"
    },
    "scrolled": true
   },
   "outputs": [
    {
     "name": "stdout",
     "output_type": "stream",
     "text": [
      "\n",
      "Start of epoch 0\n",
      "Callback called\n",
      "Loss value: 3.2259960174560547, at epoch 0\n",
      "Time taken: 2.41s\n",
      "Callback called\n",
      "\n",
      "Start of epoch 20\n",
      "Callback called\n",
      "Loss value: 2.1694495444535278e-05, at epoch 20\n",
      "Time taken: 0.73s\n",
      "Callback called\n",
      "\n",
      "Start of epoch 40\n",
      "Callback called\n",
      "Loss value: 9.693593892734498e-05, at epoch 40\n",
      "Time taken: 0.73s\n",
      "Callback called\n",
      "\n",
      "Start of epoch 60\n",
      "Callback called\n",
      "Loss value: 9.845380554907024e-05, at epoch 60\n",
      "Time taken: 0.75s\n",
      "Callback called\n",
      "\n",
      "Start of epoch 80\n",
      "Callback called\n",
      "Loss value: 0.00010113465395988896, at epoch 80\n",
      "Time taken: 0.71s\n",
      "Callback called\n"
     ]
    }
   ],
   "source": [
    "optimizer=keras.optimizers.Adam(learning_rate=5e-4)\n",
    "layers = [2, 128, 128, 128, 128, 128, 2]\n",
    "obs_loss = Observation_Loss(layers, loss_grad_type=  Loss_Grad_Type.PINN)\n",
    "pinn = tu.NN(layers, lb=0, ub=10, dtype=tf.float32)\n",
    "norm_l2 = L2()\n",
    "\n",
    "inputs = np.concatenate([np.arange(0, 10)[:, np.newaxis], \n",
    "                         np.arange(0, 10)[:, np.newaxis]], axis=1)\n",
    "\n",
    "def f1(X, alpha):\n",
    "    return np.exp(alpha*np.abs(X[:,0]-X[:,1]))\n",
    "\n",
    "outputs = np.concatenate([f1(inputs, 1)[:, np.newaxis],\n",
    "                          f1(inputs, 3)[:, np.newaxis]], axis=1)\n",
    "obs_X = np.concatenate([inputs, outputs], axis=1)\n",
    "\n",
    "ds = TINN_Dataset(tf.float32, obs_X)\n",
    "ds2 = TINN_Dataset(tf.float32, obs_X, obs_X)\n",
    "\n",
    "@tf.function\n",
    "def train_step(elements):\n",
    "    with tf.GradientTape(persistent=True) as tape:        \n",
    "        items = obs_loss.residual(pinn, elements[0])\n",
    "        l2_items = norm_l2.reduce_norm(items)\n",
    "        l2 = tf.reduce_sum(l2_items)\n",
    "        trainables = pinn.trainable_variables\n",
    "        \n",
    "    grads = tape.gradient(l2, trainables)\n",
    "    optimizer.apply_gradients(zip(grads, trainables))\n",
    "    return l2\n",
    "\n",
    "@tf.function\n",
    "def train_step_double_loss(elements):\n",
    "    with tf.GradientTape(persistent=True) as tape:        \n",
    "        items1 = obs_loss.residual(pinn, elements[0])\n",
    "        l2_items1 = norm_l2.reduce_norm(items1)\n",
    "        l2_1 = tf.reduce_sum(l2_items1)\n",
    "        items2 = obs_loss.residual(pinn, elements[1])\n",
    "        l2_items2 = norm_l2.reduce_norm(items2)\n",
    "        l2_2 = tf.reduce_sum(l2_items2)\n",
    "        l2 = l2_1 + l2_2\n",
    "        trainables = pinn.trainable_variables\n",
    "        \n",
    "    grads = tape.gradient(l2, trainables)\n",
    "    optimizer.apply_gradients(zip(grads, trainables))\n",
    "    return l2\n",
    "\n",
    "\n",
    "def epoch_callback(epoch, loss_samples):\n",
    "    if epoch%10 == 0:\n",
    "        print(\"Callback called\")\n",
    "\n",
    "losses = tu.train(epochs=100,\n",
    "                  batch_size=2,\n",
    "                  dataset = ds ,\n",
    "                  train_step = train_step,\n",
    "                  print_interval=20,\n",
    "                  loss_sample_interval = 20,\n",
    "                  stop_threshold=1e-12,\n",
    "                  epoch_callback=epoch_callback)\n",
    "\n",
    "losses2 = tu.train(epochs=100,\n",
    "                  batch_size=2,\n",
    "                  dataset = ds2 ,\n",
    "                  train_step = train_step_double_loss,\n",
    "                  print_interval=20,\n",
    "                  loss_sample_interval = 20,\n",
    "                  stop_threshold=1e-12,\n",
    "                  epoch_callback=epoch_callback)"
   ]
  },
  {
   "cell_type": "code",
   "execution_count": null,
   "id": "6c2489ee",
   "metadata": {},
   "outputs": [],
   "source": []
  }
 ],
 "metadata": {
  "hide_input": false,
  "kernelspec": {
   "display_name": "Python 3 (ipykernel)",
   "language": "python",
   "name": "python3"
  },
  "language_info": {
   "codemirror_mode": {
    "name": "ipython",
    "version": 3
   },
   "file_extension": ".py",
   "mimetype": "text/x-python",
   "name": "python",
   "nbconvert_exporter": "python",
   "pygments_lexer": "ipython3",
   "version": "3.9.13"
  },
  "varInspector": {
   "cols": {
    "lenName": 16,
    "lenType": 16,
    "lenVar": 40
   },
   "kernels_config": {
    "python": {
     "delete_cmd_postfix": "",
     "delete_cmd_prefix": "del ",
     "library": "var_list.py",
     "varRefreshCmd": "print(var_dic_list())"
    },
    "r": {
     "delete_cmd_postfix": ") ",
     "delete_cmd_prefix": "rm(",
     "library": "var_list.r",
     "varRefreshCmd": "cat(var_dic_list()) "
    }
   },
   "types_to_exclude": [
    "module",
    "function",
    "builtin_function_or_method",
    "instance",
    "_Feature"
   ],
   "window_display": false
  }
 },
 "nbformat": 4,
 "nbformat_minor": 5
}
