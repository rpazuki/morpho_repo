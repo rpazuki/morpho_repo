{
 "cells": [
  {
   "cell_type": "code",
   "execution_count": 1,
   "id": "b6e7ecb4",
   "metadata": {
    "ExecuteTime": {
     "end_time": "2023-04-03T16:13:10.620688Z",
     "start_time": "2023-04-03T16:13:09.789053Z"
    }
   },
   "outputs": [],
   "source": [
    "%config Completer.use_jedi = False\n",
    "from sympy import *\n",
    "import numpy as np\n",
    "import matplotlib.pyplot as plt\n",
    "from IPython.display import display, Latex\n",
    "\n",
    "import sys\n",
    "sys.path.append(\"/end/home/rh2310/morpho_repo/amplitude_method\")\n",
    "from utils import *"
   ]
  },
  {
   "cell_type": "code",
   "execution_count": 2,
   "id": "fb2f2e00",
   "metadata": {
    "ExecuteTime": {
     "end_time": "2023-04-03T16:13:11.033410Z",
     "start_time": "2023-04-03T16:13:11.020415Z"
    }
   },
   "outputs": [],
   "source": [
    "init_printing(use_latex='mathjax')#(use_latex=True)"
   ]
  },
  {
   "cell_type": "markdown",
   "id": "d50ff294",
   "metadata": {},
   "source": [
    "#### Define a list of parameters"
   ]
  },
  {
   "cell_type": "code",
   "execution_count": 3,
   "id": "ec04e87a",
   "metadata": {
    "ExecuteTime": {
     "end_time": "2023-04-03T16:15:18.764492Z",
     "start_time": "2023-04-03T16:15:18.752859Z"
    }
   },
   "outputs": [],
   "source": [
    "A, B, C = symbols('A, B, C', real=True, positive = True)\n",
    "\n",
    "D_A, D_B = symbols('D_A, D_B', real=True, positive = True)\n",
    "\n",
    "(b_A, b_B, b_C,\n",
    " V_A, V_B, V_C,\n",
    "K_AB, K_AC, K_BA, K_BC,K_CA,  K_CB, K_CC,\n",
    "μ_A, μ_B, μ_C) = symbols(\n",
    "    'b_A, b_B, b_C, V_A, V_B, V_C, K_AB, K_AC, K_BA, K_BC,K_CA, K_CB, K_CC, mu_A, mu_B, mu_C', \n",
    "    real=True, positive = True)\n",
    "\n",
    "k, n = symbols('k, n', integer=True)"
   ]
  },
  {
   "cell_type": "markdown",
   "id": "76073459",
   "metadata": {},
   "source": [
    "> The PDEs are as follows\n",
    "\n",
    "<h3><center>$\n",
    "     \\frac{\\partial A}{\\partial t} = b_A  +   V_A   \\frac{1}{1+\\left(\\frac{K_{BA}}{B }\\right)^{n}} \\frac{1}{1+\\left(\\frac{C}{K_{CA}}\\right)^{n}} -  \\mu_A A + D_A \\nabla^2 A,\n",
    "$</center></h3>\n",
    "\n",
    "<h3><center>$     \\frac{\\partial B}{\\partial t} = b_B  +   V_B  \\frac{1}{1+\\left(\\frac{A}{K_{AB}}\\right)^{n}} \\frac{1}{1+\\left(\\frac{K_{CB}}{ C}\\right)^{n}} -  \\mu_B B + D_B \\nabla^2 B,\n",
    "$</center></h3>\n",
    "\n",
    "<h3><center>$\n",
    "\\frac{\\partial C}{\\partial t} = b_C  +   V_C  \\frac{1}{1+\\left(\\frac{A}{K_{AC} }\\right)^{n}} \\frac{1}{1+\\left(\\frac{B}{K_{BC} }\\right)^{n}} \\frac{1}{1+\\left(\\frac{K_{CC}}{C }\\right)^{n}} -  \\mu_C C,\n",
    "$</center></h3>\n",
    "\n",
    "![Circute 3708](3708.png \"Circute 3708\")\n",
    "\n",
    "Then, we define kinetic terms as\n",
    "\n",
    "<h3><center>$f_A(A, B, C) = b_A  +   V_A   \\frac{1}{1+\\left(\\frac{K_{BA}}{B }\\right)^{n}} \\frac{1}{1+\\left(\\frac{C}{K_{CA}}\\right)^{n}} -  \\mu_A A$</center></h3>\n",
    "<h3><center>$f_B(A, B, C) = b_B  +   V_B  \\frac{1}{1+\\left(\\frac{A}{K_{AB}}\\right)^{n}} \\frac{1}{1+\\left(\\frac{K_{CB}}{ C}\\right)^{n}} -  \\mu_B B$</center></h3>\n",
    "<h3><center>$f_C(A, B, C) = b_C  +   V_C  \\frac{1}{1+\\left(\\frac{A}{K_{AC} }\\right)^{n}} \\frac{1}{1+\\left(\\frac{B}{K_{BC} }\\right)^{n}} \\frac{1}{1+\\left(\\frac{K_{CC}}{C }\\right)^{n}} -  \\mu_C C$</center></h3>\n"
   ]
  },
  {
   "cell_type": "code",
   "execution_count": 5,
   "id": "3469fd72",
   "metadata": {
    "ExecuteTime": {
     "end_time": "2023-04-03T16:20:30.661367Z",
     "start_time": "2023-04-03T16:20:30.498530Z"
    }
   },
   "outputs": [
    {
     "data": {
      "text/latex": [
       "$f_A(A, B, C) =$ $- A \\mu_{A} + \\frac{V_{A}}{\\left(\\left(\\frac{K_{BA}}{B}\\right)^{n} + 1\\right) \\left(\\left(\\frac{C}{K_{CA}}\\right)^{n} + 1\\right)} + b_{A}$"
      ],
      "text/plain": [
       "<IPython.core.display.Latex object>"
      ]
     },
     "metadata": {},
     "output_type": "display_data"
    },
    {
     "data": {
      "text/latex": [
       "$f_B(A, B, C) =$ $- B \\mu_{B} + \\frac{V_{B}}{\\left(\\left(\\frac{A}{K_{AB}}\\right)^{n} + 1\\right) \\left(\\left(\\frac{K_{CB}}{C}\\right)^{n} + 1\\right)} + b_{B}$"
      ],
      "text/plain": [
       "<IPython.core.display.Latex object>"
      ]
     },
     "metadata": {},
     "output_type": "display_data"
    },
    {
     "data": {
      "text/latex": [
       "$f_C(A, B, C) =$ $- C \\mu_{C} + \\frac{V_{C}}{\\left(\\left(\\frac{A}{K_{AC}}\\right)^{n} + 1\\right) \\left(\\left(\\frac{B}{K_{BC}}\\right)^{n} + 1\\right) \\left(\\left(\\frac{K_{CC}}{C}\\right)^{n} + 1\\right)} + b_{C}$"
      ],
      "text/plain": [
       "<IPython.core.display.Latex object>"
      ]
     },
     "metadata": {},
     "output_type": "display_data"
    }
   ],
   "source": [
    "def act(x, K, n):\n",
    "    return 1/(1 + (K/x)**n)\n",
    "\n",
    "def inh(x, K, n):\n",
    "    return 1/(1 + (x/K)**n)\n",
    "\n",
    "\n",
    "fA = b_A + V_A * act(B, K_BA, n) * inh(C, K_CA, n) - μ_A * A\n",
    "fB = b_B + V_B * inh(A, K_AB, n) * act(C, K_CB, n) - μ_B * B\n",
    "fC = b_C + V_C * inh(A, K_AC, n) * inh(B, K_BC, n) * act(C, K_CC, n) - μ_C * C\n",
    "\n",
    "lprint(r\"$f_A(A, B, C) =$ {0}\", fA)\n",
    "lprint(r\"$f_B(A, B, C) =$ {0}\", fB)\n",
    "lprint(r\"$f_C(A, B, C) =$ {0}\", fC)"
   ]
  },
  {
   "cell_type": "markdown",
   "id": "e88b3e71",
   "metadata": {},
   "source": [
    "#### which as a vector, we can define it like"
   ]
  },
  {
   "cell_type": "code",
   "execution_count": 6,
   "id": "71c85421",
   "metadata": {
    "ExecuteTime": {
     "end_time": "2023-04-03T16:20:49.918713Z",
     "start_time": "2023-04-03T16:20:49.902239Z"
    }
   },
   "outputs": [
    {
     "data": {
      "text/latex": [
       "$\\boldsymbol{f}(A, B, C) =$ $\\left[\\begin{matrix}- A \\mu_{A} + \\frac{V_{A}}{\\left(\\left(\\frac{K_{BA}}{B}\\right)^{n} + 1\\right) \\left(\\left(\\frac{C}{K_{CA}}\\right)^{n} + 1\\right)} + b_{A}\\\\- B \\mu_{B} + \\frac{V_{B}}{\\left(\\left(\\frac{A}{K_{AB}}\\right)^{n} + 1\\right) \\left(\\left(\\frac{K_{CB}}{C}\\right)^{n} + 1\\right)} + b_{B}\\\\- C \\mu_{C} + \\frac{V_{C}}{\\left(\\left(\\frac{A}{K_{AC}}\\right)^{n} + 1\\right) \\left(\\left(\\frac{B}{K_{BC}}\\right)^{n} + 1\\right) \\left(\\left(\\frac{K_{CC}}{C}\\right)^{n} + 1\\right)} + b_{C}\\end{matrix}\\right]$ "
      ],
      "text/plain": [
       "<IPython.core.display.Latex object>"
      ]
     },
     "metadata": {},
     "output_type": "display_data"
    }
   ],
   "source": [
    "Kinetic = Matrix([[fA], [fB], [fC]])\n",
    "lprint(r\"$\\boldsymbol{f}(A, B, C) =$ {0} \", Kinetic)"
   ]
  },
  {
   "cell_type": "markdown",
   "id": "085ca05b",
   "metadata": {},
   "source": [
    "#### First, we find the fix points of the system without diffusion. \n",
    "\n",
    "\n",
    "The solution of the above system finds $A^*, B^*, C^*$ such that\n",
    "<center>$f_A(A^*, B^*, C^*) = 0$</center>\n",
    "<center>$f_B(A^*, B^*, C^*) = 0$</center>\n",
    "<center>$f_C(A^*, B^*, C^*) = 0$</center>"
   ]
  },
  {
   "cell_type": "code",
   "execution_count": 7,
   "id": "a2eabc34",
   "metadata": {
    "ExecuteTime": {
     "end_time": "2023-04-03T16:21:57.448697Z",
     "start_time": "2023-04-03T16:21:57.416298Z"
    }
   },
   "outputs": [],
   "source": [
    "f1 = lambdify([n, b_A, b_B, b_C, μ_A, μ_B, μ_C, V_A, V_B, V_C,\n",
    "               K_AB, K_AC, K_BA, K_BC,K_CA, K_CB, K_CC,\n",
    "               A,B,C], \n",
    "              fA,\n",
    "              modules='numpy')\n",
    "\n",
    "f2 = lambdify([n, b_A, b_B, b_C, μ_A, μ_B, μ_C, V_A, V_B, V_C,\n",
    "               K_AB, K_AC, K_BA, K_BC,K_CA, K_CB, K_CC,\n",
    "               A,B,C], \n",
    "              fB,\n",
    "              modules='numpy')\n",
    "\n",
    "f3 = lambdify([n, b_A, b_B, b_C, μ_A, μ_B, μ_C, V_A, V_B, V_C,\n",
    "               K_AB, K_AC, K_BA, K_BC,K_CA, K_CB, K_CC,\n",
    "               A,B,C], \n",
    "               fC,\n",
    "              modules='numpy')\n",
    "\n",
    "def create_func(n, b_A, b_B, b_C, μ_A, μ_B, μ_C, V_A, V_B, V_C,\n",
    "                    K_AB, K_AC, K_BA, K_BC,K_CA, K_CB, K_CC):\n",
    "    def f_1(args):\n",
    "        A,B, C = args\n",
    "        return (f1(n, b_A, b_B, b_C, μ_A, μ_B, μ_C, V_A, V_B, V_C,\n",
    "                   K_AB, K_AC, K_BA, K_BC,K_CA, K_CB, K_CC, A, B, C),\n",
    "               f2(n, b_A, b_B, b_C, μ_A, μ_B, μ_C, V_A, V_B, V_C,\n",
    "                   K_AB, K_AC, K_BA, K_BC,K_CA, K_CB, K_CC, A, B, C),\n",
    "               f3(n, b_A, b_B, b_C, μ_A, μ_B, μ_C, V_A, V_B, V_C,\n",
    "                   K_AB, K_AC, K_BA, K_BC,K_CA, K_CB, K_CC, A, B, C)) \n",
    "    \n",
    "    return f_1"
   ]
  },
  {
   "cell_type": "markdown",
   "id": "bb28f1eb",
   "metadata": {},
   "source": [
    "# Test finding the steady state solutions"
   ]
  },
  {
   "cell_type": "code",
   "execution_count": 8,
   "id": "3577d8b4",
   "metadata": {
    "ExecuteTime": {
     "end_time": "2023-04-03T16:22:12.166706Z",
     "start_time": "2023-04-03T16:22:12.061359Z"
    }
   },
   "outputs": [
    {
     "name": "stdout",
     "output_type": "stream",
     "text": [
      "[0.10010039 0.10010038 0.10010037]\n",
      "(2.7755575615628914e-17, 4.163336342344337e-17, 0.0)\n"
     ]
    }
   ],
   "source": [
    "func = create_func(n=4, b_A=.1, b_B=.1, b_C=.1, μ_A=1.0, μ_B=1.0, μ_C=1.0,\n",
    "                         V_A=1.0, V_B=1.0, V_C=1.0,\n",
    "                          K_AB=1., K_AC=1., K_BA=1., K_BC=1., K_CA=10., K_CB=1., K_CC=1.)\n",
    "\n",
    "from scipy.optimize import fsolve\n",
    "\n",
    "root = fsolve(func, [1, 1, 1], xtol=1e-10, maxfev=100000)\n",
    "print(root)\n",
    "print(func(root))"
   ]
  },
  {
   "cell_type": "markdown",
   "id": "f8bcd45e",
   "metadata": {},
   "source": [
    "#### Next, to linearise the PDE system, we find the Jacobian of $(f_A, f_B, f_C)$ "
   ]
  },
  {
   "cell_type": "code",
   "execution_count": 9,
   "id": "521f7a3a",
   "metadata": {
    "ExecuteTime": {
     "end_time": "2023-04-03T16:22:23.210837Z",
     "start_time": "2023-04-03T16:22:23.124859Z"
    }
   },
   "outputs": [
    {
     "data": {
      "text/latex": [
       "$J= \\frac{\\partial \\boldsymbol{f}_i}{\\partial u_j} = \\left[\\begin{matrix}- \\mu_{A} & \\frac{V_{A} n \\left(\\frac{K_{BA}}{B}\\right)^{n}}{B \\left(\\left(\\frac{K_{BA}}{B}\\right)^{n} + 1\\right)^{2} \\left(\\left(\\frac{C}{K_{CA}}\\right)^{n} + 1\\right)} & - \\frac{V_{A} n \\left(\\frac{C}{K_{CA}}\\right)^{n}}{C \\left(\\left(\\frac{K_{BA}}{B}\\right)^{n} + 1\\right) \\left(\\left(\\frac{C}{K_{CA}}\\right)^{n} + 1\\right)^{2}}\\\\- \\frac{V_{B} n \\left(\\frac{A}{K_{AB}}\\right)^{n}}{A \\left(\\left(\\frac{A}{K_{AB}}\\right)^{n} + 1\\right)^{2} \\left(\\left(\\frac{K_{CB}}{C}\\right)^{n} + 1\\right)} & - \\mu_{B} & \\frac{V_{B} n \\left(\\frac{K_{CB}}{C}\\right)^{n}}{C \\left(\\left(\\frac{A}{K_{AB}}\\right)^{n} + 1\\right) \\left(\\left(\\frac{K_{CB}}{C}\\right)^{n} + 1\\right)^{2}}\\\\- \\frac{V_{C} n \\left(\\frac{A}{K_{AC}}\\right)^{n}}{A \\left(\\left(\\frac{A}{K_{AC}}\\right)^{n} + 1\\right)^{2} \\left(\\left(\\frac{B}{K_{BC}}\\right)^{n} + 1\\right) \\left(\\left(\\frac{K_{CC}}{C}\\right)^{n} + 1\\right)} & - \\frac{V_{C} n \\left(\\frac{B}{K_{BC}}\\right)^{n}}{B \\left(\\left(\\frac{A}{K_{AC}}\\right)^{n} + 1\\right) \\left(\\left(\\frac{B}{K_{BC}}\\right)^{n} + 1\\right)^{2} \\left(\\left(\\frac{K_{CC}}{C}\\right)^{n} + 1\\right)} & - \\mu_{C} + \\frac{V_{C} n \\left(\\frac{K_{CC}}{C}\\right)^{n}}{C \\left(\\left(\\frac{A}{K_{AC}}\\right)^{n} + 1\\right) \\left(\\left(\\frac{B}{K_{BC}}\\right)^{n} + 1\\right) \\left(\\left(\\frac{K_{CC}}{C}\\right)^{n} + 1\\right)^{2}}\\end{matrix}\\right]$"
      ],
      "text/plain": [
       "<IPython.core.display.Latex object>"
      ]
     },
     "metadata": {},
     "output_type": "display_data"
    }
   ],
   "source": [
    "J_jac = Kinetic.jacobian([A, B, C])\n",
    "hprint(r\"J= \\frac{\\partial \\boldsymbol{f}_i}{\\partial u_j} = \", J_jac)\n",
    "J_jac_func = lambdify([n, b_A, b_B, b_C, μ_A, μ_B, μ_C, V_A, V_B, V_C,\n",
    "                K_AB, K_AC, K_BA, K_BC, K_CA, K_CB, K_CC,\n",
    "               A,B,C], \n",
    "               J_jac,\n",
    "              modules='numpy')"
   ]
  },
  {
   "cell_type": "markdown",
   "id": "d008a41d",
   "metadata": {},
   "source": [
    "## Test the Jacobian matrix"
   ]
  },
  {
   "cell_type": "code",
   "execution_count": 10,
   "id": "cfe8523f",
   "metadata": {
    "ExecuteTime": {
     "end_time": "2023-04-03T16:22:36.820326Z",
     "start_time": "2023-04-03T16:22:36.804892Z"
    }
   },
   "outputs": [
    {
     "name": "stdout",
     "output_type": "stream",
     "text": [
      "[[-1.00000000e+00  4.01125237e-03 -4.02778603e-11]\n",
      " [-4.02697825e-07 -1.00000000e+00  4.01084850e-03]\n",
      " [-4.02657398e-07 -4.02657275e-07 -9.95989554e-01]]\n"
     ]
    },
    {
     "data": {
      "text/plain": [
       "array([-0.99599036+0.j, -1.        +0.j, -0.99999919+0.j])"
      ]
     },
     "execution_count": 10,
     "metadata": {},
     "output_type": "execute_result"
    }
   ],
   "source": [
    "J_test = J_jac_func(n=4, b_A=.1, b_B=.1, b_C=.1, mu_A=1.0, mu_B=1.0, mu_C=1.0,\n",
    "                         V_A=1.0, V_B=1.0, V_C=1.0,\n",
    "                         K_AB=1., K_AC=1., K_BA=1., K_BC=1.,K_CA=10., K_CB=1., K_CC=1.,\n",
    "                        A = root[0], B = root[1], C = root[2])\n",
    "print(J_test)\n",
    "from scipy.linalg import eigvals\n",
    "eigvals(J_test)"
   ]
  },
  {
   "cell_type": "markdown",
   "id": "659fd04f",
   "metadata": {},
   "source": [
    "## Including the diffusion"
   ]
  },
  {
   "cell_type": "code",
   "execution_count": 11,
   "id": "b1b392a1",
   "metadata": {
    "ExecuteTime": {
     "end_time": "2023-04-03T16:23:12.849912Z",
     "start_time": "2023-04-03T16:23:12.808420Z"
    }
   },
   "outputs": [
    {
     "data": {
      "text/latex": [
       "$J_{diff}= \\left[\\begin{matrix}- D_{A} k^{2} - \\mu_{A} & \\frac{V_{A} n \\left(\\frac{K_{BA}}{B}\\right)^{n}}{B \\left(\\left(\\frac{K_{BA}}{B}\\right)^{n} + 1\\right)^{2} \\left(\\left(\\frac{C}{K_{CA}}\\right)^{n} + 1\\right)} & - \\frac{V_{A} n \\left(\\frac{C}{K_{CA}}\\right)^{n}}{C \\left(\\left(\\frac{K_{BA}}{B}\\right)^{n} + 1\\right) \\left(\\left(\\frac{C}{K_{CA}}\\right)^{n} + 1\\right)^{2}}\\\\- \\frac{V_{B} n \\left(\\frac{A}{K_{AB}}\\right)^{n}}{A \\left(\\left(\\frac{A}{K_{AB}}\\right)^{n} + 1\\right)^{2} \\left(\\left(\\frac{K_{CB}}{C}\\right)^{n} + 1\\right)} & - D_{B} k^{2} - \\mu_{B} & \\frac{V_{B} n \\left(\\frac{K_{CB}}{C}\\right)^{n}}{C \\left(\\left(\\frac{A}{K_{AB}}\\right)^{n} + 1\\right) \\left(\\left(\\frac{K_{CB}}{C}\\right)^{n} + 1\\right)^{2}}\\\\- \\frac{V_{C} n \\left(\\frac{A}{K_{AC}}\\right)^{n}}{A \\left(\\left(\\frac{A}{K_{AC}}\\right)^{n} + 1\\right)^{2} \\left(\\left(\\frac{B}{K_{BC}}\\right)^{n} + 1\\right) \\left(\\left(\\frac{K_{CC}}{C}\\right)^{n} + 1\\right)} & - \\frac{V_{C} n \\left(\\frac{B}{K_{BC}}\\right)^{n}}{B \\left(\\left(\\frac{A}{K_{AC}}\\right)^{n} + 1\\right) \\left(\\left(\\frac{B}{K_{BC}}\\right)^{n} + 1\\right)^{2} \\left(\\left(\\frac{K_{CC}}{C}\\right)^{n} + 1\\right)} & - \\mu_{C} + \\frac{V_{C} n \\left(\\frac{K_{CC}}{C}\\right)^{n}}{C \\left(\\left(\\frac{A}{K_{AC}}\\right)^{n} + 1\\right) \\left(\\left(\\frac{B}{K_{BC}}\\right)^{n} + 1\\right) \\left(\\left(\\frac{K_{CC}}{C}\\right)^{n} + 1\\right)^{2}}\\end{matrix}\\right]$"
      ],
      "text/plain": [
       "<IPython.core.display.Latex object>"
      ]
     },
     "metadata": {},
     "output_type": "display_data"
    },
    {
     "data": {
      "text/latex": [
       "$J_{diff}= \\mathtt{\\text{[[-D\\_A*k**2 - 1.0 0.004011252370681969 -4.027786030391656e-11]\n",
       " [-4.0269782519735944e-07 -D\\_B*k**2 - 1.0 0.004010848501882166]\n",
       " [-4.0265739753588594e-07 -4.0265727545243576e-07 -0.9959895541554339]]}}$"
      ],
      "text/plain": [
       "<IPython.core.display.Latex object>"
      ]
     },
     "metadata": {},
     "output_type": "display_data"
    }
   ],
   "source": [
    "J_jac_diff = J_jac - Matrix([[D_A*k**2,   0, 0], \n",
    "                             [0, D_B*k**2, 0],\n",
    "                             [0,      0, 0],\n",
    "                           ])\n",
    "hprint(r\"J_{diff}= \", J_jac_diff)\n",
    "\n",
    "J_jac_diff_func = lambdify([n, b_A, b_B, b_C, μ_A, μ_B, μ_C, V_A, V_B, V_C,\n",
    "                K_AB, K_AC, K_BA, K_BC, K_CA, K_CB, K_CC,\n",
    "               A,B,C], \n",
    "               J_jac_diff,\n",
    "              modules='numpy')\n",
    "\n",
    "J_diff_test = J_jac_diff_func(n=4, b_A=.1, b_B=.1, b_C=.1, mu_A=1.0, mu_B=1.0, mu_C=1.0,\n",
    "                         V_A=1.0, V_B=1.0, V_C=1.0,\n",
    "                         K_AB=1., K_AC=1., K_BA=1., K_BC=1.,K_CA=10., K_CB=1., K_CC=1.,\n",
    "                        A = root[0], B = root[1], C = root[2])\n",
    "\n",
    "hprint(r\"J_{diff}= \", J_diff_test)\n"
   ]
  },
  {
   "cell_type": "code",
   "execution_count": 12,
   "id": "95bab47f",
   "metadata": {
    "ExecuteTime": {
     "end_time": "2023-04-03T16:23:26.428203Z",
     "start_time": "2023-04-03T16:23:25.961140Z"
    }
   },
   "outputs": [],
   "source": [
    "λ_1, λ_2, λ_3 = list(J_jac_diff.subs({n:4, b_A:.1, b_B:.1, b_C:.1, μ_A:1.0, μ_B:1.0, μ_C:1.0,\n",
    "                         V_A:1.0, V_B:1.0, V_C:1.0,\n",
    "                          K_AB:1., K_AC:1., K_BA:1., K_BC:1.,K_CA:10., K_CB:1., K_CC:1.,\n",
    "                        A:root[0], B:root[1], C:root[2]}).eigenvals().keys())\n",
    "λ_1_func = lambdify([k, D_A, D_B], \n",
    "               λ_1,\n",
    "              modules='numpy')\n",
    "λ_2_func = lambdify([k, D_A, D_B], \n",
    "               λ_3,\n",
    "              modules='numpy')\n",
    "λ_3_func = lambdify([k, D_A, D_B], \n",
    "               λ_3,\n",
    "              modules='numpy')\n"
   ]
  },
  {
   "cell_type": "code",
   "execution_count": 13,
   "id": "03cb3bcb",
   "metadata": {
    "ExecuteTime": {
     "end_time": "2023-04-03T16:23:29.484593Z",
     "start_time": "2023-04-03T16:23:29.323927Z"
    }
   },
   "outputs": [
    {
     "name": "stderr",
     "output_type": "stream",
     "text": [
      "/usr/local/anaconda3/lib/python3.9/site-packages/matplotlib/cbook/__init__.py:1298: ComplexWarning: Casting complex values to real discards the imaginary part\n",
      "  return np.asarray(x, float)\n"
     ]
    },
    {
     "data": {
      "image/png": "[encoded data removed]",
      "text/plain": [
       "<Figure size 640x480 with 1 Axes>"
      ]
     },
     "metadata": {},
     "output_type": "display_data"
    }
   ],
   "source": [
    "ks = np.linspace(0,1).astype(np.complex64)\n",
    "D_A_val=.01\n",
    "D_B_val=1\n",
    "pl1 = λ_1_func(ks, D_A_val, D_B_val)\n",
    "pl2 = λ_2_func(ks, D_A_val, D_B_val)\n",
    "pl3 = λ_3_func(ks, D_A_val, D_B_val)\n",
    "#plt.plot(ks, np.real(pl1))\n",
    "plt.plot(ks, np.real(pl2))\n",
    "plt.plot(ks, np.real(pl3))\n",
    "#plt.plot(ks, np.imag(pl1))\n",
    "plt.grid()"
   ]
  },
  {
   "cell_type": "code",
   "execution_count": null,
   "id": "2a26eb40",
   "metadata": {},
   "outputs": [],
   "source": []
  }
 ],
 "metadata": {
  "hide_input": false,
  "kernelspec": {
   "display_name": "Python 3 (ipykernel)",
   "language": "python",
   "name": "python3"
  },
  "language_info": {
   "codemirror_mode": {
    "name": "ipython",
    "version": 3
   },
   "file_extension": ".py",
   "mimetype": "text/x-python",
   "name": "python",
   "nbconvert_exporter": "python",
   "pygments_lexer": "ipython3",
   "version": "3.9.13"
  },
  "varInspector": {
   "cols": {
    "lenName": 16,
    "lenType": 16,
    "lenVar": 40
   },
   "kernels_config": {
    "python": {
     "delete_cmd_postfix": "",
     "delete_cmd_prefix": "del ",
     "library": "var_list.py",
     "varRefreshCmd": "print(var_dic_list())"
    },
    "r": {
     "delete_cmd_postfix": ") ",
     "delete_cmd_prefix": "rm(",
     "library": "var_list.r",
     "varRefreshCmd": "cat(var_dic_list()) "
    }
   },
   "types_to_exclude": [
    "module",
    "function",
    "builtin_function_or_method",
    "instance",
    "_Feature"
   ],
   "window_display": false
  }
 },
 "nbformat": 4,
 "nbformat_minor": 5
}
