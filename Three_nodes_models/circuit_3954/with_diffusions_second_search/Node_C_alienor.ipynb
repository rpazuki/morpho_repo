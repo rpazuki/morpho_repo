{
 "cells": [
  {
   "cell_type": "code",
   "execution_count": 1,
   "id": "daebc78a",
   "metadata": {
    "ExecuteTime": {
     "end_time": "2023-06-20T08:00:55.061546Z",
     "start_time": "2023-06-20T08:00:53.870885Z"
    }
   },
   "outputs": [],
   "source": [
    "%config Completer.use_jedi = False\n",
    "import sys\n",
    "import warnings\n",
    "warnings.filterwarnings('ignore')\n",
    "\n",
    "import os\n",
    "os.environ[\"CUDA_VISIBLE_DEVICES\"]=\"2\"\n",
    "os.environ['TF_CPP_MIN_LOG_LEVEL'] = '3'\n",
    "\n",
    "# import tensorflow as tf\n",
    "import numpy as np\n",
    "import matplotlib.pyplot as plt\n",
    "\n",
    "MEMORY = 128#1*1024\n",
    "\n",
    "# gpus = tf.config.list_physical_devices('GPU')\n",
    "# try:\n",
    "#     tf.config.set_logical_device_configuration(gpus[0],\n",
    "#                                               [tf.config.LogicalDeviceConfiguration(memory_limit=MEMORY)])\n",
    "#     logical_gpus = tf.config.list_logical_devices('GPU')\n",
    "#     print(len(gpus), \"Physical GPUs,\", len(logical_gpus), \"Logical GPUs\")\n",
    "# except RuntimeError as e:        \n",
    "#     # Memory growth must be set before GPUs have been initialized\n",
    "#     print(e) \n",
    "    \n",
    "import pathlib\n",
    "import pickle\n",
    "from pathlib import Path\n",
    "sys.path.append(f\"{Path.home()}/morpho_repo\")\n",
    "sys.path.append(f\"{Path.home()}/morpho_repo/turing_codebase\")\n",
    "from turing.utils import *\n",
    "# from turing.tf_utils import *\n",
    "# import turing.pinns as tu\n",
    "# from turing.loss_functions import *\n",
    "\n",
    "\n",
    "from pathlib import Path\n",
    "sys.path.append(f\"{Path.home()}/morpho_repo/turing_codebase\")\n",
    "from pde_solvers.cn import *"
   ]
  },
  {
   "cell_type": "code",
   "execution_count": 2,
   "id": "e8bb92cb",
   "metadata": {
    "ExecuteTime": {
     "end_time": "2023-06-20T08:00:57.065312Z",
     "start_time": "2023-06-20T08:00:57.055808Z"
    }
   },
   "outputs": [],
   "source": [
    "from local_utils import *"
   ]
  },
  {
   "cell_type": "markdown",
   "id": "da4581a9",
   "metadata": {},
   "source": [
    "# Load parameters"
   ]
  },
  {
   "cell_type": "code",
   "execution_count": 100,
   "id": "70c6dcbe",
   "metadata": {
    "ExecuteTime": {
     "end_time": "2023-06-20T09:20:23.902750Z",
     "start_time": "2023-06-20T09:20:23.886143Z"
    }
   },
   "outputs": [],
   "source": [
    "import pandas as pd\n",
    "df = pd.read_csv(\"df_network_analysis_full_topology_with_estimates.csv\")\n",
    "df[\"index\"] = range(df.shape[0])"
   ]
  },
  {
   "cell_type": "code",
   "execution_count": 4,
   "id": "d2e7e45c",
   "metadata": {
    "ExecuteTime": {
     "end_time": "2023-06-20T08:01:24.000603Z",
     "start_time": "2023-06-20T08:01:23.988512Z"
    },
    "code_folding": []
   },
   "outputs": [],
   "source": [
    "def load_dataset(path):\n",
    "    with open(f\"../{path}\", \"rb\") as f:\n",
    "        k_max, params, res = np.load(f, allow_pickle=True)\n",
    "    (n_val, \n",
    "     b_A_val, mu_A_val, V_A_val, K_AA_val, K_AB_val, K_AC_val,\n",
    "     b_B_val, mu_B_val, V_B_val, K_BA_val, K_BC_val,\n",
    "     b_C_val, mu_C_val, V_C_val, K_CB_val, K_CC_val) = params\n",
    "    params = {\n",
    "              'D_A':0.01,\n",
    "              'D_B':1.0,\n",
    "              'n':n_val, \n",
    "              'b_A':b_A_val, \n",
    "              'mu_A':mu_A_val, \n",
    "              'V_A':V_A_val,\n",
    "              'K_AA':K_AA_val, \n",
    "              'K_AB':K_AB_val,  \n",
    "              'K_AC':K_AC_val,\n",
    "              'b_B':b_B_val, \n",
    "              'mu_B':mu_B_val, \n",
    "              'V_B':V_B_val,\n",
    "              'K_BA':K_BA_val, \n",
    "              'K_BC':K_BC_val,  \n",
    "              'b_C':b_C_val, \n",
    "              'mu_C':mu_C_val, \n",
    "              'V_C':V_C_val,\n",
    "              'K_CB':K_CB_val, \n",
    "              'K_CC':K_CC_val\n",
    "             }\n",
    "           \n",
    "    return (params, res, k_max)"
   ]
  },
  {
   "cell_type": "code",
   "execution_count": 5,
   "id": "c472f75f",
   "metadata": {
    "ExecuteTime": {
     "end_time": "2023-06-20T08:01:26.456217Z",
     "start_time": "2023-06-20T08:01:26.443124Z"
    }
   },
   "outputs": [],
   "source": [
    "def act(x, K, n):\n",
    "    \"\"\"Activatrion\"\"\"\n",
    "    return 1 / (1 + (K / (x + 1e-30)) ** n)\n",
    "\n",
    "\n",
    "def inh(x, K, n):\n",
    "    \"\"\"Inhibition\"\"\"\n",
    "    return 1 / (1 + (x / (K + 1e-30)) ** n)\n",
    "\n",
    "A_act_AA = lambda A, K_AA: act(A, K_AA, 4)\n",
    "A_inh_BA = lambda B, K_BA: inh(B, K_BA, 4)\n",
    "A_prod = lambda A, K_AA, B, K_BA: A_act_BA(A, K_AA)*A_act_BA(B, K_BA)\n",
    "\n",
    "B_act_AB = lambda A, K_AB: act(A, K_AB, 4)\n",
    "B_inh_CB = lambda C, K_CB: inh(C, K_CB, 4)\n",
    "B_prod = lambda A, K_AB, C, K_CB: B_act_AB(A, K_AB)*B_inh_CB(C, K_CB)\n",
    "\n",
    "C_inh_AC = lambda A, K_AC: inh(A, K_AC, 4)\n",
    "C_inh_BC = lambda B, K_BC: inh(B, K_BC, 4)\n",
    "C_act_CC = lambda C, K_CC: act(C, K_CC, 4)\n",
    "C_prod = lambda A, K_AC, B, K_BC, C, K_CC: C_inh_AC(A, K_AC)*C_inh_BC(B, K_BC)*C_act_CC(C, K_CC)"
   ]
  },
  {
   "cell_type": "code",
   "execution_count": 6,
   "id": "a0d4e253",
   "metadata": {
    "ExecuteTime": {
     "end_time": "2023-06-20T08:01:27.288742Z",
     "start_time": "2023-06-20T08:01:27.283134Z"
    }
   },
   "outputs": [],
   "source": [
    "def to(arr):\n",
    "    return arr.reshape(128, 128) "
   ]
  },
  {
   "cell_type": "code",
   "execution_count": 8,
   "id": "2c78c16a",
   "metadata": {
    "ExecuteTime": {
     "end_time": "2023-06-19T16:45:09.585103Z",
     "start_time": "2023-06-19T16:45:09.579509Z"
    }
   },
   "outputs": [],
   "source": [
    "np.set_printoptions(suppress=True)"
   ]
  },
  {
   "cell_type": "code",
   "execution_count": 7,
   "id": "fbced2a0",
   "metadata": {
    "ExecuteTime": {
     "end_time": "2023-06-20T08:01:34.593883Z",
     "start_time": "2023-06-20T08:01:34.578732Z"
    },
    "code_folding": [
     1,
     11,
     25,
     37
    ]
   },
   "outputs": [],
   "source": [
    "from scipy.optimize import minimize\n",
    "def simplex_corners(dim, L):\n",
    "    \"\"\"gives the corner of a simplex in a dim-dimensional space\n",
    "       witk lenght L.\n",
    "       \n",
    "       dim: dimensions\n",
    "       L: simplex lenght\n",
    "    \"\"\"\n",
    "    e = np.eye(dim) * L\n",
    "    return e\n",
    "\n",
    "def grid(dim, L, repeat):\n",
    "    dim_p_1 = dim + 1\n",
    "    inits = np.zeros((1, dim))\n",
    "    #bounds = [((0, L * 2),) *dim]\n",
    "    for i in range(repeat):\n",
    "        coners = simplex_corners(dim, L * (i+1))\n",
    "        centers = np.ones((1, dim))*(L * (i+1))/dim\n",
    "        inits = np.vstack([inits, coners, centers])\n",
    "        \n",
    "        #bounds.append([((L * i, L * (i+2)),) *dim] * (dim+1))\n",
    "        \n",
    "    return inits#, bounds\n",
    "        \n",
    "    \n",
    "def search_single(dim, L, repeat, func, method='Powell'):\n",
    "    inits = grid(dim, L, repeat)\n",
    "    bounds = ((0, L * 2),) *dim\n",
    "    results = []\n",
    "    for i, x0 in enumerate(inits):  \n",
    "        results.append(minimize(func, x0=x0, method=method, bounds=bounds))\n",
    "        if i % (dim+1) == 0:\n",
    "            bounds = ((0, L * (i+2)),) *dim\n",
    "    \n",
    "    index = np.argmin([r[\"fun\"] for r in results])\n",
    "    return results, results[index], index\n",
    "\n",
    "def minimize_by_search(dim, L, repeat, func, options={'ftol':1e-10}):\n",
    "    results, res, index = search_single(dim, L, repeat, func)\n",
    "    bounds = ((0, np.inf), (0, np.inf), (0, np.inf), (0, np.inf), (0, np.inf))\n",
    "    res2= minimize(func, x0=res.x, method='L-BFGS-B', bounds=bounds, options=options)\n",
    "    if res[\"fun\"] > res2[\"fun\"]:\n",
    "        return res2.x, res, res2, results, index\n",
    "    else:\n",
    "        return res.x, res, res2, results, index"
   ]
  },
  {
   "cell_type": "code",
   "execution_count": 8,
   "id": "1236cb85",
   "metadata": {
    "ExecuteTime": {
     "end_time": "2023-06-20T08:01:36.672176Z",
     "start_time": "2023-06-20T08:01:36.656422Z"
    },
    "code_folding": [
     0,
     11
    ]
   },
   "outputs": [],
   "source": [
    "def Create_f_C(A, B, C, n, mu_C):\n",
    "    def act(x, km, n=4):\n",
    "        return 1 / (1 + (km / (x + 1e-20)) ** (n))\n",
    "\n",
    "    def inh(x, km, n=4):\n",
    "        return 1 / (1 + (x / (km + 1e-20)) ** (n))\n",
    "\n",
    "    def f_c(b_C, V_C, K_AC, K_BC, K_CC):\n",
    "        return b_C + V_C*inh(A, K_AC, n)*inh(B, K_BC, n)*act(C, K_CC, n) - mu_C * C\n",
    "    return f_c\n",
    "\n",
    "def minimisation_sims(index):\n",
    "    print(\"######################################################\")\n",
    "    path = df[\"path\"].iloc[index]\n",
    "    print(index, path)\n",
    "    (params, res, k_max) = load_dataset(path)\n",
    "    \n",
    "    A = to(res[-1, 0, :])\n",
    "    B = to(res[-1, 1, :])\n",
    "    C = to(res[-1, 2, :])\n",
    "    plot_n_im([C, C_prod(A, params[\"K_AC\"], B, params[\"K_BC\"], C, params[\"K_CC\"])], \n",
    "              [\"C\", \"C activation\"],          \n",
    "              figsize=(12, 3)); plt.tight_layout();plt.show()\n",
    "\n",
    "\n",
    "    f_c_func = Create_f_C(A, B, C, 4, params[\"mu_C\"])\n",
    "    f_c_loss = lambda args: np.sum(f_c_func(*args)**2)\n",
    "    print(\"b_C\", \"V_C\", \"K_AC\", \"K_BC\", \"K_CC\")\n",
    "    print(params[\"b_C\"], params[\"V_C\"], params[\"K_AC\"], params[\"K_BC\"], params[\"K_CC\"])\n",
    "    orig_x = (params[\"b_C\"], params[\"V_C\"], params[\"K_AC\"], params[\"K_BC\"], params[\"K_CC\"])\n",
    "    x, search, search2, searchs, index = minimize_by_search(5, 5, 20, f_c_loss)\n",
    "    print(x)\n",
    "    return (x, orig_x, params, search, search2, searchs, index)\n",
    "    "
   ]
  },
  {
   "cell_type": "code",
   "execution_count": 9,
   "id": "350c4936",
   "metadata": {
    "ExecuteTime": {
     "end_time": "2023-06-20T08:02:09.536786Z",
     "start_time": "2023-06-20T08:02:09.530066Z"
    }
   },
   "outputs": [],
   "source": [
    "def to(arr):\n",
    "    return arr.reshape((128, 128))"
   ]
  },
  {
   "cell_type": "code",
   "execution_count": null,
   "id": "469836de",
   "metadata": {},
   "outputs": [],
   "source": []
  },
  {
   "cell_type": "code",
   "execution_count": 10,
   "id": "75f4fcd2",
   "metadata": {
    "ExecuteTime": {
     "end_time": "2023-06-20T08:02:13.344335Z",
     "start_time": "2023-06-20T08:02:13.333974Z"
    },
    "code_folding": [
     0
    ]
   },
   "outputs": [],
   "source": [
    "def get_df_param(index):\n",
    "    (n_val,\n",
    "     b_A_val, mu_A_val, V_A_val, K_AA_val, K_AB_val, K_AC_val,\n",
    "     b_B_val, mu_B_val, V_B_val, K_BA_val, K_BC_val,\n",
    "     b_C_val, mu_C_val, V_C_val, K_CB_val, K_CC_val) = df.iloc[index][\"params\"]\n",
    "    params = {\n",
    "              'D_A':0.01,\n",
    "              'D_B':1.0,\n",
    "              'n':n_val, \n",
    "              'b_A':b_A_val, \n",
    "              'mu_A':mu_A_val, \n",
    "              'V_A':V_A_val,\n",
    "              'K_AA':K_AA_val, \n",
    "              'K_AB':K_AB_val,  \n",
    "              'K_AC':K_AC_val,\n",
    "              'b_B':b_B_val, \n",
    "              'mu_B':mu_B_val, \n",
    "              'V_B':V_B_val,\n",
    "              'K_BA':K_BA_val, \n",
    "              'K_BC':K_BC_val,  \n",
    "              'b_C':b_C_val, \n",
    "              'mu_C':mu_C_val, \n",
    "              'V_C':V_C_val,\n",
    "              'K_CB':K_CB_val, \n",
    "              'K_CC':K_CC_val\n",
    "             }\n",
    "           \n",
    "    return params"
   ]
  },
  {
   "cell_type": "code",
   "execution_count": 101,
   "id": "567d2d0b",
   "metadata": {
    "ExecuteTime": {
     "end_time": "2023-06-20T09:20:31.805120Z",
     "start_time": "2023-06-20T09:20:31.782865Z"
    }
   },
   "outputs": [
    {
     "data": {
      "text/html": [
       "<div>\n",
       "<style scoped>\n",
       "    .dataframe tbody tr th:only-of-type {\n",
       "        vertical-align: middle;\n",
       "    }\n",
       "\n",
       "    .dataframe tbody tr th {\n",
       "        vertical-align: top;\n",
       "    }\n",
       "\n",
       "    .dataframe thead th {\n",
       "        text-align: right;\n",
       "    }\n",
       "</style>\n",
       "<table border=\"1\" class=\"dataframe\">\n",
       "  <thead>\n",
       "    <tr style=\"text-align: right;\">\n",
       "      <th></th>\n",
       "      <th>b_C</th>\n",
       "      <th>V_C</th>\n",
       "      <th>K_AC</th>\n",
       "      <th>K_BC</th>\n",
       "      <th>K_CC</th>\n",
       "      <th>b_C_est</th>\n",
       "      <th>V_C_est</th>\n",
       "      <th>K_AC_est</th>\n",
       "      <th>K_BC_est</th>\n",
       "      <th>K_CC_est</th>\n",
       "    </tr>\n",
       "  </thead>\n",
       "  <tbody>\n",
       "    <tr>\n",
       "      <th>1</th>\n",
       "      <td>20.0</td>\n",
       "      <td>100.0</td>\n",
       "      <td>5.0</td>\n",
       "      <td>5.0</td>\n",
       "      <td>5.0</td>\n",
       "      <td>20.000304</td>\n",
       "      <td>85.238961</td>\n",
       "      <td>4.997341</td>\n",
       "      <td>4.993690</td>\n",
       "      <td>4.794074</td>\n",
       "    </tr>\n",
       "    <tr>\n",
       "      <th>13</th>\n",
       "      <td>20.0</td>\n",
       "      <td>100.0</td>\n",
       "      <td>10.0</td>\n",
       "      <td>10.0</td>\n",
       "      <td>10.0</td>\n",
       "      <td>19.998957</td>\n",
       "      <td>111.330987</td>\n",
       "      <td>10.000937</td>\n",
       "      <td>10.019551</td>\n",
       "      <td>10.289178</td>\n",
       "    </tr>\n",
       "    <tr>\n",
       "      <th>18</th>\n",
       "      <td>20.0</td>\n",
       "      <td>100.0</td>\n",
       "      <td>5.0</td>\n",
       "      <td>5.0</td>\n",
       "      <td>5.0</td>\n",
       "      <td>20.000000</td>\n",
       "      <td>84.259432</td>\n",
       "      <td>4.999741</td>\n",
       "      <td>5.181077</td>\n",
       "      <td>4.962777</td>\n",
       "    </tr>\n",
       "    <tr>\n",
       "      <th>31</th>\n",
       "      <td>10.0</td>\n",
       "      <td>100.0</td>\n",
       "      <td>5.0</td>\n",
       "      <td>5.0</td>\n",
       "      <td>5.0</td>\n",
       "      <td>10.000005</td>\n",
       "      <td>84.468316</td>\n",
       "      <td>4.997544</td>\n",
       "      <td>5.181795</td>\n",
       "      <td>4.962992</td>\n",
       "    </tr>\n",
       "    <tr>\n",
       "      <th>65</th>\n",
       "      <td>20.0</td>\n",
       "      <td>100.0</td>\n",
       "      <td>1.0</td>\n",
       "      <td>1.0</td>\n",
       "      <td>1.0</td>\n",
       "      <td>19.999998</td>\n",
       "      <td>96.165000</td>\n",
       "      <td>1.000042</td>\n",
       "      <td>0.999663</td>\n",
       "      <td>0.989688</td>\n",
       "    </tr>\n",
       "    <tr>\n",
       "      <th>74</th>\n",
       "      <td>1.0</td>\n",
       "      <td>25.0</td>\n",
       "      <td>0.5</td>\n",
       "      <td>1.0</td>\n",
       "      <td>0.5</td>\n",
       "      <td>1.002169</td>\n",
       "      <td>25.541239</td>\n",
       "      <td>0.501689</td>\n",
       "      <td>0.992598</td>\n",
       "      <td>0.507737</td>\n",
       "    </tr>\n",
       "    <tr>\n",
       "      <th>75</th>\n",
       "      <td>20.0</td>\n",
       "      <td>100.0</td>\n",
       "      <td>5.0</td>\n",
       "      <td>5.0</td>\n",
       "      <td>5.0</td>\n",
       "      <td>20.000000</td>\n",
       "      <td>83.788221</td>\n",
       "      <td>4.999834</td>\n",
       "      <td>5.187251</td>\n",
       "      <td>4.961674</td>\n",
       "    </tr>\n",
       "    <tr>\n",
       "      <th>82</th>\n",
       "      <td>1.0</td>\n",
       "      <td>10.0</td>\n",
       "      <td>5.0</td>\n",
       "      <td>5.0</td>\n",
       "      <td>5.0</td>\n",
       "      <td>1.000034</td>\n",
       "      <td>9.846333</td>\n",
       "      <td>4.993357</td>\n",
       "      <td>5.045943</td>\n",
       "      <td>5.016364</td>\n",
       "    </tr>\n",
       "    <tr>\n",
       "      <th>83</th>\n",
       "      <td>1.0</td>\n",
       "      <td>25.0</td>\n",
       "      <td>5.0</td>\n",
       "      <td>10.0</td>\n",
       "      <td>5.0</td>\n",
       "      <td>1.025880</td>\n",
       "      <td>26.663751</td>\n",
       "      <td>5.420625</td>\n",
       "      <td>9.808250</td>\n",
       "      <td>6.105870</td>\n",
       "    </tr>\n",
       "  </tbody>\n",
       "</table>\n",
       "</div>"
      ],
      "text/plain": [
       "     b_C    V_C  K_AC  K_BC  K_CC    b_C_est     V_C_est   K_AC_est  \\\n",
       "1   20.0  100.0   5.0   5.0   5.0  20.000304   85.238961   4.997341   \n",
       "13  20.0  100.0  10.0  10.0  10.0  19.998957  111.330987  10.000937   \n",
       "18  20.0  100.0   5.0   5.0   5.0  20.000000   84.259432   4.999741   \n",
       "31  10.0  100.0   5.0   5.0   5.0  10.000005   84.468316   4.997544   \n",
       "65  20.0  100.0   1.0   1.0   1.0  19.999998   96.165000   1.000042   \n",
       "74   1.0   25.0   0.5   1.0   0.5   1.002169   25.541239   0.501689   \n",
       "75  20.0  100.0   5.0   5.0   5.0  20.000000   83.788221   4.999834   \n",
       "82   1.0   10.0   5.0   5.0   5.0   1.000034    9.846333   4.993357   \n",
       "83   1.0   25.0   5.0  10.0   5.0   1.025880   26.663751   5.420625   \n",
       "\n",
       "     K_BC_est   K_CC_est  \n",
       "1    4.993690   4.794074  \n",
       "13  10.019551  10.289178  \n",
       "18   5.181077   4.962777  \n",
       "31   5.181795   4.962992  \n",
       "65   0.999663   0.989688  \n",
       "74   0.992598   0.507737  \n",
       "75   5.187251   4.961674  \n",
       "82   5.045943   5.016364  \n",
       "83   9.808250   6.105870  "
      ]
     },
     "execution_count": 101,
     "metadata": {},
     "output_type": "execute_result"
    }
   ],
   "source": [
    "df[df[\"bad_estimates\"] == 0][df.columns[-20:-10]]"
   ]
  },
  {
   "cell_type": "code",
   "execution_count": 13,
   "id": "85dff70a",
   "metadata": {
    "ExecuteTime": {
     "end_time": "2023-06-20T08:03:40.827995Z",
     "start_time": "2023-06-20T08:03:40.800133Z"
    },
    "code_folding": [
     42
    ]
   },
   "outputs": [],
   "source": [
    "from scipy.optimize import minimize\n",
    "\n",
    "def rosenbrock(x1, x2, a=1, b=100):\n",
    "    return (a-x1)**2 + b*(x2 - x1**2)**2\n",
    "\n",
    "def alienor_components(epsilon, l1, bounds, ):\n",
    "    \"\"\"\n",
    "    \n",
    "    Args:\n",
    "          epsilon (float): The accuracy of the estimates.\n",
    "          l1 (float): Lipschitz constant\n",
    "          bounds (list of tuples):\n",
    "          bounds like [a_i, b_i], for each variables separatly.\n",
    "          \n",
    "          \n",
    "    \"\"\"\n",
    "    n = len(bounds) \n",
    "    assert n >= 2, \"The method expects two or more vairbales.\"\n",
    "    assert np.all([len(item) == 2 \n",
    "                   for item in bounds]), \"bounds must be tuple of (a_i,b_i)\"\n",
    "    \n",
    "    alpha = epsilon/(2*l1*np.sqrt(n-1))\n",
    "    alphas = np.ones(n)\n",
    "    \n",
    "    def get_h_i(a,b,alpha):\n",
    "        def h_i(t):\n",
    "            return (a-b)*np.cos(alpha*t)/2 + (a+b)/2\n",
    "        return h_i\n",
    "    a,b = bounds[0]\n",
    "    h_i = get_h_i(a,b, 1)\n",
    "    h_list = [h_i]\n",
    "    for i in range(1, n):\n",
    "        # [a_i, b_i]\n",
    "        a,b = bounds[i-1]\n",
    "        # (pi/alpha)^(i-1) (b_i - a_i)\n",
    "        alphas[i] = np.pi*alphas[i-1]*(b-a)/alpha\n",
    "        # h_i = (a_i - b_i)cos(alpha_i theta)/2 +  (a_i + b_i)/2\n",
    "        a,b = bounds[i]\n",
    "        h_i = get_h_i(a,b, alphas[i])\n",
    "        h_list.append(h_i)\n",
    "        \n",
    "        \n",
    "    # l2 or Lipschitz constant of the aliemor h functions\n",
    "    l2 = np.linalg.norm([(d[1]-d[0])**2 * a**2 for d,a in zip(bounds,alphas) ])/2\n",
    "    theta_max = np.pi/alphas[0]\n",
    "    return alpha, alphas, l2, h_list, theta_max\n",
    "\n",
    "def minim(epsilon, l1, bounds, func, maxiter=10,method=\"Nelder-Mead\"):\n",
    "    alpha, alphas, l2, h_list, theta_max = alienor_components(epsilon, l1, bounds)\n",
    "    k = 1\n",
    "    L = l1 * l2\n",
    "    \n",
    "    theta = theta_max/2#np.pi/(2*alphas[0])  \n",
    "    bounds=[(0, theta_max)]\n",
    "    \n",
    "    theta_epsilon = theta\n",
    "    f = lambda t: func(*[ h(t) for h in h_list])\n",
    "    \n",
    "    f_epsilon = f(theta_epsilon)\n",
    "    F_epsilon = f_epsilon - L*theta_max/2\n",
    "    def single_F_k(f_theta, theta):\n",
    "        def F_k(t):\n",
    "            return f_theta - L*np.abs(theta - t)\n",
    "        return F_k\n",
    "    \n",
    "    def get_F_k_func(F_k_list):\n",
    "        def F_k_func(t):\n",
    "            return np.max([f_i(t) for f_i in F_k_list])\n",
    "        return F_k_func\n",
    "    \n",
    "    def get_F_k_func_vec(f_epsilon_arr, theta_arr):\n",
    "        def F_k_func(t):\n",
    "            return np.max(f_epsilon_arr - L*np.abs(theta_arr - t))\n",
    "        return F_k_func\n",
    "            \n",
    "    theta_arr = np.array([theta])\n",
    "    f_epsilon_arr = np.array([f_epsilon]) \n",
    "    F_k_func = get_F_k_func_vec(f_epsilon_arr, theta_arr)\n",
    "    res = minimize(F_k_func, x0=0,hess=lambda x: np.zeros((x.shape[0], x.shape[0])),\n",
    "                   bounds=bounds,  method=method)    \n",
    "    theta = res['x'][0]        \n",
    "    f_theta  =  f(theta)\n",
    "    while k < maxiter:\n",
    "        if f_epsilon - F_epsilon <= epsilon/2:            \n",
    "            return (k, theta_arr, f_epsilon_arr, F_epsilon, F_k_func, \n",
    "                    theta_epsilon, f_epsilon, \"\")\n",
    "        \n",
    "        if f_theta < f_epsilon:\n",
    "            f_epsilon = f_theta\n",
    "            theta_epsilon = theta\n",
    "        \n",
    "        theta_arr = np.concatenate([theta_arr, [theta]])\n",
    "        f_epsilon_arr = np.concatenate([f_epsilon_arr, [f_epsilon]]) \n",
    "        F_k_func = get_F_k_func_vec(f_epsilon_arr, theta_arr)\n",
    "        res = minimize(F_k_func, x0=0,hess=lambda x: np.zeros((x.shape[0], x.shape[0])),\n",
    "                       bounds=bounds,  method=method)\n",
    "        \n",
    "        theta = res['x'][0] \n",
    "        f_theta  =  f(theta)\n",
    "        F_epsilon = res['fun']\n",
    "        k += 1    \n",
    "    return (k, theta_arr, f_epsilon_arr, F_epsilon, F_k_func, \n",
    "                    theta_epsilon, f_epsilon, f\"max iteration '{maxiter}' is reached\")\n",
    "\n",
    "def alienor_components2(epsilon, l1, bounds):\n",
    "    \"\"\"\n",
    "    \n",
    "    Args:\n",
    "          epsilon (float): The accuracy of the estimates.\n",
    "          l1 (float): Lipschitz constant\n",
    "          bounds (list of tuples):\n",
    "          bounds like [a_i, b_i], for each variables separatly.\n",
    "          \n",
    "          \n",
    "    \"\"\"\n",
    "    n = len(bounds) \n",
    "    assert n >= 2, \"The method expects two or more vairbales.\"\n",
    "    assert np.all([len(item) == 2 \n",
    "                   for item in bounds]), \"bounds must be tuple of (a_i,b_i)\"\n",
    "    \n",
    "    alpha = epsilon/(2*l1*np.sqrt(n-1))\n",
    "    alphas = np.ones(n)\n",
    "    \n",
    "    def get_h_i(a,b,alpha):\n",
    "        def h_i(t):\n",
    "            return (a-b)*np.cos(alpha*t)/2 + (a+b)/2\n",
    "        return h_i\n",
    "    a,b = bounds[0]\n",
    "    h_i = get_h_i(a,b,1)\n",
    "    h_list = [h_i]\n",
    "    for i in range(1, n):\n",
    "        # [a_i, b_i]\n",
    "        a,b = bounds[i]\n",
    "        # alphas[i-1] (alpha/pi) / (|b_i| + |a_i|)\n",
    "        alphas[i] = alpha*alphas[i-1]/(np.pi*(np.abs(b)+np.abs(a)))\n",
    "        # h_i = (a_i - b_i)cos(alpha_i theta)/2 +  (a_i + b_i)/2         \n",
    "        h_i = h_i = get_h_i(a,b,alphas[i])#\n",
    "        h_list.append(h_i)        \n",
    "        \n",
    "        \n",
    "    # l2 or Lipschitz constant of the aliemor h functions\n",
    "    l2 = np.linalg.norm([(np.abs(d[1])+np.abs(d[0]))**2 * a**2 for d,a in zip(bounds,alphas) ])/2\n",
    "    #\n",
    "    theta_max = np.pi/alphas[-1]    \n",
    "    return alpha, alphas, l2, h_list, theta_max\n",
    "\n",
    "def minim_2(epsilon, l1, bounds, func, maxiter=10000):\n",
    "    alpha, alphas, l2, h_list, theta_max = alienor_components2(epsilon, l1, bounds)\n",
    "    k = 1\n",
    "    L = l1 * l2\n",
    "    theta = epsilon / L    \n",
    "    theta_epsilon = theta\n",
    "    \n",
    "    f = lambda t: func(*[ h(t) for h in h_list])\n",
    "    f_epsilon = f_theta = f(theta_epsilon)\n",
    "    \n",
    "    while k < maxiter:\n",
    "        if theta > np.pi/alphas[-1]:            \n",
    "            return k, theta,theta_epsilon, f_epsilon, \"\"\n",
    "        \n",
    "        theta = theta + (epsilon + f_theta - f_epsilon)/ L        \n",
    "        f_theta  =  f(theta)\n",
    "        if f_theta < f_epsilon:\n",
    "            f_epsilon = f_theta\n",
    "            theta_epsilon = theta\n",
    "        k += 1    \n",
    "    return k, theta,theta_epsilon, f_epsilon, f\"max iteration '{maxiter}' is reached\""
   ]
  },
  {
   "cell_type": "code",
   "execution_count": null,
   "id": "2d308273",
   "metadata": {
    "ExecuteTime": {
     "end_time": "2023-06-18T23:41:51.810575Z",
     "start_time": "2023-06-18T23:41:51.803546Z"
    }
   },
   "outputs": [],
   "source": []
  },
  {
   "cell_type": "code",
   "execution_count": 103,
   "id": "5c95fd1f",
   "metadata": {
    "ExecuteTime": {
     "end_time": "2023-06-20T09:20:42.297128Z",
     "start_time": "2023-06-20T09:20:42.278574Z"
    }
   },
   "outputs": [
    {
     "data": {
      "text/html": [
       "<div>\n",
       "<style scoped>\n",
       "    .dataframe tbody tr th:only-of-type {\n",
       "        vertical-align: middle;\n",
       "    }\n",
       "\n",
       "    .dataframe tbody tr th {\n",
       "        vertical-align: top;\n",
       "    }\n",
       "\n",
       "    .dataframe thead th {\n",
       "        text-align: right;\n",
       "    }\n",
       "</style>\n",
       "<table border=\"1\" class=\"dataframe\">\n",
       "  <thead>\n",
       "    <tr style=\"text-align: right;\">\n",
       "      <th></th>\n",
       "      <th>b_C</th>\n",
       "      <th>V_C</th>\n",
       "      <th>K_AC</th>\n",
       "      <th>K_BC</th>\n",
       "      <th>K_CC</th>\n",
       "      <th>b_C_est</th>\n",
       "      <th>V_C_est</th>\n",
       "      <th>K_AC_est</th>\n",
       "      <th>K_BC_est</th>\n",
       "      <th>K_CC_est</th>\n",
       "    </tr>\n",
       "  </thead>\n",
       "  <tbody>\n",
       "    <tr>\n",
       "      <th>1</th>\n",
       "      <td>20.0</td>\n",
       "      <td>100.0</td>\n",
       "      <td>5.0</td>\n",
       "      <td>5.0</td>\n",
       "      <td>5.0</td>\n",
       "      <td>20.000304</td>\n",
       "      <td>85.238961</td>\n",
       "      <td>4.997341</td>\n",
       "      <td>4.99369</td>\n",
       "      <td>4.794074</td>\n",
       "    </tr>\n",
       "  </tbody>\n",
       "</table>\n",
       "</div>"
      ],
      "text/plain": [
       "    b_C    V_C  K_AC  K_BC  K_CC    b_C_est    V_C_est  K_AC_est  K_BC_est  \\\n",
       "1  20.0  100.0   5.0   5.0   5.0  20.000304  85.238961  4.997341   4.99369   \n",
       "\n",
       "   K_CC_est  \n",
       "1  4.794074  "
      ]
     },
     "execution_count": 103,
     "metadata": {},
     "output_type": "execute_result"
    }
   ],
   "source": [
    "df[df[\"index\"] == 1][df.columns[-20:-10]]"
   ]
  },
  {
   "cell_type": "code",
   "execution_count": 206,
   "id": "22b78fe5",
   "metadata": {
    "ExecuteTime": {
     "end_time": "2023-06-19T01:00:44.411686Z",
     "start_time": "2023-06-19T01:00:44.275611Z"
    }
   },
   "outputs": [],
   "source": [
    "# b_C V_C K_AC K_BC K_CC\n",
    "# 20.0 100.0 5.0 5.0 5.0"
   ]
  },
  {
   "cell_type": "code",
   "execution_count": null,
   "id": "ac55d209",
   "metadata": {},
   "outputs": [],
   "source": []
  },
  {
   "cell_type": "code",
   "execution_count": 15,
   "id": "774efb74",
   "metadata": {
    "ExecuteTime": {
     "end_time": "2023-06-20T08:04:46.979446Z",
     "start_time": "2023-06-20T08:04:46.906629Z"
    },
    "code_folding": [
     8,
     25
    ]
   },
   "outputs": [
    {
     "name": "stdout",
     "output_type": "stream",
     "text": [
      "1 outputs_second_search/solution_10_0_26.npy 0\n",
      "b_C V_C K_AC K_BC K_CC\n",
      "20.0 100.0 5.0 5.0 5.0\n",
      "original loss: [0.00164736 0.00164736]\n"
     ]
    }
   ],
   "source": [
    "run_index = 1#spots[0]\n",
    "path = df[df[\"index\"] == run_index][\"path\"][run_index]\n",
    "print(run_index, path, df[\"bad_estimates\"].iloc[run_index])\n",
    "(params, res, k_max) = load_dataset(path)\n",
    "A = to(res[-1, 0, :])\n",
    "B = to(res[-1, 1, :])\n",
    "C = to(res[-1, 2, :])\n",
    "\n",
    "def Create_f_C(A, B, C, n, mu_C):\n",
    "    def act(x, km, n=4):\n",
    "        return 1 / (1 + (km / (x + 1e-20)) ** (n))\n",
    "\n",
    "    def inh(x, km, n=4):\n",
    "        return 1 / (1 + (x / (km + 1e-20)) ** (n))\n",
    "    A_flat = A.flatten()[np.newaxis, :]\n",
    "    B_flat = B.flatten()[np.newaxis, :]\n",
    "    C_flat = C.flatten()[np.newaxis, :]\n",
    "    def L_2_f_c(args):\n",
    "        b_C, V_C, K_AC, K_BC, K_CC = args[:, 0:1], args[:, 1:2], args[:, 2:3], args[:, 3:4], args[:, 4:5]\n",
    "        #b_C, V_C, K_AC, K_BC, K_CC = args[0], args[1], args[2], args[3], args[4]\n",
    "        f = b_C + V_C*inh(A_flat, K_AC, n)*inh(B_flat, K_BC, n)*act(C_flat, K_CC, n) - mu_C * C_flat\n",
    "        return np.sum(f**2, axis=1)\n",
    "    return L_2_f_c\n",
    "\n",
    "\n",
    "def Create_f_C_1_D(A, B, C, n, mu_C):\n",
    "    def act(x, km, n=4):\n",
    "        return 1 / (1 + (km / (x + 1e-20)) ** (n))\n",
    "\n",
    "    def inh(x, km, n=4):\n",
    "        return 1 / (1 + (x / (km + 1e-20)) ** (n))\n",
    "    A_flat = A.flatten()\n",
    "    B_flat = B.flatten()\n",
    "    C_flat = C.flatten()\n",
    "    def L_2_f_c(args):        \n",
    "        b_C, V_C, K_AC, K_BC, K_CC = args[0], args[1], args[2], args[3], args[4]\n",
    "        f = b_C + V_C*inh(A_flat, K_AC, n)*inh(B_flat, K_BC, n)*act(C_flat, K_CC, n) - mu_C * C_flat\n",
    "        return np.sum(f**2)\n",
    "    return L_2_f_c\n",
    "\n",
    "\n",
    "f_c_loss = Create_f_C(A, B, C, 4, params[\"mu_C\"])\n",
    "f_c_loss_1_D = Create_f_C_1_D(A, B, C, 4, params[\"mu_C\"])\n",
    "#f_c_loss = lambda b_C, V_C, K_AC, K_BC, K_CC: np.sum(f_c_func(b_C, V_C, K_AC, K_BC, K_CC)**2)\n",
    "#f_c_loss = lambda args: np.sum(f_c_func(args)**2, axis=1)\n",
    "print(\"b_C\", \"V_C\", \"K_AC\", \"K_BC\", \"K_CC\")\n",
    "print(params[\"b_C\"], params[\"V_C\"], params[\"K_AC\"], params[\"K_BC\"], params[\"K_CC\"])\n",
    "orig_x = np.array([[params[\"b_C\"], params[\"V_C\"], params[\"K_AC\"], params[\"K_BC\"], params[\"K_CC\"]]])\n",
    "print(\"original loss:\", \n",
    "      f_c_loss(\n",
    "          np.array([[params[\"b_C\"], params[\"V_C\"], params[\"K_AC\"], params[\"K_BC\"], params[\"K_CC\"]],\n",
    "                    [params[\"b_C\"], params[\"V_C\"], params[\"K_AC\"], params[\"K_BC\"], params[\"K_CC\"]]]))\n",
    "     )"
   ]
  },
  {
   "cell_type": "code",
   "execution_count": 64,
   "id": "bfa620e8",
   "metadata": {
    "ExecuteTime": {
     "end_time": "2023-06-20T08:50:51.306413Z",
     "start_time": "2023-06-20T08:50:51.295524Z"
    }
   },
   "outputs": [
    {
     "name": "stdout",
     "output_type": "stream",
     "text": [
      "delta theta: 2.222222222222222e-06\n",
      "delta theta: 450000.0\n"
     ]
    }
   ],
   "source": [
    "bounds = [(0,30), (0,200), (0,30), (0,30), (0,30)]\n",
    "epsilon = 1e-3\n",
    "l1 = 1\n",
    "alpha, alphas, l2, h_list2, theta_max2 = alienor_components2(epsilon, l1, bounds)\n",
    "L = l1*l2\n",
    "print(\"delta theta:\", epsilon/L)\n",
    "print(\"delta theta:\", L/epsilon)\n"
   ]
  },
  {
   "cell_type": "code",
   "execution_count": 65,
   "id": "7bccc1fa",
   "metadata": {
    "ExecuteTime": {
     "end_time": "2023-06-20T08:50:53.972583Z",
     "start_time": "2023-06-20T08:50:53.962793Z"
    }
   },
   "outputs": [
    {
     "data": {
      "text/plain": [
       "45.0"
      ]
     },
     "execution_count": 65,
     "metadata": {},
     "output_type": "execute_result"
    }
   ],
   "source": [
    "batch_size = 10000\n",
    "L/epsilon/batch_size"
   ]
  },
  {
   "cell_type": "code",
   "execution_count": 128,
   "id": "1a05535f",
   "metadata": {
    "ExecuteTime": {
     "end_time": "2023-06-19T21:51:20.185170Z",
     "start_time": "2023-06-19T21:51:19.946825Z"
    }
   },
   "outputs": [
    {
     "name": "stdout",
     "output_type": "stream",
     "text": [
      "100 4.999999889358889e-05 4.999999889358889e-05 7244566.166093966 max iteration '100' is reached\n"
     ]
    }
   ],
   "source": [
    "# k2,theta2, theta_epsilon2, f_epsilon2, msg =  minim_2(\n",
    "#     epsilon, l1, bounds,\n",
    "#     lambda b_C, V_C, K_AC, K_BC, K_CC: f_c_loss_1_D((b_C, V_C, K_AC, K_BC, K_CC)), \n",
    "#     100)\n",
    "# print(k2,theta2, theta_epsilon2, f_epsilon2, msg)"
   ]
  },
  {
   "cell_type": "code",
   "execution_count": 121,
   "id": "5ed65e97",
   "metadata": {
    "ExecuteTime": {
     "end_time": "2023-06-19T21:48:24.633797Z",
     "start_time": "2023-06-19T21:48:24.621797Z"
    }
   },
   "outputs": [
    {
     "data": {
      "text/plain": [
       "(0.12497395491759278, 1.9753088054130785e-12, 0.0, 0.0, 0.0)"
      ]
     },
     "execution_count": 121,
     "metadata": {},
     "output_type": "execute_result"
    }
   ],
   "source": [
    "# (h_list2[0](theta2), h_list2[1](theta2),\n",
    "#                              h_list2[2](theta2), h_list2[3](theta2),\n",
    "#                              h_list2[4](theta2))"
   ]
  },
  {
   "cell_type": "code",
   "execution_count": null,
   "id": "7983dd37",
   "metadata": {},
   "outputs": [],
   "source": []
  },
  {
   "cell_type": "code",
   "execution_count": 84,
   "id": "890a4697",
   "metadata": {
    "ExecuteTime": {
     "end_time": "2023-06-19T13:43:48.002198Z",
     "start_time": "2023-06-19T13:43:45.019652Z"
    }
   },
   "outputs": [
    {
     "name": "stdout",
     "output_type": "stream",
     "text": [
      "125000\n"
     ]
    }
   ],
   "source": [
    "# thetas = np.linspace(0, theta_max2,  int(L/epsilon))\n",
    "# params_by_theta = np.stack([h_list2[0](thetas), h_list2[1](thetas),\n",
    "#                             h_list2[2](thetas), h_list2[3](thetas),\n",
    "#                             h_list2[4](thetas)]).T\n",
    "# theta_n = params_by_theta.shape[0]\n",
    "# print(theta_n)\n",
    "# batch_size = 10000\n",
    "# f_thetas = np.concatenate(\n",
    "#     [f_c_loss(params_by_theta[i*batch_size:(i+1)*batch_size, :]) for i in range(batch_size//theta_n + 1)])"
   ]
  },
  {
   "cell_type": "code",
   "execution_count": 66,
   "id": "145a7c79",
   "metadata": {
    "ExecuteTime": {
     "end_time": "2023-06-20T08:51:01.164146Z",
     "start_time": "2023-06-20T08:51:00.971149Z"
    }
   },
   "outputs": [],
   "source": [
    "thetas = np.linspace(0, theta_max2,  int(L/epsilon))\n",
    "params_by_theta = np.stack([h_list2[0](thetas), h_list2[1](thetas),\n",
    "                            h_list2[2](thetas), h_list2[3](thetas),\n",
    "                            h_list2[4](thetas)]).T\n",
    "\n",
    "theta_n = params_by_theta.shape[0]\n",
    "theta_m = params_by_theta.shape[1]"
   ]
  },
  {
   "cell_type": "code",
   "execution_count": 67,
   "id": "f26ee426",
   "metadata": {
    "ExecuteTime": {
     "end_time": "2023-06-20T08:51:08.113093Z",
     "start_time": "2023-06-20T08:51:02.289528Z"
    }
   },
   "outputs": [
    {
     "data": {
      "text/plain": [
       "((450000, 5), 18000000)"
      ]
     },
     "execution_count": 67,
     "metadata": {},
     "output_type": "execute_result"
    }
   ],
   "source": [
    "params_by_theta.shape, params_by_theta.nbytes"
   ]
  },
  {
   "cell_type": "code",
   "execution_count": 68,
   "id": "abad4b0e",
   "metadata": {
    "ExecuteTime": {
     "end_time": "2023-06-20T08:51:14.583161Z",
     "start_time": "2023-06-20T08:51:14.532815Z"
    }
   },
   "outputs": [],
   "source": [
    "from multiprocessing import Pool, shared_memory\n",
    "\n",
    "\n",
    "shm = shared_memory.SharedMemory(name=\"params_by_theta\",create=True, size=params_by_theta.nbytes)\n",
    "shared_thetas = np.ndarray((theta_n,theta_m), dtype=np.float64,\n",
    "                            buffer=shm.buf)\n",
    "\n",
    "shared_thetas[:,:] = params_by_theta[:,:]\n",
    "\n",
    "\n",
    "f_thetas = np.zeros(theta_n)\n",
    "shm_out = shared_memory.SharedMemory(name=\"outputs\",create=True, size=f_thetas.nbytes)\n",
    "shared_outputs = np.ndarray((theta_n), dtype=np.float64,\n",
    "                             buffer=shm_out.buf)\n",
    "\n",
    "\n"
   ]
  },
  {
   "cell_type": "code",
   "execution_count": 69,
   "id": "75610509",
   "metadata": {
    "ExecuteTime": {
     "end_time": "2023-06-20T08:52:31.704659Z",
     "start_time": "2023-06-20T08:51:17.053329Z"
    }
   },
   "outputs": [],
   "source": [
    "\n",
    "\n",
    "def sing(batch_id):\n",
    "    params_shm = shared_memory.SharedMemory(name=\"params_by_theta\")\n",
    "    output_shm = shared_memory.SharedMemory(name=\"outputs\")\n",
    "    thetas = np.ndarray((theta_n,theta_m), dtype=np.float64, buffer=params_shm.buf)\n",
    "    f_thetas = np.ndarray((theta_n), dtype=np.float64, buffer=output_shm.buf)\n",
    "    #return params_by_theta[batch_id*batch_size:(batch_id+1)*batch_size, :]\n",
    "    #return f_c_loss(thetas[batch_id*batch_size:(batch_id+1)*batch_size, :])\n",
    "    f_thetas[batch_id*batch_size:(batch_id+1)*batch_size] = f_c_loss(thetas[batch_id*batch_size:(batch_id+1)*batch_size, :])\n",
    "    return batch_id\n",
    "\n",
    "batch_ids = range(int(L/epsilon/batch_size) + 1)\n",
    "with Pool(55) as pool:\n",
    "    res = pool.map(sing, batch_ids)\n",
    "\n",
    "f_thetas[:] = shared_outputs[:]\n",
    "#f_thetas = np.concatenate([f for f in res ]) \n",
    "shm.close()\n",
    "shm.unlink()\n",
    "\n",
    "shm_out.close()\n",
    "shm_out.unlink()"
   ]
  },
  {
   "cell_type": "code",
   "execution_count": 19,
   "id": "d234b5ba",
   "metadata": {
    "ExecuteTime": {
     "end_time": "2023-06-20T08:05:36.647492Z",
     "start_time": "2023-06-20T08:05:36.490024Z"
    }
   },
   "outputs": [],
   "source": [
    "# with open(f\"f_thetas_index_1_l1_1_epsilon_minus_5.npy\", \"wb\") as f:\n",
    "#     np.save(f, f_thetas)\n",
    "\n",
    "# with open(f\"f_thetas_index_1_l1_1_epsilon_minus_5.npy\", \"rb\") as f:\n",
    "#     f_thetas = np.load(f)\n"
   ]
  },
  {
   "cell_type": "code",
   "execution_count": 70,
   "id": "93f38110",
   "metadata": {
    "ExecuteTime": {
     "end_time": "2023-06-20T08:52:36.475721Z",
     "start_time": "2023-06-20T08:52:36.461319Z"
    }
   },
   "outputs": [
    {
     "data": {
      "text/plain": [
       "33543854.034744933"
      ]
     },
     "execution_count": 70,
     "metadata": {},
     "output_type": "execute_result"
    }
   ],
   "source": [
    "f_thetas[10]"
   ]
  },
  {
   "cell_type": "code",
   "execution_count": null,
   "id": "56bee924",
   "metadata": {},
   "outputs": [],
   "source": []
  },
  {
   "cell_type": "code",
   "execution_count": 71,
   "id": "974dae76",
   "metadata": {
    "ExecuteTime": {
     "end_time": "2023-06-20T08:52:41.409928Z",
     "start_time": "2023-06-20T08:52:41.397529Z"
    }
   },
   "outputs": [],
   "source": [
    "def filter_top_n(f_thetas, thetas, h_list2, n, max_dist):\n",
    "    # Select and sort the top 10n f_thetas\n",
    "    top_n_indices = np.argpartition(-f_thetas, -n*n)[-n*n:]\n",
    "    top_n_indices = top_n_indices[np.argsort(f_thetas[top_n_indices])]\n",
    "    # Convert the thetas to parameter in param space\n",
    "    param_points = np.array([(h_list2[0](thetas[i]), h_list2[1](thetas[i]),\n",
    "                              h_list2[2](thetas[i]), h_list2[3](thetas[i]),\n",
    "                              h_list2[4](thetas[i])) for i in top_n_indices])\n",
    "    # Select the corresponding top thetas\n",
    "    theta_points = np.array([thetas[i] for i in top_n_indices])\n",
    "    \n",
    "    \n",
    "    # Store the top parama points and its theta\n",
    "    tops = [param_points[0]]\n",
    "    tops_theta = [theta_points[0]]\n",
    "    top_indices = [top_n_indices[0]]\n",
    "    # Remove the top from the list\n",
    "    param_points = param_points[1:]\n",
    "    theta_points = theta_points[1:]\n",
    "    top_n_indices = top_n_indices[1:]\n",
    "    \n",
    "    for i in range(n-1):\n",
    "        # Find the distance between the last selected param point in\n",
    "        # the top list and all the remaining        \n",
    "        distances =np.linalg.norm(tops[-1] - param_points, axis=1)\n",
    "        #distances = distances[np.argsort(distances)]\n",
    "        # remove points that there distance to the latest one is smaller than the treshold        \n",
    "        param_points = np.array([p for j,p in enumerate(param_points) if  distances[j] > max_dist])\n",
    "        theta_points = np.array([t for j,t in enumerate(theta_points) if  distances[j] > max_dist])\n",
    "        top_n_indices = np.array([ind for j,ind in enumerate(top_n_indices) if  distances[j] > max_dist])\n",
    "        # Make sure there is any point left\n",
    "        if len(theta_points) == 0:\n",
    "            break\n",
    "        # Store the top parama points and its theta\n",
    "        tops.append(param_points[0])\n",
    "        tops_theta.append(theta_points[0]) \n",
    "        top_indices.append(top_n_indices[0])\n",
    "        # Remove the top from the list        \n",
    "        param_points = param_points[1:]\n",
    "        theta_points = theta_points[1:]\n",
    "        top_n_indices = top_n_indices[1:]\n",
    "        \n",
    "    return (tops, tops_theta, top_indices)"
   ]
  },
  {
   "cell_type": "code",
   "execution_count": 72,
   "id": "523f9e99",
   "metadata": {
    "ExecuteTime": {
     "end_time": "2023-06-20T08:52:53.402864Z",
     "start_time": "2023-06-20T08:52:44.425258Z"
    }
   },
   "outputs": [],
   "source": [
    "tops, tops_theta, top_indices = filter_top_n(f_thetas, thetas, h_list2, n=20, max_dist=50)"
   ]
  },
  {
   "cell_type": "code",
   "execution_count": 73,
   "id": "b6c2d6c3",
   "metadata": {
    "ExecuteTime": {
     "end_time": "2023-06-20T08:53:16.509373Z",
     "start_time": "2023-06-20T08:52:56.553092Z"
    }
   },
   "outputs": [
    {
     "name": "stdout",
     "output_type": "stream",
     "text": [
      "18.45911737356546\n",
      "[15.66043919 87.0549918  29.51032802 15.63876056  4.12957106]\n",
      "0.006506598796412541\n",
      "success: True  -  CONVERGENCE: REL_REDUCTION_OF_F_<=_FACTR*EPSMCH\n",
      "[12.897586982663901, 22.91261374528085, 41.356265120710844, 42.89608310658578, 2.441484343994281]\n",
      "========================================\n",
      "27.18974877075491\n",
      "[ 8.02056397 19.41679936 22.20612415 16.96541257  1.74210237]\n",
      "0.0005944837514533861\n",
      "success: True  -  CONVERGENCE: REL_REDUCTION_OF_F_<=_FACTR*EPSMCH\n",
      "[12.558775067684941, 22.331792370630673, 85.56478011909928, 49.80390496350864, 2.378298463644216]\n",
      "========================================\n",
      "77.11045451276563\n",
      "[ 17.5541906  199.99087706  23.74941845   9.92214645   5.6103545 ]\n",
      "0.9605063886056722\n",
      "success: True  -  CONVERGENCE: REL_REDUCTION_OF_F_<=_FACTR*EPSMCH\n",
      "[15.669083584901522, 199.9962057169403, 21.127903929537474, 227.24966621209373, 5.163929502768233]\n",
      "========================================\n",
      "425.14827127949667\n",
      "[ 14.42659787 140.69218554  29.02246677  24.62598211   4.44202918]\n",
      "0.00039041912313229215\n",
      "success: True  -  CONVERGENCE: REL_REDUCTION_OF_F_<=_FACTR*EPSMCH\n",
      "[12.607044226744348, 22.43638163085291, 59.651247139683306, 1121.306791080478, 2.388408900230704]\n",
      "========================================\n"
     ]
    }
   ],
   "source": [
    "for i, init_par, theta_star in zip(top_indices, tops, tops_theta):\n",
    "    print(f_thetas[i])\n",
    "    print(init_par)\n",
    "    bounds = ((0, np.inf), (0, np.inf), (0, np.inf), (0, np.inf), (0, np.inf))\n",
    "    res3= minimize(f_c_loss_1_D, x0=init_par, method='L-BFGS-B', bounds=bounds)#, options={'ftol':1e-10})\n",
    "    print(res3['fun'])\n",
    "    print(\"success:\", res3['success'],\" - \", res3['message'])\n",
    "    print([item for item in res3['x']])\n",
    "    print(\"=\"*40)"
   ]
  },
  {
   "cell_type": "code",
   "execution_count": null,
   "id": "e523fd61",
   "metadata": {},
   "outputs": [],
   "source": []
  },
  {
   "cell_type": "code",
   "execution_count": 74,
   "id": "d912bef8",
   "metadata": {
    "ExecuteTime": {
     "end_time": "2023-06-20T08:53:26.649540Z",
     "start_time": "2023-06-20T08:53:26.629460Z"
    }
   },
   "outputs": [],
   "source": [
    "top_n = np.argpartition(-f_thetas, -20)[-20:]\n",
    "top_n = top_n[np.argsort(f_thetas[top_n])]"
   ]
  },
  {
   "cell_type": "code",
   "execution_count": 75,
   "id": "73336988",
   "metadata": {
    "ExecuteTime": {
     "end_time": "2023-06-20T08:53:30.823762Z",
     "start_time": "2023-06-20T08:53:29.613030Z"
    }
   },
   "outputs": [
    {
     "data": {
      "text/plain": [
       "(array([ 18.45911737,  27.18974877,  34.09058336,  77.11045451,\n",
       "         83.92984043, 101.21295199, 118.24783635, 123.51303291,\n",
       "        167.54176129, 176.77789428, 182.31466486, 190.98690566,\n",
       "        220.75672293, 229.02360527, 234.42349132, 239.08730459,\n",
       "        241.41699739, 249.61381266, 251.22829009, 257.41029103]),\n",
       " array([1.02367837e+23, 6.55443329e+22, 1.07872090e+23, 1.20440215e+23,\n",
       "        1.13300196e+23, 1.21055977e+23, 1.12723918e+23, 1.12734260e+23,\n",
       "        6.33783550e+22, 8.39410433e+21, 1.02357496e+23, 1.10039008e+23,\n",
       "        6.74226418e+22, 8.05303803e+22, 9.92335616e+22, 1.14699997e+23,\n",
       "        2.88815851e+22, 1.26496304e+23, 4.48819945e+22, 1.03636024e+23]))"
      ]
     },
     "execution_count": 75,
     "metadata": {},
     "output_type": "execute_result"
    }
   ],
   "source": [
    "f_thetas[top_n], thetas[top_n]"
   ]
  },
  {
   "cell_type": "code",
   "execution_count": 85,
   "id": "5274e7b0",
   "metadata": {
    "ExecuteTime": {
     "end_time": "2023-06-20T09:07:38.379964Z",
     "start_time": "2023-06-20T09:06:24.054912Z"
    },
    "scrolled": true
   },
   "outputs": [],
   "source": [
    "shift = 0\n",
    "n = 20\n",
    "init_params = np.zeros((n, 5))\n",
    "final_params = np.zeros((n, 5))\n",
    "init_loss = np.zeros(n)\n",
    "final_loss = np.zeros(n)\n",
    "for shift in range(n):\n",
    "\n",
    "    theta_star = thetas[top_n][0 + shift]\n",
    "    init_par = (h_list2[0](theta_star), h_list2[1](theta_star),\n",
    "                h_list2[2](theta_star), h_list2[3](theta_star),\n",
    "                h_list2[4](theta_star))\n",
    "    init_params[shift, :] = init_par\n",
    "    init_loss[shift] = f_thetas[top_n][0 + shift]\n",
    "    #print(f_thetas[top_n][0 + shift])\n",
    "    #print([item for item in init_par])\n",
    "    #bounds = ((0, np.inf), (0, np.inf), (0, np.inf), (0, np.inf), (0, np.inf))\n",
    "    bounds = ((0, 200), (0, 200), (0, 200), (0, 200), (0, 200))\n",
    "    res3= minimize(f_c_loss_1_D, x0=init_par, method='L-BFGS-B', bounds=bounds)#, options={'ftol':1e-10})\n",
    "    #print(res3['fun'])\n",
    "    #print([item for item in res3['x']])\n",
    "    #print(\"=\"*40)\n",
    "    final_params[shift, :] = res3['x']\n",
    "    final_loss[shift] = res3['fun']"
   ]
  },
  {
   "cell_type": "code",
   "execution_count": 89,
   "id": "1de3b3a4",
   "metadata": {
    "ExecuteTime": {
     "end_time": "2023-06-20T09:10:33.286366Z",
     "start_time": "2023-06-20T09:10:33.278757Z"
    }
   },
   "outputs": [],
   "source": [
    "sorted_loss_ind = np.argsort(final_loss)\n",
    "init_params = init_params[sorted_loss_ind.tolist()]\n",
    "init_loss = init_loss[sorted_loss_ind.tolist()]\n",
    "final_params = final_params[sorted_loss_ind.tolist()]\n",
    "final_loss = final_loss[sorted_loss_ind.tolist()]"
   ]
  },
  {
   "cell_type": "code",
   "execution_count": 94,
   "id": "7337d8f0",
   "metadata": {
    "ExecuteTime": {
     "end_time": "2023-06-20T09:13:00.935430Z",
     "start_time": "2023-06-20T09:12:58.194802Z"
    }
   },
   "outputs": [],
   "source": [
    "mutual_dist = np.linalg.norm( final_params[:-1] - final_params[1:], axis=1)"
   ]
  },
  {
   "cell_type": "code",
   "execution_count": 96,
   "id": "b31d2224",
   "metadata": {
    "ExecuteTime": {
     "end_time": "2023-06-20T09:15:17.729857Z",
     "start_time": "2023-06-20T09:15:17.717335Z"
    }
   },
   "outputs": [
    {
     "name": "stdout",
     "output_type": "stream",
     "text": [
      "0 0.00039438600947692016 131.1948107322266 [ 12.60494496  22.43245153  59.71083436 200.           2.3880023 ]\n",
      "1 0.00048413830982808154 25.061623411000216 [12.63366369 22.46806771 54.87183685 68.89446865  2.39273563]\n",
      "2 0.0004852691457786439 30.42975425505579 [12.57711845 22.36253152 72.35559689 50.93928427  2.38170762]\n",
      "3 0.000542792208587098 35.23237324722564 [12.65135706 22.49966607 53.1598712  74.55007703  2.39610547]\n",
      "4 0.0005457427432229676 121.49286955247662 [12.56650779 22.34437445 78.51155644 50.0841702   2.37971744]\n",
      "5 0.0007319955829692072 211.26920045508965 [ 12.53819408  22.3042903  200.          51.12002783   2.37480733]\n",
      "6 0.0008053917013258532 215.01764811864606 [ 12.68450478  22.56238488  50.10223432 200.           2.4025781 ]\n",
      "7 0.001464850913085288 4.35387778386238 [ 20.00022236 100.74793581   4.99869605   5.0000997    5.00999504]\n",
      "8 0.0014794276677454353 208.9939309419037 [20.0002425  96.39444195  4.99836282  4.9985101   4.95219951]\n",
      "9 0.09581533329295056 29.35167584855968 [ 13.6757698   25.44645551  28.95439915 199.99999975   2.63383948]\n",
      "10 0.13864860538169635 30.161546594042075 [ 13.6564395   25.21102805  27.9431048  170.66670407   2.62270396]\n",
      "11 0.2340223342545292 127.92749384312107 [ 14.42154003  32.0333931   26.51404328 200.           2.94578675]\n",
      "12 0.7034395908558773 20.608911727319672 [15.36487961 72.85450678 22.32636907 78.84003913  3.90377161]\n",
      "13 0.7682985876770511 136.94379093772196 [15.44925686 86.78591905 21.99144258 63.65841281  4.10852057]\n",
      "14 0.8439190616569916 79.13393427190128 [ 15.54018708 112.17104153  21.63804075 198.22798302   4.41681414]\n",
      "15 0.9536985034508304 2.085614390803454 [ 15.66145267 191.28067966  21.1703273  200.           5.1032566 ]\n",
      "16 0.9553801807497221 20.44196314011976 [ 15.66338534 193.36620811  21.15858312 200.           5.11798187]\n",
      "17 0.9602870606689939 155.80580262389165 [ 15.66887059 199.6891658   21.12835    180.56057625   5.16183786]\n",
      "18 1.0269842632618384 190.91490215853034 [ 15.71696514 195.26473682  21.27722315  24.81768677   5.14040782]\n"
     ]
    }
   ],
   "source": [
    "for i, (a,b,c,d) in enumerate(zip(final_loss, final_params,init_loss, init_params)):\n",
    "    if i == n-1:\n",
    "        break\n",
    "    print(i, a, mutual_dist[i] , b)"
   ]
  },
  {
   "cell_type": "code",
   "execution_count": null,
   "id": "b757e52d",
   "metadata": {},
   "outputs": [],
   "source": [
    "20.000304\t85.238961\t4.997341\t4.993690\t4.794074"
   ]
  },
  {
   "cell_type": "code",
   "execution_count": 76,
   "id": "b691a317",
   "metadata": {
    "ExecuteTime": {
     "end_time": "2023-06-19T13:40:34.311726Z",
     "start_time": "2023-06-19T13:40:33.691642Z"
    }
   },
   "outputs": [
    {
     "name": "stdout",
     "output_type": "stream",
     "text": [
      "      fun: 3.0197286137964054\n",
      " hess_inv: <5x5 LbfgsInvHessProduct with dtype=float64>\n",
      "      jac: array([ 3.16090558e+00,  1.76204163e-01,  9.23261473e-05,  9.94759836e-05,\n",
      "       -1.01747447e+01])\n",
      "  message: 'CONVERGENCE: REL_REDUCTION_OF_F_<=_FACTR*EPSMCH'\n",
      "     nfev: 198\n",
      "      nit: 15\n",
      "     njev: 33\n",
      "   status: 0\n",
      "  success: True\n",
      "        x: array([0.15568844, 4.00909881, 3.20805827, 1.70596447, 0.06139482])\n",
      "[15.568844153689227, 400.90988105635245, 320.80582661352753, 170.5964468243618, 6.139482385404916]\n"
     ]
    }
   ],
   "source": [
    "bounds = ((0, np.inf), (0, np.inf), (0, np.inf), (0, np.inf), (0, np.inf))\n",
    "res3= minimize(f_c_loss_1_D, x0=init_par, method='L-BFGS-B', bounds=bounds, options={'ftol':1e-10})\n",
    "print(res3)\n",
    "print([item*100 for item in res3['x']])"
   ]
  },
  {
   "cell_type": "code",
   "execution_count": 274,
   "id": "c9f22497",
   "metadata": {
    "ExecuteTime": {
     "end_time": "2023-06-19T10:52:02.249601Z",
     "start_time": "2023-06-19T10:52:02.242226Z"
    }
   },
   "outputs": [
    {
     "data": {
      "text/plain": [
       "(12500000, 5)"
      ]
     },
     "execution_count": 274,
     "metadata": {},
     "output_type": "execute_result"
    }
   ],
   "source": [
    "params_by_theta.shape"
   ]
  },
  {
   "cell_type": "code",
   "execution_count": 127,
   "id": "0cec7ca0",
   "metadata": {
    "ExecuteTime": {
     "end_time": "2023-06-19T15:28:16.580303Z",
     "start_time": "2023-06-19T15:28:16.570790Z"
    }
   },
   "outputs": [
    {
     "name": "stdout",
     "output_type": "stream",
     "text": [
      "delta theta: 3.2162595044610027e-18\n",
      "delta theta: 3.1092018495801856e+17\n"
     ]
    }
   ],
   "source": [
    "bounds = [(0,1), (0,1), (0,1), (0,1), (0,1)]\n",
    "epsilon = 1e-1\n",
    "l1 = 1\n",
    "alpha, alphas, l2, h_list, theta_max = alienor_components(epsilon, l1, bounds)\n",
    "L = l1*l2\n",
    "print(\"delta theta:\", epsilon/L)\n",
    "print(\"delta theta:\", L/epsilon)\n"
   ]
  },
  {
   "cell_type": "code",
   "execution_count": null,
   "id": "8d9a2cda",
   "metadata": {},
   "outputs": [],
   "source": []
  }
 ],
 "metadata": {
  "hide_input": false,
  "kernelspec": {
   "display_name": "tensorflow.2.10",
   "language": "python",
   "name": "tensorflow.2.10"
  },
  "language_info": {
   "codemirror_mode": {
    "name": "ipython",
    "version": 3
   },
   "file_extension": ".py",
   "mimetype": "text/x-python",
   "name": "python",
   "nbconvert_exporter": "python",
   "pygments_lexer": "ipython3",
   "version": "3.9.13"
  },
  "varInspector": {
   "cols": {
    "lenName": 16,
    "lenType": 16,
    "lenVar": 40
   },
   "kernels_config": {
    "python": {
     "delete_cmd_postfix": "",
     "delete_cmd_prefix": "del ",
     "library": "var_list.py",
     "varRefreshCmd": "print(var_dic_list())"
    },
    "r": {
     "delete_cmd_postfix": ") ",
     "delete_cmd_prefix": "rm(",
     "library": "var_list.r",
     "varRefreshCmd": "cat(var_dic_list()) "
    }
   },
   "types_to_exclude": [
    "module",
    "function",
    "builtin_function_or_method",
    "instance",
    "_Feature"
   ],
   "window_display": false
  }
 },
 "nbformat": 4,
 "nbformat_minor": 5
}
