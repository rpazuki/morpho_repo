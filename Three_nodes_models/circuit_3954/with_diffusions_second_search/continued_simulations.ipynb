{
 "cells": [
  {
   "cell_type": "code",
   "execution_count": 1,
   "id": "d7edbbe6",
   "metadata": {
    "ExecuteTime": {
     "end_time": "2023-05-31T11:53:55.500743Z",
     "start_time": "2023-05-31T11:53:54.819803Z"
    }
   },
   "outputs": [],
   "source": [
    "%config Completer.use_jedi = False\n",
    "import sys\n",
    "import warnings\n",
    "warnings.filterwarnings('ignore')\n",
    "\n",
    "import os\n",
    "import numpy as np\n",
    "import matplotlib.pyplot as plt\n",
    "\n",
    "\n",
    "    \n",
    "import pathlib\n",
    "import pickle\n",
    "from pathlib import Path\n",
    "sys.path.append(f\"{Path.home()}/morpho_repo\")\n",
    "sys.path.append(f\"{Path.home()}/morpho_repo/turing_codebase\")\n",
    "from turing.utils import *\n",
    "\n",
    "\n",
    "from pathlib import Path\n",
    "sys.path.append(f\"{Path.home()}/morpho_repo/turing_codebase\")\n",
    "from pde_solvers.cn import *"
   ]
  },
  {
   "cell_type": "code",
   "execution_count": 2,
   "id": "e9863717",
   "metadata": {
    "ExecuteTime": {
     "end_time": "2023-05-31T11:54:17.492578Z",
     "start_time": "2023-05-31T11:54:17.482335Z"
    }
   },
   "outputs": [],
   "source": [
    "from local_utils import *"
   ]
  },
  {
   "cell_type": "code",
   "execution_count": 3,
   "id": "3380dd71",
   "metadata": {
    "ExecuteTime": {
     "end_time": "2023-05-31T11:54:28.983591Z",
     "start_time": "2023-05-31T11:54:28.734789Z"
    }
   },
   "outputs": [],
   "source": [
    "import pandas as pd\n",
    "df = pd.read_csv(\"../df_network_analysis_full_topology.csv\")"
   ]
  },
  {
   "cell_type": "code",
   "execution_count": 5,
   "id": "48a32190",
   "metadata": {
    "ExecuteTime": {
     "end_time": "2023-05-31T11:55:16.188162Z",
     "start_time": "2023-05-31T11:55:16.176375Z"
    }
   },
   "outputs": [],
   "source": [
    "def to(arr):\n",
    "    return arr.reshape(128, 128) \n",
    "\n",
    "def load_dataset(path):\n",
    "    with open(f\"../{path}\", \"rb\") as f:\n",
    "        k_max, params, res = np.load(f, allow_pickle=True)\n",
    "    (n_val, \n",
    "     b_A_val, mu_A_val, V_A_val, K_AA_val, K_AB_val, K_AC_val,\n",
    "     b_B_val, mu_B_val, V_B_val, K_BA_val, K_BC_val,\n",
    "     b_C_val, mu_C_val, V_C_val, K_CB_val, K_CC_val) = params\n",
    "    params = {\n",
    "              'D_A':0.01,\n",
    "              'D_B':1.0,\n",
    "              'n':n_val, \n",
    "              'b_A':b_A_val, \n",
    "              'mu_A':mu_A_val, \n",
    "              'V_A':V_A_val,\n",
    "              'K_AA':K_AA_val, \n",
    "              'K_AB':K_AB_val,  \n",
    "              'K_AC':K_AC_val,\n",
    "              'b_B':b_B_val, \n",
    "              'mu_B':mu_B_val, \n",
    "              'V_B':V_B_val,\n",
    "              'K_BA':K_BA_val, \n",
    "              'K_BC':K_BC_val,  \n",
    "              'b_C':b_C_val, \n",
    "              'mu_C':mu_C_val, \n",
    "              'V_C':V_C_val,\n",
    "              'K_CB':K_CB_val, \n",
    "              'K_CC':K_CC_val\n",
    "             }\n",
    "           \n",
    "    return (params, res, k_max)"
   ]
  },
  {
   "cell_type": "code",
   "execution_count": 6,
   "id": "8b0ce018",
   "metadata": {
    "ExecuteTime": {
     "end_time": "2023-05-31T12:07:38.871490Z",
     "start_time": "2023-05-31T12:07:38.864031Z"
    }
   },
   "outputs": [],
   "source": [
    "high_losses_indices = [2, 8, 31, 32, 36, 49, 57, 59, 61, 66, 67, 70, 71, 76, 89, 92, 94, 100, 102,]"
   ]
  },
  {
   "cell_type": "code",
   "execution_count": null,
   "id": "4906c5ff",
   "metadata": {},
   "outputs": [],
   "source": []
  }
 ],
 "metadata": {
  "hide_input": false,
  "kernelspec": {
   "display_name": "Python 3 (ipykernel)",
   "language": "python",
   "name": "python3"
  },
  "language_info": {
   "codemirror_mode": {
    "name": "ipython",
    "version": 3
   },
   "file_extension": ".py",
   "mimetype": "text/x-python",
   "name": "python",
   "nbconvert_exporter": "python",
   "pygments_lexer": "ipython3",
   "version": "3.9.13"
  },
  "varInspector": {
   "cols": {
    "lenName": 16,
    "lenType": 16,
    "lenVar": 40
   },
   "kernels_config": {
    "python": {
     "delete_cmd_postfix": "",
     "delete_cmd_prefix": "del ",
     "library": "var_list.py",
     "varRefreshCmd": "print(var_dic_list())"
    },
    "r": {
     "delete_cmd_postfix": ") ",
     "delete_cmd_prefix": "rm(",
     "library": "var_list.r",
     "varRefreshCmd": "cat(var_dic_list()) "
    }
   },
   "types_to_exclude": [
    "module",
    "function",
    "builtin_function_or_method",
    "instance",
    "_Feature"
   ],
   "window_display": false
  }
 },
 "nbformat": 4,
 "nbformat_minor": 5
}
