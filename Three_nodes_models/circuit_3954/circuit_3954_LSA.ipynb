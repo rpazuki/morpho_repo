{
 "cells": [
  {
   "cell_type": "markdown",
   "id": "a260765a",
   "metadata": {},
   "source": [
    "## This notebook is for Linear stability analysis of the circuit, and uses the search result from parameter search in the preliminary analysis. In the previous one, $b_i$, $V_i$, $\\mu_i$, $K_{Ai}$, $K_{Bi}$ and $K_{Ci}$ are taken the same. \n",
    "\n",
    "![Circute 3954](3954.png \"Circute 3954\")\n",
    "\n",
    "## Here, we extend the search by starting from these points."
   ]
  },
  {
   "cell_type": "code",
   "execution_count": 1,
   "id": "0ed63023",
   "metadata": {
    "ExecuteTime": {
     "end_time": "2023-03-31T09:10:33.456131Z",
     "start_time": "2023-03-31T09:10:32.233385Z"
    }
   },
   "outputs": [],
   "source": [
    "%config Completer.use_jedi = False\n",
    "from sympy import *\n",
    "import numpy as np\n",
    "import matplotlib.pyplot as plt\n",
    "from IPython.display import display, Latex\n",
    "\n",
    "from tqdm import tqdm\n",
    "\n",
    "import sys\n",
    "sys.path.append(\"/end/home/rh2310/morpho_repo/amplitude_method\")\n",
    "from utils import *"
   ]
  },
  {
   "cell_type": "code",
   "execution_count": 2,
   "id": "d176c928",
   "metadata": {
    "ExecuteTime": {
     "end_time": "2023-03-31T09:10:35.139031Z",
     "start_time": "2023-03-31T09:10:35.124898Z"
    }
   },
   "outputs": [],
   "source": [
    "init_printing(use_latex='mathjax')#(use_latex=True)"
   ]
  },
  {
   "cell_type": "markdown",
   "id": "10eec5cd",
   "metadata": {},
   "source": [
    "#### Define a list of parameters"
   ]
  },
  {
   "cell_type": "code",
   "execution_count": 3,
   "id": "5a44f3e1",
   "metadata": {
    "ExecuteTime": {
     "end_time": "2023-03-31T09:10:36.954673Z",
     "start_time": "2023-03-31T09:10:36.944187Z"
    }
   },
   "outputs": [],
   "source": [
    "A, B, C = symbols('A, B, C', real=True, positive = True)\n",
    "\n",
    "D_A, D_B = symbols('D_A, D_B', real=True, positive = True)\n",
    "\n",
    "(b_A, b_B, b_C,\n",
    " V_A, V_B, V_C,\n",
    "K_AA, K_AB, K_AC, K_BA, K_BC, K_CB, K_CC,\n",
    "μ_A, μ_B, μ_C) = symbols(\n",
    "    'b_A, b_B, b_C, V_A, V_B, V_C, K_AA, K_AB, K_AC, K_BA, K_BC, K_CB, K_CC, mu_A, mu_B, mu_C', \n",
    "    real=True, positive = True)\n",
    "\n",
    "k, n = symbols('k, n', integer=True)"
   ]
  },
  {
   "cell_type": "markdown",
   "id": "3538e76e",
   "metadata": {},
   "source": [
    "> The PDEs are as follows\n",
    "\n",
    "<h3><center>$\n",
    "     \\frac{\\partial A}{\\partial t} = b_A  +   V_A  \\frac{1}{1+\\left(\\frac{K_{AA}}{A }\\right)^{n}} \\frac{1}{1+\\left(\\frac{B}{K_{BA} }\\right)^{n}} -  \\mu_A A + D_A \\nabla^2 A,\n",
    "$</center></h3>\n",
    "\n",
    "<h3><center>$     \\frac{\\partial B}{\\partial t} = b_B  +   V_B  \\frac{1}{1+\\left(\\frac{K_{AB}}{A }\\right)^{n}} \\frac{1}{1+\\left(\\frac{C}{K_{CB} }\\right)^{n}} -  \\mu_B B + D_B \\nabla^2 B,\n",
    "$</center></h3>\n",
    "\n",
    "<h3><center>$\n",
    "\\frac{\\partial C}{\\partial t} = b_C  +   V_C  \\frac{1}{1+\\left(\\frac{A}{K_{AC} }\\right)^{n}} \\frac{1}{1+\\left(\\frac{B}{K_{BC} }\\right)^{n}} \\frac{1}{1+\\left(\\frac{K_{CC}}{C }\\right)^{n}} -  \\mu_C C,\n",
    "$</center></h3>\n",
    "\n",
    "![Circute 3954](3954.png \"Circute 3954\")\n",
    "\n",
    "Then, we define kinetic terms as\n",
    "\n",
    "<h3><center>$f_A(A, B, C) = b_A  +   V_A  \\frac{1}{1+\\left(\\frac{K_{AA}}{A }\\right)^{n}} \\frac{1}{1+\\left(\\frac{B}{K_{BA} }\\right)^{n}} -  \\mu_A A$</center></h3>\n",
    "<h3><center>$f_B(A, B, C) = b_B  +   V_B  \\frac{1}{1+\\left(\\frac{K_{AB}}{A }\\right)^{n}} \\frac{1}{1+\\left(\\frac{C}{K_{CB} }\\right)^{n}} -  \\mu_B B$</center></h3>\n",
    "<h3><center>$f_C(A, B, C) = b_C  +   V_C  \\frac{1}{1+\\left(\\frac{A}{K_{AC} }\\right)^{n}} \\frac{1}{1+\\left(\\frac{B}{K_{BC} }\\right)^{n}} \\frac{1}{1+\\left(\\frac{K_{CC}}{C }\\right)^{n}} -  \\mu_C C$</center></h3>\n"
   ]
  },
  {
   "cell_type": "code",
   "execution_count": 4,
   "id": "8638439a",
   "metadata": {
    "ExecuteTime": {
     "end_time": "2023-03-31T09:10:40.588867Z",
     "start_time": "2023-03-31T09:10:40.364284Z"
    }
   },
   "outputs": [
    {
     "data": {
      "text/latex": [
       "$f_A(A, B, C) =$ $- A \\mu_{A} + \\frac{V_{A}}{\\left(\\left(\\frac{K_{AA}}{A}\\right)^{n} + 1\\right) \\left(\\left(\\frac{B}{K_{BA}}\\right)^{n} + 1\\right)} + b_{A}$"
      ],
      "text/plain": [
       "<IPython.core.display.Latex object>"
      ]
     },
     "metadata": {},
     "output_type": "display_data"
    },
    {
     "data": {
      "text/latex": [
       "$f_B(A, B, C) =$ $- B \\mu_{B} + \\frac{V_{B}}{\\left(\\left(\\frac{K_{AB}}{A}\\right)^{n} + 1\\right) \\left(\\left(\\frac{C}{K_{CB}}\\right)^{n} + 1\\right)} + b_{B}$"
      ],
      "text/plain": [
       "<IPython.core.display.Latex object>"
      ]
     },
     "metadata": {},
     "output_type": "display_data"
    },
    {
     "data": {
      "text/latex": [
       "$f_C(A, B, C) =$ $- C \\mu_{C} + \\frac{V_{C}}{\\left(\\left(\\frac{A}{K_{AC}}\\right)^{n} + 1\\right) \\left(\\left(\\frac{B}{K_{BC}}\\right)^{n} + 1\\right) \\left(\\left(\\frac{K_{CC}}{C}\\right)^{n} + 1\\right)} + b_{C}$"
      ],
      "text/plain": [
       "<IPython.core.display.Latex object>"
      ]
     },
     "metadata": {},
     "output_type": "display_data"
    }
   ],
   "source": [
    "def act(x, K, n):\n",
    "    return 1/(1 + (K/x)**n)\n",
    "\n",
    "def inh(x, K, n):\n",
    "    return 1/(1 + (x/K)**n)\n",
    "\n",
    "\n",
    "fA = b_A + V_A*act(A, K_AA, n)*inh(B, K_BA, n) - μ_A * A\n",
    "fB = b_B + V_B*act(A, K_AB, n)*inh(C, K_CB, n) - μ_B * B\n",
    "fC = b_C + V_C*inh(A, K_AC, n)*inh(B, K_BC, n)*act(C, K_CC, n) - μ_C * C\n",
    "\n",
    "lprint(r\"$f_A(A, B, C) =$ {0}\", fA)\n",
    "lprint(r\"$f_B(A, B, C) =$ {0}\", fB)\n",
    "lprint(r\"$f_C(A, B, C) =$ {0}\", fC)"
   ]
  },
  {
   "cell_type": "markdown",
   "id": "ab7035ae",
   "metadata": {},
   "source": [
    "#### which as a vector, we can define it like"
   ]
  },
  {
   "cell_type": "code",
   "execution_count": 6,
   "id": "e94865d8",
   "metadata": {
    "ExecuteTime": {
     "end_time": "2023-03-31T09:12:31.655228Z",
     "start_time": "2023-03-31T09:12:31.638716Z"
    }
   },
   "outputs": [
    {
     "data": {
      "text/latex": [
       "$\\boldsymbol{f}(A, B, C) =$ $\\left[\\begin{matrix}- A \\mu_{A} + \\frac{V_{A}}{\\left(\\left(\\frac{K_{AA}}{A}\\right)^{n} + 1\\right) \\left(\\left(\\frac{B}{K_{BA}}\\right)^{n} + 1\\right)} + b_{A}\\\\- B \\mu_{B} + \\frac{V_{B}}{\\left(\\left(\\frac{K_{AB}}{A}\\right)^{n} + 1\\right) \\left(\\left(\\frac{C}{K_{CB}}\\right)^{n} + 1\\right)} + b_{B}\\\\- C \\mu_{C} + \\frac{V_{C}}{\\left(\\left(\\frac{A}{K_{AC}}\\right)^{n} + 1\\right) \\left(\\left(\\frac{B}{K_{BC}}\\right)^{n} + 1\\right) \\left(\\left(\\frac{K_{CC}}{C}\\right)^{n} + 1\\right)} + b_{C}\\end{matrix}\\right]$ "
      ],
      "text/plain": [
       "<IPython.core.display.Latex object>"
      ]
     },
     "metadata": {},
     "output_type": "display_data"
    }
   ],
   "source": [
    "Kinetic = Matrix([[fA], [fB], [fC]])\n",
    "lprint(r\"$\\boldsymbol{f}(A, B, C) =$ {0} \", Kinetic)"
   ]
  },
  {
   "cell_type": "markdown",
   "id": "17d55aef",
   "metadata": {},
   "source": [
    "# Load the parameters that we found for the following assumptions:\n",
    "> <center>$     b_A = b_B = b_C, $</center>\n",
    "> <center>$     V_A = V_B = V_C, $</center>\n",
    "> <center>$     \\mu_A = \\mu_B = \\mu_C, $</center>\n",
    "> <center>$     K_{AA} = K_{AB} = K_{AC}, $</center>\n",
    "> <center>$     K_{BA} = K_{BC}, $</center>\n",
    "> <center>$     K_{CB} = K_{CC}. $</center>"
   ]
  },
  {
   "cell_type": "code",
   "execution_count": 63,
   "id": "1751ece9",
   "metadata": {
    "ExecuteTime": {
     "end_time": "2023-03-31T09:46:29.231679Z",
     "start_time": "2023-03-31T09:46:29.223871Z"
    }
   },
   "outputs": [],
   "source": [
    "with open('turing_parameters_same_b_v_mu.npy', 'rb') as f:\n",
    "    turing_parameters_pre = np.load(f)"
   ]
  },
  {
   "cell_type": "markdown",
   "id": "08422b58",
   "metadata": {},
   "source": [
    "# Case 1\n",
    "\n",
    "> create a combination of parameters $(\\theta_A, \\theta_B, \\theta_C)$, such that each $\\theta_i$ is selected from the load dataset."
   ]
  },
  {
   "cell_type": "code",
   "execution_count": 101,
   "id": "d801db91",
   "metadata": {
    "ExecuteTime": {
     "end_time": "2023-03-31T10:01:12.473680Z",
     "start_time": "2023-03-31T10:00:12.182249Z"
    }
   },
   "outputs": [],
   "source": [
    "from itertools import combinations\n",
    "params = []\n",
    "for theta_A, theta_B, theta_C in combinations(turing_parameters_pre, 3):\n",
    "    (n_val, b_A_val, mu_A_val, V_A_val, K_AA_val,_, _) = theta_A\n",
    "    n_val = int(n_val)\n",
    "    (_, b_B_val, mu_B_val, V_B_val, K_AB_val, K_BA_val, K_CB_val) = theta_B\n",
    "    (_, b_C_val, mu_C_val, V_C_val, K_AC_val,K_BC_val, K_CC_val) = theta_C\n",
    "    params.append(\n",
    "        (n_val, \n",
    "         b_A_val, mu_A_val, V_A_val, K_AA_val, K_AB_val, K_AC_val,\n",
    "         b_B_val, mu_B_val, V_B_val, K_BA_val, K_BC_val,\n",
    "         b_C_val, mu_C_val, V_C_val, K_CB_val, K_CC_val))\n",
    "    \n",
    "    "
   ]
  },
  {
   "cell_type": "code",
   "execution_count": 102,
   "id": "f7a05e82",
   "metadata": {
    "ExecuteTime": {
     "end_time": "2023-03-31T10:02:33.065916Z",
     "start_time": "2023-03-31T10:02:33.055733Z"
    }
   },
   "outputs": [
    {
     "data": {
      "text/latex": [
       "$\\displaystyle 19131795$"
      ],
      "text/plain": [
       "19131795"
      ]
     },
     "execution_count": 102,
     "metadata": {},
     "output_type": "execute_result"
    }
   ],
   "source": [
    "len(params)"
   ]
  },
  {
   "cell_type": "markdown",
   "id": "14b178f0",
   "metadata": {},
   "source": [
    "#### First, we find the fix points of the system without diffusion. \n",
    "\n",
    "\n",
    "The solution of the above system finds $A^*, B^*, C^*$ such that\n",
    "<center>$f_A(A^*, B^*, C^*) = 0$</center>\n",
    "<center>$f_B(A^*, B^*, C^*) = 0$</center>\n",
    "<center>$f_C(A^*, B^*, C^*) = 0$</center>"
   ]
  },
  {
   "cell_type": "code",
   "execution_count": 103,
   "id": "280a9405",
   "metadata": {
    "ExecuteTime": {
     "end_time": "2023-03-31T10:02:41.220658Z",
     "start_time": "2023-03-31T10:02:41.192005Z"
    }
   },
   "outputs": [],
   "source": [
    "f1 = lambdify([n, b_A, μ_A, V_A, K_AA, K_AB, K_AC,\n",
    "               b_B, μ_B, V_B, K_BA, K_BC,\n",
    "               b_C, μ_C, V_C, K_CB, K_CC,\n",
    "               A,B,C], \n",
    "               fA,\n",
    "              modules='numpy')\n",
    "\n",
    "f2 = lambdify([n, b_A, μ_A, V_A, K_AA, K_AB, K_AC,\n",
    "               b_B, μ_B, V_B, K_BA, K_BC,\n",
    "               b_C, μ_C, V_C, K_CB, K_CC,\n",
    "               A,B,C], \n",
    "              fB,\n",
    "              modules='numpy')\n",
    "\n",
    "f3 = lambdify([n, b_A, μ_A, V_A, K_AA, K_AB, K_AC,\n",
    "               b_B, μ_B, V_B, K_BA, K_BC,\n",
    "               b_C, μ_C, V_C, K_CB, K_CC,\n",
    "               A,B,C], \n",
    "               fC,\n",
    "              modules='numpy')\n",
    "\n",
    "def create_func(n, b_A, μ_A, V_A, K_AA, K_AB, K_AC,\n",
    "               b_B, μ_B, V_B, K_BA, K_BC,\n",
    "               b_C, μ_C, V_C, K_CB, K_CC):\n",
    "    def f_1(args):\n",
    "        A,B,C = args\n",
    "        return (f1(n, b_A, μ_A, V_A, K_AA, K_AB, K_AC,\n",
    "                   b_B, μ_B, V_B, K_BA, K_BC,\n",
    "                   b_C, μ_C, V_C, K_CB, K_CC, A,B,C),\n",
    "                f2(n, b_A, μ_A, V_A, K_AA, K_AB, K_AC,\n",
    "                   b_B, μ_B, V_B, K_BA, K_BC,\n",
    "                   b_C, μ_C, V_C, K_CB, K_CC, A,B,C),\n",
    "                f3(n, b_A, μ_A, V_A, K_AA, K_AB, K_AC,\n",
    "                   b_B, μ_B, V_B, K_BA, K_BC,\n",
    "                   b_C, μ_C, V_C, K_CB, K_CC, A,B,C)) \n",
    "    \n",
    "    return f_1"
   ]
  },
  {
   "cell_type": "markdown",
   "id": "9ca66f19",
   "metadata": {},
   "source": [
    "#### Next, to linearise the PDE system, we find the Jacobian of $(f_A, f_B, f_C)$ "
   ]
  },
  {
   "cell_type": "code",
   "execution_count": 104,
   "id": "0ddaf3f3",
   "metadata": {
    "ExecuteTime": {
     "end_time": "2023-03-31T10:02:43.461517Z",
     "start_time": "2023-03-31T10:02:43.423945Z"
    }
   },
   "outputs": [
    {
     "data": {
      "text/latex": [
       "$J= \\frac{\\partial \\boldsymbol{f}_i}{\\partial u_j} = \\left[\\begin{matrix}- \\mu_{A} + \\frac{V_{A} n \\left(\\frac{K_{AA}}{A}\\right)^{n}}{A \\left(\\left(\\frac{K_{AA}}{A}\\right)^{n} + 1\\right)^{2} \\left(\\left(\\frac{B}{K_{BA}}\\right)^{n} + 1\\right)} & - \\frac{V_{A} n \\left(\\frac{B}{K_{BA}}\\right)^{n}}{B \\left(\\left(\\frac{K_{AA}}{A}\\right)^{n} + 1\\right) \\left(\\left(\\frac{B}{K_{BA}}\\right)^{n} + 1\\right)^{2}} & 0\\\\\\frac{V_{B} n \\left(\\frac{K_{AB}}{A}\\right)^{n}}{A \\left(\\left(\\frac{K_{AB}}{A}\\right)^{n} + 1\\right)^{2} \\left(\\left(\\frac{C}{K_{CB}}\\right)^{n} + 1\\right)} & - \\mu_{B} & - \\frac{V_{B} n \\left(\\frac{C}{K_{CB}}\\right)^{n}}{C \\left(\\left(\\frac{K_{AB}}{A}\\right)^{n} + 1\\right) \\left(\\left(\\frac{C}{K_{CB}}\\right)^{n} + 1\\right)^{2}}\\\\- \\frac{V_{C} n \\left(\\frac{A}{K_{AC}}\\right)^{n}}{A \\left(\\left(\\frac{A}{K_{AC}}\\right)^{n} + 1\\right)^{2} \\left(\\left(\\frac{B}{K_{BC}}\\right)^{n} + 1\\right) \\left(\\left(\\frac{K_{CC}}{C}\\right)^{n} + 1\\right)} & - \\frac{V_{C} n \\left(\\frac{B}{K_{BC}}\\right)^{n}}{B \\left(\\left(\\frac{A}{K_{AC}}\\right)^{n} + 1\\right) \\left(\\left(\\frac{B}{K_{BC}}\\right)^{n} + 1\\right)^{2} \\left(\\left(\\frac{K_{CC}}{C}\\right)^{n} + 1\\right)} & - \\mu_{C} + \\frac{V_{C} n \\left(\\frac{K_{CC}}{C}\\right)^{n}}{C \\left(\\left(\\frac{A}{K_{AC}}\\right)^{n} + 1\\right) \\left(\\left(\\frac{B}{K_{BC}}\\right)^{n} + 1\\right) \\left(\\left(\\frac{K_{CC}}{C}\\right)^{n} + 1\\right)^{2}}\\end{matrix}\\right]$"
      ],
      "text/plain": [
       "<IPython.core.display.Latex object>"
      ]
     },
     "metadata": {},
     "output_type": "display_data"
    }
   ],
   "source": [
    "J_jac = Kinetic.jacobian([A, B, C])\n",
    "hprint(r\"J= \\frac{\\partial \\boldsymbol{f}_i}{\\partial u_j} = \", J_jac)\n",
    "J_jac_func = lambdify([n, b_A, μ_A, V_A, K_AA, K_AB, K_AC,\n",
    "                       b_B, μ_B, V_B, K_BA, K_BC,\n",
    "                       b_C, μ_C, V_C, K_CB, K_CC, A,B,C], \n",
    "                       J_jac,\n",
    "              modules='numpy')"
   ]
  },
  {
   "cell_type": "code",
   "execution_count": 106,
   "id": "ee9de0ea",
   "metadata": {
    "ExecuteTime": {
     "end_time": "2023-03-31T12:28:02.420455Z",
     "start_time": "2023-03-31T10:05:37.025453Z"
    }
   },
   "outputs": [
    {
     "name": "stderr",
     "output_type": "stream",
     "text": [
      "100%|██████████| 19131795/19131795 [2:22:25<00:00, 2238.89it/s]  \n"
     ]
    }
   ],
   "source": [
    "from scipy.optimize import fsolve\n",
    "from scipy.linalg import eigvals\n",
    "from itertools import product  \n",
    "\n",
    "count_unstable = 0\n",
    "count_unstable_g = 0\n",
    "count_unstable_inf_k = 0\n",
    "count_unstable_inf_k_g = 0\n",
    "count_supper_stable = 0\n",
    "failed_roots = 0\n",
    "\n",
    "valid_roots = []\n",
    "valid_parameters = []\n",
    "valid_jacobians = []\n",
    "valid_eigenvals = []\n",
    "\n",
    "invalid_roots = []\n",
    "invalid_parameters = []\n",
    "\n",
    "for i  in tqdm(range(len(params))):\n",
    "    (n_val, \n",
    "     b_A_val, mu_A_val, V_A_val, K_AA_val, K_AB_val, K_AC_val,\n",
    "     b_B_val, mu_B_val, V_B_val, K_BA_val, K_BC_val,\n",
    "     b_C_val, mu_C_val, V_C_val, K_CB_val, K_CC_val) = params[i]\n",
    "    \n",
    "    func = create_func(n_val, \n",
    "                       b_A_val, mu_A_val, V_A_val, K_AA_val, K_AB_val, K_AC_val,\n",
    "                       b_B_val, mu_B_val, V_B_val, K_BA_val, K_BC_val,\n",
    "                       b_C_val, mu_C_val, V_C_val, K_CB_val, K_CC_val)\n",
    "    #\n",
    "    roots, d, ier, msg = fsolve(func, [10, 10, 10], xtol=1e-10, maxfev=100000,  full_output=1)\n",
    "    # check the solution is valid\n",
    "    (a_1, b_1, c_1) = func(roots)\n",
    "    if ier != 1 or a_1 > 1e-8 or b_1 > 1e-8 or c_1 > 1e-8 :\n",
    "        roots, d, ier, msg = fsolve(func, [-1, -1, -1], xtol=1e-10, maxfev=100000,  full_output=1)\n",
    "        # check the solution is valid\n",
    "        (a_1, b_1, c_1) = func(roots)\n",
    "        if ier != 1 or a_1 > 1e-8 or b_1 > 1e-8 or c_1 > 1e-8 :\n",
    "            failed_roots += 1\n",
    "            invalid_roots.append(roots)\n",
    "            invalid_parameters.append(\n",
    "                (n_val, \n",
    "                 b_A_val, mu_A_val, V_A_val, K_AA_val, K_AB_val, K_AC_val,\n",
    "                 b_B_val, mu_B_val, V_B_val, K_BA_val, K_BC_val,\n",
    "                 b_C_val, mu_C_val, V_C_val, K_CB_val, K_CC_val))\n",
    "            continue\n",
    "\n",
    "    J_test = J_jac_func(n_val, \n",
    "                        b_A_val, mu_A_val, V_A_val, K_AA_val, K_AB_val, K_AC_val,\n",
    "                        b_B_val, mu_B_val, V_B_val, K_BA_val, K_BC_val,\n",
    "                        b_C_val, mu_C_val, V_C_val, K_CB_val, K_CC_val,\n",
    "                        A = roots[0], B = roots[1], C = roots[2])\n",
    "    \n",
    "    s1 = np.abs(J_test[0, 1]) + np.abs(J_test[0, 2])\n",
    "    s2 = np.abs(J_test[1, 0]) + np.abs(J_test[1, 2])\n",
    "    s3 = np.abs(J_test[2, 0]) + np.abs(J_test[2, 1])\n",
    "    \n",
    "    r1 = J_test[0, 0] + s1\n",
    "    r2 = J_test[1, 1] + s2\n",
    "    r3 = J_test[2, 2] + s3       \n",
    "    l1 = J_test[0, 0] - s1\n",
    "    l2 = J_test[1, 1] - s2\n",
    "    l3 = J_test[2, 2] - s3       \n",
    "    \n",
    "    if l1 > 0 and l2 > 0 and l3 >0 :\n",
    "        count_unstable_g += 1\n",
    "        continue\n",
    "        \n",
    "    if r1 < 0 and r2 <0 and r3<0:\n",
    "        count_supper_stable += 1\n",
    "        continue\n",
    "        \n",
    "    # Check the third nodes left lower bound, if it is positive, after\n",
    "    # k_max, the one eigenvalues remain positive for all k > k_max    \n",
    "    if l3 > 0:\n",
    "        count_unstable_inf_k_g += 1\n",
    "        continue\n",
    "    \n",
    "\n",
    "    eigen_vals = eigvals(J_test)\n",
    "    \n",
    "    if np.any(np.real(eigen_vals > 0)):\n",
    "        count_unstable += 1\n",
    "        continue\n",
    "        \n",
    "    # Find k_max and check to see if the eigenvalues remain positive\n",
    "    # after pasing the k_max\n",
    "    k2_1_D_A = s1+J_test[0,0]# if J_test[0,0] <= 0 else s1+J_test[0,0]\n",
    "    k2_2_D_B = s2+J_test[1,1]# if J_test[1,1] <= 0 else s2+J_test[1,1]\n",
    "    # Include the third disk\n",
    "    third_disk = min(J_test[2, 2] - s3, 0)\n",
    "    #\n",
    "    k2_1_D_A = k2_1_D_A - third_disk\n",
    "    k2_2_D_B = k2_2_D_B - third_disk\n",
    "    \n",
    "    k2_1 = k2_1_D_A/D_A_val\n",
    "    k2_2 = k2_2_D_B/D_B_val\n",
    "\n",
    "    k_2_max = max(k2_1, k2_2)\n",
    "    \n",
    "    J_test2 = J_test.copy()\n",
    "    J_test2[0,0] -= (k_2_max+10)*D_A_val\n",
    "    J_test2[1,1] -= (k_2_max+10)*D_B_val\n",
    "    \n",
    "    eigen_vals2 = eigvals(J_test2)\n",
    "    \n",
    "    if np.any(np.real(eigen_vals2 > 0)):\n",
    "        count_unstable_inf_k += 1\n",
    "        continue\n",
    "    if J_test2[2,2] > 0:\n",
    "        count_unstable_inf_k += 1\n",
    "        continue\n",
    "        \n",
    "        \n",
    "        \n",
    "    \n",
    "    \n",
    "    valid_roots.append(roots)\n",
    "    valid_parameters.append((n_val, \n",
    "                             b_A_val, mu_A_val, V_A_val, K_AA_val, K_AB_val, K_AC_val,\n",
    "                             b_B_val, mu_B_val, V_B_val, K_BA_val, K_BC_val,\n",
    "                             b_C_val, mu_C_val, V_C_val, K_CB_val, K_CC_val))\n",
    "    valid_jacobians.append(J_test)\n",
    "    valid_eigenvals.append(eigen_vals)    \n",
    "            \n"
   ]
  },
  {
   "cell_type": "code",
   "execution_count": 107,
   "id": "30df48c4",
   "metadata": {
    "ExecuteTime": {
     "end_time": "2023-03-31T12:59:13.887184Z",
     "start_time": "2023-03-31T12:59:13.877066Z"
    }
   },
   "outputs": [
    {
     "data": {
      "text/latex": [
       "$\\displaystyle 2422910$"
      ],
      "text/plain": [
       "2422910"
      ]
     },
     "execution_count": 107,
     "metadata": {},
     "output_type": "execute_result"
    }
   ],
   "source": [
    "failed_roots"
   ]
  },
  {
   "cell_type": "code",
   "execution_count": 108,
   "id": "30c701e6",
   "metadata": {
    "ExecuteTime": {
     "end_time": "2023-03-31T12:59:20.452792Z",
     "start_time": "2023-03-31T12:59:20.442049Z"
    }
   },
   "outputs": [
    {
     "name": "stdout",
     "output_type": "stream",
     "text": [
      "Of total 19131795 parameters :\n",
      "Original: 887979  4.64%\n",
      "Unstable Gershgoring: 0  0.00%\n",
      "Supper stable Gershgoring: 5490055  28.70%\n",
      "--\n",
      "Original leftovers: 18243816\n",
      "Unstable G leftovers: 19131795\n",
      "Supper stable leftovers: 13641740\n",
      "Total leftovers: 10330851\n"
     ]
    }
   ],
   "source": [
    "total = len(params)\n",
    "print(f\"Of total {total} parameters :\")\n",
    "print(\"Original:\",count_unstable, f\" {100*count_unstable/total:.2f}%\")\n",
    "print(\"Unstable Gershgoring:\",count_unstable_g, f\" {100*count_unstable_g/total:.2f}%\")\n",
    "print(\"Supper stable Gershgoring:\",count_supper_stable, f\" {100*count_supper_stable/total:.2f}%\")\n",
    "print(\"--\")\n",
    "print(\"Original leftovers:\",total-count_unstable)\n",
    "print(\"Unstable G leftovers:\",total-count_unstable_g)\n",
    "print(\"Supper stable leftovers:\",total-count_supper_stable)\n",
    "print(\"Total leftovers:\",len(valid_parameters))"
   ]
  },
  {
   "cell_type": "code",
   "execution_count": 109,
   "id": "bf28749e",
   "metadata": {
    "ExecuteTime": {
     "end_time": "2023-03-31T12:59:31.491548Z",
     "start_time": "2023-03-31T12:59:31.482427Z"
    }
   },
   "outputs": [
    {
     "data": {
      "text/plain": [
       "array([5.18443660e-01, 2.68180009e+01, 1.00000000e-02])"
      ]
     },
     "execution_count": 109,
     "metadata": {},
     "output_type": "execute_result"
    }
   ],
   "source": [
    "valid_roots[0]"
   ]
  },
  {
   "cell_type": "markdown",
   "id": "e19ae291",
   "metadata": {},
   "source": [
    "## Including the diffusion"
   ]
  },
  {
   "cell_type": "code",
   "execution_count": 110,
   "id": "389f4827",
   "metadata": {
    "ExecuteTime": {
     "end_time": "2023-03-31T12:59:45.453044Z",
     "start_time": "2023-03-31T12:59:45.416645Z"
    }
   },
   "outputs": [
    {
     "data": {
      "text/latex": [
       "$J_{diff}= \\left[\\begin{matrix}- D_{A} k^{2} - \\mu_{A} + \\frac{V_{A} n \\left(\\frac{K_{AA}}{A}\\right)^{n}}{A \\left(\\left(\\frac{K_{AA}}{A}\\right)^{n} + 1\\right)^{2} \\left(\\left(\\frac{B}{K_{BA}}\\right)^{n} + 1\\right)} & - \\frac{V_{A} n \\left(\\frac{B}{K_{BA}}\\right)^{n}}{B \\left(\\left(\\frac{K_{AA}}{A}\\right)^{n} + 1\\right) \\left(\\left(\\frac{B}{K_{BA}}\\right)^{n} + 1\\right)^{2}} & 0\\\\\\frac{V_{B} n \\left(\\frac{K_{AB}}{A}\\right)^{n}}{A \\left(\\left(\\frac{K_{AB}}{A}\\right)^{n} + 1\\right)^{2} \\left(\\left(\\frac{C}{K_{CB}}\\right)^{n} + 1\\right)} & - D_{B} k^{2} - \\mu_{B} & - \\frac{V_{B} n \\left(\\frac{C}{K_{CB}}\\right)^{n}}{C \\left(\\left(\\frac{K_{AB}}{A}\\right)^{n} + 1\\right) \\left(\\left(\\frac{C}{K_{CB}}\\right)^{n} + 1\\right)^{2}}\\\\- \\frac{V_{C} n \\left(\\frac{A}{K_{AC}}\\right)^{n}}{A \\left(\\left(\\frac{A}{K_{AC}}\\right)^{n} + 1\\right)^{2} \\left(\\left(\\frac{B}{K_{BC}}\\right)^{n} + 1\\right) \\left(\\left(\\frac{K_{CC}}{C}\\right)^{n} + 1\\right)} & - \\frac{V_{C} n \\left(\\frac{B}{K_{BC}}\\right)^{n}}{B \\left(\\left(\\frac{A}{K_{AC}}\\right)^{n} + 1\\right) \\left(\\left(\\frac{B}{K_{BC}}\\right)^{n} + 1\\right)^{2} \\left(\\left(\\frac{K_{CC}}{C}\\right)^{n} + 1\\right)} & - \\mu_{C} + \\frac{V_{C} n \\left(\\frac{K_{CC}}{C}\\right)^{n}}{C \\left(\\left(\\frac{A}{K_{AC}}\\right)^{n} + 1\\right) \\left(\\left(\\frac{B}{K_{BC}}\\right)^{n} + 1\\right) \\left(\\left(\\frac{K_{CC}}{C}\\right)^{n} + 1\\right)^{2}}\\end{matrix}\\right]$"
      ],
      "text/plain": [
       "<IPython.core.display.Latex object>"
      ]
     },
     "metadata": {},
     "output_type": "display_data"
    }
   ],
   "source": [
    "J_jac_diff = J_jac - Matrix([[D_A*k**2, 0,        0], \n",
    "                             [0,        D_B*k**2, 0],\n",
    "                             [0,        0,        0],\n",
    "                           ])\n",
    "hprint(r\"J_{diff}= \", J_jac_diff)\n",
    "\n",
    "J_jac_diff_func = lambdify([n, b_A, μ_A, V_A, K_AA, K_AB, K_AC,\n",
    "                            b_B, μ_B, V_B, K_BA, K_BC,\n",
    "                            b_C, μ_C, V_C, K_CB, K_CC, A,B,C], \n",
    "               J_jac_diff,\n",
    "              modules='numpy')"
   ]
  },
  {
   "cell_type": "code",
   "execution_count": 285,
   "id": "ebd7c6b6",
   "metadata": {
    "ExecuteTime": {
     "end_time": "2023-04-01T08:00:08.820529Z",
     "start_time": "2023-03-31T22:11:44.660427Z"
    }
   },
   "outputs": [
    {
     "name": "stderr",
     "output_type": "stream",
     "text": [
      "100%|██████████| 103309/103309 [9:48:21<00:00,  2.93it/s]  \n"
     ]
    }
   ],
   "source": [
    "import warnings\n",
    "warnings.filterwarnings(\"ignore\")\n",
    "from tqdm import tqdm\n",
    "\n",
    "\n",
    "ks = np.linspace(0.00001,10, 50).astype(np.complex64)\n",
    "D_A_val=.01\n",
    "D_B_val=1\n",
    "\n",
    "#dispersions = np.zeros((params.shape[0], 3, ks.shape[0])).astype(np.complex64)\n",
    "#dispersions = np.zeros((params.shape[0], ks.shape[0])).astype(np.complex64)\n",
    "turing_dispersions = []\n",
    "turing_parameters = []\n",
    "turing_parameters_index = []\n",
    "non_turing_dispersions = []\n",
    "non_turing_parameters = []\n",
    "non_turing_parameters_index = []\n",
    "\n",
    "for i  in tqdm(range(len(valid_parameters))[::100]):#tqdm(range(len(valid_parameters)-10300000)):\n",
    "        \n",
    "    (n_val, \n",
    "     b_A_val, mu_A_val, V_A_val, K_AA_val, K_AB_val, K_AC_val,\n",
    "     b_B_val, mu_B_val, V_B_val, K_BA_val, K_BC_val,\n",
    "     b_C_val, mu_C_val, V_C_val, K_CB_val, K_CC_val) = valid_parameters[i]    \n",
    "    \n",
    "    #indices.append(i)\n",
    "    λ_1, λ_2, λ_3 = list(J_jac_diff.subs(\n",
    "                          {n:n_val, \n",
    "                           b_A:b_A_val, \n",
    "                           μ_A:mu_A_val, \n",
    "                           V_A:V_A_val,\n",
    "                           K_AA:K_AA_val, \n",
    "                           K_AB:K_AB_val,  \n",
    "                           K_AC:K_AC_val,\n",
    "                           b_B:b_B_val, \n",
    "                           μ_B:mu_B_val, \n",
    "                           V_B:V_B_val,\n",
    "                           K_BA:K_BA_val, \n",
    "                           K_BC:K_BC_val,  \n",
    "                           b_C:b_C_val, \n",
    "                           μ_C:mu_C_val, \n",
    "                           V_C:V_C_val,\n",
    "                           K_CB:K_CB_val, \n",
    "                           K_CC:K_CC_val,  \n",
    "                           A:valid_roots[i][0], \n",
    "                           B:valid_roots[i][1], \n",
    "                           C:valid_roots[i][2]}\n",
    "                     ).eigenvals().keys())\n",
    "    \n",
    "    λ_1_func = lambdify([k, D_A, D_B], \n",
    "                         λ_1,\n",
    "                         modules='numpy')\n",
    "    λ_2_func = lambdify([k, D_A, D_B], \n",
    "                         λ_2,\n",
    "                         modules='numpy')\n",
    "    λ_3_func = lambdify([k, D_A, D_B], \n",
    "                         λ_3,\n",
    "                         modules='numpy')\n",
    "    dis1 = λ_1_func(ks, D_A_val, D_B_val)\n",
    "    def check_type(item):\n",
    "        return not isinstance(item, float) and not isinstance(item, int)\n",
    "    \n",
    "    if check_type(dis1):\n",
    "        dis1[np.isinf(np.real(dis1))] = -100\n",
    "    \n",
    "    dis2 = λ_2_func(ks, D_A_val, D_B_val)\n",
    "    if check_type(dis2):\n",
    "        dis2[np.isinf(np.real(dis2))] = -100\n",
    "    \n",
    "    dis3 = λ_3_func(ks, D_A_val, D_B_val)\n",
    "    if check_type(dis2):\n",
    "        dis3[np.isinf(np.real(dis3))] = -100\n",
    "    #\n",
    "    if check_type(dis1) and np.any(np.real(dis1) > 0):\n",
    "        turing_parameters_index.append(i)\n",
    "        turing_dispersions.append(dis1)\n",
    "        turing_parameters.append(valid_parameters[i])\n",
    "    elif check_type(dis2) and np.any(np.real(dis2) > 0):\n",
    "        turing_parameters_index.append(i)\n",
    "        turing_dispersions.append(dis2)\n",
    "        turing_parameters.append(valid_parameters[i])\n",
    "    elif check_type(dis3) and np.any(np.real(dis3) > 0):\n",
    "        turing_parameters_index.append(i)\n",
    "        turing_dispersions.append(dis3)\n",
    "        turing_parameters.append(valid_parameters[i])\n",
    "    else:\n",
    "        non_turing_parameters_index.append(i)\n",
    "        non_turing_dispersions.append(dis1)\n",
    "        non_turing_parameters.append(valid_parameters[i])"
   ]
  },
  {
   "cell_type": "code",
   "execution_count": 286,
   "id": "d103b5cc",
   "metadata": {
    "ExecuteTime": {
     "end_time": "2023-04-01T10:32:00.714593Z",
     "start_time": "2023-04-01T10:32:00.703993Z"
    }
   },
   "outputs": [
    {
     "data": {
      "text/latex": [
       "$\\displaystyle 7486$"
      ],
      "text/plain": [
       "7486"
      ]
     },
     "execution_count": 286,
     "metadata": {},
     "output_type": "execute_result"
    }
   ],
   "source": [
    "len(turing_parameters)"
   ]
  },
  {
   "cell_type": "markdown",
   "id": "d60c5909",
   "metadata": {},
   "source": [
    "## Because of low resolution of $k$, there are some dispersion relations with only one positive numbers. I remove them from the candidates. "
   ]
  },
  {
   "cell_type": "code",
   "execution_count": 287,
   "id": "fd223d87",
   "metadata": {
    "ExecuteTime": {
     "end_time": "2023-04-01T10:32:05.923868Z",
     "start_time": "2023-04-01T10:32:05.872270Z"
    }
   },
   "outputs": [
    {
     "name": "stderr",
     "output_type": "stream",
     "text": [
      "100%|██████████| 7486/7486 [00:00<00:00, 221584.75it/s]\n"
     ]
    }
   ],
   "source": [
    "turing_dispersions2 = []\n",
    "turing_parameters2 = []\n",
    "turing_parameters_index2 = []\n",
    "\n",
    "ks2 = np.linspace(0.0,10, 1000).astype(np.complex64)\n",
    "\n",
    "\n",
    "for i  in tqdm(range(len(turing_parameters))):\n",
    "        \n",
    "    dis = turing_dispersions[i]\n",
    "    # Make sure they are not unsatable for k=0\n",
    "    if np.count_nonzero(np.real(dis) > 0)  > 1:\n",
    "        turing_parameters_index2.append(turing_parameters_index[i])\n",
    "        turing_dispersions2.append(dis)\n",
    "        turing_parameters2.append(turing_parameters[i])\n",
    "    "
   ]
  },
  {
   "cell_type": "code",
   "execution_count": 288,
   "id": "21b1e140",
   "metadata": {
    "ExecuteTime": {
     "end_time": "2023-04-01T10:32:10.471039Z",
     "start_time": "2023-04-01T10:32:10.461459Z"
    }
   },
   "outputs": [
    {
     "data": {
      "text/latex": [
       "$\\displaystyle 7275$"
      ],
      "text/plain": [
       "7275"
      ]
     },
     "execution_count": 288,
     "metadata": {},
     "output_type": "execute_result"
    }
   ],
   "source": [
    "len(turing_parameters2)"
   ]
  },
  {
   "cell_type": "code",
   "execution_count": 289,
   "id": "d317f39d",
   "metadata": {
    "ExecuteTime": {
     "end_time": "2023-04-01T10:32:32.569091Z",
     "start_time": "2023-04-01T10:32:31.923539Z"
    }
   },
   "outputs": [],
   "source": [
    "with open('turing_parameters.npy', 'wb') as f:\n",
    "    np.save(f, turing_parameters2)\n",
    "    \n",
    "with open('turing_disp.npy', 'wb') as f:\n",
    "    np.save(f, turing_parameters2)    "
   ]
  },
  {
   "cell_type": "code",
   "execution_count": 359,
   "id": "ce87eaae",
   "metadata": {
    "ExecuteTime": {
     "end_time": "2023-04-01T12:03:02.165388Z",
     "start_time": "2023-04-01T12:03:02.148163Z"
    },
    "code_folding": []
   },
   "outputs": [],
   "source": [
    "def find_roots(n_val, \n",
    "               b_A_val, mu_A_val, V_A_val, K_AA_val, K_AB_val, K_AC_val,\n",
    "               b_B_val, mu_B_val, V_B_val, K_BA_val, K_BC_val,\n",
    "               b_C_val, mu_C_val, V_C_val, K_CB_val, K_CC_val):\n",
    "    func = create_func(n_val, \n",
    "                       b_A_val, mu_A_val, V_A_val, K_AA_val, K_AB_val, K_AC_val,\n",
    "                       b_B_val, mu_B_val, V_B_val, K_BA_val, K_BC_val,\n",
    "                       b_C_val, mu_C_val, V_C_val, K_CB_val, K_CC_val)\n",
    "    #\n",
    "    roots, d, ier, msg = fsolve(func, [10, 10, 10], xtol=1e-10, maxfev=100000,  full_output=1)\n",
    "    (a_1, b_1, c_1) = func(roots)\n",
    "    if ier != 1 or a_1 > 1e-8 or b_1 > 1e-8 or c_1 > 1e-8 :\n",
    "        roots, d, ier, msg = fsolve(func, [-1, -1, -1], xtol=1e-10, maxfev=100000,  full_output=1)\n",
    "        # check the solution is valid\n",
    "        (a_1, b_1, c_1) = func(roots)\n",
    "        if ier != 1 or a_1 > 1e-8 or b_1 > 1e-8 or c_1 > 1e-8 :\n",
    "            raise exception(msg)\n",
    "        return roots\n",
    "    #print(msg)\n",
    "    return roots\n",
    "\n",
    "def get_dispersions(ks, \n",
    "                    n_val, \n",
    "                    b_A_val, mu_A_val, V_A_val, K_AA_val, K_AB_val, K_AC_val,\n",
    "                    b_B_val, mu_B_val, V_B_val, K_BA_val, K_BC_val,\n",
    "                    b_C_val, mu_C_val, V_C_val, K_CB_val, K_CC_val):\n",
    "    \n",
    "    A_star, B_star, C_star = find_roots(n_val, \n",
    "     b_A_val, mu_A_val, V_A_val, K_AA_val, K_AB_val, K_AC_val,\n",
    "     b_B_val, mu_B_val, V_B_val, K_BA_val, K_BC_val,\n",
    "     b_C_val, mu_C_val, V_C_val, K_CB_val, K_CC_val)\n",
    "    #print(A_star, B_star, C_star)\n",
    "    λ_1, λ_2, λ_3 = list(J_jac_diff.subs(\n",
    "                          {n:n_val, \n",
    "                           b_A:b_A_val, \n",
    "                           μ_A:mu_A_val, \n",
    "                           V_A:V_A_val,\n",
    "                           K_AA:K_AA_val, \n",
    "                           K_AB:K_AB_val,  \n",
    "                           K_AC:K_AC_val,\n",
    "                           b_B:b_B_val, \n",
    "                           μ_B:mu_B_val, \n",
    "                           V_B:V_B_val,\n",
    "                           K_BA:K_BA_val, \n",
    "                           K_BC:K_BC_val,  \n",
    "                           b_C:b_C_val, \n",
    "                           μ_C:mu_C_val, \n",
    "                           V_C:V_C_val,\n",
    "                           K_CB:K_CB_val, \n",
    "                           K_CC:K_CC_val,  \n",
    "                           A:A_star, \n",
    "                           B:B_star, \n",
    "                           C:C_star}\n",
    "                     ).eigenvals().keys())\n",
    "    \n",
    "    λ_1_func = lambdify([k, D_A, D_B], \n",
    "                         λ_1,\n",
    "                         modules='numpy')\n",
    "    λ_2_func = lambdify([k, D_A, D_B], \n",
    "                         λ_2,\n",
    "                         modules='numpy')\n",
    "    λ_3_func = lambdify([k, D_A, D_B], \n",
    "                         λ_3,\n",
    "                         modules='numpy')\n",
    "    \n",
    "    def check_type(item):\n",
    "        return not isinstance(item, float) and not isinstance(item, int)\n",
    "    \n",
    "    dis1 = λ_1_func(ks, D_A_val, D_B_val)\n",
    "#     if check_type(dis1):\n",
    "#         dis1[np.isinf(np.real(dis1))] = -100\n",
    "#         dis1[np.isnan(dis1)] = 0\n",
    "    \n",
    "    dis2 = λ_2_func(ks, D_A_val, D_B_val)\n",
    "#     if check_type(dis2):\n",
    "#         dis2[np.isinf(np.real(dis2))] = -100\n",
    "#         dis2[np.isnan(dis2)] = 0\n",
    "    \n",
    "    dis3 = λ_3_func(ks, D_A_val, D_B_val)\n",
    "#     if check_type(dis2):\n",
    "#         dis3[np.isinf(np.real(dis3))] = -100\n",
    "#         dis3[np.isnan(dis3)] = 0\n",
    "    #print(dis1)    \n",
    "    return dis1, dis2,dis3\n",
    "\n"
   ]
  },
  {
   "cell_type": "code",
   "execution_count": 364,
   "id": "e183cb5f",
   "metadata": {
    "ExecuteTime": {
     "end_time": "2023-04-01T12:03:58.107870Z",
     "start_time": "2023-04-01T12:03:57.425541Z"
    },
    "code_folding": []
   },
   "outputs": [
    {
     "name": "stdout",
     "output_type": "stream",
     "text": [
      "4\n",
      "0.001 0.1 5.0 0.5 0.5 0.001\n",
      "0.001 0.1 5.0 10.0 0.5\n",
      "0.001 5.0 50.0 1.0 5.0\n"
     ]
    },
    {
     "data": {
      "image/png": "[encoded data removed]",
      "text/plain": [
       "<Figure size 1400x500 with 3 Axes>"
      ]
     },
     "metadata": {},
     "output_type": "display_data"
    }
   ],
   "source": [
    "index = 1\n",
    "(n_val, \n",
    "b_A_val, mu_A_val, V_A_val, K_AA_val, K_AB_val, K_AC_val,\n",
    "b_B_val, mu_B_val, V_B_val, K_BA_val, K_BC_val,\n",
    "b_C_val, mu_C_val, V_C_val, K_CB_val, K_CC_val) = turing_parameters2[index]\n",
    "print(n_val)\n",
    "print(b_A_val, mu_A_val, V_A_val, K_AA_val, K_AB_val, K_AC_val)\n",
    "print(b_B_val, mu_B_val, V_B_val, K_BA_val, K_BC_val)\n",
    "print(b_C_val, mu_C_val, V_C_val, K_CB_val, K_CC_val)\n",
    "ks = np.linspace(0.001, 20, 500).astype(np.complex128)\n",
    "dis1, dis2, dis3=get_dispersions(ks, n_val, \n",
    "b_A_val, mu_A_val, V_A_val, K_AA_val, K_AB_val, K_AC_val,\n",
    "b_B_val, mu_B_val, V_B_val, K_BA_val, K_BC_val,\n",
    "b_C_val, mu_C_val, V_C_val, K_CB_val, K_CC_val)\n",
    "plt.figure(figsize=(14,5))\n",
    "plt.subplot(131)\n",
    "plt.plot(ks, np.real(dis1))\n",
    "plt.plot(ks, np.imag(dis1))\n",
    "#plt.xlim([0,3])\n",
    "#plt.ylim([-.2, .2])\n",
    "plt.grid()\n",
    "plt.subplot(132)\n",
    "plt.plot(ks, np.real(dis2))\n",
    "plt.plot(ks, np.imag(dis2))\n",
    "#plt.xlim([0,3])\n",
    "#plt.ylim([-.2, .2])\n",
    "plt.grid()\n",
    "plt.subplot(133)\n",
    "plt.plot(ks, np.real(dis3))\n",
    "plt.plot(ks, np.imag(dis3))\n",
    "#plt.xlim([0,3])\n",
    "#plt.ylim([-.2, .2])\n",
    "plt.grid();plt.tight_layout();plt.show()"
   ]
  },
  {
   "cell_type": "code",
   "execution_count": null,
   "id": "ce37ec1f",
   "metadata": {},
   "outputs": [],
   "source": []
  }
 ],
 "metadata": {
  "hide_input": false,
  "kernelspec": {
   "display_name": "Python 3 (ipykernel)",
   "language": "python",
   "name": "python3"
  },
  "language_info": {
   "codemirror_mode": {
    "name": "ipython",
    "version": 3
   },
   "file_extension": ".py",
   "mimetype": "text/x-python",
   "name": "python",
   "nbconvert_exporter": "python",
   "pygments_lexer": "ipython3",
   "version": "3.9.13"
  },
  "varInspector": {
   "cols": {
    "lenName": 16,
    "lenType": 16,
    "lenVar": 40
   },
   "kernels_config": {
    "python": {
     "delete_cmd_postfix": "",
     "delete_cmd_prefix": "del ",
     "library": "var_list.py",
     "varRefreshCmd": "print(var_dic_list())"
    },
    "r": {
     "delete_cmd_postfix": ") ",
     "delete_cmd_prefix": "rm(",
     "library": "var_list.r",
     "varRefreshCmd": "cat(var_dic_list()) "
    }
   },
   "types_to_exclude": [
    "module",
    "function",
    "builtin_function_or_method",
    "instance",
    "_Feature"
   ],
   "window_display": false
  }
 },
 "nbformat": 4,
 "nbformat_minor": 5
}
