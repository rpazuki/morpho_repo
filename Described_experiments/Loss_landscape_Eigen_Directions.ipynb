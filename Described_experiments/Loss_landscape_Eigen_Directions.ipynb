{
 "cells": [
  {
   "cell_type": "code",
   "execution_count": 7,
   "id": "4eebdbee",
   "metadata": {
    "ExecuteTime": {
     "end_time": "2023-02-05T19:48:11.668876Z",
     "start_time": "2023-02-05T19:48:11.649853Z"
    }
   },
   "outputs": [],
   "source": [
    "%config Completer.use_jedi = False\n",
    "import sys\n",
    "import warnings\n",
    "warnings.filterwarnings('ignore')\n",
    "import os\n",
    "os.environ[\"CUDA_VISIBLE_DEVICES\"]=\"1\"\n",
    "import numpy as np\n",
    "import matplotlib.pyplot as plt\n",
    "from mpl_toolkits import mplot3d\n",
    "import pathlib\n",
    "import pickle\n",
    "from pathlib import Path\n",
    "\n",
    "\n",
    "\n",
    "import jax.numpy as jnp\n",
    "from jax import hessian, jacfwd, jacrev, jit\n",
    "from scipy.linalg import eig\n",
    "\n",
    "import ipywidgets as widgets\n",
    "from IPython.display import display\n",
    "from IPython.display import clear_output\n",
    "from ipywidgets.widgets import HBox, VBox, Label\n",
    "\n",
    "sys.path.append(f\"{Path.home()}/morpho_repo\")\n",
    "sys.path.append(f\"{Path.home()}/morpho_repo/turing_codebase\")\n",
    "from turing.utils import *\n",
    "from local_utils import *"
   ]
  },
  {
   "cell_type": "code",
   "execution_count": 2,
   "id": "7934d49f",
   "metadata": {
    "ExecuteTime": {
     "end_time": "2023-02-05T19:47:15.361923Z",
     "start_time": "2023-02-05T19:47:15.349262Z"
    },
    "code_folding": []
   },
   "outputs": [],
   "source": [
    "def loss_u(pattern, D_u, rho_u, sigma_u, mu_u, kappa_u, \n",
    "          u, u_xx, u_yy, u_t, v):\n",
    "        \n",
    "    f = u * u * v / (1.0 + kappa_u * u * u)\n",
    "    f_u = D_u * (u_xx + u_yy) + rho_u * f - mu_u * u + sigma_u - u_t\n",
    "    return np.sum(f_u**2)\n",
    "\n",
    "def loss_v(pattern, D_v, rho_v, sigma_v, kappa_u,\n",
    "           v, v_xx, v_yy, v_t, u):    \n",
    "        \n",
    "    f = u * u * v / (1.0 + kappa_u * u * u)\n",
    "    f_v = D_v * (v_xx + v_yy) - rho_v * f + sigma_v - v_t\n",
    "    \n",
    "    return np.sum(f_v**2)\n",
    "\n",
    "def loss(pattern, D_u, D_v, rho_u, sigma_u, mu_u, kappa_u, rho_v, sigma_v,\n",
    "         u, u_xx, u_yy, u_t, v, v_xx, v_yy, v_t ):\n",
    "    return (loss_u(pattern, D_u, rho_u, sigma_u, mu_u, kappa_u,\n",
    "                   u, u_xx, u_yy, u_t, v) +\n",
    "            loss_v(pattern, D_v, rho_v, sigma_v, kappa_u, v,\n",
    "                    v_xx, v_yy, v_t, u))\n",
    "\n"
   ]
  },
  {
   "cell_type": "code",
   "execution_count": 3,
   "id": "e8920ebe",
   "metadata": {
    "ExecuteTime": {
     "end_time": "2023-02-05T19:47:20.401037Z",
     "start_time": "2023-02-05T19:47:18.576912Z"
    }
   },
   "outputs": [
    {
     "data": {
      "application/vnd.jupyter.widget-view+json": {
       "model_id": "fc65882a8f5f41cdb125aef9b964209c",
       "version_major": 2,
       "version_minor": 0
      },
      "text/plain": [
       "VBox(children=(HBox(children=(IntSlider(value=10, continuous_update=False, description='Steps:', max=20, min=1…"
      ]
     },
     "metadata": {},
     "output_type": "display_data"
    }
   ],
   "source": [
    "pattern = None\n",
    "x_slice = None\n",
    "y_slice = None\n",
    "def load_domain(simulation_name, x_range=(30, 65), y_range=(50, 85), steps=10, title_1=\"u\", title_2=\"v\"):\n",
    "    disable_all_ranges(True)\n",
    "    def plot_d(d, title_1=\"u\", title_2=\"v\"):\n",
    "        x = np.arange(0, d[0,:,:, -1].T.shape[0])[x_slice]\n",
    "        y = np.arange(0, d[0,:,:, -1].T.shape[1])[y_slice]\n",
    "        X, Y = np.meshgrid(x, y, indexing='ij')\n",
    "        _ = plt.figure(figsize=(8,4))\n",
    "        plt.subplot(121)\n",
    "        plt.title(f\"{title_1}\")\n",
    "        plt.imshow(d[0,:,:, -1].T, origin='lower')\n",
    "        plt.colorbar(shrink=.75)\n",
    "        plt.scatter(X, Y, alpha=.5)\n",
    "        plt.subplot(122)\n",
    "        plt.title(f\"{title_2}\")\n",
    "        plt.imshow(d[1,:,:, -1].T, origin='lower')\n",
    "        plt.colorbar(shrink=.75)\n",
    "        plt.scatter(X, Y, alpha=.5)    \n",
    "        plt.show()\n",
    "        \n",
    "    \n",
    "    x_slice=slice(x_range[0],x_range[1],steps)\n",
    "    y_slice=slice(y_range[0],y_range[1],steps)    \n",
    "    pattern = load(simulation_name, \n",
    "                   x_slice,\n",
    "                   y_slice,\n",
    "                   data_time_start=-3, \n",
    "                   data_time_len=2,\n",
    "                   data_time_step=1,\n",
    "                   verbose=False)\n",
    "    globals()[\"y_slice\"] = y_slice\n",
    "    globals()[\"x_slice\"] = x_slice\n",
    "    globals()[\"pattern\"] = pattern\n",
    "    plot_d(pattern.c_domain, title_1=\"u\", title_2=\"v\")\n",
    "    plot_d(pattern.c_xx_domain, title_1=\"u_xx\", title_2=\"v_xx\")\n",
    "    plot_d(pattern.c_yy_domain, title_1=\"u_yy\", title_2=\"v_yy\")\n",
    "    plot_d(pattern.c_t_domain, title_1=\"u_t\", title_2=\"v_t\")\n",
    "    disable_all_ranges(False)\n",
    "    return pattern\n",
    "\n",
    "\n",
    "folders = !ls ~/test/outputs_Koch_Meinhardt_100_by_100\n",
    "\n",
    "w_simulations = widgets.Dropdown(\n",
    "    options=folders,\n",
    "    value=\"Koch_Meinhardt_1\",\n",
    "    description='Simulation:',\n",
    ")\n",
    "\n",
    "w_x_range = widgets.IntRangeSlider(\n",
    "    value=[30, 65],\n",
    "    min=0,\n",
    "    max=99,\n",
    "    step=1,\n",
    "    description='X range:',\n",
    "    continuous_update=False,\n",
    ")\n",
    "\n",
    "w_y_range = widgets.IntRangeSlider(\n",
    "    value=[50, 85],\n",
    "    min=0,\n",
    "    max=99,\n",
    "    step=1,\n",
    "    description='Y range:',\n",
    "    continuous_update=False,\n",
    ")\n",
    "w_steps = widgets.IntSlider(\n",
    "    value=10,\n",
    "    min=1,\n",
    "    max=20,\n",
    "    step=1,\n",
    "    description='Steps:',\n",
    "    continuous_update=False,\n",
    ")\n",
    "def disable_all_ranges(value):\n",
    "    w_x_range.disabled = value\n",
    "    w_y_range.disabled = value\n",
    "    w_steps.disabled = value\n",
    "    w_simulations.disabled = value\n",
    "    \n",
    "w_domain_plot = widgets.interactive_output(load_domain, \n",
    "                                    {'simulation_name':w_simulations,\n",
    "                                     'x_range': w_x_range,\n",
    "                                     'y_range':w_y_range,\n",
    "                                    'steps':w_steps})\n",
    "\n",
    "h_box_range = HBox([w_steps, w_x_range, w_y_range])\n",
    "hbox_load = HBox([w_simulations])\n",
    "hbox_domain = HBox([w_domain_plot])\n",
    "vbox_load = VBox([h_box_range, hbox_load, hbox_domain])\n",
    "display(vbox_load)"
   ]
  },
  {
   "cell_type": "code",
   "execution_count": 4,
   "id": "1311e2f2",
   "metadata": {
    "ExecuteTime": {
     "end_time": "2023-02-05T19:47:26.377496Z",
     "start_time": "2023-02-05T19:47:26.361656Z"
    }
   },
   "outputs": [],
   "source": [
    "u_vec_ac = np.array([pattern.params[\"rho_u\"], pattern.params[\"sigma_u\"],\n",
    "                     pattern.params[\"mu_u\"], pattern.params[\"kappa_u\"]])\n",
    "\n",
    "v_vec_ac = np.array([pattern.params[\"rho_v\"], \n",
    "                     pattern.params[\"sigma_v\"], pattern.params[\"kappa_u\"]])\n",
    "\n",
    "def create_loss_u():\n",
    "    (u, u_xx, u_yy, u_t,\n",
    "     v, v_xx, v_yy, v_t) = (pattern.c[0, ...].copy(),\n",
    "                            pattern.c_xx[0, ...].copy(),\n",
    "                            pattern.c_yy[0, ...].copy(),\n",
    "                            pattern.c_t[0, ...].copy(),\n",
    "                            pattern.c[1, ...].copy(),\n",
    "                            pattern.c_xx[1, ...].copy(),\n",
    "                            pattern.c_yy[1, ...].copy(),\n",
    "                            pattern.c_t[1, ...].copy())\n",
    "    def f(rho_u, sigma_u, mu_u, kappa_u):\n",
    "        return loss_u(pattern, pattern.params[\"D_u\"], \n",
    "                      rho_u, sigma_u, mu_u, kappa_u,\n",
    "                      jnp.array(u), jnp.array(u_xx),\n",
    "                      jnp.array(u_yy), jnp.array(u_t), jnp.array(v))\n",
    "    return f\n",
    "\n",
    "def create_loss_v():\n",
    "    (u, u_xx, u_yy, u_t,\n",
    "     v, v_xx, v_yy, v_t) = (pattern.c[0, ...].copy(),\n",
    "                            pattern.c_xx[0, ...].copy(),\n",
    "                            pattern.c_yy[0, ...].copy(),\n",
    "                            pattern.c_t[0, ...].copy(),\n",
    "                            pattern.c[1, ...].copy(),\n",
    "                            pattern.c_xx[1, ...].copy(),\n",
    "                            pattern.c_yy[1, ...].copy(),\n",
    "                            pattern.c_t[1, ...].copy())\n",
    "    def f(rho_v, sigma_v, kappa_u):\n",
    "        return loss_v(pattern, pattern.params[\"D_v\"], \n",
    "                      rho_v, sigma_v, kappa_u,\n",
    "                      jnp.array(v), jnp.array(v_xx),\n",
    "                      jnp.array(v_yy), jnp.array(v_t), jnp.array(u))\n",
    "    return f\n",
    "\n",
    "def create_loss():\n",
    "    f1 = create_loss_u()\n",
    "    f2 = create_loss_v()\n",
    "    def f(rho_u, sigma_u, mu_u, kappa_u, rho_v, sigma_v):\n",
    "        return f1(rho_u, sigma_u, mu_u, kappa_u) + f2(rho_v, sigma_v, kappa_u)\n",
    "    return f"
   ]
  },
  {
   "cell_type": "code",
   "execution_count": 5,
   "id": "c98df058",
   "metadata": {
    "ExecuteTime": {
     "end_time": "2023-02-05T19:47:30.097550Z",
     "start_time": "2023-02-05T19:47:30.083722Z"
    }
   },
   "outputs": [],
   "source": [
    "def find_Hessians():\n",
    "    l_u = create_loss_u()\n",
    "    H_u = hessian(l_u, [0, 1, 2, 3])\n",
    "\n",
    "    u_vec_ac = np.array([pattern.params[\"rho_u\"], pattern.params[\"sigma_u\"],\n",
    "                         pattern.params[\"mu_u\"], pattern.params[\"kappa_u\"]])\n",
    "\n",
    "    H_u_value = jnp.array(H_u(*u_vec_ac))\n",
    "    u_eig_vals, u_eig_vects = eig(H_u_value)\n",
    "    u_eig_vects = np.array([normalise(vec) for vec in  u_eig_vects])\n",
    "\n",
    "    l_v = create_loss_v()\n",
    "    H_v = hessian(l_v, [0, 1, 2])\n",
    "\n",
    "    v_vec_ac = np.array([pattern.params[\"rho_v\"], pattern.params[\"sigma_v\"],\n",
    "                         pattern.params[\"kappa_u\"]])\n",
    "\n",
    "    H_v_value = jnp.array(H_v(*v_vec_ac))\n",
    "    v_eig_vals, v_eig_vects = eig(H_v_value)\n",
    "    v_eig_vects = np.array([normalise(vec) for vec in  v_eig_vects])\n",
    "    globals()[\"l_u\"] = l_u\n",
    "    globals()[\"u_vec_ac\"] = u_vec_ac\n",
    "    globals()[\"u_eig_vals\"] = u_eig_vals\n",
    "    globals()[\"u_eig_vects\"] = u_eig_vects\n",
    "    globals()[\"l_v\"] = l_v\n",
    "    globals()[\"v_vec_ac\"] = v_vec_ac\n",
    "    globals()[\"v_eig_vals\"] = v_eig_vals\n",
    "    globals()[\"v_eig_vects\"] = v_eig_vects\n",
    "    return (l_u, u_vec_ac, u_eig_vals, u_eig_vects, \n",
    "            l_v, v_vec_ac, v_eig_vals, v_eig_vects)\n"
   ]
  },
  {
   "cell_type": "code",
   "execution_count": 6,
   "id": "cdae877d",
   "metadata": {
    "ExecuteTime": {
     "end_time": "2023-02-05T19:47:33.379149Z",
     "start_time": "2023-02-05T19:47:33.363283Z"
    }
   },
   "outputs": [
    {
     "data": {
      "application/vnd.jupyter.widget-view+json": {
       "model_id": "e7c0bcf4d1ec4e398532256f4d9c5e64",
       "version_major": 2,
       "version_minor": 0
      },
      "text/plain": [
       "Button(description='find directions', style=ButtonStyle())"
      ]
     },
     "metadata": {},
     "output_type": "display_data"
    }
   ],
   "source": [
    "b_calculate_Hessians = widgets.Button(description=\"find directions\")\n",
    "def click_b_calculate_Hessians(change):\n",
    "    b_calculate_Hessians.disabled=True\n",
    "    find_Hessians()\n",
    "    b_calculate_Hessians.disabled=False\n",
    "    \n",
    "b_calculate_Hessians.on_click(click_b_calculate_Hessians)\n",
    "\n",
    "display(b_calculate_Hessians)"
   ]
  },
  {
   "cell_type": "code",
   "execution_count": 8,
   "id": "55459f5b",
   "metadata": {
    "ExecuteTime": {
     "end_time": "2023-02-05T19:48:21.312785Z",
     "start_time": "2023-02-05T19:48:21.297719Z"
    }
   },
   "outputs": [],
   "source": [
    "def calculate_2D_landscape(loss, vec_ac, eig_vect1, eig_vect2, extend_factor=1, size=30):\n",
    "    s_line = creat_line(vec_ac, eig_vect1)\n",
    "    alpha_end = 1*Euc_L(vec_ac)/Euc_L(eig_vect1)\n",
    "\n",
    "    s_perp_line = creat_line(vec_ac, eig_vect2)\n",
    "    perp_alpha_end = 1*Euc_L(vec_ac)/Euc_L(eig_vect2)\n",
    "    \n",
    "    line_alphas = np.linspace(-0*alpha_end, extend_factor*alpha_end, size)\n",
    "    line_perp_alphas = np.linspace(-0*perp_alpha_end, extend_factor*perp_alpha_end, size)\n",
    "    \n",
    "    loss_2D = np.zeros((size, size))\n",
    "\n",
    "    for i, alpha_perp in enumerate(line_perp_alphas):\n",
    "        params_perp = s_perp_line(alpha_perp)\n",
    "        param_shifted = vec_ac + params_perp    \n",
    "        s_line = creat_line(param_shifted, eig_vect1)\n",
    "        for j, alpha in enumerate(line_alphas):\n",
    "            params = s_line(alpha)\n",
    "            loss_2D[i,j] = loss(*params)\n",
    "    return loss_2D, line_perp_alphas, line_alphas"
   ]
  },
  {
   "cell_type": "code",
   "execution_count": 115,
   "id": "61834448",
   "metadata": {
    "ExecuteTime": {
     "end_time": "2023-02-05T21:41:10.447286Z",
     "start_time": "2023-02-05T21:41:10.434526Z"
    }
   },
   "outputs": [],
   "source": [
    "def plot_2D_surface(loss, vec_ac, eig_vect1_index, eig_vect2_index, eig_vects, max_clip=1e4):\n",
    "    (loss_2D, line_perp_alphas,\n",
    "     line_alphas) = calculate_2D_landscape(loss, vec_ac,\n",
    "                                             eig_vects[eig_vect1_index], eig_vects[eig_vect2_index])\n",
    "    X, Y = np.meshgrid(line_perp_alphas, line_alphas)\n",
    "    ax = plt.axes(projection='3d')\n",
    "    clip = min(max_clip, np.max(loss_2D))\n",
    "    loss_2D2 = loss_2D.copy()\n",
    "    loss_2D2[loss_2D2  > clip] = clip\n",
    "    ax.plot_wireframe(X, Y, loss_2D2, color='black')\n",
    "    ax.scatter(0, 0, np.min(loss_2D2), c=\"red\", cmap='viridis', linewidth=0.5);\n",
    "    \n",
    "    ax.set_xlabel('x')\n",
    "    ax.set_ylabel('y')\n",
    "    ax.set_zlabel('z')\n",
    "    #ax.set_zscale('log')\n",
    "    ax.set_zlim([0,clip]) \n",
    "    ax.view_init(230, 45, 0)\n",
    "    return ax"
   ]
  },
  {
   "cell_type": "code",
   "execution_count": 113,
   "id": "f579eec8",
   "metadata": {
    "ExecuteTime": {
     "end_time": "2023-02-05T21:38:45.510645Z",
     "start_time": "2023-02-05T21:38:45.469611Z"
    }
   },
   "outputs": [
    {
     "data": {
      "application/vnd.jupyter.widget-view+json": {
       "model_id": "c8e58c87cb534ca192b8a68b56c44451",
       "version_major": 2,
       "version_minor": 0
      },
      "text/plain": [
       "Button(description='Draw U', style=ButtonStyle())"
      ]
     },
     "metadata": {},
     "output_type": "display_data"
    },
    {
     "data": {
      "application/vnd.jupyter.widget-view+json": {
       "model_id": "de29e1e5d0bf45dda4cdb6c08a4e2c79",
       "version_major": 2,
       "version_minor": 0
      },
      "text/plain": [
       "Dropdown(description='Clip:', index=3, options=('1', '1e2', '1e3', '1e4', '1e5', '1e6', '1e7', '1e8'), value='…"
      ]
     },
     "metadata": {},
     "output_type": "display_data"
    },
    {
     "data": {
      "application/vnd.jupyter.widget-view+json": {
       "model_id": "08b0f8401a1142e8bc5609c166828906",
       "version_major": 2,
       "version_minor": 0
      },
      "text/plain": [
       "Dropdown(description='First eigenvalue:', options=(0, 1, 2, 3), value=0)"
      ]
     },
     "metadata": {},
     "output_type": "display_data"
    },
    {
     "data": {
      "application/vnd.jupyter.widget-view+json": {
       "model_id": "4a14797479054c0b8f857e8297bad681",
       "version_major": 2,
       "version_minor": 0
      },
      "text/plain": [
       "Dropdown(description='First eigenvalue:', index=1, options=(0, 1, 2, 3), value=1)"
      ]
     },
     "metadata": {},
     "output_type": "display_data"
    },
    {
     "data": {
      "application/vnd.jupyter.widget-view+json": {
       "model_id": "a4869ae18450484f8650ae36f6fdba99",
       "version_major": 2,
       "version_minor": 0
      },
      "text/plain": [
       "IntSlider(value=240, continuous_update=False, description='Elevation:', max=360)"
      ]
     },
     "metadata": {},
     "output_type": "display_data"
    },
    {
     "data": {
      "application/vnd.jupyter.widget-view+json": {
       "model_id": "64bbcdc9ce4740b78748edb56cce748e",
       "version_major": 2,
       "version_minor": 0
      },
      "text/plain": [
       "IntSlider(value=45, continuous_update=False, description='Azimuth angle:', max=180, min=-179)"
      ]
     },
     "metadata": {},
     "output_type": "display_data"
    }
   ],
   "source": [
    "b_draw_u_loss = widgets.Button(description=\"Draw U\")\n",
    "def disable_us(value):\n",
    "    b_draw_u_loss.disabled=value\n",
    "    w_elevation_u.disabled=value\n",
    "    w_azimuth_u.disabled=value\n",
    "    w_max_clip_u.disabled=value\n",
    "    w_eigen_1_u.disabled=value\n",
    "    w_eigen_2_u.disabled=value\n",
    "\n",
    "def draw_u():\n",
    "    disable_us(True)\n",
    "    fig_u = plt.figure()\n",
    "    ax_u = plot_2D_surface(l_u, u_vec_ac, w_eigen_1_u.value, w_eigen_2_u.value,\n",
    "                           u_eig_vects, max_clip=float(w_max_clip_u.value))\n",
    "    globals()[\"ax_u\"] = ax_u\n",
    "    globals()[\"fig_u\"] = fig_u     \n",
    "    disable_us(False)\n",
    "    \n",
    "def click_b_draw_u_loss(change):    \n",
    "    draw_u()\n",
    "    \n",
    "    \n",
    "b_draw_u_loss.on_click(click_b_draw_u_loss)\n",
    "\n",
    "w_elevation_u = widgets.IntSlider(\n",
    "    value=240,\n",
    "    min=0,\n",
    "    max=360,\n",
    "    step=1,\n",
    "    description='Elevation:',\n",
    "    disabled=False,\n",
    "    continuous_update=False,    \n",
    ")\n",
    "w_azimuth_u = widgets.IntSlider(\n",
    "    value=45,\n",
    "    min=-179,\n",
    "    max=180,\n",
    "    step=1,\n",
    "    description='Azimuth angle:',\n",
    "    disabled=False,\n",
    "    continuous_update=False,    \n",
    ")\n",
    "\n",
    "w_max_clip_u = widgets.Dropdown(\n",
    "    options=['1', '1e2', '1e3', '1e4', '1e5', '1e6', '1e7', '1e8'],\n",
    "    value='1e4',\n",
    "    description='Clip:',\n",
    "    disabled=False,\n",
    ")\n",
    "\n",
    "w_eigen_1_u = widgets.Dropdown(\n",
    "    options=[0, 1, 2, 3],\n",
    "    value=0,\n",
    "    description='First eigenvalue:',\n",
    "    disabled=False,\n",
    ")\n",
    "\n",
    "w_eigen_2_u = widgets.Dropdown(\n",
    "    options=[0, 1, 2, 3],\n",
    "    value=1,\n",
    "    description='First eigenvalue:',\n",
    "    disabled=False,\n",
    ")\n",
    "\n",
    "def plot_3D_u(elev, azimuth):    \n",
    "    ax_u = globals()[\"ax_u\"]\n",
    "    fig_u = globals()[\"fig_u\"]\n",
    "    ax_u.view_init(elev, azimuth, 0)\n",
    "    clear_output(wait=True)\n",
    "    display(b_draw_u_loss, w_max_clip_u)\n",
    "    display(w_eigen_1_u, w_eigen_2_u)\n",
    "    display(w_elevation_u, w_azimuth_u)\n",
    "    display(fig_u)   \n",
    "\n",
    "def on_rotation_u_change(change):\n",
    "    plot_3D_u(w_elevation_u.value, w_azimuth_u.value)\n",
    "    \n",
    "def on_redraw_u(change):\n",
    "    draw_u()    \n",
    "    plot_3D_u(w_elevation_u.value, w_azimuth_u.value)\n",
    "    clear_output(wait=True)\n",
    "    display(b_draw_u_loss, w_max_clip_u)\n",
    "    display(w_eigen_1_u, w_eigen_2_u)\n",
    "    display(w_elevation_u, w_azimuth_u)\n",
    "\n",
    "\n",
    "w_elevation_u.observe(on_rotation_u_change, names='value')\n",
    "w_azimuth_u.observe(on_rotation_u_change, names='value')\n",
    "w_max_clip_u.observe(on_redraw_u, names='value')\n",
    "w_eigen_1_u.observe(on_redraw_u, names='value')\n",
    "w_eigen_2_u.observe(on_redraw_u, names='value')\n",
    "\n",
    "display(b_draw_u_loss, w_max_clip_u)\n",
    "display(w_eigen_1_u, w_eigen_2_u)\n",
    "display(w_elevation_u, w_azimuth_u)\n"
   ]
  },
  {
   "cell_type": "code",
   "execution_count": 116,
   "id": "5e69ca06",
   "metadata": {
    "ExecuteTime": {
     "end_time": "2023-02-05T21:41:20.920047Z",
     "start_time": "2023-02-05T21:41:20.878953Z"
    }
   },
   "outputs": [
    {
     "data": {
      "application/vnd.jupyter.widget-view+json": {
       "model_id": "874104265aee4fcb83c091d3b4907f92",
       "version_major": 2,
       "version_minor": 0
      },
      "text/plain": [
       "Button(description='Draw V', style=ButtonStyle())"
      ]
     },
     "metadata": {},
     "output_type": "display_data"
    },
    {
     "data": {
      "application/vnd.jupyter.widget-view+json": {
       "model_id": "1783faf6e5b8477697206a686c23bdca",
       "version_major": 2,
       "version_minor": 0
      },
      "text/plain": [
       "Dropdown(description='Clip:', index=7, options=('1', '1e2', '1e3', '1e4', '1e5', '1e6', '1e7', '1e8'), value='…"
      ]
     },
     "metadata": {},
     "output_type": "display_data"
    },
    {
     "data": {
      "application/vnd.jupyter.widget-view+json": {
       "model_id": "f156271959794f1bb043ba6d64f958ad",
       "version_major": 2,
       "version_minor": 0
      },
      "text/plain": [
       "Dropdown(description='First eigenvalue:', options=(0, 1, 2), value=0)"
      ]
     },
     "metadata": {},
     "output_type": "display_data"
    },
    {
     "data": {
      "application/vnd.jupyter.widget-view+json": {
       "model_id": "08f4f4a654a742b0b11aeb67d3d96e4d",
       "version_major": 2,
       "version_minor": 0
      },
      "text/plain": [
       "Dropdown(description='First eigenvalue:', index=2, options=(0, 1, 2), value=2)"
      ]
     },
     "metadata": {},
     "output_type": "display_data"
    },
    {
     "data": {
      "application/vnd.jupyter.widget-view+json": {
       "model_id": "89a6017623b94f59bef06cfe96d11cc2",
       "version_major": 2,
       "version_minor": 0
      },
      "text/plain": [
       "IntSlider(value=29, continuous_update=False, description='Elevation:', max=360)"
      ]
     },
     "metadata": {},
     "output_type": "display_data"
    },
    {
     "data": {
      "application/vnd.jupyter.widget-view+json": {
       "model_id": "859333ca29c84897a0e41e232bc5676b",
       "version_major": 2,
       "version_minor": 0
      },
      "text/plain": [
       "IntSlider(value=-68, continuous_update=False, description='Azimuth angle:', max=180, min=-179)"
      ]
     },
     "metadata": {},
     "output_type": "display_data"
    },
    {
     "data": {
      "image/png": "[encoded data removed]",
      "text/plain": [
       "<Figure size 640x480 with 1 Axes>"
      ]
     },
     "metadata": {},
     "output_type": "display_data"
    }
   ],
   "source": [
    "b_draw_v_loss = widgets.Button(description=\"Draw V\")\n",
    "def disable_vs(value):\n",
    "    b_draw_v_loss.disabled=value\n",
    "    w_elevation_v.disabled=value\n",
    "    w_azimuth_v.disabled=value\n",
    "    w_max_clip_v.disabled=value\n",
    "    w_eigen_1_v.disabled=value\n",
    "    w_eigen_2_v.disabled=value\n",
    "\n",
    "def draw_v():\n",
    "    disable_vs(True)\n",
    "    fig_v = plt.figure()\n",
    "    ax_v = plot_2D_surface(l_v, v_vec_ac, w_eigen_1_v.value, w_eigen_2_v.value,\n",
    "                           v_eig_vects, max_clip=float(w_max_clip_v.value))\n",
    "    globals()[\"ax_v\"] = ax_v\n",
    "    globals()[\"fig_v\"] = fig_v     \n",
    "    disable_vs(False)\n",
    "    \n",
    "def click_b_draw_v_loss(change):    \n",
    "    draw_v()\n",
    "    \n",
    "    \n",
    "b_draw_v_loss.on_click(click_b_draw_v_loss)\n",
    "\n",
    "w_elevation_v = widgets.IntSlider(\n",
    "    value=240,\n",
    "    min=0,\n",
    "    max=360,\n",
    "    step=1,\n",
    "    description='Elevation:',\n",
    "    disabled=False,\n",
    "    continuous_update=False,    \n",
    ")\n",
    "w_azimuth_v = widgets.IntSlider(\n",
    "    value=45,\n",
    "    min=-179,\n",
    "    max=180,\n",
    "    step=1,\n",
    "    description='Azimuth angle:',\n",
    "    disabled=False,\n",
    "    continuous_update=False,    \n",
    ")\n",
    "\n",
    "w_max_clip_v = widgets.Dropdown(\n",
    "    options=['1', '1e2', '1e3', '1e4', '1e5', '1e6', '1e7', '1e8'],\n",
    "    value='1e4',\n",
    "    description='Clip:',\n",
    "    disabled=False,\n",
    ")\n",
    "\n",
    "w_eigen_1_v = widgets.Dropdown(\n",
    "    options=[0, 1, 2],\n",
    "    value=0,\n",
    "    description='First eigenvalue:',\n",
    "    disabled=False,\n",
    ")\n",
    "\n",
    "w_eigen_2_v = widgets.Dropdown(\n",
    "    options=[0, 1, 2],\n",
    "    value=1,\n",
    "    description='First eigenvalue:',\n",
    "    disabled=False,\n",
    ")\n",
    "\n",
    "def plot_3D_v(elev, azimuth):    \n",
    "    ax_v = globals()[\"ax_v\"]\n",
    "    fig_v = globals()[\"fig_v\"]\n",
    "    ax_v.view_init(elev, azimuth, 0)\n",
    "    clear_output(wait=True)\n",
    "    display(b_draw_v_loss, w_max_clip_v)\n",
    "    display(w_eigen_1_v, w_eigen_2_v)\n",
    "    display(w_elevation_v, w_azimuth_v)\n",
    "    display(fig_v)   \n",
    "\n",
    "def on_rotation_v_change(change):\n",
    "    plot_3D_v(w_elevation_v.value, w_azimuth_v.value)\n",
    "    \n",
    "def on_redraw_v(change):\n",
    "    draw_v()    \n",
    "    plot_3D_v(w_elevation_v.value, w_azimuth_v.value)\n",
    "    clear_output(wait=True)\n",
    "    display(b_draw_v_loss, w_max_clip_v)\n",
    "    display(w_eigen_1_v, w_eigen_2_v)\n",
    "    display(w_elevation_v, w_azimuth_v)\n",
    "\n",
    "\n",
    "w_elevation_v.observe(on_rotation_v_change, names='value')\n",
    "w_azimuth_v.observe(on_rotation_v_change, names='value')\n",
    "w_max_clip_v.observe(on_redraw_v, names='value')\n",
    "w_eigen_1_v.observe(on_redraw_v, names='value')\n",
    "w_eigen_2_v.observe(on_redraw_v, names='value')\n",
    "\n",
    "display(b_draw_v_loss, w_max_clip_v)\n",
    "display(w_eigen_1_v, w_eigen_2_v)\n",
    "display(w_elevation_v, w_azimuth_v)"
   ]
  },
  {
   "cell_type": "code",
   "execution_count": null,
   "id": "28ce82c4",
   "metadata": {},
   "outputs": [],
   "source": []
  },
  {
   "cell_type": "code",
   "execution_count": null,
   "id": "3ce030c5",
   "metadata": {},
   "outputs": [],
   "source": []
  },
  {
   "cell_type": "code",
   "execution_count": null,
   "id": "5e915f8c",
   "metadata": {},
   "outputs": [],
   "source": []
  }
 ],
 "metadata": {
  "hide_input": false,
  "kernelspec": {
   "display_name": "jax",
   "language": "python",
   "name": "jax"
  },
  "language_info": {
   "codemirror_mode": {
    "name": "ipython",
    "version": 3
   },
   "file_extension": ".py",
   "mimetype": "text/x-python",
   "name": "python",
   "nbconvert_exporter": "python",
   "pygments_lexer": "ipython3",
   "version": "3.9.16"
  },
  "varInspector": {
   "cols": {
    "lenName": 16,
    "lenType": 16,
    "lenVar": 40
   },
   "kernels_config": {
    "python": {
     "delete_cmd_postfix": "",
     "delete_cmd_prefix": "del ",
     "library": "var_list.py",
     "varRefreshCmd": "print(var_dic_list())"
    },
    "r": {
     "delete_cmd_postfix": ") ",
     "delete_cmd_prefix": "rm(",
     "library": "var_list.r",
     "varRefreshCmd": "cat(var_dic_list()) "
    }
   },
   "types_to_exclude": [
    "module",
    "function",
    "builtin_function_or_method",
    "instance",
    "_Feature"
   ],
   "window_display": false
  }
 },
 "nbformat": 4,
 "nbformat_minor": 5
}
