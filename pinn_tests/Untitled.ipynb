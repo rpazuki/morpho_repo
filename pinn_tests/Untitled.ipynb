{
 "cells": [
  {
   "cell_type": "code",
   "execution_count": 30,
   "metadata": {
    "ExecuteTime": {
     "end_time": "2022-05-17T11:49:17.950099Z",
     "start_time": "2022-05-17T11:49:17.596729Z"
    }
   },
   "outputs": [],
   "source": [
    "from scipy.signal import correlate2d\n",
    "import numpy as np\n",
    "import matplotlib.pyplot as plt"
   ]
  },
  {
   "cell_type": "code",
   "execution_count": 13,
   "metadata": {
    "ExecuteTime": {
     "end_time": "2022-05-16T15:28:54.151828Z",
     "start_time": "2022-05-16T15:28:54.147395Z"
    }
   },
   "outputs": [],
   "source": [
    "length = 100\n",
    "matrix_a = np.random.rand(length, length)\n",
    "matrix_b = np.random.rand(length, length)"
   ]
  },
  {
   "cell_type": "code",
   "execution_count": 14,
   "metadata": {
    "ExecuteTime": {
     "end_time": "2022-05-16T15:29:00.636682Z",
     "start_time": "2022-05-16T15:28:54.616345Z"
    }
   },
   "outputs": [
    {
     "name": "stdout",
     "output_type": "stream",
     "text": [
      "752 ms ± 16 ms per loop (mean ± std. dev. of 7 runs, 1 loop each)\n"
     ]
    }
   ],
   "source": [
    "%timeit correlate2d(matrix_a, matrix_b)"
   ]
  },
  {
   "cell_type": "code",
   "execution_count": 16,
   "metadata": {
    "ExecuteTime": {
     "end_time": "2022-05-16T15:34:00.615622Z",
     "start_time": "2022-05-16T15:32:45.703177Z"
    }
   },
   "outputs": [],
   "source": [
    "x_autocor = [correlate2d(matrix_a, np.roll(matrix_a, shift, axis=0)) for shift in range(1, 100)]"
   ]
  },
  {
   "cell_type": "code",
   "execution_count": 17,
   "metadata": {
    "ExecuteTime": {
     "end_time": "2022-05-16T15:35:21.322958Z",
     "start_time": "2022-05-16T15:34:06.586836Z"
    }
   },
   "outputs": [],
   "source": [
    "y_autocor = [correlate2d(matrix_a, np.roll(matrix_a, shift, axis=1)) for shift in range(1, 100)]"
   ]
  },
  {
   "cell_type": "code",
   "execution_count": 159,
   "metadata": {
    "ExecuteTime": {
     "end_time": "2022-05-18T13:29:30.009072Z",
     "start_time": "2022-05-18T13:29:30.005407Z"
    }
   },
   "outputs": [],
   "source": [
    "from numpy.fft import fft, ifft, fftshift\n",
    "from scipy.signal import correlate"
   ]
  },
  {
   "cell_type": "code",
   "execution_count": 331,
   "metadata": {
    "ExecuteTime": {
     "end_time": "2022-05-18T15:25:33.164342Z",
     "start_time": "2022-05-18T15:25:33.153095Z"
    }
   },
   "outputs": [
    {
     "name": "stdout",
     "output_type": "stream",
     "text": [
      "[ 0  1  2  3  4  5  6  7  8  9 10 11 12 13 14 15]\n",
      "[0, 1, 4, 9, 16, 25, 36, 49, 64, 81, 100, 121, 144, 169, 196, 225]\n",
      "1240\n",
      "77.5\n",
      "4.6097722286464435\n"
     ]
    }
   ],
   "source": [
    "L=16\n",
    "data = np.array(list(range(L)))\n",
    "print(data)\n",
    "print([i**2 for i in data])\n",
    "print(sum([i**2 for i in data]))\n",
    "print(sum([i**2 for i in data])/L)\n",
    "print(np.sqrt(sum([(i-np.mean(data))**2 for i in data])/(L)))"
   ]
  },
  {
   "cell_type": "code",
   "execution_count": 332,
   "metadata": {
    "ExecuteTime": {
     "end_time": "2022-05-18T15:25:33.843980Z",
     "start_time": "2022-05-18T15:25:33.837712Z"
    }
   },
   "outputs": [
    {
     "name": "stdout",
     "output_type": "stream",
     "text": [
      " sum: 120, mean: 7.5, std: 4.6097722286464435\n"
     ]
    }
   ],
   "source": [
    "print(f\" sum: {np.sum(data)}, mean: {np.mean(data)}, std: {np.std(data)}\")"
   ]
  },
  {
   "cell_type": "code",
   "execution_count": 351,
   "metadata": {
    "ExecuteTime": {
     "end_time": "2022-05-18T15:39:44.594762Z",
     "start_time": "2022-05-18T15:39:44.584774Z"
    }
   },
   "outputs": [
    {
     "name": "stdout",
     "output_type": "stream",
     "text": [
      "[4.60977223 3.70809924 2.6925824  1.32287566 1.6583124  2.5\n",
      " 2.95803989 3.20156212]\n",
      "3.7080992435478315\n"
     ]
    }
   ],
   "source": [
    "F = fft(data-np.mean(data))\n",
    "S =  (F*np.conjugate(F))\n",
    "#print(S)\n",
    "\n",
    "R = ifft(S)[:F.size//2]\n",
    "\n",
    "print(np.sqrt(np.abs(R.real/L)))\n",
    "\n",
    "lag = 1\n",
    "A = sum([i*j for i,j in zip(data[lag:], data[:-lag])])/L\n",
    "print(np.sqrt(A - np.mean(data)**2))"
   ]
  },
  {
   "cell_type": "code",
   "execution_count": 52,
   "metadata": {
    "ExecuteTime": {
     "end_time": "2022-05-17T11:59:12.950082Z",
     "start_time": "2022-05-17T11:59:12.945792Z"
    }
   },
   "outputs": [
    {
     "data": {
      "text/plain": [
       "16"
      ]
     },
     "execution_count": 52,
     "metadata": {},
     "output_type": "execute_result"
    }
   ],
   "source": [
    "L//2"
   ]
  },
  {
   "cell_type": "code",
   "execution_count": 70,
   "metadata": {
    "ExecuteTime": {
     "end_time": "2022-05-17T16:00:21.094050Z",
     "start_time": "2022-05-17T16:00:21.089067Z"
    }
   },
   "outputs": [
    {
     "data": {
      "text/plain": [
       "array([ 0.  ,  0.05,  0.1 ,  0.15,  0.2 ,  0.25,  0.3 ,  0.35,  0.4 ,\n",
       "        0.45, -0.5 , -0.45, -0.4 , -0.35, -0.3 , -0.25, -0.2 , -0.15,\n",
       "       -0.1 , -0.05])"
      ]
     },
     "execution_count": 70,
     "metadata": {},
     "output_type": "execute_result"
    }
   ],
   "source": [
    "np.fft.fftfreq(20, d=1.0)"
   ]
  },
  {
   "cell_type": "code",
   "execution_count": 391,
   "metadata": {
    "ExecuteTime": {
     "end_time": "2022-05-18T16:02:52.187925Z",
     "start_time": "2022-05-18T16:02:51.987044Z"
    }
   },
   "outputs": [
    {
     "data": {
      "image/png": "[encoded data removed]",
      "text/plain": [
       "<Figure size 432x288 with 1 Axes>"
      ]
     },
     "metadata": {
      "needs_background": "light"
     },
     "output_type": "display_data"
    }
   ],
   "source": [
    "L = 64\n",
    "data = np.arange(L)\n",
    "freq = 8\n",
    "signal = np.sin(freq*data*2*np.pi/L)\n",
    "\n",
    "freq = 2\n",
    "signal += np.sin(freq*data*2*np.pi/L)\n",
    "\n",
    "#signal += np.random.rand(L)\n",
    "\n",
    "#signal -= np.mean(signal)\n",
    "\n",
    "plt.plot(data/L, signal)\n",
    "plt.grid()\n",
    "plt.show()"
   ]
  },
  {
   "cell_type": "code",
   "execution_count": 390,
   "metadata": {
    "ExecuteTime": {
     "end_time": "2022-05-18T16:02:28.860084Z",
     "start_time": "2022-05-18T16:02:28.676589Z"
    }
   },
   "outputs": [
    {
     "name": "stderr",
     "output_type": "stream",
     "text": [
      "/usr/local/anaconda3/envs/tensorflow.1.12/lib/python3.6/site-packages/numpy/core/_asarray.py:83: ComplexWarning: Casting complex values to real discards the imaginary part\n",
      "  return array(a, dtype, copy=False, order=order)\n"
     ]
    },
    {
     "data": {
      "image/png": "[encoded data removed]",
      "text/plain": [
       "<Figure size 432x288 with 1 Axes>"
      ]
     },
     "metadata": {
      "needs_background": "light"
     },
     "output_type": "display_data"
    }
   ],
   "source": [
    "F = fft(signal)\n",
    "S = F*np.conjugate(F)\n",
    "\n",
    "plt.plot(S[:F.size//2])\n",
    "plt.grid()\n",
    "plt.show()"
   ]
  },
  {
   "cell_type": "code",
   "execution_count": null,
   "metadata": {},
   "outputs": [],
   "source": []
  },
  {
   "cell_type": "code",
   "execution_count": 363,
   "metadata": {
    "ExecuteTime": {
     "end_time": "2022-05-18T15:45:34.773535Z",
     "start_time": "2022-05-18T15:45:34.748782Z"
    }
   },
   "outputs": [],
   "source": [
    "import sys\n",
    "sys.path.insert(0, '../../../clones/PINNs/Utilities/')\n",
    "import tensorflow as tf\n",
    "import numpy as np\n",
    "import matplotlib.pyplot as plt\n",
    "import scipy.io\n",
    "\n",
    "import os\n",
    "data_path = os.path.abspath(\"../turing.npy\")\n",
    "with open(data_path, 'rb') as f:\n",
    "    data = np.load(f)\n",
    "    \n",
    "data_path = os.path.abspath(\"../turing_t.npy\")\n",
    "with open(data_path, 'rb') as f:\n",
    "    t_star = np.load(f) \n",
    "    \n",
    "T = 32\n",
    "\n",
    "x_size = data.shape[1]\n",
    "y_size = data.shape[2]\n",
    "N = x_size*y_size\n",
    "\n",
    "AA = np.einsum('ijk->kij', data[0, :, :, -T:]) # N x T\n",
    "SS = np.einsum('ijk->kij', data[1, :, :, -T:]) # N x T\n",
    "\n",
    "a = AA[-1,:,:]\n",
    "s = SS[-1,:,:]"
   ]
  },
  {
   "cell_type": "code",
   "execution_count": 373,
   "metadata": {
    "ExecuteTime": {
     "end_time": "2022-05-18T15:52:50.853149Z",
     "start_time": "2022-05-18T15:52:50.848962Z"
    }
   },
   "outputs": [
    {
     "data": {
      "text/plain": [
       "(32, 32)"
      ]
     },
     "execution_count": 373,
     "metadata": {},
     "output_type": "execute_result"
    }
   ],
   "source": [
    "a.shape"
   ]
  },
  {
   "cell_type": "code",
   "execution_count": 386,
   "metadata": {
    "ExecuteTime": {
     "end_time": "2022-05-18T15:58:10.475547Z",
     "start_time": "2022-05-18T15:58:10.221379Z"
    }
   },
   "outputs": [
    {
     "data": {
      "image/png": "[encoded data removed]",
      "text/plain": [
       "<Figure size 864x864 with 1 Axes>"
      ]
     },
     "metadata": {
      "needs_background": "light"
     },
     "output_type": "display_data"
    }
   ],
   "source": [
    "_ = plt.figure(figsize=(12,12))\n",
    "plt.imshow(a)\n",
    "plt.show()"
   ]
  },
  {
   "cell_type": "code",
   "execution_count": 380,
   "metadata": {
    "ExecuteTime": {
     "end_time": "2022-05-18T15:54:53.983350Z",
     "start_time": "2022-05-18T15:54:53.978271Z"
    }
   },
   "outputs": [],
   "source": [
    "F_2d = fft(a-np.mean(a), axis=1)\n",
    "S_2d =  (F_2d*np.conjugate(F_2d))\n",
    "\n",
    "L = a.shape[0]\n",
    "\n",
    "R_2d = ifft(S_2d)[:L//2, :]\n",
    "acorr_2d = np.sqrt(np.abs(R_2d.real/L))\n"
   ]
  },
  {
   "cell_type": "code",
   "execution_count": 381,
   "metadata": {
    "ExecuteTime": {
     "end_time": "2022-05-18T15:54:54.892868Z",
     "start_time": "2022-05-18T15:54:54.650360Z"
    }
   },
   "outputs": [
    {
     "data": {
      "image/png": "[encoded data removed]",
      "text/plain": [
       "<Figure size 432x288 with 2 Axes>"
      ]
     },
     "metadata": {
      "needs_background": "light"
     },
     "output_type": "display_data"
    }
   ],
   "source": [
    "\n",
    "plt.imshow(acorr_2d)\n",
    "plt.colorbar()\n",
    "plt.show()"
   ]
  },
  {
   "cell_type": "code",
   "execution_count": 385,
   "metadata": {
    "ExecuteTime": {
     "end_time": "2022-05-18T15:57:32.192865Z",
     "start_time": "2022-05-18T15:57:32.188594Z"
    }
   },
   "outputs": [
    {
     "data": {
      "text/plain": [
       "10.4375"
      ]
     },
     "execution_count": 385,
     "metadata": {},
     "output_type": "execute_result"
    }
   ],
   "source": [
    "np.mean(np.argmax(acorr_2d, axis=0))"
   ]
  },
  {
   "cell_type": "code",
   "execution_count": null,
   "metadata": {},
   "outputs": [],
   "source": []
  }
 ],
 "metadata": {
  "kernelspec": {
   "display_name": "Python 3",
   "language": "python",
   "name": "python3"
  },
  "language_info": {
   "codemirror_mode": {
    "name": "ipython",
    "version": 3
   },
   "file_extension": ".py",
   "mimetype": "text/x-python",
   "name": "python",
   "nbconvert_exporter": "python",
   "pygments_lexer": "ipython3",
   "version": "3.6.13"
  },
  "varInspector": {
   "cols": {
    "lenName": 16,
    "lenType": 16,
    "lenVar": 40
   },
   "kernels_config": {
    "python": {
     "delete_cmd_postfix": "",
     "delete_cmd_prefix": "del ",
     "library": "var_list.py",
     "varRefreshCmd": "print(var_dic_list())"
    },
    "r": {
     "delete_cmd_postfix": ") ",
     "delete_cmd_prefix": "rm(",
     "library": "var_list.r",
     "varRefreshCmd": "cat(var_dic_list()) "
    }
   },
   "types_to_exclude": [
    "module",
    "function",
    "builtin_function_or_method",
    "instance",
    "_Feature"
   ],
   "window_display": false
  }
 },
 "nbformat": 4,
 "nbformat_minor": 4
}
