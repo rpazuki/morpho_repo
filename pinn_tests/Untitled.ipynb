{
 "cells": [
  {
   "cell_type": "code",
   "execution_count": 2,
   "metadata": {
    "ExecuteTime": {
     "end_time": "2022-04-30T06:11:14.285817Z",
     "start_time": "2022-04-30T06:11:14.275262Z"
    }
   },
   "outputs": [],
   "source": [
    "import sys\n",
    "sys.path.insert(0, '../../clones/PINNs/Utilities/')\n",
    "import tensorflow as tf\n",
    "import numpy as np\n",
    "import scipy.io"
   ]
  },
  {
   "cell_type": "code",
   "execution_count": 3,
   "metadata": {
    "ExecuteTime": {
     "end_time": "2022-04-30T06:11:17.607918Z",
     "start_time": "2022-04-30T06:11:17.162389Z"
    }
   },
   "outputs": [],
   "source": [
    "data = scipy.io.loadmat('../../clones/PINNs/main/Data/cylinder_nektar_wake.mat')\n",
    "\n",
    "           \n",
    "U_star = data['U_star'] # N x 2 x T\n",
    "P_star = data['p_star'] # N x T\n",
    "t_star = data['t'] # T x 1\n",
    "X_star = data['X_star'] # N x 2\n",
    "\n",
    "N = X_star.shape[0]\n",
    "T = t_star.shape[0]\n",
    "\n",
    "# Rearrange Data \n",
    "XX = np.tile(X_star[:,0:1], (1,T)) # N x T\n",
    "YY = np.tile(X_star[:,1:2], (1,T)) # N x T\n",
    "TT = np.tile(t_star, (1,N)).T # N x T\n",
    "\n",
    "UU = U_star[:,0,:] # N x T\n",
    "VV = U_star[:,1,:] # N x T\n",
    "PP = P_star # N x T\n",
    "\n",
    "x = XX.flatten()[:,None] # NT x 1\n",
    "y = YY.flatten()[:,None] # NT x 1\n",
    "t = TT.flatten()[:,None] # NT x 1\n",
    "\n",
    "u = UU.flatten()[:,None] # NT x 1\n",
    "v = VV.flatten()[:,None] # NT x 1\n",
    "p = PP.flatten()[:,None] # NT x 1"
   ]
  },
  {
   "cell_type": "code",
   "execution_count": 6,
   "metadata": {
    "ExecuteTime": {
     "end_time": "2022-04-30T06:12:03.943018Z",
     "start_time": "2022-04-30T06:12:03.937012Z"
    }
   },
   "outputs": [
    {
     "data": {
      "text/plain": [
       "1000000"
      ]
     },
     "execution_count": 6,
     "metadata": {},
     "output_type": "execute_result"
    }
   ],
   "source": [
    "N*T"
   ]
  },
  {
   "cell_type": "code",
   "execution_count": 5,
   "metadata": {
    "ExecuteTime": {
     "end_time": "2022-04-30T06:11:24.189866Z",
     "start_time": "2022-04-30T06:11:24.186793Z"
    }
   },
   "outputs": [
    {
     "data": {
      "text/plain": [
       "200"
      ]
     },
     "execution_count": 5,
     "metadata": {},
     "output_type": "execute_result"
    }
   ],
   "source": [
    "T"
   ]
  },
  {
   "cell_type": "code",
   "execution_count": 30,
   "metadata": {
    "ExecuteTime": {
     "end_time": "2022-05-17T11:49:17.950099Z",
     "start_time": "2022-05-17T11:49:17.596729Z"
    }
   },
   "outputs": [],
   "source": [
    "from scipy.signal import correlate2d\n",
    "import numpy as np\n",
    "import matplotlib.pyplot as plt"
   ]
  },
  {
   "cell_type": "code",
   "execution_count": 13,
   "metadata": {
    "ExecuteTime": {
     "end_time": "2022-05-16T15:28:54.151828Z",
     "start_time": "2022-05-16T15:28:54.147395Z"
    }
   },
   "outputs": [],
   "source": [
    "length = 100\n",
    "matrix_a = np.random.rand(length, length)\n",
    "matrix_b = np.random.rand(length, length)"
   ]
  },
  {
   "cell_type": "code",
   "execution_count": 14,
   "metadata": {
    "ExecuteTime": {
     "end_time": "2022-05-16T15:29:00.636682Z",
     "start_time": "2022-05-16T15:28:54.616345Z"
    }
   },
   "outputs": [
    {
     "name": "stdout",
     "output_type": "stream",
     "text": [
      "752 ms ± 16 ms per loop (mean ± std. dev. of 7 runs, 1 loop each)\n"
     ]
    }
   ],
   "source": [
    "%timeit correlate2d(matrix_a, matrix_b)"
   ]
  },
  {
   "cell_type": "code",
   "execution_count": 16,
   "metadata": {
    "ExecuteTime": {
     "end_time": "2022-05-16T15:34:00.615622Z",
     "start_time": "2022-05-16T15:32:45.703177Z"
    }
   },
   "outputs": [],
   "source": [
    "x_autocor = [correlate2d(matrix_a, np.roll(matrix_a, shift, axis=0)) for shift in range(1, 100)]"
   ]
  },
  {
   "cell_type": "code",
   "execution_count": 17,
   "metadata": {
    "ExecuteTime": {
     "end_time": "2022-05-16T15:35:21.322958Z",
     "start_time": "2022-05-16T15:34:06.586836Z"
    }
   },
   "outputs": [],
   "source": [
    "y_autocor = [correlate2d(matrix_a, np.roll(matrix_a, shift, axis=1)) for shift in range(1, 100)]"
   ]
  },
  {
   "cell_type": "code",
   "execution_count": 13,
   "metadata": {
    "ExecuteTime": {
     "end_time": "2022-05-16T16:16:58.801408Z",
     "start_time": "2022-05-16T16:16:58.531145Z"
    }
   },
   "outputs": [],
   "source": [
    "from numpy.fft import fft, ifft\n",
    "from scipy.signal import correlate"
   ]
  },
  {
   "cell_type": "code",
   "execution_count": 19,
   "metadata": {
    "ExecuteTime": {
     "end_time": "2022-05-16T16:20:08.116340Z",
     "start_time": "2022-05-16T16:20:08.110446Z"
    }
   },
   "outputs": [
    {
     "data": {
      "text/plain": [
       "[0, 1, 2, 3, 4, 5, 6, 7, 8, 9, 10, 11, 12, 13, 14, 15]"
      ]
     },
     "execution_count": 19,
     "metadata": {},
     "output_type": "execute_result"
    }
   ],
   "source": [
    "data = list(range(16))\n",
    "data"
   ]
  },
  {
   "cell_type": "code",
   "execution_count": 20,
   "metadata": {
    "ExecuteTime": {
     "end_time": "2022-05-16T16:20:11.077731Z",
     "start_time": "2022-05-16T16:20:11.074328Z"
    }
   },
   "outputs": [
    {
     "name": "stdout",
     "output_type": "stream",
     "text": [
      " mean: 7.5, std: 4.6097722286464435\n"
     ]
    }
   ],
   "source": [
    "print(f\" mean: {np.mean(data)}, std: {np.std(data)}\")"
   ]
  },
  {
   "cell_type": "code",
   "execution_count": 26,
   "metadata": {
    "ExecuteTime": {
     "end_time": "2022-05-16T16:22:44.596503Z",
     "start_time": "2022-05-16T16:22:44.592539Z"
    }
   },
   "outputs": [
    {
     "name": "stdout",
     "output_type": "stream",
     "text": [
      "[1240. 1120. 1016.  928.  856.  800.  760.  736.  728.  736.  760.  800.\n",
      "  856.  928. 1016. 1120.]\n"
     ]
    }
   ],
   "source": [
    "r = fft(data)\n",
    "R_t = ifft(r *np.conjugate(r)).real\n",
    "#print(np.sqrt(R_t))\n",
    "print(R_t)"
   ]
  },
  {
   "cell_type": "code",
   "execution_count": 22,
   "metadata": {
    "ExecuteTime": {
     "end_time": "2022-05-16T16:21:20.934388Z",
     "start_time": "2022-05-16T16:21:20.930287Z"
    }
   },
   "outputs": [
    {
     "data": {
      "text/plain": [
       "array([120. +0.j        ,  -8.+40.21871594j,  -8.+19.3137085j ,\n",
       "        -8.+11.9728461j ,  -8. +8.j        ,  -8. +5.3454291j ,\n",
       "        -8. +3.3137085j ,  -8. +1.59129894j,  -8. +0.j        ,\n",
       "        -8. -1.59129894j,  -8. -3.3137085j ,  -8. -5.3454291j ,\n",
       "        -8. -8.j        ,  -8.-11.9728461j ,  -8.-19.3137085j ,\n",
       "        -8.-40.21871594j])"
      ]
     },
     "execution_count": 22,
     "metadata": {},
     "output_type": "execute_result"
    }
   ],
   "source": [
    "r"
   ]
  },
  {
   "cell_type": "code",
   "execution_count": 25,
   "metadata": {
    "ExecuteTime": {
     "end_time": "2022-05-16T16:22:40.406142Z",
     "start_time": "2022-05-16T16:22:40.402500Z"
    }
   },
   "outputs": [
    {
     "data": {
      "text/plain": [
       "array([1240, 1120, 1001,  884,  770,  660,  555,  456,  364,  280,  205,\n",
       "        140,   86,   44,   15,    0])"
      ]
     },
     "execution_count": 25,
     "metadata": {},
     "output_type": "execute_result"
    }
   ],
   "source": [
    "autocorr(data)"
   ]
  },
  {
   "cell_type": "code",
   "execution_count": 21,
   "metadata": {
    "ExecuteTime": {
     "end_time": "2022-05-16T16:20:17.298106Z",
     "start_time": "2022-05-16T16:20:17.293034Z"
    }
   },
   "outputs": [
    {
     "data": {
      "text/plain": [
       "array([1240, 1120, 1001,  884,  770,  660,  555,  456,  364,  280,  205,\n",
       "        140,   86,   44,   15,    0])"
      ]
     },
     "execution_count": 21,
     "metadata": {},
     "output_type": "execute_result"
    }
   ],
   "source": [
    "def autocorr(x):\n",
    "    result = np.correlate(x, x, mode='full')\n",
    "    return result[len(result)//2:]\n",
    "\n",
    "autocorr(data)"
   ]
  },
  {
   "cell_type": "code",
   "execution_count": 65,
   "metadata": {
    "ExecuteTime": {
     "end_time": "2022-05-17T12:02:41.143375Z",
     "start_time": "2022-05-17T12:02:40.874547Z"
    }
   },
   "outputs": [
    {
     "data": {
      "image/png": "[encoded data removed]",
      "text/plain": [
       "<Figure size 432x288 with 1 Axes>"
      ]
     },
     "metadata": {
      "needs_background": "light"
     },
     "output_type": "display_data"
    }
   ],
   "source": [
    "L = 2**6\n",
    "t = np.arange(L)\n",
    "sin_1 = np.sin(2*np.pi*t/L)\n",
    "sin_2 = np.sin(8*2*np.pi*t/L)\n",
    "plt.plot(t, sin_1)\n",
    "plt.plot(t, sin_2)\n",
    "plt.show()"
   ]
  },
  {
   "cell_type": "code",
   "execution_count": 66,
   "metadata": {
    "ExecuteTime": {
     "end_time": "2022-05-17T12:02:44.309102Z",
     "start_time": "2022-05-17T12:02:44.306190Z"
    }
   },
   "outputs": [],
   "source": [
    "f_sin_1 = np.fft.fft(sin_1)\n",
    "f_sin_2 = np.fft.fft(sin_2)"
   ]
  },
  {
   "cell_type": "code",
   "execution_count": 68,
   "metadata": {
    "ExecuteTime": {
     "end_time": "2022-05-17T12:03:49.852999Z",
     "start_time": "2022-05-17T12:03:49.539933Z"
    }
   },
   "outputs": [
    {
     "data": {
      "image/png": "[encoded data removed]",
      "text/plain": [
       "<Figure size 432x288 with 1 Axes>"
      ]
     },
     "metadata": {
      "needs_background": "light"
     },
     "output_type": "display_data"
    },
    {
     "data": {
      "image/png": "[encoded data removed]",
      "text/plain": [
       "<Figure size 432x288 with 1 Axes>"
      ]
     },
     "metadata": {
      "needs_background": "light"
     },
     "output_type": "display_data"
    }
   ],
   "source": [
    "timestep = 1.0\n",
    "freq = np.fft.fftfreq(L, d=timestep)\n",
    "#plt.plot(freq[:L//2], f_sin_1[:L//2].real)\n",
    "plt.plot(freq[:L//2], f_sin_1[:L//2].imag)\n",
    "#plt.plot(freq[:L//2], f_sin_2[:L//2].real)\n",
    "plt.plot(freq[:L//2], f_sin_2[:L//2].imag)\n",
    "plt.show()\n",
    "\n",
    "#plt.plot(freq[:L//2], f_sin_1[:L//2].real)\n",
    "plt.plot(freq[:L//2], np.abs(f_sin_1[:L//2])**2)\n",
    "#plt.plot(freq[:L//2], f_sin_2[:L//2].real)\n",
    "plt.plot(freq[:L//2], np.abs(f_sin_2[:L//2])**2)\n",
    "plt.show()"
   ]
  },
  {
   "cell_type": "code",
   "execution_count": 52,
   "metadata": {
    "ExecuteTime": {
     "end_time": "2022-05-17T11:59:12.950082Z",
     "start_time": "2022-05-17T11:59:12.945792Z"
    }
   },
   "outputs": [
    {
     "data": {
      "text/plain": [
       "16"
      ]
     },
     "execution_count": 52,
     "metadata": {},
     "output_type": "execute_result"
    }
   ],
   "source": [
    "L//2"
   ]
  },
  {
   "cell_type": "code",
   "execution_count": 70,
   "metadata": {
    "ExecuteTime": {
     "end_time": "2022-05-17T16:00:21.094050Z",
     "start_time": "2022-05-17T16:00:21.089067Z"
    }
   },
   "outputs": [
    {
     "data": {
      "text/plain": [
       "array([ 0.  ,  0.05,  0.1 ,  0.15,  0.2 ,  0.25,  0.3 ,  0.35,  0.4 ,\n",
       "        0.45, -0.5 , -0.45, -0.4 , -0.35, -0.3 , -0.25, -0.2 , -0.15,\n",
       "       -0.1 , -0.05])"
      ]
     },
     "execution_count": 70,
     "metadata": {},
     "output_type": "execute_result"
    }
   ],
   "source": [
    "np.fft.fftfreq(20, d=1.0)"
   ]
  },
  {
   "cell_type": "code",
   "execution_count": null,
   "metadata": {},
   "outputs": [],
   "source": []
  }
 ],
 "metadata": {
  "kernelspec": {
   "display_name": "Python 3",
   "language": "python",
   "name": "python3"
  },
  "language_info": {
   "codemirror_mode": {
    "name": "ipython",
    "version": 3
   },
   "file_extension": ".py",
   "mimetype": "text/x-python",
   "name": "python",
   "nbconvert_exporter": "python",
   "pygments_lexer": "ipython3",
   "version": "3.6.13"
  },
  "varInspector": {
   "cols": {
    "lenName": 16,
    "lenType": 16,
    "lenVar": 40
   },
   "kernels_config": {
    "python": {
     "delete_cmd_postfix": "",
     "delete_cmd_prefix": "del ",
     "library": "var_list.py",
     "varRefreshCmd": "print(var_dic_list())"
    },
    "r": {
     "delete_cmd_postfix": ") ",
     "delete_cmd_prefix": "rm(",
     "library": "var_list.r",
     "varRefreshCmd": "cat(var_dic_list()) "
    }
   },
   "types_to_exclude": [
    "module",
    "function",
    "builtin_function_or_method",
    "instance",
    "_Feature"
   ],
   "window_display": false
  }
 },
 "nbformat": 4,
 "nbformat_minor": 4
}
