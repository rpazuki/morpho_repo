{
 "cells": [
  {
   "cell_type": "markdown",
   "id": "61bb4142",
   "metadata": {},
   "source": [
    "> __Paper:__\n",
    "Physics-informed neural networks: A deep learning framework for solving forward and\n",
    "inverse problems involving nonlinear partial differential equations\n",
    "\n",
    "> [Link](https://doi.org/10.1016/j.jcp.2018.10.045)"
   ]
  },
  {
   "cell_type": "code",
   "execution_count": 1,
   "id": "928b03d2",
   "metadata": {
    "ExecuteTime": {
     "end_time": "2022-04-22T14:20:31.210509Z",
     "start_time": "2022-04-22T14:20:17.803861Z"
    }
   },
   "outputs": [],
   "source": [
    "\"\"\"\n",
    "@author: Maziar Raissi\n",
    "\"\"\"\n",
    "\n",
    "import sys\n",
    "sys.path.insert(0, '../../clones/PINNs/Utilities/')\n",
    "import tensorflow as tf\n",
    "import numpy as np\n",
    "import matplotlib.pyplot as plt\n",
    "import scipy.io\n",
    "from scipy.interpolate import griddata\n",
    "from pyDOE import lhs\n",
    "from plotting import newfig, savefig\n",
    "from mpl_toolkits.mplot3d import Axes3D\n",
    "import time\n",
    "import matplotlib.gridspec as gridspec\n",
    "from mpl_toolkits.axes_grid1 import make_axes_locatable\n",
    "\n",
    "\n",
    "import os\n",
    "#os.environ[\"CUDA_VISIBLE_DEVICES\"]=\"0,1\"\n",
    "os.environ[\"CUDA_VISIBLE_DEVICES\"]=\"1\"\n",
    "#os.environ['TF_CPP_MIN_LOG_LEVEL'] = '3'\n",
    "\n",
    "#tf.logging.set_verbosity(tf.logging.ERROR)"
   ]
  },
  {
   "cell_type": "code",
   "execution_count": 2,
   "id": "fefa5819",
   "metadata": {
    "ExecuteTime": {
     "end_time": "2022-04-22T14:20:31.231001Z",
     "start_time": "2022-04-22T14:20:31.225592Z"
    }
   },
   "outputs": [],
   "source": [
    "import matplotlib as mpl\n",
    "mpl.rcParams.update(mpl.rcParamsDefault)"
   ]
  },
  {
   "cell_type": "code",
   "execution_count": 3,
   "id": "2860efe8",
   "metadata": {
    "ExecuteTime": {
     "end_time": "2022-04-22T14:20:31.397488Z",
     "start_time": "2022-04-22T14:20:31.233055Z"
    }
   },
   "outputs": [
    {
     "data": {
      "text/plain": [
       "'1.15.0'"
      ]
     },
     "execution_count": 3,
     "metadata": {},
     "output_type": "execute_result"
    }
   ],
   "source": [
    "tf.version.VERSION"
   ]
  },
  {
   "cell_type": "code",
   "execution_count": 16,
   "id": "d42fec40",
   "metadata": {
    "ExecuteTime": {
     "end_time": "2022-04-22T19:53:38.500391Z",
     "start_time": "2022-04-22T19:53:38.484592Z"
    },
    "code_folding": []
   },
   "outputs": [],
   "source": [
    "def reloaded_predict(sess, X_star):\n",
    "    graph = tf.get_default_graph()\n",
    "\n",
    "    x0_tf = graph.get_tensor_by_name(\"x0_tf:0\")\n",
    "    t0_tf = graph.get_tensor_by_name(\"t0_tf:0\")\n",
    "    tf_dict = {x0_tf: X_star[:,0:1], t0_tf: X_star[:,1:2]}\n",
    "    u0_pred = graph.get_tensor_by_name(\"strided_slice_8:0\")\n",
    "    v0_pred = graph.get_tensor_by_name(\"strided_slice_9:0\")\n",
    "\n",
    "    u_star = sess.run(u0_pred, tf_dict)  \n",
    "    v_star = sess.run(v0_pred, tf_dict)  \n",
    "\n",
    "    x_f_tf = graph.get_tensor_by_name(\"x_f_tf:0\")\n",
    "    t_f_tf = graph.get_tensor_by_name(\"t_f_tf:0\")\n",
    "    tf_dict = {x_f_tf: X_star[:,0:1], t_f_tf: X_star[:,1:2]}\n",
    "    \n",
    "    f_u_pred = graph.get_tensor_by_name(\"add_53:0\")\n",
    "    f_v_pred = graph.get_tensor_by_name(\"sub_25:0\")\n",
    "\n",
    "    f_u_star = sess.run(f_u_pred, tf_dict)\n",
    "    f_v_star = sess.run(f_v_pred, tf_dict)\n",
    "\n",
    "    return u_star, v_star, f_u_star, f_v_star    "
   ]
  },
  {
   "cell_type": "code",
   "execution_count": 14,
   "id": "2655cc0d",
   "metadata": {
    "ExecuteTime": {
     "end_time": "2022-04-22T19:53:16.186050Z",
     "start_time": "2022-04-22T19:53:09.566954Z"
    }
   },
   "outputs": [
    {
     "name": "stdout",
     "output_type": "stream",
     "text": [
      "INFO:tensorflow:Restoring parameters from ./Schrodinger_model-0\n"
     ]
    }
   ],
   "source": [
    "sess=tf.Session()    \n",
    "#First let's load meta graph and restore weights\n",
    "saver = tf.train.import_meta_graph('Schrodinger_model-0.meta')\n",
    "saver.restore(sess,tf.train.latest_checkpoint('./'))"
   ]
  },
  {
   "cell_type": "code",
   "execution_count": 17,
   "id": "3cd6d1a4",
   "metadata": {
    "ExecuteTime": {
     "end_time": "2022-04-22T19:53:45.488427Z",
     "start_time": "2022-04-22T19:53:40.941544Z"
    }
   },
   "outputs": [],
   "source": [
    "u_star, v_star, f_u_star, f_v_star = reloaded_predict(sess, np.array([[.1, .01], \n",
    "                                                                     [.1, .02],\n",
    "                                                                     [.1, .03]]))"
   ]
  },
  {
   "cell_type": "code",
   "execution_count": null,
   "id": "664629b5",
   "metadata": {},
   "outputs": [],
   "source": []
  },
  {
   "cell_type": "code",
   "execution_count": null,
   "id": "3f825742",
   "metadata": {},
   "outputs": [],
   "source": []
  }
 ],
 "metadata": {
  "kernelspec": {
   "display_name": "Python 3 (ipykernel)",
   "language": "python",
   "name": "python3"
  },
  "language_info": {
   "codemirror_mode": {
    "name": "ipython",
    "version": 3
   },
   "file_extension": ".py",
   "mimetype": "text/x-python",
   "name": "python",
   "nbconvert_exporter": "python",
   "pygments_lexer": "ipython3",
   "version": "3.7.3"
  },
  "varInspector": {
   "cols": {
    "lenName": 16,
    "lenType": 16,
    "lenVar": 40
   },
   "kernels_config": {
    "python": {
     "delete_cmd_postfix": "",
     "delete_cmd_prefix": "del ",
     "library": "var_list.py",
     "varRefreshCmd": "print(var_dic_list())"
    },
    "r": {
     "delete_cmd_postfix": ") ",
     "delete_cmd_prefix": "rm(",
     "library": "var_list.r",
     "varRefreshCmd": "cat(var_dic_list()) "
    }
   },
   "types_to_exclude": [
    "module",
    "function",
    "builtin_function_or_method",
    "instance",
    "_Feature"
   ],
   "window_display": false
  }
 },
 "nbformat": 4,
 "nbformat_minor": 5
}
