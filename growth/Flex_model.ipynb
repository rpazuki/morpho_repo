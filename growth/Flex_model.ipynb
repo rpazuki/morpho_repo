{
 "cells": [
  {
   "cell_type": "code",
   "execution_count": 1,
   "id": "c411641d",
   "metadata": {
    "ExecuteTime": {
     "end_time": "2022-06-14T15:38:14.305081Z",
     "start_time": "2022-06-14T15:38:11.224471Z"
    }
   },
   "outputs": [],
   "source": [
    "%config Completer.use_jedi = False\n",
    "import sys\n",
    "import warnings\n",
    "warnings.filterwarnings('ignore')\n",
    "import tensorflow as tf\n",
    "from tensorflow import keras\n",
    "import numpy as np\n",
    "import matplotlib.pyplot as plt\n",
    "import scipy.io\n",
    "\n",
    "sys.path.append(\"/end/home/rh2310/morpho_repo\")\n",
    "import turing as tu\n",
    "from turing.utils import *\n",
    "import turing.loss_functions as tu_loss\n",
    "\n",
    "GPU = False\n",
    "import os\n",
    "\n",
    "if GPU:\n",
    "    txt_device = 'gpu:0'\n",
    "else:\n",
    "    txt_device = 'cpu:0'    \n",
    "    os.environ[\"CUDA_VISIBLE_DEVICES\"]=\"-1\"\n"
   ]
  },
  {
   "cell_type": "markdown",
   "id": "dceeeeda",
   "metadata": {
    "ExecuteTime": {
     "end_time": "2022-06-14T15:30:21.439857Z",
     "start_time": "2022-06-14T15:30:21.426515Z"
    }
   },
   "source": [
    "# Load the dataset"
   ]
  },
  {
   "cell_type": "code",
   "execution_count": 2,
   "id": "06a33134",
   "metadata": {
    "ExecuteTime": {
     "end_time": "2022-06-14T15:38:15.885277Z",
     "start_time": "2022-06-14T15:38:15.840414Z"
    }
   },
   "outputs": [],
   "source": [
    "layers = [3, 64, 64, 64, 64, 2]\n",
    "\n",
    "# Load Data\n",
    "import os\n",
    "data_path = os.path.abspath(\"turing.npy\")\n",
    "with open(data_path, 'rb') as f:\n",
    "    data = np.load(f)\n",
    "    \n",
    "data_path = os.path.abspath(\"turing_t.npy\")\n",
    "with open(data_path, 'rb') as f:\n",
    "    t_star = np.load(f) \n",
    "    \n",
    "T = t_star.shape[0]    \n",
    "    \n",
    "L = 50\n",
    "x_size = data.shape[1]\n",
    "y_size = data.shape[2]\n",
    "N = x_size*y_size\n",
    "x_domain = L*np.linspace(0,1,x_size)\n",
    "y_domain = L*np.linspace(0,1,y_size)\n",
    "\n",
    "X,Y = np.meshgrid(x_domain, y_domain, sparse=False, indexing='ij')\n",
    "XX = np.tile(X.flatten(), T) # N x T\n",
    "YY = np.tile(Y.flatten(), T) # N x T\n",
    "TT = np.repeat(t_star[-T:], N) # T x N\n",
    "\n",
    "AA = np.einsum('ijk->kij', data[0, :, :, -T:]).flatten() # N x T\n",
    "SS = np.einsum('ijk->kij', data[1, :, :, -T:]).flatten() # N x T\n",
    "\n",
    "\n",
    "boundary_x_LB = np.concatenate((x_domain, \n",
    "                                np.repeat(x_domain[0], y_size)))\n",
    "boundary_x_TR = np.concatenate((x_domain, \n",
    "                                np.repeat(x_domain[-1], y_size))) \n",
    "\n",
    "boundary_y_LB = np.concatenate((np.repeat(y_domain[0], x_size),\n",
    "                                y_domain))\n",
    "boundary_y_TR = np.concatenate((np.repeat(y_domain[-1], x_size),\n",
    "                                y_domain)) \n",
    "\n",
    "boundary_XX_LB = np.tile(boundary_x_LB.flatten(), T)[:, np.newaxis] # (x_size + y_size) x T, 1\n",
    "boundary_XX_TR = np.tile(boundary_x_TR.flatten(), T)[:, np.newaxis] # (x_size + y_size) x T, 1\n",
    "boundary_YY_LB = np.tile(boundary_y_LB.flatten(), T)[:, np.newaxis] # (x_size + y_size) x T, 1\n",
    "boundary_YY_TR = np.tile(boundary_y_TR.flatten(), T)[:, np.newaxis] # (x_size + y_size) x T, 1\n",
    "boundary_TT = np.repeat(t_star[-T:], (x_size + y_size))[:, np.newaxis] # T x (x_size + y_size), 1\n",
    "\n",
    "\n",
    "def create_dataset(training_data_size =  T*16,\n",
    "                   pde_data_size =  (T*N)//(32),\n",
    "                   boundary_data_size = ((x_size + y_size)*T)//(8),\n",
    "                   with_boundary = True,\n",
    "                   signal_to_noise = 0):\n",
    "    \n",
    "    ##########################################\n",
    "    # Including noise\n",
    "    if signal_to_noise > 0:\n",
    "        signal_amp_a = (np.max(AA)-np.min(AA))/2.0\n",
    "        signal_amp_s = (np.max(SS)-np.min(SS))/2.0  \n",
    "        sigma_a =  signal_amp_a*signal_to_noise\n",
    "        sigma_s =  signal_amp_s*signal_to_noise\n",
    "    # Observed data\n",
    "    idx_data = np.random.choice(N*T, training_data_size, replace=False)\n",
    "    # PDE colocations\n",
    "    idx_pde = np.random.choice(N*T, pde_data_size, replace=False)\n",
    "    # Periodic boundary condition\n",
    "    idx_boundary = np.random.choice((x_size + y_size)*T, boundary_data_size, replace=False)\n",
    "    \n",
    "    ret = {'obs_input': np.c_[XX[idx_data], YY[idx_data],TT[idx_data]],\n",
    "           'obs_output': np.c_[AA[idx_data], SS[idx_data]],\n",
    "           'pde':   np.c_[XX[idx_pde], YY[idx_pde], TT[idx_pde]]}\n",
    "    \n",
    "    if signal_to_noise > 0:        \n",
    "        ret['obs_output'][0] += sigma_a * np.random.randn(len(idx_data), a.shape[1])\n",
    "        ret['obs_output'][1] += sigma_s * np.random.randn(len(idx_data), s.shape[1])\n",
    "    \n",
    "    if with_boundary:\n",
    "        ret = {**ret,\n",
    "               **{'boundary_LB': np.c_[boundary_XX_LB[idx_boundary], \n",
    "                                       boundary_YY_LB[idx_boundary],\n",
    "                                       boundary_TT[idx_boundary]],\n",
    "                  'boundary_TR': np.c_[boundary_XX_TR[idx_boundary],\n",
    "                                       boundary_YY_TR[idx_boundary],\n",
    "                                       boundary_TT[idx_boundary]]\n",
    "                 }\n",
    "              }\n",
    "    return ret\n",
    "\n"
   ]
  },
  {
   "cell_type": "markdown",
   "id": "5c9fae1c",
   "metadata": {},
   "source": [
    "# Create a TINN model"
   ]
  },
  {
   "cell_type": "code",
   "execution_count": 3,
   "id": "84904ad8",
   "metadata": {
    "ExecuteTime": {
     "end_time": "2022-06-14T15:38:17.167245Z",
     "start_time": "2022-06-14T15:38:17.072993Z"
    }
   },
   "outputs": [],
   "source": [
    "model_params_1 = {'training_data_size': T*16,\n",
    "                'pde_data_size': (T*N)//(32),\n",
    "                'boundary_data_size':((x_size + y_size)*T)//(8)}\n",
    "\n",
    "dataset = create_dataset(**model_params_1)\n",
    "lb, ub = lower_upper_bounds([np.c_[XX, YY, TT]])"
   ]
  },
  {
   "cell_type": "code",
   "execution_count": 4,
   "id": "98fba887",
   "metadata": {
    "ExecuteTime": {
     "end_time": "2022-06-14T15:38:18.000789Z",
     "start_time": "2022-06-14T15:38:17.967350Z"
    }
   },
   "outputs": [
    {
     "name": "stderr",
     "output_type": "stream",
     "text": [
      "2022-06-14 16:38:17.984617: E tensorflow/stream_executor/cuda/cuda_driver.cc:271] failed call to cuInit: CUDA_ERROR_NO_DEVICE: no CUDA-capable device is detected\n",
      "2022-06-14 16:38:17.984686: I tensorflow/stream_executor/cuda/cuda_diagnostics.cc:169] retrieving CUDA diagnostic information for host: ld-rendres10\n",
      "2022-06-14 16:38:17.984717: I tensorflow/stream_executor/cuda/cuda_diagnostics.cc:176] hostname: ld-rendres10\n",
      "2022-06-14 16:38:17.984797: I tensorflow/stream_executor/cuda/cuda_diagnostics.cc:200] libcuda reported version is: 440.33.1\n",
      "2022-06-14 16:38:17.985219: I tensorflow/stream_executor/cuda/cuda_diagnostics.cc:204] kernel reported version is: 440.33.1\n",
      "2022-06-14 16:38:17.985232: I tensorflow/stream_executor/cuda/cuda_diagnostics.cc:310] kernel version seems to match DSO: 440.33.1\n"
     ]
    }
   ],
   "source": [
    "pinn = tu.NN(layers, lb, ub)\n",
    "loss_stack = [\n",
    "          tu_loss.Observations(pinn,\n",
    "                               inputs_obs = dataset['obs_input'],\n",
    "                               outputs_obs = dataset['obs_output']),\n",
    "          tu_loss.Periodic_boundary(pinn,\n",
    "                                   inputs_LB_boundary = dataset['boundary_LB'], \n",
    "                                   inputs_TR_boundary = dataset['boundary_TR']),\n",
    "          tu_loss.ASDM(pinn,\n",
    "                       inputs_pde = dataset['pde'])\n",
    "            ]"
   ]
  },
  {
   "cell_type": "code",
   "execution_count": 5,
   "id": "c113ada9",
   "metadata": {
    "ExecuteTime": {
     "end_time": "2022-06-14T15:38:19.036555Z",
     "start_time": "2022-06-14T15:38:19.030580Z"
    }
   },
   "outputs": [],
   "source": [
    "model = tu.TINN(pinn, loss_stack)"
   ]
  },
  {
   "cell_type": "code",
   "execution_count": 6,
   "id": "c24cfea1",
   "metadata": {
    "ExecuteTime": {
     "end_time": "2022-06-14T15:38:52.516576Z",
     "start_time": "2022-06-14T15:38:19.791524Z"
    },
    "scrolled": true
   },
   "outputs": [
    {
     "name": "stdout",
     "output_type": "stream",
     "text": [
      "Epoch: 0, loss:35782.16\n",
      "Loss_observations:21290.84117414 \n",
      "Loss_Periodic_Boundary:148.35666737 \n",
      "Loss_ASDM:14342.96523517 sigma_a:0:0.00550088, sigma_s:0:0.99212036, mu_a:0:0.99337005, rho_a:0:0.99909805, rho_s:0:1.00617647, kappa_a:0:0.99933922\n",
      "Time:8.54\n",
      "\n",
      "WARNING:tensorflow:5 out of the last 17 calls to <function TINN.train_step at 0x7f45184d3490> triggered tf.function retracing. Tracing is expensive and the excessive number of tracings could be due to (1) creating @tf.function repeatedly in a loop, (2) passing tensors with different shapes, (3) passing Python objects instead of tensors. For (1), please define your @tf.function outside of the loop. For (2), @tf.function has reduce_retracing=True option that can avoid unnecessary retracing. For (3), please refer to https://www.tensorflow.org/guide/function#controlling_retracing and https://www.tensorflow.org/api_docs/python/tf/function for  more details.\n",
      "WARNING:tensorflow:5 out of the last 17 calls to <function TINN.train_step at 0x7f45184d3490> triggered tf.function retracing. Tracing is expensive and the excessive number of tracings could be due to (1) creating @tf.function repeatedly in a loop, (2) passing tensors with different shapes, (3) passing Python objects instead of tensors. For (1), please define your @tf.function outside of the loop. For (2), @tf.function has reduce_retracing=True option that can avoid unnecessary retracing. For (3), please refer to https://www.tensorflow.org/guide/function#controlling_retracing and https://www.tensorflow.org/api_docs/python/tf/function for  more details.\n",
      "Epoch: 4, loss:4136.42\n",
      "Loss_observations:2277.97320737 \n",
      "Loss_Periodic_Boundary:9.35589391 \n",
      "Loss_ASDM:1849.09022772 sigma_a:0:0.03542401, sigma_s:0:0.97255828, mu_a:0:0.96067245, rho_a:0:1.03042694, rho_s:0:1.01962660, kappa_a:0:0.98359472\n",
      "Time:10.68\n",
      "\n",
      "Epoch: 8, loss:2955.60\n",
      "Loss_observations:2620.43305905 \n",
      "Loss_Periodic_Boundary:4.43195952 \n",
      "Loss_ASDM:330.73293795 sigma_a:0:0.05867701, sigma_s:0:0.96503302, mu_a:0:0.93148148, rho_a:0:1.06177817, rho_s:0:1.03645190, kappa_a:0:0.95735996\n",
      "Time:10.58\n",
      "\n"
     ]
    }
   ],
   "source": [
    "arr_total_loss, arr_losses = model.train(10,batch_size=dataset['obs_input'].shape[0]//8, print_iter=4)"
   ]
  },
  {
   "cell_type": "code",
   "execution_count": null,
   "id": "012018b0",
   "metadata": {},
   "outputs": [],
   "source": []
  }
 ],
 "metadata": {
  "kernelspec": {
   "display_name": "Python 3 (ipykernel)",
   "language": "python",
   "name": "python3"
  },
  "language_info": {
   "codemirror_mode": {
    "name": "ipython",
    "version": 3
   },
   "file_extension": ".py",
   "mimetype": "text/x-python",
   "name": "python",
   "nbconvert_exporter": "python",
   "pygments_lexer": "ipython3",
   "version": "3.10.4"
  },
  "varInspector": {
   "cols": {
    "lenName": 16,
    "lenType": 16,
    "lenVar": 40
   },
   "kernels_config": {
    "python": {
     "delete_cmd_postfix": "",
     "delete_cmd_prefix": "del ",
     "library": "var_list.py",
     "varRefreshCmd": "print(var_dic_list())"
    },
    "r": {
     "delete_cmd_postfix": ") ",
     "delete_cmd_prefix": "rm(",
     "library": "var_list.r",
     "varRefreshCmd": "cat(var_dic_list()) "
    }
   },
   "types_to_exclude": [
    "module",
    "function",
    "builtin_function_or_method",
    "instance",
    "_Feature"
   ],
   "window_display": false
  }
 },
 "nbformat": 4,
 "nbformat_minor": 5
}
