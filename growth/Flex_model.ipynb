{
 "cells": [
  {
   "cell_type": "code",
   "execution_count": 1,
   "id": "2efa28f2",
   "metadata": {
    "ExecuteTime": {
     "end_time": "2022-06-14T16:08:03.604398Z",
     "start_time": "2022-06-14T16:08:00.543155Z"
    }
   },
   "outputs": [],
   "source": [
    "%config Completer.use_jedi = False\n",
    "import sys\n",
    "import warnings\n",
    "warnings.filterwarnings('ignore')\n",
    "import tensorflow as tf\n",
    "from tensorflow import keras\n",
    "import numpy as np\n",
    "import matplotlib.pyplot as plt\n",
    "import scipy.io\n",
    "\n",
    "sys.path.append(\"/end/home/rh2310/morpho_repo\")\n",
    "import turing as tu\n",
    "from turing.utils import *\n",
    "import turing.loss_functions as tu_loss\n",
    "\n",
    "GPU = False\n",
    "import os\n",
    "\n",
    "if GPU:\n",
    "    txt_device = 'gpu:0'\n",
    "else:\n",
    "    txt_device = 'cpu:0'    \n",
    "    os.environ[\"CUDA_VISIBLE_DEVICES\"]=\"-1\"\n"
   ]
  },
  {
   "cell_type": "markdown",
   "id": "8a3259ef",
   "metadata": {
    "ExecuteTime": {
     "end_time": "2022-06-14T15:30:21.439857Z",
     "start_time": "2022-06-14T15:30:21.426515Z"
    }
   },
   "source": [
    "# Load the dataset"
   ]
  },
  {
   "cell_type": "code",
   "execution_count": 2,
   "id": "94b5405a",
   "metadata": {
    "ExecuteTime": {
     "end_time": "2022-06-14T16:08:04.997858Z",
     "start_time": "2022-06-14T16:08:04.959787Z"
    }
   },
   "outputs": [],
   "source": [
    "layers = [3, 64, 64, 64, 64, 2]\n",
    "\n",
    "# Load Data\n",
    "import os\n",
    "data_path = os.path.abspath(\"turing.npy\")\n",
    "with open(data_path, 'rb') as f:\n",
    "    data = np.load(f)\n",
    "    \n",
    "data_path = os.path.abspath(\"turing_t.npy\")\n",
    "with open(data_path, 'rb') as f:\n",
    "    t_star = np.load(f) \n",
    "    \n",
    "T = t_star.shape[0]    \n",
    "    \n",
    "L = 50\n",
    "x_size = data.shape[1]\n",
    "y_size = data.shape[2]\n",
    "N = x_size*y_size\n",
    "x_domain = L*np.linspace(0,1,x_size)\n",
    "y_domain = L*np.linspace(0,1,y_size)\n",
    "\n",
    "X,Y = np.meshgrid(x_domain, y_domain, sparse=False, indexing='ij')\n",
    "XX = np.tile(X.flatten(), T) # N x T\n",
    "YY = np.tile(Y.flatten(), T) # N x T\n",
    "TT = np.repeat(t_star[-T:], N) # T x N\n",
    "\n",
    "AA = np.einsum('ijk->kij', data[0, :, :, -T:]).flatten() # N x T\n",
    "SS = np.einsum('ijk->kij', data[1, :, :, -T:]).flatten() # N x T\n",
    "\n",
    "\n",
    "boundary_x_LB = np.concatenate((x_domain, \n",
    "                                np.repeat(x_domain[0], y_size)))\n",
    "boundary_x_TR = np.concatenate((x_domain, \n",
    "                                np.repeat(x_domain[-1], y_size))) \n",
    "\n",
    "boundary_y_LB = np.concatenate((np.repeat(y_domain[0], x_size),\n",
    "                                y_domain))\n",
    "boundary_y_TR = np.concatenate((np.repeat(y_domain[-1], x_size),\n",
    "                                y_domain)) \n",
    "\n",
    "boundary_XX_LB = np.tile(boundary_x_LB.flatten(), T)[:, np.newaxis] # (x_size + y_size) x T, 1\n",
    "boundary_XX_TR = np.tile(boundary_x_TR.flatten(), T)[:, np.newaxis] # (x_size + y_size) x T, 1\n",
    "boundary_YY_LB = np.tile(boundary_y_LB.flatten(), T)[:, np.newaxis] # (x_size + y_size) x T, 1\n",
    "boundary_YY_TR = np.tile(boundary_y_TR.flatten(), T)[:, np.newaxis] # (x_size + y_size) x T, 1\n",
    "boundary_TT = np.repeat(t_star[-T:], (x_size + y_size))[:, np.newaxis] # T x (x_size + y_size), 1\n",
    "\n",
    "\n",
    "def create_dataset(training_data_size =  T*16,\n",
    "                   pde_data_size =  (T*N)//(32),\n",
    "                   boundary_data_size = ((x_size + y_size)*T)//(8),\n",
    "                   with_boundary = True,\n",
    "                   signal_to_noise = 0):\n",
    "    \n",
    "    ##########################################\n",
    "    # Including noise\n",
    "    if signal_to_noise > 0:\n",
    "        signal_amp_a = (np.max(AA)-np.min(AA))/2.0\n",
    "        signal_amp_s = (np.max(SS)-np.min(SS))/2.0  \n",
    "        sigma_a =  signal_amp_a*signal_to_noise\n",
    "        sigma_s =  signal_amp_s*signal_to_noise\n",
    "    # Observed data\n",
    "    idx_data = np.random.choice(N*T, training_data_size, replace=False)\n",
    "    # PDE colocations\n",
    "    idx_pde = np.random.choice(N*T, pde_data_size, replace=False)\n",
    "    # Periodic boundary condition\n",
    "    idx_boundary = np.random.choice((x_size + y_size)*T, boundary_data_size, replace=False)\n",
    "    \n",
    "    ret = {'obs_input': np.c_[XX[idx_data], YY[idx_data],TT[idx_data]],\n",
    "           'obs_output': np.c_[AA[idx_data], SS[idx_data]],\n",
    "           'pde':   np.c_[XX[idx_pde], YY[idx_pde], TT[idx_pde]]}\n",
    "    \n",
    "    if signal_to_noise > 0:        \n",
    "        ret['obs_output'][0] += sigma_a * np.random.randn(len(idx_data), a.shape[1])\n",
    "        ret['obs_output'][1] += sigma_s * np.random.randn(len(idx_data), s.shape[1])\n",
    "    \n",
    "    if with_boundary:\n",
    "        ret = {**ret,\n",
    "               **{'boundary_LB': np.c_[boundary_XX_LB[idx_boundary], \n",
    "                                       boundary_YY_LB[idx_boundary],\n",
    "                                       boundary_TT[idx_boundary]],\n",
    "                  'boundary_TR': np.c_[boundary_XX_TR[idx_boundary],\n",
    "                                       boundary_YY_TR[idx_boundary],\n",
    "                                       boundary_TT[idx_boundary]]\n",
    "                 }\n",
    "              }\n",
    "    return ret\n",
    "\n"
   ]
  },
  {
   "cell_type": "markdown",
   "id": "9c5a5381",
   "metadata": {},
   "source": [
    "# Create a TINN model"
   ]
  },
  {
   "cell_type": "code",
   "execution_count": 3,
   "id": "0f3f3f21",
   "metadata": {
    "ExecuteTime": {
     "end_time": "2022-06-14T16:08:06.263515Z",
     "start_time": "2022-06-14T16:08:06.172308Z"
    }
   },
   "outputs": [],
   "source": [
    "model_params_1 = {'training_data_size': T*16,\n",
    "                'pde_data_size': (T*N)//(32),\n",
    "                'boundary_data_size':((x_size + y_size)*T)//(8)}\n",
    "\n",
    "dataset = create_dataset(**model_params_1)\n",
    "lb, ub = lower_upper_bounds([np.c_[XX, YY, TT]])"
   ]
  },
  {
   "cell_type": "code",
   "execution_count": 4,
   "id": "dec92f88",
   "metadata": {
    "ExecuteTime": {
     "end_time": "2022-06-14T16:08:06.917677Z",
     "start_time": "2022-06-14T16:08:06.886290Z"
    }
   },
   "outputs": [
    {
     "name": "stderr",
     "output_type": "stream",
     "text": [
      "2022-06-14 17:08:06.901655: E tensorflow/stream_executor/cuda/cuda_driver.cc:271] failed call to cuInit: CUDA_ERROR_NO_DEVICE: no CUDA-capable device is detected\n",
      "2022-06-14 17:08:06.901710: I tensorflow/stream_executor/cuda/cuda_diagnostics.cc:169] retrieving CUDA diagnostic information for host: ld-rendres10\n",
      "2022-06-14 17:08:06.901725: I tensorflow/stream_executor/cuda/cuda_diagnostics.cc:176] hostname: ld-rendres10\n",
      "2022-06-14 17:08:06.901801: I tensorflow/stream_executor/cuda/cuda_diagnostics.cc:200] libcuda reported version is: 440.33.1\n",
      "2022-06-14 17:08:06.901876: I tensorflow/stream_executor/cuda/cuda_diagnostics.cc:204] kernel reported version is: 440.33.1\n",
      "2022-06-14 17:08:06.901892: I tensorflow/stream_executor/cuda/cuda_diagnostics.cc:310] kernel version seems to match DSO: 440.33.1\n"
     ]
    }
   ],
   "source": [
    "pinn = tu.NN(layers, lb, ub)\n",
    "loss_stack = [\n",
    "          tu_loss.Observations(pinn,\n",
    "                               inputs_obs = dataset['obs_input'],\n",
    "                               outputs_obs = dataset['obs_output']),\n",
    "          tu_loss.Periodic_boundary(pinn,\n",
    "                                   inputs_LB_boundary = dataset['boundary_LB'], \n",
    "                                   inputs_TR_boundary = dataset['boundary_TR']),\n",
    "          tu_loss.ASDM(pinn,\n",
    "                       inputs_pde = dataset['pde'])\n",
    "            ]"
   ]
  },
  {
   "cell_type": "code",
   "execution_count": 5,
   "id": "442cb26d",
   "metadata": {
    "ExecuteTime": {
     "end_time": "2022-06-14T16:08:07.995664Z",
     "start_time": "2022-06-14T16:08:07.992349Z"
    }
   },
   "outputs": [],
   "source": [
    "model = tu.TINN(pinn, loss_stack)"
   ]
  },
  {
   "cell_type": "code",
   "execution_count": 6,
   "id": "65878279",
   "metadata": {
    "ExecuteTime": {
     "end_time": "2022-06-14T16:08:41.300494Z",
     "start_time": "2022-06-14T16:08:09.587609Z"
    },
    "scrolled": true
   },
   "outputs": [
    {
     "name": "stdout",
     "output_type": "stream",
     "text": [
      "Epoch: 0, loss:35976.96\n",
      "Loss_observations:21608.47809222 \n",
      "Loss_Periodic_Boundary:73.77965225 \n",
      "Loss_ASDM:14294.70120924 sigma_a:0:0.00595932, sigma_s:0:0.99212015, mu_a:0:0.99306361, rho_a:0:1.00667022, rho_s:0:1.00671437, kappa_a:0:0.99352627\n",
      "Time:5.37\n",
      "\n",
      "Epoch: 1, loss:28573.81\n",
      "Loss_observations:14470.07255392 \n",
      "Loss_Periodic_Boundary:53.53907708 \n",
      "Loss_ASDM:14050.20317824 sigma_a:0:0.01364843, sigma_s:0:0.98465659, mu_a:0:0.98584636, rho_a:0:1.01265195, rho_s:0:1.01311173, kappa_a:0:0.98797151\n",
      "Time:3.03\n",
      "\n",
      "WARNING:tensorflow:5 out of the last 17 calls to <function TINN.train_step at 0x7f639823b130> triggered tf.function retracing. Tracing is expensive and the excessive number of tracings could be due to (1) creating @tf.function repeatedly in a loop, (2) passing tensors with different shapes, (3) passing Python objects instead of tensors. For (1), please define your @tf.function outside of the loop. For (2), @tf.function has reduce_retracing=True option that can avoid unnecessary retracing. For (3), please refer to https://www.tensorflow.org/guide/function#controlling_retracing and https://www.tensorflow.org/api_docs/python/tf/function for  more details.\n",
      "Epoch: 2, loss:12460.10\n",
      "Loss_observations:4456.36809543 \n",
      "Loss_Periodic_Boundary:16.19687168 \n",
      "Loss_ASDM:7987.53257366 sigma_a:0:0.02219377, sigma_s:0:0.97784687, mu_a:0:0.97770634, rho_a:0:1.01983247, rho_s:0:1.02076007, kappa_a:0:0.98117989\n",
      "Time:3.02\n",
      "\n",
      "WARNING:tensorflow:5 out of the last 17 calls to <function TINN.train_step at 0x7f639823b130> triggered tf.function retracing. Tracing is expensive and the excessive number of tracings could be due to (1) creating @tf.function repeatedly in a loop, (2) passing tensors with different shapes, (3) passing Python objects instead of tensors. For (1), please define your @tf.function outside of the loop. For (2), @tf.function has reduce_retracing=True option that can avoid unnecessary retracing. For (3), please refer to https://www.tensorflow.org/guide/function#controlling_retracing and https://www.tensorflow.org/api_docs/python/tf/function for  more details.\n",
      "Epoch: 3, loss:6123.36\n",
      "Loss_observations:5175.57606866 \n",
      "Loss_Periodic_Boundary:15.36378627 \n",
      "Loss_ASDM:932.42233842 sigma_a:0:0.02894487, sigma_s:0:0.97480350, mu_a:0:0.97004143, rho_a:0:1.02781508, rho_s:0:1.01914176, kappa_a:0:0.98109114\n",
      "Time:2.78\n",
      "\n",
      "Epoch: 4, loss:4214.91\n",
      "Loss_observations:2420.51089655 \n",
      "Loss_Periodic_Boundary:7.88661299 \n",
      "Loss_ASDM:1786.51216491 sigma_a:0:0.03520978, sigma_s:0:0.97260032, mu_a:0:0.96236457, rho_a:0:1.03628645, rho_s:0:1.01967629, kappa_a:0:0.97839866\n",
      "Time:2.91\n",
      "\n",
      "Epoch: 5, loss:3654.46\n",
      "Loss_observations:2598.34225157 \n",
      "Loss_Periodic_Boundary:5.75721156 \n",
      "Loss_ASDM:1050.36127959 sigma_a:0:0.04218252, sigma_s:0:0.97005686, mu_a:0:0.95378286, rho_a:0:1.04553613, rho_s:0:1.02400001, kappa_a:0:0.97161861\n",
      "Time:2.80\n",
      "\n",
      "Epoch: 6, loss:3317.53\n",
      "Loss_observations:3166.93436314 \n",
      "Loss_Periodic_Boundary:4.63888330 \n",
      "Loss_ASDM:145.95706034 sigma_a:0:0.04790618, sigma_s:0:0.96861840, mu_a:0:0.94639689, rho_a:0:1.05371990, rho_s:0:1.02676428, kappa_a:0:0.96573205\n",
      "Time:3.04\n",
      "\n",
      "Epoch: 7, loss:3122.40\n",
      "Loss_observations:2491.67091824 \n",
      "Loss_Periodic_Boundary:3.48642248 \n",
      "Loss_ASDM:627.24305633 sigma_a:0:0.05299858, sigma_s:0:0.96699096, mu_a:0:0.93989254, rho_a:0:1.06095474, rho_s:0:1.03080644, kappa_a:0:0.95928536\n",
      "Time:3.07\n",
      "\n",
      "Epoch: 8, loss:2958.26\n",
      "Loss_observations:2661.72617034 \n",
      "Loss_Periodic_Boundary:3.82380925 \n",
      "Loss_ASDM:292.70540971 sigma_a:0:0.05797669, sigma_s:0:0.96528166, mu_a:0:0.93353096, rho_a:0:1.06795538, rho_s:0:1.03542140, kappa_a:0:0.95243538\n",
      "Time:2.81\n",
      "\n",
      "Epoch: 9, loss:2846.22\n",
      "Loss_observations:2620.16732947 \n",
      "Loss_Periodic_Boundary:5.52529664 \n",
      "Loss_ASDM:220.53019576 sigma_a:0:0.06235337, sigma_s:0:0.96381454, mu_a:0:0.92787846, rho_a:0:1.07418090, rho_s:0:1.03958043, kappa_a:0:0.94617374\n",
      "Time:2.88\n",
      "\n"
     ]
    }
   ],
   "source": [
    "arr_total_loss, arr_losses = model.train(10,batch_size=dataset['obs_input'].shape[0]//8, print_iter=1)"
   ]
  },
  {
   "cell_type": "code",
   "execution_count": null,
   "id": "ab8e56b8",
   "metadata": {},
   "outputs": [],
   "source": []
  }
 ],
 "metadata": {
  "kernelspec": {
   "display_name": "Python 3 (ipykernel)",
   "language": "python",
   "name": "python3"
  },
  "language_info": {
   "codemirror_mode": {
    "name": "ipython",
    "version": 3
   },
   "file_extension": ".py",
   "mimetype": "text/x-python",
   "name": "python",
   "nbconvert_exporter": "python",
   "pygments_lexer": "ipython3",
   "version": "3.10.4"
  },
  "varInspector": {
   "cols": {
    "lenName": 16,
    "lenType": 16,
    "lenVar": 40
   },
   "kernels_config": {
    "python": {
     "delete_cmd_postfix": "",
     "delete_cmd_prefix": "del ",
     "library": "var_list.py",
     "varRefreshCmd": "print(var_dic_list())"
    },
    "r": {
     "delete_cmd_postfix": ") ",
     "delete_cmd_prefix": "rm(",
     "library": "var_list.r",
     "varRefreshCmd": "cat(var_dic_list()) "
    }
   },
   "types_to_exclude": [
    "module",
    "function",
    "builtin_function_or_method",
    "instance",
    "_Feature"
   ],
   "window_display": false
  }
 },
 "nbformat": 4,
 "nbformat_minor": 5
}
