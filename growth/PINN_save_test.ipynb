{
 "cells": [
  {
   "cell_type": "code",
   "execution_count": 1,
   "id": "23383b1b",
   "metadata": {
    "ExecuteTime": {
     "end_time": "2022-11-16T09:35:06.247023Z",
     "start_time": "2022-11-16T09:34:50.495438Z"
    },
    "scrolled": true
   },
   "outputs": [
    {
     "name": "stderr",
     "output_type": "stream",
     "text": [
      "2022-11-16 09:34:51.930170: I tensorflow/stream_executor/platform/default/dso_loader.cc:48] Successfully opened dynamic library libcudart.so.10.1\n",
      "2022-11-16 09:35:05.356398: I tensorflow/stream_executor/platform/default/dso_loader.cc:48] Successfully opened dynamic library libcuda.so.1\n",
      "2022-11-16 09:35:05.373921: I tensorflow/core/common_runtime/gpu/gpu_device.cc:1716] Found device 0 with properties: \n",
      "pciBusID: 0000:2d:00.0 name: Quadro RTX 6000 computeCapability: 7.5\n",
      "coreClock: 1.77GHz coreCount: 72 deviceMemorySize: 23.65GiB deviceMemoryBandwidth: 625.94GiB/s\n",
      "2022-11-16 09:35:05.373987: I tensorflow/stream_executor/platform/default/dso_loader.cc:48] Successfully opened dynamic library libcudart.so.10.1\n",
      "2022-11-16 09:35:05.378552: I tensorflow/stream_executor/platform/default/dso_loader.cc:48] Successfully opened dynamic library libcublas.so.10\n",
      "2022-11-16 09:35:05.382037: I tensorflow/stream_executor/platform/default/dso_loader.cc:48] Successfully opened dynamic library libcufft.so.10\n",
      "2022-11-16 09:35:05.383216: I tensorflow/stream_executor/platform/default/dso_loader.cc:48] Successfully opened dynamic library libcurand.so.10\n",
      "2022-11-16 09:35:05.386958: I tensorflow/stream_executor/platform/default/dso_loader.cc:48] Successfully opened dynamic library libcusolver.so.10\n",
      "2022-11-16 09:35:05.388508: I tensorflow/stream_executor/platform/default/dso_loader.cc:48] Successfully opened dynamic library libcusparse.so.10\n",
      "2022-11-16 09:35:05.394329: I tensorflow/stream_executor/platform/default/dso_loader.cc:48] Successfully opened dynamic library libcudnn.so.7\n",
      "2022-11-16 09:35:05.395383: I tensorflow/core/common_runtime/gpu/gpu_device.cc:1858] Adding visible gpu devices: 0\n",
      "2022-11-16 09:35:05.396171: I tensorflow/core/platform/cpu_feature_guard.cc:142] This TensorFlow binary is optimized with oneAPI Deep Neural Network Library (oneDNN)to use the following CPU instructions in performance-critical operations:  AVX2 AVX512F FMA\n",
      "To enable them in other operations, rebuild TensorFlow with the appropriate compiler flags.\n",
      "2022-11-16 09:35:05.411350: I tensorflow/core/platform/profile_utils/cpu_utils.cc:104] CPU Frequency: 3400000000 Hz\n",
      "2022-11-16 09:35:05.414849: I tensorflow/compiler/xla/service/service.cc:168] XLA service 0x55c36d01d6f0 initialized for platform Host (this does not guarantee that XLA will be used). Devices:\n",
      "2022-11-16 09:35:05.414869: I tensorflow/compiler/xla/service/service.cc:176]   StreamExecutor device (0): Host, Default Version\n",
      "2022-11-16 09:35:05.540442: I tensorflow/compiler/xla/service/service.cc:168] XLA service 0x55c36d089bb0 initialized for platform CUDA (this does not guarantee that XLA will be used). Devices:\n",
      "2022-11-16 09:35:05.540495: I tensorflow/compiler/xla/service/service.cc:176]   StreamExecutor device (0): Quadro RTX 6000, Compute Capability 7.5\n",
      "2022-11-16 09:35:05.541773: I tensorflow/core/common_runtime/gpu/gpu_device.cc:1716] Found device 0 with properties: \n",
      "pciBusID: 0000:2d:00.0 name: Quadro RTX 6000 computeCapability: 7.5\n",
      "coreClock: 1.77GHz coreCount: 72 deviceMemorySize: 23.65GiB deviceMemoryBandwidth: 625.94GiB/s\n",
      "2022-11-16 09:35:05.541831: I tensorflow/stream_executor/platform/default/dso_loader.cc:48] Successfully opened dynamic library libcudart.so.10.1\n",
      "2022-11-16 09:35:05.541878: I tensorflow/stream_executor/platform/default/dso_loader.cc:48] Successfully opened dynamic library libcublas.so.10\n",
      "2022-11-16 09:35:05.541905: I tensorflow/stream_executor/platform/default/dso_loader.cc:48] Successfully opened dynamic library libcufft.so.10\n",
      "2022-11-16 09:35:05.541932: I tensorflow/stream_executor/platform/default/dso_loader.cc:48] Successfully opened dynamic library libcurand.so.10\n",
      "2022-11-16 09:35:05.541959: I tensorflow/stream_executor/platform/default/dso_loader.cc:48] Successfully opened dynamic library libcusolver.so.10\n",
      "2022-11-16 09:35:05.541985: I tensorflow/stream_executor/platform/default/dso_loader.cc:48] Successfully opened dynamic library libcusparse.so.10\n",
      "2022-11-16 09:35:05.542013: I tensorflow/stream_executor/platform/default/dso_loader.cc:48] Successfully opened dynamic library libcudnn.so.7\n",
      "2022-11-16 09:35:05.543702: I tensorflow/core/common_runtime/gpu/gpu_device.cc:1858] Adding visible gpu devices: 0\n",
      "2022-11-16 09:35:05.543757: I tensorflow/stream_executor/platform/default/dso_loader.cc:48] Successfully opened dynamic library libcudart.so.10.1\n",
      "2022-11-16 09:35:06.076243: I tensorflow/core/common_runtime/gpu/gpu_device.cc:1257] Device interconnect StreamExecutor with strength 1 edge matrix:\n",
      "2022-11-16 09:35:06.076280: I tensorflow/core/common_runtime/gpu/gpu_device.cc:1263]      0 \n",
      "2022-11-16 09:35:06.076287: I tensorflow/core/common_runtime/gpu/gpu_device.cc:1276] 0:   N \n",
      "2022-11-16 09:35:06.077246: I tensorflow/core/common_runtime/gpu/gpu_device.cc:1402] Created TensorFlow device (/job:localhost/replica:0/task:0/device:GPU:0 with 1824 MB memory) -> physical GPU (device: 0, name: Quadro RTX 6000, pci bus id: 0000:2d:00.0, compute capability: 7.5)\n"
     ]
    }
   ],
   "source": [
    "%config Completer.use_jedi = False\n",
    "import sys\n",
    "import warnings\n",
    "warnings.filterwarnings('ignore')\n",
    "import tensorflow as tf\n",
    "import numpy as np\n",
    "import matplotlib.pyplot as plt\n",
    "import scipy.io\n",
    "import time\n",
    "import threading\n",
    "import gc\n",
    "import copy\n",
    "\n",
    "sys.path.append(\"/end/home/rh2310/morpho_repo/turing_codebase\")\n",
    "from turing.utils import *\n",
    "import turing.pinns as tu\n",
    "from turing.loss_functions import *\n",
    "\n",
    "GPU = True\n",
    "import os\n",
    "\n",
    "if GPU:\n",
    "    txt_device = 'gpu:0'\n",
    "else:\n",
    "    txt_device = 'cpu:0'    \n",
    "    os.environ[\"CUDA_VISIBLE_DEVICES\"]=\"-1\""
   ]
  },
  {
   "cell_type": "markdown",
   "id": "1b81d204",
   "metadata": {},
   "source": [
    "# Load data from the output of Brusselator model"
   ]
  },
  {
   "cell_type": "code",
   "execution_count": 2,
   "id": "79c9ff9c",
   "metadata": {
    "ExecuteTime": {
     "end_time": "2022-11-16T09:35:14.122767Z",
     "start_time": "2022-11-16T09:35:14.023673Z"
    }
   },
   "outputs": [],
   "source": [
    "ds = TINN_Dataset(tf.float32,\n",
    "                  np.array([1, 2, 3, 4]), \n",
    "                  np.array([1, 2, 3, 4]),\n",
    "                  np.array([1, 2, 3, 4, 5, 6, 7]), \n",
    "                  np.array([1, 2, 3, 4]),\n",
    "                  np.array([1, 2, 3, 4, 5, 6, 7, 8]))"
   ]
  },
  {
   "cell_type": "code",
   "execution_count": 3,
   "id": "3fd23664",
   "metadata": {
    "ExecuteTime": {
     "end_time": "2022-11-16T09:35:15.105779Z",
     "start_time": "2022-11-16T09:35:15.040366Z"
    }
   },
   "outputs": [
    {
     "data": {
      "text/plain": [
       "[(array([1., 2., 3.], dtype=float32),\n",
       "  array([1., 2., 3.], dtype=float32),\n",
       "  array([1., 2., 3.], dtype=float32),\n",
       "  array([1., 2., 3.], dtype=float32),\n",
       "  array([1., 2., 3.], dtype=float32)),\n",
       " (array([4., 1., 2.], dtype=float32),\n",
       "  array([4., 1., 2.], dtype=float32),\n",
       "  array([4., 5., 6.], dtype=float32),\n",
       "  array([4., 1., 2.], dtype=float32),\n",
       "  array([4., 5., 6.], dtype=float32)),\n",
       " (array([3., 4.], dtype=float32),\n",
       "  array([3., 4.], dtype=float32),\n",
       "  array([7., 1.], dtype=float32),\n",
       "  array([3., 4.], dtype=float32),\n",
       "  array([7., 8.], dtype=float32))]"
      ]
     },
     "execution_count": 3,
     "metadata": {},
     "output_type": "execute_result"
    }
   ],
   "source": [
    "list(ds.batch(3).as_numpy_iterator())"
   ]
  },
  {
   "cell_type": "code",
   "execution_count": 4,
   "id": "d9564784",
   "metadata": {
    "ExecuteTime": {
     "end_time": "2022-11-13T17:16:48.105577Z",
     "start_time": "2022-11-13T17:16:48.098956Z"
    }
   },
   "outputs": [
    {
     "data": {
      "text/plain": [
       "0"
      ]
     },
     "execution_count": 4,
     "metadata": {},
     "output_type": "execute_result"
    }
   ],
   "source": [
    "len(())"
   ]
  },
  {
   "cell_type": "code",
   "execution_count": 5,
   "id": "860823bd",
   "metadata": {
    "ExecuteTime": {
     "end_time": "2022-11-13T17:16:50.238124Z",
     "start_time": "2022-11-13T17:16:49.757666Z"
    }
   },
   "outputs": [],
   "source": [
    "ds.save(\".\", \"ds\")"
   ]
  },
  {
   "cell_type": "code",
   "execution_count": 6,
   "id": "a3b8be99",
   "metadata": {
    "ExecuteTime": {
     "end_time": "2022-11-13T17:16:54.722942Z",
     "start_time": "2022-11-13T17:16:54.690166Z"
    }
   },
   "outputs": [],
   "source": [
    "ds2 = TINN_Dataset.restore(\".\", \"ds\")"
   ]
  },
  {
   "cell_type": "code",
   "execution_count": 7,
   "id": "bd4c0fe3",
   "metadata": {
    "ExecuteTime": {
     "end_time": "2022-11-13T17:16:55.489104Z",
     "start_time": "2022-11-13T17:16:55.457528Z"
    }
   },
   "outputs": [],
   "source": [
    "ds2 = TINN_Dataset.restore(\".\", \"ds\")"
   ]
  },
  {
   "cell_type": "code",
   "execution_count": 8,
   "id": "15a7b91f",
   "metadata": {
    "ExecuteTime": {
     "end_time": "2022-11-13T17:16:56.230268Z",
     "start_time": "2022-11-13T17:16:56.223484Z"
    }
   },
   "outputs": [
    {
     "data": {
      "text/plain": [
       "array([4, 4, 7, 4, 8])"
      ]
     },
     "execution_count": 8,
     "metadata": {},
     "output_type": "execute_result"
    }
   ],
   "source": [
    "ds2.sizes"
   ]
  },
  {
   "cell_type": "code",
   "execution_count": 9,
   "id": "e7f36ed2",
   "metadata": {
    "ExecuteTime": {
     "end_time": "2022-11-13T17:16:57.149751Z",
     "start_time": "2022-11-13T17:16:57.110363Z"
    }
   },
   "outputs": [
    {
     "data": {
      "text/plain": [
       "[(array([1., 1., 1.]),\n",
       "  array([2., 2., 2.]),\n",
       "  array([3., 3., 3.]),\n",
       "  array([4., 4., 4.]),\n",
       "  array([1., 1., 5.]),\n",
       "  array([2., 2., 6.]),\n",
       "  array([3., 3., 7.]),\n",
       "  array([4., 4., 1.])),\n",
       " (array([1., 1.]),\n",
       "  array([2., 2.]),\n",
       "  array([3., 3.]),\n",
       "  array([4., 4.]),\n",
       "  array([1., 5.]),\n",
       "  array([2., 6.]),\n",
       "  array([3., 7.]),\n",
       "  array([4., 8.]))]"
      ]
     },
     "execution_count": 9,
     "metadata": {},
     "output_type": "execute_result"
    }
   ],
   "source": [
    "list(ds2.batch(3).as_numpy_iterator())"
   ]
  },
  {
   "cell_type": "code",
   "execution_count": 10,
   "id": "2222a94e",
   "metadata": {
    "ExecuteTime": {
     "end_time": "2022-11-13T17:16:57.808949Z",
     "start_time": "2022-11-13T17:16:57.800396Z"
    }
   },
   "outputs": [
    {
     "data": {
      "text/plain": [
       "[[array([0, 1]), array([], dtype=int64)],\n",
       " [array([2, 3]), array([], dtype=int64)],\n",
       " [array([4, 5]), array([], dtype=int64)],\n",
       " [array([6, 7]), array([], dtype=int64)],\n",
       " [array([8]), array([0, 1])]]"
      ]
     },
     "execution_count": 10,
     "metadata": {},
     "output_type": "execute_result"
    }
   ],
   "source": [
    "list(indices(2, False, 9, 2))"
   ]
  },
  {
   "cell_type": "code",
   "execution_count": 11,
   "id": "c200816f",
   "metadata": {
    "ExecuteTime": {
     "end_time": "2022-11-13T17:16:58.916759Z",
     "start_time": "2022-11-13T17:16:58.845496Z"
    }
   },
   "outputs": [],
   "source": [
    "ds_original = TINN_Single_Sim_Dataset(str(os.path.abspath(\"../../test/outputs_Brusselator_100_by_100/Brusselator_1\"),),\n",
    "                                      \"Brusselator_1\",\n",
    "                                      thining_start=-2,\n",
    "                                      signal_to_noise=0)"
   ]
  },
  {
   "cell_type": "code",
   "execution_count": 28,
   "id": "e8b2e641",
   "metadata": {
    "ExecuteTime": {
     "end_time": "2022-11-05T11:37:21.305655Z",
     "start_time": "2022-11-05T11:37:21.191592Z"
    }
   },
   "outputs": [],
   "source": [
    "ds_original = TINN_Single_Sim_Dataset(str(os.path.abspath(\"../../test/outputs_Brusselator_100_by_100/Brusselator_1\"),),\n",
    "                                      \"Brusselator_1\",\n",
    "                                      thining_start=-2,\n",
    "                                      signal_to_noise=0)"
   ]
  },
  {
   "cell_type": "code",
   "execution_count": 12,
   "id": "991e050b",
   "metadata": {
    "ExecuteTime": {
     "end_time": "2022-11-13T17:17:13.521568Z",
     "start_time": "2022-11-13T17:17:06.052265Z"
    }
   },
   "outputs": [],
   "source": [
    "ds_original.save(\".\", \"ds_ds\")"
   ]
  },
  {
   "cell_type": "code",
   "execution_count": 13,
   "id": "71fdbb39",
   "metadata": {
    "ExecuteTime": {
     "end_time": "2022-11-13T17:17:25.369574Z",
     "start_time": "2022-11-13T17:17:15.108332Z"
    }
   },
   "outputs": [],
   "source": [
    "ds2 = TINN_Dataset.restore(\".\", \"ds_ds\")"
   ]
  },
  {
   "cell_type": "code",
   "execution_count": 14,
   "id": "85971d15",
   "metadata": {
    "ExecuteTime": {
     "end_time": "2022-11-13T17:17:27.472035Z",
     "start_time": "2022-11-13T17:17:27.468075Z"
    }
   },
   "outputs": [
    {
     "data": {
      "text/plain": [
       "Simulation(name='Brusselator_1', n=(100, 100), L=(2, 2), Ds=(0.002, 0.04), dt=0.0002, t_start=0, t_end=512.0, t_steps=516, dt_arr=None, parameters={'A': 2, 'B': 3}, steady_state_func=None, perturbation_size=0.1, kinetic_func=None, tol=0.001, sample_parameters=True, sample_parameters_num=10, sample_parameters_std=(0.2, 0.2), same_init=True, c0=None)"
      ]
     },
     "execution_count": 14,
     "metadata": {},
     "output_type": "execute_result"
    }
   ],
   "source": [
    "ds2.simulation"
   ]
  },
  {
   "cell_type": "code",
   "execution_count": null,
   "id": "d3b6c28c",
   "metadata": {},
   "outputs": [],
   "source": []
  },
  {
   "cell_type": "code",
   "execution_count": null,
   "id": "7f2ffa62",
   "metadata": {},
   "outputs": [],
   "source": []
  },
  {
   "cell_type": "code",
   "execution_count": null,
   "id": "ba021055",
   "metadata": {},
   "outputs": [],
   "source": []
  },
  {
   "cell_type": "code",
   "execution_count": null,
   "id": "69aab1af",
   "metadata": {},
   "outputs": [],
   "source": []
  },
  {
   "cell_type": "code",
   "execution_count": 2,
   "id": "df0e3012",
   "metadata": {
    "ExecuteTime": {
     "end_time": "2022-11-13T17:21:30.599893Z",
     "start_time": "2022-11-13T17:21:30.516571Z"
    }
   },
   "outputs": [],
   "source": [
    "dataset = TINN_Single_Sim_Dataset.restore(\n",
    "    os.path.abspath(\"../../test/outputs_tinn_Brusselator_100_by_100_noise/Brusselator_100_noise\"),\n",
    "                                 \"Brusselator_100_noise_dataset\")"
   ]
  },
  {
   "cell_type": "code",
   "execution_count": 3,
   "id": "e9f782d5",
   "metadata": {
    "ExecuteTime": {
     "end_time": "2022-11-13T17:21:32.958100Z",
     "start_time": "2022-11-13T17:21:32.938191Z"
    }
   },
   "outputs": [
    {
     "data": {
      "text/plain": [
       "{'lb': array([  0.        ,   0.        , 511.00582524]),\n",
       " 'ub': array([  2.,   2., 512.]),\n",
       " 'simulation': Simulation(name='Brusselator_1', n=(100, 100), L=(2, 2), Ds=(0.002, 0.04), dt=0.0002, t_start=0, t_end=512.0, t_steps=516, dt_arr=None, parameters={'A': 2, 'B': 3}, steady_state_func=None, perturbation_size=0.1, kinetic_func=None, tol=0.001, sample_parameters=True, sample_parameters_num=10, sample_parameters_std=(0.2, 0.2), same_init=True, c0=None),\n",
       " 'ts': array([511.00582524, 512.        ]),\n",
       " 'x_size': 20000,\n",
       " 'x_pde_size': 20000}"
      ]
     },
     "execution_count": 3,
     "metadata": {},
     "output_type": "execute_result"
    }
   ],
   "source": [
    "dataset.__parameters__"
   ]
  },
  {
   "cell_type": "code",
   "execution_count": 4,
   "id": "f036ddb5",
   "metadata": {
    "ExecuteTime": {
     "end_time": "2022-11-13T17:21:35.402142Z",
     "start_time": "2022-11-13T17:21:35.394492Z"
    }
   },
   "outputs": [
    {
     "data": {
      "text/plain": [
       "array([511.00582524, 512.        ])"
      ]
     },
     "execution_count": 4,
     "metadata": {},
     "output_type": "execute_result"
    }
   ],
   "source": [
    "dataset.ts"
   ]
  },
  {
   "cell_type": "code",
   "execution_count": null,
   "id": "62a12607",
   "metadata": {},
   "outputs": [],
   "source": []
  },
  {
   "cell_type": "code",
   "execution_count": 54,
   "id": "1cff4ac1",
   "metadata": {
    "ExecuteTime": {
     "end_time": "2022-11-04T12:35:17.422374Z",
     "start_time": "2022-11-04T12:35:17.413403Z"
    }
   },
   "outputs": [
    {
     "data": {
      "text/plain": [
       "{'lb': array([  0.        ,   0.        , 511.00582524]),\n",
       " 'ub': array([  2.,   2., 512.]),\n",
       " 'simulation': Simulation(name='Brusselator_1', n=(100, 100), L=(2, 2), Ds=(0.002, 0.04), dt=0.0002, t_start=0, t_end=512.0, t_steps=516, dt_arr=None, parameters={'A': 2, 'B': 3}, steady_state_func=None, perturbation_size=0.1, kinetic_func=None, tol=0.001, sample_parameters=True, sample_parameters_num=10, sample_parameters_std=(0.2, 0.2), same_init=True, c0=None),\n",
       " 'ts': array([511.00582524, 512.        ]),\n",
       " 'x_size': 20000,\n",
       " 'x_pde_size': 20000}"
      ]
     },
     "execution_count": 54,
     "metadata": {},
     "output_type": "execute_result"
    }
   ],
   "source": [
    "dataset.__parameters__[\"x_size\"] = ds_original.x_size\n",
    "dataset.__parameters__[\"x_pde_size\"] = ds_original.x_pde_size\n",
    "dataset.__parameters__"
   ]
  },
  {
   "cell_type": "code",
   "execution_count": 55,
   "id": "5c9b85e3",
   "metadata": {
    "ExecuteTime": {
     "end_time": "2022-11-04T12:35:30.181682Z",
     "start_time": "2022-11-04T12:35:24.366196Z"
    }
   },
   "outputs": [],
   "source": [
    "dataset.save(os.path.abspath(\"../../test/outputs_tinn_Brusselator_100_by_100_noise/Brusselator_100_noise\"), \n",
    "             \"Brusselator_100_noise_dataset\")"
   ]
  },
  {
   "cell_type": "code",
   "execution_count": null,
   "id": "9a901cef",
   "metadata": {},
   "outputs": [],
   "source": []
  },
  {
   "cell_type": "code",
   "execution_count": null,
   "id": "4856f2a3",
   "metadata": {},
   "outputs": [],
   "source": []
  },
  {
   "cell_type": "code",
   "execution_count": null,
   "id": "2b66300c",
   "metadata": {},
   "outputs": [],
   "source": []
  },
  {
   "cell_type": "code",
   "execution_count": 5,
   "id": "0a1b7702",
   "metadata": {
    "ExecuteTime": {
     "end_time": "2022-11-13T17:21:58.247213Z",
     "start_time": "2022-11-13T17:21:58.042788Z"
    }
   },
   "outputs": [],
   "source": [
    "dataset2 = TINN_Single_Sim_Dataset.restore(os.path.abspath(\".\"),\n",
    "                                 \"test_ds\")"
   ]
  },
  {
   "cell_type": "code",
   "execution_count": 6,
   "id": "d10b73e7",
   "metadata": {
    "ExecuteTime": {
     "end_time": "2022-11-13T17:21:59.980404Z",
     "start_time": "2022-11-13T17:21:59.971942Z"
    }
   },
   "outputs": [
    {
     "data": {
      "text/plain": [
       "{'lb': array([  0.        ,   0.        , 511.00582524]),\n",
       " 'ub': array([  2.,   2., 512.]),\n",
       " 'simulation': Simulation(name='Brusselator_1', n=(100, 100), L=(2, 2), Ds=(0.002, 0.04), dt=0.0002, t_start=0, t_end=512.0, t_steps=516, dt_arr=None, parameters={'A': 2, 'B': 3}, steady_state_func=None, perturbation_size=0.1, kinetic_func=None, tol=0.001, sample_parameters=True, sample_parameters_num=10, sample_parameters_std=(0.2, 0.2), same_init=True, c0=None),\n",
       " 'ts': array([511.00582524, 512.        ]),\n",
       " 'x_size': 20000,\n",
       " 'x_pde_size': 20000}"
      ]
     },
     "execution_count": 6,
     "metadata": {},
     "output_type": "execute_result"
    }
   ],
   "source": [
    "dataset2.__parameters__"
   ]
  },
  {
   "cell_type": "code",
   "execution_count": null,
   "id": "93074025",
   "metadata": {},
   "outputs": [],
   "source": []
  },
  {
   "cell_type": "code",
   "execution_count": null,
   "id": "e029fce5",
   "metadata": {},
   "outputs": [],
   "source": []
  },
  {
   "cell_type": "code",
   "execution_count": 2,
   "id": "ea70e78b",
   "metadata": {
    "ExecuteTime": {
     "end_time": "2022-11-13T22:03:28.779700Z",
     "start_time": "2022-11-13T22:03:28.749574Z"
    }
   },
   "outputs": [],
   "source": [
    "import os\n",
    "data_path = os.path.abspath(\"../turing_Brusselator.npy\")\n",
    "with open(data_path, 'rb') as f:\n",
    "    data = np.load(f)\n",
    "    \n",
    "data_path = os.path.abspath(\"../turing_t_Brusselator.npy\")\n",
    "with open(data_path, 'rb') as f:\n",
    "    t_star = np.load(f) \n",
    "    \n",
    "# Thining the dataset\n",
    "t_star = t_star[20::16]\n",
    "data = data[..., 20::16]\n",
    "\n",
    "T = t_star.shape[0]    \n",
    "    \n",
    "L = 1.0\n",
    "x_size = data.shape[1]\n",
    "y_size = data.shape[2]\n",
    "N = x_size*y_size\n",
    "\n",
    "model_params = {'training_data_size': T*N,#T*32,\n",
    "                'pde_data_size': (T*N)//(32),\n",
    "                'boundary_data_size':((x_size + y_size)*T),\n",
    "                'with_neighbors': True,\n",
    "                'shuffle':True}#//(8)}\n",
    "\n",
    "dataset = create_dataset(data, t_star, N, T, L, **model_params)\n",
    "lb = dataset['lb']\n",
    "ub = dataset['ub']\n",
    "obs_X = dataset['obs_input']\n",
    "obs_Y = dataset['obs_output']\n",
    "pde_X = dataset['pde']\n",
    "pbc_X = np.concatenate([dataset['boundary_LB'], dataset['boundary_RT']], axis=1)\n",
    "#boundary_LB = dataset['boundary_LB']\n",
    "#boundary_RT = dataset['boundary_RT']\n",
    "\n",
    "# diff_X_left = dataset['X_left']\n",
    "# diff_X_right = dataset['X_right']\n",
    "# diff_Y_up = dataset['Y_up']\n",
    "# diff_Y_bottom = dataset['Y_bottom']\n",
    "diff_X = np.concatenate([obs_X,\n",
    "                         dataset['X_left'][:, np.newaxis], \n",
    "                         dataset['X_right'][:, np.newaxis], \n",
    "                         dataset['Y_up'][:, np.newaxis], \n",
    "                         dataset['Y_bottom'][:, np.newaxis]], axis=1)"
   ]
  },
  {
   "cell_type": "code",
   "execution_count": 3,
   "id": "b82de943",
   "metadata": {
    "ExecuteTime": {
     "end_time": "2022-11-13T22:03:29.673600Z",
     "start_time": "2022-11-13T22:03:29.665057Z"
    }
   },
   "outputs": [
    {
     "data": {
      "text/plain": [
       "(15360, 3)"
      ]
     },
     "execution_count": 3,
     "metadata": {},
     "output_type": "execute_result"
    }
   ],
   "source": [
    "obs_X.shape"
   ]
  },
  {
   "cell_type": "code",
   "execution_count": 4,
   "id": "59d71c58",
   "metadata": {
    "ExecuteTime": {
     "end_time": "2022-11-13T22:03:30.710547Z",
     "start_time": "2022-11-13T22:03:30.626683Z"
    }
   },
   "outputs": [],
   "source": [
    "ds = TINN_Dataset(tf.float64, \n",
    "                  obs_X, obs_Y, pde_X, \n",
    "                  pbc_X,\n",
    "                  diff_X)"
   ]
  },
  {
   "cell_type": "code",
   "execution_count": 27,
   "id": "b0dd4b23",
   "metadata": {
    "ExecuteTime": {
     "end_time": "2022-11-13T21:54:35.893367Z",
     "start_time": "2022-11-13T21:54:35.857752Z"
    }
   },
   "outputs": [],
   "source": [
    "a = list(ds.batch(2).take(1).as_numpy_iterator())"
   ]
  },
  {
   "cell_type": "code",
   "execution_count": 31,
   "id": "d7689df0",
   "metadata": {
    "ExecuteTime": {
     "end_time": "2022-11-13T21:55:08.221556Z",
     "start_time": "2022-11-13T21:55:08.214115Z"
    }
   },
   "outputs": [
    {
     "data": {
      "text/plain": [
       "array([[ 0.        ,  0.83870968, 14.11764706,  1.        ,  0.83870968,\n",
       "        14.11764706],\n",
       "       [ 0.48387097,  0.        , 95.68627451,  0.48387097,  1.        ,\n",
       "        95.68627451]])"
      ]
     },
     "execution_count": 31,
     "metadata": {},
     "output_type": "execute_result"
    }
   ],
   "source": [
    "a[0][3]"
   ]
  },
  {
   "cell_type": "markdown",
   "id": "ac606dba",
   "metadata": {},
   "source": [
    "# Run Koch-Meinhardt's ASDM model with given diffusion constants and correct space-time scalse to find other parameters"
   ]
  },
  {
   "cell_type": "code",
   "execution_count": 5,
   "id": "9836cb6c",
   "metadata": {
    "ExecuteTime": {
     "end_time": "2022-11-13T22:03:34.918469Z",
     "start_time": "2022-11-13T22:03:34.894824Z"
    }
   },
   "outputs": [],
   "source": [
    "#layers = [3, 64, 64, 64, 64, 2]\n",
    "#layers = [3, 128, 128, 128, 128, 2]\n",
    "layers = [3, 10, 10, 10, 2]\n",
    "\n",
    "pinn = tu.NN(layers, lb, ub, dtype=tf.float64)\n",
    "pde_loss = Koch_Meinhard(D_u=PDE_Parameter(\"D_u\", Parameter_Type.CONSTANT, 1,dtype=pinn.dtype),\n",
    "                D_v=PDE_Parameter(\"D_v\", Parameter_Type.CONSTANT, 1,dtype=pinn.dtype),\n",
    "                sigma_u=PDE_Parameter(\"sigma_u\", Parameter_Type.CONSTANT, 1,dtype=pinn.dtype),\n",
    "                sigma_v=PDE_Parameter(\"sigma_v\", Parameter_Type.CONSTANT, 1,dtype=pinn.dtype),\n",
    "                rho_u=PDE_Parameter(\"rho_u\", Parameter_Type.CONSTANT, 1,dtype=pinn.dtype),\n",
    "                rho_v=PDE_Parameter(\"rho_v\", Parameter_Type.CONSTANT, 1,dtype=pinn.dtype),\n",
    "                mu_u=PDE_Parameter(\"mu_u\", Parameter_Type.CONSTANT, 1,dtype=pinn.dtype),\n",
    "                kappa_u=PDE_Parameter(\"kappa_u\", Parameter_Type.CONSTANT, 1,dtype=pinn.dtype),\n",
    "                )\n",
    "#pde_non_zero = Non_zero_params(\"ASDM\", parameters=[pde_loss.D_u, pde_loss.D_v], print_precision=\".10f\")\n",
    "\n",
    "l2_norm = L2()\n",
    "l_inf_norm = L_Inf()"
   ]
  },
  {
   "cell_type": "code",
   "execution_count": 6,
   "id": "64ed8181",
   "metadata": {
    "ExecuteTime": {
     "end_time": "2022-11-13T22:03:35.850216Z",
     "start_time": "2022-11-13T22:03:35.845668Z"
    }
   },
   "outputs": [],
   "source": [
    "class dummy_extra_loss(PDE_Residual):\n",
    "    def __init__(\n",
    "        self,\n",
    "        print_precision=\".5f\",\n",
    "    ):\n",
    "        \"\"\"\n",
    "        \"\"\"\n",
    "\n",
    "        super().__init__(name=\"dummy_extra_loss\", print_precision=print_precision)\n",
    "        self._trainables_ = ()\n",
    "        self.AAA = tf.Variable(1.0, dtype=tf.float64, name=\"AAA\")\n",
    "        #self._trainables_ += (self.AAA,)\n",
    "\n",
    "    @tf.function\n",
    "    def residual(self, pinn, x):\n",
    "\n",
    "        \n",
    "        return self.AAA * tf.reduce_sum(x)"
   ]
  },
  {
   "cell_type": "code",
   "execution_count": 13,
   "id": "6f26c7b7",
   "metadata": {
    "ExecuteTime": {
     "end_time": "2022-11-13T22:05:10.733265Z",
     "start_time": "2022-11-13T22:05:10.723442Z"
    }
   },
   "outputs": [],
   "source": [
    "class Periodic_Boundary_Condition(PDE_Residual):\n",
    "    def __init__(\n",
    "        self,\n",
    "        print_precision=\".5f\",\n",
    "    ):\n",
    "        \"\"\"\n",
    "        \"\"\"\n",
    "\n",
    "        super().__init__(name=\"Periodic_Boundary_Condition\", print_precision=print_precision)\n",
    "\n",
    "    @tf.function\n",
    "    def residual(self, pinn, x):\n",
    "        print(self.name)\n",
    "        print(x)\n",
    "        y1 = pinn.net(x[:,:3])\n",
    "        y2 = pinn.net(x[:,3:])\n",
    "        return tf.reduce_mean(tf.abs(y1 - y2))"
   ]
  },
  {
   "cell_type": "code",
   "execution_count": 14,
   "id": "42ba9587",
   "metadata": {
    "ExecuteTime": {
     "end_time": "2022-11-13T22:05:11.648020Z",
     "start_time": "2022-11-13T22:05:11.643258Z"
    }
   },
   "outputs": [],
   "source": [
    "pbc_loss = Periodic_Boundary_Condition()"
   ]
  },
  {
   "cell_type": "code",
   "execution_count": 49,
   "id": "6011b33b",
   "metadata": {
    "ExecuteTime": {
     "end_time": "2022-11-13T22:12:47.674265Z",
     "start_time": "2022-11-13T22:12:47.661287Z"
    }
   },
   "outputs": [],
   "source": [
    "class Diffusion_Loss(PDE_Residual):\n",
    "    def __init__(\n",
    "        self,\n",
    "        print_precision=\".5f\",\n",
    "    ):\n",
    "        \"\"\"\n",
    "        \"\"\"\n",
    "\n",
    "        super().__init__(name=\"Diffusion_Loss\", print_precision=print_precision)\n",
    "\n",
    "    @tf.function\n",
    "    def residual(self, pinn, x):\n",
    "        print(self.name)\n",
    "        print(x)\n",
    "        \n",
    "        val = pinn.net(x[:, :3])\n",
    "        x_left = pinn.net(tf.concat([x[:, 3:4], x[:, 1:3]], axis=1) )\n",
    "        x_right = pinn.net(tf.concat([x[:, 4:5], x[:, 1:3]], axis=1))\n",
    "        y_up = pinn.net(tf.concat([x[:, 0:1], x[:, 5:6], x[:, 2:3]], axis=1))\n",
    "        y_bottom = pinn.net(tf.concat([x[:, 0:1], x[:, 6:7], x[:, 2:3]], axis=1))\n",
    "        \n",
    "        return tf.reduce_sum(x_left + x_right + y_up + y_bottom - 4.0 *val)"
   ]
  },
  {
   "cell_type": "code",
   "execution_count": 50,
   "id": "2fa177b6",
   "metadata": {
    "ExecuteTime": {
     "end_time": "2022-11-13T22:12:48.711972Z",
     "start_time": "2022-11-13T22:12:48.709550Z"
    }
   },
   "outputs": [],
   "source": [
    "diff_loss = Diffusion_Loss()"
   ]
  },
  {
   "cell_type": "code",
   "execution_count": 51,
   "id": "3c1b4aea",
   "metadata": {
    "ExecuteTime": {
     "end_time": "2022-11-13T22:12:49.413317Z",
     "start_time": "2022-11-13T22:12:49.387394Z"
    }
   },
   "outputs": [],
   "source": [
    "model = tu.TINN(pinn, \n",
    "                pde_loss, \n",
    "                loss = l2_norm + l_inf_norm,\n",
    "                extra_loss = [pbc_loss, diff_loss],\n",
    "                #non_zero_loss=pde_non_zero, \n",
    "                #optimizer=keras.optimizers.Adam(learning_rate=0.0001), \n",
    "                alpha = 0.5,\n",
    "                print_precision=\".10f\")"
   ]
  },
  {
   "cell_type": "code",
   "execution_count": 52,
   "id": "d683f8c3",
   "metadata": {
    "ExecuteTime": {
     "end_time": "2022-11-13T22:13:13.875532Z",
     "start_time": "2022-11-13T22:12:50.083090Z"
    },
    "scrolled": true
   },
   "outputs": [
    {
     "name": "stdout",
     "output_type": "stream",
     "text": [
      "\n",
      "Start of epoch 0\n",
      "Diffusion_Loss\n",
      "Tensor(\"x:0\", shape=(1000, 7), dtype=float64)\n",
      "Diffusion_Loss\n",
      "Tensor(\"x:0\", shape=(360, 7), dtype=float64)\n",
      "Training observations acc over epoch: 12.8255968094\n",
      "total loss: 230.7637145786, total regularisd loss (sum of batches): 914.7846136935\n",
      "obs u loss: 43.7807871108, obs v loss: 7.5215979153\n",
      "pde u loss: 177.1006628888, pde v loss: 1.9698397232\n",
      "lambda obs u: 1.0000000000, lambda obs v: 1.0000000000\n",
      "lambda pde u: 1.0000000000, lambda pde v: 1.0000000000\n",
      "\n",
      "extra loss Periodic_Boundary_Condition: 0.3908269404\n",
      "extra loss Diffusion_Loss: 0.3908269404\n",
      "Time taken: 11.21s\n",
      "\n",
      "Start of epoch 1\n",
      "Training observations acc over epoch: 12.2076787949\n",
      "total loss: 186.6047953265, total regularisd loss (sum of batches): 853.7531068693\n",
      "obs u loss: 42.5074216740, obs v loss: 6.3232963852\n",
      "pde u loss: 135.3811713387, pde v loss: 2.0752015749\n",
      "lambda obs u: 2.3970821524, lambda obs v: 0.5834799033\n",
      "lambda pde u: 0.5193570697, lambda pde v: 0.5000808747\n",
      "\n",
      "extra loss Periodic_Boundary_Condition: 0.3177043538\n",
      "extra loss Diffusion_Loss: 0.3177043538\n",
      "Time taken: 3.72s\n",
      "\n",
      "Start of epoch 2\n",
      "Training observations acc over epoch: 11.7368669510\n",
      "total loss: 158.4998086557, total regularisd loss (sum of batches): 1679.2045335921\n",
      "obs u loss: 41.5695527281, obs v loss: 5.3779212628\n",
      "pde u loss: 106.8192191442, pde v loss: 4.4175961676\n",
      "lambda obs u: 3.1184491305, lambda obs v: 0.3565714273\n",
      "lambda pde u: 0.2747285294, lambda pde v: 0.2502509128\n",
      "\n",
      "extra loss Periodic_Boundary_Condition: 0.3155193530\n",
      "extra loss Diffusion_Loss: 0.3155193530\n",
      "Time taken: 1.13s\n",
      "\n",
      "Start of epoch 3\n",
      "Training observations acc over epoch: 11.1259622574\n",
      "total loss: 164.5429757712, total regularisd loss (sum of batches): 2041.4129476129\n",
      "obs u loss: 39.9420593221, obs v loss: 4.5617899019\n",
      "pde u loss: 109.8814982794, pde v loss: 9.8373946084\n",
      "lambda obs u: 3.4927772320, lambda obs v: 0.2280571557\n",
      "lambda pde u: 0.1533913038, lambda pde v: 0.1257743085\n",
      "\n",
      "extra loss Periodic_Boundary_Condition: 0.3202336593\n",
      "extra loss Diffusion_Loss: 0.3202336593\n",
      "Time taken: 1.10s\n",
      "\n",
      "Start of epoch 4\n",
      "Training observations acc over epoch: 10.4802818298\n",
      "total loss: 190.9924619315, total regularisd loss (sum of batches): 2158.3379638861\n",
      "obs u loss: 38.0580156379, obs v loss: 3.8631138232\n",
      "pde u loss: 130.3878558623, pde v loss: 18.3620823333\n",
      "lambda obs u: 3.6880505278, lambda obs v: 0.1511620927\n",
      "lambda pde u: 0.0963625948, lambda pde v: 0.0644247847\n",
      "\n",
      "extra loss Periodic_Boundary_Condition: 0.3213942749\n",
      "extra loss Diffusion_Loss: 0.3213942749\n",
      "Time taken: 1.10s\n",
      "\n",
      "Start of epoch 5\n",
      "Training observations acc over epoch: 9.9266519547\n",
      "total loss: 226.7417009142, total regularisd loss (sum of batches): 2171.0280443605\n",
      "obs u loss: 36.4034272272, obs v loss: 3.3031831851\n",
      "pde u loss: 158.2319878667, pde v loss: 28.4841032721\n",
      "lambda obs u: 3.7907121729, lambda obs v: 0.1026509276\n",
      "lambda pde u: 0.0717484334, lambda pde v: 0.0348884661\n",
      "\n",
      "extra loss Periodic_Boundary_Condition: 0.3189993632\n",
      "extra loss Diffusion_Loss: 0.3189993632\n",
      "Time taken: 1.10s\n",
      "\n",
      "Start of epoch 6\n",
      "Training observations acc over epoch: 9.5079507828\n",
      "total loss: 264.0898914407, total regularisd loss (sum of batches): 2150.7240225067\n",
      "obs u loss: 35.1536429600, obs v loss: 2.8781583923\n",
      "pde u loss: 187.2489574912, pde v loss: 38.4945398044\n",
      "lambda obs u: 3.8460786631, lambda obs v: 0.0708949331\n",
      "lambda pde u: 0.0619288271, lambda pde v: 0.0210975768\n",
      "\n",
      "extra loss Periodic_Boundary_Condition: 0.3145927928\n",
      "extra loss Diffusion_Loss: 0.3145927928\n",
      "Time taken: 1.10s\n",
      "\n",
      "Start of epoch 7\n",
      "Training observations acc over epoch: 9.2126932144\n",
      "total loss: 298.4599913071, total regularisd loss (sum of batches): 2126.4870399675\n",
      "obs u loss: 34.2868450592, obs v loss: 2.5639255895\n",
      "pde u loss: 213.9129695333, pde v loss: 47.3865434271\n",
      "lambda obs u: 3.8780386168, lambda obs v: 0.0496640527\n",
      "lambda pde u: 0.0575342021, lambda pde v: 0.0147631285\n",
      "\n",
      "extra loss Periodic_Boundary_Condition: 0.3097076980\n",
      "extra loss Diffusion_Loss: 0.3097076980\n",
      "Time taken: 1.11s\n",
      "\n",
      "Start of epoch 8\n",
      "Training observations acc over epoch: 9.0114326477\n",
      "total loss: 327.8652673248, total regularisd loss (sum of batches): 2107.4752031705\n",
      "obs u loss: 33.7137023034, obs v loss: 2.3320274303\n",
      "pde u loss: 236.6414877972, pde v loss: 54.8726839517\n",
      "lambda obs u: 3.8987688038, lambda obs v: 0.0352941117\n",
      "lambda pde u: 0.0541986792, lambda pde v: 0.0117384054\n",
      "\n",
      "extra loss Periodic_Boundary_Condition: 0.3053658422\n",
      "extra loss Diffusion_Loss: 0.3053658422\n",
      "Time taken: 1.11s\n",
      "\n",
      "Start of epoch 9\n",
      "Training observations acc over epoch: 8.8757352829\n",
      "total loss: 351.9675950187, total regularisd loss (sum of batches): 2094.9872902838\n",
      "obs u loss: 33.3442787097, obs v loss: 2.1586662995\n",
      "pde u loss: 255.1079570155, pde v loss: 61.0545434103\n",
      "lambda obs u: 3.9140572929, lambda obs v: 0.0254785134\n",
      "lambda pde u: 0.0503879162, lambda pde v: 0.0100762775\n",
      "\n",
      "extra loss Periodic_Boundary_Condition: 0.3021495836\n",
      "extra loss Diffusion_Loss: 0.3021495836\n",
      "Time taken: 1.10s\n"
     ]
    }
   ],
   "source": [
    "results = model.train(epochs=10,\n",
    "                      batch_size=1000,#dataset.x//8,\n",
    "                      dataset=ds,\n",
    "                      print_interval=1,\n",
    "                      stop_threshold=1e-5,\n",
    "                      sample_losses=True, \n",
    "                      sample_parameters=True,\n",
    "                      sample_regularisations=True,\n",
    "                      sample_gradients=True,\n",
    "                      regularise=True\n",
    "                     )"
   ]
  },
  {
   "cell_type": "code",
   "execution_count": 11,
   "id": "fe9e016a",
   "metadata": {
    "ExecuteTime": {
     "end_time": "2022-11-13T17:57:21.411583Z",
     "start_time": "2022-11-13T17:57:21.115493Z"
    }
   },
   "outputs": [],
   "source": [
    "model.save(\".\", \"test_model\")"
   ]
  },
  {
   "cell_type": "code",
   "execution_count": 7,
   "id": "c1db01f3",
   "metadata": {
    "ExecuteTime": {
     "end_time": "2022-11-13T17:59:41.355564Z",
     "start_time": "2022-11-13T17:59:35.205513Z"
    }
   },
   "outputs": [
    {
     "name": "stderr",
     "output_type": "stream",
     "text": [
      "2022-11-13 17:59:40.059728: W tensorflow/python/util/util.cc:348] Sets are not currently considered sequences, but this may change in the future, so consider avoiding using them.\n",
      "2022-11-13 17:59:41.111141: I tensorflow/stream_executor/platform/default/dso_loader.cc:48] Successfully opened dynamic library libcublas.so.10\n"
     ]
    }
   ],
   "source": [
    "model2 = tu.TINN.restore(\".\", \"test_model\", ds)"
   ]
  },
  {
   "cell_type": "code",
   "execution_count": 8,
   "id": "6107cb5e",
   "metadata": {
    "ExecuteTime": {
     "end_time": "2022-11-13T18:00:16.557661Z",
     "start_time": "2022-11-13T17:59:49.491483Z"
    },
    "scrolled": true
   },
   "outputs": [
    {
     "name": "stdout",
     "output_type": "stream",
     "text": [
      "\n",
      "Start of epoch 0\n",
      "Training observations acc over epoch: 11.4252824783\n",
      "total loss: 2530.0493930381, total regularisd loss (sum of batches): 40937.2246997311\n",
      "obs u loss: 40.5163734476, obs v loss: 5.1847551765\n",
      "pde u loss: 21.7140385971, pde v loss: 0.1342258168\n",
      "lambda obs u: 3.9034932133, lambda obs v: 0.0914803663\n",
      "lambda pde u: 0.0028442035, lambda pde v: 0.0021822170\n",
      "\n",
      "extra loss dummy_extra_loss: 2462.5000000000\n",
      "Time taken: 17.40s\n",
      "\n",
      "Start of epoch 1\n",
      "Training observations acc over epoch: 11.0286703110\n",
      "total loss: 2537.5991540953, total regularisd loss (sum of batches): 40855.9875441558\n",
      "obs u loss: 39.2155793816, obs v loss: 4.8991029926\n",
      "pde u loss: 30.9466357943, pde v loss: 0.0378359268\n",
      "lambda obs u: 3.9120081729, lambda obs v: 0.0831288507\n",
      "lambda pde u: 0.0037717003, lambda pde v: 0.0010912761\n",
      "\n",
      "extra loss dummy_extra_loss: 2462.5000000000\n",
      "Time taken: 2.95s\n",
      "\n",
      "Start of epoch 2\n",
      "Training observations acc over epoch: 10.6763000488\n",
      "total loss: 2546.0868373962, total regularisd loss (sum of batches): 40791.3207052417\n",
      "obs u loss: 38.1075568794, obs v loss: 4.5976422282\n",
      "pde u loss: 40.4565433214, pde v loss: 0.4250949671\n",
      "lambda obs u: 3.9191351811, lambda obs v: 0.0750337157\n",
      "lambda pde u: 0.0052800210, lambda pde v: 0.0005510822\n",
      "\n",
      "extra loss dummy_extra_loss: 2462.5000000000\n",
      "Time taken: 0.86s\n",
      "\n",
      "Start of epoch 3\n",
      "Training observations acc over epoch: 10.3668146133\n",
      "total loss: 2555.2860508281, total regularisd loss (sum of batches): 40736.2047051873\n",
      "obs u loss: 37.1682814437, obs v loss: 4.2989789935\n",
      "pde u loss: 50.0097137573, pde v loss: 1.3090766336\n",
      "lambda obs u: 3.9255767209, lambda obs v: 0.0670121837\n",
      "lambda pde u: 0.0071080679, lambda pde v: 0.0003030275\n",
      "\n",
      "extra loss dummy_extra_loss: 2462.5000000000\n",
      "Time taken: 0.83s\n",
      "\n",
      "Start of epoch 4\n",
      "Training observations acc over epoch: 10.0985631943\n",
      "total loss: 2564.9433849255, total regularisd loss (sum of batches): 40690.0193120624\n",
      "obs u loss: 36.3795003141, obs v loss: 4.0147537925\n",
      "pde u loss: 59.3994469575, pde v loss: 2.6496838614\n",
      "lambda obs u: 3.9315392844, lambda obs v: 0.0591936698\n",
      "lambda pde u: 0.0090412543, lambda pde v: 0.0002257915\n",
      "\n",
      "extra loss dummy_extra_loss: 2462.5000000000\n",
      "Time taken: 0.84s\n",
      "\n",
      "Start of epoch 5\n",
      "Training observations acc over epoch: 9.8690252304\n",
      "total loss: 2574.8227132211, total regularisd loss (sum of batches): 40651.8524538816\n",
      "obs u loss: 35.7236301886, obs v loss: 3.7524708369\n",
      "pde u loss: 68.4793195300, pde v loss: 4.3672926656\n",
      "lambda obs u: 3.9370409322, lambda obs v: 0.0517927418\n",
      "lambda pde u: 0.0109065464, lambda pde v: 0.0002597797\n",
      "\n",
      "extra loss dummy_extra_loss: 2462.5000000000\n",
      "Time taken: 0.85s\n",
      "\n",
      "Start of epoch 6\n",
      "Training observations acc over epoch: 9.6747779846\n",
      "total loss: 2584.7313636286, total regularisd loss (sum of batches): 40620.6361346063\n",
      "obs u loss: 35.1827383093, obs v loss: 3.5163764733\n",
      "pde u loss: 77.1734147737, pde v loss: 6.3588340723\n",
      "lambda obs u: 3.9420551995, lambda obs v: 0.0449959547\n",
      "lambda pde u: 0.0125790913, lambda pde v: 0.0003697545\n",
      "\n",
      "extra loss dummy_extra_loss: 2462.5000000000\n",
      "Time taken: 0.85s\n",
      "\n",
      "Start of epoch 7\n",
      "Training observations acc over epoch: 9.5117120743\n",
      "total loss: 2594.5164964003, total regularisd loss (sum of batches): 40595.2801983025\n",
      "obs u loss: 34.7392472301, obs v loss: 3.3075982184\n",
      "pde u loss: 85.4504261507, pde v loss: 8.5192248011\n",
      "lambda obs u: 3.9465744818, lambda obs v: 0.0389142999\n",
      "lambda pde u: 0.0139823504, lambda pde v: 0.0005288680\n",
      "\n",
      "extra loss dummy_extra_loss: 2462.5000000000\n",
      "Time taken: 0.84s\n",
      "\n",
      "Start of epoch 8\n",
      "Training observations acc over epoch: 9.3754520416\n",
      "total loss: 2604.0581359904, total regularisd loss (sum of batches): 40574.7737655015\n",
      "obs u loss: 34.3769064790, obs v loss: 3.1248990748\n",
      "pde u loss: 93.2979122782, pde v loss: 10.7584181584\n",
      "lambda obs u: 3.9506256481, lambda obs v: 0.0335799664\n",
      "lambda pde u: 0.0150804430, lambda pde v: 0.0007139425\n",
      "\n",
      "extra loss dummy_extra_loss: 2462.5000000000\n",
      "Time taken: 0.83s\n",
      "\n",
      "Start of epoch 9\n",
      "Training observations acc over epoch: 9.2617797852\n",
      "total loss: 2613.2639911205, total regularisd loss (sum of batches): 40558.2382551716\n",
      "obs u loss: 34.0814282018, obs v loss: 2.9656933449\n",
      "pde u loss: 100.7079849641, pde v loss: 13.0088846097\n",
      "lambda obs u: 3.9542616508, lambda obs v: 0.0289655910\n",
      "lambda pde u: 0.0158673783, lambda pde v: 0.0009053799\n",
      "\n",
      "extra loss dummy_extra_loss: 2462.5000000000\n",
      "Time taken: 0.82s\n"
     ]
    }
   ],
   "source": [
    "results2 = model2.train(epochs=10,\n",
    "                      batch_size=1000,#dataset.x//8,\n",
    "                      dataset=ds,\n",
    "                      print_interval=1,\n",
    "                      stop_threshold=1e-5,\n",
    "                      sample_losses=True, \n",
    "                      sample_parameters=True,\n",
    "                      sample_regularisations=True,\n",
    "                      sample_gradients=True,\n",
    "                      regularise=True\n",
    "                     )"
   ]
  },
  {
   "cell_type": "code",
   "execution_count": null,
   "id": "6273c175",
   "metadata": {},
   "outputs": [],
   "source": []
  },
  {
   "cell_type": "code",
   "execution_count": 4,
   "id": "c0863750",
   "metadata": {
    "ExecuteTime": {
     "end_time": "2022-11-01T10:38:42.992729Z",
     "start_time": "2022-11-01T10:38:35.074494Z"
    }
   },
   "outputs": [
    {
     "name": "stderr",
     "output_type": "stream",
     "text": [
      "2022-11-01 10:38:41.746544: W tensorflow/python/util/util.cc:368] Sets are not currently considered sequences, but this may change in the future, so consider avoiding using them.\n"
     ]
    }
   ],
   "source": [
    "model = tu.TINN.restore(\".\", \"ttt_model\", dataset)"
   ]
  },
  {
   "cell_type": "code",
   "execution_count": 5,
   "id": "e227c557",
   "metadata": {
    "ExecuteTime": {
     "end_time": "2022-11-01T10:39:23.666732Z",
     "start_time": "2022-11-01T10:39:01.377432Z"
    },
    "scrolled": true
   },
   "outputs": [
    {
     "name": "stdout",
     "output_type": "stream",
     "text": [
      "\n",
      "Start of epoch 0\n",
      "Training observations acc over epoch: 3.6630735397\n",
      "total loss: 16.3038350046, total regularisd loss (sum of batches): 350.4495756340\n",
      "obs u loss: 11.8244021490, obs v loss: 2.8278921080\n",
      "pde u loss: 0.6747090917, pde v loss: 0.9768316559\n",
      "lambda obs u: 3.6311555915, lambda obs v: 0.2805856632\n",
      "lambda pde u: 0.0321953584, lambda pde v: 0.0560633869\n",
      "\n",
      "Time taken: 16.21s\n",
      "\n",
      "Start of epoch 1\n",
      "Training observations acc over epoch: 3.5662655830\n",
      "total loss: 15.8309160803, total regularisd loss (sum of batches): 339.7509331592\n",
      "obs u loss: 11.4584784700, obs v loss: 2.8065849738\n",
      "pde u loss: 0.5834595862, pde v loss: 0.9823930503\n",
      "lambda obs u: 3.6171997357, lambda obs v: 0.2971298701\n",
      "lambda pde u: 0.0251147548, lambda pde v: 0.0605556393\n",
      "\n",
      "Time taken: 5.03s\n",
      "\n",
      "Start of epoch 2\n",
      "Training observations acc over epoch: 3.4627938271\n",
      "total loss: 15.3313658305, total regularisd loss (sum of batches): 327.5783402234\n",
      "obs u loss: 11.0719076388, obs v loss: 2.7792672389\n",
      "pde u loss: 0.4922586038, pde v loss: 0.9879323490\n",
      "lambda obs u: 3.6037759714, lambda obs v: 0.3111696750\n",
      "lambda pde u: 0.0197262137, lambda pde v: 0.0653281398\n",
      "\n",
      "Time taken: 0.14s\n",
      "\n",
      "Start of epoch 3\n",
      "Training observations acc over epoch: 3.3529288769\n",
      "total loss: 14.8056401642, total regularisd loss (sum of batches): 314.9568802104\n",
      "obs u loss: 10.6674160789, obs v loss: 2.7442993269\n",
      "pde u loss: 0.4028987127, pde v loss: 0.9910260457\n",
      "lambda obs u: 3.5910668063, lambda obs v: 0.3233890850\n",
      "lambda pde u: 0.0153297074, lambda pde v: 0.0702144013\n",
      "\n",
      "Time taken: 0.13s\n",
      "\n",
      "Start of epoch 4\n",
      "Training observations acc over epoch: 3.2373774052\n",
      "total loss: 14.2573122317, total regularisd loss (sum of batches): 302.0265143365\n",
      "obs u loss: 10.2492467218, obs v loss: 2.7002621216\n",
      "pde u loss: 0.3184372141, pde v loss: 0.9893661741\n",
      "lambda obs u: 3.5798069594, lambda obs v: 0.3336826614\n",
      "lambda pde u: 0.0116487674, lambda pde v: 0.0748616119\n",
      "\n",
      "Time taken: 0.13s\n",
      "\n",
      "Start of epoch 5\n",
      "Training observations acc over epoch: 3.1173396111\n",
      "total loss: 13.6931891656, total regularisd loss (sum of batches): 288.9943053175\n",
      "obs u loss: 9.8231663172, obs v loss: 2.6461924784\n",
      "pde u loss: 0.2429481474, pde v loss: 0.9808822227\n",
      "lambda obs u: 3.5710882369, lambda obs v: 0.3415066087\n",
      "lambda pde u: 0.0086183414, lambda pde v: 0.0787868130\n",
      "\n",
      "Time taken: 0.13s\n",
      "\n",
      "Start of epoch 6\n",
      "Training observations acc over epoch: 2.9944858551\n",
      "total loss: 13.1230327869, total regularisd loss (sum of batches): 276.1147870527\n",
      "obs u loss: 9.3963548728, obs v loss: 2.5815898803\n",
      "pde u loss: 0.1811613672, pde v loss: 0.9639266665\n",
      "lambda obs u: 3.5662031126, lambda obs v: 0.3460793690\n",
      "lambda pde u: 0.0062633100, lambda pde v: 0.0814542084\n",
      "\n",
      "Time taken: 0.13s\n",
      "\n",
      "Start of epoch 7\n",
      "Training observations acc over epoch: 2.8708810806\n",
      "total loss: 12.5589022541, total regularisd loss (sum of batches): 263.6676551770\n",
      "obs u loss: 8.9769885560, obs v loss: 2.5065357288\n",
      "pde u loss: 0.1378092023, pde v loss: 0.9375687670\n",
      "lambda obs u: 3.5664449975, lambda obs v: 0.3465364286\n",
      "lambda pde u: 0.0046382648, lambda pde v: 0.0823803090\n",
      "\n",
      "Time taken: 0.13s\n",
      "\n",
      "Start of epoch 8\n",
      "Training observations acc over epoch: 2.7488543987\n",
      "total loss: 12.0141516002, total regularisd loss (sum of batches): 251.9311041328\n",
      "obs u loss: 8.5736095649, obs v loss: 2.4218074051\n",
      "pde u loss: 0.1168877048, pde v loss: 0.9018469254\n",
      "lambda obs u: 3.5728249401, lambda obs v: 0.3420773894\n",
      "lambda pde u: 0.0038562940, lambda pde v: 0.0812413766\n",
      "\n",
      "Time taken: 0.13s\n",
      "\n",
      "Start of epoch 9\n",
      "Training observations acc over epoch: 2.6308329105\n",
      "total loss: 11.5021932798, total regularisd loss (sum of batches): 241.1520543778\n",
      "obs u loss: 8.1944050326, obs v loss: 2.3289256451\n",
      "pde u loss: 0.1210158587, pde v loss: 0.8578467434\n",
      "lambda obs u: 3.5857925808, lambda obs v: 0.3321192936\n",
      "lambda pde u: 0.0041392382, lambda pde v: 0.0779488874\n",
      "\n",
      "Time taken: 0.13s\n"
     ]
    }
   ],
   "source": [
    "results = model.train(epochs=10,\n",
    "                      batch_size=dataset.x_size//8,\n",
    "                      dataset=dataset,\n",
    "                      print_interval=1,\n",
    "                      stop_threshold=1e-5,\n",
    "                      sample_losses=True, \n",
    "                      sample_parameters=True,\n",
    "                      sample_regularisations=True,\n",
    "                      sample_gradients=True,\n",
    "                      regularise=True\n",
    "                     )"
   ]
  },
  {
   "cell_type": "code",
   "execution_count": 15,
   "id": "a48c2005",
   "metadata": {
    "ExecuteTime": {
     "end_time": "2022-11-01T10:06:40.223956Z",
     "start_time": "2022-11-01T10:06:40.209545Z"
    }
   },
   "outputs": [],
   "source": [
    "weight_values = model.optimizer.get_weights()"
   ]
  },
  {
   "cell_type": "code",
   "execution_count": 16,
   "id": "bac37c1a",
   "metadata": {
    "ExecuteTime": {
     "end_time": "2022-11-01T10:06:40.916406Z",
     "start_time": "2022-11-01T10:06:40.903878Z"
    },
    "scrolled": false
   },
   "outputs": [
    {
     "data": {
      "text/plain": [
       "33"
      ]
     },
     "execution_count": 16,
     "metadata": {},
     "output_type": "execute_result"
    }
   ],
   "source": [
    "len(weight_values)"
   ]
  },
  {
   "cell_type": "code",
   "execution_count": 76,
   "id": "21bc3756",
   "metadata": {
    "ExecuteTime": {
     "end_time": "2022-11-01T09:30:36.477082Z",
     "start_time": "2022-11-01T09:30:36.470684Z"
    }
   },
   "outputs": [],
   "source": [
    "data_path = pathlib.PurePath(os.path.abspath(\"../../test/outputs_tinn_Brusselator_100_by_100_noise/Brusselator_000_noise/Brusselator_000_noise_model_optimizer.pkl\"))\n",
    "with open(data_path, \"rb\") as f:\n",
    "    data = np.load(f, allow_pickle=True)"
   ]
  },
  {
   "cell_type": "code",
   "execution_count": 115,
   "id": "80bee7c0",
   "metadata": {
    "ExecuteTime": {
     "end_time": "2022-11-01T09:42:11.525968Z",
     "start_time": "2022-11-01T09:42:11.520433Z"
    }
   },
   "outputs": [
    {
     "data": {
      "text/plain": [
       "25"
      ]
     },
     "execution_count": 115,
     "metadata": {},
     "output_type": "execute_result"
    }
   ],
   "source": [
    "len(data)"
   ]
  },
  {
   "cell_type": "code",
   "execution_count": 114,
   "id": "04a31ccb",
   "metadata": {
    "ExecuteTime": {
     "end_time": "2022-11-01T09:42:02.376082Z",
     "start_time": "2022-11-01T09:42:02.370997Z"
    }
   },
   "outputs": [
    {
     "data": {
      "text/plain": [
       "49"
      ]
     },
     "execution_count": 114,
     "metadata": {},
     "output_type": "execute_result"
    }
   ],
   "source": [
    "len(weight_values)"
   ]
  },
  {
   "cell_type": "code",
   "execution_count": 92,
   "id": "5fc8f3c4",
   "metadata": {
    "ExecuteTime": {
     "end_time": "2022-11-01T09:40:16.001943Z",
     "start_time": "2022-11-01T09:40:15.273950Z"
    }
   },
   "outputs": [],
   "source": [
    "with open(os.path.abspath(\"./tttt.npy\"), \"wb\") as f:\n",
    "    pickle.dump(weight_values, f)"
   ]
  },
  {
   "cell_type": "code",
   "execution_count": 93,
   "id": "9756312b",
   "metadata": {
    "ExecuteTime": {
     "end_time": "2022-11-01T09:40:37.755473Z",
     "start_time": "2022-11-01T09:40:37.751448Z"
    }
   },
   "outputs": [],
   "source": [
    "with open(os.path.abspath(\"./tttt.npy\"), \"rb\") as f:\n",
    "    weight_values2 = pickle.load(f)"
   ]
  },
  {
   "cell_type": "code",
   "execution_count": 112,
   "id": "79e290aa",
   "metadata": {
    "ExecuteTime": {
     "end_time": "2022-11-01T09:41:39.588079Z",
     "start_time": "2022-11-01T09:41:39.582461Z"
    }
   },
   "outputs": [
    {
     "data": {
      "text/plain": [
       "(1, 128)"
      ]
     },
     "execution_count": 112,
     "metadata": {},
     "output_type": "execute_result"
    }
   ],
   "source": [
    "weight_values[7].shape"
   ]
  },
  {
   "cell_type": "code",
   "execution_count": 113,
   "id": "3c2e43ed",
   "metadata": {
    "ExecuteTime": {
     "end_time": "2022-11-01T09:41:44.794244Z",
     "start_time": "2022-11-01T09:41:44.788866Z"
    }
   },
   "outputs": [
    {
     "data": {
      "text/plain": [
       "(1, 128)"
      ]
     },
     "execution_count": 113,
     "metadata": {},
     "output_type": "execute_result"
    }
   ],
   "source": [
    "weight_values2[7].shape"
   ]
  },
  {
   "cell_type": "code",
   "execution_count": 6,
   "id": "7ed9567d",
   "metadata": {
    "ExecuteTime": {
     "end_time": "2022-11-01T10:33:32.062161Z",
     "start_time": "2022-11-01T10:33:31.655892Z"
    }
   },
   "outputs": [],
   "source": [
    "model.save(\".\", \"ttt_model\")"
   ]
  },
  {
   "cell_type": "code",
   "execution_count": 9,
   "id": "96133de6",
   "metadata": {
    "ExecuteTime": {
     "end_time": "2022-11-01T09:55:38.891858Z",
     "start_time": "2022-11-01T09:55:38.885549Z"
    }
   },
   "outputs": [
    {
     "data": {
      "text/plain": [
       "<keras.optimizer_v2.adam.Adam at 0x7f3248104d90>"
      ]
     },
     "execution_count": 9,
     "metadata": {},
     "output_type": "execute_result"
    }
   ],
   "source": [
    "model.optimizer.from_config(model.optimizer.get_config())"
   ]
  },
  {
   "cell_type": "code",
   "execution_count": 31,
   "id": "a493882b",
   "metadata": {
    "ExecuteTime": {
     "end_time": "2022-11-01T10:14:01.377003Z",
     "start_time": "2022-11-01T10:14:01.349591Z"
    }
   },
   "outputs": [],
   "source": [
    "import pathlib\n",
    "path = pathlib.PurePath(\".\").joinpath(\"ttt_model\")\n",
    "# asset = tf.saved_model.load(str(path))\n",
    "with open(f\"{str(path)}.pkl\", \"rb\") as f:\n",
    "    model2 = pickle.load(f)\n",
    "with open(f\"{str(path)}_optimizer.pkl\", \"rb\") as f:\n",
    "    weight_values2 = pickle.load(f)\n",
    "with open(f\"{str(path)}_optimizer_config.pkl\", \"rb\") as f:\n",
    "    conf2 = pickle.load(f)\n"
   ]
  },
  {
   "cell_type": "code",
   "execution_count": 32,
   "id": "0d8f0fb8",
   "metadata": {
    "ExecuteTime": {
     "end_time": "2022-11-01T10:14:02.249593Z",
     "start_time": "2022-11-01T10:14:02.245373Z"
    }
   },
   "outputs": [],
   "source": [
    " model2.optimizer = keras.optimizers.Adam(learning_rate=5e-4).from_config(conf2)"
   ]
  },
  {
   "cell_type": "code",
   "execution_count": 25,
   "id": "f570d03d",
   "metadata": {
    "ExecuteTime": {
     "end_time": "2022-11-01T10:10:20.034871Z",
     "start_time": "2022-11-01T10:10:20.001654Z"
    }
   },
   "outputs": [],
   "source": [
    "trainables = model2.pinn.trainable_variables + model2.pde_residual.trainables()\n",
    "for extra_loss in model2.extra_loss:\n",
    "    trainables += extra_loss.trainables()\n",
    "\n",
    "if model2.non_zero_loss is not None:\n",
    "    non_zero_params = model2.non_zero_loss.parameters\n",
    "# dummy zero gradients\n",
    "zero_grads = [tf.zeros_like(w) for w in trainables]\n",
    "# save current state of variables\n",
    "saved_vars = [tf.identity(w) for w in trainables]\n",
    "\n",
    "\n",
    "\n",
    "if model2.non_zero_loss is not None:\n",
    "    # dummy zero gradients\n",
    "    zero_grads_params = [tf.zeros_like(w) for w in model2.non_zero_loss.parameters]\n",
    "    # save current state of variables\n",
    "    saved_vars_params = [tf.identity(w) for w in model2.non_zero_loss.parameters]\n",
    "\n",
    "# Apply gradients which don't do nothing with Adam\n",
    "model2.optimizer.apply_gradients(zip(zero_grads, trainables))\n",
    "if model2.non_zero_loss is not None:\n",
    "    model2.optimizer.apply_gradients(zip(zero_grads_params, model2.non_zero_loss.parameters))\n",
    "\n",
    "# Reload variables\n",
    "[x.assign(y) for x, y in zip(trainables, saved_vars)]\n",
    "if model2.non_zero_loss is not None:\n",
    "    [x.assign(y) for x, y in zip(model2.non_zero_loss.parameters, saved_vars_params)]"
   ]
  },
  {
   "cell_type": "code",
   "execution_count": 33,
   "id": "c59cc9ff",
   "metadata": {
    "ExecuteTime": {
     "end_time": "2022-11-01T10:18:07.403281Z",
     "start_time": "2022-11-01T10:18:07.398293Z"
    }
   },
   "outputs": [
    {
     "data": {
      "text/plain": [
       "8"
      ]
     },
     "execution_count": 33,
     "metadata": {},
     "output_type": "execute_result"
    }
   ],
   "source": [
    "len(trainables)"
   ]
  },
  {
   "cell_type": "code",
   "execution_count": 34,
   "id": "7f8ea0aa",
   "metadata": {
    "ExecuteTime": {
     "end_time": "2022-11-01T10:18:10.473527Z",
     "start_time": "2022-11-01T10:18:10.469461Z"
    }
   },
   "outputs": [
    {
     "data": {
      "text/plain": [
       "33"
      ]
     },
     "execution_count": 34,
     "metadata": {},
     "output_type": "execute_result"
    }
   ],
   "source": [
    "len(weight_values2)"
   ]
  },
  {
   "cell_type": "code",
   "execution_count": 44,
   "id": "82527754",
   "metadata": {
    "ExecuteTime": {
     "end_time": "2022-11-01T10:31:44.140194Z",
     "start_time": "2022-11-01T10:31:44.058390Z"
    }
   },
   "outputs": [],
   "source": [
    "X, Y = next(iter(dataset.take(1)))#).numpy()"
   ]
  },
  {
   "cell_type": "code",
   "execution_count": 84,
   "id": "d9af656b",
   "metadata": {
    "ExecuteTime": {
     "end_time": "2022-11-13T20:56:51.936437Z",
     "start_time": "2022-11-13T20:56:51.928061Z"
    }
   },
   "outputs": [],
   "source": [
    "x_size = 5\n",
    "y_size = 6\n",
    "x_domain =  np.linspace(0,x_size-1 , x_size)\n",
    "y_domain =  np.linspace(0, y_size-1, y_size)\n",
    "\n",
    "X, Y = np.meshgrid(x_domain, y_domain, sparse=False, indexing=\"ij\")\n",
    "XX = np.tile(X.flatten(), T)  # N x T\n",
    "YY = np.tile(Y.flatten(), T)  # N x T\n",
    "TT = np.repeat(t_star[-T:], N)  # T x N"
   ]
  },
  {
   "cell_type": "code",
   "execution_count": 96,
   "id": "1b7c2358",
   "metadata": {
    "ExecuteTime": {
     "end_time": "2022-11-13T21:00:35.837948Z",
     "start_time": "2022-11-13T21:00:35.829944Z"
    }
   },
   "outputs": [
    {
     "data": {
      "text/plain": [
       "array([1., 2., 3., 4., 5., 0.])"
      ]
     },
     "execution_count": 96,
     "metadata": {},
     "output_type": "execute_result"
    }
   ],
   "source": [
    "np.r_[y_domain[1:], y_domain[0]]"
   ]
  },
  {
   "cell_type": "code",
   "execution_count": 85,
   "id": "db266308",
   "metadata": {
    "ExecuteTime": {
     "end_time": "2022-11-13T20:56:53.222051Z",
     "start_time": "2022-11-13T20:56:52.871601Z"
    }
   },
   "outputs": [
    {
     "data": {
      "text/plain": [
       "array([0., 1., 2., 3., 4.])"
      ]
     },
     "execution_count": 85,
     "metadata": {},
     "output_type": "execute_result"
    }
   ],
   "source": [
    "x_domain"
   ]
  },
  {
   "cell_type": "code",
   "execution_count": 128,
   "id": "4246b533",
   "metadata": {
    "ExecuteTime": {
     "end_time": "2022-11-13T21:08:39.114018Z",
     "start_time": "2022-11-13T21:08:39.106443Z"
    }
   },
   "outputs": [],
   "source": [
    "X2, Y2 = np.meshgrid(np.r_[x_domain[-1], x_domain[:-1]],\n",
    "                             np.r_[y_domain[-1], y_domain[:-1]],\n",
    "                             sparse=False, indexing=\"ij\")\n",
    "XX2 = np.tile(X2.flatten(), T)  # N x T\n",
    "YY2 = np.tile(Y2.flatten(), T)  # N x T"
   ]
  },
  {
   "cell_type": "code",
   "execution_count": 129,
   "id": "f97d4ad2",
   "metadata": {
    "ExecuteTime": {
     "end_time": "2022-11-13T21:08:40.102547Z",
     "start_time": "2022-11-13T21:08:40.098883Z"
    }
   },
   "outputs": [
    {
     "data": {
      "text/plain": [
       "array([[1., 1., 1., 1., 1., 1.],\n",
       "       [2., 2., 2., 2., 2., 2.],\n",
       "       [3., 3., 3., 3., 3., 3.],\n",
       "       [4., 4., 4., 4., 4., 4.],\n",
       "       [0., 0., 0., 0., 0., 0.]])"
      ]
     },
     "execution_count": 129,
     "metadata": {},
     "output_type": "execute_result"
    }
   ],
   "source": [
    "X1"
   ]
  },
  {
   "cell_type": "code",
   "execution_count": 132,
   "id": "e76d4db7",
   "metadata": {
    "ExecuteTime": {
     "end_time": "2022-11-13T21:08:57.735097Z",
     "start_time": "2022-11-13T21:08:57.728020Z"
    }
   },
   "outputs": [
    {
     "data": {
      "text/plain": [
       "array([[5., 0., 1., 2., 3., 4.],\n",
       "       [5., 0., 1., 2., 3., 4.],\n",
       "       [5., 0., 1., 2., 3., 4.],\n",
       "       [5., 0., 1., 2., 3., 4.],\n",
       "       [5., 0., 1., 2., 3., 4.]])"
      ]
     },
     "execution_count": 132,
     "metadata": {},
     "output_type": "execute_result"
    }
   ],
   "source": [
    "Y2"
   ]
  },
  {
   "cell_type": "code",
   "execution_count": 133,
   "id": "255eab9e",
   "metadata": {
    "ExecuteTime": {
     "end_time": "2022-11-13T21:08:59.269222Z",
     "start_time": "2022-11-13T21:08:59.261959Z"
    }
   },
   "outputs": [
    {
     "data": {
      "text/plain": [
       "array([[0., 1., 2., 3., 4., 5.],\n",
       "       [0., 1., 2., 3., 4., 5.],\n",
       "       [0., 1., 2., 3., 4., 5.],\n",
       "       [0., 1., 2., 3., 4., 5.],\n",
       "       [0., 1., 2., 3., 4., 5.]])"
      ]
     },
     "execution_count": 133,
     "metadata": {},
     "output_type": "execute_result"
    }
   ],
   "source": [
    "Y"
   ]
  },
  {
   "cell_type": "code",
   "execution_count": 140,
   "id": "5be78f78",
   "metadata": {
    "ExecuteTime": {
     "end_time": "2022-11-13T21:09:32.037523Z",
     "start_time": "2022-11-13T21:09:32.031972Z"
    }
   },
   "outputs": [
    {
     "name": "stdout",
     "output_type": "stream",
     "text": [
      "1.0 0.0\n",
      "0.0 5.0\n"
     ]
    }
   ],
   "source": [
    "index = 6\n",
    "print(XX[index], XX2[index])\n",
    "print(YY[index], YY2[index])"
   ]
  },
  {
   "cell_type": "code",
   "execution_count": 116,
   "id": "6dca2016",
   "metadata": {
    "ExecuteTime": {
     "end_time": "2022-11-13T21:06:00.688550Z",
     "start_time": "2022-11-13T21:06:00.681677Z"
    }
   },
   "outputs": [
    {
     "data": {
      "text/plain": [
       "array([[0., 0., 0., 0., 0., 0.],\n",
       "       [1., 1., 1., 1., 1., 1.],\n",
       "       [2., 2., 2., 2., 2., 2.],\n",
       "       [3., 3., 3., 3., 3., 3.],\n",
       "       [4., 4., 4., 4., 4., 4.]])"
      ]
     },
     "execution_count": 116,
     "metadata": {},
     "output_type": "execute_result"
    }
   ],
   "source": [
    "X"
   ]
  },
  {
   "cell_type": "code",
   "execution_count": 2,
   "id": "d60a304c",
   "metadata": {
    "ExecuteTime": {
     "end_time": "2022-11-15T12:53:26.322095Z",
     "start_time": "2022-11-15T12:53:26.262179Z"
    }
   },
   "outputs": [
    {
     "data": {
      "text/plain": [
       "6.577414772727273"
      ]
     },
     "execution_count": 2,
     "metadata": {},
     "output_type": "execute_result"
    }
   ],
   "source": [
    "(21/22)+(42/11)+(231/128)"
   ]
  },
  {
   "cell_type": "code",
   "execution_count": 3,
   "id": "0ced2aa7",
   "metadata": {
    "ExecuteTime": {
     "end_time": "2022-11-15T12:53:38.895813Z",
     "start_time": "2022-11-15T12:53:38.888490Z"
    }
   },
   "outputs": [
    {
     "data": {
      "text/plain": [
       "6.577414772727273"
      ]
     },
     "execution_count": 3,
     "metadata": {},
     "output_type": "execute_result"
    }
   ],
   "source": [
    "(21/22)*(42/11)*(231/128)"
   ]
  },
  {
   "cell_type": "code",
   "execution_count": 99,
   "id": "9f45470d",
   "metadata": {
    "ExecuteTime": {
     "end_time": "2022-11-16T10:18:49.129934Z",
     "start_time": "2022-11-16T10:18:49.099757Z"
    }
   },
   "outputs": [],
   "source": [
    "data = np.array([[1], [2], [3], [4], [5], [6], [7], [8], [9], [10]])\n",
    "ds = TINN_Dataset(tf.float32,\n",
    "                  data, \n",
    "                  2*data)"
   ]
  },
  {
   "cell_type": "code",
   "execution_count": 103,
   "id": "847a366c",
   "metadata": {
    "ExecuteTime": {
     "end_time": "2022-11-16T10:19:23.830345Z",
     "start_time": "2022-11-16T10:19:23.821189Z"
    }
   },
   "outputs": [],
   "source": [
    "class dummy_loss(tu.PDE_Residual):\n",
    "    def __init__(\n",
    "        self,\n",
    "        print_precision=\".5f\",\n",
    "    ):\n",
    "        \"\"\" \"\"\"\n",
    "\n",
    "        super().__init__(name=\"dummy_loss\", print_precision=print_precision)\n",
    "        self._trainables_ = ()\n",
    "        \n",
    "\n",
    "    @tf.function\n",
    "    def residual(self, pinn, x): \n",
    "        y = pinn.net(x)\n",
    "        return y, tf.constant([0.0] * y.shape[0], dtype=pinn.dtype), tf.constant([0.0] * y.shape[0], dtype=pinn.dtype)"
   ]
  },
  {
   "cell_type": "code",
   "execution_count": 112,
   "id": "b7730aad",
   "metadata": {
    "ExecuteTime": {
     "end_time": "2022-11-16T10:21:14.039457Z",
     "start_time": "2022-11-16T10:21:14.011591Z"
    }
   },
   "outputs": [],
   "source": [
    "pinn = tu.NN([1, 1], np.array([1.0]), np.array([21.0]))"
   ]
  },
  {
   "cell_type": "code",
   "execution_count": 109,
   "id": "fbc274ca",
   "metadata": {
    "ExecuteTime": {
     "end_time": "2022-11-16T10:19:58.363671Z",
     "start_time": "2022-11-16T10:19:58.344763Z"
    }
   },
   "outputs": [],
   "source": [
    "model = tu.TINN(pinn, dummy_loss(), L2())"
   ]
  },
  {
   "cell_type": "code",
   "execution_count": 106,
   "id": "21331fac",
   "metadata": {
    "ExecuteTime": {
     "end_time": "2022-11-16T10:19:26.025772Z",
     "start_time": "2022-11-16T10:19:25.990725Z"
    }
   },
   "outputs": [
    {
     "data": {
      "text/plain": [
       "[(array([[ 1.],\n",
       "         [ 2.],\n",
       "         [ 3.],\n",
       "         [ 4.],\n",
       "         [ 5.],\n",
       "         [ 6.],\n",
       "         [ 7.],\n",
       "         [ 8.],\n",
       "         [ 9.],\n",
       "         [10.]], dtype=float32),\n",
       "  array([[ 2.],\n",
       "         [ 4.],\n",
       "         [ 6.],\n",
       "         [ 8.],\n",
       "         [10.],\n",
       "         [12.],\n",
       "         [14.],\n",
       "         [16.],\n",
       "         [18.],\n",
       "         [20.]], dtype=float32))]"
      ]
     },
     "execution_count": 106,
     "metadata": {},
     "output_type": "execute_result"
    }
   ],
   "source": [
    "list(ds.batch(10).as_numpy_iterator())"
   ]
  },
  {
   "cell_type": "code",
   "execution_count": null,
   "id": "0d6da306",
   "metadata": {},
   "outputs": [],
   "source": []
  },
  {
   "cell_type": "code",
   "execution_count": 25,
   "id": "f66334be",
   "metadata": {
    "ExecuteTime": {
     "end_time": "2022-11-16T09:44:45.286113Z",
     "start_time": "2022-11-16T09:44:45.253961Z"
    }
   },
   "outputs": [
    {
     "data": {
      "text/plain": [
       "<tf.Tensor: shape=(2, 1), dtype=float32, numpy=\n",
       "array([[0.32972032],\n",
       "       [0.34861135]], dtype=float32)>"
      ]
     },
     "execution_count": 25,
     "metadata": {},
     "output_type": "execute_result"
    }
   ],
   "source": [
    "pinn(np.array([[.5], [.25]]))"
   ]
  },
  {
   "cell_type": "code",
   "execution_count": 122,
   "id": "7c8960e9",
   "metadata": {
    "ExecuteTime": {
     "end_time": "2022-11-16T10:24:06.642577Z",
     "start_time": "2022-11-16T10:24:06.609638Z"
    }
   },
   "outputs": [],
   "source": [
    "pinn = tu.NN([1, 10, 1], np.array([-10.0]), np.array([10.0]))"
   ]
  },
  {
   "cell_type": "code",
   "execution_count": 121,
   "id": "9b4ca469",
   "metadata": {
    "ExecuteTime": {
     "end_time": "2022-11-16T10:23:29.033951Z",
     "start_time": "2022-11-16T10:23:28.626316Z"
    }
   },
   "outputs": [
    {
     "name": "stdout",
     "output_type": "stream",
     "text": [
      "WARNING:tensorflow:11 out of the last 11 calls to <function NN.net at 0x7f6bab2e0f70> triggered tf.function retracing. Tracing is expensive and the excessive number of tracings could be due to (1) creating @tf.function repeatedly in a loop, (2) passing tensors with different shapes, (3) passing Python objects instead of tensors. For (1), please define your @tf.function outside of the loop. For (2), @tf.function has experimental_relax_shapes=True option that relaxes argument shapes that can avoid unnecessary retracing. For (3), please refer to https://www.tensorflow.org/tutorials/customization/performance#python_or_tensor_args and https://www.tensorflow.org/api_docs/python/tf/function for  more details.\n",
      "[[-0.28114563]\n",
      " [ 0.28114563]]\n",
      "tf.Tensor(\n",
      "[[0.0089566]\n",
      " [0.0089566]], shape=(2, 1), dtype=float32)\n",
      "WARNING:tensorflow:11 out of the last 11 calls to <function NN.net at 0x7f6bab2e0f70> triggered tf.function retracing. Tracing is expensive and the excessive number of tracings could be due to (1) creating @tf.function repeatedly in a loop, (2) passing tensors with different shapes, (3) passing Python objects instead of tensors. For (1), please define your @tf.function outside of the loop. For (2), @tf.function has experimental_relax_shapes=True option that relaxes argument shapes that can avoid unnecessary retracing. For (3), please refer to https://www.tensorflow.org/tutorials/customization/performance#python_or_tensor_args and https://www.tensorflow.org/api_docs/python/tf/function for  more details.\n",
      "[[ 0.13108774]\n",
      " [-0.13108774]]\n",
      "tf.Tensor(\n",
      "[[-0.04802988]\n",
      " [-0.04802988]], shape=(2, 1), dtype=float32)\n",
      "WARNING:tensorflow:11 out of the last 11 calls to <function NN.net at 0x7f6bab2e0f70> triggered tf.function retracing. Tracing is expensive and the excessive number of tracings could be due to (1) creating @tf.function repeatedly in a loop, (2) passing tensors with different shapes, (3) passing Python objects instead of tensors. For (1), please define your @tf.function outside of the loop. For (2), @tf.function has experimental_relax_shapes=True option that relaxes argument shapes that can avoid unnecessary retracing. For (3), please refer to https://www.tensorflow.org/tutorials/customization/performance#python_or_tensor_args and https://www.tensorflow.org/api_docs/python/tf/function for  more details.\n",
      "[[-0.3360556]\n",
      " [ 0.3360556]]\n",
      "tf.Tensor(\n",
      "[[2.2066615e-06]\n",
      " [2.2066615e-06]], shape=(2, 1), dtype=float32)\n"
     ]
    }
   ],
   "source": [
    "with tf.GradientTape(persistent=True) as tape:\n",
    "    inputs = tf.Variable([[-10.0], [10.0]])    \n",
    "    o = pinn(inputs)\n",
    "print(o.numpy())\n",
    "print(tape.gradient(o, inputs))\n",
    "\n",
    "with tf.GradientTape(persistent=True) as tape:\n",
    "    inputs = tf.Variable([[-1.0], [1.0]])    \n",
    "    o = pinn(inputs)\n",
    "print(o.numpy())\n",
    "print(tape.gradient(o, inputs))\n",
    "\n",
    "\n",
    "with tf.GradientTape(persistent=True) as tape:\n",
    "    inputs = tf.Variable([[-100.0], [100.0]])    \n",
    "    o = pinn(inputs)\n",
    "print(o.numpy())\n",
    "print(tape.gradient(o, inputs))"
   ]
  },
  {
   "cell_type": "code",
   "execution_count": 123,
   "id": "f48b9b25",
   "metadata": {
    "ExecuteTime": {
     "end_time": "2022-11-16T10:24:13.366227Z",
     "start_time": "2022-11-16T10:24:12.963772Z"
    }
   },
   "outputs": [
    {
     "name": "stdout",
     "output_type": "stream",
     "text": [
      "WARNING:tensorflow:11 out of the last 11 calls to <function NN.net at 0x7f6a6c373dc0> triggered tf.function retracing. Tracing is expensive and the excessive number of tracings could be due to (1) creating @tf.function repeatedly in a loop, (2) passing tensors with different shapes, (3) passing Python objects instead of tensors. For (1), please define your @tf.function outside of the loop. For (2), @tf.function has experimental_relax_shapes=True option that relaxes argument shapes that can avoid unnecessary retracing. For (3), please refer to https://www.tensorflow.org/tutorials/customization/performance#python_or_tensor_args and https://www.tensorflow.org/api_docs/python/tf/function for  more details.\n",
      "[[ 0.18756835]\n",
      " [-0.18756835]]\n",
      "tf.Tensor(\n",
      "[[-0.01437075]\n",
      " [-0.01437075]], shape=(2, 1), dtype=float32)\n",
      "WARNING:tensorflow:11 out of the last 11 calls to <function NN.net at 0x7f6a6c373dc0> triggered tf.function retracing. Tracing is expensive and the excessive number of tracings could be due to (1) creating @tf.function repeatedly in a loop, (2) passing tensors with different shapes, (3) passing Python objects instead of tensors. For (1), please define your @tf.function outside of the loop. For (2), @tf.function has experimental_relax_shapes=True option that relaxes argument shapes that can avoid unnecessary retracing. For (3), please refer to https://www.tensorflow.org/tutorials/customization/performance#python_or_tensor_args and https://www.tensorflow.org/api_docs/python/tf/function for  more details.\n",
      "[[ 0.02124835]\n",
      " [-0.02124836]]\n",
      "tf.Tensor(\n",
      "[[-0.02119057]\n",
      " [-0.02119057]], shape=(2, 1), dtype=float32)\n",
      "WARNING:tensorflow:11 out of the last 11 calls to <function NN.net at 0x7f6a6c373dc0> triggered tf.function retracing. Tracing is expensive and the excessive number of tracings could be due to (1) creating @tf.function repeatedly in a loop, (2) passing tensors with different shapes, (3) passing Python objects instead of tensors. For (1), please define your @tf.function outside of the loop. For (2), @tf.function has experimental_relax_shapes=True option that relaxes argument shapes that can avoid unnecessary retracing. For (3), please refer to https://www.tensorflow.org/tutorials/customization/performance#python_or_tensor_args and https://www.tensorflow.org/api_docs/python/tf/function for  more details.\n",
      "[[ 0.38984135]\n",
      " [-0.38984135]]\n",
      "tf.Tensor(\n",
      "[[-0.00203375]\n",
      " [-0.00203375]], shape=(2, 1), dtype=float32)\n"
     ]
    }
   ],
   "source": [
    "with tf.GradientTape(persistent=True) as tape:\n",
    "    inputs = tf.Variable([[-10.0], [10.0]])    \n",
    "    o = pinn(inputs)\n",
    "print(o.numpy())\n",
    "print(tape.gradient(o, inputs))\n",
    "\n",
    "with tf.GradientTape(persistent=True) as tape:\n",
    "    inputs = tf.Variable([[-1.0], [1.0]])    \n",
    "    o = pinn(inputs)\n",
    "print(o.numpy())\n",
    "print(tape.gradient(o, inputs))\n",
    "\n",
    "\n",
    "with tf.GradientTape(persistent=True) as tape:\n",
    "    inputs = tf.Variable([[-100.0], [100.0]])    \n",
    "    o = pinn(inputs)\n",
    "print(o.numpy())\n",
    "print(tape.gradient(o, inputs))"
   ]
  },
  {
   "cell_type": "code",
   "execution_count": null,
   "id": "f1ea1e8c",
   "metadata": {},
   "outputs": [],
   "source": []
  }
 ],
 "metadata": {
  "kernelspec": {
   "display_name": "Python 3 (ipykernel)",
   "language": "python",
   "name": "python3"
  },
  "language_info": {
   "codemirror_mode": {
    "name": "ipython",
    "version": 3
   },
   "file_extension": ".py",
   "mimetype": "text/x-python",
   "name": "python",
   "nbconvert_exporter": "python",
   "pygments_lexer": "ipython3",
   "version": "3.8.13"
  },
  "varInspector": {
   "cols": {
    "lenName": 16,
    "lenType": 16,
    "lenVar": 40
   },
   "kernels_config": {
    "python": {
     "delete_cmd_postfix": "",
     "delete_cmd_prefix": "del ",
     "library": "var_list.py",
     "varRefreshCmd": "print(var_dic_list())"
    },
    "r": {
     "delete_cmd_postfix": ") ",
     "delete_cmd_prefix": "rm(",
     "library": "var_list.r",
     "varRefreshCmd": "cat(var_dic_list()) "
    }
   },
   "types_to_exclude": [
    "module",
    "function",
    "builtin_function_or_method",
    "instance",
    "_Feature"
   ],
   "window_display": false
  }
 },
 "nbformat": 4,
 "nbformat_minor": 5
}
