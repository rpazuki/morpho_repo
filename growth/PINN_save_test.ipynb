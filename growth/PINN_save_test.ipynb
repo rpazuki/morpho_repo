{
 "cells": [
  {
   "cell_type": "code",
   "execution_count": 1,
   "id": "23383b1b",
   "metadata": {
    "ExecuteTime": {
     "end_time": "2022-10-16T20:51:17.972064Z",
     "start_time": "2022-10-16T20:51:15.119370Z"
    },
    "scrolled": true
   },
   "outputs": [
    {
     "name": "stderr",
     "output_type": "stream",
     "text": [
      "2022-10-16 21:51:17.830511: I tensorflow/core/common_runtime/gpu/gpu_device.cc:1900] Ignoring visible gpu device (device: 0, name: Quadro K2000, pci bus id: 0000:05:00.0, compute capability: 3.0) with Cuda compute capability 3.0. The minimum required Cuda capability is 3.5.\n"
     ]
    }
   ],
   "source": [
    "%config Completer.use_jedi = False\n",
    "import sys\n",
    "import warnings\n",
    "warnings.filterwarnings('ignore')\n",
    "import tensorflow as tf\n",
    "import numpy as np\n",
    "import matplotlib.pyplot as plt\n",
    "import scipy.io\n",
    "import time\n",
    "import threading\n",
    "import gc\n",
    "import copy\n",
    "\n",
    "sys.path.append(\"/end/home/rh2310/morpho_repo/turing_codebase\")\n",
    "from turing.utils import *\n",
    "import turing.pinns as tu\n",
    "from turing.loss_functions import *\n",
    "\n",
    "GPU = True\n",
    "import os\n",
    "\n",
    "if GPU:\n",
    "    txt_device = 'gpu:0'\n",
    "else:\n",
    "    txt_device = 'cpu:0'    \n",
    "    os.environ[\"CUDA_VISIBLE_DEVICES\"]=\"-1\""
   ]
  },
  {
   "cell_type": "markdown",
   "id": "1b81d204",
   "metadata": {},
   "source": [
    "# Load data from the output of Brusselator model"
   ]
  },
  {
   "cell_type": "code",
   "execution_count": null,
   "id": "df0e3012",
   "metadata": {},
   "outputs": [],
   "source": []
  },
  {
   "cell_type": "code",
   "execution_count": 2,
   "id": "ea70e78b",
   "metadata": {
    "ExecuteTime": {
     "end_time": "2022-10-15T18:04:21.509222Z",
     "start_time": "2022-10-15T18:04:21.472875Z"
    }
   },
   "outputs": [],
   "source": [
    "import os\n",
    "data_path = os.path.abspath(\"../turing_Brusselator.npy\")\n",
    "with open(data_path, 'rb') as f:\n",
    "    data = np.load(f)\n",
    "    \n",
    "data_path = os.path.abspath(\"../turing_t_Brusselator.npy\")\n",
    "with open(data_path, 'rb') as f:\n",
    "    t_star = np.load(f) \n",
    "    \n",
    "# Thining the dataset\n",
    "t_star = t_star[20::16]\n",
    "data = data[..., 20::16]\n",
    "\n",
    "T = t_star.shape[0]    \n",
    "    \n",
    "L = 1.0\n",
    "x_size = data.shape[1]\n",
    "y_size = data.shape[2]\n",
    "N = x_size*y_size\n",
    "\n",
    "model_params = {'training_data_size': T*N,#T*32,\n",
    "                'pde_data_size': (T*N)//(32),\n",
    "                'boundary_data_size':((x_size + y_size)*T)//(8)}\n",
    "\n",
    "dataset = create_dataset(data, t_star, N, T, L, **model_params)\n",
    "lb = dataset['lb']\n",
    "ub = dataset['ub']\n",
    "obs_X = dataset['obs_input']\n",
    "obs_Y = dataset['obs_output']\n",
    "pde_X = dataset['pde']\n"
   ]
  },
  {
   "cell_type": "code",
   "execution_count": 3,
   "id": "59d71c58",
   "metadata": {
    "ExecuteTime": {
     "end_time": "2022-10-15T18:00:21.789998Z",
     "start_time": "2022-10-15T18:00:21.777169Z"
    }
   },
   "outputs": [
    {
     "data": {
      "text/plain": [
       "15"
      ]
     },
     "execution_count": 3,
     "metadata": {},
     "output_type": "execute_result"
    }
   ],
   "source": [
    "T"
   ]
  },
  {
   "cell_type": "markdown",
   "id": "ac606dba",
   "metadata": {},
   "source": [
    "# Run Koch-Meinhardt's ASDM model with given diffusion constants and correct space-time scalse to find other parameters"
   ]
  },
  {
   "cell_type": "code",
   "execution_count": 4,
   "id": "9836cb6c",
   "metadata": {
    "ExecuteTime": {
     "end_time": "2022-10-15T18:00:24.568048Z",
     "start_time": "2022-10-15T18:00:24.547600Z"
    }
   },
   "outputs": [],
   "source": [
    "#layers = [3, 64, 64, 64, 64, 2]\n",
    "layers = [3, 128, 128, 128, 128, 2]\n",
    "\n",
    "pinn = tu.NN(layers, lb, ub, dtype=tf.float64)\n",
    "pde_loss = ASDM(dtype=tf.float64, init_value=1.0)\n",
    "pde_non_zero = Non_zero_params(\"ASDM\", parameters=[pde_loss.D_u, pde_loss.D_v], print_precision=\".10f\")\n",
    "\n",
    "l2_norm = L2()\n",
    "l_inf_norm = L_Inf()"
   ]
  },
  {
   "cell_type": "code",
   "execution_count": 7,
   "id": "0a395d68",
   "metadata": {
    "ExecuteTime": {
     "end_time": "2022-10-14T11:55:21.137213Z",
     "start_time": "2022-10-14T11:55:20.924234Z"
    }
   },
   "outputs": [],
   "source": [
    "pinn.save(\"/end/home/rh2310/save_tests\", \"pinn_1\")"
   ]
  },
  {
   "cell_type": "code",
   "execution_count": 8,
   "id": "deb2e403",
   "metadata": {
    "ExecuteTime": {
     "end_time": "2022-10-14T11:55:23.748677Z",
     "start_time": "2022-10-14T11:55:23.267418Z"
    }
   },
   "outputs": [
    {
     "name": "stdout",
     "output_type": "stream",
     "text": [
      "INFO:tensorflow:Unsupported signature for serialization: ((<tensorflow.python.framework.func_graph.UnknownArgument object at 0x7f349c28deb0>, TensorSpec(shape=(1920, 3), dtype=tf.float64, name='x')), {}).\n",
      "INFO:tensorflow:Unsupported signature for serialization: ((<tensorflow.python.framework.func_graph.UnknownArgument object at 0x7f349c28deb0>, TensorSpec(shape=(1920, 3), dtype=tf.float64, name='x')), {}).\n",
      "INFO:tensorflow:Unsupported signature for serialization: ((<tensorflow.python.framework.func_graph.UnknownArgument object at 0x7f349c28deb0>, TensorSpec(shape=(1920, 3), dtype=tf.float64, name='x')), {}).\n",
      "INFO:tensorflow:Assets written to: /end/home/rh2310/save_tests/pde_loss_1/assets\n"
     ]
    }
   ],
   "source": [
    "pde_loss.save(\"/end/home/rh2310/save_tests\", \"pde_loss_1\")"
   ]
  },
  {
   "cell_type": "code",
   "execution_count": 3,
   "id": "4f083098",
   "metadata": {
    "ExecuteTime": {
     "end_time": "2022-10-14T12:00:17.911137Z",
     "start_time": "2022-10-14T12:00:17.893000Z"
    }
   },
   "outputs": [],
   "source": [
    "pinn2 = tu.NN.restore(\"/end/home/rh2310/save_tests\", \"pinn_1\")"
   ]
  },
  {
   "cell_type": "code",
   "execution_count": 5,
   "id": "38d60f6a",
   "metadata": {
    "ExecuteTime": {
     "end_time": "2022-10-14T12:00:23.903523Z",
     "start_time": "2022-10-14T12:00:23.464266Z"
    }
   },
   "outputs": [
    {
     "name": "stderr",
     "output_type": "stream",
     "text": [
      "2022-10-14 13:00:23.646176: I tensorflow/stream_executor/platform/default/dso_loader.cc:48] Successfully opened dynamic library libcublas.so.10\n"
     ]
    },
    {
     "data": {
      "text/plain": [
       "<tf.Tensor: shape=(1, 2), dtype=float64, numpy=array([[ 0.04610581, -0.0373262 ]])>"
      ]
     },
     "execution_count": 5,
     "metadata": {},
     "output_type": "execute_result"
    }
   ],
   "source": [
    "pinn2.net([[0,0,0]])"
   ]
  },
  {
   "cell_type": "code",
   "execution_count": 11,
   "id": "97979add",
   "metadata": {
    "ExecuteTime": {
     "end_time": "2022-10-14T11:55:39.036642Z",
     "start_time": "2022-10-14T11:55:38.988038Z"
    }
   },
   "outputs": [
    {
     "data": {
      "text/plain": [
       "<tf.Tensor: shape=(1, 2), dtype=float64, numpy=array([[ 0.04610581, -0.0373262 ]])>"
      ]
     },
     "execution_count": 11,
     "metadata": {},
     "output_type": "execute_result"
    }
   ],
   "source": [
    "pinn.net([[0,0,0]])"
   ]
  },
  {
   "cell_type": "code",
   "execution_count": 4,
   "id": "fa9a0812",
   "metadata": {
    "ExecuteTime": {
     "end_time": "2022-10-14T12:00:20.657144Z",
     "start_time": "2022-10-14T12:00:20.641125Z"
    }
   },
   "outputs": [],
   "source": [
    "pde_loss2 = tu.NN.restore(\"/end/home/rh2310/save_tests\", \"pde_loss_1\")"
   ]
  },
  {
   "cell_type": "code",
   "execution_count": null,
   "id": "4e8d94eb",
   "metadata": {},
   "outputs": [],
   "source": []
  },
  {
   "cell_type": "code",
   "execution_count": null,
   "id": "e9c130f7",
   "metadata": {},
   "outputs": [],
   "source": []
  },
  {
   "cell_type": "code",
   "execution_count": null,
   "id": "475e1ba1",
   "metadata": {},
   "outputs": [],
   "source": []
  },
  {
   "cell_type": "code",
   "execution_count": 7,
   "id": "16c37162",
   "metadata": {
    "ExecuteTime": {
     "end_time": "2022-10-12T21:39:37.523220Z",
     "start_time": "2022-10-12T21:39:37.163713Z"
    }
   },
   "outputs": [
    {
     "name": "stdout",
     "output_type": "stream",
     "text": [
      "INFO:tensorflow:Assets written to: /tmp/pinn/assets\n"
     ]
    }
   ],
   "source": [
    "tf.saved_model.save(pinn, '/tmp/pinn', signatures=pinn.net.get_concrete_function(\n",
    "    tf.TensorSpec((None, 3), pinn.dtype)))"
   ]
  },
  {
   "cell_type": "code",
   "execution_count": 4,
   "id": "f0c5d646",
   "metadata": {
    "ExecuteTime": {
     "end_time": "2022-10-13T07:42:16.220232Z",
     "start_time": "2022-10-13T07:42:16.048015Z"
    }
   },
   "outputs": [],
   "source": [
    "pinn2 = tf.saved_model.load('/tmp/pinn')"
   ]
  },
  {
   "cell_type": "code",
   "execution_count": 32,
   "id": "f5d1cc28",
   "metadata": {
    "ExecuteTime": {
     "end_time": "2022-10-12T21:54:32.503575Z",
     "start_time": "2022-10-12T21:54:32.497839Z"
    }
   },
   "outputs": [],
   "source": [
    "pinn2.gradients = pinn.gradients"
   ]
  },
  {
   "cell_type": "code",
   "execution_count": 33,
   "id": "2e04bb80",
   "metadata": {
    "ExecuteTime": {
     "end_time": "2022-10-12T21:54:33.051600Z",
     "start_time": "2022-10-12T21:54:33.049095Z"
    }
   },
   "outputs": [],
   "source": [
    "pinn2.gradients_tape = pinn.gradients_tape"
   ]
  },
  {
   "cell_type": "code",
   "execution_count": 34,
   "id": "63384966",
   "metadata": {
    "ExecuteTime": {
     "end_time": "2022-10-12T21:54:33.815307Z",
     "start_time": "2022-10-12T21:54:33.811663Z"
    }
   },
   "outputs": [],
   "source": [
    "pinn2.dtype = pinn.dtype"
   ]
  },
  {
   "cell_type": "code",
   "execution_count": 16,
   "id": "98a5d998",
   "metadata": {
    "ExecuteTime": {
     "end_time": "2022-10-12T21:44:28.245891Z",
     "start_time": "2022-10-12T21:44:26.717098Z"
    }
   },
   "outputs": [],
   "source": [
    "f = pde_loss.loss.get_concrete_function(pinn, tf.TensorSpec((None, 3), pinn.dtype))"
   ]
  },
  {
   "cell_type": "code",
   "execution_count": 6,
   "id": "0bbf52cb",
   "metadata": {
    "ExecuteTime": {
     "end_time": "2022-10-13T07:42:39.920344Z",
     "start_time": "2022-10-13T07:42:39.830803Z"
    }
   },
   "outputs": [
    {
     "data": {
      "text/plain": [
       "<tf.Tensor: shape=(1, 2), dtype=float64, numpy=array([[ 0.01824168, -0.10053043]])>"
      ]
     },
     "execution_count": 6,
     "metadata": {},
     "output_type": "execute_result"
    }
   ],
   "source": [
    "pinn2.net([[0, 0, 0]])"
   ]
  },
  {
   "cell_type": "code",
   "execution_count": 30,
   "id": "74947740",
   "metadata": {
    "ExecuteTime": {
     "end_time": "2022-10-12T21:52:31.808568Z",
     "start_time": "2022-10-12T21:52:31.802797Z"
    }
   },
   "outputs": [
    {
     "data": {
      "text/plain": [
       "tf.float64"
      ]
     },
     "execution_count": 30,
     "metadata": {},
     "output_type": "execute_result"
    }
   ],
   "source": []
  },
  {
   "cell_type": "code",
   "execution_count": 7,
   "id": "11c01f70",
   "metadata": {
    "ExecuteTime": {
     "end_time": "2022-10-13T07:42:51.288672Z",
     "start_time": "2022-10-13T07:42:51.267402Z"
    },
    "scrolled": true
   },
   "outputs": [
    {
     "ename": "NameError",
     "evalue": "name 'pde_loss' is not defined",
     "output_type": "error",
     "traceback": [
      "\u001b[0;31m---------------------------------------------------------------------------\u001b[0m",
      "\u001b[0;31mNameError\u001b[0m                                 Traceback (most recent call last)",
      "\u001b[0;32m/tmp/ipykernel_11789/3759814165.py\u001b[0m in \u001b[0;36m<module>\u001b[0;34m\u001b[0m\n\u001b[0;32m----> 1\u001b[0;31m tf.saved_model.save(pde_loss, '/tmp/pde_loss', signatures=pde_loss.loss.get_concrete_function(\n\u001b[0m\u001b[1;32m      2\u001b[0m     pinn2, x=tf.TensorSpec((None, 3), pinn.dtype)))\n",
      "\u001b[0;31mNameError\u001b[0m: name 'pde_loss' is not defined"
     ]
    }
   ],
   "source": [
    "tf.saved_model.save(pde_loss, '/tmp/pde_loss', signatures=pde_loss.loss.get_concrete_function(\n",
    "    pinn2, x=tf.TensorSpec((None, 3), pinn.dtype)))"
   ]
  },
  {
   "cell_type": "code",
   "execution_count": 8,
   "id": "5f61c901",
   "metadata": {
    "ExecuteTime": {
     "end_time": "2022-10-13T07:43:03.341496Z",
     "start_time": "2022-10-13T07:43:03.287246Z"
    }
   },
   "outputs": [],
   "source": [
    "bb = tf.saved_model.load('/tmp/pde_loss')"
   ]
  },
  {
   "cell_type": "code",
   "execution_count": 9,
   "id": "fab24ad3",
   "metadata": {
    "ExecuteTime": {
     "end_time": "2022-10-13T07:43:15.331646Z",
     "start_time": "2022-10-13T07:43:15.325773Z"
    }
   },
   "outputs": [
    {
     "data": {
      "text/plain": [
       "_SignatureMap({})"
      ]
     },
     "execution_count": 9,
     "metadata": {},
     "output_type": "execute_result"
    }
   ],
   "source": [
    "bb."
   ]
  },
  {
   "cell_type": "code",
   "execution_count": 59,
   "id": "0288430d",
   "metadata": {
    "ExecuteTime": {
     "end_time": "2022-10-12T22:30:09.403148Z",
     "start_time": "2022-10-12T22:30:09.328490Z"
    }
   },
   "outputs": [],
   "source": [
    "pde_loss2 = ASDM2.restote(tf.saved_model.load('/tmp/pde_loss'))"
   ]
  },
  {
   "cell_type": "code",
   "execution_count": 58,
   "id": "f6c4e551",
   "metadata": {
    "ExecuteTime": {
     "end_time": "2022-10-12T22:30:03.096382Z",
     "start_time": "2022-10-12T22:30:03.061996Z"
    }
   },
   "outputs": [],
   "source": [
    "class ASDM2(Loss):\n",
    "    def __init__(\n",
    "        self,\n",
    "        dtype,\n",
    "        init_value=10.0,\n",
    "        D_u=None,\n",
    "        D_v=None,\n",
    "        sigma_u=None,\n",
    "        sigma_v=None,\n",
    "        mu_u=None,\n",
    "        rho_u=None,\n",
    "        rho_v=None,\n",
    "        kappa_u=None,\n",
    "        print_precision=\".5f\",\n",
    "    ):\n",
    "        \"\"\"ASDM PDE loss\n",
    "\n",
    "        if the parameter is None, it becomes traiable with initial value set as init_vale,\n",
    "        otherwise, it will be a constant\n",
    "        \"\"\"\n",
    "\n",
    "        super().__init__(name=\"Loss_ASDM\", print_precision=print_precision)\n",
    "\n",
    "        self._trainables_ = ()        \n",
    "        if D_u is None:\n",
    "            self.D_u = tf.Variable(\n",
    "                [init_value], dtype=dtype, name=\"D_u\", constraint=lambda z: tf.clip_by_value(z, 1e-6, 1e10)\n",
    "            )\n",
    "            self._trainables_ += (self.D_u,)\n",
    "        elif isinstance(D_u, tf.Variable):\n",
    "            self.D_u = D_u\n",
    "            self._trainables_ += (self.D_u,)\n",
    "        elif isinstance(D_u, tf.constant):\n",
    "            self.D_u = D_u\n",
    "        else:\n",
    "            self.D_u = tf.constant(D_u, dtype=dtype, name=\"D_u\")\n",
    "\n",
    "        if D_v is None:\n",
    "            self.D_v = tf.Variable(\n",
    "                [init_value], dtype=dtype, name=\"D_v\", constraint=lambda z: tf.clip_by_value(z, 1e-6, 1e10)\n",
    "            )\n",
    "            self._trainables_ += (self.D_v,)\n",
    "        elif isinstance(D_v, tf.Variable):\n",
    "            self.D_v = D_v\n",
    "            self._trainables_ += (self.D_v,)\n",
    "        elif isinstance(D_v, tf.constant):\n",
    "            self.D_v = D_v\n",
    "        else:\n",
    "            self.D_v = tf.constant(D_v, dtype=dtype, name=\"D_v\")\n",
    "\n",
    "        if sigma_u is None:\n",
    "            self.sigma_u = tf.Variable(\n",
    "                [init_value], dtype=dtype, name=\"sigma_u\", constraint=lambda z: tf.clip_by_value(z, 0, 1e10)\n",
    "            )\n",
    "            self._trainables_ += (self.sigma_u,)\n",
    "        elif isinstance(sigma_u, tf.Variable):\n",
    "            self.sigma_u = sigma_u\n",
    "            self._trainables_ += (self.sigma_u,)\n",
    "        elif isinstance(sigma_u, tf.constant):\n",
    "            self.sigma_u = sigma_u\n",
    "        else:\n",
    "            self.sigma_u = tf.constant(sigma_u, dtype=dtype, name=\"sigma_u\")\n",
    "\n",
    "        if sigma_v is None:\n",
    "            self.sigma_v = tf.Variable(\n",
    "                [init_value], dtype=dtype, name=\"sigma_v\", constraint=lambda z: tf.clip_by_value(z, 0, 1e10)\n",
    "            )\n",
    "            self._trainables_ += (self.sigma_v,)\n",
    "        elif isinstance(sigma_u, tf.Variable):\n",
    "            self.sigma_v = sigma_v\n",
    "            self._trainables_ += (self.sigma_v,)\n",
    "            \n",
    "        elif isinstance(sigma_v, tf.constant):\n",
    "            self.sigma_v = sigma_v\n",
    "        else:\n",
    "            self.sigma_v = tf.constant(sigma_v, dtype=dtype, name=\"sigma_v\")\n",
    "\n",
    "        if mu_u is None:\n",
    "            self.mu_u = tf.Variable(\n",
    "                [init_value], dtype=dtype, name=\"mu_u\", constraint=lambda z: tf.clip_by_value(z, 0, 1e10)\n",
    "            )\n",
    "            self._trainables_ += (self.mu_u,)\n",
    "        elif isinstance(mu_u, tf.Variable):\n",
    "            self.mu_u = mu_u\n",
    "            self._trainables_ += (self.mu_u,)\n",
    "        elif isinstance(mu_u, tf.constant):\n",
    "            self.mu_u = mu_u\n",
    "        else:\n",
    "            self.mu_u = tf.constant(mu_u, dtype=dtype, name=\"mu_u\")\n",
    "\n",
    "        if rho_u is None:\n",
    "            self.rho_u = tf.Variable(\n",
    "                [init_value], dtype=dtype, name=\"rho_u\", constraint=lambda z: tf.clip_by_value(z, 0, 1e10)\n",
    "            )\n",
    "            self._trainables_ += (self.rho_u,)\n",
    "        elif isinstance(rho_u, tf.Variable):\n",
    "            self.rho_u = rho_u\n",
    "            self._trainables_ += (self.rho_u,)\n",
    "        elif isinstance(rho_u, tf.constant):\n",
    "            self.rho_u = rho_u\n",
    "        else:\n",
    "            self.rho_u = tf.constant(rho_u, dtype=dtype, name=\"rho_u\")\n",
    "\n",
    "        if rho_v is None:\n",
    "            self.rho_v = tf.Variable(\n",
    "                [init_value], dtype=dtype, name=\"rho_v\", constraint=lambda z: tf.clip_by_value(z, 0, 1e10)\n",
    "            )\n",
    "            self._trainables_ += (self.rho_v,)\n",
    "        elif isinstance(rho_v, tf.Variable):\n",
    "            self.rho_v = rho_v\n",
    "            self._trainables_ += (self.rho_v,)\n",
    "        elif isinstance(rho_v, tf.constant):\n",
    "            self.rho_v = rho_v\n",
    "        else:\n",
    "            self.rho_v = tf.constant(rho_v, dtype=dtype, name=\"rho_v\")\n",
    "\n",
    "        if kappa_u is None:\n",
    "            self.kappa_u = tf.Variable(\n",
    "                [init_value], dtype=dtype, name=\"kappa_u\", constraint=lambda z: tf.clip_by_value(z, 0, 1e10)\n",
    "            )\n",
    "            self._trainables_ += (self.kappa_u,)\n",
    "        elif isinstance(kappa_u, tf.Variable):\n",
    "            \n",
    "            self.kappa_u = kappa_u\n",
    "            self._trainables_ += (self.kappa_u,)\n",
    "        elif isinstance(kappa_u, tf.constant):\n",
    "            self.kappa_u = kappa_u\n",
    "        else:\n",
    "            self.kappa_u = tf.constant(kappa_u, dtype=dtype, name=\"kappa_u\")\n",
    "\n",
    "    @classmethod\n",
    "    def restote(cls, saved):        \n",
    "        return cls(None, D_u=saved.D_u,\n",
    "        D_v=saved.D_v,\n",
    "        sigma_u=saved.sigma_u,\n",
    "        sigma_v=saved.sigma_v,\n",
    "        mu_u=saved.mu_u,\n",
    "        rho_u=saved.rho_u,\n",
    "        rho_v=saved.rho_v,\n",
    "        kappa_u=saved.kappa_u)\n",
    "    \n",
    "    @tf.function\n",
    "    def loss(self, pinn, x):\n",
    "        outputs = pinn.net(x)\n",
    "        p1, p2 = pinn.gradients(x, outputs)\n",
    "\n",
    "        u = outputs[:, 0]\n",
    "        v = outputs[:, 1]\n",
    "\n",
    "        # u_x = tf.cast(p1[0][:, 0], pinn.dtype)\n",
    "        # u_y = tf.cast(p1[0][:, 1], pinn.dtype)\n",
    "        u_t = tf.cast(p1[0][:, 2], pinn.dtype)\n",
    "\n",
    "        u_xx = tf.cast(p2[0][:, 0], pinn.dtype)\n",
    "        u_yy = tf.cast(p2[0][:, 1], pinn.dtype)\n",
    "\n",
    "        # v_x = tf.cast(p1[1][:, 0], pinn.dtype)\n",
    "        # v_y = tf.cast(p1[1][:, 1], pinn.dtype)\n",
    "        v_t = tf.cast(p1[1][:, 2], pinn.dtype)\n",
    "\n",
    "        v_xx = tf.cast(p2[1][:, 0], pinn.dtype)\n",
    "        v_yy = tf.cast(p2[1][:, 1], pinn.dtype)\n",
    "\n",
    "        D_u = self.D_u\n",
    "        D_v = self.D_v\n",
    "        sigma_u = self.sigma_u\n",
    "        sigma_v = self.sigma_v\n",
    "        mu_u = self.mu_u\n",
    "        rho_u = self.rho_u\n",
    "        rho_v = self.rho_v\n",
    "        kappa_u = self.kappa_u\n",
    "\n",
    "        f = u * u * v / (1.0 + kappa_u * u * u)\n",
    "        f_u = u_t - D_u * (u_xx + u_yy) - rho_u * f + mu_u * u - sigma_u\n",
    "        f_v = v_t - D_v * (v_xx + v_yy) + rho_v * f - sigma_v\n",
    "\n",
    "        return outputs, f_u, f_v\n"
   ]
  },
  {
   "cell_type": "code",
   "execution_count": 54,
   "id": "9a90f514",
   "metadata": {
    "ExecuteTime": {
     "end_time": "2022-10-12T22:25:19.851357Z",
     "start_time": "2022-10-12T22:25:19.844581Z"
    }
   },
   "outputs": [
    {
     "data": {
      "text/plain": [
       "tuple"
      ]
     },
     "execution_count": 54,
     "metadata": {},
     "output_type": "execute_result"
    }
   ],
   "source": [
    "type(pinn.trainable_variables)"
   ]
  },
  {
   "cell_type": "code",
   "execution_count": 55,
   "id": "81b145da",
   "metadata": {
    "ExecuteTime": {
     "end_time": "2022-10-12T22:26:26.929599Z",
     "start_time": "2022-10-12T22:26:26.917660Z"
    }
   },
   "outputs": [
    {
     "data": {
      "text/plain": [
       "(<tf.Variable 'D_u:0' shape=(1,) dtype=float64, numpy=array([0.99922592])>,\n",
       " <tf.Variable 'D_v:0' shape=(1,) dtype=float64, numpy=array([0.9991385])>,\n",
       " <tf.Variable 'sigma_u:0' shape=(1,) dtype=float64, numpy=array([0.99930361])>,\n",
       " <tf.Variable 'sigma_v:0' shape=(1,) dtype=float64, numpy=array([0.99930309])>,\n",
       " <tf.Variable 'mu_u:0' shape=(1,) dtype=float64, numpy=array([1.00018546])>,\n",
       " <tf.Variable 'rho_u:0' shape=(1,) dtype=float64, numpy=array([0.99981796])>,\n",
       " <tf.Variable 'rho_v:0' shape=(1,) dtype=float64, numpy=array([1.00030259])>,\n",
       " <tf.Variable 'kappa_u:0' shape=(1,) dtype=float64, numpy=array([0.99997934])>)"
      ]
     },
     "execution_count": 55,
     "metadata": {},
     "output_type": "execute_result"
    }
   ],
   "source": []
  },
  {
   "cell_type": "code",
   "execution_count": null,
   "id": "bf65c8a8",
   "metadata": {},
   "outputs": [],
   "source": []
  },
  {
   "cell_type": "code",
   "execution_count": 5,
   "id": "3c1b4aea",
   "metadata": {
    "ExecuteTime": {
     "end_time": "2022-10-15T18:00:32.796410Z",
     "start_time": "2022-10-15T18:00:32.775581Z"
    }
   },
   "outputs": [],
   "source": [
    "model = tu.TINN(pinn, \n",
    "                pde_loss, \n",
    "                loss = l2_norm + l_inf_norm,\n",
    "                non_zero_loss=pde_non_zero, \n",
    "                #optimizer=keras.optimizers.Adam(learning_rate=0.0001), \n",
    "                alpha = 0.5,\n",
    "                print_precision=\".10f\")"
   ]
  },
  {
   "cell_type": "code",
   "execution_count": 6,
   "id": "d683f8c3",
   "metadata": {
    "ExecuteTime": {
     "end_time": "2022-10-15T18:01:19.542902Z",
     "start_time": "2022-10-15T18:00:34.390044Z"
    }
   },
   "outputs": [
    {
     "name": "stdout",
     "output_type": "stream",
     "text": [
      "\n",
      "Start of epoch 0\n"
     ]
    },
    {
     "name": "stderr",
     "output_type": "stream",
     "text": [
      "2022-10-15 19:00:41.982368: W tensorflow/python/util/util.cc:368] Sets are not currently considered sequences, but this may change in the future, so consider avoiding using them.\n"
     ]
    },
    {
     "name": "stdout",
     "output_type": "stream",
     "text": [
      "Training observations acc over epoch: 21.0142002106\n",
      "total loss: 87.5008699029, total regularisd loss (sum of batches): 700.0069592229\n",
      "obs u loss: 70.9953419944, obs v loss: 13.0614598401\n",
      "pde u loss: 1.5657291233, pde v loss: 1.8783389450\n",
      "Non-zero loss: 0.0000002004, \n",
      "lambda obs u: 1.0000000000, lambda obs v: 1.0000000000\n",
      "lambda pde u: 1.0000000000, lambda pde v: 1.0000000000\n",
      "D_u: 0.99801 D_v: 1.00263 sigma_u: 0.99276 sigma_v: 0.99268 \n",
      "mu_u: 1.00226 rho_u: 0.99770 rho_v: 1.00325 kappa_u: 0.99430 \n",
      "\n",
      "Time taken: 32.85s\n"
     ]
    }
   ],
   "source": [
    "results = model.train(epochs=2,\n",
    "                      batch_size=len(obs_X)//8,\n",
    "                      X=obs_X,\n",
    "                      Y=obs_Y,\n",
    "                      print_interval=50,\n",
    "                      stop_threshold=1e-5,\n",
    "                      shuffle=True,\n",
    "                      sample_losses=True, \n",
    "                      sample_parameters=True,\n",
    "                      sample_regularisations=True,\n",
    "                      sample_gradients=True,\n",
    "                      regularise=True\n",
    "                     )"
   ]
  },
  {
   "cell_type": "code",
   "execution_count": 7,
   "id": "9392584f",
   "metadata": {
    "ExecuteTime": {
     "end_time": "2022-10-15T18:01:26.324980Z",
     "start_time": "2022-10-15T18:01:26.211191Z"
    }
   },
   "outputs": [],
   "source": [
    "model.save(\"/end/home/rh2310/save_tests\", \"model_1\")"
   ]
  },
  {
   "cell_type": "code",
   "execution_count": 3,
   "id": "bf3b99b9",
   "metadata": {
    "ExecuteTime": {
     "end_time": "2022-10-15T18:04:31.089397Z",
     "start_time": "2022-10-15T18:04:31.052785Z"
    },
    "scrolled": true
   },
   "outputs": [],
   "source": [
    "model2 = tu.TINN_inverse.restore(\"/end/home/rh2310/save_tests\", \"model_1\")"
   ]
  },
  {
   "cell_type": "code",
   "execution_count": 5,
   "id": "c4f6b0d6",
   "metadata": {
    "ExecuteTime": {
     "end_time": "2022-10-15T18:05:52.090034Z",
     "start_time": "2022-10-15T18:05:52.084995Z"
    }
   },
   "outputs": [],
   "source": [
    "pinn2 = model2.pinn\n",
    "pde_residual2 = model2.pde_residual\n",
    "pde_non_zero2 = model2.non_zero_loss"
   ]
  },
  {
   "cell_type": "code",
   "execution_count": 6,
   "id": "9d97389a",
   "metadata": {
    "ExecuteTime": {
     "end_time": "2022-10-15T18:05:52.717572Z",
     "start_time": "2022-10-15T18:05:52.712863Z"
    }
   },
   "outputs": [],
   "source": [
    "l2_norm = L2()\n",
    "l_inf_norm = L_Inf()"
   ]
  },
  {
   "cell_type": "code",
   "execution_count": 7,
   "id": "6430c8a7",
   "metadata": {
    "ExecuteTime": {
     "end_time": "2022-10-15T18:05:53.665015Z",
     "start_time": "2022-10-15T18:05:53.634197Z"
    }
   },
   "outputs": [],
   "source": [
    "model2 = tu.TINN_inverse(pinn2, \n",
    "                pde_residual2, \n",
    "                loss = l2_norm + l_inf_norm,\n",
    "                non_zero_loss=pde_non_zero2, \n",
    "                #optimizer=keras.optimizers.Adam(learning_rate=0.0001), \n",
    "                alpha = 0.5,\n",
    "                print_precision=\".10f\")"
   ]
  },
  {
   "cell_type": "code",
   "execution_count": 8,
   "id": "d2c264a3",
   "metadata": {
    "ExecuteTime": {
     "end_time": "2022-10-15T18:06:45.483863Z",
     "start_time": "2022-10-15T18:06:01.312180Z"
    }
   },
   "outputs": [
    {
     "name": "stdout",
     "output_type": "stream",
     "text": [
      "\n",
      "Start of epoch 0\n",
      "Training observations acc over epoch: 9.1382770538\n",
      "total loss: 40.1722202250, total regularisd loss (sum of batches): 321.3777617996\n",
      "obs u loss: 35.1095967489, obs v loss: 1.4435098442\n",
      "pde u loss: 1.1400859622, pde v loss: 2.4790276697\n",
      "pde params loss: 3.6191136319\n",
      "Non-zero loss: 0.0000002037, \n",
      "lambda obs u: 1.0000000000, lambda obs v: 1.0000000000\n",
      "lambda pde u: 1.0000000000, lambda pde v: 1.0000000000\n",
      "lambda pde params u: 1.0000000000, lambda pde params v: 1.0000000000\n",
      "D_u: 0.97075 D_v: 0.98211 sigma_u: 1.00919 sigma_v: 1.00798 \n",
      "mu_u: 0.98492 rho_u: 1.01631 rho_v: 0.98552 kappa_u: 1.00232 \n",
      "\n",
      "Time taken: 30.61s\n"
     ]
    }
   ],
   "source": [
    "results2 = model2.train(epochs=2,\n",
    "                      batch_size=len(obs_X)//8,\n",
    "                      X=obs_X,\n",
    "                      Y=obs_Y,\n",
    "                      print_interval=50,\n",
    "                      stop_threshold=1e-5,\n",
    "                      shuffle=True,\n",
    "                      sample_losses=True, \n",
    "                      sample_parameters=True,\n",
    "                      sample_regularisations=True,\n",
    "                      sample_gradients=True,\n",
    "                      regularise=True\n",
    "                     )"
   ]
  },
  {
   "cell_type": "code",
   "execution_count": null,
   "id": "0dd2e919",
   "metadata": {},
   "outputs": [],
   "source": []
  }
 ],
 "metadata": {
  "kernelspec": {
   "display_name": "tensorflow.2.3",
   "language": "python",
   "name": "tensorflow.2.3"
  },
  "language_info": {
   "codemirror_mode": {
    "name": "ipython",
    "version": 3
   },
   "file_extension": ".py",
   "mimetype": "text/x-python",
   "name": "python",
   "nbconvert_exporter": "python",
   "pygments_lexer": "ipython3",
   "version": "3.9.7"
  },
  "varInspector": {
   "cols": {
    "lenName": 16,
    "lenType": 16,
    "lenVar": 40
   },
   "kernels_config": {
    "python": {
     "delete_cmd_postfix": "",
     "delete_cmd_prefix": "del ",
     "library": "var_list.py",
     "varRefreshCmd": "print(var_dic_list())"
    },
    "r": {
     "delete_cmd_postfix": ") ",
     "delete_cmd_prefix": "rm(",
     "library": "var_list.r",
     "varRefreshCmd": "cat(var_dic_list()) "
    }
   },
   "types_to_exclude": [
    "module",
    "function",
    "builtin_function_or_method",
    "instance",
    "_Feature"
   ],
   "window_display": false
  }
 },
 "nbformat": 4,
 "nbformat_minor": 5
}
