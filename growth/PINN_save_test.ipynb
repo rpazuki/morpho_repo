{
 "cells": [
  {
   "cell_type": "code",
   "execution_count": 1,
   "id": "23383b1b",
   "metadata": {
    "ExecuteTime": {
     "end_time": "2022-11-01T10:38:13.552642Z",
     "start_time": "2022-11-01T10:38:10.772695Z"
    },
    "scrolled": true
   },
   "outputs": [
    {
     "name": "stderr",
     "output_type": "stream",
     "text": [
      "2022-11-01 10:38:13.514278: I tensorflow/core/common_runtime/gpu/gpu_device.cc:1900] Ignoring visible gpu device (device: 0, name: Quadro K2000, pci bus id: 0000:05:00.0, compute capability: 3.0) with Cuda compute capability 3.0. The minimum required Cuda capability is 3.5.\n"
     ]
    }
   ],
   "source": [
    "%config Completer.use_jedi = False\n",
    "import sys\n",
    "import warnings\n",
    "warnings.filterwarnings('ignore')\n",
    "import tensorflow as tf\n",
    "import numpy as np\n",
    "import matplotlib.pyplot as plt\n",
    "import scipy.io\n",
    "import time\n",
    "import threading\n",
    "import gc\n",
    "import copy\n",
    "\n",
    "sys.path.append(\"/end/home/rh2310/morpho_repo/turing_codebase\")\n",
    "from turing.utils import *\n",
    "import turing.pinns as tu\n",
    "from turing.loss_functions import *\n",
    "\n",
    "GPU = True\n",
    "import os\n",
    "\n",
    "if GPU:\n",
    "    txt_device = 'gpu:0'\n",
    "else:\n",
    "    txt_device = 'cpu:0'    \n",
    "    os.environ[\"CUDA_VISIBLE_DEVICES\"]=\"-1\""
   ]
  },
  {
   "cell_type": "markdown",
   "id": "1b81d204",
   "metadata": {},
   "source": [
    "# Load data from the output of Brusselator model"
   ]
  },
  {
   "cell_type": "code",
   "execution_count": null,
   "id": "df0e3012",
   "metadata": {},
   "outputs": [],
   "source": []
  },
  {
   "cell_type": "code",
   "execution_count": 11,
   "id": "ea70e78b",
   "metadata": {
    "ExecuteTime": {
     "end_time": "2022-11-01T09:15:57.974988Z",
     "start_time": "2022-11-01T09:15:57.906854Z"
    }
   },
   "outputs": [],
   "source": [
    "import os\n",
    "data_path = os.path.abspath(\"../turing_Brusselator.npy\")\n",
    "with open(data_path, 'rb') as f:\n",
    "    data = np.load(f)\n",
    "    \n",
    "data_path = os.path.abspath(\"../turing_t_Brusselator.npy\")\n",
    "with open(data_path, 'rb') as f:\n",
    "    t_star = np.load(f) \n",
    "    \n",
    "# Thining the dataset\n",
    "t_star = t_star[20::16]\n",
    "data = data[..., 20::16]\n",
    "\n",
    "T = t_star.shape[0]    \n",
    "    \n",
    "L = 1.0\n",
    "x_size = data.shape[1]\n",
    "y_size = data.shape[2]\n",
    "N = x_size*y_size\n",
    "\n",
    "model_params = {'training_data_size': T*N,#T*32,\n",
    "                'pde_data_size': (T*N)//(32),\n",
    "                'boundary_data_size':((x_size + y_size)*T)//(8)}\n",
    "\n",
    "dataset = create_dataset(data, t_star, N, T, L, **model_params)\n",
    "lb = dataset['lb']\n",
    "ub = dataset['ub']\n",
    "obs_X = dataset['obs_input']\n",
    "obs_Y = dataset['obs_output']\n",
    "pde_X = dataset['pde']\n"
   ]
  },
  {
   "cell_type": "code",
   "execution_count": 3,
   "id": "59d71c58",
   "metadata": {
    "ExecuteTime": {
     "end_time": "2022-10-15T18:00:21.789998Z",
     "start_time": "2022-10-15T18:00:21.777169Z"
    }
   },
   "outputs": [
    {
     "data": {
      "text/plain": [
       "15"
      ]
     },
     "execution_count": 3,
     "metadata": {},
     "output_type": "execute_result"
    }
   ],
   "source": [
    "T"
   ]
  },
  {
   "cell_type": "markdown",
   "id": "ac606dba",
   "metadata": {},
   "source": [
    "# Run Koch-Meinhardt's ASDM model with given diffusion constants and correct space-time scalse to find other parameters"
   ]
  },
  {
   "cell_type": "code",
   "execution_count": 3,
   "id": "a2cdf4f7",
   "metadata": {
    "ExecuteTime": {
     "end_time": "2022-11-01T10:38:30.072803Z",
     "start_time": "2022-11-01T10:38:29.891545Z"
    }
   },
   "outputs": [],
   "source": [
    "dataset = TINN_Single_Sim_Dataset(os.path.abspath(\"../../test/outputs_Brusselator_100_by_100/Brusselator_1\"),\n",
    "                                 \"Brusselator_1\",\n",
    "                                 thining_start=-2)"
   ]
  },
  {
   "cell_type": "code",
   "execution_count": 3,
   "id": "9836cb6c",
   "metadata": {
    "ExecuteTime": {
     "end_time": "2022-11-01T10:32:17.875065Z",
     "start_time": "2022-11-01T10:32:17.852608Z"
    }
   },
   "outputs": [],
   "source": [
    "#layers = [3, 64, 64, 64, 64, 2]\n",
    "#layers = [3, 128, 128, 128, 128, 2]\n",
    "layers = [3, 10, 10, 10, 2]\n",
    "\n",
    "pinn = tu.NN(layers, dataset.lb, dataset.ub, dtype=tf.float64)\n",
    "pde_loss = ASDM(D_u=PDE_Parameter(\"D_u\", Parameter_Type.CONSTANT, 1,dtype=pinn.dtype),\n",
    "                D_v=PDE_Parameter(\"D_v\", Parameter_Type.CONSTANT, 1,dtype=pinn.dtype),\n",
    "                sigma_u=PDE_Parameter(\"sigma_u\", Parameter_Type.CONSTANT, 1,dtype=pinn.dtype),\n",
    "                sigma_v=PDE_Parameter(\"sigma_v\", Parameter_Type.CONSTANT, 1,dtype=pinn.dtype),\n",
    "                rho_u=PDE_Parameter(\"rho_u\", Parameter_Type.CONSTANT, 1,dtype=pinn.dtype),\n",
    "                rho_v=PDE_Parameter(\"rho_v\", Parameter_Type.CONSTANT, 1,dtype=pinn.dtype),\n",
    "                mu_u=PDE_Parameter(\"mu_u\", Parameter_Type.CONSTANT, 1,dtype=pinn.dtype),\n",
    "                kappa_u=PDE_Parameter(\"kappa_u\", Parameter_Type.CONSTANT, 1,dtype=pinn.dtype),\n",
    "                )\n",
    "#pde_non_zero = Non_zero_params(\"ASDM\", parameters=[pde_loss.D_u, pde_loss.D_v], print_precision=\".10f\")\n",
    "\n",
    "l2_norm = L2()\n",
    "l_inf_norm = L_Inf()"
   ]
  },
  {
   "cell_type": "code",
   "execution_count": 4,
   "id": "3c1b4aea",
   "metadata": {
    "ExecuteTime": {
     "end_time": "2022-11-01T10:32:18.894220Z",
     "start_time": "2022-11-01T10:32:18.880464Z"
    }
   },
   "outputs": [],
   "source": [
    "model = tu.TINN(pinn, \n",
    "                pde_loss, \n",
    "                loss = l2_norm + l_inf_norm,\n",
    "                #non_zero_loss=pde_non_zero, \n",
    "                #optimizer=keras.optimizers.Adam(learning_rate=0.0001), \n",
    "                alpha = 0.5,\n",
    "                print_precision=\".10f\")"
   ]
  },
  {
   "cell_type": "code",
   "execution_count": 5,
   "id": "d683f8c3",
   "metadata": {
    "ExecuteTime": {
     "end_time": "2022-11-01T10:32:49.153115Z",
     "start_time": "2022-11-01T10:32:22.631959Z"
    }
   },
   "outputs": [
    {
     "name": "stdout",
     "output_type": "stream",
     "text": [
      "\n",
      "Start of epoch 0\n"
     ]
    },
    {
     "name": "stderr",
     "output_type": "stream",
     "text": [
      "2022-11-01 10:32:29.549718: W tensorflow/python/util/util.cc:368] Sets are not currently considered sequences, but this may change in the future, so consider avoiding using them.\n"
     ]
    },
    {
     "name": "stdout",
     "output_type": "stream",
     "text": [
      "Training observations acc over epoch: 4.3264904022\n",
      "total loss: 21.2878979893, total regularisd loss (sum of batches): 170.3031839142\n",
      "obs u loss: 14.3203735943, obs v loss: 2.9855875070\n",
      "pde u loss: 2.3386415579, pde v loss: 1.6432953300\n",
      "lambda obs u: 1.0000000000, lambda obs v: 1.0000000000\n",
      "lambda pde u: 1.0000000000, lambda pde v: 1.0000000000\n",
      "\n",
      "Time taken: 19.78s\n",
      "\n",
      "Start of epoch 1\n",
      "Training observations acc over epoch: 4.2709894180\n",
      "total loss: 20.5487641914, total regularisd loss (sum of batches): 164.3901135310\n",
      "obs u loss: 14.1580784328, obs v loss: 2.9258797806\n",
      "pde u loss: 1.9944246558, pde v loss: 1.4703813222\n",
      "lambda obs u: 2.3048627360, lambda obs v: 0.6158554393\n",
      "lambda pde u: 0.5423605430, lambda pde v: 0.5369212817\n",
      "\n",
      "Time taken: 5.64s\n",
      "\n",
      "Start of epoch 2\n",
      "Training observations acc over epoch: 4.2173547745\n",
      "total loss: 19.8854572975, total regularisd loss (sum of batches): 285.2081070923\n",
      "obs u loss: 13.9923921682, obs v loss: 2.8770265083\n",
      "pde u loss: 1.7028680232, pde v loss: 1.3131705977\n",
      "lambda obs u: 2.9702289826, lambda obs v: 0.4229826620\n",
      "lambda pde u: 0.3063181576, lambda pde v: 0.3004701978\n",
      "\n",
      "Time taken: 0.14s\n",
      "\n",
      "Start of epoch 3\n",
      "Training observations acc over epoch: 4.1635022163\n",
      "total loss: 19.3161687714, total regularisd loss (sum of batches): 343.9487286154\n",
      "obs u loss: 13.7955753503, obs v loss: 2.8584349774\n",
      "pde u loss: 1.4715610021, pde v loss: 1.1905974417\n",
      "lambda obs u: 3.3106314286, lambda obs v: 0.3279883716\n",
      "lambda pde u: 0.1826973111, lambda pde v: 0.1786828887\n",
      "\n",
      "Time taken: 0.14s\n",
      "\n",
      "Start of epoch 4\n",
      "Training observations acc over epoch: 4.1072993279\n",
      "total loss: 18.8269688975, total regularisd loss (sum of batches): 370.4569491512\n",
      "obs u loss: 13.5734946031, obs v loss: 2.8557018146\n",
      "pde u loss: 1.2960555264, pde v loss: 1.1017169533\n",
      "lambda obs u: 3.4842149852, lambda obs v: 0.2835370123\n",
      "lambda pde u: 0.1166985530, lambda pde v: 0.1155494495\n",
      "\n",
      "Time taken: 0.13s\n",
      "\n",
      "Start of epoch 5\n",
      "Training observations acc over epoch: 4.0472679138\n",
      "total loss: 18.3905326207, total regularisd loss (sum of batches): 380.1104489501\n",
      "obs u loss: 13.3308926534, obs v loss: 2.8581802826\n",
      "pde u loss: 1.1598757397, pde v loss: 1.0415839451\n",
      "lambda obs u: 3.5712824100, lambda obs v: 0.2653867512\n",
      "lambda pde u: 0.0804673705, lambda pde v: 0.0828634683\n",
      "\n",
      "Time taken: 0.13s\n",
      "\n",
      "Start of epoch 6\n",
      "Training observations acc over epoch: 3.9824328423\n",
      "total loss: 17.9814422466, total regularisd loss (sum of batches): 380.8101322542\n",
      "obs u loss: 13.0694460898, obs v loss: 2.8602860642\n",
      "pde u loss: 1.0476358313, pde v loss: 1.0040742614\n",
      "lambda obs u: 3.6129240649, lambda obs v: 0.2610655516\n",
      "lambda pde u: 0.0596992245, lambda pde v: 0.0663111591\n",
      "\n",
      "Time taken: 0.13s\n",
      "\n",
      "Start of epoch 7\n",
      "Training observations acc over epoch: 3.9120695591\n",
      "total loss: 17.5800926983, total regularisd loss (sum of batches): 376.5922233862\n",
      "obs u loss: 12.7890157891, obs v loss: 2.8592620296\n",
      "pde u loss: 0.9483895819, pde v loss: 0.9834252977\n",
      "lambda obs u: 3.6303215163, lambda obs v: 0.2641276905\n",
      "lambda pde u: 0.0469885333, lambda pde v: 0.0585622599\n",
      "\n",
      "Time taken: 0.14s\n",
      "\n",
      "Start of epoch 8\n",
      "Training observations acc over epoch: 3.8356027603\n",
      "total loss: 17.1724768071, total regularisd loss (sum of batches): 369.5080189300\n",
      "obs u loss: 12.4885486562, obs v loss: 2.8538632347\n",
      "pde u loss: 0.8555213585, pde v loss: 0.9745435577\n",
      "lambda obs u: 3.6344735449, lambda obs v: 0.2712243309\n",
      "lambda pde u: 0.0384874641, lambda pde v: 0.0558146600\n",
      "\n",
      "Time taken: 0.13s\n",
      "\n",
      "Start of epoch 9\n",
      "Training observations acc over epoch: 3.7525944710\n",
      "total loss: 16.7489935799, total regularisd loss (sum of batches): 360.6010317222\n",
      "obs u loss: 12.1668560018, obs v loss: 2.8435217992\n",
      "pde u loss: 0.7652619591, pde v loss: 0.9733538198\n",
      "lambda obs u: 3.6311555915, lambda obs v: 0.2805856632\n",
      "lambda pde u: 0.0321953584, lambda pde v: 0.0560633869\n",
      "\n",
      "Time taken: 0.13s\n"
     ]
    }
   ],
   "source": [
    "results = model.train(epochs=10,\n",
    "                      batch_size=dataset.x_size//8,\n",
    "                      dataset=dataset,\n",
    "                      print_interval=1,\n",
    "                      stop_threshold=1e-5,\n",
    "                      sample_losses=True, \n",
    "                      sample_parameters=True,\n",
    "                      sample_regularisations=True,\n",
    "                      sample_gradients=True,\n",
    "                      regularise=True\n",
    "                     )"
   ]
  },
  {
   "cell_type": "code",
   "execution_count": 4,
   "id": "c0863750",
   "metadata": {
    "ExecuteTime": {
     "end_time": "2022-11-01T10:38:42.992729Z",
     "start_time": "2022-11-01T10:38:35.074494Z"
    }
   },
   "outputs": [
    {
     "name": "stderr",
     "output_type": "stream",
     "text": [
      "2022-11-01 10:38:41.746544: W tensorflow/python/util/util.cc:368] Sets are not currently considered sequences, but this may change in the future, so consider avoiding using them.\n"
     ]
    }
   ],
   "source": [
    "model = tu.TINN.restore(\".\", \"ttt_model\", dataset)"
   ]
  },
  {
   "cell_type": "code",
   "execution_count": 5,
   "id": "e227c557",
   "metadata": {
    "ExecuteTime": {
     "end_time": "2022-11-01T10:39:23.666732Z",
     "start_time": "2022-11-01T10:39:01.377432Z"
    }
   },
   "outputs": [
    {
     "name": "stdout",
     "output_type": "stream",
     "text": [
      "\n",
      "Start of epoch 0\n",
      "Training observations acc over epoch: 3.6630735397\n",
      "total loss: 16.3038350046, total regularisd loss (sum of batches): 350.4495756340\n",
      "obs u loss: 11.8244021490, obs v loss: 2.8278921080\n",
      "pde u loss: 0.6747090917, pde v loss: 0.9768316559\n",
      "lambda obs u: 3.6311555915, lambda obs v: 0.2805856632\n",
      "lambda pde u: 0.0321953584, lambda pde v: 0.0560633869\n",
      "\n",
      "Time taken: 16.21s\n",
      "\n",
      "Start of epoch 1\n",
      "Training observations acc over epoch: 3.5662655830\n",
      "total loss: 15.8309160803, total regularisd loss (sum of batches): 339.7509331592\n",
      "obs u loss: 11.4584784700, obs v loss: 2.8065849738\n",
      "pde u loss: 0.5834595862, pde v loss: 0.9823930503\n",
      "lambda obs u: 3.6171997357, lambda obs v: 0.2971298701\n",
      "lambda pde u: 0.0251147548, lambda pde v: 0.0605556393\n",
      "\n",
      "Time taken: 5.03s\n",
      "\n",
      "Start of epoch 2\n",
      "Training observations acc over epoch: 3.4627938271\n",
      "total loss: 15.3313658305, total regularisd loss (sum of batches): 327.5783402234\n",
      "obs u loss: 11.0719076388, obs v loss: 2.7792672389\n",
      "pde u loss: 0.4922586038, pde v loss: 0.9879323490\n",
      "lambda obs u: 3.6037759714, lambda obs v: 0.3111696750\n",
      "lambda pde u: 0.0197262137, lambda pde v: 0.0653281398\n",
      "\n",
      "Time taken: 0.14s\n",
      "\n",
      "Start of epoch 3\n",
      "Training observations acc over epoch: 3.3529288769\n",
      "total loss: 14.8056401642, total regularisd loss (sum of batches): 314.9568802104\n",
      "obs u loss: 10.6674160789, obs v loss: 2.7442993269\n",
      "pde u loss: 0.4028987127, pde v loss: 0.9910260457\n",
      "lambda obs u: 3.5910668063, lambda obs v: 0.3233890850\n",
      "lambda pde u: 0.0153297074, lambda pde v: 0.0702144013\n",
      "\n",
      "Time taken: 0.13s\n",
      "\n",
      "Start of epoch 4\n",
      "Training observations acc over epoch: 3.2373774052\n",
      "total loss: 14.2573122317, total regularisd loss (sum of batches): 302.0265143365\n",
      "obs u loss: 10.2492467218, obs v loss: 2.7002621216\n",
      "pde u loss: 0.3184372141, pde v loss: 0.9893661741\n",
      "lambda obs u: 3.5798069594, lambda obs v: 0.3336826614\n",
      "lambda pde u: 0.0116487674, lambda pde v: 0.0748616119\n",
      "\n",
      "Time taken: 0.13s\n",
      "\n",
      "Start of epoch 5\n",
      "Training observations acc over epoch: 3.1173396111\n",
      "total loss: 13.6931891656, total regularisd loss (sum of batches): 288.9943053175\n",
      "obs u loss: 9.8231663172, obs v loss: 2.6461924784\n",
      "pde u loss: 0.2429481474, pde v loss: 0.9808822227\n",
      "lambda obs u: 3.5710882369, lambda obs v: 0.3415066087\n",
      "lambda pde u: 0.0086183414, lambda pde v: 0.0787868130\n",
      "\n",
      "Time taken: 0.13s\n",
      "\n",
      "Start of epoch 6\n",
      "Training observations acc over epoch: 2.9944858551\n",
      "total loss: 13.1230327869, total regularisd loss (sum of batches): 276.1147870527\n",
      "obs u loss: 9.3963548728, obs v loss: 2.5815898803\n",
      "pde u loss: 0.1811613672, pde v loss: 0.9639266665\n",
      "lambda obs u: 3.5662031126, lambda obs v: 0.3460793690\n",
      "lambda pde u: 0.0062633100, lambda pde v: 0.0814542084\n",
      "\n",
      "Time taken: 0.13s\n",
      "\n",
      "Start of epoch 7\n",
      "Training observations acc over epoch: 2.8708810806\n",
      "total loss: 12.5589022541, total regularisd loss (sum of batches): 263.6676551770\n",
      "obs u loss: 8.9769885560, obs v loss: 2.5065357288\n",
      "pde u loss: 0.1378092023, pde v loss: 0.9375687670\n",
      "lambda obs u: 3.5664449975, lambda obs v: 0.3465364286\n",
      "lambda pde u: 0.0046382648, lambda pde v: 0.0823803090\n",
      "\n",
      "Time taken: 0.13s\n",
      "\n",
      "Start of epoch 8\n",
      "Training observations acc over epoch: 2.7488543987\n",
      "total loss: 12.0141516002, total regularisd loss (sum of batches): 251.9311041328\n",
      "obs u loss: 8.5736095649, obs v loss: 2.4218074051\n",
      "pde u loss: 0.1168877048, pde v loss: 0.9018469254\n",
      "lambda obs u: 3.5728249401, lambda obs v: 0.3420773894\n",
      "lambda pde u: 0.0038562940, lambda pde v: 0.0812413766\n",
      "\n",
      "Time taken: 0.13s\n",
      "\n",
      "Start of epoch 9\n",
      "Training observations acc over epoch: 2.6308329105\n",
      "total loss: 11.5021932798, total regularisd loss (sum of batches): 241.1520543778\n",
      "obs u loss: 8.1944050326, obs v loss: 2.3289256451\n",
      "pde u loss: 0.1210158587, pde v loss: 0.8578467434\n",
      "lambda obs u: 3.5857925808, lambda obs v: 0.3321192936\n",
      "lambda pde u: 0.0041392382, lambda pde v: 0.0779488874\n",
      "\n",
      "Time taken: 0.13s\n"
     ]
    }
   ],
   "source": [
    "results = model.train(epochs=10,\n",
    "                      batch_size=dataset.x_size//8,\n",
    "                      dataset=dataset,\n",
    "                      print_interval=1,\n",
    "                      stop_threshold=1e-5,\n",
    "                      sample_losses=True, \n",
    "                      sample_parameters=True,\n",
    "                      sample_regularisations=True,\n",
    "                      sample_gradients=True,\n",
    "                      regularise=True\n",
    "                     )"
   ]
  },
  {
   "cell_type": "code",
   "execution_count": 15,
   "id": "a48c2005",
   "metadata": {
    "ExecuteTime": {
     "end_time": "2022-11-01T10:06:40.223956Z",
     "start_time": "2022-11-01T10:06:40.209545Z"
    }
   },
   "outputs": [],
   "source": [
    "weight_values = model.optimizer.get_weights()"
   ]
  },
  {
   "cell_type": "code",
   "execution_count": 16,
   "id": "bac37c1a",
   "metadata": {
    "ExecuteTime": {
     "end_time": "2022-11-01T10:06:40.916406Z",
     "start_time": "2022-11-01T10:06:40.903878Z"
    },
    "scrolled": false
   },
   "outputs": [
    {
     "data": {
      "text/plain": [
       "33"
      ]
     },
     "execution_count": 16,
     "metadata": {},
     "output_type": "execute_result"
    }
   ],
   "source": [
    "len(weight_values)"
   ]
  },
  {
   "cell_type": "code",
   "execution_count": 76,
   "id": "21bc3756",
   "metadata": {
    "ExecuteTime": {
     "end_time": "2022-11-01T09:30:36.477082Z",
     "start_time": "2022-11-01T09:30:36.470684Z"
    }
   },
   "outputs": [],
   "source": [
    "data_path = pathlib.PurePath(os.path.abspath(\"../../test/outputs_tinn_Brusselator_100_by_100_noise/Brusselator_000_noise/Brusselator_000_noise_model_optimizer.pkl\"))\n",
    "with open(data_path, \"rb\") as f:\n",
    "    data = np.load(f, allow_pickle=True)"
   ]
  },
  {
   "cell_type": "code",
   "execution_count": 115,
   "id": "80bee7c0",
   "metadata": {
    "ExecuteTime": {
     "end_time": "2022-11-01T09:42:11.525968Z",
     "start_time": "2022-11-01T09:42:11.520433Z"
    }
   },
   "outputs": [
    {
     "data": {
      "text/plain": [
       "25"
      ]
     },
     "execution_count": 115,
     "metadata": {},
     "output_type": "execute_result"
    }
   ],
   "source": [
    "len(data)"
   ]
  },
  {
   "cell_type": "code",
   "execution_count": 114,
   "id": "04a31ccb",
   "metadata": {
    "ExecuteTime": {
     "end_time": "2022-11-01T09:42:02.376082Z",
     "start_time": "2022-11-01T09:42:02.370997Z"
    }
   },
   "outputs": [
    {
     "data": {
      "text/plain": [
       "49"
      ]
     },
     "execution_count": 114,
     "metadata": {},
     "output_type": "execute_result"
    }
   ],
   "source": [
    "len(weight_values)"
   ]
  },
  {
   "cell_type": "code",
   "execution_count": 92,
   "id": "5fc8f3c4",
   "metadata": {
    "ExecuteTime": {
     "end_time": "2022-11-01T09:40:16.001943Z",
     "start_time": "2022-11-01T09:40:15.273950Z"
    }
   },
   "outputs": [],
   "source": [
    "with open(os.path.abspath(\"./tttt.npy\"), \"wb\") as f:\n",
    "    pickle.dump(weight_values, f)"
   ]
  },
  {
   "cell_type": "code",
   "execution_count": 93,
   "id": "9756312b",
   "metadata": {
    "ExecuteTime": {
     "end_time": "2022-11-01T09:40:37.755473Z",
     "start_time": "2022-11-01T09:40:37.751448Z"
    }
   },
   "outputs": [],
   "source": [
    "with open(os.path.abspath(\"./tttt.npy\"), \"rb\") as f:\n",
    "    weight_values2 = pickle.load(f)"
   ]
  },
  {
   "cell_type": "code",
   "execution_count": 112,
   "id": "79e290aa",
   "metadata": {
    "ExecuteTime": {
     "end_time": "2022-11-01T09:41:39.588079Z",
     "start_time": "2022-11-01T09:41:39.582461Z"
    }
   },
   "outputs": [
    {
     "data": {
      "text/plain": [
       "(1, 128)"
      ]
     },
     "execution_count": 112,
     "metadata": {},
     "output_type": "execute_result"
    }
   ],
   "source": [
    "weight_values[7].shape"
   ]
  },
  {
   "cell_type": "code",
   "execution_count": 113,
   "id": "3c2e43ed",
   "metadata": {
    "ExecuteTime": {
     "end_time": "2022-11-01T09:41:44.794244Z",
     "start_time": "2022-11-01T09:41:44.788866Z"
    }
   },
   "outputs": [
    {
     "data": {
      "text/plain": [
       "(1, 128)"
      ]
     },
     "execution_count": 113,
     "metadata": {},
     "output_type": "execute_result"
    }
   ],
   "source": [
    "weight_values2[7].shape"
   ]
  },
  {
   "cell_type": "code",
   "execution_count": 6,
   "id": "7ed9567d",
   "metadata": {
    "ExecuteTime": {
     "end_time": "2022-11-01T10:33:32.062161Z",
     "start_time": "2022-11-01T10:33:31.655892Z"
    }
   },
   "outputs": [],
   "source": [
    "model.save(\".\", \"ttt_model\")"
   ]
  },
  {
   "cell_type": "code",
   "execution_count": 9,
   "id": "96133de6",
   "metadata": {
    "ExecuteTime": {
     "end_time": "2022-11-01T09:55:38.891858Z",
     "start_time": "2022-11-01T09:55:38.885549Z"
    }
   },
   "outputs": [
    {
     "data": {
      "text/plain": [
       "<keras.optimizer_v2.adam.Adam at 0x7f3248104d90>"
      ]
     },
     "execution_count": 9,
     "metadata": {},
     "output_type": "execute_result"
    }
   ],
   "source": [
    "model.optimizer.from_config(model.optimizer.get_config())"
   ]
  },
  {
   "cell_type": "code",
   "execution_count": 31,
   "id": "a493882b",
   "metadata": {
    "ExecuteTime": {
     "end_time": "2022-11-01T10:14:01.377003Z",
     "start_time": "2022-11-01T10:14:01.349591Z"
    }
   },
   "outputs": [],
   "source": [
    "import pathlib\n",
    "path = pathlib.PurePath(\".\").joinpath(\"ttt_model\")\n",
    "# asset = tf.saved_model.load(str(path))\n",
    "with open(f\"{str(path)}.pkl\", \"rb\") as f:\n",
    "    model2 = pickle.load(f)\n",
    "with open(f\"{str(path)}_optimizer.pkl\", \"rb\") as f:\n",
    "    weight_values2 = pickle.load(f)\n",
    "with open(f\"{str(path)}_optimizer_config.pkl\", \"rb\") as f:\n",
    "    conf2 = pickle.load(f)\n"
   ]
  },
  {
   "cell_type": "code",
   "execution_count": 32,
   "id": "0d8f0fb8",
   "metadata": {
    "ExecuteTime": {
     "end_time": "2022-11-01T10:14:02.249593Z",
     "start_time": "2022-11-01T10:14:02.245373Z"
    }
   },
   "outputs": [],
   "source": [
    " model2.optimizer = keras.optimizers.Adam(learning_rate=5e-4).from_config(conf2)"
   ]
  },
  {
   "cell_type": "code",
   "execution_count": 25,
   "id": "f570d03d",
   "metadata": {
    "ExecuteTime": {
     "end_time": "2022-11-01T10:10:20.034871Z",
     "start_time": "2022-11-01T10:10:20.001654Z"
    }
   },
   "outputs": [],
   "source": [
    "trainables = model2.pinn.trainable_variables + model2.pde_residual.trainables()\n",
    "for extra_loss in model2.extra_loss:\n",
    "    trainables += extra_loss.trainables()\n",
    "\n",
    "if model2.non_zero_loss is not None:\n",
    "    non_zero_params = model2.non_zero_loss.parameters\n",
    "# dummy zero gradients\n",
    "zero_grads = [tf.zeros_like(w) for w in trainables]\n",
    "# save current state of variables\n",
    "saved_vars = [tf.identity(w) for w in trainables]\n",
    "\n",
    "\n",
    "\n",
    "if model2.non_zero_loss is not None:\n",
    "    # dummy zero gradients\n",
    "    zero_grads_params = [tf.zeros_like(w) for w in model2.non_zero_loss.parameters]\n",
    "    # save current state of variables\n",
    "    saved_vars_params = [tf.identity(w) for w in model2.non_zero_loss.parameters]\n",
    "\n",
    "# Apply gradients which don't do nothing with Adam\n",
    "model2.optimizer.apply_gradients(zip(zero_grads, trainables))\n",
    "if model2.non_zero_loss is not None:\n",
    "    model2.optimizer.apply_gradients(zip(zero_grads_params, model2.non_zero_loss.parameters))\n",
    "\n",
    "# Reload variables\n",
    "[x.assign(y) for x, y in zip(trainables, saved_vars)]\n",
    "if model2.non_zero_loss is not None:\n",
    "    [x.assign(y) for x, y in zip(model2.non_zero_loss.parameters, saved_vars_params)]"
   ]
  },
  {
   "cell_type": "code",
   "execution_count": 33,
   "id": "c59cc9ff",
   "metadata": {
    "ExecuteTime": {
     "end_time": "2022-11-01T10:18:07.403281Z",
     "start_time": "2022-11-01T10:18:07.398293Z"
    }
   },
   "outputs": [
    {
     "data": {
      "text/plain": [
       "8"
      ]
     },
     "execution_count": 33,
     "metadata": {},
     "output_type": "execute_result"
    }
   ],
   "source": [
    "len(trainables)"
   ]
  },
  {
   "cell_type": "code",
   "execution_count": 34,
   "id": "7f8ea0aa",
   "metadata": {
    "ExecuteTime": {
     "end_time": "2022-11-01T10:18:10.473527Z",
     "start_time": "2022-11-01T10:18:10.469461Z"
    }
   },
   "outputs": [
    {
     "data": {
      "text/plain": [
       "33"
      ]
     },
     "execution_count": 34,
     "metadata": {},
     "output_type": "execute_result"
    }
   ],
   "source": [
    "len(weight_values2)"
   ]
  },
  {
   "cell_type": "code",
   "execution_count": 44,
   "id": "82527754",
   "metadata": {
    "ExecuteTime": {
     "end_time": "2022-11-01T10:31:44.140194Z",
     "start_time": "2022-11-01T10:31:44.058390Z"
    }
   },
   "outputs": [],
   "source": [
    "X, Y = next(iter(dataset.take(1)))#).numpy()"
   ]
  },
  {
   "cell_type": "code",
   "execution_count": null,
   "id": "d9af656b",
   "metadata": {},
   "outputs": [],
   "source": []
  }
 ],
 "metadata": {
  "kernelspec": {
   "display_name": "tensorflow.2.3",
   "language": "python",
   "name": "tensorflow.2.3"
  },
  "language_info": {
   "codemirror_mode": {
    "name": "ipython",
    "version": 3
   },
   "file_extension": ".py",
   "mimetype": "text/x-python",
   "name": "python",
   "nbconvert_exporter": "python",
   "pygments_lexer": "ipython3",
   "version": "3.9.7"
  },
  "varInspector": {
   "cols": {
    "lenName": 16,
    "lenType": 16,
    "lenVar": 40
   },
   "kernels_config": {
    "python": {
     "delete_cmd_postfix": "",
     "delete_cmd_prefix": "del ",
     "library": "var_list.py",
     "varRefreshCmd": "print(var_dic_list())"
    },
    "r": {
     "delete_cmd_postfix": ") ",
     "delete_cmd_prefix": "rm(",
     "library": "var_list.r",
     "varRefreshCmd": "cat(var_dic_list()) "
    }
   },
   "types_to_exclude": [
    "module",
    "function",
    "builtin_function_or_method",
    "instance",
    "_Feature"
   ],
   "window_display": false
  }
 },
 "nbformat": 4,
 "nbformat_minor": 5
}
