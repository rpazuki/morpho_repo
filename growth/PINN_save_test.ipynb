{
 "cells": [
  {
   "cell_type": "code",
   "execution_count": 1,
   "id": "23383b1b",
   "metadata": {
    "ExecuteTime": {
     "end_time": "2022-10-14T17:48:33.329544Z",
     "start_time": "2022-10-14T17:48:25.496427Z"
    },
    "scrolled": true
   },
   "outputs": [
    {
     "name": "stderr",
     "output_type": "stream",
     "text": [
      "2022-10-14 18:48:26.278739: I tensorflow/stream_executor/platform/default/dso_loader.cc:48] Successfully opened dynamic library libcudart.so.10.1\n",
      "2022-10-14 18:48:32.390186: I tensorflow/stream_executor/platform/default/dso_loader.cc:48] Successfully opened dynamic library libcuda.so.1\n",
      "2022-10-14 18:48:32.400605: I tensorflow/core/common_runtime/gpu/gpu_device.cc:1716] Found device 0 with properties: \n",
      "pciBusID: 0000:2d:00.0 name: Quadro RTX 6000 computeCapability: 7.5\n",
      "coreClock: 1.77GHz coreCount: 72 deviceMemorySize: 23.65GiB deviceMemoryBandwidth: 625.94GiB/s\n",
      "2022-10-14 18:48:32.400674: I tensorflow/stream_executor/platform/default/dso_loader.cc:48] Successfully opened dynamic library libcudart.so.10.1\n",
      "2022-10-14 18:48:32.405304: I tensorflow/stream_executor/platform/default/dso_loader.cc:48] Successfully opened dynamic library libcublas.so.10\n",
      "2022-10-14 18:48:32.409072: I tensorflow/stream_executor/platform/default/dso_loader.cc:48] Successfully opened dynamic library libcufft.so.10\n",
      "2022-10-14 18:48:32.409575: I tensorflow/stream_executor/platform/default/dso_loader.cc:48] Successfully opened dynamic library libcurand.so.10\n",
      "2022-10-14 18:48:32.413165: I tensorflow/stream_executor/platform/default/dso_loader.cc:48] Successfully opened dynamic library libcusolver.so.10\n",
      "2022-10-14 18:48:32.415024: I tensorflow/stream_executor/platform/default/dso_loader.cc:48] Successfully opened dynamic library libcusparse.so.10\n",
      "2022-10-14 18:48:32.420845: I tensorflow/stream_executor/platform/default/dso_loader.cc:48] Successfully opened dynamic library libcudnn.so.7\n",
      "2022-10-14 18:48:32.422605: I tensorflow/core/common_runtime/gpu/gpu_device.cc:1858] Adding visible gpu devices: 0\n",
      "2022-10-14 18:48:32.423236: I tensorflow/core/platform/cpu_feature_guard.cc:142] This TensorFlow binary is optimized with oneAPI Deep Neural Network Library (oneDNN)to use the following CPU instructions in performance-critical operations:  AVX2 AVX512F FMA\n",
      "To enable them in other operations, rebuild TensorFlow with the appropriate compiler flags.\n",
      "2022-10-14 18:48:32.433997: I tensorflow/core/platform/profile_utils/cpu_utils.cc:104] CPU Frequency: 3400000000 Hz\n",
      "2022-10-14 18:48:32.437114: I tensorflow/compiler/xla/service/service.cc:168] XLA service 0x558c7295eaa0 initialized for platform Host (this does not guarantee that XLA will be used). Devices:\n",
      "2022-10-14 18:48:32.437134: I tensorflow/compiler/xla/service/service.cc:176]   StreamExecutor device (0): Host, Default Version\n",
      "2022-10-14 18:48:32.591513: I tensorflow/compiler/xla/service/service.cc:168] XLA service 0x558c729caf50 initialized for platform CUDA (this does not guarantee that XLA will be used). Devices:\n",
      "2022-10-14 18:48:32.591568: I tensorflow/compiler/xla/service/service.cc:176]   StreamExecutor device (0): Quadro RTX 6000, Compute Capability 7.5\n",
      "2022-10-14 18:48:32.593673: I tensorflow/core/common_runtime/gpu/gpu_device.cc:1716] Found device 0 with properties: \n",
      "pciBusID: 0000:2d:00.0 name: Quadro RTX 6000 computeCapability: 7.5\n",
      "coreClock: 1.77GHz coreCount: 72 deviceMemorySize: 23.65GiB deviceMemoryBandwidth: 625.94GiB/s\n",
      "2022-10-14 18:48:32.593731: I tensorflow/stream_executor/platform/default/dso_loader.cc:48] Successfully opened dynamic library libcudart.so.10.1\n",
      "2022-10-14 18:48:32.593771: I tensorflow/stream_executor/platform/default/dso_loader.cc:48] Successfully opened dynamic library libcublas.so.10\n",
      "2022-10-14 18:48:32.593798: I tensorflow/stream_executor/platform/default/dso_loader.cc:48] Successfully opened dynamic library libcufft.so.10\n",
      "2022-10-14 18:48:32.593824: I tensorflow/stream_executor/platform/default/dso_loader.cc:48] Successfully opened dynamic library libcurand.so.10\n",
      "2022-10-14 18:48:32.593849: I tensorflow/stream_executor/platform/default/dso_loader.cc:48] Successfully opened dynamic library libcusolver.so.10\n",
      "2022-10-14 18:48:32.593874: I tensorflow/stream_executor/platform/default/dso_loader.cc:48] Successfully opened dynamic library libcusparse.so.10\n",
      "2022-10-14 18:48:32.593901: I tensorflow/stream_executor/platform/default/dso_loader.cc:48] Successfully opened dynamic library libcudnn.so.7\n",
      "2022-10-14 18:48:32.597327: I tensorflow/core/common_runtime/gpu/gpu_device.cc:1858] Adding visible gpu devices: 0\n",
      "2022-10-14 18:48:32.597381: I tensorflow/stream_executor/platform/default/dso_loader.cc:48] Successfully opened dynamic library libcudart.so.10.1\n",
      "2022-10-14 18:48:33.109643: I tensorflow/core/common_runtime/gpu/gpu_device.cc:1257] Device interconnect StreamExecutor with strength 1 edge matrix:\n",
      "2022-10-14 18:48:33.109683: I tensorflow/core/common_runtime/gpu/gpu_device.cc:1263]      0 \n",
      "2022-10-14 18:48:33.109690: I tensorflow/core/common_runtime/gpu/gpu_device.cc:1276] 0:   N \n",
      "2022-10-14 18:48:33.111131: I tensorflow/core/common_runtime/gpu/gpu_device.cc:1402] Created TensorFlow device (/job:localhost/replica:0/task:0/device:GPU:0 with 20804 MB memory) -> physical GPU (device: 0, name: Quadro RTX 6000, pci bus id: 0000:2d:00.0, compute capability: 7.5)\n"
     ]
    }
   ],
   "source": [
    "%config Completer.use_jedi = False\n",
    "import sys\n",
    "import warnings\n",
    "warnings.filterwarnings('ignore')\n",
    "import tensorflow as tf\n",
    "import numpy as np\n",
    "import matplotlib.pyplot as plt\n",
    "import scipy.io\n",
    "import time\n",
    "import threading\n",
    "import gc\n",
    "import copy\n",
    "\n",
    "sys.path.append(\"/end/home/rh2310/morpho_repo/turing_codebase\")\n",
    "from turing.utils import *\n",
    "import turing.pinns as tu\n",
    "from turing.loss_functions import *\n",
    "\n",
    "GPU = True\n",
    "import os\n",
    "\n",
    "if GPU:\n",
    "    txt_device = 'gpu:0'\n",
    "else:\n",
    "    txt_device = 'cpu:0'    \n",
    "    os.environ[\"CUDA_VISIBLE_DEVICES\"]=\"-1\""
   ]
  },
  {
   "cell_type": "markdown",
   "id": "1b81d204",
   "metadata": {},
   "source": [
    "# Load data from the output of Brusselator model"
   ]
  },
  {
   "cell_type": "code",
   "execution_count": null,
   "id": "df0e3012",
   "metadata": {},
   "outputs": [],
   "source": []
  },
  {
   "cell_type": "code",
   "execution_count": 4,
   "id": "ea70e78b",
   "metadata": {
    "ExecuteTime": {
     "end_time": "2022-10-14T17:49:00.315058Z",
     "start_time": "2022-10-14T17:49:00.288829Z"
    }
   },
   "outputs": [],
   "source": [
    "import os\n",
    "data_path = os.path.abspath(\"../turing_Brusselator.npy\")\n",
    "with open(data_path, 'rb') as f:\n",
    "    data = np.load(f)\n",
    "    \n",
    "data_path = os.path.abspath(\"../turing_t_Brusselator.npy\")\n",
    "with open(data_path, 'rb') as f:\n",
    "    t_star = np.load(f) \n",
    "    \n",
    "# Thining the dataset\n",
    "t_star = t_star[20::16]\n",
    "data = data[..., 20::16]\n",
    "\n",
    "T = t_star.shape[0]    \n",
    "    \n",
    "L = 1.0\n",
    "x_size = data.shape[1]\n",
    "y_size = data.shape[2]\n",
    "N = x_size*y_size\n",
    "\n",
    "model_params = {'training_data_size': T*N,#T*32,\n",
    "                'pde_data_size': (T*N)//(32),\n",
    "                'boundary_data_size':((x_size + y_size)*T)//(8)}\n",
    "\n",
    "dataset = create_dataset(data, t_star, N, T, L, **model_params)\n",
    "lb = dataset['lb']\n",
    "ub = dataset['ub']\n",
    "obs_X = dataset['obs_input']\n",
    "obs_Y = dataset['obs_output']\n",
    "pde_X = dataset['pde']\n"
   ]
  },
  {
   "cell_type": "code",
   "execution_count": 3,
   "id": "59d71c58",
   "metadata": {
    "ExecuteTime": {
     "end_time": "2022-10-14T17:46:30.273024Z",
     "start_time": "2022-10-14T17:46:30.255714Z"
    }
   },
   "outputs": [
    {
     "data": {
      "text/plain": [
       "15"
      ]
     },
     "execution_count": 3,
     "metadata": {},
     "output_type": "execute_result"
    }
   ],
   "source": [
    "T"
   ]
  },
  {
   "cell_type": "markdown",
   "id": "ac606dba",
   "metadata": {},
   "source": [
    "# Run Koch-Meinhardt's ASDM model with given diffusion constants and correct space-time scalse to find other parameters"
   ]
  },
  {
   "cell_type": "code",
   "execution_count": 4,
   "id": "9836cb6c",
   "metadata": {
    "ExecuteTime": {
     "end_time": "2022-10-14T17:46:32.794070Z",
     "start_time": "2022-10-14T17:46:32.750646Z"
    }
   },
   "outputs": [],
   "source": [
    "#layers = [3, 64, 64, 64, 64, 2]\n",
    "layers = [3, 128, 128, 128, 128, 2]\n",
    "\n",
    "pinn = tu.NN(layers, lb, ub, dtype=tf.float64)\n",
    "pde_loss = ASDM(dtype=tf.float64, init_value=1.0)\n",
    "pde_non_zero = Non_zero_params(\"ASDM\", parameters=[pde_loss.D_u, pde_loss.D_v], print_precision=\".10f\")\n",
    "\n",
    "l2_norm = L2()\n",
    "l_inf_norm = L_Inf()"
   ]
  },
  {
   "cell_type": "code",
   "execution_count": 7,
   "id": "0a395d68",
   "metadata": {
    "ExecuteTime": {
     "end_time": "2022-10-14T11:55:21.137213Z",
     "start_time": "2022-10-14T11:55:20.924234Z"
    }
   },
   "outputs": [],
   "source": [
    "pinn.save(\"/end/home/rh2310/save_tests\", \"pinn_1\")"
   ]
  },
  {
   "cell_type": "code",
   "execution_count": 8,
   "id": "deb2e403",
   "metadata": {
    "ExecuteTime": {
     "end_time": "2022-10-14T11:55:23.748677Z",
     "start_time": "2022-10-14T11:55:23.267418Z"
    }
   },
   "outputs": [
    {
     "name": "stdout",
     "output_type": "stream",
     "text": [
      "INFO:tensorflow:Unsupported signature for serialization: ((<tensorflow.python.framework.func_graph.UnknownArgument object at 0x7f349c28deb0>, TensorSpec(shape=(1920, 3), dtype=tf.float64, name='x')), {}).\n",
      "INFO:tensorflow:Unsupported signature for serialization: ((<tensorflow.python.framework.func_graph.UnknownArgument object at 0x7f349c28deb0>, TensorSpec(shape=(1920, 3), dtype=tf.float64, name='x')), {}).\n",
      "INFO:tensorflow:Unsupported signature for serialization: ((<tensorflow.python.framework.func_graph.UnknownArgument object at 0x7f349c28deb0>, TensorSpec(shape=(1920, 3), dtype=tf.float64, name='x')), {}).\n",
      "INFO:tensorflow:Assets written to: /end/home/rh2310/save_tests/pde_loss_1/assets\n"
     ]
    }
   ],
   "source": [
    "pde_loss.save(\"/end/home/rh2310/save_tests\", \"pde_loss_1\")"
   ]
  },
  {
   "cell_type": "code",
   "execution_count": 3,
   "id": "4f083098",
   "metadata": {
    "ExecuteTime": {
     "end_time": "2022-10-14T12:00:17.911137Z",
     "start_time": "2022-10-14T12:00:17.893000Z"
    }
   },
   "outputs": [],
   "source": [
    "pinn2 = tu.NN.restore(\"/end/home/rh2310/save_tests\", \"pinn_1\")"
   ]
  },
  {
   "cell_type": "code",
   "execution_count": 5,
   "id": "38d60f6a",
   "metadata": {
    "ExecuteTime": {
     "end_time": "2022-10-14T12:00:23.903523Z",
     "start_time": "2022-10-14T12:00:23.464266Z"
    }
   },
   "outputs": [
    {
     "name": "stderr",
     "output_type": "stream",
     "text": [
      "2022-10-14 13:00:23.646176: I tensorflow/stream_executor/platform/default/dso_loader.cc:48] Successfully opened dynamic library libcublas.so.10\n"
     ]
    },
    {
     "data": {
      "text/plain": [
       "<tf.Tensor: shape=(1, 2), dtype=float64, numpy=array([[ 0.04610581, -0.0373262 ]])>"
      ]
     },
     "execution_count": 5,
     "metadata": {},
     "output_type": "execute_result"
    }
   ],
   "source": [
    "pinn2.net([[0,0,0]])"
   ]
  },
  {
   "cell_type": "code",
   "execution_count": 11,
   "id": "97979add",
   "metadata": {
    "ExecuteTime": {
     "end_time": "2022-10-14T11:55:39.036642Z",
     "start_time": "2022-10-14T11:55:38.988038Z"
    }
   },
   "outputs": [
    {
     "data": {
      "text/plain": [
       "<tf.Tensor: shape=(1, 2), dtype=float64, numpy=array([[ 0.04610581, -0.0373262 ]])>"
      ]
     },
     "execution_count": 11,
     "metadata": {},
     "output_type": "execute_result"
    }
   ],
   "source": [
    "pinn.net([[0,0,0]])"
   ]
  },
  {
   "cell_type": "code",
   "execution_count": 4,
   "id": "fa9a0812",
   "metadata": {
    "ExecuteTime": {
     "end_time": "2022-10-14T12:00:20.657144Z",
     "start_time": "2022-10-14T12:00:20.641125Z"
    }
   },
   "outputs": [],
   "source": [
    "pde_loss2 = tu.NN.restore(\"/end/home/rh2310/save_tests\", \"pde_loss_1\")"
   ]
  },
  {
   "cell_type": "code",
   "execution_count": null,
   "id": "4e8d94eb",
   "metadata": {},
   "outputs": [],
   "source": []
  },
  {
   "cell_type": "code",
   "execution_count": null,
   "id": "e9c130f7",
   "metadata": {},
   "outputs": [],
   "source": []
  },
  {
   "cell_type": "code",
   "execution_count": null,
   "id": "475e1ba1",
   "metadata": {},
   "outputs": [],
   "source": []
  },
  {
   "cell_type": "code",
   "execution_count": 7,
   "id": "16c37162",
   "metadata": {
    "ExecuteTime": {
     "end_time": "2022-10-12T21:39:37.523220Z",
     "start_time": "2022-10-12T21:39:37.163713Z"
    }
   },
   "outputs": [
    {
     "name": "stdout",
     "output_type": "stream",
     "text": [
      "INFO:tensorflow:Assets written to: /tmp/pinn/assets\n"
     ]
    }
   ],
   "source": [
    "tf.saved_model.save(pinn, '/tmp/pinn', signatures=pinn.net.get_concrete_function(\n",
    "    tf.TensorSpec((None, 3), pinn.dtype)))"
   ]
  },
  {
   "cell_type": "code",
   "execution_count": 4,
   "id": "f0c5d646",
   "metadata": {
    "ExecuteTime": {
     "end_time": "2022-10-13T07:42:16.220232Z",
     "start_time": "2022-10-13T07:42:16.048015Z"
    }
   },
   "outputs": [],
   "source": [
    "pinn2 = tf.saved_model.load('/tmp/pinn')"
   ]
  },
  {
   "cell_type": "code",
   "execution_count": 32,
   "id": "f5d1cc28",
   "metadata": {
    "ExecuteTime": {
     "end_time": "2022-10-12T21:54:32.503575Z",
     "start_time": "2022-10-12T21:54:32.497839Z"
    }
   },
   "outputs": [],
   "source": [
    "pinn2.gradients = pinn.gradients"
   ]
  },
  {
   "cell_type": "code",
   "execution_count": 33,
   "id": "2e04bb80",
   "metadata": {
    "ExecuteTime": {
     "end_time": "2022-10-12T21:54:33.051600Z",
     "start_time": "2022-10-12T21:54:33.049095Z"
    }
   },
   "outputs": [],
   "source": [
    "pinn2.gradients_tape = pinn.gradients_tape"
   ]
  },
  {
   "cell_type": "code",
   "execution_count": 34,
   "id": "63384966",
   "metadata": {
    "ExecuteTime": {
     "end_time": "2022-10-12T21:54:33.815307Z",
     "start_time": "2022-10-12T21:54:33.811663Z"
    }
   },
   "outputs": [],
   "source": [
    "pinn2.dtype = pinn.dtype"
   ]
  },
  {
   "cell_type": "code",
   "execution_count": 16,
   "id": "98a5d998",
   "metadata": {
    "ExecuteTime": {
     "end_time": "2022-10-12T21:44:28.245891Z",
     "start_time": "2022-10-12T21:44:26.717098Z"
    }
   },
   "outputs": [],
   "source": [
    "f = pde_loss.loss.get_concrete_function(pinn, tf.TensorSpec((None, 3), pinn.dtype))"
   ]
  },
  {
   "cell_type": "code",
   "execution_count": 6,
   "id": "0bbf52cb",
   "metadata": {
    "ExecuteTime": {
     "end_time": "2022-10-13T07:42:39.920344Z",
     "start_time": "2022-10-13T07:42:39.830803Z"
    }
   },
   "outputs": [
    {
     "data": {
      "text/plain": [
       "<tf.Tensor: shape=(1, 2), dtype=float64, numpy=array([[ 0.01824168, -0.10053043]])>"
      ]
     },
     "execution_count": 6,
     "metadata": {},
     "output_type": "execute_result"
    }
   ],
   "source": [
    "pinn2.net([[0, 0, 0]])"
   ]
  },
  {
   "cell_type": "code",
   "execution_count": 30,
   "id": "74947740",
   "metadata": {
    "ExecuteTime": {
     "end_time": "2022-10-12T21:52:31.808568Z",
     "start_time": "2022-10-12T21:52:31.802797Z"
    }
   },
   "outputs": [
    {
     "data": {
      "text/plain": [
       "tf.float64"
      ]
     },
     "execution_count": 30,
     "metadata": {},
     "output_type": "execute_result"
    }
   ],
   "source": []
  },
  {
   "cell_type": "code",
   "execution_count": 7,
   "id": "11c01f70",
   "metadata": {
    "ExecuteTime": {
     "end_time": "2022-10-13T07:42:51.288672Z",
     "start_time": "2022-10-13T07:42:51.267402Z"
    },
    "scrolled": true
   },
   "outputs": [
    {
     "ename": "NameError",
     "evalue": "name 'pde_loss' is not defined",
     "output_type": "error",
     "traceback": [
      "\u001b[0;31m---------------------------------------------------------------------------\u001b[0m",
      "\u001b[0;31mNameError\u001b[0m                                 Traceback (most recent call last)",
      "\u001b[0;32m/tmp/ipykernel_11789/3759814165.py\u001b[0m in \u001b[0;36m<module>\u001b[0;34m\u001b[0m\n\u001b[0;32m----> 1\u001b[0;31m tf.saved_model.save(pde_loss, '/tmp/pde_loss', signatures=pde_loss.loss.get_concrete_function(\n\u001b[0m\u001b[1;32m      2\u001b[0m     pinn2, x=tf.TensorSpec((None, 3), pinn.dtype)))\n",
      "\u001b[0;31mNameError\u001b[0m: name 'pde_loss' is not defined"
     ]
    }
   ],
   "source": [
    "tf.saved_model.save(pde_loss, '/tmp/pde_loss', signatures=pde_loss.loss.get_concrete_function(\n",
    "    pinn2, x=tf.TensorSpec((None, 3), pinn.dtype)))"
   ]
  },
  {
   "cell_type": "code",
   "execution_count": 8,
   "id": "5f61c901",
   "metadata": {
    "ExecuteTime": {
     "end_time": "2022-10-13T07:43:03.341496Z",
     "start_time": "2022-10-13T07:43:03.287246Z"
    }
   },
   "outputs": [],
   "source": [
    "bb = tf.saved_model.load('/tmp/pde_loss')"
   ]
  },
  {
   "cell_type": "code",
   "execution_count": 9,
   "id": "fab24ad3",
   "metadata": {
    "ExecuteTime": {
     "end_time": "2022-10-13T07:43:15.331646Z",
     "start_time": "2022-10-13T07:43:15.325773Z"
    }
   },
   "outputs": [
    {
     "data": {
      "text/plain": [
       "_SignatureMap({})"
      ]
     },
     "execution_count": 9,
     "metadata": {},
     "output_type": "execute_result"
    }
   ],
   "source": [
    "bb."
   ]
  },
  {
   "cell_type": "code",
   "execution_count": 59,
   "id": "0288430d",
   "metadata": {
    "ExecuteTime": {
     "end_time": "2022-10-12T22:30:09.403148Z",
     "start_time": "2022-10-12T22:30:09.328490Z"
    }
   },
   "outputs": [],
   "source": [
    "pde_loss2 = ASDM2.restote(tf.saved_model.load('/tmp/pde_loss'))"
   ]
  },
  {
   "cell_type": "code",
   "execution_count": 58,
   "id": "f6c4e551",
   "metadata": {
    "ExecuteTime": {
     "end_time": "2022-10-12T22:30:03.096382Z",
     "start_time": "2022-10-12T22:30:03.061996Z"
    }
   },
   "outputs": [],
   "source": [
    "class ASDM2(Loss):\n",
    "    def __init__(\n",
    "        self,\n",
    "        dtype,\n",
    "        init_value=10.0,\n",
    "        D_u=None,\n",
    "        D_v=None,\n",
    "        sigma_u=None,\n",
    "        sigma_v=None,\n",
    "        mu_u=None,\n",
    "        rho_u=None,\n",
    "        rho_v=None,\n",
    "        kappa_u=None,\n",
    "        print_precision=\".5f\",\n",
    "    ):\n",
    "        \"\"\"ASDM PDE loss\n",
    "\n",
    "        if the parameter is None, it becomes traiable with initial value set as init_vale,\n",
    "        otherwise, it will be a constant\n",
    "        \"\"\"\n",
    "\n",
    "        super().__init__(name=\"Loss_ASDM\", print_precision=print_precision)\n",
    "\n",
    "        self._trainables_ = ()        \n",
    "        if D_u is None:\n",
    "            self.D_u = tf.Variable(\n",
    "                [init_value], dtype=dtype, name=\"D_u\", constraint=lambda z: tf.clip_by_value(z, 1e-6, 1e10)\n",
    "            )\n",
    "            self._trainables_ += (self.D_u,)\n",
    "        elif isinstance(D_u, tf.Variable):\n",
    "            self.D_u = D_u\n",
    "            self._trainables_ += (self.D_u,)\n",
    "        elif isinstance(D_u, tf.constant):\n",
    "            self.D_u = D_u\n",
    "        else:\n",
    "            self.D_u = tf.constant(D_u, dtype=dtype, name=\"D_u\")\n",
    "\n",
    "        if D_v is None:\n",
    "            self.D_v = tf.Variable(\n",
    "                [init_value], dtype=dtype, name=\"D_v\", constraint=lambda z: tf.clip_by_value(z, 1e-6, 1e10)\n",
    "            )\n",
    "            self._trainables_ += (self.D_v,)\n",
    "        elif isinstance(D_v, tf.Variable):\n",
    "            self.D_v = D_v\n",
    "            self._trainables_ += (self.D_v,)\n",
    "        elif isinstance(D_v, tf.constant):\n",
    "            self.D_v = D_v\n",
    "        else:\n",
    "            self.D_v = tf.constant(D_v, dtype=dtype, name=\"D_v\")\n",
    "\n",
    "        if sigma_u is None:\n",
    "            self.sigma_u = tf.Variable(\n",
    "                [init_value], dtype=dtype, name=\"sigma_u\", constraint=lambda z: tf.clip_by_value(z, 0, 1e10)\n",
    "            )\n",
    "            self._trainables_ += (self.sigma_u,)\n",
    "        elif isinstance(sigma_u, tf.Variable):\n",
    "            self.sigma_u = sigma_u\n",
    "            self._trainables_ += (self.sigma_u,)\n",
    "        elif isinstance(sigma_u, tf.constant):\n",
    "            self.sigma_u = sigma_u\n",
    "        else:\n",
    "            self.sigma_u = tf.constant(sigma_u, dtype=dtype, name=\"sigma_u\")\n",
    "\n",
    "        if sigma_v is None:\n",
    "            self.sigma_v = tf.Variable(\n",
    "                [init_value], dtype=dtype, name=\"sigma_v\", constraint=lambda z: tf.clip_by_value(z, 0, 1e10)\n",
    "            )\n",
    "            self._trainables_ += (self.sigma_v,)\n",
    "        elif isinstance(sigma_u, tf.Variable):\n",
    "            self.sigma_v = sigma_v\n",
    "            self._trainables_ += (self.sigma_v,)\n",
    "            \n",
    "        elif isinstance(sigma_v, tf.constant):\n",
    "            self.sigma_v = sigma_v\n",
    "        else:\n",
    "            self.sigma_v = tf.constant(sigma_v, dtype=dtype, name=\"sigma_v\")\n",
    "\n",
    "        if mu_u is None:\n",
    "            self.mu_u = tf.Variable(\n",
    "                [init_value], dtype=dtype, name=\"mu_u\", constraint=lambda z: tf.clip_by_value(z, 0, 1e10)\n",
    "            )\n",
    "            self._trainables_ += (self.mu_u,)\n",
    "        elif isinstance(mu_u, tf.Variable):\n",
    "            self.mu_u = mu_u\n",
    "            self._trainables_ += (self.mu_u,)\n",
    "        elif isinstance(mu_u, tf.constant):\n",
    "            self.mu_u = mu_u\n",
    "        else:\n",
    "            self.mu_u = tf.constant(mu_u, dtype=dtype, name=\"mu_u\")\n",
    "\n",
    "        if rho_u is None:\n",
    "            self.rho_u = tf.Variable(\n",
    "                [init_value], dtype=dtype, name=\"rho_u\", constraint=lambda z: tf.clip_by_value(z, 0, 1e10)\n",
    "            )\n",
    "            self._trainables_ += (self.rho_u,)\n",
    "        elif isinstance(rho_u, tf.Variable):\n",
    "            self.rho_u = rho_u\n",
    "            self._trainables_ += (self.rho_u,)\n",
    "        elif isinstance(rho_u, tf.constant):\n",
    "            self.rho_u = rho_u\n",
    "        else:\n",
    "            self.rho_u = tf.constant(rho_u, dtype=dtype, name=\"rho_u\")\n",
    "\n",
    "        if rho_v is None:\n",
    "            self.rho_v = tf.Variable(\n",
    "                [init_value], dtype=dtype, name=\"rho_v\", constraint=lambda z: tf.clip_by_value(z, 0, 1e10)\n",
    "            )\n",
    "            self._trainables_ += (self.rho_v,)\n",
    "        elif isinstance(rho_v, tf.Variable):\n",
    "            self.rho_v = rho_v\n",
    "            self._trainables_ += (self.rho_v,)\n",
    "        elif isinstance(rho_v, tf.constant):\n",
    "            self.rho_v = rho_v\n",
    "        else:\n",
    "            self.rho_v = tf.constant(rho_v, dtype=dtype, name=\"rho_v\")\n",
    "\n",
    "        if kappa_u is None:\n",
    "            self.kappa_u = tf.Variable(\n",
    "                [init_value], dtype=dtype, name=\"kappa_u\", constraint=lambda z: tf.clip_by_value(z, 0, 1e10)\n",
    "            )\n",
    "            self._trainables_ += (self.kappa_u,)\n",
    "        elif isinstance(kappa_u, tf.Variable):\n",
    "            \n",
    "            self.kappa_u = kappa_u\n",
    "            self._trainables_ += (self.kappa_u,)\n",
    "        elif isinstance(kappa_u, tf.constant):\n",
    "            self.kappa_u = kappa_u\n",
    "        else:\n",
    "            self.kappa_u = tf.constant(kappa_u, dtype=dtype, name=\"kappa_u\")\n",
    "\n",
    "    @classmethod\n",
    "    def restote(cls, saved):        \n",
    "        return cls(None, D_u=saved.D_u,\n",
    "        D_v=saved.D_v,\n",
    "        sigma_u=saved.sigma_u,\n",
    "        sigma_v=saved.sigma_v,\n",
    "        mu_u=saved.mu_u,\n",
    "        rho_u=saved.rho_u,\n",
    "        rho_v=saved.rho_v,\n",
    "        kappa_u=saved.kappa_u)\n",
    "    \n",
    "    @tf.function\n",
    "    def loss(self, pinn, x):\n",
    "        outputs = pinn.net(x)\n",
    "        p1, p2 = pinn.gradients(x, outputs)\n",
    "\n",
    "        u = outputs[:, 0]\n",
    "        v = outputs[:, 1]\n",
    "\n",
    "        # u_x = tf.cast(p1[0][:, 0], pinn.dtype)\n",
    "        # u_y = tf.cast(p1[0][:, 1], pinn.dtype)\n",
    "        u_t = tf.cast(p1[0][:, 2], pinn.dtype)\n",
    "\n",
    "        u_xx = tf.cast(p2[0][:, 0], pinn.dtype)\n",
    "        u_yy = tf.cast(p2[0][:, 1], pinn.dtype)\n",
    "\n",
    "        # v_x = tf.cast(p1[1][:, 0], pinn.dtype)\n",
    "        # v_y = tf.cast(p1[1][:, 1], pinn.dtype)\n",
    "        v_t = tf.cast(p1[1][:, 2], pinn.dtype)\n",
    "\n",
    "        v_xx = tf.cast(p2[1][:, 0], pinn.dtype)\n",
    "        v_yy = tf.cast(p2[1][:, 1], pinn.dtype)\n",
    "\n",
    "        D_u = self.D_u\n",
    "        D_v = self.D_v\n",
    "        sigma_u = self.sigma_u\n",
    "        sigma_v = self.sigma_v\n",
    "        mu_u = self.mu_u\n",
    "        rho_u = self.rho_u\n",
    "        rho_v = self.rho_v\n",
    "        kappa_u = self.kappa_u\n",
    "\n",
    "        f = u * u * v / (1.0 + kappa_u * u * u)\n",
    "        f_u = u_t - D_u * (u_xx + u_yy) - rho_u * f + mu_u * u - sigma_u\n",
    "        f_v = v_t - D_v * (v_xx + v_yy) + rho_v * f - sigma_v\n",
    "\n",
    "        return outputs, f_u, f_v\n"
   ]
  },
  {
   "cell_type": "code",
   "execution_count": 54,
   "id": "9a90f514",
   "metadata": {
    "ExecuteTime": {
     "end_time": "2022-10-12T22:25:19.851357Z",
     "start_time": "2022-10-12T22:25:19.844581Z"
    }
   },
   "outputs": [
    {
     "data": {
      "text/plain": [
       "tuple"
      ]
     },
     "execution_count": 54,
     "metadata": {},
     "output_type": "execute_result"
    }
   ],
   "source": [
    "type(pinn.trainable_variables)"
   ]
  },
  {
   "cell_type": "code",
   "execution_count": 55,
   "id": "81b145da",
   "metadata": {
    "ExecuteTime": {
     "end_time": "2022-10-12T22:26:26.929599Z",
     "start_time": "2022-10-12T22:26:26.917660Z"
    }
   },
   "outputs": [
    {
     "data": {
      "text/plain": [
       "(<tf.Variable 'D_u:0' shape=(1,) dtype=float64, numpy=array([0.99922592])>,\n",
       " <tf.Variable 'D_v:0' shape=(1,) dtype=float64, numpy=array([0.9991385])>,\n",
       " <tf.Variable 'sigma_u:0' shape=(1,) dtype=float64, numpy=array([0.99930361])>,\n",
       " <tf.Variable 'sigma_v:0' shape=(1,) dtype=float64, numpy=array([0.99930309])>,\n",
       " <tf.Variable 'mu_u:0' shape=(1,) dtype=float64, numpy=array([1.00018546])>,\n",
       " <tf.Variable 'rho_u:0' shape=(1,) dtype=float64, numpy=array([0.99981796])>,\n",
       " <tf.Variable 'rho_v:0' shape=(1,) dtype=float64, numpy=array([1.00030259])>,\n",
       " <tf.Variable 'kappa_u:0' shape=(1,) dtype=float64, numpy=array([0.99997934])>)"
      ]
     },
     "execution_count": 55,
     "metadata": {},
     "output_type": "execute_result"
    }
   ],
   "source": []
  },
  {
   "cell_type": "code",
   "execution_count": null,
   "id": "bf65c8a8",
   "metadata": {},
   "outputs": [],
   "source": []
  },
  {
   "cell_type": "code",
   "execution_count": 5,
   "id": "3c1b4aea",
   "metadata": {
    "ExecuteTime": {
     "end_time": "2022-10-14T17:46:49.369448Z",
     "start_time": "2022-10-14T17:46:49.343182Z"
    }
   },
   "outputs": [],
   "source": [
    "model = tu.TINN_inverse(pinn, \n",
    "                pde_loss, \n",
    "                loss = l2_norm + l_inf_norm,\n",
    "                non_zero_loss=pde_non_zero, \n",
    "                #optimizer=keras.optimizers.Adam(learning_rate=0.0001), \n",
    "                alpha = 0.5,\n",
    "                print_precision=\".10f\")"
   ]
  },
  {
   "cell_type": "code",
   "execution_count": 6,
   "id": "d683f8c3",
   "metadata": {
    "ExecuteTime": {
     "end_time": "2022-10-14T17:47:25.046156Z",
     "start_time": "2022-10-14T17:46:51.568642Z"
    }
   },
   "outputs": [
    {
     "name": "stdout",
     "output_type": "stream",
     "text": [
      "\n",
      "Start of epoch 0\n"
     ]
    },
    {
     "name": "stderr",
     "output_type": "stream",
     "text": [
      "2022-10-14 18:46:56.404845: W tensorflow/python/util/util.cc:348] Sets are not currently considered sequences, but this may change in the future, so consider avoiding using them.\n",
      "2022-10-14 18:47:07.838252: I tensorflow/stream_executor/platform/default/dso_loader.cc:48] Successfully opened dynamic library libcublas.so.10\n"
     ]
    },
    {
     "name": "stdout",
     "output_type": "stream",
     "text": [
      "Training observations acc over epoch: 21.0353336334\n",
      "total loss: 87.5764136743, total regularisd loss (sum of batches): 700.6113093940\n",
      "obs u loss: 70.9520845484, obs v loss: 13.1892549714\n",
      "pde u loss: 1.5431530750, pde v loss: 1.8919210795\n",
      "pde params loss: 3.4350741545\n",
      "Non-zero loss: 0.0000002004, \n",
      "lambda obs u: 1.0000000000, lambda obs v: 1.0000000000\n",
      "lambda pde u: 1.0000000000, lambda pde v: 1.0000000000\n",
      "lambda pde params u: 1.0000000000, lambda pde params v: 1.0000000000\n",
      "D_u: 1.00035 D_v: 1.00001 sigma_u: 0.99314 sigma_v: 0.99305 \n",
      "mu_u: 1.00382 rho_u: 0.99655 rho_v: 1.00368 kappa_u: 0.99491 \n",
      "\n",
      "Time taken: 24.97s\n"
     ]
    }
   ],
   "source": [
    "results = model.train(epochs=2,\n",
    "                      batch_size=len(obs_X)//8,\n",
    "                      X=obs_X,\n",
    "                      Y=obs_Y,\n",
    "                      print_interval=50,\n",
    "                      stop_threshold=1e-5,\n",
    "                      shuffle=True,\n",
    "                      sample_losses=True, \n",
    "                      sample_parameters=True,\n",
    "                      sample_regularisations=True,\n",
    "                      sample_gradients=True,\n",
    "                      regularise=True\n",
    "                     )"
   ]
  },
  {
   "cell_type": "code",
   "execution_count": 7,
   "id": "9392584f",
   "metadata": {
    "ExecuteTime": {
     "end_time": "2022-10-14T17:47:29.418860Z",
     "start_time": "2022-10-14T17:47:29.013495Z"
    }
   },
   "outputs": [],
   "source": [
    "model.save(\"/end/home/rh2310/save_tests\", \"model_1\")"
   ]
  },
  {
   "cell_type": "code",
   "execution_count": 2,
   "id": "bf3b99b9",
   "metadata": {
    "ExecuteTime": {
     "end_time": "2022-10-14T17:48:50.693699Z",
     "start_time": "2022-10-14T17:48:50.642373Z"
    },
    "scrolled": true
   },
   "outputs": [],
   "source": [
    "model2 = tu.TINN_inverse.restore(\"/end/home/rh2310/save_tests\", \"model_1\")"
   ]
  },
  {
   "cell_type": "code",
   "execution_count": 18,
   "id": "c4f6b0d6",
   "metadata": {
    "ExecuteTime": {
     "end_time": "2022-10-14T17:45:14.435209Z",
     "start_time": "2022-10-14T17:45:14.429923Z"
    }
   },
   "outputs": [],
   "source": [
    "pinn2 = model2.pinn\n",
    "pde_residual = model2.pde_residual"
   ]
  },
  {
   "cell_type": "code",
   "execution_count": 19,
   "id": "ea1821e4",
   "metadata": {
    "ExecuteTime": {
     "end_time": "2022-10-14T17:45:15.524531Z",
     "start_time": "2022-10-14T17:45:15.518438Z"
    }
   },
   "outputs": [],
   "source": [
    "pde_non_zero2 = Non_zero_params(\"ASDM\", parameters=[pde_residual.D_u, pde_residual.D_v], print_precision=\".10f\")"
   ]
  },
  {
   "cell_type": "code",
   "execution_count": 14,
   "id": "6430c8a7",
   "metadata": {
    "ExecuteTime": {
     "end_time": "2022-10-14T17:43:25.580528Z",
     "start_time": "2022-10-14T17:43:25.541762Z"
    }
   },
   "outputs": [],
   "source": [
    "model2 = tu.TINN_inverse(pinn2, \n",
    "                pde_residual, \n",
    "                loss = l2_norm + l_inf_norm,\n",
    "                non_zero_loss=pde_residual, \n",
    "                #optimizer=keras.optimizers.Adam(learning_rate=0.0001), \n",
    "                alpha = 0.5,\n",
    "                print_precision=\".10f\")"
   ]
  },
  {
   "cell_type": "code",
   "execution_count": 5,
   "id": "9215042a",
   "metadata": {
    "ExecuteTime": {
     "end_time": "2022-10-14T17:49:37.679930Z",
     "start_time": "2022-10-14T17:49:05.383291Z"
    }
   },
   "outputs": [
    {
     "name": "stdout",
     "output_type": "stream",
     "text": [
      "\n",
      "Start of epoch 0\n"
     ]
    },
    {
     "name": "stderr",
     "output_type": "stream",
     "text": [
      "2022-10-14 18:49:10.082413: W tensorflow/python/util/util.cc:348] Sets are not currently considered sequences, but this may change in the future, so consider avoiding using them.\n",
      "2022-10-14 18:49:20.475269: I tensorflow/stream_executor/platform/default/dso_loader.cc:48] Successfully opened dynamic library libcublas.so.10\n"
     ]
    },
    {
     "name": "stdout",
     "output_type": "stream",
     "text": [
      "Training observations acc over epoch: 8.5502223969\n",
      "total loss: 46.0014715332, total regularisd loss (sum of batches): 950.8143121124\n",
      "obs u loss: 33.0756666614, obs v loss: 1.1252231023\n",
      "pde u loss: 5.4340604512, pde v loss: 6.3665213184\n",
      "pde params loss: 5.9210945609\n",
      "Non-zero loss: 0.0000002004, \n",
      "lambda obs u: 3.3929822281, lambda obs v: 0.5942299300\n",
      "lambda pde u: 0.5024528873, lambda pde v: 0.5069706168\n",
      "lambda pde params u: 0.5006600298, lambda pde params v: 0.5027043079\n",
      "D_u: 0.98925 D_v: 0.99532 sigma_u: 0.99444 sigma_v: 0.99270 \n",
      "mu_u: 0.99905 rho_u: 1.00326 rho_v: 0.99996 kappa_u: 0.99467 \n",
      "\n",
      "Time taken: 23.95s\n"
     ]
    }
   ],
   "source": [
    "results2 = model2.train(epochs=2,\n",
    "                      batch_size=len(obs_X)//8,\n",
    "                      X=obs_X,\n",
    "                      Y=obs_Y,\n",
    "                      print_interval=50,\n",
    "                      stop_threshold=1e-5,\n",
    "                      shuffle=True,\n",
    "                      sample_losses=True, \n",
    "                      sample_parameters=True,\n",
    "                      sample_regularisations=True,\n",
    "                      sample_gradients=True,\n",
    "                      regularise=True\n",
    "                     )"
   ]
  },
  {
   "cell_type": "code",
   "execution_count": null,
   "id": "d2c264a3",
   "metadata": {},
   "outputs": [],
   "source": []
  }
 ],
 "metadata": {
  "kernelspec": {
   "display_name": "Python 3 (ipykernel)",
   "language": "python",
   "name": "python3"
  },
  "language_info": {
   "codemirror_mode": {
    "name": "ipython",
    "version": 3
   },
   "file_extension": ".py",
   "mimetype": "text/x-python",
   "name": "python",
   "nbconvert_exporter": "python",
   "pygments_lexer": "ipython3",
   "version": "3.8.13"
  },
  "varInspector": {
   "cols": {
    "lenName": 16,
    "lenType": 16,
    "lenVar": 40
   },
   "kernels_config": {
    "python": {
     "delete_cmd_postfix": "",
     "delete_cmd_prefix": "del ",
     "library": "var_list.py",
     "varRefreshCmd": "print(var_dic_list())"
    },
    "r": {
     "delete_cmd_postfix": ") ",
     "delete_cmd_prefix": "rm(",
     "library": "var_list.r",
     "varRefreshCmd": "cat(var_dic_list()) "
    }
   },
   "types_to_exclude": [
    "module",
    "function",
    "builtin_function_or_method",
    "instance",
    "_Feature"
   ],
   "window_display": false
  }
 },
 "nbformat": 4,
 "nbformat_minor": 5
}
