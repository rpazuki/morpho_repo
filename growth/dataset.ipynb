{
 "cells": [
  {
   "cell_type": "code",
   "execution_count": 2,
   "id": "d710437c",
   "metadata": {
    "ExecuteTime": {
     "end_time": "2022-06-20T12:23:54.810235Z",
     "start_time": "2022-06-20T12:23:54.625548Z"
    }
   },
   "outputs": [],
   "source": [
    "%config Completer.use_jedi = False\n",
    "import sys\n",
    "import warnings\n",
    "warnings.filterwarnings('ignore')\n",
    "import tensorflow as tf\n",
    "from tensorflow import keras\n",
    "import numpy as np\n",
    "import matplotlib.pyplot as plt\n",
    "import scipy.io\n",
    "import time\n",
    "import pandas as pd"
   ]
  },
  {
   "cell_type": "code",
   "execution_count": 3,
   "id": "1911bb60",
   "metadata": {
    "ExecuteTime": {
     "end_time": "2022-06-20T12:25:23.487302Z",
     "start_time": "2022-06-20T12:25:23.475498Z"
    }
   },
   "outputs": [],
   "source": [
    "df_params = pd.read_pickle(\"../../bacterialcolony_dataset/df_circuit2_variant5716gaussian_30000parametersets.pkl\")"
   ]
  },
  {
   "cell_type": "code",
   "execution_count": 4,
   "id": "d49f1639",
   "metadata": {
    "ExecuteTime": {
     "end_time": "2022-06-20T12:25:29.179465Z",
     "start_time": "2022-06-20T12:25:29.127662Z"
    }
   },
   "outputs": [
    {
     "data": {
      "text/html": [
       "<div>\n",
       "<style scoped>\n",
       "    .dataframe tbody tr th:only-of-type {\n",
       "        vertical-align: middle;\n",
       "    }\n",
       "\n",
       "    .dataframe tbody tr th {\n",
       "        vertical-align: top;\n",
       "    }\n",
       "\n",
       "    .dataframe thead th {\n",
       "        text-align: right;\n",
       "    }\n",
       "</style>\n",
       "<table border=\"1\" class=\"dataframe\">\n",
       "  <thead>\n",
       "    <tr style=\"text-align: right;\">\n",
       "      <th></th>\n",
       "      <th>Va</th>\n",
       "      <th>Vb</th>\n",
       "      <th>Vc</th>\n",
       "      <th>Vd</th>\n",
       "      <th>Ve</th>\n",
       "      <th>Vf</th>\n",
       "      <th>ba</th>\n",
       "      <th>bb</th>\n",
       "      <th>bc</th>\n",
       "      <th>bd</th>\n",
       "      <th>...</th>\n",
       "      <th>kaa</th>\n",
       "      <th>kbd</th>\n",
       "      <th>kce</th>\n",
       "      <th>kda</th>\n",
       "      <th>keb</th>\n",
       "      <th>kee</th>\n",
       "      <th>kfe</th>\n",
       "      <th>mua</th>\n",
       "      <th>mulva</th>\n",
       "      <th>n</th>\n",
       "    </tr>\n",
       "  </thead>\n",
       "  <tbody>\n",
       "    <tr>\n",
       "      <th>0</th>\n",
       "      <td>360.066204</td>\n",
       "      <td>69.840434</td>\n",
       "      <td>33.468912</td>\n",
       "      <td>283.316201</td>\n",
       "      <td>79.328098</td>\n",
       "      <td>35.847305</td>\n",
       "      <td>0.007714</td>\n",
       "      <td>0.009772</td>\n",
       "      <td>0.010261</td>\n",
       "      <td>0.008996</td>\n",
       "      <td>...</td>\n",
       "      <td>2.316063</td>\n",
       "      <td>2.874391</td>\n",
       "      <td>88.732068</td>\n",
       "      <td>9.363779</td>\n",
       "      <td>9.627162</td>\n",
       "      <td>0.275728</td>\n",
       "      <td>5.519184</td>\n",
       "      <td>4.664757</td>\n",
       "      <td>1.485684</td>\n",
       "      <td>2.0</td>\n",
       "    </tr>\n",
       "    <tr>\n",
       "      <th>1</th>\n",
       "      <td>271.955874</td>\n",
       "      <td>101.868916</td>\n",
       "      <td>28.546540</td>\n",
       "      <td>347.711607</td>\n",
       "      <td>84.727223</td>\n",
       "      <td>41.786928</td>\n",
       "      <td>0.008341</td>\n",
       "      <td>0.012020</td>\n",
       "      <td>0.013054</td>\n",
       "      <td>0.010064</td>\n",
       "      <td>...</td>\n",
       "      <td>4.883066</td>\n",
       "      <td>3.640181</td>\n",
       "      <td>99.577576</td>\n",
       "      <td>9.439324</td>\n",
       "      <td>7.552942</td>\n",
       "      <td>0.252092</td>\n",
       "      <td>4.607892</td>\n",
       "      <td>2.973656</td>\n",
       "      <td>1.423090</td>\n",
       "      <td>2.0</td>\n",
       "    </tr>\n",
       "    <tr>\n",
       "      <th>2</th>\n",
       "      <td>310.495835</td>\n",
       "      <td>79.551016</td>\n",
       "      <td>51.789526</td>\n",
       "      <td>197.624749</td>\n",
       "      <td>51.961358</td>\n",
       "      <td>40.627957</td>\n",
       "      <td>0.010750</td>\n",
       "      <td>0.015593</td>\n",
       "      <td>0.009346</td>\n",
       "      <td>0.013251</td>\n",
       "      <td>...</td>\n",
       "      <td>3.245317</td>\n",
       "      <td>4.944193</td>\n",
       "      <td>34.494922</td>\n",
       "      <td>13.954478</td>\n",
       "      <td>8.398245</td>\n",
       "      <td>0.299176</td>\n",
       "      <td>4.757444</td>\n",
       "      <td>4.151729</td>\n",
       "      <td>1.129469</td>\n",
       "      <td>2.0</td>\n",
       "    </tr>\n",
       "    <tr>\n",
       "      <th>3</th>\n",
       "      <td>368.363031</td>\n",
       "      <td>99.843451</td>\n",
       "      <td>51.223075</td>\n",
       "      <td>312.732434</td>\n",
       "      <td>89.436871</td>\n",
       "      <td>49.564425</td>\n",
       "      <td>0.008238</td>\n",
       "      <td>0.010022</td>\n",
       "      <td>0.007271</td>\n",
       "      <td>0.007357</td>\n",
       "      <td>...</td>\n",
       "      <td>2.941270</td>\n",
       "      <td>2.693431</td>\n",
       "      <td>89.807684</td>\n",
       "      <td>10.478264</td>\n",
       "      <td>7.656785</td>\n",
       "      <td>0.347844</td>\n",
       "      <td>6.552310</td>\n",
       "      <td>3.452419</td>\n",
       "      <td>1.213001</td>\n",
       "      <td>2.0</td>\n",
       "    </tr>\n",
       "    <tr>\n",
       "      <th>4</th>\n",
       "      <td>252.138904</td>\n",
       "      <td>90.823276</td>\n",
       "      <td>43.880020</td>\n",
       "      <td>293.190760</td>\n",
       "      <td>87.402367</td>\n",
       "      <td>59.800131</td>\n",
       "      <td>0.008995</td>\n",
       "      <td>0.008820</td>\n",
       "      <td>0.007773</td>\n",
       "      <td>0.011784</td>\n",
       "      <td>...</td>\n",
       "      <td>4.101435</td>\n",
       "      <td>3.625196</td>\n",
       "      <td>60.758534</td>\n",
       "      <td>9.479563</td>\n",
       "      <td>10.618988</td>\n",
       "      <td>0.174654</td>\n",
       "      <td>3.911595</td>\n",
       "      <td>4.190837</td>\n",
       "      <td>1.634196</td>\n",
       "      <td>2.0</td>\n",
       "    </tr>\n",
       "  </tbody>\n",
       "</table>\n",
       "<p>5 rows × 24 columns</p>\n",
       "</div>"
      ],
      "text/plain": [
       "           Va          Vb         Vc          Vd         Ve         Vf  \\\n",
       "0  360.066204   69.840434  33.468912  283.316201  79.328098  35.847305   \n",
       "1  271.955874  101.868916  28.546540  347.711607  84.727223  41.786928   \n",
       "2  310.495835   79.551016  51.789526  197.624749  51.961358  40.627957   \n",
       "3  368.363031   99.843451  51.223075  312.732434  89.436871  49.564425   \n",
       "4  252.138904   90.823276  43.880020  293.190760  87.402367  59.800131   \n",
       "\n",
       "         ba        bb        bc        bd  ...       kaa       kbd        kce  \\\n",
       "0  0.007714  0.009772  0.010261  0.008996  ...  2.316063  2.874391  88.732068   \n",
       "1  0.008341  0.012020  0.013054  0.010064  ...  4.883066  3.640181  99.577576   \n",
       "2  0.010750  0.015593  0.009346  0.013251  ...  3.245317  4.944193  34.494922   \n",
       "3  0.008238  0.010022  0.007271  0.007357  ...  2.941270  2.693431  89.807684   \n",
       "4  0.008995  0.008820  0.007773  0.011784  ...  4.101435  3.625196  60.758534   \n",
       "\n",
       "         kda        keb       kee       kfe       mua     mulva    n  \n",
       "0   9.363779   9.627162  0.275728  5.519184  4.664757  1.485684  2.0  \n",
       "1   9.439324   7.552942  0.252092  4.607892  2.973656  1.423090  2.0  \n",
       "2  13.954478   8.398245  0.299176  4.757444  4.151729  1.129469  2.0  \n",
       "3  10.478264   7.656785  0.347844  6.552310  3.452419  1.213001  2.0  \n",
       "4   9.479563  10.618988  0.174654  3.911595  4.190837  1.634196  2.0  \n",
       "\n",
       "[5 rows x 24 columns]"
      ]
     },
     "execution_count": 4,
     "metadata": {},
     "output_type": "execute_result"
    }
   ],
   "source": [
    "df_params.head()"
   ]
  },
  {
   "cell_type": "code",
   "execution_count": 5,
   "id": "bcfdd5e7",
   "metadata": {
    "ExecuteTime": {
     "end_time": "2022-06-20T12:26:01.102414Z",
     "start_time": "2022-06-20T12:26:01.094532Z"
    }
   },
   "outputs": [
    {
     "data": {
      "text/plain": [
       "Index(['Va', 'Vb', 'Vc', 'Vd', 'Ve', 'Vf', 'ba', 'bb', 'bc', 'bd', 'be', 'bf',\n",
       "       'd_A', 'd_B', 'kaa', 'kbd', 'kce', 'kda', 'keb', 'kee', 'kfe', 'mua',\n",
       "       'mulva', 'n'],\n",
       "      dtype='object')"
      ]
     },
     "execution_count": 5,
     "metadata": {},
     "output_type": "execute_result"
    }
   ],
   "source": [
    "df_params.columns"
   ]
  },
  {
   "cell_type": "code",
   "execution_count": 9,
   "id": "5fdd81ca",
   "metadata": {
    "ExecuteTime": {
     "end_time": "2022-06-20T12:30:08.237979Z",
     "start_time": "2022-06-20T12:30:08.144626Z"
    }
   },
   "outputs": [],
   "source": [
    "import pickle\n",
    "\n",
    "with open('../../bacterialcolony_dataset/2Dtimeseries_circuit2_variant5716gaussian_ca_fullcircuitID194_L10_J150_T120_N1200.pkl', 'rb') as f:\n",
    "    ds_1 = pickle.load(f)"
   ]
  },
  {
   "cell_type": "code",
   "execution_count": 11,
   "id": "042cb6f5",
   "metadata": {
    "ExecuteTime": {
     "end_time": "2022-06-20T12:30:21.677284Z",
     "start_time": "2022-06-20T12:30:21.672860Z"
    }
   },
   "outputs": [
    {
     "data": {
      "text/plain": [
       "6"
      ]
     },
     "execution_count": 11,
     "metadata": {},
     "output_type": "execute_result"
    }
   ],
   "source": [
    "len(ds_1)"
   ]
  },
  {
   "cell_type": "code",
   "execution_count": 12,
   "id": "68a9c2d9",
   "metadata": {
    "ExecuteTime": {
     "end_time": "2022-06-20T12:30:29.146168Z",
     "start_time": "2022-06-20T12:30:29.141161Z"
    }
   },
   "outputs": [
    {
     "data": {
      "text/plain": [
       "(150, 150, 120)"
      ]
     },
     "execution_count": 12,
     "metadata": {},
     "output_type": "execute_result"
    }
   ],
   "source": [
    "ds_1[0].shape"
   ]
  },
  {
   "cell_type": "code",
   "execution_count": 20,
   "id": "4105fa9d",
   "metadata": {
    "ExecuteTime": {
     "end_time": "2022-06-20T12:34:36.819760Z",
     "start_time": "2022-06-20T12:34:36.473327Z"
    }
   },
   "outputs": [
    {
     "data": {
      "text/plain": [
       "<matplotlib.colorbar.Colorbar at 0x7f121435b550>"
      ]
     },
     "execution_count": 20,
     "metadata": {},
     "output_type": "execute_result"
    },
    {
     "data": {
      "image/png": "[encoded data removed]",
      "text/plain": [
       "<Figure size 432x288 with 4 Axes>"
      ]
     },
     "metadata": {
      "needs_background": "light"
     },
     "output_type": "display_data"
    }
   ],
   "source": [
    "plt.subplot(1,2,1)\n",
    "plt.imshow(ds_1[1][:,:,-100])\n",
    "plt.colorbar()\n",
    "plt.subplot(1,2,2)\n",
    "plt.imshow(ds_1[4][:,:,-100])\n",
    "plt.colorbar()"
   ]
  },
  {
   "cell_type": "code",
   "execution_count": null,
   "id": "68f4ae61",
   "metadata": {},
   "outputs": [],
   "source": []
  }
 ],
 "metadata": {
  "kernelspec": {
   "display_name": "Python 3 (ipykernel)",
   "language": "python",
   "name": "python3"
  },
  "language_info": {
   "codemirror_mode": {
    "name": "ipython",
    "version": 3
   },
   "file_extension": ".py",
   "mimetype": "text/x-python",
   "name": "python",
   "nbconvert_exporter": "python",
   "pygments_lexer": "ipython3",
   "version": "3.10.4"
  },
  "varInspector": {
   "cols": {
    "lenName": 16,
    "lenType": 16,
    "lenVar": 40
   },
   "kernels_config": {
    "python": {
     "delete_cmd_postfix": "",
     "delete_cmd_prefix": "del ",
     "library": "var_list.py",
     "varRefreshCmd": "print(var_dic_list())"
    },
    "r": {
     "delete_cmd_postfix": ") ",
     "delete_cmd_prefix": "rm(",
     "library": "var_list.r",
     "varRefreshCmd": "cat(var_dic_list()) "
    }
   },
   "types_to_exclude": [
    "module",
    "function",
    "builtin_function_or_method",
    "instance",
    "_Feature"
   ],
   "window_display": false
  }
 },
 "nbformat": 4,
 "nbformat_minor": 5
}
