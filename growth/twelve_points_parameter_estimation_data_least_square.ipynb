{
 "cells": [
  {
   "cell_type": "code",
   "execution_count": 1,
   "id": "ad56456b",
   "metadata": {
    "ExecuteTime": {
     "end_time": "2022-11-29T16:01:10.329360Z",
     "start_time": "2022-11-29T16:01:01.869100Z"
    },
    "scrolled": true
   },
   "outputs": [
    {
     "name": "stderr",
     "output_type": "stream",
     "text": [
      "2022-11-29 16:01:02.922825: I tensorflow/stream_executor/platform/default/dso_loader.cc:48] Successfully opened dynamic library libcudart.so.10.1\n",
      "2022-11-29 16:01:09.531278: I tensorflow/stream_executor/platform/default/dso_loader.cc:48] Successfully opened dynamic library libcuda.so.1\n",
      "2022-11-29 16:01:09.546900: I tensorflow/core/common_runtime/gpu/gpu_device.cc:1716] Found device 0 with properties: \n",
      "pciBusID: 0000:2d:00.0 name: Quadro RTX 6000 computeCapability: 7.5\n",
      "coreClock: 1.77GHz coreCount: 72 deviceMemorySize: 23.65GiB deviceMemoryBandwidth: 625.94GiB/s\n",
      "2022-11-29 16:01:09.546961: I tensorflow/stream_executor/platform/default/dso_loader.cc:48] Successfully opened dynamic library libcudart.so.10.1\n",
      "2022-11-29 16:01:09.551285: I tensorflow/stream_executor/platform/default/dso_loader.cc:48] Successfully opened dynamic library libcublas.so.10\n",
      "2022-11-29 16:01:09.555495: I tensorflow/stream_executor/platform/default/dso_loader.cc:48] Successfully opened dynamic library libcufft.so.10\n",
      "2022-11-29 16:01:09.556151: I tensorflow/stream_executor/platform/default/dso_loader.cc:48] Successfully opened dynamic library libcurand.so.10\n",
      "2022-11-29 16:01:09.559346: I tensorflow/stream_executor/platform/default/dso_loader.cc:48] Successfully opened dynamic library libcusolver.so.10\n",
      "2022-11-29 16:01:09.560922: I tensorflow/stream_executor/platform/default/dso_loader.cc:48] Successfully opened dynamic library libcusparse.so.10\n",
      "2022-11-29 16:01:09.567251: I tensorflow/stream_executor/platform/default/dso_loader.cc:48] Successfully opened dynamic library libcudnn.so.7\n",
      "2022-11-29 16:01:09.568170: I tensorflow/core/common_runtime/gpu/gpu_device.cc:1858] Adding visible gpu devices: 0\n",
      "2022-11-29 16:01:09.568915: I tensorflow/core/platform/cpu_feature_guard.cc:142] This TensorFlow binary is optimized with oneAPI Deep Neural Network Library (oneDNN)to use the following CPU instructions in performance-critical operations:  AVX2 AVX512F FMA\n",
      "To enable them in other operations, rebuild TensorFlow with the appropriate compiler flags.\n",
      "2022-11-29 16:01:09.586796: I tensorflow/core/platform/profile_utils/cpu_utils.cc:104] CPU Frequency: 3400000000 Hz\n",
      "2022-11-29 16:01:09.590149: I tensorflow/compiler/xla/service/service.cc:168] XLA service 0x5583a4593ef0 initialized for platform Host (this does not guarantee that XLA will be used). Devices:\n",
      "2022-11-29 16:01:09.590174: I tensorflow/compiler/xla/service/service.cc:176]   StreamExecutor device (0): Host, Default Version\n",
      "2022-11-29 16:01:09.746724: I tensorflow/compiler/xla/service/service.cc:168] XLA service 0x5583a46003a0 initialized for platform CUDA (this does not guarantee that XLA will be used). Devices:\n",
      "2022-11-29 16:01:09.746782: I tensorflow/compiler/xla/service/service.cc:176]   StreamExecutor device (0): Quadro RTX 6000, Compute Capability 7.5\n",
      "2022-11-29 16:01:09.748055: I tensorflow/core/common_runtime/gpu/gpu_device.cc:1716] Found device 0 with properties: \n",
      "pciBusID: 0000:2d:00.0 name: Quadro RTX 6000 computeCapability: 7.5\n",
      "coreClock: 1.77GHz coreCount: 72 deviceMemorySize: 23.65GiB deviceMemoryBandwidth: 625.94GiB/s\n",
      "2022-11-29 16:01:09.748120: I tensorflow/stream_executor/platform/default/dso_loader.cc:48] Successfully opened dynamic library libcudart.so.10.1\n",
      "2022-11-29 16:01:09.748170: I tensorflow/stream_executor/platform/default/dso_loader.cc:48] Successfully opened dynamic library libcublas.so.10\n",
      "2022-11-29 16:01:09.748198: I tensorflow/stream_executor/platform/default/dso_loader.cc:48] Successfully opened dynamic library libcufft.so.10\n",
      "2022-11-29 16:01:09.748225: I tensorflow/stream_executor/platform/default/dso_loader.cc:48] Successfully opened dynamic library libcurand.so.10\n",
      "2022-11-29 16:01:09.748252: I tensorflow/stream_executor/platform/default/dso_loader.cc:48] Successfully opened dynamic library libcusolver.so.10\n",
      "2022-11-29 16:01:09.748278: I tensorflow/stream_executor/platform/default/dso_loader.cc:48] Successfully opened dynamic library libcusparse.so.10\n",
      "2022-11-29 16:01:09.748306: I tensorflow/stream_executor/platform/default/dso_loader.cc:48] Successfully opened dynamic library libcudnn.so.7\n",
      "2022-11-29 16:01:09.749939: I tensorflow/core/common_runtime/gpu/gpu_device.cc:1858] Adding visible gpu devices: 0\n",
      "2022-11-29 16:01:09.749997: I tensorflow/stream_executor/platform/default/dso_loader.cc:48] Successfully opened dynamic library libcudart.so.10.1\n",
      "2022-11-29 16:01:10.284203: I tensorflow/core/common_runtime/gpu/gpu_device.cc:1257] Device interconnect StreamExecutor with strength 1 edge matrix:\n",
      "2022-11-29 16:01:10.284241: I tensorflow/core/common_runtime/gpu/gpu_device.cc:1263]      0 \n",
      "2022-11-29 16:01:10.284248: I tensorflow/core/common_runtime/gpu/gpu_device.cc:1276] 0:   N \n",
      "2022-11-29 16:01:10.285175: I tensorflow/core/common_runtime/gpu/gpu_device.cc:1402] Created TensorFlow device (/job:localhost/replica:0/task:0/device:GPU:0 with 830 MB memory) -> physical GPU (device: 0, name: Quadro RTX 6000, pci bus id: 0000:2d:00.0, compute capability: 7.5)\n"
     ]
    }
   ],
   "source": [
    "%config Completer.use_jedi = False\n",
    "import sys\n",
    "import warnings\n",
    "warnings.filterwarnings('ignore')\n",
    "import tensorflow as tf\n",
    "import numpy as np\n",
    "import matplotlib.pyplot as plt\n",
    "\n",
    "sys.path.append(\"/end/home/rh2310/morpho_repo/turing_codebase\")\n",
    "from turing.utils import *\n",
    "import turing.pinns as tu\n",
    "from turing.loss_functions import *\n",
    "\n",
    "GPU = False\n",
    "import os\n",
    "\n",
    "if GPU:\n",
    "    txt_device = 'gpu:0'\n",
    "else:\n",
    "    txt_device = 'cpu:0'    \n",
    "    os.environ[\"CUDA_VISIBLE_DEVICES\"]=\"-1\""
   ]
  },
  {
   "cell_type": "markdown",
   "id": "0013e0fc",
   "metadata": {},
   "source": [
    "# Load Koch Meinhardt dataset\n"
   ]
  },
  {
   "cell_type": "code",
   "execution_count": 2,
   "id": "512c18f1",
   "metadata": {
    "ExecuteTime": {
     "end_time": "2022-11-29T16:01:20.330832Z",
     "start_time": "2022-11-29T16:01:20.264192Z"
    }
   },
   "outputs": [],
   "source": [
    "data_path = os.path.abspath(\"../../test/outputs_Koch_Meinhardt_100_by_100/Koch_Meinhardt_9/Koch_Meinhardt_9.npy\")\n",
    "with open(data_path, 'rb') as f:\n",
    "    data = np.load(f)"
   ]
  },
  {
   "cell_type": "code",
   "execution_count": 3,
   "id": "b93eee55",
   "metadata": {
    "ExecuteTime": {
     "end_time": "2022-11-29T16:01:20.956197Z",
     "start_time": "2022-11-29T16:01:20.938404Z"
    }
   },
   "outputs": [
    {
     "data": {
      "text/plain": [
       "(2, 100, 100, 769)"
      ]
     },
     "execution_count": 3,
     "metadata": {},
     "output_type": "execute_result"
    }
   ],
   "source": [
    "data.shape"
   ]
  },
  {
   "cell_type": "code",
   "execution_count": 4,
   "id": "83dafc6e",
   "metadata": {
    "ExecuteTime": {
     "end_time": "2022-11-29T16:01:21.564946Z",
     "start_time": "2022-11-29T16:01:21.558893Z"
    }
   },
   "outputs": [],
   "source": [
    "data_path = os.path.abspath(\"../../test/outputs_Koch_Meinhardt_100_by_100/Koch_Meinhardt_9/simulation.txt\")\n",
    "with open(data_path, 'r') as f:\n",
    "    simulation = eval(f.read())\n"
   ]
  },
  {
   "cell_type": "code",
   "execution_count": 5,
   "id": "c09916c4",
   "metadata": {
    "ExecuteTime": {
     "end_time": "2022-11-29T16:01:23.093631Z",
     "start_time": "2022-11-29T16:01:23.086155Z"
    }
   },
   "outputs": [],
   "source": [
    "t_star = np.linspace(simulation.t_start, simulation.t_end, simulation.t_steps) \n",
    "    \n",
    "pre_data = data[..., -2:-1]\n",
    "t_star = t_star[-2:]\n",
    "data = data[..., -2:]\n",
    "T = t_star.shape[0]    \n",
    "    \n",
    "\n",
    "L = simulation.L[0]\n",
    "x_size = data.shape[1]\n",
    "y_size = data.shape[2]\n",
    "N = x_size*y_size\n"
   ]
  },
  {
   "cell_type": "code",
   "execution_count": 6,
   "id": "a6b6a136",
   "metadata": {
    "ExecuteTime": {
     "end_time": "2022-11-29T16:01:25.767401Z",
     "start_time": "2022-11-29T16:01:25.760995Z"
    }
   },
   "outputs": [
    {
     "data": {
      "text/plain": [
       "(2, 100, 100, 2)"
      ]
     },
     "execution_count": 6,
     "metadata": {},
     "output_type": "execute_result"
    }
   ],
   "source": [
    "data.shape"
   ]
  },
  {
   "cell_type": "code",
   "execution_count": 7,
   "id": "c7a1dac7",
   "metadata": {
    "ExecuteTime": {
     "end_time": "2022-11-29T16:01:26.357494Z",
     "start_time": "2022-11-29T16:01:26.296924Z"
    }
   },
   "outputs": [],
   "source": [
    "dxdy = x_size*y_size/L**2\n",
    "diff_Y = np.array([[dxdy * simulation.Ds[c] *diffusion((x_size,y_size), data[c, ..., t]) \n",
    "                    for t in range(data.shape[3])]\n",
    "                    for c in range(data.shape[0])\n",
    "                   ])\n",
    "diff_Y = np.einsum(\"ctij -> cijt\", diff_Y)"
   ]
  },
  {
   "cell_type": "code",
   "execution_count": 8,
   "id": "aa84126d",
   "metadata": {
    "ExecuteTime": {
     "end_time": "2022-11-29T16:01:29.985803Z",
     "start_time": "2022-11-29T16:01:29.981488Z"
    }
   },
   "outputs": [],
   "source": [
    "from scipy.optimize import lsq_linear"
   ]
  },
  {
   "cell_type": "code",
   "execution_count": null,
   "id": "d8712172",
   "metadata": {},
   "outputs": [],
   "source": [
    "'rho_u': 1.95, 'mu_u': 1.0, 'sigma_u': 0.1 \n",
    "'rho_v': 1.5, 'sigma_v': 0.1,\n",
    "'kappa_u': 1.0"
   ]
  },
  {
   "cell_type": "code",
   "execution_count": 9,
   "id": "20d9ca45",
   "metadata": {
    "ExecuteTime": {
     "end_time": "2022-11-29T16:01:32.057411Z",
     "start_time": "2022-11-29T16:01:32.050930Z"
    }
   },
   "outputs": [
    {
     "data": {
      "text/plain": [
       "(2, 100, 100, 2)"
      ]
     },
     "execution_count": 9,
     "metadata": {},
     "output_type": "execute_result"
    }
   ],
   "source": [
    "data.shape"
   ]
  },
  {
   "cell_type": "code",
   "execution_count": 10,
   "id": "c23f2588",
   "metadata": {
    "ExecuteTime": {
     "end_time": "2022-11-29T16:01:32.683324Z",
     "start_time": "2022-11-29T16:01:32.641151Z"
    }
   },
   "outputs": [],
   "source": [
    "n = simulation.n[0]*simulation.n[1]\n",
    "l = simulation.L[0]*simulation.L[1]\n",
    "u_obs = data[0, ..., -1].flatten()\n",
    "v_obs = data[1, ..., -1].flatten()\n",
    "uxxyy_obs =simulation.Ds[0] * (n/l) * diffusion(simulation.n, data[0, ..., -1]).flatten()\n",
    "vxxyy_obs =simulation.Ds[1] * (n/l) * diffusion(simulation.n, data[1, ..., -1]).flatten()\n",
    "u_dt = (data[0, ..., -2] - data[0, ..., -1]).flatten()\n",
    "v_dt = (data[1, ..., -2] - data[1, ..., -1]).flatten()"
   ]
  },
  {
   "cell_type": "code",
   "execution_count": 11,
   "id": "ce241b21",
   "metadata": {
    "ExecuteTime": {
     "end_time": "2022-11-29T16:01:33.383995Z",
     "start_time": "2022-11-29T16:01:33.355836Z"
    }
   },
   "outputs": [],
   "source": [
    "\n",
    "f_obs = u_obs * u_obs * v_obs / (1.0 + simulation.parameters['kappa_u'] * u_obs * u_obs)\n",
    "A_obs = np.vstack((np.c_[f_obs, -u_obs, [1]*n, [0]*n, [0]*n],\n",
    "                   np.c_[[0]*n, [0]*n, [0]*n, -f_obs, [1]*n]))\n",
    "b_obs = np.r_[(uxxyy_obs-u_dt, vxxyy_obs-v_dt)]\n",
    "params = np.array([simulation.parameters['rho_u'], simulation.parameters['mu_u'], \n",
    "                   simulation.parameters['sigma_u'],\n",
    "                   simulation.parameters['rho_v'], simulation.parameters['sigma_v']])"
   ]
  },
  {
   "cell_type": "code",
   "execution_count": 12,
   "id": "b2c51dd7",
   "metadata": {
    "ExecuteTime": {
     "end_time": "2022-11-29T16:01:34.253901Z",
     "start_time": "2022-11-29T16:01:34.247361Z"
    }
   },
   "outputs": [
    {
     "data": {
      "text/plain": [
       "array([1.95, 1.  , 0.1 , 1.5 , 0.1 ])"
      ]
     },
     "execution_count": 12,
     "metadata": {},
     "output_type": "execute_result"
    }
   ],
   "source": [
    "params"
   ]
  },
  {
   "cell_type": "code",
   "execution_count": 13,
   "id": "555d68dd",
   "metadata": {
    "ExecuteTime": {
     "end_time": "2022-11-29T16:01:35.532070Z",
     "start_time": "2022-11-29T16:01:35.281658Z"
    }
   },
   "outputs": [
    {
     "data": {
      "image/png": "[encoded data removed]",
      "text/plain": [
       "<Figure size 432x288 with 3 Axes>"
      ]
     },
     "metadata": {
      "needs_background": "light"
     },
     "output_type": "display_data"
    }
   ],
   "source": [
    "plt.subplot(131)\n",
    "plt.imshow(f_obs.reshape(100,100))\n",
    "plt.subplot(132)\n",
    "plt.imshow(u_obs.reshape(100,100))\n",
    "plt.subplot(133)\n",
    "plt.imshow(v_obs.reshape(100,100))\n",
    "plt.show()"
   ]
  },
  {
   "cell_type": "code",
   "execution_count": 14,
   "id": "de08c927",
   "metadata": {
    "ExecuteTime": {
     "end_time": "2022-11-29T16:01:37.501175Z",
     "start_time": "2022-11-29T16:01:37.496370Z"
    }
   },
   "outputs": [],
   "source": [
    "n_s = 4000"
   ]
  },
  {
   "cell_type": "code",
   "execution_count": 15,
   "id": "e37c302a",
   "metadata": {
    "ExecuteTime": {
     "end_time": "2022-11-29T16:01:38.377954Z",
     "start_time": "2022-11-29T16:01:38.355704Z"
    }
   },
   "outputs": [
    {
     "data": {
      "text/plain": [
       "1.3226288603014427e-07"
      ]
     },
     "execution_count": 15,
     "metadata": {},
     "output_type": "execute_result"
    }
   ],
   "source": [
    "np.mean(((np.dot(A_obs[:n_s], params)+b_obs[:n_s]))**2)"
   ]
  },
  {
   "cell_type": "code",
   "execution_count": 16,
   "id": "904d898d",
   "metadata": {
    "ExecuteTime": {
     "end_time": "2022-11-29T16:01:39.242913Z",
     "start_time": "2022-11-29T16:01:39.230787Z"
    }
   },
   "outputs": [
    {
     "data": {
      "text/plain": [
       "9.200543213900651e-08"
      ]
     },
     "execution_count": 16,
     "metadata": {},
     "output_type": "execute_result"
    }
   ],
   "source": [
    "np.mean(((np.dot(A_obs[:10000+n_s], params)+b_obs[:10000+n_s]))**2)"
   ]
  },
  {
   "cell_type": "code",
   "execution_count": 17,
   "id": "dc47f852",
   "metadata": {
    "ExecuteTime": {
     "end_time": "2022-11-29T16:01:40.205578Z",
     "start_time": "2022-11-29T16:01:40.169572Z"
    }
   },
   "outputs": [
    {
     "data": {
      "text/plain": [
       " active_mask: array([-1,  0,  0, -1, -1])\n",
       "        cost: 133.5797322484867\n",
       "         fun: array([0.00499141, 0.00499474, 0.00499621, ..., 0.06290806, 0.06302764,\n",
       "       0.06315791])\n",
       "     message: 'The relative change of the cost function is less than `tol`.'\n",
       "         nit: 9\n",
       "  optimality: 1.2656542480726785e-14\n",
       "      status: 2\n",
       "     success: True\n",
       "           x: array([1.87417058e-32, 6.00673955e-02, 1.38156625e-02, 4.07637723e-42,\n",
       "       1.75162308e-46])"
      ]
     },
     "execution_count": 17,
     "metadata": {},
     "output_type": "execute_result"
    }
   ],
   "source": [
    "res_obs = lsq_linear(A_obs, b_obs, bounds=(0, np.inf), tol=1e-16)\n",
    "res_obs"
   ]
  },
  {
   "cell_type": "code",
   "execution_count": null,
   "id": "9363904e",
   "metadata": {},
   "outputs": [],
   "source": []
  }
 ],
 "metadata": {
  "kernelspec": {
   "display_name": "Python 3 (ipykernel)",
   "language": "python",
   "name": "python3"
  },
  "language_info": {
   "codemirror_mode": {
    "name": "ipython",
    "version": 3
   },
   "file_extension": ".py",
   "mimetype": "text/x-python",
   "name": "python",
   "nbconvert_exporter": "python",
   "pygments_lexer": "ipython3",
   "version": "3.8.13"
  },
  "varInspector": {
   "cols": {
    "lenName": 16,
    "lenType": 16,
    "lenVar": 40
   },
   "kernels_config": {
    "python": {
     "delete_cmd_postfix": "",
     "delete_cmd_prefix": "del ",
     "library": "var_list.py",
     "varRefreshCmd": "print(var_dic_list())"
    },
    "r": {
     "delete_cmd_postfix": ") ",
     "delete_cmd_prefix": "rm(",
     "library": "var_list.r",
     "varRefreshCmd": "cat(var_dic_list()) "
    }
   },
   "types_to_exclude": [
    "module",
    "function",
    "builtin_function_or_method",
    "instance",
    "_Feature"
   ],
   "window_display": false
  }
 },
 "nbformat": 4,
 "nbformat_minor": 5
}
