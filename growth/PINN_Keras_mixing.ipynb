{
 "cells": [
  {
   "cell_type": "code",
   "execution_count": 1,
   "id": "23383b1b",
   "metadata": {
    "ExecuteTime": {
     "end_time": "2022-07-27T08:46:15.570740Z",
     "start_time": "2022-07-27T08:45:59.773716Z"
    },
    "scrolled": true
   },
   "outputs": [
    {
     "name": "stderr",
     "output_type": "stream",
     "text": [
      "2022-07-27 09:46:01.239777: I tensorflow/stream_executor/platform/default/dso_loader.cc:48] Successfully opened dynamic library libcudart.so.10.1\n",
      "2022-07-27 09:46:14.581579: I tensorflow/stream_executor/platform/default/dso_loader.cc:48] Successfully opened dynamic library libcuda.so.1\n",
      "2022-07-27 09:46:14.604098: I tensorflow/core/common_runtime/gpu/gpu_device.cc:1716] Found device 0 with properties: \n",
      "pciBusID: 0000:2d:00.0 name: Quadro RTX 6000 computeCapability: 7.5\n",
      "coreClock: 1.77GHz coreCount: 72 deviceMemorySize: 23.65GiB deviceMemoryBandwidth: 625.94GiB/s\n",
      "2022-07-27 09:46:14.604131: I tensorflow/stream_executor/platform/default/dso_loader.cc:48] Successfully opened dynamic library libcudart.so.10.1\n",
      "2022-07-27 09:46:14.606447: I tensorflow/stream_executor/platform/default/dso_loader.cc:48] Successfully opened dynamic library libcublas.so.10\n",
      "2022-07-27 09:46:14.608660: I tensorflow/stream_executor/platform/default/dso_loader.cc:48] Successfully opened dynamic library libcufft.so.10\n",
      "2022-07-27 09:46:14.608996: I tensorflow/stream_executor/platform/default/dso_loader.cc:48] Successfully opened dynamic library libcurand.so.10\n",
      "2022-07-27 09:46:14.611299: I tensorflow/stream_executor/platform/default/dso_loader.cc:48] Successfully opened dynamic library libcusolver.so.10\n",
      "2022-07-27 09:46:14.612508: I tensorflow/stream_executor/platform/default/dso_loader.cc:48] Successfully opened dynamic library libcusparse.so.10\n",
      "2022-07-27 09:46:14.617036: I tensorflow/stream_executor/platform/default/dso_loader.cc:48] Successfully opened dynamic library libcudnn.so.7\n",
      "2022-07-27 09:46:14.618289: I tensorflow/core/common_runtime/gpu/gpu_device.cc:1858] Adding visible gpu devices: 0\n",
      "2022-07-27 09:46:14.618835: I tensorflow/core/platform/cpu_feature_guard.cc:142] This TensorFlow binary is optimized with oneAPI Deep Neural Network Library (oneDNN)to use the following CPU instructions in performance-critical operations:  AVX2 AVX512F FMA\n",
      "To enable them in other operations, rebuild TensorFlow with the appropriate compiler flags.\n",
      "2022-07-27 09:46:14.632309: I tensorflow/core/platform/profile_utils/cpu_utils.cc:104] CPU Frequency: 3400000000 Hz\n",
      "2022-07-27 09:46:14.636337: I tensorflow/compiler/xla/service/service.cc:168] XLA service 0x55f951c49bc0 initialized for platform Host (this does not guarantee that XLA will be used). Devices:\n",
      "2022-07-27 09:46:14.636359: I tensorflow/compiler/xla/service/service.cc:176]   StreamExecutor device (0): Host, Default Version\n",
      "2022-07-27 09:46:14.776915: I tensorflow/compiler/xla/service/service.cc:168] XLA service 0x55f951cb6020 initialized for platform CUDA (this does not guarantee that XLA will be used). Devices:\n",
      "2022-07-27 09:46:14.776983: I tensorflow/compiler/xla/service/service.cc:176]   StreamExecutor device (0): Quadro RTX 6000, Compute Capability 7.5\n",
      "2022-07-27 09:46:14.778936: I tensorflow/core/common_runtime/gpu/gpu_device.cc:1716] Found device 0 with properties: \n",
      "pciBusID: 0000:2d:00.0 name: Quadro RTX 6000 computeCapability: 7.5\n",
      "coreClock: 1.77GHz coreCount: 72 deviceMemorySize: 23.65GiB deviceMemoryBandwidth: 625.94GiB/s\n",
      "2022-07-27 09:46:14.778996: I tensorflow/stream_executor/platform/default/dso_loader.cc:48] Successfully opened dynamic library libcudart.so.10.1\n",
      "2022-07-27 09:46:14.779039: I tensorflow/stream_executor/platform/default/dso_loader.cc:48] Successfully opened dynamic library libcublas.so.10\n",
      "2022-07-27 09:46:14.779072: I tensorflow/stream_executor/platform/default/dso_loader.cc:48] Successfully opened dynamic library libcufft.so.10\n",
      "2022-07-27 09:46:14.779098: I tensorflow/stream_executor/platform/default/dso_loader.cc:48] Successfully opened dynamic library libcurand.so.10\n",
      "2022-07-27 09:46:14.779123: I tensorflow/stream_executor/platform/default/dso_loader.cc:48] Successfully opened dynamic library libcusolver.so.10\n",
      "2022-07-27 09:46:14.779148: I tensorflow/stream_executor/platform/default/dso_loader.cc:48] Successfully opened dynamic library libcusparse.so.10\n",
      "2022-07-27 09:46:14.779174: I tensorflow/stream_executor/platform/default/dso_loader.cc:48] Successfully opened dynamic library libcudnn.so.7\n",
      "2022-07-27 09:46:14.782178: I tensorflow/core/common_runtime/gpu/gpu_device.cc:1858] Adding visible gpu devices: 0\n",
      "2022-07-27 09:46:14.782234: I tensorflow/stream_executor/platform/default/dso_loader.cc:48] Successfully opened dynamic library libcudart.so.10.1\n",
      "2022-07-27 09:46:15.300607: I tensorflow/core/common_runtime/gpu/gpu_device.cc:1257] Device interconnect StreamExecutor with strength 1 edge matrix:\n",
      "2022-07-27 09:46:15.300645: I tensorflow/core/common_runtime/gpu/gpu_device.cc:1263]      0 \n",
      "2022-07-27 09:46:15.300652: I tensorflow/core/common_runtime/gpu/gpu_device.cc:1276] 0:   N \n",
      "2022-07-27 09:46:15.302019: I tensorflow/core/common_runtime/gpu/gpu_device.cc:1402] Created TensorFlow device (/job:localhost/replica:0/task:0/device:GPU:0 with 15764 MB memory) -> physical GPU (device: 0, name: Quadro RTX 6000, pci bus id: 0000:2d:00.0, compute capability: 7.5)\n"
     ]
    }
   ],
   "source": [
    "%config Completer.use_jedi = False\n",
    "import sys\n",
    "import warnings\n",
    "warnings.filterwarnings('ignore')\n",
    "import tensorflow as tf\n",
    "import numpy as np\n",
    "import matplotlib.pyplot as plt\n",
    "import scipy.io\n",
    "import time\n",
    "import threading\n",
    "import gc\n",
    "import copy\n",
    "\n",
    "sys.path.append(\"/end/home/rh2310/morpho_repo/turing_codebase\")\n",
    "from turing.utils import *\n",
    "import turing.pinns as tu\n",
    "from turing.loss_functions import *\n",
    "\n",
    "GPU = True\n",
    "import os\n",
    "\n",
    "if GPU:\n",
    "    txt_device = 'gpu:0'\n",
    "else:\n",
    "    txt_device = 'cpu:0'    \n",
    "    os.environ[\"CUDA_VISIBLE_DEVICES\"]=\"-1\""
   ]
  },
  {
   "cell_type": "markdown",
   "id": "1b81d204",
   "metadata": {},
   "source": [
    "# Load data from the output of Brusselator model"
   ]
  },
  {
   "cell_type": "code",
   "execution_count": 2,
   "id": "ea70e78b",
   "metadata": {
    "ExecuteTime": {
     "end_time": "2022-07-27T08:47:12.527032Z",
     "start_time": "2022-07-27T08:47:12.448480Z"
    }
   },
   "outputs": [],
   "source": [
    "data_path = os.path.abspath(\"../turing_Brusselator.npy\")\n",
    "with open(data_path, 'rb') as f:\n",
    "    data = np.load(f)\n",
    "    \n",
    "data_path = os.path.abspath(\"../turing_t_Brusselator.npy\")\n",
    "with open(data_path, 'rb') as f:\n",
    "    t_star = np.load(f) \n",
    "    \n",
    "T = t_star.shape[0]    \n",
    "    \n",
    "L = 50\n",
    "x_size = data.shape[1]\n",
    "y_size = data.shape[2]\n",
    "N = x_size*y_size\n",
    "\n",
    "model_params = {'training_data_size': T*N,#T*32,\n",
    "                'pde_data_size': (T*N)//(32),\n",
    "                'boundary_data_size':((x_size + y_size)*T)//(8)}\n",
    "\n",
    "dataset = create_dataset(data, t_star, N, T, L, **model_params)\n",
    "lb = dataset['lb']\n",
    "ub = dataset['ub']\n",
    "obs_X = dataset['obs_input']\n",
    "obs_Y = dataset['obs_output']\n",
    "pde_X = dataset['pde']\n"
   ]
  },
  {
   "cell_type": "markdown",
   "id": "ac606dba",
   "metadata": {},
   "source": [
    "# Run Koch-Meinhardt's ASDM model with given diffusion constants and correct space-time scalse to find other parameters"
   ]
  },
  {
   "cell_type": "code",
   "execution_count": 3,
   "id": "9836cb6c",
   "metadata": {
    "ExecuteTime": {
     "end_time": "2022-07-27T08:47:14.028076Z",
     "start_time": "2022-07-27T08:47:13.988830Z"
    }
   },
   "outputs": [],
   "source": [
    "layers = [3, 64, 64, 64, 64, 2]\n",
    "\n",
    "pinn = tu.NN(layers, lb, ub, dtype=tf.float64)\n",
    "pde_loss = ASDM(dtype=tf.float64, D_a = 0.0016, D_s = 0.0131)"
   ]
  },
  {
   "cell_type": "code",
   "execution_count": 4,
   "id": "3c1b4aea",
   "metadata": {
    "ExecuteTime": {
     "end_time": "2022-07-27T08:47:14.584966Z",
     "start_time": "2022-07-27T08:47:14.569628Z"
    }
   },
   "outputs": [],
   "source": [
    "model = tu.TINN(pinn, pde_loss, alpha = 0.5)"
   ]
  },
  {
   "cell_type": "code",
   "execution_count": 5,
   "id": "ea3e5af8",
   "metadata": {
    "ExecuteTime": {
     "end_time": "2022-07-27T08:48:16.854864Z",
     "start_time": "2022-07-27T08:47:15.637767Z"
    },
    "code_folding": [],
    "scrolled": true
   },
   "outputs": [
    {
     "name": "stdout",
     "output_type": "stream",
     "text": [
      "\n",
      "Start of epoch 0\n"
     ]
    },
    {
     "name": "stderr",
     "output_type": "stream",
     "text": [
      "2022-07-27 09:47:20.449235: W tensorflow/python/util/util.cc:348] Sets are not currently considered sequences, but this may change in the future, so consider avoiding using them.\n",
      "2022-07-27 09:47:26.518237: I tensorflow/stream_executor/platform/default/dso_loader.cc:48] Successfully opened dynamic library libcublas.so.10\n"
     ]
    },
    {
     "name": "stdout",
     "output_type": "stream",
     "text": [
      "Training observations acc over epoch: 18.99233\n",
      "total loss: 59.43080, total regularisd loss (sum of batches): 30428.56874\n",
      "obs u loss: 24.43181, obs v loss: 13.55288\n",
      "pde u loss: 1.91459, pde v loss: 19.53152\n",
      "lambda obs u: 1.00000, lambda obs v: 1.00000\n",
      "lambda pde u: 1.00000, lambda pde v: 1.00000\n",
      "sigma_a: 10.08218 sigma_s: 9.65446 mu_a: 9.71420 rho_a: 10.53130 \n",
      "rho_s: 10.52551 kappa_a: 9.45008 \n",
      "Time taken: 25.58s\n",
      "\n",
      "Start of epoch 1\n",
      "Training observations acc over epoch: 17.75725\n",
      "total loss: 42.83414, total regularisd loss (sum of batches): 21931.08157\n",
      "obs u loss: 23.24850, obs v loss: 12.26601\n",
      "pde u loss: 0.13381, pde v loss: 7.18583\n",
      "lambda obs u: 2.13867, lambda obs v: 0.76335\n",
      "lambda pde u: 0.50004, lambda pde v: 0.59794\n",
      "sigma_a: 10.27159 sigma_s: 9.28265 mu_a: 9.28088 rho_a: 11.02895 \n",
      "rho_s: 10.98063 kappa_a: 8.95726 \n",
      "Time taken: 15.17s\n",
      "\n",
      "Start of epoch 2\n",
      "Training observations acc over epoch: 15.92249\n",
      "total loss: 38.07537, total regularisd loss (sum of batches): 29599.01827\n",
      "obs u loss: 21.76018, obs v loss: 10.08481\n",
      "pde u loss: 1.54075, pde v loss: 4.68964\n",
      "lambda obs u: 2.79759, lambda obs v: 0.59893\n",
      "lambda pde u: 0.25200, lambda pde v: 0.35148\n",
      "sigma_a: 10.68180 sigma_s: 9.04802 mu_a: 8.57241 rho_a: 11.71466 \n",
      "rho_s: 11.24922 kappa_a: 8.57706 \n",
      "Time taken: 10.28s\n",
      "\n",
      "Start of epoch 3\n",
      "Training observations acc over epoch: 14.32360\n",
      "total loss: 38.92427, total regularisd loss (sum of batches): 32443.82977\n",
      "obs u loss: 19.70280, obs v loss: 8.94440\n",
      "pde u loss: 7.26522, pde v loss: 3.01185\n",
      "lambda obs u: 3.15116, lambda obs v: 0.49783\n",
      "lambda pde u: 0.14759, lambda pde v: 0.20342\n",
      "sigma_a: 11.16500 sigma_s: 8.90166 mu_a: 7.87421 rho_a: 12.33422 \n",
      "rho_s: 11.41651 kappa_a: 8.24157 \n",
      "Time taken: 10.18s\n"
     ]
    }
   ],
   "source": [
    "results = model.train(epochs=4,\n",
    "                      batch_size=512,\n",
    "                      X=obs_X,\n",
    "                      Y=obs_Y,\n",
    "                      print_interval=1,\n",
    "                      stop_threshold=1e-5,\n",
    "                      shuffle=True,\n",
    "                      sample_losses=True, \n",
    "                      sample_parameters=True,\n",
    "                      sample_regularisations=True,\n",
    "                      sample_gradients=True,\n",
    "                      regularise=True\n",
    "                     )"
   ]
  },
  {
   "cell_type": "code",
   "execution_count": 6,
   "id": "6ea18ce7",
   "metadata": {
    "ExecuteTime": {
     "end_time": "2022-07-27T08:48:30.641378Z",
     "start_time": "2022-07-27T08:48:30.622372Z"
    }
   },
   "outputs": [
    {
     "data": {
      "text/plain": [
       "dict_keys(['training_obs_accuracy', 'loss_total', 'loss_regularisd_total', 'loss_obs_u', 'loss_obs_v', 'loss_pde_u', 'loss_pde_v', 'lambda_obs_u', 'lambda_obs_v', 'lambda_pde_u', 'lambda_pde_v', 'grads_obs_u', 'grads_obs_v', 'grads_pde_u', 'grads_pde_v', 'sigma_a', 'sigma_s', 'mu_a', 'rho_a', 'rho_s', 'kappa_a'])"
      ]
     },
     "execution_count": 6,
     "metadata": {},
     "output_type": "execute_result"
    }
   ],
   "source": [
    "results.keys()"
   ]
  },
  {
   "cell_type": "code",
   "execution_count": 7,
   "id": "1e2550fb",
   "metadata": {
    "ExecuteTime": {
     "end_time": "2022-07-27T08:48:37.907533Z",
     "start_time": "2022-07-27T08:48:37.900240Z"
    }
   },
   "outputs": [
    {
     "data": {
      "text/plain": [
       "array([10.08218076, 10.27159382, 10.68180004, 11.16499557])"
      ]
     },
     "execution_count": 7,
     "metadata": {},
     "output_type": "execute_result"
    }
   ],
   "source": [
    "results['sigma_a']"
   ]
  },
  {
   "cell_type": "code",
   "execution_count": 9,
   "id": "6b3af98e",
   "metadata": {
    "ExecuteTime": {
     "end_time": "2022-07-27T08:49:25.006403Z",
     "start_time": "2022-07-27T08:49:24.998424Z"
    }
   },
   "outputs": [
    {
     "name": "stdout",
     "output_type": "stream",
     "text": [
      "sigma_a [10.08218076 10.27159382 10.68180004 11.16499557]\n",
      "sigma_s [9.65445654 9.28265265 9.0480151  8.9016571 ]\n",
      "mu_a [9.71420314 9.28087797 8.57240876 7.87421198]\n",
      "rho_a [10.53129551 11.02895166 11.71465985 12.33421926]\n",
      "rho_s [10.52550851 10.98062986 11.24922482 11.41651365]\n",
      "kappa_a [9.45008129 8.95726171 8.57705994 8.2415736 ]\n"
     ]
    }
   ],
   "source": [
    "for name in pde_loss.parameter_names():\n",
    "    print(name, results[name])"
   ]
  },
  {
   "cell_type": "code",
   "execution_count": null,
   "id": "d44af3f0",
   "metadata": {},
   "outputs": [],
   "source": []
  }
 ],
 "metadata": {
  "kernelspec": {
   "display_name": "Python 3 (ipykernel)",
   "language": "python",
   "name": "python3"
  },
  "language_info": {
   "codemirror_mode": {
    "name": "ipython",
    "version": 3
   },
   "file_extension": ".py",
   "mimetype": "text/x-python",
   "name": "python",
   "nbconvert_exporter": "python",
   "pygments_lexer": "ipython3",
   "version": "3.8.13"
  },
  "varInspector": {
   "cols": {
    "lenName": 16,
    "lenType": 16,
    "lenVar": 40
   },
   "kernels_config": {
    "python": {
     "delete_cmd_postfix": "",
     "delete_cmd_prefix": "del ",
     "library": "var_list.py",
     "varRefreshCmd": "print(var_dic_list())"
    },
    "r": {
     "delete_cmd_postfix": ") ",
     "delete_cmd_prefix": "rm(",
     "library": "var_list.r",
     "varRefreshCmd": "cat(var_dic_list()) "
    }
   },
   "types_to_exclude": [
    "module",
    "function",
    "builtin_function_or_method",
    "instance",
    "_Feature"
   ],
   "window_display": false
  }
 },
 "nbformat": 4,
 "nbformat_minor": 5
}
