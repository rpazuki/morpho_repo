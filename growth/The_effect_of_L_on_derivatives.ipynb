{
 "cells": [
  {
   "cell_type": "markdown",
   "id": "5092d345",
   "metadata": {},
   "source": [
    "# The effect of normalising the input of the PINN\n",
    "\n",
    "> In this notebook, I checked the eefect of normalising the input by usiing lower and upper bounds (lb, ub) on the outputs and the first and the second order derivatives.\n",
    "\n",
    "### Verdict:\n",
    "\n",
    "> The outputs remains the same, even if we change the scale of the data, say L. However, the first and the second order derivatives are scaled as $L^{-1}$ and $L^{-2}$ respectively."
   ]
  },
  {
   "cell_type": "code",
   "execution_count": 22,
   "id": "7e3f85e5",
   "metadata": {
    "ExecuteTime": {
     "end_time": "2022-08-02T16:18:09.826630Z",
     "start_time": "2022-08-02T16:18:09.804510Z"
    },
    "scrolled": true
   },
   "outputs": [],
   "source": [
    "%config Completer.use_jedi = False\n",
    "import sys\n",
    "import warnings\n",
    "warnings.filterwarnings('ignore')\n",
    "import tensorflow as tf\n",
    "import numpy as np\n",
    "\n",
    "\n",
    "sys.path.append(\"/end/home/rh2310/morpho_repo/turing_codebase\")\n",
    "from turing.utils import *\n",
    "import turing.pinns as tu\n",
    "from turing.loss_functions import *"
   ]
  },
  {
   "cell_type": "code",
   "execution_count": 17,
   "id": "f021fb0e",
   "metadata": {
    "ExecuteTime": {
     "end_time": "2022-08-02T16:16:55.327202Z",
     "start_time": "2022-08-02T16:16:55.311199Z"
    }
   },
   "outputs": [],
   "source": [
    "tf.random.set_seed(43)\n",
    "np.random.seed(43)\n",
    "tf.compat.v1.set_random_seed(43)"
   ]
  },
  {
   "cell_type": "markdown",
   "id": "0c904944",
   "metadata": {},
   "source": [
    "# Create a PINN for L=1.0 by tunning the ub"
   ]
  },
  {
   "cell_type": "code",
   "execution_count": 18,
   "id": "000d8171",
   "metadata": {
    "ExecuteTime": {
     "end_time": "2022-08-02T16:16:57.315229Z",
     "start_time": "2022-08-02T16:16:57.279732Z"
    }
   },
   "outputs": [],
   "source": [
    "layers = [3, 64, 64, 64, 64, 2]\n",
    "pinn = tu.NN(layers, lb=np.array([0.0, 0.0, 0.0]), ub=np.array([1.0, 1.0, 1.0]), dtype=tf.float64)"
   ]
  },
  {
   "cell_type": "markdown",
   "id": "7af5203c",
   "metadata": {},
   "source": [
    "# Check the output and the gradients for (0, 0, 0) and (1, 1, 1). "
   ]
  },
  {
   "cell_type": "code",
   "execution_count": 19,
   "id": "4f0b8264",
   "metadata": {
    "ExecuteTime": {
     "end_time": "2022-08-02T16:16:59.731586Z",
     "start_time": "2022-08-02T16:16:59.155507Z"
    }
   },
   "outputs": [
    {
     "name": "stdout",
     "output_type": "stream",
     "text": [
      "tf.Tensor(\n",
      "[[-0.01898138 -0.03388576]\n",
      " [ 0.01898138  0.03388576]], shape=(2, 2), dtype=float64)\n",
      "tf.Tensor(\n",
      "[[ 0.01341942 -0.02162235  0.10655636]\n",
      " [ 0.01341942 -0.02162235  0.10655636]], shape=(2, 3), dtype=float64)\n",
      "tf.Tensor(\n",
      "[[-0.01161232 -0.06457729  0.10123398]\n",
      " [ 0.01161232  0.06457729 -0.10123398]], shape=(2, 3), dtype=float64)\n"
     ]
    }
   ],
   "source": [
    "inputs = tf.constant(np.array([[0.0, 0.0, 0.0], [1.0, 1.0, 1.0]]), dtype=tf.float64)\n",
    "\n",
    "with tf.GradientTape(persistent=True) as tape:\n",
    "    tape.watch(inputs)\n",
    "    with tf.GradientTape(persistent=True) as tape2:\n",
    "        tape2.watch(inputs)\n",
    "        outputs = pinn(inputs)\n",
    "    g1 = tape2.gradient(outputs, inputs)\n",
    "    \n",
    "print(outputs)\n",
    "\n",
    "g2 = tape.gradient(g1, inputs)\n",
    "print(g1)\n",
    "print(g2)"
   ]
  },
  {
   "cell_type": "markdown",
   "id": "fff12e1d",
   "metadata": {},
   "source": [
    "# Create another PINN with the same weights, but this tme the dimension is L=10.0, or one order of magnitude larger"
   ]
  },
  {
   "cell_type": "code",
   "execution_count": 20,
   "id": "2d5eeeb7",
   "metadata": {
    "ExecuteTime": {
     "end_time": "2022-08-02T16:17:03.442704Z",
     "start_time": "2022-08-02T16:17:03.416066Z"
    }
   },
   "outputs": [],
   "source": [
    "tf.random.set_seed(43)\n",
    "np.random.seed(43)\n",
    "tf.compat.v1.set_random_seed(43)\n",
    "\n",
    "layers = [3, 64, 64, 64, 64, 2]\n",
    "pinn2 = tu.NN(layers, lb=np.array([0.0, 0.0, 0.0]), ub=np.array([10.0, 10.0, 10.0]), dtype=tf.float64)"
   ]
  },
  {
   "cell_type": "markdown",
   "id": "3c94c534",
   "metadata": {},
   "source": [
    "# Then the outputs for (0, 0, 0) and (10, 10, 10) are exactly the same, but the first and the second order derivatives or scaled as $L^{-1}$ and $L^{-2}$, as expected."
   ]
  },
  {
   "cell_type": "code",
   "execution_count": 21,
   "id": "ca249611",
   "metadata": {
    "ExecuteTime": {
     "end_time": "2022-08-02T16:17:05.409364Z",
     "start_time": "2022-08-02T16:17:04.859577Z"
    }
   },
   "outputs": [
    {
     "name": "stdout",
     "output_type": "stream",
     "text": [
      "tf.Tensor(\n",
      "[[-0.01898138 -0.03388576]\n",
      " [ 0.01898138  0.03388576]], shape=(2, 2), dtype=float64)\n",
      "tf.Tensor(\n",
      "[[ 0.00134194 -0.00216224  0.01065564]\n",
      " [ 0.00134194 -0.00216224  0.01065564]], shape=(2, 3), dtype=float64)\n",
      "tf.Tensor(\n",
      "[[-0.00011612 -0.00064577  0.00101234]\n",
      " [ 0.00011612  0.00064577 -0.00101234]], shape=(2, 3), dtype=float64)\n"
     ]
    }
   ],
   "source": [
    "inputs = tf.constant(np.array([[0.0, 0.0, 0.0], [10.0, 10.0, 10.0]]), dtype=tf.float64)\n",
    "\n",
    "with tf.GradientTape(persistent=True) as tape:\n",
    "    tape.watch(inputs)\n",
    "    with tf.GradientTape(persistent=True) as tape2:\n",
    "        tape2.watch(inputs)\n",
    "        outputs = pinn2(inputs)\n",
    "    g1 = tape2.gradient(outputs, inputs)\n",
    "    \n",
    "print(outputs)\n",
    "\n",
    "g2 = tape.gradient(g1, inputs)\n",
    "print(g1)\n",
    "print(g2)"
   ]
  },
  {
   "cell_type": "code",
   "execution_count": null,
   "id": "74efd89b",
   "metadata": {},
   "outputs": [],
   "source": []
  }
 ],
 "metadata": {
  "kernelspec": {
   "display_name": "Python 3 (ipykernel)",
   "language": "python",
   "name": "python3"
  },
  "language_info": {
   "codemirror_mode": {
    "name": "ipython",
    "version": 3
   },
   "file_extension": ".py",
   "mimetype": "text/x-python",
   "name": "python",
   "nbconvert_exporter": "python",
   "pygments_lexer": "ipython3",
   "version": "3.8.13"
  },
  "varInspector": {
   "cols": {
    "lenName": 16,
    "lenType": 16,
    "lenVar": 40
   },
   "kernels_config": {
    "python": {
     "delete_cmd_postfix": "",
     "delete_cmd_prefix": "del ",
     "library": "var_list.py",
     "varRefreshCmd": "print(var_dic_list())"
    },
    "r": {
     "delete_cmd_postfix": ") ",
     "delete_cmd_prefix": "rm(",
     "library": "var_list.r",
     "varRefreshCmd": "cat(var_dic_list()) "
    }
   },
   "types_to_exclude": [
    "module",
    "function",
    "builtin_function_or_method",
    "instance",
    "_Feature"
   ],
   "window_display": false
  }
 },
 "nbformat": 4,
 "nbformat_minor": 5
}
