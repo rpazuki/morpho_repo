{
 "cells": [
  {
   "cell_type": "code",
   "execution_count": 1,
   "id": "b798211f",
   "metadata": {
    "ExecuteTime": {
     "end_time": "2023-02-06T14:06:25.987582Z",
     "start_time": "2023-02-06T14:06:24.260716Z"
    },
    "hide_input": false
   },
   "outputs": [],
   "source": [
    "from itertools import combinations\n",
    "from collections import namedtuple\n",
    "import numpy as np\n",
    "from jax import hessian, jacfwd, jacrev, jit\n",
    "from scipy.linalg import eig\n",
    "\n",
    "import os\n",
    "os.environ[\"CUDA_VISIBLE_DEVICES\"]=\"2\"\n",
    "\n",
    "import sys\n",
    "import warnings\n",
    "warnings.filterwarnings('ignore')\n",
    "import matplotlib.pyplot as plt\n",
    "\n",
    "import ipywidgets as widgets\n",
    "from IPython.display import display\n",
    "from IPython.display import clear_output\n",
    "from ipywidgets.widgets import HBox, VBox, Label\n",
    "\n",
    "sys.path.append(\"/end/home/rh2310/morpho_repo/turing_codebase\")\n",
    "from turing.utils import *"
   ]
  },
  {
   "cell_type": "code",
   "execution_count": 2,
   "id": "3c8bd5b2",
   "metadata": {
    "ExecuteTime": {
     "end_time": "2023-02-06T14:06:27.866735Z",
     "start_time": "2023-02-06T14:06:27.846441Z"
    },
    "code_folding": [
     49
    ]
   },
   "outputs": [],
   "source": [
    "import jax.numpy as jnp\n",
    "\n",
    "\n",
    "def L2_mean(x):\n",
    "    return jnp.mean((x)**2)\n",
    "\n",
    "def root_L2_mean(x):\n",
    "    return jnp.sqrt(L2_mean(x))\n",
    "\n",
    "def create_u_residual(c, c_xx, c_yy, c_t):\n",
    "    u = c[0, ...]\n",
    "    v = c[1, ...]\n",
    "    u_xx = c_xx[0, ...]\n",
    "    u_yy = c_yy[0, ...]\n",
    "    u_t = c_t[0, ...]\n",
    "    \n",
    "    def res_u(D_u, kappa_u, rho_u, mu_u, sigma_u):        \n",
    "        f = u * u * v / (1.0 + kappa_u * u * u)    \n",
    "        return D_u * (u_xx + u_yy) + rho_u * f - mu_u * u + sigma_u - u_t\n",
    "    return res_u\n",
    "\n",
    "def create_v_residual(c, c_xx, c_yy, c_t):\n",
    "    u = c[0, ...]\n",
    "    v = c[1, ...]\n",
    "    v_xx = c_xx[1, ...]\n",
    "    v_yy = c_yy[1, ...]\n",
    "    v_t = c_t[1, ...]    \n",
    "    \n",
    "    def res_v(D_v, kappa_u, rho_v, sigma_v):\n",
    "        f = u * u * v / (1.0 + kappa_u * u * u)    \n",
    "        return D_v * (v_xx + v_yy) - rho_v * f + sigma_v - v_t\n",
    "    \n",
    "    return res_v\n",
    "\n",
    "def create_loss(c, c_xx, c_yy, c_t):\n",
    "    res_u = create_u_residual(c, c_xx, c_yy, c_t)\n",
    "    res_v = create_v_residual(c, c_xx, c_yy, c_t)\n",
    "    def loss(D_u, D_v, kappa_u, rho_u, mu_u, sigma_u, rho_v, sigma_v):        \n",
    "        return res_u(D_u, kappa_u, rho_u, mu_u, sigma_u) + res_v(D_v, kappa_u, rho_v, sigma_v)\n",
    "    \n",
    "    return loss\n",
    "\n",
    "def create_l2_loss(c, c_xx, c_yy, c_t):    \n",
    "    l = create_loss(c, c_xx, c_yy, c_t)\n",
    "    def l2_loss(D_u, D_v, kappa_u, rho_u, mu_u, sigma_u, rho_v, sigma_v):\n",
    "        return L2_mean(l(D_u, D_v, kappa_u, rho_u, mu_u, sigma_u, rho_v, sigma_v))\n",
    "    \n",
    "    return l2_loss\n",
    "\n",
    "def residuals(c, c_xx, c_yy, c_t, simulation):\n",
    "     \n",
    "    u = c[0, ...]\n",
    "    v = c[1, ...]\n",
    "    u_xx = c_xx[0, ...]\n",
    "    u_yy = c_yy[0, ...]\n",
    "    u_t = c_t[0, ...]\n",
    "    v_xx = c_xx[1, ...]\n",
    "    v_yy = c_yy[1, ...]\n",
    "    v_t = c_t[1, ...]    \n",
    "    \n",
    "    D_u = simulation.Ds[0] \n",
    "    D_v = simulation.Ds[1]\n",
    "    kappa_u = simulation.parameters['kappa_u']\n",
    "    rho_u = simulation.parameters['rho_u']\n",
    "    mu_u = simulation.parameters['mu_u']\n",
    "    sigma_u = simulation.parameters['sigma_u']\n",
    "    rho_v = simulation.parameters['rho_v']\n",
    "    sigma_v = simulation.parameters['sigma_v']\n",
    "    \n",
    "    f = u * u * v / (1.0 + kappa_u * u * u)\n",
    "    \n",
    "    res_u = D_u * (u_xx + u_yy) + rho_u * f - mu_u * u + sigma_u - u_t\n",
    "    res_v = D_v * (v_xx + v_yy) - rho_v * f + sigma_v - v_t\n",
    "    return (res_u, res_v)\n",
    "\n",
    "symbols = {\"D_u\": \"D_u\", \"D_v\": \"D_v\", \"kappa_u\": r\"\\kappa_u\", \n",
    "            \"rho_u\":r\"\\rho_u\", \"rho_v\":r\"\\rho_v\", \"mu_u\":r\"\\mu_u\",\n",
    "            \"sigma_u\":r\"\\sigma_u\", \"sigma_v\":r\"\\sigma_v\"}"
   ]
  },
  {
   "cell_type": "code",
   "execution_count": 3,
   "id": "3736cad9",
   "metadata": {
    "ExecuteTime": {
     "end_time": "2023-02-06T14:06:33.692237Z",
     "start_time": "2023-02-06T14:06:33.668373Z"
    },
    "code_folding": []
   },
   "outputs": [],
   "source": [
    "Pattern = namedtuple('Pattern', ['simulation', 't_star', 'x_size', 'y_size', \n",
    "                                 'c', 'c_xx', 'c_yy', 'c_t',\n",
    "                                 'c_domain', 'c_xx_domain', 'c_yy_domain', 'c_t_domain',\n",
    "                                 'params', 'u_params', 'v_params',\n",
    "                                 'l2_loss', 'loss_u', 'loss_v'])             \n",
    "\n",
    "def load(sim_name, \n",
    "         x_slice,\n",
    "         y_slice,\n",
    "         data_time_start=-3, \n",
    "         data_time_len=2,\n",
    "         data_time_step=1,\n",
    "         verbose=False\n",
    "        ):\n",
    "    data_path = os.path.abspath(f\"../../test/outputs_Koch_Meinhardt_100_by_100/{sim_name}/{sim_name}.npy\")\n",
    "    with open(data_path, 'rb') as f:\n",
    "        data = np.load(f)\n",
    "\n",
    "    data_path = os.path.abspath(f\"../../test/outputs_Koch_Meinhardt_100_by_100/{sim_name}/simulation.txt\")\n",
    "    with open(data_path, 'r') as f:\n",
    "        simulation = eval(f.read())\n",
    "        \n",
    "    t_star = np.linspace(simulation.t_start, \n",
    "                     simulation.t_end, \n",
    "                     simulation.t_steps)\n",
    "    \n",
    "    if verbose:\n",
    "        print(f\"Initial dataset shape was: {data.shape}.\")\n",
    "    \n",
    "    L = simulation.L[0]\n",
    "    x_size = data.shape[1]\n",
    "    y_size = data.shape[2]\n",
    "    N = x_size*y_size    \n",
    "    dxdy = x_size*y_size/L**2\n",
    "    \n",
    "       \n",
    "    if data_time_start+data_time_len+1 < 0:\n",
    "        time_slice=slice(data_time_start, data_time_start+data_time_len+1, data_time_step)\n",
    "    else:\n",
    "        time_slice=slice(data_time_start, data.shape[3], data_time_step)\n",
    "    data_time_slice=slice(data_time_start, data_time_start+data_time_len, data_time_step)\n",
    "    \n",
    "    data_time = data[:, :, :, time_slice].copy()\n",
    "    data = data[:, :, :, data_time_slice] \n",
    "    \n",
    "    if verbose:\n",
    "        print(f\"It reduced to: {data.shape}.\")\n",
    "    \n",
    "    t_star_time = t_star[time_slice].copy()\n",
    "    t_star = t_star[data_time_slice]\n",
    "    \n",
    "    assert len(t_star) > 1, f\"There must be at least two time steps. There are '{len(t_star)}'.\"\n",
    "    \n",
    "    c_xx =  np.array([[ dxdy  * second_order_derivatives((x_size,y_size), data[c, ..., t])[0] \n",
    "                        for t in range(data.shape[3])]\n",
    "                        for c in range(data.shape[0])\n",
    "                       ])\n",
    "    c_xx = np.einsum(\"ctij -> cijt\", c_xx)\n",
    "    c_yy = np.array([[ dxdy * second_order_derivatives((x_size,y_size), data[c, ..., t])[1] \n",
    "                        for t in range(data.shape[3])]\n",
    "                        for c in range(data.shape[0])\n",
    "                       ])\n",
    "    c_yy = np.einsum(\"ctij -> cijt\", c_yy)\n",
    "\n",
    "    c_t = np.array([[(data_time[c, ..., t+1] -  data_time[c, ..., t])/(t_star_time[t+1] - t_star_time[t])\n",
    "                        for t in range(data.shape[3])]\n",
    "                        for c in range(data.shape[0])\n",
    "                       ])\n",
    "    c_t = np.einsum(\"ctij -> cijt\", c_t)\n",
    "    \n",
    "    diff_Y = np.array([[dxdy * diffusion((x_size,y_size), data[c, ..., t]) \n",
    "                        for t in range(data.shape[3])]\n",
    "                        for c in range(data.shape[0])\n",
    "                       ])\n",
    "    diff_Y = np.einsum(\"ctij -> cijt\", diff_Y)\n",
    "        \n",
    "    if verbose:\n",
    "        print(f\"And its X-Y size reduced to: {data[:, x_slice, y_slice, :].shape}.\")\n",
    "        \n",
    "        \n",
    "    \n",
    "        \n",
    "    params = {\"D_u\": simulation.Ds[0],\n",
    "          \"D_v\": simulation.Ds[1],\n",
    "          \"kappa_u\": simulation.parameters[\"kappa_u\"],\n",
    "          \"rho_u\": simulation.parameters[\"rho_u\"],\n",
    "          \"mu_u\": simulation.parameters[\"mu_u\"],\n",
    "          \"sigma_u\": simulation.parameters[\"sigma_u\"],\n",
    "          \"rho_v\": simulation.parameters[\"rho_v\"],\n",
    "          \"sigma_v\": simulation.parameters[\"sigma_v\"]}\n",
    "    \n",
    "    u_params = {k: params[k] for k in (\"D_u\", \"kappa_u\", \"rho_u\", \"mu_u\", \"sigma_u\")}\n",
    "    v_params = {k: params[k] for k in (\"D_v\", \"kappa_u\", \"rho_v\", \"sigma_v\")}\n",
    "    \n",
    "    c_restricted = data[:, x_slice, y_slice, :]\n",
    "    c_xx_restricted = c_xx[:, x_slice, y_slice, :]\n",
    "    c_yy_restricted = c_yy[:, x_slice, y_slice, :] \n",
    "    c_t_restricted = c_t[:, x_slice, y_slice, :]\n",
    "    \n",
    "    \n",
    "    l2_loss =create_l2_loss(jnp.asarray(c_restricted),\n",
    "                            jnp.asarray(c_xx_restricted),\n",
    "                            jnp.asarray(c_yy_restricted),\n",
    "                            jnp.asarray(c_t_restricted))\n",
    "    \n",
    "    loss_u = create_u_residual(jnp.asarray(c_restricted),\n",
    "                           jnp.asarray(c_xx_restricted),\n",
    "                           jnp.asarray(c_yy_restricted),\n",
    "                           jnp.asarray(c_t_restricted))\n",
    "    loss_v = create_v_residual(jnp.asarray(c_restricted),\n",
    "                           jnp.asarray(c_xx_restricted),\n",
    "                           jnp.asarray(c_yy_restricted),\n",
    "                           jnp.asarray(c_t_restricted))\n",
    "        \n",
    "    pattern = Pattern(simulation, t_star, x_size, y_size, \n",
    "                      c_restricted, c_xx_restricted, c_yy_restricted, c_t_restricted, \n",
    "                      data, c_xx, c_yy, c_t,\n",
    "                      params, u_params, v_params,\n",
    "                      l2_loss, loss_u, loss_v)\n",
    "        \n",
    "    return pattern\n"
   ]
  },
  {
   "cell_type": "code",
   "execution_count": 4,
   "id": "ce559327",
   "metadata": {
    "ExecuteTime": {
     "end_time": "2023-02-06T14:06:38.746698Z",
     "start_time": "2023-02-06T14:06:34.994483Z"
    }
   },
   "outputs": [],
   "source": [
    "x_slice=slice(30,65,5)\n",
    "y_slice=slice(50,85,5)    \n",
    "pattern = load(\"Koch_Meinhardt_1\", \n",
    "               x_slice,\n",
    "               y_slice,\n",
    "               data_time_start=-3, \n",
    "               data_time_len=2,\n",
    "               data_time_step=1,\n",
    "               verbose=False)"
   ]
  },
  {
   "cell_type": "code",
   "execution_count": 5,
   "id": "5b6f2eae",
   "metadata": {
    "ExecuteTime": {
     "end_time": "2023-02-06T14:06:41.367551Z",
     "start_time": "2023-02-06T14:06:39.585707Z"
    }
   },
   "outputs": [
    {
     "data": {
      "text/plain": [
       "Array(7.5354767e-13, dtype=float32)"
      ]
     },
     "execution_count": 5,
     "metadata": {},
     "output_type": "execute_result"
    }
   ],
   "source": [
    "pattern.l2_loss(pattern.simulation.Ds[0], pattern.simulation.Ds[1],\n",
    "                pattern.simulation.parameters[\"kappa_u\"],\n",
    "                pattern.simulation.parameters[\"rho_u\"],\n",
    "                pattern.simulation.parameters[\"mu_u\"],\n",
    "                pattern.simulation.parameters[\"sigma_u\"],\n",
    "                pattern.simulation.parameters[\"rho_v\"],\n",
    "                pattern.simulation.parameters[\"sigma_v\"])"
   ]
  },
  {
   "cell_type": "code",
   "execution_count": 6,
   "id": "8f7120fd",
   "metadata": {
    "ExecuteTime": {
     "end_time": "2023-02-06T14:06:44.438819Z",
     "start_time": "2023-02-06T14:06:44.425225Z"
    }
   },
   "outputs": [
    {
     "data": {
      "text/plain": [
       "(7, 7, 2)"
      ]
     },
     "execution_count": 6,
     "metadata": {},
     "output_type": "execute_result"
    }
   ],
   "source": [
    "pattern.loss_u(pattern.simulation.Ds[0], \n",
    "                pattern.simulation.parameters[\"kappa_u\"],\n",
    "                pattern.simulation.parameters[\"rho_u\"],\n",
    "                pattern.simulation.parameters[\"mu_u\"],\n",
    "                pattern.simulation.parameters[\"sigma_u\"]).shape"
   ]
  },
  {
   "cell_type": "code",
   "execution_count": null,
   "id": "f2391fcb",
   "metadata": {},
   "outputs": [],
   "source": []
  },
  {
   "cell_type": "code",
   "execution_count": 7,
   "id": "29e7f0eb",
   "metadata": {
    "ExecuteTime": {
     "end_time": "2023-02-06T14:06:48.505638Z",
     "start_time": "2023-02-06T14:06:46.369019Z"
    },
    "scrolled": false
   },
   "outputs": [
    {
     "data": {
      "application/vnd.jupyter.widget-view+json": {
       "model_id": "28d0529e6c984cdb958aaf03611c167c",
       "version_major": 2,
       "version_minor": 0
      },
      "text/plain": [
       "VBox(children=(HBox(children=(IntSlider(value=10, continuous_update=False, description='Steps:', max=20, min=1…"
      ]
     },
     "metadata": {},
     "output_type": "display_data"
    }
   ],
   "source": [
    "pattern = None\n",
    "def load_domain(simulation_name, x_range=(30, 65), y_range=(50, 85), steps=10, title_1=\"u\", title_2=\"v\"):\n",
    "    disable_all_ranges(True)\n",
    "    def plot_d(d, title_1=\"u\", title_2=\"v\"):\n",
    "        x = np.arange(0, d[0,:,:, -1].T.shape[0])[x_slice]\n",
    "        y = np.arange(0, d[0,:,:, -1].T.shape[1])[y_slice]\n",
    "        X, Y = np.meshgrid(x, y, indexing='ij')\n",
    "        _ = plt.figure(figsize=(8,4))\n",
    "        plt.subplot(121)\n",
    "        plt.title(f\"{title_1}\")\n",
    "        plt.imshow(d[0,:,:, -1].T, origin='lower')\n",
    "        plt.colorbar(shrink=.75)\n",
    "        plt.scatter(X, Y, alpha=.5)\n",
    "        plt.subplot(122)\n",
    "        plt.title(f\"{title_2}\")\n",
    "        plt.imshow(d[1,:,:, -1].T, origin='lower')\n",
    "        plt.colorbar(shrink=.75)\n",
    "        plt.scatter(X, Y, alpha=.5)    \n",
    "        plt.show()\n",
    "        \n",
    "    \n",
    "    x_slice=slice(x_range[0],x_range[1],steps)\n",
    "    y_slice=slice(y_range[0],y_range[1],steps)    \n",
    "    pattern = load(simulation_name, \n",
    "                   x_slice,\n",
    "                   y_slice,\n",
    "                   data_time_start=-3, \n",
    "                   data_time_len=2,\n",
    "                   data_time_step=1,\n",
    "                   verbose=False)\n",
    "    globals()[\"pattern\"] = pattern\n",
    "    plot_d(pattern.c_domain, title_1=\"u\", title_2=\"v\")\n",
    "    plot_d(pattern.c_xx_domain, title_1=\"u_xx\", title_2=\"v_xx\")\n",
    "    plot_d(pattern.c_yy_domain, title_1=\"u_yy\", title_2=\"v_yy\")\n",
    "    plot_d(pattern.c_t_domain, title_1=\"u_t\", title_2=\"v_t\")\n",
    "    disable_all_ranges(False)\n",
    "    return pattern\n",
    "\n",
    "\n",
    "\n",
    "folders = !ls ~/test/outputs_Koch_Meinhardt_100_by_100\n",
    "w_simulations = widgets.Dropdown(\n",
    "    options=folders,\n",
    "    value=\"Koch_Meinhardt_1\",\n",
    "    description='Simulation:',\n",
    ")\n",
    "\n",
    "w_x_range = widgets.IntRangeSlider(\n",
    "    value=[30, 65],\n",
    "    min=0,\n",
    "    max=99,\n",
    "    step=1,\n",
    "    description='X range:',\n",
    "    continuous_update=False,\n",
    ")\n",
    "\n",
    "w_y_range = widgets.IntRangeSlider(\n",
    "    value=[50, 85],\n",
    "    min=0,\n",
    "    max=99,\n",
    "    step=1,\n",
    "    description='Y range:',\n",
    "    continuous_update=False,\n",
    ")\n",
    "w_steps = widgets.IntSlider(\n",
    "    value=10,\n",
    "    min=1,\n",
    "    max=20,\n",
    "    step=1,\n",
    "    description='Steps:',\n",
    "    continuous_update=False,\n",
    ")\n",
    "def disable_all_ranges(value):\n",
    "    w_x_range.disabled = value\n",
    "    w_y_range.disabled = value\n",
    "    w_steps.disabled = value\n",
    "    w_simulations.disabled = value\n",
    "    \n",
    "\n",
    "w_domain_plot = widgets.interactive_output(load_domain, \n",
    "                                    {'simulation_name':w_simulations,\n",
    "                                     'x_range': w_x_range,\n",
    "                                     'y_range':w_y_range,\n",
    "                                    'steps':w_steps})\n",
    "\n",
    "\n",
    "\n",
    "h_box_range = HBox([w_steps, w_x_range, w_y_range])\n",
    "hbox_load = HBox([w_simulations])\n",
    "hbox_domain = HBox([w_domain_plot])\n",
    "vbox_load = VBox([h_box_range, hbox_load, hbox_domain])\n",
    "display(vbox_load)"
   ]
  },
  {
   "cell_type": "code",
   "execution_count": null,
   "id": "d1e2e42e",
   "metadata": {},
   "outputs": [],
   "source": []
  },
  {
   "cell_type": "code",
   "execution_count": 8,
   "id": "2a2d7927",
   "metadata": {
    "ExecuteTime": {
     "end_time": "2023-02-06T14:06:52.540885Z",
     "start_time": "2023-02-06T14:06:52.521959Z"
    }
   },
   "outputs": [],
   "source": [
    "def create_range(centre, delta=None, steps=100, scale=.2):\n",
    "    if delta is None:\n",
    "        if centre != 0:\n",
    "            delta = centre*scale\n",
    "        else:\n",
    "            delta = 1.0*scale\n",
    "    return np.linspace(centre-delta, centre+delta, steps+1)\n",
    "\n",
    "def curry_func(f, param1_name, param2_name, param_others):\n",
    "    def f_cuury(param1, param2):\n",
    "        params = {\n",
    "            **param_others,\n",
    "            **{param1_name:param1,\n",
    "               param2_name:param2}\n",
    "        }\n",
    "        return f(**params)\n",
    "    return f_cuury\n",
    "\n",
    "def res_2D(f, params1, params2, ret):    \n",
    "    for i, param1 in enumerate(params1):\n",
    "        for j, param2 in enumerate(params2):\n",
    "            #ret[i, j] =  L2_mean(f(param1, param2))\n",
    "            ret[j, i] =  L2_mean(f(param1, param2))\n",
    "    return ret\n",
    "\n",
    "def creat_all_us(pattern):\n",
    "    D_u_r = create_range(pattern.simulation.Ds[0])\n",
    "    kappa_u_r = create_range(pattern.simulation.parameters['kappa_u'])\n",
    "    rho_u_r = create_range(pattern.simulation.parameters['rho_u'])\n",
    "    sigma_u_r = create_range(pattern.simulation.parameters['sigma_u'], scale=.1)\n",
    "    mu_u_r = create_range(pattern.simulation.parameters['mu_u'])\n",
    "    \n",
    "    u_arrays = {\"D_u\": D_u_r,\n",
    "                \"kappa_u\": kappa_u_r,\n",
    "                \"rho_u\": rho_u_r,\n",
    "                \"mu_u\": mu_u_r,\n",
    "                \"sigma_u\": sigma_u_r}\n",
    "\n",
    "\n",
    "    u_curry_func_others_combinations = [(param1, u_arrays[param1],\n",
    "                                         param2, u_arrays[param2], { k:v for k, v in pattern.u_params.items()\n",
    "            if k != param1 and k != param2\n",
    "         })\n",
    "        for param1, param2 in combinations(pattern.u_params.keys(), 2)\n",
    "    ]\n",
    "\n",
    "    loss_u_combinations = [ curry_func(pattern.loss_u, param1, param2, others) \n",
    "                           for param1,_ ,param2,_, others in u_curry_func_others_combinations]\n",
    "    \n",
    "    u_losses = [res_2D(func, arr1, arr2, np.zeros((arr1.shape[0], arr2.shape[0]))) \n",
    "            for func, (_, arr1, _, arr2, _) in zip(loss_u_combinations,u_curry_func_others_combinations)]\n",
    "    \n",
    "    return u_losses, u_curry_func_others_combinations\n",
    "\n",
    "    \n",
    "def creat_all_vs(pattern):\n",
    "    D_v_r = create_range(pattern.simulation.Ds[1])\n",
    "    kappa_u_r = create_range(pattern.simulation.parameters['kappa_u'])\n",
    "    rho_v_r = create_range(pattern.simulation.parameters['rho_v'])\n",
    "    sigma_v_r = create_range(pattern.simulation.parameters['sigma_v'], scale=.1)\n",
    "    \n",
    "    v_arrays = {\"D_v\": D_v_r,\n",
    "                \"kappa_u\": kappa_u_r,\n",
    "                \"rho_v\": rho_v_r,\n",
    "                \"sigma_v\": sigma_v_r}\n",
    "\n",
    "    v_curry_func_others_combinations = [(param1, v_arrays[param1],\n",
    "                                         param2, v_arrays[param2], { k:v for k, v in pattern.v_params.items()\n",
    "            if k != param1 and k != param2\n",
    "         })\n",
    "        for param1, param2 in combinations(pattern.v_params.keys(), 2)\n",
    "    ]\n",
    "\n",
    "    loss_v_combinations = [ curry_func(pattern.loss_v, param1, param2, others) \n",
    "                           for param1,_, param2,_, others in v_curry_func_others_combinations]\n",
    "    \n",
    "    v_losses = [res_2D(func, arr1, arr2, np.zeros((arr1.shape[0], arr2.shape[0]))) \n",
    "            for func, (_, arr1, _, arr2, _) in zip(loss_v_combinations,v_curry_func_others_combinations)]\n",
    "    \n",
    "    return v_losses, v_curry_func_others_combinations\n",
    "    "
   ]
  },
  {
   "cell_type": "code",
   "execution_count": 9,
   "id": "de5a3b71",
   "metadata": {
    "ExecuteTime": {
     "end_time": "2023-02-06T14:06:53.923136Z",
     "start_time": "2023-02-06T14:06:53.912007Z"
    }
   },
   "outputs": [],
   "source": [
    "def plot_all(loss_values, curried_funcs, params):\n",
    "    _ = plt.figure(figsize=(12,20))\n",
    "    for i, (loss_val, (param1, arr1, param2, arr2, _)) in enumerate(zip(loss_values, curried_funcs)):    \n",
    "        plt.subplot(5, 2, i+1)\n",
    "        plt.contourf(arr1, arr2, loss_val)\n",
    "        plt.colorbar()        \n",
    "        plt.scatter(params[param1], params[param2], c='r', marker='x')\n",
    "        plt.xlabel(fr'${symbols[param1]}$', fontsize=18)\n",
    "        plt.ylabel(fr'${symbols[param2]}$', fontsize=18)\n",
    "        plt.grid()\n",
    "\n",
    "    plt.tight_layout()\n",
    "    plt.show()"
   ]
  },
  {
   "cell_type": "code",
   "execution_count": 10,
   "id": "a6d29f08",
   "metadata": {
    "ExecuteTime": {
     "end_time": "2023-02-06T14:06:57.128205Z",
     "start_time": "2023-02-06T14:06:57.098986Z"
    },
    "scrolled": false
   },
   "outputs": [
    {
     "data": {
      "application/vnd.jupyter.widget-view+json": {
       "model_id": "18adc0eced744f19841944dbdefd1faf",
       "version_major": 2,
       "version_minor": 0
      },
      "text/plain": [
       "Label(value='Koch_Meinhardt_1')"
      ]
     },
     "metadata": {},
     "output_type": "display_data"
    },
    {
     "data": {
      "application/vnd.jupyter.widget-view+json": {
       "model_id": "487511e7fe6a4a1d9c69bdb9ea0c2116",
       "version_major": 2,
       "version_minor": 0
      },
      "text/plain": [
       "HBox(children=(Button(description=\"Plot u's landscape\", style=ButtonStyle()), Button(description=\"Plot v's lan…"
      ]
     },
     "metadata": {},
     "output_type": "display_data"
    }
   ],
   "source": [
    "b_plot_u = widgets.Button(\n",
    "  description=\"Plot u's landscape\"\n",
    ")\n",
    "\n",
    "b_plot_v = widgets.Button(\n",
    "  description=\"Plot v's landscape\"\n",
    ")\n",
    "\n",
    "def disbale(value):\n",
    "    b_plot_u.disabled = value\n",
    "    b_plot_v.disabled = value\n",
    "    \n",
    "def click_plot_u(change):\n",
    "    clear_output(wait=True)    \n",
    "    display(l_title)\n",
    "    display(hbox_plots_all)\n",
    "    disbale(True)\n",
    "    u_losses, u_curried_funcs = creat_all_us(pattern)\n",
    "    plot_all(u_losses, u_curried_funcs, pattern.u_params)\n",
    "    disbale(False)    \n",
    "\n",
    "b_plot_u.on_click(click_plot_u)\n",
    "\n",
    "def click_plot_v(change):\n",
    "    clear_output(wait=True)\n",
    "    display(l_title)\n",
    "    display(hbox_plots_all)\n",
    "    disbale(True)\n",
    "    v_losses, v_curried_funcs = creat_all_vs(pattern)\n",
    "    plot_all(v_losses, v_curried_funcs, pattern.v_params)\n",
    "    disbale(False)\n",
    "    \n",
    "b_plot_v.on_click(click_plot_v)\n",
    "##############################\n",
    "l_title = widgets.Label(value=pattern.simulation.name)\n",
    "hbox_plots_all = HBox([b_plot_u, b_plot_v])\n",
    "display(l_title)\n",
    "display(hbox_plots_all)"
   ]
  },
  {
   "cell_type": "code",
   "execution_count": 11,
   "id": "6bf18f46",
   "metadata": {
    "ExecuteTime": {
     "end_time": "2023-02-02T12:15:03.787358Z",
     "start_time": "2023-02-02T12:15:03.769495Z"
    }
   },
   "outputs": [],
   "source": [
    "def create_zoom_range(centre,  steps=100, zoom=1.0):    \n",
    "    if centre != 0:\n",
    "        delta = centre/zoom\n",
    "    else:\n",
    "        delta = 1.0/zoom\n",
    "    return np.linspace(centre-delta, centre+delta, steps+1)\n",
    "\n",
    "def create_sliding_range(start, end, steps=100 ):\n",
    "    return np.linspace(start, end, steps+1)\n",
    "\n",
    "def param_arrays(pattern, \n",
    "                 param1, \n",
    "                 param1_zoom,\n",
    "                 param2,\n",
    "                 param2_zoom,\n",
    "                 pattern_loss,\n",
    "                 pattern_params):\n",
    "    arr1 = create_zoom_range(pattern.params[param1], zoom=param1_zoom)\n",
    "    arr2 = create_zoom_range(pattern.params[param2], zoom=param2_zoom)\n",
    "    f = curry_func(pattern_loss, param1, param2,\n",
    "                   { k:v for k, v in pattern_params.items()\n",
    "                        if k != param1 and k != param2\n",
    "                    })\n",
    "    f_loss = res_2D(f, arr1, arr2, np.zeros((arr1.shape[0], arr2.shape[0])))\n",
    "    return f_loss, (param1, arr1, param2, arr2)\n",
    "\n",
    "def creat_single_us(pattern, \n",
    "                    param1, \n",
    "                    param1_zoom,\n",
    "                    param2,\n",
    "                    param2_zoom,):\n",
    "    return param_arrays(pattern, \n",
    "                        param1, \n",
    "                        param1_zoom,\n",
    "                        param2,\n",
    "                        param2_zoom,\n",
    "                        pattern.loss_u,\n",
    "                        pattern.u_params)\n",
    "\n",
    "def creat_single_vs(pattern, \n",
    "                    param1, \n",
    "                    param1_zoom,\n",
    "                    param2,\n",
    "                    param2_zoom,):\n",
    "    return param_arrays(pattern, \n",
    "                        param1, \n",
    "                        param1_zoom,\n",
    "                        param2,\n",
    "                        param2_zoom,\n",
    "                        pattern.loss_v,\n",
    "                        pattern.v_params)\n",
    "\n",
    "\n",
    "def param_sliding_arrays(param1, \n",
    "                         param1_start,\n",
    "                         param1_end,\n",
    "                         param2,\n",
    "                         param2_start,\n",
    "                         param2_end,\n",
    "                         pattern_loss,\n",
    "                         pattern_params):\n",
    "    arr1 = create_sliding_range(param1_start, param1_end)\n",
    "    arr2 = create_sliding_range(param2_start, param2_end)\n",
    "    f = curry_func(pattern_loss, param1, param2,\n",
    "                   { k:v for k, v in pattern_params.items()\n",
    "                        if k != param1 and k != param2\n",
    "                    })     \n",
    "    f_loss = res_2D(f, arr1, arr2, np.zeros((arr1.shape[0], arr2.shape[0])))\n",
    "    return f_loss, (param1, arr1, param2, arr2)\n",
    "    \n",
    "def creat_sliding_single_us(pattern, \n",
    "                     param1, \n",
    "                     param1_start,\n",
    "                     param1_end,\n",
    "                     param2,\n",
    "                     param2_start,\n",
    "                     param2_end,):\n",
    "    return param_sliding_arrays(param1, \n",
    "                         param1_start,\n",
    "                         param1_end,\n",
    "                         param2,\n",
    "                         param2_start,\n",
    "                         param2_end,\n",
    "                        pattern.loss_u,\n",
    "                        pattern.u_params)\n",
    "\n",
    "def creat_sliding_single_vs(pattern,  \n",
    "                     param1, \n",
    "                     param1_start,\n",
    "                     param1_end,\n",
    "                     param2,\n",
    "                     param2_start,\n",
    "                     param2_end):\n",
    "    return param_sliding_arrays(param1, \n",
    "                         param1_start,\n",
    "                         param1_end,\n",
    "                         param2,\n",
    "                         param2_start,\n",
    "                         param2_end,\n",
    "                        pattern.loss_v,\n",
    "                        pattern.v_params)"
   ]
  },
  {
   "cell_type": "code",
   "execution_count": null,
   "id": "e1251904",
   "metadata": {},
   "outputs": [],
   "source": []
  },
  {
   "cell_type": "code",
   "execution_count": 12,
   "id": "4cf5953f",
   "metadata": {
    "ExecuteTime": {
     "end_time": "2023-02-02T12:15:05.888901Z",
     "start_time": "2023-02-02T12:15:05.877696Z"
    }
   },
   "outputs": [],
   "source": [
    "def plot_single(loss_val, param_ranges, params):\n",
    "    _ = plt.figure(figsize=(6,4))\n",
    "    (param1, arr1, param2, arr2) =  param_ranges  \n",
    "    plt.contourf(arr1, arr2, loss_val)\n",
    "    plt.colorbar()        \n",
    "    plt.scatter(params[param1], params[param2], c='r', marker='x')\n",
    "    plt.xlabel(fr'${symbols[param1]}$', fontsize=18)\n",
    "    plt.ylabel(fr'${symbols[param2]}$', fontsize=18)\n",
    "    #print(arr1)\n",
    "    #print(arr2)\n",
    "    if arr2[-1] < 0:\n",
    "        plt.hlines(0, max(0, arr1[-1]), arr1[0], colors = 'r', alpha=.6)\n",
    "    if arr1[-1] < 0:\n",
    "        plt.vlines(0, max(0, arr2[-1]), arr2[0], colors = 'r', alpha=.6)\n",
    "        \n",
    "    plt.grid()\n",
    "    plt.tight_layout()\n",
    "    plt.show()"
   ]
  },
  {
   "cell_type": "code",
   "execution_count": 13,
   "id": "bf8e0650",
   "metadata": {
    "ExecuteTime": {
     "end_time": "2023-02-02T12:15:06.663214Z",
     "start_time": "2023-02-02T12:15:06.655111Z"
    }
   },
   "outputs": [],
   "source": [
    "def create_range_slider(name, start=-1, end=1, min=-10, max=10, step=.1):\n",
    "    return widgets.FloatRangeSlider(value=[start, end], min=min, max=max, step=step, description=name,\n",
    "                                    disabled=False, continuous_update=False, orientation='horizontal',\n",
    "                                    readout=True, readout_format='.2f',)"
   ]
  },
  {
   "cell_type": "code",
   "execution_count": 14,
   "id": "6397ddb1",
   "metadata": {
    "ExecuteTime": {
     "end_time": "2023-02-02T12:15:07.510920Z",
     "start_time": "2023-02-02T12:15:07.458303Z"
    }
   },
   "outputs": [
    {
     "data": {
      "application/vnd.jupyter.widget-view+json": {
       "model_id": "e8eaab33eed9488784dfa25c60ad9b86",
       "version_major": 2,
       "version_minor": 0
      },
      "text/plain": [
       "VBox(children=(HBox(children=(FloatSlider(value=0.1, continuous_update=False, description='Min/Max steps:', ma…"
      ]
     },
     "metadata": {},
     "output_type": "display_data"
    },
    {
     "data": {
      "image/png": "[encoded data removed]",
      "text/plain": [
       "<Figure size 600x400 with 2 Axes>"
      ]
     },
     "metadata": {},
     "output_type": "display_data"
    }
   ],
   "source": [
    "w_u_first_param = widgets.Dropdown(\n",
    "    options=pattern.u_params.keys(),\n",
    "    value=\"D_u\",\n",
    "    description='X:',\n",
    "    continuous_update=False,\n",
    "     readout_format='.3f',\n",
    ")\n",
    "w_u_second_param = widgets.Dropdown(\n",
    "    options=pattern.u_params.keys(),\n",
    "    value=\"kappa_u\",\n",
    "    description='Y:',\n",
    "    continuous_update=False,\n",
    "     readout_format='.3f',\n",
    ")\n",
    "\n",
    "b_plot_single_u = widgets.Button(\n",
    "  description='Show'\n",
    ")\n",
    "b_change_min_max = widgets.Button(\n",
    "  description='Change Min/Max'\n",
    ")\n",
    "\n",
    "w_min_max_range = widgets.IntSlider(\n",
    "    value=10,\n",
    "    min=1,\n",
    "    max=100,\n",
    "    step=1,\n",
    "    description='Min/Max:',\n",
    "    disabled=False,\n",
    "    continuous_update=False,\n",
    ")\n",
    "w_min_max_step_range = widgets.FloatSlider(\n",
    "    value=0.1,\n",
    "    min=0.001,\n",
    "    max=1,\n",
    "    step=0.001,\n",
    "    description='Min/Max steps:',\n",
    "    disabled=False,\n",
    "    continuous_update=False,\n",
    "    readout_format='.3f',\n",
    ")\n",
    "param1_slider =  create_range_slider(\"X\", min =-10, max=10, step=0.1)\n",
    "param2_slider =  create_range_slider(\"Y\", min =-10, max=10, step=0.1)\n",
    "\n",
    "\n",
    "def disable_single_u(value):\n",
    "    b_plot_single_u.disabled = value\n",
    "    w_u_first_param.disabled = value\n",
    "    w_u_second_param.disabled = value\n",
    "    param1_slider.disabled = value\n",
    "    param2_slider.disabled = value\n",
    "    b_change_min_max.disabled = value\n",
    "    w_min_max_range.disabled = value\n",
    "    w_min_max_step_range.disabled = value\n",
    "    \n",
    "def click_plot_single_u(change):\n",
    "    clear_output(wait=True)\n",
    "    display(vbox1)\n",
    "    disable_single_u(True)\n",
    "    plot_single_u()\n",
    "    disable_single_u(False)\n",
    "\n",
    "def click_change_min_max(change):\n",
    "    disable_single_u(True)\n",
    "    param1_slider.min = -w_min_max_range.value\n",
    "    param1_slider.max = w_min_max_range.value\n",
    "    param1_slider.step = w_min_max_step_range.value\n",
    "    param2_slider.min = -w_min_max_range.value\n",
    "    param2_slider.max = w_min_max_range.value\n",
    "    param2_slider.step = w_min_max_step_range.value\n",
    "    disable_single_u(False)\n",
    "    \n",
    "def plot_single_u():\n",
    "    u_loss, u_param_ranges = creat_sliding_single_us(pattern,\n",
    "                                             w_u_first_param.value,\n",
    "                                             param1_slider.upper,\n",
    "                                             param1_slider.lower,\n",
    "                                             w_u_second_param.value,\n",
    "                                             param2_slider.upper,\n",
    "                                             param2_slider.lower)\n",
    "    plot_single(u_loss, u_param_ranges, pattern.u_params)\n",
    "    \n",
    "def show_u(change):\n",
    "    if change['type'] == 'change' and change['name'] == 'value':        \n",
    "        clear_output(wait=True)\n",
    "        display(vbox1)\n",
    "        disable_single_u(True)\n",
    "        plot_single_u()\n",
    "        disable_single_u(False)\n",
    "        \n",
    "b_plot_single_u.on_click(click_plot_single_u)\n",
    "b_change_min_max.on_click(click_change_min_max)\n",
    "#w_u_first_param.observe(show_u)\n",
    "#w_u_second_param.observe(show_u)\n",
    "\n",
    "hbox1 = HBox([w_min_max_step_range, w_min_max_range, b_change_min_max])\n",
    "hbox2 = HBox([param1_slider, param2_slider])\n",
    "hbox3 = HBox([w_u_first_param, w_u_second_param])\n",
    "hbox4 = HBox([b_plot_single_u])\n",
    "vbox1 = VBox([hbox1, hbox2, hbox3, hbox4])\n",
    "display(vbox1)\n",
    "#disable_single_u(True)\n",
    "#plot_single_u()\n",
    "#disable_single_u(False)"
   ]
  },
  {
   "cell_type": "code",
   "execution_count": 34,
   "id": "4388250a",
   "metadata": {
    "ExecuteTime": {
     "end_time": "2023-01-27T12:37:31.715950Z",
     "start_time": "2023-01-27T12:37:31.705036Z"
    }
   },
   "outputs": [
    {
     "data": {
      "text/plain": [
       "{'D_u': 0.1,\n",
       " 'D_v': 1.0,\n",
       " 'kappa_u': 1.0,\n",
       " 'rho_u': 0.4,\n",
       " 'mu_u': 0.1,\n",
       " 'sigma_u': 0.0,\n",
       " 'rho_v': 1.5,\n",
       " 'sigma_v': 0.1}"
      ]
     },
     "execution_count": 34,
     "metadata": {},
     "output_type": "execute_result"
    }
   ],
   "source": [
    "pattern.params"
   ]
  },
  {
   "cell_type": "code",
   "execution_count": 15,
   "id": "0bb26338",
   "metadata": {
    "ExecuteTime": {
     "end_time": "2023-01-27T11:00:22.993012Z",
     "start_time": "2023-01-27T11:00:22.944798Z"
    }
   },
   "outputs": [
    {
     "data": {
      "application/vnd.jupyter.widget-view+json": {
       "model_id": "d996475478d744ecb514ac45cbdeee24",
       "version_major": 2,
       "version_minor": 0
      },
      "text/plain": [
       "VBox(children=(HBox(children=(FloatSlider(value=0.1, continuous_update=False, description='Min/Max steps:', ma…"
      ]
     },
     "metadata": {},
     "output_type": "display_data"
    },
    {
     "data": {
      "image/png": "[encoded data removed]",
      "text/plain": [
       "<Figure size 600x400 with 2 Axes>"
      ]
     },
     "metadata": {},
     "output_type": "display_data"
    }
   ],
   "source": [
    "w_v_first_param = widgets.Dropdown(\n",
    "    options=pattern.v_params.keys(),\n",
    "    value=\"D_v\",\n",
    "    description='X:',\n",
    "    continuous_update=False,\n",
    ")\n",
    "w_v_second_param = widgets.Dropdown(\n",
    "    options=pattern.v_params.keys(),\n",
    "    value=\"kappa_u\",\n",
    "    description='Y:',\n",
    "    continuous_update=False,\n",
    ")\n",
    "\n",
    "b_plot_single_v = widgets.Button(\n",
    "  description='Show'\n",
    ")\n",
    "b_change_min_max_v = widgets.Button(\n",
    "  description='Change Min/Max'\n",
    ")\n",
    "\n",
    "w_min_max_range_v = widgets.IntSlider(\n",
    "    value=10,\n",
    "    min=1,\n",
    "    max=100,\n",
    "    step=1,\n",
    "    description='Min/Max:',\n",
    "    disabled=False,\n",
    "    continuous_update=False,\n",
    ")\n",
    "w_min_max_step_range_v = widgets.FloatSlider(\n",
    "    value=0.1,\n",
    "    min=0.001,\n",
    "    max=1,\n",
    "    step=0.001,\n",
    "    description='Min/Max steps:',\n",
    "    disabled=False,\n",
    "    continuous_update=False,\n",
    "    readout_format='.3f',\n",
    ")\n",
    "param1_slider_v =  create_range_slider(\"X\", min =-10, max=10, step=0.1)\n",
    "param2_slider_v =  create_range_slider(\"Y\", min =-10, max=10, step=0.1)\n",
    "\n",
    "\n",
    "def disable_single_v(value):\n",
    "    b_plot_single_v.disabled = value\n",
    "    w_v_first_param.disabled = value\n",
    "    w_v_second_param.disabled = value\n",
    "    param1_slider_v.disabled = value\n",
    "    param2_slider_v.disabled = value\n",
    "    b_change_min_max_v.disabled = value\n",
    "    w_min_max_step_range_v.disabled = value\n",
    "    \n",
    "def click_plot_single_v(change):\n",
    "    clear_output(wait=True)\n",
    "    display(vbox1_v)\n",
    "    disable_single_v(True)\n",
    "    plot_single_v()\n",
    "    disable_single_v(False)\n",
    "\n",
    "def click_change_min_max_v(change):\n",
    "    disable_single_v(True)\n",
    "    param1_slider_v.min = -w_min_max_range_v.value\n",
    "    param1_slider_v.max = w_min_max_range_v.value\n",
    "    param1_slider_v.step = w_min_max_step_range_v.value\n",
    "    param2_slider_v.min = -w_min_max_range_v.value\n",
    "    param2_slider_v.max = w_min_max_range_v.value\n",
    "    param2_slider_v.step = w_min_max_step_range_v.value\n",
    "    disable_single_v(False)\n",
    "    \n",
    "def plot_single_v():\n",
    "    v_loss, v_param_ranges = creat_sliding_single_vs(pattern,\n",
    "                                             w_v_first_param.value,\n",
    "                                             param1_slider_v.upper,\n",
    "                                             param1_slider_v.lower,\n",
    "                                             w_v_second_param.value,\n",
    "                                             param2_slider_v.upper,\n",
    "                                             param2_slider_v.lower)\n",
    "    plot_single(v_loss, v_param_ranges, pattern.v_params)\n",
    "    \n",
    "def show_v(change):\n",
    "    if change['type'] == 'change' and change['name'] == 'value':        \n",
    "        clear_output(wait=True)\n",
    "        display(vbox1_v)\n",
    "        disable_single_v(True)\n",
    "        plot_single_v()\n",
    "        disable_single_v(False)\n",
    "        \n",
    "b_plot_single_v.on_click(click_plot_single_v)\n",
    "b_change_min_max_v.on_click(click_change_min_max_v)\n",
    "#w_u_first_param.observe(show_u)\n",
    "#w_u_second_param.observe(show_u)\n",
    "\n",
    "hbox1_v = HBox([w_min_max_step_range_v, w_min_max_range_v, b_change_min_max_v])\n",
    "hbox2_v = HBox([param1_slider_v, param2_slider_v])\n",
    "hbox3_v = HBox([w_v_first_param, w_v_second_param])\n",
    "hbox4_v = HBox([b_plot_single_v])\n",
    "vbox1_v = VBox([hbox1_v, hbox2_v, hbox3_v, hbox4_v])\n",
    "display(vbox1_v)\n",
    "#disable_single_u(True)\n",
    "#plot_single_u()\n",
    "#disable_single_u(False)"
   ]
  },
  {
   "cell_type": "code",
   "execution_count": 35,
   "id": "0f884d8a",
   "metadata": {
    "ExecuteTime": {
     "end_time": "2023-01-27T12:51:21.330304Z",
     "start_time": "2023-01-27T12:51:21.003856Z"
    }
   },
   "outputs": [
    {
     "name": "stdout",
     "output_type": "stream",
     "text": [
      "[ 4.1856966e+00+0.j  3.2008253e-02+0.j  9.2434959e-05+0.j\n",
      "  1.6349995e-07+0.j -1.9458490e-08+0.j  4.8124607e-06+0.j\n",
      " -2.1421707e-14+0.j -2.9874852e-18+0.j]\n"
     ]
    },
    {
     "data": {
      "image/png": "[encoded data removed]",
      "text/plain": [
       "<Figure size 640x480 with 1 Axes>"
      ]
     },
     "metadata": {},
     "output_type": "display_data"
    }
   ],
   "source": [
    "H = hessian(pattern.l2_loss, [i for i in range(len(pattern.params))])\n",
    "H_value = jnp.array(H(pattern.params[\"D_u\"], pattern.params[\"D_v\"], pattern.params[\"kappa_u\"],\n",
    "                      pattern.params[\"rho_u\"], pattern.params[\"mu_u\"], pattern.params[\"sigma_u\"],\n",
    "                      pattern.params[\"rho_v\"], pattern.params[\"sigma_v\"]))\n",
    "eig_vals, eig_vects = eig(H_value)\n",
    "print(eig_vals)\n",
    "plt.scatter(np.angle(eig_vals), np.abs(eig_vals))\n",
    "for v in eig_vals:\n",
    "    plt.hlines(np.abs(v), -np.pi, np.pi)\n",
    "\n",
    "plt.title(f\"{eig_vals.shape[0]} Eigenvalues\")\n",
    "plt.yscale('log')\n",
    "plt.ylabel(\"Eigenvalues\")\n",
    "plt.grid()\n",
    "plt.show()"
   ]
  },
  {
   "cell_type": "code",
   "execution_count": 36,
   "id": "a3eecd36",
   "metadata": {
    "ExecuteTime": {
     "end_time": "2023-01-27T12:51:21.696345Z",
     "start_time": "2023-01-27T12:51:21.685561Z"
    }
   },
   "outputs": [],
   "source": [
    "def create_u_l2_loss(pattern):\n",
    "    def u_l2_loss(D_u, kappa_u, rho_u, mu_u, sigma_u):\n",
    "        return pattern.l2_loss(D_u, pattern.params[\"D_v\"], kappa_u,\n",
    "                               rho_u, mu_u, sigma_u,\n",
    "                               pattern.params[\"rho_v\"], pattern.params[\"sigma_v\"])\n",
    "    return u_l2_loss\n",
    "\n",
    "def create_v_l2_loss(pattern):\n",
    "    def v_l2_loss(D_v, kappa_u, rho_v, sigma_v):\n",
    "        return pattern.l2_loss(pattern.params[\"D_u\"], D_v, kappa_u,\n",
    "                               pattern.params[\"rho_u\"], pattern.params[\"mu_u\"], pattern.params[\"sigma_u\"],\n",
    "                               rho_v, sigma_v)\n",
    "    return v_l2_loss"
   ]
  },
  {
   "cell_type": "code",
   "execution_count": 37,
   "id": "a8338150",
   "metadata": {
    "ExecuteTime": {
     "end_time": "2023-01-27T12:51:22.940008Z",
     "start_time": "2023-01-27T12:51:22.433373Z"
    }
   },
   "outputs": [
    {
     "name": "stdout",
     "output_type": "stream",
     "text": [
      "[2.1756532e+00+0.j 2.3667695e-02+0.j 8.7107685e-05+0.j 8.2736449e-08+0.j\n",
      " 4.7990393e-06+0.j]\n"
     ]
    },
    {
     "data": {
      "image/png": "[encoded data removed]",
      "text/plain": [
       "<Figure size 640x480 with 1 Axes>"
      ]
     },
     "metadata": {},
     "output_type": "display_data"
    }
   ],
   "source": [
    "u_l2_loss = create_u_l2_loss(pattern)\n",
    "H_u = hessian(u_l2_loss, [0, 1, 2, 3, 4])\n",
    "H_u_value = jnp.array(H_u(pattern.params[\"D_u\"], pattern.params[\"kappa_u\"],\n",
    "                          pattern.params[\"rho_u\"], pattern.params[\"mu_u\"], pattern.params[\"sigma_u\"]))\n",
    "u_eig_vals, u_eig_vects = eig(H_u_value)\n",
    "print(u_eig_vals)\n",
    "plt.scatter(np.angle(u_eig_vals), np.abs(u_eig_vals))\n",
    "for val in u_eig_vals:\n",
    "    plt.hlines(np.abs(val), -np.pi, np.pi)\n",
    "\n",
    "plt.title(f\"{u_eig_vals.shape[0]} U Eigenvalues\")\n",
    "plt.yscale('log')\n",
    "plt.ylabel(\"Eigenvalues\")\n",
    "plt.grid()\n",
    "plt.show()"
   ]
  },
  {
   "cell_type": "code",
   "execution_count": 38,
   "id": "118671d2",
   "metadata": {
    "ExecuteTime": {
     "end_time": "2023-01-27T12:51:24.511357Z",
     "start_time": "2023-01-27T12:51:24.279876Z"
    }
   },
   "outputs": [
    {
     "name": "stdout",
     "output_type": "stream",
     "text": [
      "[2.0109189e+00+0.j 7.6767700e-03+0.j 1.7553248e-08+0.j 4.9316141e-06+0.j]\n"
     ]
    },
    {
     "data": {
      "image/png": "[encoded data removed]",
      "text/plain": [
       "<Figure size 640x480 with 1 Axes>"
      ]
     },
     "metadata": {},
     "output_type": "display_data"
    }
   ],
   "source": [
    "v_l2_loss = create_v_l2_loss(pattern)\n",
    "H_v = hessian(v_l2_loss, [0, 1, 2, 3])\n",
    "H_v_value = jnp.array(H_v(pattern.params[\"D_v\"], pattern.params[\"kappa_u\"],\n",
    "                          pattern.params[\"rho_v\"], pattern.params[\"sigma_v\"]))\n",
    "v_eig_vals, v_eig_vects = eig(H_v_value)\n",
    "print(v_eig_vals)\n",
    "plt.scatter(np.angle(v_eig_vals), np.abs(v_eig_vals))\n",
    "for val in v_eig_vals:\n",
    "    plt.hlines(np.abs(val), -np.pi, np.pi)\n",
    "\n",
    "plt.title(f\"{v_eig_vals.shape[0]} V Eigenvalues\")\n",
    "plt.yscale('log')\n",
    "plt.ylabel(\"Eigenvalues\")\n",
    "plt.grid()\n",
    "plt.show()"
   ]
  },
  {
   "cell_type": "code",
   "execution_count": 76,
   "id": "44e03887",
   "metadata": {
    "ExecuteTime": {
     "end_time": "2023-01-27T16:27:11.078713Z",
     "start_time": "2023-01-27T16:27:11.069796Z"
    }
   },
   "outputs": [],
   "source": [
    "import pickle\n",
    "with open(\"Koch_Meinhardt_2_results_data.pkl\", \"rb\") as f:\n",
    "    results_KM = pickle.load(f)"
   ]
  },
  {
   "cell_type": "code",
   "execution_count": 77,
   "id": "a4f6d5fc",
   "metadata": {
    "ExecuteTime": {
     "end_time": "2023-01-27T16:27:11.686036Z",
     "start_time": "2023-01-27T16:27:11.676401Z"
    }
   },
   "outputs": [
    {
     "data": {
      "text/plain": [
       "array([1.1009742 , 1.10191822, 1.10282075, ..., 1.21230054, 1.2123009 ,\n",
       "       1.21230125])"
      ]
     },
     "execution_count": 77,
     "metadata": {},
     "output_type": "execute_result"
    }
   ],
   "source": [
    "results_KM['rho_u']"
   ]
  },
  {
   "cell_type": "code",
   "execution_count": 78,
   "id": "f74200e8",
   "metadata": {
    "ExecuteTime": {
     "end_time": "2023-01-27T16:27:12.362595Z",
     "start_time": "2023-01-27T16:27:12.353431Z"
    }
   },
   "outputs": [],
   "source": [
    "def plot_single_2(loss_val, param_ranges, params):\n",
    "    (param1, arr1, param2, arr2) =  param_ranges  \n",
    "    plt.contourf(arr1, arr2, loss_val)\n",
    "    plt.colorbar()        \n",
    "    #plt.scatter(params[param1], params[param2], c='r', marker='x')\n",
    "    plt.xlabel(fr'${symbols[param1]}$', fontsize=18)\n",
    "    plt.ylabel(fr'${symbols[param2]}$', fontsize=18)\n",
    "    #print(arr1)\n",
    "    #print(arr2)\n",
    "    #if arr2[-1] < 0:\n",
    "    #    plt.hlines(0, max(0, arr1[-1]), arr1[0], colors = 'r', alpha=.6)\n",
    "    #if arr1[-1] < 0:\n",
    "    #    plt.vlines(0, max(0, arr2[-1]), arr2[0], colors = 'r', alpha=.6)\n",
    "        \n",
    "    "
   ]
  },
  {
   "cell_type": "code",
   "execution_count": 85,
   "id": "55714782",
   "metadata": {
    "ExecuteTime": {
     "end_time": "2023-01-27T16:32:10.781581Z",
     "start_time": "2023-01-27T16:31:40.840290Z"
    }
   },
   "outputs": [
    {
     "data": {
      "image/png": "[encoded data removed]",
      "text/plain": [
       "<Figure size 1200x800 with 6 Axes>"
      ]
     },
     "metadata": {},
     "output_type": "display_data"
    }
   ],
   "source": [
    "param1= \"rho_u\"\n",
    "param2= \"mu_u\"\n",
    "def plot_trajectory_u(param1, param2, pattern, results_KM):\n",
    "    u_loss, u_param_ranges = creat_sliding_single_us(pattern,\n",
    "                                                 param1,\n",
    "                                                 np.max(results_KM[param1])*1.05,\n",
    "                                                 np.min(results_KM[param1])*.95,\n",
    "                                                 param2,\n",
    "                                                 np.max(results_KM[param2])*1.05,\n",
    "                                                 np.min(results_KM[param2])*.95,)\n",
    "    plot_single_2(u_loss, u_param_ranges, pattern.u_params)\n",
    "    plt.scatter(results_KM[param1][::100], results_KM[param2][::100])#, %colors = 'r')\n",
    "    plt.grid()\n",
    "\n",
    "_ = plt.figure(figsize=(12,8))\n",
    "plt.subplot(221)\n",
    "plot_trajectory_u(\"rho_u\", \"mu_u\", pattern, results_KM)\n",
    "plt.subplot(222)\n",
    "plot_trajectory_u(\"rho_u\", \"sigma_u\", pattern, results_KM)\n",
    "plt.subplot(223)\n",
    "plot_trajectory_u(\"mu_u\", \"sigma_u\", pattern, results_KM)"
   ]
  },
  {
   "cell_type": "code",
   "execution_count": 80,
   "id": "1ec67452",
   "metadata": {
    "ExecuteTime": {
     "end_time": "2023-01-27T16:27:50.427746Z",
     "start_time": "2023-01-27T16:27:43.631881Z"
    }
   },
   "outputs": [
    {
     "data": {
      "image/png": "[encoded data removed]",
      "text/plain": [
       "<Figure size 600x600 with 2 Axes>"
      ]
     },
     "metadata": {},
     "output_type": "display_data"
    }
   ],
   "source": [
    "def plot_trajectory_v(param1, param2, pattern, results_KM):\n",
    "    v_loss, v_param_ranges = creat_sliding_single_vs(pattern,\n",
    "                                                 param1,\n",
    "                                                 np.max(results_KM[param1]) + .2,\n",
    "                                                 np.min(results_KM[param1]) - .2,\n",
    "                                                 param2,\n",
    "                                                 np.max(results_KM[param2]) + .2,\n",
    "                                                 np.min(results_KM[param2]) - .2,)\n",
    "    plot_single_2(v_loss, v_param_ranges, pattern.v_params)\n",
    "    plt.plot(results_KM[param1], results_KM[param2], c = 'r')\n",
    "    plt.grid()\n",
    "\n",
    "_ = plt.figure(figsize=(6,6))\n",
    "plot_trajectory_v(\"rho_v\", \"sigma_v\", pattern, results_KM)\n"
   ]
  },
  {
   "cell_type": "code",
   "execution_count": 61,
   "id": "44be7be7",
   "metadata": {
    "ExecuteTime": {
     "end_time": "2023-01-27T13:51:25.560471Z",
     "start_time": "2023-01-27T13:51:25.550854Z"
    }
   },
   "outputs": [
    {
     "data": {
      "text/plain": [
       "{'D_u': 0.1,\n",
       " 'D_v': 1.0,\n",
       " 'kappa_u': 0.0,\n",
       " 'rho_u': 1.0,\n",
       " 'mu_u': 1.0,\n",
       " 'sigma_u': 1.0,\n",
       " 'rho_v': 0.025,\n",
       " 'sigma_v': 0.1}"
      ]
     },
     "execution_count": 61,
     "metadata": {},
     "output_type": "execute_result"
    }
   ],
   "source": [
    "pattern.params"
   ]
  },
  {
   "cell_type": "code",
   "execution_count": null,
   "id": "fb962255",
   "metadata": {},
   "outputs": [],
   "source": []
  }
 ],
 "metadata": {
  "hide_input": false,
  "kernelspec": {
   "display_name": "jax",
   "language": "python",
   "name": "jax"
  },
  "language_info": {
   "codemirror_mode": {
    "name": "ipython",
    "version": 3
   },
   "file_extension": ".py",
   "mimetype": "text/x-python",
   "name": "python",
   "nbconvert_exporter": "python",
   "pygments_lexer": "ipython3",
   "version": "3.9.16"
  },
  "varInspector": {
   "cols": {
    "lenName": 16,
    "lenType": 16,
    "lenVar": 40
   },
   "kernels_config": {
    "python": {
     "delete_cmd_postfix": "",
     "delete_cmd_prefix": "del ",
     "library": "var_list.py",
     "varRefreshCmd": "print(var_dic_list())"
    },
    "r": {
     "delete_cmd_postfix": ") ",
     "delete_cmd_prefix": "rm(",
     "library": "var_list.r",
     "varRefreshCmd": "cat(var_dic_list()) "
    }
   },
   "types_to_exclude": [
    "module",
    "function",
    "builtin_function_or_method",
    "instance",
    "_Feature"
   ],
   "window_display": false
  }
 },
 "nbformat": 4,
 "nbformat_minor": 5
}
