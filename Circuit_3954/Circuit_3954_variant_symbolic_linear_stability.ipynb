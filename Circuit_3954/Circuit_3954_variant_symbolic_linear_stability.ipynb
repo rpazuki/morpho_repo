{
 "cells": [
  {
   "cell_type": "code",
   "execution_count": 1,
   "id": "c1aebf2c",
   "metadata": {
    "ExecuteTime": {
     "end_time": "2022-11-03T08:32:26.442955Z",
     "start_time": "2022-11-03T08:32:22.990909Z"
    }
   },
   "outputs": [],
   "source": [
    "%config Completer.use_jedi = False\n",
    "from sympy import *\n",
    "import numpy as np\n",
    "import matplotlib.pyplot as plt\n",
    "from IPython.display import display, Latex\n",
    "from multiprocessing import Pool\n",
    "\n",
    "import sys\n",
    "sys.path.append(\"/end/home/rh2310/morpho_repo/amplitude_method\")\n",
    "from utils import *\n",
    "\n",
    "import warnings\n",
    "warnings.filterwarnings(\"ignore\")"
   ]
  },
  {
   "cell_type": "code",
   "execution_count": 2,
   "id": "3e084100",
   "metadata": {
    "ExecuteTime": {
     "end_time": "2022-11-03T08:32:27.260891Z",
     "start_time": "2022-11-03T08:32:27.244045Z"
    }
   },
   "outputs": [],
   "source": [
    "init_printing(use_latex='mathjax')#(use_latex=True)"
   ]
  },
  {
   "cell_type": "markdown",
   "id": "5f921406",
   "metadata": {},
   "source": [
    "#### Define a list of parameters"
   ]
  },
  {
   "cell_type": "code",
   "execution_count": 4,
   "id": "c3c56a86",
   "metadata": {
    "ExecuteTime": {
     "end_time": "2022-11-03T08:34:40.348462Z",
     "start_time": "2022-11-03T08:34:40.339222Z"
    }
   },
   "outputs": [],
   "source": [
    "U, V, A, B, C, D, E, F, aTc = symbols('U, V, A, B, C, D, E, F, aTc', real=True, positive = True)\n",
    "\n",
    "(b_A, b_B, b_C, b_D, b_E, b_F, \n",
    "K_AB, K_BD, K_CE, K_DA, K_EB, K_EE, K_FE, K_aTc, K_A, c_1,\n",
    "μ_U, μ_V, μ_B, μ_C, μ_D, μ_E, μ_F, μ_aTc) = symbols(\n",
    "    'b_A, b_B, b_C, b_D, b_E, b_F, K_AB, K_BD, K_CE, K_DA, K_EB, K_EE, K_FE, K_aTc, K_A, c_1, mu_U, mu_V, mu_B, mu_C, mu_D, mu_E, mu_F, mu_aTc', \n",
    "    real=True, positive = True)\n",
    "\n",
    "k, n_aTc, n = symbols('k, n_{aTc}, n', integer=True)"
   ]
  },
  {
   "cell_type": "code",
   "execution_count": 99,
   "id": "5d315125",
   "metadata": {
    "ExecuteTime": {
     "end_time": "2022-11-03T09:02:17.733498Z",
     "start_time": "2022-11-03T09:02:17.728683Z"
    }
   },
   "outputs": [],
   "source": [
    "c_1_val = 0\n",
    "K_A_val = 0"
   ]
  },
  {
   "cell_type": "markdown",
   "id": "a77d7c4d",
   "metadata": {},
   "source": [
    "> The PDEs are as follows\n",
    "\n",
    "<h3><center>$\n",
    "   \\frac{\\partial U}{\\partial t} =  A -c_1 E- \\mu_U U + \\Delta U, \n",
    "$</center></h3><h3><center>$\n",
    "   \\frac{\\partial V}{\\partial t} =  B - \\mu_V V + \\Delta V, \n",
    "$</center></h3><h3><center>$\n",
    "     \\frac{\\partial A}{\\partial t} = (b_A)^2  +   b_A  \\times \\frac{1}{1+\\left(\\frac{D}{ K_{DA}}\\right)^{n_{DA}}} -  A,\n",
    "$</center></h3><h3><center>$     \\frac{\\partial B}{\\partial t} = \\mu_B \\left[ (b_B)^2  +   b_B  \\times  \\frac{1}{1+\\left(\\frac{K_{AB}}{U}\\right)^{n_{AB}}} \\times \\frac{1}{1+\\left(\\frac{E}{ K_{EB}}\\right)^{n_{EB}}} -  B \\right],\n",
    "$</center></h3><h3><center>$\n",
    "\\frac{\\partial C}{\\partial t} = \\mu_C \\left[ (b_C)^2  +   b_C  \\times \\frac{1}{1+\\left(\\frac{D}{ K_{DA}}\\right)^{n_{DA}}} -  C \\right],\n",
    "$</center></h3><h3><center>$\n",
    "    \\frac{\\partial D}{\\partial t} = \\mu_D \\left[ (b_D)^2  +   b_D  \\times \\frac{1}{1+\\left(\\frac{K_{BD}}{V}\\right)^{n_{BD}}} -  D \\right],\n",
    "$</center></h3><h3><center>$   \\frac{\\partial E}{\\partial t} = \\mu_E \\left[ (b_E)^2  +   b_E  \\times \\frac{1}{1+\\left(\\frac{C}{K_{CE}([aTc])}\\right)^{n_{CE}}} \\times \\frac{1}{1+\\left(\\frac{F}{ K_{FE}}\\right)^{n_{FE}}} \\times \\frac{1}{1+\\left(\\frac{K_{EE}}{ E}\\right)^{n_{EE}}} - E \\right],\n",
    "$</center></h3><h3><center>$\n",
    "    \\frac{\\partial F}{\\partial t} = \\mu_F \\left[ (b_F)^2  +   b_F  \\times \\frac{1}{1+\\left(\\frac{K_{BD}}{V}\\right)^{n_{BD}}} - F \\right].\n",
    "$</center></h3><h3><center>$\n",
    "    \\frac{\\partial [aTc]}{\\partial t} = -\\mu_{aTc} [aTc].\n",
    "$</center></h3>\n",
    "\n",
    "<h3><center>$\\partial_t v = D_v (\\partial_x^2 + \\partial_y^2)v + Bu - u^2 v$</center></h3>\n",
    "Then, we define kinetic terms as\n",
    "\n",
    "<h3><center>$f_U(U, \\dots, F) = A -c_1E - \\mu_U U$</center></h3>\n",
    "<h3><center>$f_V(U, \\dots, F) = B - \\mu_V V$</center></h3>\n",
    "<h3><center>$f_A(U, \\dots, F) = (b_A)^2  +   b_A  \\times \\frac{1}{1+\\left(\\frac{D}{ K_{DA}}\\right)^{n_{DA}}} -  A$</center></h3>\n",
    "<h3><center>$f_B(U, \\dots, F) = \\mu_B \\left[ (b_B)^2  +   b_B  \\times  \\frac{1}{1+\\left(\\frac{K_{AB}}{U}\\right)^{n_{AB}}} \\times \\frac{1}{1+\\left(\\frac{E}{ K_{EB}}\\right)^{n_{EB}}} -  B \\right]$</center></h3>\n",
    "<h3><center>$f_C(U, \\dots, F) = \\mu_C \\left[ (b_C)^2  +   b_C  \\times \\frac{1}{1+\\left(\\frac{D}{ K_{DA}}\\right)^{n_{DA}}} -  C \\right]$</center></h3>\n",
    "<h3><center>$f_D(U, \\dots, F) = \\mu_D \\left[ (b_D)^2  +   b_D  \\times \\frac{1}{1+\\left(\\frac{K_{BD}}{V}\\right)^{n_{BD}}} -  D \\right]$</center></h3>\n",
    "<h3><center>$f_E(U, \\dots, F) = \\mu_E \\left[ (b_E)^2  +   b_E  \\times \\frac{1}{1+\\left(\\frac{C}{K'_{CE}([aTc])}\\right)^{n_{CE}}} \\times \\frac{1}{1+\\left(\\frac{F}{ K_{FE}}\\right)^{n_{FE}}} \\times \\frac{1}{1+\\left(\\frac{K_{EE}}{ E}\\right)^{n_{EE}}} - E \\right]$</center></h3>\n",
    "<h3><center>$f_F(U, \\dots, F) = \\mu_F \\left[ (b_F)^2  +   b_F  \\times \\frac{1}{1+\\left(\\frac{K_{BD}}{V}\\right)^{n_{BD}}} - F \\right]$</center></h3>\n",
    "\n",
    "<h3><center>$aTc^* = 0$</center></h3>\n",
    "\n",
    "\n",
    "<h3><center>$K'_{CE}([aTc]) = K_{CE}(1+ \\frac{aTc}{K_{aTc}})^{n_{aTc}}$</center></h3>"
   ]
  },
  {
   "cell_type": "code",
   "execution_count": 100,
   "id": "2bdf4123",
   "metadata": {
    "ExecuteTime": {
     "end_time": "2022-11-03T09:02:22.299013Z",
     "start_time": "2022-11-03T09:02:22.258599Z"
    }
   },
   "outputs": [
    {
     "data": {
      "text/latex": [
       "$f_U(U, V, A, B, C, D, E, F, Atc) =$ $A - E c_{1} - U \\mu_{U}$"
      ],
      "text/plain": [
       "<IPython.core.display.Latex object>"
      ]
     },
     "metadata": {},
     "output_type": "display_data"
    },
    {
     "data": {
      "text/latex": [
       "$f_V(U, V, A, B, C, D, E, F, Atc) =$ $B - V \\mu_{V}$"
      ],
      "text/plain": [
       "<IPython.core.display.Latex object>"
      ]
     },
     "metadata": {},
     "output_type": "display_data"
    },
    {
     "data": {
      "text/latex": [
       "$f_A(U, V, A, B, C, D, E, F, Atc) =$ $- A + b_{A}^{2} + \\frac{b_{A}}{\\left(\\frac{D}{K_{DA}}\\right)^{n} + 1}$"
      ],
      "text/plain": [
       "<IPython.core.display.Latex object>"
      ]
     },
     "metadata": {},
     "output_type": "display_data"
    },
    {
     "data": {
      "text/latex": [
       "$f_B(U, V, A, B, C, D, E, F, Atc) =$ $\\mu_{B} \\left(- B + b_{B}^{2} + \\frac{b_{B}}{\\left(\\left(\\frac{E}{K_{EB}}\\right)^{n} + 1\\right) \\left(\\left(\\frac{K_{AB}}{U}\\right)^{n} + 1\\right)}\\right)$"
      ],
      "text/plain": [
       "<IPython.core.display.Latex object>"
      ]
     },
     "metadata": {},
     "output_type": "display_data"
    },
    {
     "data": {
      "text/latex": [
       "$f_C(U, V, A, B, C, D, E, F, Atc) =$ $\\mu_{C} \\left(- C + b_{C}^{2} + \\frac{b_{C}}{\\left(\\frac{D}{K_{DA}}\\right)^{n} + 1}\\right)$"
      ],
      "text/plain": [
       "<IPython.core.display.Latex object>"
      ]
     },
     "metadata": {},
     "output_type": "display_data"
    },
    {
     "data": {
      "text/latex": [
       "$f_D(U, V, A, B, C, D, E, F, Atc) =$ $\\mu_{D} \\left(- D + b_{D}^{2} + \\frac{b_{D}}{\\left(\\frac{K_{BD}}{V}\\right)^{n} + 1}\\right)$"
      ],
      "text/plain": [
       "<IPython.core.display.Latex object>"
      ]
     },
     "metadata": {},
     "output_type": "display_data"
    },
    {
     "data": {
      "text/latex": [
       "$f_E(U, V, A, B, C, D, E, F, Atc) =$ $\\mu_{E} \\left(- E + b_{E}^{2} + \\frac{b_{E}}{\\left(\\left(\\frac{K_{EE}}{E}\\right)^{n} + 1\\right) \\left(\\left(\\frac{F}{K_{FE}}\\right)^{n} + 1\\right) \\left(\\left(\\frac{C \\left(1 + \\frac{aTc}{K_{aTc}}\\right)^{- n_{aTc}}}{K_{CE}}\\right)^{n} + 1\\right)}\\right)$"
      ],
      "text/plain": [
       "<IPython.core.display.Latex object>"
      ]
     },
     "metadata": {},
     "output_type": "display_data"
    },
    {
     "data": {
      "text/latex": [
       "$f_F(U, V, A, B, C, D, E, F, Atc) =$ $\\mu_{F} \\left(- F + b_{F}^{2} + \\frac{b_{F}}{\\left(\\frac{K_{BD}}{V}\\right)^{n} + 1}\\right)$"
      ],
      "text/plain": [
       "<IPython.core.display.Latex object>"
      ]
     },
     "metadata": {},
     "output_type": "display_data"
    },
    {
     "data": {
      "text/latex": [
       "$f_{aTc}(U, V, A, B, C, D, E, F, Atc) =$ $- aTc \\mu_{aTc}$"
      ],
      "text/plain": [
       "<IPython.core.display.Latex object>"
      ]
     },
     "metadata": {},
     "output_type": "display_data"
    }
   ],
   "source": [
    "def Hill(x, capacity, n):\n",
    "    return 1/(1 + (x/capacity)**n)\n",
    "def Hill_inv(x, capacity, n):\n",
    "    return 1/(1 + (capacity/x)**n)\n",
    "\n",
    "fU = A - c_1* E - μ_U * U \n",
    "fV = B - μ_V * V\n",
    "fA = b_A**2 + b_A*Hill(D, K_DA, n) - A\n",
    "fB = μ_B * (b_B**2 + b_B*Hill_inv(U, K_AB, n) * Hill(E, K_EB, n) - B)\n",
    "fC = μ_C * (b_C**2 + b_C*Hill(D, K_DA, n) - C)\n",
    "fD = μ_D * (b_D**2 + b_D*Hill_inv(V, K_BD, n) -  D)\n",
    "fE = μ_E * (b_E**2 + b_E*Hill(C, K_CE*(1+ aTc/K_aTc)**n_aTc, n) * Hill(F, K_FE, n) * Hill_inv(E, K_EE, n) - E)\n",
    "fF = μ_F *(b_F**2 + b_F*Hill_inv(V, K_BD, n) - F)\n",
    "faTc = -μ_aTc * aTc\n",
    "lprint(r\"$f_U(U, V, A, B, C, D, E, F, Atc) =$ {0}\", fU)\n",
    "lprint(r\"$f_V(U, V, A, B, C, D, E, F, Atc) =$ {0}\", fV)\n",
    "lprint(r\"$f_A(U, V, A, B, C, D, E, F, Atc) =$ {0}\", fA)\n",
    "lprint(r\"$f_B(U, V, A, B, C, D, E, F, Atc) =$ {0}\", fB)\n",
    "lprint(r\"$f_C(U, V, A, B, C, D, E, F, Atc) =$ {0}\", fC)\n",
    "lprint(r\"$f_D(U, V, A, B, C, D, E, F, Atc) =$ {0}\", fD)\n",
    "lprint(r\"$f_E(U, V, A, B, C, D, E, F, Atc) =$ {0}\", fE)\n",
    "lprint(r\"$f_F(U, V, A, B, C, D, E, F, Atc) =$ {0}\", fF)\n",
    "lprint(r\"$f_{aTc}(U, V, A, B, C, D, E, F, Atc) =$ {0}\", faTc)"
   ]
  },
  {
   "cell_type": "markdown",
   "id": "1e66b819",
   "metadata": {},
   "source": [
    "#### which as a vector, we can define it like"
   ]
  },
  {
   "cell_type": "code",
   "execution_count": 101,
   "id": "cf568d53",
   "metadata": {
    "ExecuteTime": {
     "end_time": "2022-11-03T09:02:24.832911Z",
     "start_time": "2022-11-03T09:02:24.812578Z"
    }
   },
   "outputs": [
    {
     "data": {
      "text/latex": [
       "$\\boldsymbol{f}(U, V, A, B, C, D, E, F, Atc) =$ $\\left[\\begin{matrix}A - E c_{1} - U \\mu_{U}\\\\B - V \\mu_{V}\\\\- A + b_{A}^{2} + \\frac{b_{A}}{\\left(\\frac{D}{K_{DA}}\\right)^{n} + 1}\\\\\\mu_{B} \\left(- B + b_{B}^{2} + \\frac{b_{B}}{\\left(\\left(\\frac{E}{K_{EB}}\\right)^{n} + 1\\right) \\left(\\left(\\frac{K_{AB}}{U}\\right)^{n} + 1\\right)}\\right)\\\\\\mu_{C} \\left(- C + b_{C}^{2} + \\frac{b_{C}}{\\left(\\frac{D}{K_{DA}}\\right)^{n} + 1}\\right)\\\\\\mu_{D} \\left(- D + b_{D}^{2} + \\frac{b_{D}}{\\left(\\frac{K_{BD}}{V}\\right)^{n} + 1}\\right)\\\\\\mu_{E} \\left(- E + b_{E}^{2} + \\frac{b_{E}}{\\left(\\left(\\frac{K_{EE}}{E}\\right)^{n} + 1\\right) \\left(\\left(\\frac{F}{K_{FE}}\\right)^{n} + 1\\right) \\left(\\left(\\frac{C \\left(1 + \\frac{aTc}{K_{aTc}}\\right)^{- n_{aTc}}}{K_{CE}}\\right)^{n} + 1\\right)}\\right)\\\\\\mu_{F} \\left(- F + b_{F}^{2} + \\frac{b_{F}}{\\left(\\frac{K_{BD}}{V}\\right)^{n} + 1}\\right)\\\\- aTc \\mu_{aTc}\\end{matrix}\\right]$ "
      ],
      "text/plain": [
       "<IPython.core.display.Latex object>"
      ]
     },
     "metadata": {},
     "output_type": "display_data"
    }
   ],
   "source": [
    "Kinetic = Matrix([[fU], [fV], [fA], [fB], [fC], [fD], [fE], [fF], [faTc]])\n",
    "lprint(r\"$\\boldsymbol{f}(U, V, A, B, C, D, E, F, Atc) =$ {0} \", Kinetic)"
   ]
  },
  {
   "cell_type": "markdown",
   "id": "28579547",
   "metadata": {},
   "source": [
    "#### First, we find the fix points of the system without diffusion. \n",
    "\n",
    "\n",
    "The solution of the above system finds $U^*, \\dots, aTc^*$ such that\n",
    "<center>$f_U(U^*, V^*, A^*, B^*, C^*, D^*, E^*, F^*, aTc^*) = 0$</center>\n",
    "<center>$f_V(U^*, V^*, A^*, B^*, C^*, D^*, E^*, F^*, aTc^*) = 0$</center>\n",
    "<center>$f_A(U^*, V^*, A^*, B^*, C^*, D^*, E^*, F^*, aTc^*) = 0$</center>\n",
    "<center>$f_B(U^*, V^*, A^*, B^*, C^*, D^*, E^*, F^*, aTc^*) = 0$</center>\n",
    "<center>$f_C(U^*, V^*, A^*, B^*, C^*, D^*, E^*, F^*, aTc^*) = 0$</center>\n",
    "<center>$f_D(U^*, V^*, A^*, B^*, C^*, D^*, E^*, F^*, aTc^*) = 0$</center>\n",
    "<center>$f_E(U^*, V^*, A^*, B^*, C^*, D^*, E^*, F^*, aTc^*) = 0$</center>\n",
    "<center>$f_{aTc}(U^*, V^*, A^*, B^*, C^*, D^*, E^*, F^*, aTc^*) = 0$</center>\n",
    "which are"
   ]
  },
  {
   "cell_type": "code",
   "execution_count": 102,
   "id": "686e69fb",
   "metadata": {
    "ExecuteTime": {
     "end_time": "2022-11-03T09:02:27.877711Z",
     "start_time": "2022-11-03T09:02:27.845001Z"
    }
   },
   "outputs": [
    {
     "data": {
      "text/latex": [
       "$f2_A(A, C, D, E, F) =$ $A - C - b_{A}^{2} + b_{C}^{2}$"
      ],
      "text/plain": [
       "<IPython.core.display.Latex object>"
      ]
     },
     "metadata": {},
     "output_type": "display_data"
    },
    {
     "data": {
      "text/latex": [
       "$f2_B(A, C, D, E, F) =$ $- B + b_{B}^{2} + \\frac{b_{B}}{\\left(\\left(\\frac{E}{K_{EB}}\\right)^{n} + 1\\right) \\left(\\left(\\frac{K_{AB}}{U}\\right)^{n} + 1\\right)}$"
      ],
      "text/plain": [
       "<IPython.core.display.Latex object>"
      ]
     },
     "metadata": {},
     "output_type": "display_data"
    },
    {
     "data": {
      "text/latex": [
       "$f2_C(A, C, D, E, F) =$ $D - K_{DA} \\left(\\frac{b_{C}}{C - b_{C}^{2}} - 1\\right)^{\\frac{1}{n}}$"
      ],
      "text/plain": [
       "<IPython.core.display.Latex object>"
      ]
     },
     "metadata": {},
     "output_type": "display_data"
    },
    {
     "data": {
      "text/latex": [
       "$f2_E(A, C, D, E, F) =$ $- E + b_{E}^{2} + \\frac{b_{E}}{\\left(\\left(\\frac{C}{K_{CE}}\\right)^{n} + 1\\right) \\left(\\left(\\frac{K_{EE}}{E}\\right)^{n} + 1\\right) \\left(\\left(\\frac{F}{K_{FE}}\\right)^{n} + 1\\right)}$"
      ],
      "text/plain": [
       "<IPython.core.display.Latex object>"
      ]
     },
     "metadata": {},
     "output_type": "display_data"
    },
    {
     "data": {
      "text/latex": [
       "$f2_F(A, C, D, E, F) =$ $- D + F + b_{D}^{2} - b_{F}^{2}$"
      ],
      "text/plain": [
       "<IPython.core.display.Latex object>"
      ]
     },
     "metadata": {},
     "output_type": "display_data"
    }
   ],
   "source": [
    "# Combining A and C's Eqs.\n",
    "fA2 = A -b_A**2 - C + b_C**2\n",
    "# \n",
    "#fB2 = ((B-b_B**2)/b_B)*(1 + (μ_V*K_AB/A)**n)-(1/(1 + (E/K_EB)**n))\n",
    "fB2 = b_B**2 + b_B*Hill_inv(U, K_AB, n) * Hill(E, K_EB, n) - B\n",
    "# C's Eq.\n",
    "fC2 = D - K_DA * (b_C/(C-b_C**2) - 1)**(1/n)\n",
    "# E's Eq. where aTC= 0 \n",
    "#fE2 = ((E-b_E**2)/b_E)*(1 + K_EE/E)**n - (1/(1+(C/K_CE)**n))*(1/(1+(F/K_FE)**n))\n",
    "fE2 = b_E**2 + b_E*Hill(C, K_CE*(1+ aTc/K_aTc)**n_aTc, n) * Hill(F, K_FE, n) * Hill_inv(E, K_EE, n) - E\n",
    "fE2 = fE2.subs([(aTc, 0)])\n",
    "# Combining D and F's Eqs.\n",
    "fF2 = F -b_F**2 - D + b_D**2\n",
    "#\n",
    "\n",
    "\n",
    "lprint(r\"$f2_A(A, C, D, E, F) =$ {0}\", fA2)\n",
    "lprint(r\"$f2_B(A, C, D, E, F) =$ {0}\", fB2)\n",
    "lprint(r\"$f2_C(A, C, D, E, F) =$ {0}\", fC2)\n",
    "lprint(r\"$f2_E(A, C, D, E, F) =$ {0}\", fE2)\n",
    "lprint(r\"$f2_F(A, C, D, E, F) =$ {0}\", fF2)"
   ]
  },
  {
   "cell_type": "code",
   "execution_count": 103,
   "id": "5b2dffe4",
   "metadata": {
    "ExecuteTime": {
     "end_time": "2022-11-03T09:02:30.002278Z",
     "start_time": "2022-11-03T09:02:29.554677Z"
    }
   },
   "outputs": [
    {
     "data": {
      "text/latex": [
       "$D^* = $ $\\frac{b_{D} \\left(K_{BD}^{n} b_{D} + V^{n} b_{D} + V^{n}\\right)}{K_{BD}^{n} + V^{n}}$"
      ],
      "text/plain": [
       "<IPython.core.display.Latex object>"
      ]
     },
     "metadata": {},
     "output_type": "display_data"
    },
    {
     "data": {
      "text/latex": [
       "$B^* = $ $V \\mu_{V}$"
      ],
      "text/plain": [
       "<IPython.core.display.Latex object>"
      ]
     },
     "metadata": {},
     "output_type": "display_data"
    },
    {
     "data": {
      "text/latex": [
       "$C^* = $ $\\frac{b_{C} \\left(b_{C} \\left(b_{D} \\left(K_{BD}^{n} b_{D} + V^{n} b_{D} + V^{n}\\right)\\right)^{n} + \\left(K_{DA} \\left(K_{BD}^{n} + V^{n}\\right)\\right)^{n} \\left(b_{C} + 1\\right)\\right)}{K_{DA}^{n} \\left(K_{BD}^{n} + V^{n}\\right)^{n} + \\left(b_{D} \\left(K_{BD}^{n} b_{D} + V^{n} b_{D} + V^{n}\\right)\\right)^{n}}$"
      ],
      "text/plain": [
       "<IPython.core.display.Latex object>"
      ]
     },
     "metadata": {},
     "output_type": "display_data"
    },
    {
     "data": {
      "text/latex": [
       "$A^* = $ $\\frac{b_{A}^{2} \\left(K_{DA} \\left(K_{BD}^{n} + V^{n}\\right)\\right)^{n} + b_{A}^{2} \\left(b_{D} \\left(K_{BD}^{n} b_{D} + V^{n} b_{D} + V^{n}\\right)\\right)^{n} + b_{C} \\left(K_{DA} \\left(K_{BD}^{n} + V^{n}\\right)\\right)^{n}}{K_{DA}^{n} \\left(K_{BD}^{n} + V^{n}\\right)^{n} + \\left(b_{D} \\left(K_{BD}^{n} b_{D} + V^{n} b_{D} + V^{n}\\right)\\right)^{n}}$"
      ],
      "text/plain": [
       "<IPython.core.display.Latex object>"
      ]
     },
     "metadata": {},
     "output_type": "display_data"
    },
    {
     "data": {
      "text/latex": [
       "$F^* = $ $\\frac{K_{BD}^{n} b_{F}^{2} + V^{n} b_{D} + V^{n} b_{F}^{2}}{K_{BD}^{n} + V^{n}}$"
      ],
      "text/plain": [
       "<IPython.core.display.Latex object>"
      ]
     },
     "metadata": {},
     "output_type": "display_data"
    },
    {
     "data": {
      "text/latex": [
       "$U^* = $ $- \\frac{E c_{1}}{\\mu_{U}} + \\frac{b_{A}^{2} \\left(K_{DA} \\left(K_{BD}^{n} + V^{n}\\right)\\right)^{n} + b_{A}^{2} \\left(b_{D} \\left(K_{BD}^{n} b_{D} + V^{n} b_{D} + V^{n}\\right)\\right)^{n} + b_{C} \\left(K_{DA} \\left(K_{BD}^{n} + V^{n}\\right)\\right)^{n}}{\\mu_{U} \\left(K_{DA}^{n} \\left(K_{BD}^{n} + V^{n}\\right)^{n} + \\left(b_{D} \\left(K_{BD}^{n} b_{D} + V^{n} b_{D} + V^{n}\\right)\\right)^{n}\\right)}$"
      ],
      "text/plain": [
       "<IPython.core.display.Latex object>"
      ]
     },
     "metadata": {},
     "output_type": "display_data"
    }
   ],
   "source": [
    "D_star = solve(fD, D)[0]\n",
    "lprint(r\"$D^* = $ {0}\", D_star)\n",
    "B_star =  μ_V * V\n",
    "lprint(r\"$B^* = $ {0}\", B_star)\n",
    "\n",
    "C_star = solve(fC2, C)[0].subs(D, D_star).simplify()\n",
    "lprint(r\"$C^* = $ {0}\", C_star)\n",
    "A_star = solve(fA2, A)[0].subs(C, C_star).simplify()\n",
    "lprint(r\"$A^* = $ {0}\", A_star)\n",
    "F_star = solve(fF2, F)[0].subs(D, D_star).simplify()\n",
    "lprint(r\"$F^* = $ {0}\", F_star)\n",
    "U_star = (A_star/ μ_U) - (c_1 * E/ μ_U)\n",
    "lprint(r\"$U^* = $ {0}\", U_star)\n",
    "#V_star = (K_BD/((b_D/(D - b_D**2)) - 1)**(1/n))\n"
   ]
  },
  {
   "cell_type": "code",
   "execution_count": 104,
   "id": "9c6df1b0",
   "metadata": {
    "ExecuteTime": {
     "end_time": "2022-11-03T09:02:32.710485Z",
     "start_time": "2022-11-03T09:02:32.684392Z"
    }
   },
   "outputs": [
    {
     "data": {
      "text/latex": [
       " $- V \\mu_{V} + b_{B}^{2} + \\frac{b_{B}}{\\left(\\left(\\frac{E}{K_{EB}}\\right)^{n} + 1\\right) \\left(\\left(\\frac{K_{AB}}{- \\frac{E c_{1}}{\\mu_{U}} + \\frac{b_{A}^{2} \\left(K_{DA} \\left(K_{BD}^{n} + V^{n}\\right)\\right)^{n} + b_{A}^{2} \\left(b_{D} \\left(K_{BD}^{n} b_{D} + V^{n} b_{D} + V^{n}\\right)\\right)^{n} + b_{C} \\left(K_{DA} \\left(K_{BD}^{n} + V^{n}\\right)\\right)^{n}}{\\mu_{U} \\left(K_{DA}^{n} \\left(K_{BD}^{n} + V^{n}\\right)^{n} + \\left(b_{D} \\left(K_{BD}^{n} b_{D} + V^{n} b_{D} + V^{n}\\right)\\right)^{n}\\right)}}\\right)^{n} + 1\\right)}$"
      ],
      "text/plain": [
       "<IPython.core.display.Latex object>"
      ]
     },
     "metadata": {},
     "output_type": "display_data"
    }
   ],
   "source": [
    "VE_Eq_1 = fB2.subs([(U, U_star), (B, B_star)])\n",
    "lprint(r\" {0}\", VE_Eq_1)"
   ]
  },
  {
   "cell_type": "code",
   "execution_count": 105,
   "id": "986c9ae7",
   "metadata": {
    "ExecuteTime": {
     "end_time": "2022-11-03T09:02:34.102980Z",
     "start_time": "2022-11-03T09:02:34.078194Z"
    }
   },
   "outputs": [
    {
     "data": {
      "text/latex": [
       " $- E + b_{E}^{2} + \\frac{b_{E}}{\\left(\\left(\\frac{K_{EE}}{E}\\right)^{n} + 1\\right) \\left(\\left(\\frac{K_{BD}^{n} b_{F}^{2} + V^{n} b_{D} + V^{n} b_{F}^{2}}{K_{FE} \\left(K_{BD}^{n} + V^{n}\\right)}\\right)^{n} + 1\\right) \\left(\\left(\\frac{b_{C} \\left(b_{C} \\left(b_{D} \\left(K_{BD}^{n} b_{D} + V^{n} b_{D} + V^{n}\\right)\\right)^{n} + \\left(K_{DA} \\left(K_{BD}^{n} + V^{n}\\right)\\right)^{n} \\left(b_{C} + 1\\right)\\right)}{K_{CE} \\left(K_{DA}^{n} \\left(K_{BD}^{n} + V^{n}\\right)^{n} + \\left(b_{D} \\left(K_{BD}^{n} b_{D} + V^{n} b_{D} + V^{n}\\right)\\right)^{n}\\right)}\\right)^{n} + 1\\right)}$"
      ],
      "text/plain": [
       "<IPython.core.display.Latex object>"
      ]
     },
     "metadata": {},
     "output_type": "display_data"
    }
   ],
   "source": [
    "VE_Eq_2 = fE2.subs([(F, F_star), (C, C_star)])\n",
    "lprint(r\" {0}\", VE_Eq_2)"
   ]
  },
  {
   "cell_type": "code",
   "execution_count": null,
   "id": "9179baab",
   "metadata": {},
   "outputs": [],
   "source": []
  },
  {
   "cell_type": "markdown",
   "id": "5f3ca796",
   "metadata": {},
   "source": [
    "# Test finding the steady state solutions"
   ]
  },
  {
   "cell_type": "code",
   "execution_count": 106,
   "id": "0bb62724",
   "metadata": {
    "ExecuteTime": {
     "end_time": "2022-11-03T09:02:37.337204Z",
     "start_time": "2022-11-03T09:02:37.302615Z"
    }
   },
   "outputs": [],
   "source": [
    "f1 = lambdify([n, b_A, b_B, b_C, b_D, b_E, b_F, \n",
    "               μ_V, μ_U,  μ_B, μ_C, μ_D, μ_E, μ_F, μ_aTc, n_aTc,\n",
    "               K_AB, K_BD, K_CE, K_DA, K_EB, K_EE, K_FE, K_aTc, K_A, c_1,\n",
    "               V, E], \n",
    "              VE_Eq_1,\n",
    "              modules='numpy')\n",
    "\n",
    "f2 = lambdify([n, b_A, b_B, b_C, b_D, b_E, b_F, \n",
    "               μ_V, μ_U,  μ_B, μ_C, μ_D, μ_E, μ_F, μ_aTc, n_aTc,\n",
    "               K_AB, K_BD, K_CE, K_DA, K_EB, K_EE, K_FE, K_aTc,  K_A, c_1,\n",
    "               V, E], \n",
    "              VE_Eq_2,\n",
    "              modules='numpy')"
   ]
  },
  {
   "cell_type": "code",
   "execution_count": 109,
   "id": "eb9ad80e",
   "metadata": {
    "ExecuteTime": {
     "end_time": "2022-11-03T09:03:07.754127Z",
     "start_time": "2022-11-03T09:03:07.740950Z"
    }
   },
   "outputs": [],
   "source": [
    "def create_eqs_func(n, b_A, b_B, b_C, b_D, b_E, b_F, \n",
    "                    mu_V, mu_U, mu_B, mu_C, mu_D, mu_E, mu_F, mu_aTc, n_aTc,\n",
    "                     K_AB, K_BD, K_CE, K_DA, K_EB, K_EE, K_FE, K_aTc, K_A, c_1):\n",
    "    def f_1(args):\n",
    "        V, E = args\n",
    "        return (f1(n, b_A, b_B, b_C, b_D, b_E, b_F, \n",
    "                    mu_V, mu_U, mu_B, mu_C, mu_D, mu_E, mu_F, mu_aTc, n_aTc,\n",
    "                     K_AB, K_BD, K_CE, K_DA, K_EB, K_EE, K_FE, K_aTc, K_A, c_1, V, E),\n",
    "               f2(n, b_A, b_B, b_C, b_D, b_E, b_F, \n",
    "                    mu_V, mu_U, mu_B, mu_C, mu_D, mu_E, mu_F, mu_aTc, n_aTc,\n",
    "                     K_AB, K_BD, K_CE, K_DA, K_EB, K_EE, K_FE, K_aTc, K_A, c_1, V, E)) \n",
    "    \n",
    "    return f_1\n",
    "\n",
    "func = create_eqs_func(n=3, b_A=.1, b_B=.1, b_C=.1, b_D=.1, b_E=.1, b_F=.1, \n",
    "          mu_V=1000, mu_U=1000, mu_B=0.5, mu_C=0.5, mu_D=0.5, mu_E=0.5, mu_F=0.5, mu_aTc=0.5, n_aTc=3,\n",
    "          K_AB=1, K_BD=1, K_CE=1, K_DA=1, K_EB=1, K_EE=1, K_FE=1, K_aTc=1, K_A=K_A_val, c_1=c_1_val)"
   ]
  },
  {
   "cell_type": "code",
   "execution_count": 110,
   "id": "f7ab6cd3",
   "metadata": {
    "ExecuteTime": {
     "end_time": "2022-11-03T09:03:08.643367Z",
     "start_time": "2022-11-03T09:03:08.635950Z"
    }
   },
   "outputs": [
    {
     "name": "stdout",
     "output_type": "stream",
     "text": [
      "[1.00000000e-05 1.00000999e-02]\n"
     ]
    }
   ],
   "source": [
    "from scipy.optimize import fsolve\n",
    "\n",
    "root = fsolve(func, [1, 1], xtol=1e-10, maxfev=10000)\n",
    "print(root)"
   ]
  },
  {
   "cell_type": "code",
   "execution_count": 111,
   "id": "120a8da8",
   "metadata": {
    "ExecuteTime": {
     "end_time": "2022-11-03T09:03:11.847917Z",
     "start_time": "2022-11-03T09:03:11.839309Z"
    }
   },
   "outputs": [
    {
     "data": {
      "text/latex": [
       "$\\displaystyle \\left( -6.2424424828855 \\cdot 10^{-19}, \\  1.41388327742464 \\cdot 10^{-19}\\right)$"
      ],
      "text/plain": [
       "(-6.242442482885498e-19, 1.4138832774246391e-19)"
      ]
     },
     "execution_count": 111,
     "metadata": {},
     "output_type": "execute_result"
    }
   ],
   "source": [
    "func(root)"
   ]
  },
  {
   "cell_type": "code",
   "execution_count": 112,
   "id": "723586a9",
   "metadata": {
    "ExecuteTime": {
     "end_time": "2022-11-03T09:03:19.478856Z",
     "start_time": "2022-11-03T09:03:19.430590Z"
    }
   },
   "outputs": [],
   "source": [
    "D_f1 = lambdify([n, b_A, b_B, b_C, b_D, b_E, b_F, \n",
    "                 μ_V, μ_U,  μ_B, μ_C, μ_D, μ_E, μ_F, μ_aTc, n_aTc,\n",
    "                 K_AB, K_BD, K_CE, K_DA, K_EB, K_EE, K_FE, K_aTc, K_A, c_1,  \n",
    "                 V, E], \n",
    "                     D_star, modules='numpy')\n",
    "B_f1 = lambdify([n, b_A, b_B, b_C, b_D, b_E, b_F, \n",
    "                 μ_V, μ_U,  μ_B, μ_C, μ_D, μ_E, μ_F, μ_aTc, n_aTc,\n",
    "                 K_AB, K_BD, K_CE, K_DA, K_EB, K_EE, K_FE, K_aTc, K_A, c_1,  \n",
    "                 V, E], \n",
    "                 B_star, modules='numpy')\n",
    "C_f1 = lambdify([n, b_A, b_B, b_C, b_D, b_E, b_F, \n",
    "                 μ_V, μ_U,  μ_B, μ_C, μ_D, μ_E, μ_F, μ_aTc, n_aTc,\n",
    "                 K_AB, K_BD, K_CE, K_DA, K_EB, K_EE, K_FE, K_aTc, K_A, c_1,  \n",
    "                 V, E], \n",
    "                 C_star, modules='numpy')\n",
    "A_f1 = lambdify([n, b_A, b_B, b_C, b_D, b_E, b_F, \n",
    "                 μ_V, μ_U,  μ_B, μ_C, μ_D, μ_E, μ_F, μ_aTc, n_aTc,\n",
    "                 K_AB, K_BD, K_CE, K_DA, K_EB, K_EE, K_FE, K_aTc, K_A, c_1,  \n",
    "                 V, E], \n",
    "                 A_star, modules='numpy')\n",
    "F_f1 = lambdify([n, b_A, b_B, b_C, b_D, b_E, b_F, \n",
    "                 μ_V, μ_U,  μ_B, μ_C, μ_D, μ_E, μ_F, μ_aTc, n_aTc,\n",
    "                 K_AB, K_BD, K_CE, K_DA, K_EB, K_EE, K_FE, K_aTc, K_A, c_1,  \n",
    "                 V, E], \n",
    "                 F_star, modules='numpy')\n",
    "U_f1 = lambdify([n, b_A, b_B, b_C, b_D, b_E, b_F, \n",
    "                 μ_V, μ_U,  μ_B, μ_C, μ_D, μ_E, μ_F, μ_aTc, n_aTc,\n",
    "                 K_AB, K_BD, K_CE, K_DA, K_EB, K_EE, K_FE, K_aTc, K_A, c_1, \n",
    "                 V, E], \n",
    "                 U_star, modules='numpy')\n",
    "\n",
    "def create_eqs_others(n, b_A, b_B, b_C, b_D, b_E, b_F, \n",
    "                     mu_V, mu_U, mu_B, mu_C, mu_D, mu_E, mu_F, mu_aTc, n_aTc,\n",
    "                     K_AB, K_BD, K_CE, K_DA, K_EB, K_EE, K_FE, K_aTc, K_A, c_1):\n",
    "    def f_1(args):\n",
    "        V, E = args\n",
    "        return (D_f1(n, b_A, b_B, b_C, b_D, b_E, b_F, \n",
    "                     mu_V, mu_U, mu_B, mu_C, mu_D, mu_E, mu_F, mu_aTc, n_aTc,\n",
    "                     K_AB, K_BD, K_CE, K_DA, K_EB, K_EE, K_FE, K_aTc, K_A, c_1, V, E),\n",
    "               B_f1(n, b_A, b_B, b_C, b_D, b_E, b_F, \n",
    "                     mu_V, mu_U, mu_B, mu_C, mu_D, mu_E, mu_F, mu_aTc, n_aTc,\n",
    "                     K_AB, K_BD, K_CE, K_DA, K_EB, K_EE, K_FE, K_aTc, K_A, c_1, V, E),\n",
    "               C_f1(n, b_A, b_B, b_C, b_D, b_E, b_F, \n",
    "                     mu_V, mu_U, mu_B, mu_C, mu_D, mu_E, mu_F, mu_aTc, n_aTc,\n",
    "                     K_AB, K_BD, K_CE, K_DA, K_EB, K_EE, K_FE, K_aTc, K_A, c_1, V, E),\n",
    "               A_f1(n, b_A, b_B, b_C, b_D, b_E, b_F, \n",
    "                     mu_V, mu_U, mu_B, mu_C, mu_D, mu_E, mu_F, mu_aTc, n_aTc,\n",
    "                     K_AB, K_BD, K_CE, K_DA, K_EB, K_EE, K_FE, K_aTc, K_A, c_1, V, E),\n",
    "               F_f1(n, b_A, b_B, b_C, b_D, b_E, b_F, \n",
    "                     mu_V, mu_U, mu_B, mu_C, mu_D, mu_E, mu_F, mu_aTc, n_aTc,\n",
    "                     K_AB, K_BD, K_CE, K_DA, K_EB, K_EE, K_FE, K_aTc, K_A, c_1, V, E),\n",
    "               U_f1(n, b_A, b_B, b_C, b_D, b_E, b_F, \n",
    "                     mu_V, mu_U, mu_B, mu_C, mu_D, mu_E, mu_F, mu_aTc, n_aTc,\n",
    "                     K_AB, K_BD, K_CE, K_DA, K_EB, K_EE, K_FE, K_aTc, K_A, c_1, V, E)) \n",
    "    \n",
    "    return f_1"
   ]
  },
  {
   "cell_type": "code",
   "execution_count": 113,
   "id": "da95d8cd",
   "metadata": {
    "ExecuteTime": {
     "end_time": "2022-11-03T09:03:27.017517Z",
     "start_time": "2022-11-03T09:03:27.010535Z"
    }
   },
   "outputs": [],
   "source": [
    "f_others = create_eqs_others(n=3, b_A=.1, b_B=.1, b_C=.1, b_D=.1, b_E=.1, b_F=.1, \n",
    "          mu_V=1000, mu_U=1000, mu_B=0.5, mu_C=0.5, mu_D=0.5, mu_E=0.5, mu_F=0.5, mu_aTc=0.5, n_aTc=3,\n",
    "          K_AB=1, K_BD=1, K_CE=1, K_DA=1, K_EB=1, K_EE=1, K_FE=1, K_aTc=1, K_A=K_A_val, c_1=c_1_val)"
   ]
  },
  {
   "cell_type": "code",
   "execution_count": 114,
   "id": "21d8b1c0",
   "metadata": {
    "ExecuteTime": {
     "end_time": "2022-11-03T09:03:27.715282Z",
     "start_time": "2022-11-03T09:03:27.710048Z"
    }
   },
   "outputs": [],
   "source": [
    "(V_s, E_s) = root\n",
    "(D_s, B_s, C_s, A_s, F_s, U_s) = f_others(root)"
   ]
  },
  {
   "cell_type": "code",
   "execution_count": 115,
   "id": "d867caad",
   "metadata": {
    "ExecuteTime": {
     "end_time": "2022-11-03T09:03:28.853825Z",
     "start_time": "2022-11-03T09:03:28.825802Z"
    }
   },
   "outputs": [],
   "source": [
    "kinetic_f = lambdify([n, b_A, b_B, b_C, b_D, b_E, b_F, \n",
    "                      μ_V, μ_U,  μ_B, μ_C, μ_D, μ_E, μ_F, μ_aTc, n_aTc,\n",
    "                      K_AB, K_BD, K_CE, K_DA, K_EB, K_EE, K_FE, K_aTc, aTc, K_A, c_1, \n",
    "                      V, E, D, B, C, A, F, U], \n",
    "                      Kinetic, modules='numpy')"
   ]
  },
  {
   "cell_type": "code",
   "execution_count": 116,
   "id": "976db823",
   "metadata": {
    "ExecuteTime": {
     "end_time": "2022-11-03T09:03:39.082157Z",
     "start_time": "2022-11-03T09:03:39.068430Z"
    }
   },
   "outputs": [
    {
     "name": "stdout",
     "output_type": "stream",
     "text": [
      "1.0000000000133102e-05 0.010000099869869685 0.0100000000000001 0.010000000000133102 0.10999990000010004 0.10999990000010001 0.010000000000000103 0.00010999990000010001\n"
     ]
    },
    {
     "data": {
      "text/plain": [
       "array([[ 0.00000000e+00],\n",
       "       [ 0.00000000e+00],\n",
       "       [ 1.38777878e-17],\n",
       "       [-3.12122124e-19],\n",
       "       [-6.93889390e-18],\n",
       "       [ 5.60380937e-19],\n",
       "       [ 7.06941639e-20],\n",
       "       [-3.06980801e-19],\n",
       "       [ 0.00000000e+00]])"
      ]
     },
     "execution_count": 116,
     "metadata": {},
     "output_type": "execute_result"
    }
   ],
   "source": [
    "print(V_s, E_s, D_s, B_s, C_s, A_s, F_s, U_s)\n",
    "kinetic_f(n=3, b_A=.1, b_B=.1, b_C=.1, b_D=.1, b_E=.1, b_F=.1, \n",
    "          mu_V=1000, mu_U=1000, mu_B=0.5, mu_C=0.5, mu_D=0.5, mu_E=0.5, mu_F=0.5, mu_aTc=0.5, n_aTc=3,\n",
    "          K_AB=1, K_BD=1, K_CE=1, K_DA=1, K_EB=1, K_EE=1, K_FE=1, K_aTc=1,\n",
    "          aTc = 0,  K_A=K_A_val, c_1=c_1_val,\n",
    "          V= V_s, E = E_s, D = D_s, B = B_s, C = C_s, A = A_s, F = F_s, U = U_s)"
   ]
  },
  {
   "cell_type": "code",
   "execution_count": null,
   "id": "3ec13fdf",
   "metadata": {},
   "outputs": [],
   "source": []
  },
  {
   "cell_type": "markdown",
   "id": "b8b09ed5",
   "metadata": {},
   "source": [
    "#### Next, to linearise the PDE system, we find the Jacobian of $(f_u, \\dots, f_{aTc})$ that evaluated at $(u^*, \\dots, {aTc}^*)$ "
   ]
  },
  {
   "cell_type": "code",
   "execution_count": 76,
   "id": "37f19784",
   "metadata": {
    "ExecuteTime": {
     "end_time": "2022-11-03T08:49:05.854869Z",
     "start_time": "2022-11-03T08:49:05.816046Z"
    }
   },
   "outputs": [
    {
     "data": {
      "text/latex": [
       "$J= \\frac{\\partial \\boldsymbol{f}_i}{\\partial u_j} = \\left[\\begin{matrix}- \\mu_{U} & 0 & 1 & 0 & 0 & 0 & - c_{1} & 0 & 0\\\\0 & - \\mu_{V} & 0 & 1 & 0 & 0 & 0 & 0 & 0\\\\0 & 0 & -1 & 0 & 0 & - \\frac{b_{A} n \\left(\\frac{D}{K_{DA}}\\right)^{n}}{D \\left(\\left(\\frac{D}{K_{DA}}\\right)^{n} + 1\\right)^{2}} & 0 & 0 & 0\\\\\\frac{b_{B} \\mu_{B} n \\left(\\frac{K_{AB}}{U}\\right)^{n}}{U \\left(\\left(\\frac{E}{K_{EB}}\\right)^{n} + 1\\right) \\left(\\left(\\frac{K_{AB}}{U}\\right)^{n} + 1\\right)^{2}} & 0 & 0 & - \\mu_{B} & 0 & 0 & - \\frac{b_{B} \\mu_{B} n \\left(\\frac{E}{K_{EB}}\\right)^{n}}{E \\left(\\left(\\frac{E}{K_{EB}}\\right)^{n} + 1\\right)^{2} \\left(\\left(\\frac{K_{AB}}{U}\\right)^{n} + 1\\right)} & 0 & 0\\\\0 & 0 & 0 & 0 & - \\mu_{C} & - \\frac{b_{C} \\mu_{C} n \\left(\\frac{D}{K_{DA}}\\right)^{n}}{D \\left(\\left(\\frac{D}{K_{DA}}\\right)^{n} + 1\\right)^{2}} & 0 & 0 & 0\\\\0 & \\frac{b_{D} \\mu_{D} n \\left(\\frac{K_{BD}}{V}\\right)^{n}}{V \\left(\\left(\\frac{K_{BD}}{V}\\right)^{n} + 1\\right)^{2}} & 0 & 0 & 0 & - \\mu_{D} & 0 & 0 & 0\\\\0 & 0 & 0 & 0 & - \\frac{b_{E} \\mu_{E} n \\left(\\frac{C \\left(1 + \\frac{aTc}{K_{aTc}}\\right)^{- n_{aTc}}}{K_{CE}}\\right)^{n}}{C \\left(\\left(\\frac{K_{EE}}{E}\\right)^{n} + 1\\right) \\left(\\left(\\frac{F}{K_{FE}}\\right)^{n} + 1\\right) \\left(\\left(\\frac{C \\left(1 + \\frac{aTc}{K_{aTc}}\\right)^{- n_{aTc}}}{K_{CE}}\\right)^{n} + 1\\right)^{2}} & 0 & \\mu_{E} \\left(-1 + \\frac{b_{E} n \\left(\\frac{K_{EE}}{E}\\right)^{n}}{E \\left(\\left(\\frac{K_{EE}}{E}\\right)^{n} + 1\\right)^{2} \\left(\\left(\\frac{F}{K_{FE}}\\right)^{n} + 1\\right) \\left(\\left(\\frac{C \\left(1 + \\frac{aTc}{K_{aTc}}\\right)^{- n_{aTc}}}{K_{CE}}\\right)^{n} + 1\\right)}\\right) & - \\frac{b_{E} \\mu_{E} n \\left(\\frac{F}{K_{FE}}\\right)^{n}}{F \\left(\\left(\\frac{K_{EE}}{E}\\right)^{n} + 1\\right) \\left(\\left(\\frac{F}{K_{FE}}\\right)^{n} + 1\\right)^{2} \\left(\\left(\\frac{C \\left(1 + \\frac{aTc}{K_{aTc}}\\right)^{- n_{aTc}}}{K_{CE}}\\right)^{n} + 1\\right)} & \\frac{b_{E} \\mu_{E} n n_{aTc} \\left(\\frac{C \\left(1 + \\frac{aTc}{K_{aTc}}\\right)^{- n_{aTc}}}{K_{CE}}\\right)^{n}}{K_{aTc} \\left(1 + \\frac{aTc}{K_{aTc}}\\right) \\left(\\left(\\frac{K_{EE}}{E}\\right)^{n} + 1\\right) \\left(\\left(\\frac{F}{K_{FE}}\\right)^{n} + 1\\right) \\left(\\left(\\frac{C \\left(1 + \\frac{aTc}{K_{aTc}}\\right)^{- n_{aTc}}}{K_{CE}}\\right)^{n} + 1\\right)^{2}}\\\\0 & \\frac{b_{F} \\mu_{F} n \\left(\\frac{K_{BD}}{V}\\right)^{n}}{V \\left(\\left(\\frac{K_{BD}}{V}\\right)^{n} + 1\\right)^{2}} & 0 & 0 & 0 & 0 & 0 & - \\mu_{F} & 0\\\\0 & 0 & 0 & 0 & 0 & 0 & 0 & 0 & - \\mu_{aTc}\\end{matrix}\\right]$"
      ],
      "text/plain": [
       "<IPython.core.display.Latex object>"
      ]
     },
     "metadata": {},
     "output_type": "display_data"
    }
   ],
   "source": [
    "J_jac = Kinetic.jacobian([U, V, A, B, C, D, E, F, aTc])\n",
    "hprint(r\"J= \\frac{\\partial \\boldsymbol{f}_i}{\\partial u_j} = \", J_jac)"
   ]
  },
  {
   "cell_type": "code",
   "execution_count": 77,
   "id": "78c0a550",
   "metadata": {
    "ExecuteTime": {
     "end_time": "2022-11-03T08:49:07.286404Z",
     "start_time": "2022-11-03T08:49:07.244834Z"
    }
   },
   "outputs": [
    {
     "data": {
      "text/latex": [
       "$J= \\frac{\\partial \\boldsymbol{f}_i}{\\partial u_j} = \\left[\\begin{matrix}- \\mu_{U} & 0 & 1 & 0 & 0 & 0 & - c_{1} & 0 & 0\\\\0 & - \\mu_{V} & 0 & 1 & 0 & 0 & 0 & 0 & 0\\\\0 & 0 & -1 & 0 & 0 & - \\frac{b_{A} n \\left(\\frac{D}{K_{DA}}\\right)^{n}}{D \\left(\\left(\\frac{D}{K_{DA}}\\right)^{n} + 1\\right)^{2}} & 0 & 0 & 0\\\\\\frac{b_{B} \\mu_{B} n \\left(\\frac{K_{AB}}{U}\\right)^{n}}{U \\left(\\left(\\frac{E}{K_{EB}}\\right)^{n} + 1\\right) \\left(\\left(\\frac{K_{AB}}{U}\\right)^{n} + 1\\right)^{2}} & 0 & 0 & - \\mu_{B} & 0 & 0 & - \\frac{b_{B} \\mu_{B} n \\left(\\frac{E}{K_{EB}}\\right)^{n}}{E \\left(\\left(\\frac{E}{K_{EB}}\\right)^{n} + 1\\right)^{2} \\left(\\left(\\frac{K_{AB}}{U}\\right)^{n} + 1\\right)} & 0 & 0\\\\0 & 0 & 0 & 0 & - \\mu_{C} & - \\frac{b_{C} \\mu_{C} n \\left(\\frac{D}{K_{DA}}\\right)^{n}}{D \\left(\\left(\\frac{D}{K_{DA}}\\right)^{n} + 1\\right)^{2}} & 0 & 0 & 0\\\\0 & \\frac{b_{D} \\mu_{D} n \\left(\\frac{K_{BD}}{V}\\right)^{n}}{V \\left(\\left(\\frac{K_{BD}}{V}\\right)^{n} + 1\\right)^{2}} & 0 & 0 & 0 & - \\mu_{D} & 0 & 0 & 0\\\\0 & 0 & 0 & 0 & - \\frac{b_{E} \\mu_{E} n \\left(\\frac{C}{K_{CE}}\\right)^{n}}{C \\left(\\left(\\frac{C}{K_{CE}}\\right)^{n} + 1\\right)^{2} \\left(\\left(\\frac{K_{EE}}{E}\\right)^{n} + 1\\right) \\left(\\left(\\frac{F}{K_{FE}}\\right)^{n} + 1\\right)} & 0 & \\mu_{E} \\left(-1 + \\frac{b_{E} n \\left(\\frac{K_{EE}}{E}\\right)^{n}}{E \\left(\\left(\\frac{C}{K_{CE}}\\right)^{n} + 1\\right) \\left(\\left(\\frac{K_{EE}}{E}\\right)^{n} + 1\\right)^{2} \\left(\\left(\\frac{F}{K_{FE}}\\right)^{n} + 1\\right)}\\right) & - \\frac{b_{E} \\mu_{E} n \\left(\\frac{F}{K_{FE}}\\right)^{n}}{F \\left(\\left(\\frac{C}{K_{CE}}\\right)^{n} + 1\\right) \\left(\\left(\\frac{K_{EE}}{E}\\right)^{n} + 1\\right) \\left(\\left(\\frac{F}{K_{FE}}\\right)^{n} + 1\\right)^{2}} & \\frac{b_{E} \\mu_{E} n n_{aTc} \\left(\\frac{C}{K_{CE}}\\right)^{n}}{K_{aTc} \\left(\\left(\\frac{C}{K_{CE}}\\right)^{n} + 1\\right)^{2} \\left(\\left(\\frac{K_{EE}}{E}\\right)^{n} + 1\\right) \\left(\\left(\\frac{F}{K_{FE}}\\right)^{n} + 1\\right)}\\\\0 & \\frac{b_{F} \\mu_{F} n \\left(\\frac{K_{BD}}{V}\\right)^{n}}{V \\left(\\left(\\frac{K_{BD}}{V}\\right)^{n} + 1\\right)^{2}} & 0 & 0 & 0 & 0 & 0 & - \\mu_{F} & 0\\\\0 & 0 & 0 & 0 & 0 & 0 & 0 & 0 & - \\mu_{aTc}\\end{matrix}\\right]$"
      ],
      "text/plain": [
       "<IPython.core.display.Latex object>"
      ]
     },
     "metadata": {},
     "output_type": "display_data"
    }
   ],
   "source": [
    "J_jac_zero_aTc = Kinetic.jacobian([U, V, A, B, C, D, E, F, aTc]).subs([(aTc, 0)])\n",
    "hprint(r\"J= \\frac{\\partial \\boldsymbol{f}_i}{\\partial u_j} = \", J_jac_zero_aTc)"
   ]
  },
  {
   "cell_type": "code",
   "execution_count": 78,
   "id": "eac77c30",
   "metadata": {
    "ExecuteTime": {
     "end_time": "2022-11-03T08:49:08.754377Z",
     "start_time": "2022-11-03T08:49:08.632179Z"
    }
   },
   "outputs": [
    {
     "data": {
      "text/latex": [
       "$J|_{(u^*, v^*)} =\\left[\\begin{matrix}- \\mu_{U} & 0 & 1 & 0 & 0 & 0 & - c_{1} & 0 & 0\\\\0 & - \\mu_{V} & 0 & 1 & 0 & 0 & 0 & 0 & 0\\\\0 & 0 & -1 & 0 & 0 & - \\frac{b_{A} n \\left(\\frac{b_{D} \\left(K_{BD}^{n} b_{D} + V^{n} b_{D} + V^{n}\\right)}{K_{DA} \\left(K_{BD}^{n} + V^{n}\\right)}\\right)^{n} \\left(K_{BD}^{n} + V^{n}\\right)}{b_{D} \\left(\\left(\\frac{b_{D} \\left(K_{BD}^{n} b_{D} + V^{n} b_{D} + V^{n}\\right)}{K_{DA} \\left(K_{BD}^{n} + V^{n}\\right)}\\right)^{n} + 1\\right)^{2} \\left(K_{BD}^{n} b_{D} + V^{n} b_{D} + V^{n}\\right)} & 0 & 0 & 0\\\\\\frac{b_{B} \\mu_{B} n \\left(\\frac{K_{AB}}{- \\frac{E c_{1}}{\\mu_{U}} + \\frac{b_{A}^{2} \\left(K_{DA} \\left(K_{BD}^{n} + V^{n}\\right)\\right)^{n} + b_{A}^{2} \\left(b_{D} \\left(K_{BD}^{n} b_{D} + V^{n} b_{D} + V^{n}\\right)\\right)^{n} + b_{C} \\left(K_{DA} \\left(K_{BD}^{n} + V^{n}\\right)\\right)^{n}}{\\mu_{U} \\left(K_{DA}^{n} \\left(K_{BD}^{n} + V^{n}\\right)^{n} + \\left(b_{D} \\left(K_{BD}^{n} b_{D} + V^{n} b_{D} + V^{n}\\right)\\right)^{n}\\right)}}\\right)^{n}}{\\left(\\left(\\frac{E}{K_{EB}}\\right)^{n} + 1\\right) \\left(\\left(\\frac{K_{AB}}{- \\frac{E c_{1}}{\\mu_{U}} + \\frac{b_{A}^{2} \\left(K_{DA} \\left(K_{BD}^{n} + V^{n}\\right)\\right)^{n} + b_{A}^{2} \\left(b_{D} \\left(K_{BD}^{n} b_{D} + V^{n} b_{D} + V^{n}\\right)\\right)^{n} + b_{C} \\left(K_{DA} \\left(K_{BD}^{n} + V^{n}\\right)\\right)^{n}}{\\mu_{U} \\left(K_{DA}^{n} \\left(K_{BD}^{n} + V^{n}\\right)^{n} + \\left(b_{D} \\left(K_{BD}^{n} b_{D} + V^{n} b_{D} + V^{n}\\right)\\right)^{n}\\right)}}\\right)^{n} + 1\\right)^{2} \\left(- \\frac{E c_{1}}{\\mu_{U}} + \\frac{b_{A}^{2} \\left(K_{DA} \\left(K_{BD}^{n} + V^{n}\\right)\\right)^{n} + b_{A}^{2} \\left(b_{D} \\left(K_{BD}^{n} b_{D} + V^{n} b_{D} + V^{n}\\right)\\right)^{n} + b_{C} \\left(K_{DA} \\left(K_{BD}^{n} + V^{n}\\right)\\right)^{n}}{\\mu_{U} \\left(K_{DA}^{n} \\left(K_{BD}^{n} + V^{n}\\right)^{n} + \\left(b_{D} \\left(K_{BD}^{n} b_{D} + V^{n} b_{D} + V^{n}\\right)\\right)^{n}\\right)}\\right)} & 0 & 0 & - \\mu_{B} & 0 & 0 & - \\frac{b_{B} \\mu_{B} n \\left(\\frac{E}{K_{EB}}\\right)^{n}}{E \\left(\\left(\\frac{E}{K_{EB}}\\right)^{n} + 1\\right)^{2} \\left(\\left(\\frac{K_{AB}}{- \\frac{E c_{1}}{\\mu_{U}} + \\frac{b_{A}^{2} \\left(K_{DA} \\left(K_{BD}^{n} + V^{n}\\right)\\right)^{n} + b_{A}^{2} \\left(b_{D} \\left(K_{BD}^{n} b_{D} + V^{n} b_{D} + V^{n}\\right)\\right)^{n} + b_{C} \\left(K_{DA} \\left(K_{BD}^{n} + V^{n}\\right)\\right)^{n}}{\\mu_{U} \\left(K_{DA}^{n} \\left(K_{BD}^{n} + V^{n}\\right)^{n} + \\left(b_{D} \\left(K_{BD}^{n} b_{D} + V^{n} b_{D} + V^{n}\\right)\\right)^{n}\\right)}}\\right)^{n} + 1\\right)} & 0 & 0\\\\0 & 0 & 0 & 0 & - \\mu_{C} & - \\frac{b_{C} \\mu_{C} n \\left(\\frac{b_{D} \\left(K_{BD}^{n} b_{D} + V^{n} b_{D} + V^{n}\\right)}{K_{DA} \\left(K_{BD}^{n} + V^{n}\\right)}\\right)^{n} \\left(K_{BD}^{n} + V^{n}\\right)}{b_{D} \\left(\\left(\\frac{b_{D} \\left(K_{BD}^{n} b_{D} + V^{n} b_{D} + V^{n}\\right)}{K_{DA} \\left(K_{BD}^{n} + V^{n}\\right)}\\right)^{n} + 1\\right)^{2} \\left(K_{BD}^{n} b_{D} + V^{n} b_{D} + V^{n}\\right)} & 0 & 0 & 0\\\\0 & \\frac{b_{D} \\mu_{D} n \\left(\\frac{K_{BD}}{V}\\right)^{n}}{V \\left(\\left(\\frac{K_{BD}}{V}\\right)^{n} + 1\\right)^{2}} & 0 & 0 & 0 & - \\mu_{D} & 0 & 0 & 0\\\\0 & 0 & 0 & 0 & - \\frac{b_{E} \\mu_{E} n \\left(\\frac{b_{C} \\left(b_{C} \\left(b_{D} \\left(K_{BD}^{n} b_{D} + V^{n} b_{D} + V^{n}\\right)\\right)^{n} + \\left(K_{DA} \\left(K_{BD}^{n} + V^{n}\\right)\\right)^{n} \\left(b_{C} + 1\\right)\\right)}{K_{CE} \\left(K_{DA}^{n} \\left(K_{BD}^{n} + V^{n}\\right)^{n} + \\left(b_{D} \\left(K_{BD}^{n} b_{D} + V^{n} b_{D} + V^{n}\\right)\\right)^{n}\\right)}\\right)^{n} \\left(K_{DA}^{n} \\left(K_{BD}^{n} + V^{n}\\right)^{n} + \\left(b_{D} \\left(K_{BD}^{n} b_{D} + V^{n} b_{D} + V^{n}\\right)\\right)^{n}\\right)}{b_{C} \\left(\\left(\\frac{K_{EE}}{E}\\right)^{n} + 1\\right) \\left(b_{C} \\left(b_{D} \\left(K_{BD}^{n} b_{D} + V^{n} b_{D} + V^{n}\\right)\\right)^{n} + \\left(K_{DA} \\left(K_{BD}^{n} + V^{n}\\right)\\right)^{n} \\left(b_{C} + 1\\right)\\right) \\left(\\left(\\frac{K_{BD}^{n} b_{F}^{2} + V^{n} b_{D} + V^{n} b_{F}^{2}}{K_{FE} \\left(K_{BD}^{n} + V^{n}\\right)}\\right)^{n} + 1\\right) \\left(\\left(\\frac{b_{C} \\left(b_{C} \\left(b_{D} \\left(K_{BD}^{n} b_{D} + V^{n} b_{D} + V^{n}\\right)\\right)^{n} + \\left(K_{DA} \\left(K_{BD}^{n} + V^{n}\\right)\\right)^{n} \\left(b_{C} + 1\\right)\\right)}{K_{CE} \\left(K_{DA}^{n} \\left(K_{BD}^{n} + V^{n}\\right)^{n} + \\left(b_{D} \\left(K_{BD}^{n} b_{D} + V^{n} b_{D} + V^{n}\\right)\\right)^{n}\\right)}\\right)^{n} + 1\\right)^{2}} & 0 & \\mu_{E} \\left(-1 + \\frac{b_{E} n \\left(\\frac{K_{EE}}{E}\\right)^{n}}{E \\left(\\left(\\frac{K_{EE}}{E}\\right)^{n} + 1\\right)^{2} \\left(\\left(\\frac{K_{BD}^{n} b_{F}^{2} + V^{n} b_{D} + V^{n} b_{F}^{2}}{K_{FE} \\left(K_{BD}^{n} + V^{n}\\right)}\\right)^{n} + 1\\right) \\left(\\left(\\frac{b_{C} \\left(b_{C} \\left(b_{D} \\left(K_{BD}^{n} b_{D} + V^{n} b_{D} + V^{n}\\right)\\right)^{n} + \\left(K_{DA} \\left(K_{BD}^{n} + V^{n}\\right)\\right)^{n} \\left(b_{C} + 1\\right)\\right)}{K_{CE} \\left(K_{DA}^{n} \\left(K_{BD}^{n} + V^{n}\\right)^{n} + \\left(b_{D} \\left(K_{BD}^{n} b_{D} + V^{n} b_{D} + V^{n}\\right)\\right)^{n}\\right)}\\right)^{n} + 1\\right)}\\right) & - \\frac{b_{E} \\mu_{E} n \\left(\\frac{K_{BD}^{n} b_{F}^{2} + V^{n} b_{D} + V^{n} b_{F}^{2}}{K_{FE} \\left(K_{BD}^{n} + V^{n}\\right)}\\right)^{n} \\left(K_{BD}^{n} + V^{n}\\right)}{\\left(\\left(\\frac{K_{EE}}{E}\\right)^{n} + 1\\right) \\left(\\left(\\frac{K_{BD}^{n} b_{F}^{2} + V^{n} b_{D} + V^{n} b_{F}^{2}}{K_{FE} \\left(K_{BD}^{n} + V^{n}\\right)}\\right)^{n} + 1\\right)^{2} \\left(\\left(\\frac{b_{C} \\left(b_{C} \\left(b_{D} \\left(K_{BD}^{n} b_{D} + V^{n} b_{D} + V^{n}\\right)\\right)^{n} + \\left(K_{DA} \\left(K_{BD}^{n} + V^{n}\\right)\\right)^{n} \\left(b_{C} + 1\\right)\\right)}{K_{CE} \\left(K_{DA}^{n} \\left(K_{BD}^{n} + V^{n}\\right)^{n} + \\left(b_{D} \\left(K_{BD}^{n} b_{D} + V^{n} b_{D} + V^{n}\\right)\\right)^{n}\\right)}\\right)^{n} + 1\\right) \\left(K_{BD}^{n} b_{F}^{2} + V^{n} b_{D} + V^{n} b_{F}^{2}\\right)} & \\frac{b_{E} \\mu_{E} n n_{aTc} \\left(\\frac{b_{C} \\left(b_{C} \\left(b_{D} \\left(K_{BD}^{n} b_{D} + V^{n} b_{D} + V^{n}\\right)\\right)^{n} + \\left(K_{DA} \\left(K_{BD}^{n} + V^{n}\\right)\\right)^{n} \\left(b_{C} + 1\\right)\\right)}{K_{CE} \\left(K_{DA}^{n} \\left(K_{BD}^{n} + V^{n}\\right)^{n} + \\left(b_{D} \\left(K_{BD}^{n} b_{D} + V^{n} b_{D} + V^{n}\\right)\\right)^{n}\\right)}\\right)^{n}}{K_{aTc} \\left(\\left(\\frac{K_{EE}}{E}\\right)^{n} + 1\\right) \\left(\\left(\\frac{K_{BD}^{n} b_{F}^{2} + V^{n} b_{D} + V^{n} b_{F}^{2}}{K_{FE} \\left(K_{BD}^{n} + V^{n}\\right)}\\right)^{n} + 1\\right) \\left(\\left(\\frac{b_{C} \\left(b_{C} \\left(b_{D} \\left(K_{BD}^{n} b_{D} + V^{n} b_{D} + V^{n}\\right)\\right)^{n} + \\left(K_{DA} \\left(K_{BD}^{n} + V^{n}\\right)\\right)^{n} \\left(b_{C} + 1\\right)\\right)}{K_{CE} \\left(K_{DA}^{n} \\left(K_{BD}^{n} + V^{n}\\right)^{n} + \\left(b_{D} \\left(K_{BD}^{n} b_{D} + V^{n} b_{D} + V^{n}\\right)\\right)^{n}\\right)}\\right)^{n} + 1\\right)^{2}}\\\\0 & \\frac{b_{F} \\mu_{F} n \\left(\\frac{K_{BD}}{V}\\right)^{n}}{V \\left(\\left(\\frac{K_{BD}}{V}\\right)^{n} + 1\\right)^{2}} & 0 & 0 & 0 & 0 & 0 & - \\mu_{F} & 0\\\\0 & 0 & 0 & 0 & 0 & 0 & 0 & 0 & - \\mu_{aTc}\\end{matrix}\\right]$"
      ],
      "text/plain": [
       "<IPython.core.display.Latex object>"
      ]
     },
     "metadata": {},
     "output_type": "display_data"
    }
   ],
   "source": [
    "J = J_jac.subs([(U, U_star), (A, A_star), (B, B_star),\n",
    "                (C, C_star), (D, D_star), (F, F_star),\n",
    "                (aTc, 0)])\n",
    "hprint(\"J|_{(u^*, v^*)} =\", J)"
   ]
  },
  {
   "cell_type": "code",
   "execution_count": 79,
   "id": "a0e77f0f",
   "metadata": {
    "ExecuteTime": {
     "end_time": "2022-11-03T08:49:10.072515Z",
     "start_time": "2022-11-03T08:49:09.990620Z"
    }
   },
   "outputs": [],
   "source": [
    "J_f = lambdify([n, b_A, b_B, b_C, b_D, b_E, b_F,\n",
    "                     μ_V, μ_U, μ_B, μ_C, μ_D, μ_E, μ_F, μ_aTc, n_aTc,\n",
    "                     K_AB, K_BD, K_CE, K_DA, K_EB, K_EE, K_FE, K_aTc,  K_A, c_1, \n",
    "                     V, E], \n",
    "              J,\n",
    "              modules='numpy')\n"
   ]
  },
  {
   "cell_type": "code",
   "execution_count": 117,
   "id": "b21f8d39",
   "metadata": {
    "ExecuteTime": {
     "end_time": "2022-11-03T09:03:58.603410Z",
     "start_time": "2022-11-03T09:03:58.595809Z"
    }
   },
   "outputs": [],
   "source": [
    "M = J_f(n=3, b_A=.1, b_B=.1, b_C=.1, b_D=.1, b_E=.1, b_F=.1, \n",
    "          mu_V=1000, mu_U=1000, mu_B=0.5, mu_C=0.5, mu_D=0.5, mu_E=0.5, mu_F=0.5, mu_aTc=0.5, n_aTc=3,\n",
    "          K_AB=1, K_BD=1, K_CE=1, K_DA=1, K_EB=1, K_EE=1, K_FE=1, K_aTc=1,  K_A=K_A_val, c_1=c_1_val, \n",
    "          V=V_s, E=E_s)"
   ]
  },
  {
   "cell_type": "code",
   "execution_count": 118,
   "id": "a8edf15b",
   "metadata": {
    "ExecuteTime": {
     "end_time": "2022-11-03T09:03:59.979792Z",
     "start_time": "2022-11-03T09:03:59.971340Z"
    }
   },
   "outputs": [
    {
     "data": {
      "text/latex": [
       "$\\displaystyle -0.499985019684137$"
      ],
      "text/plain": [
       "-0.49998501968413667"
      ]
     },
     "execution_count": 118,
     "metadata": {},
     "output_type": "execute_result"
    }
   ],
   "source": [
    "from numpy import linalg\n",
    "np.max(np.real(linalg.eigvals(M)))"
   ]
  },
  {
   "cell_type": "code",
   "execution_count": 119,
   "id": "ce673619",
   "metadata": {
    "ExecuteTime": {
     "end_time": "2022-11-03T09:04:03.192966Z",
     "start_time": "2022-11-03T09:04:03.188238Z"
    }
   },
   "outputs": [],
   "source": [
    "k = symbols('k')"
   ]
  },
  {
   "cell_type": "code",
   "execution_count": 120,
   "id": "2a99497b",
   "metadata": {
    "ExecuteTime": {
     "end_time": "2022-11-03T09:04:03.827824Z",
     "start_time": "2022-11-03T09:04:03.816918Z"
    }
   },
   "outputs": [],
   "source": [
    "J_2 = J - Matrix([[k**2,   0, 0, 0, 0, 0, 0, 0, 0], \n",
    "                  [0, D*k**2, 0, 0, 0, 0, 0, 0, 0],\n",
    "                  [0,      0, 0, 0, 0, 0, 0, 0, 0],\n",
    "                  [0,      0, 0, 0, 0, 0, 0, 0, 0],\n",
    "                  [0,      0, 0, 0, 0, 0, 0, 0, 0],\n",
    "                  [0,      0, 0, 0, 0, 0, 0, 0, 0],\n",
    "                  [0,      0, 0, 0, 0, 0, 0, 0, 0],\n",
    "                  [0,      0, 0, 0, 0, 0, 0, 0, 0],\n",
    "                  [0,      0, 0, 0, 0, 0, 0, 0, 0]\n",
    "                 ])"
   ]
  },
  {
   "cell_type": "code",
   "execution_count": 121,
   "id": "618a21b7",
   "metadata": {
    "ExecuteTime": {
     "end_time": "2022-11-03T09:04:19.246308Z",
     "start_time": "2022-11-03T09:04:18.788235Z"
    }
   },
   "outputs": [],
   "source": [
    "J_2_s = J_2.subs([(n,3), (b_A,.1), (b_B,.1), (b_C,.1), (b_D,.1), (b_E,.1), (b_F,.1), \n",
    "          (μ_V,1000), (μ_U,1000), (μ_B,0.5), (μ_C,0.5), (μ_D,0.5), (μ_E,0.5), (μ_F,0.5), \n",
    "          (μ_aTc,0.5), (n_aTc,3),\n",
    "          (K_AB,1), (K_BD,1), (K_CE,1), (K_DA,1), (K_EB,1), (K_EE,1), (K_FE,1), (K_aTc,1),  \n",
    "                  (K_A,K_A_val), (c_1,c_1_val), \n",
    "          (V,V_s), (E,E_s), (D, 2)])"
   ]
  },
  {
   "cell_type": "code",
   "execution_count": 122,
   "id": "91442198",
   "metadata": {
    "ExecuteTime": {
     "end_time": "2022-11-03T09:04:20.161293Z",
     "start_time": "2022-11-03T09:04:20.136038Z"
    }
   },
   "outputs": [
    {
     "data": {
      "text/latex": [
       "$\\displaystyle \\left[\\begin{matrix}- k^{2} - 1000 & 0 & 1 & 0 & 0 & 0 & 0 & 0 & 0\\\\0 & - 2 k^{2} - 1000 & 0 & 1 & 0 & 0 & 0 & 0 & 0\\\\0 & 0 & -1 & 0 & 0 & -2.99999400000906 \\cdot 10^{-5} & 0 & 0 & 0\\\\1.8149948849507 \\cdot 10^{-9} & 0 & 0 & -0.5 & 0 & 0 & -1.99653043995456 \\cdot 10^{-17} & 0 & 0\\\\0 & 0 & 0 & 0 & -0.5 & -1.49999700000453 \\cdot 10^{-5} & 0 & 0 & 0\\\\0 & 1.50000000003993 \\cdot 10^{-11} & 0 & 0 & 0 & -0.5 & 0 & 0 & 0\\\\0 & 0 & 0 & 0 & -1.8102254355674 \\cdot 10^{-9} & 0 & -0.499985019684137 & -1.49804654720302 \\cdot 10^{-11} & 5.97373850670156 \\cdot 10^{-10}\\\\0 & 1.50000000003993 \\cdot 10^{-11} & 0 & 0 & 0 & 0 & 0 & -0.5 & 0\\\\0 & 0 & 0 & 0 & 0 & 0 & 0 & 0 & -0.5\\end{matrix}\\right]$"
      ],
      "text/plain": [
       "⎡      2                                                                      \n",
       "⎢   - k  - 1000               0            1    0             0               \n",
       "⎢                                                                             \n",
       "⎢                            2                                                \n",
       "⎢        0              - 2⋅k  - 1000      0    1             0               \n",
       "⎢                                                                             \n",
       "⎢        0                    0            -1   0             0           -2.9\n",
       "⎢                                                                             \n",
       "⎢1.8149948849507e-9           0            0   -0.5           0               \n",
       "⎢                                                                             \n",
       "⎢        0                    0            0    0           -0.5          -1.4\n",
       "⎢                                                                             \n",
       "⎢        0           1.50000000003993e-11  0    0             0               \n",
       "⎢                                                                             \n",
       "⎢        0                    0            0    0    -1.8102254355674e-9      \n",
       "⎢                                                                             \n",
       "⎢        0           1.50000000003993e-11  0    0             0               \n",
       "⎢                                                                             \n",
       "⎣        0                    0            0    0             0               \n",
       "\n",
       "                                                                              \n",
       "     0                      0                      0                     0    \n",
       "                                                                              \n",
       "                                                                              \n",
       "     0                      0                      0                     0    \n",
       "                                                                              \n",
       "9999400000906e-5            0                      0                     0    \n",
       "                                                                              \n",
       "     0            -1.99653043995456e-17            0                     0    \n",
       "                                                                              \n",
       "9999700000453e-5            0                      0                     0    \n",
       "                                                                              \n",
       "    -0.5                    0                      0                     0    \n",
       "                                                                              \n",
       "     0             -0.499985019684137    -1.49804654720302e-11  5.973738506701\n",
       "                                                                              \n",
       "     0                      0                    -0.5                    0    \n",
       "                                                                              \n",
       "     0                      0                      0                    -0.5  \n",
       "\n",
       "      ⎤\n",
       "      ⎥\n",
       "      ⎥\n",
       "      ⎥\n",
       "      ⎥\n",
       "      ⎥\n",
       "      ⎥\n",
       "      ⎥\n",
       "      ⎥\n",
       "      ⎥\n",
       "      ⎥\n",
       "      ⎥\n",
       "      ⎥\n",
       "      ⎥\n",
       "56e-10⎥\n",
       "      ⎥\n",
       "      ⎥\n",
       "      ⎥\n",
       "      ⎦"
      ]
     },
     "execution_count": 122,
     "metadata": {},
     "output_type": "execute_result"
    }
   ],
   "source": [
    "J_2_s"
   ]
  },
  {
   "cell_type": "code",
   "execution_count": 89,
   "id": "c0a39634",
   "metadata": {
    "ExecuteTime": {
     "end_time": "2022-11-03T08:49:53.584885Z",
     "start_time": "2022-11-03T08:49:53.568833Z"
    }
   },
   "outputs": [],
   "source": [
    "J_2_s_f = lambdify([k], J_2_s, modules='numpy')"
   ]
  },
  {
   "cell_type": "code",
   "execution_count": 123,
   "id": "2b836906",
   "metadata": {
    "ExecuteTime": {
     "end_time": "2022-11-03T09:04:31.378531Z",
     "start_time": "2022-11-03T09:04:30.992591Z"
    }
   },
   "outputs": [],
   "source": [
    "J_2_as_D = J_2.subs([(n,3), (b_A,.1), (b_B,.1), (b_C,.1), (b_D,.1), (b_E,.1), (b_F,.1), \n",
    "          (μ_V,1000), (μ_U,1000), (μ_B,0.5), (μ_C,0.5), (μ_D,0.5), (μ_E,0.5), (μ_F,0.5), \n",
    "          (μ_aTc,0.5), (n_aTc,3),\n",
    "          (K_AB,1), (K_BD,1), (K_CE,1), (K_DA,1), (K_EB,1), (K_EE,1), (K_FE,1), (K_aTc,1), \n",
    "                     (K_A,K_A_val), (c_1,c_1_val), \n",
    "          (V,V_s), (E,E_s)])\n",
    "\n",
    "J_2_as_D_f = lambdify([D,k], J_2_as_D, modules='numpy')"
   ]
  },
  {
   "cell_type": "code",
   "execution_count": 124,
   "id": "d34bc1bd",
   "metadata": {
    "ExecuteTime": {
     "end_time": "2022-11-03T09:04:32.213684Z",
     "start_time": "2022-11-03T09:04:32.206502Z"
    }
   },
   "outputs": [
    {
     "name": "stdout",
     "output_type": "stream",
     "text": [
      "-0.49998501968413706\n",
      "-0.499985019684137\n"
     ]
    }
   ],
   "source": [
    "print(np.max(np.real(linalg.eigvals(J_2_as_D_f(0, 10)))))\n",
    "print(np.max(np.real(linalg.eigvals(J_2_as_D_f(10, 10)))))\n",
    "#print(linalg.eigvals(J_2_as_D_f(2)))"
   ]
  },
  {
   "cell_type": "code",
   "execution_count": 125,
   "id": "64f7561c",
   "metadata": {
    "ExecuteTime": {
     "end_time": "2022-11-03T09:04:37.311676Z",
     "start_time": "2022-11-03T09:04:37.235113Z"
    }
   },
   "outputs": [
    {
     "name": "stdout",
     "output_type": "stream",
     "text": [
      "0.1 -0.49998501968413694\n",
      "1 -0.49998501968413694\n",
      "10 -0.49998501968413694\n"
     ]
    }
   ],
   "source": [
    "ks = np.linspace(0, 100, 500)\n",
    "for ddd in [0.1, 1, 10]:\n",
    "    print(ddd, np.max([np.max(np.real(linalg.eigvals(J_2_as_D_f(ddd, k)))) for k in ks]))\n",
    "    "
   ]
  },
  {
   "cell_type": "code",
   "execution_count": 126,
   "id": "fff3636f",
   "metadata": {
    "ExecuteTime": {
     "end_time": "2022-11-03T09:04:57.464588Z",
     "start_time": "2022-11-03T09:04:57.422666Z"
    }
   },
   "outputs": [
    {
     "data": {
      "text/latex": [
       "$\\displaystyle -0.491767051463204$"
      ],
      "text/plain": [
       "-0.49176705146320354"
      ]
     },
     "execution_count": 126,
     "metadata": {},
     "output_type": "execute_result"
    }
   ],
   "source": [
    "ks = np.linspace(0, 100, 500)\n",
    "np.max([np.max(np.real(linalg.eigvals(J_2_s_f(k)))) for k in ks])"
   ]
  },
  {
   "cell_type": "code",
   "execution_count": 32,
   "id": "48b35421",
   "metadata": {
    "ExecuteTime": {
     "end_time": "2022-11-01T20:01:36.739112Z",
     "start_time": "2022-11-01T20:01:36.723836Z"
    },
    "scrolled": true
   },
   "outputs": [],
   "source": [
    "Ds = np.r_[(0,), np.logspace(-4, 4, 9)]\n",
    "def get_max(d_val, \n",
    "            μ_U_val=1000, \n",
    "            μ_V_val=1000,\n",
    "            μ_B_val=1,\n",
    "            μ_C_val=1,\n",
    "            μ_D_val=1,\n",
    "            μ_E_val=1,\n",
    "            μ_F_val=1):\n",
    "    J_2_s = J_2.subs([(n,3), (b_A,.1), (b_B,.1), (b_C,.1), (b_D,.1), (b_E,.1), (b_F,.1), \n",
    "          (μ_V,μ_V_val), (μ_U, μ_U_val), (μ_B,μ_B_val), (μ_C,μ_C_val), \n",
    "                      (μ_D,μ_D_val), (μ_E,μ_E_val), (μ_F,μ_F_val), \n",
    "          (μ_aTc,0.5), (n_aTc,3),\n",
    "          (K_AB,1), (K_BD,1), (K_CE,1), (K_DA,1), (K_EB,1), (K_EE,1), (K_FE,1), (K_aTc,1),\n",
    "          (V,V_s), (E,E_s), (D, d_val)])\n",
    "    J_2_s_f = lambdify([k], J_2_s, modules='numpy')\n",
    "    return np.max([np.max(np.real(linalg.eigvals(J_2_s_f(k)))) for k in ks])\n",
    "\n",
    "\n",
    "def is_constant(args):\n",
    "    μ_U_val, μ_V_val, μ_B_val,μ_C_val,μ_D_val,μ_E_val = args\n",
    "    a = np.array([get_max(d_val, μ_U_val, μ_V_val, μ_B_val,μ_C_val) for d_val in Ds])\n",
    "    return np.all(np.isclose(a[1:] - a[:-1], 0, atol=1e-10))\n",
    "    "
   ]
  },
  {
   "cell_type": "code",
   "execution_count": 33,
   "id": "af043dd2",
   "metadata": {
    "ExecuteTime": {
     "end_time": "2022-11-01T20:01:39.561934Z",
     "start_time": "2022-11-01T20:01:39.553297Z"
    }
   },
   "outputs": [],
   "source": [
    "vals = np.logspace(-3, 2, 6)\n",
    "(vals_1, vals_2, vals_3, vals_4, vals_5, vals_6) = np.meshgrid(vals, vals, vals, vals, vals, vals)"
   ]
  },
  {
   "cell_type": "code",
   "execution_count": null,
   "id": "b801a91c",
   "metadata": {
    "ExecuteTime": {
     "start_time": "2022-11-01T20:01:45.839Z"
    }
   },
   "outputs": [],
   "source": [
    "with Pool(16) as pool:\n",
    "    res = pool.map(is_constant, zip(vals_1.flatten(), \n",
    "                                     vals_2.flatten(),\n",
    "                                     vals_3.flatten(),\n",
    "                                     vals_4.flatten(),\n",
    "                                     vals_5.flatten(),\n",
    "                                     vals_6.flatten()))"
   ]
  },
  {
   "cell_type": "code",
   "execution_count": 51,
   "id": "354ced1b",
   "metadata": {
    "ExecuteTime": {
     "end_time": "2022-11-02T08:19:28.236832Z",
     "start_time": "2022-11-02T08:19:28.222981Z"
    }
   },
   "outputs": [
    {
     "data": {
      "text/plain": [
       "False"
      ]
     },
     "execution_count": 51,
     "metadata": {},
     "output_type": "execute_result"
    }
   ],
   "source": [
    "np.all(res)"
   ]
  },
  {
   "cell_type": "code",
   "execution_count": 55,
   "id": "9e4e0ff8",
   "metadata": {
    "ExecuteTime": {
     "end_time": "2022-11-02T08:20:04.024157Z",
     "start_time": "2022-11-02T08:20:04.009755Z"
    }
   },
   "outputs": [
    {
     "data": {
      "text/plain": [
       "(array([ 1296,  1297,  1298, ..., 11661, 11662, 11663]),)"
      ]
     },
     "execution_count": 55,
     "metadata": {},
     "output_type": "execute_result"
    }
   ],
   "source": [
    "np.where(np.array(res) == False)"
   ]
  },
  {
   "cell_type": "code",
   "execution_count": 63,
   "id": "412891be",
   "metadata": {
    "ExecuteTime": {
     "end_time": "2022-11-02T08:24:14.766808Z",
     "start_time": "2022-11-02T08:24:14.758988Z"
    }
   },
   "outputs": [
    {
     "name": "stdout",
     "output_type": "stream",
     "text": [
      "0.1\n",
      "0.01\n",
      "100.0\n",
      "100.0\n",
      "100.0\n",
      "10.0\n"
     ]
    }
   ],
   "source": [
    "print(vals_1.flatten()[11662])\n",
    "print(vals_2.flatten()[11662])\n",
    "print(vals_3.flatten()[11662])\n",
    "print(vals_4.flatten()[11662])\n",
    "print(vals_5.flatten()[11662])\n",
    "print(vals_6.flatten()[11662])"
   ]
  },
  {
   "cell_type": "code",
   "execution_count": 65,
   "id": "f0a2e47d",
   "metadata": {
    "ExecuteTime": {
     "end_time": "2022-11-02T08:24:45.266816Z",
     "start_time": "2022-11-02T08:24:41.719285Z"
    }
   },
   "outputs": [
    {
     "name": "stdout",
     "output_type": "stream",
     "text": [
      "11662 3.299284441135586e-09\n"
     ]
    }
   ],
   "source": [
    "index = 11662\n",
    "μ_U_val, μ_V_val, μ_B_val,μ_C_val,μ_D_val,μ_E_val=(vals_1.flatten()[index],\n",
    "                                                   vals_2.flatten()[index],\n",
    "                                                   vals_3.flatten()[index],\n",
    "                                                   vals_4.flatten()[index],\n",
    "                                                   vals_5.flatten()[index],\n",
    "                                                   vals_6.flatten()[index])\n",
    "a = np.array([get_max(d_val, μ_U_val, μ_V_val, μ_B_val,μ_C_val,μ_D_val,μ_E_val) for d_val in Ds])\n",
    "print(index, np.max(np.abs(a[1:] - a[:-1])))"
   ]
  },
  {
   "cell_type": "code",
   "execution_count": 66,
   "id": "6cc468a1",
   "metadata": {
    "ExecuteTime": {
     "end_time": "2022-11-02T08:56:44.092205Z",
     "start_time": "2022-11-02T08:25:00.053275Z"
    }
   },
   "outputs": [
    {
     "name": "stdout",
     "output_type": "stream",
     "text": [
      "1296 0.0\n",
      "1297 0.0\n",
      "1298 0.0\n",
      "1299 0.0\n",
      "1300 0.0\n",
      "1301 0.0\n",
      "1302 1.367494680210371e-09\n",
      "1303 4.160104023417932e-10\n",
      "1304 4.0741935389623785e-10\n",
      "1305 4.0160804282846074e-10\n",
      "1306 4.636389323679768e-10\n",
      "1307 4.040917656912557e-10\n",
      "1308 1.5421181512754317e-09\n",
      "1309 4.0419731147170457e-10\n",
      "1310 3.908868630251444e-10\n",
      "1311 3.8974835359952e-10\n",
      "1312 5.017193088936722e-10\n",
      "1313 4.021494285581101e-10\n",
      "1314 1.540895749104626e-09\n",
      "1315 4.085384329010483e-10\n",
      "1316 3.918175460731338e-10\n",
      "1317 3.8858262874780225e-10\n",
      "1318 4.50413397768204e-10\n",
      "1319 1.2762999077736703e-09\n",
      "1320 1.5407727463681575e-09\n",
      "1321 6.083774989860957e-10\n",
      "1322 8.746627133508766e-10\n",
      "1323 7.861412569098308e-10\n",
      "1324 5.481463724761604e-10\n",
      "1325 2.4664161685228336e-09\n",
      "1326 1.5399663224301141e-09\n",
      "1327 3.365565578831997e-09\n",
      "1328 1.776704776790955e-09\n",
      "1329 3.538833346587028e-09\n",
      "1330 1.5100941536724116e-09\n",
      "1331 3.9404742509328156e-09\n",
      "2844 2.187919984075748e-16\n",
      "2845 0.0\n",
      "2846 0.0\n",
      "2847 0.0\n",
      "2848 0.0\n",
      "2849 0.0\n",
      "2850 3.9811903773667723e-16\n",
      "2851 3.6688029829857333e-09\n",
      "2852 3.668802995779319e-09\n",
      "2853 3.6688029829857333e-09\n",
      "2854 3.668803127184622e-09\n",
      "2855 3.66880309118911e-09\n",
      "2856 4.486428589745017e-16\n",
      "2857 3.3352740636590633e-09\n",
      "2858 3.33527405693701e-09\n",
      "2859 3.335274048480233e-09\n",
      "2860 3.335274207207431e-09\n",
      "2861 3.335274785087189e-09\n",
      "2862 4.150325916274511e-16\n",
      "2863 3.3052265009138326e-09\n",
      "2864 3.3052264365122236e-09\n",
      "2865 3.30522642979017e-09\n",
      "2866 3.3052264304406914e-09\n",
      "2867 3.3052265251999613e-09\n",
      "2868 4.473418163675191e-16\n",
      "2869 3.3022518929406997e-09\n",
      "2870 3.302251329589251e-09\n",
      "2871 3.3022517012537556e-09\n",
      "2872 3.302251137468626e-09\n",
      "2873 3.302248189089238e-09\n",
      "2874 4.2912721986976265e-16\n",
      "2875 3.3019959949903005e-09\n",
      "2876 3.3019785642719734e-09\n",
      "2877 3.3019883643754105e-09\n",
      "2878 3.3019776260034134e-09\n",
      "2879 3.3019956846916387e-09\n",
      "2880 2.6085904270001237e-16\n",
      "2881 0.0\n",
      "2882 0.0\n",
      "2883 0.0\n",
      "2884 0.0\n",
      "2885 0.0\n",
      "2886 5.561957144850638e-16\n",
      "2887 3.6688029836362546e-09\n",
      "2888 3.6688029840699354e-09\n",
      "2889 3.668802982768893e-09\n",
      "2890 3.6688029897077867e-09\n",
      "2891 3.6688138939627163e-09\n",
      "2892 4.579669976578771e-16\n",
      "2893 3.335274051515999e-09\n",
      "2894 3.3352740571538503e-09\n",
      "2895 3.335274059972776e-09\n",
      "2896 3.3352740621411803e-09\n",
      "2897 3.335274120471257e-09\n",
      "2898 3.953001120882149e-16\n",
      "2899 3.305226440198511e-09\n",
      "2900 3.305226426754404e-09\n",
      "2901 3.305226428705968e-09\n",
      "2902 3.3052263985651475e-09\n",
      "2903 3.305226350860252e-09\n",
      "2904 5.850354922731782e-16\n",
      "2905 3.3022508531908162e-09\n",
      "2906 3.302251645092083e-09\n",
      "2907 3.3022515498991323e-09\n",
      "2908 3.3022514241316803e-09\n",
      "2909 3.3022550939391937e-09\n",
      "2910 1.3222929695633212e-15\n",
      "2911 3.301970150429434e-09\n",
      "2912 3.3019845230471134e-09\n",
      "2913 3.301984281270029e-09\n",
      "2914 3.301987537562834e-09\n",
      "2915 3.3019765999144773e-09\n",
      "2916 8.868773770931426e-17\n",
      "2917 0.0\n",
      "2918 0.0\n",
      "2919 0.0\n",
      "2920 0.0\n",
      "2921 0.0\n",
      "2922 3.0401028916493544e-16\n",
      "2923 3.668802985370978e-09\n",
      "2924 3.6688029836362546e-09\n",
      "2925 3.668802983419414e-09\n",
      "2926 3.6688029836362546e-09\n",
      "2927 3.6688029829857333e-09\n",
      "2928 3.7621815385247004e-16\n",
      "2929 3.3352740536844033e-09\n",
      "2930 3.3352740543349246e-09\n",
      "2931 3.335274058021212e-09\n",
      "2932 3.3352740573706907e-09\n",
      "2933 3.3352740532507225e-09\n",
      "2934 4.601354020028481e-16\n",
      "2935 3.305226431308053e-09\n",
      "2936 3.305226426754404e-09\n",
      "2937 3.3052264295733297e-09\n",
      "2938 3.3052264295733297e-09\n",
      "2939 3.305226356931784e-09\n",
      "2940 2.7625471354930653e-15\n",
      "2941 3.302250946432203e-09\n",
      "2942 3.3022518688714114e-09\n",
      "2943 3.30225188318288e-09\n",
      "2944 3.3022518213833563e-09\n",
      "2945 3.302251605193443e-09\n",
      "2946 2.5370330836160804e-15\n",
      "2947 3.3019576710455883e-09\n",
      "2948 3.301982322550384e-09\n",
      "2949 3.3019670784509986e-09\n",
      "2950 3.30195705305035e-09\n",
      "2951 3.301978813638473e-09\n",
      "2952 5.2258544713801314e-17\n",
      "2953 0.0\n",
      "2954 0.0\n",
      "2955 0.0\n",
      "2956 0.0\n",
      "2957 0.0\n",
      "2958 4.464744546295307e-16\n",
      "2959 3.6688032904654694e-09\n",
      "2960 3.6688031328224735e-09\n",
      "2961 3.668802981901531e-09\n",
      "2962 3.668802982768893e-09\n",
      "2963 3.668802997730883e-09\n",
      "2964 4.102621020685149e-16\n",
      "2965 3.3352741482268328e-09\n",
      "2966 3.33527439130496e-09\n",
      "2967 3.3352740562864885e-09\n",
      "2968 3.335274054985446e-09\n",
      "2969 3.3352762916945278e-09\n",
      "2970 2.8041804989165087e-15\n",
      "2971 3.305228004268565e-09\n",
      "2972 3.3052268062251644e-09\n",
      "2973 3.3052264289228084e-09\n",
      "2974 3.3052264289228084e-09\n",
      "2975 3.3052264278386062e-09\n",
      "2976 4.40619762898109e-16\n",
      "2977 3.3022513124588565e-09\n",
      "2978 3.302253283538406e-09\n",
      "2979 3.3022514109044138e-09\n",
      "2980 3.3022514711860546e-09\n",
      "2981 3.302251165007361e-09\n",
      "2982 2.6558616417204917e-15\n",
      "2983 3.3019856705666928e-09\n",
      "2984 3.3019991415618455e-09\n",
      "2985 3.30195550589385e-09\n",
      "2986 3.3019644119641756e-09\n",
      "2987 3.3019802287391486e-09\n",
      "2988 0.0\n",
      "2989 0.0\n",
      "2990 0.0\n",
      "2991 0.0\n",
      "2992 0.0\n",
      "2993 0.0\n",
      "2994 2.7389115281328813e-15\n",
      "2995 3.6688029836362546e-09\n",
      "2996 3.668804859306013e-09\n",
      "2997 3.668803000766649e-09\n",
      "2998 3.6688029511101894e-09\n",
      "2999 3.6688029621690516e-09\n",
      "3000 4.436555289810684e-16\n",
      "3001 3.3352717970260015e-09\n",
      "3002 3.3352745394069766e-09\n",
      "3003 3.335274663439705e-09\n",
      "3004 3.3352774288057663e-09\n",
      "3005 3.3352740556359672e-09\n",
      "3006 2.7460672624712856e-15\n",
      "3007 3.3052263944451793e-09\n",
      "3008 3.305234181618863e-09\n",
      "3009 3.3052263591001885e-09\n",
      "3010 3.3052264310912127e-09\n",
      "3011 3.3052264289228084e-09\n",
      "3012 2.5843042983364484e-15\n",
      "3013 3.3022513558269434e-09\n",
      "3014 3.302257973146483e-09\n",
      "3015 3.3022517066747664e-09\n",
      "3016 3.3022572601751343e-09\n",
      "3017 3.3022525122369806e-09\n",
      "3018 1.220811646218678e-16\n",
      "3019 3.301975187849568e-09\n",
      "3020 3.3019798215128127e-09\n",
      "3021 3.301982849906321e-09\n",
      "3022 3.3019899568515615e-09\n",
      "3023 3.3019858091277304e-09\n",
      "3060 2.64328489651966e-16\n",
      "3061 0.0\n",
      "3062 0.0\n",
      "3063 0.0\n",
      "3064 0.0\n",
      "3065 0.0\n",
      "3066 3.445594504158933e-16\n",
      "3067 3.3352740562864885e-09\n",
      "3068 3.335274057587531e-09\n",
      "3069 3.3352740567201694e-09\n",
      "3070 3.3352740621411803e-09\n",
      "3071 3.335274253611284e-09\n",
      "3072 5.143455106271233e-16\n",
      "3073 3.0320662764392325e-09\n",
      "3074 3.032066275571871e-09\n",
      "3075 3.0320662764392325e-09\n",
      "3076 3.032066341491363e-09\n",
      "3077 3.032066766715455e-09\n",
      "3078 3.5106466345080634e-16\n",
      "3079 3.004750277584012e-09\n",
      "3080 3.00475027671665e-09\n",
      "3081 3.00475027671665e-09\n",
      "3082 3.0047502760661288e-09\n",
      "3083 3.00475021686869e-09\n",
      "3084 4.0679265511656126e-16\n",
      "3085 3.002045661105318e-09\n",
      "3086 3.0020452974639095e-09\n",
      "3087 3.0020456307476573e-09\n",
      "3088 3.002046292761504e-09\n",
      "3089 3.002046101725081e-09\n",
      "3090 3.426078865054194e-16\n",
      "3091 3.001785679832697e-09\n",
      "3092 3.001789241653674e-09\n",
      "3093 3.0017832854806192e-09\n",
      "3094 3.001779056224785e-09\n",
      "3095 3.0018042227256125e-09\n",
      "3096 1.3942839938163587e-16\n",
      "3097 0.0\n",
      "3098 0.0\n",
      "3099 0.0\n",
      "3100 0.0\n",
      "3101 0.0\n",
      "3102 5.102255423716784e-16\n",
      "3103 3.335274052600201e-09\n",
      "3104 3.33527405693701e-09\n",
      "3105 3.3352740552022864e-09\n",
      "3106 3.335274362898863e-09\n",
      "3107 3.335269050525058e-09\n",
      "3108 4.21320964227867e-16\n",
      "3109 3.032066278607637e-09\n",
      "3110 3.032066274704509e-09\n",
      "3111 3.032066272752945e-09\n",
      "3112 3.0320661367939927e-09\n",
      "3113 3.0320613166479743e-09\n",
      "3114 2.8124204354273985e-16\n",
      "3115 3.0047502984006935e-09\n",
      "3116 3.00475027671665e-09\n",
      "3117 3.004750275632448e-09\n",
      "3118 3.004750214700286e-09\n",
      "3119 3.00475022684335e-09\n",
      "3120 4.560154337474032e-16\n",
      "3121 3.0020456758504677e-09\n",
      "3122 3.00204560212472e-09\n",
      "3123 3.0020456353013064e-09\n",
      "3124 3.002046611300102e-09\n",
      "3125 3.002058803804053e-09\n",
      "3126 1.2095359436248287e-15\n",
      "3127 3.001783511428352e-09\n",
      "3128 3.0017930493717038e-09\n",
      "3129 3.0017809531449058e-09\n",
      "3130 3.0017854868447102e-09\n",
      "3131 3.0017862000328993e-09\n",
      "3132 1.1145598333150986e-16\n",
      "3133 0.0\n",
      "3134 0.0\n",
      "3135 0.0\n",
      "3136 0.0\n",
      "3137 0.0\n",
      "3138 2.5392014879610514e-16\n",
      "3139 3.3352740558528077e-09\n",
      "3140 3.3352740586717333e-09\n",
      "3141 3.335274054551765e-09\n",
      "3142 3.335274053033882e-09\n",
      "3143 3.335274054985446e-09\n",
      "3144 3.3610267347050637e-16\n",
      "3145 3.032066269283498e-09\n",
      "3146 3.03206627513819e-09\n",
      "3147 3.0320662729697856e-09\n",
      "3148 3.032066271235062e-09\n",
      "3149 3.0320662723192643e-09\n",
      "3150 4.371503159461554e-16\n",
      "3151 3.0047502769334905e-09\n",
      "3152 3.004750283221863e-09\n",
      "3153 3.004750276282969e-09\n",
      "3154 3.004750275632448e-09\n",
      "3155 3.004750277150331e-09\n",
      "3156 3.909633033982729e-16\n",
      "3157 3.0020459618630008e-09\n",
      "3158 3.002045692980862e-09\n",
      "3159 3.0020456407223173e-09\n",
      "3160 3.002045604726805e-09\n",
      "3161 3.002045633132902e-09\n",
      "3162 2.460705250673101e-15\n",
      "3163 3.0017838525183554e-09\n",
      "3164 3.0017870166539756e-09\n",
      "3165 3.0017929535282317e-09\n",
      "3166 3.001787013401369e-09\n",
      "3167 3.0017700326269436e-09\n",
      "3168 1.6024508109335756e-16\n",
      "3169 0.0\n",
      "3170 0.0\n",
      "3171 0.0\n",
      "3172 0.0\n",
      "3173 0.0\n",
      "3174 3.5106466345080634e-16\n",
      "3175 3.3352740222425403e-09\n",
      "3176 3.3352750333694864e-09\n",
      "3177 3.3352740552022864e-09\n"
     ]
    },
    {
     "name": "stdout",
     "output_type": "stream",
     "text": [
      "3178 3.33527405693701e-09\n",
      "3179 3.335274062574861e-09\n",
      "3180 2.92300905702092e-16\n",
      "3181 3.0320664076276954e-09\n",
      "3182 3.0320659919445825e-09\n",
      "3183 3.032066272102424e-09\n",
      "3184 3.0320662714519026e-09\n",
      "3185 3.0320783746175944e-09\n",
      "3186 3.3371742869103826e-16\n",
      "3187 3.004750243323223e-09\n",
      "3188 3.0047510944219286e-09\n",
      "3189 3.004750275632448e-09\n",
      "3190 3.0047502758492883e-09\n",
      "3191 3.0047509352610496e-09\n",
      "3192 4.360661137736699e-16\n",
      "3193 3.002046805372291e-09\n",
      "3194 3.0020458170135905e-09\n",
      "3195 3.0020459182780734e-09\n",
      "3196 3.0020456682610525e-09\n",
      "3197 3.0020461340343058e-09\n",
      "3198 2.4338170367954604e-15\n",
      "3199 3.0017852862673083e-09\n",
      "3200 3.0017856312604396e-09\n",
      "3201 3.0017794103252143e-09\n",
      "3202 3.001789661456755e-09\n",
      "3203 3.001778869742011e-09\n",
      "3204 1.1102230246251565e-16\n",
      "3205 0.0\n",
      "3206 0.0\n",
      "3207 0.0\n",
      "3208 0.0\n",
      "3209 0.0\n",
      "3210 3.608224830031759e-16\n",
      "3211 3.3352740523833607e-09\n",
      "3212 3.335291433878909e-09\n",
      "3213 3.3352766882956825e-09\n",
      "3214 3.3352743806797785e-09\n",
      "3215 3.3352740328677216e-09\n",
      "3216 3.673276960380889e-16\n",
      "3217 3.0320663703311407e-09\n",
      "3218 3.032081663653305e-09\n",
      "3219 3.032069377257446e-09\n",
      "3220 3.032065898920036e-09\n",
      "3221 3.0320662744876686e-09\n",
      "3222 2.475884081087898e-15\n",
      "3223 3.0047594306355924e-09\n",
      "3224 3.004751165979272e-09\n",
      "3225 3.0047502764998096e-09\n",
      "3226 3.004750281270299e-09\n",
      "3227 3.0047502773671714e-09\n",
      "3228 2.443791696782327e-15\n",
      "3229 3.0020447809499945e-09\n",
      "3230 3.0020460880641336e-09\n",
      "3231 3.0020455839101234e-09\n",
      "3232 3.002046332226463e-09\n",
      "3233 3.0020470521367054e-09\n",
      "3234 2.428396025933033e-15\n",
      "3235 3.001792759456043e-09\n",
      "3236 3.0017793016881567e-09\n",
      "3237 3.0017843885479095e-09\n",
      "3238 3.001767336866662e-09\n",
      "3239 3.0017770454634357e-09\n",
      "3276 2.697495005143935e-16\n",
      "3277 0.0\n",
      "3278 0.0\n",
      "3279 0.0\n",
      "3280 0.0\n",
      "3281 0.0\n",
      "3282 4.4278816724308e-16\n",
      "3283 3.3052264284891275e-09\n",
      "3284 3.3052264154787014e-09\n",
      "3285 3.3052264295733297e-09\n",
      "3286 3.3052276911509776e-09\n",
      "3287 3.305232340643574e-09\n",
      "3288 4.40619762898109e-16\n",
      "3289 3.004750278234533e-09\n",
      "3290 3.0047502749819266e-09\n",
      "3291 3.0047502778008522e-09\n",
      "3292 3.004750756801372e-09\n",
      "3293 3.0047505085190745e-09\n",
      "3294 2.2681509448396753e-16\n",
      "3295 2.9776803368939536e-09\n",
      "3296 2.9776803752747105e-09\n",
      "3297 2.977680368118976e-09\n",
      "3298 2.9776804687329378e-09\n",
      "3299 2.9776802920079837e-09\n",
      "3300 4.868067754459915e-16\n",
      "3301 2.9750014108025774e-09\n",
      "3302 2.974999357974184e-09\n",
      "3303 2.9749996841021975e-09\n",
      "3304 2.975001808921615e-09\n",
      "3305 2.9750019856465693e-09\n",
      "3306 4.724953067691828e-16\n",
      "3307 2.9747320069457156e-09\n",
      "3308 2.9747328393961436e-09\n",
      "3309 2.974732916374498e-09\n",
      "3310 2.9747321656729137e-09\n",
      "3311 2.9747326496607635e-09\n",
      "3312 2.17057274931598e-16\n",
      "3313 0.0\n",
      "3314 0.0\n",
      "3315 0.0\n",
      "3316 0.0\n",
      "3317 0.0\n",
      "3318 3.916138247017642e-16\n",
      "3319 3.3052264258870423e-09\n",
      "3320 3.305226432825936e-09\n",
      "3321 3.3052264258870423e-09\n",
      "3322 3.3052264219839145e-09\n",
      "3323 3.3052310072917424e-09\n",
      "3324 4.0505793164058446e-16\n",
      "3325 3.004750277150331e-09\n",
      "3326 3.004750274765086e-09\n",
      "3327 3.004750275198767e-09\n",
      "3328 3.0047503827516225e-09\n",
      "3329 3.004761214148166e-09\n",
      "3330 3.679782173415802e-16\n",
      "3331 2.9776802690228976e-09\n",
      "3332 2.977680377443115e-09\n",
      "3333 2.9776803698536997e-09\n",
      "3334 2.977680439459479e-09\n",
      "3335 2.977680357493795e-09\n",
      "3336 3.456436525883788e-16\n",
      "3337 2.975000188473048e-09\n",
      "3338 2.975000290171212e-09\n",
      "3339 2.9750018201973177e-09\n",
      "3340 2.9750015784202333e-09\n",
      "3341 2.9749943541643176e-09\n",
      "3342 3.881443777498106e-16\n",
      "3343 2.9747326680922004e-09\n",
      "3344 2.974732638385061e-09\n",
      "3345 2.974732946948999e-09\n",
      "3346 2.974733234262575e-09\n",
      "3347 2.974733142972752e-09\n",
      "3348 2.1141942363467336e-16\n",
      "3349 0.0\n",
      "3350 0.0\n",
      "3351 0.0\n",
      "3352 0.0\n",
      "3353 0.0\n",
      "3354 5.080571380267074e-16\n",
      "3355 3.3052264293564892e-09\n",
      "3356 3.3052264310912127e-09\n",
      "3357 3.305226428705968e-09\n",
      "3358 3.305226430657532e-09\n",
      "3359 3.305226428272287e-09\n",
      "3360 4.581838380923742e-16\n",
      "3361 3.004750268693554e-09\n",
      "3362 3.0047502715124796e-09\n",
      "3363 3.0047502827881822e-09\n",
      "3364 3.0047502810534588e-09\n",
      "3365 3.0047502964491296e-09\n",
      "3366 4.85722573273506e-16\n",
      "3367 2.977680368118976e-09\n",
      "3368 2.9776803661674123e-09\n",
      "3369 2.9776803722389444e-09\n",
      "3370 2.9776819861822984e-09\n",
      "3371 2.977690867315974e-09\n",
      "3372 3.458604930228759e-16\n",
      "3373 2.9750020630586044e-09\n",
      "3374 2.9750020066800914e-09\n",
      "3375 2.9750023894034583e-09\n",
      "3376 2.9750024293020982e-09\n",
      "3377 2.975003325503614e-09\n",
      "3378 3.423910460709223e-16\n",
      "3379 2.9747326132315705e-09\n",
      "3380 2.9747316814682234e-09\n",
      "3381 2.9747330878952816e-09\n",
      "3382 2.9747333602468673e-09\n",
      "3383 2.974742247885756e-09\n",
      "3384 2.474149357611921e-16\n",
      "3385 0.0\n",
      "3386 0.0\n",
      "3387 0.0\n",
      "3388 0.0\n",
      "3389 0.0\n",
      "3390 4.0874421902703517e-16\n",
      "3391 3.3052264315248936e-09\n",
      "3392 3.30522725812063e-09\n",
      "3393 3.3052264274049253e-09\n",
      "3394 3.3052264304406914e-09\n",
      "3395 3.305241585635499e-09\n",
      "3396 5.499073418846478e-16\n",
      "3397 3.0047504380459333e-09\n",
      "3398 3.0047498877049106e-09\n",
      "3399 3.004750269777756e-09\n",
      "3400 3.004750283221863e-09\n",
      "3401 3.00475781257227e-09\n",
      "3402 4.404029224636119e-16\n",
      "3403 2.9776807204846822e-09\n",
      "3404 2.9776801727457447e-09\n",
      "3405 2.977681984447575e-09\n",
      "3406 2.9776803702873805e-09\n",
      "3407 2.9776803687694975e-09\n",
      "3408 4.208872833588728e-16\n",
      "3409 2.9750000234574775e-09\n",
      "3410 2.9750022105101e-09\n",
      "3411 2.9750002749923815e-09\n",
      "3412 2.9750016527965023e-09\n",
      "3413 2.975011032012656e-09\n",
      "3414 4.668574554722582e-16\n",
      "3415 2.9747333934234538e-09\n"
     ]
    },
    {
     "ename": "KeyboardInterrupt",
     "evalue": "",
     "output_type": "error",
     "traceback": [
      "\u001b[0;31m---------------------------------------------------------------------------\u001b[0m",
      "\u001b[0;31mKeyboardInterrupt\u001b[0m                         Traceback (most recent call last)",
      "Cell \u001b[0;32mIn [66], line 8\u001b[0m\n\u001b[1;32m      1\u001b[0m \u001b[38;5;28;01mfor\u001b[39;00m index \u001b[38;5;129;01min\u001b[39;00m np\u001b[38;5;241m.\u001b[39mwhere(np\u001b[38;5;241m.\u001b[39marray(res) \u001b[38;5;241m==\u001b[39m \u001b[38;5;28;01mFalse\u001b[39;00m)[\u001b[38;5;241m0\u001b[39m]:\n\u001b[1;32m      2\u001b[0m     μ_U_val, μ_V_val, μ_B_val,μ_C_val,μ_D_val,μ_E_val\u001b[38;5;241m=\u001b[39m(vals_1\u001b[38;5;241m.\u001b[39mflatten()[index],\n\u001b[1;32m      3\u001b[0m                                                    vals_2\u001b[38;5;241m.\u001b[39mflatten()[index],\n\u001b[1;32m      4\u001b[0m                                                    vals_3\u001b[38;5;241m.\u001b[39mflatten()[index],\n\u001b[1;32m      5\u001b[0m                                                    vals_4\u001b[38;5;241m.\u001b[39mflatten()[index],\n\u001b[1;32m      6\u001b[0m                                                    vals_5\u001b[38;5;241m.\u001b[39mflatten()[index],\n\u001b[1;32m      7\u001b[0m                                                    vals_6\u001b[38;5;241m.\u001b[39mflatten()[index])\n\u001b[0;32m----> 8\u001b[0m     a \u001b[38;5;241m=\u001b[39m np\u001b[38;5;241m.\u001b[39marray([get_max(d_val, μ_U_val, μ_V_val, μ_B_val,μ_C_val,μ_D_val,μ_E_val) \u001b[38;5;28;01mfor\u001b[39;00m d_val \u001b[38;5;129;01min\u001b[39;00m Ds])\n\u001b[1;32m      9\u001b[0m     \u001b[38;5;28mprint\u001b[39m(index, np\u001b[38;5;241m.\u001b[39mmax(np\u001b[38;5;241m.\u001b[39mabs(a[\u001b[38;5;241m1\u001b[39m:] \u001b[38;5;241m-\u001b[39m a[:\u001b[38;5;241m-\u001b[39m\u001b[38;5;241m1\u001b[39m])))\n",
      "Cell \u001b[0;32mIn [66], line 8\u001b[0m, in \u001b[0;36m<listcomp>\u001b[0;34m(.0)\u001b[0m\n\u001b[1;32m      1\u001b[0m \u001b[38;5;28;01mfor\u001b[39;00m index \u001b[38;5;129;01min\u001b[39;00m np\u001b[38;5;241m.\u001b[39mwhere(np\u001b[38;5;241m.\u001b[39marray(res) \u001b[38;5;241m==\u001b[39m \u001b[38;5;28;01mFalse\u001b[39;00m)[\u001b[38;5;241m0\u001b[39m]:\n\u001b[1;32m      2\u001b[0m     μ_U_val, μ_V_val, μ_B_val,μ_C_val,μ_D_val,μ_E_val\u001b[38;5;241m=\u001b[39m(vals_1\u001b[38;5;241m.\u001b[39mflatten()[index],\n\u001b[1;32m      3\u001b[0m                                                    vals_2\u001b[38;5;241m.\u001b[39mflatten()[index],\n\u001b[1;32m      4\u001b[0m                                                    vals_3\u001b[38;5;241m.\u001b[39mflatten()[index],\n\u001b[1;32m      5\u001b[0m                                                    vals_4\u001b[38;5;241m.\u001b[39mflatten()[index],\n\u001b[1;32m      6\u001b[0m                                                    vals_5\u001b[38;5;241m.\u001b[39mflatten()[index],\n\u001b[1;32m      7\u001b[0m                                                    vals_6\u001b[38;5;241m.\u001b[39mflatten()[index])\n\u001b[0;32m----> 8\u001b[0m     a \u001b[38;5;241m=\u001b[39m np\u001b[38;5;241m.\u001b[39marray([\u001b[43mget_max\u001b[49m\u001b[43m(\u001b[49m\u001b[43md_val\u001b[49m\u001b[43m,\u001b[49m\u001b[43m \u001b[49m\u001b[43mμ_U_val\u001b[49m\u001b[43m,\u001b[49m\u001b[43m \u001b[49m\u001b[43mμ_V_val\u001b[49m\u001b[43m,\u001b[49m\u001b[43m \u001b[49m\u001b[43mμ_B_val\u001b[49m\u001b[43m,\u001b[49m\u001b[43mμ_C_val\u001b[49m\u001b[43m,\u001b[49m\u001b[43mμ_D_val\u001b[49m\u001b[43m,\u001b[49m\u001b[43mμ_E_val\u001b[49m\u001b[43m)\u001b[49m \u001b[38;5;28;01mfor\u001b[39;00m d_val \u001b[38;5;129;01min\u001b[39;00m Ds])\n\u001b[1;32m      9\u001b[0m     \u001b[38;5;28mprint\u001b[39m(index, np\u001b[38;5;241m.\u001b[39mmax(np\u001b[38;5;241m.\u001b[39mabs(a[\u001b[38;5;241m1\u001b[39m:] \u001b[38;5;241m-\u001b[39m a[:\u001b[38;5;241m-\u001b[39m\u001b[38;5;241m1\u001b[39m])))\n",
      "Cell \u001b[0;32mIn [32], line 10\u001b[0m, in \u001b[0;36mget_max\u001b[0;34m(d_val, μ_U_val, μ_V_val, μ_B_val, μ_C_val, μ_D_val, μ_E_val, μ_F_val)\u001b[0m\n\u001b[1;32m      2\u001b[0m \u001b[38;5;28;01mdef\u001b[39;00m \u001b[38;5;21mget_max\u001b[39m(d_val, \n\u001b[1;32m      3\u001b[0m             μ_U_val\u001b[38;5;241m=\u001b[39m\u001b[38;5;241m1\u001b[39m, \n\u001b[1;32m      4\u001b[0m             μ_V_val\u001b[38;5;241m=\u001b[39m\u001b[38;5;241m1\u001b[39m,\n\u001b[0;32m   (...)\u001b[0m\n\u001b[1;32m      8\u001b[0m             μ_E_val\u001b[38;5;241m=\u001b[39m\u001b[38;5;241m1\u001b[39m,\n\u001b[1;32m      9\u001b[0m             μ_F_val\u001b[38;5;241m=\u001b[39m\u001b[38;5;241m1\u001b[39m):\n\u001b[0;32m---> 10\u001b[0m     J_2_s \u001b[38;5;241m=\u001b[39m \u001b[43mJ_2\u001b[49m\u001b[38;5;241;43m.\u001b[39;49m\u001b[43msubs\u001b[49m\u001b[43m(\u001b[49m\u001b[43m[\u001b[49m\u001b[43m(\u001b[49m\u001b[43mn\u001b[49m\u001b[43m,\u001b[49m\u001b[38;5;241;43m3\u001b[39;49m\u001b[43m)\u001b[49m\u001b[43m,\u001b[49m\u001b[43m \u001b[49m\u001b[43m(\u001b[49m\u001b[43mb_A\u001b[49m\u001b[43m,\u001b[49m\u001b[38;5;241;43m.1\u001b[39;49m\u001b[43m)\u001b[49m\u001b[43m,\u001b[49m\u001b[43m \u001b[49m\u001b[43m(\u001b[49m\u001b[43mb_B\u001b[49m\u001b[43m,\u001b[49m\u001b[38;5;241;43m.1\u001b[39;49m\u001b[43m)\u001b[49m\u001b[43m,\u001b[49m\u001b[43m \u001b[49m\u001b[43m(\u001b[49m\u001b[43mb_C\u001b[49m\u001b[43m,\u001b[49m\u001b[38;5;241;43m.1\u001b[39;49m\u001b[43m)\u001b[49m\u001b[43m,\u001b[49m\u001b[43m \u001b[49m\u001b[43m(\u001b[49m\u001b[43mb_D\u001b[49m\u001b[43m,\u001b[49m\u001b[38;5;241;43m.1\u001b[39;49m\u001b[43m)\u001b[49m\u001b[43m,\u001b[49m\u001b[43m \u001b[49m\u001b[43m(\u001b[49m\u001b[43mb_E\u001b[49m\u001b[43m,\u001b[49m\u001b[38;5;241;43m.1\u001b[39;49m\u001b[43m)\u001b[49m\u001b[43m,\u001b[49m\u001b[43m \u001b[49m\u001b[43m(\u001b[49m\u001b[43mb_F\u001b[49m\u001b[43m,\u001b[49m\u001b[38;5;241;43m.1\u001b[39;49m\u001b[43m)\u001b[49m\u001b[43m,\u001b[49m\u001b[43m \u001b[49m\n\u001b[1;32m     11\u001b[0m \u001b[43m          \u001b[49m\u001b[43m(\u001b[49m\u001b[43mμ_V\u001b[49m\u001b[43m,\u001b[49m\u001b[43mμ_V_val\u001b[49m\u001b[43m)\u001b[49m\u001b[43m,\u001b[49m\u001b[43m \u001b[49m\u001b[43m(\u001b[49m\u001b[43mμ_U\u001b[49m\u001b[43m,\u001b[49m\u001b[43m \u001b[49m\u001b[43mμ_U_val\u001b[49m\u001b[43m)\u001b[49m\u001b[43m,\u001b[49m\u001b[43m \u001b[49m\u001b[43m(\u001b[49m\u001b[43mμ_B\u001b[49m\u001b[43m,\u001b[49m\u001b[43mμ_B_val\u001b[49m\u001b[43m)\u001b[49m\u001b[43m,\u001b[49m\u001b[43m \u001b[49m\u001b[43m(\u001b[49m\u001b[43mμ_C\u001b[49m\u001b[43m,\u001b[49m\u001b[43mμ_C_val\u001b[49m\u001b[43m)\u001b[49m\u001b[43m,\u001b[49m\u001b[43m \u001b[49m\n\u001b[1;32m     12\u001b[0m \u001b[43m                      \u001b[49m\u001b[43m(\u001b[49m\u001b[43mμ_D\u001b[49m\u001b[43m,\u001b[49m\u001b[43mμ_D_val\u001b[49m\u001b[43m)\u001b[49m\u001b[43m,\u001b[49m\u001b[43m \u001b[49m\u001b[43m(\u001b[49m\u001b[43mμ_E\u001b[49m\u001b[43m,\u001b[49m\u001b[43mμ_E_val\u001b[49m\u001b[43m)\u001b[49m\u001b[43m,\u001b[49m\u001b[43m \u001b[49m\u001b[43m(\u001b[49m\u001b[43mμ_F\u001b[49m\u001b[43m,\u001b[49m\u001b[43mμ_F_val\u001b[49m\u001b[43m)\u001b[49m\u001b[43m,\u001b[49m\u001b[43m \u001b[49m\n\u001b[1;32m     13\u001b[0m \u001b[43m          \u001b[49m\u001b[43m(\u001b[49m\u001b[43mμ_aTc\u001b[49m\u001b[43m,\u001b[49m\u001b[38;5;241;43m0.5\u001b[39;49m\u001b[43m)\u001b[49m\u001b[43m,\u001b[49m\u001b[43m \u001b[49m\u001b[43m(\u001b[49m\u001b[43mn_aTc\u001b[49m\u001b[43m,\u001b[49m\u001b[38;5;241;43m3\u001b[39;49m\u001b[43m)\u001b[49m\u001b[43m,\u001b[49m\n\u001b[1;32m     14\u001b[0m \u001b[43m          \u001b[49m\u001b[43m(\u001b[49m\u001b[43mK_AB\u001b[49m\u001b[43m,\u001b[49m\u001b[38;5;241;43m1\u001b[39;49m\u001b[43m)\u001b[49m\u001b[43m,\u001b[49m\u001b[43m \u001b[49m\u001b[43m(\u001b[49m\u001b[43mK_BD\u001b[49m\u001b[43m,\u001b[49m\u001b[38;5;241;43m1\u001b[39;49m\u001b[43m)\u001b[49m\u001b[43m,\u001b[49m\u001b[43m \u001b[49m\u001b[43m(\u001b[49m\u001b[43mK_CE\u001b[49m\u001b[43m,\u001b[49m\u001b[38;5;241;43m1\u001b[39;49m\u001b[43m)\u001b[49m\u001b[43m,\u001b[49m\u001b[43m \u001b[49m\u001b[43m(\u001b[49m\u001b[43mK_DA\u001b[49m\u001b[43m,\u001b[49m\u001b[38;5;241;43m1\u001b[39;49m\u001b[43m)\u001b[49m\u001b[43m,\u001b[49m\u001b[43m \u001b[49m\u001b[43m(\u001b[49m\u001b[43mK_EB\u001b[49m\u001b[43m,\u001b[49m\u001b[38;5;241;43m1\u001b[39;49m\u001b[43m)\u001b[49m\u001b[43m,\u001b[49m\u001b[43m \u001b[49m\u001b[43m(\u001b[49m\u001b[43mK_EE\u001b[49m\u001b[43m,\u001b[49m\u001b[38;5;241;43m1\u001b[39;49m\u001b[43m)\u001b[49m\u001b[43m,\u001b[49m\u001b[43m \u001b[49m\u001b[43m(\u001b[49m\u001b[43mK_FE\u001b[49m\u001b[43m,\u001b[49m\u001b[38;5;241;43m1\u001b[39;49m\u001b[43m)\u001b[49m\u001b[43m,\u001b[49m\u001b[43m \u001b[49m\u001b[43m(\u001b[49m\u001b[43mK_aTc\u001b[49m\u001b[43m,\u001b[49m\u001b[38;5;241;43m1\u001b[39;49m\u001b[43m)\u001b[49m\u001b[43m,\u001b[49m\n\u001b[1;32m     15\u001b[0m \u001b[43m          \u001b[49m\u001b[43m(\u001b[49m\u001b[43mV\u001b[49m\u001b[43m,\u001b[49m\u001b[43mV_s\u001b[49m\u001b[43m)\u001b[49m\u001b[43m,\u001b[49m\u001b[43m \u001b[49m\u001b[43m(\u001b[49m\u001b[43mE\u001b[49m\u001b[43m,\u001b[49m\u001b[43mE_s\u001b[49m\u001b[43m)\u001b[49m\u001b[43m,\u001b[49m\u001b[43m \u001b[49m\u001b[43m(\u001b[49m\u001b[43mD\u001b[49m\u001b[43m,\u001b[49m\u001b[43m \u001b[49m\u001b[43md_val\u001b[49m\u001b[43m)\u001b[49m\u001b[43m]\u001b[49m\u001b[43m)\u001b[49m\n\u001b[1;32m     16\u001b[0m     J_2_s_f \u001b[38;5;241m=\u001b[39m lambdify([k], J_2_s, modules\u001b[38;5;241m=\u001b[39m\u001b[38;5;124m'\u001b[39m\u001b[38;5;124mnumpy\u001b[39m\u001b[38;5;124m'\u001b[39m)\n\u001b[1;32m     17\u001b[0m     \u001b[38;5;28;01mreturn\u001b[39;00m np\u001b[38;5;241m.\u001b[39mmax([np\u001b[38;5;241m.\u001b[39mmax(np\u001b[38;5;241m.\u001b[39mreal(linalg\u001b[38;5;241m.\u001b[39meigvals(J_2_s_f(k)))) \u001b[38;5;28;01mfor\u001b[39;00m k \u001b[38;5;129;01min\u001b[39;00m ks])\n",
      "File \u001b[0;32m~/.conda/envs/numba/lib/python3.10/site-packages/sympy/matrices/common.py:2426\u001b[0m, in \u001b[0;36mMatrixOperations.subs\u001b[0;34m(self, *args, **kwargs)\u001b[0m\n\u001b[1;32m   2423\u001b[0m \u001b[38;5;28;01mif\u001b[39;00m \u001b[38;5;28mlen\u001b[39m(args) \u001b[38;5;241m==\u001b[39m \u001b[38;5;241m1\u001b[39m \u001b[38;5;129;01mand\u001b[39;00m  \u001b[38;5;129;01mnot\u001b[39;00m \u001b[38;5;28misinstance\u001b[39m(args[\u001b[38;5;241m0\u001b[39m], (\u001b[38;5;28mdict\u001b[39m, \u001b[38;5;28mset\u001b[39m)) \u001b[38;5;129;01mand\u001b[39;00m \u001b[38;5;28miter\u001b[39m(args[\u001b[38;5;241m0\u001b[39m]) \u001b[38;5;129;01mand\u001b[39;00m \u001b[38;5;129;01mnot\u001b[39;00m is_sequence(args[\u001b[38;5;241m0\u001b[39m]):\n\u001b[1;32m   2424\u001b[0m     args \u001b[38;5;241m=\u001b[39m (\u001b[38;5;28mlist\u001b[39m(args[\u001b[38;5;241m0\u001b[39m]),)\n\u001b[0;32m-> 2426\u001b[0m \u001b[38;5;28;01mreturn\u001b[39;00m \u001b[38;5;28;43mself\u001b[39;49m\u001b[38;5;241;43m.\u001b[39;49m\u001b[43mapplyfunc\u001b[49m\u001b[43m(\u001b[49m\u001b[38;5;28;43;01mlambda\u001b[39;49;00m\u001b[43m \u001b[49m\u001b[43mx\u001b[49m\u001b[43m:\u001b[49m\u001b[43m \u001b[49m\u001b[43mx\u001b[49m\u001b[38;5;241;43m.\u001b[39;49m\u001b[43msubs\u001b[49m\u001b[43m(\u001b[49m\u001b[38;5;241;43m*\u001b[39;49m\u001b[43margs\u001b[49m\u001b[43m,\u001b[49m\u001b[43m \u001b[49m\u001b[38;5;241;43m*\u001b[39;49m\u001b[38;5;241;43m*\u001b[39;49m\u001b[43mkwargs\u001b[49m\u001b[43m)\u001b[49m\u001b[43m)\u001b[49m\n",
      "File \u001b[0;32m~/.conda/envs/numba/lib/python3.10/site-packages/sympy/matrices/common.py:2058\u001b[0m, in \u001b[0;36mMatrixOperations.applyfunc\u001b[0;34m(self, f)\u001b[0m\n\u001b[1;32m   2055\u001b[0m \u001b[38;5;28;01mif\u001b[39;00m \u001b[38;5;129;01mnot\u001b[39;00m callable(f):\n\u001b[1;32m   2056\u001b[0m     \u001b[38;5;28;01mraise\u001b[39;00m \u001b[38;5;167;01mTypeError\u001b[39;00m(\u001b[38;5;124m\"\u001b[39m\u001b[38;5;124m`f` must be callable.\u001b[39m\u001b[38;5;124m\"\u001b[39m)\n\u001b[0;32m-> 2058\u001b[0m \u001b[38;5;28;01mreturn\u001b[39;00m \u001b[38;5;28;43mself\u001b[39;49m\u001b[38;5;241;43m.\u001b[39;49m\u001b[43m_eval_applyfunc\u001b[49m\u001b[43m(\u001b[49m\u001b[43mf\u001b[49m\u001b[43m)\u001b[49m\n",
      "File \u001b[0;32m~/.conda/envs/numba/lib/python3.10/site-packages/sympy/matrices/common.py:2000\u001b[0m, in \u001b[0;36mMatrixOperations._eval_applyfunc\u001b[0;34m(self, f)\u001b[0m\n\u001b[1;32m   1999\u001b[0m \u001b[38;5;28;01mdef\u001b[39;00m \u001b[38;5;21m_eval_applyfunc\u001b[39m(\u001b[38;5;28mself\u001b[39m, f):\n\u001b[0;32m-> 2000\u001b[0m     out \u001b[38;5;241m=\u001b[39m \u001b[38;5;28mself\u001b[39m\u001b[38;5;241m.\u001b[39m_new(\u001b[38;5;28mself\u001b[39m\u001b[38;5;241m.\u001b[39mrows, \u001b[38;5;28mself\u001b[39m\u001b[38;5;241m.\u001b[39mcols, [f(x) \u001b[38;5;28;01mfor\u001b[39;00m x \u001b[38;5;129;01min\u001b[39;00m \u001b[38;5;28mself\u001b[39m])\n\u001b[1;32m   2001\u001b[0m     \u001b[38;5;28;01mreturn\u001b[39;00m out\n",
      "File \u001b[0;32m~/.conda/envs/numba/lib/python3.10/site-packages/sympy/matrices/common.py:2000\u001b[0m, in \u001b[0;36m<listcomp>\u001b[0;34m(.0)\u001b[0m\n\u001b[1;32m   1999\u001b[0m \u001b[38;5;28;01mdef\u001b[39;00m \u001b[38;5;21m_eval_applyfunc\u001b[39m(\u001b[38;5;28mself\u001b[39m, f):\n\u001b[0;32m-> 2000\u001b[0m     out \u001b[38;5;241m=\u001b[39m \u001b[38;5;28mself\u001b[39m\u001b[38;5;241m.\u001b[39m_new(\u001b[38;5;28mself\u001b[39m\u001b[38;5;241m.\u001b[39mrows, \u001b[38;5;28mself\u001b[39m\u001b[38;5;241m.\u001b[39mcols, [\u001b[43mf\u001b[49m\u001b[43m(\u001b[49m\u001b[43mx\u001b[49m\u001b[43m)\u001b[49m \u001b[38;5;28;01mfor\u001b[39;00m x \u001b[38;5;129;01min\u001b[39;00m \u001b[38;5;28mself\u001b[39m])\n\u001b[1;32m   2001\u001b[0m     \u001b[38;5;28;01mreturn\u001b[39;00m out\n",
      "File \u001b[0;32m~/.conda/envs/numba/lib/python3.10/site-packages/sympy/matrices/common.py:2426\u001b[0m, in \u001b[0;36mMatrixOperations.subs.<locals>.<lambda>\u001b[0;34m(x)\u001b[0m\n\u001b[1;32m   2423\u001b[0m \u001b[38;5;28;01mif\u001b[39;00m \u001b[38;5;28mlen\u001b[39m(args) \u001b[38;5;241m==\u001b[39m \u001b[38;5;241m1\u001b[39m \u001b[38;5;129;01mand\u001b[39;00m  \u001b[38;5;129;01mnot\u001b[39;00m \u001b[38;5;28misinstance\u001b[39m(args[\u001b[38;5;241m0\u001b[39m], (\u001b[38;5;28mdict\u001b[39m, \u001b[38;5;28mset\u001b[39m)) \u001b[38;5;129;01mand\u001b[39;00m \u001b[38;5;28miter\u001b[39m(args[\u001b[38;5;241m0\u001b[39m]) \u001b[38;5;129;01mand\u001b[39;00m \u001b[38;5;129;01mnot\u001b[39;00m is_sequence(args[\u001b[38;5;241m0\u001b[39m]):\n\u001b[1;32m   2424\u001b[0m     args \u001b[38;5;241m=\u001b[39m (\u001b[38;5;28mlist\u001b[39m(args[\u001b[38;5;241m0\u001b[39m]),)\n\u001b[0;32m-> 2426\u001b[0m \u001b[38;5;28;01mreturn\u001b[39;00m \u001b[38;5;28mself\u001b[39m\u001b[38;5;241m.\u001b[39mapplyfunc(\u001b[38;5;28;01mlambda\u001b[39;00m x: \u001b[43mx\u001b[49m\u001b[38;5;241;43m.\u001b[39;49m\u001b[43msubs\u001b[49m\u001b[43m(\u001b[49m\u001b[38;5;241;43m*\u001b[39;49m\u001b[43margs\u001b[49m\u001b[43m,\u001b[49m\u001b[43m \u001b[49m\u001b[38;5;241;43m*\u001b[39;49m\u001b[38;5;241;43m*\u001b[39;49m\u001b[43mkwargs\u001b[49m\u001b[43m)\u001b[49m)\n",
      "File \u001b[0;32m~/.conda/envs/numba/lib/python3.10/site-packages/sympy/core/basic.py:997\u001b[0m, in \u001b[0;36mBasic.subs\u001b[0;34m(self, *args, **kwargs)\u001b[0m\n\u001b[1;32m    995\u001b[0m rv \u001b[38;5;241m=\u001b[39m \u001b[38;5;28mself\u001b[39m\n\u001b[1;32m    996\u001b[0m \u001b[38;5;28;01mfor\u001b[39;00m old, new \u001b[38;5;129;01min\u001b[39;00m sequence:\n\u001b[0;32m--> 997\u001b[0m     rv \u001b[38;5;241m=\u001b[39m \u001b[43mrv\u001b[49m\u001b[38;5;241;43m.\u001b[39;49m\u001b[43m_subs\u001b[49m\u001b[43m(\u001b[49m\u001b[43mold\u001b[49m\u001b[43m,\u001b[49m\u001b[43m \u001b[49m\u001b[43mnew\u001b[49m\u001b[43m,\u001b[49m\u001b[43m \u001b[49m\u001b[38;5;241;43m*\u001b[39;49m\u001b[38;5;241;43m*\u001b[39;49m\u001b[43mkwargs\u001b[49m\u001b[43m)\u001b[49m\n\u001b[1;32m    998\u001b[0m     \u001b[38;5;28;01mif\u001b[39;00m \u001b[38;5;129;01mnot\u001b[39;00m \u001b[38;5;28misinstance\u001b[39m(rv, Basic):\n\u001b[1;32m    999\u001b[0m         \u001b[38;5;28;01mbreak\u001b[39;00m\n",
      "File \u001b[0;32m~/.conda/envs/numba/lib/python3.10/site-packages/sympy/core/cache.py:70\u001b[0m, in \u001b[0;36m__cacheit.<locals>.func_wrapper.<locals>.wrapper\u001b[0;34m(*args, **kwargs)\u001b[0m\n\u001b[1;32m     67\u001b[0m \u001b[38;5;129m@wraps\u001b[39m(func)\n\u001b[1;32m     68\u001b[0m \u001b[38;5;28;01mdef\u001b[39;00m \u001b[38;5;21mwrapper\u001b[39m(\u001b[38;5;241m*\u001b[39margs, \u001b[38;5;241m*\u001b[39m\u001b[38;5;241m*\u001b[39mkwargs):\n\u001b[1;32m     69\u001b[0m     \u001b[38;5;28;01mtry\u001b[39;00m:\n\u001b[0;32m---> 70\u001b[0m         retval \u001b[38;5;241m=\u001b[39m \u001b[43mcfunc\u001b[49m\u001b[43m(\u001b[49m\u001b[38;5;241;43m*\u001b[39;49m\u001b[43margs\u001b[49m\u001b[43m,\u001b[49m\u001b[43m \u001b[49m\u001b[38;5;241;43m*\u001b[39;49m\u001b[38;5;241;43m*\u001b[39;49m\u001b[43mkwargs\u001b[49m\u001b[43m)\u001b[49m\n\u001b[1;32m     71\u001b[0m     \u001b[38;5;28;01mexcept\u001b[39;00m \u001b[38;5;167;01mTypeError\u001b[39;00m \u001b[38;5;28;01mas\u001b[39;00m e:\n\u001b[1;32m     72\u001b[0m         \u001b[38;5;28;01mif\u001b[39;00m \u001b[38;5;129;01mnot\u001b[39;00m e\u001b[38;5;241m.\u001b[39margs \u001b[38;5;129;01mor\u001b[39;00m \u001b[38;5;129;01mnot\u001b[39;00m e\u001b[38;5;241m.\u001b[39margs[\u001b[38;5;241m0\u001b[39m]\u001b[38;5;241m.\u001b[39mstartswith(\u001b[38;5;124m'\u001b[39m\u001b[38;5;124munhashable type:\u001b[39m\u001b[38;5;124m'\u001b[39m):\n",
      "File \u001b[0;32m~/.conda/envs/numba/lib/python3.10/site-packages/sympy/core/basic.py:1111\u001b[0m, in \u001b[0;36mBasic._subs\u001b[0;34m(self, old, new, **hints)\u001b[0m\n\u001b[1;32m   1109\u001b[0m rv \u001b[38;5;241m=\u001b[39m \u001b[38;5;28mself\u001b[39m\u001b[38;5;241m.\u001b[39m_eval_subs(old, new)\n\u001b[1;32m   1110\u001b[0m \u001b[38;5;28;01mif\u001b[39;00m rv \u001b[38;5;129;01mis\u001b[39;00m \u001b[38;5;28;01mNone\u001b[39;00m:\n\u001b[0;32m-> 1111\u001b[0m     rv \u001b[38;5;241m=\u001b[39m \u001b[43mfallback\u001b[49m\u001b[43m(\u001b[49m\u001b[38;5;28;43mself\u001b[39;49m\u001b[43m,\u001b[49m\u001b[43m \u001b[49m\u001b[43mold\u001b[49m\u001b[43m,\u001b[49m\u001b[43m \u001b[49m\u001b[43mnew\u001b[49m\u001b[43m)\u001b[49m\n\u001b[1;32m   1112\u001b[0m \u001b[38;5;28;01mreturn\u001b[39;00m rv\n",
      "File \u001b[0;32m~/.conda/envs/numba/lib/python3.10/site-packages/sympy/core/basic.py:1083\u001b[0m, in \u001b[0;36mBasic._subs.<locals>.fallback\u001b[0;34m(self, old, new)\u001b[0m\n\u001b[1;32m   1081\u001b[0m \u001b[38;5;28;01mif\u001b[39;00m \u001b[38;5;129;01mnot\u001b[39;00m \u001b[38;5;28mhasattr\u001b[39m(arg, \u001b[38;5;124m'\u001b[39m\u001b[38;5;124m_eval_subs\u001b[39m\u001b[38;5;124m'\u001b[39m):\n\u001b[1;32m   1082\u001b[0m     \u001b[38;5;28;01mcontinue\u001b[39;00m\n\u001b[0;32m-> 1083\u001b[0m arg \u001b[38;5;241m=\u001b[39m \u001b[43marg\u001b[49m\u001b[38;5;241;43m.\u001b[39;49m\u001b[43m_subs\u001b[49m\u001b[43m(\u001b[49m\u001b[43mold\u001b[49m\u001b[43m,\u001b[49m\u001b[43m \u001b[49m\u001b[43mnew\u001b[49m\u001b[43m,\u001b[49m\u001b[43m \u001b[49m\u001b[38;5;241;43m*\u001b[39;49m\u001b[38;5;241;43m*\u001b[39;49m\u001b[43mhints\u001b[49m\u001b[43m)\u001b[49m\n\u001b[1;32m   1084\u001b[0m \u001b[38;5;28;01mif\u001b[39;00m \u001b[38;5;129;01mnot\u001b[39;00m _aresame(arg, args[i]):\n\u001b[1;32m   1085\u001b[0m     hit \u001b[38;5;241m=\u001b[39m \u001b[38;5;28;01mTrue\u001b[39;00m\n",
      "File \u001b[0;32m~/.conda/envs/numba/lib/python3.10/site-packages/sympy/core/cache.py:70\u001b[0m, in \u001b[0;36m__cacheit.<locals>.func_wrapper.<locals>.wrapper\u001b[0;34m(*args, **kwargs)\u001b[0m\n\u001b[1;32m     67\u001b[0m \u001b[38;5;129m@wraps\u001b[39m(func)\n\u001b[1;32m     68\u001b[0m \u001b[38;5;28;01mdef\u001b[39;00m \u001b[38;5;21mwrapper\u001b[39m(\u001b[38;5;241m*\u001b[39margs, \u001b[38;5;241m*\u001b[39m\u001b[38;5;241m*\u001b[39mkwargs):\n\u001b[1;32m     69\u001b[0m     \u001b[38;5;28;01mtry\u001b[39;00m:\n\u001b[0;32m---> 70\u001b[0m         retval \u001b[38;5;241m=\u001b[39m \u001b[43mcfunc\u001b[49m\u001b[43m(\u001b[49m\u001b[38;5;241;43m*\u001b[39;49m\u001b[43margs\u001b[49m\u001b[43m,\u001b[49m\u001b[43m \u001b[49m\u001b[38;5;241;43m*\u001b[39;49m\u001b[38;5;241;43m*\u001b[39;49m\u001b[43mkwargs\u001b[49m\u001b[43m)\u001b[49m\n\u001b[1;32m     71\u001b[0m     \u001b[38;5;28;01mexcept\u001b[39;00m \u001b[38;5;167;01mTypeError\u001b[39;00m \u001b[38;5;28;01mas\u001b[39;00m e:\n\u001b[1;32m     72\u001b[0m         \u001b[38;5;28;01mif\u001b[39;00m \u001b[38;5;129;01mnot\u001b[39;00m e\u001b[38;5;241m.\u001b[39margs \u001b[38;5;129;01mor\u001b[39;00m \u001b[38;5;129;01mnot\u001b[39;00m e\u001b[38;5;241m.\u001b[39margs[\u001b[38;5;241m0\u001b[39m]\u001b[38;5;241m.\u001b[39mstartswith(\u001b[38;5;124m'\u001b[39m\u001b[38;5;124munhashable type:\u001b[39m\u001b[38;5;124m'\u001b[39m):\n",
      "File \u001b[0;32m~/.conda/envs/numba/lib/python3.10/site-packages/sympy/core/basic.py:1111\u001b[0m, in \u001b[0;36mBasic._subs\u001b[0;34m(self, old, new, **hints)\u001b[0m\n\u001b[1;32m   1109\u001b[0m rv \u001b[38;5;241m=\u001b[39m \u001b[38;5;28mself\u001b[39m\u001b[38;5;241m.\u001b[39m_eval_subs(old, new)\n\u001b[1;32m   1110\u001b[0m \u001b[38;5;28;01mif\u001b[39;00m rv \u001b[38;5;129;01mis\u001b[39;00m \u001b[38;5;28;01mNone\u001b[39;00m:\n\u001b[0;32m-> 1111\u001b[0m     rv \u001b[38;5;241m=\u001b[39m \u001b[43mfallback\u001b[49m\u001b[43m(\u001b[49m\u001b[38;5;28;43mself\u001b[39;49m\u001b[43m,\u001b[49m\u001b[43m \u001b[49m\u001b[43mold\u001b[49m\u001b[43m,\u001b[49m\u001b[43m \u001b[49m\u001b[43mnew\u001b[49m\u001b[43m)\u001b[49m\n\u001b[1;32m   1112\u001b[0m \u001b[38;5;28;01mreturn\u001b[39;00m rv\n",
      "File \u001b[0;32m~/.conda/envs/numba/lib/python3.10/site-packages/sympy/core/basic.py:1083\u001b[0m, in \u001b[0;36mBasic._subs.<locals>.fallback\u001b[0;34m(self, old, new)\u001b[0m\n\u001b[1;32m   1081\u001b[0m \u001b[38;5;28;01mif\u001b[39;00m \u001b[38;5;129;01mnot\u001b[39;00m \u001b[38;5;28mhasattr\u001b[39m(arg, \u001b[38;5;124m'\u001b[39m\u001b[38;5;124m_eval_subs\u001b[39m\u001b[38;5;124m'\u001b[39m):\n\u001b[1;32m   1082\u001b[0m     \u001b[38;5;28;01mcontinue\u001b[39;00m\n\u001b[0;32m-> 1083\u001b[0m arg \u001b[38;5;241m=\u001b[39m \u001b[43marg\u001b[49m\u001b[38;5;241;43m.\u001b[39;49m\u001b[43m_subs\u001b[49m\u001b[43m(\u001b[49m\u001b[43mold\u001b[49m\u001b[43m,\u001b[49m\u001b[43m \u001b[49m\u001b[43mnew\u001b[49m\u001b[43m,\u001b[49m\u001b[43m \u001b[49m\u001b[38;5;241;43m*\u001b[39;49m\u001b[38;5;241;43m*\u001b[39;49m\u001b[43mhints\u001b[49m\u001b[43m)\u001b[49m\n\u001b[1;32m   1084\u001b[0m \u001b[38;5;28;01mif\u001b[39;00m \u001b[38;5;129;01mnot\u001b[39;00m _aresame(arg, args[i]):\n\u001b[1;32m   1085\u001b[0m     hit \u001b[38;5;241m=\u001b[39m \u001b[38;5;28;01mTrue\u001b[39;00m\n",
      "    \u001b[0;31m[... skipping similar frames: __cacheit.<locals>.func_wrapper.<locals>.wrapper at line 70 (3 times), Basic._subs at line 1111 (2 times), Basic._subs.<locals>.fallback at line 1083 (2 times)]\u001b[0m\n",
      "File \u001b[0;32m~/.conda/envs/numba/lib/python3.10/site-packages/sympy/core/basic.py:1111\u001b[0m, in \u001b[0;36mBasic._subs\u001b[0;34m(self, old, new, **hints)\u001b[0m\n\u001b[1;32m   1109\u001b[0m rv \u001b[38;5;241m=\u001b[39m \u001b[38;5;28mself\u001b[39m\u001b[38;5;241m.\u001b[39m_eval_subs(old, new)\n\u001b[1;32m   1110\u001b[0m \u001b[38;5;28;01mif\u001b[39;00m rv \u001b[38;5;129;01mis\u001b[39;00m \u001b[38;5;28;01mNone\u001b[39;00m:\n\u001b[0;32m-> 1111\u001b[0m     rv \u001b[38;5;241m=\u001b[39m \u001b[43mfallback\u001b[49m\u001b[43m(\u001b[49m\u001b[38;5;28;43mself\u001b[39;49m\u001b[43m,\u001b[49m\u001b[43m \u001b[49m\u001b[43mold\u001b[49m\u001b[43m,\u001b[49m\u001b[43m \u001b[49m\u001b[43mnew\u001b[49m\u001b[43m)\u001b[49m\n\u001b[1;32m   1112\u001b[0m \u001b[38;5;28;01mreturn\u001b[39;00m rv\n",
      "File \u001b[0;32m~/.conda/envs/numba/lib/python3.10/site-packages/sympy/core/basic.py:1083\u001b[0m, in \u001b[0;36mBasic._subs.<locals>.fallback\u001b[0;34m(self, old, new)\u001b[0m\n\u001b[1;32m   1081\u001b[0m \u001b[38;5;28;01mif\u001b[39;00m \u001b[38;5;129;01mnot\u001b[39;00m \u001b[38;5;28mhasattr\u001b[39m(arg, \u001b[38;5;124m'\u001b[39m\u001b[38;5;124m_eval_subs\u001b[39m\u001b[38;5;124m'\u001b[39m):\n\u001b[1;32m   1082\u001b[0m     \u001b[38;5;28;01mcontinue\u001b[39;00m\n\u001b[0;32m-> 1083\u001b[0m arg \u001b[38;5;241m=\u001b[39m \u001b[43marg\u001b[49m\u001b[38;5;241;43m.\u001b[39;49m\u001b[43m_subs\u001b[49m\u001b[43m(\u001b[49m\u001b[43mold\u001b[49m\u001b[43m,\u001b[49m\u001b[43m \u001b[49m\u001b[43mnew\u001b[49m\u001b[43m,\u001b[49m\u001b[43m \u001b[49m\u001b[38;5;241;43m*\u001b[39;49m\u001b[38;5;241;43m*\u001b[39;49m\u001b[43mhints\u001b[49m\u001b[43m)\u001b[49m\n\u001b[1;32m   1084\u001b[0m \u001b[38;5;28;01mif\u001b[39;00m \u001b[38;5;129;01mnot\u001b[39;00m _aresame(arg, args[i]):\n\u001b[1;32m   1085\u001b[0m     hit \u001b[38;5;241m=\u001b[39m \u001b[38;5;28;01mTrue\u001b[39;00m\n",
      "File \u001b[0;32m~/.conda/envs/numba/lib/python3.10/site-packages/sympy/core/cache.py:70\u001b[0m, in \u001b[0;36m__cacheit.<locals>.func_wrapper.<locals>.wrapper\u001b[0;34m(*args, **kwargs)\u001b[0m\n\u001b[1;32m     67\u001b[0m \u001b[38;5;129m@wraps\u001b[39m(func)\n\u001b[1;32m     68\u001b[0m \u001b[38;5;28;01mdef\u001b[39;00m \u001b[38;5;21mwrapper\u001b[39m(\u001b[38;5;241m*\u001b[39margs, \u001b[38;5;241m*\u001b[39m\u001b[38;5;241m*\u001b[39mkwargs):\n\u001b[1;32m     69\u001b[0m     \u001b[38;5;28;01mtry\u001b[39;00m:\n\u001b[0;32m---> 70\u001b[0m         retval \u001b[38;5;241m=\u001b[39m \u001b[43mcfunc\u001b[49m\u001b[43m(\u001b[49m\u001b[38;5;241;43m*\u001b[39;49m\u001b[43margs\u001b[49m\u001b[43m,\u001b[49m\u001b[43m \u001b[49m\u001b[38;5;241;43m*\u001b[39;49m\u001b[38;5;241;43m*\u001b[39;49m\u001b[43mkwargs\u001b[49m\u001b[43m)\u001b[49m\n\u001b[1;32m     71\u001b[0m     \u001b[38;5;28;01mexcept\u001b[39;00m \u001b[38;5;167;01mTypeError\u001b[39;00m \u001b[38;5;28;01mas\u001b[39;00m e:\n\u001b[1;32m     72\u001b[0m         \u001b[38;5;28;01mif\u001b[39;00m \u001b[38;5;129;01mnot\u001b[39;00m e\u001b[38;5;241m.\u001b[39margs \u001b[38;5;129;01mor\u001b[39;00m \u001b[38;5;129;01mnot\u001b[39;00m e\u001b[38;5;241m.\u001b[39margs[\u001b[38;5;241m0\u001b[39m]\u001b[38;5;241m.\u001b[39mstartswith(\u001b[38;5;124m'\u001b[39m\u001b[38;5;124munhashable type:\u001b[39m\u001b[38;5;124m'\u001b[39m):\n",
      "File \u001b[0;32m~/.conda/envs/numba/lib/python3.10/site-packages/sympy/core/basic.py:157\u001b[0m, in \u001b[0;36mBasic.__hash__\u001b[0;34m(self)\u001b[0m\n\u001b[1;32m    153\u001b[0m \u001b[38;5;28;01mdef\u001b[39;00m \u001b[38;5;21m__hash__\u001b[39m(\u001b[38;5;28mself\u001b[39m) \u001b[38;5;241m-\u001b[39m\u001b[38;5;241m>\u001b[39m \u001b[38;5;28mint\u001b[39m:\n\u001b[1;32m    154\u001b[0m     \u001b[38;5;66;03m# hash cannot be cached using cache_it because infinite recurrence\u001b[39;00m\n\u001b[1;32m    155\u001b[0m     \u001b[38;5;66;03m# occurs as hash is needed for setting cache dictionary keys\u001b[39;00m\n\u001b[1;32m    156\u001b[0m     h \u001b[38;5;241m=\u001b[39m \u001b[38;5;28mself\u001b[39m\u001b[38;5;241m.\u001b[39m_mhash\n\u001b[0;32m--> 157\u001b[0m     \u001b[38;5;28;01mif\u001b[39;00m h \u001b[38;5;129;01mis\u001b[39;00m \u001b[38;5;28;01mNone\u001b[39;00m:\n\u001b[1;32m    158\u001b[0m         h \u001b[38;5;241m=\u001b[39m \u001b[38;5;28mhash\u001b[39m((\u001b[38;5;28mtype\u001b[39m(\u001b[38;5;28mself\u001b[39m)\u001b[38;5;241m.\u001b[39m\u001b[38;5;18m__name__\u001b[39m,) \u001b[38;5;241m+\u001b[39m \u001b[38;5;28mself\u001b[39m\u001b[38;5;241m.\u001b[39m_hashable_content())\n\u001b[1;32m    159\u001b[0m         \u001b[38;5;28mself\u001b[39m\u001b[38;5;241m.\u001b[39m_mhash \u001b[38;5;241m=\u001b[39m h\n",
      "\u001b[0;31mKeyboardInterrupt\u001b[0m: "
     ]
    }
   ],
   "source": [
    "for index in np.where(np.array(res) == False)[0]:\n",
    "    μ_U_val, μ_V_val, μ_B_val,μ_C_val,μ_D_val,μ_E_val=(vals_1.flatten()[index],\n",
    "                                                   vals_2.flatten()[index],\n",
    "                                                   vals_3.flatten()[index],\n",
    "                                                   vals_4.flatten()[index],\n",
    "                                                   vals_5.flatten()[index],\n",
    "                                                   vals_6.flatten()[index])\n",
    "    a = np.array([get_max(d_val, μ_U_val, μ_V_val, μ_B_val,μ_C_val,μ_D_val,μ_E_val) for d_val in Ds])\n",
    "    print(index, np.max(np.abs(a[1:] - a[:-1])))"
   ]
  },
  {
   "cell_type": "code",
   "execution_count": 61,
   "id": "965ae809",
   "metadata": {
    "ExecuteTime": {
     "end_time": "2022-11-02T08:23:00.763973Z",
     "start_time": "2022-11-02T08:23:00.760114Z"
    }
   },
   "outputs": [
    {
     "data": {
      "text/plain": [
       "array([-3.29928444e-09,  0.00000000e+00,  0.00000000e+00,  0.00000000e+00,\n",
       "        0.00000000e+00,  0.00000000e+00,  0.00000000e+00,  0.00000000e+00,\n",
       "        0.00000000e+00])"
      ]
     },
     "execution_count": 61,
     "metadata": {},
     "output_type": "execute_result"
    }
   ],
   "source": [
    "a[1:] - a[:-1]"
   ]
  },
  {
   "cell_type": "code",
   "execution_count": null,
   "id": "33d90f82",
   "metadata": {},
   "outputs": [],
   "source": []
  },
  {
   "cell_type": "code",
   "execution_count": null,
   "id": "2d24f0ae",
   "metadata": {},
   "outputs": [],
   "source": []
  },
  {
   "cell_type": "code",
   "execution_count": 31,
   "id": "e16415b6",
   "metadata": {
    "ExecuteTime": {
     "end_time": "2022-11-01T14:08:34.293664Z",
     "start_time": "2022-11-01T14:08:34.285234Z"
    }
   },
   "outputs": [],
   "source": [
    "param_lookup = dict([('n', n), ('n_aTc', n_aTc), ('b_A', b_A), ('b_B', b_B), ('b_C', b_C), ('b_D', b_D), \n",
    "                     ('b_E', b_E), ('b_F', b_F), \n",
    "                     ('mu_V', μ_V), ('mu_U',μ_U), ('mu_B', μ_B), ('mu_C', μ_C), ('mu_D', μ_D), \n",
    "                     ('mu_E', μ_E), ('mu_F', μ_F), ('mu_aTc', μ_aTc),\n",
    "                     ('K_AB', K_AB), ('K_BD', K_BD), ('K_CE', K_CE), ('K_DA', K_DA), ('K_EB', K_EB), \n",
    "                     ('K_EE', K_EE), ('K_FE', K_FE), ('K_aTc', K_aTc)])"
   ]
  },
  {
   "cell_type": "code",
   "execution_count": 32,
   "id": "108dc55a",
   "metadata": {
    "ExecuteTime": {
     "end_time": "2022-11-01T14:08:35.715573Z",
     "start_time": "2022-11-01T14:08:35.707628Z"
    }
   },
   "outputs": [],
   "source": [
    "params = [('n', 3),('n_aTc',3), ('b_A',.01), ('b_B',.01), ('b_C',.01), ('b_D',.01), ('b_E',.5), ('b_F',.01), \n",
    "          ('mu_V', 0.5), ('mu_U',0.5), ('mu_B',0.5), ('mu_C',0.5), ('mu_D',0.5), ('mu_E',0.5), ('mu_F',0.5), \n",
    "          ('mu_aTc',0.5), \n",
    "          ('K_AB', 10), ('K_BD', 10), ('K_CE', 10), ('K_DA', 10), ('K_EB', 10), ('K_EE',1),\n",
    "          ('K_FE',10), ('K_aTc',10)]"
   ]
  },
  {
   "cell_type": "code",
   "execution_count": 33,
   "id": "cb96e428",
   "metadata": {
    "ExecuteTime": {
     "end_time": "2022-11-01T14:08:37.699994Z",
     "start_time": "2022-11-01T14:08:37.691448Z"
    }
   },
   "outputs": [],
   "source": [
    "params = [('n', 3),('n_aTc',3), ('b_A',.01), ('b_B',.01), ('b_C',.01), ('b_D',.01), ('b_E',.5), ('b_F',.01), \n",
    "          ('mu_V', 0.005), ('mu_U',0.005), ('mu_B',0.5), ('mu_C',0.5), ('mu_D',0.5), ('mu_E',0.5), ('mu_F',0.5), \n",
    "          ('mu_aTc',0.5), \n",
    "          ('K_AB', 10), ('K_BD', 10), ('K_CE', 10), ('K_DA', 10), ('K_EB', 10), ('K_EE',1),\n",
    "          ('K_FE',10), ('K_aTc',10)]"
   ]
  },
  {
   "cell_type": "code",
   "execution_count": 34,
   "id": "96360176",
   "metadata": {
    "ExecuteTime": {
     "end_time": "2022-11-01T14:08:38.635551Z",
     "start_time": "2022-11-01T14:08:38.630790Z"
    }
   },
   "outputs": [],
   "source": [
    "from numpy import linalg"
   ]
  },
  {
   "cell_type": "code",
   "execution_count": 35,
   "id": "c37379ec",
   "metadata": {
    "ExecuteTime": {
     "end_time": "2022-11-01T14:08:39.471942Z",
     "start_time": "2022-11-01T14:08:39.466745Z"
    }
   },
   "outputs": [],
   "source": [
    "ks = np.linspace(0, 100, 100+1)"
   ]
  },
  {
   "cell_type": "code",
   "execution_count": 57,
   "id": "d7e54a7f",
   "metadata": {
    "ExecuteTime": {
     "end_time": "2022-11-01T14:18:30.662020Z",
     "start_time": "2022-11-01T14:18:30.651530Z"
    }
   },
   "outputs": [],
   "source": [
    "def search(params, D_val = 2):\n",
    "    func = create_eqs_func(**dict(params))\n",
    "    root = fsolve(func, [1, 1], xtol=1e-10, maxfev=10000)\n",
    "    #f_others = create_eqs_others(**dict(params))\n",
    "\n",
    "    (V_s, E_s) = root\n",
    "    #(D_s, B_s, C_s, A_s, F_s, U_s) = f_others(root)\n",
    "\n",
    "    M = J_f(V=V_s, E=E_s, **dict(params))\n",
    "\n",
    "\n",
    "    if np.max(np.real(linalg.eigvals(M))) < 0:\n",
    "        J_2_s = J_2.subs([(param_lookup[key],v) for key,v in dict(params).items()]  + [(V,V_s), (E,E_s), (D, D_val)])\n",
    "        J_2_s_f = lambdify([k], J_2_s, modules='numpy')\n",
    "\n",
    "        return np.max([np.max(np.real(linalg.eigvals(J_2_s_f(kv)))) for kv in ks])\n",
    "    else:\n",
    "        return np.nan"
   ]
  },
  {
   "cell_type": "code",
   "execution_count": 37,
   "id": "64abb968",
   "metadata": {
    "ExecuteTime": {
     "end_time": "2022-11-01T14:08:41.513859Z",
     "start_time": "2022-11-01T14:08:41.489375Z"
    }
   },
   "outputs": [],
   "source": [
    "from multiprocessing import Pool"
   ]
  },
  {
   "cell_type": "code",
   "execution_count": 38,
   "id": "7d7e878f",
   "metadata": {
    "ExecuteTime": {
     "end_time": "2022-11-01T14:08:43.061363Z",
     "start_time": "2022-11-01T14:08:42.672413Z"
    }
   },
   "outputs": [
    {
     "data": {
      "text/latex": [
       "$\\displaystyle -0.005$"
      ],
      "text/plain": [
       "-0.005"
      ]
     },
     "execution_count": 38,
     "metadata": {},
     "output_type": "execute_result"
    }
   ],
   "source": [
    "search(params)"
   ]
  },
  {
   "cell_type": "code",
   "execution_count": 39,
   "id": "b631ca44",
   "metadata": {
    "ExecuteTime": {
     "end_time": "2022-11-01T14:08:46.022713Z",
     "start_time": "2022-11-01T14:08:46.014026Z"
    }
   },
   "outputs": [],
   "source": [
    "#@numba.jit\n",
    "def new_params(params, size=100):\n",
    "    i_s = np.random.randint(2, 24, size)\n",
    "    ds = []\n",
    "    #ds = [params.copy() for _ in i_s]\n",
    "    p = params.copy()\n",
    "    for index, i in enumerate(i_s):        \n",
    "    #    ds[index][i] = (ds[index][i][0], np.random.lognormal(0, 10))\n",
    "        key,v = p[i]        \n",
    "        #p[i] = (key, params[i][1]*np.random.lognormal(0, 1))\n",
    "        p[i] = (key, np.random.normal(v, 10))\n",
    "        while p[i][1] <= 0:\n",
    "            p[i] = (key, np.random.normal(v, 10))\n",
    "        #p[i] = (key, v + np.random.lognormal(0, .1))\n",
    "        ds += [p.copy()]\n",
    "    return ds\n",
    "        "
   ]
  },
  {
   "cell_type": "code",
   "execution_count": 40,
   "id": "23455a39",
   "metadata": {
    "ExecuteTime": {
     "end_time": "2022-11-01T14:08:46.780119Z",
     "start_time": "2022-11-01T14:08:46.772363Z"
    },
    "scrolled": true
   },
   "outputs": [],
   "source": [
    "params = [('n', 3),('n_aTc',3), ('b_A',.01), ('b_B',.01), ('b_C',.01), ('b_D',.01), ('b_E',.5), ('b_F',.01), \n",
    "          ('mu_V', 0.005), ('mu_U',0.005), ('mu_B',0.5), ('mu_C',0.5), ('mu_D',0.5), ('mu_E',0.5), ('mu_F',0.5), \n",
    "          ('mu_aTc',0.5), \n",
    "          ('K_AB', 10), ('K_BD', 10), ('K_CE', 10), ('K_DA', 10), ('K_EB', 10), ('K_EE',1),\n",
    "          ('K_FE',10), ('K_aTc',10)]"
   ]
  },
  {
   "cell_type": "code",
   "execution_count": 41,
   "id": "a58a813e",
   "metadata": {
    "ExecuteTime": {
     "end_time": "2022-11-01T14:08:48.372380Z",
     "start_time": "2022-11-01T14:08:48.367234Z"
    }
   },
   "outputs": [],
   "source": [
    "def search_para(params):    \n",
    "    return search(params)"
   ]
  },
  {
   "cell_type": "code",
   "execution_count": 42,
   "id": "d6471b6f",
   "metadata": {
    "ExecuteTime": {
     "end_time": "2022-11-01T07:50:21.510678Z",
     "start_time": "2022-10-31T23:18:09.655153Z"
    },
    "scrolled": true
   },
   "outputs": [
    {
     "name": "stdout",
     "output_type": "stream",
     "text": [
      "0\n",
      "1\n",
      "2\n",
      "3\n",
      "4\n",
      "5\n",
      "6\n",
      "7\n",
      "8\n",
      "9\n",
      "10\n",
      "11\n",
      "12\n",
      "13\n",
      "14\n",
      "15\n",
      "16\n",
      "17\n",
      "18\n",
      "19\n",
      "20\n",
      "21\n",
      "22\n",
      "23\n",
      "24\n",
      "25\n",
      "26\n",
      "27\n",
      "28\n",
      "29\n",
      "30\n",
      "31\n",
      "32\n",
      "33\n",
      "34\n",
      "35\n",
      "36\n",
      "37\n",
      "38\n",
      "39\n",
      "40\n",
      "41\n",
      "42\n",
      "43\n",
      "44\n",
      "45\n",
      "46\n",
      "47\n",
      "48\n",
      "49\n",
      "50\n",
      "51\n",
      "52\n",
      "53\n",
      "54\n",
      "55\n",
      "56\n",
      "57\n",
      "58\n",
      "59\n",
      "60\n",
      "61\n",
      "62\n",
      "63\n",
      "64\n",
      "65\n",
      "66\n",
      "67\n",
      "68\n",
      "69\n",
      "70\n",
      "71\n",
      "72\n",
      "73\n",
      "74\n",
      "75\n",
      "76\n",
      "77\n",
      "78\n",
      "79\n",
      "80\n",
      "81\n",
      "82\n",
      "83\n",
      "84\n",
      "85\n",
      "86\n",
      "87\n",
      "88\n",
      "89\n",
      "90\n",
      "91\n",
      "92\n",
      "93\n",
      "94\n",
      "95\n",
      "96\n",
      "97\n",
      "98\n",
      "99\n",
      "100\n",
      "101\n",
      "102\n",
      "103\n",
      "104\n",
      "105\n",
      "106\n",
      "107\n",
      "108\n",
      "109\n",
      "110\n",
      "111\n",
      "112\n",
      "113\n",
      "114\n",
      "115\n",
      "116\n",
      "117\n",
      "118\n",
      "119\n",
      "120\n",
      "121\n",
      "122\n",
      "123\n",
      "124\n",
      "125\n",
      "126\n",
      "127\n",
      "128\n",
      "129\n",
      "130\n",
      "131\n",
      "132\n",
      "133\n",
      "134\n",
      "135\n",
      "136\n",
      "137\n",
      "138\n",
      "139\n",
      "140\n",
      "141\n",
      "142\n",
      "143\n",
      "144\n",
      "145\n",
      "146\n",
      "147\n",
      "148\n",
      "149\n",
      "150\n",
      "151\n",
      "152\n",
      "153\n",
      "154\n",
      "155\n",
      "156\n",
      "157\n",
      "158\n",
      "159\n",
      "160\n",
      "161\n",
      "162\n",
      "163\n",
      "164\n",
      "165\n",
      "166\n",
      "167\n",
      "168\n",
      "169\n",
      "170\n",
      "171\n",
      "172\n",
      "173\n",
      "174\n",
      "175\n",
      "176\n",
      "177\n",
      "178\n",
      "179\n",
      "180\n",
      "181\n",
      "182\n",
      "183\n",
      "184\n",
      "185\n",
      "186\n",
      "187\n",
      "188\n",
      "189\n",
      "190\n",
      "191\n",
      "192\n",
      "193\n",
      "194\n",
      "195\n",
      "196\n",
      "197\n",
      "198\n",
      "199\n",
      "200\n",
      "201\n",
      "202\n",
      "203\n",
      "204\n",
      "205\n",
      "206\n",
      "207\n",
      "208\n",
      "209\n",
      "210\n",
      "211\n",
      "212\n",
      "213\n",
      "214\n",
      "215\n",
      "216\n",
      "217\n",
      "218\n",
      "219\n",
      "220\n",
      "221\n",
      "222\n",
      "223\n",
      "224\n",
      "225\n",
      "226\n",
      "227\n",
      "228\n",
      "229\n",
      "230\n",
      "231\n",
      "232\n",
      "233\n",
      "234\n",
      "235\n",
      "236\n",
      "237\n",
      "238\n",
      "239\n"
     ]
    }
   ],
   "source": [
    "pos_res = []\n",
    "nan_res = []\n",
    "for loop in range(240):\n",
    "    print(loop)\n",
    "    ds = new_params(params,16*100) \n",
    "    with Pool(16) as pool:\n",
    "        res = pool.map(search_para, ds)\n",
    "        \n",
    "    if np.any(np.asarray(res).astype(np.float64)  >= 0):\n",
    "        pos_res += [(res, ds)]\n",
    "    if np.any(np.isnan(np.asarray(res).astype(np.float64) )):\n",
    "        nan_res += [(res, ds)]"
   ]
  },
  {
   "cell_type": "code",
   "execution_count": 320,
   "id": "fad6703d",
   "metadata": {
    "ExecuteTime": {
     "end_time": "2022-10-31T23:02:56.809625Z",
     "start_time": "2022-10-31T23:02:56.803915Z"
    }
   },
   "outputs": [
    {
     "data": {
      "text/plain": [
       "False"
      ]
     },
     "execution_count": 320,
     "metadata": {},
     "output_type": "execute_result"
    }
   ],
   "source": [
    "np.any(np.asarray(res).astype(np.float64)  >= 0)"
   ]
  },
  {
   "cell_type": "code",
   "execution_count": 321,
   "id": "07a40ad1",
   "metadata": {
    "ExecuteTime": {
     "end_time": "2022-10-31T23:02:58.266115Z",
     "start_time": "2022-10-31T23:02:58.260344Z"
    }
   },
   "outputs": [
    {
     "data": {
      "text/plain": [
       "False"
      ]
     },
     "execution_count": 321,
     "metadata": {},
     "output_type": "execute_result"
    }
   ],
   "source": [
    "np.any(np.isnan(np.asarray(res).astype(np.float64) ))"
   ]
  },
  {
   "cell_type": "code",
   "execution_count": 335,
   "id": "ab25538d",
   "metadata": {
    "ExecuteTime": {
     "end_time": "2022-10-31T23:10:00.611168Z",
     "start_time": "2022-10-31T23:10:00.327990Z"
    }
   },
   "outputs": [
    {
     "data": {
      "image/png": "[encoded data removed]",
      "text/plain": [
       "<Figure size 640x480 with 1 Axes>"
      ]
     },
     "metadata": {},
     "output_type": "display_data"
    }
   ],
   "source": [
    "plt.hist(np.random.lognormal(0, 1, 10))\n",
    "plt.yscale('log')"
   ]
  },
  {
   "cell_type": "code",
   "execution_count": 341,
   "id": "a178e511",
   "metadata": {
    "ExecuteTime": {
     "end_time": "2022-10-31T23:12:42.269619Z",
     "start_time": "2022-10-31T23:12:42.254823Z"
    }
   },
   "outputs": [],
   "source": [
    "lllll=new_params(params,1000) "
   ]
  },
  {
   "cell_type": "code",
   "execution_count": 44,
   "id": "1102eff5",
   "metadata": {
    "ExecuteTime": {
     "end_time": "2022-11-01T08:12:54.698864Z",
     "start_time": "2022-11-01T08:12:54.688661Z"
    }
   },
   "outputs": [
    {
     "data": {
      "text/latex": [
       "$\\displaystyle 12$"
      ],
      "text/plain": [
       "12"
      ]
     },
     "execution_count": 44,
     "metadata": {},
     "output_type": "execute_result"
    }
   ],
   "source": [
    "len(nan_res)"
   ]
  },
  {
   "cell_type": "code",
   "execution_count": 46,
   "id": "4e692017",
   "metadata": {
    "ExecuteTime": {
     "end_time": "2022-11-01T10:59:45.225600Z",
     "start_time": "2022-11-01T10:59:45.146565Z"
    },
    "scrolled": true
   },
   "outputs": [
    {
     "name": "stdout",
     "output_type": "stream",
     "text": [
      "0 5 nan\n",
      "0 6 nan\n",
      "0 7 nan\n",
      "0 8 nan\n",
      "0 9 nan\n",
      "0 10 nan\n",
      "1 43 nan\n",
      "1 44 nan\n",
      "1 45 nan\n",
      "2 87 nan\n",
      "2 88 nan\n",
      "2 89 nan\n",
      "2 90 nan\n",
      "2 91 nan\n",
      "2 92 nan\n",
      "2 93 nan\n",
      "3 17 nan\n",
      "3 18 nan\n",
      "4 9 nan\n",
      "4 10 nan\n",
      "4 11 nan\n",
      "5 13 nan\n",
      "5 14 nan\n",
      "5 15 nan\n",
      "5 16 nan\n",
      "6 20 nan\n",
      "6 21 nan\n",
      "7 154 nan\n",
      "8 11 nan\n",
      "8 12 nan\n",
      "8 13 nan\n",
      "8 14 nan\n",
      "8 15 nan\n",
      "8 16 nan\n",
      "8 17 nan\n",
      "8 18 nan\n",
      "8 19 nan\n",
      "8 20 nan\n",
      "8 21 nan\n",
      "8 22 nan\n",
      "9 3 nan\n",
      "10 43 nan\n",
      "10 44 nan\n",
      "11 25 nan\n",
      "11 27 nan\n"
     ]
    }
   ],
   "source": [
    "for i, (result, p) in enumerate(nan_res):\n",
    "    for j, item in enumerate(result):\n",
    "        if np.isnan(item):\n",
    "            print(i, j, item)"
   ]
  },
  {
   "cell_type": "code",
   "execution_count": 47,
   "id": "f16e03bc",
   "metadata": {
    "ExecuteTime": {
     "end_time": "2022-11-01T11:00:10.805614Z",
     "start_time": "2022-11-01T11:00:10.802370Z"
    }
   },
   "outputs": [],
   "source": [
    "result, p = nan_res[0]"
   ]
  },
  {
   "cell_type": "code",
   "execution_count": 50,
   "id": "e9868cf0",
   "metadata": {
    "ExecuteTime": {
     "end_time": "2022-11-01T11:01:14.190611Z",
     "start_time": "2022-11-01T11:01:14.181041Z"
    }
   },
   "outputs": [
    {
     "data": {
      "text/latex": [
       "$\\displaystyle \\text{NaN}$"
      ],
      "text/plain": [
       "nan"
      ]
     },
     "execution_count": 50,
     "metadata": {},
     "output_type": "execute_result"
    }
   ],
   "source": [
    "search(p[5])"
   ]
  },
  {
   "cell_type": "code",
   "execution_count": 61,
   "id": "478992e3",
   "metadata": {
    "ExecuteTime": {
     "end_time": "2022-11-01T11:07:03.422360Z",
     "start_time": "2022-11-01T11:07:03.418106Z"
    }
   },
   "outputs": [],
   "source": [
    "p_nan = p[5].copy()"
   ]
  },
  {
   "cell_type": "code",
   "execution_count": 98,
   "id": "bb3fa770",
   "metadata": {
    "ExecuteTime": {
     "end_time": "2022-11-01T11:10:53.029239Z",
     "start_time": "2022-11-01T11:10:53.025721Z"
    }
   },
   "outputs": [],
   "source": [
    "p_nan[3] = ('b_B', 7.5)#446)"
   ]
  },
  {
   "cell_type": "code",
   "execution_count": 99,
   "id": "504cda24",
   "metadata": {
    "ExecuteTime": {
     "end_time": "2022-11-01T11:10:56.459379Z",
     "start_time": "2022-11-01T11:10:56.452419Z"
    }
   },
   "outputs": [
    {
     "data": {
      "text/plain": [
       "array([ 1.03112044e+04, -4.96422801e+00, -5.00000000e-03, -5.00000000e-03,\n",
       "       -1.98836102e+00, -1.00000000e+00, -5.00000000e-01, -5.00000000e-01,\n",
       "       -5.00000000e-01])"
      ]
     },
     "execution_count": 99,
     "metadata": {},
     "output_type": "execute_result"
    }
   ],
   "source": [
    "func = create_eqs_func(**dict(p_nan))\n",
    "root = fsolve(func, [1, 1], xtol=1e-10, maxfev=10000)\n",
    "(V_s, E_s) = root\n",
    "M = J_f(V=V_s, E=E_s, **dict(p_nan))\n",
    "np.real(linalg.eigvals(M))"
   ]
  },
  {
   "cell_type": "code",
   "execution_count": 100,
   "id": "788adecb",
   "metadata": {
    "ExecuteTime": {
     "end_time": "2022-11-01T11:10:59.721297Z",
     "start_time": "2022-11-01T11:10:59.715848Z"
    }
   },
   "outputs": [
    {
     "data": {
      "text/plain": [
       "array([[-1.73472348e-18],\n",
       "       [ 0.00000000e+00],\n",
       "       [ 0.00000000e+00],\n",
       "       [ 4.37467393e-15],\n",
       "       [ 0.00000000e+00],\n",
       "       [-3.44925654e-18],\n",
       "       [-3.97903932e-13],\n",
       "       [-8.67361738e-19],\n",
       "       [ 0.00000000e+00]])"
      ]
     },
     "execution_count": 100,
     "metadata": {},
     "output_type": "execute_result"
    }
   ],
   "source": [
    "f_others = create_eqs_others(**dict(p_nan))\n",
    "(D_s, B_s, C_s, A_s, F_s, U_s) = f_others(root)\n",
    "kinetic_f(aTc = 0,\n",
    "          V= V_s, E = E_s, D = D_s, B = B_s, C = C_s, A = A_s, F = F_s, U = U_s,\n",
    "         **dict(p_nan))"
   ]
  },
  {
   "cell_type": "code",
   "execution_count": 105,
   "id": "9c680a94",
   "metadata": {
    "ExecuteTime": {
     "end_time": "2022-11-01T11:20:45.216879Z",
     "start_time": "2022-11-01T11:20:45.209784Z"
    }
   },
   "outputs": [],
   "source": [
    "params = [('n', 3),('n_aTc',3), ('b_A',.01), ('b_B',.01), ('b_C',.01), ('b_D',.01), ('b_E',.01), ('b_F',.01), \n",
    "          ('mu_V', 1), ('mu_U',1), ('mu_B',0.1), ('mu_C',0.1), ('mu_D',0.1), ('mu_E',0.1), ('mu_F',0.1), \n",
    "          ('mu_aTc',0.5), \n",
    "          ('K_AB', 1), ('K_BD', 1), ('K_CE', 1), ('K_DA', 1), ('K_EB', 1), ('K_EE',1),\n",
    "          ('K_FE',1), ('K_aTc',1)]"
   ]
  },
  {
   "cell_type": "code",
   "execution_count": 42,
   "id": "43337595",
   "metadata": {
    "ExecuteTime": {
     "end_time": "2022-11-01T14:09:04.486039Z",
     "start_time": "2022-11-01T14:09:04.477615Z"
    }
   },
   "outputs": [],
   "source": [
    "params = [('n', 3),('n_aTc',3), ('b_A',.01), ('b_B',.01), ('b_C',.01), ('b_D',.01), ('b_E',.01), ('b_F',.01), \n",
    "          ('mu_V', 1), ('mu_U',1), ('mu_B',0.1), ('mu_C',0.1), ('mu_D',0.1), ('mu_E',0.0001), ('mu_F',0.1), \n",
    "          ('mu_aTc',1), \n",
    "          ('K_AB', 10), ('K_BD', 1), ('K_CE', 1), ('K_DA', 1), ('K_EB', 1), ('K_EE',.001),\n",
    "          ('K_FE',1), ('K_aTc',1)]"
   ]
  },
  {
   "cell_type": "code",
   "execution_count": 43,
   "id": "c7d612fa",
   "metadata": {
    "ExecuteTime": {
     "end_time": "2022-11-01T14:09:05.193540Z",
     "start_time": "2022-11-01T14:09:05.189873Z"
    }
   },
   "outputs": [],
   "source": [
    "#@numba.jit\n",
    "def new_params_mu(params, size=100):\n",
    "    i_s = np.random.randint(8, 16, size)\n",
    "    ds = []\n",
    "    #ds = [params.copy() for _ in i_s]    \n",
    "    for index, i in enumerate(i_s):        \n",
    "    #    ds[index][i] = (ds[index][i][0], np.random.lognormal(0, 10))\n",
    "        p = params.copy()\n",
    "        key,v = p[i]        \n",
    "        p[i] = (key, params[i][1]*np.random.lognormal(0, 1))\n",
    "        #p[i] = (key, np.random.normal(v, 1))\n",
    "        #while p[i][1] <= 0:\n",
    "        #    p[i] = (key, np.random.normal(v, 5))\n",
    "        #p[i] = (key, v + np.random.lognormal(0, .1))\n",
    "        ds += [p]\n",
    "    return ds"
   ]
  },
  {
   "cell_type": "code",
   "execution_count": 160,
   "id": "424ec96e",
   "metadata": {
    "ExecuteTime": {
     "end_time": "2022-11-01T11:44:32.357582Z",
     "start_time": "2022-11-01T11:42:39.718337Z"
    }
   },
   "outputs": [
    {
     "name": "stdout",
     "output_type": "stream",
     "text": [
      "0\n"
     ]
    }
   ],
   "source": [
    "pos_res2 = []\n",
    "zero_res2 = []\n",
    "for loop in range(1):\n",
    "    print(loop)\n",
    "    ds = new_params_mu(params,16*100) \n",
    "    with Pool(16) as pool:\n",
    "        res = pool.map(search_para, ds)\n",
    "        \n",
    "    if np.any(np.asarray(res).astype(np.float64)  > 0):\n",
    "        pos_res2 += [(res, ds)]\n",
    "    if np.any(np.asarray(res).astype(np.float64)  > -1e-10):\n",
    "        zero_res2 += [(res, ds)]"
   ]
  },
  {
   "cell_type": "code",
   "execution_count": 161,
   "id": "53771cb8",
   "metadata": {
    "ExecuteTime": {
     "end_time": "2022-11-01T11:46:27.470346Z",
     "start_time": "2022-11-01T11:46:27.459691Z"
    }
   },
   "outputs": [
    {
     "data": {
      "text/latex": [
       "$\\displaystyle 0$"
      ],
      "text/plain": [
       "0"
      ]
     },
     "execution_count": 161,
     "metadata": {},
     "output_type": "execute_result"
    }
   ],
   "source": [
    "len(zero_res2)"
   ]
  },
  {
   "cell_type": "code",
   "execution_count": 177,
   "id": "c832da8b",
   "metadata": {
    "ExecuteTime": {
     "end_time": "2022-11-01T11:52:06.140895Z",
     "start_time": "2022-11-01T11:52:06.125585Z"
    }
   },
   "outputs": [
    {
     "data": {
      "text/plain": [
       "[('n', 3),\n",
       " ('n_aTc', 3),\n",
       " ('b_A', 0.01),\n",
       " ('b_B', 0.01),\n",
       " ('b_C', 0.01),\n",
       " ('b_D', 0.01),\n",
       " ('b_E', 0.01),\n",
       " ('b_F', 0.01),\n",
       " ('mu_V', 1),\n",
       " ('mu_U', 1),\n",
       " ('mu_B', 0.1),\n",
       " ('mu_C', 0.1),\n",
       " ('mu_D', 0.1),\n",
       " ('mu_E', 2.4700444992947237e-06),\n",
       " ('mu_F', 0.1),\n",
       " ('mu_aTc', 1),\n",
       " ('K_AB', 10),\n",
       " ('K_BD', 1),\n",
       " ('K_CE', 1),\n",
       " ('K_DA', 1),\n",
       " ('K_EB', 1),\n",
       " ('K_EE', 0.001),\n",
       " ('K_FE', 1),\n",
       " ('K_aTc', 1)]"
      ]
     },
     "execution_count": 177,
     "metadata": {},
     "output_type": "execute_result"
    }
   ],
   "source": [
    "index = np.where(np.asarray(res).astype(np.float64) == np.max(np.asarray(res).astype(np.float64)))[0][0]\n",
    "ds[index]"
   ]
  },
  {
   "cell_type": "code",
   "execution_count": null,
   "id": "9ef748e9",
   "metadata": {},
   "outputs": [],
   "source": []
  },
  {
   "cell_type": "code",
   "execution_count": null,
   "id": "36832e91",
   "metadata": {},
   "outputs": [],
   "source": []
  }
 ],
 "metadata": {
  "kernelspec": {
   "display_name": "numba",
   "language": "python",
   "name": "numba"
  },
  "language_info": {
   "codemirror_mode": {
    "name": "ipython",
    "version": 3
   },
   "file_extension": ".py",
   "mimetype": "text/x-python",
   "name": "python",
   "nbconvert_exporter": "python",
   "pygments_lexer": "ipython3",
   "version": "3.10.4"
  },
  "varInspector": {
   "cols": {
    "lenName": 16,
    "lenType": 16,
    "lenVar": 40
   },
   "kernels_config": {
    "python": {
     "delete_cmd_postfix": "",
     "delete_cmd_prefix": "del ",
     "library": "var_list.py",
     "varRefreshCmd": "print(var_dic_list())"
    },
    "r": {
     "delete_cmd_postfix": ") ",
     "delete_cmd_prefix": "rm(",
     "library": "var_list.r",
     "varRefreshCmd": "cat(var_dic_list()) "
    }
   },
   "types_to_exclude": [
    "module",
    "function",
    "builtin_function_or_method",
    "instance",
    "_Feature"
   ],
   "window_display": false
  }
 },
 "nbformat": 4,
 "nbformat_minor": 5
}
