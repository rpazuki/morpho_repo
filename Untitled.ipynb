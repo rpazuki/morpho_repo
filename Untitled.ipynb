{
 "cells": [
  {
   "cell_type": "code",
   "execution_count": 1,
   "id": "5fe15a04",
   "metadata": {
    "ExecuteTime": {
     "end_time": "2022-10-02T21:36:43.660868Z",
     "start_time": "2022-10-02T21:36:43.076529Z"
    }
   },
   "outputs": [],
   "source": [
    "from numba import cuda, float32\n",
    "\n",
    "# Controls threads per block and shared memory usage.\n",
    "# The computation will be done on blocks of TPBxTPB elements.\n",
    "TPB = 16\n",
    "\n",
    "@cuda.jit\n",
    "def fast_matmul(A, B, C):\n",
    "    # Define an array in the shared memory\n",
    "    # The size and type of the arrays must be known at compile time\n",
    "    sA = cuda.shared.array(shape=(TPB, TPB), dtype=float32)\n",
    "    sB = cuda.shared.array(shape=(TPB, TPB), dtype=float32)\n",
    "\n",
    "    x, y = cuda.grid(2)\n",
    "\n",
    "    tx = cuda.threadIdx.x\n",
    "    ty = cuda.threadIdx.y\n",
    "    bpg = cuda.gridDim.x    # blocks per grid\n",
    "\n",
    "    if x >= C.shape[0] and y >= C.shape[1]:\n",
    "        # Quit if (x, y) is outside of valid C boundary\n",
    "        return\n",
    "\n",
    "    # Each thread computes one element in the result matrix.\n",
    "    # The dot product is chunked into dot products of TPB-long vectors.\n",
    "    tmp = 0.\n",
    "    for i in range(bpg):\n",
    "        # Preload data into shared memory\n",
    "        sA[tx, ty] = A[x, ty + i * TPB]\n",
    "        sB[tx, ty] = B[tx + i * TPB, y]\n",
    "\n",
    "        # Wait until all threads finish preloading\n",
    "        cuda.syncthreads()\n",
    "\n",
    "        # Computes partial product on the shared memory\n",
    "        for j in range(TPB):\n",
    "            tmp += sA[tx, j] * sB[j, ty]\n",
    "\n",
    "        # Wait until all threads finish computing\n",
    "        cuda.syncthreads()\n",
    "\n",
    "    C[x, y] = tmp\n"
   ]
  },
  {
   "cell_type": "code",
   "execution_count": 2,
   "id": "4470aa2a",
   "metadata": {
    "ExecuteTime": {
     "end_time": "2022-10-02T21:36:44.989979Z",
     "start_time": "2022-10-02T21:36:44.983355Z"
    }
   },
   "outputs": [],
   "source": [
    "import numpy as np\n",
    "import math"
   ]
  },
  {
   "cell_type": "code",
   "execution_count": 3,
   "id": "30196b2c",
   "metadata": {
    "ExecuteTime": {
     "end_time": "2022-10-02T21:36:47.685258Z",
     "start_time": "2022-10-02T21:36:45.884238Z"
    }
   },
   "outputs": [],
   "source": [
    "s = 1024*4\n",
    "A = np.random.normal(1,1, (s, s))\n",
    "B = np.random.normal(1,1, (s, s))\n",
    "C = np.zeros_like(A)"
   ]
  },
  {
   "cell_type": "code",
   "execution_count": 4,
   "id": "d21b08d1",
   "metadata": {
    "ExecuteTime": {
     "end_time": "2022-10-02T21:36:49.131423Z",
     "start_time": "2022-10-02T21:36:48.428253Z"
    }
   },
   "outputs": [],
   "source": [
    "threadsperblock = (16, 16)\n",
    "blockspergrid_x = math.ceil(C.shape[0] / threadsperblock[0])\n",
    "blockspergrid_y = math.ceil(C.shape[1] / threadsperblock[1])\n",
    "blockspergrid = (blockspergrid_x, blockspergrid_y)\n",
    "\n",
    "dA = cuda.to_device(A)\n",
    "dB = cuda.to_device(B)\n",
    "dC = cuda.to_device(C)\n",
    "\n",
    "fast_matmul[blockspergrid, threadsperblock](dA, dB, dC)"
   ]
  },
  {
   "cell_type": "code",
   "execution_count": null,
   "id": "dc8cdd93",
   "metadata": {},
   "outputs": [],
   "source": [
    "dC.copy_to_host(C)"
   ]
  },
  {
   "cell_type": "code",
   "execution_count": null,
   "id": "3d2f81c2",
   "metadata": {},
   "outputs": [],
   "source": []
  },
  {
   "cell_type": "code",
   "execution_count": null,
   "id": "66c37f70",
   "metadata": {},
   "outputs": [],
   "source": []
  },
  {
   "cell_type": "code",
   "execution_count": 10,
   "id": "5a63eec6",
   "metadata": {
    "ExecuteTime": {
     "end_time": "2022-10-03T14:53:32.337494Z",
     "start_time": "2022-10-03T14:53:32.314597Z"
    }
   },
   "outputs": [],
   "source": [
    "from numba import cuda, float32\n",
    "import numpy as np\n",
    "import math\n",
    "# Controls threads per block and shared memory usage.\n",
    "# The computation will be done on blocks of TPBxTPB elements.\n",
    "TPB = 16\n",
    "\n",
    "@cuda.jit\n",
    "def integrate_GPU(c0, t, dt, n, L, Ds, f_args, dc, d_ret):\n",
    "    # Define an array in the shared memory\n",
    "    # The size and type of the arrays must be known at compile time\n",
    "    #sdc = cuda.shared.array(shape=(TPB, TPB), dtype=float32)    \n",
    "\n",
    "    #x, y = cuda.grid(2)\n",
    "    \n",
    "    #tx = cuda.threadIdx.x\n",
    "    #ty = cuda.threadIdx.y\n",
    "    #bpg = cuda.gridDim.x    # blocks per grid\n",
    "    x = cuda.blockIdx.x * cuda.blockDim.x + cuda.threadIdx.x\n",
    "    y = cuda.blockIdx.y * cuda.blockDim.y + cuda.threadIdx.y \n",
    "    if x >= c0.shape[1] and y >= c0.shape[2]:\n",
    "        # Quit if (x, y) is outside of valid dc boundary\n",
    "        return        \n",
    "       \n",
    "    #dc = 0\n",
    "    c_len = c0.shape[0]\n",
    "    t_c = t[0]\n",
    "    for c_i in range(c_len):\n",
    "        d_ret[c_i, x, y, 0] = c0[c_i, x, y]\n",
    "    # Periodic boundary condition\n",
    "    i_prev = (x - 1) % n[0]\n",
    "    i_next = (x + 1) % n[0]\n",
    "\n",
    "    j_prev = (y - 1) % n[1]\n",
    "    j_next = (y + 1) % n[1]\n",
    "    \n",
    "    A, B = f_args\n",
    "    \n",
    "\n",
    "    for t_i, t_next in enumerate(t[1:]):\n",
    "        while t_c < t_next:\n",
    "                        \n",
    "            #c_c = c0[:, x, y]\n",
    "            #f_f = Brusselator(z, c_c, t_c, f_args)\n",
    "            \n",
    "            u = c0[0, x, y]\n",
    "            v = c0[1, x, y]\n",
    "            u2 = u**2\n",
    "            u2v = u2 * v\n",
    "            \n",
    "            fu = A - (B + 1) * u + u2v \n",
    "            fv = B * u - u2v    \n",
    "            \n",
    "            for c_i in range(c_len):\n",
    "                dc[c_i, x, y] = (Ds[c_i] * n[c_i] / L[c_i]) * ( c0[c_i, i_prev, y]\n",
    "                    + c0[c_i, i_next, y]\n",
    "                    + c0[c_i, x, j_prev]\n",
    "                    + c0[c_i, x, j_next]\n",
    "                    - 4.0 * c0[c_i, x, y]\n",
    "                ) + fu if c_i == 0 else fv \n",
    "                \n",
    "            \n",
    "\n",
    "            # Wait until all threads finish computing\n",
    "            cuda.syncthreads()\n",
    "            for c_i in range(c_len):\n",
    "                #dc[c_i, x, y] = dt * dc[c_i, x, y]\n",
    "                c0[c_i, x, y] += dt * dc[c_i, x, y]\n",
    "                \n",
    "            t_c += dt\n",
    "            \n",
    "        for c_i in range(c_len):\n",
    "            d_ret[c_i, x, y, t_i + 1] = c0[c_i, x, y]\n"
   ]
  },
  {
   "cell_type": "code",
   "execution_count": 51,
   "id": "1b4e5a89",
   "metadata": {
    "ExecuteTime": {
     "end_time": "2022-10-03T15:03:33.657599Z",
     "start_time": "2022-10-03T15:03:33.644153Z"
    }
   },
   "outputs": [],
   "source": [
    "n = (2, 2)\n",
    "L = (0.05, 0.05)\n",
    "\n",
    "\n",
    "D_u = .001\n",
    "D_v = .020\n",
    "Ds = np.array([D_u, D_v])\n",
    "A = 2\n",
    "B = 3\n",
    "\n",
    "c0 = np.random.normal(scale=.1, size=(2, n[0], n[1]))\n",
    "c0[0, :,:] += A\n",
    "c0[1, :,:] += B/A\n",
    "#c0 = data[:, :, :, 0]\n",
    "\n",
    "f_args = (A, B)\n",
    "t = np.linspace(0, 0.02, 2)\n",
    "\n",
    "dt = 0.01\n",
    "\n",
    "\n",
    "ret = np.zeros((c0.shape[0], c0.shape[1], c0.shape[2], t.shape[0]))\n",
    "dc = np.zeros((c0.shape[0], c0.shape[1], c0.shape[2]))\n",
    "\n",
    "\n",
    "threadsperblock = (1, 1)\n",
    "blockspergrid_x = math.ceil(c0.shape[1] / threadsperblock[0])\n",
    "blockspergrid_y = math.ceil(c0.shape[2] / threadsperblock[1])\n",
    "blockspergrid = (blockspergrid_x, blockspergrid_y)\n",
    "\n",
    "d_ret = cuda.to_device(ret)"
   ]
  },
  {
   "cell_type": "code",
   "execution_count": 52,
   "id": "5a881296",
   "metadata": {
    "ExecuteTime": {
     "end_time": "2022-10-03T15:03:34.330324Z",
     "start_time": "2022-10-03T15:03:34.324123Z"
    }
   },
   "outputs": [
    {
     "data": {
      "text/plain": [
       "(2, 2)"
      ]
     },
     "execution_count": 52,
     "metadata": {},
     "output_type": "execute_result"
    }
   ],
   "source": [
    "blockspergrid"
   ]
  },
  {
   "cell_type": "code",
   "execution_count": 53,
   "id": "c45d6158",
   "metadata": {
    "ExecuteTime": {
     "end_time": "2022-10-03T15:03:34.897192Z",
     "start_time": "2022-10-03T15:03:34.893073Z"
    }
   },
   "outputs": [
    {
     "data": {
      "text/plain": [
       "(1, 1)"
      ]
     },
     "execution_count": 53,
     "metadata": {},
     "output_type": "execute_result"
    }
   ],
   "source": [
    "threadsperblock"
   ]
  },
  {
   "cell_type": "code",
   "execution_count": 54,
   "id": "cc6e9a19",
   "metadata": {
    "ExecuteTime": {
     "end_time": "2022-10-03T15:03:35.449090Z",
     "start_time": "2022-10-03T15:03:35.441830Z"
    },
    "scrolled": true
   },
   "outputs": [],
   "source": [
    "integrate_GPU[blockspergrid, threadsperblock](\n",
    "                cuda.to_device(c0),\n",
    "                cuda.to_device(t), \n",
    "                dt, \n",
    "                cuda.to_device(n), \n",
    "                cuda.to_device(L), \n",
    "                cuda.to_device(Ds), \n",
    "                #cuda.to_device(Brusselator), \n",
    "                cuda.to_device(f_args),\n",
    "                cuda.to_device(dc), \n",
    "                d_ret)"
   ]
  },
  {
   "cell_type": "code",
   "execution_count": 55,
   "id": "78422809",
   "metadata": {
    "ExecuteTime": {
     "end_time": "2022-10-03T15:03:36.121071Z",
     "start_time": "2022-10-03T15:03:36.113389Z"
    }
   },
   "outputs": [
    {
     "data": {
      "text/plain": [
       "(2, 2, 2, 2)"
      ]
     },
     "execution_count": 55,
     "metadata": {},
     "output_type": "execute_result"
    }
   ],
   "source": [
    "d_ret.copy_to_host(ret).shape"
   ]
  },
  {
   "cell_type": "code",
   "execution_count": 56,
   "id": "ab4e9cc9",
   "metadata": {
    "ExecuteTime": {
     "end_time": "2022-10-03T15:03:37.654094Z",
     "start_time": "2022-10-03T15:03:36.848044Z"
    }
   },
   "outputs": [
    {
     "data": {
      "image/png": "[encoded data removed]",
      "text/plain": [
       "<Figure size 800x400 with 4 Axes>"
      ]
     },
     "metadata": {},
     "output_type": "display_data"
    },
    {
     "data": {
      "image/png": "[encoded data removed]",
      "text/plain": [
       "<Figure size 800x400 with 4 Axes>"
      ]
     },
     "metadata": {},
     "output_type": "display_data"
    }
   ],
   "source": [
    "from matplotlib import pyplot as plt\n",
    "\n",
    "index = 0\n",
    "_ = plt.figure(figsize=(8,4))\n",
    "plt.subplot(121)\n",
    "plt.imshow(ret[0,:,:, index])\n",
    "plt.colorbar(shrink=.75)\n",
    "plt.subplot(122)\n",
    "plt.imshow(ret[1,:,:, index])\n",
    "plt.colorbar(shrink=.75)\n",
    "plt.show()\n",
    "\n",
    "index = -1\n",
    "_ = plt.figure(figsize=(8,4))\n",
    "plt.subplot(121)\n",
    "plt.imshow(ret[0,:,:, index])\n",
    "plt.colorbar(shrink=.75)\n",
    "plt.subplot(122)\n",
    "plt.imshow(ret[1,:,:, index])\n",
    "plt.colorbar(shrink=.75)\n",
    "plt.show()"
   ]
  },
  {
   "cell_type": "code",
   "execution_count": 57,
   "id": "586c6afd",
   "metadata": {
    "ExecuteTime": {
     "end_time": "2022-10-03T15:03:39.533950Z",
     "start_time": "2022-10-03T15:03:39.527499Z"
    }
   },
   "outputs": [],
   "source": [
    "import sys\n",
    "sys.path.append(\"/end/home/rh2310/morpho_repo/turing_codebase\")\n",
    "from solvers.explicit_Euler import integrate\n",
    "from solvers.turing_models import Brusselator"
   ]
  },
  {
   "cell_type": "code",
   "execution_count": 58,
   "id": "fb2b9c1d",
   "metadata": {
    "ExecuteTime": {
     "end_time": "2022-10-03T15:03:40.158475Z",
     "start_time": "2022-10-03T15:03:40.152347Z"
    }
   },
   "outputs": [],
   "source": [
    "\n",
    "sol = integrate(c0, t, dt, n, L, Ds, Brusselator, f_args)"
   ]
  },
  {
   "cell_type": "code",
   "execution_count": 59,
   "id": "4076dadb",
   "metadata": {
    "ExecuteTime": {
     "end_time": "2022-10-03T15:03:41.492671Z",
     "start_time": "2022-10-03T15:03:41.057430Z"
    }
   },
   "outputs": [
    {
     "data": {
      "image/png": "[encoded data removed]",
      "text/plain": [
       "<Figure size 800x400 with 4 Axes>"
      ]
     },
     "metadata": {},
     "output_type": "display_data"
    }
   ],
   "source": [
    "index = 1\n",
    "_ = plt.figure(figsize=(8,4))\n",
    "plt.subplot(121)\n",
    "plt.imshow(ret[0,:,:, index] - sol[0,:,:, index])\n",
    "plt.colorbar(shrink=.75)\n",
    "plt.subplot(122)\n",
    "plt.imshow(ret[1,:,:, index] - sol[1,:,:, index])\n",
    "plt.colorbar(shrink=.75)\n",
    "plt.show()"
   ]
  },
  {
   "cell_type": "code",
   "execution_count": null,
   "id": "cfda9926",
   "metadata": {},
   "outputs": [],
   "source": []
  },
  {
   "cell_type": "code",
   "execution_count": null,
   "id": "4b90c242",
   "metadata": {},
   "outputs": [],
   "source": []
  },
  {
   "cell_type": "code",
   "execution_count": null,
   "id": "a91f5f86",
   "metadata": {},
   "outputs": [],
   "source": []
  },
  {
   "cell_type": "code",
   "execution_count": 1,
   "id": "c6ce1d60",
   "metadata": {
    "ExecuteTime": {
     "end_time": "2022-10-02T23:44:30.407497Z",
     "start_time": "2022-10-02T23:44:28.947601Z"
    }
   },
   "outputs": [],
   "source": [
    "from numba import cuda, float32\n",
    "import numpy as np\n",
    "import math\n",
    "# Controls threads per block and shared memory usage.\n",
    "# The computation will be done on blocks of TPBxTPB elements.\n",
    "TPB = 16\n",
    "\n",
    "def create(f):\n",
    "    \n",
    "    @cuda.jit\n",
    "    def integrate_GPU(c0, t, dt, n, L, Ds, f_args, d_ret):\n",
    "        # Define an array in the shared memory\n",
    "        # The size and type of the arrays must be known at compile time\n",
    "        #sdc = cuda.shared.array(shape=(TPB, TPB), dtype=float32)    \n",
    "\n",
    "        z, x, y = cuda.grid(3)\n",
    "\n",
    "        #tx = cuda.threadIdx.x\n",
    "        #ty = cuda.threadIdx.y\n",
    "        #bpg = cuda.gridDim.x    # blocks per grid\n",
    "\n",
    "        #if x >= c0.shape[0] and y >= c0.shape[1]:\n",
    "            # Quit if (x, y) is outside of valid dc boundary\n",
    "        #    return        \n",
    "        #dc = 0\n",
    "        t_c = t[0]\n",
    "        # Periodic boundary condition\n",
    "        i_prev = (x - 1) % n[0]\n",
    "        i_next = (x + 1) % n[0]\n",
    "\n",
    "        j_prev = (y - 1) % n[1]\n",
    "        j_next = (y + 1) % n[1]\n",
    "\n",
    "        A, B = f_args\n",
    "\n",
    "\n",
    "        for t_i, t_next in enumerate(t[1:]):\n",
    "            while t_c < t_next:\n",
    "\n",
    "                c_c = c0[:, x, y]\n",
    "                f_f = f(z, c_c, t_c, f_args)            \n",
    "\n",
    "                dc = (Ds[z] * n[z] / L[z]) * (c0[z, i_prev, y]\n",
    "                        + c0[z, i_next, y]\n",
    "                        + c0[z, x, j_prev]\n",
    "                        + c0[z, x, j_next]\n",
    "                        - 4.0 * c0[z, x, y]\n",
    "                    ) + f_f\n",
    "\n",
    "                dc = dt * dc\n",
    "\n",
    "                # Wait until all threads finish computing\n",
    "                cuda.syncthreads()\n",
    "                c0[z, x, y] += dc\n",
    "                t_c += dt\n",
    "\n",
    "\n",
    "            d_ret[z, x, y, t_i + 1] = c0[z, x, y]\n",
    "            \n",
    "    return integrate_GPU   \n"
   ]
  },
  {
   "cell_type": "code",
   "execution_count": 3,
   "id": "f96f11ce",
   "metadata": {
    "ExecuteTime": {
     "end_time": "2022-10-02T23:44:43.177657Z",
     "start_time": "2022-10-02T23:44:43.168077Z"
    }
   },
   "outputs": [],
   "source": [
    "#@cuda.jit\n",
    "def Brusselator(z, c, t, f_args):\n",
    "    A, B = f_args\n",
    "    u = c[0]\n",
    "    v = c[1]\n",
    "    u2 = u**2\n",
    "    u2v = u2 * v\n",
    "    if z == 0:\n",
    "        fu = A - (B + 1) * u + u2v\n",
    "        return fu\n",
    "    else:\n",
    "        fv = B * u - u2v    \n",
    "        return fv"
   ]
  },
  {
   "cell_type": "code",
   "execution_count": 4,
   "id": "beb5dd59",
   "metadata": {
    "ExecuteTime": {
     "end_time": "2022-10-02T23:44:46.272320Z",
     "start_time": "2022-10-02T23:44:46.259671Z"
    },
    "scrolled": true
   },
   "outputs": [],
   "source": [
    "n = (32, 32)\n",
    "L = (0.01, 0.01)\n",
    "\n",
    "\n",
    "\n",
    "Ds = [0.0016, 0.0131]\n",
    "A, B = 4.5, 13.29\n",
    "\n",
    "c0 = np.random.normal(scale=.1, size=(2, n[0], n[1]))\n",
    "c0[0, :,:] += A\n",
    "c0[1, :,:] += B/A\n",
    "#c0 = data[:, :, :, 0]\n",
    "\n",
    "f_args = (A, B)\n",
    "t = np.linspace(0, 100, 16)\n",
    "\n",
    "dt = 0.001\n",
    "\n",
    "\n",
    "\n",
    "\n",
    "integrate_GPU = create(Brusselator)\n",
    "\n"
   ]
  },
  {
   "cell_type": "code",
   "execution_count": 6,
   "id": "29082404",
   "metadata": {
    "ExecuteTime": {
     "end_time": "2022-10-02T23:45:16.728927Z",
     "start_time": "2022-10-02T23:45:16.720490Z"
    }
   },
   "outputs": [],
   "source": [
    "integrate_GPU = cuda.jit(integrate_GPU)"
   ]
  },
  {
   "cell_type": "code",
   "execution_count": 7,
   "id": "b1e42475",
   "metadata": {
    "ExecuteTime": {
     "end_time": "2022-10-02T23:45:22.246404Z",
     "start_time": "2022-10-02T23:45:20.183830Z"
    }
   },
   "outputs": [
    {
     "ename": "TypingError",
     "evalue": "Failed in cuda mode pipeline (step: nopython frontend)\nUntyped global name 'f': Cannot determine Numba type of <class 'function'>\n\nFile \"../../../../tmp/ipykernel_2486/2331648382.py\", line 41:\n<source missing, REPL/exec in use?>\n",
     "output_type": "error",
     "traceback": [
      "\u001b[0;31m---------------------------------------------------------------------------\u001b[0m",
      "\u001b[0;31mTypingError\u001b[0m                               Traceback (most recent call last)",
      "Cell \u001b[0;32mIn [7], line 11\u001b[0m\n\u001b[1;32m      7\u001b[0m blockspergrid \u001b[38;5;241m=\u001b[39m (\u001b[38;5;241m2\u001b[39m, blockspergrid_x, blockspergrid_y)\n\u001b[1;32m      9\u001b[0m d_ret \u001b[38;5;241m=\u001b[39m cuda\u001b[38;5;241m.\u001b[39mto_device(ret)\n\u001b[0;32m---> 11\u001b[0m integrate_GPU[blockspergrid, threadsperblock](\n\u001b[1;32m     12\u001b[0m                 cuda\u001b[38;5;241m.\u001b[39mto_device(c0),\n\u001b[1;32m     13\u001b[0m                 cuda\u001b[38;5;241m.\u001b[39mto_device(t), \n\u001b[1;32m     14\u001b[0m                 dt, \n\u001b[1;32m     15\u001b[0m                 cuda\u001b[38;5;241m.\u001b[39mto_device(n), \n\u001b[1;32m     16\u001b[0m                 cuda\u001b[38;5;241m.\u001b[39mto_device(L), \n\u001b[1;32m     17\u001b[0m                 cuda\u001b[38;5;241m.\u001b[39mto_device(Ds), \n\u001b[1;32m     18\u001b[0m                 cuda\u001b[38;5;241m.\u001b[39mto_device(f_args),\n\u001b[1;32m     19\u001b[0m                 d_ret)\n",
      "File \u001b[0;32m~/.conda/envs/numba/lib/python3.10/site-packages/numba/cuda/compiler.py:729\u001b[0m, in \u001b[0;36m_KernelConfiguration.__call__\u001b[0;34m(self, *args)\u001b[0m\n\u001b[1;32m    728\u001b[0m \u001b[38;5;28;01mdef\u001b[39;00m \u001b[38;5;21m__call__\u001b[39m(\u001b[38;5;28mself\u001b[39m, \u001b[38;5;241m*\u001b[39margs):\n\u001b[0;32m--> 729\u001b[0m     \u001b[38;5;28;01mreturn\u001b[39;00m \u001b[38;5;28;43mself\u001b[39;49m\u001b[38;5;241;43m.\u001b[39;49m\u001b[43mdispatcher\u001b[49m\u001b[38;5;241;43m.\u001b[39;49m\u001b[43mcall\u001b[49m\u001b[43m(\u001b[49m\u001b[43margs\u001b[49m\u001b[43m,\u001b[49m\u001b[43m \u001b[49m\u001b[38;5;28;43mself\u001b[39;49m\u001b[38;5;241;43m.\u001b[39;49m\u001b[43mgriddim\u001b[49m\u001b[43m,\u001b[49m\u001b[43m \u001b[49m\u001b[38;5;28;43mself\u001b[39;49m\u001b[38;5;241;43m.\u001b[39;49m\u001b[43mblockdim\u001b[49m\u001b[43m,\u001b[49m\n\u001b[1;32m    730\u001b[0m \u001b[43m                                \u001b[49m\u001b[38;5;28;43mself\u001b[39;49m\u001b[38;5;241;43m.\u001b[39;49m\u001b[43mstream\u001b[49m\u001b[43m,\u001b[49m\u001b[43m \u001b[49m\u001b[38;5;28;43mself\u001b[39;49m\u001b[38;5;241;43m.\u001b[39;49m\u001b[43msharedmem\u001b[49m\u001b[43m)\u001b[49m\n",
      "File \u001b[0;32m~/.conda/envs/numba/lib/python3.10/site-packages/numba/cuda/compiler.py:917\u001b[0m, in \u001b[0;36mDispatcher.call\u001b[0;34m(self, args, griddim, blockdim, stream, sharedmem)\u001b[0m\n\u001b[1;32m    915\u001b[0m     kernel \u001b[38;5;241m=\u001b[39m \u001b[38;5;28mnext\u001b[39m(\u001b[38;5;28miter\u001b[39m(\u001b[38;5;28mself\u001b[39m\u001b[38;5;241m.\u001b[39moverloads\u001b[38;5;241m.\u001b[39mvalues()))\n\u001b[1;32m    916\u001b[0m \u001b[38;5;28;01melse\u001b[39;00m:\n\u001b[0;32m--> 917\u001b[0m     kernel \u001b[38;5;241m=\u001b[39m \u001b[43m_dispatcher\u001b[49m\u001b[38;5;241;43m.\u001b[39;49m\u001b[43mDispatcher\u001b[49m\u001b[38;5;241;43m.\u001b[39;49m\u001b[43m_cuda_call\u001b[49m\u001b[43m(\u001b[49m\u001b[38;5;28;43mself\u001b[39;49m\u001b[43m,\u001b[49m\u001b[43m \u001b[49m\u001b[38;5;241;43m*\u001b[39;49m\u001b[43margs\u001b[49m\u001b[43m)\u001b[49m\n\u001b[1;32m    919\u001b[0m kernel\u001b[38;5;241m.\u001b[39mlaunch(args, griddim, blockdim, stream, sharedmem)\n",
      "File \u001b[0;32m~/.conda/envs/numba/lib/python3.10/site-packages/numba/cuda/compiler.py:925\u001b[0m, in \u001b[0;36mDispatcher._compile_for_args\u001b[0;34m(self, *args, **kws)\u001b[0m\n\u001b[1;32m    923\u001b[0m \u001b[38;5;28;01massert\u001b[39;00m \u001b[38;5;129;01mnot\u001b[39;00m kws\n\u001b[1;32m    924\u001b[0m argtypes \u001b[38;5;241m=\u001b[39m [\u001b[38;5;28mself\u001b[39m\u001b[38;5;241m.\u001b[39mtypeof_pyval(a) \u001b[38;5;28;01mfor\u001b[39;00m a \u001b[38;5;129;01min\u001b[39;00m args]\n\u001b[0;32m--> 925\u001b[0m \u001b[38;5;28;01mreturn\u001b[39;00m \u001b[38;5;28;43mself\u001b[39;49m\u001b[38;5;241;43m.\u001b[39;49m\u001b[43mcompile\u001b[49m\u001b[43m(\u001b[49m\u001b[38;5;28;43mtuple\u001b[39;49m\u001b[43m(\u001b[49m\u001b[43margtypes\u001b[49m\u001b[43m)\u001b[49m\u001b[43m)\u001b[49m\n",
      "File \u001b[0;32m~/.conda/envs/numba/lib/python3.10/site-packages/numba/cuda/compiler.py:1086\u001b[0m, in \u001b[0;36mDispatcher.compile\u001b[0;34m(self, sig)\u001b[0m\n\u001b[1;32m   1084\u001b[0m \u001b[38;5;28;01mif\u001b[39;00m \u001b[38;5;129;01mnot\u001b[39;00m \u001b[38;5;28mself\u001b[39m\u001b[38;5;241m.\u001b[39m_can_compile:\n\u001b[1;32m   1085\u001b[0m     \u001b[38;5;28;01mraise\u001b[39;00m \u001b[38;5;167;01mRuntimeError\u001b[39;00m(\u001b[38;5;124m\"\u001b[39m\u001b[38;5;124mCompilation disabled\u001b[39m\u001b[38;5;124m\"\u001b[39m)\n\u001b[0;32m-> 1086\u001b[0m kernel \u001b[38;5;241m=\u001b[39m \u001b[43m_Kernel\u001b[49m\u001b[43m(\u001b[49m\u001b[38;5;28;43mself\u001b[39;49m\u001b[38;5;241;43m.\u001b[39;49m\u001b[43mpy_func\u001b[49m\u001b[43m,\u001b[49m\u001b[43m \u001b[49m\u001b[43margtypes\u001b[49m\u001b[43m,\u001b[49m\u001b[43m \u001b[49m\u001b[43mlink\u001b[49m\u001b[38;5;241;43m=\u001b[39;49m\u001b[38;5;28;43mself\u001b[39;49m\u001b[38;5;241;43m.\u001b[39;49m\u001b[43mlink\u001b[49m\u001b[43m,\u001b[49m\n\u001b[1;32m   1087\u001b[0m \u001b[43m                 \u001b[49m\u001b[38;5;241;43m*\u001b[39;49m\u001b[38;5;241;43m*\u001b[39;49m\u001b[38;5;28;43mself\u001b[39;49m\u001b[38;5;241;43m.\u001b[39;49m\u001b[43mtargetoptions\u001b[49m\u001b[43m)\u001b[49m\n\u001b[1;32m   1088\u001b[0m \u001b[38;5;66;03m# Inspired by _DispatcherBase.add_overload, but differs slightly\u001b[39;00m\n\u001b[1;32m   1089\u001b[0m \u001b[38;5;66;03m# because we're inserting a _Kernel object instead of a compiled\u001b[39;00m\n\u001b[1;32m   1090\u001b[0m \u001b[38;5;66;03m# function.\u001b[39;00m\n\u001b[1;32m   1091\u001b[0m c_sig \u001b[38;5;241m=\u001b[39m [a\u001b[38;5;241m.\u001b[39m_code \u001b[38;5;28;01mfor\u001b[39;00m a \u001b[38;5;129;01min\u001b[39;00m argtypes]\n",
      "File \u001b[0;32m~/.conda/envs/numba/lib/python3.10/site-packages/numba/core/compiler_lock.py:35\u001b[0m, in \u001b[0;36m_CompilerLock.__call__.<locals>._acquire_compile_lock\u001b[0;34m(*args, **kwargs)\u001b[0m\n\u001b[1;32m     32\u001b[0m \u001b[38;5;129m@functools\u001b[39m\u001b[38;5;241m.\u001b[39mwraps(func)\n\u001b[1;32m     33\u001b[0m \u001b[38;5;28;01mdef\u001b[39;00m \u001b[38;5;21m_acquire_compile_lock\u001b[39m(\u001b[38;5;241m*\u001b[39margs, \u001b[38;5;241m*\u001b[39m\u001b[38;5;241m*\u001b[39mkwargs):\n\u001b[1;32m     34\u001b[0m     \u001b[38;5;28;01mwith\u001b[39;00m \u001b[38;5;28mself\u001b[39m:\n\u001b[0;32m---> 35\u001b[0m         \u001b[38;5;28;01mreturn\u001b[39;00m \u001b[43mfunc\u001b[49m\u001b[43m(\u001b[49m\u001b[38;5;241;43m*\u001b[39;49m\u001b[43margs\u001b[49m\u001b[43m,\u001b[49m\u001b[43m \u001b[49m\u001b[38;5;241;43m*\u001b[39;49m\u001b[38;5;241;43m*\u001b[39;49m\u001b[43mkwargs\u001b[49m\u001b[43m)\u001b[49m\n",
      "File \u001b[0;32m~/.conda/envs/numba/lib/python3.10/site-packages/numba/cuda/compiler.py:392\u001b[0m, in \u001b[0;36m_Kernel.__init__\u001b[0;34m(self, py_func, argtypes, link, debug, lineinfo, inline, fastmath, extensions, max_registers, opt, device)\u001b[0m\n\u001b[1;32m    383\u001b[0m \u001b[38;5;28mself\u001b[39m\u001b[38;5;241m.\u001b[39mextensions \u001b[38;5;241m=\u001b[39m extensions \u001b[38;5;129;01mor\u001b[39;00m []\n\u001b[1;32m    385\u001b[0m nvvm_options \u001b[38;5;241m=\u001b[39m {\n\u001b[1;32m    386\u001b[0m     \u001b[38;5;124m'\u001b[39m\u001b[38;5;124mdebug\u001b[39m\u001b[38;5;124m'\u001b[39m: \u001b[38;5;28mself\u001b[39m\u001b[38;5;241m.\u001b[39mdebug,\n\u001b[1;32m    387\u001b[0m     \u001b[38;5;124m'\u001b[39m\u001b[38;5;124mlineinfo\u001b[39m\u001b[38;5;124m'\u001b[39m: \u001b[38;5;28mself\u001b[39m\u001b[38;5;241m.\u001b[39mlineinfo,\n\u001b[1;32m    388\u001b[0m     \u001b[38;5;124m'\u001b[39m\u001b[38;5;124mfastmath\u001b[39m\u001b[38;5;124m'\u001b[39m: fastmath,\n\u001b[1;32m    389\u001b[0m     \u001b[38;5;124m'\u001b[39m\u001b[38;5;124mopt\u001b[39m\u001b[38;5;124m'\u001b[39m: \u001b[38;5;241m3\u001b[39m \u001b[38;5;28;01mif\u001b[39;00m opt \u001b[38;5;28;01melse\u001b[39;00m \u001b[38;5;241m0\u001b[39m\n\u001b[1;32m    390\u001b[0m }\n\u001b[0;32m--> 392\u001b[0m cres \u001b[38;5;241m=\u001b[39m \u001b[43mcompile_cuda\u001b[49m\u001b[43m(\u001b[49m\u001b[38;5;28;43mself\u001b[39;49m\u001b[38;5;241;43m.\u001b[39;49m\u001b[43mpy_func\u001b[49m\u001b[43m,\u001b[49m\u001b[43m \u001b[49m\u001b[43mtypes\u001b[49m\u001b[38;5;241;43m.\u001b[39;49m\u001b[43mvoid\u001b[49m\u001b[43m,\u001b[49m\u001b[43m \u001b[49m\u001b[38;5;28;43mself\u001b[39;49m\u001b[38;5;241;43m.\u001b[39;49m\u001b[43margtypes\u001b[49m\u001b[43m,\u001b[49m\n\u001b[1;32m    393\u001b[0m \u001b[43m                    \u001b[49m\u001b[43mdebug\u001b[49m\u001b[38;5;241;43m=\u001b[39;49m\u001b[38;5;28;43mself\u001b[39;49m\u001b[38;5;241;43m.\u001b[39;49m\u001b[43mdebug\u001b[49m\u001b[43m,\u001b[49m\n\u001b[1;32m    394\u001b[0m \u001b[43m                    \u001b[49m\u001b[43mlineinfo\u001b[49m\u001b[38;5;241;43m=\u001b[39;49m\u001b[38;5;28;43mself\u001b[39;49m\u001b[38;5;241;43m.\u001b[39;49m\u001b[43mlineinfo\u001b[49m\u001b[43m,\u001b[49m\n\u001b[1;32m    395\u001b[0m \u001b[43m                    \u001b[49m\u001b[43minline\u001b[49m\u001b[38;5;241;43m=\u001b[39;49m\u001b[43minline\u001b[49m\u001b[43m,\u001b[49m\n\u001b[1;32m    396\u001b[0m \u001b[43m                    \u001b[49m\u001b[43mfastmath\u001b[49m\u001b[38;5;241;43m=\u001b[39;49m\u001b[43mfastmath\u001b[49m\u001b[43m,\u001b[49m\n\u001b[1;32m    397\u001b[0m \u001b[43m                    \u001b[49m\u001b[43mnvvm_options\u001b[49m\u001b[38;5;241;43m=\u001b[39;49m\u001b[43mnvvm_options\u001b[49m\u001b[43m)\u001b[49m\n\u001b[1;32m    398\u001b[0m tgt_ctx \u001b[38;5;241m=\u001b[39m cres\u001b[38;5;241m.\u001b[39mtarget_context\n\u001b[1;32m    399\u001b[0m code \u001b[38;5;241m=\u001b[39m \u001b[38;5;28mself\u001b[39m\u001b[38;5;241m.\u001b[39mpy_func\u001b[38;5;241m.\u001b[39m\u001b[38;5;18m__code__\u001b[39m\n",
      "File \u001b[0;32m~/.conda/envs/numba/lib/python3.10/site-packages/numba/core/compiler_lock.py:35\u001b[0m, in \u001b[0;36m_CompilerLock.__call__.<locals>._acquire_compile_lock\u001b[0;34m(*args, **kwargs)\u001b[0m\n\u001b[1;32m     32\u001b[0m \u001b[38;5;129m@functools\u001b[39m\u001b[38;5;241m.\u001b[39mwraps(func)\n\u001b[1;32m     33\u001b[0m \u001b[38;5;28;01mdef\u001b[39;00m \u001b[38;5;21m_acquire_compile_lock\u001b[39m(\u001b[38;5;241m*\u001b[39margs, \u001b[38;5;241m*\u001b[39m\u001b[38;5;241m*\u001b[39mkwargs):\n\u001b[1;32m     34\u001b[0m     \u001b[38;5;28;01mwith\u001b[39;00m \u001b[38;5;28mself\u001b[39m:\n\u001b[0;32m---> 35\u001b[0m         \u001b[38;5;28;01mreturn\u001b[39;00m \u001b[43mfunc\u001b[49m\u001b[43m(\u001b[49m\u001b[38;5;241;43m*\u001b[39;49m\u001b[43margs\u001b[49m\u001b[43m,\u001b[49m\u001b[43m \u001b[49m\u001b[38;5;241;43m*\u001b[39;49m\u001b[38;5;241;43m*\u001b[39;49m\u001b[43mkwargs\u001b[49m\u001b[43m)\u001b[49m\n",
      "File \u001b[0;32m~/.conda/envs/numba/lib/python3.10/site-packages/numba/cuda/compiler.py:202\u001b[0m, in \u001b[0;36mcompile_cuda\u001b[0;34m(pyfunc, return_type, args, debug, lineinfo, inline, fastmath, nvvm_options)\u001b[0m\n\u001b[1;32m    199\u001b[0m     flags\u001b[38;5;241m.\u001b[39mnvvm_options \u001b[38;5;241m=\u001b[39m nvvm_options\n\u001b[1;32m    201\u001b[0m \u001b[38;5;66;03m# Run compilation pipeline\u001b[39;00m\n\u001b[0;32m--> 202\u001b[0m cres \u001b[38;5;241m=\u001b[39m \u001b[43mcompiler\u001b[49m\u001b[38;5;241;43m.\u001b[39;49m\u001b[43mcompile_extra\u001b[49m\u001b[43m(\u001b[49m\u001b[43mtypingctx\u001b[49m\u001b[38;5;241;43m=\u001b[39;49m\u001b[43mtypingctx\u001b[49m\u001b[43m,\u001b[49m\n\u001b[1;32m    203\u001b[0m \u001b[43m                              \u001b[49m\u001b[43mtargetctx\u001b[49m\u001b[38;5;241;43m=\u001b[39;49m\u001b[43mtargetctx\u001b[49m\u001b[43m,\u001b[49m\n\u001b[1;32m    204\u001b[0m \u001b[43m                              \u001b[49m\u001b[43mfunc\u001b[49m\u001b[38;5;241;43m=\u001b[39;49m\u001b[43mpyfunc\u001b[49m\u001b[43m,\u001b[49m\n\u001b[1;32m    205\u001b[0m \u001b[43m                              \u001b[49m\u001b[43margs\u001b[49m\u001b[38;5;241;43m=\u001b[39;49m\u001b[43margs\u001b[49m\u001b[43m,\u001b[49m\n\u001b[1;32m    206\u001b[0m \u001b[43m                              \u001b[49m\u001b[43mreturn_type\u001b[49m\u001b[38;5;241;43m=\u001b[39;49m\u001b[43mreturn_type\u001b[49m\u001b[43m,\u001b[49m\n\u001b[1;32m    207\u001b[0m \u001b[43m                              \u001b[49m\u001b[43mflags\u001b[49m\u001b[38;5;241;43m=\u001b[39;49m\u001b[43mflags\u001b[49m\u001b[43m,\u001b[49m\n\u001b[1;32m    208\u001b[0m \u001b[43m                              \u001b[49m\u001b[38;5;28;43mlocals\u001b[39;49m\u001b[38;5;241;43m=\u001b[39;49m\u001b[43m{\u001b[49m\u001b[43m}\u001b[49m\u001b[43m,\u001b[49m\n\u001b[1;32m    209\u001b[0m \u001b[43m                              \u001b[49m\u001b[43mpipeline_class\u001b[49m\u001b[38;5;241;43m=\u001b[39;49m\u001b[43mCUDACompiler\u001b[49m\u001b[43m)\u001b[49m\n\u001b[1;32m    211\u001b[0m library \u001b[38;5;241m=\u001b[39m cres\u001b[38;5;241m.\u001b[39mlibrary\n\u001b[1;32m    212\u001b[0m library\u001b[38;5;241m.\u001b[39mfinalize()\n",
      "File \u001b[0;32m~/.conda/envs/numba/lib/python3.10/site-packages/numba/core/compiler.py:693\u001b[0m, in \u001b[0;36mcompile_extra\u001b[0;34m(typingctx, targetctx, func, args, return_type, flags, locals, library, pipeline_class)\u001b[0m\n\u001b[1;32m    669\u001b[0m \u001b[38;5;124;03m\"\"\"Compiler entry point\u001b[39;00m\n\u001b[1;32m    670\u001b[0m \n\u001b[1;32m    671\u001b[0m \u001b[38;5;124;03mParameter\u001b[39;00m\n\u001b[0;32m   (...)\u001b[0m\n\u001b[1;32m    689\u001b[0m \u001b[38;5;124;03m    compiler pipeline\u001b[39;00m\n\u001b[1;32m    690\u001b[0m \u001b[38;5;124;03m\"\"\"\u001b[39;00m\n\u001b[1;32m    691\u001b[0m pipeline \u001b[38;5;241m=\u001b[39m pipeline_class(typingctx, targetctx, library,\n\u001b[1;32m    692\u001b[0m                           args, return_type, flags, \u001b[38;5;28mlocals\u001b[39m)\n\u001b[0;32m--> 693\u001b[0m \u001b[38;5;28;01mreturn\u001b[39;00m \u001b[43mpipeline\u001b[49m\u001b[38;5;241;43m.\u001b[39;49m\u001b[43mcompile_extra\u001b[49m\u001b[43m(\u001b[49m\u001b[43mfunc\u001b[49m\u001b[43m)\u001b[49m\n",
      "File \u001b[0;32m~/.conda/envs/numba/lib/python3.10/site-packages/numba/core/compiler.py:429\u001b[0m, in \u001b[0;36mCompilerBase.compile_extra\u001b[0;34m(self, func)\u001b[0m\n\u001b[1;32m    427\u001b[0m \u001b[38;5;28mself\u001b[39m\u001b[38;5;241m.\u001b[39mstate\u001b[38;5;241m.\u001b[39mlifted \u001b[38;5;241m=\u001b[39m ()\n\u001b[1;32m    428\u001b[0m \u001b[38;5;28mself\u001b[39m\u001b[38;5;241m.\u001b[39mstate\u001b[38;5;241m.\u001b[39mlifted_from \u001b[38;5;241m=\u001b[39m \u001b[38;5;28;01mNone\u001b[39;00m\n\u001b[0;32m--> 429\u001b[0m \u001b[38;5;28;01mreturn\u001b[39;00m \u001b[38;5;28;43mself\u001b[39;49m\u001b[38;5;241;43m.\u001b[39;49m\u001b[43m_compile_bytecode\u001b[49m\u001b[43m(\u001b[49m\u001b[43m)\u001b[49m\n",
      "File \u001b[0;32m~/.conda/envs/numba/lib/python3.10/site-packages/numba/core/compiler.py:497\u001b[0m, in \u001b[0;36mCompilerBase._compile_bytecode\u001b[0;34m(self)\u001b[0m\n\u001b[1;32m    493\u001b[0m \u001b[38;5;124;03m\"\"\"\u001b[39;00m\n\u001b[1;32m    494\u001b[0m \u001b[38;5;124;03mPopulate and run pipeline for bytecode input\u001b[39;00m\n\u001b[1;32m    495\u001b[0m \u001b[38;5;124;03m\"\"\"\u001b[39;00m\n\u001b[1;32m    496\u001b[0m \u001b[38;5;28;01massert\u001b[39;00m \u001b[38;5;28mself\u001b[39m\u001b[38;5;241m.\u001b[39mstate\u001b[38;5;241m.\u001b[39mfunc_ir \u001b[38;5;129;01mis\u001b[39;00m \u001b[38;5;28;01mNone\u001b[39;00m\n\u001b[0;32m--> 497\u001b[0m \u001b[38;5;28;01mreturn\u001b[39;00m \u001b[38;5;28;43mself\u001b[39;49m\u001b[38;5;241;43m.\u001b[39;49m\u001b[43m_compile_core\u001b[49m\u001b[43m(\u001b[49m\u001b[43m)\u001b[49m\n",
      "File \u001b[0;32m~/.conda/envs/numba/lib/python3.10/site-packages/numba/core/compiler.py:476\u001b[0m, in \u001b[0;36mCompilerBase._compile_core\u001b[0;34m(self)\u001b[0m\n\u001b[1;32m    474\u001b[0m         \u001b[38;5;28mself\u001b[39m\u001b[38;5;241m.\u001b[39mstate\u001b[38;5;241m.\u001b[39mstatus\u001b[38;5;241m.\u001b[39mfail_reason \u001b[38;5;241m=\u001b[39m e\n\u001b[1;32m    475\u001b[0m         \u001b[38;5;28;01mif\u001b[39;00m is_final_pipeline:\n\u001b[0;32m--> 476\u001b[0m             \u001b[38;5;28;01mraise\u001b[39;00m e\n\u001b[1;32m    477\u001b[0m \u001b[38;5;28;01melse\u001b[39;00m:\n\u001b[1;32m    478\u001b[0m     \u001b[38;5;28;01mraise\u001b[39;00m CompilerError(\u001b[38;5;124m\"\u001b[39m\u001b[38;5;124mAll available pipelines exhausted\u001b[39m\u001b[38;5;124m\"\u001b[39m)\n",
      "File \u001b[0;32m~/.conda/envs/numba/lib/python3.10/site-packages/numba/core/compiler.py:463\u001b[0m, in \u001b[0;36mCompilerBase._compile_core\u001b[0;34m(self)\u001b[0m\n\u001b[1;32m    461\u001b[0m res \u001b[38;5;241m=\u001b[39m \u001b[38;5;28;01mNone\u001b[39;00m\n\u001b[1;32m    462\u001b[0m \u001b[38;5;28;01mtry\u001b[39;00m:\n\u001b[0;32m--> 463\u001b[0m     \u001b[43mpm\u001b[49m\u001b[38;5;241;43m.\u001b[39;49m\u001b[43mrun\u001b[49m\u001b[43m(\u001b[49m\u001b[38;5;28;43mself\u001b[39;49m\u001b[38;5;241;43m.\u001b[39;49m\u001b[43mstate\u001b[49m\u001b[43m)\u001b[49m\n\u001b[1;32m    464\u001b[0m     \u001b[38;5;28;01mif\u001b[39;00m \u001b[38;5;28mself\u001b[39m\u001b[38;5;241m.\u001b[39mstate\u001b[38;5;241m.\u001b[39mcr \u001b[38;5;129;01mis\u001b[39;00m \u001b[38;5;129;01mnot\u001b[39;00m \u001b[38;5;28;01mNone\u001b[39;00m:\n\u001b[1;32m    465\u001b[0m         \u001b[38;5;28;01mbreak\u001b[39;00m\n",
      "File \u001b[0;32m~/.conda/envs/numba/lib/python3.10/site-packages/numba/core/compiler_machinery.py:353\u001b[0m, in \u001b[0;36mPassManager.run\u001b[0;34m(self, state)\u001b[0m\n\u001b[1;32m    350\u001b[0m msg \u001b[38;5;241m=\u001b[39m \u001b[38;5;124m\"\u001b[39m\u001b[38;5;124mFailed in \u001b[39m\u001b[38;5;132;01m%s\u001b[39;00m\u001b[38;5;124m mode pipeline (step: \u001b[39m\u001b[38;5;132;01m%s\u001b[39;00m\u001b[38;5;124m)\u001b[39m\u001b[38;5;124m\"\u001b[39m \u001b[38;5;241m%\u001b[39m \\\n\u001b[1;32m    351\u001b[0m     (\u001b[38;5;28mself\u001b[39m\u001b[38;5;241m.\u001b[39mpipeline_name, pass_desc)\n\u001b[1;32m    352\u001b[0m patched_exception \u001b[38;5;241m=\u001b[39m \u001b[38;5;28mself\u001b[39m\u001b[38;5;241m.\u001b[39m_patch_error(msg, e)\n\u001b[0;32m--> 353\u001b[0m \u001b[38;5;28;01mraise\u001b[39;00m patched_exception\n",
      "File \u001b[0;32m~/.conda/envs/numba/lib/python3.10/site-packages/numba/core/compiler_machinery.py:341\u001b[0m, in \u001b[0;36mPassManager.run\u001b[0;34m(self, state)\u001b[0m\n\u001b[1;32m    339\u001b[0m pass_inst \u001b[38;5;241m=\u001b[39m _pass_registry\u001b[38;5;241m.\u001b[39mget(pss)\u001b[38;5;241m.\u001b[39mpass_inst\n\u001b[1;32m    340\u001b[0m \u001b[38;5;28;01mif\u001b[39;00m \u001b[38;5;28misinstance\u001b[39m(pass_inst, CompilerPass):\n\u001b[0;32m--> 341\u001b[0m     \u001b[38;5;28;43mself\u001b[39;49m\u001b[38;5;241;43m.\u001b[39;49m\u001b[43m_runPass\u001b[49m\u001b[43m(\u001b[49m\u001b[43midx\u001b[49m\u001b[43m,\u001b[49m\u001b[43m \u001b[49m\u001b[43mpass_inst\u001b[49m\u001b[43m,\u001b[49m\u001b[43m \u001b[49m\u001b[43mstate\u001b[49m\u001b[43m)\u001b[49m\n\u001b[1;32m    342\u001b[0m \u001b[38;5;28;01melse\u001b[39;00m:\n\u001b[1;32m    343\u001b[0m     \u001b[38;5;28;01mraise\u001b[39;00m \u001b[38;5;167;01mBaseException\u001b[39;00m(\u001b[38;5;124m\"\u001b[39m\u001b[38;5;124mLegacy pass in use\u001b[39m\u001b[38;5;124m\"\u001b[39m)\n",
      "File \u001b[0;32m~/.conda/envs/numba/lib/python3.10/site-packages/numba/core/compiler_lock.py:35\u001b[0m, in \u001b[0;36m_CompilerLock.__call__.<locals>._acquire_compile_lock\u001b[0;34m(*args, **kwargs)\u001b[0m\n\u001b[1;32m     32\u001b[0m \u001b[38;5;129m@functools\u001b[39m\u001b[38;5;241m.\u001b[39mwraps(func)\n\u001b[1;32m     33\u001b[0m \u001b[38;5;28;01mdef\u001b[39;00m \u001b[38;5;21m_acquire_compile_lock\u001b[39m(\u001b[38;5;241m*\u001b[39margs, \u001b[38;5;241m*\u001b[39m\u001b[38;5;241m*\u001b[39mkwargs):\n\u001b[1;32m     34\u001b[0m     \u001b[38;5;28;01mwith\u001b[39;00m \u001b[38;5;28mself\u001b[39m:\n\u001b[0;32m---> 35\u001b[0m         \u001b[38;5;28;01mreturn\u001b[39;00m \u001b[43mfunc\u001b[49m\u001b[43m(\u001b[49m\u001b[38;5;241;43m*\u001b[39;49m\u001b[43margs\u001b[49m\u001b[43m,\u001b[49m\u001b[43m \u001b[49m\u001b[38;5;241;43m*\u001b[39;49m\u001b[38;5;241;43m*\u001b[39;49m\u001b[43mkwargs\u001b[49m\u001b[43m)\u001b[49m\n",
      "File \u001b[0;32m~/.conda/envs/numba/lib/python3.10/site-packages/numba/core/compiler_machinery.py:296\u001b[0m, in \u001b[0;36mPassManager._runPass\u001b[0;34m(self, index, pss, internal_state)\u001b[0m\n\u001b[1;32m    294\u001b[0m     mutated \u001b[38;5;241m|\u001b[39m\u001b[38;5;241m=\u001b[39m check(pss\u001b[38;5;241m.\u001b[39mrun_initialization, internal_state)\n\u001b[1;32m    295\u001b[0m \u001b[38;5;28;01mwith\u001b[39;00m SimpleTimer() \u001b[38;5;28;01mas\u001b[39;00m pass_time:\n\u001b[0;32m--> 296\u001b[0m     mutated \u001b[38;5;241m|\u001b[39m\u001b[38;5;241m=\u001b[39m \u001b[43mcheck\u001b[49m\u001b[43m(\u001b[49m\u001b[43mpss\u001b[49m\u001b[38;5;241;43m.\u001b[39;49m\u001b[43mrun_pass\u001b[49m\u001b[43m,\u001b[49m\u001b[43m \u001b[49m\u001b[43minternal_state\u001b[49m\u001b[43m)\u001b[49m\n\u001b[1;32m    297\u001b[0m \u001b[38;5;28;01mwith\u001b[39;00m SimpleTimer() \u001b[38;5;28;01mas\u001b[39;00m finalize_time:\n\u001b[1;32m    298\u001b[0m     mutated \u001b[38;5;241m|\u001b[39m\u001b[38;5;241m=\u001b[39m check(pss\u001b[38;5;241m.\u001b[39mrun_finalizer, internal_state)\n",
      "File \u001b[0;32m~/.conda/envs/numba/lib/python3.10/site-packages/numba/core/compiler_machinery.py:269\u001b[0m, in \u001b[0;36mPassManager._runPass.<locals>.check\u001b[0;34m(func, compiler_state)\u001b[0m\n\u001b[1;32m    268\u001b[0m \u001b[38;5;28;01mdef\u001b[39;00m \u001b[38;5;21mcheck\u001b[39m(func, compiler_state):\n\u001b[0;32m--> 269\u001b[0m     mangled \u001b[38;5;241m=\u001b[39m \u001b[43mfunc\u001b[49m\u001b[43m(\u001b[49m\u001b[43mcompiler_state\u001b[49m\u001b[43m)\u001b[49m\n\u001b[1;32m    270\u001b[0m     \u001b[38;5;28;01mif\u001b[39;00m mangled \u001b[38;5;129;01mnot\u001b[39;00m \u001b[38;5;129;01min\u001b[39;00m (\u001b[38;5;28;01mTrue\u001b[39;00m, \u001b[38;5;28;01mFalse\u001b[39;00m):\n\u001b[1;32m    271\u001b[0m         msg \u001b[38;5;241m=\u001b[39m (\u001b[38;5;124m\"\u001b[39m\u001b[38;5;124mCompilerPass implementations should return True/False. \u001b[39m\u001b[38;5;124m\"\u001b[39m\n\u001b[1;32m    272\u001b[0m                \u001b[38;5;124m\"\u001b[39m\u001b[38;5;124mCompilerPass with name \u001b[39m\u001b[38;5;124m'\u001b[39m\u001b[38;5;132;01m%s\u001b[39;00m\u001b[38;5;124m'\u001b[39m\u001b[38;5;124m did not.\u001b[39m\u001b[38;5;124m\"\u001b[39m)\n",
      "File \u001b[0;32m~/.conda/envs/numba/lib/python3.10/site-packages/numba/core/typed_passes.py:105\u001b[0m, in \u001b[0;36mBaseTypeInference.run_pass\u001b[0;34m(self, state)\u001b[0m\n\u001b[1;32m     99\u001b[0m \u001b[38;5;124;03m\"\"\"\u001b[39;00m\n\u001b[1;32m    100\u001b[0m \u001b[38;5;124;03mType inference and legalization\u001b[39;00m\n\u001b[1;32m    101\u001b[0m \u001b[38;5;124;03m\"\"\"\u001b[39;00m\n\u001b[1;32m    102\u001b[0m \u001b[38;5;28;01mwith\u001b[39;00m fallback_context(state, \u001b[38;5;124m'\u001b[39m\u001b[38;5;124mFunction \u001b[39m\u001b[38;5;124m\"\u001b[39m\u001b[38;5;132;01m%s\u001b[39;00m\u001b[38;5;124m\"\u001b[39m\u001b[38;5;124m failed type inference\u001b[39m\u001b[38;5;124m'\u001b[39m\n\u001b[1;32m    103\u001b[0m                       \u001b[38;5;241m%\u001b[39m (state\u001b[38;5;241m.\u001b[39mfunc_id\u001b[38;5;241m.\u001b[39mfunc_name,)):\n\u001b[1;32m    104\u001b[0m     \u001b[38;5;66;03m# Type inference\u001b[39;00m\n\u001b[0;32m--> 105\u001b[0m     typemap, return_type, calltypes, errs \u001b[38;5;241m=\u001b[39m \u001b[43mtype_inference_stage\u001b[49m\u001b[43m(\u001b[49m\n\u001b[1;32m    106\u001b[0m \u001b[43m        \u001b[49m\u001b[43mstate\u001b[49m\u001b[38;5;241;43m.\u001b[39;49m\u001b[43mtypingctx\u001b[49m\u001b[43m,\u001b[49m\n\u001b[1;32m    107\u001b[0m \u001b[43m        \u001b[49m\u001b[43mstate\u001b[49m\u001b[38;5;241;43m.\u001b[39;49m\u001b[43mtargetctx\u001b[49m\u001b[43m,\u001b[49m\n\u001b[1;32m    108\u001b[0m \u001b[43m        \u001b[49m\u001b[43mstate\u001b[49m\u001b[38;5;241;43m.\u001b[39;49m\u001b[43mfunc_ir\u001b[49m\u001b[43m,\u001b[49m\n\u001b[1;32m    109\u001b[0m \u001b[43m        \u001b[49m\u001b[43mstate\u001b[49m\u001b[38;5;241;43m.\u001b[39;49m\u001b[43margs\u001b[49m\u001b[43m,\u001b[49m\n\u001b[1;32m    110\u001b[0m \u001b[43m        \u001b[49m\u001b[43mstate\u001b[49m\u001b[38;5;241;43m.\u001b[39;49m\u001b[43mreturn_type\u001b[49m\u001b[43m,\u001b[49m\n\u001b[1;32m    111\u001b[0m \u001b[43m        \u001b[49m\u001b[43mstate\u001b[49m\u001b[38;5;241;43m.\u001b[39;49m\u001b[43mlocals\u001b[49m\u001b[43m,\u001b[49m\n\u001b[1;32m    112\u001b[0m \u001b[43m        \u001b[49m\u001b[43mraise_errors\u001b[49m\u001b[38;5;241;43m=\u001b[39;49m\u001b[38;5;28;43mself\u001b[39;49m\u001b[38;5;241;43m.\u001b[39;49m\u001b[43m_raise_errors\u001b[49m\u001b[43m)\u001b[49m\n\u001b[1;32m    113\u001b[0m     state\u001b[38;5;241m.\u001b[39mtypemap \u001b[38;5;241m=\u001b[39m typemap\n\u001b[1;32m    114\u001b[0m     \u001b[38;5;66;03m# save errors in case of partial typing\u001b[39;00m\n",
      "File \u001b[0;32m~/.conda/envs/numba/lib/python3.10/site-packages/numba/core/typed_passes.py:81\u001b[0m, in \u001b[0;36mtype_inference_stage\u001b[0;34m(typingctx, targetctx, interp, args, return_type, locals, raise_errors)\u001b[0m\n\u001b[1;32m     78\u001b[0m \u001b[38;5;28;01mfor\u001b[39;00m k, v \u001b[38;5;129;01min\u001b[39;00m \u001b[38;5;28mlocals\u001b[39m\u001b[38;5;241m.\u001b[39mitems():\n\u001b[1;32m     79\u001b[0m     infer\u001b[38;5;241m.\u001b[39mseed_type(k, v)\n\u001b[0;32m---> 81\u001b[0m \u001b[43minfer\u001b[49m\u001b[38;5;241;43m.\u001b[39;49m\u001b[43mbuild_constraint\u001b[49m\u001b[43m(\u001b[49m\u001b[43m)\u001b[49m\n\u001b[1;32m     82\u001b[0m \u001b[38;5;66;03m# return errors in case of partial typing\u001b[39;00m\n\u001b[1;32m     83\u001b[0m errs \u001b[38;5;241m=\u001b[39m infer\u001b[38;5;241m.\u001b[39mpropagate(raise_errors\u001b[38;5;241m=\u001b[39mraise_errors)\n",
      "File \u001b[0;32m~/.conda/envs/numba/lib/python3.10/site-packages/numba/core/typeinfer.py:1039\u001b[0m, in \u001b[0;36mTypeInferer.build_constraint\u001b[0;34m(self)\u001b[0m\n\u001b[1;32m   1037\u001b[0m \u001b[38;5;28;01mfor\u001b[39;00m blk \u001b[38;5;129;01min\u001b[39;00m \u001b[38;5;28mself\u001b[39m\u001b[38;5;241m.\u001b[39mblocks\u001b[38;5;241m.\u001b[39mvalues():\n\u001b[1;32m   1038\u001b[0m     \u001b[38;5;28;01mfor\u001b[39;00m inst \u001b[38;5;129;01min\u001b[39;00m blk\u001b[38;5;241m.\u001b[39mbody:\n\u001b[0;32m-> 1039\u001b[0m         \u001b[38;5;28;43mself\u001b[39;49m\u001b[38;5;241;43m.\u001b[39;49m\u001b[43mconstrain_statement\u001b[49m\u001b[43m(\u001b[49m\u001b[43minst\u001b[49m\u001b[43m)\u001b[49m\n",
      "File \u001b[0;32m~/.conda/envs/numba/lib/python3.10/site-packages/numba/core/typeinfer.py:1386\u001b[0m, in \u001b[0;36mTypeInferer.constrain_statement\u001b[0;34m(self, inst)\u001b[0m\n\u001b[1;32m   1384\u001b[0m \u001b[38;5;28;01mdef\u001b[39;00m \u001b[38;5;21mconstrain_statement\u001b[39m(\u001b[38;5;28mself\u001b[39m, inst):\n\u001b[1;32m   1385\u001b[0m     \u001b[38;5;28;01mif\u001b[39;00m \u001b[38;5;28misinstance\u001b[39m(inst, ir\u001b[38;5;241m.\u001b[39mAssign):\n\u001b[0;32m-> 1386\u001b[0m         \u001b[38;5;28;43mself\u001b[39;49m\u001b[38;5;241;43m.\u001b[39;49m\u001b[43mtypeof_assign\u001b[49m\u001b[43m(\u001b[49m\u001b[43minst\u001b[49m\u001b[43m)\u001b[49m\n\u001b[1;32m   1387\u001b[0m     \u001b[38;5;28;01melif\u001b[39;00m \u001b[38;5;28misinstance\u001b[39m(inst, ir\u001b[38;5;241m.\u001b[39mSetItem):\n\u001b[1;32m   1388\u001b[0m         \u001b[38;5;28mself\u001b[39m\u001b[38;5;241m.\u001b[39mtypeof_setitem(inst)\n",
      "File \u001b[0;32m~/.conda/envs/numba/lib/python3.10/site-packages/numba/core/typeinfer.py:1459\u001b[0m, in \u001b[0;36mTypeInferer.typeof_assign\u001b[0;34m(self, inst)\u001b[0m\n\u001b[1;32m   1456\u001b[0m     \u001b[38;5;28mself\u001b[39m\u001b[38;5;241m.\u001b[39mconstraints\u001b[38;5;241m.\u001b[39mappend(Propagate(dst\u001b[38;5;241m=\u001b[39minst\u001b[38;5;241m.\u001b[39mtarget\u001b[38;5;241m.\u001b[39mname,\n\u001b[1;32m   1457\u001b[0m                                       src\u001b[38;5;241m=\u001b[39mvalue\u001b[38;5;241m.\u001b[39mname, loc\u001b[38;5;241m=\u001b[39minst\u001b[38;5;241m.\u001b[39mloc))\n\u001b[1;32m   1458\u001b[0m \u001b[38;5;28;01melif\u001b[39;00m \u001b[38;5;28misinstance\u001b[39m(value, (ir\u001b[38;5;241m.\u001b[39mGlobal, ir\u001b[38;5;241m.\u001b[39mFreeVar)):\n\u001b[0;32m-> 1459\u001b[0m     \u001b[38;5;28;43mself\u001b[39;49m\u001b[38;5;241;43m.\u001b[39;49m\u001b[43mtypeof_global\u001b[49m\u001b[43m(\u001b[49m\u001b[43minst\u001b[49m\u001b[43m,\u001b[49m\u001b[43m \u001b[49m\u001b[43minst\u001b[49m\u001b[38;5;241;43m.\u001b[39;49m\u001b[43mtarget\u001b[49m\u001b[43m,\u001b[49m\u001b[43m \u001b[49m\u001b[43mvalue\u001b[49m\u001b[43m)\u001b[49m\n\u001b[1;32m   1460\u001b[0m \u001b[38;5;28;01melif\u001b[39;00m \u001b[38;5;28misinstance\u001b[39m(value, ir\u001b[38;5;241m.\u001b[39mArg):\n\u001b[1;32m   1461\u001b[0m     \u001b[38;5;28mself\u001b[39m\u001b[38;5;241m.\u001b[39mtypeof_arg(inst, inst\u001b[38;5;241m.\u001b[39mtarget, value)\n",
      "File \u001b[0;32m~/.conda/envs/numba/lib/python3.10/site-packages/numba/core/typeinfer.py:1559\u001b[0m, in \u001b[0;36mTypeInferer.typeof_global\u001b[0;34m(self, inst, target, gvar)\u001b[0m\n\u001b[1;32m   1557\u001b[0m \u001b[38;5;28;01mdef\u001b[39;00m \u001b[38;5;21mtypeof_global\u001b[39m(\u001b[38;5;28mself\u001b[39m, inst, target, gvar):\n\u001b[1;32m   1558\u001b[0m     \u001b[38;5;28;01mtry\u001b[39;00m:\n\u001b[0;32m-> 1559\u001b[0m         typ \u001b[38;5;241m=\u001b[39m \u001b[38;5;28;43mself\u001b[39;49m\u001b[38;5;241;43m.\u001b[39;49m\u001b[43mresolve_value_type\u001b[49m\u001b[43m(\u001b[49m\u001b[43minst\u001b[49m\u001b[43m,\u001b[49m\u001b[43m \u001b[49m\u001b[43mgvar\u001b[49m\u001b[38;5;241;43m.\u001b[39;49m\u001b[43mvalue\u001b[49m\u001b[43m)\u001b[49m\n\u001b[1;32m   1560\u001b[0m     \u001b[38;5;28;01mexcept\u001b[39;00m TypingError \u001b[38;5;28;01mas\u001b[39;00m e:\n\u001b[1;32m   1561\u001b[0m         \u001b[38;5;28;01mif\u001b[39;00m (gvar\u001b[38;5;241m.\u001b[39mname \u001b[38;5;241m==\u001b[39m \u001b[38;5;28mself\u001b[39m\u001b[38;5;241m.\u001b[39mfunc_id\u001b[38;5;241m.\u001b[39mfunc_name\n\u001b[1;32m   1562\u001b[0m                 \u001b[38;5;129;01mand\u001b[39;00m gvar\u001b[38;5;241m.\u001b[39mname \u001b[38;5;129;01min\u001b[39;00m _temporary_dispatcher_map):\n\u001b[1;32m   1563\u001b[0m             \u001b[38;5;66;03m# Self-recursion case where the dispatcher is not (yet?) known\u001b[39;00m\n\u001b[1;32m   1564\u001b[0m             \u001b[38;5;66;03m# as a global variable\u001b[39;00m\n",
      "File \u001b[0;32m~/.conda/envs/numba/lib/python3.10/site-packages/numba/core/typeinfer.py:1480\u001b[0m, in \u001b[0;36mTypeInferer.resolve_value_type\u001b[0;34m(self, inst, val)\u001b[0m\n\u001b[1;32m   1478\u001b[0m \u001b[38;5;28;01mexcept\u001b[39;00m \u001b[38;5;167;01mValueError\u001b[39;00m \u001b[38;5;28;01mas\u001b[39;00m e:\n\u001b[1;32m   1479\u001b[0m     msg \u001b[38;5;241m=\u001b[39m \u001b[38;5;28mstr\u001b[39m(e)\n\u001b[0;32m-> 1480\u001b[0m \u001b[38;5;28;01mraise\u001b[39;00m TypingError(msg, loc\u001b[38;5;241m=\u001b[39minst\u001b[38;5;241m.\u001b[39mloc)\n",
      "\u001b[0;31mTypingError\u001b[0m: Failed in cuda mode pipeline (step: nopython frontend)\nUntyped global name 'f': Cannot determine Numba type of <class 'function'>\n\nFile \"../../../../tmp/ipykernel_2486/2331648382.py\", line 41:\n<source missing, REPL/exec in use?>\n"
     ]
    }
   ],
   "source": [
    "ret = np.zeros((c0.shape[0], c0.shape[1], c0.shape[2], t.shape[0]))\n",
    "\n",
    "\n",
    "threadsperblock = (2, 16, 16)\n",
    "blockspergrid_x = math.ceil(c0.shape[1] / threadsperblock[0])\n",
    "blockspergrid_y = math.ceil(c0.shape[2] / threadsperblock[1])\n",
    "blockspergrid = (2, blockspergrid_x, blockspergrid_y)\n",
    "\n",
    "d_ret = cuda.to_device(ret)\n",
    "\n",
    "integrate_GPU[blockspergrid, threadsperblock](\n",
    "                cuda.to_device(c0),\n",
    "                cuda.to_device(t), \n",
    "                dt, \n",
    "                cuda.to_device(n), \n",
    "                cuda.to_device(L), \n",
    "                cuda.to_device(Ds), \n",
    "                cuda.to_device(f_args),\n",
    "                d_ret)"
   ]
  },
  {
   "cell_type": "code",
   "execution_count": 3,
   "id": "938257cc",
   "metadata": {
    "ExecuteTime": {
     "end_time": "2022-10-02T23:26:01.637285Z",
     "start_time": "2022-10-02T23:26:00.664098Z"
    }
   },
   "outputs": [
    {
     "ename": "CudaAPIError",
     "evalue": "[700] Call to cuMemcpyDtoH results in UNKNOWN_CUDA_ERROR",
     "output_type": "error",
     "traceback": [
      "\u001b[0;31m---------------------------------------------------------------------------\u001b[0m",
      "\u001b[0;31mCudaAPIError\u001b[0m                              Traceback (most recent call last)",
      "Cell \u001b[0;32mIn [3], line 1\u001b[0m\n\u001b[0;32m----> 1\u001b[0m d_ret\u001b[38;5;241m.\u001b[39mcopy_to_host(ret)\n",
      "File \u001b[0;32m~/.conda/envs/numba/lib/python3.10/site-packages/numba/cuda/cudadrv/devices.py:232\u001b[0m, in \u001b[0;36mrequire_context.<locals>._require_cuda_context\u001b[0;34m(*args, **kws)\u001b[0m\n\u001b[1;32m    229\u001b[0m \u001b[38;5;129m@functools\u001b[39m\u001b[38;5;241m.\u001b[39mwraps(fn)\n\u001b[1;32m    230\u001b[0m \u001b[38;5;28;01mdef\u001b[39;00m \u001b[38;5;21m_require_cuda_context\u001b[39m(\u001b[38;5;241m*\u001b[39margs, \u001b[38;5;241m*\u001b[39m\u001b[38;5;241m*\u001b[39mkws):\n\u001b[1;32m    231\u001b[0m     \u001b[38;5;28;01mwith\u001b[39;00m _runtime\u001b[38;5;241m.\u001b[39mensure_context():\n\u001b[0;32m--> 232\u001b[0m         \u001b[38;5;28;01mreturn\u001b[39;00m \u001b[43mfn\u001b[49m\u001b[43m(\u001b[49m\u001b[38;5;241;43m*\u001b[39;49m\u001b[43margs\u001b[49m\u001b[43m,\u001b[49m\u001b[43m \u001b[49m\u001b[38;5;241;43m*\u001b[39;49m\u001b[38;5;241;43m*\u001b[39;49m\u001b[43mkws\u001b[49m\u001b[43m)\u001b[49m\n",
      "File \u001b[0;32m~/.conda/envs/numba/lib/python3.10/site-packages/numba/cuda/cudadrv/devicearray.py:277\u001b[0m, in \u001b[0;36mDeviceNDArrayBase.copy_to_host\u001b[0;34m(self, ary, stream)\u001b[0m\n\u001b[1;32m    274\u001b[0m     hostary \u001b[38;5;241m=\u001b[39m ary\n\u001b[1;32m    276\u001b[0m \u001b[38;5;28;01mif\u001b[39;00m \u001b[38;5;28mself\u001b[39m\u001b[38;5;241m.\u001b[39malloc_size \u001b[38;5;241m!=\u001b[39m \u001b[38;5;241m0\u001b[39m:\n\u001b[0;32m--> 277\u001b[0m     \u001b[43m_driver\u001b[49m\u001b[38;5;241;43m.\u001b[39;49m\u001b[43mdevice_to_host\u001b[49m\u001b[43m(\u001b[49m\u001b[43mhostary\u001b[49m\u001b[43m,\u001b[49m\u001b[43m \u001b[49m\u001b[38;5;28;43mself\u001b[39;49m\u001b[43m,\u001b[49m\u001b[43m \u001b[49m\u001b[38;5;28;43mself\u001b[39;49m\u001b[38;5;241;43m.\u001b[39;49m\u001b[43malloc_size\u001b[49m\u001b[43m,\u001b[49m\n\u001b[1;32m    278\u001b[0m \u001b[43m                           \u001b[49m\u001b[43mstream\u001b[49m\u001b[38;5;241;43m=\u001b[39;49m\u001b[43mstream\u001b[49m\u001b[43m)\u001b[49m\n\u001b[1;32m    280\u001b[0m \u001b[38;5;28;01mif\u001b[39;00m ary \u001b[38;5;129;01mis\u001b[39;00m \u001b[38;5;28;01mNone\u001b[39;00m:\n\u001b[1;32m    281\u001b[0m     \u001b[38;5;28;01mif\u001b[39;00m \u001b[38;5;28mself\u001b[39m\u001b[38;5;241m.\u001b[39msize \u001b[38;5;241m==\u001b[39m \u001b[38;5;241m0\u001b[39m:\n",
      "File \u001b[0;32m~/.conda/envs/numba/lib/python3.10/site-packages/numba/cuda/cudadrv/driver.py:3001\u001b[0m, in \u001b[0;36mdevice_to_host\u001b[0;34m(dst, src, size, stream)\u001b[0m\n\u001b[1;32m   2998\u001b[0m \u001b[38;5;28;01melse\u001b[39;00m:\n\u001b[1;32m   2999\u001b[0m     fn \u001b[38;5;241m=\u001b[39m driver\u001b[38;5;241m.\u001b[39mcuMemcpyDtoH\n\u001b[0;32m-> 3001\u001b[0m \u001b[43mfn\u001b[49m\u001b[43m(\u001b[49m\u001b[43mhost_pointer\u001b[49m\u001b[43m(\u001b[49m\u001b[43mdst\u001b[49m\u001b[43m)\u001b[49m\u001b[43m,\u001b[49m\u001b[43m \u001b[49m\u001b[43mdevice_pointer\u001b[49m\u001b[43m(\u001b[49m\u001b[43msrc\u001b[49m\u001b[43m)\u001b[49m\u001b[43m,\u001b[49m\u001b[43m \u001b[49m\u001b[43msize\u001b[49m\u001b[43m,\u001b[49m\u001b[43m \u001b[49m\u001b[38;5;241;43m*\u001b[39;49m\u001b[43mvarargs\u001b[49m\u001b[43m)\u001b[49m\n",
      "File \u001b[0;32m~/.conda/envs/numba/lib/python3.10/site-packages/numba/cuda/cudadrv/driver.py:319\u001b[0m, in \u001b[0;36mDriver._ctypes_wrap_fn.<locals>.safe_cuda_api_call\u001b[0;34m(*args)\u001b[0m\n\u001b[1;32m    317\u001b[0m _logger\u001b[38;5;241m.\u001b[39mdebug(\u001b[38;5;124m'\u001b[39m\u001b[38;5;124mcall driver api: \u001b[39m\u001b[38;5;132;01m%s\u001b[39;00m\u001b[38;5;124m'\u001b[39m, libfn\u001b[38;5;241m.\u001b[39m\u001b[38;5;18m__name__\u001b[39m)\n\u001b[1;32m    318\u001b[0m retcode \u001b[38;5;241m=\u001b[39m libfn(\u001b[38;5;241m*\u001b[39margs)\n\u001b[0;32m--> 319\u001b[0m \u001b[38;5;28;43mself\u001b[39;49m\u001b[38;5;241;43m.\u001b[39;49m\u001b[43m_check_ctypes_error\u001b[49m\u001b[43m(\u001b[49m\u001b[43mfname\u001b[49m\u001b[43m,\u001b[49m\u001b[43m \u001b[49m\u001b[43mretcode\u001b[49m\u001b[43m)\u001b[49m\n",
      "File \u001b[0;32m~/.conda/envs/numba/lib/python3.10/site-packages/numba/cuda/cudadrv/driver.py:387\u001b[0m, in \u001b[0;36mDriver._check_ctypes_error\u001b[0;34m(self, fname, retcode)\u001b[0m\n\u001b[1;32m    385\u001b[0m \u001b[38;5;28;01mif\u001b[39;00m retcode \u001b[38;5;241m==\u001b[39m enums\u001b[38;5;241m.\u001b[39mCUDA_ERROR_NOT_INITIALIZED:\n\u001b[1;32m    386\u001b[0m     \u001b[38;5;28mself\u001b[39m\u001b[38;5;241m.\u001b[39m_detect_fork()\n\u001b[0;32m--> 387\u001b[0m \u001b[38;5;28;01mraise\u001b[39;00m CudaAPIError(retcode, msg)\n",
      "\u001b[0;31mCudaAPIError\u001b[0m: [700] Call to cuMemcpyDtoH results in UNKNOWN_CUDA_ERROR"
     ]
    }
   ],
   "source": [
    "d_ret.copy_to_host(ret)"
   ]
  },
  {
   "cell_type": "code",
   "execution_count": 88,
   "id": "feff36dc",
   "metadata": {
    "ExecuteTime": {
     "end_time": "2022-10-02T22:16:52.632128Z",
     "start_time": "2022-10-02T22:16:52.620670Z"
    }
   },
   "outputs": [
    {
     "data": {
      "text/plain": [
       "array([[ 0.,  0.,  0., ...,  0.,  0.,  0.],\n",
       "       [ 1.,  1.,  1., ...,  1.,  1.,  1.],\n",
       "       [ 2.,  2.,  2., ...,  2.,  2.,  2.],\n",
       "       ...,\n",
       "       [29., 29., 29., ..., 29., 29., 29.],\n",
       "       [30., 30., 30., ..., 30., 30., 30.],\n",
       "       [31., 31., 31., ..., 31., 31., 31.]])"
      ]
     },
     "execution_count": 88,
     "metadata": {},
     "output_type": "execute_result"
    }
   ],
   "source": [
    "retx#.tolist()"
   ]
  },
  {
   "cell_type": "code",
   "execution_count": 89,
   "id": "f5ca9e67",
   "metadata": {
    "ExecuteTime": {
     "end_time": "2022-10-02T22:17:08.684861Z",
     "start_time": "2022-10-02T22:17:08.674830Z"
    }
   },
   "outputs": [
    {
     "data": {
      "text/plain": [
       "(2, 2)"
      ]
     },
     "execution_count": 89,
     "metadata": {},
     "output_type": "execute_result"
    }
   ],
   "source": [
    "blockspergrid"
   ]
  },
  {
   "cell_type": "code",
   "execution_count": 90,
   "id": "3e35c700",
   "metadata": {
    "ExecuteTime": {
     "end_time": "2022-10-02T22:17:16.740657Z",
     "start_time": "2022-10-02T22:17:16.728787Z"
    }
   },
   "outputs": [
    {
     "data": {
      "text/plain": [
       "(16, 16)"
      ]
     },
     "execution_count": 90,
     "metadata": {},
     "output_type": "execute_result"
    }
   ],
   "source": [
    "threadsperblock"
   ]
  },
  {
   "cell_type": "code",
   "execution_count": 120,
   "id": "72c680ce",
   "metadata": {
    "ExecuteTime": {
     "end_time": "2022-10-02T22:49:43.523891Z",
     "start_time": "2022-10-02T22:49:43.513746Z"
    }
   },
   "outputs": [
    {
     "data": {
      "text/plain": [
       "(0, 0, 0)"
      ]
     },
     "execution_count": 120,
     "metadata": {},
     "output_type": "execute_result"
    }
   ],
   "source": [
    "tuple([0]*3)"
   ]
  },
  {
   "cell_type": "code",
   "execution_count": 5,
   "id": "4d189730",
   "metadata": {
    "ExecuteTime": {
     "end_time": "2022-10-02T23:54:42.073841Z",
     "start_time": "2022-10-02T23:54:42.057424Z"
    }
   },
   "outputs": [],
   "source": [
    "from numba import cuda, float32\n",
    "import numpy as np\n",
    "import math\n",
    "# Controls threads per block and shared memory usage.\n",
    "# The computation will be done on blocks of TPBxTPB elements.\n",
    "TPB = 16\n",
    "\n",
    "@cuda.jit\n",
    "def integrate_GPU(c0, t, dt, n, L, Ds, f_args, d_ret):\n",
    "    # Define an array in the shared memory\n",
    "    # The size and type of the arrays must be known at compile time\n",
    "    #sdc = cuda.shared.array(shape=(TPB, TPB), dtype=float32)    \n",
    "\n",
    "    z, x, y = cuda.grid(3)\n",
    "\n",
    "    #tx = cuda.threadIdx.x\n",
    "    #ty = cuda.threadIdx.y\n",
    "    #bpg = cuda.gridDim.x    # blocks per grid\n",
    "\n",
    "    #if x >= c0.shape[0] and y >= c0.shape[1]:\n",
    "        # Quit if (x, y) is outside of valid dc boundary\n",
    "    #    return        \n",
    "    #dc = 0\n",
    "    t_c = t[0]\n",
    "    # Periodic boundary condition\n",
    "    i_prev = (x - 1) % n[0]\n",
    "    i_next = (x + 1) % n[0]\n",
    "\n",
    "    j_prev = (y - 1) % n[1]\n",
    "    j_next = (y + 1) % n[1]\n",
    "    \n",
    "    A, B = f_args\n",
    "    \n",
    "\n",
    "    d_ret[0, x, y, 0] = z\n",
    "    d_ret[0, x, y, 1] = x\n",
    "    d_ret[0, x, y, 2] = y\n"
   ]
  },
  {
   "cell_type": "code",
   "execution_count": null,
   "id": "ab4e2670",
   "metadata": {},
   "outputs": [],
   "source": []
  }
 ],
 "metadata": {
  "kernelspec": {
   "display_name": "numba",
   "language": "python",
   "name": "numba"
  },
  "language_info": {
   "codemirror_mode": {
    "name": "ipython",
    "version": 3
   },
   "file_extension": ".py",
   "mimetype": "text/x-python",
   "name": "python",
   "nbconvert_exporter": "python",
   "pygments_lexer": "ipython3",
   "version": "3.10.4"
  },
  "varInspector": {
   "cols": {
    "lenName": 16,
    "lenType": 16,
    "lenVar": 40
   },
   "kernels_config": {
    "python": {
     "delete_cmd_postfix": "",
     "delete_cmd_prefix": "del ",
     "library": "var_list.py",
     "varRefreshCmd": "print(var_dic_list())"
    },
    "r": {
     "delete_cmd_postfix": ") ",
     "delete_cmd_prefix": "rm(",
     "library": "var_list.r",
     "varRefreshCmd": "cat(var_dic_list()) "
    }
   },
   "types_to_exclude": [
    "module",
    "function",
    "builtin_function_or_method",
    "instance",
    "_Feature"
   ],
   "window_display": false
  }
 },
 "nbformat": 4,
 "nbformat_minor": 5
}
