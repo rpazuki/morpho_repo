{
 "cells": [
  {
   "cell_type": "code",
   "execution_count": 1,
   "id": "124d5f89",
   "metadata": {
    "ExecuteTime": {
     "end_time": "2023-10-11T18:16:50.916926Z",
     "start_time": "2023-10-11T18:16:50.384735Z"
    }
   },
   "outputs": [],
   "source": [
    "import scipy as sp\n",
    "import numpy as np\n",
    "import matplotlib.pyplot as plt"
   ]
  },
  {
   "cell_type": "code",
   "execution_count": 252,
   "id": "5f33048f",
   "metadata": {
    "ExecuteTime": {
     "end_time": "2023-10-12T06:41:08.594904Z",
     "start_time": "2023-10-12T06:40:55.580812Z"
    }
   },
   "outputs": [],
   "source": [
    "def matrix_intervals(m, axis=1):\n",
    "    \"\"\"Turn a matrix to row(column)-wise intervals\n",
    "    \n",
    "       args:\n",
    "           m: (n,n) numpy array.\n",
    "           axis:  use one for row-wise and zero for\n",
    "                  column-wise intervals.\n",
    "    \"\"\"\n",
    "    # Get the diagonal terms\n",
    "    ds = np.diag(m)\n",
    "    # Sum of absolute value of off-diagonal elements\n",
    "    rs = np.sum(np.abs(m - np.diag(ds)), axis = axis)\n",
    "    # create intrvals around the diagonal terms\n",
    "    return np.array([ (d-r, d+r) for d, r in zip(ds, rs) ])\n",
    "\n",
    "#\n",
    "# a = np.arange(0,9).reshape((3,3))\n",
    "# assert np.all(matrix_intervals(a,1) == np.array([[-3,  3],\n",
    "#                                                  [-4, 12],\n",
    "#                                                  [-5, 21]]))\n",
    "# assert np.all(matrix_intervals(a,0) == np.array([[-9,  9],\n",
    "#                                                  [-4, 12],\n",
    "#                                                  [ 1, 15]]))\n",
    "\n",
    "\n",
    "def alg1(m, axis=1):\n",
    "    \"\"\"Specifies the stabaility property of the matrix.\n",
    "    \n",
    "       args:\n",
    "           m: (n,n) numpy array.\n",
    "           axis:  use one for row-wise and zero for\n",
    "                  column-wise intervals.\n",
    "       return:\n",
    "               0 - super-stable\n",
    "               1 - inconclusive\n",
    "               2 - unstable\n",
    "    \n",
    "    \"\"\"\n",
    "    n = m.shape[0]\n",
    "    intervals = matrix_intervals(m,axis)\n",
    "    us = np.array([u for _,u in intervals])\n",
    "    ls = np.array([l for l,_ in intervals])\n",
    "    u_max_index = np.argmax(us)\n",
    "    u_max = us[u_max_index]    \n",
    "    if u_max < 0:# Super-stable\n",
    "        return 0\n",
    "    \n",
    "    l_i = ls[u_max_index] \n",
    "    if l_i < 0:# Inconclusive\n",
    "        return 1\n",
    "    indices = [i for i in range(0, n) if i != u_max_index]\n",
    "    for j in indices:\n",
    "        l_j, u_j = ls[j], us[j]\n",
    "        if l_i < u_j:\n",
    "            if l_j < l_i:\n",
    "                l_i = l_j\n",
    "            if l_i < 0:# Inconclusive\n",
    "                return 1\n",
    "    return 2# unstable            \n",
    "\n",
    "def alg2(m, axis=1):\n",
    "    \"\"\"Specifies if the stabaility property can be tightened.\n",
    "    \n",
    "       args:\n",
    "           m: (n,n) numpy array.\n",
    "           axis:  use one for row-wise and zero for\n",
    "                  column-wise intervals.\n",
    "       return:\n",
    "               0 - super-stable\n",
    "               1 - inconclusive\n",
    "               2 - unstable\n",
    "    \n",
    "    \"\"\"\n",
    "    n = m.shape[0]\n",
    "    # Get the diagonal terms\n",
    "    ds = np.diag(m)\n",
    "    # Sum of absolute value of off-diagonal elements\n",
    "    rs = np.sum(np.abs(m - np.diag(ds)), axis = axis)\n",
    "    a_max_index = np.argmax(ds)\n",
    "    a_ii = ds[a_max_index]\n",
    "    r_i = rs[a_max_index]\n",
    "    indices = [i for i in range(0, n) if i != a_max_index]\n",
    "    if a_ii > 0:        \n",
    "        for j in indices:\n",
    "            r_j = rs[j]\n",
    "            a_jj = m[j,j]\n",
    "            if axis == 0:\n",
    "                a_ji = m[j, a_max_index]\n",
    "            else:\n",
    "                a_ji = m[a_max_index, j]\n",
    "            c_0 = r_i\n",
    "            c_1 = a_jj-a_ii+r_j-np.abs(a_ji)\n",
    "            c_2 = np.abs(a_ji)                        \n",
    "            d_max = np.real(np.max(np.roots([c_2, c_1, c_0])))\n",
    "            if d_max <= r_i/a_ii:\n",
    "                return 1 # Inconclusive\n",
    "            if c_1 >= 0:                \n",
    "                return 1 # Inconclusive\n",
    "            if c_1*c_1 <= 4*np.abs(a_ji*r_i):                \n",
    "                return 1 # Inconclusive\n",
    "        return 2 # Unstable\n",
    "    else:\n",
    "        #r_j = rs[j]\n",
    "        #a_jj = m[j,j]\n",
    "        #a_ji = m[j, a_max_index]\n",
    "        #if r_i/np.abs(a_ii) >= np.min([ (np.abs(a_jj)-r_j)/np.abs(a_ji)  for j in indices]):\n",
    "        # select r_i, a_jj and a_ji\n",
    "        if axis == 0:\n",
    "            parts = [(rs[j], m[j,j], m[j, a_max_index]) for j in indices]\n",
    "        else:\n",
    "            parts = [(rs[j], m[j,j], m[a_max_index, j]) for j in indices]\n",
    "        values = [(np.abs(a_jj)-r_j)/np.abs(a_ji)  for (r_j, a_jj, a_ji) in parts]\n",
    "        if r_i/np.abs(a_ii) >= np.min(values):\n",
    "            return 1 # Inconclusive\n",
    "        return 0 # Super-stable\n",
    "\n",
    "def alg(m):\n",
    "    ret = alg1(m, axis = 0)\n",
    "    if ret != 1:\n",
    "        return ret\n",
    "    ret = alg1(m, axis = 1)\n",
    "    if ret != 1:\n",
    "        return ret\n",
    "    ret = alg2(m, axis = 0)\n",
    "    if ret != 1:\n",
    "        return ret\n",
    "    return alg2(m, axis = 1)"
   ]
  },
  {
   "cell_type": "code",
   "execution_count": 226,
   "id": "0e295ecb",
   "metadata": {
    "ExecuteTime": {
     "end_time": "2023-10-12T06:25:07.118623Z",
     "start_time": "2023-10-12T06:25:07.111749Z"
    }
   },
   "outputs": [],
   "source": [
    "def is_unstable(m):\n",
    "    \"\"\"Find the linear stability of a matrix\"\"\"\n",
    "    return np.any(np.real(sp.linalg.eigvals(m)) > 0)"
   ]
  },
  {
   "cell_type": "markdown",
   "id": "aff7eac9",
   "metadata": {},
   "source": [
    "# Tests"
   ]
  },
  {
   "cell_type": "code",
   "execution_count": 227,
   "id": "64583d1a",
   "metadata": {
    "ExecuteTime": {
     "end_time": "2023-10-12T06:25:25.856557Z",
     "start_time": "2023-10-12T06:25:25.846418Z"
    }
   },
   "outputs": [],
   "source": [
    "a = np.array([[ -4,  2, 1],\n",
    "              [  1, -3, 1],\n",
    "              [  2, -4, -10]])\n",
    "assert alg1(a,1) == 0\n",
    "\n",
    "\n",
    "a = np.array([[ 4,  2, 1],\n",
    "              [  -2.1, 3, 1],\n",
    "              [  2, -4, -10]])\n",
    "assert alg1(a,1) == 1\n",
    "\n",
    "a = np.array([[ 4,  2, 1],\n",
    "              [  1, 3, 1],\n",
    "              [  2, -4, -10]])\n",
    "assert alg1(a,1) == 2"
   ]
  },
  {
   "cell_type": "code",
   "execution_count": 228,
   "id": "74538f7c",
   "metadata": {
    "ExecuteTime": {
     "end_time": "2023-10-12T06:25:58.582983Z",
     "start_time": "2023-10-12T06:25:57.866009Z"
    }
   },
   "outputs": [
    {
     "name": "stdout",
     "output_type": "stream",
     "text": [
      "Super-stable: 1000 , 100.0%\n"
     ]
    }
   ],
   "source": [
    "from collections import Counter\n",
    "\n",
    "# change the n, L and sigma to change the types of stabilities\n",
    "samples_n = 1000\n",
    "n = 100\n",
    "L = 15\n",
    "sigma = .1\n",
    "matrices = [np.random.normal(0, sigma, (n,n)) - L*np.eye(n) for _ in range(samples_n)]\n",
    "types = [alg1(m) for m in matrices]\n",
    "stats = Counter(types)\n",
    "#stats\n",
    "for k,v in stats.items():\n",
    "    if k == 0:\n",
    "        type_is = \"Super-stable\"\n",
    "    elif k == 1:\n",
    "        type_is = \"Inconclusive\"\n",
    "    else:\n",
    "        type_is = \"Unstable\"\n",
    "    print(f\"{type_is}: {v} , {100*v/samples_n}%\")"
   ]
  },
  {
   "cell_type": "code",
   "execution_count": 229,
   "id": "e1932058",
   "metadata": {
    "ExecuteTime": {
     "end_time": "2023-10-12T06:26:03.484001Z",
     "start_time": "2023-10-12T06:26:01.757895Z"
    }
   },
   "outputs": [
    {
     "name": "stdout",
     "output_type": "stream",
     "text": [
      "1000 0\n"
     ]
    }
   ],
   "source": [
    "eigen_stability = [is_unstable(m) for m, t in zip(matrices,types) if t != 1 ]\n",
    "sum_eigen_stability = np.sum(eigen_stability)\n",
    "print(len(eigen_stability), sum_eigen_stability)\n",
    "assert np.sum(sum_eigen_stability) == np.sum([1 for t in types if t == 2 ])"
   ]
  },
  {
   "cell_type": "markdown",
   "id": "57c0cec0",
   "metadata": {},
   "source": [
    "# Repeating for many times"
   ]
  },
  {
   "cell_type": "code",
   "execution_count": 84,
   "id": "1582a7e3",
   "metadata": {
    "ExecuteTime": {
     "end_time": "2023-10-11T18:36:50.674034Z",
     "start_time": "2023-10-11T18:33:11.561368Z"
    },
    "scrolled": true
   },
   "outputs": [],
   "source": [
    "repeats = 100\n",
    "for _ in range(repeats):\n",
    "    matrices = [np.random.normal(0, sigma, (n,n)) - L*np.eye(n) for _ in range(samples_n)]\n",
    "    types = [alg1(m) for m in matrices]\n",
    "    eigen_stability = [is_unstable(m) for m, t in zip(matrices,types) if t != 1 ]\n",
    "    sum_eigen_stability = np.sum(eigen_stability)\n",
    "    #print(len(eigen_stability), sum_eigen_stability)\n",
    "    assert np.sum(sum_eigen_stability) == np.sum([1 for t in types if t == 2 ])\n",
    "    "
   ]
  },
  {
   "cell_type": "markdown",
   "id": "cbe16098",
   "metadata": {},
   "source": [
    "# Checking the consecutive calling of the algorithms"
   ]
  },
  {
   "cell_type": "code",
   "execution_count": 258,
   "id": "a0a7054e",
   "metadata": {
    "ExecuteTime": {
     "end_time": "2023-10-12T06:42:40.965537Z",
     "start_time": "2023-10-12T06:42:40.802569Z"
    }
   },
   "outputs": [
    {
     "name": "stdout",
     "output_type": "stream",
     "text": [
      "1000\n",
      "Inconclusive: 601 , 60.1%\n",
      "Unstable: 399 , 39.9%\n",
      "-----------------------\n",
      "601\n",
      "Inconclusive: 417 , 69.38435940099833%\n",
      "Unstable: 184 , 30.615640599001665%\n",
      "-----------------------\n",
      "417\n",
      "Inconclusive: 417 , 100.0%\n",
      "-----------------------\n",
      "417\n",
      "Inconclusive: 417 , 100.0%\n"
     ]
    }
   ],
   "source": [
    "samples_n = 1000\n",
    "n = 10\n",
    "L = -1#1#0#-1\n",
    "sigma = .1\n",
    "matrices = [np.random.normal(0, sigma, (n,n)) - L*np.eye(n) for _ in range(samples_n)]\n",
    "print(len(matrices))\n",
    "types = [alg1(m) for m in matrices]\n",
    "stats = Counter(types)\n",
    "#stats\n",
    "for k,v in stats.items():\n",
    "    if k == 0:\n",
    "        type_is = \"Super-stable\"\n",
    "    elif k == 1:\n",
    "        type_is = \"Inconclusive\"\n",
    "    else:\n",
    "        type_is = \"Unstable\"\n",
    "    print(f\"{type_is}: {v} , {100*v/samples_n}%\")\n",
    "print(\"-----------------------\")    \n",
    "matrices_2 = [m for m, t in zip(matrices,types) if t == 1 ]\n",
    "print(len(matrices_2))\n",
    "\n",
    "types_2 = [alg1(m, axis=0) for m in matrices_2]\n",
    "stats_2 = Counter(types_2)\n",
    "#stats\n",
    "for k,v in stats_2.items():\n",
    "    if k == 0:\n",
    "        type_is = \"Super-stable\"\n",
    "    elif k == 1:\n",
    "        type_is = \"Inconclusive\"\n",
    "    else:\n",
    "        type_is = \"Unstable\"\n",
    "    print(f\"{type_is}: {v} , {100*v/len(matrices_2)}%\")\n",
    "print(\"-----------------------\")    \n",
    "matrices_3 = [m for m, t in zip(matrices_2,types_2) if t == 1 ]\n",
    "print(len(matrices_3))\n",
    "\n",
    "types_3 = [alg2(m, axis=0) for m in matrices_3]\n",
    "stats_3 = Counter(types_3)\n",
    "#stats\n",
    "for k,v in stats_3.items():\n",
    "    if k == 0:\n",
    "        type_is = \"Super-stable\"\n",
    "    elif k == 1:\n",
    "        type_is = \"Inconclusive\"\n",
    "    else:\n",
    "        type_is = \"Unstable\"\n",
    "    print(f\"{type_is}: {v} , {100*v/len(matrices_3)}%\")\n",
    "print(\"-----------------------\")    \n",
    "matrices_4 = [m for m, t in zip(matrices_3,types_3) if t == 1 ]\n",
    "print(len(matrices_4))\n",
    "\n",
    "types_4 = [alg2(m, axis=1) for m in matrices_4]\n",
    "stats_4 = Counter(types_4)\n",
    "#stats\n",
    "for k,v in stats_4.items():\n",
    "    if k == 0:\n",
    "        type_is = \"Super-stable\"\n",
    "    elif k == 1:25\n",
    "        type_is = \"Inconclusive\"\n",
    "    else:\n",
    "        type_is = \"Unstable\"\n",
    "    print(f\"{type_is}: {v} , {100*v/len(matrices_4)}%\")    "
   ]
  },
  {
   "cell_type": "code",
   "execution_count": 259,
   "id": "ca881541",
   "metadata": {
    "ExecuteTime": {
     "end_time": "2023-10-12T06:42:52.139826Z",
     "start_time": "2023-10-12T06:42:42.523762Z"
    }
   },
   "outputs": [
    {
     "name": "stdout",
     "output_type": "stream",
     "text": [
      "Inconclusive: 417 , 41.7%\n",
      "Unstable: 583 , 58.3%\n"
     ]
    }
   ],
   "source": [
    "types_all = [alg(m) for m in matrices]\n",
    "stats_all = Counter(types_all)\n",
    "#stats\n",
    "for k,v in stats_all.items():\n",
    "    if k == 0:\n",
    "        type_is = \"Super-stable\"\n",
    "    elif k == 1:\n",
    "        type_is = \"Inconclusive\"\n",
    "    else:\n",
    "        type_is = \"Unstable\"\n",
    "    print(f\"{type_is}: {v} , {100*v/samples_n}%\")\n"
   ]
  },
  {
   "cell_type": "code",
   "execution_count": 248,
   "id": "c90dece2",
   "metadata": {
    "ExecuteTime": {
     "end_time": "2023-10-12T06:29:43.846625Z",
     "start_time": "2023-10-12T06:29:43.804637Z"
    }
   },
   "outputs": [
    {
     "name": "stdout",
     "output_type": "stream",
     "text": [
      "419 0\n",
      "164 0\n",
      "10 0\n",
      "12 0\n"
     ]
    }
   ],
   "source": [
    "25eigen_stability = [is_unstable(m) for m, t in zip(matrices,types) if t != 1 ]\n",
    "sum_eigen_stability = np.sum(eigen_stability)\n",
    "print(len(eigen_stability), sum_eigen_stability)\n",
    "assert sum_eigen_stability == np.sum([1 for t in types if t == 2 ])\n",
    "\n",
    "eigen_stability = [is_unstable(m) for m, t in zip(matrices_2,types_2) if t != 1 ]\n",
    "sum_eigen_stability = np.sum(eigen_stability)\n",
    "print(len(eigen_stability), sum_eigen_stability)\n",
    "assert sum_eigen_stability == np.sum([1 for t in types_2 if t == 2 ])\n",
    "\n",
    "eigen_stability = [is_unstable(m) for m, t in zip(matrices_3,types_3) if t != 1 ]\n",
    "sum_eigen_stability = np.sum(eigen_stability)\n",
    "print(len(eigen_stability), sum_eigen_stability)\n",
    "assert sum_eigen_stability == np.sum([1 for t in types_3 if t == 2 ])\n",
    "\n",
    "eigen_stability = [is_unstable(m) for m, t in zip(matrices_4,types_4) if t != 1 ]\n",
    "sum_eigen_stability = np.sum(eigen_stability)\n",
    "print(len(eigen_stability), sum_eigen_stability)\n",
    "assert sum_eigen_stability == np.sum([1 for t in types_4 if t == 2 ])"
   ]
  },
  {
   "cell_type": "markdown",
   "id": "c3ce2d0f",
   "metadata": {
    "ExecuteTime": {
     "end_time": "2023-10-12T06:10:01.501580Z",
     "start_time": "2023-10-12T06:10:01.452374Z"
    }
   },
   "source": [
    "# Performance Check    "
   ]
  },
  {
   "cell_type": "code",
   "execution_count": 267,
   "id": "9badccde",
   "metadata": {
    "ExecuteTime": {
     "end_time": "2023-10-12T08:10:58.558612Z",
     "start_time": "2023-10-12T08:02:20.763389Z"
    }
   },
   "outputs": [
    {
     "name": "stdout",
     "output_type": "stream",
     "text": [
      "Super-stable: 1 , 100.0%\n",
      "71.1 µs ± 101 ns per loop (mean ± std. dev. of 7 runs, 10000 loops each)\n",
      "30.7 µs ± 1.21 µs per loop (mean ± std. dev. of 7 runs, 10000 loops each)\n",
      "Super-stable: 1 , 100.0%\n",
      "207 µs ± 256 ns per loop (mean ± std. dev. of 7 runs, 1000 loops each)\n",
      "1.56 ms ± 4.12 µs per loop (mean ± std. dev. of 7 runs, 1000 loops each)\n",
      "Super-stable: 1 , 100.0%\n",
      "3.52 ms ± 2.29 µs per loop (mean ± std. dev. of 7 runs, 100 loops each)\n",
      "359 ms ± 1.93 ms per loop (mean ± std. dev. of 7 runs, 1 loop each)\n",
      "Super-stable: 1 , 100.0%\n",
      "733 ms ± 552 µs per loop (mean ± std. dev. of 7 runs, 1 loop each)\n",
      "58.7 s ± 3.15 s per loop (mean ± std. dev. of 7 runs, 1 loop each)\n"
     ]
    }
   ],
   "source": [
    "samples_n = 1\n",
    "n = 10\n",
    "L = 1\n",
    "sigma = .1\n",
    "matrices = [np.random.normal(0, sigma, (n,n)) - L*np.eye(n) for _ in range(samples_n)]\n",
    "types = [alg(m) for m in matrices]\n",
    "stats = Counter(types)\n",
    "#stats\n",
    "for k,v in stats.items():\n",
    "    if k == 0:\n",
    "        type_is = \"Super-stable\"\n",
    "    elif k == 1:\n",
    "        type_is = \"Inconclusive\"\n",
    "    else:\n",
    "        type_is = \"Unstable\"\n",
    "    print(f\"{type_is}: {v} , {100*v/samples_n}%\")\n",
    "\n",
    "%timeit [alg(m) for m in matrices]\n",
    "%timeit [is_unstable(m) for m in matrices]\n",
    "\n",
    "n = 100\n",
    "L = 10\n",
    "sigma = .1\n",
    "matrices = [np.random.normal(0, sigma, (n,n)) - L*np.eye(n) for _ in range(samples_n)]\n",
    "types = [alg(m) for m in matrices]\n",
    "stats = Counter(types)\n",
    "#stats\n",
    "for k,v in stats.items():\n",
    "    if k == 0:\n",
    "        type_is = \"Super-stable\"\n",
    "    elif k == 1:\n",
    "        type_is = \"Inconclusive\"\n",
    "    else:\n",
    "        type_is = \"Unstable\"\n",
    "    print(f\"{type_is}: {v} , {100*v/samples_n}%\")\n",
    "\n",
    "%timeit [alg(m) for m in matrices]\n",
    "%timeit [is_unstable(m) for m in matrices]\n",
    "\n",
    "n = 1000\n",
    "L = 100\n",
    "sigma = .1\n",
    "matrices = [np.random.normal(0, sigma, (n,n)) - L*np.eye(n) for _ in range(samples_n)]\n",
    "types = [alg(m) for m in matrices]\n",
    "stats = Counter(types)\n",
    "#stats\n",
    "for k,v in stats.items():\n",
    "    if k == 0:\n",
    "        type_is = \"Super-stable\"\n",
    "    elif k == 1:\n",
    "        type_is = \"Inconclusive\"\n",
    "    else:\n",
    "        type_is = \"Unstable\"\n",
    "    print(f\"{type_is}: {v} , {100*v/samples_n}%\")\n",
    "\n",
    "%timeit [alg(m) for m in matrices]\n",
    "%timeit [is_unstable(m) for m in matrices]\n",
    "\n",
    "n = 10000\n",
    "L = 1000\n",
    "sigma = .1\n",
    "matrices = [np.random.normal(0, sigma, (n,n)) - L*np.eye(n) for _ in range(samples_n)]\n",
    "types = [alg(m) for m in matrices]\n",
    "stats = Counter(types)\n",
    "#stats\n",
    "for k,v in stats.items():\n",
    "    if k == 0:\n",
    "        type_is = \"Super-stable\"\n",
    "    elif k == 1:\n",
    "        type_is = \"Inconclusive\"\n",
    "    else:\n",
    "        type_is = \"Unstable\"\n",
    "    print(f\"{type_is}: {v} , {100*v/samples_n}%\")\n",
    "\n",
    "%timeit [alg(m) for m in matrices]\n",
    "%timeit [is_unstable(m) for m in matrices]"
   ]
  },
  {
   "cell_type": "code",
   "execution_count": null,
   "id": "99b46731",
   "metadata": {},
   "outputs": [],
   "source": []
  }
 ],
 "metadata": {
  "hide_input": false,
  "kernelspec": {
   "display_name": "Python 3 (ipykernel)",
   "language": "python",
   "name": "python3"
  },
  "language_info": {
   "codemirror_mode": {
    "name": "ipython",
    "version": 3
   },
   "file_extension": ".py",
   "mimetype": "text/x-python",
   "name": "python",
   "nbconvert_exporter": "python",
   "pygments_lexer": "ipython3",
   "version": "3.9.13"
  },
  "varInspector": {
   "cols": {
    "lenName": 16,
    "lenType": 16,
    "lenVar": 40
   },
   "kernels_config": {
    "python": {
     "delete_cmd_postfix": "",
     "delete_cmd_prefix": "del ",
     "library": "var_list.py",
     "varRefreshCmd": "print(var_dic_list())"
    },
    "r": {
     "delete_cmd_postfix": ") ",
     "delete_cmd_prefix": "rm(",
     "library": "var_list.r",
     "varRefreshCmd": "cat(var_dic_list()) "
    }
   },
   "types_to_exclude": [
    "module",
    "function",
    "builtin_function_or_method",
    "instance",
    "_Feature"
   ],
   "window_display": false
  }
 },
 "nbformat": 4,
 "nbformat_minor": 5
}
