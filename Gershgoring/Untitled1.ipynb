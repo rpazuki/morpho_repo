{
 "cells": [
  {
   "cell_type": "code",
   "execution_count": 1,
   "id": "4c73ce9a",
   "metadata": {
    "ExecuteTime": {
     "end_time": "2023-06-09T15:54:49.768246Z",
     "start_time": "2023-06-09T15:54:48.177273Z"
    }
   },
   "outputs": [],
   "source": [
    "from sympy import *\n",
    "import numpy as np\n",
    "import matplotlib.pyplot as plt\n",
    "from IPython.display import display, Latex\n",
    "\n",
    "from itertools import product\n",
    "from scipy.optimize import fsolve\n",
    "from scipy.linalg import eigvals\n"
   ]
  },
  {
   "cell_type": "code",
   "execution_count": 10,
   "id": "99051057",
   "metadata": {
    "ExecuteTime": {
     "end_time": "2023-06-09T15:57:55.115135Z",
     "start_time": "2023-06-09T15:57:55.107952Z"
    }
   },
   "outputs": [],
   "source": [
    "X, K, V = symbols('X, K, V', real=True, positive = True)\n",
    "n = symbols('n', integer=True)"
   ]
  },
  {
   "cell_type": "code",
   "execution_count": 11,
   "id": "535efa6f",
   "metadata": {
    "ExecuteTime": {
     "end_time": "2023-06-09T15:57:59.677825Z",
     "start_time": "2023-06-09T15:57:59.669882Z"
    }
   },
   "outputs": [],
   "source": [
    "f_act = V/(1 + (K/X)**n)\n",
    "f_int = V/(1 + (X/K)**n)"
   ]
  },
  {
   "cell_type": "code",
   "execution_count": 12,
   "id": "73facb55",
   "metadata": {
    "ExecuteTime": {
     "end_time": "2023-06-09T15:58:03.264579Z",
     "start_time": "2023-06-09T15:58:03.250104Z"
    }
   },
   "outputs": [
    {
     "data": {
      "text/latex": [
       "$\\displaystyle - \\frac{V n \\left(\\frac{K}{X}\\right)^{n}}{K \\left(\\left(\\frac{K}{X}\\right)^{n} + 1\\right)^{2}}$"
      ],
      "text/plain": [
       "-V*n*(K/X)**n/(K*((K/X)**n + 1)**2)"
      ]
     },
     "execution_count": 12,
     "metadata": {},
     "output_type": "execute_result"
    }
   ],
   "source": [
    "diff(f_act, K)"
   ]
  },
  {
   "cell_type": "code",
   "execution_count": 13,
   "id": "6d14703c",
   "metadata": {
    "ExecuteTime": {
     "end_time": "2023-06-09T15:58:10.509865Z",
     "start_time": "2023-06-09T15:58:10.496953Z"
    }
   },
   "outputs": [
    {
     "data": {
      "text/latex": [
       "$\\displaystyle \\frac{1}{\\left(\\frac{K}{X}\\right)^{n} + 1}$"
      ],
      "text/plain": [
       "1/((K/X)**n + 1)"
      ]
     },
     "execution_count": 13,
     "metadata": {},
     "output_type": "execute_result"
    }
   ],
   "source": [
    "diff(f_act, V)"
   ]
  },
  {
   "cell_type": "code",
   "execution_count": 14,
   "id": "4b6228d1",
   "metadata": {
    "ExecuteTime": {
     "end_time": "2023-06-09T15:58:14.092302Z",
     "start_time": "2023-06-09T15:58:14.078001Z"
    }
   },
   "outputs": [
    {
     "data": {
      "text/latex": [
       "$\\displaystyle - \\frac{V \\left(\\frac{K}{X}\\right)^{n} \\log{\\left(\\frac{K}{X} \\right)}}{\\left(\\left(\\frac{K}{X}\\right)^{n} + 1\\right)^{2}}$"
      ],
      "text/plain": [
       "-V*(K/X)**n*log(K/X)/((K/X)**n + 1)**2"
      ]
     },
     "execution_count": 14,
     "metadata": {},
     "output_type": "execute_result"
    }
   ],
   "source": [
    "diff(f_act, n)"
   ]
  },
  {
   "cell_type": "code",
   "execution_count": 16,
   "id": "fd416858",
   "metadata": {
    "ExecuteTime": {
     "end_time": "2023-06-09T15:58:43.438557Z",
     "start_time": "2023-06-09T15:58:43.408192Z"
    }
   },
   "outputs": [
    {
     "data": {
      "text/latex": [
       "$\\displaystyle \\frac{2 V n^{2} \\left(\\frac{K}{X}\\right)^{2 n}}{K^{2} \\left(\\left(\\frac{K}{X}\\right)^{n} + 1\\right)^{3}} - \\frac{V n^{2} \\left(\\frac{K}{X}\\right)^{n}}{K^{2} \\left(\\left(\\frac{K}{X}\\right)^{n} + 1\\right)^{2}} + \\frac{V n \\left(\\frac{K}{X}\\right)^{n}}{K^{2} \\left(\\left(\\frac{K}{X}\\right)^{n} + 1\\right)^{2}}$"
      ],
      "text/plain": [
       "2*V*n**2*(K/X)**(2*n)/(K**2*((K/X)**n + 1)**3) - V*n**2*(K/X)**n/(K**2*((K/X)**n + 1)**2) + V*n*(K/X)**n/(K**2*((K/X)**n + 1)**2)"
      ]
     },
     "execution_count": 16,
     "metadata": {},
     "output_type": "execute_result"
    }
   ],
   "source": [
    "diff(diff(f_act, K), K)"
   ]
  },
  {
   "cell_type": "code",
   "execution_count": null,
   "id": "d27c4e9f",
   "metadata": {},
   "outputs": [],
   "source": []
  }
 ],
 "metadata": {
  "hide_input": false,
  "kernelspec": {
   "display_name": "Python 3 (ipykernel)",
   "language": "python",
   "name": "python3"
  },
  "language_info": {
   "codemirror_mode": {
    "name": "ipython",
    "version": 3
   },
   "file_extension": ".py",
   "mimetype": "text/x-python",
   "name": "python",
   "nbconvert_exporter": "python",
   "pygments_lexer": "ipython3",
   "version": "3.9.13"
  },
  "varInspector": {
   "cols": {
    "lenName": 16,
    "lenType": 16,
    "lenVar": 40
   },
   "kernels_config": {
    "python": {
     "delete_cmd_postfix": "",
     "delete_cmd_prefix": "del ",
     "library": "var_list.py",
     "varRefreshCmd": "print(var_dic_list())"
    },
    "r": {
     "delete_cmd_postfix": ") ",
     "delete_cmd_prefix": "rm(",
     "library": "var_list.r",
     "varRefreshCmd": "cat(var_dic_list()) "
    }
   },
   "types_to_exclude": [
    "module",
    "function",
    "builtin_function_or_method",
    "instance",
    "_Feature"
   ],
   "window_display": false
  }
 },
 "nbformat": 4,
 "nbformat_minor": 5
}
