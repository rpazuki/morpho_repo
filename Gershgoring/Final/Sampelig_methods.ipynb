{
 "cells": [
  {
   "cell_type": "code",
   "execution_count": 1,
   "id": "73ea3809",
   "metadata": {
    "ExecuteTime": {
     "end_time": "2023-12-15T13:17:47.880695Z",
     "start_time": "2023-12-15T13:17:47.247394Z"
    }
   },
   "outputs": [],
   "source": [
    "import os\n",
    "os.environ['OPENBLAS_NUM_THREADS'] = '1'\n",
    "import numpy as np\n",
    "import scipy as sp\n",
    "import matplotlib.pyplot as plt\n",
    "from algorithms import *\n",
    "from multiprocessing import Pool, shared_memory"
   ]
  },
  {
   "cell_type": "markdown",
   "id": "8a4c4e35",
   "metadata": {},
   "source": [
    "### Make sure the proc_num is around 2/3 of the number of your machine's cores"
   ]
  },
  {
   "cell_type": "code",
   "execution_count": 2,
   "id": "bacd6c21",
   "metadata": {
    "ExecuteTime": {
     "end_time": "2023-12-15T13:17:49.287463Z",
     "start_time": "2023-12-15T13:17:49.282015Z"
    }
   },
   "outputs": [],
   "source": [
    "proc_num = 55"
   ]
  },
  {
   "cell_type": "markdown",
   "id": "f82fafde",
   "metadata": {},
   "source": [
    "# Sampling off-diagonal terms from a exponential distribution"
   ]
  },
  {
   "cell_type": "code",
   "execution_count": null,
   "id": "2eed36a3",
   "metadata": {
    "ExecuteTime": {
     "end_time": "2023-12-12T14:15:03.995623Z",
     "start_time": "2023-12-12T14:14:56.747721Z"
    }
   },
   "outputs": [],
   "source": [
    "# netwrok sizes\n",
    "ns = np.array([4, 8, 16, 32, 64, 128, 256, 512, 1024])\n",
    "# maximim degredatopn rate\n",
    "c = 1\n",
    "# lambda or the exponential distribution rates of off-diagonal terms\n",
    "lambs = np.array([ c*10, c*50,  1000*c])\n",
    "# trials per ensemble\n",
    "trials = 1000\n",
    "# number of ensembles\n",
    "repeats = 5\n",
    "def proc_stability1(args):\n",
    "    # initialise each random generator inside the running thread\n",
    "    rng = np.random.default_rng()\n",
    "    np.random.seed(rng.integers(low=0, high=np.iinfo(np.int32).max))\n",
    "    # unbox the parameters\n",
    "    n, lamb, c, trials, repeat_id = args\n",
    "    super_stable_count = 0\n",
    "    stable_count = 0\n",
    "    for i in range(trials):\n",
    "        # All the of-diagonal elements are non-zero\n",
    "        # Also, the off-diagonal rate is scaled by sqrt(n)\n",
    "        m = sample_matrix(n, \n",
    "                          p_diag_uniform(-c), \n",
    "                          p_off_diag_exp(lamb))\n",
    "        region1 = alg1(m, axis=0)\n",
    "        if region1 == 0:\n",
    "            super_stable_count += 1\n",
    "        else:# If in the inconclusive region, check its stability\n",
    "            if not is_unstable(m):\n",
    "                stable_count += 1\n",
    "        \n",
    "    \n",
    "    \n",
    "    return (repeat_id, super_stable_count/trials, stable_count/trials)\n",
    "\n",
    "# Prepare parameters for each thread\n",
    "params1 = [ (n, lamb, c, trials, repeat_id) \n",
    "           for n in ns for lamb in lambs for repeat_id in range(repeats)]\n",
    "# Parallelism the sampling\n",
    "with Pool(proc_num) as pool:\n",
    "    res1 = pool.map(proc_stability1, params1)\n",
    "    \n",
    "np.save(\"P_I_P_S_expo_no_scaling.npy\",res1)"
   ]
  },
  {
   "cell_type": "markdown",
   "id": "457ff9c1",
   "metadata": {},
   "source": [
    "# Sampling off-diagonal terms from a folded-normal distribution"
   ]
  },
  {
   "cell_type": "code",
   "execution_count": null,
   "id": "4a3e8311",
   "metadata": {
    "ExecuteTime": {
     "end_time": "2023-12-12T14:15:03.997680Z",
     "start_time": "2023-12-12T14:15:03.997671Z"
    }
   },
   "outputs": [],
   "source": [
    "# netwrok sizes\n",
    "ns = np.array([4, 8, 16, 32, 64, 128, 256, 512, 1024])\n",
    "# maximim degredatopn rate\n",
    "c = 1\n",
    "# standard deviation of the gaussian distribution of off-diagonal terms\n",
    "stds = np.array([ 0.01, 0.1, 1])\n",
    "# trials per ensemble\n",
    "trials = 1000\n",
    "# number of ensembles\n",
    "repeats = 5\n",
    "\n",
    "def proc_stability2(args):\n",
    "    # initialise each random generator inside the running thread\n",
    "    rng = np.random.default_rng()\n",
    "    np.random.seed(rng.integers(low=0, high=np.iinfo(np.int32).max))\n",
    "    # unbox the parameters\n",
    "    n, std, c, trials, repeat_id = args\n",
    "    super_stable_count = 0\n",
    "    stable_count = 0\n",
    "    for i in range(trials):\n",
    "        # All the diagonal elements are sampled from the uniform distribution U(-c, 0)\n",
    "        # All the of-diagonal elements are non-zero\n",
    "        m = sample_matrix(n, \n",
    "                          p_diag_uniform(-c), \n",
    "                          p_off_diag_normal(0, std))\n",
    "        region1 = alg1(m, axis=0)        \n",
    "        if region1 == 0:\n",
    "            super_stable_count += 1\n",
    "        else:# If in the inconclusive region, check its \n",
    "            if not is_unstable(m):\n",
    "                stable_count += 1\n",
    "        \n",
    "    \n",
    "    \n",
    "    return (repeat_id, super_stable_count/trials, stable_count/trials)\n",
    "\n",
    "# Prepare parameters for each thread\n",
    "params2 = [ (n, std, c, trials, repeat_id) \n",
    "           for n in ns for std in stds for repeat_id in range(repeats)]\n",
    "# Parallelism the sampling\n",
    "with Pool(proc_num) as pool:\n",
    "    res2 = pool.map(proc_stability2, params2)\n",
    "    \n",
    "np.save(\"P_I_P_S_normal_no_scaling.npy\",res2)"
   ]
  },
  {
   "cell_type": "markdown",
   "id": "3a9ca378",
   "metadata": {},
   "source": [
    "# Sampling off-diagonal terms from a folded-normal distribution: Effect of changing the degredation maximum from $c=1$ to $c=100$."
   ]
  },
  {
   "cell_type": "code",
   "execution_count": null,
   "id": "b8a0212a",
   "metadata": {
    "ExecuteTime": {
     "end_time": "2023-12-12T14:15:03.999111Z",
     "start_time": "2023-12-12T14:15:03.999104Z"
    }
   },
   "outputs": [],
   "source": [
    "# netwrok sizes\n",
    "ns = np.array([4, 8, 16, 32, 64, 128, 256, 512, 1024])\n",
    "# maximim degredatopn rate\n",
    "c = 100\n",
    "# standard deviation of the gaussian distribution of off-diagonal terms\n",
    "stds = np.array([ 0.01, 0.1, 1])\n",
    "# trials per ensemble\n",
    "trials = 1000\n",
    "# number of ensembles\n",
    "repeats = 5\n",
    "\n",
    "def proc_stability3(args):\n",
    "    # initialise each random generator inside the running thread\n",
    "    rng = np.random.default_rng()\n",
    "    np.random.seed(rng.integers(low=0, high=np.iinfo(np.int32).max))\n",
    "    # unbox the parameters\n",
    "    n, std, c, trials, repeat_id = args\n",
    "    # Initialise the ensembles statistics\n",
    "    super_stable_count = 0\n",
    "    stable_count = 0\n",
    "    for i in range(trials):\n",
    "        # All the diagonal elements are sampled from the uniform distribution U(-c, 0)\n",
    "        # All the off-diagonal elements are non-zero\n",
    "        m = sample_matrix(n, \n",
    "                          p_diag_uniform(-c), \n",
    "                          p_off_diag_normal(0, std))\n",
    "        region1 = alg1(m, axis=0)\n",
    "        if region1 == 0:\n",
    "            super_stable_count += 1\n",
    "        else:# If in the inconclusive region, check its \n",
    "            if not is_unstable(m):\n",
    "                stable_count += 1\n",
    "        \n",
    "    \n",
    "    \n",
    "    return (repeat_id, super_stable_count/trials, stable_count/trials)\n",
    "\n",
    "# Prepare parameters for each thread\n",
    "params3 = [ (n, std, c, trials, repeat_id) \n",
    "           for n in ns for std in stds for repeat_id in range(repeats)]\n",
    "# Parallelism the sampling\n",
    "with Pool(proc_num) as pool:\n",
    "    res3 = pool.map(proc_stability3, params3)\n",
    "    \n",
    "np.save(\"P_I_P_S_normal_no_scaling_c_100.npy\",res3)"
   ]
  },
  {
   "cell_type": "markdown",
   "id": "e7a98e47",
   "metadata": {
    "ExecuteTime": {
     "end_time": "2023-12-12T11:52:55.515016Z",
     "start_time": "2023-12-12T11:52:55.508448Z"
    }
   },
   "source": [
    "# Sampling off-diagonal terms from a folded-normal distribution with included activation"
   ]
  },
  {
   "cell_type": "code",
   "execution_count": 75,
   "id": "a799413a",
   "metadata": {
    "ExecuteTime": {
     "end_time": "2023-12-13T14:43:27.927067Z",
     "start_time": "2023-12-13T14:36:56.616448Z"
    }
   },
   "outputs": [],
   "source": [
    "# netwrok sizes\n",
    "ns = np.array([4, 6, 8, 12, 16, 24, 32, 48, 64, 96, 128, 192, 256, 384, 512])\n",
    "# maximim degredatopn rate\n",
    "c = 1\n",
    "# standard deviation of the gaussian distribution of off-diagonal terms\n",
    "std = 0.01\n",
    "# Activation shifts\n",
    "activations = np.array([0.0, 0.001, 0.005, 0.01])\n",
    "# trials per ensemble\n",
    "trials = 1000\n",
    "# number of ensembles\n",
    "repeats = 5\n",
    "\n",
    "def proc_stability4(args):\n",
    "    # initialise each random generator inside the running thread\n",
    "    rng = np.random.default_rng()\n",
    "    np.random.seed(rng.integers(low=0, high=np.iinfo(np.int32).max))\n",
    "    # unbox the parameters\n",
    "    n, std, activation, c, trials, repeat_id = args\n",
    "    # Initialise the ensembles statistics\n",
    "    super_stable_count = 0\n",
    "    stable_count = 0\n",
    "    for i in range(trials):\n",
    "        # All the diagonal elements are sampled from the uniform distribution U(-c, 0)\n",
    "        # All the of-diagonal elements are non-zero\n",
    "        m = sample_matrix(n, \n",
    "                          p_diag_uniform(-c), \n",
    "                          p_off_diag_normal(0, std))\n",
    "        m += np.eye(n)*activation\n",
    "        region1 = alg1(m, axis=0)        \n",
    "        if region1 == 0:\n",
    "            super_stable_count += 1\n",
    "        else:# If in the inconclusive region, check its \n",
    "            if not is_unstable(m):\n",
    "                stable_count += 1\n",
    "        \n",
    "    \n",
    "    \n",
    "    return (repeat_id, super_stable_count/trials, stable_count/trials)\n",
    "\n",
    "# Prepare parameters for each thread\n",
    "params4 = [ (n, std, activation, c, trials, repeat_id) \n",
    "           for n in ns for activation in activations for repeat_id in range(repeats)]\n",
    "# Parallelism the sampling\n",
    "with Pool(proc_num) as pool:\n",
    "    res4 = pool.map(proc_stability4, params4)\n",
    "    \n",
    "np.save(\"P_I_P_S_normal_activation.npy\",res4)"
   ]
  },
  {
   "cell_type": "markdown",
   "id": "4e319a88",
   "metadata": {},
   "source": [
    "# Sampling off-diagonal terms from a folded-normal distribution with inhibition"
   ]
  },
  {
   "cell_type": "code",
   "execution_count": 76,
   "id": "1608ce54",
   "metadata": {
    "ExecuteTime": {
     "end_time": "2023-12-13T14:49:59.873776Z",
     "start_time": "2023-12-13T14:43:27.931811Z"
    }
   },
   "outputs": [],
   "source": [
    "# netwrok sizes\n",
    "ns = np.array([4, 6, 8, 12, 16, 24, 32, 48, 64, 96, 128, 192, 256, 384, 512])\n",
    "# maximim degredatopn rate\n",
    "c = 1\n",
    "# standard deviation of the gaussian distribution of off-diagonal terms\n",
    "std = 0.01\n",
    "# Inhibition shifts\n",
    "inhibitions = np.array([0.0, 0.001, 0.005, 0.01])\n",
    "# trials per ensemble\n",
    "trials = 1000\n",
    "# number of ensembles\n",
    "repeats = 5\n",
    "\n",
    "def proc_stability5(args):\n",
    "    # initialise each random generator inside the running thread\n",
    "    rng = np.random.default_rng()\n",
    "    np.random.seed(rng.integers(low=0, high=np.iinfo(np.int32).max))\n",
    "    # unbox the parameters\n",
    "    n, std, inhibition, c, trials, repeat_id = args\n",
    "    # Initialise the ensembles statistics\n",
    "    super_stable_count = 0\n",
    "    stable_count = 0\n",
    "    for i in range(trials):\n",
    "        # All the diagonal elements are sampled from the uniform distribution U(-c, 0)\n",
    "        # All the of-diagonal elements are non-zero\n",
    "        m = sample_matrix(n, \n",
    "                          p_diag_uniform(-c), \n",
    "                          p_off_diag_normal(0, std))\n",
    "        m -= np.eye(n)*inhibition\n",
    "        region1 = alg1(m, axis=0)\n",
    "        if region1 == 0:\n",
    "            super_stable_count += 1\n",
    "        else:# If in the inconclusive region, check its \n",
    "            if not is_unstable(m):\n",
    "                stable_count += 1\n",
    "        \n",
    "    \n",
    "    \n",
    "    return (repeat_id, super_stable_count/trials, stable_count/trials)\n",
    "\n",
    "# Prepare parameters for each thread\n",
    "params5 = [ (n, std, inhibition, c, trials, repeat_id) \n",
    "           for n in ns for inhibition in inhibitions for repeat_id in range(repeats)]\n",
    "# Parallelism the sampling\n",
    "with Pool(proc_num) as pool:\n",
    "    res5 = pool.map(proc_stability5, params5)\n",
    "    \n",
    "np.save(\"P_I_P_S_normal_inhibition.npy\",res5)"
   ]
  },
  {
   "cell_type": "markdown",
   "id": "03b3cb97",
   "metadata": {},
   "source": [
    "# Repeat the estimates for random self-activations"
   ]
  },
  {
   "cell_type": "code",
   "execution_count": 97,
   "id": "53ea012a",
   "metadata": {
    "ExecuteTime": {
     "end_time": "2023-12-14T14:14:36.693222Z",
     "start_time": "2023-12-14T12:01:40.302724Z"
    }
   },
   "outputs": [],
   "source": [
    "# netwrok sizes\n",
    "ns = np.array([4, 6, 8, 12, 16, 24, 32, 48, 64, 96, 128, 192, 256, 384, 512])\n",
    "# maximim degredatopn rate\n",
    "c = 1\n",
    "# standard deviation of the gaussian distribution of off-diagonal terms\n",
    "std = 0.01\n",
    "# Maximmum activation shifts\n",
    "activations = np.array([0.0, 0.001, 0.005, 0.01])\n",
    "# trials per ensemble\n",
    "trials = 20000\n",
    "# number of ensembles\n",
    "repeats = 5\n",
    "\n",
    "def proc_stability6(args):\n",
    "    # initialise each random generator inside the running thread\n",
    "    rng = np.random.default_rng()\n",
    "    np.random.seed(rng.integers(low=0, high=np.iinfo(np.int32).max))\n",
    "    # unbox the parameters\n",
    "    n, std, activation, c, trials, repeat_id = args\n",
    "    # Initialise the ensembles statistics\n",
    "    super_stable_count = 0\n",
    "    stable_count = 0\n",
    "    for i in range(trials):\n",
    "        # All the diagonal elements are sampled from the uniform distribution U(-c, 0)\n",
    "        # All the of-diagonal elements are non-zero\n",
    "        m = sample_matrix(n, \n",
    "                          p_diag_uniform(-c), \n",
    "                          p_off_diag_normal(0, std))\n",
    "        # random shift andom number of activation\n",
    "        p = np.random.rand(1)\n",
    "        m += np.diag(np.random.binomial(1, p, n))*np.random.rand(n)*activation\n",
    "        region1 = alg1(m, axis=0)\n",
    "        if region1 == 0:\n",
    "            super_stable_count += 1\n",
    "        else:# If in the inconclusive region, check its \n",
    "            if not is_unstable(m):\n",
    "                stable_count += 1\n",
    "        \n",
    "    \n",
    "    \n",
    "    return (repeat_id, super_stable_count/trials, stable_count/trials)\n",
    "\n",
    "# Prepare parameters for each thread\n",
    "params6 = [ (n, std, activation, c, trials, repeat_id) \n",
    "           for n in ns for activation in activations for repeat_id in range(repeats)]\n",
    "# Parallelism the sampling\n",
    "with Pool(proc_num) as pool:\n",
    "    res6 = pool.map(proc_stability6, params6)\n",
    "    \n",
    "np.save(\"P_I_P_S_normal_activation_random.npy\",res6)"
   ]
  },
  {
   "cell_type": "markdown",
   "id": "47c1d9d0",
   "metadata": {
    "ExecuteTime": {
     "end_time": "2023-12-14T11:34:48.188576Z",
     "start_time": "2023-12-14T11:34:48.179682Z"
    }
   },
   "source": [
    "# Repeat the estimates for random self-inhibition"
   ]
  },
  {
   "cell_type": "code",
   "execution_count": 98,
   "id": "fd4ff8aa",
   "metadata": {
    "ExecuteTime": {
     "end_time": "2023-12-14T16:24:46.225520Z",
     "start_time": "2023-12-14T14:14:36.700993Z"
    }
   },
   "outputs": [],
   "source": [
    "# netwrok sizes\n",
    "ns = np.array([4, 6, 8, 12, 16, 24, 32, 48, 64, 96, 128, 192, 256, 384, 512])\n",
    "# maximim degredatopn rate\n",
    "c = 1\n",
    "# standard deviation of the gaussian distribution of off-diagonal terms\n",
    "std = 0.01\n",
    "# Maximmum trial shifts\n",
    "inhibitions = np.array([0.0, 0.001, 0.005, 0.01])\n",
    "# trials per ensemble\n",
    "trials = 20000\n",
    "# number of ensembles\n",
    "repeats = 5\n",
    "\n",
    "def proc_stability7(args):\n",
    "    # initialise each random generator inside the running thread\n",
    "    rng = np.random.default_rng()\n",
    "    np.random.seed(rng.integers(low=0, high=np.iinfo(np.int32).max))\n",
    "    # unbox the parameters\n",
    "    n, std, inhibition, c, trials, repeat_id = args\n",
    "    # Initialise the ensembles statistics\n",
    "    super_stable_count = 0\n",
    "    stable_count = 0\n",
    "    for i in range(trials):\n",
    "        # All the diagonal elements are sampled from the uniform distribution U(-c, 0)\n",
    "        # All the of-diagonal elements are non-zero\n",
    "        m = sample_matrix(n, \n",
    "                          p_diag_uniform(-c), \n",
    "                          p_off_diag_normal(0, std))\n",
    "        # random shift andom number of activation\n",
    "        p = np.random.rand(1)\n",
    "        m -= np.diag(np.random.binomial(1, p, n))*np.random.rand(n)*inhibition\n",
    "        region1 = alg1(m, axis=0)\n",
    "        if region1 == 0:\n",
    "            super_stable_count += 1\n",
    "        else:# If in the inconclusive region, check its \n",
    "            if not is_unstable(m):\n",
    "                stable_count += 1\n",
    "        \n",
    "    \n",
    "    \n",
    "    return (repeat_id, super_stable_count/trials, stable_count/trials)\n",
    "\n",
    "# Prepare parameters for each thread\n",
    "params7 = [ (n, std, inhibition, c, trials, repeat_id) \n",
    "           for n in ns for inhibition in inhibitions for repeat_id in range(repeats)]\n",
    "# Parallelism the sampling\n",
    "with Pool(proc_num) as pool:\n",
    "    res7 = pool.map(proc_stability7, params7)\n",
    "    \n",
    "np.save(\"P_I_P_S_normal_inhibition_random.npy\",res7)"
   ]
  }
 ],
 "metadata": {
  "hide_input": false,
  "kernelspec": {
   "display_name": "Python 3 (ipykernel)",
   "language": "python",
   "name": "python3"
  },
  "language_info": {
   "codemirror_mode": {
    "name": "ipython",
    "version": 3
   },
   "file_extension": ".py",
   "mimetype": "text/x-python",
   "name": "python",
   "nbconvert_exporter": "python",
   "pygments_lexer": "ipython3",
   "version": "3.9.13"
  },
  "varInspector": {
   "cols": {
    "lenName": 16,
    "lenType": 16,
    "lenVar": 40
   },
   "kernels_config": {
    "python": {
     "delete_cmd_postfix": "",
     "delete_cmd_prefix": "del ",
     "library": "var_list.py",
     "varRefreshCmd": "print(var_dic_list())"
    },
    "r": {
     "delete_cmd_postfix": ") ",
     "delete_cmd_prefix": "rm(",
     "library": "var_list.r",
     "varRefreshCmd": "cat(var_dic_list()) "
    }
   },
   "types_to_exclude": [
    "module",
    "function",
    "builtin_function_or_method",
    "instance",
    "_Feature"
   ],
   "window_display": false
  }
 },
 "nbformat": 4,
 "nbformat_minor": 5
}
