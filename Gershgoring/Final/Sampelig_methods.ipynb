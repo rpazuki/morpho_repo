{
 "cells": [
  {
   "cell_type": "code",
   "execution_count": 1,
   "id": "73ea3809",
   "metadata": {
    "ExecuteTime": {
     "end_time": "2023-11-27T16:03:14.883422Z",
     "start_time": "2023-11-27T16:03:14.334593Z"
    }
   },
   "outputs": [],
   "source": [
    "import os\n",
    "os.environ['OPENBLAS_NUM_THREADS'] = '1'\n",
    "import numpy as np\n",
    "import scipy as sp\n",
    "import matplotlib.pyplot as plt\n",
    "from multiprocessing import Pool, shared_memory"
   ]
  },
  {
   "cell_type": "markdown",
   "id": "8a4c4e35",
   "metadata": {},
   "source": [
    "### make sure the proc_num is around 2/3 of the number of your machine's cores"
   ]
  },
  {
   "cell_type": "code",
   "execution_count": 6,
   "id": "bacd6c21",
   "metadata": {
    "ExecuteTime": {
     "end_time": "2023-11-27T16:03:39.573649Z",
     "start_time": "2023-11-27T16:03:39.567732Z"
    }
   },
   "outputs": [],
   "source": [
    "proc_num = 55"
   ]
  },
  {
   "cell_type": "code",
   "execution_count": 3,
   "id": "c75be99e",
   "metadata": {
    "ExecuteTime": {
     "end_time": "2023-11-27T16:03:17.094695Z",
     "start_time": "2023-11-27T16:03:17.071396Z"
    },
    "code_folding": [
     0,
     17,
     32,
     67,
     123
    ]
   },
   "outputs": [],
   "source": [
    "def sample_matrix(n, p_diag, p_off_diag):\n",
    "    \"\"\"Sample a random matrix\n",
    "       n:          the size of the matrix (n,n).\n",
    "       p_diag:     The function that samples n elements for diagonal terms\n",
    "                   it must have a signiture like p_diag(n).\n",
    "       p_off_diag: The function that samples (n,n) elements for off-diagonal terms\n",
    "                   it must have a signiture like p_off_diag(n).\n",
    "    \"\"\"\n",
    "        \n",
    "    # Create an n by n matrices, sampled from 'p_off_diag' distribution\n",
    "    m = p_off_diag(n)\n",
    "    # Fill the diagonal terms by sampling from 'p_diag' distribution\n",
    "    off_diag_indices = np.arange(0,n).astype(np.int32)\n",
    "    m[off_diag_indices, off_diag_indices] = p_diag(n)\n",
    "    \n",
    "    return m\n",
    "\n",
    "def matrix_intervals(m, axis=1):\n",
    "    \"\"\"Turn a matrix to row(column)-wise intervals\n",
    "    \n",
    "       args:\n",
    "           m: (n,n) numpy array.\n",
    "           axis:  use one for row-wise and zero for\n",
    "                  column-wise intervals.\n",
    "    \"\"\"\n",
    "    # Get the diagonal terms\n",
    "    ds = np.diag(m)\n",
    "    # Sum of absolute value of off-diagonal elements\n",
    "    rs = np.sum(np.abs(m - np.diag(ds)), axis = axis)\n",
    "    # create intrvals around the diagonal terms\n",
    "    return np.array([ (d-r, d+r) for d, r in zip(ds, rs) ])\n",
    "\n",
    "def alg1(m, axis=1):\n",
    "    \"\"\"Specifies the stabaility property of the matrix.\n",
    "    \n",
    "       args:\n",
    "           m: (n,n) numpy array.\n",
    "           axis:  use one for row-wise and zero for\n",
    "                  column-wise intervals.\n",
    "       return:\n",
    "               0 - super-stable\n",
    "               1 - inconclusive\n",
    "               2 - unstable\n",
    "    \n",
    "    \"\"\"\n",
    "    n = m.shape[0]\n",
    "    intervals = matrix_intervals(m,axis)\n",
    "    us = np.array([u for _,u in intervals])\n",
    "    ls = np.array([l for l,_ in intervals])\n",
    "    u_max_index = np.argmax(us)\n",
    "    u_max = us[u_max_index]    \n",
    "    if u_max < 0:# Super-stable\n",
    "        return 0\n",
    "    \n",
    "    l_i = ls[u_max_index] \n",
    "    if l_i < 0:# Inconclusive\n",
    "        return 1\n",
    "    indices = [i for i in range(0, n) if i != u_max_index]\n",
    "    for j in indices:\n",
    "        l_j, u_j = ls[j], us[j]\n",
    "        if l_i < u_j:\n",
    "            if l_j < l_i:\n",
    "                l_i = l_j\n",
    "            if l_i < 0:# Inconclusive\n",
    "                return 1\n",
    "    return 2# unstable            \n",
    "\n",
    "def alg2(m, axis=1):\n",
    "    \"\"\"Specifies if the stabaility property can be tightened.\n",
    "    \n",
    "       args:\n",
    "           m: (n,n) numpy array.\n",
    "           axis:  use one for row-wise and zero for\n",
    "                  column-wise intervals.\n",
    "       return:\n",
    "               0 - super-stable\n",
    "               1 - inconclusive\n",
    "               2 - unstable\n",
    "    \n",
    "    \"\"\"\n",
    "    n = m.shape[0]\n",
    "    # Get the diagonal terms\n",
    "    ds = np.diag(m)\n",
    "    # Sum of absolute value of off-diagonal elements\n",
    "    rs = np.sum(np.abs(m - np.diag(ds)), axis = axis)\n",
    "    a_max_index = np.argmax(ds)\n",
    "    a_ii = ds[a_max_index]\n",
    "    r_i = rs[a_max_index]\n",
    "    indices = [i for i in range(0, n) if i != a_max_index]\n",
    "    if a_ii > 0:        \n",
    "        for j in indices:\n",
    "            r_j = rs[j]\n",
    "            a_jj = m[j,j]\n",
    "            if axis == 0:\n",
    "                a_ji = m[j, a_max_index]\n",
    "            else:\n",
    "                a_ji = m[a_max_index, j]\n",
    "            c_0 = r_i\n",
    "            c_1 = a_jj-a_ii+r_j-np.abs(a_ji)\n",
    "            c_2 = np.abs(a_ji)                        \n",
    "            d_max = np.real(np.max(np.roots([c_2, c_1, c_0])))\n",
    "            if d_max <= r_i/a_ii:\n",
    "                return 1 # Inconclusive\n",
    "            if c_1 >= 0:                \n",
    "                return 1 # Inconclusive\n",
    "            if c_1*c_1 <= 4*np.abs(a_ji*r_i):                \n",
    "                return 1 # Inconclusive\n",
    "        return 2 # Unstable\n",
    "    else:\n",
    "        #r_j = rs[j]\n",
    "        #a_jj = m[j,j]\n",
    "        #a_ji = m[j, a_max_index]\n",
    "        #if r_i/np.abs(a_ii) >= np.min([ (np.abs(a_jj)-r_j)/np.abs(a_ji)  for j in indices]):\n",
    "        # select r_i, a_jj and a_ji\n",
    "        if axis == 0:\n",
    "            parts = [(rs[j], m[j,j], m[j, a_max_index]) for j in indices]\n",
    "        else:\n",
    "            parts = [(rs[j], m[j,j], m[a_max_index, j]) for j in indices]\n",
    "        values = [(np.abs(a_jj)-r_j)/np.abs(a_ji)  for (r_j, a_jj, a_ji) in parts]\n",
    "        if r_i/np.abs(a_ii) >= np.min(values):\n",
    "            return 1 # Inconclusive\n",
    "        return 0 # Super-stable\n",
    "\n",
    "def alg(m):\n",
    "    ret = alg1(m, axis = 0)\n",
    "    if ret != 1:\n",
    "        return ret\n",
    "    ret = alg1(m, axis = 1)\n",
    "    if ret != 1:\n",
    "        return ret\n",
    "    ret = alg2(m, axis = 0)\n",
    "    if ret != 1:\n",
    "        return ret\n",
    "    return alg2(m, axis = 1)"
   ]
  },
  {
   "cell_type": "code",
   "execution_count": 4,
   "id": "7fe650e0",
   "metadata": {
    "ExecuteTime": {
     "end_time": "2023-11-27T16:03:19.105381Z",
     "start_time": "2023-11-27T16:03:19.094291Z"
    }
   },
   "outputs": [],
   "source": [
    "def p_diag_uniform(low):\n",
    "    def uniform(n):\n",
    "        return np.random.uniform(low, 0, n)    \n",
    "    return uniform\n",
    "\n",
    "def p_off_diag_exp(lamb):\n",
    "    def exp(n):        \n",
    "        p = np.random.uniform(0, 1)        \n",
    "        return (\n",
    "            np.random.exponential(1/lamb, (n,n))*\n",
    "            np.where(np.random.binomial(1, p, (n, n)) == 0, -1, 1)            \n",
    "        )\n",
    "    return exp\n",
    "\n",
    "def p_off_diag_normal(mean, std):\n",
    "    def normal(n):        \n",
    "        return np.random.normal(mean, std, (n,n))\n",
    "    return normal\n",
    "\n",
    "def is_unstable(m):\n",
    "    \"\"\"Find the linear stability of a matrix\"\"\"\n",
    "    return np.any(np.real(sp.linalg.eigvals(m)) > 0)"
   ]
  },
  {
   "cell_type": "markdown",
   "id": "f82fafde",
   "metadata": {},
   "source": [
    "# Sampling off-diagonal terms from a exponential distribution"
   ]
  },
  {
   "cell_type": "code",
   "execution_count": 24,
   "id": "2eed36a3",
   "metadata": {
    "ExecuteTime": {
     "end_time": "2023-11-29T19:09:47.540380Z",
     "start_time": "2023-11-29T18:55:57.439117Z"
    }
   },
   "outputs": [],
   "source": [
    "ns = np.array([4, 8, 16, 32, 64, 128, 256, 512, 1024])\n",
    "c = 1\n",
    "lambs = np.array([ c*10, c*50,  1000*c])\n",
    "trials = 1000\n",
    "repeats = 5\n",
    "def proc_stability1(args):\n",
    "    rng = np.random.default_rng()\n",
    "    np.random.seed(rng.integers(low=0, high=np.iinfo(np.int32).max))\n",
    "    \n",
    "    n, lamb, c, trials, repeat_id = args\n",
    "    super_stable_count = 0\n",
    "    stable_count = 0\n",
    "    for i in range(trials):\n",
    "        # All the of-diagonal elements are non-zero\n",
    "        # Also, the off-diagonal rate is scaled by sqrt(n)\n",
    "        m = sample_matrix(n, \n",
    "                          p_diag_uniform(-c), \n",
    "                          p_off_diag_exp(lamb))\n",
    "        region1 = alg1(m, axis=0)\n",
    "        #region2 = alg1(m, axis=1)\n",
    "        if region1 == 0:# or region2 == 0:\n",
    "            super_stable_count += 1\n",
    "        else:\n",
    "            if not is_unstable(m):\n",
    "                stable_count += 1\n",
    "        \n",
    "    \n",
    "    \n",
    "    return (repeat_id, super_stable_count/trials, stable_count/trials)\n",
    "\n",
    "params1 = [ (n, lamb, c, trials, repeat_id) \n",
    "           for n in ns for lamb in lambs for repeat_id in range(repeats)]\n",
    "with Pool(proc_num) as pool:\n",
    "    res1 = pool.map(proc_stability1, params1)\n",
    "    \n",
    "np.save(\"P_I_P_S_expo_no_scaling.npy\",res1)"
   ]
  },
  {
   "cell_type": "markdown",
   "id": "457ff9c1",
   "metadata": {},
   "source": [
    "# Sampling off-diagonal terms from a folded-normal distribution"
   ]
  },
  {
   "cell_type": "code",
   "execution_count": 25,
   "id": "4a3e8311",
   "metadata": {
    "ExecuteTime": {
     "end_time": "2023-11-29T19:23:42.425942Z",
     "start_time": "2023-11-29T19:09:47.545809Z"
    }
   },
   "outputs": [],
   "source": [
    "ns = np.array([4, 8, 16, 32, 64, 128, 256, 512, 1024])\n",
    "c = 1\n",
    "stds = np.array([ 0.01, 0.1, 1])\n",
    "trials = 1000\n",
    "repeats = 5\n",
    "\n",
    "def proc_stability2(args):\n",
    "    rng = np.random.default_rng()\n",
    "    np.random.seed(rng.integers(low=0, high=np.iinfo(np.int32).max))\n",
    "    \n",
    "    n, std, c, trials, repeat_id = args\n",
    "    super_stable_count = 0\n",
    "    stable_count = 0\n",
    "    for i in range(trials):\n",
    "        # All the of-diagonal elements are non-zero\n",
    "        # Also, the off-diagonal rate is scaled by sqrt(n)\n",
    "        m = sample_matrix(n, \n",
    "                          p_diag_uniform(-c), \n",
    "                          p_off_diag_normal(0, std))\n",
    "        region1 = alg1(m, axis=0)\n",
    "        #region2 = alg1(m, axis=1)\n",
    "        if region1 == 0:# or region2 == 0:\n",
    "            super_stable_count += 1\n",
    "        else:\n",
    "            if not is_unstable(m):\n",
    "                stable_count += 1\n",
    "        \n",
    "    \n",
    "    \n",
    "    return (repeat_id, super_stable_count/trials, stable_count/trials)\n",
    "\n",
    "params2 = [ (n, std, c, trials, repeat_id) \n",
    "           for n in ns for std in stds for repeat_id in range(repeats)]\n",
    "with Pool(proc_num) as pool:\n",
    "    res2 = pool.map(proc_stability2, params2)\n",
    "    \n",
    "np.save(\"P_I_P_S_normal_no_scaling.npy\",res2)"
   ]
  },
  {
   "cell_type": "code",
   "execution_count": 26,
   "id": "b8a0212a",
   "metadata": {
    "ExecuteTime": {
     "end_time": "2023-11-29T19:36:37.951096Z",
     "start_time": "2023-11-29T19:23:42.430640Z"
    }
   },
   "outputs": [],
   "source": [
    "ns = np.array([4, 8, 16, 32, 64, 128, 256, 512, 1024])\n",
    "c = 100\n",
    "stds = np.array([ 0.01, 0.1, 1])\n",
    "trials = 1000\n",
    "repeats = 5\n",
    "\n",
    "def proc_stability3(args):\n",
    "    rng = np.random.default_rng()\n",
    "    np.random.seed(rng.integers(low=0, high=np.iinfo(np.int32).max))\n",
    "    \n",
    "    n, std, c, trials, repeat_id = args\n",
    "    super_stable_count = 0\n",
    "    stable_count = 0\n",
    "    for i in range(trials):\n",
    "        # All the of-diagonal elements are non-zero\n",
    "        # Also, the off-diagonal rate is scaled by sqrt(n)\n",
    "        m = sample_matrix(n, \n",
    "                          p_diag_uniform(-c), \n",
    "                          p_off_diag_normal(0, std))\n",
    "        region1 = alg1(m, axis=0)\n",
    "        #region2 = alg1(m, axis=1)\n",
    "        if region1 == 0:# or region2 == 0:\n",
    "            super_stable_count += 1\n",
    "        else:\n",
    "            if not is_unstable(m):\n",
    "                stable_count += 1\n",
    "        \n",
    "    \n",
    "    \n",
    "    return (repeat_id, super_stable_count/trials, stable_count/trials)\n",
    "\n",
    "params3 = [ (n, std, c, trials, repeat_id) \n",
    "           for n in ns for std in stds for repeat_id in range(repeats)]\n",
    "with Pool(proc_num) as pool:\n",
    "    res3 = pool.map(proc_stability3, params3)\n",
    "    \n",
    "np.save(\"P_I_P_S_normal_no_scaling_c_100.npy\",res3)"
   ]
  },
  {
   "cell_type": "code",
   "execution_count": null,
   "id": "024345e0",
   "metadata": {},
   "outputs": [],
   "source": []
  }
 ],
 "metadata": {
  "hide_input": false,
  "kernelspec": {
   "display_name": "Python 3 (ipykernel)",
   "language": "python",
   "name": "python3"
  },
  "language_info": {
   "codemirror_mode": {
    "name": "ipython",
    "version": 3
   },
   "file_extension": ".py",
   "mimetype": "text/x-python",
   "name": "python",
   "nbconvert_exporter": "python",
   "pygments_lexer": "ipython3",
   "version": "3.9.13"
  },
  "varInspector": {
   "cols": {
    "lenName": 16,
    "lenType": 16,
    "lenVar": 40
   },
   "kernels_config": {
    "python": {
     "delete_cmd_postfix": "",
     "delete_cmd_prefix": "del ",
     "library": "var_list.py",
     "varRefreshCmd": "print(var_dic_list())"
    },
    "r": {
     "delete_cmd_postfix": ") ",
     "delete_cmd_prefix": "rm(",
     "library": "var_list.r",
     "varRefreshCmd": "cat(var_dic_list()) "
    }
   },
   "types_to_exclude": [
    "module",
    "function",
    "builtin_function_or_method",
    "instance",
    "_Feature"
   ],
   "window_display": false
  }
 },
 "nbformat": 4,
 "nbformat_minor": 5
}
