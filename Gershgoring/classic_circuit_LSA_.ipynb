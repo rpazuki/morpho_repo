{
 "cells": [
  {
   "cell_type": "markdown",
   "id": "a260765a",
   "metadata": {},
   "source": [
    "## This notebook is for Linear stability analysis of the circuit, and uses the search result from parameter search in the preliminary analysis. In the previous one, $b_i$, $V_i$, $\\mu_i$, $K_{Ai}$, $K_{Bi}$ and $K_{Ci}$ are taken the same. \n",
    "\n",
    "![Two nodes - classic](two_nodes_classic.png \"Two nodes - classic\")\n",
    "\n",
    "## Here, we extend the search by starting from these points."
   ]
  },
  {
   "cell_type": "code",
   "execution_count": 1,
   "id": "0ed63023",
   "metadata": {
    "ExecuteTime": {
     "end_time": "2023-06-11T22:05:46.090772Z",
     "start_time": "2023-06-11T22:05:43.110025Z"
    }
   },
   "outputs": [],
   "source": [
    "%config Completer.use_jedi = False\n",
    "from sympy import *\n",
    "import numpy as np\n",
    "import matplotlib.pyplot as plt\n",
    "from IPython.display import display, Latex\n",
    "\n",
    "from itertools import product\n",
    "from scipy.optimize import fsolve\n",
    "from scipy.linalg import eigvals\n",
    "\n",
    "from tqdm import tqdm\n",
    "\n",
    "import sys\n",
    "sys.path.append(\"/end/home/rh2310/morpho_repo/amplitude_method\")\n",
    "from utils import *\n",
    "\n",
    "sys.path.append(\"/end/home/rh2310/morpho_repo\")\n",
    "from local_utils import *\n",
    "\n",
    "\n",
    "import warnings\n",
    "warnings.filterwarnings('ignore')\n",
    "\n"
   ]
  },
  {
   "cell_type": "code",
   "execution_count": 2,
   "id": "d176c928",
   "metadata": {
    "ExecuteTime": {
     "end_time": "2023-06-08T22:51:36.752628Z",
     "start_time": "2023-06-08T22:51:36.746885Z"
    }
   },
   "outputs": [],
   "source": [
    "#init_printing(use_latex='mathjax')#(use_latex=True)"
   ]
  },
  {
   "cell_type": "markdown",
   "id": "10eec5cd",
   "metadata": {},
   "source": [
    "#### Define a list of parameters"
   ]
  },
  {
   "cell_type": "code",
   "execution_count": 2,
   "id": "5a44f3e1",
   "metadata": {
    "ExecuteTime": {
     "end_time": "2023-06-11T22:05:50.471425Z",
     "start_time": "2023-06-11T22:05:50.459245Z"
    }
   },
   "outputs": [],
   "source": [
    "A, B = symbols('A, B', real=True, positive = True)\n",
    "\n",
    "D_A, D_B = symbols('D_A, D_B', real=True, positive = True)\n",
    "\n",
    "(b_A, b_B,\n",
    " V_A, V_B,\n",
    "K_AA, K_AB, K_BA,\n",
    "μ_A, μ_B) = symbols(\n",
    "    'b_A, b_B, V_A, V_B, K_AA, K_AB, K_BA, mu_A, mu_B', \n",
    "    real=True, positive = True)\n",
    "\n",
    "k, n = symbols('k, n', integer=True)"
   ]
  },
  {
   "cell_type": "markdown",
   "id": "3538e76e",
   "metadata": {},
   "source": [
    "> The PDEs are as follows\n",
    "\n",
    "<h3><center>$\n",
    "     \\frac{\\partial A}{\\partial t} = b_A  +   V_A  \\frac{1}{1+\\left(\\frac{K_{AA}}{A }\\right)^{n}} \\frac{1}{1+\\left(\\frac{B}{K_{BA} }\\right)^{n}} -  \\mu_A A + D_A \\nabla^2 A,\n",
    "$</center></h3>\n",
    "\n",
    "<h3><center>$     \\frac{\\partial B}{\\partial t} = b_B  +   V_B  \\frac{1}{1+\\left(\\frac{K_{AB}}{A }\\right)^{n}}  -  \\mu_B B + D_B \\nabla^2 B,\n",
    "$</center></h3>\n",
    "\n",
    "\n",
    "\n",
    "![Two nodes - classic](two_nodes_classic.png \"Two nodes - classic\")\n",
    "\n",
    "Then, we define kinetic terms as\n",
    "\n",
    "<h3><center>$f_A(A, B) = b_A  +   V_A  \\frac{1}{1+\\left(\\frac{K_{AA}}{A }\\right)^{n}} \\frac{1}{1+\\left(\\frac{B}{K_{BA} }\\right)^{n}} -  \\mu_A A$</center></h3>\n",
    "<h3><center>$f_B(A, B) = b_B  +   V_B  \\frac{1}{1+\\left(\\frac{K_{AB}}{A }\\right)^{n}} -  \\mu_B B$</center></h3>\n",
    "\n"
   ]
  },
  {
   "cell_type": "code",
   "execution_count": 3,
   "id": "8638439a",
   "metadata": {
    "ExecuteTime": {
     "end_time": "2023-06-11T22:05:55.422924Z",
     "start_time": "2023-06-11T22:05:55.118810Z"
    }
   },
   "outputs": [
    {
     "data": {
      "text/latex": [
       "$f_A(A, B) =$ $- A \\mu_{A} + \\frac{V_{A}}{\\left(\\left(\\frac{K_{AA}}{A}\\right)^{n} + 1\\right) \\left(\\left(\\frac{B}{K_{BA}}\\right)^{n} + 1\\right)} + b_{A}$"
      ],
      "text/plain": [
       "<IPython.core.display.Latex object>"
      ]
     },
     "metadata": {},
     "output_type": "display_data"
    },
    {
     "data": {
      "text/latex": [
       "$f_B(A, B) =$ $- B \\mu_{B} + \\frac{V_{B}}{\\left(\\frac{K_{AB}}{A}\\right)^{n} + 1} + b_{B}$"
      ],
      "text/plain": [
       "<IPython.core.display.Latex object>"
      ]
     },
     "metadata": {},
     "output_type": "display_data"
    }
   ],
   "source": [
    "def act(x, K, n):\n",
    "    return 1/(1 + (K/x)**n)\n",
    "\n",
    "def inh(x, K, n):\n",
    "    return 1/(1 + (x/K)**n)\n",
    "\n",
    "\n",
    "fA = b_A + V_A*act(A, K_AA, n)*inh(B, K_BA, n) - μ_A * A\n",
    "fB = b_B + V_B*act(A, K_AB, n) - μ_B * B\n",
    "\n",
    "lprint(r\"$f_A(A, B) =$ {0}\", fA)\n",
    "lprint(r\"$f_B(A, B) =$ {0}\", fB)"
   ]
  },
  {
   "cell_type": "markdown",
   "id": "ab7035ae",
   "metadata": {},
   "source": [
    "#### which as a vector, we can define it like"
   ]
  },
  {
   "cell_type": "code",
   "execution_count": 4,
   "id": "e94865d8",
   "metadata": {
    "ExecuteTime": {
     "end_time": "2023-06-11T22:05:58.136613Z",
     "start_time": "2023-06-11T22:05:58.122973Z"
    }
   },
   "outputs": [
    {
     "data": {
      "text/latex": [
       "$\\boldsymbol{f}(A, B) =$ $\\left[\\begin{matrix}- A \\mu_{A} + \\frac{V_{A}}{\\left(\\left(\\frac{K_{AA}}{A}\\right)^{n} + 1\\right) \\left(\\left(\\frac{B}{K_{BA}}\\right)^{n} + 1\\right)} + b_{A}\\\\- B \\mu_{B} + \\frac{V_{B}}{\\left(\\frac{K_{AB}}{A}\\right)^{n} + 1} + b_{B}\\end{matrix}\\right]$ "
      ],
      "text/plain": [
       "<IPython.core.display.Latex object>"
      ]
     },
     "metadata": {},
     "output_type": "display_data"
    }
   ],
   "source": [
    "Kinetic = Matrix([[fA], [fB]])\n",
    "lprint(r\"$\\boldsymbol{f}(A, B) =$ {0} \", Kinetic)"
   ]
  },
  {
   "cell_type": "markdown",
   "id": "08422b58",
   "metadata": {},
   "source": [
    "# Parameters space\n",
    "\n",
    "> create a combination of parameters."
   ]
  },
  {
   "cell_type": "code",
   "execution_count": 5,
   "id": "c6ec41ed",
   "metadata": {
    "ExecuteTime": {
     "end_time": "2023-06-11T22:06:02.147341Z",
     "start_time": "2023-06-11T22:06:02.140013Z"
    }
   },
   "outputs": [],
   "source": [
    "params_selction = [0.01, 0.05, 0.1, 0.5, 1.0, 5.0, 10, 50, 100, 500]"
   ]
  },
  {
   "cell_type": "code",
   "execution_count": 6,
   "id": "d801db91",
   "metadata": {
    "ExecuteTime": {
     "end_time": "2023-06-11T22:09:00.378396Z",
     "start_time": "2023-06-11T22:06:09.688186Z"
    }
   },
   "outputs": [],
   "source": [
    "from itertools import combinations, permutations, product\n",
    "params = [(index,) + params for index, params in enumerate(product(*[params_selction for _ in range(9)]))]  "
   ]
  },
  {
   "cell_type": "code",
   "execution_count": 7,
   "id": "196a4de7",
   "metadata": {
    "ExecuteTime": {
     "end_time": "2023-06-11T22:10:44.678564Z",
     "start_time": "2023-06-11T22:10:44.666381Z"
    }
   },
   "outputs": [
    {
     "data": {
      "text/plain": [
       "(10, 0.01, 0.01, 0.01, 0.01, 0.01, 0.01, 0.01, 0.05, 0.01)"
      ]
     },
     "execution_count": 7,
     "metadata": {},
     "output_type": "execute_result"
    }
   ],
   "source": [
    "params[10]"
   ]
  },
  {
   "cell_type": "code",
   "execution_count": 8,
   "id": "cc6393cd",
   "metadata": {
    "ExecuteTime": {
     "end_time": "2023-06-11T22:10:45.535812Z",
     "start_time": "2023-06-11T22:10:45.526840Z"
    }
   },
   "outputs": [
    {
     "data": {
      "text/plain": [
       "1000000000"
      ]
     },
     "execution_count": 8,
     "metadata": {},
     "output_type": "execute_result"
    }
   ],
   "source": [
    "len(params)"
   ]
  },
  {
   "cell_type": "markdown",
   "id": "14b178f0",
   "metadata": {},
   "source": [
    "#### First, we find the fix points of the system without diffusion. \n",
    "\n",
    "\n",
    "The solution of the above system finds $A^*, B^*$ such that\n",
    "<center>$f_A(A^*, B^*) = 0$</center>\n",
    "<center>$f_B(A^*, B^*) = 0$</center>"
   ]
  },
  {
   "cell_type": "code",
   "execution_count": 9,
   "id": "280a9405",
   "metadata": {
    "ExecuteTime": {
     "end_time": "2023-06-11T22:10:48.375523Z",
     "start_time": "2023-06-11T22:10:48.340393Z"
    }
   },
   "outputs": [],
   "source": [
    "f1 = lambdify([n, b_A, μ_A, V_A, K_AA, K_AB, \n",
    "               b_B, μ_B, V_B, K_BA,\n",
    "               A,B], \n",
    "               fA,\n",
    "              modules='numpy')\n",
    "\n",
    "f2 = lambdify([n, b_A, μ_A, V_A, K_AA, K_AB, \n",
    "               b_B, μ_B, V_B, K_BA,\n",
    "               A,B], \n",
    "              fB,\n",
    "              modules='numpy')\n",
    "\n",
    "\n",
    "\n",
    "def create_func(n, b_A, μ_A, V_A, K_AA, K_AB,\n",
    "               b_B, μ_B, V_B, K_BA):\n",
    "    def f_1(args):\n",
    "        A,B = args\n",
    "        return (f1(n, b_A, μ_A, V_A, K_AA, K_AB, \n",
    "                      b_B, μ_B, V_B, K_BA,\n",
    "                      A,B),\n",
    "                f2(n, b_A, μ_A, V_A, K_AA, K_AB, \n",
    "                      b_B, μ_B, V_B, K_BA,\n",
    "                      A,B)) \n",
    "    \n",
    "    return f_1"
   ]
  },
  {
   "cell_type": "markdown",
   "id": "9ca66f19",
   "metadata": {},
   "source": [
    "#### Next, to linearise the PDE system, we find the Jacobian of $(f_A, f_B)$ "
   ]
  },
  {
   "cell_type": "code",
   "execution_count": 10,
   "id": "0ddaf3f3",
   "metadata": {
    "ExecuteTime": {
     "end_time": "2023-06-11T22:10:50.663332Z",
     "start_time": "2023-06-11T22:10:50.615171Z"
    }
   },
   "outputs": [
    {
     "data": {
      "text/latex": [
       "$J= \\frac{\\partial \\boldsymbol{f}_i}{\\partial u_j} = \\left[\\begin{matrix}- \\mu_{A} + \\frac{V_{A} n \\left(\\frac{K_{AA}}{A}\\right)^{n}}{A \\left(\\left(\\frac{K_{AA}}{A}\\right)^{n} + 1\\right)^{2} \\left(\\left(\\frac{B}{K_{BA}}\\right)^{n} + 1\\right)} & - \\frac{V_{A} n \\left(\\frac{B}{K_{BA}}\\right)^{n}}{B \\left(\\left(\\frac{K_{AA}}{A}\\right)^{n} + 1\\right) \\left(\\left(\\frac{B}{K_{BA}}\\right)^{n} + 1\\right)^{2}}\\\\\\frac{V_{B} n \\left(\\frac{K_{AB}}{A}\\right)^{n}}{A \\left(\\left(\\frac{K_{AB}}{A}\\right)^{n} + 1\\right)^{2}} & - \\mu_{B}\\end{matrix}\\right]$"
      ],
      "text/plain": [
       "<IPython.core.display.Latex object>"
      ]
     },
     "metadata": {},
     "output_type": "display_data"
    }
   ],
   "source": [
    "J_jac = Kinetic.jacobian([A, B])\n",
    "hprint(r\"J= \\frac{\\partial \\boldsymbol{f}_i}{\\partial u_j} = \", J_jac)\n",
    "J_jac_func = lambdify([n, b_A, μ_A, V_A, K_AA, K_AB, \n",
    "                           b_B, μ_B, V_B, K_BA,\n",
    "                           A,B], \n",
    "                       J_jac,\n",
    "              modules='numpy')"
   ]
  },
  {
   "cell_type": "code",
   "execution_count": 15,
   "id": "0ba2a56e",
   "metadata": {
    "ExecuteTime": {
     "end_time": "2023-06-11T09:21:09.032774Z",
     "start_time": "2023-06-11T09:21:09.006065Z"
    },
    "code_folding": [
     3
    ]
   },
   "outputs": [],
   "source": [
    "def single_proccess(args):    \n",
    "    index, params = args\n",
    "    \n",
    "    def find_roots(n_val, b_A_val, mu_A_val, V_A_val, K_AA_val, K_AB_val, \n",
    "                          b_B_val, mu_B_val, V_B_val, K_BA_val,\n",
    "                   verbose=False):    \n",
    "        func = create_func(n_val, b_A_val, mu_A_val, V_A_val, K_AA_val, K_AB_val, \n",
    "                           b_B_val, mu_B_val, V_B_val, K_BA_val,)\n",
    "        #\n",
    "        roots_res = []\n",
    "        for init_vals in product([.1,-.1], repeat=2):        \n",
    "            roots, d, ier, msg = fsolve(func, init_vals, xtol=1e-7, maxfev=10000,  full_output=1)\n",
    "            (a_1, b_1) = func(roots)\n",
    "            if ier == 1 and a_1 < 1e-7 and b_1 < 1e-7:\n",
    "                roots_res.append(roots)\n",
    "                return roots_res\n",
    "        for init_vals in product([1,-1], repeat=2):        \n",
    "            roots, d, ier, msg = fsolve(func, init_vals, xtol=1e-7, maxfev=10000,  full_output=1)\n",
    "            (a_1, b_1) = func(roots)\n",
    "            if ier == 1 and a_1 < 1e-7 and b_1 < 1e-7:\n",
    "                roots_res.append(roots)\n",
    "                return roots_res\n",
    "\n",
    "        for init_vals in product([10,-10], repeat=2):        \n",
    "            roots, d, ier, msg = fsolve(func, init_vals, xtol=1e-7, maxfev=10000,  full_output=1)\n",
    "            (a_1, b_1) = func(roots)\n",
    "            if ier == 1 and a_1 < 1e-7 and b_1 < 1e-7:\n",
    "                roots_res.append(roots)\n",
    "                return roots_res\n",
    "\n",
    "        for init_vals in product([100,-100], repeat=2):        \n",
    "            roots, d, ier, msg = fsolve(func, init_vals, xtol=1e-7, maxfev=10000,  full_output=1)\n",
    "            (a_1, b_1) = func(roots)\n",
    "            if ier == 1 and a_1 < 1e-7 and b_1 < 1e-7:\n",
    "                roots_res.append(roots)\n",
    "                return roots_res\n",
    "\n",
    "        if len(roots_res) == 0:\n",
    "            if verbose:\n",
    "                print(msg)\n",
    "                print(\"roots:\", roots)\n",
    "                print(\"values\", a_1, b_1)\n",
    "            return roots_res \n",
    "        else:\n",
    "            roots_res2 = [roots_res[0]]\n",
    "            for item in roots_res[1:]:\n",
    "                if np.any(item < 0):\n",
    "                    continue\n",
    "                if not np.any([np.isclose(item2, item) for item2 in roots_res2]):\n",
    "                    roots_res2.append(item)\n",
    "            return roots_res2 \n",
    "    \n",
    "    \n",
    "    count_unstable = 0\n",
    "    count_unstable_wrong = 0\n",
    "    count_supper_stable = 0\n",
    "    count_supper_stable_wrong = 0\n",
    "    count_inconclusive = 0\n",
    "    failed_roots = 0\n",
    "\n",
    "    \n",
    "    unstables = []\n",
    "    unstables_k_max = []\n",
    "    supper_stables = []\n",
    "    supper_stables_k_max = []\n",
    "    unstables_wrong = []\n",
    "    unstables_k_max_wrong = []\n",
    "    supper_stables_wrong = []    \n",
    "    supper_stables_k_max_wrong = []\n",
    "    inconclusives = []\n",
    "    inconclusives_k_max = []\n",
    "    inconclusives_roots = []\n",
    "    \n",
    "    \n",
    "    def append_to_roots(i, param_index, roots, k_max, arr,  arr_k_max, arr_roots):        \n",
    "        arr.append((i, param_index))\n",
    "        arr_k_max.append(k_max)\n",
    "        arr_roots.append(roots)\n",
    "        \n",
    "    def append_to(i, param_index, k_max, arr,  arr_k_max):        \n",
    "        arr.append((i, param_index))\n",
    "        arr_k_max.append(k_max)\n",
    "    \n",
    "    \n",
    "    D_A_val = 0.01\n",
    "    D_B_val = 1.0\n",
    "    n_val = 4\n",
    "\n",
    "    for i  in range(len(params)):\n",
    "        (param_index, b_A_val, mu_A_val, V_A_val, K_AA_val, K_AB_val,\n",
    "         b_B_val, mu_B_val, V_B_val, K_BA_val) = params[i]    \n",
    "        #\n",
    "        roots_all = find_roots(n_val, \n",
    "                               b_A_val, mu_A_val, V_A_val, K_AA_val, K_AB_val,\n",
    "                               b_B_val, mu_B_val, V_B_val, K_BA_val)\n",
    "        # check the solution is valid    \n",
    "        if len(roots_all) == 0:\n",
    "            failed_roots += 1\n",
    "            failed_roots\n",
    "            continue\n",
    "        else:\n",
    "            for roots in roots_all:\n",
    "                J_test = J_jac_func(n_val, \n",
    "                                    b_A_val, mu_A_val, V_A_val, K_AA_val, K_AB_val,\n",
    "                                    b_B_val, mu_B_val, V_B_val, K_BA_val,\n",
    "                                    A = roots[0], B = roots[1])\n",
    "                \n",
    "                    \n",
    "                s1 = np.abs(J_test[0, 1])\n",
    "                s2 = np.abs(J_test[1, 0])\n",
    "\n",
    "                u1 = J_test[0, 0] + s1\n",
    "                u2 = J_test[1, 1] + s2    \n",
    "                l1 = J_test[0, 0] - s1\n",
    "                l2 = J_test[1, 1] - s2\n",
    "                \n",
    "                k1 = np.sqrt(max(0, u1)/D_A_val)\n",
    "                k2 = np.sqrt(max(0, u2)/D_B_val)\n",
    "                k_max = max(k1, k2)\n",
    "                \n",
    "                det = J_test[0, 0]*J_test[1, 1] - J_test[0, 1]*J_test[1, 0]\n",
    "                tr = J_test[0, 0] + J_test[1, 1]\n",
    "                \n",
    "                if u2 < u1:\n",
    "                    U_max = u1\n",
    "                    L_max = l1\n",
    "                    U_i = u2\n",
    "                    L_i = l2\n",
    "                else:\n",
    "                    U_max = u2\n",
    "                    L_max = l2\n",
    "                    U_i = u1\n",
    "                    L_i = l1\n",
    "                    \n",
    "                if U_max < 0:                    \n",
    "                    if det < 0 or tr > 0:\n",
    "                        count_supper_stable_wrong += 1\n",
    "                        append_to(i,param_index, k_max, supper_stables_wrong, supper_stables_k_max__wrong)\n",
    "                    else:\n",
    "                        count_supper_stable += 1\n",
    "                        append_to(i,param_index, k_max, supper_stables, supper_stables_k_max)\n",
    "                    continue\n",
    "                \n",
    "                if L_max <0:\n",
    "                    count_inconclusive += 1\n",
    "                    append_to_roots(i,param_index, roots, k_max, inconclusives, inconclusives_k_max, inconclusives_roots)\n",
    "                    continue\n",
    "                \n",
    "                if L_max > U_i:\n",
    "                    if det > 0 and tr < 0:\n",
    "                        count_unstable_wrong += 1\n",
    "                        append_to(i,param_index, k_max, unstables_wrong, unstables_k_max_wrong)\n",
    "                    else:\n",
    "                        count_unstable += 1\n",
    "                        append_to(i,param_index, k_max, unstables, unstables_k_max)\n",
    "                    continue\n",
    "                    \n",
    "                if L_max < L_i:\n",
    "                    if det > 0 and tr < 0:\n",
    "                        count_unstable_wrong += 1\n",
    "                        append_to(i,param_index, k_max, unstables_wrong, unstables_k_max_wrong)\n",
    "                    else:\n",
    "                        count_unstable += 1\n",
    "                        append_to(i,param_index, k_max, unstables, unstables_k_max)\n",
    "                    continue\n",
    "                    \n",
    "                if L_i > 0:                    \n",
    "                    if det > 0 and tr < 0:\n",
    "                        count_unstable_wrong += 1\n",
    "                        append_to(i,param_index, k_max, unstables_wrong, unstables_k_max_wrong)\n",
    "                    else:\n",
    "                        count_unstable += 1\n",
    "                        append_to(i,param_index, k_max, unstables, unstables_k_max)\n",
    "                    continue\n",
    "                else:\n",
    "                    count_inconclusive += 1\n",
    "                    append_to_roots(i,param_index, roots, k_max, inconclusives, inconclusives_k_max, inconclusives_roots)\n",
    "                    continue                                                                            \n",
    "                \n",
    "    with open(f\"./temp/temp_parameters_round_1_index_{index}.npy\", 'wb') as f:\n",
    "        np.save(f, (count_unstable,\n",
    "                    count_unstable_wrong,\n",
    "                    count_supper_stable,\n",
    "                    count_supper_stable_wrong,\n",
    "                    count_inconclusive,\n",
    "                    failed_roots,\n",
    "                    unstables,\n",
    "                    unstables_k_max,\n",
    "                    supper_stables,\n",
    "                    supper_stables_k_max,\n",
    "                    unstables_wrong,\n",
    "                    unstables_k_max_wrong,\n",
    "                    supper_stables_wrong,\n",
    "                    supper_stables_k_max_wrong,\n",
    "                    inconclusives,\n",
    "                    inconclusives_k_max,\n",
    "                    inconclusives_roots))\n",
    "    return index\n",
    "    "
   ]
  },
  {
   "cell_type": "code",
   "execution_count": 12,
   "id": "6833673d",
   "metadata": {
    "ExecuteTime": {
     "end_time": "2023-06-11T09:16:52.706268Z",
     "start_time": "2023-06-11T09:16:52.697150Z"
    }
   },
   "outputs": [
    {
     "data": {
      "text/plain": [
       "1000000.0"
      ]
     },
     "execution_count": 12,
     "metadata": {},
     "output_type": "execute_result"
    }
   ],
   "source": [
    "len(params)/(50*20)"
   ]
  },
  {
   "cell_type": "code",
   "execution_count": 11,
   "id": "0d9dc72a",
   "metadata": {
    "ExecuteTime": {
     "end_time": "2023-06-11T22:11:51.606798Z",
     "start_time": "2023-06-11T22:10:57.504350Z"
    }
   },
   "outputs": [],
   "source": [
    "from multiprocessing import Pool\n",
    "repeat = 20\n",
    "num_process = 50*repeat\n",
    "part_len = 1000000#2087105#2295816#2087105\n",
    "#indices = [(i*part_len, (i+1)*part_len-1) for i in range(num_process)]\n",
    "#params_list = [params[i:j,:]  for i,j in indices]\n",
    "args_list = [(i, params[i*part_len:(i+1)*part_len])  for i in range(num_process)]"
   ]
  },
  {
   "cell_type": "code",
   "execution_count": 12,
   "id": "4c29848b",
   "metadata": {
    "ExecuteTime": {
     "end_time": "2023-06-11T22:13:11.848061Z",
     "start_time": "2023-06-11T22:12:56.323236Z"
    }
   },
   "outputs": [],
   "source": [
    "del params"
   ]
  },
  {
   "cell_type": "code",
   "execution_count": 17,
   "id": "e6d05daa",
   "metadata": {
    "ExecuteTime": {
     "end_time": "2023-06-11T13:58:57.634257Z",
     "start_time": "2023-06-11T09:21:42.645366Z"
    },
    "scrolled": true
   },
   "outputs": [
    {
     "name": "stdout",
     "output_type": "stream",
     "text": [
      "0\n",
      "1\n",
      "2\n",
      "3\n",
      "4\n",
      "5\n",
      "6\n",
      "7\n",
      "8\n",
      "9\n",
      "10\n",
      "11\n",
      "12\n",
      "13\n",
      "14\n",
      "15\n",
      "16\n",
      "17\n",
      "18\n",
      "19\n"
     ]
    }
   ],
   "source": [
    "for i in range(repeat):\n",
    "    print(i)\n",
    "    with Pool(num_process//repeat) as p:\n",
    "        p.map(single_proccess, args_list[i*50:(i+1)*50])\n",
    "        "
   ]
  },
  {
   "cell_type": "code",
   "execution_count": 12,
   "id": "e78becd6",
   "metadata": {
    "ExecuteTime": {
     "end_time": "2023-06-08T17:02:28.407926Z",
     "start_time": "2023-06-08T17:02:28.394213Z"
    },
    "code_folding": [
     0
    ]
   },
   "outputs": [],
   "source": [
    "def load_and_conc(num_process):\n",
    "    count_unstable = 0\n",
    "    count_unstable_wrong = 0\n",
    "    count_supper_stable = 0\n",
    "    count_supper_stable_wrong = 0\n",
    "    count_inconclusive = 0\n",
    "    failed_roots = 0\n",
    "    failed_roots = 0\n",
    "\n",
    "\n",
    "    unstables = None\n",
    "    unstables_k_max = None\n",
    "    supper_stables = None\n",
    "    supper_stables_k_max = None\n",
    "    unstables_wrong = None\n",
    "    unstables_k_max_wrong = None\n",
    "    supper_stables_wrong = None\n",
    "    supper_stables_k_max_wrong = None\n",
    "    inconclusives = None\n",
    "    inconclusives_k_max = None\n",
    "    inconclusives_roots = None\n",
    "    \n",
    "    \n",
    "    for index in range(num_process):\n",
    "        with open(f\"./temp/temp_parameters_round_1_index_{index}.npy\", 'rb') as f:\n",
    "            (count_unstable_i,\n",
    "            #count_unstable_wrong_i,\n",
    "            count_supper_stable_i,\n",
    "            #count_supper_stable_wrong_i,\n",
    "            count_inconclusive_i,\n",
    "            failed_roots_i,\n",
    "            unstables_i,\n",
    "            unstables_k_max_i,\n",
    "            supper_stables_i,\n",
    "            supper_stables_k_max_i,\n",
    "            unstables_wrong_i,\n",
    "            unstables_k_max_wrong_i,\n",
    "            supper_stables_wrong_i,\n",
    "            supper_stables_k_max_wrong_i,\n",
    "            inconclusives_i,\n",
    "            inconclusives_k_max_i,\n",
    "            inconclusives_roots_i) = np.load(f, allow_pickle=True)\n",
    "        \n",
    "        count_unstable += count_unstable_i\n",
    "        #count_unstable_wrong += count_unstable_wrong_i\n",
    "        count_supper_stable += count_supper_stable_i\n",
    "        #count_supper_stable_wrong += count_supper_stable_wrong_i\n",
    "        count_inconclusive += count_inconclusive_i\n",
    "        failed_roots += failed_roots_i\n",
    "\n",
    "        if unstables is None:\n",
    "            unstables = unstables_i\n",
    "            unstables_k_max = unstables_k_max_i\n",
    "            supper_stables = supper_stables_i\n",
    "            supper_stables_k_max = supper_stables_k_max_i\n",
    "            unstables_wrong = unstables_wrong_i\n",
    "            unstables_k_max_wrong = unstables_k_max_wrong_i\n",
    "            supper_stables_wrong = supper_stables_wrong_i\n",
    "            supper_stables_k_max_wrong = supper_stables_k_max_wrong_i\n",
    "            inconclusives = inconclusives_i\n",
    "            inconclusives_k_max = inconclusives_k_max_i\n",
    "            inconclusives_roots = inconclusives_roots_i\n",
    "        else:\n",
    "            unstables = np.concatenate([unstables, unstables_i])\n",
    "            unstables_k_max = np.concatenate([unstables_k_max, unstables_k_max_i])\n",
    "            supper_stables = np.concatenate([supper_stables, supper_stables_i])\n",
    "            supper_stables_k_max = np.concatenate([supper_stables_k_max, supper_stables_k_max_i])\n",
    "            unstables_wrong = np.concatenate([unstables_wrong, unstables_wrong_i])\n",
    "            unstables_k_max_wrong = np.concatenate([unstables_k_max_wrong, unstables_k_max_wrong_i])\n",
    "            supper_stables_wrong = np.concatenate([supper_stables_wrong, supper_stables_wrong_i])\n",
    "            supper_stables_k_max_wrong = np.concatenate([supper_stables_k_max_wrong, supper_stables_k_max_wrong_i])\n",
    "            inconclusives = np.concatenate([inconclusives, inconclusives_i])\n",
    "            inconclusives_k_max = np.concatenate([inconclusives_k_max, inconclusives_k_max_i])\n",
    "            inconclusives_roots = np.concatenate([inconclusives_roots, inconclusives_roots_i])\n",
    "            \n",
    "    return (count_unstable,\n",
    "            #count_unstable_wrong,\n",
    "            count_supper_stable,\n",
    "            #count_supper_stable_wrong,\n",
    "            count_inconclusive,\n",
    "            failed_roots,\n",
    "            unstables,\n",
    "            unstables_k_max,\n",
    "            supper_stables,\n",
    "            supper_stables_k_max,\n",
    "            unstables_wrong,\n",
    "            unstables_k_max_wrong,\n",
    "            supper_stables_wrong,\n",
    "            supper_stables_k_max_wrong,\n",
    "            inconclusives,\n",
    "            inconclusives_k_max,\n",
    "            inconclusives_roots) "
   ]
  },
  {
   "cell_type": "code",
   "execution_count": 27,
   "id": "7814e3f5",
   "metadata": {
    "ExecuteTime": {
     "end_time": "2023-05-24T14:32:38.328838Z",
     "start_time": "2023-05-24T14:21:31.627037Z"
    }
   },
   "outputs": [],
   "source": [
    "(count_unstable,\n",
    "#count_unstable_wrong,\n",
    "count_supper_stable,\n",
    "#count_supper_stable_wrong,\n",
    "count_inconclusive,\n",
    "failed_roots,\n",
    "unstables,\n",
    "unstables_k_max,\n",
    "supper_stables,\n",
    "supper_stables_k_max,\n",
    "unstables_wrong,\n",
    "unstables_k_max_wrong,\n",
    "supper_stables_wrong,\n",
    "supper_stables_k_max_wrong,\n",
    "inconclusives,\n",
    "inconclusives_k_max,\n",
    "inconclusives_roots) = load_and_conc(num_process)"
   ]
  },
  {
   "cell_type": "code",
   "execution_count": 13,
   "id": "14aac383",
   "metadata": {
    "ExecuteTime": {
     "end_time": "2023-06-11T22:13:46.445188Z",
     "start_time": "2023-06-11T22:13:43.840695Z"
    }
   },
   "outputs": [],
   "source": [
    "def load_and_conc(num_process, run_round=1):\n",
    "    count_unstable = 0\n",
    "    count_unstable_wrong = 0\n",
    "    count_supper_stable = 0\n",
    "    count_supper_stable_wrong = 0\n",
    "    count_inconclusive = 0\n",
    "    failed_roots = 0\n",
    "    failed_roots = 0\n",
    "    \n",
    "    for index in range(num_process):\n",
    "        with open(f\"./temp/temp_parameters_round_{run_round}_index_{index}.npy\", 'rb') as f:\n",
    "            (count_unstable_i,\n",
    "            count_unstable_wrong_i,\n",
    "            count_supper_stable_i,\n",
    "            count_supper_stable_wrong_i,\n",
    "            count_inconclusive_i,\n",
    "            failed_roots_i,\n",
    "            _, _, _, _, _, _, _, _, _, _,\n",
    "            _) = np.load(f, allow_pickle=True)\n",
    "        \n",
    "        count_unstable += count_unstable_i\n",
    "        count_unstable_wrong += count_unstable_wrong_i\n",
    "        count_supper_stable += count_supper_stable_i\n",
    "        count_supper_stable_wrong += count_supper_stable_wrong_i\n",
    "        count_inconclusive += count_inconclusive_i\n",
    "        failed_roots += failed_roots_i\n",
    "\n",
    "        \n",
    "            \n",
    "    return (count_unstable,\n",
    "            count_unstable_wrong,\n",
    "            count_supper_stable,\n",
    "            count_supper_stable_wrong,\n",
    "            count_inconclusive,\n",
    "            failed_roots) "
   ]
  },
  {
   "cell_type": "code",
   "execution_count": 14,
   "id": "7acef22e",
   "metadata": {
    "ExecuteTime": {
     "end_time": "2023-06-11T22:27:44.437263Z",
     "start_time": "2023-06-11T22:14:03.891364Z"
    }
   },
   "outputs": [],
   "source": [
    "(count_unstable,\n",
    "count_unstable_wrong,\n",
    "count_supper_stable,\n",
    "count_supper_stable_wrong,\n",
    "count_inconclusive,\n",
    "failed_roots) = load_and_conc(num_process)"
   ]
  },
  {
   "cell_type": "code",
   "execution_count": 15,
   "id": "fd092f96",
   "metadata": {
    "ExecuteTime": {
     "end_time": "2023-06-11T22:30:18.952766Z",
     "start_time": "2023-06-11T22:30:18.942889Z"
    }
   },
   "outputs": [
    {
     "data": {
      "text/plain": [
       "4058044"
      ]
     },
     "execution_count": 15,
     "metadata": {},
     "output_type": "execute_result"
    }
   ],
   "source": [
    "failed_roots"
   ]
  },
  {
   "cell_type": "code",
   "execution_count": 16,
   "id": "d538a753",
   "metadata": {
    "ExecuteTime": {
     "end_time": "2023-06-11T22:30:22.708538Z",
     "start_time": "2023-06-11T22:30:19.704520Z"
    }
   },
   "outputs": [
    {
     "data": {
      "text/plain": [
       "(0, 0)"
      ]
     },
     "execution_count": 16,
     "metadata": {},
     "output_type": "execute_result"
    }
   ],
   "source": [
    "count_unstable_wrong, count_supper_stable_wrong"
   ]
  },
  {
   "cell_type": "code",
   "execution_count": 17,
   "id": "07f83bf3",
   "metadata": {
    "ExecuteTime": {
     "end_time": "2023-06-11T22:30:30.479364Z",
     "start_time": "2023-06-11T22:30:25.141093Z"
    }
   },
   "outputs": [
    {
     "name": "stdout",
     "output_type": "stream",
     "text": [
      "Of total 1000000000 parameters :\n",
      "Unstable Gershgoring: 4870615  0.49%\n",
      "Supper stable Gershgoring: 850677030  85.07%\n",
      "Wrong Unstable Gershgoring: 0  0.00%\n",
      "Wrong Supper stable Gershgoring: 0  0.00%\n",
      "Inconclusive: 140394311  14.04%\n",
      "failed_roots: 4058044  0.41%\n",
      "--\n",
      "Unstable G leftovers: 995129385\n",
      "Supper stable leftovers: 149322970\n",
      "Inconclusive leftovers: 859605689\n",
      "total diff: 0\n"
     ]
    }
   ],
   "source": [
    "total = part_len*num_process#\n",
    "print(f\"Of total {total} parameters :\")\n",
    "print(\"Unstable Gershgoring:\",count_unstable, f\" {100*count_unstable/total:.2f}%\")\n",
    "print(\"Supper stable Gershgoring:\",count_supper_stable, f\" {100*count_supper_stable/total:.2f}%\")\n",
    "print(\"Wrong Unstable Gershgoring:\",count_unstable_wrong, f\" {100*count_unstable_wrong/total:.2f}%\")\n",
    "print(\"Wrong Supper stable Gershgoring:\",count_supper_stable_wrong, f\" {100*count_supper_stable_wrong/total:.2f}%\")\n",
    "print(\"Inconclusive:\",count_inconclusive, f\" {100*count_inconclusive/total:.2f}%\")\n",
    "print(\"failed_roots:\",failed_roots, f\" {100*failed_roots/total:.2f}%\")\n",
    "print(\"--\")\n",
    "print(\"Unstable G leftovers:\",total-count_unstable)\n",
    "print(\"Supper stable leftovers:\",total-count_supper_stable)\n",
    "print(\"Inconclusive leftovers:\",total-count_inconclusive)\n",
    "print(\"total diff:\",total-count_unstable-count_supper_stable-count_inconclusive-failed_roots)"
   ]
  },
  {
   "cell_type": "markdown",
   "id": "b8d88799",
   "metadata": {},
   "source": [
    "# Check the columns"
   ]
  },
  {
   "cell_type": "code",
   "execution_count": 32,
   "id": "fac8fe39",
   "metadata": {
    "ExecuteTime": {
     "end_time": "2023-06-11T14:24:55.356759Z",
     "start_time": "2023-06-11T14:24:55.333145Z"
    },
    "code_folding": [
     0
    ]
   },
   "outputs": [],
   "source": [
    "def single_proccess2(args):    \n",
    "    index, params = args\n",
    "    \n",
    "    with open(f\"./temp/temp_parameters_round_1_index_{index}.npy\", 'rb') as f:\n",
    "        (_, _, _, _, _, _, _, _, _, _, _, _, _, _,\n",
    "        inconclusives_data,\n",
    "        inconclusives_k_max_data,\n",
    "        inconclusives_roots_data) = np.load(f,allow_pickle=True)\n",
    "          \n",
    "    count_unstable = 0\n",
    "    count_unstable_wrong = 0\n",
    "    count_supper_stable = 0\n",
    "    count_supper_stable_wrong = 0\n",
    "    count_inconclusive = 0\n",
    "    failed_roots = 0\n",
    "\n",
    "\n",
    "    unstables = []\n",
    "    unstables_k_max = []\n",
    "    supper_stables = []\n",
    "    supper_stables_k_max = []\n",
    "    unstables_wrong = []\n",
    "    unstables_k_max_wrong = []\n",
    "    supper_stables_wrong = []\n",
    "    supper_stables_k_max_wrong = []\n",
    "    inconclusives = []\n",
    "    inconclusives_k_max = []\n",
    "    inconclusives_roots = []\n",
    "    \n",
    "    \n",
    "    def append_to_roots(i, param_index, roots, k_max, arr,  arr_k_max, arr_roots):        \n",
    "        arr.append((i, param_index))\n",
    "        arr_k_max.append(k_max)\n",
    "        arr_roots.append(roots)\n",
    "        \n",
    "    def append_to(i, param_index, k_max, arr,  arr_k_max):        \n",
    "        arr.append((i, param_index))\n",
    "        arr_k_max.append(k_max)\n",
    "    \n",
    "    \n",
    "    D_A_val = 0.01\n",
    "    D_B_val = 1.0\n",
    "    n_val = 4\n",
    "\n",
    "    for i, (param_index, _) in enumerate(inconclusives_data):\n",
    "        k_max = inconclusives_k_max_data[i]\n",
    "        roots = inconclusives_roots_data[i]\n",
    "        \n",
    "        (original_param_index, b_A_val, mu_A_val, V_A_val, K_AA_val, K_AB_val,\n",
    "         b_B_val, mu_B_val, V_B_val, K_BA_val) = params[param_index]    \n",
    "        #\n",
    "        \n",
    "        J_test = J_jac_func(n_val, \n",
    "                            b_A_val, mu_A_val, V_A_val, K_AA_val, K_AB_val,\n",
    "                            b_B_val, mu_B_val, V_B_val, K_BA_val,\n",
    "                            A = roots[0], B = roots[1])\n",
    "\n",
    "\n",
    "        s1 = np.abs(J_test[1, 0])\n",
    "        s2 = np.abs(J_test[0, 1])\n",
    "\n",
    "        u1 = J_test[0, 0] + s1\n",
    "        u2 = J_test[1, 1] + s2    \n",
    "        l1 = J_test[0, 0] - s1\n",
    "        l2 = J_test[1, 1] - s2        \n",
    "\n",
    "        det = J_test[0, 0]*J_test[1, 1] - J_test[0, 1]*J_test[1, 0]\n",
    "        tr = J_test[0, 0] + J_test[1, 1]\n",
    "\n",
    "        if u2 < u1:\n",
    "            U_max = u1\n",
    "            L_max = l1\n",
    "            U_i = u2\n",
    "            L_i = l2\n",
    "        else:\n",
    "            U_max = u2\n",
    "            L_max = l2\n",
    "            U_i = u1\n",
    "            L_i = l1\n",
    "\n",
    "        if U_max < 0:                    \n",
    "            if det < 0 or tr > 0:\n",
    "                count_supper_stable_wrong += 1\n",
    "                append_to(param_index,original_param_index, k_max, supper_stables_wrong, supper_stables_k_max__wrong)\n",
    "            else:\n",
    "                count_supper_stable += 1\n",
    "                append_to(param_index,original_param_index, k_max, supper_stables, supper_stables_k_max)\n",
    "            continue\n",
    "\n",
    "        if L_max <0:\n",
    "            count_inconclusive += 1\n",
    "            append_to_roots(param_index,original_param_index, roots, k_max, inconclusives, inconclusives_k_max, inconclusives_roots)\n",
    "            continue\n",
    "\n",
    "        if L_max > U_i:\n",
    "            if det > 0 and tr < 0:\n",
    "                count_unstable_wrong += 1\n",
    "                append_to(param_index,original_param_index, k_max, unstables_wrong, unstables_k_max_wrong)\n",
    "            else:\n",
    "                count_unstable += 1\n",
    "                append_to(param_index,original_param_index, k_max, unstables, unstables_k_max)\n",
    "            continue\n",
    "\n",
    "        if L_max < L_i:\n",
    "            if det > 0 and tr < 0:\n",
    "                count_unstable_wrong += 1\n",
    "                append_to(param_index,original_param_index, k_max, unstables_wrong, unstables_k_max_wrong)\n",
    "            else:\n",
    "                count_unstable += 1\n",
    "                append_to(param_index,original_param_index, k_max, unstables, unstables_k_max)\n",
    "            continue\n",
    "\n",
    "        if L_i > 0:                    \n",
    "            if det > 0 and tr < 0:\n",
    "                count_unstable_wrong += 1\n",
    "                append_to(param_index,original_param_index, k_max, unstables_wrong, unstables_k_max_wrong)\n",
    "            else:\n",
    "                count_unstable += 1\n",
    "                append_to(param_index,original_param_index, k_max, unstables, unstables_k_max)\n",
    "            continue\n",
    "        else:\n",
    "            count_inconclusive += 1\n",
    "            append_to_roots(param_index,original_param_index, roots, k_max, inconclusives, inconclusives_k_max, inconclusives_roots)\n",
    "            continue                                                                            \n",
    "                \n",
    "    with open(f\"./temp/temp_parameters_round_2_index_{index}.npy\", 'wb') as f:\n",
    "        np.save(f, (count_unstable,\n",
    "                    count_unstable_wrong,\n",
    "                    count_supper_stable,\n",
    "                    count_supper_stable_wrong,\n",
    "                    count_inconclusive,\n",
    "                    failed_roots,\n",
    "                    unstables,\n",
    "                    unstables_k_max,\n",
    "                    supper_stables,\n",
    "                    supper_stables_k_max,\n",
    "                    unstables_wrong,\n",
    "                    unstables_k_max_wrong,\n",
    "                    supper_stables_wrong,\n",
    "                    supper_stables_k_max_wrong,\n",
    "                    inconclusives,\n",
    "                    inconclusives_k_max,\n",
    "                    inconclusives_roots))\n",
    "    return index"
   ]
  },
  {
   "cell_type": "code",
   "execution_count": 33,
   "id": "1adf2869",
   "metadata": {
    "ExecuteTime": {
     "end_time": "2023-06-11T15:20:04.857812Z",
     "start_time": "2023-06-11T14:24:59.626970Z"
    }
   },
   "outputs": [
    {
     "name": "stdout",
     "output_type": "stream",
     "text": [
      "0\n",
      "1\n",
      "2\n",
      "3\n",
      "4\n",
      "5\n",
      "6\n",
      "7\n",
      "8\n",
      "9\n",
      "10\n",
      "11\n",
      "12\n",
      "13\n",
      "14\n",
      "15\n",
      "16\n",
      "17\n",
      "18\n",
      "19\n"
     ]
    }
   ],
   "source": [
    "for i in range(repeat):\n",
    "    print(i)\n",
    "    with Pool(num_process//repeat) as p:\n",
    "        p.map(single_proccess2, args_list[i*50:(i+1)*50])"
   ]
  },
  {
   "cell_type": "code",
   "execution_count": 18,
   "id": "ddfedf9a",
   "metadata": {
    "ExecuteTime": {
     "end_time": "2023-06-11T22:34:02.845187Z",
     "start_time": "2023-06-11T22:30:36.886007Z"
    }
   },
   "outputs": [],
   "source": [
    "(count_unstable2,\n",
    "count_unstable_wrong2,\n",
    "count_supper_stable2,\n",
    "count_supper_stable_wrong2,\n",
    "count_inconclusive2,\n",
    "_) = load_and_conc(num_process, run_round=2)"
   ]
  },
  {
   "cell_type": "code",
   "execution_count": 19,
   "id": "b5ede0d2",
   "metadata": {
    "ExecuteTime": {
     "end_time": "2023-06-11T22:34:22.214510Z",
     "start_time": "2023-06-11T22:34:22.203527Z"
    }
   },
   "outputs": [
    {
     "data": {
      "text/plain": [
       "(0, 0)"
      ]
     },
     "execution_count": 19,
     "metadata": {},
     "output_type": "execute_result"
    }
   ],
   "source": [
    "count_unstable_wrong2, count_supper_stable_wrong2"
   ]
  },
  {
   "cell_type": "code",
   "execution_count": 20,
   "id": "3b64e919",
   "metadata": {
    "ExecuteTime": {
     "end_time": "2023-06-11T22:34:23.703875Z",
     "start_time": "2023-06-11T22:34:23.692225Z"
    }
   },
   "outputs": [
    {
     "name": "stdout",
     "output_type": "stream",
     "text": [
      "Of total 140394311 parameters :\n",
      "Unstable Gershgoring: 25968  0.02%\n",
      "Supper stable Gershgoring: 68454498  48.76%\n",
      "Wrong Unstable Gershgoring: 0  0.00%\n",
      "Wrong Supper stable Gershgoring: 0  0.00%\n",
      "Inconclusive: 71913845  51.22%\n",
      "--\n",
      "Unstable G leftovers: 140368343\n",
      "Supper stable leftovers: 71939813\n",
      "Inconclusive leftovers: 68480466\n",
      "total diff: 0\n"
     ]
    }
   ],
   "source": [
    "total2 = count_inconclusive#\n",
    "print(f\"Of total {total2} parameters :\")\n",
    "print(\"Unstable Gershgoring:\",count_unstable2, f\" {100*count_unstable2/total2:.2f}%\")\n",
    "print(\"Supper stable Gershgoring:\",count_supper_stable2, f\" {100*count_supper_stable2/total2:.2f}%\")\n",
    "print(\"Wrong Unstable Gershgoring:\",count_unstable_wrong2, f\" {100*count_unstable_wrong2/total2:.2f}%\")\n",
    "print(\"Wrong Supper stable Gershgoring:\",count_supper_stable_wrong2, f\" {100*count_supper_stable_wrong2/total2:.2f}%\")\n",
    "print(\"Inconclusive:\",count_inconclusive2, f\" {100*count_inconclusive2/total2:.2f}%\")\n",
    "print(\"--\")\n",
    "print(\"Unstable G leftovers:\",total2-count_unstable2)\n",
    "print(\"Supper stable leftovers:\",total2-count_supper_stable2)\n",
    "print(\"Inconclusive leftovers:\",total2-count_inconclusive2)\n",
    "print(\"total diff:\",total2-count_unstable2-count_supper_stable2-count_inconclusive2)"
   ]
  },
  {
   "cell_type": "code",
   "execution_count": 21,
   "id": "e825f571",
   "metadata": {
    "ExecuteTime": {
     "end_time": "2023-06-11T22:34:28.823078Z",
     "start_time": "2023-06-11T22:34:28.812011Z"
    }
   },
   "outputs": [
    {
     "name": "stdout",
     "output_type": "stream",
     "text": [
      "Combined\n",
      "Of total 1000000000 parameters :\n",
      "Unstable Gershgoring: 4896583  0.49%\n",
      "Supper stable Gershgoring: 919131528  91.91%\n",
      "Wrong Unstable Gershgoring: 0  0.00%\n",
      "Wrong Supper stable Gershgoring: 0  0.00%\n",
      "Inconclusive: 71913845  7.19%\n",
      "failed_roots: 4058044  0.41%\n",
      "--\n",
      "total diff: 0\n"
     ]
    }
   ],
   "source": [
    "print(\"Combined\")\n",
    "print(f\"Of total {total} parameters :\")\n",
    "print(\"Unstable Gershgoring:\",count_unstable+count_unstable2, f\" {100*(count_unstable+count_unstable2)/total:.2f}%\")\n",
    "print(\"Supper stable Gershgoring:\",count_supper_stable+count_supper_stable2, f\" {100*(count_supper_stable+count_supper_stable2)/total:.2f}%\")\n",
    "print(\"Wrong Unstable Gershgoring:\",count_unstable_wrong+count_unstable_wrong2, f\" {100*(count_unstable_wrong+count_unstable_wrong2)/total:.2f}%\")\n",
    "print(\"Wrong Supper stable Gershgoring:\",count_supper_stable_wrong+count_supper_stable_wrong2, f\" {100*(count_supper_stable_wrong+count_supper_stable_wrong2)/total:.2f}%\")\n",
    "print(\"Inconclusive:\",count_inconclusive2, f\" {100*(count_inconclusive2)/total:.2f}%\")\n",
    "print(\"failed_roots:\",failed_roots, f\" {100*failed_roots/total:.2f}%\")\n",
    "print(\"--\")\n",
    "print(\"total diff:\",total-count_unstable-count_supper_stable-failed_roots-count_unstable2-count_supper_stable2-count_inconclusive2)"
   ]
  },
  {
   "cell_type": "markdown",
   "id": "e291e717",
   "metadata": {},
   "source": [
    "# Tightening bounds"
   ]
  },
  {
   "cell_type": "code",
   "execution_count": 119,
   "id": "4adf2de4",
   "metadata": {
    "ExecuteTime": {
     "end_time": "2023-06-12T13:00:41.356874Z",
     "start_time": "2023-06-12T13:00:41.334489Z"
    },
    "code_folding": []
   },
   "outputs": [],
   "source": [
    "def single_proccess3(args):    \n",
    "    index, params = args\n",
    "    \n",
    "    with open(f\"./temp/temp_parameters_round_2_index_{index}.npy\", 'rb') as f:\n",
    "        (_, _, _, _, _, _, _, _, _, _, _, _, _, _,\n",
    "        inconclusives_data,\n",
    "        inconclusives_k_max_data,\n",
    "        inconclusives_roots_data) = np.load(f,allow_pickle=True)\n",
    "          \n",
    "    count_unstable = 0\n",
    "    count_unstable_wrong = 0\n",
    "    count_supper_stable = 0\n",
    "    count_supper_stable_wrong = 0\n",
    "    count_inconclusive = 0\n",
    "\n",
    "\n",
    "    unstables = []\n",
    "    unstables_k_max = []\n",
    "    unstables_wrong = []\n",
    "    unstables_k_max_wrong = []\n",
    "    supper_stables = []\n",
    "    supper_stables_k_max = []\n",
    "    supper_stables_wrong = []    \n",
    "    supper_stables_k_max_wrong = []\n",
    "    inconclusives = []\n",
    "    inconclusives_k_max = []\n",
    "    inconclusives_roots = []\n",
    "    \n",
    "    \n",
    "    def append_to_roots(i, param_index, roots, k_max, arr,  arr_k_max, arr_roots):        \n",
    "        arr.append((i, param_index))\n",
    "        arr_k_max.append(k_max)\n",
    "        arr_roots.append(roots)\n",
    "        \n",
    "    def append_to(i, param_index, k_max, arr,  arr_k_max):        \n",
    "        arr.append((i, param_index))\n",
    "        arr_k_max.append(k_max)\n",
    "    \n",
    "    \n",
    "    D_A_val = 0.01\n",
    "    D_B_val = 1.0\n",
    "    n_val = 4\n",
    "\n",
    "    for i, (param_index, _) in enumerate(inconclusives_data):\n",
    "        k_max = inconclusives_k_max_data[i]\n",
    "        roots = inconclusives_roots_data[i]\n",
    "        \n",
    "        (original_param_index, b_A_val, mu_A_val, V_A_val, K_AA_val, K_AB_val,\n",
    "         b_B_val, mu_B_val, V_B_val, K_BA_val) = params[param_index]    \n",
    "        #\n",
    "        \n",
    "        J_test = J_jac_func(n_val, \n",
    "                            b_A_val, mu_A_val, V_A_val, K_AA_val, K_AB_val,\n",
    "                            b_B_val, mu_B_val, V_B_val, K_BA_val,\n",
    "                            A = roots[0], B = roots[1])\n",
    "\n",
    "        det = J_test[0, 0]*J_test[1, 1] - J_test[0, 1]*J_test[1, 0]\n",
    "        tr = J_test[0, 0] + J_test[1, 1]\n",
    "        \n",
    "        \n",
    "\n",
    "        if J_test[0, 0] < J_test[1, 1]:\n",
    "            a_ii = J_test[1, 1]\n",
    "            a_jj  = J_test[0, 0]\n",
    "            r_i = np.abs(J_test[1, 0])\n",
    "            r_j = np.abs(J_test[0, 1])\n",
    "        else:\n",
    "            a_ii = J_test[0, 0]\n",
    "            a_jj  = J_test[1, 1]\n",
    "            r_i = np.abs(J_test[0, 1])\n",
    "            r_j = np.abs(J_test[1, 0])\n",
    "                \n",
    "        if a_ii > 0:\n",
    "            if (a_jj - a_ii)**2 > 4*r_i*r_j:\n",
    "                d_i_max = max(np.roots([r_j, a_jj - a_ii, r_i]))\n",
    "                if d_i_max > (r_i/a_ii):\n",
    "                    if det > 0 and tr < 0:\n",
    "                        count_unstable_wrong += 1\n",
    "                        append_to(param_index,original_param_index, k_max, unstables_wrong, unstables_k_max_wrong)\n",
    "                    else:\n",
    "                        count_unstable += 1\n",
    "                        append_to(param_index,original_param_index, k_max, unstables, unstables_k_max)\n",
    "                    continue\n",
    "                else:\n",
    "                    count_inconclusive += 1\n",
    "                    append_to_roots(param_index,original_param_index, roots, k_max, inconclusives, inconclusives_k_max, inconclusives_roots)\n",
    "                    continue                                                                            \n",
    "                    \n",
    "            else:\n",
    "                count_inconclusive += 1\n",
    "                append_to_roots(param_index,original_param_index, roots, k_max, inconclusives, inconclusives_k_max, inconclusives_roots)\n",
    "                continue                                                                            \n",
    "                \n",
    "        else:\n",
    "            if (r_i/np.abs(a_ii)) < 1 + (np.abs(a_jj) - r_j)/r_j:\n",
    "                if det < 0 or tr > 0:\n",
    "                    count_supper_stable_wrong += 1\n",
    "                    append_to(i,param_index, k_max, supper_stables_wrong, supper_stables_k_max__wrong)\n",
    "                else:\n",
    "                    count_supper_stable += 1\n",
    "                    append_to(i,param_index, k_max, supper_stables, supper_stables_k_max)\n",
    "                continue\n",
    "            else:\n",
    "                count_inconclusive += 1\n",
    "                append_to_roots(param_index,original_param_index, roots, k_max, inconclusives, inconclusives_k_max, inconclusives_roots)\n",
    "                continue                                                                            \n",
    "                \n",
    "    with open(f\"./temp/temp_parameters_round_3_index_{index}.npy\", 'wb') as f:\n",
    "        np.save(f, (count_unstable,\n",
    "                    count_unstable_wrong,\n",
    "                    count_supper_stable,\n",
    "                    count_supper_stable_wrong,\n",
    "                    count_inconclusive,\n",
    "                    unstables,\n",
    "                    unstables_k_max,\n",
    "                    supper_stables,\n",
    "                    supper_stables_k_max,\n",
    "                    unstables_wrong,\n",
    "                    unstables_k_max_wrong,\n",
    "                    supper_stables_wrong,\n",
    "                    supper_stables_k_max_wrong,\n",
    "                    inconclusives,\n",
    "                    inconclusives_k_max,\n",
    "                    inconclusives_roots))\n",
    "    return index"
   ]
  },
  {
   "cell_type": "code",
   "execution_count": 120,
   "id": "bade769a",
   "metadata": {
    "ExecuteTime": {
     "end_time": "2023-06-12T13:57:17.392477Z",
     "start_time": "2023-06-12T13:00:45.302107Z"
    }
   },
   "outputs": [
    {
     "name": "stdout",
     "output_type": "stream",
     "text": [
      "0\n",
      "1\n",
      "2\n",
      "3\n",
      "4\n",
      "5\n",
      "6\n",
      "7\n",
      "8\n",
      "9\n",
      "10\n",
      "11\n",
      "12\n",
      "13\n",
      "14\n",
      "15\n",
      "16\n",
      "17\n",
      "18\n",
      "19\n"
     ]
    }
   ],
   "source": [
    "for i in range(repeat):\n",
    "    print(i)\n",
    "    with Pool(num_process//repeat) as p:\n",
    "        p.map(single_proccess3, args_list[i*50:(i+1)*50])"
   ]
  },
  {
   "cell_type": "code",
   "execution_count": 121,
   "id": "4edd5f6e",
   "metadata": {
    "ExecuteTime": {
     "end_time": "2023-06-12T14:40:11.744652Z",
     "start_time": "2023-06-12T14:40:11.733421Z"
    },
    "code_folding": []
   },
   "outputs": [],
   "source": [
    "def load_and_conc3(num_process):\n",
    "    count_unstable = 0\n",
    "    count_unstable_wrong = 0\n",
    "    count_supper_stable = 0\n",
    "    count_supper_stable_wrong = 0\n",
    "    count_inconclusive = 0\n",
    "\n",
    "    \n",
    "    for index in range(num_process):\n",
    "        with open(f\"./temp/temp_parameters_round_3_index_{index}.npy\", 'rb') as f:\n",
    "            (count_unstable_i,\n",
    "            count_unstable_wrong_i,\n",
    "            count_supper_stable_i,\n",
    "            count_supper_stable_wrong_i,\n",
    "            count_inconclusive_i,\n",
    "            _, _, _, _, _, _, _, _, _, _, _) = np.load(f, allow_pickle=True)\n",
    "        \n",
    "        count_unstable += count_unstable_i\n",
    "        count_unstable_wrong += count_unstable_wrong_i\n",
    "        count_supper_stable += count_supper_stable_i\n",
    "        count_supper_stable_wrong += count_supper_stable_wrong_i\n",
    "        count_inconclusive += count_inconclusive_i       \n",
    "            \n",
    "    return (count_unstable,\n",
    "            count_unstable_wrong,\n",
    "            count_supper_stable,\n",
    "            count_supper_stable_wrong,\n",
    "            count_inconclusive) "
   ]
  },
  {
   "cell_type": "code",
   "execution_count": 122,
   "id": "26a0d225",
   "metadata": {
    "ExecuteTime": {
     "end_time": "2023-06-12T14:40:43.727297Z",
     "start_time": "2023-06-12T14:40:14.101292Z"
    }
   },
   "outputs": [],
   "source": [
    "(count_unstable3,\n",
    "count_unstable_wrong3,\n",
    "count_supper_stable3,\n",
    "count_supper_stable_wrong3,\n",
    "count_inconclusive3) = load_and_conc3(num_process)"
   ]
  },
  {
   "cell_type": "code",
   "execution_count": 123,
   "id": "f6566eb9",
   "metadata": {
    "ExecuteTime": {
     "end_time": "2023-06-12T15:08:24.025888Z",
     "start_time": "2023-06-12T15:08:24.016140Z"
    }
   },
   "outputs": [
    {
     "data": {
      "text/plain": [
       "(0, 0)"
      ]
     },
     "execution_count": 123,
     "metadata": {},
     "output_type": "execute_result"
    }
   ],
   "source": [
    "count_unstable_wrong3, count_supper_stable_wrong3"
   ]
  },
  {
   "cell_type": "code",
   "execution_count": 124,
   "id": "64f4dc53",
   "metadata": {
    "ExecuteTime": {
     "end_time": "2023-06-12T15:08:27.535794Z",
     "start_time": "2023-06-12T15:08:27.524296Z"
    }
   },
   "outputs": [
    {
     "name": "stdout",
     "output_type": "stream",
     "text": [
      "Of total 71913845 parameters :\n",
      "Unstable Gershgoring: 307936  0.43%\n",
      "Supper stable Gershgoring: 64615611  89.85%\n",
      "Wrong Unstable Gershgoring: 0  0.00%\n",
      "Wrong Supper stable Gershgoring: 0  0.00%\n",
      "Inconclusive: 6990298  9.72%\n",
      "--\n",
      "Unstable G leftovers: 71605909\n",
      "Supper stable leftovers: 7298234\n",
      "Inconclusive leftovers: 64923547\n",
      "total diff: 0\n"
     ]
    }
   ],
   "source": [
    "total3 = count_inconclusive2#\n",
    "print(f\"Of total {total3} parameters :\")\n",
    "print(\"Unstable Gershgoring:\",count_unstable3, f\" {100*count_unstable3/total3:.2f}%\")\n",
    "print(\"Supper stable Gershgoring:\",count_supper_stable3, f\" {100*count_supper_stable3/total3:.2f}%\")\n",
    "print(\"Wrong Unstable Gershgoring:\",count_unstable_wrong3, f\" {100*count_unstable_wrong3/total3:.2f}%\")\n",
    "print(\"Wrong Supper stable Gershgoring:\",count_supper_stable_wrong3, f\" {100*count_supper_stable_wrong3/total3:.2f}%\")\n",
    "print(\"Inconclusive:\",count_inconclusive3, f\" {100*(count_inconclusive3)/total3:.2f}%\")\n",
    "print(\"--\")\n",
    "print(\"Unstable G leftovers:\",total3-count_unstable3)\n",
    "print(\"Supper stable leftovers:\",total3-count_supper_stable3)\n",
    "print(\"Inconclusive leftovers:\",total3-count_inconclusive3)\n",
    "print(\"total diff:\",total3-(count_unstable3+count_supper_stable3+count_inconclusive3))"
   ]
  },
  {
   "cell_type": "code",
   "execution_count": 125,
   "id": "8a8b304e",
   "metadata": {
    "ExecuteTime": {
     "end_time": "2023-06-12T15:09:34.804744Z",
     "start_time": "2023-06-12T15:09:34.792629Z"
    }
   },
   "outputs": [
    {
     "name": "stdout",
     "output_type": "stream",
     "text": [
      "Combined\n",
      "Of total 1000000000 parameters :\n",
      "Unstable Gershgoring: 5204519  0.52%\n",
      "Supper stable Gershgoring: 983747139  98.37%\n",
      "Wrong Unstable Gershgoring: 0  0.00%\n",
      "Wrong Supper stable Gershgoring: 0  0.00%\n",
      "Inconclusive: 6990298  0.70%\n",
      "failed_roots: 4058044  0.41%\n",
      "--\n",
      "total diff: 0\n"
     ]
    }
   ],
   "source": [
    "print(\"Combined\")\n",
    "print(f\"Of total {total} parameters :\")\n",
    "print(\"Unstable Gershgoring:\",count_unstable+count_unstable2+count_unstable3, \n",
    "      f\" {100*(count_unstable+count_unstable2+count_unstable3)/total:.2f}%\")\n",
    "print(\"Supper stable Gershgoring:\",count_supper_stable+count_supper_stable2+count_supper_stable3,\n",
    "      f\" {100*(count_supper_stable+count_supper_stable2+count_supper_stable3)/total:.2f}%\")\n",
    "print(\"Wrong Unstable Gershgoring:\",count_unstable_wrong+count_unstable_wrong2+count_unstable_wrong3,\n",
    "      f\" {100*(count_unstable_wrong+count_unstable_wrong2+count_unstable_wrong3)/total:.2f}%\")\n",
    "print(\"Wrong Supper stable Gershgoring:\",count_supper_stable_wrong+count_supper_stable_wrong2+count_supper_stable_wrong3,\n",
    "      f\" {100*(count_supper_stable_wrong+count_supper_stable_wrong2+count_supper_stable_wrong3)/total:.2f}%\")\n",
    "print(\"Inconclusive:\",count_inconclusive3, f\" {100*(count_inconclusive3)/total:.2f}%\")\n",
    "print(\"failed_roots:\",failed_roots, f\" {100*failed_roots/total:.2f}%\")\n",
    "print(\"--\")\n",
    "print(\"total diff:\",\n",
    "      total-count_unstable-count_supper_stable-failed_roots-count_unstable2-count_unstable3-count_supper_stable2-count_supper_stable3-count_inconclusive3)"
   ]
  },
  {
   "cell_type": "code",
   "execution_count": null,
   "id": "1beb0421",
   "metadata": {},
   "outputs": [],
   "source": []
  },
  {
   "cell_type": "code",
   "execution_count": null,
   "id": "0403b040",
   "metadata": {},
   "outputs": [],
   "source": []
  },
  {
   "cell_type": "code",
   "execution_count": null,
   "id": "df1fee5e",
   "metadata": {},
   "outputs": [],
   "source": []
  },
  {
   "cell_type": "code",
   "execution_count": 88,
   "id": "099ae88a",
   "metadata": {
    "ExecuteTime": {
     "end_time": "2023-06-12T11:38:00.282929Z",
     "start_time": "2023-06-12T11:38:00.149136Z"
    }
   },
   "outputs": [],
   "source": [
    "with open(f\"./temp/temp_parameters_round_3_index_3.npy\", 'rb') as f:\n",
    "    (_,_,_,_,_,_,_,_,_,\n",
    "    unstables_wrong,\n",
    "    unstables_k_max_wrong,\n",
    "    _, _, _, _, _)=np.load(f, allow_pickle=True)"
   ]
  },
  {
   "cell_type": "code",
   "execution_count": 90,
   "id": "4019becc",
   "metadata": {
    "ExecuteTime": {
     "end_time": "2023-06-12T11:38:12.473476Z",
     "start_time": "2023-06-12T11:38:12.463879Z"
    }
   },
   "outputs": [
    {
     "data": {
      "text/plain": [
       "[(557477, 3557477)]"
      ]
     },
     "execution_count": 90,
     "metadata": {},
     "output_type": "execute_result"
    }
   ],
   "source": [
    "unstables_wrong_test"
   ]
  },
  {
   "cell_type": "code",
   "execution_count": 91,
   "id": "ccd8fe22",
   "metadata": {
    "ExecuteTime": {
     "end_time": "2023-06-12T11:38:17.052640Z",
     "start_time": "2023-06-12T11:38:17.038743Z"
    }
   },
   "outputs": [],
   "source": [
    "(_, b_A_val, mu_A_val, V_A_val, K_AA_val, K_AB_val,\n",
    "         b_B_val, mu_B_val, V_B_val, K_BA_val) =args_list[3][1][unstables_wrong_test[0][0]]"
   ]
  },
  {
   "cell_type": "code",
   "execution_count": 92,
   "id": "fe6113ec",
   "metadata": {
    "ExecuteTime": {
     "end_time": "2023-06-12T11:38:18.323675Z",
     "start_time": "2023-06-12T11:38:18.306592Z"
    },
    "code_folding": [
     0
    ]
   },
   "outputs": [],
   "source": [
    "def find_roots(n_val, b_A_val, mu_A_val, V_A_val, K_AA_val, K_AB_val, \n",
    "                      b_B_val, mu_B_val, V_B_val, K_BA_val,\n",
    "               verbose=False):    \n",
    "    func = create_func(n_val, b_A_val, mu_A_val, V_A_val, K_AA_val, K_AB_val, \n",
    "                       b_B_val, mu_B_val, V_B_val, K_BA_val,)\n",
    "    #\n",
    "    roots_res = []\n",
    "    for init_vals in product([.1,-.1], repeat=2):        \n",
    "        roots, d, ier, msg = fsolve(func, init_vals, xtol=1e-7, maxfev=10000,  full_output=1)\n",
    "        (a_1, b_1) = func(roots)\n",
    "        if ier == 1 and a_1 < 1e-7 and b_1 < 1e-7:\n",
    "            roots_res.append(roots)\n",
    "            return roots_res\n",
    "    for init_vals in product([1,-1], repeat=2):        \n",
    "        roots, d, ier, msg = fsolve(func, init_vals, xtol=1e-7, maxfev=10000,  full_output=1)\n",
    "        (a_1, b_1) = func(roots)\n",
    "        if ier == 1 and a_1 < 1e-7 and b_1 < 1e-7:\n",
    "            roots_res.append(roots)\n",
    "            return roots_res\n",
    "\n",
    "    for init_vals in product([10,-10], repeat=2):        \n",
    "        roots, d, ier, msg = fsolve(func, init_vals, xtol=1e-7, maxfev=10000,  full_output=1)\n",
    "        (a_1, b_1) = func(roots)\n",
    "        if ier == 1 and a_1 < 1e-7 and b_1 < 1e-7:\n",
    "            roots_res.append(roots)\n",
    "            return roots_res\n",
    "\n",
    "    for init_vals in product([100,-100], repeat=2):        \n",
    "        roots, d, ier, msg = fsolve(func, init_vals, xtol=1e-7, maxfev=10000,  full_output=1)\n",
    "        (a_1, b_1) = func(roots)\n",
    "        if ier == 1 and a_1 < 1e-7 and b_1 < 1e-7:\n",
    "            roots_res.append(roots)\n",
    "            return roots_res\n",
    "\n",
    "    if len(roots_res) == 0:\n",
    "        if verbose:\n",
    "            print(msg)\n",
    "            print(\"roots:\", roots)\n",
    "            print(\"values\", a_1, b_1)\n",
    "        return roots_res \n",
    "    else:\n",
    "        roots_res2 = [roots_res[0]]\n",
    "        for item in roots_res[1:]:\n",
    "            if np.any(item < 0):\n",
    "                continue\n",
    "            if not np.any([np.isclose(item2, item) for item2 in roots_res2]):\n",
    "                roots_res2.append(item)\n",
    "        return roots_res2 \n",
    "\n"
   ]
  },
  {
   "cell_type": "code",
   "execution_count": 93,
   "id": "32ef5b05",
   "metadata": {
    "ExecuteTime": {
     "end_time": "2023-06-12T11:38:19.375148Z",
     "start_time": "2023-06-12T11:38:19.366423Z"
    }
   },
   "outputs": [],
   "source": [
    "roots_all = find_roots(4, \n",
    "                               b_A_val, mu_A_val, V_A_val, K_AA_val, K_AB_val,\n",
    "                               b_B_val, mu_B_val, V_B_val, K_BA_val)"
   ]
  },
  {
   "cell_type": "code",
   "execution_count": 94,
   "id": "36f0103f",
   "metadata": {
    "ExecuteTime": {
     "end_time": "2023-06-12T11:38:20.184812Z",
     "start_time": "2023-06-12T11:38:20.174904Z"
    }
   },
   "outputs": [
    {
     "data": {
      "text/plain": [
       "array([ 5.10204267, 76.00960413])"
      ]
     },
     "execution_count": 94,
     "metadata": {},
     "output_type": "execute_result"
    }
   ],
   "source": [
    "roots = roots_all[0]\n",
    "roots"
   ]
  },
  {
   "cell_type": "code",
   "execution_count": 95,
   "id": "b2ea3706",
   "metadata": {
    "ExecuteTime": {
     "end_time": "2023-06-12T11:38:23.988139Z",
     "start_time": "2023-06-12T11:38:23.980644Z"
    }
   },
   "outputs": [],
   "source": [
    "J_test = J_jac_func(4, \n",
    "                            b_A_val, mu_A_val, V_A_val, K_AA_val, K_AB_val,\n",
    "                            b_B_val, mu_B_val, V_B_val, K_BA_val,\n",
    "                            A = roots[0], B = roots[1])"
   ]
  },
  {
   "cell_type": "code",
   "execution_count": 96,
   "id": "f654b2e8",
   "metadata": {
    "ExecuteTime": {
     "end_time": "2023-06-12T11:38:24.806587Z",
     "start_time": "2023-06-12T11:38:24.796908Z"
    }
   },
   "outputs": [
    {
     "data": {
      "text/plain": [
       "array([[ 5.43062399e-03, -1.81824328e-03],\n",
       "       [ 9.78401382e+00, -1.00000000e+00]])"
      ]
     },
     "execution_count": 96,
     "metadata": {},
     "output_type": "execute_result"
    }
   ],
   "source": [
    "J_test"
   ]
  },
  {
   "cell_type": "code",
   "execution_count": 97,
   "id": "da600f1a",
   "metadata": {
    "ExecuteTime": {
     "end_time": "2023-06-12T11:38:27.933218Z",
     "start_time": "2023-06-12T11:38:27.922417Z"
    }
   },
   "outputs": [],
   "source": [
    "det = J_test[0, 0]*J_test[1, 1] - J_test[0, 1]*J_test[1, 0]\n",
    "tr = J_test[0, 0] + J_test[1, 1]\n",
    "\n",
    "\n",
    "\n",
    "if J_test[0, 0] < J_test[1, 1]:\n",
    "    a_ii = J_test[1, 1]\n",
    "    a_jj  = J_test[0, 0]\n",
    "    r_i = np.abs(J_test[1, 0])\n",
    "    r_j = np.abs(J_test[0, 1])\n",
    "else:\n",
    "    a_ii = J_test[0, 0]\n",
    "    a_jj  = J_test[1, 1]\n",
    "    r_i = np.abs(J_test[0, 1])\n",
    "    r_j = np.abs(J_test[1, 0])"
   ]
  },
  {
   "cell_type": "code",
   "execution_count": 98,
   "id": "70abae63",
   "metadata": {
    "ExecuteTime": {
     "end_time": "2023-06-12T11:38:28.684955Z",
     "start_time": "2023-06-12T11:38:28.675572Z"
    }
   },
   "outputs": [
    {
     "data": {
      "text/plain": [
       "(0.012359093365571287, -0.9945693760102821)"
      ]
     },
     "execution_count": 98,
     "metadata": {},
     "output_type": "execute_result"
    }
   ],
   "source": [
    "det, tr"
   ]
  },
  {
   "cell_type": "code",
   "execution_count": 99,
   "id": "eb96a975",
   "metadata": {
    "ExecuteTime": {
     "end_time": "2023-06-12T11:38:30.713917Z",
     "start_time": "2023-06-12T11:38:30.703289Z"
    }
   },
   "outputs": [
    {
     "data": {
      "text/plain": [
       "array([-0.01258585+0.j, -0.98198353+0.j])"
      ]
     },
     "execution_count": 99,
     "metadata": {},
     "output_type": "execute_result"
    }
   ],
   "source": [
    "eigvals(J_test)"
   ]
  },
  {
   "cell_type": "code",
   "execution_count": 100,
   "id": "ccbc9139",
   "metadata": {
    "ExecuteTime": {
     "end_time": "2023-06-12T11:38:34.779229Z",
     "start_time": "2023-06-12T11:38:34.768621Z"
    }
   },
   "outputs": [
    {
     "data": {
      "text/plain": [
       "(1.0108907396563536,\n",
       " 0.0018182432781146866,\n",
       " 9.784013816751282,\n",
       " 0.07115886942115694,\n",
       " True)"
      ]
     },
     "execution_count": 100,
     "metadata": {},
     "output_type": "execute_result"
    }
   ],
   "source": [
    "(a_jj-a_ii)**2, r_i, r_j, 4*r_i*r_j, (a_jj-a_ii)**2 > 4*r_i*r_j"
   ]
  },
  {
   "cell_type": "code",
   "execution_count": 101,
   "id": "3659f938",
   "metadata": {
    "ExecuteTime": {
     "end_time": "2023-06-12T11:39:00.746751Z",
     "start_time": "2023-06-12T11:39:00.734841Z"
    }
   },
   "outputs": [
    {
     "data": {
      "text/plain": [
       "array([5.52966343e+02, 1.80842833e-03])"
      ]
     },
     "execution_count": 101,
     "metadata": {},
     "output_type": "execute_result"
    }
   ],
   "source": [
    "np.roots([r_i, a_jj - a_ii, r_i])"
   ]
  },
  {
   "cell_type": "code",
   "execution_count": 105,
   "id": "ae8449fd",
   "metadata": {
    "ExecuteTime": {
     "end_time": "2023-06-12T11:40:58.382946Z",
     "start_time": "2023-06-12T11:40:58.373367Z"
    }
   },
   "outputs": [
    {
     "data": {
      "text/plain": [
       "(0.10092117331547819, 0.33481295732447147, False)"
      ]
     },
     "execution_count": 105,
     "metadata": {},
     "output_type": "execute_result"
    }
   ],
   "source": [
    "d_i_max = max(np.roots([r_j, a_jj - a_ii, r_i]))\n",
    "d_i_max, (r_i/a_ii), d_i_max > (r_i/a_ii)"
   ]
  },
  {
   "cell_type": "code",
   "execution_count": 104,
   "id": "58d23279",
   "metadata": {
    "ExecuteTime": {
     "end_time": "2023-06-12T11:40:36.542079Z",
     "start_time": "2023-06-12T11:40:36.534587Z"
    }
   },
   "outputs": [
    {
     "name": "stdout",
     "output_type": "stream",
     "text": [
      "-0.012751808791428915 0.023613056770864813\n",
      "-1.9784013816751282 -0.021598618324871754\n"
     ]
    }
   ],
   "source": [
    "d = 0.1\n",
    "print(a_ii - r_i/d, a_ii + r_i/d)\n",
    "print(a_jj - r_j*d, a_jj + r_j*d)"
   ]
  },
  {
   "cell_type": "code",
   "execution_count": 78,
   "id": "a179e926",
   "metadata": {
    "ExecuteTime": {
     "end_time": "2023-06-12T09:50:57.789751Z",
     "start_time": "2023-06-12T09:50:57.779681Z"
    }
   },
   "outputs": [
    {
     "data": {
      "text/plain": [
       "0.33481295732447147"
      ]
     },
     "execution_count": 78,
     "metadata": {},
     "output_type": "execute_result"
    }
   ],
   "source": [
    "r_i/a_ii "
   ]
  },
  {
   "cell_type": "code",
   "execution_count": 74,
   "id": "dee298b0",
   "metadata": {
    "ExecuteTime": {
     "end_time": "2023-06-12T09:49:38.723648Z",
     "start_time": "2023-06-12T09:49:38.615440Z"
    }
   },
   "outputs": [
    {
     "name": "stdout",
     "output_type": "stream",
     "text": [
      "-0.0008846809533442858\n"
     ]
    },
    {
     "data": {
      "image/png": "[encoded data removed]",
      "text/plain": [
       "<Figure size 640x480 with 1 Axes>"
      ]
     },
     "metadata": {},
     "output_type": "display_data"
    }
   ],
   "source": [
    "ds = np.linspace(-.05,.15)\n",
    "f = lambda d: r_j*d*d + (a_jj - a_ii)*d + r_i\n",
    "plt.plot(ds, f(ds))\n",
    "plt.grid()\n",
    "print(f(.1))"
   ]
  },
  {
   "cell_type": "code",
   "execution_count": null,
   "id": "7feae87f",
   "metadata": {},
   "outputs": [],
   "source": []
  },
  {
   "cell_type": "code",
   "execution_count": null,
   "id": "8c47f6d3",
   "metadata": {},
   "outputs": [],
   "source": []
  },
  {
   "cell_type": "code",
   "execution_count": null,
   "id": "a8a74c7c",
   "metadata": {},
   "outputs": [],
   "source": []
  },
  {
   "cell_type": "markdown",
   "id": "e19ae291",
   "metadata": {},
   "source": [
    "## Including the diffusion"
   ]
  },
  {
   "cell_type": "code",
   "execution_count": 10,
   "id": "389f4827",
   "metadata": {
    "ExecuteTime": {
     "end_time": "2023-05-24T16:40:59.630906Z",
     "start_time": "2023-05-24T16:40:59.596224Z"
    }
   },
   "outputs": [
    {
     "data": {
      "text/latex": [
       "$J_{diff}= \\left[\\begin{matrix}- D_{A} k^{2} - \\mu_{A} + \\frac{V_{A} n \\left(\\frac{K_{AA}}{A}\\right)^{n}}{A \\left(\\left(\\frac{K_{AA}}{A}\\right)^{n} + 1\\right)^{2} \\left(\\left(\\frac{B}{K_{BA}}\\right)^{n} + 1\\right)} & - \\frac{V_{A} n \\left(\\frac{B}{K_{BA}}\\right)^{n}}{B \\left(\\left(\\frac{K_{AA}}{A}\\right)^{n} + 1\\right) \\left(\\left(\\frac{B}{K_{BA}}\\right)^{n} + 1\\right)^{2}} & 0\\\\\\frac{V_{B} n \\left(\\frac{K_{AB}}{A}\\right)^{n}}{A \\left(\\left(\\frac{K_{AB}}{A}\\right)^{n} + 1\\right)^{2} \\left(\\left(\\frac{C}{K_{CB}}\\right)^{n} + 1\\right)} & - D_{B} k^{2} - \\mu_{B} & - \\frac{V_{B} n \\left(\\frac{C}{K_{CB}}\\right)^{n}}{C \\left(\\left(\\frac{K_{AB}}{A}\\right)^{n} + 1\\right) \\left(\\left(\\frac{C}{K_{CB}}\\right)^{n} + 1\\right)^{2}}\\\\- \\frac{V_{C} n \\left(\\frac{A}{K_{AC}}\\right)^{n}}{A \\left(\\left(\\frac{A}{K_{AC}}\\right)^{n} + 1\\right)^{2} \\left(\\left(\\frac{B}{K_{BC}}\\right)^{n} + 1\\right) \\left(\\left(\\frac{K_{CC}}{C}\\right)^{n} + 1\\right)} & - \\frac{V_{C} n \\left(\\frac{B}{K_{BC}}\\right)^{n}}{B \\left(\\left(\\frac{A}{K_{AC}}\\right)^{n} + 1\\right) \\left(\\left(\\frac{B}{K_{BC}}\\right)^{n} + 1\\right)^{2} \\left(\\left(\\frac{K_{CC}}{C}\\right)^{n} + 1\\right)} & - \\mu_{C} + \\frac{V_{C} n \\left(\\frac{K_{CC}}{C}\\right)^{n}}{C \\left(\\left(\\frac{A}{K_{AC}}\\right)^{n} + 1\\right) \\left(\\left(\\frac{B}{K_{BC}}\\right)^{n} + 1\\right) \\left(\\left(\\frac{K_{CC}}{C}\\right)^{n} + 1\\right)^{2}}\\end{matrix}\\right]$"
      ],
      "text/plain": [
       "<IPython.core.display.Latex object>"
      ]
     },
     "metadata": {},
     "output_type": "display_data"
    }
   ],
   "source": [
    "J_jac_diff = J_jac - Matrix([[D_A*k**2, 0,        0], \n",
    "                             [0,        D_B*k**2, 0],\n",
    "                             [0,        0,        0],\n",
    "                           ])\n",
    "hprint(r\"J_{diff}= \", J_jac_diff)\n",
    "\n",
    "J_jac_diff_func = lambdify([n, b_A, μ_A, V_A, K_AA, K_AB, K_AC,\n",
    "                            b_B, μ_B, V_B, K_BA, K_BC,\n",
    "                            b_C, μ_C, V_C, K_CB, K_CC, A,B,C], \n",
    "               J_jac_diff,\n",
    "              modules='numpy')"
   ]
  },
  {
   "cell_type": "code",
   "execution_count": 31,
   "id": "886be901",
   "metadata": {
    "ExecuteTime": {
     "end_time": "2023-05-24T14:33:46.659426Z",
     "start_time": "2023-05-24T14:33:46.639799Z"
    }
   },
   "outputs": [],
   "source": [
    "import warnings\n",
    "warnings.filterwarnings(\"ignore\")\n",
    "\n",
    "def single_proccess2(args):\n",
    "    valid_parameters, valid_roots, k_2_maxs = args\n",
    "    D_A_val=.01\n",
    "    D_B_val=1\n",
    "\n",
    "    turing_dispersions_1 = []\n",
    "    turing_dispersions_2 = []\n",
    "    turing_dispersions_3 = []\n",
    "    turing_parameters = []\n",
    "    turing_k_max = []\n",
    "    \n",
    "\n",
    "    def check_type(item):\n",
    "        return not isinstance(item, float) and not isinstance(item, int)\n",
    "\n",
    "    for i  in range(len(valid_parameters)):\n",
    "\n",
    "        (n_val, b_A_val, mu_A_val, V_A_val, K_AA_val, K_AB_val, K_AC_val,\n",
    "         b_B_val, mu_B_val, V_B_val, K_BA_val, K_BC_val,\n",
    "         b_C_val, mu_C_val, V_C_val, K_CB_val, K_CC_val) = valid_parameters[i]    \n",
    "\n",
    "        #indices.append(i)\n",
    "        λ_1, λ_2, λ_3 = list(J_jac_diff.subs(\n",
    "                              {n:n_val, \n",
    "                               b_A:b_A_val, \n",
    "                               μ_A:mu_A_val, \n",
    "                               V_A:V_A_val,\n",
    "                               K_AA:K_AA_val, \n",
    "                               K_AB:K_AB_val,  \n",
    "                               K_AC:K_AC_val,\n",
    "                               b_B:b_B_val, \n",
    "                               μ_B:mu_B_val, \n",
    "                               V_B:V_B_val,\n",
    "                               K_BA:K_BA_val, \n",
    "                               K_BC:K_BC_val,  \n",
    "                               b_C:b_C_val, \n",
    "                               μ_C:mu_C_val, \n",
    "                               V_C:V_C_val,\n",
    "                               K_CB:K_CB_val, \n",
    "                               K_CC:K_CC_val,  \n",
    "                               D_A: D_A_val , \n",
    "                               D_B: D_B_val,\n",
    "                               A:valid_roots[i][0], \n",
    "                               B:valid_roots[i][1], \n",
    "                               C:valid_roots[i][2]}\n",
    "                         ).eigenvals().keys())\n",
    "\n",
    "        λ_1_func = lambdify([k], \n",
    "                             λ_1,\n",
    "                             modules='numpy')\n",
    "        λ_2_func = lambdify([k], \n",
    "                             λ_2,\n",
    "                             modules='numpy')\n",
    "        λ_3_func = lambdify([k], \n",
    "                             λ_3,\n",
    "                             modules='numpy')\n",
    "        k_max = np.sqrt(k_2_maxs[i])\n",
    "        ks = np.linspace(0, k_max + 1, 10000).astype(np.complex64) \n",
    "        dis1 = λ_1_func(ks)\n",
    "        if check_type(dis1):\n",
    "            dis1[np.isinf(np.real(dis1))] = -100\n",
    "\n",
    "        dis2 = λ_2_func(ks)\n",
    "        if check_type(dis2):\n",
    "            dis2[np.isinf(np.real(dis2))] = -100\n",
    "\n",
    "        dis3 = λ_3_func(ks)\n",
    "        if check_type(dis2):\n",
    "            dis3[np.isinf(np.real(dis3))] = -100\n",
    "        #\n",
    "        if check_type(dis1) and np.count_nonzero(np.real(dis1) > 0) > 1 and np.real(dis1)[-1] <= 0:\n",
    "            #turing_parameters_index.append(i)\n",
    "            turing_dispersions_1.append(dis1)\n",
    "            turing_dispersions_2.append(dis2)\n",
    "            turing_dispersions_3.append(dis3)\n",
    "            turing_parameters.append(valid_parameters[i])\n",
    "            turing_k_max.append(k_max)\n",
    "        elif check_type(dis2) and np.count_nonzero(np.real(dis2) > 0) > 1  and np.real(dis2)[-1] <= 0:\n",
    "            #turing_parameters_index.append(i)\n",
    "            turing_dispersions_1.append(dis1)\n",
    "            turing_dispersions_2.append(dis2)\n",
    "            turing_dispersions_3.append(dis3)\n",
    "            turing_parameters.append(valid_parameters[i])\n",
    "            turing_k_max.append(k_max)\n",
    "        elif check_type(dis3) and np.count_nonzero(np.real(dis3) > 0) > 1  and np.real(dis3)[-1] <= 0:\n",
    "            #turing_parameters_index.append(i)\n",
    "            turing_dispersions_1.append(dis1)\n",
    "            turing_dispersions_2.append(dis2)\n",
    "            turing_dispersions_3.append(dis3)\n",
    "            turing_parameters.append(valid_parameters[i])\n",
    "            turing_k_max.append(k_max)\n",
    "    return (turing_dispersions_1,\n",
    "            turing_dispersions_2,\n",
    "            turing_dispersions_3,\n",
    "            turing_parameters,\n",
    "            turing_k_max)"
   ]
  },
  {
   "cell_type": "code",
   "execution_count": 32,
   "id": "4f6e8b86",
   "metadata": {
    "ExecuteTime": {
     "end_time": "2023-05-24T14:33:49.091901Z",
     "start_time": "2023-05-24T14:33:49.082829Z"
    }
   },
   "outputs": [
    {
     "data": {
      "text/latex": [
       "$\\displaystyle 51104279$"
      ],
      "text/plain": [
       "51104279"
      ]
     },
     "execution_count": 32,
     "metadata": {},
     "output_type": "execute_result"
    }
   ],
   "source": [
    "len(valid_roots)"
   ]
  },
  {
   "cell_type": "code",
   "execution_count": null,
   "id": "de32c5e9",
   "metadata": {},
   "outputs": [],
   "source": []
  },
  {
   "cell_type": "code",
   "execution_count": 35,
   "id": "64ada4aa",
   "metadata": {
    "ExecuteTime": {
     "end_time": "2023-05-24T14:34:30.855168Z",
     "start_time": "2023-05-24T14:34:30.844947Z"
    }
   },
   "outputs": [],
   "source": [
    "num_process = 55\n",
    "part_len = 10000#929740\n",
    "start = 0\n",
    "steps = 90\n",
    "indices = [(start + i*part_len*steps, start + (i+1)*part_len*steps-1) for i in range(num_process)]\n",
    "#valid_parameters_list = [valid_parameters[i:j,:]  for i,j in indices]\n",
    "#valid_roots_list = [valid_roots[i:j,:]  for i,j in indices]\n",
    "args_list = [(valid_parameters[i:j:steps,:], valid_roots[i:j:steps,:], valid_k_max[i:j:steps])  \n",
    "             for i,j in indices]"
   ]
  },
  {
   "cell_type": "code",
   "execution_count": null,
   "id": "af7ce028",
   "metadata": {
    "ExecuteTime": {
     "end_time": "2023-05-21T22:28:46.581817Z",
     "start_time": "2023-05-21T22:28:46.570480Z"
    }
   },
   "outputs": [],
   "source": []
  },
  {
   "cell_type": "code",
   "execution_count": 36,
   "id": "b3bdab80",
   "metadata": {
    "ExecuteTime": {
     "end_time": "2023-05-24T14:34:32.008350Z",
     "start_time": "2023-05-24T14:34:31.998475Z"
    },
    "scrolled": true
   },
   "outputs": [
    {
     "data": {
      "text/latex": [
       "$\\displaystyle \\left( 48600000, \\  49499999\\right)$"
      ],
      "text/plain": [
       "(48600000, 49499999)"
      ]
     },
     "execution_count": 36,
     "metadata": {},
     "output_type": "execute_result"
    }
   ],
   "source": [
    "indices[-1]"
   ]
  },
  {
   "cell_type": "code",
   "execution_count": 37,
   "id": "e47c2501",
   "metadata": {
    "ExecuteTime": {
     "end_time": "2023-05-24T15:58:41.547989Z",
     "start_time": "2023-05-24T14:34:44.028119Z"
    }
   },
   "outputs": [],
   "source": [
    "with Pool(num_process) as p:\n",
    "    res2 = p.map(single_proccess2, args_list)"
   ]
  },
  {
   "cell_type": "code",
   "execution_count": 38,
   "id": "c5cef762",
   "metadata": {
    "ExecuteTime": {
     "end_time": "2023-05-24T16:04:14.866239Z",
     "start_time": "2023-05-24T16:04:14.809297Z"
    }
   },
   "outputs": [],
   "source": [
    "ks = np.linspace(0,10, 10000).astype(np.complex64)\n",
    "for i in range(len(res2)):\n",
    "    for j in range(len(res2[i][0])):\n",
    "        if isinstance(res2[i][0][j], int) or isinstance(res2[i][0][j], float):\n",
    "            res2[i][0][j] = np.zeros_like(ks)"
   ]
  },
  {
   "cell_type": "code",
   "execution_count": 39,
   "id": "53a111ac",
   "metadata": {
    "ExecuteTime": {
     "end_time": "2023-05-24T16:04:39.858483Z",
     "start_time": "2023-05-24T16:04:17.853529Z"
    }
   },
   "outputs": [],
   "source": [
    "turing_dispersions_1 = np.concatenate([res2[i][0] for i in range(len(res2)) if len(res2[i][0]) > 0 ])\n",
    "turing_dispersions_2 = np.concatenate([res2[i][1] for i in range(len(res2)) if len(res2[i][1]) > 0 ])\n",
    "turing_dispersions_3 = np.concatenate([res2[i][2] for i in range(len(res2)) if len(res2[i][2]) > 0 ])\n",
    "turing_parameters = np.concatenate([res2[i][3] for i in range(len(res2))  if len(res2[i][3]) > 0])\n",
    "turing_k_max = np.concatenate([res2[i][4] for i in range(len(res2))  if len(res2[i][4]) > 0])"
   ]
  },
  {
   "cell_type": "code",
   "execution_count": 40,
   "id": "6daf8e62",
   "metadata": {
    "ExecuteTime": {
     "end_time": "2023-05-24T16:04:44.103120Z",
     "start_time": "2023-05-24T16:04:44.093131Z"
    }
   },
   "outputs": [
    {
     "data": {
      "text/latex": [
       "$\\displaystyle 87001$"
      ],
      "text/plain": [
       "87001"
      ]
     },
     "execution_count": 40,
     "metadata": {},
     "output_type": "execute_result"
    }
   ],
   "source": [
    "len(turing_parameters)"
   ]
  },
  {
   "cell_type": "code",
   "execution_count": 41,
   "id": "d317f39d",
   "metadata": {
    "ExecuteTime": {
     "end_time": "2023-05-24T16:04:46.486231Z",
     "start_time": "2023-05-24T16:04:46.472939Z"
    }
   },
   "outputs": [],
   "source": [
    "#with open('turing_parameters_set_2.npy', 'wb') as f:\n",
    "#    np.save(f, turing_parameters)\n",
    "with open('turing_parameters_set_2.npy', 'rb') as f:\n",
    "    turing_parameters = np.load(f)\n"
   ]
  },
  {
   "cell_type": "markdown",
   "id": "58a62d6a",
   "metadata": {
    "ExecuteTime": {
     "end_time": "2023-05-23T10:40:59.941601Z",
     "start_time": "2023-05-23T10:40:59.931799Z"
    }
   },
   "source": [
    "# Select the subset that is Turing or Hopf"
   ]
  },
  {
   "cell_type": "code",
   "execution_count": 11,
   "id": "abfd1b7b",
   "metadata": {
    "ExecuteTime": {
     "end_time": "2023-05-24T16:41:10.886105Z",
     "start_time": "2023-05-24T16:41:10.876974Z"
    }
   },
   "outputs": [],
   "source": [
    "# Combine three arrays to construct continuous curves\n",
    "def combine(d1, d2, d3, deltaX):\n",
    "    dc1 = np.zeros_like(d1)\n",
    "    dc2 = np.zeros_like(d2)\n",
    "    dc3 = np.zeros_like(d3)\n",
    "    \n",
    "    def distance(y1, y2):\n",
    "        return (np.real(y1) - np.real(y2))**2 + deltaX**2\n",
    "    def get_three(i):\n",
    "        return (d1[i], d2[i], d3[i])                    \n",
    "        \n",
    "    # init\n",
    "    dc1[0], dc2[0], dc3[0] = get_three(0)\n",
    "    # next closest\n",
    "    next_i = get_three(1) \n",
    "    #print(dc1[0], dc2[0], dc3[0])\n",
    "    #print(next_i)\n",
    "    index1 = np.argmin([distance(dc1[0], y2) for y2 in next_i])\n",
    "    dc1[1] = next_i[index1]\n",
    "    next_i = tuple(next_i[i] for i in [0,1,2] if i != index1)    \n",
    "    #print(index1, next_i)\n",
    "    index2 = np.argmin([distance(dc2[0], y2) for y2 in next_i])\n",
    "    dc2[1] = next_i[index2]\n",
    "    dc3[1] = tuple(next_i[i] for i in [0,1] if i != index2)[0]\n",
    "    #print(dc1[1], dc2[1], dc3[1])     \n",
    "    for i in range(2, dc1.shape[0]):\n",
    "        #print()        \n",
    "        next_i = get_three(i)\n",
    "        #print(next_i)\n",
    "        index1 = np.argmin([distance(2*dc1[i-1] - dc1[i-2], y2) for y2 in next_i])\n",
    "        dc1[i] = next_i[index1]\n",
    "        next_i = tuple(next_i[i] for i in [0,1,2] if i != index1)\n",
    "        #print(index1, next_i)\n",
    "        index2 = np.argmin([distance(2*dc2[i-1] - dc2[i-2], y2) for y2 in next_i])\n",
    "        dc2[i] = next_i[index2]\n",
    "        dc3[i] = tuple(next_i[i] for i in [0,1] if i != index2)[0]\n",
    "        #print(dc1[i], dc2[i], dc3[i])  \n",
    "    return dc1, dc2, dc3\n",
    "        \n",
    "        "
   ]
  },
  {
   "cell_type": "code",
   "execution_count": 12,
   "id": "bac757ee",
   "metadata": {
    "ExecuteTime": {
     "end_time": "2023-05-24T16:41:14.022798Z",
     "start_time": "2023-05-24T16:41:13.994240Z"
    }
   },
   "outputs": [],
   "source": [
    "def find_roots(n_val, b_A_val, mu_A_val, V_A_val, K_AA_val, K_AB_val, K_AC_val,\n",
    "                   b_B_val, mu_B_val, V_B_val, K_BA_val, K_BC_val,\n",
    "                   b_C_val, mu_C_val, V_C_val, K_CB_val, K_CC_val,\n",
    "                   verbose=False):    \n",
    "    func = create_func(n_val, b_A_val, mu_A_val, V_A_val, K_AA_val, K_AB_val, K_AC_val,\n",
    "                       b_B_val, mu_B_val, V_B_val, K_BA_val, K_BC_val,\n",
    "                       b_C_val, mu_C_val, V_C_val, K_CB_val, K_CC_val)\n",
    "    #\n",
    "    roots_res = []\n",
    "    for init_vals in product([.1,-.1], repeat=3):        \n",
    "        roots, d, ier, msg = fsolve(func, init_vals, xtol=1e-7, maxfev=10000,  full_output=1)\n",
    "        (a_1, b_1, c_1) = func(roots)\n",
    "        if ier == 1 and a_1 < 1e-7 and b_1 < 1e-7 and c_1 < 1e-7:\n",
    "            roots_res.append(roots)\n",
    "            return roots_res\n",
    "    for init_vals in product([1,-1], repeat=3):        \n",
    "        roots, d, ier, msg = fsolve(func, init_vals, xtol=1e-7, maxfev=10000,  full_output=1)\n",
    "        (a_1, b_1, c_1) = func(roots)\n",
    "        if ier == 1 and a_1 < 1e-7 and b_1 < 1e-7 and c_1 < 1e-7:\n",
    "            roots_res.append(roots)\n",
    "            return roots_res\n",
    "\n",
    "    for init_vals in product([10,-10], repeat=3):        \n",
    "        roots, d, ier, msg = fsolve(func, init_vals, xtol=1e-7, maxfev=10000,  full_output=1)\n",
    "        (a_1, b_1, c_1) = func(roots)\n",
    "        if ier == 1 and a_1 < 1e-7 and b_1 < 1e-7 and c_1 < 1e-7:\n",
    "            roots_res.append(roots)\n",
    "            return roots_res\n",
    "\n",
    "    for init_vals in product([100,-100], repeat=3):        \n",
    "        roots, d, ier, msg = fsolve(func, init_vals, xtol=1e-7, maxfev=10000,  full_output=1)\n",
    "        (a_1, b_1, c_1) = func(roots)\n",
    "        if ier == 1 and a_1 < 1e-7 and b_1 < 1e-7 and c_1 < 1e-7:\n",
    "            roots_res.append(roots)\n",
    "            return roots_res\n",
    "\n",
    "    if len(roots_res) == 0:\n",
    "        if verbose:\n",
    "            print(msg)\n",
    "            print(\"roots:\", roots)\n",
    "            print(\"values\", a_1, b_1, c_1)\n",
    "        return roots_res \n",
    "    else:\n",
    "        roots_res2 = [roots_res[0]]\n",
    "        for item in roots_res[1:]:\n",
    "            if np.any(item < 0):\n",
    "                continue\n",
    "            if not np.any([np.isclose(item2, item) for item2 in roots_res2]):\n",
    "                roots_res2.append(item)\n",
    "        return roots_res2 \n",
    "\n",
    "def get_dispersions(ks, \n",
    "                    n_val, \n",
    "                    b_A_val, mu_A_val, V_A_val, K_AA_val, K_AB_val, K_AC_val,\n",
    "                    b_B_val, mu_B_val, V_B_val, K_BA_val, K_BC_val,\n",
    "                    b_C_val, mu_C_val, V_C_val, K_CB_val, K_CC_val):\n",
    "    \n",
    "    roots_all = find_roots(n_val, \n",
    "         b_A_val, mu_A_val, V_A_val, K_AA_val, K_AB_val, K_AC_val,\n",
    "         b_B_val, mu_B_val, V_B_val, K_BA_val, K_BC_val,\n",
    "         b_C_val, mu_C_val, V_C_val, K_CB_val, K_CC_val)\n",
    "    dis_list = []\n",
    "\n",
    "    for roots in roots_all:\n",
    "        A_star, B_star, C_star = roots\n",
    "        print(A_star, B_star, C_star)    \n",
    "        #print(A_star, B_star, C_star)\n",
    "        λ_1, λ_2, λ_3 = list(J_jac_diff.subs(\n",
    "                                  {n:n_val, \n",
    "                                   b_A:b_A_val, \n",
    "                                   μ_A:mu_A_val, \n",
    "                                   V_A:V_A_val,\n",
    "                                   K_AA:K_AA_val, \n",
    "                                   K_AB:K_AB_val,  \n",
    "                                   K_AC:K_AC_val,\n",
    "                                   b_B:b_B_val, \n",
    "                                   μ_B:mu_B_val, \n",
    "                                   V_B:V_B_val,\n",
    "                                   K_BA:K_BA_val, \n",
    "                                   K_BC:K_BC_val,  \n",
    "                                   b_C:b_C_val, \n",
    "                                   μ_C:mu_C_val, \n",
    "                                   V_C:V_C_val,\n",
    "                                   K_CB:K_CB_val, \n",
    "                                   K_CC:K_CC_val,  \n",
    "                                   A:A_star, \n",
    "                                   B:B_star, \n",
    "                                   C:C_star,\n",
    "                                   D_A:0.01,\n",
    "                                   D_B:1.0}\n",
    "                             ).eigenvals().keys())\n",
    "\n",
    "        λ_1_func = lambdify([k], \n",
    "                             λ_1,\n",
    "                             modules='numpy')\n",
    "        λ_2_func = lambdify([k], \n",
    "                             λ_2,\n",
    "                             modules='numpy')\n",
    "        λ_3_func = lambdify([k], \n",
    "                             λ_3,\n",
    "                             modules='numpy')\n",
    "        \n",
    "        dis1 = λ_1_func(ks)        \n",
    "        dis2 = λ_2_func(ks)        \n",
    "        dis3 = λ_3_func(ks)   \n",
    "\n",
    "        dis_list.append((dis1, dis2 ,dis3))\n",
    "        \n",
    "    return dis_list\n",
    "\n"
   ]
  },
  {
   "cell_type": "code",
   "execution_count": 25,
   "id": "af096876",
   "metadata": {
    "ExecuteTime": {
     "end_time": "2023-05-24T16:45:40.865330Z",
     "start_time": "2023-05-24T16:45:40.855901Z"
    }
   },
   "outputs": [],
   "source": [
    "def plot_dispersion(index, parameters, k_maxs, ks=None):\n",
    "    (n_val, \n",
    "    b_A_val, mu_A_val, V_A_val, K_AA_val, K_AB_val, K_AC_val,\n",
    "    b_B_val, mu_B_val, V_B_val, K_BA_val, K_BC_val,\n",
    "    b_C_val, mu_C_val, V_C_val, K_CB_val, K_CC_val) = parameters[index]\n",
    "    print(\"Parameters - \")\n",
    "    print(\"\"\"n, \n",
    "             b_A, mu_A, V_A, K_AA, K_AB, K_AC,\n",
    "             b_B, mu_B, V_B, K_BA, K_BC,\n",
    "             b_C, mu_C, V_C, K_CB, K_CC\"\"\")\n",
    "    print(n_val)\n",
    "    print(b_A_val, mu_A_val, V_A_val, K_AA_val, K_AB_val, K_AC_val)\n",
    "    print(b_B_val, mu_B_val, V_B_val, K_BA_val, K_BC_val)\n",
    "    print(b_C_val, mu_C_val, V_C_val, K_CB_val, K_CC_val)\n",
    "\n",
    "    if ks is None:\n",
    "        k_max = k_maxs[index]\n",
    "        print(\"k_max:\", k_max)\n",
    "        ks = np.linspace(0, k_max + 1, 10000).astype(np.complex64)\n",
    "    #ks = np.linspace(0, 5, 100).astype(np.complex64)\n",
    "\n",
    "    for dis1, dis2, dis3 in get_dispersions(ks, n_val, \n",
    "                        b_A_val, mu_A_val, V_A_val, K_AA_val, K_AB_val, K_AC_val,\n",
    "                        b_B_val, mu_B_val, V_B_val, K_BA_val, K_BC_val,\n",
    "                        b_C_val, mu_C_val, V_C_val, K_CB_val, K_CC_val): \n",
    "        #dis1, dis2, dis3 = combine(dis1, dis2, dis3, ks[1] - ks[0])\n",
    "        plt.figure(figsize=(14,5))\n",
    "        plt.subplot(131)\n",
    "        plt.title(f\"{np.count_nonzero(np.real(dis1) > 0) > 1}\")\n",
    "        plt.plot(ks, np.real(dis1))\n",
    "        plt.plot(ks, np.imag(dis1))\n",
    "        plt.xlabel(\"k\")\n",
    "        plt.grid()\n",
    "        plt.subplot(132)\n",
    "        plt.title(f\"{np.count_nonzero(np.real(dis2) > 0) > 1}\")\n",
    "        plt.plot(ks, np.real(dis2))\n",
    "        plt.plot(ks, np.imag(dis2))\n",
    "        plt.xlabel(\"k\")\n",
    "        plt.grid()\n",
    "        plt.subplot(133)\n",
    "        plt.title(f\"{np.count_nonzero(np.real(dis3) > 0) > 1}\")\n",
    "        plt.plot(ks, np.real(dis3))\n",
    "        plt.plot(ks, np.imag(dis3))\n",
    "        plt.xlabel(\"k\")\n",
    "        plt.grid();plt.tight_layout();plt.show()\n",
    "    \n"
   ]
  },
  {
   "cell_type": "code",
   "execution_count": 45,
   "id": "172a898b",
   "metadata": {
    "ExecuteTime": {
     "end_time": "2023-05-24T16:04:57.454724Z",
     "start_time": "2023-05-24T16:04:56.602552Z"
    }
   },
   "outputs": [
    {
     "name": "stdout",
     "output_type": "stream",
     "text": [
      "Parameters - \n",
      "n, \n",
      "             b_A, mu_A, V_A, K_AA, K_AB, K_AC,\n",
      "             b_B, mu_B, V_B, K_BA, K_BC,\n",
      "             b_C, mu_C, V_C, K_CB, K_CC\n",
      "4.0\n",
      "0.001 0.1 5.0 0.5 0.5 0.5\n",
      "0.001 0.1 5.0 10.0 0.5\n",
      "0.1 0.5 0.5 1.0 0.5\n",
      "k_max: 7.6748052131028475\n",
      "0.5189490283815226 26.823553100435262 0.2000000013948792\n"
     ]
    },
    {
     "data": {
      "image/png": "[encoded data removed]",
      "text/plain": [
       "<Figure size 1400x500 with 3 Axes>"
      ]
     },
     "metadata": {},
     "output_type": "display_data"
    }
   ],
   "source": [
    "plot_dispersion(0)"
   ]
  },
  {
   "cell_type": "code",
   "execution_count": null,
   "id": "d5d28452",
   "metadata": {},
   "outputs": [],
   "source": []
  },
  {
   "cell_type": "code",
   "execution_count": null,
   "id": "5dcad94e",
   "metadata": {},
   "outputs": [],
   "source": []
  },
  {
   "cell_type": "code",
   "execution_count": 84,
   "id": "ce87eaae",
   "metadata": {
    "ExecuteTime": {
     "end_time": "2023-05-22T09:24:00.801548Z",
     "start_time": "2023-05-22T09:24:00.779575Z"
    },
    "code_folding": []
   },
   "outputs": [],
   "source": []
  },
  {
   "cell_type": "code",
   "execution_count": null,
   "id": "9cfb9747",
   "metadata": {},
   "outputs": [],
   "source": []
  }
 ],
 "metadata": {
  "hide_input": false,
  "kernelspec": {
   "display_name": "Python 3 (ipykernel)",
   "language": "python",
   "name": "python3"
  },
  "language_info": {
   "codemirror_mode": {
    "name": "ipython",
    "version": 3
   },
   "file_extension": ".py",
   "mimetype": "text/x-python",
   "name": "python",
   "nbconvert_exporter": "python",
   "pygments_lexer": "ipython3",
   "version": "3.9.13"
  },
  "varInspector": {
   "cols": {
    "lenName": 16,
    "lenType": 16,
    "lenVar": 40
   },
   "kernels_config": {
    "python": {
     "delete_cmd_postfix": "",
     "delete_cmd_prefix": "del ",
     "library": "var_list.py",
     "varRefreshCmd": "print(var_dic_list())"
    },
    "r": {
     "delete_cmd_postfix": ") ",
     "delete_cmd_prefix": "rm(",
     "library": "var_list.r",
     "varRefreshCmd": "cat(var_dic_list()) "
    }
   },
   "types_to_exclude": [
    "module",
    "function",
    "builtin_function_or_method",
    "instance",
    "_Feature"
   ],
   "window_display": false
  }
 },
 "nbformat": 4,
 "nbformat_minor": 5
}
