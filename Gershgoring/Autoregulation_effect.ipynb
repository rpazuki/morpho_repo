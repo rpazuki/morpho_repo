{
 "cells": [
  {
   "cell_type": "code",
   "execution_count": 203,
   "id": "43658c26",
   "metadata": {
    "ExecuteTime": {
     "end_time": "2023-10-03T21:51:27.809994Z",
     "start_time": "2023-10-03T21:51:27.794835Z"
    }
   },
   "outputs": [],
   "source": [
    "import numpy as np\n",
    "import scipy as sp\n",
    "import matplotlib.pyplot as plt\n",
    "from multiprocessing import Pool, shared_memory"
   ]
  },
  {
   "cell_type": "code",
   "execution_count": 204,
   "id": "cc15d3f3",
   "metadata": {
    "ExecuteTime": {
     "end_time": "2023-10-03T21:51:42.450152Z",
     "start_time": "2023-10-03T21:51:42.441744Z"
    }
   },
   "outputs": [],
   "source": [
    "class _LocalFunctions:\n",
    "    @classmethod\n",
    "    def add_functions(cls, *args):\n",
    "        for function in args:\n",
    "            setattr(cls, function.__name__, function)\n",
    "            function.__qualname__ = cls.__qualname__ + '.' + function.__name__"
   ]
  },
  {
   "cell_type": "code",
   "execution_count": 747,
   "id": "67eff79d",
   "metadata": {
    "ExecuteTime": {
     "end_time": "2023-10-31T23:02:46.822512Z",
     "start_time": "2023-10-31T23:02:46.790836Z"
    }
   },
   "outputs": [],
   "source": [
    "def sample_matrix(n, S, p_diag, p_off_diag):\n",
    "    \"\"\"Sample a random matrix\n",
    "       n:          the size of the matrix (n,n).\n",
    "       S:          the average number of non-zero off-diagonal elements.\n",
    "       p_diag:     The function that samples n elements for diagonal terms\n",
    "                   it must have a signiture like p_diag(n,S).\n",
    "       p_off_diag: The function that samples (n,n) elements for off-diagonal terms\n",
    "                   it must have a signiture like p_off_diag(n,S).\n",
    "    \"\"\"\n",
    "    \n",
    "    # A binomial distribution with p=S/n always have the mean equals S\n",
    "    # By setting N=1, we get 0 or one for each trials, which on average\n",
    "    # S times is 1\n",
    "    # So, the following create an n by n matrices of zeros and one such that\n",
    "    # the expectation of getting non-zero element is S\n",
    "    if S > n-1:\n",
    "        p = 1.0\n",
    "    else:\n",
    "        p = S/(n-1)\n",
    "    off_diag_indices = np.random.binomial(1, p, (n, n))\n",
    "    # Since we sample the  diagonal terms differently, we fill their indices by one\n",
    "    off_diag_indices[np.diag_indices(n)] = 0\n",
    "    #print(off_diag_indices)\n",
    "    \n",
    "    # Create an n by n matrices, sampled from 'p_off_diag' distribution\n",
    "    m = p_off_diag(n, S)\n",
    "    #print(m)\n",
    "    # Remove all the terms that is supposed to be zero (no regulation)\n",
    "    # including the diagonals\n",
    "    m = m*off_diag_indices\n",
    "    #print(m)\n",
    "    # Fill the diagonal terms by sampling from 'p_diag' distribution\n",
    "    m[np.diag_indices(n)] = p_diag(n, S)\n",
    "    #print(m)\n",
    "    return m\n",
    "    \n",
    "    "
   ]
  },
  {
   "cell_type": "code",
   "execution_count": 240,
   "id": "24b61471",
   "metadata": {
    "ExecuteTime": {
     "end_time": "2023-10-04T11:03:21.627165Z",
     "start_time": "2023-10-04T11:03:21.616174Z"
    }
   },
   "outputs": [],
   "source": [
    "def p_diag_uniform(low):\n",
    "    def uniform(n, S):\n",
    "        return np.random.uniform(low, -1e-8, n)    \n",
    "    return uniform\n",
    "\n",
    "def p_off_diag_uniform():\n",
    "    def uniform(n, S):        \n",
    "        return np.random.uniform(-1/S, 1/S, (n,n))    \n",
    "    return uniform\n",
    "\n",
    "def p_off_diag_scaled_uniform(alpha):\n",
    "    def uniform(n, S):        \n",
    "        return np.random.uniform(-alpha/S, alpha/S, (n,n))    \n",
    "    return uniform\n",
    "\n",
    "def is_unstable(m):\n",
    "    \"\"\"Find the linear stability of a matrix\"\"\"\n",
    "    return np.any(np.real(sp.linalg.eigvals(m)) > 0)"
   ]
  },
  {
   "cell_type": "code",
   "execution_count": 243,
   "id": "f1415d9d",
   "metadata": {
    "ExecuteTime": {
     "end_time": "2023-10-04T11:03:36.400112Z",
     "start_time": "2023-10-04T11:03:34.964969Z"
    },
    "scrolled": false
   },
   "outputs": [],
   "source": [
    "#a=sample_matrix(4,4, p_diag_uniform(-4), p_off_diag_uniform())\n",
    "count = 100000\n",
    "matrices = [sample_matrix(4,3, p_diag_uniform(-10), p_off_diag_scaled_uniform(4)) for _ in range(count)]"
   ]
  },
  {
   "cell_type": "code",
   "execution_count": 244,
   "id": "2ee43096",
   "metadata": {
    "ExecuteTime": {
     "end_time": "2023-10-04T11:03:40.016848Z",
     "start_time": "2023-10-04T11:03:37.842448Z"
    }
   },
   "outputs": [
    {
     "name": "stdout",
     "output_type": "stream",
     "text": [
      "5440 out of 100000, p = 5.44000%\n"
     ]
    }
   ],
   "source": [
    "res = [is_unstable(m) for m in matrices]\n",
    "unstable = np.sum(res)\n",
    "print(f\"{unstable} out of {count}, p = {100*unstable/count:.5f}%\")"
   ]
  },
  {
   "cell_type": "code",
   "execution_count": 212,
   "id": "bd013b2b",
   "metadata": {
    "ExecuteTime": {
     "end_time": "2023-10-03T22:38:00.006357Z",
     "start_time": "2023-10-03T21:57:43.788093Z"
    }
   },
   "outputs": [],
   "source": [
    "sizes = np.power(2,np.arange(2,11))\n",
    "count = 1000\n",
    "S = 4\n",
    "p_diag_low = -10\n",
    "scales = np.array([1, 2, 3, 4, 5])\n",
    "unstables = np.zeros((scales.shape[0], sizes.shape[0]))\n",
    "ratios = np.zeros((scales.shape[0], sizes.shape[0]))\n",
    "\n",
    "\n",
    "\n",
    "def proc_stability(args):\n",
    "    n, S, p_diag_low, scale, count = args\n",
    "    matrices = [sample_matrix(n,S, p_diag_uniform(p_diag_low), p_off_diag_scaled_uniform(scale)) for _ in range(count)]\n",
    "    res = [is_unstable(m) for m in matrices]\n",
    "    unstable = np.sum(res)\n",
    "    return (unstable, unstable/count)    \n",
    "\n",
    "params = [ (n, S, p_diag_low, scale, count) for scale in scales for n in sizes]\n",
    "with Pool(55) as pool:\n",
    "    res = pool.map(proc_stability, params)\n",
    "# for i, scale in enumerate(scales):\n",
    "#     for j, n in enumerate(sizes):\n",
    "#         matrices = [sample_matrix(n,S, p_diag_uniform(-10), p_off_diag_scaled_uniform(scale)) for _ in range(count)]\n",
    "#         res = [is_unstable(m) for m in matrices]\n",
    "#         unstable = np.sum(res)\n",
    "#         unstables[i,j] = unstable\n",
    "#         ratios[i,j] = unstable/count\n",
    "#         print(f\" (n,n):{(n,n)}, {unstable} out of {count}, p = {100*unstable/count:.5f}%\")\n",
    "        "
   ]
  },
  {
   "cell_type": "code",
   "execution_count": 217,
   "id": "a7493499",
   "metadata": {
    "ExecuteTime": {
     "end_time": "2023-10-03T22:41:32.033468Z",
     "start_time": "2023-10-03T22:41:32.025365Z"
    },
    "scrolled": true
   },
   "outputs": [],
   "source": [
    "index = 0\n",
    "for i, scale in enumerate(scales):\n",
    "    for j, n in enumerate(sizes):\n",
    "        unstables[i,j] = res[index][0]\n",
    "        ratios[i,j] = res[index][1]\n",
    "        index += 1"
   ]
  },
  {
   "cell_type": "code",
   "execution_count": 222,
   "id": "8e7badc7",
   "metadata": {
    "ExecuteTime": {
     "end_time": "2023-10-03T22:45:47.649162Z",
     "start_time": "2023-10-03T22:45:47.397971Z"
    }
   },
   "outputs": [
    {
     "data": {
      "image/png": "[encoded data removed]",
      "text/plain": [
       "<Figure size 640x480 with 1 Axes>"
      ]
     },
     "metadata": {},
     "output_type": "display_data"
    }
   ],
   "source": [
    "for i, scale in enumerate(scales):\n",
    "    plt.plot(sizes, ratios[i, :], label=f\"alpha={scale}\")\n",
    "    \n",
    "plt.xlabel(\"n (matrix size)\");plt.ylabel(\"unstable ratio\")    \n",
    "plt.grid();plt.legend();plt.xscale('log');plt.show()"
   ]
  },
  {
   "cell_type": "code",
   "execution_count": 223,
   "id": "73a4c0d7",
   "metadata": {
    "ExecuteTime": {
     "end_time": "2023-10-03T22:48:01.022502Z",
     "start_time": "2023-10-03T22:48:00.928206Z"
    }
   },
   "outputs": [
    {
     "data": {
      "text/plain": [
       "[<matplotlib.lines.Line2D at 0x7f9b62fc1220>]"
      ]
     },
     "execution_count": 223,
     "metadata": {},
     "output_type": "execute_result"
    },
    {
     "data": {
      "image/png": "[encoded data removed]",
      "text/plain": [
       "<Figure size 640x480 with 1 Axes>"
      ]
     },
     "metadata": {},
     "output_type": "display_data"
    }
   ],
   "source": [
    "plt.plot(sizes, ratios[0, :])"
   ]
  },
  {
   "cell_type": "code",
   "execution_count": 245,
   "id": "a8af1607",
   "metadata": {
    "ExecuteTime": {
     "end_time": "2023-10-04T11:03:59.648613Z",
     "start_time": "2023-10-04T11:03:59.638809Z"
    }
   },
   "outputs": [],
   "source": [
    "sizes2 = np.power(2,np.arange(2,11))\n",
    "count = 1000\n",
    "S = 4\n",
    "p_diag_low = -10\n",
    "repeat = 10\n",
    "unstables2 = np.zeros((repeat, sizes2.shape[0]))\n",
    "ratios2 = np.zeros((repeat, sizes2.shape[0]))\n",
    "\n",
    "\n",
    "params2 = [ (n, S, p_diag_low, 0.4 , count) for _ in range(repeat) for n in sizes2]"
   ]
  },
  {
   "cell_type": "code",
   "execution_count": 246,
   "id": "930dd7fe",
   "metadata": {
    "ExecuteTime": {
     "end_time": "2023-10-04T12:17:46.764833Z",
     "start_time": "2023-10-04T11:04:01.510944Z"
    }
   },
   "outputs": [],
   "source": [
    "with Pool(55) as pool:\n",
    "    res2 = pool.map(proc_stability, params2)"
   ]
  },
  {
   "cell_type": "code",
   "execution_count": 372,
   "id": "09ed0266",
   "metadata": {
    "ExecuteTime": {
     "end_time": "2023-10-04T13:05:44.166621Z",
     "start_time": "2023-10-04T13:05:44.156494Z"
    }
   },
   "outputs": [
    {
     "data": {
      "text/plain": [
       "[(2, 0.002),\n",
       " (2, 0.002),\n",
       " (2, 0.002),\n",
       " (2, 0.002),\n",
       " (2, 0.002),\n",
       " (2, 0.002),\n",
       " (2, 0.002),\n",
       " (0, 0.0),\n",
       " (0, 0.0),\n",
       " (3, 0.003)]"
      ]
     },
     "execution_count": 372,
     "metadata": {},
     "output_type": "execute_result"
    }
   ],
   "source": [
    "res2[8::9]"
   ]
  },
  {
   "cell_type": "code",
   "execution_count": 373,
   "id": "3dbd63f8",
   "metadata": {
    "ExecuteTime": {
     "end_time": "2023-10-04T13:08:57.425370Z",
     "start_time": "2023-10-04T13:08:57.415358Z"
    }
   },
   "outputs": [
    {
     "data": {
      "text/plain": [
       "0.0017000000000000001"
      ]
     },
     "execution_count": 373,
     "metadata": {},
     "output_type": "execute_result"
    }
   ],
   "source": [
    "np.mean([ a[1] for a in res2[8::9]])"
   ]
  },
  {
   "cell_type": "code",
   "execution_count": 376,
   "id": "b935927e",
   "metadata": {
    "ExecuteTime": {
     "end_time": "2023-10-04T13:10:39.131659Z",
     "start_time": "2023-10-04T13:10:39.121877Z"
    }
   },
   "outputs": [
    {
     "data": {
      "text/plain": [
       "array([0.002, 0.002, 0.002, 0.002, 0.002, 0.002, 0.002, 0.   , 0.   ,\n",
       "       0.003])"
      ]
     },
     "execution_count": 376,
     "metadata": {},
     "output_type": "execute_result"
    }
   ],
   "source": [
    "ratios2[:, -1]"
   ]
  },
  {
   "cell_type": "code",
   "execution_count": 379,
   "id": "1653103e",
   "metadata": {
    "ExecuteTime": {
     "end_time": "2023-10-04T13:11:20.593538Z",
     "start_time": "2023-10-04T13:11:20.583641Z"
    }
   },
   "outputs": [
    {
     "data": {
      "text/plain": [
       "array([0.0001, 0.0009, 0.0007, 0.002 , 0.0019, 0.0014, 0.0032, 0.0013,\n",
       "       0.0017])"
      ]
     },
     "execution_count": 379,
     "metadata": {},
     "output_type": "execute_result"
    }
   ],
   "source": [
    "np.mean(ratios2, axis=0)"
   ]
  },
  {
   "cell_type": "code",
   "execution_count": 363,
   "id": "fa60244a",
   "metadata": {
    "ExecuteTime": {
     "end_time": "2023-10-04T13:03:40.385608Z",
     "start_time": "2023-10-04T13:03:40.377585Z"
    }
   },
   "outputs": [],
   "source": [
    "index = 0\n",
    "for i in range(repeat):\n",
    "    for j, n in enumerate(sizes):\n",
    "        unstables2[i,j] = res2[index][0]\n",
    "        ratios2[i,j] = res2[index][1]\n",
    "        index += 1"
   ]
  },
  {
   "cell_type": "code",
   "execution_count": 374,
   "id": "cf1bf331",
   "metadata": {
    "ExecuteTime": {
     "end_time": "2023-10-04T13:09:28.107536Z",
     "start_time": "2023-10-04T13:09:28.000047Z"
    }
   },
   "outputs": [
    {
     "data": {
      "text/plain": [
       "[<matplotlib.lines.Line2D at 0x7f9b62889070>]"
      ]
     },
     "execution_count": 374,
     "metadata": {},
     "output_type": "execute_result"
    },
    {
     "data": {
      "image/png": "[encoded data removed]",
      "text/plain": [
       "<Figure size 640x480 with 1 Axes>"
      ]
     },
     "metadata": {},
     "output_type": "display_data"
    }
   ],
   "source": [
    "plt.errorbar(sizes,np.mean(ratios2, axis=0), np.std(ratios2, axis=0), linestyle='None', marker='o')\n",
    "plt.plot(sizes,np.mean(ratios2, axis=0))"
   ]
  },
  {
   "cell_type": "code",
   "execution_count": 499,
   "id": "093a0885",
   "metadata": {
    "ExecuteTime": {
     "end_time": "2023-10-04T14:05:47.405748Z",
     "start_time": "2023-10-04T14:05:47.375372Z"
    }
   },
   "outputs": [],
   "source": [
    "\n",
    "#aaa = p_off_diag_scaled_uniform(.4)(5, S)\n",
    "n=1000\n",
    "aaa = sample_matrix(n, S, \n",
    "                   p_diag_uniform(-10), \n",
    "                   p_off_diag_scaled_uniform(.4))"
   ]
  },
  {
   "cell_type": "code",
   "execution_count": 500,
   "id": "6d14b086",
   "metadata": {
    "ExecuteTime": {
     "end_time": "2023-10-04T14:05:47.989742Z",
     "start_time": "2023-10-04T14:05:47.970732Z"
    }
   },
   "outputs": [
    {
     "data": {
      "text/plain": [
       "(4.04, 0.995955955955956)"
      ]
     },
     "execution_count": 500,
     "metadata": {},
     "output_type": "execute_result"
    }
   ],
   "source": [
    "bbb = aaa - np.diag(np.diag(aaa))\n",
    "bbb[np.diag_indices(n)] = -10\n",
    "np.mean(n-1-np.sum(bbb == 0, axis=1)), np.sum(bbb == 0)/(n*(n-1))"
   ]
  },
  {
   "cell_type": "code",
   "execution_count": 501,
   "id": "ee81b87e",
   "metadata": {
    "ExecuteTime": {
     "end_time": "2023-10-04T14:05:48.758480Z",
     "start_time": "2023-10-04T14:05:48.737583Z"
    }
   },
   "outputs": [
    {
     "data": {
      "text/plain": [
       "0.19587472961464494"
      ]
     },
     "execution_count": 501,
     "metadata": {},
     "output_type": "execute_result"
    }
   ],
   "source": [
    "ccc = np.abs((aaa- np.diag(np.diag(aaa))))\n",
    "S*np.mean(\n",
    "    np.sum(ccc, axis=1)/(1e-10+np.sum(np.where(ccc > 0, 1, 0), axis=1))\n",
    ")"
   ]
  },
  {
   "cell_type": "code",
   "execution_count": 502,
   "id": "3cb7f497",
   "metadata": {
    "ExecuteTime": {
     "end_time": "2023-10-04T14:05:49.379044Z",
     "start_time": "2023-10-04T14:05:49.369015Z"
    }
   },
   "outputs": [
    {
     "data": {
      "text/plain": [
       "False"
      ]
     },
     "execution_count": 502,
     "metadata": {},
     "output_type": "execute_result"
    }
   ],
   "source": [
    "np.any(np.diag(aaa) - np.sum(ccc, axis=1) > 0)"
   ]
  },
  {
   "cell_type": "code",
   "execution_count": 503,
   "id": "2c9ac9af",
   "metadata": {
    "ExecuteTime": {
     "end_time": "2023-10-04T14:05:50.427815Z",
     "start_time": "2023-10-04T14:05:50.002463Z"
    }
   },
   "outputs": [
    {
     "data": {
      "text/plain": [
       "False"
      ]
     },
     "execution_count": 503,
     "metadata": {},
     "output_type": "execute_result"
    }
   ],
   "source": [
    "is_unstable(aaa)"
   ]
  },
  {
   "cell_type": "code",
   "execution_count": null,
   "id": "876e2efe",
   "metadata": {
    "ExecuteTime": {
     "end_time": "2023-10-04T14:05:10.152898Z",
     "start_time": "2023-10-04T14:05:10.142718Z"
    }
   },
   "outputs": [],
   "source": []
  },
  {
   "cell_type": "code",
   "execution_count": null,
   "id": "6332004c",
   "metadata": {
    "ExecuteTime": {
     "end_time": "2023-10-04T14:05:06.069023Z",
     "start_time": "2023-10-04T14:05:06.058991Z"
    }
   },
   "outputs": [],
   "source": []
  },
  {
   "cell_type": "code",
   "execution_count": 507,
   "id": "ffbbf63a",
   "metadata": {
    "ExecuteTime": {
     "end_time": "2023-10-12T08:10:21.392017Z",
     "start_time": "2023-10-12T08:10:21.331215Z"
    }
   },
   "outputs": [],
   "source": [
    "def matrix_intervals(m, axis=1):\n",
    "    \"\"\"Turn a matrix to row(column)-wise intervals\n",
    "    \n",
    "       args:\n",
    "           m: (n,n) numpy array.\n",
    "           axis:  use one for row-wise and zero for\n",
    "                  column-wise intervals.\n",
    "    \"\"\"\n",
    "    # Get the diagonal terms\n",
    "    ds = np.diag(m)\n",
    "    # Sum of absolute value of off-diagonal elements\n",
    "    rs = np.sum(np.abs(m - np.diag(ds)), axis = axis)\n",
    "    # create intrvals around the diagonal terms\n",
    "    return np.array([ (d-r, d+r) for d, r in zip(ds, rs) ])\n",
    "\n",
    "#\n",
    "# a = np.arange(0,9).reshape((3,3))\n",
    "# assert np.all(matrix_intervals(a,1) == np.array([[-3,  3],\n",
    "#                                                  [-4, 12],\n",
    "#                                                  [-5, 21]]))\n",
    "# assert np.all(matrix_intervals(a,0) == np.array([[-9,  9],\n",
    "#                                                  [-4, 12],\n",
    "#                                                  [ 1, 15]]))\n",
    "\n",
    "\n",
    "def alg1(m, axis=1):\n",
    "    \"\"\"Specifies the stabaility property of the matrix.\n",
    "    \n",
    "       args:\n",
    "           m: (n,n) numpy array.\n",
    "           axis:  use one for row-wise and zero for\n",
    "                  column-wise intervals.\n",
    "       return:\n",
    "               0 - super-stable\n",
    "               1 - inconclusive\n",
    "               2 - unstable\n",
    "    \n",
    "    \"\"\"\n",
    "    n = m.shape[0]\n",
    "    intervals = matrix_intervals(m,axis)\n",
    "    us = np.array([u for _,u in intervals])\n",
    "    ls = np.array([l for l,_ in intervals])\n",
    "    u_max_index = np.argmax(us)\n",
    "    u_max = us[u_max_index]    \n",
    "    if u_max < 0:# Super-stable\n",
    "        return 0\n",
    "    \n",
    "    l_i = ls[u_max_index] \n",
    "    if l_i < 0:# Inconclusive\n",
    "        return 1\n",
    "    indices = [i for i in range(0, n) if i != u_max_index]\n",
    "    for j in indices:\n",
    "        l_j, u_j = ls[j], us[j]\n",
    "        if l_i < u_j:\n",
    "            if l_j < l_i:\n",
    "                l_i = l_j\n",
    "            if l_i < 0:# Inconclusive\n",
    "                return 1\n",
    "    return 2# unstable            \n",
    "\n",
    "def alg2(m, axis=1):\n",
    "    \"\"\"Specifies if the stabaility property can be tightened.\n",
    "    \n",
    "       args:\n",
    "           m: (n,n) numpy array.\n",
    "           axis:  use one for row-wise and zero for\n",
    "                  column-wise intervals.\n",
    "       return:\n",
    "               0 - super-stable\n",
    "               1 - inconclusive\n",
    "               2 - unstable\n",
    "    \n",
    "    \"\"\"\n",
    "    n = m.shape[0]\n",
    "    # Get the diagonal terms\n",
    "    ds = np.diag(m)\n",
    "    # Sum of absolute value of off-diagonal elements\n",
    "    rs = np.sum(np.abs(m - np.diag(ds)), axis = axis)\n",
    "    a_max_index = np.argmax(ds)\n",
    "    a_ii = ds[a_max_index]\n",
    "    r_i = rs[a_max_index]\n",
    "    indices = [i for i in range(0, n) if i != a_max_index]\n",
    "    if a_ii > 0:        \n",
    "        for j in indices:\n",
    "            r_j = rs[j]\n",
    "            a_jj = m[j,j]\n",
    "            if axis == 0:\n",
    "                a_ji = m[j, a_max_index]\n",
    "            else:\n",
    "                a_ji = m[a_max_index, j]\n",
    "            c_0 = r_i\n",
    "            c_1 = a_jj-a_ii+r_j-np.abs(a_ji)\n",
    "            c_2 = np.abs(a_ji)                        \n",
    "            d_max = np.real(np.max(np.roots([c_2, c_1, c_0])))\n",
    "            if d_max <= r_i/(a_ii+1e-30):\n",
    "                return 1 # Inconclusive\n",
    "            if c_1 >= 0:                \n",
    "                return 1 # Inconclusive\n",
    "            if c_1*c_1 <= 4*np.abs(a_ji*r_i):                \n",
    "                return 1 # Inconclusive\n",
    "        return 2 # Unstable\n",
    "    else:\n",
    "        #r_j = rs[j]\n",
    "        #a_jj = m[j,j]\n",
    "        #a_ji = m[j, a_max_index]\n",
    "        #if r_i/np.abs(a_ii) >= np.min([ (np.abs(a_jj)-r_j)/np.abs(a_ji)  for j in indices]):\n",
    "        # select r_i, a_jj and a_ji\n",
    "        if axis == 0:\n",
    "            parts = [(rs[j], m[j,j], m[j, a_max_index]) for j in indices]\n",
    "        else:\n",
    "            parts = [(rs[j], m[j,j], m[a_max_index, j]) for j in indices]\n",
    "        values = [(np.abs(a_jj)-r_j)/(np.abs(a_ji) + 1e-20)  for (r_j, a_jj, a_ji) in parts]\n",
    "        if r_i/(np.abs(a_ii) + 1e-20) >= np.min(values):\n",
    "            return 1 # Inconclusive\n",
    "        return 0 # Super-stable\n",
    "\n",
    "def alg(m):\n",
    "    ret = alg1(m, axis = 0)\n",
    "    if ret != 1:\n",
    "        return ret\n",
    "    ret = alg1(m, axis = 1)\n",
    "    if ret != 1:\n",
    "        return ret\n",
    "    ret = alg2(m, axis = 0)\n",
    "    if ret != 1:\n",
    "        return ret\n",
    "    return alg2(m, axis = 1)"
   ]
  },
  {
   "cell_type": "code",
   "execution_count": 655,
   "id": "f0189cd6",
   "metadata": {
    "ExecuteTime": {
     "end_time": "2023-10-12T09:09:00.683064Z",
     "start_time": "2023-10-12T09:08:32.949448Z"
    }
   },
   "outputs": [
    {
     "name": "stdout",
     "output_type": "stream",
     "text": [
      "0.0025 10\n"
     ]
    }
   ],
   "source": [
    "def p_off_diag_uniform_fixed(L):\n",
    "    def uniform(n, S):        \n",
    "        return np.random.uniform(-L, L, (n,n))    \n",
    "    return uniform\n",
    "\n",
    "\n",
    "\n",
    "count = 100\n",
    "n=4000\n",
    "S=10\n",
    "L=S/n\n",
    "#L=.01\n",
    "#S = int(L*n)\n",
    "\n",
    "print(L, S)\n",
    "matrices = [sample_matrix(n,S, p_diag_uniform(-n), p_off_diag_uniform_fixed(L)) for _ in range(count)]"
   ]
  },
  {
   "cell_type": "code",
   "execution_count": 656,
   "id": "12b848d2",
   "metadata": {
    "ExecuteTime": {
     "end_time": "2023-10-12T09:09:07.639137Z",
     "start_time": "2023-10-12T09:09:00.685579Z"
    }
   },
   "outputs": [
    {
     "name": "stdout",
     "output_type": "stream",
     "text": [
      "Super-stable: 100 , 100.0%\n"
     ]
    }
   ],
   "source": [
    "from collections import Counter\n",
    "\n",
    "types = [alg(m) for m in matrices]\n",
    "stats = Counter(types)\n",
    "#stats\n",
    "for k,v in stats.items():\n",
    "    if k == 0:\n",
    "        type_is = \"Super-stable\"\n",
    "    elif k == 1:\n",
    "        type_is = \"Inconclusive\"\n",
    "    else:\n",
    "        type_is = \"Unstable\"\n",
    "    print(f\"{type_is}: {v} , {100*v/count}%\")"
   ]
  },
  {
   "cell_type": "code",
   "execution_count": null,
   "id": "325b20e6",
   "metadata": {
    "ExecuteTime": {
     "end_time": "2023-10-12T08:19:02.610366Z",
     "start_time": "2023-10-12T08:19:02.599007Z"
    }
   },
   "outputs": [],
   "source": []
  },
  {
   "cell_type": "code",
   "execution_count": null,
   "id": "9f959b5f",
   "metadata": {},
   "outputs": [],
   "source": []
  },
  {
   "cell_type": "code",
   "execution_count": null,
   "id": "0fc9812d",
   "metadata": {},
   "outputs": [],
   "source": []
  },
  {
   "cell_type": "code",
   "execution_count": 693,
   "id": "d904abd1",
   "metadata": {
    "ExecuteTime": {
     "end_time": "2023-10-13T15:30:49.789166Z",
     "start_time": "2023-10-13T15:30:49.779927Z"
    }
   },
   "outputs": [],
   "source": [
    "def prob_x_less_y(c, x_mean, x_sigma):\n",
    "    sq_2 = np.sqrt(2)\n",
    "    \n",
    "    def phi(x, mu, sigma):\n",
    "        return 0.5*(1 + sp.special.erf((np.log(x) - mu)/(sq_2*sigma)))\n",
    "    \n",
    "    return (phi(c, x_mean, x_sigma) \n",
    "            - np.exp((x_sigma**2/2) + x_mean)* phi(c, x_mean + x_sigma**2, x_sigma)/c)"
   ]
  },
  {
   "cell_type": "code",
   "execution_count": 694,
   "id": "84723e01",
   "metadata": {
    "ExecuteTime": {
     "end_time": "2023-10-13T15:30:50.745171Z",
     "start_time": "2023-10-13T15:30:50.737355Z"
    }
   },
   "outputs": [
    {
     "name": "stdout",
     "output_type": "stream",
     "text": [
      "0.08596789705226454\n"
     ]
    }
   ],
   "source": [
    "c = 1\n",
    "x_mean = 0\n",
    "x_sigma = 1/4\n",
    "print(prob_x_less_y(c, x_mean, x_sigma))"
   ]
  },
  {
   "cell_type": "code",
   "execution_count": 691,
   "id": "7825b85e",
   "metadata": {
    "ExecuteTime": {
     "end_time": "2023-10-13T15:04:43.236532Z",
     "start_time": "2023-10-13T15:04:37.003463Z"
    },
    "code_folding": [
     4
    ]
   },
   "outputs": [],
   "source": [
    "repeat = 100\n",
    "samples = np.zeros(repeat)\n",
    "n = 1000000\n",
    "\n",
    "for i in range(repeat):\n",
    "    ys = np.random.uniform(low = 0, high = c, size=n)\n",
    "    xs = np.random.lognormal(mean = x_mean, sigma = x_sigma, size=n)\n",
    "    samples[i] = np.sum(xs < ys)/n"
   ]
  },
  {
   "cell_type": "code",
   "execution_count": 692,
   "id": "91eda2ac",
   "metadata": {
    "ExecuteTime": {
     "end_time": "2023-10-13T15:04:45.021970Z",
     "start_time": "2023-10-13T15:04:45.012028Z"
    }
   },
   "outputs": [
    {
     "data": {
      "text/plain": [
       "(0.08598024000000003, 0.0002833860659947839)"
      ]
     },
     "execution_count": 692,
     "metadata": {},
     "output_type": "execute_result"
    }
   ],
   "source": [
    "np.mean(samples), np.std(samples)"
   ]
  },
  {
   "cell_type": "code",
   "execution_count": 745,
   "id": "802dc4fe",
   "metadata": {
    "ExecuteTime": {
     "end_time": "2023-10-13T16:07:50.024680Z",
     "start_time": "2023-10-13T16:07:50.013652Z"
    }
   },
   "outputs": [
    {
     "name": "stderr",
     "output_type": "stream",
     "text": [
      "/tmp/ipykernel_30057/802534803.py:5: RuntimeWarning: divide by zero encountered in true_divide\n",
      "  return 0.5*(1 + sp.special.erf((np.log(x) - mu)/(sq_2*sigma)))\n"
     ]
    }
   ],
   "source": [
    "es = .1\n",
    "eas = np.linspace(0, 1, 100)\n",
    "varas = np.linspace(0, 1, 100)\n",
    "\n",
    "Means, Sigmas = np.meshgrid(es*eas, es*varas)\n",
    "c=10\n",
    "ps = prob_x_less_y(c, Means, Sigmas)"
   ]
  },
  {
   "cell_type": "code",
   "execution_count": 744,
   "id": "d6426800",
   "metadata": {
    "ExecuteTime": {
     "end_time": "2023-10-13T16:07:32.055231Z",
     "start_time": "2023-10-13T16:07:31.732029Z"
    }
   },
   "outputs": [
    {
     "data": {
      "text/plain": [
       "<matplotlib.colorbar.Colorbar at 0x7f9ad35f7f40>"
      ]
     },
     "execution_count": 744,
     "metadata": {},
     "output_type": "execute_result"
    },
    {
     "data": {
      "image/png": "[encoded data removed]",
      "text/plain": [
       "<Figure size 640x480 with 2 Axes>"
      ]
     },
     "metadata": {},
     "output_type": "display_data"
    }
   ],
   "source": [
    "plt.contourf( Means, Sigmas ,ps)\n",
    "plt.colorbar()"
   ]
  },
  {
   "cell_type": "code",
   "execution_count": null,
   "id": "5f87254a",
   "metadata": {
    "ExecuteTime": {
     "end_time": "2023-10-13T15:37:52.428790Z",
     "start_time": "2023-10-13T15:37:52.418001Z"
    }
   },
   "outputs": [],
   "source": []
  },
  {
   "cell_type": "code",
   "execution_count": null,
   "id": "c3b69484",
   "metadata": {},
   "outputs": [],
   "source": []
  },
  {
   "cell_type": "code",
   "execution_count": null,
   "id": "74390a6f",
   "metadata": {},
   "outputs": [],
   "source": []
  },
  {
   "cell_type": "code",
   "execution_count": null,
   "id": "450e5771",
   "metadata": {},
   "outputs": [],
   "source": []
  },
  {
   "cell_type": "code",
   "execution_count": null,
   "id": "4e01a00f",
   "metadata": {},
   "outputs": [],
   "source": []
  },
  {
   "cell_type": "code",
   "execution_count": null,
   "id": "31a43d6c",
   "metadata": {},
   "outputs": [],
   "source": []
  },
  {
   "cell_type": "code",
   "execution_count": null,
   "id": "dbbd16f1",
   "metadata": {},
   "outputs": [],
   "source": []
  },
  {
   "cell_type": "code",
   "execution_count": null,
   "id": "cef62599",
   "metadata": {},
   "outputs": [],
   "source": []
  },
  {
   "cell_type": "code",
   "execution_count": null,
   "id": "5aea63a7",
   "metadata": {},
   "outputs": [],
   "source": []
  },
  {
   "cell_type": "code",
   "execution_count": null,
   "id": "342409dc",
   "metadata": {},
   "outputs": [],
   "source": []
  },
  {
   "cell_type": "code",
   "execution_count": null,
   "id": "565871fa",
   "metadata": {},
   "outputs": [],
   "source": []
  },
  {
   "cell_type": "code",
   "execution_count": null,
   "id": "bd0fe8dd",
   "metadata": {},
   "outputs": [],
   "source": []
  }
 ],
 "metadata": {
  "hide_input": false,
  "kernelspec": {
   "display_name": "Python 3 (ipykernel)",
   "language": "python",
   "name": "python3"
  },
  "language_info": {
   "codemirror_mode": {
    "name": "ipython",
    "version": 3
   },
   "file_extension": ".py",
   "mimetype": "text/x-python",
   "name": "python",
   "nbconvert_exporter": "python",
   "pygments_lexer": "ipython3",
   "version": "3.9.13"
  },
  "varInspector": {
   "cols": {
    "lenName": 16,
    "lenType": 16,
    "lenVar": 40
   },
   "kernels_config": {
    "python": {
     "delete_cmd_postfix": "",
     "delete_cmd_prefix": "del ",
     "library": "var_list.py",
     "varRefreshCmd": "print(var_dic_list())"
    },
    "r": {
     "delete_cmd_postfix": ") ",
     "delete_cmd_prefix": "rm(",
     "library": "var_list.r",
     "varRefreshCmd": "cat(var_dic_list()) "
    }
   },
   "types_to_exclude": [
    "module",
    "function",
    "builtin_function_or_method",
    "instance",
    "_Feature"
   ],
   "window_display": false
  }
 },
 "nbformat": 4,
 "nbformat_minor": 5
}
