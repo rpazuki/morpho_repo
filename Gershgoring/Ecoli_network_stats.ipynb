{
 "cells": [
  {
   "cell_type": "code",
   "execution_count": 58,
   "id": "db8c6442",
   "metadata": {
    "ExecuteTime": {
     "end_time": "2023-10-16T14:46:22.645912Z",
     "start_time": "2023-10-16T14:46:22.149395Z"
    }
   },
   "outputs": [],
   "source": [
    "import numpy as np\n",
    "import pandas as pd\n",
    "import networkx as nx\n",
    "import matplotlib.pyplot as plt"
   ]
  },
  {
   "cell_type": "code",
   "execution_count": 40,
   "id": "5cd8c042",
   "metadata": {
    "ExecuteTime": {
     "end_time": "2023-10-16T14:34:52.262037Z",
     "start_time": "2023-10-16T14:34:52.195546Z"
    },
    "code_folding": [
     0,
     14
    ]
   },
   "outputs": [],
   "source": [
    "df_operon = pd.read_csv(\"operon.txt\",                 \n",
    "                        delim_whitespace=True, \n",
    "                        comment=\"#\",\n",
    "                        names=[\"OPERON_ID\",\n",
    "                               \"OPERON_NAME\",\n",
    "                               \"FIRSTGENEPOSLEFT\",\n",
    "                               \"LASTGENEPOSRIGHT\",\n",
    "                               \"REGULATIONPOSLEFT\",\n",
    "                               \"REGULATIONPOSRIGHT\",\n",
    "                               \"OPERON_STRAND\",\n",
    "                               \"OPERON_INTERNAL_COMMENT\",\n",
    "                               \"KEY_ID_ORG\"]).drop_duplicates().dropna(how=\"all\")\n",
    "\n",
    "\n",
    "df_interaction = pd.read_csv(\"interaction.txt\",                 \n",
    "                             #delim_whitespace=True,\n",
    "                             sep=\"\\t\",\n",
    "                             comment=\"#\",\n",
    "                             names=[\"INTERACTION_ID\",\n",
    "                                    \"REGULATOR_ID\",\n",
    "                                    \"PROMOTER_ID\",\n",
    "                                    \"SITE_ID\",\n",
    "                                    \"INTERACTION_FUNCTION\",\n",
    "                                    \"CENTER_POSITION\",\n",
    "                                    \"INTERACTION_FIRST_GENE_ID\",\n",
    "                                    \"AFFINITY_EXP\",\n",
    "                                    \"INTERACTION_NOTE\",\n",
    "                                    \"INTERACTION_INTERNAL_COMMENT\",\n",
    "                                    \"INTERACTION_SEQUENCE\",\n",
    "                                    \"KEY_ID_ORG\",\n",
    "                                    \"INTERACTION_NOTE_WEB\"]).drop_duplicates().dropna(how=\"all\").drop(0)\n",
    "\n",
    "df_genetic_network = pd.read_csv(\"genetic_network.txt\",                 \n",
    "                             #delim_whitespace=True,\n",
    "                             sep=\"\\t\",\n",
    "                             comment=\"#\",\n",
    "                             names=[\"REGULATOR_ID\",\n",
    "                                    \"REGULATOR_NAME\",\n",
    "                                    \"REGULATED_ID\",\n",
    "                                    \"REGULATED_NAME\",\n",
    "                                    \"FUNCTION_INTERACTION\",\n",
    "                                    \"EVIDENCE\",\n",
    "                                    \"REGULATOR_TYPE\",\n",
    "                                    \"REGULATED_TYPE\"]).dropna(how=\"all\").drop_duplicates().drop(0)\n"
   ]
  },
  {
   "cell_type": "code",
   "execution_count": 41,
   "id": "0728fead",
   "metadata": {
    "ExecuteTime": {
     "end_time": "2023-10-16T14:35:11.492750Z",
     "start_time": "2023-10-16T14:34:52.931221Z"
    }
   },
   "outputs": [
    {
     "data": {
      "text/html": [
       "<div>\n",
       "<style scoped>\n",
       "    .dataframe tbody tr th:only-of-type {\n",
       "        vertical-align: middle;\n",
       "    }\n",
       "\n",
       "    .dataframe tbody tr th {\n",
       "        vertical-align: top;\n",
       "    }\n",
       "\n",
       "    .dataframe thead th {\n",
       "        text-align: right;\n",
       "    }\n",
       "</style>\n",
       "<table border=\"1\" class=\"dataframe\">\n",
       "  <thead>\n",
       "    <tr style=\"text-align: right;\">\n",
       "      <th></th>\n",
       "      <th>REGULATOR_ID</th>\n",
       "      <th>REGULATOR_NAME</th>\n",
       "      <th>REGULATED_ID</th>\n",
       "      <th>REGULATED_NAME</th>\n",
       "      <th>FUNCTION_INTERACTION</th>\n",
       "      <th>EVIDENCE</th>\n",
       "      <th>REGULATOR_TYPE</th>\n",
       "      <th>REGULATED_TYPE</th>\n",
       "    </tr>\n",
       "  </thead>\n",
       "  <tbody>\n",
       "    <tr>\n",
       "      <th>1</th>\n",
       "      <td>ECK120011186</td>\n",
       "      <td>Fis</td>\n",
       "      <td>ECK120002550</td>\n",
       "      <td>tyrV</td>\n",
       "      <td>+</td>\n",
       "      <td>Gene expression analysis;Inferred from direct ...</td>\n",
       "      <td>tf</td>\n",
       "      <td>gene</td>\n",
       "    </tr>\n",
       "    <tr>\n",
       "      <th>2</th>\n",
       "      <td>ECK120011186</td>\n",
       "      <td>Fis</td>\n",
       "      <td>ECK120002551</td>\n",
       "      <td>valT</td>\n",
       "      <td>+</td>\n",
       "      <td>Inferred from direct assay;Inferred from expre...</td>\n",
       "      <td>tf</td>\n",
       "      <td>gene</td>\n",
       "    </tr>\n",
       "    <tr>\n",
       "      <th>3</th>\n",
       "      <td>ECK120011186</td>\n",
       "      <td>Fis</td>\n",
       "      <td>ECK120002552</td>\n",
       "      <td>valU</td>\n",
       "      <td>+</td>\n",
       "      <td>A person inferred or reviewed a computer infer...</td>\n",
       "      <td>tf</td>\n",
       "      <td>gene</td>\n",
       "    </tr>\n",
       "    <tr>\n",
       "      <th>4</th>\n",
       "      <td>ECK120011186</td>\n",
       "      <td>Fis</td>\n",
       "      <td>ECK120002555</td>\n",
       "      <td>valX</td>\n",
       "      <td>+</td>\n",
       "      <td>A person inferred or reviewed a computer infer...</td>\n",
       "      <td>tf</td>\n",
       "      <td>gene</td>\n",
       "    </tr>\n",
       "    <tr>\n",
       "      <th>5</th>\n",
       "      <td>ECK120011186</td>\n",
       "      <td>Fis</td>\n",
       "      <td>ECK120002556</td>\n",
       "      <td>valY</td>\n",
       "      <td>+</td>\n",
       "      <td>A person inferred or reviewed a computer infer...</td>\n",
       "      <td>tf</td>\n",
       "      <td>gene</td>\n",
       "    </tr>\n",
       "  </tbody>\n",
       "</table>\n",
       "</div>"
      ],
      "text/plain": [
       "   REGULATOR_ID REGULATOR_NAME  REGULATED_ID REGULATED_NAME  \\\n",
       "1  ECK120011186            Fis  ECK120002550           tyrV   \n",
       "2  ECK120011186            Fis  ECK120002551           valT   \n",
       "3  ECK120011186            Fis  ECK120002552           valU   \n",
       "4  ECK120011186            Fis  ECK120002555           valX   \n",
       "5  ECK120011186            Fis  ECK120002556           valY   \n",
       "\n",
       "  FUNCTION_INTERACTION                                           EVIDENCE  \\\n",
       "1                    +  Gene expression analysis;Inferred from direct ...   \n",
       "2                    +  Inferred from direct assay;Inferred from expre...   \n",
       "3                    +  A person inferred or reviewed a computer infer...   \n",
       "4                    +  A person inferred or reviewed a computer infer...   \n",
       "5                    +  A person inferred or reviewed a computer infer...   \n",
       "\n",
       "  REGULATOR_TYPE REGULATED_TYPE  \n",
       "1             tf           gene  \n",
       "2             tf           gene  \n",
       "3             tf           gene  \n",
       "4             tf           gene  \n",
       "5             tf           gene  "
      ]
     },
     "execution_count": 41,
     "metadata": {},
     "output_type": "execute_result"
    }
   ],
   "source": [
    "df_genetic_network.head()"
   ]
  },
  {
   "cell_type": "code",
   "execution_count": 43,
   "id": "bd60395b",
   "metadata": {
    "ExecuteTime": {
     "end_time": "2023-10-16T14:38:10.778815Z",
     "start_time": "2023-10-16T14:38:10.767186Z"
    }
   },
   "outputs": [
    {
     "data": {
      "text/plain": [
       "(array(['tf', 'sigma'], dtype=object),\n",
       " array(['gene', 'operon', 'tf', 'sigma'], dtype=object))"
      ]
     },
     "execution_count": 43,
     "metadata": {},
     "output_type": "execute_result"
    }
   ],
   "source": [
    "df_genetic_network[\"REGULATOR_TYPE\"].unique(), df_genetic_network[\"REGULATED_TYPE\"].unique() "
   ]
  },
  {
   "cell_type": "code",
   "execution_count": 48,
   "id": "ccd1eac3",
   "metadata": {
    "ExecuteTime": {
     "end_time": "2023-10-16T14:41:14.475357Z",
     "start_time": "2023-10-16T14:41:14.464224Z"
    }
   },
   "outputs": [],
   "source": [
    "# Select transcription factor regulations to transcription factor\n",
    "df_tf_tf = df_genetic_network.loc[(df_genetic_network[\"REGULATOR_TYPE\"] == 'tf') & \n",
    "                                  (df_genetic_network[\"REGULATED_TYPE\"] == 'tf')]"
   ]
  },
  {
   "cell_type": "code",
   "execution_count": 56,
   "id": "18fa66a5",
   "metadata": {
    "ExecuteTime": {
     "end_time": "2023-10-16T14:43:58.271612Z",
     "start_time": "2023-10-16T14:43:58.261156Z"
    }
   },
   "outputs": [],
   "source": [
    "G = nx.Graph()\n",
    "G.add_edges_from(df_tf_tf[[\"REGULATOR_ID\",\"REGULATED_ID\"]].to_numpy())"
   ]
  },
  {
   "cell_type": "code",
   "execution_count": 57,
   "id": "f0c0e2cc",
   "metadata": {
    "ExecuteTime": {
     "end_time": "2023-10-16T14:44:18.531134Z",
     "start_time": "2023-10-16T14:44:18.521377Z"
    }
   },
   "outputs": [
    {
     "data": {
      "text/plain": [
       "(184, 438)"
      ]
     },
     "execution_count": 57,
     "metadata": {},
     "output_type": "execute_result"
    }
   ],
   "source": [
    "G.number_of_nodes(), G.number_of_edges()"
   ]
  },
  {
   "cell_type": "code",
   "execution_count": 65,
   "id": "495be0b5",
   "metadata": {
    "ExecuteTime": {
     "end_time": "2023-10-16T14:49:25.098889Z",
     "start_time": "2023-10-16T14:49:25.087624Z"
    }
   },
   "outputs": [
    {
     "name": "stderr",
     "output_type": "stream",
     "text": [
      "/tmp/ipykernel_60405/2684795532.py:1: FutureWarning: adjacency_matrix will return a scipy.sparse array instead of a matrix in Networkx 3.0.\n",
      "  A = nx.adjacency_matrix(G).todense()\n"
     ]
    }
   ],
   "source": [
    "A = nx.adjacency_matrix(G).todense()"
   ]
  },
  {
   "cell_type": "code",
   "execution_count": 144,
   "id": "bed66f94",
   "metadata": {
    "ExecuteTime": {
     "end_time": "2023-10-16T15:18:29.808900Z",
     "start_time": "2023-10-16T15:18:29.796865Z"
    }
   },
   "outputs": [],
   "source": [
    "def sample_a_subnet(m, size):\n",
    "    \"\"\"Sample a subnetwork from the adjecancy matrix m.\n",
    "     \n",
    "       The size of the subnetwork is (size, size)\n",
    "    \"\"\"    \n",
    "    rows = np.random.choice(range(m.shape[0]), size=size, replace=False)\n",
    "    columns = np.random.choice(range(m.shape[1]), size=size, replace=False)\n",
    "    return np.array([[m[i,j] for j in range(m.shape[1]) if j in columns] \n",
    "                             for i in range(m.shape[0]) if i in rows])\n",
    "\n",
    "def find_p(m, exclude_self_regulations=True):\n",
    "    \"\"\"Probability of having an edge betwen to randomly selected nodes\n",
    "    \n",
    "    \"\"\"\n",
    "    m2 = m - np.diag(np.diag(m))\n",
    "    n = m.shape[0]\n",
    "    if exclude_self_regulations:                \n",
    "        compelete_edges = n*(n-1)/2\n",
    "        total_edges = np.sum(m2)/2 \n",
    "        return total_edges/compelete_edges\n",
    "    else:\n",
    "        compelete_edges = n*(n+1)/2       \n",
    "        total_edges = np.sum(np.diag(m)) + np.sum(m2)/2 \n",
    "        return total_edges/compelete_edges\n",
    "    "
   ]
  },
  {
   "cell_type": "code",
   "execution_count": null,
   "id": "ff885c01",
   "metadata": {
    "ExecuteTime": {
     "end_time": "2023-10-16T15:27:37.670257Z",
     "start_time": "2023-10-16T15:27:29.621207Z"
    }
   },
   "outputs": [],
   "source": []
  },
  {
   "cell_type": "code",
   "execution_count": 165,
   "id": "d5d0132f",
   "metadata": {
    "ExecuteTime": {
     "end_time": "2023-10-16T15:30:48.938604Z",
     "start_time": "2023-10-16T15:27:48.727660Z"
    }
   },
   "outputs": [],
   "source": [
    "ns = np.array([i for i in range(4,184 + 4, 4)])\n",
    "repeats = 100\n",
    "samples = np.zeros((ns.shape[0], repeats))\n",
    "for i, n in enumerate(ns):\n",
    "    for r in range(repeats):\n",
    "        s = sample_a_subnet(A, n)\n",
    "        p = find_p(s)\n",
    "        samples[i, r] = p"
   ]
  },
  {
   "cell_type": "code",
   "execution_count": null,
   "id": "0f016812",
   "metadata": {
    "ExecuteTime": {
     "end_time": "2023-10-16T15:50:18.990750Z",
     "start_time": "2023-10-16T15:50:18.979567Z"
    }
   },
   "outputs": [],
   "source": []
  },
  {
   "cell_type": "code",
   "execution_count": 177,
   "id": "a12e022c",
   "metadata": {
    "ExecuteTime": {
     "end_time": "2023-10-16T15:32:52.322852Z",
     "start_time": "2023-10-16T15:32:52.208352Z"
    }
   },
   "outputs": [
    {
     "data": {
      "image/png": "[encoded data removed]",
      "text/plain": [
       "<Figure size 640x480 with 1 Axes>"
      ]
     },
     "metadata": {},
     "output_type": "display_data"
    }
   ],
   "source": [
    "\n",
    "plt.errorbar(ns, np.mean(samples, axis=1), np.std(samples, axis=1), linestyle='None', marker='.', alpha=.6)\n",
    "plt.plot(ns, np.mean(samples, axis=1), alpha=1)\n",
    "plt.xlabel(\"n (subnet size)\")\n",
    "plt.ylabel(\"p (probability of having a edge)\")\n",
    "plt.grid()"
   ]
  },
  {
   "cell_type": "code",
   "execution_count": 182,
   "id": "a5ded0da",
   "metadata": {
    "ExecuteTime": {
     "end_time": "2023-10-16T16:05:21.124707Z",
     "start_time": "2023-10-16T16:02:20.453028Z"
    }
   },
   "outputs": [],
   "source": [
    "samples2 = np.zeros((ns.shape[0], repeats))\n",
    "for i, n in enumerate(ns):\n",
    "    for r in range(repeats):\n",
    "        s = sample_a_subnet(A, n)\n",
    "        p = find_p(s, exclude_self_regulations=False)\n",
    "        samples2[i, r] = p"
   ]
  },
  {
   "cell_type": "code",
   "execution_count": 183,
   "id": "e90e596d",
   "metadata": {
    "ExecuteTime": {
     "end_time": "2023-10-16T16:05:52.311015Z",
     "start_time": "2023-10-16T16:05:52.198014Z"
    }
   },
   "outputs": [
    {
     "data": {
      "image/png": "[encoded data removed]",
      "text/plain": [
       "<Figure size 640x480 with 1 Axes>"
      ]
     },
     "metadata": {},
     "output_type": "display_data"
    }
   ],
   "source": [
    "plt.errorbar(ns, np.mean(samples2, axis=1), np.std(samples2, axis=1), linestyle='None', marker='.', alpha=.6)\n",
    "plt.plot(ns, np.mean(samples2, axis=1), alpha=1)\n",
    "plt.xlabel(\"n (subnet size)\")\n",
    "plt.ylabel(\"p (probability of having a edge)\")\n",
    "plt.grid()"
   ]
  },
  {
   "cell_type": "code",
   "execution_count": null,
   "id": "1bb45303",
   "metadata": {},
   "outputs": [],
   "source": []
  }
 ],
 "metadata": {
  "hide_input": false,
  "kernelspec": {
   "display_name": "Python 3 (ipykernel)",
   "language": "python",
   "name": "python3"
  },
  "language_info": {
   "codemirror_mode": {
    "name": "ipython",
    "version": 3
   },
   "file_extension": ".py",
   "mimetype": "text/x-python",
   "name": "python",
   "nbconvert_exporter": "python",
   "pygments_lexer": "ipython3",
   "version": "3.9.13"
  },
  "varInspector": {
   "cols": {
    "lenName": 16,
    "lenType": 16,
    "lenVar": 40
   },
   "kernels_config": {
    "python": {
     "delete_cmd_postfix": "",
     "delete_cmd_prefix": "del ",
     "library": "var_list.py",
     "varRefreshCmd": "print(var_dic_list())"
    },
    "r": {
     "delete_cmd_postfix": ") ",
     "delete_cmd_prefix": "rm(",
     "library": "var_list.r",
     "varRefreshCmd": "cat(var_dic_list()) "
    }
   },
   "types_to_exclude": [
    "module",
    "function",
    "builtin_function_or_method",
    "instance",
    "_Feature"
   ],
   "window_display": false
  }
 },
 "nbformat": 4,
 "nbformat_minor": 5
}
