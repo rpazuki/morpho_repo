{
 "cells": [
  {
   "cell_type": "markdown",
   "id": "d1c0b82f",
   "metadata": {},
   "source": [
    "> __Paper:__\n",
    "Physics-informed neural networks: A deep learning framework for solving forward and\n",
    "inverse problems involving nonlinear partial differential equations\n",
    "\n",
    "> [Link](https://doi.org/10.1016/j.jcp.2018.10.045)"
   ]
  },
  {
   "cell_type": "markdown",
   "id": "d1b2651d",
   "metadata": {},
   "source": [
    "> In This notebook, estimate the parameters.\n",
    "\n",
    "> We select the last 32 time steps of a 32 x 32 grid of a solution of ASDM. The Training dataset includes all grid's data point.\n",
    "\n",
    "> The free parameters of the model are fixed.\n",
    "\n",
    "> The goal here is overfitting the model to re-create the exact output from the mtrained model. Therefore, we can be sure about the code and the selected architecture."
   ]
  },
  {
   "cell_type": "code",
   "execution_count": 1,
   "id": "212253b0",
   "metadata": {
    "ExecuteTime": {
     "end_time": "2022-05-28T12:49:06.512228Z",
     "start_time": "2022-05-28T12:49:05.361875Z"
    }
   },
   "outputs": [],
   "source": [
    "import sys\n",
    "import warnings\n",
    "warnings.filterwarnings('ignore')\n",
    "import tensorflow as tf\n",
    "import numpy as np\n",
    "import matplotlib.pyplot as plt\n",
    "import scipy.io\n",
    "import time"
   ]
  },
  {
   "cell_type": "code",
   "execution_count": 2,
   "id": "a9268849",
   "metadata": {
    "ExecuteTime": {
     "end_time": "2022-05-28T12:49:39.888758Z",
     "start_time": "2022-05-28T12:49:39.692098Z"
    },
    "code_folding": []
   },
   "outputs": [],
   "source": [
    "np.random.seed(1234)\n",
    "tf.set_random_seed(1234)\n",
    "\n",
    "\n",
    "class PhysicsInformedNN:\n",
    "    # Initialize the class\n",
    "    def __init__(self, x, y, t, a, s, layers): \n",
    "        \n",
    "        with tf.device('gpu:0'):\n",
    "        #with tf.device('cpu:0'):\n",
    "                 \n",
    "            X = np.concatenate([x, y, t], 1)\n",
    "\n",
    "            self.lb = X.min(0)\n",
    "            self.ub = X.max(0)                        \n",
    "\n",
    "            self.x = X[:,0:1]\n",
    "            self.y = X[:,1:2]\n",
    "            self.t = X[:,2:3]\n",
    "\n",
    "            self.a = a\n",
    "            self.s = s\n",
    "\n",
    "            self.layers = layers\n",
    "\n",
    "            # Initialize NN\n",
    "            self.weights, self.biases = self.initialize_NN(layers)        \n",
    "\n",
    "            # Initialize parameters\n",
    "            self.D_a = tf.Variable([1.0], dtype=tf.float32, \n",
    "                                   name=\"D_a\", \n",
    "                                   constraint= lambda z: tf.clip_by_value(z, 1e-10, 1e10))#tf.constant(0.005, dtype=tf.float32)#\n",
    "            self.D_s = tf.Variable([1.0], dtype=tf.float32, \n",
    "                                   name=\"D_s\",\n",
    "                                  constraint= lambda z: tf.clip_by_value(z, 1e-10, 1e10))#tf.constant(0.2, dtype=tf.float32)#\n",
    "            self.sigma_a = tf.Variable([0.0], dtype=tf.float32,\n",
    "                                      name=\"sigma_a\",\n",
    "                                      constraint= lambda z: tf.clip_by_value(z, 0, 1e10))#tf.constant(0.0, dtype=tf.float32, name=\"sigma_a\")#\n",
    "            self.sigma_s = tf.Variable([1.00], dtype=tf.float32, \n",
    "                                       name=\"sigma_s\",\n",
    "                                      constraint= lambda z: tf.clip_by_value(z, 0, 1e10))#tf.constant(0.02, dtype=tf.float32)#\n",
    "            self.mu_a = tf.Variable([1.00], dtype=tf.float32, \n",
    "                                    name=\"mu_a\",\n",
    "                                   constraint= lambda z: tf.clip_by_value(z, 0, 1e10))#tf.constant(0.01, dtype=tf.float32)#\n",
    "            self.rho_a = tf.Variable([1.00], dtype=tf.float32, \n",
    "                                     name=\"rho_a\",\n",
    "                                    constraint= lambda z: tf.clip_by_value(z, 0, 1e10))#tf.constant(0.01, dtype=tf.float32)#\n",
    "            self.rho_s = tf.Variable([1.00], dtype=tf.float32, \n",
    "                                     name=\"rho_s\",\n",
    "                                    constraint= lambda z: tf.clip_by_value(z, 0, 1e10))#tf.constant(0.02, dtype=tf.float32)#\n",
    "            self.kappa_a = tf.Variable([1.00], dtype=tf.float32,\n",
    "                                       name=\"kappa_a\",\n",
    "                                      constraint= lambda z: tf.clip_by_value(z, 0, 1e10))#tf.constant(0.25, dtype=tf.float32)##\n",
    "\n",
    "        # tf placeholders and graph\n",
    "        self.sess = tf.Session(config=tf.ConfigProto(allow_soft_placement=True,\n",
    "                                                     log_device_placement=True))\n",
    "\n",
    "        self.x_tf = tf.placeholder(tf.float32, shape=[None, self.x.shape[1]], name=\"x_tf\")\n",
    "        self.y_tf = tf.placeholder(tf.float32, shape=[None, self.y.shape[1]], name=\"y_tf\")\n",
    "        self.t_tf = tf.placeholder(tf.float32, shape=[None, self.t.shape[1]], name=\"t_tf\")\n",
    "\n",
    "        self.a_tf = tf.placeholder(tf.float32, shape=[None, self.a.shape[1]], name=\"a_tf\")\n",
    "        self.s_tf = tf.placeholder(tf.float32, shape=[None, self.s.shape[1]], name=\"s_tf\")\n",
    "\n",
    "        self.a_pred, self.s_pred, self.f_a_pred, self.f_s_pred = self.net_ASDM(self.x_tf, self.y_tf, self.t_tf)\n",
    "\n",
    "        self.loss_1 = tf.reduce_sum(tf.square(self.a_tf - self.a_pred)) + \\\n",
    "                    tf.reduce_sum(tf.square(self.s_tf - self.s_pred)) \n",
    "\n",
    "        self.loss_a = tf.reduce_sum(tf.square(self.f_a_pred), name = \"loss_a\")\n",
    "\n",
    "        self.loss_s = tf.reduce_sum(tf.square(self.f_s_pred), name = \"loss_s\")\n",
    "        \n",
    "        self.loss_diffusion_reg = 10*tf.math.exp(-self.D_a/1e-1) + 10*tf.math.exp(-self.D_s/1e-1)\n",
    "\n",
    "        self.loss = self.loss_1 + self.loss_a + self.loss_s +  self.loss_diffusion_reg      \n",
    "\n",
    "        self.optimizer = tf.contrib.opt.ScipyOptimizerInterface(self.loss, \n",
    "                                                                method = 'L-BFGS-B', \n",
    "                                                                options = {'maxiter': 50000,\n",
    "                                                                           'maxfun': 50000,\n",
    "                                                                           'maxcor': 50,\n",
    "                                                                           'maxls': 50,\n",
    "                                                                           'ftol' : 1.0 * np.finfo(float).eps})        \n",
    "\n",
    "        self.optimizer_Adam = tf.train.AdamOptimizer()\n",
    "        self.train_op_Adam = self.optimizer_Adam.minimize(self.loss)                    \n",
    "        \n",
    "        init = tf.global_variables_initializer()\n",
    "        self.sess.run(init)\n",
    "\n",
    "    def initialize_NN(self, layers):        \n",
    "        weights = []\n",
    "        biases = []\n",
    "        num_layers = len(layers) \n",
    "        for l in range(0,num_layers-1):\n",
    "            W = self.xavier_init(size=[layers[l], layers[l+1]])\n",
    "            b = tf.Variable(tf.zeros([1,layers[l+1]], dtype=tf.float32), dtype=tf.float32)\n",
    "            weights.append(W)\n",
    "            biases.append(b)        \n",
    "        return weights, biases\n",
    "        \n",
    "    def xavier_init(self, size):\n",
    "        in_dim = size[0]\n",
    "        out_dim = size[1]        \n",
    "        xavier_stddev = np.sqrt(2/(in_dim + out_dim))\n",
    "        return tf.Variable(tf.truncated_normal([in_dim, out_dim], stddev=xavier_stddev), dtype=tf.float32)\n",
    "    \n",
    "    def neural_net(self, X, weights, biases):\n",
    "        num_layers = len(weights) + 1\n",
    "        \n",
    "        H = 2.0*(X - self.lb)/(self.ub - self.lb) - 1.0\n",
    "        for l in range(0,num_layers-2):\n",
    "            W = weights[l]\n",
    "            b = biases[l]\n",
    "            H = tf.tanh(tf.add(tf.matmul(H, W), b))\n",
    "            #H = tf.nn.relu(tf.add(tf.matmul(H, W), b))\n",
    "        W = weights[-1]\n",
    "        b = biases[-1]\n",
    "        Y = tf.add(tf.matmul(H, W), b)\n",
    "        return Y\n",
    "        \n",
    "    def net_ASDM(self, x, y, t):\n",
    "        D_a = self.D_a\n",
    "        D_s = self.D_s\n",
    "        sigma_a = self.sigma_a\n",
    "        sigma_s = self.sigma_s\n",
    "        mu_a = self.mu_a\n",
    "        rho_a = self.rho_a\n",
    "        rho_s = self.rho_s\n",
    "        kappa_a = self.kappa_a\n",
    "        \n",
    "        a_and_s = self.neural_net(tf.concat([x,y,t], 1), self.weights, self.biases)\n",
    "        #a = a_and_s[:,0:1]\n",
    "        a = tf.slice(a_and_s, [0,0], [-1,1], name = \"a_pred\")\n",
    "        #s = a_and_s[:,1:2]                \n",
    "        s = tf.slice(a_and_s, [0,1], [-1,1], name = \"s_pred\")\n",
    "        \n",
    "        a_t = tf.gradients(a, t)[0]\n",
    "        a_x = tf.gradients(a, x)[0]\n",
    "        a_y = tf.gradients(a, y)[0]\n",
    "        a_xx = tf.gradients(a_x, x)[0]\n",
    "        a_yy = tf.gradients(a_y, y)[0]\n",
    "        \n",
    "        s_t = tf.gradients(s, t)[0]\n",
    "        s_x = tf.gradients(s, x)[0]\n",
    "        s_y = tf.gradients(s, y)[0]\n",
    "        s_xx = tf.gradients(s_x, x)[0]\n",
    "        s_yy = tf.gradients(s_y, y)[0]\n",
    "        \n",
    "        f = a*a*s/(1 + kappa_a*a*a)\n",
    "        f_a = a_t - D_a*(a_xx + a_yy) - rho_a*f + mu_a*a - sigma_a\n",
    "        f_s = s_t - D_s*(s_xx + s_yy) + rho_s*f - sigma_s\n",
    "        \n",
    "        return a, s, f_a, f_s\n",
    "    \n",
    "    def callback(self, loss, loss_a, loss_s, loss_dif, D_a, D_s, sigma_a,sigma_s,\n",
    "                       rho_a, rho_s, mu_a, kappa_a):\n",
    "        print(f\"loss: {loss.tolist()}, loss_a: {loss_a.tolist()}, loss_s: {loss_s.tolist()}, loss_diffusion: {loss_dif.tolist()},\\n\"\n",
    "              f\"D_a: {D_a.tolist()}, D_s: {D_s.tolist()}\\n\"\n",
    "              f\"sigma_a: {sigma_a.tolist()}, sigma_s: {sigma_s.tolist()}\\n\"\n",
    "              f\"rho_a: {rho_a.tolist()}, rho_s: {rho_s.tolist()}\\n\"\n",
    "              f\"mu_a: {mu_a.tolist()}, kappa_a: {kappa_a.tolist()}\\n\")\n",
    "        \n",
    "      \n",
    "    def train_batch(self, nIter, batch_size, early_stop_thresh = None, print_iter = 100):\n",
    "        \n",
    "        data_n = self.x.shape[0]\n",
    "        batch_steps = data_n//batch_size\n",
    "        batch_steps = batch_steps + (data_n-1)//(batch_steps*batch_size)\n",
    "        \n",
    "        data = np.concatenate([self.x, self.y, self.t, self.a, self.s], 1)\n",
    "        indices = np.array(list(range(data_n)))\n",
    "        \n",
    "        arr_total_loss = np.zeros(nIter)\n",
    "        arr_total_loss_a = np.zeros(nIter)\n",
    "        arr_total_loss_s = np.zeros(nIter)\n",
    "        arr_total_loss_diffusion_reg = np.zeros(nIter)\n",
    "        \n",
    "        arr_D_a = np.zeros(nIter)\n",
    "        arr_D_s = np.zeros(nIter)\n",
    "        arr_sigma_a = np.zeros(nIter)\n",
    "        arr_sigma_s = np.zeros(nIter)\n",
    "        arr_rho_a = np.zeros(nIter)\n",
    "        arr_rho_s = np.zeros(nIter)\n",
    "        arr_mu_a = np.zeros(nIter)\n",
    "        arr_kappa_a = np.zeros(nIter)\n",
    "        \n",
    "        def _get_val(item):\n",
    "            val = item.tolist()\n",
    "            if type(val) is float:\n",
    "                return val\n",
    "            else:\n",
    "                return val[0]\n",
    "        \n",
    "\n",
    "        \n",
    "        \n",
    "        start_time = time.time()\n",
    "        for it in range(nIter):\n",
    "            # Shuflle the batches in each epoch\n",
    "            np.random.shuffle(indices)                        \n",
    "            total_loss = 0\n",
    "            total_loss_a = 0\n",
    "            total_loss_s = 0\n",
    "            total_loss_diffusion_reg = 0\n",
    "            \n",
    "            for batch in range(batch_steps):\n",
    "                start = batch*batch_size\n",
    "                end = (batch+1)*batch_size\n",
    "                end = end - (end//data_n)*(end%data_n)\n",
    "                \n",
    "                batch_indices = indices[start:end]\n",
    "                \n",
    "                tf_dict = {self.x_tf: data[batch_indices, 0:1], \n",
    "                           self.y_tf: data[batch_indices, 1:2], \n",
    "                           self.t_tf: data[batch_indices, 2:3],\n",
    "                           self.a_tf: data[batch_indices, 3:4], \n",
    "                           self.s_tf: data[batch_indices, 4:5]}\n",
    "                \n",
    "                self.sess.run(self.train_op_Adam, tf_dict)\n",
    "            \n",
    "                loss_value = _get_val(self.sess.run(self.loss, tf_dict))\n",
    "                loss_a_value = _get_val(self.sess.run(self.loss_a, tf_dict))\n",
    "                loss_s_value = _get_val(self.sess.run(self.loss_s, tf_dict))\n",
    "                loss_diffusion_reg_value = _get_val(self.sess.run(self.loss_diffusion_reg, tf_dict))\n",
    "                \n",
    "                total_loss += loss_value\n",
    "                total_loss_a += loss_a_value\n",
    "                total_loss_s += loss_s_value\n",
    "                total_loss_diffusion_reg += loss_diffusion_reg_value\n",
    "            # Print\n",
    "            if it % print_iter == 0:\n",
    "                elapsed = time.time() - start_time                \n",
    "                D_a_value = _get_val(self.sess.run(self.D_a))\n",
    "                D_s_value = _get_val(self.sess.run(self.D_s))             \n",
    "                sigma_a_value = _get_val(self.sess.run(self.sigma_a))\n",
    "                sigma_s_value = _get_val(self.sess.run(self.sigma_s))              \n",
    "                rho_a_value = _get_val(self.sess.run(self.rho_a))\n",
    "                rho_s_value = _get_val(self.sess.run(self.rho_s))\n",
    "                mu_a_value = _get_val(self.sess.run(self.mu_a))\n",
    "                kappa_a_value = _get_val(self.sess.run(self.kappa_a))\n",
    "                \n",
    "                \n",
    "                print(f\"It: {it}, loss_a  : {total_loss_a:.8f}, loss_s  : {total_loss_s:.8f}, loss_diffusion  : {total_loss_diffusion_reg:.8f}\\n\"\n",
    "                      f\"loss  : {total_loss:.2f},\\n\"\n",
    "                      f\"D_a: {D_a_value:.8f}, D_s: {D_s_value:.8f}\\n\"\n",
    "                      f\"sigma_a: {sigma_a_value:.8f}, sigma_s: {sigma_s_value:.8f}\\n\"\n",
    "                      f\"rho_a: {rho_a_value:.8f}, rho_s: {rho_s_value:.8f}\\n\"\n",
    "                      f\"mu_a: {mu_a_value:.8f}, kappa_a: {kappa_a_value:.8f}, \\n\"\n",
    "                      f\"Time:{elapsed:.2f}\\n\")\n",
    "                start_time = time.time()\n",
    "            # early stop\n",
    "            if early_stop_thresh is not None and early_stop_thresh >= total_loss:\n",
    "                print(\"#\"*50)\n",
    "                print(\"         Early stop\")\n",
    "                print(\"#\"*50)\n",
    "                elapsed = time.time() - start_time                    \n",
    "                D_a_value = _get_val(self.sess.run(self.D_a))\n",
    "                D_s_value = _get_val(self.sess.run(self.D_s))             \n",
    "                sigma_a_value = _get_val(self.sess.run(self.sigma_a))\n",
    "                sigma_s_value = _get_val(self.sess.run(self.sigma_s))              \n",
    "                rho_a_value = _get_val(self.sess.run(self.rho_a))\n",
    "                rho_s_value = _get_val(self.sess.run(self.rho_s))\n",
    "                mu_a_value = _get_val(self.sess.run(self.mu_a))\n",
    "                kappa_a_value = _get_val(self.sess.run(self.kappa_a))\n",
    "                \n",
    "                \n",
    "                print(f\"It: {it}, loss_a  : {total_loss_a:.8f}, loss_s  : {total_loss_s:.8f}, loss_diffusion  : {total_loss_diffusion_reg:.8f}\\n\"\n",
    "                      f\"loss  : {total_loss:.2f},\\n\"\n",
    "                      f\"D_a: {D_a_value:.8f}, D_s: {D_s_value:.8f}\\n\"\n",
    "                      f\"sigma_a: {sigma_a_value:.8f}, sigma_s: {sigma_s_value:.8f}\\n\"\n",
    "                      f\"rho_a: {rho_a_value:.8f}, rho_s: {rho_s_value:.8f}\\n\"\n",
    "                      f\"mu_a: {mu_a_value:.8f}, kappa_a: {kappa_a_value:.8f}, \\n\"\n",
    "                      f\"Time:{elapsed:.2f}\\n\")\n",
    "                start_time = time.time()\n",
    "                \n",
    "                arr_total_loss[it] = total_loss\n",
    "                arr_total_loss_a[it] = total_loss_a\n",
    "                arr_total_loss_s[it] = total_loss_s\n",
    "                arr_total_loss_diffusion_reg[it] = total_loss_diffusion_reg\n",
    "                arr_D_a[it] = D_a_value\n",
    "                arr_D_s[it] = D_s_value                \n",
    "                arr_sigma_a[it] = sigma_a_value\n",
    "                arr_sigma_s[it] = sigma_s_value\n",
    "                arr_rho_a[it] = rho_a_value\n",
    "                arr_rho_s[it] = rho_s_value\n",
    "                arr_mu_a[it] = mu_a_value\n",
    "                arr_kappa_a[it] = kappa_a_value                \n",
    "                                \n",
    "                params = {'D_a': arr_D_a[:(it+1)], 'D_s': arr_D_s[:(it+1)],\n",
    "                          'sigma_a': arr_sigma_a[:(it+1)] , 'sigma_s': arr_sigma_s[:(it+1)],\n",
    "                          'rho_a' : arr_rho_a[:(it+1)], 'rho_s' : arr_rho_s[:(it+1)],\n",
    "                          'mu_a': arr_mu_a[:(it+1)], 'kappa_a': arr_kappa_a[:(it+1)]}\n",
    "                \n",
    "                return (arr_total_loss[:(it+1)], \n",
    "                        arr_total_loss_a[:(it+1)], \n",
    "                        arr_total_loss_s[:(it+1)], \n",
    "                        arr_total_loss_diffusion_reg[:(it+1)], \n",
    "                        params)    \n",
    "        \n",
    "            arr_total_loss[it] = total_loss\n",
    "            arr_total_loss_a[it] = total_loss_a\n",
    "            arr_total_loss_s[it] = total_loss_s\n",
    "            arr_total_loss_diffusion_reg[it] = total_loss_diffusion_reg\n",
    "            arr_D_a[it] = D_a_value\n",
    "            arr_D_s[it] = D_s_value            \n",
    "            arr_sigma_a[it] = sigma_a_value\n",
    "            arr_sigma_s[it] = sigma_s_value\n",
    "            arr_rho_a[it] = rho_a_value\n",
    "            arr_rho_s[it] = rho_s_value\n",
    "            arr_mu_a[it] = mu_a_value\n",
    "            arr_kappa_a[it] = kappa_a_value\n",
    "            \n",
    "        # end for it\n",
    "        params = {'D_a': arr_D_a, 'D_s': arr_D_s,\n",
    "                  'sigma_a': arr_sigma_a , 'sigma_s': arr_sigma_s,\n",
    "                  'rho_a' : arr_rho_a, 'rho_s' : arr_rho_s, 'mu_a': arr_mu_a, 'kappa_a': arr_kappa_a}\n",
    "        return (arr_total_loss, \n",
    "                arr_total_loss_a, \n",
    "                arr_total_loss_s, \n",
    "                arr_total_loss_diffusion_reg,\n",
    "                params)\n",
    "                \n",
    "            \n",
    "        \n",
    "        \n",
    "    def minimise(self, max_iter = None, f_tol = None):\n",
    "        if max_iter is not None:\n",
    "            self.optimizer.optimizer_kwargs['options']['maxiter'] = max_iter\n",
    "            \n",
    "        if f_tol is not None:\n",
    "            self.optimizer.optimizer_kwargs['options']['f_tol'] = f_tol\n",
    "        \n",
    "        \n",
    "        tf_dict = {self.x_tf: self.x, self.y_tf: self.y, self.t_tf: self.t,\n",
    "                   self.a_tf: self.a, self.s_tf: self.s}\n",
    "            \n",
    "        self.optimizer.minimize(self.sess,\n",
    "                                feed_dict = tf_dict,\n",
    "                                fetches = [self.loss, self.loss_a, self.loss_s, self.loss_diffusion_reg,\n",
    "                                           self.D_a, self.D_s,\n",
    "                                          self.sigma_a, self.sigma_s,\n",
    "                                          self.rho_a, self.rho_s,\n",
    "                                          self.mu_a, self.kappa_a],\n",
    "                                loss_callback = self.callback)\n",
    "            \n",
    "    \n",
    "    def predict(self, x_star, y_star, t_star):\n",
    "        \n",
    "        tf_dict = {self.x_tf: x_star, self.y_tf: y_star, self.t_tf: t_star}\n",
    "        \n",
    "        a_star = self.sess.run(self.a_pred, tf_dict)\n",
    "        s_star = self.sess.run(self.s_pred, tf_dict)\n",
    "        \n",
    "        return a_star, s_star"
   ]
  },
  {
   "cell_type": "code",
   "execution_count": 3,
   "id": "d7c3614d",
   "metadata": {
    "ExecuteTime": {
     "end_time": "2022-05-28T12:49:41.901736Z",
     "start_time": "2022-05-28T12:49:40.727217Z"
    },
    "scrolled": true
   },
   "outputs": [],
   "source": [
    "#layers = [3, 20, 20, 20, 20, 20, 20, 20, 20, 2]\n",
    "layers = [3, 64, 64, 64, 64, 2]\n",
    "#layers = [3, 128, 128, 128, 128, 2]\n",
    "\n",
    "#layers = [3, 100, 100, 100, 100, 2]\n",
    "\n",
    "# Load Data\n",
    "import os\n",
    "data_path = os.path.abspath(\"turing.npy\")\n",
    "with open(data_path, 'rb') as f:\n",
    "    data = np.load(f)\n",
    "    \n",
    "data_path = os.path.abspath(\"turing_t.npy\")\n",
    "with open(data_path, 'rb') as f:\n",
    "    t_star = np.load(f) \n",
    "    \n",
    "T = 32#10#t_star.shape[0]    \n",
    "    \n",
    "L = 50\n",
    "x_size = data.shape[1]\n",
    "y_size = data.shape[2]\n",
    "N = x_size*y_size\n",
    "x = L*np.linspace(0,1,x_size)\n",
    "y = L*np.linspace(0,1,y_size)\n",
    "\n",
    "X,Y = np.meshgrid(x, y, sparse=False, indexing='ij')\n",
    "XX = np.tile(X.flatten(), T) # N x T\n",
    "YY = np.tile(Y.flatten(), T) # N x T\n",
    "TT = np.repeat(t_star[-T:], N) # T x N\n",
    "\n",
    "AA = np.einsum('ijk->kij', data[0, :, :, -T:]).flatten() # N x T\n",
    "SS = np.einsum('ijk->kij', data[1, :, :, -T:]).flatten() # N x T\n",
    "\n",
    "\n",
    "x = XX[:, np.newaxis] # NT x 1\n",
    "y = YY[:, np.newaxis] # NT x 1\n",
    "t = TT[:, np.newaxis] # NT x 1\n",
    "\n",
    "a = AA[:, np.newaxis] # NT x 1\n",
    "s = SS[:, np.newaxis] # NT x 1\n",
    "\n",
    "######################################################################\n",
    "######################## Noiseles Data ###############################\n",
    "######################################################################\n",
    "# Training Data    \n",
    "#idx = np.random.choice(N*T, N_train, replace=False)\n",
    "#idx = np.random.choice(N*T, T*32, replace=False)\n",
    "idx = list(range(N*T))\n",
    "x_train = x[idx,:]\n",
    "y_train = y[idx,:]\n",
    "t_train = t[idx,:]\n",
    "a_train = a[idx,:]\n",
    "s_train = s[idx,:]\n",
    "\n",
    "\n"
   ]
  },
  {
   "cell_type": "code",
   "execution_count": 4,
   "id": "c5262f74",
   "metadata": {
    "ExecuteTime": {
     "end_time": "2022-05-28T13:56:58.687962Z",
     "start_time": "2022-05-28T12:49:44.510640Z"
    },
    "scrolled": true
   },
   "outputs": [
    {
     "name": "stdout",
     "output_type": "stream",
     "text": [
      "It: 0, loss_a  : 657.65838759, loss_s  : 5117.96289638, loss_diffusion  : 0.10440534\n",
      "loss  : 24351.28,\n",
      "D_a: 0.99058419, D_s: 1.08843505\n",
      "sigma_a: 0.08804464, sigma_s: 0.94516540\n",
      "rho_a: 1.10578489, rho_s: 1.08768272\n",
      "mu_a: 0.89638960, kappa_a: 0.89494228, \n",
      "Time:5.20\n",
      "\n",
      "It: 50, loss_a  : 5.30860108, loss_s  : 7.13337966, loss_diffusion  : 0.00008989\n",
      "loss  : 9906.32,\n",
      "D_a: 1.80826950, D_s: 1.67331588\n",
      "sigma_a: 0.07757513, sigma_s: 0.81969476\n",
      "rho_a: 1.09878039, rho_s: 1.19905400\n",
      "mu_a: 0.81861591, kappa_a: 0.85898554, \n",
      "Time:117.53\n",
      "\n",
      "It: 100, loss_a  : 2.96688239, loss_s  : 4.78550524, loss_diffusion  : 0.00017356\n",
      "loss  : 9901.12,\n",
      "D_a: 1.57287252, D_s: 2.97159076\n",
      "sigma_a: 0.02306286, sigma_s: 0.74345428\n",
      "rho_a: 1.09178364, rho_s: 1.14147186\n",
      "mu_a: 0.73098993, kappa_a: 0.95731544, \n",
      "Time:117.49\n",
      "\n",
      "It: 150, loss_a  : 3.17212425, loss_s  : 3.68043874, loss_diffusion  : 0.00018636\n",
      "loss  : 9902.45,\n",
      "D_a: 1.56555498, D_s: 7.98151779\n",
      "sigma_a: 0.00269929, sigma_s: 0.66715026\n",
      "rho_a: 1.06506336, rho_s: 1.08118522\n",
      "mu_a: 0.65991306, kappa_a: 1.06969142, \n",
      "Time:117.58\n",
      "\n",
      "It: 200, loss_a  : 3.09179649, loss_s  : 3.05336373, loss_diffusion  : 0.00024225\n",
      "loss  : 9900.74,\n",
      "D_a: 1.54084849, D_s: 13.83341408\n",
      "sigma_a: 0.00194242, sigma_s: 0.59390414\n",
      "rho_a: 1.01877666, rho_s: 1.01931393\n",
      "mu_a: 0.59942132, kappa_a: 1.18628907, \n",
      "Time:117.56\n",
      "\n",
      "It: 250, loss_a  : 2.44397637, loss_s  : 2.10997313, loss_diffusion  : 0.00026647\n",
      "loss  : 9897.52,\n",
      "D_a: 1.53953683, D_s: 19.83949661\n",
      "sigma_a: 0.00097862, sigma_s: 0.52912807\n",
      "rho_a: 0.96303600, rho_s: 0.95864570\n",
      "mu_a: 0.54099876, kappa_a: 1.29603612, \n",
      "Time:117.57\n",
      "\n",
      "It: 300, loss_a  : 2.23844402, loss_s  : 1.53343576, loss_diffusion  : 0.00025795\n",
      "loss  : 9898.22,\n",
      "D_a: 1.53946877, D_s: 25.78575325\n",
      "sigma_a: 0.00299909, sigma_s: 0.47235838\n",
      "rho_a: 0.89195210, rho_s: 0.88981837\n",
      "mu_a: 0.47688428, kappa_a: 1.40178382, \n",
      "Time:117.61\n",
      "\n",
      "It: 350, loss_a  : 1.41221149, loss_s  : 1.07671032, loss_diffusion  : 0.00029070\n",
      "loss  : 9893.83,\n",
      "D_a: 1.53347540, D_s: 31.68459129\n",
      "sigma_a: 0.00114490, sigma_s: 0.41579127\n",
      "rho_a: 0.80465519, rho_s: 0.82372206\n",
      "mu_a: 0.41137046, kappa_a: 1.50233674, \n",
      "Time:117.45\n",
      "\n",
      "It: 400, loss_a  : 1.08117039, loss_s  : 0.67836926, loss_diffusion  : 0.00027357\n",
      "loss  : 9891.98,\n",
      "D_a: 1.53041303, D_s: 37.68648911\n",
      "sigma_a: 0.00046096, sigma_s: 0.36830112\n",
      "rho_a: 0.69782716, rho_s: 0.75501114\n",
      "mu_a: 0.34178409, kappa_a: 1.60059106, \n",
      "Time:117.46\n",
      "\n",
      "It: 450, loss_a  : 0.71139672, loss_s  : 0.44070337, loss_diffusion  : 0.00022434\n",
      "loss  : 9891.36,\n",
      "D_a: 1.55456662, D_s: 43.64945984\n",
      "sigma_a: 0.00033221, sigma_s: 0.32459912\n",
      "rho_a: 0.57039547, rho_s: 0.68959576\n",
      "mu_a: 0.26944783, kappa_a: 1.70311213, \n",
      "Time:117.69\n",
      "\n",
      "It: 500, loss_a  : 0.48136417, loss_s  : 0.39639563, loss_diffusion  : 0.00013533\n",
      "loss  : 9892.03,\n",
      "D_a: 1.60566831, D_s: 48.98002625\n",
      "sigma_a: 0.00047853, sigma_s: 0.28527573\n",
      "rho_a: 0.43010771, rho_s: 0.62960309\n",
      "mu_a: 0.19467093, kappa_a: 1.81527305, \n",
      "Time:117.40\n",
      "\n",
      "It: 550, loss_a  : 0.21403364, loss_s  : 0.39869536, loss_diffusion  : 0.00000000\n",
      "loss  : 9886.86,\n",
      "D_a: 3.03249526, D_s: 52.24431610\n",
      "sigma_a: 0.00080096, sigma_s: 0.25065276\n",
      "rho_a: 0.28478321, rho_s: 0.57913911\n",
      "mu_a: 0.12451193, kappa_a: 1.92555594, \n",
      "Time:117.19\n",
      "\n",
      "It: 600, loss_a  : 21.25572069, loss_s  : 11.15468234, loss_diffusion  : 8.41179952\n",
      "loss  : 9343.02,\n",
      "D_a: 0.50250477, D_s: 44.24584961\n",
      "sigma_a: 0.00000000, sigma_s: 0.23621245\n",
      "rho_a: 0.00000000, rho_s: 0.54382873\n",
      "mu_a: 0.00064069, kappa_a: 1.92422485, \n",
      "Time:117.22\n",
      "\n",
      "It: 650, loss_a  : 33.69187145, loss_s  : 14.88873553, loss_diffusion  : 15.14354013\n",
      "loss  : 8720.56,\n",
      "D_a: 0.44620323, D_s: 38.60893250\n",
      "sigma_a: 0.00000000, sigma_s: 0.25430426\n",
      "rho_a: 0.00820583, rho_s: 0.54414207\n",
      "mu_a: 0.00000000, kappa_a: 1.74132264, \n",
      "Time:117.41\n",
      "\n",
      "It: 700, loss_a  : 90.59323913, loss_s  : 44.79410963, loss_diffusion  : 59.44170403\n",
      "loss  : 4425.39,\n",
      "D_a: 0.30954760, D_s: 31.58405495\n",
      "sigma_a: 0.00000000, sigma_s: 0.17261769\n",
      "rho_a: 0.02553041, rho_s: 0.33895367\n",
      "mu_a: 0.00000000, kappa_a: 1.50066602, \n",
      "Time:117.47\n",
      "\n",
      "It: 750, loss_a  : 46.21646729, loss_s  : 74.00181302, loss_diffusion  : 27.69776154\n",
      "loss  : 1099.14,\n",
      "D_a: 0.38545662, D_s: 24.69533157\n",
      "sigma_a: 0.00000000, sigma_s: 0.26255813\n",
      "rho_a: 0.49306515, rho_s: 0.26604211\n",
      "mu_a: 0.46603331, kappa_a: 0.34603658, \n",
      "Time:117.46\n",
      "\n",
      "It: 800, loss_a  : 30.03669213, loss_s  : 108.40501261, loss_diffusion  : 13.86705200\n",
      "loss  : 455.17,\n",
      "D_a: 0.45301738, D_s: 17.71413994\n",
      "sigma_a: 0.00000000, sigma_s: 0.88057548\n",
      "rho_a: 0.60835600, rho_s: 0.85985374\n",
      "mu_a: 0.61245990, kappa_a: 0.26618746, \n",
      "Time:117.57\n",
      "\n",
      "It: 850, loss_a  : 26.60788696, loss_s  : 64.93926936, loss_diffusion  : 12.05671512\n",
      "loss  : 215.99,\n",
      "D_a: 0.47007930, D_s: 13.08679390\n",
      "sigma_a: 0.00000000, sigma_s: 1.02993250\n",
      "rho_a: 0.64673018, rho_s: 0.98415875\n",
      "mu_a: 0.66795886, kappa_a: 0.22537708, \n",
      "Time:117.51\n",
      "\n",
      "It: 900, loss_a  : 24.69973361, loss_s  : 36.89480737, loss_diffusion  : 10.90441157\n",
      "loss  : 145.65,\n",
      "D_a: 0.47612256, D_s: 10.16456509\n",
      "sigma_a: 0.00000000, sigma_s: 0.88327068\n",
      "rho_a: 0.68091303, rho_s: 0.84133786\n",
      "mu_a: 0.70761007, kappa_a: 0.21750750, \n",
      "Time:117.35\n",
      "\n",
      "It: 950, loss_a  : 22.76310784, loss_s  : 24.64181092, loss_diffusion  : 9.75714286\n",
      "loss  : 120.16,\n",
      "D_a: 0.48739645, D_s: 7.75402069\n",
      "sigma_a: 0.00000000, sigma_s: 0.69453007\n",
      "rho_a: 0.70836788, rho_s: 0.65981030\n",
      "mu_a: 0.73822325, kappa_a: 0.21366698, \n",
      "Time:117.45\n",
      "\n",
      "It: 1000, loss_a  : 19.78852604, loss_s  : 12.64887492, loss_diffusion  : 8.50540064\n",
      "loss  : 84.84,\n",
      "D_a: 0.50503385, D_s: 5.29788780\n",
      "sigma_a: 0.00000000, sigma_s: 0.48256922\n",
      "rho_a: 0.74160624, rho_s: 0.45812082\n",
      "mu_a: 0.77343583, kappa_a: 0.21148880, \n",
      "Time:117.28\n",
      "\n",
      "It: 1050, loss_a  : 16.57156830, loss_s  : 4.51732687, loss_diffusion  : 7.03303871\n",
      "loss  : 66.82,\n",
      "D_a: 0.51977468, D_s: 2.27275872\n",
      "sigma_a: 0.00000000, sigma_s: 0.21029669\n",
      "rho_a: 0.78895712, rho_s: 0.20011054\n",
      "mu_a: 0.82336134, kappa_a: 0.21260253, \n",
      "Time:117.33\n",
      "\n",
      "It: 1100, loss_a  : 12.46059561, loss_s  : 1.32249816, loss_diffusion  : 6.03045311\n",
      "loss  : 44.43,\n",
      "D_a: 0.54152256, D_s: 0.82819051\n",
      "sigma_a: 0.00000000, sigma_s: 0.07689022\n",
      "rho_a: 0.86238766, rho_s: 0.07398289\n",
      "mu_a: 0.89245278, kappa_a: 0.21967728, \n",
      "Time:117.44\n",
      "\n",
      "It: 1150, loss_a  : 10.29504160, loss_s  : 1.69319657, loss_diffusion  : 5.00814002\n",
      "loss  : 37.86,\n",
      "D_a: 0.56341749, D_s: 0.80010098\n",
      "sigma_a: 0.00000000, sigma_s: 0.07434496\n",
      "rho_a: 0.94023478, rho_s: 0.07301386\n",
      "mu_a: 0.96381754, kappa_a: 0.22890772, \n",
      "Time:117.63\n",
      "\n",
      "It: 1200, loss_a  : 8.59237932, loss_s  : 1.88528300, loss_diffusion  : 4.17947606\n",
      "loss  : 31.64,\n",
      "D_a: 0.58389276, D_s: 0.78797621\n",
      "sigma_a: 0.00000000, sigma_s: 0.07415630\n",
      "rho_a: 1.00870609, rho_s: 0.07260094\n",
      "mu_a: 1.02684641, kappa_a: 0.23508953, \n",
      "Time:117.45\n",
      "\n",
      "It: 1250, loss_a  : 7.29364046, loss_s  : 1.93881748, loss_diffusion  : 3.61935440\n",
      "loss  : 26.92,\n",
      "D_a: 0.60385358, D_s: 0.78661138\n",
      "sigma_a: 0.00000000, sigma_s: 0.07362794\n",
      "rho_a: 1.06284213, rho_s: 0.07261828\n",
      "mu_a: 1.07619011, kappa_a: 0.23973562, \n",
      "Time:117.34\n",
      "\n",
      "It: 1300, loss_a  : 7.09843263, loss_s  : 1.91513807, loss_diffusion  : 3.13247300\n",
      "loss  : 31.11,\n",
      "D_a: 0.61874151, D_s: 0.79041255\n",
      "sigma_a: 0.00000000, sigma_s: 0.07339477\n",
      "rho_a: 1.10747671, rho_s: 0.07241357\n",
      "mu_a: 1.11720932, kappa_a: 0.24217044, \n",
      "Time:117.52\n",
      "\n",
      "It: 1350, loss_a  : 5.52551810, loss_s  : 1.78271719, loss_diffusion  : 2.72141869\n",
      "loss  : 18.94,\n",
      "D_a: 0.63442165, D_s: 0.79352546\n",
      "sigma_a: 0.00000000, sigma_s: 0.07562797\n",
      "rho_a: 1.14571667, rho_s: 0.07408704\n",
      "mu_a: 1.15302563, kappa_a: 0.24384977, \n",
      "Time:117.72\n",
      "\n",
      "It: 1400, loss_a  : 5.50997181, loss_s  : 1.72458983, loss_diffusion  : 2.45548070\n",
      "loss  : 22.39,\n",
      "D_a: 0.64368039, D_s: 0.80084074\n",
      "sigma_a: 0.00000000, sigma_s: 0.07496694\n",
      "rho_a: 1.17619371, rho_s: 0.07451501\n",
      "mu_a: 1.18273556, kappa_a: 0.24557644, \n",
      "Time:117.41\n",
      "\n",
      "It: 1450, loss_a  : 4.56789692, loss_s  : 1.61410119, loss_diffusion  : 2.18617599\n",
      "loss  : 17.26,\n",
      "D_a: 0.65696800, D_s: 0.80586690\n",
      "sigma_a: 0.00000000, sigma_s: 0.07646063\n",
      "rho_a: 1.20528758, rho_s: 0.07541443\n",
      "mu_a: 1.21050882, kappa_a: 0.24604842, \n",
      "Time:117.39\n",
      "\n",
      "It: 1500, loss_a  : 4.24913380, loss_s  : 1.52592086, loss_diffusion  : 1.97441877\n",
      "loss  : 15.33,\n",
      "D_a: 0.66828930, D_s: 0.81393838\n",
      "sigma_a: 0.00000000, sigma_s: 0.07730927\n",
      "rho_a: 1.23019683, rho_s: 0.07591915\n",
      "mu_a: 1.23447502, kappa_a: 0.24659303, \n",
      "Time:117.46\n",
      "\n",
      "It: 1550, loss_a  : 3.55511556, loss_s  : 1.43422406, loss_diffusion  : 1.81044538\n",
      "loss  : 13.03,\n",
      "D_a: 0.67749435, D_s: 0.82063264\n",
      "sigma_a: 0.00000000, sigma_s: 0.07717304\n",
      "rho_a: 1.25205791, rho_s: 0.07681893\n",
      "mu_a: 1.25597560, kappa_a: 0.24719717, \n",
      "Time:117.23\n",
      "\n"
     ]
    },
    {
     "name": "stdout",
     "output_type": "stream",
     "text": [
      "It: 1600, loss_a  : 3.29339383, loss_s  : 1.35741924, loss_diffusion  : 1.66771382\n",
      "loss  : 12.34,\n",
      "D_a: 0.68542469, D_s: 0.82723945\n",
      "sigma_a: 0.00000000, sigma_s: 0.07756399\n",
      "rho_a: 1.26990271, rho_s: 0.07738395\n",
      "mu_a: 1.27398467, kappa_a: 0.24772537, \n",
      "Time:117.36\n",
      "\n",
      "It: 1650, loss_a  : 4.32800788, loss_s  : 1.31239650, loss_diffusion  : 1.54654089\n",
      "loss  : 18.10,\n",
      "D_a: 0.69357091, D_s: 0.83073056\n",
      "sigma_a: 0.00003338, sigma_s: 0.07773911\n",
      "rho_a: 1.28743148, rho_s: 0.07786056\n",
      "mu_a: 1.29029262, kappa_a: 0.24833725, \n",
      "Time:117.59\n",
      "\n",
      "It: 1700, loss_a  : 3.55953157, loss_s  : 1.22950955, loss_diffusion  : 1.45262036\n",
      "loss  : 13.33,\n",
      "D_a: 0.70013833, D_s: 0.83674574\n",
      "sigma_a: 0.00000000, sigma_s: 0.07862909\n",
      "rho_a: 1.30249965, rho_s: 0.07879712\n",
      "mu_a: 1.30583251, kappa_a: 0.24813293, \n",
      "Time:117.46\n",
      "\n",
      "##################################################\n",
      "         Early stop\n",
      "##################################################\n",
      "It: 1711, loss_a  : 2.84427094, loss_s  : 1.20352902, loss_diffusion  : 1.42491418\n",
      "loss  : 9.92,\n",
      "D_a: 0.70243835, D_s: 0.84104031\n",
      "sigma_a: 0.00000000, sigma_s: 0.07856113\n",
      "rho_a: 1.30607688, rho_s: 0.07871228\n",
      "mu_a: 1.30879998, kappa_a: 0.24789673, \n",
      "Time:25.91\n",
      "\n"
     ]
    }
   ],
   "source": [
    "# Training\n",
    "model = PhysicsInformedNN(x_train, y_train, t_train, a_train, s_train, layers)\n",
    "loss, loss_a, loss_s, loss_diffusion, params_estimates = \\\n",
    "model.train_batch(10000, batch_size=N*T//128, early_stop_thresh=10.0, print_iter=50)"
   ]
  },
  {
   "cell_type": "code",
   "execution_count": null,
   "id": "ec834524",
   "metadata": {},
   "outputs": [],
   "source": [
    "model.minimise(max_iter=100)  "
   ]
  },
  {
   "cell_type": "code",
   "execution_count": 5,
   "id": "55d6ab15",
   "metadata": {
    "ExecuteTime": {
     "end_time": "2022-05-28T20:47:01.924253Z",
     "start_time": "2022-05-28T20:47:00.068039Z"
    }
   },
   "outputs": [
    {
     "data": {
      "image/png": "[encoded data removed]",
      "text/plain": [
       "<Figure size 1152x576 with 4 Axes>"
      ]
     },
     "metadata": {
      "needs_background": "light"
     },
     "output_type": "display_data"
    }
   ],
   "source": [
    "start = 0\n",
    "end = len(loss)\n",
    "_ = plt.figure(figsize=(16,8))\n",
    "plt.subplot(2,2,1)\n",
    "plt.plot(loss[start:end])\n",
    "plt.yscale('log')\n",
    "plt.title(r\"Total loss\")\n",
    "plt.grid()\n",
    "\n",
    "plt.subplot(2,2,2)\n",
    "plt.plot(loss_a[start:end])\n",
    "plt.yscale('log')\n",
    "plt.title(r\"$a$ PDE residual\")\n",
    "plt.grid()\n",
    "\n",
    "\n",
    "plt.subplot(2,2,3)\n",
    "plt.plot(loss_s[start:end])\n",
    "plt.yscale('log')\n",
    "plt.title(r\"$s$ PDE residual\")\n",
    "plt.grid()\n",
    "\n",
    "plt.subplot(2,2,4)\n",
    "plt.plot(loss_diffusion[start:end])\n",
    "plt.yscale('log')\n",
    "plt.title(r\"Difussion Regularisation\")\n",
    "plt.grid()\n",
    "\n",
    "plt.show()\n",
    "\n"
   ]
  },
  {
   "cell_type": "code",
   "execution_count": 6,
   "id": "55797895",
   "metadata": {
    "ExecuteTime": {
     "end_time": "2022-05-28T20:47:19.483495Z",
     "start_time": "2022-05-28T20:47:18.244312Z"
    }
   },
   "outputs": [
    {
     "data": {
      "image/png": "[encoded data removed]",
      "text/plain": [
       "<Figure size 1008x1008 with 8 Axes>"
      ]
     },
     "metadata": {
      "needs_background": "light"
     },
     "output_type": "display_data"
    }
   ],
   "source": [
    "start = 0\n",
    "end = -1\n",
    "_ = plt.figure(figsize=(14,14))\n",
    "\n",
    "plt.subplot(4,3,1)\n",
    "plt.plot(np.r_[params_estimates['D_a']])\n",
    "plt.title(r\"$D_a$\", fontsize=16)\n",
    "#plt.yscale('log')\n",
    "plt.grid()\n",
    "\n",
    "plt.subplot(4,3,2)\n",
    "plt.plot(np.r_[params_estimates['D_s']])\n",
    "plt.title(r\"$D_s$\", fontsize=16)\n",
    "#plt.yscale('log')\n",
    "plt.grid()\n",
    "\n",
    "\n",
    "plt.subplot(4,3,3)\n",
    "plt.plot(np.r_[params_estimates['sigma_a']])\n",
    "plt.title(r\"$\\sigma_a$\", fontsize=16)\n",
    "#plt.yscale('log')\n",
    "plt.grid()\n",
    "\n",
    "plt.subplot(4,3,4)\n",
    "plt.plot(np.r_[params_estimates['sigma_s']])\n",
    "plt.title(r\"$\\sigma_s$\", fontsize=16)\n",
    "#plt.yscale('log')\n",
    "#plt.ylim([0.005,.04])\n",
    "plt.grid()\n",
    "\n",
    "plt.subplot(4,3,5)\n",
    "plt.plot(np.r_[params_estimates['rho_a']])\n",
    "plt.title(r\"$\\rho_a$\", fontsize=16)\n",
    "#plt.yscale('log')\n",
    "plt.grid()\n",
    "\n",
    "\n",
    "plt.subplot(4,3,6)\n",
    "plt.plot(np.r_[params_estimates['rho_s']])\n",
    "plt.title(r\"$\\rho_s$\", fontsize=16)\n",
    "#plt.yscale('log')\n",
    "#plt.ylim([0.0,.05])\n",
    "plt.grid()\n",
    "\n",
    "\n",
    "plt.subplot(4,3,7)\n",
    "plt.plot(np.r_[params_estimates['mu_a']])\n",
    "plt.title(r\"$\\mu_a$\", fontsize=16)\n",
    "#plt.yscale('log')\n",
    "plt.grid()\n",
    "\n",
    "plt.subplot(4,3,8)\n",
    "plt.plot(np.r_[params_estimates['kappa_a']])\n",
    "plt.title(r\"$\\kappa_a$\", fontsize=16)\n",
    "#plt.yscale('log')\n",
    "#plt.ylim([0,1])\n",
    "plt.grid()\n",
    "\n",
    "plt.show()"
   ]
  },
  {
   "cell_type": "code",
   "execution_count": 8,
   "id": "c439543d",
   "metadata": {
    "ExecuteTime": {
     "end_time": "2022-05-28T20:47:53.382123Z",
     "start_time": "2022-05-28T20:47:53.347926Z"
    }
   },
   "outputs": [
    {
     "name": "stdout",
     "output_type": "stream",
     "text": [
      "D_s: 0.84104031, actual: 0.200, difference: 0.64104031, relative: %320.52015662\n",
      "sigma_s: 0.07856113, actual: 0.020, difference: 0.05856113, relative: %292.80563593\n",
      "rho_s: 0.07871228, actual: 0.020, difference: 0.05871228, relative: %293.56138557\n",
      "\n",
      "D_a: 0.70243835, actual: 0.005, difference: 0.69743835, relative: %13948.76708984\n",
      "sigma_a: 0.00000000, actual: 0.000, difference: 0.00000000 \n",
      "rho_a: 1.30607688, actual: 0.010, difference: 1.29607688, relative: %12960.76884270\n",
      "mu_a: 1.30879998, actual: 0.010, difference: 1.29879998, relative: %12987.99982071\n",
      "kappa_a: 0.24789673, actual: 0.250, difference: 0.00210327, relative: %0.84130764\n"
     ]
    }
   ],
   "source": [
    "def print_vals(name, value, actual=None):\n",
    "    def _get_val(item):\n",
    "        val = item.tolist()\n",
    "        if type(val) is float:\n",
    "            return val\n",
    "        else:\n",
    "            return val[0]\n",
    "    value = _get_val(value)\n",
    "    \n",
    "    if actual is not None and actual > 0:\n",
    "        print(f\"{name}: {value:0.8f}, actual: {actual:.3f}, \"\n",
    "              f\"difference: {np.abs(actual-value):0.8f}, \"\n",
    "              f\"relative: %{100*np.abs(actual-value)/(actual):0.8f}\")\n",
    "    elif actual is not None and actual == 0:\n",
    "        print(f\"{name}: {value:0.8f}, actual: {actual:.3f}, \"\n",
    "              f\"difference: {np.abs(actual-value):0.8f} \")\n",
    "        \n",
    "    else:\n",
    "        print(f\"{name}: {value:0.8f}\")\n",
    "    \n",
    "\n",
    "D_a = model.sess.run(model.D_a)\n",
    "D_s = model.sess.run(model.D_s)\n",
    "sigma_s = model.sess.run(model.sigma_s)\n",
    "rho_s = model.sess.run(model.rho_s)\n",
    "\n",
    "sigma_a = model.sess.run(model.sigma_a)\n",
    "rho_a = model.sess.run(model.rho_a)\n",
    "mu_a = model.sess.run(model.mu_a)\n",
    "kappa_a = model.sess.run(model.kappa_a)\n",
    "\n",
    "\n",
    "print_vals(\"D_s\", D_s, 0.2)\n",
    "print_vals(\"sigma_s\", sigma_s, 0.02)\n",
    "print_vals(\"rho_s\", rho_s, 0.02)\n",
    "print()\n",
    "print_vals(\"D_a\", D_a, 0.005)\n",
    "print_vals(\"sigma_a\", sigma_a, 0.0)\n",
    "print_vals(\"rho_a\", rho_a,0.01)\n",
    "print_vals(\"mu_a\", mu_a, 0.01 )\n",
    "print_vals(\"kappa_a\", kappa_a, 0.25)"
   ]
  },
  {
   "cell_type": "code",
   "execution_count": null,
   "id": "d8872d58",
   "metadata": {},
   "outputs": [],
   "source": []
  },
  {
   "cell_type": "code",
   "execution_count": null,
   "id": "3d354e54",
   "metadata": {},
   "outputs": [],
   "source": []
  },
  {
   "cell_type": "code",
   "execution_count": null,
   "id": "ca50124e",
   "metadata": {},
   "outputs": [],
   "source": []
  },
  {
   "cell_type": "markdown",
   "id": "5638b393",
   "metadata": {},
   "source": [
    "# Estimated parameters"
   ]
  },
  {
   "cell_type": "code",
   "execution_count": 133,
   "id": "2a4bf7ac",
   "metadata": {
    "ExecuteTime": {
     "end_time": "2022-05-11T14:00:01.135773Z",
     "start_time": "2022-05-11T14:00:01.126464Z"
    }
   },
   "outputs": [],
   "source": [
    "x_2 = L*np.linspace(0,1,x_size)\n",
    "y_2 = L*np.linspace(0,1,y_size)\n",
    "\n",
    "X_2,Y_2 = np.meshgrid(x_2, y_2, sparse=False, indexing='ij')\n",
    "#XX_2 = X_2.flatten()# N \n",
    "#YY_2 = Y_2.flatten()# N \n",
    "T_2 = T#1#T\n",
    "XX_2 = np.tile(X_2.flatten(), T_2) # N x T\n",
    "YY_2 = np.tile(Y_2.flatten(), T_2) # N x T\n",
    "\n",
    "#index = -3\n",
    "t_test = t_star[-T:]#[50000]#t_star[-T:]#t_star[index]#0#5000000\n",
    "\n",
    "TT_2 = np.repeat(t_test, N) # T x N\n",
    "\n",
    "#TT_2 = np.array([t_test]*N) # N\n",
    "\n",
    "x_2 = XX_2[:, np.newaxis] # N x 1\n",
    "y_2 = YY_2[:, np.newaxis] # N x 1\n",
    "t_2 = TT_2[:, np.newaxis] # N x 1"
   ]
  },
  {
   "cell_type": "code",
   "execution_count": 134,
   "id": "538067f3",
   "metadata": {
    "ExecuteTime": {
     "end_time": "2022-05-11T14:00:01.929751Z",
     "start_time": "2022-05-11T14:00:01.921647Z"
    }
   },
   "outputs": [
    {
     "data": {
      "text/plain": [
       "(32768, 1)"
      ]
     },
     "execution_count": 134,
     "metadata": {},
     "output_type": "execute_result"
    }
   ],
   "source": [
    "t_2.shape"
   ]
  },
  {
   "cell_type": "code",
   "execution_count": 135,
   "id": "11103de3",
   "metadata": {
    "ExecuteTime": {
     "end_time": "2022-05-11T14:00:02.541789Z",
     "start_time": "2022-05-11T14:00:02.532300Z"
    }
   },
   "outputs": [
    {
     "data": {
      "text/plain": [
       "array([46966.73189824, 47064.57925636, 47162.42661448, 47260.2739726 ,\n",
       "       47358.12133072, 47455.96868885, 47553.81604697, 47651.66340509,\n",
       "       47749.51076321, 47847.35812133, 47945.20547945, 48043.05283757,\n",
       "       48140.90019569, 48238.74755382, 48336.59491194, 48434.44227006,\n",
       "       48532.28962818, 48630.1369863 , 48727.98434442, 48825.83170254,\n",
       "       48923.67906067, 49021.52641879, 49119.37377691, 49217.22113503,\n",
       "       49315.06849315, 49412.91585127, 49510.76320939, 49608.61056751,\n",
       "       49706.45792564, 49804.30528376, 49902.15264188, 50000.        ])"
      ]
     },
     "execution_count": 135,
     "metadata": {},
     "output_type": "execute_result"
    }
   ],
   "source": [
    "t_test"
   ]
  },
  {
   "cell_type": "code",
   "execution_count": 136,
   "id": "2507be96",
   "metadata": {
    "ExecuteTime": {
     "end_time": "2022-05-11T14:00:03.667671Z",
     "start_time": "2022-05-11T14:00:03.272896Z"
    }
   },
   "outputs": [
    {
     "name": "stdout",
     "output_type": "stream",
     "text": [
      "Loss_a : 0.00000040\n",
      "Loss_s : 0.00000159\n",
      "Loss   : 9.95555687\n",
      "Loss Diff  : 9.95555496\n"
     ]
    }
   ],
   "source": [
    "a_2, s_2 = model.predict(x_2, y_2, t_2)\n",
    "#a_2, s_2 = model.predict(x, y, t)\n",
    "#a_2 = a_2.reshape((x_size,y_size))\n",
    "#s_2 = s_2.reshape((x_size,y_size))\n",
    "#c = np.stack((a_2, s_2), axis=0)\n",
    "#c = c[:, np.newaxis]\n",
    "#a_2_interp, s_2_interp = rdsolver.viz.interpolate_concs(c)\n",
    "tf_dict = {model.x_tf: x_2, model.y_tf: y_2, model.t_tf: t_2, \n",
    "           model.a_tf:a_train,\n",
    "           model.s_tf:s_train}\n",
    "l_a_2 = model.sess.run(model.loss_a, tf_dict)\n",
    "l_s_2 = model.sess.run(model.loss_s, tf_dict)\n",
    "l_2 = model.sess.run(model.loss, tf_dict)\n",
    "\n",
    "print( f\"Loss_a : {l_a_2:.8f}\")\n",
    "print( f\"Loss_s : {l_s_2:.8f}\")\n",
    "print( f\"Loss   : {l_2:.8f}\")\n",
    "print( f\"Loss Diff  : {l_2-l_a_2-l_s_2:.8f}\")"
   ]
  },
  {
   "cell_type": "code",
   "execution_count": 137,
   "id": "e0305113",
   "metadata": {
    "ExecuteTime": {
     "end_time": "2022-05-11T14:00:04.926641Z",
     "start_time": "2022-05-11T14:00:04.911369Z"
    }
   },
   "outputs": [
    {
     "name": "stdout",
     "output_type": "stream",
     "text": [
      "8.502239075754737\n",
      "1.4533152356548327\n",
      "9.95555431140957\n"
     ]
    }
   ],
   "source": [
    "print(np.sum(np.power(a_2 - a_train,2)))\n",
    "print(np.sum(np.power(s_2 - s_train,2)))\n",
    "print(np.sum(np.power(a_2 - a_train,2)) +\n",
    "      np.sum(np.power(s_2 - s_train,2)))"
   ]
  },
  {
   "cell_type": "code",
   "execution_count": 138,
   "id": "d2bdd2ae",
   "metadata": {
    "ExecuteTime": {
     "end_time": "2022-05-11T14:00:06.504627Z",
     "start_time": "2022-05-11T14:00:06.074860Z"
    }
   },
   "outputs": [
    {
     "data": {
      "image/png": "[encoded data removed]",
      "text/plain": [
       "<Figure size 432x288 with 2 Axes>"
      ]
     },
     "metadata": {
      "needs_background": "light"
     },
     "output_type": "display_data"
    },
    {
     "data": {
      "image/png": "[encoded data removed]",
      "text/plain": [
       "<Figure size 432x288 with 2 Axes>"
      ]
     },
     "metadata": {
      "needs_background": "light"
     },
     "output_type": "display_data"
    }
   ],
   "source": [
    "start = 0\n",
    "plt.subplot(131)\n",
    "plt.imshow(a_2[(start*N):((start+1)*N), :].reshape((x_size,y_size)))\n",
    "plt.subplot(132)\n",
    "plt.imshow(s_2[(start*N):((start+1)*N), :].reshape((x_size,y_size)))\n",
    "plt.show()\n",
    "\n",
    "plt.subplot(131)\n",
    "plt.imshow(data[0, :, :, -1].reshape((x_size,y_size)))\n",
    "plt.subplot(132)\n",
    "plt.imshow(data[1, :, :, -1].reshape((x_size,y_size)))\n",
    "plt.show()\n",
    "\n"
   ]
  },
  {
   "cell_type": "code",
   "execution_count": 59,
   "id": "4a541550",
   "metadata": {
    "ExecuteTime": {
     "end_time": "2022-05-10T19:41:03.636245Z",
     "start_time": "2022-05-10T19:41:03.628403Z"
    }
   },
   "outputs": [
    {
     "data": {
      "text/plain": [
       "32"
      ]
     },
     "execution_count": 59,
     "metadata": {},
     "output_type": "execute_result"
    }
   ],
   "source": [
    "T"
   ]
  },
  {
   "cell_type": "code",
   "execution_count": 96,
   "id": "64bdc1d2",
   "metadata": {
    "ExecuteTime": {
     "end_time": "2022-05-10T19:43:05.829888Z",
     "start_time": "2022-05-10T19:43:05.815344Z"
    }
   },
   "outputs": [],
   "source": [
    "x_2 = L*np.linspace(0,1,x_size)\n",
    "y_2 = L*np.linspace(0,1,y_size)\n",
    "\n",
    "X_2,Y_2 = np.meshgrid(x_2, y_2, sparse=False, indexing='ij')\n",
    "XX_2 = X_2.flatten()# N \n",
    "YY_2 = Y_2.flatten()# N \n",
    "\n",
    "index = 500#-1\n",
    "t_test = 25000#t_star[index]#0#5000000\n",
    "\n",
    "\n",
    "TT_2 = np.array([t_test]*N) # N\n",
    "\n",
    "x_2 = XX_2[:, np.newaxis] # N x 1\n",
    "y_2 = YY_2[:, np.newaxis] # N x 1\n",
    "t_2 = TT_2[:, np.newaxis] # N x 1"
   ]
  },
  {
   "cell_type": "code",
   "execution_count": 97,
   "id": "1b9dd184",
   "metadata": {
    "ExecuteTime": {
     "end_time": "2022-05-10T19:43:06.467887Z",
     "start_time": "2022-05-10T19:43:06.409944Z"
    }
   },
   "outputs": [
    {
     "name": "stdout",
     "output_type": "stream",
     "text": [
      "Loss_a : 0.00000008\n",
      "Loss_s : 0.00005015\n",
      "Loss   : 48.38435745\n"
     ]
    }
   ],
   "source": [
    "a_2, s_2 = model.predict(x_2, y_2, t_2)\n",
    "#a_2, s_2 = model.predict(x, y, t)\n",
    "a_2 = a_2.reshape((x_size,y_size))\n",
    "s_2 = s_2.reshape((x_size,y_size))\n",
    "#c = np.stack((a_2, s_2), axis=0)\n",
    "#c = c[:, np.newaxis]\n",
    "#a_2_interp, s_2_interp = rdsolver.viz.interpolate_concs(c)\n",
    "tf_dict = {model.x_tf: x_2, model.y_tf: y_2, model.t_tf: t_2, \n",
    "           model.a_tf:data[0, :, :, index].flatten()[:, np.newaxis],\n",
    "           model.s_tf:data[1, :, :, index].flatten()[:, np.newaxis]}\n",
    "print( f\"Loss_a : {model.sess.run(model.loss_a, tf_dict):.8f}\")\n",
    "print( f\"Loss_s : {model.sess.run(model.loss_s, tf_dict):.8f}\")\n",
    "print( f\"Loss   : {model.sess.run(model.loss, tf_dict):.8f}\")"
   ]
  },
  {
   "cell_type": "code",
   "execution_count": 98,
   "id": "bf413703",
   "metadata": {
    "ExecuteTime": {
     "end_time": "2022-05-10T19:43:07.291280Z",
     "start_time": "2022-05-10T19:43:07.281031Z"
    }
   },
   "outputs": [
    {
     "name": "stdout",
     "output_type": "stream",
     "text": [
      "44.568421832960176\n",
      "3.815885208497169\n"
     ]
    }
   ],
   "source": [
    "print(np.sum(np.power(a_2 - data[0, :, :, index],2)))\n",
    "print(np.sum(np.power(s_2 - data[1, :, :, index],2)))"
   ]
  },
  {
   "cell_type": "code",
   "execution_count": 99,
   "id": "730d7b10",
   "metadata": {
    "ExecuteTime": {
     "end_time": "2022-05-10T19:43:08.760771Z",
     "start_time": "2022-05-10T19:43:08.309490Z"
    }
   },
   "outputs": [
    {
     "data": {
      "image/png": "[encoded data removed]",
      "text/plain": [
       "<Figure size 432x288 with 2 Axes>"
      ]
     },
     "metadata": {
      "needs_background": "light"
     },
     "output_type": "display_data"
    },
    {
     "data": {
      "image/png": "[encoded data removed]",
      "text/plain": [
       "<Figure size 432x288 with 2 Axes>"
      ]
     },
     "metadata": {
      "needs_background": "light"
     },
     "output_type": "display_data"
    }
   ],
   "source": [
    "\n",
    "plt.subplot(131)\n",
    "plt.imshow(a_2)\n",
    "plt.subplot(132)\n",
    "plt.imshow(s_2)\n",
    "plt.show()\n",
    "\n",
    "plt.subplot(131)\n",
    "plt.imshow(data[0, :, :, index].reshape((x_size,y_size)))\n",
    "plt.subplot(132)\n",
    "plt.imshow(data[1, :, :, index].reshape((x_size,y_size)))\n",
    "plt.show()"
   ]
  },
  {
   "cell_type": "code",
   "execution_count": null,
   "id": "af1de726",
   "metadata": {},
   "outputs": [],
   "source": []
  },
  {
   "cell_type": "code",
   "execution_count": 363,
   "id": "64598937",
   "metadata": {
    "ExecuteTime": {
     "end_time": "2022-05-02T19:55:48.346845Z",
     "start_time": "2022-05-02T19:55:19.903755Z"
    }
   },
   "outputs": [
    {
     "data": {
      "text/plain": [
       "'./PINN_Turring_model_loss_full_32_steps-0'"
      ]
     },
     "execution_count": 363,
     "metadata": {},
     "output_type": "execute_result"
    }
   ],
   "source": [
    "saver = tf.train.Saver()\n",
    "saver.save(model.sess, './PINN_Turring_model_loss_full_32_steps', global_step=0)"
   ]
  },
  {
   "cell_type": "code",
   "execution_count": 364,
   "id": "e075d41a",
   "metadata": {
    "ExecuteTime": {
     "end_time": "2022-05-02T19:55:48.488424Z",
     "start_time": "2022-05-02T19:55:48.479688Z"
    }
   },
   "outputs": [
    {
     "name": "stdout",
     "output_type": "stream",
     "text": [
      "x_tf_19:0\n",
      "y_tf_19:0\n",
      "t_tf_19:0\n",
      "a_pred_19:0\n",
      "s_pred_19:0\n",
      "add_253:0\n",
      "loss_a_19:0\n",
      "loss_s_19:0\n"
     ]
    }
   ],
   "source": [
    "print(model.x_tf.name)\n",
    "print(model.y_tf.name)\n",
    "print(model.t_tf.name)\n",
    "print(model.a_pred.name)\n",
    "print(model.s_pred.name)\n",
    "print(model.loss_1.name)\n",
    "print(model.loss_a.name)\n",
    "print(model.loss_s.name)"
   ]
  },
  {
   "cell_type": "code",
   "execution_count": null,
   "id": "8d5ee7e0",
   "metadata": {},
   "outputs": [],
   "source": []
  },
  {
   "cell_type": "code",
   "execution_count": null,
   "id": "19bcc373",
   "metadata": {},
   "outputs": [],
   "source": []
  }
 ],
 "metadata": {
  "kernelspec": {
   "display_name": "Python 3",
   "language": "python",
   "name": "python3"
  },
  "language_info": {
   "codemirror_mode": {
    "name": "ipython",
    "version": 3
   },
   "file_extension": ".py",
   "mimetype": "text/x-python",
   "name": "python",
   "nbconvert_exporter": "python",
   "pygments_lexer": "ipython3",
   "version": "3.6.13"
  },
  "varInspector": {
   "cols": {
    "lenName": 16,
    "lenType": 16,
    "lenVar": 40
   },
   "kernels_config": {
    "python": {
     "delete_cmd_postfix": "",
     "delete_cmd_prefix": "del ",
     "library": "var_list.py",
     "varRefreshCmd": "print(var_dic_list())"
    },
    "r": {
     "delete_cmd_postfix": ") ",
     "delete_cmd_prefix": "rm(",
     "library": "var_list.r",
     "varRefreshCmd": "cat(var_dic_list()) "
    }
   },
   "types_to_exclude": [
    "module",
    "function",
    "builtin_function_or_method",
    "instance",
    "_Feature"
   ],
   "window_display": false
  }
 },
 "nbformat": 4,
 "nbformat_minor": 5
}
