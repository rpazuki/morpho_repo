{
 "cells": [
  {
   "cell_type": "code",
   "execution_count": 1,
   "id": "17a3ebe6",
   "metadata": {
    "ExecuteTime": {
     "end_time": "2023-01-05T13:37:47.464480Z",
     "start_time": "2023-01-05T13:37:32.161478Z"
    },
    "scrolled": true
   },
   "outputs": [
    {
     "name": "stderr",
     "output_type": "stream",
     "text": [
      "2023-01-05 13:37:33.175663: I tensorflow/stream_executor/platform/default/dso_loader.cc:48] Successfully opened dynamic library libcudart.so.10.1\n",
      "2023-01-05 13:37:46.695028: I tensorflow/stream_executor/platform/default/dso_loader.cc:48] Successfully opened dynamic library libcuda.so.1\n",
      "2023-01-05 13:37:46.706982: I tensorflow/core/common_runtime/gpu/gpu_device.cc:1716] Found device 0 with properties: \n",
      "pciBusID: 0000:2d:00.0 name: Quadro RTX 6000 computeCapability: 7.5\n",
      "coreClock: 1.77GHz coreCount: 72 deviceMemorySize: 23.65GiB deviceMemoryBandwidth: 625.94GiB/s\n",
      "2023-01-05 13:37:46.707017: I tensorflow/stream_executor/platform/default/dso_loader.cc:48] Successfully opened dynamic library libcudart.so.10.1\n",
      "2023-01-05 13:37:46.709577: I tensorflow/stream_executor/platform/default/dso_loader.cc:48] Successfully opened dynamic library libcublas.so.10\n",
      "2023-01-05 13:37:46.712264: I tensorflow/stream_executor/platform/default/dso_loader.cc:48] Successfully opened dynamic library libcufft.so.10\n",
      "2023-01-05 13:37:46.712681: I tensorflow/stream_executor/platform/default/dso_loader.cc:48] Successfully opened dynamic library libcurand.so.10\n",
      "2023-01-05 13:37:46.715484: I tensorflow/stream_executor/platform/default/dso_loader.cc:48] Successfully opened dynamic library libcusolver.so.10\n",
      "2023-01-05 13:37:46.716829: I tensorflow/stream_executor/platform/default/dso_loader.cc:48] Successfully opened dynamic library libcusparse.so.10\n",
      "2023-01-05 13:37:46.721499: I tensorflow/stream_executor/platform/default/dso_loader.cc:48] Successfully opened dynamic library libcudnn.so.7\n",
      "2023-01-05 13:37:46.722339: I tensorflow/core/common_runtime/gpu/gpu_device.cc:1858] Adding visible gpu devices: 0\n",
      "2023-01-05 13:37:46.722975: I tensorflow/core/platform/cpu_feature_guard.cc:142] This TensorFlow binary is optimized with oneAPI Deep Neural Network Library (oneDNN)to use the following CPU instructions in performance-critical operations:  AVX2 AVX512F FMA\n",
      "To enable them in other operations, rebuild TensorFlow with the appropriate compiler flags.\n",
      "2023-01-05 13:37:46.737330: I tensorflow/core/platform/profile_utils/cpu_utils.cc:104] CPU Frequency: 3400000000 Hz\n",
      "2023-01-05 13:37:46.741134: I tensorflow/compiler/xla/service/service.cc:168] XLA service 0x563770f9d630 initialized for platform Host (this does not guarantee that XLA will be used). Devices:\n",
      "2023-01-05 13:37:46.741159: I tensorflow/compiler/xla/service/service.cc:176]   StreamExecutor device (0): Host, Default Version\n",
      "2023-01-05 13:37:46.883935: I tensorflow/compiler/xla/service/service.cc:168] XLA service 0x563771009af0 initialized for platform CUDA (this does not guarantee that XLA will be used). Devices:\n",
      "2023-01-05 13:37:46.883993: I tensorflow/compiler/xla/service/service.cc:176]   StreamExecutor device (0): Quadro RTX 6000, Compute Capability 7.5\n",
      "2023-01-05 13:37:46.885345: I tensorflow/core/common_runtime/gpu/gpu_device.cc:1716] Found device 0 with properties: \n",
      "pciBusID: 0000:2d:00.0 name: Quadro RTX 6000 computeCapability: 7.5\n",
      "coreClock: 1.77GHz coreCount: 72 deviceMemorySize: 23.65GiB deviceMemoryBandwidth: 625.94GiB/s\n",
      "2023-01-05 13:37:46.885408: I tensorflow/stream_executor/platform/default/dso_loader.cc:48] Successfully opened dynamic library libcudart.so.10.1\n",
      "2023-01-05 13:37:46.885456: I tensorflow/stream_executor/platform/default/dso_loader.cc:48] Successfully opened dynamic library libcublas.so.10\n",
      "2023-01-05 13:37:46.885485: I tensorflow/stream_executor/platform/default/dso_loader.cc:48] Successfully opened dynamic library libcufft.so.10\n",
      "2023-01-05 13:37:46.885513: I tensorflow/stream_executor/platform/default/dso_loader.cc:48] Successfully opened dynamic library libcurand.so.10\n",
      "2023-01-05 13:37:46.885540: I tensorflow/stream_executor/platform/default/dso_loader.cc:48] Successfully opened dynamic library libcusolver.so.10\n",
      "2023-01-05 13:37:46.885566: I tensorflow/stream_executor/platform/default/dso_loader.cc:48] Successfully opened dynamic library libcusparse.so.10\n",
      "2023-01-05 13:37:46.885594: I tensorflow/stream_executor/platform/default/dso_loader.cc:48] Successfully opened dynamic library libcudnn.so.7\n",
      "2023-01-05 13:37:46.887325: I tensorflow/core/common_runtime/gpu/gpu_device.cc:1858] Adding visible gpu devices: 0\n",
      "2023-01-05 13:37:46.887384: I tensorflow/stream_executor/platform/default/dso_loader.cc:48] Successfully opened dynamic library libcudart.so.10.1\n",
      "2023-01-05 13:37:47.415742: I tensorflow/core/common_runtime/gpu/gpu_device.cc:1257] Device interconnect StreamExecutor with strength 1 edge matrix:\n",
      "2023-01-05 13:37:47.415781: I tensorflow/core/common_runtime/gpu/gpu_device.cc:1263]      0 \n",
      "2023-01-05 13:37:47.415789: I tensorflow/core/common_runtime/gpu/gpu_device.cc:1276] 0:   N \n",
      "2023-01-05 13:37:47.416700: I tensorflow/core/common_runtime/gpu/gpu_device.cc:1402] Created TensorFlow device (/job:localhost/replica:0/task:0/device:GPU:0 with 1759 MB memory) -> physical GPU (device: 0, name: Quadro RTX 6000, pci bus id: 0000:2d:00.0, compute capability: 7.5)\n"
     ]
    }
   ],
   "source": [
    "%config Completer.use_jedi = False\n",
    "import sys\n",
    "import warnings\n",
    "warnings.filterwarnings('ignore')\n",
    "import tensorflow as tf\n",
    "import numpy as np\n",
    "import matplotlib.pyplot as plt\n",
    "\n",
    "sys.path.append(\"/end/home/rh2310/morpho_repo/turing_codebase\")\n",
    "from turing.utils import *\n",
    "from turing.tf_utils import *\n",
    "import turing.pinns as tu\n",
    "from turing.loss_functions import *\n",
    "\n",
    "GPU = False\n",
    "import os\n",
    "\n",
    "if GPU:\n",
    "    txt_device = 'gpu:0'\n",
    "else:\n",
    "    txt_device = 'cpu:0'    \n",
    "    os.environ[\"CUDA_VISIBLE_DEVICES\"]=\"-1\""
   ]
  },
  {
   "cell_type": "markdown",
   "id": "e9fec146",
   "metadata": {},
   "source": [
    "# One dimensional functions\n",
    "\n",
    "> Here, I try to model $y=f(x)$ with a neural net by using both $y$ and $y''=f''(x)$."
   ]
  },
  {
   "cell_type": "code",
   "execution_count": 2,
   "id": "ba74f50b",
   "metadata": {
    "ExecuteTime": {
     "end_time": "2023-01-05T13:37:53.634525Z",
     "start_time": "2023-01-05T13:37:53.545011Z"
    }
   },
   "outputs": [],
   "source": [
    "def Gaussian(x, loc=0.0, scale=1.0):\n",
    "    return np.exp(-(x-loc)**2/(2*scale**2))\n",
    "\n",
    "data_1d_x = np.linspace(-4, 4, 512)[:,np.newaxis].astype(np.float32)\n",
    "data_1d_y_gaussian = Gaussian(data_1d_x, 1.0)\n",
    "\n",
    "\n",
    "ds_gaussian = TINN_Dataset(tf.float32, \n",
    "                           np.concatenate([data_1d_x, data_1d_y_gaussian], axis=1))"
   ]
  },
  {
   "cell_type": "code",
   "execution_count": 3,
   "id": "8e71c0df",
   "metadata": {
    "ExecuteTime": {
     "end_time": "2023-01-05T13:37:58.156435Z",
     "start_time": "2023-01-05T13:37:58.150749Z"
    }
   },
   "outputs": [],
   "source": [
    "@tf.function\n",
    "def derivatives(pinn, x):\n",
    "    y = pinn.net(x)\n",
    "    p1, p2 = pinn.gradients(x, y)\n",
    "    return y, p1, p2"
   ]
  },
  {
   "cell_type": "code",
   "execution_count": 54,
   "id": "07f8f2cb",
   "metadata": {
    "ExecuteTime": {
     "end_time": "2023-01-04T19:05:33.197941Z",
     "start_time": "2023-01-04T19:05:33.184140Z"
    }
   },
   "outputs": [],
   "source": [
    "layers = [1, 10, 1]\n",
    "pinn = tu.NN(layers, \n",
    "             lb= np.min(data_1d_x),\n",
    "             ub= np.max(data_1d_x),\n",
    "             dtype=tf.float32)"
   ]
  },
  {
   "cell_type": "markdown",
   "id": "f4c20469",
   "metadata": {},
   "source": [
    "# Initial output of an untrained network"
   ]
  },
  {
   "cell_type": "code",
   "execution_count": 55,
   "id": "d653f113",
   "metadata": {
    "ExecuteTime": {
     "end_time": "2023-01-04T19:05:34.428961Z",
     "start_time": "2023-01-04T19:05:34.131805Z"
    }
   },
   "outputs": [
    {
     "data": {
      "image/png": "[encoded data removed]",
      "text/plain": [
       "<Figure size 432x288 with 1 Axes>"
      ]
     },
     "metadata": {
      "needs_background": "light"
     },
     "output_type": "display_data"
    }
   ],
   "source": [
    "y, y_der_1, y_der_2 = derivatives(pinn, data_1d_x)\n",
    "plt.plot(data_1d_x, y.numpy(), label=\"f(x)\")\n",
    "plt.plot(data_1d_x, y_der_1[0].numpy(), label=\"f'(x)\")\n",
    "plt.plot(data_1d_x, y_der_2[0].numpy(), label=\"f''(x)\")\n",
    "plt.legend()\n",
    "plt.grid()\n",
    "plt.show()"
   ]
  },
  {
   "cell_type": "markdown",
   "id": "b1a3d5e1",
   "metadata": {
    "ExecuteTime": {
     "end_time": "2023-01-04T18:46:39.357721Z",
     "start_time": "2023-01-04T18:46:39.349919Z"
    }
   },
   "source": [
    "# Train the model"
   ]
  },
  {
   "cell_type": "code",
   "execution_count": 56,
   "id": "36e7efdd",
   "metadata": {
    "ExecuteTime": {
     "end_time": "2023-01-04T19:10:28.776622Z",
     "start_time": "2023-01-04T19:05:41.989330Z"
    },
    "scrolled": true
   },
   "outputs": [
    {
     "name": "stdout",
     "output_type": "stream",
     "text": [
      "\n",
      "Start of epoch 0\n",
      "total loss: 0.40576, total regularised loss: 0.40576\n",
      "Observation_Loss -> \n",
      "(1)  f(x): 0.20288 \n",
      "(1) lambdas : 1.00000 \n",
      "Time taken: 0.80s\n",
      "\n",
      "Start of epoch 5000\n",
      "total loss: 0.17287, total regularised loss: 0.17287\n",
      "Observation_Loss -> \n",
      "(1)  f(x): 0.08643 \n",
      "(1) lambdas : 1.00000 \n",
      "Time taken: 47.39s\n",
      "\n",
      "Start of epoch 10000\n",
      "total loss: 0.04695, total regularised loss: 0.04695\n",
      "Observation_Loss -> \n",
      "(1)  f(x): 0.02348 \n",
      "(1) lambdas : 1.00000 \n",
      "Time taken: 46.40s\n",
      "\n",
      "Start of epoch 15000\n",
      "total loss: 0.01298, total regularised loss: 0.01298\n",
      "Observation_Loss -> \n",
      "(1)  f(x): 0.00649 \n",
      "(1) lambdas : 1.00000 \n",
      "Time taken: 47.57s\n",
      "\n",
      "Start of epoch 20000\n",
      "total loss: 0.00210, total regularised loss: 0.00210\n",
      "Observation_Loss -> \n",
      "(1)  f(x): 0.00105 \n",
      "(1) lambdas : 1.00000 \n",
      "Time taken: 48.54s\n",
      "\n",
      "Start of epoch 25000\n",
      "total loss: 0.00041, total regularised loss: 0.00041\n",
      "Observation_Loss -> \n",
      "(1)  f(x): 0.00021 \n",
      "(1) lambdas : 1.00000 \n",
      "Time taken: 48.28s\n",
      "############################################\n",
      "#               Early stop                 #\n",
      "############################################\n"
     ]
    }
   ],
   "source": [
    "loss = Observation_Loss(layers, residual_ret_names=(\"f(x)\",))\n",
    "model = tu.TINN(pinn, [loss], L2(), optimizer=keras.optimizers.Adam(learning_rate=1e-4))\n",
    "results = model.train(100000+1, 256, ds_gaussian, print_interval=5000,stop_threshold=5e-5)"
   ]
  },
  {
   "cell_type": "markdown",
   "id": "84b65265",
   "metadata": {},
   "source": [
    "# After training"
   ]
  },
  {
   "cell_type": "code",
   "execution_count": 57,
   "id": "ed125e3e",
   "metadata": {
    "ExecuteTime": {
     "end_time": "2023-01-04T19:13:30.170861Z",
     "start_time": "2023-01-04T19:13:30.036824Z"
    }
   },
   "outputs": [
    {
     "data": {
      "image/png": "[encoded data removed]",
      "text/plain": [
       "<Figure size 432x288 with 1 Axes>"
      ]
     },
     "metadata": {
      "needs_background": "light"
     },
     "output_type": "display_data"
    }
   ],
   "source": [
    "y, y_der_1, y_der_2 = derivatives(pinn, data_1d_x)\n",
    "plt.plot(data_1d_x, data_1d_y_gaussian , label=\"Actual\")\n",
    "plt.plot(data_1d_x, y.numpy(), label=\"f(x)\")\n",
    "plt.plot(data_1d_x, y_der_1[0].numpy(), label=\"f'(x)\")\n",
    "plt.plot(data_1d_x, y_der_2[0].numpy(), label=\"f''(x)\")\n",
    "plt.legend()\n",
    "plt.grid()\n",
    "plt.show()"
   ]
  },
  {
   "cell_type": "markdown",
   "id": "6fa1c239",
   "metadata": {},
   "source": [
    "# Two-dimensional data"
   ]
  },
  {
   "cell_type": "code",
   "execution_count": 4,
   "id": "587988c5",
   "metadata": {
    "ExecuteTime": {
     "end_time": "2023-01-05T13:38:08.213052Z",
     "start_time": "2023-01-05T13:38:07.981271Z"
    }
   },
   "outputs": [
    {
     "data": {
      "image/png": "[encoded data removed]",
      "text/plain": [
       "<Figure size 432x288 with 1 Axes>"
      ]
     },
     "metadata": {
      "needs_background": "light"
     },
     "output_type": "display_data"
    }
   ],
   "source": [
    "def Gaussian_2d(x, y, locx=0.0, locy=0.0, scalex=1.0, scaley=1.0):\n",
    "    return np.exp(-(x-locx)**2/(2*scalex**2)-(y-locy)**2/(2*scaley**2))\n",
    "\n",
    "def Gaussian_2d_df_dx(x, y, locx=0.0, locy=0.0, scalex=1.0, scaley=1.0):\n",
    "    return (-(x-locx)/(scalex**2))*Gaussian_2d(x, y, locx, locy, scalex, scaley)\n",
    "\n",
    "def Gaussian_2d_df_dy(x, y, locx=0.0, locy=0.0, scalex=1.0, scaley=1.0):\n",
    "    return (-(y-locy)/(scaley**2))*Gaussian_2d(x, y, locx, locy, scalex, scaley)\n",
    "\n",
    "def Gaussian_2d_d2f_dx2(x, y, locx=0.0, locy=0.0, scalex=1.0, scaley=1.0):\n",
    "    return ((-1.0/scalex**2)*Gaussian_2d(x, y, locx, locy, scalex, scaley)\n",
    "            -((x-locx)/(scalex**2))*Gaussian_2d_df_dx(x, y, locx, locy, scalex, scaley))\n",
    "\n",
    "def Gaussian_2d_d2f_dy2(x, y, locx=0.0, locy=0.0, scalex=1.0, scaley=1.0):\n",
    "    return ((-1.0/scaley**2)*Gaussian_2d(x, y, locx, locy, scalex, scaley) \n",
    "            -((y-locy)/(scaley**2))*Gaussian_2d_df_dy(x, y, locx, locy, scalex, scaley))\n",
    "\n",
    "\n",
    "data_2d_x = np.linspace(0, 2, 128)[:,np.newaxis].astype(np.float32)\n",
    "data_2d_y = np.linspace(-2, 2, 128)[:,np.newaxis].astype(np.float32)\n",
    "X,Y = np.meshgrid(data_2d_x, data_2d_y,indexing='ij')\n",
    "data_2d_z_gaussian = Gaussian_2d(X, Y, 1.0, 0.5, .2, .7)\n",
    "data_input = np.concatenate([X.flatten()[:,np.newaxis],\n",
    "                             Y.flatten()[:,np.newaxis]], \n",
    "                              axis=1)\n",
    "\n",
    "ds_gaussian_2d = TINN_Dataset(tf.float32, \n",
    "                              np.concatenate([X.flatten()[:,np.newaxis],\n",
    "                                              Y.flatten()[:,np.newaxis],\n",
    "                                              data_2d_z_gaussian.flatten()[:,np.newaxis]], \n",
    "                              axis=1))\n",
    "\n",
    "def plot(X, Y, Z, title=\"\"):\n",
    "    plt.title(title)\n",
    "    plt.contourf(X, Y, Z)    \n",
    "    \n",
    "plot(X, Y, data_2d_z_gaussian)\n",
    "plt.show()"
   ]
  },
  {
   "cell_type": "code",
   "execution_count": 5,
   "id": "88041e49",
   "metadata": {
    "ExecuteTime": {
     "end_time": "2023-01-05T13:38:11.618381Z",
     "start_time": "2023-01-05T13:38:11.097354Z"
    }
   },
   "outputs": [
    {
     "data": {
      "image/png": "[encoded data removed]",
      "text/plain": [
       "<Figure size 1152x576 with 5 Axes>"
      ]
     },
     "metadata": {
      "needs_background": "light"
     },
     "output_type": "display_data"
    }
   ],
   "source": [
    "_ = plt.figure(figsize=(16,8))\n",
    "plt.subplot(231)\n",
    "plot(X, Y, data_2d_z_gaussian, \"f(x,y)\")\n",
    "plt.subplot(232)\n",
    "plot(X, Y, Gaussian_2d_df_dx(X, Y, 1.0, 0.5, .2, .7), \"df/dx\")\n",
    "plt.subplot(233)\n",
    "plot(X, Y, Gaussian_2d_df_dy(X, Y, 1.0, 0.5, .2, .7), \"df/dy\")\n",
    "plt.subplot(234)\n",
    "plot(X, Y, Gaussian_2d_d2f_dx2(X, Y, 1.0, 0.5, .2, .7), \"d2f/dx2\")\n",
    "plt.subplot(235)\n",
    "plot(X, Y, Gaussian_2d_d2f_dy2(X, Y, 1.0, 0.5, .2, .7), \"d2f/dy2\")\n",
    "plt.show()"
   ]
  },
  {
   "cell_type": "code",
   "execution_count": 88,
   "id": "75616ce8",
   "metadata": {
    "ExecuteTime": {
     "end_time": "2023-01-04T19:32:35.989307Z",
     "start_time": "2023-01-04T19:32:35.975129Z"
    }
   },
   "outputs": [],
   "source": [
    "layers2 = [2, 10, 1]\n",
    "pinn2 = tu.NN(layers2, \n",
    "             lb= np.amin(np.concatenate([data_2d_x, data_2d_y], axis=1), 0),\n",
    "             ub= np.amax(np.concatenate([data_2d_x, data_2d_y], axis=1), 0),\n",
    "             dtype=tf.float32)"
   ]
  },
  {
   "cell_type": "markdown",
   "id": "d1a1a289",
   "metadata": {
    "ExecuteTime": {
     "end_time": "2023-01-04T19:21:16.407979Z",
     "start_time": "2023-01-04T19:21:16.400644Z"
    }
   },
   "source": [
    "# Initial output of an untrained network"
   ]
  },
  {
   "cell_type": "code",
   "execution_count": 6,
   "id": "46b59513",
   "metadata": {
    "ExecuteTime": {
     "end_time": "2023-01-05T13:38:18.766154Z",
     "start_time": "2023-01-05T13:38:18.761007Z"
    }
   },
   "outputs": [],
   "source": [
    "def to_2d(x):\n",
    "    return x.reshape((data_2d_x.shape[0], data_2d_x.shape[0]))"
   ]
  },
  {
   "cell_type": "code",
   "execution_count": 105,
   "id": "1fcd3a4c",
   "metadata": {
    "ExecuteTime": {
     "end_time": "2023-01-04T19:38:34.025816Z",
     "start_time": "2023-01-04T19:38:33.631895Z"
    }
   },
   "outputs": [
    {
     "data": {
      "image/png": "[encoded data removed]",
      "text/plain": [
       "<Figure size 864x576 with 5 Axes>"
      ]
     },
     "metadata": {
      "needs_background": "light"
     },
     "output_type": "display_data"
    }
   ],
   "source": [
    "y, y_der_1, y_der_2 = derivatives(pinn2, data_input)\n",
    "\n",
    "\n",
    "_ = plt.figure(figsize=(12,8))\n",
    "plt.subplot(231)\n",
    "plot(X, Y, to_2d(y.numpy()), \"f(x,y)\")\n",
    "plt.subplot(232)\n",
    "plot(X, Y, to_2d(y_der_1[0].numpy()[:,0]), \"df/dx\")\n",
    "plt.subplot(233)\n",
    "plot(X, Y, to_2d(y_der_1[0].numpy()[:,1]), \"df/dy\")\n",
    "plt.subplot(234)\n",
    "plot(X, Y, to_2d(y_der_2[0].numpy()[:,0]), \"d2f/dx2\")\n",
    "plt.subplot(235)\n",
    "plot(X, Y, to_2d(y_der_2[0].numpy()[:,1]), \"d2f/dy2\")\n",
    "plt.show()"
   ]
  },
  {
   "cell_type": "markdown",
   "id": "76efffcd",
   "metadata": {
    "ExecuteTime": {
     "end_time": "2023-01-04T19:37:29.533165Z",
     "start_time": "2023-01-04T19:37:29.525643Z"
    }
   },
   "source": [
    "# Train the model"
   ]
  },
  {
   "cell_type": "code",
   "execution_count": 108,
   "id": "09a88a45",
   "metadata": {
    "ExecuteTime": {
     "end_time": "2023-01-04T20:24:04.520978Z",
     "start_time": "2023-01-04T19:40:17.815597Z"
    },
    "scrolled": true
   },
   "outputs": [
    {
     "name": "stdout",
     "output_type": "stream",
     "text": [
      "\n",
      "Start of epoch 0\n",
      "total loss: 0.29637, total regularised loss: 0.29637\n",
      "Observation_Loss -> \n",
      "(1)  f(x,y): 0.07409 \n",
      "(1) lambdas : 1.00000 \n",
      "Time taken: 1.65s\n",
      "\n",
      "Start of epoch 5000\n",
      "total loss: 0.14536, total regularised loss: 0.14536\n",
      "Observation_Loss -> \n",
      "(1)  f(x,y): 0.03634 \n",
      "(1) lambdas : 1.00000 \n",
      "Time taken: 133.72s\n",
      "\n",
      "Start of epoch 10000\n",
      "total loss: 0.10306, total regularised loss: 0.10306\n",
      "Observation_Loss -> \n",
      "(1)  f(x,y): 0.02576 \n",
      "(1) lambdas : 1.00000 \n",
      "Time taken: 130.59s\n",
      "\n",
      "Start of epoch 15000\n",
      "total loss: 0.06219, total regularised loss: 0.06219\n",
      "Observation_Loss -> \n",
      "(1)  f(x,y): 0.01555 \n",
      "(1) lambdas : 1.00000 \n",
      "Time taken: 130.46s\n",
      "\n",
      "Start of epoch 20000\n",
      "total loss: 0.04383, total regularised loss: 0.04383\n",
      "Observation_Loss -> \n",
      "(1)  f(x,y): 0.01096 \n",
      "(1) lambdas : 1.00000 \n",
      "Time taken: 131.90s\n",
      "\n",
      "Start of epoch 25000\n",
      "total loss: 0.03412, total regularised loss: 0.03412\n",
      "Observation_Loss -> \n",
      "(1)  f(x,y): 0.00853 \n",
      "(1) lambdas : 1.00000 \n",
      "Time taken: 129.71s\n",
      "\n",
      "Start of epoch 30000\n",
      "total loss: 0.02728, total regularised loss: 0.02728\n",
      "Observation_Loss -> \n",
      "(1)  f(x,y): 0.00682 \n",
      "(1) lambdas : 1.00000 \n",
      "Time taken: 131.86s\n",
      "\n",
      "Start of epoch 35000\n",
      "total loss: 0.02045, total regularised loss: 0.02045\n",
      "Observation_Loss -> \n",
      "(1)  f(x,y): 0.00511 \n",
      "(1) lambdas : 1.00000 \n",
      "Time taken: 128.67s\n",
      "\n",
      "Start of epoch 40000\n",
      "total loss: 0.01424, total regularised loss: 0.01424\n",
      "Observation_Loss -> \n",
      "(1)  f(x,y): 0.00356 \n",
      "(1) lambdas : 1.00000 \n",
      "Time taken: 130.44s\n",
      "\n",
      "Start of epoch 45000\n",
      "total loss: 0.01069, total regularised loss: 0.01069\n",
      "Observation_Loss -> \n",
      "(1)  f(x,y): 0.00267 \n",
      "(1) lambdas : 1.00000 \n",
      "Time taken: 128.46s\n",
      "\n",
      "Start of epoch 50000\n",
      "total loss: 0.00941, total regularised loss: 0.00941\n",
      "Observation_Loss -> \n",
      "(1)  f(x,y): 0.00235 \n",
      "(1) lambdas : 1.00000 \n",
      "Time taken: 130.69s\n",
      "\n",
      "Start of epoch 55000\n",
      "total loss: 0.00891, total regularised loss: 0.00891\n",
      "Observation_Loss -> \n",
      "(1)  f(x,y): 0.00223 \n",
      "(1) lambdas : 1.00000 \n",
      "Time taken: 132.77s\n",
      "\n",
      "Start of epoch 60000\n",
      "total loss: 0.00856, total regularised loss: 0.00856\n",
      "Observation_Loss -> \n",
      "(1)  f(x,y): 0.00214 \n",
      "(1) lambdas : 1.00000 \n",
      "Time taken: 133.00s\n",
      "\n",
      "Start of epoch 65000\n",
      "total loss: 0.00824, total regularised loss: 0.00824\n",
      "Observation_Loss -> \n",
      "(1)  f(x,y): 0.00206 \n",
      "(1) lambdas : 1.00000 \n",
      "Time taken: 134.86s\n",
      "\n",
      "Start of epoch 70000\n",
      "total loss: 0.00795, total regularised loss: 0.00795\n",
      "Observation_Loss -> \n",
      "(1)  f(x,y): 0.00199 \n",
      "(1) lambdas : 1.00000 \n",
      "Time taken: 135.23s\n",
      "\n",
      "Start of epoch 75000\n",
      "total loss: 0.00769, total regularised loss: 0.00769\n",
      "Observation_Loss -> \n",
      "(1)  f(x,y): 0.00192 \n",
      "(1) lambdas : 1.00000 \n",
      "Time taken: 129.25s\n",
      "\n",
      "Start of epoch 80000\n",
      "total loss: 0.00745, total regularised loss: 0.00745\n",
      "Observation_Loss -> \n",
      "(1)  f(x,y): 0.00186 \n",
      "(1) lambdas : 1.00000 \n",
      "Time taken: 131.49s\n",
      "\n",
      "Start of epoch 85000\n",
      "total loss: 0.00725, total regularised loss: 0.00725\n",
      "Observation_Loss -> \n",
      "(1)  f(x,y): 0.00181 \n",
      "(1) lambdas : 1.00000 \n",
      "Time taken: 130.13s\n",
      "\n",
      "Start of epoch 90000\n",
      "total loss: 0.00705, total regularised loss: 0.00705\n",
      "Observation_Loss -> \n",
      "(1)  f(x,y): 0.00176 \n",
      "(1) lambdas : 1.00000 \n",
      "Time taken: 131.91s\n",
      "\n",
      "Start of epoch 95000\n",
      "total loss: 0.00686, total regularised loss: 0.00686\n",
      "Observation_Loss -> \n",
      "(1)  f(x,y): 0.00172 \n",
      "(1) lambdas : 1.00000 \n",
      "Time taken: 133.44s\n",
      "\n",
      "Start of epoch 100000\n",
      "total loss: 0.00665, total regularised loss: 0.00665\n",
      "Observation_Loss -> \n",
      "(1)  f(x,y): 0.00166 \n",
      "(1) lambdas : 1.00000 \n",
      "Time taken: 126.46s\n"
     ]
    }
   ],
   "source": [
    "loss2 = Observation_Loss(layers2, residual_ret_names=(\"f(x,y)\",))\n",
    "model2 = tu.TINN(pinn2, [loss2], L2(), optimizer=keras.optimizers.Adam(learning_rate=1e-4))\n",
    "results2 = model2.train(100000+1, 4096, ds_gaussian_2d, print_interval=5000,stop_threshold=5e-5)"
   ]
  },
  {
   "cell_type": "code",
   "execution_count": 110,
   "id": "465d422b",
   "metadata": {
    "ExecuteTime": {
     "end_time": "2023-01-04T20:44:57.883416Z",
     "start_time": "2023-01-04T20:25:08.769049Z"
    },
    "scrolled": true
   },
   "outputs": [
    {
     "name": "stdout",
     "output_type": "stream",
     "text": [
      "\n",
      "Start of epoch 0\n",
      "total loss: 0.00665, total regularised loss: 0.00665\n",
      "Observation_Loss -> \n",
      "(1)  f(x,y): 0.00166 \n",
      "(1) lambdas : 1.00000 \n",
      "Time taken: 1.29s\n",
      "\n",
      "Start of epoch 5000\n",
      "total loss: 0.00641, total regularised loss: 0.00641\n",
      "Observation_Loss -> \n",
      "(1)  f(x,y): 0.00160 \n",
      "(1) lambdas : 1.00000 \n",
      "Time taken: 117.39s\n",
      "\n",
      "Start of epoch 10000\n",
      "total loss: 0.00613, total regularised loss: 0.00613\n",
      "Observation_Loss -> \n",
      "(1)  f(x,y): 0.00153 \n",
      "(1) lambdas : 1.00000 \n",
      "Time taken: 118.39s\n",
      "\n",
      "Start of epoch 15000\n",
      "total loss: 0.00581, total regularised loss: 0.00581\n",
      "Observation_Loss -> \n",
      "(1)  f(x,y): 0.00145 \n",
      "(1) lambdas : 1.00000 \n",
      "Time taken: 118.96s\n",
      "\n",
      "Start of epoch 20000\n",
      "total loss: 0.00531, total regularised loss: 0.00531\n",
      "Observation_Loss -> \n",
      "(1)  f(x,y): 0.00133 \n",
      "(1) lambdas : 1.00000 \n",
      "Time taken: 118.24s\n",
      "\n",
      "Start of epoch 25000\n",
      "total loss: 0.00457, total regularised loss: 0.00457\n",
      "Observation_Loss -> \n",
      "(1)  f(x,y): 0.00114 \n",
      "(1) lambdas : 1.00000 \n",
      "Time taken: 118.05s\n",
      "\n",
      "Start of epoch 30000\n",
      "total loss: 0.00382, total regularised loss: 0.00382\n",
      "Observation_Loss -> \n",
      "(1)  f(x,y): 0.00095 \n",
      "(1) lambdas : 1.00000 \n",
      "Time taken: 119.50s\n",
      "\n",
      "Start of epoch 35000\n",
      "total loss: 0.00330, total regularised loss: 0.00330\n",
      "Observation_Loss -> \n",
      "(1)  f(x,y): 0.00083 \n",
      "(1) lambdas : 1.00000 \n",
      "Time taken: 118.80s\n",
      "\n",
      "Start of epoch 40000\n",
      "total loss: 0.00297, total regularised loss: 0.00297\n",
      "Observation_Loss -> \n",
      "(1)  f(x,y): 0.00074 \n",
      "(1) lambdas : 1.00000 \n",
      "Time taken: 119.93s\n",
      "\n",
      "Start of epoch 45000\n",
      "total loss: 0.00277, total regularised loss: 0.00277\n",
      "Observation_Loss -> \n",
      "(1)  f(x,y): 0.00069 \n",
      "(1) lambdas : 1.00000 \n",
      "Time taken: 119.67s\n",
      "\n",
      "Start of epoch 50000\n",
      "total loss: 0.00264, total regularised loss: 0.00264\n",
      "Observation_Loss -> \n",
      "(1)  f(x,y): 0.00066 \n",
      "(1) lambdas : 1.00000 \n",
      "Time taken: 118.88s\n"
     ]
    }
   ],
   "source": [
    "results3 = model2.train(50000+1, 4096, ds_gaussian_2d, print_interval=5000,stop_threshold=5e-5, regularise=False)"
   ]
  },
  {
   "cell_type": "code",
   "execution_count": 113,
   "id": "9a03c50f",
   "metadata": {
    "ExecuteTime": {
     "end_time": "2023-01-04T21:06:01.515443Z",
     "start_time": "2023-01-04T20:46:34.462631Z"
    },
    "scrolled": true
   },
   "outputs": [
    {
     "name": "stdout",
     "output_type": "stream",
     "text": [
      "\n",
      "Start of epoch 0\n",
      "total loss: 0.00264, total regularised loss: 0.00264\n",
      "Observation_Loss -> \n",
      "(1)  f(x,y): 0.00066 \n",
      "Time taken: 1.17s\n",
      "\n",
      "Start of epoch 5000\n",
      "total loss: 0.00249, total regularised loss: 0.00249\n",
      "Observation_Loss -> \n",
      "(1)  f(x,y): 0.00062 \n",
      "Time taken: 117.40s\n",
      "\n",
      "Start of epoch 10000\n",
      "total loss: 0.00231, total regularised loss: 0.00231\n",
      "Observation_Loss -> \n",
      "(1)  f(x,y): 0.00058 \n",
      "Time taken: 116.15s\n",
      "\n",
      "Start of epoch 15000\n",
      "total loss: 0.00207, total regularised loss: 0.00207\n",
      "Observation_Loss -> \n",
      "(1)  f(x,y): 0.00052 \n",
      "Time taken: 115.92s\n",
      "\n",
      "Start of epoch 20000\n",
      "total loss: 0.00185, total regularised loss: 0.00185\n",
      "Observation_Loss -> \n",
      "(1)  f(x,y): 0.00046 \n",
      "Time taken: 115.59s\n",
      "\n",
      "Start of epoch 25000\n",
      "total loss: 0.00168, total regularised loss: 0.00168\n",
      "Observation_Loss -> \n",
      "(1)  f(x,y): 0.00042 \n",
      "Time taken: 116.37s\n",
      "\n",
      "Start of epoch 30000\n",
      "total loss: 0.00155, total regularised loss: 0.00155\n",
      "Observation_Loss -> \n",
      "(1)  f(x,y): 0.00039 \n",
      "Time taken: 116.20s\n",
      "\n",
      "Start of epoch 35000\n",
      "total loss: 0.00146, total regularised loss: 0.00146\n",
      "Observation_Loss -> \n",
      "(1)  f(x,y): 0.00036 \n",
      "Time taken: 116.44s\n",
      "\n",
      "Start of epoch 40000\n",
      "total loss: 0.00138, total regularised loss: 0.00138\n",
      "Observation_Loss -> \n",
      "(1)  f(x,y): 0.00034 \n",
      "Time taken: 115.99s\n",
      "\n",
      "Start of epoch 45000\n",
      "total loss: 0.00131, total regularised loss: 0.00131\n",
      "Observation_Loss -> \n",
      "(1)  f(x,y): 0.00033 \n",
      "Time taken: 115.85s\n",
      "\n",
      "Start of epoch 50000\n",
      "total loss: 0.00125, total regularised loss: 0.00125\n",
      "Observation_Loss -> \n",
      "(1)  f(x,y): 0.00031 \n",
      "Time taken: 119.96s\n"
     ]
    }
   ],
   "source": [
    "results4 = model2.train(50000+1, 4096, ds_gaussian_2d, print_interval=5000,stop_threshold=5e-5, \n",
    "                        regularise=False, sample_regularisations=False)"
   ]
  },
  {
   "cell_type": "code",
   "execution_count": 118,
   "id": "9e814045",
   "metadata": {
    "ExecuteTime": {
     "end_time": "2023-01-04T21:28:30.486080Z",
     "start_time": "2023-01-04T21:09:06.173048Z"
    },
    "scrolled": true
   },
   "outputs": [
    {
     "name": "stdout",
     "output_type": "stream",
     "text": [
      "\n",
      "Start of epoch 0\n",
      "total loss: 0.00125, total regularised loss: 0.00125\n",
      "Observation_Loss -> \n",
      "(1)  f(x,y): 0.00031 \n",
      "Time taken: 1.07s\n",
      "\n",
      "Start of epoch 5000\n",
      "total loss: 0.00122, total regularised loss: 0.00122\n",
      "Observation_Loss -> \n",
      "(1)  f(x,y): 0.00031 \n",
      "Time taken: 114.03s\n",
      "\n",
      "Start of epoch 10000\n",
      "total loss: 0.00119, total regularised loss: 0.00119\n",
      "Observation_Loss -> \n",
      "(1)  f(x,y): 0.00030 \n",
      "Time taken: 111.79s\n",
      "\n",
      "Start of epoch 15000\n",
      "total loss: 0.00115, total regularised loss: 0.00115\n",
      "Observation_Loss -> \n",
      "(1)  f(x,y): 0.00029 \n",
      "Time taken: 115.22s\n",
      "\n",
      "Start of epoch 20000\n",
      "total loss: 0.00110, total regularised loss: 0.00110\n",
      "Observation_Loss -> \n",
      "(1)  f(x,y): 0.00028 \n",
      "Time taken: 116.46s\n",
      "\n",
      "Start of epoch 25000\n",
      "total loss: 0.00104, total regularised loss: 0.00104\n",
      "Observation_Loss -> \n",
      "(1)  f(x,y): 0.00026 \n",
      "Time taken: 114.95s\n",
      "\n",
      "Start of epoch 30000\n",
      "total loss: 0.00096, total regularised loss: 0.00096\n",
      "Observation_Loss -> \n",
      "(1)  f(x,y): 0.00024 \n",
      "Time taken: 119.75s\n",
      "\n",
      "Start of epoch 35000\n",
      "total loss: 0.00089, total regularised loss: 0.00089\n",
      "Observation_Loss -> \n",
      "(1)  f(x,y): 0.00022 \n",
      "Time taken: 113.49s\n",
      "\n",
      "Start of epoch 40000\n",
      "total loss: 0.00082, total regularised loss: 0.00082\n",
      "Observation_Loss -> \n",
      "(1)  f(x,y): 0.00020 \n",
      "Time taken: 114.47s\n",
      "\n",
      "Start of epoch 45000\n",
      "total loss: 0.00075, total regularised loss: 0.00075\n",
      "Observation_Loss -> \n",
      "(1)  f(x,y): 0.00019 \n",
      "Time taken: 121.11s\n",
      "\n",
      "Start of epoch 50000\n",
      "total loss: 0.00069, total regularised loss: 0.00069\n",
      "Observation_Loss -> \n",
      "(1)  f(x,y): 0.00017 \n",
      "Time taken: 121.96s\n"
     ]
    }
   ],
   "source": [
    "model2.optimizer.lr.assign(5e-5)\n",
    "results4 = model2.train(50000+1, 4096, ds_gaussian_2d, print_interval=5000,stop_threshold=5e-5, \n",
    "                        regularise=False, sample_regularisations=False)"
   ]
  },
  {
   "cell_type": "markdown",
   "id": "31e2b982",
   "metadata": {
    "ExecuteTime": {
     "end_time": "2023-01-04T19:40:10.595083Z",
     "start_time": "2023-01-04T19:40:10.587879Z"
    }
   },
   "source": [
    "# After training"
   ]
  },
  {
   "cell_type": "code",
   "execution_count": 119,
   "id": "54e70e7c",
   "metadata": {
    "ExecuteTime": {
     "end_time": "2023-01-04T22:55:57.195182Z",
     "start_time": "2023-01-04T22:55:56.750306Z"
    }
   },
   "outputs": [
    {
     "data": {
      "image/png": "[encoded data removed]",
      "text/plain": [
       "<Figure size 1152x576 with 5 Axes>"
      ]
     },
     "metadata": {
      "needs_background": "light"
     },
     "output_type": "display_data"
    }
   ],
   "source": [
    "y, y_der_1, y_der_2 = derivatives(pinn2, data_input)\n",
    "\n",
    "\n",
    "_ = plt.figure(figsize=(16,8))\n",
    "plt.subplot(231)\n",
    "plot(X, Y, to_2d(y.numpy()), \"f(x,y)\")\n",
    "plt.subplot(232)\n",
    "plot(X, Y, to_2d(y_der_1[0].numpy()[:,0]), \"df/dx\")\n",
    "plt.subplot(233)\n",
    "plot(X, Y, to_2d(y_der_1[0].numpy()[:,1]), \"df/dy\")\n",
    "plt.subplot(234)\n",
    "plot(X, Y, to_2d(y_der_2[0].numpy()[:,0]), \"d2f/dx2\")\n",
    "plt.subplot(235)\n",
    "plot(X, Y, to_2d(y_der_2[0].numpy()[:,1]), \"d2f/dy2\")\n",
    "plt.show()"
   ]
  },
  {
   "cell_type": "markdown",
   "id": "99244636",
   "metadata": {},
   "source": [
    "# Second 2D model with higher capacity"
   ]
  },
  {
   "cell_type": "code",
   "execution_count": 122,
   "id": "d23e2df5",
   "metadata": {
    "ExecuteTime": {
     "end_time": "2023-01-04T23:09:29.409792Z",
     "start_time": "2023-01-04T23:09:29.394021Z"
    }
   },
   "outputs": [],
   "source": [
    "layers3 = [2, 128, 1]\n",
    "pinn3 = tu.NN(layers3, \n",
    "             lb= np.amin(np.concatenate([data_2d_x, data_2d_y], axis=1), 0),\n",
    "             ub= np.amax(np.concatenate([data_2d_x, data_2d_y], axis=1), 0),\n",
    "             dtype=tf.float32)"
   ]
  },
  {
   "cell_type": "code",
   "execution_count": 123,
   "id": "a44dbc31",
   "metadata": {
    "ExecuteTime": {
     "end_time": "2023-01-05T01:33:43.989358Z",
     "start_time": "2023-01-04T23:09:37.016742Z"
    },
    "scrolled": true
   },
   "outputs": [
    {
     "name": "stdout",
     "output_type": "stream",
     "text": [
      "\n",
      "Start of epoch 0\n",
      "total loss: 0.24406, total regularised loss: 0.24406\n",
      "Observation_Loss -> \n",
      "(1)  f(x,y): 0.06102 \n",
      "Time taken: 1.48s\n",
      "\n",
      "Start of epoch 5000\n",
      "total loss: 0.16184, total regularised loss: 0.16184\n",
      "Observation_Loss -> \n",
      "(1)  f(x,y): 0.04046 \n",
      "Time taken: 117.07s\n",
      "\n",
      "Start of epoch 10000\n",
      "total loss: 0.15838, total regularised loss: 0.15838\n",
      "Observation_Loss -> \n",
      "(1)  f(x,y): 0.03959 \n",
      "Time taken: 117.47s\n",
      "\n",
      "Start of epoch 15000\n",
      "total loss: 0.14202, total regularised loss: 0.14202\n",
      "Observation_Loss -> \n",
      "(1)  f(x,y): 0.03551 \n",
      "Time taken: 119.94s\n",
      "\n",
      "Start of epoch 20000\n",
      "total loss: 0.09942, total regularised loss: 0.09942\n",
      "Observation_Loss -> \n",
      "(1)  f(x,y): 0.02486 \n",
      "Time taken: 118.65s\n",
      "\n",
      "Start of epoch 25000\n",
      "total loss: 0.06740, total regularised loss: 0.06740\n",
      "Observation_Loss -> \n",
      "(1)  f(x,y): 0.01685 \n",
      "Time taken: 116.47s\n",
      "\n",
      "Start of epoch 30000\n",
      "total loss: 0.05285, total regularised loss: 0.05285\n",
      "Observation_Loss -> \n",
      "(1)  f(x,y): 0.01321 \n",
      "Time taken: 115.54s\n",
      "\n",
      "Start of epoch 35000\n",
      "total loss: 0.04005, total regularised loss: 0.04005\n",
      "Observation_Loss -> \n",
      "(1)  f(x,y): 0.01001 \n",
      "Time taken: 116.23s\n",
      "\n",
      "Start of epoch 40000\n",
      "total loss: 0.02341, total regularised loss: 0.02341\n",
      "Observation_Loss -> \n",
      "(1)  f(x,y): 0.00585 \n",
      "Time taken: 114.73s\n",
      "\n",
      "Start of epoch 45000\n",
      "total loss: 0.01127, total regularised loss: 0.01127\n",
      "Observation_Loss -> \n",
      "(1)  f(x,y): 0.00282 \n",
      "Time taken: 114.27s\n",
      "\n",
      "Start of epoch 50000\n",
      "total loss: 0.00888, total regularised loss: 0.00888\n",
      "Observation_Loss -> \n",
      "(1)  f(x,y): 0.00222 \n",
      "Time taken: 113.45s\n",
      "\n",
      "Start of epoch 55000\n",
      "total loss: 0.00746, total regularised loss: 0.00746\n",
      "Observation_Loss -> \n",
      "(1)  f(x,y): 0.00187 \n",
      "Time taken: 115.67s\n",
      "\n",
      "Start of epoch 60000\n",
      "total loss: 0.00634, total regularised loss: 0.00634\n",
      "Observation_Loss -> \n",
      "(1)  f(x,y): 0.00158 \n",
      "Time taken: 118.77s\n",
      "\n",
      "Start of epoch 65000\n",
      "total loss: 0.00556, total regularised loss: 0.00556\n",
      "Observation_Loss -> \n",
      "(1)  f(x,y): 0.00139 \n",
      "Time taken: 117.99s\n",
      "\n",
      "Start of epoch 70000\n",
      "total loss: 0.00485, total regularised loss: 0.00485\n",
      "Observation_Loss -> \n",
      "(1)  f(x,y): 0.00121 \n",
      "Time taken: 118.41s\n",
      "\n",
      "Start of epoch 75000\n",
      "total loss: 0.00392, total regularised loss: 0.00392\n",
      "Observation_Loss -> \n",
      "(1)  f(x,y): 0.00098 \n",
      "Time taken: 115.04s\n",
      "\n",
      "Start of epoch 80000\n",
      "total loss: 0.00292, total regularised loss: 0.00292\n",
      "Observation_Loss -> \n",
      "(1)  f(x,y): 0.00073 \n",
      "Time taken: 112.98s\n",
      "\n",
      "Start of epoch 85000\n",
      "total loss: 0.00221, total regularised loss: 0.00221\n",
      "Observation_Loss -> \n",
      "(1)  f(x,y): 0.00055 \n",
      "Time taken: 117.45s\n",
      "\n",
      "Start of epoch 90000\n",
      "total loss: 0.00180, total regularised loss: 0.00180\n",
      "Observation_Loss -> \n",
      "(1)  f(x,y): 0.00045 \n",
      "Time taken: 115.94s\n",
      "\n",
      "Start of epoch 95000\n",
      "total loss: 0.00155, total regularised loss: 0.00155\n",
      "Observation_Loss -> \n",
      "(1)  f(x,y): 0.00039 \n",
      "Time taken: 112.22s\n",
      "\n",
      "Start of epoch 100000\n",
      "total loss: 0.00143, total regularised loss: 0.00143\n",
      "Observation_Loss -> \n",
      "(1)  f(x,y): 0.00036 \n",
      "Time taken: 114.92s\n",
      "\n",
      "Start of epoch 105000\n",
      "total loss: 0.00137, total regularised loss: 0.00137\n",
      "Observation_Loss -> \n",
      "(1)  f(x,y): 0.00034 \n",
      "Time taken: 115.67s\n",
      "\n",
      "Start of epoch 110000\n",
      "total loss: 0.00132, total regularised loss: 0.00132\n",
      "Observation_Loss -> \n",
      "(1)  f(x,y): 0.00033 \n",
      "Time taken: 114.96s\n",
      "\n",
      "Start of epoch 115000\n",
      "total loss: 0.00127, total regularised loss: 0.00127\n",
      "Observation_Loss -> \n",
      "(1)  f(x,y): 0.00032 \n",
      "Time taken: 118.53s\n",
      "\n",
      "Start of epoch 120000\n",
      "total loss: 0.00121, total regularised loss: 0.00121\n",
      "Observation_Loss -> \n",
      "(1)  f(x,y): 0.00030 \n",
      "Time taken: 116.57s\n",
      "\n",
      "Start of epoch 125000\n",
      "total loss: 0.00109, total regularised loss: 0.00109\n",
      "Observation_Loss -> \n",
      "(1)  f(x,y): 0.00027 \n",
      "Time taken: 118.04s\n",
      "\n",
      "Start of epoch 130000\n",
      "total loss: 0.00095, total regularised loss: 0.00095\n",
      "Observation_Loss -> \n",
      "(1)  f(x,y): 0.00024 \n",
      "Time taken: 117.81s\n",
      "\n",
      "Start of epoch 135000\n",
      "total loss: 0.00083, total regularised loss: 0.00083\n",
      "Observation_Loss -> \n",
      "(1)  f(x,y): 0.00021 \n",
      "Time taken: 115.71s\n",
      "\n",
      "Start of epoch 140000\n",
      "total loss: 0.00072, total regularised loss: 0.00072\n",
      "Observation_Loss -> \n",
      "(1)  f(x,y): 0.00018 \n",
      "Time taken: 116.71s\n",
      "\n",
      "Start of epoch 145000\n",
      "total loss: 0.00063, total regularised loss: 0.00063\n",
      "Observation_Loss -> \n",
      "(1)  f(x,y): 0.00016 \n",
      "Time taken: 117.03s\n",
      "\n",
      "Start of epoch 150000\n",
      "total loss: 0.00055, total regularised loss: 0.00055\n",
      "Observation_Loss -> \n",
      "(1)  f(x,y): 0.00014 \n",
      "Time taken: 117.42s\n",
      "\n",
      "Start of epoch 155000\n",
      "total loss: 0.00048, total regularised loss: 0.00048\n",
      "Observation_Loss -> \n",
      "(1)  f(x,y): 0.00012 \n",
      "Time taken: 115.77s\n",
      "\n",
      "Start of epoch 160000\n",
      "total loss: 0.00041, total regularised loss: 0.00041\n",
      "Observation_Loss -> \n",
      "(1)  f(x,y): 0.00010 \n",
      "Time taken: 115.55s\n",
      "\n",
      "Start of epoch 165000\n",
      "total loss: 0.00036, total regularised loss: 0.00036\n",
      "Observation_Loss -> \n",
      "(1)  f(x,y): 0.00009 \n",
      "Time taken: 118.25s\n",
      "\n",
      "Start of epoch 170000\n",
      "total loss: 0.00033, total regularised loss: 0.00033\n",
      "Observation_Loss -> \n",
      "(1)  f(x,y): 0.00008 \n",
      "Time taken: 115.35s\n",
      "\n",
      "Start of epoch 175000\n",
      "total loss: 0.00029, total regularised loss: 0.00029\n",
      "Observation_Loss -> \n",
      "(1)  f(x,y): 0.00007 \n",
      "Time taken: 113.47s\n",
      "\n",
      "Start of epoch 180000\n",
      "total loss: 0.00026, total regularised loss: 0.00026\n",
      "Observation_Loss -> \n",
      "(1)  f(x,y): 0.00007 \n",
      "Time taken: 116.23s\n",
      "\n",
      "Start of epoch 185000\n",
      "total loss: 0.00024, total regularised loss: 0.00024\n",
      "Observation_Loss -> \n",
      "(1)  f(x,y): 0.00006 \n",
      "Time taken: 113.85s\n",
      "\n",
      "Start of epoch 190000\n",
      "total loss: 0.00023, total regularised loss: 0.00023\n",
      "Observation_Loss -> \n",
      "(1)  f(x,y): 0.00006 \n",
      "Time taken: 115.50s\n",
      "\n",
      "Start of epoch 195000\n",
      "total loss: 0.00021, total regularised loss: 0.00021\n",
      "Observation_Loss -> \n",
      "(1)  f(x,y): 0.00005 \n",
      "Time taken: 120.68s\n",
      "\n",
      "Start of epoch 200000\n",
      "total loss: 0.00019, total regularised loss: 0.00019\n",
      "Observation_Loss -> \n",
      "(1)  f(x,y): 0.00005 \n",
      "Time taken: 119.76s\n",
      "\n",
      "Start of epoch 205000\n",
      "total loss: 0.00019, total regularised loss: 0.00019\n",
      "Observation_Loss -> \n",
      "(1)  f(x,y): 0.00005 \n",
      "Time taken: 123.66s\n",
      "\n",
      "Start of epoch 210000\n",
      "total loss: 0.00017, total regularised loss: 0.00017\n",
      "Observation_Loss -> \n",
      "(1)  f(x,y): 0.00004 \n",
      "Time taken: 120.70s\n",
      "\n",
      "Start of epoch 215000\n",
      "total loss: 0.00016, total regularised loss: 0.00016\n",
      "Observation_Loss -> \n",
      "(1)  f(x,y): 0.00004 \n",
      "Time taken: 118.46s\n",
      "\n",
      "Start of epoch 220000\n",
      "total loss: 0.00015, total regularised loss: 0.00015\n",
      "Observation_Loss -> \n",
      "(1)  f(x,y): 0.00004 \n",
      "Time taken: 116.43s\n",
      "\n",
      "Start of epoch 225000\n",
      "total loss: 0.00014, total regularised loss: 0.00014\n",
      "Observation_Loss -> \n",
      "(1)  f(x,y): 0.00004 \n",
      "Time taken: 118.90s\n",
      "\n",
      "Start of epoch 230000\n",
      "total loss: 0.00013, total regularised loss: 0.00013\n",
      "Observation_Loss -> \n",
      "(1)  f(x,y): 0.00003 \n",
      "Time taken: 118.48s\n",
      "\n",
      "Start of epoch 235000\n",
      "total loss: 0.00013, total regularised loss: 0.00013\n",
      "Observation_Loss -> \n",
      "(1)  f(x,y): 0.00003 \n",
      "Time taken: 116.14s\n",
      "\n",
      "Start of epoch 240000\n",
      "total loss: 0.00012, total regularised loss: 0.00012\n",
      "Observation_Loss -> \n",
      "(1)  f(x,y): 0.00003 \n",
      "Time taken: 119.21s\n",
      "\n",
      "Start of epoch 245000\n",
      "total loss: 0.00011, total regularised loss: 0.00011\n",
      "Observation_Loss -> \n",
      "(1)  f(x,y): 0.00003 \n",
      "Time taken: 115.12s\n",
      "\n",
      "Start of epoch 250000\n",
      "total loss: 0.00011, total regularised loss: 0.00011\n",
      "Observation_Loss -> \n",
      "(1)  f(x,y): 0.00003 \n",
      "Time taken: 119.05s\n",
      "\n",
      "Start of epoch 255000\n",
      "total loss: 0.00010, total regularised loss: 0.00010\n",
      "Observation_Loss -> \n",
      "(1)  f(x,y): 0.00003 \n",
      "Time taken: 119.58s\n",
      "\n",
      "Start of epoch 260000\n",
      "total loss: 0.00010, total regularised loss: 0.00010\n",
      "Observation_Loss -> \n",
      "(1)  f(x,y): 0.00002 \n",
      "Time taken: 119.46s\n",
      "\n",
      "Start of epoch 265000\n",
      "total loss: 0.00009, total regularised loss: 0.00009\n",
      "Observation_Loss -> \n",
      "(1)  f(x,y): 0.00002 \n",
      "Time taken: 117.08s\n",
      "\n",
      "Start of epoch 270000\n",
      "total loss: 0.00009, total regularised loss: 0.00009\n",
      "Observation_Loss -> \n",
      "(1)  f(x,y): 0.00002 \n",
      "Time taken: 112.78s\n",
      "\n",
      "Start of epoch 275000\n",
      "total loss: 0.00009, total regularised loss: 0.00009\n",
      "Observation_Loss -> \n",
      "(1)  f(x,y): 0.00002 \n",
      "Time taken: 114.08s\n",
      "\n",
      "Start of epoch 280000\n",
      "total loss: 0.00008, total regularised loss: 0.00008\n",
      "Observation_Loss -> \n",
      "(1)  f(x,y): 0.00002 \n",
      "Time taken: 118.36s\n",
      "\n",
      "Start of epoch 285000\n",
      "total loss: 0.00008, total regularised loss: 0.00008\n",
      "Observation_Loss -> \n",
      "(1)  f(x,y): 0.00002 \n",
      "Time taken: 121.89s\n",
      "\n",
      "Start of epoch 290000\n",
      "total loss: 0.00008, total regularised loss: 0.00008\n",
      "Observation_Loss -> \n",
      "(1)  f(x,y): 0.00002 \n",
      "Time taken: 118.16s\n",
      "\n",
      "Start of epoch 295000\n",
      "total loss: 0.00007, total regularised loss: 0.00007\n",
      "Observation_Loss -> \n",
      "(1)  f(x,y): 0.00002 \n",
      "Time taken: 119.69s\n"
     ]
    },
    {
     "name": "stdout",
     "output_type": "stream",
     "text": [
      "\n",
      "Start of epoch 300000\n",
      "total loss: 0.00007, total regularised loss: 0.00007\n",
      "Observation_Loss -> \n",
      "(1)  f(x,y): 0.00002 \n",
      "Time taken: 122.82s\n",
      "\n",
      "Start of epoch 305000\n",
      "total loss: 0.00007, total regularised loss: 0.00007\n",
      "Observation_Loss -> \n",
      "(1)  f(x,y): 0.00002 \n",
      "Time taken: 119.68s\n",
      "\n",
      "Start of epoch 310000\n",
      "total loss: 0.00006, total regularised loss: 0.00006\n",
      "Observation_Loss -> \n",
      "(1)  f(x,y): 0.00002 \n",
      "Time taken: 119.55s\n",
      "\n",
      "Start of epoch 315000\n",
      "total loss: 0.00007, total regularised loss: 0.00007\n",
      "Observation_Loss -> \n",
      "(1)  f(x,y): 0.00002 \n",
      "Time taken: 116.29s\n",
      "\n",
      "Start of epoch 320000\n",
      "total loss: 0.00006, total regularised loss: 0.00006\n",
      "Observation_Loss -> \n",
      "(1)  f(x,y): 0.00002 \n",
      "Time taken: 113.49s\n",
      "\n",
      "Start of epoch 325000\n",
      "total loss: 0.00006, total regularised loss: 0.00006\n",
      "Observation_Loss -> \n",
      "(1)  f(x,y): 0.00001 \n",
      "Time taken: 118.08s\n",
      "\n",
      "Start of epoch 330000\n",
      "total loss: 0.00006, total regularised loss: 0.00006\n",
      "Observation_Loss -> \n",
      "(1)  f(x,y): 0.00001 \n",
      "Time taken: 113.92s\n",
      "\n",
      "Start of epoch 335000\n",
      "total loss: 0.00006, total regularised loss: 0.00006\n",
      "Observation_Loss -> \n",
      "(1)  f(x,y): 0.00002 \n",
      "Time taken: 120.08s\n",
      "\n",
      "Start of epoch 340000\n",
      "total loss: 0.00006, total regularised loss: 0.00006\n",
      "Observation_Loss -> \n",
      "(1)  f(x,y): 0.00001 \n",
      "Time taken: 122.95s\n",
      "\n",
      "Start of epoch 345000\n",
      "total loss: 0.00006, total regularised loss: 0.00006\n",
      "Observation_Loss -> \n",
      "(1)  f(x,y): 0.00001 \n",
      "Time taken: 119.60s\n",
      "\n",
      "Start of epoch 350000\n",
      "total loss: 0.00006, total regularised loss: 0.00006\n",
      "Observation_Loss -> \n",
      "(1)  f(x,y): 0.00001 \n",
      "Time taken: 121.41s\n",
      "\n",
      "Start of epoch 355000\n",
      "total loss: 0.00005, total regularised loss: 0.00005\n",
      "Observation_Loss -> \n",
      "(1)  f(x,y): 0.00001 \n",
      "Time taken: 121.04s\n",
      "\n",
      "Start of epoch 360000\n",
      "total loss: 0.00005, total regularised loss: 0.00005\n",
      "Observation_Loss -> \n",
      "(1)  f(x,y): 0.00001 \n",
      "Time taken: 119.85s\n",
      "\n",
      "Start of epoch 365000\n",
      "total loss: 0.00005, total regularised loss: 0.00005\n",
      "Observation_Loss -> \n",
      "(1)  f(x,y): 0.00001 \n",
      "Time taken: 120.45s\n",
      "############################################\n",
      "#               Early stop                 #\n",
      "############################################\n"
     ]
    }
   ],
   "source": [
    "loss3 = Observation_Loss(layers3, residual_ret_names=(\"f(x,y)\",))\n",
    "model3 = tu.TINN(pinn3, [loss3], L2(), optimizer=keras.optimizers.Adam(learning_rate=1e-4))\n",
    "results5 = model3.train(500000+1, 4096, ds_gaussian_2d, print_interval=5000,stop_threshold=5e-5,\n",
    "                       regularise=False, sample_regularisations=False)"
   ]
  },
  {
   "cell_type": "code",
   "execution_count": 131,
   "id": "0f84c066",
   "metadata": {
    "ExecuteTime": {
     "end_time": "2023-01-05T10:34:05.920772Z",
     "start_time": "2023-01-05T09:55:33.197520Z"
    }
   },
   "outputs": [
    {
     "name": "stdout",
     "output_type": "stream",
     "text": [
      "\n",
      "Start of epoch 0\n",
      "total loss: 0.0001171530, total regularised loss: 0.0001171530\n",
      "Observation_Loss -> \n",
      "(1)  f(x,y): 0.0000292882 \n",
      "Time taken: 0.97s\n",
      "\n",
      "Start of epoch 5000\n",
      "total loss: 0.0000488466, total regularised loss: 0.0000488467\n",
      "Observation_Loss -> \n",
      "(1)  f(x,y): 0.0000122117 \n",
      "Time taken: 120.61s\n",
      "\n",
      "Start of epoch 10000\n",
      "total loss: 0.0000488163, total regularised loss: 0.0000488163\n",
      "Observation_Loss -> \n",
      "(1)  f(x,y): 0.0000122041 \n",
      "Time taken: 115.84s\n",
      "\n",
      "Start of epoch 15000\n",
      "total loss: 0.0000502060, total regularised loss: 0.0000502059\n",
      "Observation_Loss -> \n",
      "(1)  f(x,y): 0.0000125515 \n",
      "Time taken: 118.55s\n",
      "\n",
      "Start of epoch 20000\n",
      "total loss: 0.0000473627, total regularised loss: 0.0000473627\n",
      "Observation_Loss -> \n",
      "(1)  f(x,y): 0.0000118407 \n",
      "Time taken: 115.77s\n",
      "\n",
      "Start of epoch 25000\n",
      "total loss: 0.0000482191, total regularised loss: 0.0000482191\n",
      "Observation_Loss -> \n",
      "(1)  f(x,y): 0.0000120548 \n",
      "Time taken: 118.31s\n",
      "\n",
      "Start of epoch 30000\n",
      "total loss: 0.0000471000, total regularised loss: 0.0000471000\n",
      "Observation_Loss -> \n",
      "(1)  f(x,y): 0.0000117750 \n",
      "Time taken: 112.83s\n",
      "\n",
      "Start of epoch 35000\n",
      "total loss: 0.0000471798, total regularised loss: 0.0000471798\n",
      "Observation_Loss -> \n",
      "(1)  f(x,y): 0.0000117950 \n",
      "Time taken: 114.49s\n",
      "\n",
      "Start of epoch 40000\n",
      "total loss: 0.0000461780, total regularised loss: 0.0000461780\n",
      "Observation_Loss -> \n",
      "(1)  f(x,y): 0.0000115445 \n",
      "Time taken: 116.04s\n",
      "\n",
      "Start of epoch 45000\n",
      "total loss: 0.0000458802, total regularised loss: 0.0000458802\n",
      "Observation_Loss -> \n",
      "(1)  f(x,y): 0.0000114701 \n",
      "Time taken: 111.74s\n",
      "\n",
      "Start of epoch 50000\n",
      "total loss: 0.0000449105, total regularised loss: 0.0000449105\n",
      "Observation_Loss -> \n",
      "(1)  f(x,y): 0.0000112276 \n",
      "Time taken: 114.24s\n",
      "\n",
      "Start of epoch 55000\n",
      "total loss: 0.0000445359, total regularised loss: 0.0000445359\n",
      "Observation_Loss -> \n",
      "(1)  f(x,y): 0.0000111340 \n",
      "Time taken: 115.49s\n",
      "\n",
      "Start of epoch 60000\n",
      "total loss: 0.0000441943, total regularised loss: 0.0000441943\n",
      "Observation_Loss -> \n",
      "(1)  f(x,y): 0.0000110486 \n",
      "Time taken: 113.25s\n",
      "\n",
      "Start of epoch 65000\n",
      "total loss: 0.0000437939, total regularised loss: 0.0000437939\n",
      "Observation_Loss -> \n",
      "(1)  f(x,y): 0.0000109485 \n",
      "Time taken: 113.60s\n",
      "\n",
      "Start of epoch 70000\n",
      "total loss: 0.0000434144, total regularised loss: 0.0000434144\n",
      "Observation_Loss -> \n",
      "(1)  f(x,y): 0.0000108536 \n",
      "Time taken: 115.01s\n",
      "\n",
      "Start of epoch 75000\n",
      "total loss: 0.0000430565, total regularised loss: 0.0000430565\n",
      "Observation_Loss -> \n",
      "(1)  f(x,y): 0.0000107641 \n",
      "Time taken: 114.23s\n",
      "\n",
      "Start of epoch 80000\n",
      "total loss: 0.0000439565, total regularised loss: 0.0000439565\n",
      "Observation_Loss -> \n",
      "(1)  f(x,y): 0.0000109891 \n",
      "Time taken: 114.15s\n",
      "\n",
      "Start of epoch 85000\n",
      "total loss: 0.0000448114, total regularised loss: 0.0000448114\n",
      "Observation_Loss -> \n",
      "(1)  f(x,y): 0.0000112029 \n",
      "Time taken: 114.73s\n",
      "\n",
      "Start of epoch 90000\n",
      "total loss: 0.0000420164, total regularised loss: 0.0000420164\n",
      "Observation_Loss -> \n",
      "(1)  f(x,y): 0.0000105041 \n",
      "Time taken: 116.73s\n",
      "\n",
      "Start of epoch 95000\n",
      "total loss: 0.0000416579, total regularised loss: 0.0000416579\n",
      "Observation_Loss -> \n",
      "(1)  f(x,y): 0.0000104145 \n",
      "Time taken: 119.02s\n",
      "\n",
      "Start of epoch 100000\n",
      "total loss: 0.0000412956, total regularised loss: 0.0000412956\n",
      "Observation_Loss -> \n",
      "(1)  f(x,y): 0.0000103239 \n",
      "Time taken: 117.10s\n"
     ]
    }
   ],
   "source": [
    "loss3.print_precision = \".10f\"\n",
    "model3.print_precision = \".10f\"\n",
    "model3.optimizer.lr.assign(5e-5)\n",
    "results6 = model3.train(100000+1, 4096, ds_gaussian_2d, print_interval=5000,stop_threshold=1e-6,\n",
    "                       regularise=False, sample_regularisations=False)"
   ]
  },
  {
   "cell_type": "code",
   "execution_count": 132,
   "id": "881c2784",
   "metadata": {
    "ExecuteTime": {
     "end_time": "2023-01-05T10:37:20.316642Z",
     "start_time": "2023-01-05T10:37:19.899170Z"
    }
   },
   "outputs": [
    {
     "data": {
      "image/png": "[encoded data removed]",
      "text/plain": [
       "<Figure size 1152x576 with 5 Axes>"
      ]
     },
     "metadata": {
      "needs_background": "light"
     },
     "output_type": "display_data"
    }
   ],
   "source": [
    "y, y_der_1, y_der_2 = derivatives(pinn3, data_input)\n",
    "\n",
    "\n",
    "_ = plt.figure(figsize=(16,8))\n",
    "plt.subplot(231)\n",
    "plot(X, Y, to_2d(y.numpy()), \"f(x,y)\")\n",
    "plt.subplot(232)\n",
    "plot(X, Y, to_2d(y_der_1[0].numpy()[:,0]), \"df/dx\")\n",
    "plt.subplot(233)\n",
    "plot(X, Y, to_2d(y_der_1[0].numpy()[:,1]), \"df/dy\")\n",
    "plt.subplot(234)\n",
    "plot(X, Y, to_2d(y_der_2[0].numpy()[:,0]), \"d2f/dx2\")\n",
    "plt.subplot(235)\n",
    "plot(X, Y, to_2d(y_der_2[0].numpy()[:,1]), \"d2f/dy2\")\n",
    "plt.show()"
   ]
  },
  {
   "cell_type": "markdown",
   "id": "2c7c02f3",
   "metadata": {
    "ExecuteTime": {
     "end_time": "2023-01-05T09:48:32.803657Z",
     "start_time": "2023-01-05T09:48:31.641614Z"
    }
   },
   "source": [
    "# Third 2D model with two hidden layers"
   ]
  },
  {
   "cell_type": "code",
   "execution_count": 133,
   "id": "961a6aed",
   "metadata": {
    "ExecuteTime": {
     "end_time": "2023-01-05T10:38:34.414308Z",
     "start_time": "2023-01-05T10:38:34.397360Z"
    }
   },
   "outputs": [],
   "source": [
    "layers4 = [2, 128, 128, 1]\n",
    "pinn4 = tu.NN(layers4, \n",
    "             lb= np.amin(np.concatenate([data_2d_x, data_2d_y], axis=1), 0),\n",
    "             ub= np.amax(np.concatenate([data_2d_x, data_2d_y], axis=1), 0),\n",
    "             dtype=tf.float32)"
   ]
  },
  {
   "cell_type": "code",
   "execution_count": 135,
   "id": "10150d5a",
   "metadata": {
    "ExecuteTime": {
     "end_time": "2023-01-05T12:51:22.985110Z",
     "start_time": "2023-01-05T10:39:57.130813Z"
    },
    "scrolled": true
   },
   "outputs": [
    {
     "name": "stdout",
     "output_type": "stream",
     "text": [
      "\n",
      "Start of epoch 0\n",
      "total loss: 0.2359610377, total regularised loss: 0.2359610498\n",
      "Observation_Loss -> \n",
      "(1)  f(x,y): 0.0589902594 \n",
      "Time taken: 1.74s\n",
      "\n",
      "Start of epoch 5000\n",
      "total loss: 0.0008787420, total regularised loss: 0.0008787421\n",
      "Observation_Loss -> \n",
      "(1)  f(x,y): 0.0002196855 \n",
      "Time taken: 122.87s\n",
      "\n",
      "Start of epoch 10000\n",
      "total loss: 0.0001305454, total regularised loss: 0.0001305454\n",
      "Observation_Loss -> \n",
      "(1)  f(x,y): 0.0000326363 \n",
      "Time taken: 122.83s\n",
      "\n",
      "Start of epoch 15000\n",
      "total loss: 0.0000692052, total regularised loss: 0.0000692052\n",
      "Observation_Loss -> \n",
      "(1)  f(x,y): 0.0000173013 \n",
      "Time taken: 123.38s\n",
      "\n",
      "Start of epoch 20000\n",
      "total loss: 0.0000477242, total regularised loss: 0.0000477242\n",
      "Observation_Loss -> \n",
      "(1)  f(x,y): 0.0000119311 \n",
      "Time taken: 118.73s\n",
      "\n",
      "Start of epoch 25000\n",
      "total loss: 0.0000340502, total regularised loss: 0.0000340502\n",
      "Observation_Loss -> \n",
      "(1)  f(x,y): 0.0000085126 \n",
      "Time taken: 124.72s\n",
      "\n",
      "Start of epoch 30000\n",
      "total loss: 0.0000261693, total regularised loss: 0.0000261693\n",
      "Observation_Loss -> \n",
      "(1)  f(x,y): 0.0000065423 \n",
      "Time taken: 126.30s\n",
      "\n",
      "Start of epoch 35000\n",
      "total loss: 0.0000188966, total regularised loss: 0.0000188966\n",
      "Observation_Loss -> \n",
      "(1)  f(x,y): 0.0000047241 \n",
      "Time taken: 127.16s\n",
      "\n",
      "Start of epoch 40000\n",
      "total loss: 0.0000286142, total regularised loss: 0.0000286142\n",
      "Observation_Loss -> \n",
      "(1)  f(x,y): 0.0000071535 \n",
      "Time taken: 124.99s\n",
      "\n",
      "Start of epoch 45000\n",
      "total loss: 0.0000113877, total regularised loss: 0.0000113877\n",
      "Observation_Loss -> \n",
      "(1)  f(x,y): 0.0000028469 \n",
      "Time taken: 123.98s\n",
      "\n",
      "Start of epoch 50000\n",
      "total loss: 0.0000091551, total regularised loss: 0.0000091551\n",
      "Observation_Loss -> \n",
      "(1)  f(x,y): 0.0000022888 \n",
      "Time taken: 122.00s\n",
      "\n",
      "Start of epoch 55000\n",
      "total loss: 0.0000075074, total regularised loss: 0.0000075074\n",
      "Observation_Loss -> \n",
      "(1)  f(x,y): 0.0000018769 \n",
      "Time taken: 124.92s\n",
      "\n",
      "Start of epoch 60000\n",
      "total loss: 0.0000994716, total regularised loss: 0.0000994716\n",
      "Observation_Loss -> \n",
      "(1)  f(x,y): 0.0000248679 \n",
      "Time taken: 129.13s\n",
      "\n",
      "Start of epoch 65000\n",
      "total loss: 0.0000054128, total regularised loss: 0.0000054128\n",
      "Observation_Loss -> \n",
      "(1)  f(x,y): 0.0000013532 \n",
      "Time taken: 128.46s\n",
      "\n",
      "Start of epoch 70000\n",
      "total loss: 0.0000047751, total regularised loss: 0.0000047751\n",
      "Observation_Loss -> \n",
      "(1)  f(x,y): 0.0000011938 \n",
      "Time taken: 128.73s\n",
      "\n",
      "Start of epoch 75000\n",
      "total loss: 0.0000042981, total regularised loss: 0.0000042981\n",
      "Observation_Loss -> \n",
      "(1)  f(x,y): 0.0000010745 \n",
      "Time taken: 129.64s\n",
      "\n",
      "Start of epoch 80000\n",
      "total loss: 0.0000039394, total regularised loss: 0.0000039394\n",
      "Observation_Loss -> \n",
      "(1)  f(x,y): 0.0000009848 \n",
      "Time taken: 126.69s\n",
      "\n",
      "Start of epoch 85000\n",
      "total loss: 0.0000036661, total regularised loss: 0.0000036661\n",
      "Observation_Loss -> \n",
      "(1)  f(x,y): 0.0000009165 \n",
      "Time taken: 125.55s\n",
      "\n",
      "Start of epoch 90000\n",
      "total loss: 0.0000035738, total regularised loss: 0.0000035738\n",
      "Observation_Loss -> \n",
      "(1)  f(x,y): 0.0000008934 \n",
      "Time taken: 123.02s\n",
      "\n",
      "Start of epoch 95000\n",
      "total loss: 0.0000032754, total regularised loss: 0.0000032754\n",
      "Observation_Loss -> \n",
      "(1)  f(x,y): 0.0000008189 \n",
      "Time taken: 122.63s\n",
      "\n",
      "Start of epoch 100000\n",
      "total loss: 0.0000054676, total regularised loss: 0.0000054676\n",
      "Observation_Loss -> \n",
      "(1)  f(x,y): 0.0000013669 \n",
      "Time taken: 121.84s\n",
      "\n",
      "Start of epoch 105000\n",
      "total loss: 0.0000028889, total regularised loss: 0.0000028889\n",
      "Observation_Loss -> \n",
      "(1)  f(x,y): 0.0000007222 \n",
      "Time taken: 126.60s\n",
      "\n",
      "Start of epoch 110000\n",
      "total loss: 0.0000029299, total regularised loss: 0.0000029299\n",
      "Observation_Loss -> \n",
      "(1)  f(x,y): 0.0000007325 \n",
      "Time taken: 128.27s\n",
      "\n",
      "Start of epoch 115000\n",
      "total loss: 0.0000026070, total regularised loss: 0.0000026070\n",
      "Observation_Loss -> \n",
      "(1)  f(x,y): 0.0000006518 \n",
      "Time taken: 124.33s\n",
      "\n",
      "Start of epoch 120000\n",
      "total loss: 0.0000024740, total regularised loss: 0.0000024740\n",
      "Observation_Loss -> \n",
      "(1)  f(x,y): 0.0000006185 \n",
      "Time taken: 120.10s\n",
      "\n",
      "Start of epoch 125000\n",
      "total loss: 0.0000027303, total regularised loss: 0.0000027303\n",
      "Observation_Loss -> \n",
      "(1)  f(x,y): 0.0000006826 \n",
      "Time taken: 122.98s\n",
      "\n",
      "Start of epoch 130000\n",
      "total loss: 0.0000045049, total regularised loss: 0.0000045049\n",
      "Observation_Loss -> \n",
      "(1)  f(x,y): 0.0000011262 \n",
      "Time taken: 126.06s\n",
      "\n",
      "Start of epoch 135000\n",
      "total loss: 0.0000021189, total regularised loss: 0.0000021189\n",
      "Observation_Loss -> \n",
      "(1)  f(x,y): 0.0000005297 \n",
      "Time taken: 127.27s\n",
      "\n",
      "Start of epoch 140000\n",
      "total loss: 0.0002108949, total regularised loss: 0.0002108949\n",
      "Observation_Loss -> \n",
      "(1)  f(x,y): 0.0000527237 \n",
      "Time taken: 127.20s\n",
      "\n",
      "Start of epoch 145000\n",
      "total loss: 0.0000042814, total regularised loss: 0.0000042814\n",
      "Observation_Loss -> \n",
      "(1)  f(x,y): 0.0000010704 \n",
      "Time taken: 124.67s\n",
      "\n",
      "Start of epoch 150000\n",
      "total loss: 0.0000018830, total regularised loss: 0.0000018830\n",
      "Observation_Loss -> \n",
      "(1)  f(x,y): 0.0000004708 \n",
      "Time taken: 127.37s\n",
      "\n",
      "Start of epoch 155000\n",
      "total loss: 0.0000018190, total regularised loss: 0.0000018190\n",
      "Observation_Loss -> \n",
      "(1)  f(x,y): 0.0000004547 \n",
      "Time taken: 125.76s\n",
      "\n",
      "Start of epoch 160000\n",
      "total loss: 0.0000710399, total regularised loss: 0.0000710399\n",
      "Observation_Loss -> \n",
      "(1)  f(x,y): 0.0000177600 \n",
      "Time taken: 124.14s\n",
      "\n",
      "Start of epoch 165000\n",
      "total loss: 0.0000017057, total regularised loss: 0.0000017057\n",
      "Observation_Loss -> \n",
      "(1)  f(x,y): 0.0000004264 \n",
      "Time taken: 125.81s\n",
      "\n",
      "Start of epoch 170000\n",
      "total loss: 0.0000108690, total regularised loss: 0.0000108690\n",
      "Observation_Loss -> \n",
      "(1)  f(x,y): 0.0000027172 \n",
      "Time taken: 126.55s\n",
      "\n",
      "Start of epoch 175000\n",
      "total loss: 0.0000016516, total regularised loss: 0.0000016516\n",
      "Observation_Loss -> \n",
      "(1)  f(x,y): 0.0000004129 \n",
      "Time taken: 126.34s\n",
      "\n",
      "Start of epoch 180000\n",
      "total loss: 0.0000015735, total regularised loss: 0.0000015735\n",
      "Observation_Loss -> \n",
      "(1)  f(x,y): 0.0000003934 \n",
      "Time taken: 121.98s\n",
      "\n",
      "Start of epoch 185000\n",
      "total loss: 0.0000344478, total regularised loss: 0.0000344478\n",
      "Observation_Loss -> \n",
      "(1)  f(x,y): 0.0000086120 \n",
      "Time taken: 121.85s\n",
      "\n",
      "Start of epoch 190000\n",
      "total loss: 0.0000014999, total regularised loss: 0.0000014999\n",
      "Observation_Loss -> \n",
      "(1)  f(x,y): 0.0000003750 \n",
      "Time taken: 121.43s\n",
      "\n",
      "Start of epoch 195000\n",
      "total loss: 0.0000017741, total regularised loss: 0.0000017741\n",
      "Observation_Loss -> \n",
      "(1)  f(x,y): 0.0000004435 \n",
      "Time taken: 122.52s\n",
      "\n",
      "Start of epoch 200000\n",
      "total loss: 0.0000014622, total regularised loss: 0.0000014622\n",
      "Observation_Loss -> \n",
      "(1)  f(x,y): 0.0000003656 \n",
      "Time taken: 122.80s\n",
      "\n",
      "Start of epoch 205000\n",
      "total loss: 0.0000029900, total regularised loss: 0.0000029900\n",
      "Observation_Loss -> \n",
      "(1)  f(x,y): 0.0000007475 \n",
      "Time taken: 121.30s\n",
      "\n",
      "Start of epoch 210000\n",
      "total loss: 0.0000013745, total regularised loss: 0.0000013745\n",
      "Observation_Loss -> \n",
      "(1)  f(x,y): 0.0000003436 \n",
      "Time taken: 127.53s\n",
      "\n",
      "Start of epoch 215000\n",
      "total loss: 0.0000013436, total regularised loss: 0.0000013436\n",
      "Observation_Loss -> \n",
      "(1)  f(x,y): 0.0000003359 \n",
      "Time taken: 128.05s\n",
      "\n",
      "Start of epoch 220000\n",
      "total loss: 0.0000022218, total regularised loss: 0.0000022218\n",
      "Observation_Loss -> \n",
      "(1)  f(x,y): 0.0000005555 \n",
      "Time taken: 123.54s\n",
      "\n",
      "Start of epoch 225000\n",
      "total loss: 0.0001180208, total regularised loss: 0.0001180208\n",
      "Observation_Loss -> \n",
      "(1)  f(x,y): 0.0000295052 \n",
      "Time taken: 124.94s\n",
      "\n",
      "Start of epoch 230000\n",
      "total loss: 0.0000312697, total regularised loss: 0.0000312697\n",
      "Observation_Loss -> \n",
      "(1)  f(x,y): 0.0000078174 \n",
      "Time taken: 123.06s\n",
      "\n",
      "Start of epoch 235000\n",
      "total loss: 0.0000044300, total regularised loss: 0.0000044300\n",
      "Observation_Loss -> \n",
      "(1)  f(x,y): 0.0000011075 \n",
      "Time taken: 123.36s\n",
      "\n",
      "Start of epoch 240000\n",
      "total loss: 0.0000012801, total regularised loss: 0.0000012801\n",
      "Observation_Loss -> \n",
      "(1)  f(x,y): 0.0000003200 \n",
      "Time taken: 122.31s\n",
      "\n",
      "Start of epoch 245000\n",
      "total loss: 0.0000013180, total regularised loss: 0.0000013180\n",
      "Observation_Loss -> \n",
      "(1)  f(x,y): 0.0000003295 \n",
      "Time taken: 122.94s\n",
      "\n",
      "Start of epoch 250000\n",
      "total loss: 0.0000256006, total regularised loss: 0.0000256006\n",
      "Observation_Loss -> \n",
      "(1)  f(x,y): 0.0000064001 \n",
      "Time taken: 122.88s\n",
      "\n",
      "Start of epoch 255000\n",
      "total loss: 0.0000049542, total regularised loss: 0.0000049542\n",
      "Observation_Loss -> \n",
      "(1)  f(x,y): 0.0000012385 \n",
      "Time taken: 124.64s\n",
      "\n",
      "Start of epoch 260000\n",
      "total loss: 0.0000011670, total regularised loss: 0.0000011670\n",
      "Observation_Loss -> \n",
      "(1)  f(x,y): 0.0000002918 \n",
      "Time taken: 123.55s\n",
      "\n",
      "Start of epoch 265000\n",
      "total loss: 0.0000016348, total regularised loss: 0.0000016348\n",
      "Observation_Loss -> \n",
      "(1)  f(x,y): 0.0000004087 \n",
      "Time taken: 118.74s\n"
     ]
    },
    {
     "name": "stdout",
     "output_type": "stream",
     "text": [
      "\n",
      "Start of epoch 270000\n",
      "total loss: 0.0000026405, total regularised loss: 0.0000026405\n",
      "Observation_Loss -> \n",
      "(1)  f(x,y): 0.0000006601 \n",
      "Time taken: 128.45s\n",
      "\n",
      "Start of epoch 275000\n",
      "total loss: 0.0000032578, total regularised loss: 0.0000032578\n",
      "Observation_Loss -> \n",
      "(1)  f(x,y): 0.0000008144 \n",
      "Time taken: 123.29s\n",
      "\n",
      "Start of epoch 280000\n",
      "total loss: 0.0000017333, total regularised loss: 0.0000017333\n",
      "Observation_Loss -> \n",
      "(1)  f(x,y): 0.0000004333 \n",
      "Time taken: 126.14s\n",
      "\n",
      "Start of epoch 285000\n",
      "total loss: 0.0000032079, total regularised loss: 0.0000032079\n",
      "Observation_Loss -> \n",
      "(1)  f(x,y): 0.0000008020 \n",
      "Time taken: 120.23s\n",
      "\n",
      "Start of epoch 290000\n",
      "total loss: 0.0000011048, total regularised loss: 0.0000011048\n",
      "Observation_Loss -> \n",
      "(1)  f(x,y): 0.0000002762 \n",
      "Time taken: 125.48s\n",
      "\n",
      "Start of epoch 295000\n",
      "total loss: 0.0000095085, total regularised loss: 0.0000095085\n",
      "Observation_Loss -> \n",
      "(1)  f(x,y): 0.0000023771 \n",
      "Time taken: 125.20s\n",
      "\n",
      "Start of epoch 300000\n",
      "total loss: 0.0000051635, total regularised loss: 0.0000051635\n",
      "Observation_Loss -> \n",
      "(1)  f(x,y): 0.0000012909 \n",
      "Time taken: 121.24s\n",
      "\n",
      "Start of epoch 305000\n",
      "total loss: 0.0000010266, total regularised loss: 0.0000010266\n",
      "Observation_Loss -> \n",
      "(1)  f(x,y): 0.0000002566 \n",
      "Time taken: 121.61s\n",
      "\n",
      "Start of epoch 310000\n",
      "total loss: 0.0000023515, total regularised loss: 0.0000023515\n",
      "Observation_Loss -> \n",
      "(1)  f(x,y): 0.0000005879 \n",
      "Time taken: 120.88s\n",
      "\n",
      "Start of epoch 315000\n",
      "total loss: 0.0000038434, total regularised loss: 0.0000038434\n",
      "Observation_Loss -> \n",
      "(1)  f(x,y): 0.0000009608 \n",
      "Time taken: 124.75s\n",
      "############################################\n",
      "#               Early stop                 #\n",
      "############################################\n"
     ]
    }
   ],
   "source": [
    "loss4 = Observation_Loss(layers4, residual_ret_names=(\"f(x,y)\",), print_precision = \".10f\")\n",
    "model4 = tu.TINN(pinn4, [loss4], L2(),\n",
    "                 optimizer=keras.optimizers.Adam(learning_rate=1e-4), print_precision = \".10f\")\n",
    "results7 = model4.train(500000+1, 4096, ds_gaussian_2d, print_interval=5000,stop_threshold=1e-6,\n",
    "                       regularise=False, sample_regularisations=False)"
   ]
  },
  {
   "cell_type": "code",
   "execution_count": 136,
   "id": "fed48c5b",
   "metadata": {
    "ExecuteTime": {
     "end_time": "2023-01-05T12:54:06.841014Z",
     "start_time": "2023-01-05T12:54:06.548133Z"
    }
   },
   "outputs": [],
   "source": [
    "model4.save(\".\", \"Gaussian_2d_2_hidden\")"
   ]
  },
  {
   "cell_type": "code",
   "execution_count": 8,
   "id": "4109dbfc",
   "metadata": {
    "ExecuteTime": {
     "end_time": "2023-01-05T13:39:31.820706Z",
     "start_time": "2023-01-05T13:39:30.441116Z"
    }
   },
   "outputs": [
    {
     "name": "stderr",
     "output_type": "stream",
     "text": [
      "2023-01-05 13:39:31.370059: W tensorflow/python/util/util.cc:348] Sets are not currently considered sequences, but this may change in the future, so consider avoiding using them.\n",
      "2023-01-05 13:39:31.576357: I tensorflow/stream_executor/platform/default/dso_loader.cc:48] Successfully opened dynamic library libcublas.so.10\n"
     ]
    }
   ],
   "source": [
    "model4 = tu.TINN.restore(\".\", \"Gaussian_2d_2_hidden\", ds_gaussian_2d)\n",
    "pinn4 = model4.pinn"
   ]
  },
  {
   "cell_type": "markdown",
   "id": "9d18b437",
   "metadata": {},
   "source": [
    "# The model average RMSE on the training set is 0.1%."
   ]
  },
  {
   "cell_type": "code",
   "execution_count": 9,
   "id": "e28169a4",
   "metadata": {
    "ExecuteTime": {
     "end_time": "2023-01-05T13:39:36.562300Z",
     "start_time": "2023-01-05T13:39:35.699140Z"
    }
   },
   "outputs": [
    {
     "data": {
      "image/png": "[encoded data removed]",
      "text/plain": [
       "<Figure size 1152x576 with 5 Axes>"
      ]
     },
     "metadata": {
      "needs_background": "light"
     },
     "output_type": "display_data"
    }
   ],
   "source": [
    "y, y_der_1, y_der_2 = derivatives(pinn4, data_input)\n",
    "\n",
    "\n",
    "_ = plt.figure(figsize=(16,8))\n",
    "plt.subplot(231)\n",
    "plot(X, Y, to_2d(y.numpy()), \"f(x,y)\")\n",
    "plt.subplot(232)\n",
    "plot(X, Y, to_2d(y_der_1[0].numpy()[:,0]), \"df/dx\")\n",
    "plt.subplot(233)\n",
    "plot(X, Y, to_2d(y_der_1[0].numpy()[:,1]), \"df/dy\")\n",
    "plt.subplot(234)\n",
    "plot(X, Y, to_2d(y_der_2[0].numpy()[:,0]), \"d2f/dx2\")\n",
    "plt.subplot(235)\n",
    "plot(X, Y, to_2d(y_der_2[0].numpy()[:,1]), \"d2f/dy2\")\n",
    "plt.show()"
   ]
  },
  {
   "cell_type": "markdown",
   "id": "34981d98",
   "metadata": {},
   "source": [
    "# Rune a test on intermidite points"
   ]
  },
  {
   "cell_type": "code",
   "execution_count": 11,
   "id": "cd6e37d8",
   "metadata": {
    "ExecuteTime": {
     "end_time": "2023-01-05T13:40:44.293689Z",
     "start_time": "2023-01-05T13:40:44.281420Z"
    }
   },
   "outputs": [],
   "source": [
    "dx = (data_2d_x[1]-data_2d_x[0])[0]/2\n",
    "dy = (data_2d_y[1]-data_2d_y[0])[0]/2\n",
    "\n",
    "\n",
    "test_data_input = np.concatenate([X.flatten()[:,np.newaxis] + dx,\n",
    "                                  Y.flatten()[:,np.newaxis] + dy], \n",
    "                                  axis=1)\n",
    "\n",
    "test_data_2d_z_gaussian = Gaussian_2d(X + dx, Y + dy, 1.0, 0.5, .2, .7)\n",
    "test_2d_df_dx = Gaussian_2d_df_dx(X + dx, Y + dy, 1.0, 0.5, .2, .7)\n",
    "test_2d_df_dy = Gaussian_2d_df_dy(X + dx, Y + dy, 1.0, 0.5, .2, .7)\n",
    "test_2d_d2f_dx2 = Gaussian_2d_d2f_dx2(X + dx, Y + dy, 1.0, 0.5, .2, .7)\n",
    "test_2d_d2f_dy2 = Gaussian_2d_d2f_dy2(X + dx, Y + dy, 1.0, 0.5, .2, .7)"
   ]
  },
  {
   "cell_type": "markdown",
   "id": "d25f15d6",
   "metadata": {},
   "source": [
    "# Clearly, second order derivatives RMSEs are large, even if the f(x) RMSE is less 0.05%."
   ]
  },
  {
   "cell_type": "code",
   "execution_count": 14,
   "id": "e87e158d",
   "metadata": {
    "ExecuteTime": {
     "end_time": "2023-01-05T13:41:33.714135Z",
     "start_time": "2023-01-05T13:41:33.677136Z"
    }
   },
   "outputs": [
    {
     "name": "stdout",
     "output_type": "stream",
     "text": [
      "f(x)    RMSE: 0.00050\n",
      "df/dx   RMSE: 0.00765\n",
      "df/dy   RMSE: 0.00312\n",
      "d2f/dx2 RMSE: 0.83671\n",
      "d2f/dy2 RMSE: 0.82780\n"
     ]
    }
   ],
   "source": [
    "y_test, y_der_1_test, y_der_2_test = derivatives(pinn4, test_data_input)\n",
    "\n",
    "def RMSE(pred, actual):\n",
    "    return np.sqrt(np.mean((pred-actual)**2))\n",
    "\n",
    "print(f\"f(x)    RMSE: {RMSE(to_2d(y_test.numpy()), test_data_2d_z_gaussian) :.5f}\")\n",
    "print(f\"df/dx   RMSE: {RMSE(to_2d(y_der_1_test[0].numpy()[:,0]), test_2d_df_dx) :.5f}\")\n",
    "print(f\"df/dy   RMSE: {RMSE(to_2d(y_der_1_test[0].numpy()[:,1]), test_2d_df_dy) :.5f}\")\n",
    "print(f\"d2f/dx2 RMSE: {RMSE(to_2d(y_der_2_test[0].numpy()[:,0]), test_2d_d2f_dx2) :.5f}\")\n",
    "print(f\"d2f/dy2 RMSE: {RMSE(to_2d(y_der_2_test[0].numpy()[:,1]), test_2d_d2f_dy2) :.5f}\")"
   ]
  },
  {
   "cell_type": "markdown",
   "id": "24dc4115",
   "metadata": {},
   "source": [
    "# Retrain model furthur"
   ]
  },
  {
   "cell_type": "code",
   "execution_count": 17,
   "id": "5bebc91f",
   "metadata": {
    "ExecuteTime": {
     "end_time": "2023-01-05T13:45:24.835293Z",
     "start_time": "2023-01-05T13:45:24.810261Z"
    }
   },
   "outputs": [
    {
     "data": {
      "text/plain": [
       "<tf.Variable 'UnreadVariable' shape=() dtype=float32, numpy=2e-05>"
      ]
     },
     "execution_count": 17,
     "metadata": {},
     "output_type": "execute_result"
    }
   ],
   "source": [
    "model4.optimizer.lr.assign(2e-5)"
   ]
  },
  {
   "cell_type": "code",
   "execution_count": 18,
   "id": "feb9da9f",
   "metadata": {
    "ExecuteTime": {
     "end_time": "2023-01-05T14:28:10.061230Z",
     "start_time": "2023-01-05T13:45:54.940779Z"
    },
    "scrolled": true
   },
   "outputs": [
    {
     "name": "stdout",
     "output_type": "stream",
     "text": [
      "\n",
      "Start of epoch 0\n",
      "total loss: 0.0000019968, total regularised loss: 0.0000019968\n",
      "Observation_Loss -> \n",
      "(1)  f(x,y): 0.0000004992 \n",
      "Time taken: 1.55s\n",
      "\n",
      "Start of epoch 5000\n",
      "total loss: 0.0000009677, total regularised loss: 0.0000009677\n",
      "Observation_Loss -> \n",
      "(1)  f(x,y): 0.0000002419 \n",
      "Time taken: 121.48s\n",
      "\n",
      "Start of epoch 10000\n",
      "total loss: 0.0000009451, total regularised loss: 0.0000009451\n",
      "Observation_Loss -> \n",
      "(1)  f(x,y): 0.0000002363 \n",
      "Time taken: 124.37s\n",
      "\n",
      "Start of epoch 15000\n",
      "total loss: 0.0000009254, total regularised loss: 0.0000009254\n",
      "Observation_Loss -> \n",
      "(1)  f(x,y): 0.0000002313 \n",
      "Time taken: 122.79s\n",
      "\n",
      "Start of epoch 20000\n",
      "total loss: 0.0000009075, total regularised loss: 0.0000009075\n",
      "Observation_Loss -> \n",
      "(1)  f(x,y): 0.0000002269 \n",
      "Time taken: 124.15s\n",
      "\n",
      "Start of epoch 25000\n",
      "total loss: 0.0000010339, total regularised loss: 0.0000010339\n",
      "Observation_Loss -> \n",
      "(1)  f(x,y): 0.0000002585 \n",
      "Time taken: 122.68s\n",
      "\n",
      "Start of epoch 30000\n",
      "total loss: 0.0000012962, total regularised loss: 0.0000012962\n",
      "Observation_Loss -> \n",
      "(1)  f(x,y): 0.0000003241 \n",
      "Time taken: 128.65s\n",
      "\n",
      "Start of epoch 35000\n",
      "total loss: 0.0000008619, total regularised loss: 0.0000008619\n",
      "Observation_Loss -> \n",
      "(1)  f(x,y): 0.0000002155 \n",
      "Time taken: 128.90s\n",
      "\n",
      "Start of epoch 40000\n",
      "total loss: 0.0000008453, total regularised loss: 0.0000008453\n",
      "Observation_Loss -> \n",
      "(1)  f(x,y): 0.0000002113 \n",
      "Time taken: 127.92s\n",
      "\n",
      "Start of epoch 45000\n",
      "total loss: 0.0000008311, total regularised loss: 0.0000008311\n",
      "Observation_Loss -> \n",
      "(1)  f(x,y): 0.0000002078 \n",
      "Time taken: 128.93s\n",
      "\n",
      "Start of epoch 50000\n",
      "total loss: 0.0000008181, total regularised loss: 0.0000008181\n",
      "Observation_Loss -> \n",
      "(1)  f(x,y): 0.0000002045 \n",
      "Time taken: 127.54s\n",
      "\n",
      "Start of epoch 55000\n",
      "total loss: 0.0000055238, total regularised loss: 0.0000055238\n",
      "Observation_Loss -> \n",
      "(1)  f(x,y): 0.0000013810 \n",
      "Time taken: 126.08s\n",
      "\n",
      "Start of epoch 60000\n",
      "total loss: 0.0000008107, total regularised loss: 0.0000008107\n",
      "Observation_Loss -> \n",
      "(1)  f(x,y): 0.0000002027 \n",
      "Time taken: 127.62s\n",
      "\n",
      "Start of epoch 65000\n",
      "total loss: 0.0000007818, total regularised loss: 0.0000007818\n",
      "Observation_Loss -> \n",
      "(1)  f(x,y): 0.0000001955 \n",
      "Time taken: 129.93s\n",
      "\n",
      "Start of epoch 70000\n",
      "total loss: 0.0000018433, total regularised loss: 0.0000018433\n",
      "Observation_Loss -> \n",
      "(1)  f(x,y): 0.0000004608 \n",
      "Time taken: 128.35s\n",
      "\n",
      "Start of epoch 75000\n",
      "total loss: 0.0000007592, total regularised loss: 0.0000007592\n",
      "Observation_Loss -> \n",
      "(1)  f(x,y): 0.0000001898 \n",
      "Time taken: 127.75s\n",
      "\n",
      "Start of epoch 80000\n",
      "total loss: 0.0000010420, total regularised loss: 0.0000010420\n",
      "Observation_Loss -> \n",
      "(1)  f(x,y): 0.0000002605 \n",
      "Time taken: 128.21s\n",
      "\n",
      "Start of epoch 85000\n",
      "total loss: 0.0000007595, total regularised loss: 0.0000007595\n",
      "Observation_Loss -> \n",
      "(1)  f(x,y): 0.0000001899 \n",
      "Time taken: 127.71s\n",
      "\n",
      "Start of epoch 90000\n",
      "total loss: 0.0000007306, total regularised loss: 0.0000007306\n",
      "Observation_Loss -> \n",
      "(1)  f(x,y): 0.0000001826 \n",
      "Time taken: 127.32s\n",
      "\n",
      "Start of epoch 95000\n",
      "total loss: 0.0000007186, total regularised loss: 0.0000007186\n",
      "Observation_Loss -> \n",
      "(1)  f(x,y): 0.0000001796 \n",
      "Time taken: 129.38s\n",
      "\n",
      "Start of epoch 100000\n",
      "total loss: 0.0000007178, total regularised loss: 0.0000007178\n",
      "Observation_Loss -> \n",
      "(1)  f(x,y): 0.0000001794 \n",
      "Time taken: 123.82s\n"
     ]
    }
   ],
   "source": [
    "results8 = model4.train(100000+1, 4096, ds_gaussian_2d, print_interval=5000,stop_threshold=1e-8,\n",
    "                       regularise=False, sample_regularisations=False)"
   ]
  },
  {
   "cell_type": "code",
   "execution_count": 19,
   "id": "80450168",
   "metadata": {
    "ExecuteTime": {
     "end_time": "2023-01-05T16:27:10.482436Z",
     "start_time": "2023-01-05T16:27:10.445512Z"
    }
   },
   "outputs": [
    {
     "name": "stdout",
     "output_type": "stream",
     "text": [
      "f(x)    RMSE: 0.00042\n",
      "df/dx   RMSE: 0.00661\n",
      "df/dy   RMSE: 0.00259\n",
      "d2f/dx2 RMSE: 0.83419\n",
      "d2f/dy2 RMSE: 0.82750\n"
     ]
    }
   ],
   "source": [
    "y_test, y_der_1_test, y_der_2_test = derivatives(pinn4, test_data_input)\n",
    "\n",
    "def RMSE(pred, actual):\n",
    "    return np.sqrt(np.mean((pred-actual)**2))\n",
    "\n",
    "print(f\"f(x)    RMSE: {RMSE(to_2d(y_test.numpy()), test_data_2d_z_gaussian) :.5f}\")\n",
    "print(f\"df/dx   RMSE: {RMSE(to_2d(y_der_1_test[0].numpy()[:,0]), test_2d_df_dx) :.5f}\")\n",
    "print(f\"df/dy   RMSE: {RMSE(to_2d(y_der_1_test[0].numpy()[:,1]), test_2d_df_dy) :.5f}\")\n",
    "print(f\"d2f/dx2 RMSE: {RMSE(to_2d(y_der_2_test[0].numpy()[:,0]), test_2d_d2f_dx2) :.5f}\")\n",
    "print(f\"d2f/dy2 RMSE: {RMSE(to_2d(y_der_2_test[0].numpy()[:,1]), test_2d_d2f_dy2) :.5f}\")"
   ]
  },
  {
   "cell_type": "code",
   "execution_count": 20,
   "id": "3b0aeb2f",
   "metadata": {
    "ExecuteTime": {
     "end_time": "2023-01-05T16:32:40.156055Z",
     "start_time": "2023-01-05T16:32:39.814902Z"
    }
   },
   "outputs": [],
   "source": [
    "model4.save(\".\", \"Gaussian_2d_2_hidden\")"
   ]
  },
  {
   "cell_type": "code",
   "execution_count": null,
   "id": "a887cb28",
   "metadata": {},
   "outputs": [],
   "source": []
  }
 ],
 "metadata": {
  "kernelspec": {
   "display_name": "Python 3 (ipykernel)",
   "language": "python",
   "name": "python3"
  },
  "language_info": {
   "codemirror_mode": {
    "name": "ipython",
    "version": 3
   },
   "file_extension": ".py",
   "mimetype": "text/x-python",
   "name": "python",
   "nbconvert_exporter": "python",
   "pygments_lexer": "ipython3",
   "version": "3.8.13"
  },
  "varInspector": {
   "cols": {
    "lenName": 16,
    "lenType": 16,
    "lenVar": 40
   },
   "kernels_config": {
    "python": {
     "delete_cmd_postfix": "",
     "delete_cmd_prefix": "del ",
     "library": "var_list.py",
     "varRefreshCmd": "print(var_dic_list())"
    },
    "r": {
     "delete_cmd_postfix": ") ",
     "delete_cmd_prefix": "rm(",
     "library": "var_list.r",
     "varRefreshCmd": "cat(var_dic_list()) "
    }
   },
   "types_to_exclude": [
    "module",
    "function",
    "builtin_function_or_method",
    "instance",
    "_Feature"
   ],
   "window_display": false
  }
 },
 "nbformat": 4,
 "nbformat_minor": 5
}
